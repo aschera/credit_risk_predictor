{
 "cells": [
  {
   "cell_type": "code",
   "execution_count": 1,
   "id": "095f3080",
   "metadata": {},
   "outputs": [],
   "source": [
    "import numpy as np\n",
    "import pandas as pd\n",
    "import matplotlib.pyplot as plt\n",
    "import matplotlib as mpl"
   ]
  },
  {
   "cell_type": "code",
   "execution_count": 2,
   "id": "f65ad94d",
   "metadata": {},
   "outputs": [],
   "source": [
    "df = pd.read_csv('processed_dataframe.csv')"
   ]
  },
  {
   "cell_type": "code",
   "execution_count": 3,
   "id": "3bdc3af4",
   "metadata": {},
   "outputs": [
    {
     "name": "stdout",
     "output_type": "stream",
     "text": [
      "<class 'pandas.core.frame.DataFrame'>\n",
      "RangeIndex: 1100 entries, 0 to 1099\n",
      "Data columns (total 41 columns):\n",
      " #   Column                                    Non-Null Count  Dtype  \n",
      "---  ------                                    --------------  -----  \n",
      " 0   loan_type                                 1100 non-null   int64  \n",
      " 1   loan_amount                               1100 non-null   int64  \n",
      " 2   action_taken                              1100 non-null   int64  \n",
      " 3   occupancy_type                            1100 non-null   int64  \n",
      " 4   census_tract                              1100 non-null   int64  \n",
      " 5   applicant_ethnicity_1                     1100 non-null   int64  \n",
      " 6   co_applicant_ethnicity_1                  1100 non-null   int64  \n",
      " 7   applicant_race_1                          1100 non-null   int64  \n",
      " 8   applicant_race_2                          26 non-null     float64\n",
      " 9   co_applicant_race_1                       1100 non-null   int64  \n",
      " 10  co_applicant_race_2                       14 non-null     float64\n",
      " 11  applicant_sex                             1100 non-null   int64  \n",
      " 12  co_applicant_sex                          1100 non-null   int64  \n",
      " 13  applicant_age                             1100 non-null   object \n",
      " 14  co_applicant_age                          1100 non-null   object \n",
      " 15  income                                    933 non-null    float64\n",
      " 16  lien_status                               1100 non-null   int64  \n",
      " 17  applicant_credit_score_type               1100 non-null   int64  \n",
      " 18  co_applicant_credit_score_type            1100 non-null   int64  \n",
      " 19  origination_charges                       772 non-null    float64\n",
      " 20  discount_points                           74 non-null     float64\n",
      " 21  lender_credits                            51 non-null     float64\n",
      " 22  interest_rate                             791 non-null    float64\n",
      " 23  debt_to_income_ratio                      232 non-null    object \n",
      " 24  combined_loan_to_value_ratio              205 non-null    float64\n",
      " 25  loan_term                                 1083 non-null   float64\n",
      " 26  property_value                            812 non-null    float64\n",
      " 27  manufactured_home_secured_property_type   1100 non-null   int64  \n",
      " 28  total_units                               1100 non-null   int64  \n",
      " 29  aus_1                                     1100 non-null   int64  \n",
      " 30  reverse_mortgage                          1100 non-null   int64  \n",
      " 31  open_end_line_of_credit                   1100 non-null   int64  \n",
      " 32  manufactured_home_land_property_interest  1100 non-null   int64  \n",
      " 33  total_loan_costs                          772 non-null    float64\n",
      " 34  total_points_and_fees                     0 non-null      float64\n",
      " 35  prepayment_penalty_term                   0 non-null      float64\n",
      " 36  negative_amortization                     1100 non-null   int64  \n",
      " 37  interest_only_payment                     1100 non-null   int64  \n",
      " 38  balloon_payment                           1100 non-null   int64  \n",
      " 39  other_nonamortizing_features              1100 non-null   int64  \n",
      " 40  multifamily_affordable_units              0 non-null      float64\n",
      "dtypes: float64(14), int64(24), object(3)\n",
      "memory usage: 352.5+ KB\n"
     ]
    }
   ],
   "source": [
    "df.info()"
   ]
  },
  {
   "cell_type": "code",
   "execution_count": null,
   "id": "1d2a1d64",
   "metadata": {},
   "outputs": [],
   "source": []
  },
  {
   "cell_type": "code",
   "execution_count": null,
   "id": "03418df5",
   "metadata": {},
   "outputs": [],
   "source": [
    "target_variable = \"action_taken\""
   ]
  },
  {
   "cell_type": "code",
   "execution_count": null,
   "id": "fb9a94b4",
   "metadata": {},
   "outputs": [],
   "source": [
    "X = df.drop(columns=[target_variable])\n",
    "y = df[target_variable]"
   ]
  },
  {
   "cell_type": "code",
   "execution_count": null,
   "id": "51bfa54a",
   "metadata": {},
   "outputs": [],
   "source": [
    "seed = 123"
   ]
  },
  {
   "cell_type": "code",
   "execution_count": null,
   "id": "8a6b30e7",
   "metadata": {},
   "outputs": [],
   "source": [
    "X_train, X_test, y_train, y_test = train_test_split(X, y, test_size = 0.2, random_state=seed)"
   ]
  },
  {
   "cell_type": "code",
   "execution_count": null,
   "id": "a3521a91",
   "metadata": {},
   "outputs": [],
   "source": [
    "X_train"
   ]
  },
  {
   "cell_type": "code",
   "execution_count": null,
   "id": "433bb776",
   "metadata": {},
   "outputs": [],
   "source": [
    "# 1- loan originated\n",
    "# 2- application approved but not accepted\n",
    "# 3- application denied\n",
    "# 4 - application withdrawn by applicant\n",
    "# 5 - file closed for incompleteness\n",
    "# 6 - purchased loan\n",
    "# 7 - Pre-approval request denied\n",
    "# 8 - pre-approval request approved but not accepted\n",
    "\n",
    "y_train.value_counts()"
   ]
  }
 ],
 "metadata": {
  "kernelspec": {
   "display_name": "Python 3 (ipykernel)",
   "language": "python",
   "name": "python3"
  },
  "language_info": {
   "codemirror_mode": {
    "name": "ipython",
    "version": 3
   },
   "file_extension": ".py",
   "mimetype": "text/x-python",
   "name": "python",
   "nbconvert_exporter": "python",
   "pygments_lexer": "ipython3",
   "version": "3.9.13"
  }
 },
 "nbformat": 4,
 "nbformat_minor": 5
}
