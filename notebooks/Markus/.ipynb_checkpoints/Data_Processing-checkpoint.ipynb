{
 "cells": [
  {
   "cell_type": "code",
   "execution_count": 33,
   "id": "080b58bb",
   "metadata": {},
   "outputs": [],
   "source": [
    "import numpy as np\n",
    "import pandas as pd\n",
    "\n",
    "from sklearn.preprocessing import LabelEncoder"
   ]
  },
  {
   "cell_type": "markdown",
   "id": "db2397e1",
   "metadata": {},
   "source": [
    "## Load Data "
   ]
  },
  {
   "cell_type": "code",
   "execution_count": 3,
   "id": "22859304",
   "metadata": {},
   "outputs": [],
   "source": [
    "df = pd.read_csv('dataset.csv', low_memory = False)\n"
   ]
  },
  {
   "cell_type": "code",
   "execution_count": 4,
   "id": "8fe4b5ca",
   "metadata": {},
   "outputs": [
    {
     "data": {
      "text/html": [
       "<div>\n",
       "<style scoped>\n",
       "    .dataframe tbody tr th:only-of-type {\n",
       "        vertical-align: middle;\n",
       "    }\n",
       "\n",
       "    .dataframe tbody tr th {\n",
       "        vertical-align: top;\n",
       "    }\n",
       "\n",
       "    .dataframe thead th {\n",
       "        text-align: right;\n",
       "    }\n",
       "</style>\n",
       "<table border=\"1\" class=\"dataframe\">\n",
       "  <thead>\n",
       "    <tr style=\"text-align: right;\">\n",
       "      <th></th>\n",
       "      <th>loan_type</th>\n",
       "      <th>loan_amount</th>\n",
       "      <th>action_taken</th>\n",
       "      <th>occupancy_type</th>\n",
       "      <th>census_tract</th>\n",
       "      <th>applicant_ethnicity_1</th>\n",
       "      <th>co_applicant_ethnicity_1</th>\n",
       "      <th>applicant_race_1</th>\n",
       "      <th>co_applicant_race_1</th>\n",
       "      <th>applicant_sex</th>\n",
       "      <th>...</th>\n",
       "      <th>total_units</th>\n",
       "      <th>aus_1</th>\n",
       "      <th>reverse_mortgage</th>\n",
       "      <th>open_end_line_of_credit</th>\n",
       "      <th>manufactured_home_land_property_interest</th>\n",
       "      <th>total_loan_costs</th>\n",
       "      <th>negative_amortization</th>\n",
       "      <th>interest_only_payment</th>\n",
       "      <th>balloon_payment</th>\n",
       "      <th>other_nonamortizing_features</th>\n",
       "    </tr>\n",
       "  </thead>\n",
       "  <tbody>\n",
       "    <tr>\n",
       "      <th>0</th>\n",
       "      <td>1</td>\n",
       "      <td>355000</td>\n",
       "      <td>1</td>\n",
       "      <td>1</td>\n",
       "      <td>4.209120e+10</td>\n",
       "      <td>2.0</td>\n",
       "      <td>2.0</td>\n",
       "      <td>5.0</td>\n",
       "      <td>5.0</td>\n",
       "      <td>1</td>\n",
       "      <td>...</td>\n",
       "      <td>1</td>\n",
       "      <td>1</td>\n",
       "      <td>2</td>\n",
       "      <td>2</td>\n",
       "      <td>5</td>\n",
       "      <td>8352.71</td>\n",
       "      <td>2</td>\n",
       "      <td>2</td>\n",
       "      <td>2</td>\n",
       "      <td>2</td>\n",
       "    </tr>\n",
       "    <tr>\n",
       "      <th>1</th>\n",
       "      <td>1</td>\n",
       "      <td>265000</td>\n",
       "      <td>1</td>\n",
       "      <td>1</td>\n",
       "      <td>6.067006e+09</td>\n",
       "      <td>2.0</td>\n",
       "      <td>5.0</td>\n",
       "      <td>5.0</td>\n",
       "      <td>8.0</td>\n",
       "      <td>2</td>\n",
       "      <td>...</td>\n",
       "      <td>1</td>\n",
       "      <td>6</td>\n",
       "      <td>2</td>\n",
       "      <td>2</td>\n",
       "      <td>5</td>\n",
       "      <td>1983.0</td>\n",
       "      <td>2</td>\n",
       "      <td>2</td>\n",
       "      <td>2</td>\n",
       "      <td>2</td>\n",
       "    </tr>\n",
       "    <tr>\n",
       "      <th>2</th>\n",
       "      <td>2</td>\n",
       "      <td>285000</td>\n",
       "      <td>1</td>\n",
       "      <td>1</td>\n",
       "      <td>5.513320e+10</td>\n",
       "      <td>2.0</td>\n",
       "      <td>2.0</td>\n",
       "      <td>5.0</td>\n",
       "      <td>5.0</td>\n",
       "      <td>1</td>\n",
       "      <td>...</td>\n",
       "      <td>1</td>\n",
       "      <td>6</td>\n",
       "      <td>2</td>\n",
       "      <td>2</td>\n",
       "      <td>5</td>\n",
       "      <td>6854.68</td>\n",
       "      <td>2</td>\n",
       "      <td>2</td>\n",
       "      <td>2</td>\n",
       "      <td>2</td>\n",
       "    </tr>\n",
       "    <tr>\n",
       "      <th>3</th>\n",
       "      <td>1</td>\n",
       "      <td>295000</td>\n",
       "      <td>1</td>\n",
       "      <td>1</td>\n",
       "      <td>5.513320e+10</td>\n",
       "      <td>2.0</td>\n",
       "      <td>5.0</td>\n",
       "      <td>5.0</td>\n",
       "      <td>8.0</td>\n",
       "      <td>2</td>\n",
       "      <td>...</td>\n",
       "      <td>1</td>\n",
       "      <td>6</td>\n",
       "      <td>2</td>\n",
       "      <td>2</td>\n",
       "      <td>5</td>\n",
       "      <td>4700.6</td>\n",
       "      <td>2</td>\n",
       "      <td>2</td>\n",
       "      <td>2</td>\n",
       "      <td>2</td>\n",
       "    </tr>\n",
       "    <tr>\n",
       "      <th>4</th>\n",
       "      <td>1</td>\n",
       "      <td>475000</td>\n",
       "      <td>1</td>\n",
       "      <td>1</td>\n",
       "      <td>6.073010e+09</td>\n",
       "      <td>3.0</td>\n",
       "      <td>3.0</td>\n",
       "      <td>6.0</td>\n",
       "      <td>6.0</td>\n",
       "      <td>1</td>\n",
       "      <td>...</td>\n",
       "      <td>1</td>\n",
       "      <td>6</td>\n",
       "      <td>2</td>\n",
       "      <td>2</td>\n",
       "      <td>5</td>\n",
       "      <td>2288.0</td>\n",
       "      <td>2</td>\n",
       "      <td>2</td>\n",
       "      <td>2</td>\n",
       "      <td>2</td>\n",
       "    </tr>\n",
       "  </tbody>\n",
       "</table>\n",
       "<p>5 rows × 34 columns</p>\n",
       "</div>"
      ],
      "text/plain": [
       "   loan_type  loan_amount  action_taken  occupancy_type  census_tract  \\\n",
       "0          1       355000             1               1  4.209120e+10   \n",
       "1          1       265000             1               1  6.067006e+09   \n",
       "2          2       285000             1               1  5.513320e+10   \n",
       "3          1       295000             1               1  5.513320e+10   \n",
       "4          1       475000             1               1  6.073010e+09   \n",
       "\n",
       "   applicant_ethnicity_1  co_applicant_ethnicity_1  applicant_race_1  \\\n",
       "0                    2.0                       2.0               5.0   \n",
       "1                    2.0                       5.0               5.0   \n",
       "2                    2.0                       2.0               5.0   \n",
       "3                    2.0                       5.0               5.0   \n",
       "4                    3.0                       3.0               6.0   \n",
       "\n",
       "   co_applicant_race_1  applicant_sex  ...  total_units aus_1  \\\n",
       "0                  5.0              1  ...            1     1   \n",
       "1                  8.0              2  ...            1     6   \n",
       "2                  5.0              1  ...            1     6   \n",
       "3                  8.0              2  ...            1     6   \n",
       "4                  6.0              1  ...            1     6   \n",
       "\n",
       "  reverse_mortgage  open_end_line_of_credit  \\\n",
       "0                2                        2   \n",
       "1                2                        2   \n",
       "2                2                        2   \n",
       "3                2                        2   \n",
       "4                2                        2   \n",
       "\n",
       "   manufactured_home_land_property_interest  total_loan_costs  \\\n",
       "0                                         5           8352.71   \n",
       "1                                         5            1983.0   \n",
       "2                                         5           6854.68   \n",
       "3                                         5            4700.6   \n",
       "4                                         5            2288.0   \n",
       "\n",
       "   negative_amortization interest_only_payment balloon_payment  \\\n",
       "0                      2                     2               2   \n",
       "1                      2                     2               2   \n",
       "2                      2                     2               2   \n",
       "3                      2                     2               2   \n",
       "4                      2                     2               2   \n",
       "\n",
       "  other_nonamortizing_features  \n",
       "0                            2  \n",
       "1                            2  \n",
       "2                            2  \n",
       "3                            2  \n",
       "4                            2  \n",
       "\n",
       "[5 rows x 34 columns]"
      ]
     },
     "execution_count": 4,
     "metadata": {},
     "output_type": "execute_result"
    }
   ],
   "source": [
    "df.head()"
   ]
  },
  {
   "cell_type": "code",
   "execution_count": 5,
   "id": "a0be881b",
   "metadata": {},
   "outputs": [
    {
     "name": "stdout",
     "output_type": "stream",
     "text": [
      "<class 'pandas.core.frame.DataFrame'>\n",
      "RangeIndex: 804666 entries, 0 to 804665\n",
      "Data columns (total 34 columns):\n",
      " #   Column                                    Non-Null Count   Dtype  \n",
      "---  ------                                    --------------   -----  \n",
      " 0   loan_type                                 804666 non-null  int64  \n",
      " 1   loan_amount                               804666 non-null  int64  \n",
      " 2   action_taken                              804666 non-null  int64  \n",
      " 3   occupancy_type                            804666 non-null  int64  \n",
      " 4   census_tract                              804666 non-null  float64\n",
      " 5   applicant_ethnicity_1                     804666 non-null  float64\n",
      " 6   co_applicant_ethnicity_1                  804666 non-null  float64\n",
      " 7   applicant_race_1                          804666 non-null  float64\n",
      " 8   co_applicant_race_1                       804666 non-null  float64\n",
      " 9   applicant_sex                             804666 non-null  int64  \n",
      " 10  co_applicant_sex                          804666 non-null  int64  \n",
      " 11  applicant_age                             804666 non-null  object \n",
      " 12  co_applicant_age                          804666 non-null  object \n",
      " 13  income                                    804666 non-null  float64\n",
      " 14  lien_status                               804666 non-null  int64  \n",
      " 15  applicant_credit_score_type               804666 non-null  int64  \n",
      " 16  co_applicant_credit_score_type            804666 non-null  int64  \n",
      " 17  origination_charges                       804666 non-null  object \n",
      " 18  interest_rate                             804666 non-null  object \n",
      " 19  debt_to_income_ratio                      804666 non-null  object \n",
      " 20  combined_loan_to_value_ratio              804666 non-null  object \n",
      " 21  loan_term                                 804666 non-null  object \n",
      " 22  property_value                            804666 non-null  object \n",
      " 23  manufactured_home_secured_property_type   804666 non-null  int64  \n",
      " 24  total_units                               804666 non-null  object \n",
      " 25  aus_1                                     804666 non-null  int64  \n",
      " 26  reverse_mortgage                          804666 non-null  int64  \n",
      " 27  open_end_line_of_credit                   804666 non-null  int64  \n",
      " 28  manufactured_home_land_property_interest  804666 non-null  int64  \n",
      " 29  total_loan_costs                          804666 non-null  object \n",
      " 30  negative_amortization                     804666 non-null  int64  \n",
      " 31  interest_only_payment                     804666 non-null  int64  \n",
      " 32  balloon_payment                           804666 non-null  int64  \n",
      " 33  other_nonamortizing_features              804666 non-null  int64  \n",
      "dtypes: float64(6), int64(18), object(10)\n",
      "memory usage: 208.7+ MB\n"
     ]
    }
   ],
   "source": [
    "df.info()"
   ]
  },
  {
   "cell_type": "code",
   "execution_count": 9,
   "id": "ed25e4bf",
   "metadata": {},
   "outputs": [
    {
     "data": {
      "text/plain": [
       "2.0     589626\n",
       "3.0     148014\n",
       "1.0      60039\n",
       "14.0      3298\n",
       "11.0      2246\n",
       "12.0       843\n",
       "13.0       421\n",
       "4.0        179\n",
       "Name: applicant_ethnicity_1, dtype: int64"
      ]
     },
     "execution_count": 9,
     "metadata": {},
     "output_type": "execute_result"
    }
   ],
   "source": [
    "df['applicant_ethnicity_1'].value_counts()"
   ]
  },
  {
   "cell_type": "code",
   "execution_count": 17,
   "id": "907f4bd8",
   "metadata": {},
   "outputs": [
    {
     "data": {
      "text/plain": [
       "2.0     589626\n",
       "1.0      60039\n",
       "14.0      3298\n",
       "11.0      2246\n",
       "12.0       843\n",
       "13.0       421\n",
       "Name: applicant_ethnicity_1, dtype: int64"
      ]
     },
     "execution_count": 17,
     "metadata": {},
     "output_type": "execute_result"
    }
   ],
   "source": [
    "#Remove 4.0 - not applicable and 3.0 - information not provided\n",
    "df = df[df['applicant_ethnicity_1'] != 4.0 ]\n",
    "df = df[df['applicant_ethnicity_1'] != 3.0]\n",
    "df['applicant_ethnicity_1'].value_counts()"
   ]
  },
  {
   "cell_type": "code",
   "execution_count": 14,
   "id": "cfc08641",
   "metadata": {},
   "outputs": [
    {
     "data": {
      "text/plain": [
       "5.0     340650\n",
       "2.0     267558\n",
       "1.0      25443\n",
       "3.0      20325\n",
       "14.0      1014\n",
       "11.0       957\n",
       "12.0       350\n",
       "13.0       166\n",
       "4.0         10\n",
       "Name: co_applicant_ethnicity_1, dtype: int64"
      ]
     },
     "execution_count": 14,
     "metadata": {},
     "output_type": "execute_result"
    }
   ],
   "source": [
    "df['co_applicant_ethnicity_1'].value_counts()"
   ]
  },
  {
   "cell_type": "code",
   "execution_count": 19,
   "id": "a00bd94f",
   "metadata": {},
   "outputs": [
    {
     "data": {
      "text/plain": [
       "5.0     340650\n",
       "2.0     267558\n",
       "1.0      25443\n",
       "14.0      1014\n",
       "11.0       957\n",
       "12.0       350\n",
       "13.0       166\n",
       "Name: co_applicant_ethnicity_1, dtype: int64"
      ]
     },
     "execution_count": 19,
     "metadata": {},
     "output_type": "execute_result"
    }
   ],
   "source": [
    "#Remove 3.0 and 4.0 from co_applicant_ethnicity_1 (same as applicant ethnicity). \n",
    "#Keep 5.0 as it is no co-applicant.\n",
    "\n",
    "df = df[df['co_applicant_ethnicity_1'] != 4.0 ]\n",
    "df = df[df['co_applicant_ethnicity_1'] != 3.0]\n",
    "df['co_applicant_ethnicity_1'].value_counts()"
   ]
  },
  {
   "cell_type": "code",
   "execution_count": 20,
   "id": "38a77c5c",
   "metadata": {},
   "outputs": [
    {
     "data": {
      "text/plain": [
       "5.0     530082\n",
       "2.0      42910\n",
       "3.0      33573\n",
       "6.0      15270\n",
       "21.0      4248\n",
       "1.0       3855\n",
       "22.0      1507\n",
       "4.0       1067\n",
       "23.0      1048\n",
       "27.0       946\n",
       "25.0       484\n",
       "26.0       465\n",
       "44.0       308\n",
       "24.0       231\n",
       "41.0        61\n",
       "42.0        34\n",
       "7.0         25\n",
       "43.0        24\n",
       "Name: applicant_race_1, dtype: int64"
      ]
     },
     "execution_count": 20,
     "metadata": {},
     "output_type": "execute_result"
    }
   ],
   "source": [
    "df['applicant_race_1'].value_counts()"
   ]
  },
  {
   "cell_type": "code",
   "execution_count": 21,
   "id": "75104603",
   "metadata": {},
   "outputs": [
    {
     "data": {
      "text/plain": [
       "5.0     530082\n",
       "2.0      42910\n",
       "3.0      33573\n",
       "21.0      4248\n",
       "1.0       3855\n",
       "22.0      1507\n",
       "4.0       1067\n",
       "23.0      1048\n",
       "27.0       946\n",
       "25.0       484\n",
       "26.0       465\n",
       "44.0       308\n",
       "24.0       231\n",
       "41.0        61\n",
       "42.0        34\n",
       "43.0        24\n",
       "Name: applicant_race_1, dtype: int64"
      ]
     },
     "execution_count": 21,
     "metadata": {},
     "output_type": "execute_result"
    }
   ],
   "source": [
    "# Remove 6.0 -information not provided and 7.0 -NA from applicant_race\n",
    "\n",
    "df = df[df['applicant_race_1'] != 6.0 ]\n",
    "df = df[df['applicant_race_1'] != 7.0]\n",
    "df['applicant_race_1'].value_counts()\n"
   ]
  },
  {
   "cell_type": "code",
   "execution_count": 22,
   "id": "4b6617a8",
   "metadata": {},
   "outputs": [
    {
     "data": {
      "text/plain": [
       "8.0     331171\n",
       "5.0     251366\n",
       "2.0      20003\n",
       "3.0       8722\n",
       "6.0       2625\n",
       "21.0      2075\n",
       "1.0       1400\n",
       "22.0       845\n",
       "23.0       716\n",
       "4.0        545\n",
       "27.0       427\n",
       "25.0       275\n",
       "26.0       264\n",
       "24.0       184\n",
       "44.0       159\n",
       "41.0        33\n",
       "42.0        17\n",
       "43.0        13\n",
       "7.0          3\n",
       "Name: co_applicant_race_1, dtype: int64"
      ]
     },
     "execution_count": 22,
     "metadata": {},
     "output_type": "execute_result"
    }
   ],
   "source": [
    "df['co_applicant_race_1'].value_counts()"
   ]
  },
  {
   "cell_type": "code",
   "execution_count": 25,
   "id": "604129ad",
   "metadata": {},
   "outputs": [
    {
     "data": {
      "text/plain": [
       "8.0     331171\n",
       "5.0     251366\n",
       "2.0      20003\n",
       "3.0       8722\n",
       "21.0      2075\n",
       "1.0       1400\n",
       "22.0       845\n",
       "23.0       716\n",
       "4.0        545\n",
       "27.0       427\n",
       "25.0       275\n",
       "26.0       264\n",
       "24.0       184\n",
       "44.0       159\n",
       "41.0        33\n",
       "42.0        17\n",
       "43.0        13\n",
       "Name: co_applicant_race_1, dtype: int64"
      ]
     },
     "execution_count": 25,
     "metadata": {},
     "output_type": "execute_result"
    }
   ],
   "source": [
    "# Remove 6.0 -information not provided and 7.0 -NA from co_applicant_race\n",
    "\n",
    "df = df[df['co_applicant_race_1'] != 6.0 ]\n",
    "df = df[df['co_applicant_race_1'] != 7.0]\n",
    "df['co_applicant_race_1'].value_counts()"
   ]
  },
  {
   "cell_type": "code",
   "execution_count": 26,
   "id": "209dec90",
   "metadata": {},
   "outputs": [
    {
     "data": {
      "text/plain": [
       "1    418914\n",
       "2    197636\n",
       "3      1398\n",
       "6       264\n",
       "4         3\n",
       "Name: applicant_sex, dtype: int64"
      ]
     },
     "execution_count": 26,
     "metadata": {},
     "output_type": "execute_result"
    }
   ],
   "source": [
    "df['applicant_sex'].value_counts()"
   ]
  },
  {
   "cell_type": "code",
   "execution_count": 27,
   "id": "ec974e98",
   "metadata": {},
   "outputs": [
    {
     "data": {
      "text/plain": [
       "1    418914\n",
       "2    197636\n",
       "Name: applicant_sex, dtype: int64"
      ]
     },
     "execution_count": 27,
     "metadata": {},
     "output_type": "execute_result"
    }
   ],
   "source": [
    "# Remove 3 -information not provided, 4 -NA, 6 -Both from applicant_sex \n",
    "df = df[df['applicant_sex'] != 3]\n",
    "df = df[df['applicant_sex'] != 4]\n",
    "df = df[df['applicant_sex'] != 6]\n",
    "df['applicant_sex'].value_counts()"
   ]
  },
  {
   "cell_type": "code",
   "execution_count": 28,
   "id": "732c7305",
   "metadata": {},
   "outputs": [
    {
     "data": {
      "text/plain": [
       "5    330175\n",
       "2    214914\n",
       "1     70851\n",
       "3       428\n",
       "6       173\n",
       "4         9\n",
       "Name: co_applicant_sex, dtype: int64"
      ]
     },
     "execution_count": 28,
     "metadata": {},
     "output_type": "execute_result"
    }
   ],
   "source": [
    "df['co_applicant_sex'].value_counts()"
   ]
  },
  {
   "cell_type": "code",
   "execution_count": 29,
   "id": "65cf2591",
   "metadata": {},
   "outputs": [
    {
     "data": {
      "text/plain": [
       "5    330175\n",
       "2    214914\n",
       "1     70851\n",
       "Name: co_applicant_sex, dtype: int64"
      ]
     },
     "execution_count": 29,
     "metadata": {},
     "output_type": "execute_result"
    }
   ],
   "source": [
    "# Remove 3 -information not provided, 4 -NA, 6 -Both from applicant_sex \n",
    "df = df[df['co_applicant_sex'] != 3]\n",
    "df = df[df['co_applicant_sex'] != 4]\n",
    "df = df[df['co_applicant_sex'] != 6]\n",
    "df['co_applicant_sex'].value_counts()"
   ]
  },
  {
   "cell_type": "code",
   "execution_count": 30,
   "id": "f8021a07",
   "metadata": {},
   "outputs": [
    {
     "data": {
      "text/plain": [
       "35-44    158116\n",
       "45-54    136362\n",
       "25-34    127553\n",
       "55-64    103725\n",
       "65-74     56887\n",
       ">74       16828\n",
       "<25       16234\n",
       "8888        235\n",
       "Name: applicant_age, dtype: int64"
      ]
     },
     "execution_count": 30,
     "metadata": {},
     "output_type": "execute_result"
    }
   ],
   "source": [
    "df['applicant_age'].value_counts()"
   ]
  },
  {
   "cell_type": "code",
   "execution_count": 35,
   "id": "9d8b13bb",
   "metadata": {},
   "outputs": [],
   "source": [
    "#Age needs to be encoded then remove 8888\n",
    "encoder = LabelEncoder()\n"
   ]
  },
  {
   "cell_type": "code",
   "execution_count": 36,
   "id": "bb99ad57",
   "metadata": {},
   "outputs": [],
   "source": [
    "df['applicant_age'] = encoder.fit_transform(df['applicant_age'])"
   ]
  },
  {
   "cell_type": "code",
   "execution_count": 37,
   "id": "7cae8b42",
   "metadata": {},
   "outputs": [
    {
     "data": {
      "text/plain": [
       "1    158116\n",
       "2    136362\n",
       "0    127553\n",
       "3    103725\n",
       "4     56887\n",
       "7     16828\n",
       "6     16234\n",
       "5       235\n",
       "Name: applicant_age, dtype: int64"
      ]
     },
     "execution_count": 37,
     "metadata": {},
     "output_type": "execute_result"
    }
   ],
   "source": [
    "df['applicant_age'].value_counts()"
   ]
  },
  {
   "cell_type": "code",
   "execution_count": 38,
   "id": "7b7646d1",
   "metadata": {},
   "outputs": [
    {
     "data": {
      "text/plain": [
       "1    158116\n",
       "2    136362\n",
       "0    127553\n",
       "3    103725\n",
       "4     56887\n",
       "7     16828\n",
       "6     16234\n",
       "Name: applicant_age, dtype: int64"
      ]
     },
     "execution_count": 38,
     "metadata": {},
     "output_type": "execute_result"
    }
   ],
   "source": [
    "df = df[df['applicant_age'] != 5]\n",
    "df['applicant_age'].value_counts()"
   ]
  },
  {
   "cell_type": "code",
   "execution_count": 39,
   "id": "a24d10f6",
   "metadata": {},
   "outputs": [
    {
     "data": {
      "text/plain": [
       "9999     329983\n",
       "35-44     72527\n",
       "25-34     60802\n",
       "45-54     60316\n",
       "55-64     49654\n",
       "65-74     28701\n",
       ">74        7042\n",
       "<25        6625\n",
       "8888         55\n",
       "Name: co_applicant_age, dtype: int64"
      ]
     },
     "execution_count": 39,
     "metadata": {},
     "output_type": "execute_result"
    }
   ],
   "source": [
    "df['co_applicant_age'].value_counts()"
   ]
  },
  {
   "cell_type": "code",
   "execution_count": 40,
   "id": "5a0c0c7a",
   "metadata": {},
   "outputs": [
    {
     "data": {
      "text/plain": [
       "6    329983\n",
       "1     72527\n",
       "0     60802\n",
       "2     60316\n",
       "3     49654\n",
       "4     28701\n",
       "8      7042\n",
       "7      6625\n",
       "5        55\n",
       "Name: co_applicant_age, dtype: int64"
      ]
     },
     "execution_count": 40,
     "metadata": {},
     "output_type": "execute_result"
    }
   ],
   "source": [
    "df['co_applicant_age'] = encoder.fit_transform(df['co_applicant_age'])\n",
    "df['co_applicant_age'].value_counts()"
   ]
  },
  {
   "cell_type": "code",
   "execution_count": 41,
   "id": "b7e3a266",
   "metadata": {},
   "outputs": [
    {
     "data": {
      "text/plain": [
       "6    329983\n",
       "1     72527\n",
       "0     60802\n",
       "2     60316\n",
       "3     49654\n",
       "4     28701\n",
       "8      7042\n",
       "7      6625\n",
       "Name: co_applicant_age, dtype: int64"
      ]
     },
     "execution_count": 41,
     "metadata": {},
     "output_type": "execute_result"
    }
   ],
   "source": [
    "df = df[df['co_applicant_age'] != 5]\n",
    "df['co_applicant_age'].value_counts()"
   ]
  },
  {
   "cell_type": "code",
   "execution_count": 44,
   "id": "27a7c40e",
   "metadata": {},
   "outputs": [],
   "source": [
    "#Change income to reflect regular dollar amounts.\n",
    "df['income'] = df['income'] * 1000"
   ]
  },
  {
   "cell_type": "code",
   "execution_count": 46,
   "id": "c369de40",
   "metadata": {},
   "outputs": [
    {
     "data": {
      "text/plain": [
       "0    136000.0\n",
       "1     60000.0\n",
       "2    120000.0\n",
       "3     91000.0\n",
       "5    109000.0\n",
       "Name: income, dtype: float64"
      ]
     },
     "execution_count": 46,
     "metadata": {},
     "output_type": "execute_result"
    }
   ],
   "source": [
    "df['income'].head()"
   ]
  },
  {
   "cell_type": "code",
   "execution_count": 48,
   "id": "fc58e17c",
   "metadata": {},
   "outputs": [
    {
     "data": {
      "text/plain": [
       "1       196056\n",
       "3       170132\n",
       "2       146566\n",
       "9        65587\n",
       "1111     25151\n",
       "7         5785\n",
       "8         5281\n",
       "5          787\n",
       "4          304\n",
       "6            1\n",
       "Name: applicant_credit_score_type, dtype: int64"
      ]
     },
     "execution_count": 48,
     "metadata": {},
     "output_type": "execute_result"
    }
   ],
   "source": [
    "df['applicant_credit_score_type'].value_counts()"
   ]
  },
  {
   "cell_type": "code",
   "execution_count": 49,
   "id": "39140cbb",
   "metadata": {},
   "outputs": [
    {
     "ename": "ValueError",
     "evalue": "Columns must be same length as key",
     "output_type": "error",
     "traceback": [
      "\u001b[1;31m---------------------------------------------------------------------------\u001b[0m",
      "\u001b[1;31mValueError\u001b[0m                                Traceback (most recent call last)",
      "\u001b[1;32m~\\AppData\\Local\\Temp\\ipykernel_23564\\3213758527.py\u001b[0m in \u001b[0;36m<module>\u001b[1;34m\u001b[0m\n\u001b[0;32m      1\u001b[0m \u001b[1;31m#Remove category 9 - NA and 1111 - Exempt\u001b[0m\u001b[1;33m\u001b[0m\u001b[1;33m\u001b[0m\u001b[0m\n\u001b[0;32m      2\u001b[0m \u001b[1;33m\u001b[0m\u001b[0m\n\u001b[1;32m----> 3\u001b[1;33m \u001b[0mdf\u001b[0m\u001b[1;33m[\u001b[0m\u001b[1;34m'applicant_credit_score_type'\u001b[0m\u001b[1;33m]\u001b[0m \u001b[1;33m=\u001b[0m \u001b[0mdf\u001b[0m\u001b[1;33m[\u001b[0m\u001b[0mdf\u001b[0m\u001b[1;33m[\u001b[0m\u001b[1;34m'applicant_credit_score_type'\u001b[0m\u001b[1;33m]\u001b[0m \u001b[1;33m!=\u001b[0m \u001b[1;36m9\u001b[0m\u001b[1;33m]\u001b[0m\u001b[1;33m\u001b[0m\u001b[1;33m\u001b[0m\u001b[0m\n\u001b[0m\u001b[0;32m      4\u001b[0m \u001b[0mdf\u001b[0m\u001b[1;33m[\u001b[0m\u001b[1;34m'applicant_credit_score_type'\u001b[0m\u001b[1;33m]\u001b[0m \u001b[1;33m=\u001b[0m \u001b[0mdf\u001b[0m\u001b[1;33m[\u001b[0m\u001b[0mdf\u001b[0m\u001b[1;33m[\u001b[0m\u001b[1;34m'applicant_credit_score_type'\u001b[0m\u001b[1;33m]\u001b[0m \u001b[1;33m!=\u001b[0m \u001b[1;36m1111\u001b[0m\u001b[1;33m]\u001b[0m\u001b[1;33m\u001b[0m\u001b[1;33m\u001b[0m\u001b[0m\n\u001b[0;32m      5\u001b[0m \u001b[0mdf\u001b[0m\u001b[1;33m[\u001b[0m\u001b[1;34m'applicant_credit_score_type'\u001b[0m\u001b[1;33m]\u001b[0m\u001b[1;33m.\u001b[0m\u001b[0mvalue_counts\u001b[0m\u001b[1;33m(\u001b[0m\u001b[1;33m)\u001b[0m\u001b[1;33m\u001b[0m\u001b[1;33m\u001b[0m\u001b[0m\n",
      "\u001b[1;32m~\\anaconda3\\lib\\site-packages\\pandas\\core\\frame.py\u001b[0m in \u001b[0;36m__setitem__\u001b[1;34m(self, key, value)\u001b[0m\n\u001b[0;32m   3643\u001b[0m             \u001b[0mself\u001b[0m\u001b[1;33m.\u001b[0m\u001b[0m_setitem_array\u001b[0m\u001b[1;33m(\u001b[0m\u001b[0mkey\u001b[0m\u001b[1;33m,\u001b[0m \u001b[0mvalue\u001b[0m\u001b[1;33m)\u001b[0m\u001b[1;33m\u001b[0m\u001b[1;33m\u001b[0m\u001b[0m\n\u001b[0;32m   3644\u001b[0m         \u001b[1;32melif\u001b[0m \u001b[0misinstance\u001b[0m\u001b[1;33m(\u001b[0m\u001b[0mvalue\u001b[0m\u001b[1;33m,\u001b[0m \u001b[0mDataFrame\u001b[0m\u001b[1;33m)\u001b[0m\u001b[1;33m:\u001b[0m\u001b[1;33m\u001b[0m\u001b[1;33m\u001b[0m\u001b[0m\n\u001b[1;32m-> 3645\u001b[1;33m             \u001b[0mself\u001b[0m\u001b[1;33m.\u001b[0m\u001b[0m_set_item_frame_value\u001b[0m\u001b[1;33m(\u001b[0m\u001b[0mkey\u001b[0m\u001b[1;33m,\u001b[0m \u001b[0mvalue\u001b[0m\u001b[1;33m)\u001b[0m\u001b[1;33m\u001b[0m\u001b[1;33m\u001b[0m\u001b[0m\n\u001b[0m\u001b[0;32m   3646\u001b[0m         elif (\n\u001b[0;32m   3647\u001b[0m             \u001b[0mis_list_like\u001b[0m\u001b[1;33m(\u001b[0m\u001b[0mvalue\u001b[0m\u001b[1;33m)\u001b[0m\u001b[1;33m\u001b[0m\u001b[1;33m\u001b[0m\u001b[0m\n",
      "\u001b[1;32m~\\anaconda3\\lib\\site-packages\\pandas\\core\\frame.py\u001b[0m in \u001b[0;36m_set_item_frame_value\u001b[1;34m(self, key, value)\u001b[0m\n\u001b[0;32m   3773\u001b[0m             \u001b[0mlen_cols\u001b[0m \u001b[1;33m=\u001b[0m \u001b[1;36m1\u001b[0m \u001b[1;32mif\u001b[0m \u001b[0mis_scalar\u001b[0m\u001b[1;33m(\u001b[0m\u001b[0mcols\u001b[0m\u001b[1;33m)\u001b[0m \u001b[1;32melse\u001b[0m \u001b[0mlen\u001b[0m\u001b[1;33m(\u001b[0m\u001b[0mcols\u001b[0m\u001b[1;33m)\u001b[0m\u001b[1;33m\u001b[0m\u001b[1;33m\u001b[0m\u001b[0m\n\u001b[0;32m   3774\u001b[0m             \u001b[1;32mif\u001b[0m \u001b[0mlen_cols\u001b[0m \u001b[1;33m!=\u001b[0m \u001b[0mlen\u001b[0m\u001b[1;33m(\u001b[0m\u001b[0mvalue\u001b[0m\u001b[1;33m.\u001b[0m\u001b[0mcolumns\u001b[0m\u001b[1;33m)\u001b[0m\u001b[1;33m:\u001b[0m\u001b[1;33m\u001b[0m\u001b[1;33m\u001b[0m\u001b[0m\n\u001b[1;32m-> 3775\u001b[1;33m                 \u001b[1;32mraise\u001b[0m \u001b[0mValueError\u001b[0m\u001b[1;33m(\u001b[0m\u001b[1;34m\"Columns must be same length as key\"\u001b[0m\u001b[1;33m)\u001b[0m\u001b[1;33m\u001b[0m\u001b[1;33m\u001b[0m\u001b[0m\n\u001b[0m\u001b[0;32m   3776\u001b[0m \u001b[1;33m\u001b[0m\u001b[0m\n\u001b[0;32m   3777\u001b[0m             \u001b[1;31m# align right-hand-side columns if self.columns\u001b[0m\u001b[1;33m\u001b[0m\u001b[1;33m\u001b[0m\u001b[0m\n",
      "\u001b[1;31mValueError\u001b[0m: Columns must be same length as key"
     ]
    }
   ],
   "source": [
    "#Remove category 9 - NA and 1111 - Exempt\n",
    "\n",
    "df['applicant_credit_score_type'] = df[df['applicant_credit_score_type'] != 9]\n",
    "df['applicant_credit_score_type'] = df[df['applicant_credit_score_type'] != 1111]\n",
    "df['applicant_credit_score_type'].value_counts()"
   ]
  },
  {
   "cell_type": "code",
   "execution_count": null,
   "id": "c9f04eef",
   "metadata": {},
   "outputs": [],
   "source": []
  },
  {
   "cell_type": "code",
   "execution_count": null,
   "id": "41731956",
   "metadata": {},
   "outputs": [],
   "source": []
  },
  {
   "cell_type": "code",
   "execution_count": null,
   "id": "819b3f1b",
   "metadata": {},
   "outputs": [],
   "source": []
  }
 ],
 "metadata": {
  "kernelspec": {
   "display_name": "Python 3 (ipykernel)",
   "language": "python",
   "name": "python3"
  },
  "language_info": {
   "codemirror_mode": {
    "name": "ipython",
    "version": 3
   },
   "file_extension": ".py",
   "mimetype": "text/x-python",
   "name": "python",
   "nbconvert_exporter": "python",
   "pygments_lexer": "ipython3",
   "version": "3.9.13"
  }
 },
 "nbformat": 4,
 "nbformat_minor": 5
}
