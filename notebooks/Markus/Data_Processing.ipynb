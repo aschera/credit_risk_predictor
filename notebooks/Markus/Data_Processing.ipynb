{
 "cells": [
  {
   "cell_type": "code",
   "execution_count": 1,
   "id": "080b58bb",
   "metadata": {},
   "outputs": [],
   "source": [
    "import numpy as np\n",
    "import pandas as pd\n",
    "\n",
    "from sklearn.preprocessing import LabelEncoder"
   ]
  },
  {
   "cell_type": "markdown",
   "id": "db2397e1",
   "metadata": {},
   "source": [
    "## Load Data "
   ]
  },
  {
   "cell_type": "code",
   "execution_count": 2,
   "id": "22859304",
   "metadata": {},
   "outputs": [],
   "source": [
    "df = pd.read_csv('dataset.csv', low_memory = False)\n"
   ]
  },
  {
   "cell_type": "code",
   "execution_count": 3,
   "id": "8fe4b5ca",
   "metadata": {},
   "outputs": [
    {
     "data": {
      "text/html": [
       "<div>\n",
       "<style scoped>\n",
       "    .dataframe tbody tr th:only-of-type {\n",
       "        vertical-align: middle;\n",
       "    }\n",
       "\n",
       "    .dataframe tbody tr th {\n",
       "        vertical-align: top;\n",
       "    }\n",
       "\n",
       "    .dataframe thead th {\n",
       "        text-align: right;\n",
       "    }\n",
       "</style>\n",
       "<table border=\"1\" class=\"dataframe\">\n",
       "  <thead>\n",
       "    <tr style=\"text-align: right;\">\n",
       "      <th></th>\n",
       "      <th>loan_type</th>\n",
       "      <th>loan_amount</th>\n",
       "      <th>action_taken</th>\n",
       "      <th>occupancy_type</th>\n",
       "      <th>census_tract</th>\n",
       "      <th>applicant_ethnicity_1</th>\n",
       "      <th>co_applicant_ethnicity_1</th>\n",
       "      <th>applicant_race_1</th>\n",
       "      <th>co_applicant_race_1</th>\n",
       "      <th>applicant_sex</th>\n",
       "      <th>...</th>\n",
       "      <th>total_units</th>\n",
       "      <th>aus_1</th>\n",
       "      <th>reverse_mortgage</th>\n",
       "      <th>open_end_line_of_credit</th>\n",
       "      <th>manufactured_home_land_property_interest</th>\n",
       "      <th>total_loan_costs</th>\n",
       "      <th>negative_amortization</th>\n",
       "      <th>interest_only_payment</th>\n",
       "      <th>balloon_payment</th>\n",
       "      <th>other_nonamortizing_features</th>\n",
       "    </tr>\n",
       "  </thead>\n",
       "  <tbody>\n",
       "    <tr>\n",
       "      <th>0</th>\n",
       "      <td>1</td>\n",
       "      <td>355000</td>\n",
       "      <td>1</td>\n",
       "      <td>1</td>\n",
       "      <td>4.209120e+10</td>\n",
       "      <td>2.0</td>\n",
       "      <td>2.0</td>\n",
       "      <td>5.0</td>\n",
       "      <td>5.0</td>\n",
       "      <td>1</td>\n",
       "      <td>...</td>\n",
       "      <td>1</td>\n",
       "      <td>1</td>\n",
       "      <td>2</td>\n",
       "      <td>2</td>\n",
       "      <td>5</td>\n",
       "      <td>8352.71</td>\n",
       "      <td>2</td>\n",
       "      <td>2</td>\n",
       "      <td>2</td>\n",
       "      <td>2</td>\n",
       "    </tr>\n",
       "    <tr>\n",
       "      <th>1</th>\n",
       "      <td>1</td>\n",
       "      <td>265000</td>\n",
       "      <td>1</td>\n",
       "      <td>1</td>\n",
       "      <td>6.067006e+09</td>\n",
       "      <td>2.0</td>\n",
       "      <td>5.0</td>\n",
       "      <td>5.0</td>\n",
       "      <td>8.0</td>\n",
       "      <td>2</td>\n",
       "      <td>...</td>\n",
       "      <td>1</td>\n",
       "      <td>6</td>\n",
       "      <td>2</td>\n",
       "      <td>2</td>\n",
       "      <td>5</td>\n",
       "      <td>1983.0</td>\n",
       "      <td>2</td>\n",
       "      <td>2</td>\n",
       "      <td>2</td>\n",
       "      <td>2</td>\n",
       "    </tr>\n",
       "    <tr>\n",
       "      <th>2</th>\n",
       "      <td>2</td>\n",
       "      <td>285000</td>\n",
       "      <td>1</td>\n",
       "      <td>1</td>\n",
       "      <td>5.513320e+10</td>\n",
       "      <td>2.0</td>\n",
       "      <td>2.0</td>\n",
       "      <td>5.0</td>\n",
       "      <td>5.0</td>\n",
       "      <td>1</td>\n",
       "      <td>...</td>\n",
       "      <td>1</td>\n",
       "      <td>6</td>\n",
       "      <td>2</td>\n",
       "      <td>2</td>\n",
       "      <td>5</td>\n",
       "      <td>6854.68</td>\n",
       "      <td>2</td>\n",
       "      <td>2</td>\n",
       "      <td>2</td>\n",
       "      <td>2</td>\n",
       "    </tr>\n",
       "    <tr>\n",
       "      <th>3</th>\n",
       "      <td>1</td>\n",
       "      <td>295000</td>\n",
       "      <td>1</td>\n",
       "      <td>1</td>\n",
       "      <td>5.513320e+10</td>\n",
       "      <td>2.0</td>\n",
       "      <td>5.0</td>\n",
       "      <td>5.0</td>\n",
       "      <td>8.0</td>\n",
       "      <td>2</td>\n",
       "      <td>...</td>\n",
       "      <td>1</td>\n",
       "      <td>6</td>\n",
       "      <td>2</td>\n",
       "      <td>2</td>\n",
       "      <td>5</td>\n",
       "      <td>4700.6</td>\n",
       "      <td>2</td>\n",
       "      <td>2</td>\n",
       "      <td>2</td>\n",
       "      <td>2</td>\n",
       "    </tr>\n",
       "    <tr>\n",
       "      <th>4</th>\n",
       "      <td>1</td>\n",
       "      <td>475000</td>\n",
       "      <td>1</td>\n",
       "      <td>1</td>\n",
       "      <td>6.073010e+09</td>\n",
       "      <td>3.0</td>\n",
       "      <td>3.0</td>\n",
       "      <td>6.0</td>\n",
       "      <td>6.0</td>\n",
       "      <td>1</td>\n",
       "      <td>...</td>\n",
       "      <td>1</td>\n",
       "      <td>6</td>\n",
       "      <td>2</td>\n",
       "      <td>2</td>\n",
       "      <td>5</td>\n",
       "      <td>2288.0</td>\n",
       "      <td>2</td>\n",
       "      <td>2</td>\n",
       "      <td>2</td>\n",
       "      <td>2</td>\n",
       "    </tr>\n",
       "  </tbody>\n",
       "</table>\n",
       "<p>5 rows × 34 columns</p>\n",
       "</div>"
      ],
      "text/plain": [
       "   loan_type  loan_amount  action_taken  occupancy_type  census_tract  \\\n",
       "0          1       355000             1               1  4.209120e+10   \n",
       "1          1       265000             1               1  6.067006e+09   \n",
       "2          2       285000             1               1  5.513320e+10   \n",
       "3          1       295000             1               1  5.513320e+10   \n",
       "4          1       475000             1               1  6.073010e+09   \n",
       "\n",
       "   applicant_ethnicity_1  co_applicant_ethnicity_1  applicant_race_1  \\\n",
       "0                    2.0                       2.0               5.0   \n",
       "1                    2.0                       5.0               5.0   \n",
       "2                    2.0                       2.0               5.0   \n",
       "3                    2.0                       5.0               5.0   \n",
       "4                    3.0                       3.0               6.0   \n",
       "\n",
       "   co_applicant_race_1  applicant_sex  ...  total_units aus_1  \\\n",
       "0                  5.0              1  ...            1     1   \n",
       "1                  8.0              2  ...            1     6   \n",
       "2                  5.0              1  ...            1     6   \n",
       "3                  8.0              2  ...            1     6   \n",
       "4                  6.0              1  ...            1     6   \n",
       "\n",
       "  reverse_mortgage  open_end_line_of_credit  \\\n",
       "0                2                        2   \n",
       "1                2                        2   \n",
       "2                2                        2   \n",
       "3                2                        2   \n",
       "4                2                        2   \n",
       "\n",
       "   manufactured_home_land_property_interest  total_loan_costs  \\\n",
       "0                                         5           8352.71   \n",
       "1                                         5            1983.0   \n",
       "2                                         5           6854.68   \n",
       "3                                         5            4700.6   \n",
       "4                                         5            2288.0   \n",
       "\n",
       "   negative_amortization interest_only_payment balloon_payment  \\\n",
       "0                      2                     2               2   \n",
       "1                      2                     2               2   \n",
       "2                      2                     2               2   \n",
       "3                      2                     2               2   \n",
       "4                      2                     2               2   \n",
       "\n",
       "  other_nonamortizing_features  \n",
       "0                            2  \n",
       "1                            2  \n",
       "2                            2  \n",
       "3                            2  \n",
       "4                            2  \n",
       "\n",
       "[5 rows x 34 columns]"
      ]
     },
     "execution_count": 3,
     "metadata": {},
     "output_type": "execute_result"
    }
   ],
   "source": [
    "df.head()"
   ]
  },
  {
   "cell_type": "code",
   "execution_count": 4,
   "id": "a0be881b",
   "metadata": {},
   "outputs": [
    {
     "name": "stdout",
     "output_type": "stream",
     "text": [
      "<class 'pandas.core.frame.DataFrame'>\n",
      "RangeIndex: 804666 entries, 0 to 804665\n",
      "Data columns (total 34 columns):\n",
      " #   Column                                    Non-Null Count   Dtype  \n",
      "---  ------                                    --------------   -----  \n",
      " 0   loan_type                                 804666 non-null  int64  \n",
      " 1   loan_amount                               804666 non-null  int64  \n",
      " 2   action_taken                              804666 non-null  int64  \n",
      " 3   occupancy_type                            804666 non-null  int64  \n",
      " 4   census_tract                              804666 non-null  float64\n",
      " 5   applicant_ethnicity_1                     804666 non-null  float64\n",
      " 6   co_applicant_ethnicity_1                  804666 non-null  float64\n",
      " 7   applicant_race_1                          804666 non-null  float64\n",
      " 8   co_applicant_race_1                       804666 non-null  float64\n",
      " 9   applicant_sex                             804666 non-null  int64  \n",
      " 10  co_applicant_sex                          804666 non-null  int64  \n",
      " 11  applicant_age                             804666 non-null  object \n",
      " 12  co_applicant_age                          804666 non-null  object \n",
      " 13  income                                    804666 non-null  float64\n",
      " 14  lien_status                               804666 non-null  int64  \n",
      " 15  applicant_credit_score_type               804666 non-null  int64  \n",
      " 16  co_applicant_credit_score_type            804666 non-null  int64  \n",
      " 17  origination_charges                       804666 non-null  object \n",
      " 18  interest_rate                             804666 non-null  object \n",
      " 19  debt_to_income_ratio                      804666 non-null  object \n",
      " 20  combined_loan_to_value_ratio              804666 non-null  object \n",
      " 21  loan_term                                 804666 non-null  object \n",
      " 22  property_value                            804666 non-null  object \n",
      " 23  manufactured_home_secured_property_type   804666 non-null  int64  \n",
      " 24  total_units                               804666 non-null  object \n",
      " 25  aus_1                                     804666 non-null  int64  \n",
      " 26  reverse_mortgage                          804666 non-null  int64  \n",
      " 27  open_end_line_of_credit                   804666 non-null  int64  \n",
      " 28  manufactured_home_land_property_interest  804666 non-null  int64  \n",
      " 29  total_loan_costs                          804666 non-null  object \n",
      " 30  negative_amortization                     804666 non-null  int64  \n",
      " 31  interest_only_payment                     804666 non-null  int64  \n",
      " 32  balloon_payment                           804666 non-null  int64  \n",
      " 33  other_nonamortizing_features              804666 non-null  int64  \n",
      "dtypes: float64(6), int64(18), object(10)\n",
      "memory usage: 208.7+ MB\n"
     ]
    }
   ],
   "source": [
    "df.info()"
   ]
  },
  {
   "cell_type": "code",
   "execution_count": 5,
   "id": "87e564b1",
   "metadata": {},
   "outputs": [
    {
     "data": {
      "text/plain": [
       "2.0     589626\n",
       "3.0     148014\n",
       "1.0      60039\n",
       "14.0      3298\n",
       "11.0      2246\n",
       "12.0       843\n",
       "13.0       421\n",
       "4.0        179\n",
       "Name: applicant_ethnicity_1, dtype: int64"
      ]
     },
     "execution_count": 5,
     "metadata": {},
     "output_type": "execute_result"
    }
   ],
   "source": [
    "df['applicant_ethnicity_1'].value_counts()"
   ]
  },
  {
   "cell_type": "code",
   "execution_count": 6,
   "id": "1b31a5dd",
   "metadata": {},
   "outputs": [
    {
     "data": {
      "text/plain": [
       "2.0     589626\n",
       "1.0      60039\n",
       "14.0      3298\n",
       "11.0      2246\n",
       "12.0       843\n",
       "13.0       421\n",
       "Name: applicant_ethnicity_1, dtype: int64"
      ]
     },
     "execution_count": 6,
     "metadata": {},
     "output_type": "execute_result"
    }
   ],
   "source": [
    "#Remove 4.0 - not applicable and 3.0 - information not provided\n",
    "df = df[df['applicant_ethnicity_1'] != 4.0 ]\n",
    "df = df[df['applicant_ethnicity_1'] != 3.0]\n",
    "df['applicant_ethnicity_1'].value_counts()"
   ]
  },
  {
   "cell_type": "code",
   "execution_count": 7,
   "id": "527709b7",
   "metadata": {},
   "outputs": [
    {
     "data": {
      "text/plain": [
       "5.0     340650\n",
       "2.0     267558\n",
       "1.0      25443\n",
       "3.0      20325\n",
       "14.0      1014\n",
       "11.0       957\n",
       "12.0       350\n",
       "13.0       166\n",
       "4.0         10\n",
       "Name: co_applicant_ethnicity_1, dtype: int64"
      ]
     },
     "execution_count": 7,
     "metadata": {},
     "output_type": "execute_result"
    }
   ],
   "source": [
    "df['co_applicant_ethnicity_1'].value_counts()"
   ]
  },
  {
   "cell_type": "code",
   "execution_count": 8,
   "id": "24c0721f",
   "metadata": {},
   "outputs": [
    {
     "data": {
      "text/plain": [
       "5.0     340650\n",
       "2.0     267558\n",
       "1.0      25443\n",
       "14.0      1014\n",
       "11.0       957\n",
       "12.0       350\n",
       "13.0       166\n",
       "Name: co_applicant_ethnicity_1, dtype: int64"
      ]
     },
     "execution_count": 8,
     "metadata": {},
     "output_type": "execute_result"
    }
   ],
   "source": [
    "#Remove 3.0 and 4.0 from co_applicant_ethnicity_1 (same as applicant ethnicity). \n",
    "#Keep 5.0 as it is no co-applicant.\n",
    "\n",
    "df = df[df['co_applicant_ethnicity_1'] != 4.0 ]\n",
    "df = df[df['co_applicant_ethnicity_1'] != 3.0]\n",
    "df['co_applicant_ethnicity_1'].value_counts()"
   ]
  },
  {
   "cell_type": "code",
   "execution_count": 9,
   "id": "540c0333",
   "metadata": {},
   "outputs": [
    {
     "data": {
      "text/plain": [
       "5.0     530082\n",
       "2.0      42910\n",
       "3.0      33573\n",
       "6.0      15270\n",
       "21.0      4248\n",
       "1.0       3855\n",
       "22.0      1507\n",
       "4.0       1067\n",
       "23.0      1048\n",
       "27.0       946\n",
       "25.0       484\n",
       "26.0       465\n",
       "44.0       308\n",
       "24.0       231\n",
       "41.0        61\n",
       "42.0        34\n",
       "7.0         25\n",
       "43.0        24\n",
       "Name: applicant_race_1, dtype: int64"
      ]
     },
     "execution_count": 9,
     "metadata": {},
     "output_type": "execute_result"
    }
   ],
   "source": [
    "df['applicant_race_1'].value_counts()"
   ]
  },
  {
   "cell_type": "code",
   "execution_count": 10,
   "id": "e20fa93f",
   "metadata": {},
   "outputs": [
    {
     "data": {
      "text/plain": [
       "5.0     530082\n",
       "2.0      42910\n",
       "3.0      33573\n",
       "21.0      4248\n",
       "1.0       3855\n",
       "22.0      1507\n",
       "4.0       1067\n",
       "23.0      1048\n",
       "27.0       946\n",
       "25.0       484\n",
       "26.0       465\n",
       "44.0       308\n",
       "24.0       231\n",
       "41.0        61\n",
       "42.0        34\n",
       "43.0        24\n",
       "Name: applicant_race_1, dtype: int64"
      ]
     },
     "execution_count": 10,
     "metadata": {},
     "output_type": "execute_result"
    }
   ],
   "source": [
    "# Remove 6.0 -information not provided and 7.0 -NA from applicant_race\n",
    "\n",
    "df = df[df['applicant_race_1'] != 6.0 ]\n",
    "df = df[df['applicant_race_1'] != 7.0]\n",
    "df['applicant_race_1'].value_counts()\n"
   ]
  },
  {
   "cell_type": "code",
   "execution_count": 11,
   "id": "0ef6a565",
   "metadata": {},
   "outputs": [
    {
     "data": {
      "text/plain": [
       "8.0     331171\n",
       "5.0     251366\n",
       "2.0      20003\n",
       "3.0       8722\n",
       "6.0       2625\n",
       "21.0      2075\n",
       "1.0       1400\n",
       "22.0       845\n",
       "23.0       716\n",
       "4.0        545\n",
       "27.0       427\n",
       "25.0       275\n",
       "26.0       264\n",
       "24.0       184\n",
       "44.0       159\n",
       "41.0        33\n",
       "42.0        17\n",
       "43.0        13\n",
       "7.0          3\n",
       "Name: co_applicant_race_1, dtype: int64"
      ]
     },
     "execution_count": 11,
     "metadata": {},
     "output_type": "execute_result"
    }
   ],
   "source": [
    "df['co_applicant_race_1'].value_counts()"
   ]
  },
  {
   "cell_type": "code",
   "execution_count": 12,
   "id": "01cf9844",
   "metadata": {},
   "outputs": [
    {
     "data": {
      "text/plain": [
       "8.0     331171\n",
       "5.0     251366\n",
       "2.0      20003\n",
       "3.0       8722\n",
       "21.0      2075\n",
       "1.0       1400\n",
       "22.0       845\n",
       "23.0       716\n",
       "4.0        545\n",
       "27.0       427\n",
       "25.0       275\n",
       "26.0       264\n",
       "24.0       184\n",
       "44.0       159\n",
       "41.0        33\n",
       "42.0        17\n",
       "43.0        13\n",
       "Name: co_applicant_race_1, dtype: int64"
      ]
     },
     "execution_count": 12,
     "metadata": {},
     "output_type": "execute_result"
    }
   ],
   "source": [
    "# Remove 6.0 -information not provided and 7.0 -NA from co_applicant_race\n",
    "\n",
    "df = df[df['co_applicant_race_1'] != 6.0 ]\n",
    "df = df[df['co_applicant_race_1'] != 7.0]\n",
    "df['co_applicant_race_1'].value_counts()"
   ]
  },
  {
   "cell_type": "code",
   "execution_count": 13,
   "id": "0c6c4542",
   "metadata": {},
   "outputs": [
    {
     "data": {
      "text/plain": [
       "1    418914\n",
       "2    197636\n",
       "3      1398\n",
       "6       264\n",
       "4         3\n",
       "Name: applicant_sex, dtype: int64"
      ]
     },
     "execution_count": 13,
     "metadata": {},
     "output_type": "execute_result"
    }
   ],
   "source": [
    "df['applicant_sex'].value_counts()"
   ]
  },
  {
   "cell_type": "code",
   "execution_count": 14,
   "id": "5314be0f",
   "metadata": {},
   "outputs": [
    {
     "data": {
      "text/plain": [
       "1    418914\n",
       "2    197636\n",
       "Name: applicant_sex, dtype: int64"
      ]
     },
     "execution_count": 14,
     "metadata": {},
     "output_type": "execute_result"
    }
   ],
   "source": [
    "# Remove 3 -information not provided, 4 -NA, 6 -Both from applicant_sex \n",
    "df = df[df['applicant_sex'] != 3]\n",
    "df = df[df['applicant_sex'] != 4]\n",
    "df = df[df['applicant_sex'] != 6]\n",
    "df['applicant_sex'].value_counts()"
   ]
  },
  {
   "cell_type": "code",
   "execution_count": 15,
   "id": "669b44d9",
   "metadata": {},
   "outputs": [
    {
     "data": {
      "text/plain": [
       "5    330175\n",
       "2    214914\n",
       "1     70851\n",
       "3       428\n",
       "6       173\n",
       "4         9\n",
       "Name: co_applicant_sex, dtype: int64"
      ]
     },
     "execution_count": 15,
     "metadata": {},
     "output_type": "execute_result"
    }
   ],
   "source": [
    "df['co_applicant_sex'].value_counts()"
   ]
  },
  {
   "cell_type": "code",
   "execution_count": 16,
   "id": "f36c651b",
   "metadata": {},
   "outputs": [
    {
     "data": {
      "text/plain": [
       "5    330175\n",
       "2    214914\n",
       "1     70851\n",
       "Name: co_applicant_sex, dtype: int64"
      ]
     },
     "execution_count": 16,
     "metadata": {},
     "output_type": "execute_result"
    }
   ],
   "source": [
    "# Remove 3 -information not provided, 4 -NA, 6 -Both from applicant_sex \n",
    "df = df[df['co_applicant_sex'] != 3]\n",
    "df = df[df['co_applicant_sex'] != 4]\n",
    "df = df[df['co_applicant_sex'] != 6]\n",
    "df['co_applicant_sex'].value_counts()"
   ]
  },
  {
   "cell_type": "code",
   "execution_count": 17,
   "id": "16c5345e",
   "metadata": {},
   "outputs": [
    {
     "data": {
      "text/plain": [
       "35-44    158116\n",
       "45-54    136362\n",
       "25-34    127553\n",
       "55-64    103725\n",
       "65-74     56887\n",
       ">74       16828\n",
       "<25       16234\n",
       "8888        235\n",
       "Name: applicant_age, dtype: int64"
      ]
     },
     "execution_count": 17,
     "metadata": {},
     "output_type": "execute_result"
    }
   ],
   "source": [
    "df['applicant_age'].value_counts()"
   ]
  },
  {
   "cell_type": "code",
   "execution_count": 18,
   "id": "601368cf",
   "metadata": {},
   "outputs": [],
   "source": [
    "#Age needs to be encoded then remove 8888\n",
    "encoder = LabelEncoder()\n"
   ]
  },
  {
   "cell_type": "code",
   "execution_count": 19,
   "id": "6128e5db",
   "metadata": {},
   "outputs": [],
   "source": [
    "df['applicant_age'] = encoder.fit_transform(df['applicant_age'])"
   ]
  },
  {
   "cell_type": "code",
   "execution_count": 20,
   "id": "52635de7",
   "metadata": {},
   "outputs": [
    {
     "data": {
      "text/plain": [
       "1    158116\n",
       "2    136362\n",
       "0    127553\n",
       "3    103725\n",
       "4     56887\n",
       "7     16828\n",
       "6     16234\n",
       "5       235\n",
       "Name: applicant_age, dtype: int64"
      ]
     },
     "execution_count": 20,
     "metadata": {},
     "output_type": "execute_result"
    }
   ],
   "source": [
    "df['applicant_age'].value_counts()"
   ]
  },
  {
   "cell_type": "code",
   "execution_count": 21,
   "id": "64e55bdb",
   "metadata": {},
   "outputs": [
    {
     "data": {
      "text/plain": [
       "1    158116\n",
       "2    136362\n",
       "0    127553\n",
       "3    103725\n",
       "4     56887\n",
       "7     16828\n",
       "6     16234\n",
       "Name: applicant_age, dtype: int64"
      ]
     },
     "execution_count": 21,
     "metadata": {},
     "output_type": "execute_result"
    }
   ],
   "source": [
    "df = df[df['applicant_age'] != 5]\n",
    "df['applicant_age'].value_counts()"
   ]
  },
  {
   "cell_type": "code",
   "execution_count": 22,
   "id": "caf05963",
   "metadata": {},
   "outputs": [
    {
     "data": {
      "text/plain": [
       "9999     329983\n",
       "35-44     72527\n",
       "25-34     60802\n",
       "45-54     60316\n",
       "55-64     49654\n",
       "65-74     28701\n",
       ">74        7042\n",
       "<25        6625\n",
       "8888         55\n",
       "Name: co_applicant_age, dtype: int64"
      ]
     },
     "execution_count": 22,
     "metadata": {},
     "output_type": "execute_result"
    }
   ],
   "source": [
    "df['co_applicant_age'].value_counts()"
   ]
  },
  {
   "cell_type": "code",
   "execution_count": 23,
   "id": "550e4413",
   "metadata": {},
   "outputs": [
    {
     "data": {
      "text/plain": [
       "6    329983\n",
       "1     72527\n",
       "0     60802\n",
       "2     60316\n",
       "3     49654\n",
       "4     28701\n",
       "8      7042\n",
       "7      6625\n",
       "5        55\n",
       "Name: co_applicant_age, dtype: int64"
      ]
     },
     "execution_count": 23,
     "metadata": {},
     "output_type": "execute_result"
    }
   ],
   "source": [
    "df['co_applicant_age'] = encoder.fit_transform(df['co_applicant_age'])\n",
    "df['co_applicant_age'].value_counts()"
   ]
  },
  {
   "cell_type": "code",
   "execution_count": 24,
   "id": "dfff7817",
   "metadata": {},
   "outputs": [
    {
     "data": {
      "text/plain": [
       "6    329983\n",
       "1     72527\n",
       "0     60802\n",
       "2     60316\n",
       "3     49654\n",
       "4     28701\n",
       "8      7042\n",
       "7      6625\n",
       "Name: co_applicant_age, dtype: int64"
      ]
     },
     "execution_count": 24,
     "metadata": {},
     "output_type": "execute_result"
    }
   ],
   "source": [
    "df = df[df['co_applicant_age'] != 5]\n",
    "df['co_applicant_age'].value_counts()"
   ]
  },
  {
   "cell_type": "code",
   "execution_count": 25,
   "id": "5adb5763",
   "metadata": {},
   "outputs": [],
   "source": [
    "#Change income to reflect regular dollar amounts.\n",
    "df['income'] = df['income'] * 1000"
   ]
  },
  {
   "cell_type": "code",
   "execution_count": 26,
   "id": "74d47ad8",
   "metadata": {},
   "outputs": [
    {
     "data": {
      "text/plain": [
       "0    136000.0\n",
       "1     60000.0\n",
       "2    120000.0\n",
       "3     91000.0\n",
       "5    109000.0\n",
       "Name: income, dtype: float64"
      ]
     },
     "execution_count": 26,
     "metadata": {},
     "output_type": "execute_result"
    }
   ],
   "source": [
    "df['income'].head()"
   ]
  },
  {
   "cell_type": "markdown",
   "id": "59fb53af",
   "metadata": {},
   "source": [
    "### Encoding of Credit_score_type"
   ]
  },
  {
   "cell_type": "code",
   "execution_count": 27,
   "id": "d0cdc594",
   "metadata": {},
   "outputs": [
    {
     "data": {
      "text/plain": [
       "1       196056\n",
       "3       170132\n",
       "2       146566\n",
       "9        65587\n",
       "1111     25151\n",
       "7         5785\n",
       "8         5281\n",
       "5          787\n",
       "4          304\n",
       "6            1\n",
       "Name: applicant_credit_score_type, dtype: int64"
      ]
     },
     "execution_count": 27,
     "metadata": {},
     "output_type": "execute_result"
    }
   ],
   "source": [
    "df['applicant_credit_score_type'].value_counts()"
   ]
  },
  {
   "cell_type": "code",
   "execution_count": 28,
   "id": "451b0c51",
   "metadata": {
    "scrolled": true
   },
   "outputs": [
    {
     "data": {
      "text/plain": [
       "0    196056\n",
       "2    170132\n",
       "1    146566\n",
       "8     65587\n",
       "9     25151\n",
       "6      5785\n",
       "7      5281\n",
       "4       787\n",
       "3       304\n",
       "5         1\n",
       "Name: applicant_credit_score_type, dtype: int64"
      ]
     },
     "execution_count": 28,
     "metadata": {},
     "output_type": "execute_result"
    }
   ],
   "source": [
    "# Encode the credit_score_type\n",
    "df['applicant_credit_score_type']= encoder.fit_transform(df['applicant_credit_score_type'])\n",
    "df['applicant_credit_score_type'].value_counts()"
   ]
  },
  {
   "cell_type": "code",
   "execution_count": 29,
   "id": "2d0c9dbc",
   "metadata": {},
   "outputs": [
    {
     "data": {
      "text/plain": [
       "10      317744\n",
       "9       167069\n",
       "1        38805\n",
       "3        34086\n",
       "2        28535\n",
       "1111     25151\n",
       "7         2062\n",
       "8         1758\n",
       "5          295\n",
       "4          145\n",
       "Name: co_applicant_credit_score_type, dtype: int64"
      ]
     },
     "execution_count": 29,
     "metadata": {},
     "output_type": "execute_result"
    }
   ],
   "source": [
    "df['co_applicant_credit_score_type'].value_counts()"
   ]
  },
  {
   "cell_type": "code",
   "execution_count": 30,
   "id": "bd18eae4",
   "metadata": {},
   "outputs": [
    {
     "data": {
      "text/plain": [
       "8    317744\n",
       "7    167069\n",
       "0     38805\n",
       "2     34086\n",
       "1     28535\n",
       "9     25151\n",
       "5      2062\n",
       "6      1758\n",
       "4       295\n",
       "3       145\n",
       "Name: co_applicant_credit_score_type, dtype: int64"
      ]
     },
     "execution_count": 30,
     "metadata": {},
     "output_type": "execute_result"
    }
   ],
   "source": [
    "df['co_applicant_credit_score_type'] = encoder.fit_transform(df['co_applicant_credit_score_type'])\n",
    "df['co_applicant_credit_score_type'].value_counts()"
   ]
  },
  {
   "cell_type": "code",
   "execution_count": 31,
   "id": "c6e93f9d",
   "metadata": {},
   "outputs": [],
   "source": [
    "df['origination_charges']= encoder.fit_transform(df['origination_charges'])"
   ]
  },
  {
   "cell_type": "code",
   "execution_count": 32,
   "id": "6a3fada4",
   "metadata": {},
   "outputs": [
    {
     "data": {
      "text/plain": [
       "0         87499\n",
       "143514    25677\n",
       "12447     25500\n",
       "143288     8838\n",
       "142826     7296\n",
       "          ...  \n",
       "75134         1\n",
       "122169        1\n",
       "117117        1\n",
       "93755         1\n",
       "133778        1\n",
       "Name: origination_charges, Length: 143515, dtype: int64"
      ]
     },
     "execution_count": 32,
     "metadata": {},
     "output_type": "execute_result"
    }
   ],
   "source": [
    "df['origination_charges'].value_counts()"
   ]
  },
  {
   "cell_type": "code",
   "execution_count": 33,
   "id": "477b5d00",
   "metadata": {},
   "outputs": [
    {
     "data": {
      "text/plain": [
       "3.875    60016\n",
       "3.75     48104\n",
       "3.625    43268\n",
       "4.125    38506\n",
       "3.99     37768\n",
       "         ...  \n",
       "5.662        1\n",
       "9.65         1\n",
       "4.11         1\n",
       "11.99        1\n",
       "5.325        1\n",
       "Name: interest_rate, Length: 720, dtype: int64"
      ]
     },
     "execution_count": 33,
     "metadata": {},
     "output_type": "execute_result"
    }
   ],
   "source": [
    "df['interest_rate'].value_counts()"
   ]
  },
  {
   "cell_type": "code",
   "execution_count": 34,
   "id": "d55568b6",
   "metadata": {},
   "outputs": [
    {
     "data": {
      "text/plain": [
       "205    60016\n",
       "188    48104\n",
       "172    43268\n",
       "243    38506\n",
       "220    37768\n",
       "       ...  \n",
       "456        1\n",
       "695        1\n",
       "239        1\n",
       "66         1\n",
       "410        1\n",
       "Name: interest_rate, Length: 720, dtype: int64"
      ]
     },
     "execution_count": 34,
     "metadata": {},
     "output_type": "execute_result"
    }
   ],
   "source": [
    "df['interest_rate'] = encoder.fit_transform(df['interest_rate'])\n",
    "df['interest_rate'].value_counts()"
   ]
  },
  {
   "cell_type": "code",
   "execution_count": 35,
   "id": "d784abc1",
   "metadata": {},
   "outputs": [
    {
     "data": {
      "text/plain": [
       "20%-<30%    127900\n",
       "30%-<36%    114221\n",
       "<20%         41414\n",
       "44           26362\n",
       "Exempt       25151\n",
       "42           24209\n",
       "43           23162\n",
       "41           23092\n",
       "39           22841\n",
       "50%-60%      22841\n",
       "40           22549\n",
       "38           21869\n",
       "37           21571\n",
       "36           20835\n",
       "49           17520\n",
       "45           15918\n",
       "48           14529\n",
       "46           14330\n",
       "47           14014\n",
       ">60%          1322\n",
       "Name: debt_to_income_ratio, dtype: int64"
      ]
     },
     "execution_count": 35,
     "metadata": {},
     "output_type": "execute_result"
    }
   ],
   "source": [
    "df['debt_to_income_ratio'].value_counts()"
   ]
  },
  {
   "cell_type": "code",
   "execution_count": 36,
   "id": "6c070700",
   "metadata": {},
   "outputs": [],
   "source": [
    "df_copy = df.copy()"
   ]
  },
  {
   "cell_type": "code",
   "execution_count": 37,
   "id": "2def2ba9",
   "metadata": {},
   "outputs": [
    {
     "data": {
      "text/plain": [
       "20%-<30%    127900\n",
       "30%-<36%    114221\n",
       "<20%         41414\n",
       "44           26362\n",
       "Exempt       25151\n",
       "42           24209\n",
       "43           23162\n",
       "41           23092\n",
       "39           22841\n",
       "50%-60%      22841\n",
       "40           22549\n",
       "38           21869\n",
       "37           21571\n",
       "36           20835\n",
       "49           17520\n",
       "45           15918\n",
       "48           14529\n",
       "46           14330\n",
       "47           14014\n",
       ">60%          1322\n",
       "Name: debt_to_income_ratio, dtype: int64"
      ]
     },
     "execution_count": 37,
     "metadata": {},
     "output_type": "execute_result"
    }
   ],
   "source": [
    "df_copy['debt_to_income_ratio'].value_counts()"
   ]
  },
  {
   "cell_type": "code",
   "execution_count": 38,
   "id": "a30fafd4",
   "metadata": {},
   "outputs": [],
   "source": [
    "def category_1(ratio):\n",
    "    if ratio in ['30%-<36%','36','37','38','39']:\n",
    "        return '30%-<40%'\n",
    "    return ratio\n"
   ]
  },
  {
   "cell_type": "code",
   "execution_count": 39,
   "id": "b95f0055",
   "metadata": {},
   "outputs": [
    {
     "name": "stdout",
     "output_type": "stream",
     "text": [
      "30%-<40%    201337\n",
      "20%-<30%    127900\n",
      "<20%         41414\n",
      "44           26362\n",
      "Exempt       25151\n",
      "42           24209\n",
      "43           23162\n",
      "41           23092\n",
      "50%-60%      22841\n",
      "40           22549\n",
      "49           17520\n",
      "45           15918\n",
      "48           14529\n",
      "46           14330\n",
      "47           14014\n",
      ">60%          1322\n",
      "Name: debt_to_income_ratio, dtype: int64\n"
     ]
    }
   ],
   "source": [
    "df_copy['debt_to_income_ratio'] = df_copy['debt_to_income_ratio'].apply(category_1)\n",
    "\n",
    "print(df_copy['debt_to_income_ratio'].value_counts())"
   ]
  },
  {
   "cell_type": "code",
   "execution_count": 40,
   "id": "72e1260b",
   "metadata": {},
   "outputs": [],
   "source": [
    "def category_2(ratio):\n",
    "    if ratio in ['40','41','42','43','44','45','46','47','48','49']:\n",
    "        return '40%-<50%'\n",
    "    return ratio"
   ]
  },
  {
   "cell_type": "code",
   "execution_count": 41,
   "id": "40b7bd5c",
   "metadata": {},
   "outputs": [
    {
     "name": "stdout",
     "output_type": "stream",
     "text": [
      "30%-<40%    201337\n",
      "40%-<50%    195685\n",
      "20%-<30%    127900\n",
      "<20%         41414\n",
      "Exempt       25151\n",
      "50%-60%      22841\n",
      ">60%          1322\n",
      "Name: debt_to_income_ratio, dtype: int64\n"
     ]
    }
   ],
   "source": [
    "df_copy['debt_to_income_ratio'] = df_copy['debt_to_income_ratio'].apply(category_2)\n",
    "\n",
    "print(df_copy['debt_to_income_ratio'].value_counts())"
   ]
  },
  {
   "cell_type": "code",
   "execution_count": 42,
   "id": "3c9c6cde",
   "metadata": {},
   "outputs": [
    {
     "name": "stdout",
     "output_type": "stream",
     "text": [
      "<class 'pandas.core.frame.DataFrame'>\n",
      "Int64Index: 615650 entries, 0 to 804665\n",
      "Data columns (total 34 columns):\n",
      " #   Column                                    Non-Null Count   Dtype  \n",
      "---  ------                                    --------------   -----  \n",
      " 0   loan_type                                 615650 non-null  int64  \n",
      " 1   loan_amount                               615650 non-null  int64  \n",
      " 2   action_taken                              615650 non-null  int64  \n",
      " 3   occupancy_type                            615650 non-null  int64  \n",
      " 4   census_tract                              615650 non-null  float64\n",
      " 5   applicant_ethnicity_1                     615650 non-null  float64\n",
      " 6   co_applicant_ethnicity_1                  615650 non-null  float64\n",
      " 7   applicant_race_1                          615650 non-null  float64\n",
      " 8   co_applicant_race_1                       615650 non-null  float64\n",
      " 9   applicant_sex                             615650 non-null  int64  \n",
      " 10  co_applicant_sex                          615650 non-null  int64  \n",
      " 11  applicant_age                             615650 non-null  int32  \n",
      " 12  co_applicant_age                          615650 non-null  int32  \n",
      " 13  income                                    615650 non-null  float64\n",
      " 14  lien_status                               615650 non-null  int64  \n",
      " 15  applicant_credit_score_type               615650 non-null  int64  \n",
      " 16  co_applicant_credit_score_type            615650 non-null  int64  \n",
      " 17  origination_charges                       615650 non-null  int32  \n",
      " 18  interest_rate                             615650 non-null  int32  \n",
      " 19  debt_to_income_ratio                      615650 non-null  object \n",
      " 20  combined_loan_to_value_ratio              615650 non-null  object \n",
      " 21  loan_term                                 615650 non-null  object \n",
      " 22  property_value                            615650 non-null  object \n",
      " 23  manufactured_home_secured_property_type   615650 non-null  int64  \n",
      " 24  total_units                               615650 non-null  object \n",
      " 25  aus_1                                     615650 non-null  int64  \n",
      " 26  reverse_mortgage                          615650 non-null  int64  \n",
      " 27  open_end_line_of_credit                   615650 non-null  int64  \n",
      " 28  manufactured_home_land_property_interest  615650 non-null  int64  \n",
      " 29  total_loan_costs                          615650 non-null  object \n",
      " 30  negative_amortization                     615650 non-null  int64  \n",
      " 31  interest_only_payment                     615650 non-null  int64  \n",
      " 32  balloon_payment                           615650 non-null  int64  \n",
      " 33  other_nonamortizing_features              615650 non-null  int64  \n",
      "dtypes: float64(6), int32(4), int64(18), object(6)\n",
      "memory usage: 155.0+ MB\n"
     ]
    }
   ],
   "source": [
    "df = df_copy\n",
    "df.info()"
   ]
  },
  {
   "cell_type": "code",
   "execution_count": 43,
   "id": "9d05e190",
   "metadata": {},
   "outputs": [
    {
     "data": {
      "text/plain": [
       "30%-<40%    201337\n",
       "40%-<50%    195685\n",
       "20%-<30%    127900\n",
       "<20%         41414\n",
       "Exempt       25151\n",
       "50%-60%      22841\n",
       ">60%          1322\n",
       "Name: debt_to_income_ratio, dtype: int64"
      ]
     },
     "execution_count": 43,
     "metadata": {},
     "output_type": "execute_result"
    }
   ],
   "source": [
    "df['debt_to_income_ratio'].value_counts()"
   ]
  },
  {
   "cell_type": "code",
   "execution_count": 44,
   "id": "727c5c14",
   "metadata": {},
   "outputs": [
    {
     "data": {
      "text/plain": [
       "1    201337\n",
       "2    195685\n",
       "0    127900\n",
       "4     41414\n",
       "6     25151\n",
       "3     22841\n",
       "5      1322\n",
       "Name: debt_to_income_ratio, dtype: int64"
      ]
     },
     "execution_count": 44,
     "metadata": {},
     "output_type": "execute_result"
    }
   ],
   "source": [
    "df['debt_to_income_ratio'] = encoder.fit_transform(df['debt_to_income_ratio'])\n",
    "df['debt_to_income_ratio'].value_counts()"
   ]
  },
  {
   "cell_type": "code",
   "execution_count": 45,
   "id": "4d38f5e1",
   "metadata": {},
   "outputs": [
    {
     "data": {
      "text/plain": [
       "80.0      85336\n",
       "95.0      36847\n",
       "96.5      27621\n",
       "Exempt    25151\n",
       "90.0      22194\n",
       "          ...  \n",
       "77.081        1\n",
       "95.153        1\n",
       "27.329        1\n",
       "90.879        1\n",
       "98.483        1\n",
       "Name: combined_loan_to_value_ratio, Length: 62989, dtype: int64"
      ]
     },
     "execution_count": 45,
     "metadata": {},
     "output_type": "execute_result"
    }
   ],
   "source": [
    "df['combined_loan_to_value_ratio'].value_counts()"
   ]
  },
  {
   "cell_type": "code",
   "execution_count": 46,
   "id": "64b7effe",
   "metadata": {},
   "outputs": [
    {
     "data": {
      "text/plain": [
       "47453    85336\n",
       "59372    36847\n",
       "60450    27621\n",
       "62988    25151\n",
       "55309    22194\n",
       "         ...  \n",
       "44472        1\n",
       "59471        1\n",
       "7183         1\n",
       "55882        1\n",
       "61806        1\n",
       "Name: combined_loan_to_value_ratio, Length: 62989, dtype: int64"
      ]
     },
     "execution_count": 46,
     "metadata": {},
     "output_type": "execute_result"
    }
   ],
   "source": [
    "# I encode the combined_loan_to_value_ratio to be able to include the 'Exempt' rows\n",
    "\n",
    "df['combined_loan_to_value_ratio'] = encoder.fit_transform(df['combined_loan_to_value_ratio'])\n",
    "\n",
    "df['combined_loan_to_value_ratio'].value_counts()"
   ]
  },
  {
   "cell_type": "code",
   "execution_count": 47,
   "id": "67704d77",
   "metadata": {},
   "outputs": [
    {
     "data": {
      "text/plain": [
       "360       472504\n",
       "180        67545\n",
       "Exempt     25677\n",
       "240        25425\n",
       "120         8916\n",
       "           ...  \n",
       "169            1\n",
       "123            1\n",
       "163            1\n",
       "236            1\n",
       "98             1\n",
       "Name: loan_term, Length: 200, dtype: int64"
      ]
     },
     "execution_count": 47,
     "metadata": {},
     "output_type": "execute_result"
    }
   ],
   "source": [
    "#loan terms are given in months. \n",
    "df['loan_term'].value_counts()"
   ]
  },
  {
   "cell_type": "code",
   "execution_count": 53,
   "id": "b473402c",
   "metadata": {},
   "outputs": [],
   "source": [
    "df.loc[:, 'loan_term'] = df['loan_term'].apply(lambda x: int(x) // 12 if x != 'Exempt' else 'Exempt')"
   ]
  },
  {
   "cell_type": "code",
   "execution_count": 54,
   "id": "273ad884",
   "metadata": {},
   "outputs": [
    {
     "data": {
      "text/plain": [
       "30        472699\n",
       "15         67566\n",
       "Exempt     25677\n",
       "20         25429\n",
       "10          8941\n",
       "25          3444\n",
       "27          3081\n",
       "5           1648\n",
       "31          1389\n",
       "12          1033\n",
       "29           781\n",
       "28           451\n",
       "26           406\n",
       "14           346\n",
       "8            333\n",
       "13           282\n",
       "7            244\n",
       "23           205\n",
       "24           204\n",
       "3            196\n",
       "11           162\n",
       "1            146\n",
       "18           143\n",
       "16           141\n",
       "19           123\n",
       "6            121\n",
       "17           104\n",
       "22            85\n",
       "9             69\n",
       "21            59\n",
       "2             49\n",
       "0             44\n",
       "4             22\n",
       "32            16\n",
       "40            11\n",
       "Name: loan_term, dtype: int64"
      ]
     },
     "execution_count": 54,
     "metadata": {},
     "output_type": "execute_result"
    }
   ],
   "source": [
    "df['loan_term'].value_counts()"
   ]
  },
  {
   "cell_type": "markdown",
   "id": "ef7164d9",
   "metadata": {},
   "source": [
    "Categories to use.\n",
    "30\n",
    "25-<30\n",
    "20-<25\n",
    "15-<20\n",
    "10-<15\n",
    "5-<10\n",
    "0-<5\n",
    "Exempt"
   ]
  },
  {
   "cell_type": "code",
   "execution_count": 67,
   "id": "26912b59",
   "metadata": {},
   "outputs": [],
   "source": [
    "def categorize_loan_term(ratio):\n",
    "    # Custom logic to categorize 'loan_term' values\n",
    "    if ratio == 'Exempt':\n",
    "        return 'Exempt'\n",
    "    ratio = int(ratio)\n",
    "    if ratio < 5:\n",
    "        return '0-<5 years'\n",
    "    elif 5 <= ratio < 10:\n",
    "        return '5-< 10 years'\n",
    "    elif 10 <= ratio < 15:\n",
    "        return '10-<15 years'\n",
    "    elif 15 <= ratio < 20:\n",
    "        return '15-<20 years'\n",
    "    elif 20 <= ratio < 25:\n",
    "        return '20-<25 years'\n",
    "    elif 25 <= ratio < 30 :\n",
    "        return '25-<30 years'\n",
    "    elif ratio >=30:\n",
    "        return '30+ years'\n",
    "    return 'Unknown'"
   ]
  },
  {
   "cell_type": "code",
   "execution_count": 71,
   "id": "2f512ae2",
   "metadata": {},
   "outputs": [],
   "source": [
    "df['loan_term'] = df['loan_term'].apply(categorize_loan_term)"
   ]
  },
  {
   "cell_type": "code",
   "execution_count": 72,
   "id": "bc5c9731",
   "metadata": {},
   "outputs": [
    {
     "data": {
      "text/plain": [
       "30+ years       474115\n",
       "15-<20 years     68077\n",
       "20-<25 years     25982\n",
       "Exempt           25677\n",
       "10-<15 years     10764\n",
       "25-<30 years      8163\n",
       "5-< 10 years      2415\n",
       "0-<5 years         457\n",
       "Name: loan_term, dtype: int64"
      ]
     },
     "execution_count": 72,
     "metadata": {},
     "output_type": "execute_result"
    }
   ],
   "source": [
    "df['loan_term'].value_counts()"
   ]
  },
  {
   "cell_type": "code",
   "execution_count": 73,
   "id": "19f108b8",
   "metadata": {},
   "outputs": [
    {
     "data": {
      "text/plain": [
       "5    474115\n",
       "2     68077\n",
       "3     25982\n",
       "7     25677\n",
       "1     10764\n",
       "4      8163\n",
       "6      2415\n",
       "0       457\n",
       "Name: loan_term, dtype: int64"
      ]
     },
     "execution_count": 73,
     "metadata": {},
     "output_type": "execute_result"
    }
   ],
   "source": [
    "df['loan_term'] = encoder.fit_transform(df['loan_term'])\n",
    "df['loan_term'].value_counts()"
   ]
  },
  {
   "cell_type": "code",
   "execution_count": 74,
   "id": "8fdffc62",
   "metadata": {},
   "outputs": [
    {
     "data": {
      "text/plain": [
       "Exempt      25614\n",
       "255000      14778\n",
       "225000      14577\n",
       "235000      14180\n",
       "265000      13868\n",
       "            ...  \n",
       "5975000         1\n",
       "11355000        1\n",
       "5645000         1\n",
       "5635000         1\n",
       "8765000         1\n",
       "Name: property_value, Length: 758, dtype: int64"
      ]
     },
     "execution_count": 74,
     "metadata": {},
     "output_type": "execute_result"
    }
   ],
   "source": [
    "df['property_value'].value_counts()"
   ]
  },
  {
   "cell_type": "code",
   "execution_count": 81,
   "id": "fd52fca2",
   "metadata": {},
   "outputs": [
    {
     "data": {
      "text/plain": [
       "757    25614\n",
       "240    14778\n",
       "203    14577\n",
       "215    14180\n",
       "251    13868\n",
       "       ...  \n",
       "588        1\n",
       "31         1\n",
       "562        1\n",
       "561        1\n",
       "716        1\n",
       "Name: property_value, Length: 758, dtype: int64"
      ]
     },
     "execution_count": 81,
     "metadata": {},
     "output_type": "execute_result"
    }
   ],
   "source": [
    "df['property_value'] = encoder.fit_transform(df['property_value'])\n",
    "df['property_value'].value_counts()"
   ]
  },
  {
   "cell_type": "code",
   "execution_count": 82,
   "id": "1f2f72ae",
   "metadata": {},
   "outputs": [
    {
     "data": {
      "text/plain": [
       "1        606149\n",
       "2          7233\n",
       "3          1234\n",
       "4           889\n",
       "5-24        129\n",
       "25-49         9\n",
       "50-99         5\n",
       ">149          2\n",
       "Name: total_units, dtype: int64"
      ]
     },
     "execution_count": 82,
     "metadata": {},
     "output_type": "execute_result"
    }
   ],
   "source": [
    "df['total_units'].value_counts()"
   ]
  },
  {
   "cell_type": "code",
   "execution_count": 83,
   "id": "54c8b12a",
   "metadata": {},
   "outputs": [],
   "source": [
    "def total_units(ratio):\n",
    "    if ratio in ['5-24', '25-49', '50-99', '>149']:\n",
    "        return '5+'\n",
    "    return ratio"
   ]
  },
  {
   "cell_type": "code",
   "execution_count": 89,
   "id": "a73fcd56",
   "metadata": {},
   "outputs": [
    {
     "data": {
      "text/plain": [
       "1     606149\n",
       "2       7233\n",
       "3       1234\n",
       "4        889\n",
       "5+       145\n",
       "Name: total_units, dtype: int64"
      ]
     },
     "execution_count": 89,
     "metadata": {},
     "output_type": "execute_result"
    }
   ],
   "source": [
    "df['total_units'] = df['total_units'].apply(total_units)\n",
    "\n",
    "df['total_units'].value_counts()"
   ]
  },
  {
   "cell_type": "code",
   "execution_count": 90,
   "id": "65958e53",
   "metadata": {},
   "outputs": [],
   "source": [
    "df['total_units'] = encoder.fit_transform(df['total_units'])"
   ]
  },
  {
   "cell_type": "code",
   "execution_count": 91,
   "id": "75c37892",
   "metadata": {},
   "outputs": [
    {
     "data": {
      "text/plain": [
       "0    606149\n",
       "1      7233\n",
       "2      1234\n",
       "3       889\n",
       "4       145\n",
       "Name: total_units, dtype: int64"
      ]
     },
     "execution_count": 91,
     "metadata": {},
     "output_type": "execute_result"
    }
   ],
   "source": [
    "df['total_units'].value_counts()"
   ]
  },
  {
   "cell_type": "code",
   "execution_count": 92,
   "id": "e2f39a1f",
   "metadata": {},
   "outputs": [
    {
     "data": {
      "text/plain": [
       "Exempt      25677\n",
       "0.0         13387\n",
       "695.0        3050\n",
       "635.43       1943\n",
       "15.43        1252\n",
       "            ...  \n",
       "2781.94         1\n",
       "2656.47         1\n",
       "3428.97         1\n",
       "2389.97         1\n",
       "11483.15        1\n",
       "Name: total_loan_costs, Length: 326681, dtype: int64"
      ]
     },
     "execution_count": 92,
     "metadata": {},
     "output_type": "execute_result"
    }
   ],
   "source": [
    "df['total_loan_costs'].value_counts()"
   ]
  },
  {
   "cell_type": "code",
   "execution_count": 93,
   "id": "5bb06ece",
   "metadata": {},
   "outputs": [],
   "source": [
    "df['total_loan_costs'] = encoder.fit_transform(df['total_loan_costs'])"
   ]
  },
  {
   "cell_type": "code",
   "execution_count": 94,
   "id": "88322f75",
   "metadata": {},
   "outputs": [
    {
     "data": {
      "text/plain": [
       "326680    25677\n",
       "0         13387\n",
       "271069     3050\n",
       "253500     1943\n",
       "32862      1252\n",
       "          ...  \n",
       "88152         1\n",
       "81317         1\n",
       "125282        1\n",
       "67592         1\n",
       "13820         1\n",
       "Name: total_loan_costs, Length: 326681, dtype: int64"
      ]
     },
     "execution_count": 94,
     "metadata": {},
     "output_type": "execute_result"
    }
   ],
   "source": [
    "df['total_loan_costs'].value_counts()"
   ]
  },
  {
   "cell_type": "code",
   "execution_count": 95,
   "id": "801f51b1",
   "metadata": {},
   "outputs": [
    {
     "name": "stdout",
     "output_type": "stream",
     "text": [
      "<class 'pandas.core.frame.DataFrame'>\n",
      "Int64Index: 615650 entries, 0 to 804665\n",
      "Data columns (total 34 columns):\n",
      " #   Column                                    Non-Null Count   Dtype  \n",
      "---  ------                                    --------------   -----  \n",
      " 0   loan_type                                 615650 non-null  int64  \n",
      " 1   loan_amount                               615650 non-null  int64  \n",
      " 2   action_taken                              615650 non-null  int64  \n",
      " 3   occupancy_type                            615650 non-null  int64  \n",
      " 4   census_tract                              615650 non-null  float64\n",
      " 5   applicant_ethnicity_1                     615650 non-null  float64\n",
      " 6   co_applicant_ethnicity_1                  615650 non-null  float64\n",
      " 7   applicant_race_1                          615650 non-null  float64\n",
      " 8   co_applicant_race_1                       615650 non-null  float64\n",
      " 9   applicant_sex                             615650 non-null  int64  \n",
      " 10  co_applicant_sex                          615650 non-null  int64  \n",
      " 11  applicant_age                             615650 non-null  int32  \n",
      " 12  co_applicant_age                          615650 non-null  int32  \n",
      " 13  income                                    615650 non-null  float64\n",
      " 14  lien_status                               615650 non-null  int64  \n",
      " 15  applicant_credit_score_type               615650 non-null  int64  \n",
      " 16  co_applicant_credit_score_type            615650 non-null  int64  \n",
      " 17  origination_charges                       615650 non-null  int32  \n",
      " 18  interest_rate                             615650 non-null  int32  \n",
      " 19  debt_to_income_ratio                      615650 non-null  int32  \n",
      " 20  combined_loan_to_value_ratio              615650 non-null  int32  \n",
      " 21  loan_term                                 615650 non-null  int32  \n",
      " 22  property_value                            615650 non-null  int32  \n",
      " 23  manufactured_home_secured_property_type   615650 non-null  int64  \n",
      " 24  total_units                               615650 non-null  int32  \n",
      " 25  aus_1                                     615650 non-null  int64  \n",
      " 26  reverse_mortgage                          615650 non-null  int64  \n",
      " 27  open_end_line_of_credit                   615650 non-null  int64  \n",
      " 28  manufactured_home_land_property_interest  615650 non-null  int64  \n",
      " 29  total_loan_costs                          615650 non-null  int32  \n",
      " 30  negative_amortization                     615650 non-null  int64  \n",
      " 31  interest_only_payment                     615650 non-null  int64  \n",
      " 32  balloon_payment                           615650 non-null  int64  \n",
      " 33  other_nonamortizing_features              615650 non-null  int64  \n",
      "dtypes: float64(6), int32(10), int64(18)\n",
      "memory usage: 140.9 MB\n"
     ]
    }
   ],
   "source": [
    "df.info()"
   ]
  },
  {
   "cell_type": "code",
   "execution_count": 98,
   "id": "abb2746d",
   "metadata": {},
   "outputs": [
    {
     "data": {
      "text/plain": [
       "60000.0      6092\n",
       "65000.0      5575\n",
       "75000.0      5508\n",
       "50000.0      5505\n",
       "62000.0      5392\n",
       "             ... \n",
       "1621000.0       1\n",
       "1413000.0       1\n",
       "4927000.0       1\n",
       "1388000.0       1\n",
       "2052000.0       1\n",
       "Name: income, Length: 2529, dtype: int64"
      ]
     },
     "execution_count": 98,
     "metadata": {},
     "output_type": "execute_result"
    }
   ],
   "source": [
    "df['income'].value_counts()"
   ]
  },
  {
   "cell_type": "code",
   "execution_count": 105,
   "id": "1a4bba2f",
   "metadata": {},
   "outputs": [
    {
     "data": {
      "text/plain": [
       "1    609255\n",
       "3      2771\n",
       "4      2287\n",
       "2       849\n",
       "5       357\n",
       "6        67\n",
       "8        49\n",
       "7        15\n",
       "Name: action_taken, dtype: int64"
      ]
     },
     "execution_count": 105,
     "metadata": {},
     "output_type": "execute_result"
    }
   ],
   "source": [
    "df['action_taken'].value_counts()"
   ]
  },
  {
   "cell_type": "code",
   "execution_count": 104,
   "id": "561ef5b0",
   "metadata": {},
   "outputs": [],
   "source": [
    "df.to_csv('processed_data_fin.csv', index=False)"
   ]
  },
  {
   "cell_type": "code",
   "execution_count": null,
   "id": "1f76db48",
   "metadata": {},
   "outputs": [],
   "source": []
  }
 ],
 "metadata": {
  "kernelspec": {
   "display_name": "Python 3 (ipykernel)",
   "language": "python",
   "name": "python3"
  },
  "language_info": {
   "codemirror_mode": {
    "name": "ipython",
    "version": 3
   },
   "file_extension": ".py",
   "mimetype": "text/x-python",
   "name": "python",
   "nbconvert_exporter": "python",
   "pygments_lexer": "ipython3",
   "version": "3.9.13"
  }
 },
 "nbformat": 4,
 "nbformat_minor": 5
}
