{
 "cells": [
  {
   "cell_type": "code",
   "execution_count": 1,
   "id": "2fee75e9-d296-41d1-971d-4c50974d97b8",
   "metadata": {
    "tags": []
   },
   "outputs": [],
   "source": [
    "import warnings\n",
    "import numpy as np\n",
    "import pandas as pd\n",
    "import seaborn as sns\n",
    "import matplotlib.pyplot as plt\n",
    "import seaborn as sns\n",
    "from sklearn.preprocessing import LabelEncoder\n",
    "from itertools import product\n",
    "import matplotlib.pyplot as plt"
   ]
  },
  {
   "cell_type": "markdown",
   "id": "530571b3-91e7-4bd7-9819-1d5ff046fa53",
   "metadata": {},
   "source": [
    "# load dataset 3"
   ]
  },
  {
   "cell_type": "code",
   "execution_count": 2,
   "id": "49c9a1f4-56ea-430a-a484-af4e5b243ca6",
   "metadata": {
    "tags": []
   },
   "outputs": [],
   "source": [
    "df = pd.read_csv('3_distribution_race_ethnicity.csv', low_memory=False)"
   ]
  },
  {
   "cell_type": "code",
   "execution_count": 3,
   "id": "3e18bac8-439a-4038-8524-ce793eea902b",
   "metadata": {
    "tags": []
   },
   "outputs": [
    {
     "name": "stdout",
     "output_type": "stream",
     "text": [
      "<class 'pandas.core.frame.DataFrame'>\n",
      "RangeIndex: 162206 entries, 0 to 162205\n",
      "Data columns (total 36 columns):\n",
      " #   Column                                    Non-Null Count   Dtype  \n",
      "---  ------                                    --------------   -----  \n",
      " 0   census_tract                              162091 non-null  float64\n",
      " 1   action_taken                              162206 non-null  int64  \n",
      " 2   loan_type                                 162206 non-null  int64  \n",
      " 3   lien_status                               162206 non-null  int64  \n",
      " 4   reverse_mortgage                          162206 non-null  int64  \n",
      " 5   open_end_line_of_credit                   162206 non-null  int64  \n",
      " 6   loan_amount                               162206 non-null  int64  \n",
      " 7   combined_loan_to_value_ratio              160924 non-null  object \n",
      " 8   interest_rate                             80924 non-null   object \n",
      " 9   total_loan_costs                          80924 non-null   object \n",
      " 10  origination_charges                       80924 non-null   object \n",
      " 11  loan_term                                 162144 non-null  object \n",
      " 12  negative_amortization                     162206 non-null  int64  \n",
      " 13  interest_only_payment                     162206 non-null  int64  \n",
      " 14  balloon_payment                           162206 non-null  int64  \n",
      " 15  other_nonamortizing_features              162206 non-null  int64  \n",
      " 16  property_value                            162033 non-null  object \n",
      " 17  occupancy_type                            162206 non-null  int64  \n",
      " 18  manufactured_home_secured_property_type   162206 non-null  int64  \n",
      " 19  manufactured_home_land_property_interest  162206 non-null  int64  \n",
      " 20  total_units                               162206 non-null  object \n",
      " 21  income                                    156484 non-null  float64\n",
      " 22  debt_to_income_ratio                      160237 non-null  object \n",
      " 23  applicant_credit_score_type               162206 non-null  int64  \n",
      " 24  co_applicant_credit_score_type            162206 non-null  int64  \n",
      " 25  applicant_sex                             162206 non-null  int64  \n",
      " 26  co_applicant_sex                          162206 non-null  int64  \n",
      " 27  applicant_age                             162206 non-null  object \n",
      " 28  co_applicant_age                          162206 non-null  object \n",
      " 29  aus_1                                     162206 non-null  int64  \n",
      " 30  applicant_race_1                          126235 non-null  float64\n",
      " 31  applicant_race_2                          1544 non-null    float64\n",
      " 32  co_applicant_race_1                       56403 non-null   float64\n",
      " 33  co_applicant_race_2                       474 non-null     float64\n",
      " 34  applicant_ethnicity_1                     141352 non-null  float64\n",
      " 35  co_applicant_ethnicity_1                  63913 non-null   float64\n",
      "dtypes: float64(8), int64(18), object(10)\n",
      "memory usage: 44.6+ MB\n"
     ]
    }
   ],
   "source": [
    "df.info()"
   ]
  },
  {
   "cell_type": "markdown",
   "id": "17a074f4-3488-4814-a1f2-c2dbff015dec",
   "metadata": {},
   "source": [
    "# debt_to_income_ratio\n",
    "Need new categories.inconsisten scale.\n",
    "\n",
    "- <20%      \n",
    "- 20% - <30%   \n",
    "- 30% - <36%   \n",
    "- (new) 36% - <40%\n",
    "- (new) 40% - < 50%\n",
    "- 50% - 60%    \n",
    "- >60%     "
   ]
  },
  {
   "cell_type": "code",
   "execution_count": 4,
   "id": "3e4c8c80-eee9-4bbc-bec2-79b81d6d3fa4",
   "metadata": {
    "tags": []
   },
   "outputs": [
    {
     "name": "stdout",
     "output_type": "stream",
     "text": [
      "debt_to_income_ratio\n",
      "20%-<30%    28923\n",
      "30%-<36%    25433\n",
      ">60%        18150\n",
      "50%-60%     13263\n",
      "<20%        11789\n",
      "44           5870\n",
      "43           5263\n",
      "42           5117\n",
      "41           5041\n",
      "39           5014\n",
      "40           4849\n",
      "38           4775\n",
      "37           4571\n",
      "36           4551\n",
      "49           3771\n",
      "48           3374\n",
      "45           3319\n",
      "47           3294\n",
      "46           3281\n",
      "Exempt        589\n",
      "Name: count, dtype: int64\n"
     ]
    }
   ],
   "source": [
    "print(df['debt_to_income_ratio'].value_counts())"
   ]
  },
  {
   "cell_type": "code",
   "execution_count": 5,
   "id": "0946f943-67e0-4203-bccc-7d8812251904",
   "metadata": {},
   "outputs": [
    {
     "data": {
      "text/plain": [
       "debt_to_income_ratio\n",
       "36%-50%     62090\n",
       "20%-<30%    28923\n",
       "30%-<36%    25433\n",
       ">60%        18150\n",
       "50%-60%     13263\n",
       "<20%        11789\n",
       "Exempt        589\n",
       "Name: count, dtype: int64"
      ]
     },
     "execution_count": 5,
     "metadata": {},
     "output_type": "execute_result"
    }
   ],
   "source": [
    "# Define a function to categorize debt to income ratio\n",
    "def categorize_ratio(ratio):\n",
    "    if ratio in ['36', '37','38','39','40', '41', '42', '43', '44', '45', '46', '47', '48', '49']:\n",
    "        return '36%-50%'\n",
    "    return ratio\n",
    "\n",
    "# Apply the categorization function to 'debt_to_income_ratio' column\n",
    "df['debt_to_income_ratio'] = df['debt_to_income_ratio'].apply(categorize_ratio)\n",
    "\n",
    "df['debt_to_income_ratio'].value_counts()"
   ]
  },
  {
   "cell_type": "markdown",
   "id": "ba852c05-c2d6-4aaa-9b2c-6483f8c9ce24",
   "metadata": {},
   "source": [
    "# applicant_age"
   ]
  },
  {
   "cell_type": "code",
   "execution_count": 6,
   "id": "6bec649d-d514-42c4-98c8-69f1889e803d",
   "metadata": {
    "tags": []
   },
   "outputs": [
    {
     "name": "stdout",
     "output_type": "stream",
     "text": [
      "applicant_age\n",
      "45-54    40882\n",
      "35-44    40464\n",
      "55-64    31296\n",
      "25-34    24940\n",
      "65-74    16258\n",
      ">74       5585\n",
      "<25       2641\n",
      "8888       140\n",
      "Name: count, dtype: int64\n"
     ]
    }
   ],
   "source": [
    "print(df['applicant_age'].value_counts())"
   ]
  },
  {
   "cell_type": "markdown",
   "id": "a51ac0fc-fa7e-43b0-90c0-4d26cab7a721",
   "metadata": {},
   "source": [
    "Remove 8888 category"
   ]
  },
  {
   "cell_type": "code",
   "execution_count": 7,
   "id": "15b58949-fc67-458e-8db9-bf1f2cd33b13",
   "metadata": {
    "tags": []
   },
   "outputs": [
    {
     "name": "stdout",
     "output_type": "stream",
     "text": [
      "applicant_age\n",
      "2    40882\n",
      "1    40464\n",
      "3    31296\n",
      "0    24940\n",
      "4    16258\n",
      "7     5585\n",
      "6     2641\n",
      "Name: count, dtype: int64\n"
     ]
    }
   ],
   "source": [
    "encoder = LabelEncoder()\n",
    "\n",
    "df['applicant_age'] = encoder.fit_transform(df['applicant_age'])\n",
    "df_encoded = df[df['applicant_age'] != 5]\n",
    "\n",
    "# Display the value counts after excluding the '8888' category\n",
    "print(df_encoded['applicant_age'].value_counts())"
   ]
  },
  {
   "cell_type": "code",
   "execution_count": 8,
   "id": "0c2cf102-9f40-4807-acfd-75c79beb6b40",
   "metadata": {
    "tags": []
   },
   "outputs": [
    {
     "name": "stdout",
     "output_type": "stream",
     "text": [
      "co_applicant_age\n",
      "9999     91841\n",
      "35-44    17590\n",
      "45-54    16865\n",
      "55-64    13271\n",
      "25-34    12215\n",
      "65-74     7193\n",
      ">74       2007\n",
      "<25       1223\n",
      "8888         1\n",
      "Name: count, dtype: int64\n"
     ]
    }
   ],
   "source": [
    "print(df['co_applicant_age'].value_counts())"
   ]
  },
  {
   "cell_type": "code",
   "execution_count": 9,
   "id": "7524a21d-959e-49fe-a328-9666b02a2704",
   "metadata": {
    "tags": []
   },
   "outputs": [
    {
     "name": "stdout",
     "output_type": "stream",
     "text": [
      "applicant_age\n",
      "2    40882\n",
      "1    40464\n",
      "3    31296\n",
      "0    24939\n",
      "4    16258\n",
      "7     5585\n",
      "6     2641\n",
      "5      140\n",
      "Name: count, dtype: int64\n"
     ]
    }
   ],
   "source": [
    "df['co_applicant_age'] = encoder.fit_transform(df['co_applicant_age'])\n",
    "df_encoded = df[df['co_applicant_age'] != 5]\n",
    "\n",
    "# Display the value counts after excluding the '8888' category\n",
    "print(df_encoded['applicant_age'].value_counts())"
   ]
  },
  {
   "cell_type": "code",
   "execution_count": 10,
   "id": "49b9a3ff-d047-430f-94dc-dd3f530db689",
   "metadata": {},
   "outputs": [
    {
     "name": "stdout",
     "output_type": "stream",
     "text": [
      "<class 'pandas.core.frame.DataFrame'>\n",
      "Index: 162205 entries, 0 to 162205\n",
      "Data columns (total 36 columns):\n",
      " #   Column                                    Non-Null Count   Dtype  \n",
      "---  ------                                    --------------   -----  \n",
      " 0   census_tract                              162090 non-null  float64\n",
      " 1   action_taken                              162205 non-null  int64  \n",
      " 2   loan_type                                 162205 non-null  int64  \n",
      " 3   lien_status                               162205 non-null  int64  \n",
      " 4   reverse_mortgage                          162205 non-null  int64  \n",
      " 5   open_end_line_of_credit                   162205 non-null  int64  \n",
      " 6   loan_amount                               162205 non-null  int64  \n",
      " 7   combined_loan_to_value_ratio              160923 non-null  object \n",
      " 8   interest_rate                             80923 non-null   object \n",
      " 9   total_loan_costs                          80923 non-null   object \n",
      " 10  origination_charges                       80923 non-null   object \n",
      " 11  loan_term                                 162143 non-null  object \n",
      " 12  negative_amortization                     162205 non-null  int64  \n",
      " 13  interest_only_payment                     162205 non-null  int64  \n",
      " 14  balloon_payment                           162205 non-null  int64  \n",
      " 15  other_nonamortizing_features              162205 non-null  int64  \n",
      " 16  property_value                            162032 non-null  object \n",
      " 17  occupancy_type                            162205 non-null  int64  \n",
      " 18  manufactured_home_secured_property_type   162205 non-null  int64  \n",
      " 19  manufactured_home_land_property_interest  162205 non-null  int64  \n",
      " 20  total_units                               162205 non-null  object \n",
      " 21  income                                    156483 non-null  float64\n",
      " 22  debt_to_income_ratio                      160236 non-null  object \n",
      " 23  applicant_credit_score_type               162205 non-null  int64  \n",
      " 24  co_applicant_credit_score_type            162205 non-null  int64  \n",
      " 25  applicant_sex                             162205 non-null  int64  \n",
      " 26  co_applicant_sex                          162205 non-null  int64  \n",
      " 27  applicant_age                             162205 non-null  int32  \n",
      " 28  co_applicant_age                          162205 non-null  int32  \n",
      " 29  aus_1                                     162205 non-null  int64  \n",
      " 30  applicant_race_1                          126234 non-null  float64\n",
      " 31  applicant_race_2                          1544 non-null    float64\n",
      " 32  co_applicant_race_1                       56403 non-null   float64\n",
      " 33  co_applicant_race_2                       474 non-null     float64\n",
      " 34  applicant_ethnicity_1                     141351 non-null  float64\n",
      " 35  co_applicant_ethnicity_1                  63913 non-null   float64\n",
      "dtypes: float64(8), int32(2), int64(18), object(8)\n",
      "memory usage: 44.6+ MB\n"
     ]
    }
   ],
   "source": [
    "df_encoded.info()"
   ]
  },
  {
   "cell_type": "code",
   "execution_count": 11,
   "id": "2a622c5a-0772-475a-a7ce-a1e273d3c54a",
   "metadata": {
    "tags": []
   },
   "outputs": [],
   "source": [
    "df_encoded.to_csv('4_debt_to_income_ratio_and_applicant_age.csv', index=False)"
   ]
  }
 ],
 "metadata": {
  "kernelspec": {
   "display_name": "Python 3 (ipykernel)",
   "language": "python",
   "name": "python3"
  },
  "language_info": {
   "codemirror_mode": {
    "name": "ipython",
    "version": 3
   },
   "file_extension": ".py",
   "mimetype": "text/x-python",
   "name": "python",
   "nbconvert_exporter": "python",
   "pygments_lexer": "ipython3",
   "version": "3.9.18"
  }
 },
 "nbformat": 4,
 "nbformat_minor": 5
}
