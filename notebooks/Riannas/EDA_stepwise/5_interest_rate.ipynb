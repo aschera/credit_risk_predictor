{
 "cells": [
  {
<<<<<<< HEAD
   "cell_type": "markdown",
   "id": "4d6256c0-9a00-4397-a763-de464226f95b",
   "metadata": {},
   "source": [
    "# Imports"
   ]
  },
  {
   "cell_type": "code",
   "execution_count": 1,
   "id": "c7991506-9be4-40c0-a2bc-c3964daa55be",
   "metadata": {
    "tags": []
   },
=======
   "cell_type": "code",
   "execution_count": 1,
   "id": "c7991506-9be4-40c0-a2bc-c3964daa55be",
   "metadata": {},
>>>>>>> rianna
   "outputs": [],
   "source": [
    "import warnings\n",
    "import numpy as np\n",
    "import pandas as pd\n",
    "import seaborn as sns\n",
    "import matplotlib.pyplot as plt\n",
    "import seaborn as sns\n",
    "from sklearn.preprocessing import LabelEncoder\n",
    "from itertools import product\n",
    "import matplotlib.pyplot as plt"
   ]
  },
  {
   "cell_type": "markdown",
   "id": "c8e37e8d-4a4f-4f25-8a70-88083787f646",
   "metadata": {},
   "source": [
    "# load dataset 4"
   ]
  },
  {
   "cell_type": "code",
   "execution_count": 2,
   "id": "6cc79679-0e9d-4ed7-86c1-2e6e274062f9",
<<<<<<< HEAD
   "metadata": {
    "tags": []
   },
=======
   "metadata": {},
>>>>>>> rianna
   "outputs": [],
   "source": [
    "df = pd.read_csv('4_debt_to_income_ratio_and_applicant_age.csv', low_memory=False)"
   ]
  },
  {
   "cell_type": "code",
   "execution_count": 3,
<<<<<<< HEAD
   "id": "b7b063e3-711c-4dc4-909c-cd2e22168479",
   "metadata": {},
   "outputs": [
    {
     "name": "stdout",
     "output_type": "stream",
     "text": [
      "Value counts for applicant_race_1 after filtering:\n",
      "applicant_race_1\n",
      "5.0    59522\n",
      "3.0     3410\n",
      "Name: count, dtype: int64\n",
      "co_applicant_race_1\n",
      "5.0    59503\n",
      "3.0     3429\n",
      "Name: count, dtype: int64\n",
      "Value counts for applicant_ethnicity_1 after filtering:\n",
      "applicant_ethnicity_1\n",
      "2.0    56532\n",
      "1.0     6400\n",
      "Name: count, dtype: int64\n",
      "co_applicant_ethnicity_1\n",
      "2.0    56346\n",
      "1.0     6586\n",
      "Name: count, dtype: int64\n"
     ]
    }
   ],
   "source": [
    "# Print the value counts for the filtered DataFrame\n",
    "print(\"Value counts for applicant_race_1 after filtering:\")\n",
    "print(df['applicant_race_1'].value_counts())\n",
    "print(df['co_applicant_race_1'].value_counts())\n",
    "\n",
    "print(\"Value counts for applicant_ethnicity_1 after filtering:\")\n",
    "print(df['applicant_ethnicity_1'].value_counts())\n",
    "print(df['co_applicant_ethnicity_1'].value_counts())"
   ]
  },
  {
   "cell_type": "code",
   "execution_count": 4,
=======
>>>>>>> rianna
   "id": "b99bcdad-9b29-4d00-968c-067f2cb88d93",
   "metadata": {
    "tags": []
   },
   "outputs": [
    {
     "name": "stdout",
     "output_type": "stream",
     "text": [
      "<class 'pandas.core.frame.DataFrame'>\n",
<<<<<<< HEAD
      "RangeIndex: 62932 entries, 0 to 62931\n",
      "Data columns (total 33 columns):\n",
      " #   Column                                    Non-Null Count  Dtype  \n",
      "---  ------                                    --------------  -----  \n",
      " 0   action_taken                              62932 non-null  int64  \n",
      " 1   loan_type                                 62932 non-null  int64  \n",
      " 2   lien_status                               62932 non-null  int64  \n",
      " 3   open_end_line_of_credit                   62932 non-null  int64  \n",
      " 4   loan_amount                               62932 non-null  int64  \n",
      " 5   combined_loan_to_value_ratio              61760 non-null  object \n",
      " 6   interest_rate                             36829 non-null  object \n",
      " 7   total_loan_costs                          36829 non-null  object \n",
      " 8   origination_charges                       36829 non-null  object \n",
      " 9   loan_term                                 62884 non-null  object \n",
      " 10  negative_amortization                     62932 non-null  int64  \n",
      " 11  interest_only_payment                     62932 non-null  int64  \n",
      " 12  balloon_payment                           62932 non-null  int64  \n",
      " 13  other_nonamortizing_features              62932 non-null  int64  \n",
      " 14  property_value                            62090 non-null  object \n",
      " 15  occupancy_type                            62932 non-null  int64  \n",
      " 16  manufactured_home_secured_property_type   62932 non-null  int64  \n",
      " 17  manufactured_home_land_property_interest  62932 non-null  int64  \n",
      " 18  total_units                               62932 non-null  object \n",
      " 19  income                                    60831 non-null  float64\n",
      " 20  debt_to_income_ratio                      62257 non-null  object \n",
      " 21  applicant_credit_score_type               62932 non-null  int64  \n",
      " 22  co_applicant_credit_score_type            62932 non-null  int64  \n",
      " 23  applicant_ethnicity_1                     62932 non-null  float64\n",
      " 24  co_applicant_ethnicity_1                  62932 non-null  float64\n",
      " 25  applicant_race_1                          62932 non-null  float64\n",
      " 26  applicant_race_2                          228 non-null    float64\n",
      " 27  co_applicant_race_1                       62932 non-null  float64\n",
      " 28  co_applicant_race_2                       236 non-null    float64\n",
      " 29  applicant_sex                             62932 non-null  int64  \n",
      " 30  co_applicant_sex                          62932 non-null  int64  \n",
      " 31  applicant_age                             62932 non-null  int64  \n",
      " 32  co_applicant_age                          62932 non-null  int64  \n",
      "dtypes: float64(7), int64(18), object(8)\n",
      "memory usage: 15.8+ MB\n"
=======
      "RangeIndex: 162205 entries, 0 to 162204\n",
      "Data columns (total 36 columns):\n",
      " #   Column                                    Non-Null Count   Dtype  \n",
      "---  ------                                    --------------   -----  \n",
      " 0   census_tract                              162090 non-null  float64\n",
      " 1   action_taken                              162205 non-null  int64  \n",
      " 2   loan_type                                 162205 non-null  int64  \n",
      " 3   lien_status                               162205 non-null  int64  \n",
      " 4   reverse_mortgage                          162205 non-null  int64  \n",
      " 5   open_end_line_of_credit                   162205 non-null  int64  \n",
      " 6   loan_amount                               162205 non-null  int64  \n",
      " 7   combined_loan_to_value_ratio              160923 non-null  object \n",
      " 8   interest_rate                             80923 non-null   object \n",
      " 9   total_loan_costs                          80923 non-null   object \n",
      " 10  origination_charges                       80923 non-null   object \n",
      " 11  loan_term                                 162143 non-null  object \n",
      " 12  negative_amortization                     162205 non-null  int64  \n",
      " 13  interest_only_payment                     162205 non-null  int64  \n",
      " 14  balloon_payment                           162205 non-null  int64  \n",
      " 15  other_nonamortizing_features              162205 non-null  int64  \n",
      " 16  property_value                            162032 non-null  object \n",
      " 17  occupancy_type                            162205 non-null  int64  \n",
      " 18  manufactured_home_secured_property_type   162205 non-null  int64  \n",
      " 19  manufactured_home_land_property_interest  162205 non-null  int64  \n",
      " 20  total_units                               162205 non-null  object \n",
      " 21  income                                    156483 non-null  float64\n",
      " 22  debt_to_income_ratio                      160236 non-null  object \n",
      " 23  applicant_credit_score_type               162205 non-null  int64  \n",
      " 24  co_applicant_credit_score_type            162205 non-null  int64  \n",
      " 25  applicant_sex                             162205 non-null  int64  \n",
      " 26  co_applicant_sex                          162205 non-null  int64  \n",
      " 27  applicant_age                             162205 non-null  int64  \n",
      " 28  co_applicant_age                          162205 non-null  int64  \n",
      " 29  aus_1                                     162205 non-null  int64  \n",
      " 30  applicant_race_1                          126234 non-null  float64\n",
      " 31  applicant_race_2                          1544 non-null    float64\n",
      " 32  co_applicant_race_1                       56403 non-null   float64\n",
      " 33  co_applicant_race_2                       474 non-null     float64\n",
      " 34  applicant_ethnicity_1                     141351 non-null  float64\n",
      " 35  co_applicant_ethnicity_1                  63913 non-null   float64\n",
      "dtypes: float64(8), int64(20), object(8)\n",
      "memory usage: 44.6+ MB\n"
>>>>>>> rianna
     ]
    }
   ],
   "source": [
    "df.info()"
   ]
  },
  {
   "cell_type": "code",
<<<<<<< HEAD
   "execution_count": 5,
=======
   "execution_count": 4,
>>>>>>> rianna
   "id": "36aba90c-0d79-4fab-acd5-efdd864e463d",
   "metadata": {
    "tags": []
   },
   "outputs": [
    {
     "data": {
      "text/plain": [
       "['combined_loan_to_value_ratio',\n",
       " 'interest_rate',\n",
       " 'total_loan_costs',\n",
       " 'origination_charges',\n",
       " 'loan_term',\n",
       " 'property_value',\n",
       " 'total_units',\n",
       " 'debt_to_income_ratio']"
      ]
     },
<<<<<<< HEAD
     "execution_count": 5,
=======
     "execution_count": 4,
>>>>>>> rianna
     "metadata": {},
     "output_type": "execute_result"
    }
   ],
   "source": [
    "categorical_columns = df.select_dtypes(include=['object']).columns.tolist()\n",
    "categorical_columns"
   ]
  },
  {
   "cell_type": "code",
<<<<<<< HEAD
   "execution_count": 6,
=======
   "execution_count": 5,
>>>>>>> rianna
   "id": "1889a337-3727-4426-b42e-edc509d7ae72",
   "metadata": {
    "tags": []
   },
   "outputs": [
    {
     "name": "stdout",
     "output_type": "stream",
     "text": [
      "    interest_rate  count\n",
<<<<<<< HEAD
      "0           3.875   4060\n",
      "1            3.75   2863\n",
      "2           3.625   2791\n",
      "3             4.0   2661\n",
      "4           4.125   2643\n",
      "..            ...    ...\n",
      "135          3.69      1\n",
      "136         3.075      1\n",
      "137          2.33      1\n",
      "138          2.59      1\n",
      "139          3.85      1\n",
      "\n",
      "[140 rows x 2 columns]\n",
      "  interest_rate  count\n",
      "0         3.875   4060\n",
      "1          3.75   2863\n",
      "2         3.625   2791\n",
      "3           4.0   2661\n",
      "4         4.125   2643\n",
      "5           3.5   2476\n",
      "6         4.375   2085\n",
      "7         3.375   1939\n",
      "8           4.5   1618\n",
      "9          4.25   1574\n"
=======
      "0           3.875   8792\n",
      "1            3.75   6298\n",
      "2           4.125   6174\n",
      "3             4.0   5864\n",
      "4           3.625   5174\n",
      "..            ...    ...\n",
      "129           6.7      1\n",
      "130          7.99      1\n",
      "131          7.35      1\n",
      "132          9.99      1\n",
      "133           6.2      1\n",
      "\n",
      "[134 rows x 2 columns]\n",
      "  interest_rate  count\n",
      "0         3.875   8792\n",
      "1          3.75   6298\n",
      "2         4.125   6174\n",
      "3           4.0   5864\n",
      "4         3.625   5174\n",
      "5         4.375   5079\n",
      "6           3.5   4752\n",
      "7           4.5   3984\n",
      "8         3.375   3867\n",
      "9          3.25   3598\n"
>>>>>>> rianna
     ]
    }
   ],
   "source": [
    "\n",
    "interest_rate_counts = df['interest_rate'].value_counts().reset_index()\n",
    "interest_rate_counts.columns = ['interest_rate', 'count']\n",
    "\n",
    "# This will give you a DataFrame with two columns: 'interest_rate' and 'count'.\n",
    "print(interest_rate_counts)\n",
    "\n",
    "# Display the top N values, e.g., top 10\n",
    "top_N = 10\n",
    "top_interest_rates = interest_rate_counts.head(top_N)\n",
    "\n",
    "# This will give you a DataFrame with the top N interest rates and their counts.\n",
    "print(top_interest_rates)"
   ]
  },
  {
   "cell_type": "code",
<<<<<<< HEAD
   "execution_count": 7,
=======
   "execution_count": 6,
>>>>>>> rianna
   "id": "f5f95bc2-46c0-4ef3-8016-a4c31a4b5e85",
   "metadata": {
    "tags": []
   },
   "outputs": [
    {
     "name": "stdout",
     "output_type": "stream",
     "text": [
      "    interest_rate  count\n",
<<<<<<< HEAD
      "32           5.75     92\n",
      "33           2.99     91\n",
      "34          4.865     63\n",
      "35          2.375     57\n",
      "36          6.125     57\n",
      "..            ...    ...\n",
      "135          3.69      1\n",
      "136         3.075      1\n",
      "137          2.33      1\n",
      "138          2.59      1\n",
      "139          3.85      1\n",
      "\n",
      "[108 rows x 2 columns]\n"
=======
      "39          6.625     89\n",
      "40            6.5     47\n",
      "41          6.375     46\n",
      "42           6.25     40\n",
      "43          2.125     38\n",
      "..            ...    ...\n",
      "129           6.7      1\n",
      "130          7.99      1\n",
      "131          7.35      1\n",
      "132          9.99      1\n",
      "133           6.2      1\n",
      "\n",
      "[95 rows x 2 columns]\n"
>>>>>>> rianna
     ]
    }
   ],
   "source": [
    "# Assuming interest_rate_counts is the DataFrame with interest rates and their counts\n",
    "interest_rate_values_less_than_10 = interest_rate_counts[interest_rate_counts['count'] < 100]\n",
    "\n",
    "# This will give you a DataFrame with the interest rates that have less than 10 entries.\n",
    "print(interest_rate_values_less_than_10)"
   ]
  },
  {
   "cell_type": "code",
<<<<<<< HEAD
   "execution_count": 8,
=======
   "execution_count": 7,
>>>>>>> rianna
   "id": "08cfb8c8-bb39-4c92-9a7f-23dbc90e635a",
   "metadata": {
    "tags": []
   },
   "outputs": [
    {
     "name": "stdout",
     "output_type": "stream",
     "text": [
      "Minimum Interest Rate: 0.0\n",
<<<<<<< HEAD
      "Maximum Interest Rate: 12.25\n",
      "Median Interest Rate: 3.875\n"
=======
      "Maximum Interest Rate: 11.0\n",
      "Median Interest Rate: 3.99\n"
>>>>>>> rianna
     ]
    }
   ],
   "source": [
    "# First, convert the 'interest_rate' column to numeric (float)\n",
    "df['interest_rate'] = pd.to_numeric(df['interest_rate'], errors='coerce')\n",
    "\n",
    "# Now, calculate the minimum, maximum, and median\n",
    "minimum_interest_rate = df['interest_rate'].min()\n",
    "maximum_interest_rate = df['interest_rate'].max()\n",
    "median_interest_rate = df['interest_rate'].median()\n",
    "\n",
    "print(\"Minimum Interest Rate:\", minimum_interest_rate)\n",
    "print(\"Maximum Interest Rate:\", maximum_interest_rate)\n",
    "print(\"Median Interest Rate:\", median_interest_rate)"
   ]
  },
  {
   "cell_type": "markdown",
   "id": "a0e78eec-6142-4be0-85db-502c10cf6c94",
   "metadata": {},
   "source": [
    "## Number of entries with a minimum interest rate"
   ]
  },
  {
   "cell_type": "code",
<<<<<<< HEAD
   "execution_count": 9,
=======
   "execution_count": 8,
>>>>>>> rianna
   "id": "49e180ce-78dc-420e-8b3b-2704819b86ef",
   "metadata": {
    "tags": []
   },
   "outputs": [
    {
     "name": "stdout",
     "output_type": "stream",
     "text": [
<<<<<<< HEAD
      "Number of entries with a minimum interest rate of 0.0: 3\n"
=======
      "Number of entries with a minimum interest rate of 0.0: 7\n"
>>>>>>> rianna
     ]
    }
   ],
   "source": [
    "count_zero_interest_rate = len(df[df['interest_rate'] == 0.0])\n",
    "print(\"Number of entries with a minimum interest rate of 0.0:\", count_zero_interest_rate)"
   ]
  },
  {
   "cell_type": "code",
<<<<<<< HEAD
   "execution_count": 10,
=======
   "execution_count": 9,
>>>>>>> rianna
   "id": "bd62117e-94e5-4a49-8eb0-e1b27a06f19c",
   "metadata": {
    "tags": []
   },
   "outputs": [
    {
     "name": "stdout",
     "output_type": "stream",
     "text": [
      "Count of each 'action_taken' category for entries with a minimum interest rate of 0.0:\n",
      "action_taken\n",
<<<<<<< HEAD
      "1    3\n",
=======
      "1    7\n",
>>>>>>> rianna
      "Name: count, dtype: int64\n"
     ]
    }
   ],
   "source": [
    "# Filter the DataFrame to select only rows with a minimum interest rate of 0.0\n",
    "zero_interest_rate_entries = df[df['interest_rate'] == 0.0]\n",
    "\n",
    "# Count the occurrences of each 'action_taken' category\n",
    "action_taken_counts = zero_interest_rate_entries['action_taken'].value_counts()\n",
    "\n",
    "# Print the counts for each 'action_taken' category\n",
    "print(\"Count of each 'action_taken' category for entries with a minimum interest rate of 0.0:\")\n",
    "print(action_taken_counts)\n"
   ]
  },
  {
   "cell_type": "markdown",
   "id": "dddc1619-9b04-4a8c-b7ec-a6d32f44a006",
   "metadata": {},
   "source": [
    "- 1 - Loan originated\n",
    "- 2 - Application approved but not accepted\n",
    "- 3 - Application denied\n",
    "- 4 - Application withdrawn by applicant\n",
    "- 5 - File closed for incompleteness\n",
    "- 6 - Purchased loan\n",
    "- 7 - Preapproval request denied\n",
    "- 8 - Preapproval request approved but not accepted"
   ]
  },
  {
   "cell_type": "markdown",
   "id": "89ab59fe-f42d-4c0f-bb34-e9e0753b5636",
   "metadata": {},
   "source": [
    "## Number of entries with a maximum interest rate"
   ]
  },
  {
   "cell_type": "code",
<<<<<<< HEAD
   "execution_count": 11,
=======
   "execution_count": 10,
>>>>>>> rianna
   "id": "cf78b5ee-1269-4201-a88a-05cfc6b7f605",
   "metadata": {
    "tags": []
   },
   "outputs": [
    {
     "name": "stdout",
     "output_type": "stream",
     "text": [
      "Number of entries with the maximum interest rate: 1\n"
     ]
    }
   ],
   "source": [
    "# Find the maximum interest rate in the DataFrame\n",
    "max_interest_rate = df['interest_rate'].max()\n",
    "\n",
    "# Filter the DataFrame to select only rows with the maximum interest rate\n",
    "max_interest_rate_entries = df[df['interest_rate'] == max_interest_rate]\n",
    "\n",
    "# Count the number of entries with the maximum interest rate\n",
    "count_max_interest_rate = len(max_interest_rate_entries)\n",
    "\n",
    "print(\"Number of entries with the maximum interest rate:\", count_max_interest_rate)\n"
   ]
  },
  {
   "cell_type": "code",
<<<<<<< HEAD
   "execution_count": 12,
=======
   "execution_count": 11,
>>>>>>> rianna
   "id": "331dbb8c-4f6f-432d-8a55-759b9470d40d",
   "metadata": {
    "tags": []
   },
   "outputs": [
    {
     "name": "stdout",
     "output_type": "stream",
     "text": [
      "Unique 'action_taken' values for entries with the maximum interest rate:\n",
      "[1]\n"
     ]
    }
   ],
   "source": [
    "# Find the maximum interest rate in the DataFrame\n",
    "max_interest_rate = df['interest_rate'].max()\n",
    "\n",
    "# Filter the DataFrame to select only rows with the maximum interest rate\n",
    "max_interest_rate_entries = df[df['interest_rate'] == max_interest_rate]\n",
    "\n",
    "# Get the unique values in the 'action_taken' column for these filtered entries\n",
    "unique_action_taken_values = max_interest_rate_entries['action_taken'].unique()\n",
    "\n",
    "# Print the unique 'action_taken' values for entries with the maximum interest rate\n",
    "print(\"Unique 'action_taken' values for entries with the maximum interest rate:\")\n",
    "print(unique_action_taken_values)\n"
   ]
  },
  {
   "cell_type": "markdown",
   "id": "dcccd433-500f-48d6-ad25-ba673399bf9c",
   "metadata": {},
   "source": [
    "## Interquartile Range (IQR) for 'interest_rate'"
   ]
  },
  {
   "cell_type": "code",
<<<<<<< HEAD
   "execution_count": 13,
=======
   "execution_count": 12,
>>>>>>> rianna
   "id": "1290a5f7-8de5-4ddd-80f5-71835ec8a0c1",
   "metadata": {
    "tags": []
   },
   "outputs": [
    {
     "name": "stdout",
     "output_type": "stream",
     "text": [
      "Interquartile Range (IQR) for 'interest_rate' across all rows: 0.75\n"
     ]
    }
   ],
   "source": [
    "# Calculate the first quartile (Q1) and third quartile (Q3) of 'interest_rate'\n",
    "Q1 = df['interest_rate'].quantile(0.25)\n",
    "Q3 = df['interest_rate'].quantile(0.75)\n",
    "\n",
    "# Calculate the interquartile range (IQR)\n",
    "IQR = Q3 - Q1\n",
    "\n",
    "print(\"Interquartile Range (IQR) for 'interest_rate' across all rows:\", IQR)"
   ]
  },
  {
   "cell_type": "markdown",
   "id": "351df03a-c2f1-4d52-8bb0-18c81a79cd99",
   "metadata": {},
   "source": [
    "## first quartile (Q1) and third quartile (Q3): 50% of the data falls within this range"
   ]
  },
  {
   "cell_type": "code",
<<<<<<< HEAD
   "execution_count": 14,
=======
   "execution_count": 13,
>>>>>>> rianna
   "id": "9ec0c584-f3c1-453c-b8e0-a490308f6830",
   "metadata": {
    "tags": []
   },
   "outputs": [
    {
     "name": "stdout",
     "output_type": "stream",
     "text": [
      "First Quartile (Q1): 3.625\n",
      "Third Quartile (Q3): 4.375\n"
     ]
    }
   ],
   "source": [
    "# Calculate the first quartile (Q1) and third quartile (Q3) for 'interest_rate'\n",
    "Q1 = df['interest_rate'].quantile(0.25)\n",
    "Q3 = df['interest_rate'].quantile(0.75)\n",
    "\n",
    "print(\"First Quartile (Q1):\", Q1)\n",
    "print(\"Third Quartile (Q3):\", Q3)\n"
   ]
  },
  {
   "cell_type": "markdown",
   "id": "13d7638f-403b-41e8-9143-5caa0beb3411",
   "metadata": {},
   "source": [
    "## the range that contains 90% of the data: 5th percentile (Q5) and the 95th percentile (Q95)"
   ]
  },
  {
   "cell_type": "code",
<<<<<<< HEAD
   "execution_count": 15,
=======
   "execution_count": 14,
>>>>>>> rianna
   "id": "98d04aa5-e2e7-4edd-a867-9491ce07cdd4",
   "metadata": {
    "tags": []
   },
   "outputs": [
    {
     "name": "stdout",
     "output_type": "stream",
     "text": [
      "5th Percentile (Q5): 3.0\n",
<<<<<<< HEAD
      "95th Percentile (Q95): 5.0\n",
      "Range for 90% of the data: 2.0\n"
=======
      "95th Percentile (Q95): 5.125\n",
      "Range for 90% of the data: 2.125\n"
>>>>>>> rianna
     ]
    }
   ],
   "source": [
    "# Calculate the 5th percentile (Q5) and 95th percentile (Q95) for 'interest_rate'\n",
    "Q5 = df['interest_rate'].quantile(0.05)\n",
    "Q95 = df['interest_rate'].quantile(0.95)\n",
    "\n",
    "print(\"5th Percentile (Q5):\", Q5)\n",
    "print(\"95th Percentile (Q95):\", Q95)\n",
    "\n",
    "# Calculate the range for 90% of the data\n",
    "data_range_90_percent = Q95 - Q5\n",
    "\n",
    "print(\"Range for 90% of the data:\", data_range_90_percent)"
   ]
  },
  {
   "cell_type": "markdown",
   "id": "e4c9e1b7-73f4-4439-9f1f-abbaed0f1b26",
   "metadata": {},
   "source": [
    "# Conclusion"
   ]
  },
  {
   "cell_type": "markdown",
   "id": "d43bb47f-e1dd-411f-9344-3582edb3ab78",
   "metadata": {},
   "source": [
    "90% of the interest rates are between 3% and 5.25%\n",
    "\n",
    "50% of the interest rates are between 3.75 and 4.5%"
   ]
  },
  {
   "cell_type": "markdown",
   "id": "380f005a-114b-4982-a2f9-908825d3e958",
   "metadata": {},
   "source": [
    "# Make new categories"
   ]
  },
  {
   "cell_type": "code",
<<<<<<< HEAD
   "execution_count": 16,
=======
   "execution_count": 15,
>>>>>>> rianna
   "id": "52282b7c-ce27-4aa4-a1ed-fc42337aa50d",
   "metadata": {
    "tags": []
   },
   "outputs": [],
   "source": [
    "## fill nan values with mode first.\n",
    "mode_value = df['interest_rate'].mode().values[0]\n",
    "df['interest_rate'].fillna(mode_value, inplace=True)"
   ]
  },
  {
   "cell_type": "code",
<<<<<<< HEAD
   "execution_count": 17,
=======
   "execution_count": 16,
>>>>>>> rianna
   "id": "8761c2cf-868a-49ab-8658-910e81961191",
   "metadata": {
    "tags": []
   },
   "outputs": [
    {
     "name": "stdout",
     "output_type": "stream",
     "text": [
      "interest_rate\n",
<<<<<<< HEAD
      "3.5-4.0     40625\n",
      "4.0-4.5      8243\n",
      "3.0-3.5      7101\n",
      "4.5-5.0      3380\n",
      "2.0-3.0      1872\n",
      "5.0-6.0      1488\n",
      "6.0-7.0       184\n",
      "7.0-8.0        15\n",
      "8.0-9.0        13\n",
      "9.9-15.0        5\n",
      "0.0-1.0         3\n",
      "1.0-2.0         3\n",
=======
      "3.5-4.0     110617\n",
      "4.0-4.5      19454\n",
      "3.0-3.5      14704\n",
      "4.5-5.0       8175\n",
      "2.0-3.0       4746\n",
      "5.0-6.0       4039\n",
      "6.0-7.0        394\n",
      "1.0-2.0         26\n",
      "7.0-8.0         23\n",
      "8.0-9.0         16\n",
      "0.0-1.0          7\n",
      "9.9-15.0         4\n",
>>>>>>> rianna
      "Name: count, dtype: int64\n"
     ]
    }
   ],
   "source": [
    "'''\n",
    "Minimum Interest Rate: 0.0\n",
    "Maximum Interest Rate: 11.0\n",
    "Median Interest Rate: 3.99\n",
    "'''\n",
    "\n",
    "# Define a function to categorize interest rates into the desired ranges\n",
    "def categorize_interest_rate(rate):\n",
    "    if rate >= 0.0 and rate <= 1.0:\n",
    "        return '0.0-1.0'\n",
    "    elif rate > 1.0 and rate <= 2.0:\n",
    "        return '1.0-2.0'\n",
    "    elif rate > 2.0 and rate <= 3.0:\n",
    "        return '2.0-3.0'\n",
    "    elif rate > 3.0 and rate <= 3.5:\n",
    "        return '3.0-3.5'\n",
    "    elif rate > 3.5 and rate <= 4.0:\n",
    "        return '3.5-4.0'\n",
    "    elif rate > 4.0 and rate <= 4.5:\n",
    "        return '4.0-4.5'\n",
    "    elif rate > 4.5 and rate <= 5.0:\n",
    "        return '4.5-5.0'\n",
    "    elif rate > 5.0 and rate <= 6.0:\n",
    "        return '5.0-6.0'\n",
    "    elif rate > 6.0 and rate <= 7.0:\n",
    "        return '6.0-7.0'\n",
    "    elif rate > 7.0 and rate <= 8.0:\n",
    "        return '7.0-8.0'\n",
    "    elif rate > 8.0 and rate <= 9.9:\n",
    "        return '8.0-9.0'\n",
    "    elif rate > 9.9 and rate <= 25.0:\n",
    "        return '9.9-15.0'\n",
    "    else:\n",
    "        return 'Other'\n",
    "\n",
    "# Apply the categorization function to 'interest_rate' column\n",
    "df['interest_rate'] = df['interest_rate'].apply(categorize_interest_rate)\n",
    "\n",
    "# Print the result\n",
    "print(df['interest_rate'].value_counts())\n"
   ]
  },
  {
   "cell_type": "code",
<<<<<<< HEAD
   "execution_count": 18,
=======
   "execution_count": 17,
>>>>>>> rianna
   "id": "df6e4147-31f0-4631-8abc-8232bdacd483",
   "metadata": {
    "tags": []
   },
   "outputs": [
    {
     "name": "stdout",
     "output_type": "stream",
     "text": [
      "Unique Interest Rates in 'Other' Category:\n",
      "[]\n"
     ]
    }
   ],
   "source": [
    "# Filter the DataFrame to show 'interest_rate' values in the 'Other' category\n",
    "other_interest_rates = df[df['interest_rate'] == 'Other']\n",
    "\n",
    "# Print the unique interest rates in the 'Other' category\n",
    "unique_other_interest_rates = other_interest_rates['interest_rate'].unique()\n",
    "\n",
    "print(\"Unique Interest Rates in 'Other' Category:\")\n",
    "print(unique_other_interest_rates)\n"
   ]
  },
  {
   "cell_type": "code",
<<<<<<< HEAD
   "execution_count": 19,
=======
   "execution_count": 18,
>>>>>>> rianna
   "id": "f2b5ac39-7e0a-4508-8610-69a8f90032d7",
   "metadata": {
    "tags": []
   },
   "outputs": [
    {
     "data": {
<<<<<<< HEAD
      "image/png": "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",
=======
      "image/png": "iVBORw0KGgoAAAANSUhEUgAAA90AAAJOCAYAAACqS2TfAAAAOXRFWHRTb2Z0d2FyZQBNYXRwbG90bGliIHZlcnNpb24zLjguMCwgaHR0cHM6Ly9tYXRwbG90bGliLm9yZy81sbWrAAAACXBIWXMAAA9hAAAPYQGoP6dpAACmi0lEQVR4nOzdd3xO9///8eeVRAaRICQRu/beNdpShNj1QdWoVVVqU4qq1WVVa9Rqa7WlQ7WqWiOlSlWVVGxK7ZGokYQgSN6/P/xyfV0SBDm5iMf9drtu7fU+7+uc13nn5MjzOstmjDECAAAAAACpzsXZBQAAAAAAkF4RugEAAAAAsAihGwAAAAAAixC6AQAAAACwCKEbAAAAAACLELoBAAAAALAIoRsAAAAAAIsQugEAAAAAsAihGwAAAAAAixC6ATyyRo0aJZvNlibLevbZZ/Xss8/a369du1Y2m03ffvttmiy/U6dOyp8/f5os635dvHhRL7/8sgIDA2Wz2dSvXz9nlwRYKnE/sHbt2jRf9vjx41WsWDElJCSk+bJvlj9/fnXq1MnSeTpznNNSWv+7cjdVq1bV66+/7uwygHSB0A3goTBv3jzZbDb7y9PTU0FBQQoJCdGUKVN04cKFVFnOyZMnNWrUKIWHh6fK/FLTw1xbSrz33nuaN2+eXn31VX3++edq3779bfvmz59fjRs3vq/l/Pzzzxo1atR9Vpl2du/erVGjRunw4cMp6p/4JVLiK0OGDMqfP7/69OmjqKio+6rB6m0qJiZGo0ePVtmyZeXt7S0vLy+VKlVKgwcP1smTJ+95fo/Kz9bZYmJiNG7cOA0ePFguLv/3p9zN28+tr+7duzux4kdX4r9N0v+F4uR+p5ctW6b69evLz89Pnp6eKlKkiAYOHKizZ88m6btw4UJNmjTJ4srvbtSoUfYvc29ez0SDBw/WtGnTFBER4YTqgPTFzdkFAMDN3nrrLRUoUEDXrl1TRESE1q5dq379+umDDz7Q0qVLVaZMGXvfN998U0OGDLmn+Z88eVKjR49W/vz5Va5cuRR/btWqVfe0nPtxp9o++eQTpx/Rups1a9aoatWqGjlypKXL+fnnnzVt2rSHPpzt3r1bo0eP1rPPPntPZynMmDFD3t7eio2N1erVqzV16lT9/fff+v333++5hvvd3lPi4MGDCg4O1tGjR/X888/rlVdekbu7u7Zv367Zs2fr+++/1z///HNP83xUfraJatSoocuXL8vd3T1Nlztnzhxdv35dbdq0STKtbt266tChQ5L2IkWKpEVplnDWOKfUwIEDNXHiRJUtW1aDBw9WtmzZ9Pfff+ujjz7SV199pdWrV6to0aL2/gsXLtTOnTsf+rOBnnvuOfn4+Gj69Ol66623nF0O8EgjdAN4qDRo0ECVKlWyvx86dKjWrFmjxo0bq2nTptqzZ4+8vLwkSW5ubnJzs3Y3dunSJWXMmNHpf+xlyJDBqctPidOnT6tEiRLOLuO+GGN05coV+7blTC1btlT27NklSd26dVPr1q319ddf66+//tKTTz7p5OpuuH79upo3b67IyEitXbtWTz/9tMP0d999V+PGjXNSdda7cuWK3N3d5eLiIk9PzzRf/ty5c9W0adNkl12kSBG9+OKLaV6TlZw1zinx5ZdfauLEiXrhhRe0YMECubq62qd16tRJtWrV0vPPP6+///7b8n+vUio2NlaZMmW6az8XFxe1bNlSn332mUaPHp1ml3MB6RGnlwN46NWuXVvDhw/XkSNH9MUXX9jbk7umOzQ0VE8//bSyZMkib29vFS1aVG+88YakG6cGVq5cWZLUuXNn+2mX8+bNk3Tjuu1SpUopLCxMNWrUUMaMGe2fvfWa7kTx8fF64403FBgYqEyZMqlp06Y6duyYQ5/bXfN48zzvVlty13THxsbqtddeU548eeTh4aGiRYvq/ffflzHGoZ/NZlOvXr20ZMkSlSpVSh4eHipZsqRWrFiR/IDf4vTp0+rSpYsCAgLk6empsmXLav78+fbpiadcHjp0SD/99JO99pSeVi1Jhw8fls1m0/vvv6+PP/5YBQsWlIeHhypXrqzNmzfb+3Xq1EnTpk2zr1fiK1FCQoImTZqkkiVLytPTUwEBAerWrZvOnz/vsLzE09tXrlypSpUqycvLS7NmzZIkRUVFqV+/fvZxLVSokMaNG5fkTIOvvvpKFStWVObMmeXj46PSpUtr8uTJkm6cqvn8889LkmrVqmWv836uSX3mmWckSf/++6+97dy5cxo4cKBKly4tb29v+fj4qEGDBtq2bZu9z922KUnatGmT6tevL19fX2XMmFE1a9bUhg0b7lrT4sWLtW3bNg0bNixJ4JYkHx8fvfvuu/b369ev1/PPP6+8efPKw8NDefLkUf/+/XX58mV7n9T62SYkJGjUqFEKCgpSxowZVatWLe3evTvZ38ODBw/q+eefV7Zs2ZQxY0ZVrVpVP/30k0OfxO37q6++0ptvvqlcuXIpY8aMiomJue21xikZ1wsXLqhfv37Knz+/PDw85O/vr7p16+rvv/++49gfOnRI27dvV3Bw8B373U7iF5e3Hg3//fff5erqqsGDB9vbEhISNHnyZJUuXVqenp7KkSOH6tevry1bttx2/re710bi6cs37xeMMXrnnXeUO3du+89q165dST6b3Dgn7q93796tWrVqKWPGjMqVK5fGjx+f5PNHjhxR06ZNlSlTJvn7+6t///5auXJlqlwnPnr0aGXNmlUff/yxQ+CWpCeffFKDBw/Wjh077NdpP/vss/rpp5905MgR+zZ+6749ISFB7777rnLnzi1PT0/VqVNHBw4cSLLslGxniT+P3bt3q23btsqaNWuyv7O3U7duXR05cuSRvewJeFg8HF+5AcBdtG/fXm+88YZWrVqlrl27Jttn165daty4scqUKaO33npLHh4eOnDggP2PkOLFi+utt97SiBEj9Morr9jDTPXq1e3zOHv2rBo0aKDWrVvrxRdfVEBAwB3revfdd2Wz2TR48GCdPn1akyZNUnBwsMLDw+/pqGlKaruZMUZNmzbVr7/+qi5duqhcuXJauXKlBg0apBMnTujDDz906P/777/ru+++U48ePZQ5c2ZNmTJFLVq00NGjR+Xn53fbui5fvqxnn31WBw4cUK9evVSgQAEtWrRInTp1UlRUlPr27avixYvr888/V//+/ZU7d2699tprkqQcOXKkeP0TLVy4UBcuXFC3bt1ks9k0fvx4NW/eXAcPHlSGDBnUrVs3nTx5UqGhofr888+TfL5bt26aN2+eOnfurD59+ujQoUP66KOPtHXrVm3YsMHhjIF9+/apTZs26tatm7p27aqiRYvq0qVLqlmzpk6cOKFu3bopb968+uOPPzR06FCdOnXKfh1maGio2rRpozp16tiP6O7Zs0cbNmxQ3759VaNGDfXp00dTpkzRG2+8oeLFi0uS/b/3IjGkZM2a1d528OBBLVmyRM8//7wKFCigyMhIzZo1SzVr1tTu3bsVFBR0121qzZo1atCggSpWrKiRI0fKxcVFc+fOVe3atbV+/fo7HlVfunSpJN3xuv2bLVq0SJcuXdKrr74qPz8//fXXX5o6daqOHz+uRYsWSVKq/WyHDh2q8ePHq0mTJgoJCdG2bdsUEhKiK1euOMwvMjJS1atX16VLl9SnTx/5+flp/vz5atq0qb799lv973//c+j/9ttvy93dXQMHDlRcXNxtz35J6bh2795d3377rXr16qUSJUro7Nmz+v3337Vnzx5VqFDhtmP5xx9/SNJt+1y5ckVnzpxJ0u7j4yN3d3cVL15cb7/9tgYNGqSWLVuqadOmio2NVadOnVSsWDGH04i7dOmiefPmqUGDBnr55Zd1/fp1rV+/Xn/++afDGUn3a8SIEXrnnXfUsGFDNWzYUH///bfq1aunq1evpujz58+fV/369dW8eXO1atVK3377rQYPHqzSpUurQYMGkm58OVm7dm2dOnVKffv2VWBgoBYuXKhff/31gevfv3+/9u3bp06dOsnHxyfZPh06dNDIkSO1bNkytW7dWsOGDVN0dLSOHz9u3097e3s7fGbs2LFycXHRwIEDFR0drfHjx6tdu3batGmTvc+9/v4+//zzKly4sN57770kX8zeScWKFSVJGzZsUPny5VP8OQC3MADwEJg7d66RZDZv3nzbPr6+vqZ8+fL29yNHjjQ378Y+/PBDI8n8999/t53H5s2bjSQzd+7cJNNq1qxpJJmZM2cmO61mzZr297/++quRZHLlymViYmLs7d98842RZCZPnmxvy5cvn+nYseNd53mn2jp27Gjy5ctnf79kyRIjybzzzjsO/Vq2bGlsNps5cOCAvU2ScXd3d2jbtm2bkWSmTp2aZFk3mzRpkpFkvvjiC3vb1atXTbVq1Yy3t7fDuufLl880atTojvO7Xd9Dhw4ZScbPz8+cO3fO3v7DDz8YSebHH3+0t/Xs2dMk98/X+vXrjSSzYMECh/YVK1Ykac+XL5+RZFasWOHQ9+233zaZMmUy//zzj0P7kCFDjKurqzl69Kgxxpi+ffsaHx8fc/369duu46JFi4wk8+uvv95hJP5P4va8b98+899//5nDhw+bOXPmGC8vL5MjRw4TGxtr73vlyhUTHx/v8PlDhw4ZDw8P89Zbb9nbbrdNJSQkmMKFC5uQkBCTkJBgb7906ZIpUKCAqVu37h1rLV++vPH19U3ReiXO91ZjxowxNpvNHDlyxN72oD/biIgI4+bmZpo1a+bQb9SoUUaSw+9hv379jCSzfv16e9uFCxdMgQIFTP78+e3jm/i7/sQTTyRZj8RpiT/jexlXX19f07Nnz2TH607efPNNI8lcuHAhyTRJt319+eWX9n7x8fHm6aefNgEBAebMmTOmZ8+exs3NzWH/u2bNGiPJ9OnTJ8lybl63W/dvt+6XEyXu4w8dOmSMMeb06dPG3d3dNGrUyGF+b7zxRpKf1a3jbMz/7a8/++wze1tcXJwJDAw0LVq0sLdNnDjRSDJLliyxt12+fNkUK1bsnn4/k5O4H/7www/v2M/Hx8dUqFDB/r5Ro0YO+/NEietZvHhxExcXZ2+fPHmykWR27NhhjLm37Szx59GmTZv7XEtj3N3dzauvvnrfnwdgDKeXA3hkeHt73/Eu5lmyZJEk/fDDD/d90zEPDw917tw5xf07dOigzJkz29+3bNlSOXPm1M8//3xfy0+pn3/+Wa6ururTp49D+2uvvSZjjJYvX+7QHhwcrIIFC9rflylTRj4+Pjp48OBdlxMYGOhww6YMGTKoT58+unjxon777bdUWJv/88ILLzgc0U08Onu3OqUbR1N9fX1Vt25dnTlzxv6qWLGivL29kxzZKlCggEJCQpLM45lnnlHWrFkd5hEcHKz4+HitW7dO0o1tLTY2VqGhoQ+6ykkULVpUOXLkUP78+fXSSy+pUKFCWr58uTJmzGjv4+HhYb9rdXx8vM6ePWu/nOJupydLUnh4uPbv36+2bdvq7Nmz9vWMjY1VnTp1tG7dujv+DsXExDhs93dz81kfsbGxOnPmjKpXry5jjLZu3XrXz6f0Z7t69Wpdv35dPXr0cPh87969k8zz559/1pNPPulwqq23t7deeeUVHT58WLt373bo37Fjx7uevXIv45olSxZt2rTpnu/yfvbsWbm5uSU5OproueeeU2hoaJJXrVq17H1cXFw0b948Xbx4UQ0aNND06dM1dOhQh6PXixcvls1mS/bGiKlxbe8vv/yiq1evqnfv3g7zu5ebi3l7eztcv+7u7q4nn3zSYX+xYsUK5cqVS02bNrW3eXp63vaMqXuR+O/R3X4XMmfOrJiYmBTPt3Pnzg5nUty6H7yf398HuXt94v4QwP3j9HIAj4yLFy/K39//ttNfeOEFffrpp3r55Zc1ZMgQ1alTR82bN1fLli0dHqtzJ7ly5bqnm6YVLlzY4b3NZlOhQoXu6Xrm+3HkyBEFBQUl+WMv8fTlI0eOOLTnzZs3yTyyZs2a5HrY5JZTuHDhJON3u+U8qFvrTAzgd6tTunGqZ3R09G23kdOnTzu8L1CgQLLz2L59+21PjU+cR48ePfTNN9+oQYMGypUrl+rVq6dWrVqpfv36d63zbhYvXiwfHx/9999/mjJlig4dOpQk7CVeazt9+nQdOnRI8fHx9ml3ulwg0f79+yXdCJK3Ex0d7fAFyM1S8oXNzY4ePaoRI0Zo6dKlSX6W0dHRKao3JT/bxO2xUKFCDtOzZcuWZF2OHDmiKlWqJJnXzdt2qVKl7O3JbS/J1SmlbFzHjx+vjh07Kk+ePKpYsaIaNmyoDh066Iknnrjrcu4kd+7cKbreu2DBgho1apQGDRqkUqVKafjw4Q7T//33XwUFBSlbtmwPVM/tJP6sbt2H5siR47bb3a1y586d5AuArFmzavv27Q7LKViwYJJ+t24j9yNx/3u3R1peuHDhjv923epu+8H7+f1NyfZ7O8YYbqIGPCBCN4BHwvHjxxUdHX3HP5S8vLy0bt06/frrr/rpp5+0YsUKff3116pdu7ZWrVqV5CY3t5tHarvdHyvx8fEpqik13G455h6u7UsLD1JnQkKC/P39tWDBgmSn3xqkk/tZJyQkqG7dunr99deTnUfiY5f8/f0VHh6ulStXavny5Vq+fLnmzp2rDh06ONxk7n7UqFHDfvfyJk2aqHTp0mrXrp3CwsLsX3689957Gj58uF566SW9/fbbypYtm1xcXNSvX78UneWR2GfChAm3fZTY7Y6kSlKxYsW0detWHTt2THny5LnjsuLj41W3bl2dO3dOgwcPVrFixZQpUyadOHFCnTp1SnG99/KztUJK9g33Mq6tWrXSM888o++//16rVq3ShAkTNG7cOH333Xf265GT4+fnp+vXr+vChQv3dLZBchIfhXjy5EmdPXtWgYGBDzQ/6c77u9Tm7P1a4hc0N4f8Wx05ckQxMTH39GSHu63X/fz+Psi/bVFRUfZ9EoD7Q+gG8EhIvLHSracD38rFxUV16tRRnTp19MEHH+i9997TsGHD9Ouvvyo4ODjVv61PPOKQyBijAwcOODxPPGvWrIqKikry2SNHjjgc1bqX2vLly6dffvklyR/ee/futU9PDfny5dP27duVkJDgcLQ7tZdzL243TgULFtQvv/yip5566r7/wCxYsKAuXryYoiOF7u7uatKkiZo0aaKEhAT16NFDs2bN0vDhw1WoUKFU2da8vb01cuRIde7cWd98841at24tSfr2229Vq1YtzZ4926H/rX8c32mspBtHrO/nLthNmjTRl19+qS+++EJDhw69Y98dO3bon3/+0fz58x3umJ3cqfkP+rNN3B4PHDjgcGTv7NmzSY6w58uXT/v27UsyjwfZtu91XHPmzKkePXqoR48eOn36tCpUqKB33333jqG7WLFikm7cxfzm/cy9mjlzpkJDQ/Xuu+9qzJgx6tatm3744QeHdVm5cqXOnTt3T0e7E4+uRkVF2S/5kZKeFZM4vvv373fYD/73338pOrMlpfLly6fdu3cnOVqb3N3A71WRIkVUpEgRLVmyRJMnT072S5DPPvtMktS4cWN724PuGx709/denDhxQlevXr2vm0AC+D9c0w3gobdmzRq9/fbbKlCggNq1a3fbfufOnUvSlngUIC4uTpLszyZNLgTfj88++8zh1MJvv/1Wp06dcvijuWDBgvrzzz8d7si7bNmyJI8Wu5faGjZsqPj4eH300UcO7R9++KFsNtsd/2i/Fw0bNlRERIS+/vpre9v169c1depUeXt7q2bNmqmynHtxu3Fq1aqV4uPj9fbbbyf5zPXr11M0rq1atdLGjRu1cuXKJNOioqJ0/fp1STdC3M1cXFzsASi1t7V27dopd+7cDs+9dnV1TXI0b9GiRTpx4oRD2+1qqFixogoWLKj3339fFy9eTLLM//777441tWzZUqVLl9a7776rjRs3Jpl+4cIFDRs2zF6r5Hj00Rhjf7xaSupN6c+2Tp06cnNz04wZMxz63Pp7It3Ytv/66y+H+mNjY/Xxxx8rf/789/XM+ZSOa3x8fJLT6v39/RUUFGTffm6nWrVqknTHx3bdzaFDhzRo0CC1aNFCb7zxht5//30tXbrUHhAlqUWLFjLGaPTo0Uk+f6cjyYmBMPH+B9KNcb31DJDg4GBlyJBBU6dOdZhf4hMCUktISIhOnDhhv+O+dOMO75988kmqzH/EiBE6f/68unfvnuRoflhYmMaNG6dSpUqpRYsW9vZMmTKl6LKK23nQ3997ERYWJun2T9IAkDIc6QbwUFm+fLn27t2r69evKzIyUmvWrFFoaKjy5cunpUuXytPT87affeutt7Ru3To1atRI+fLl0+nTpzV9+nTlzp3bfrOkggULKkuWLJo5c6YyZ86sTJkyqUqVKvd9vVu2bNn09NNPq3PnzoqMjNSkSZNUqFAhh5v0vPzyy/r2229Vv359tWrVSv/++6+++OILhxub3WttTZo0Ua1atTRs2DAdPnxYZcuW1apVq/TDDz+oX79+SeZ9v1555RXNmjVLnTp1UlhYmPLnz69vv/1WGzZs0KRJkx749Nb7kfgImz59+igkJESurq5q3bq1atasqW7dumnMmDEKDw9XvXr1lCFDBu3fv1+LFi3S5MmT1bJlyzvOe9CgQVq6dKkaN26sTp06qWLFioqNjbU/Z/fw4cPKnj27Xn75ZZ07d061a9dW7ty5deTIEU2dOlXlypWzHxEqV66cXF1dNW7cOEVHR8vDw0O1a9e+p2s7pRs3ruvbt68GDRqkFStWqH79+mrcuLHeeustde7cWdWrV9eOHTu0YMGCJNcD32mb+vTTT9WgQQOVLFlSnTt3Vq5cuXTixAn9+uuv8vHx0Y8//njHmr777jsFBwerRo0aatWqlZ566illyJBBu3bt0sKFC5U1a1a9++67KlasmAoWLKiBAwfqxIkT8vHx0eLFi5M9mvmgP9uAgAD17dtXEydOVNOmTVW/fn1t27ZNy5cvV/bs2R2OMA4ZMkRffvmlGjRooD59+ihbtmyaP3++Dh06pMWLF6f4PhA3c3FxSdG4XrhwQblz51bLli1VtmxZeXt765dfftHmzZs1ceLEOy7jiSeeUKlSpfTLL7/opZdeSjL9n3/+0RdffJGkPSAgQHXr1pUxRi+99JK8vLzsX05069ZNixcvVt++fRUcHKygoCDVqlVL7du315QpU7R//37Vr19fCQkJWr9+vWrVqqVevXolW1+9evWUN29edenSRYMGDZKrq6vmzJmjHDly6OjRo/Z+OXLk0MCBAzVmzBg1btxYDRs21NatW+0/q9TSrVs3ffTRR2rTpo369u2rnDlzasGCBfZ/Sx70qHO7du20efNmTZ48Wbt371a7du2UNWtW/f3335ozZ478/Pz07bffOjyusGLFivr66681YMAAVa5cWd7e3mrSpEmKl5nS7Sw1hIaGKm/evDwuDHhQaX/DdABIKvFxMokvd3d3ExgYaOrWrWsmT57s8GiqRLc+mmb16tXmueeeM0FBQcbd3d0EBQWZNm3aJHn80w8//GBKlChh3NzcHB6nVLNmTVOyZMlk67vdI8O+/PJLM3ToUOPv72+8vLxMo0aNHB6BlGjixIkmV65cxsPDwzz11FNmy5YtSeZ5p9pufWSYMTceb9S/f38TFBRkMmTIYAoXLmwmTJjg8AgZY248Rii5RxPd7lFmt4qMjDSdO3c22bNnN+7u7qZ06dLJPtYsNR4ZNmHChCR9JZmRI0fa31+/ft307t3b5MiRw9hstiSPJ/r4449NxYoVjZeXl8mcObMpXbq0ef31183JkydTVOuFCxfM0KFDTaFChYy7u7vJnj27qV69unn//ffN1atXjTHGfPvtt6ZevXrG39/fuLu7m7x585pu3bqZU6dOOczrk08+MU888YRxdXW96+OJErfn5B55Fx0dbXx9fe3by5UrV8xrr71mcubMaby8vMxTTz1lNm7ceE/blDHGbN261TRv3tz4+fkZDw8Pky9fPtOqVSuzevXq29Z5s/Pnz5sRI0aY0qVLm4wZMxpPT09TqlQpM3ToUIex2L17twkODjbe3t4me/bspmvXrvbH1t1cT2r8bK9fv26GDx9uAgMDjZeXl6ldu7bZs2eP8fPzM927d3eY37///mtatmxpsmTJYjw9Pc2TTz5pli1b5tAn8Xd90aJFSdY/uUdZpWRc4+LizKBBg0zZsmVN5syZTaZMmUzZsmXN9OnTUzTuH3zwgfH29k7yCLOb96G3vhK3i8THTy1evNjhs0ePHjU+Pj6mYcOGDmM5YcIEU6xYMePu7m5y5MhhGjRoYMLCwux9ktuPhIWFmSpVqth/Nz744IMkjwwz5sajy0aPHm3fjp999lmzc+fOJPO83SPDkttfJ7evPHjwoGnUqJH98XuvvfaaWbx4sZFk/vzzzzuMdMotWbLE1K1b12TNmtV4eHiYQoUKmddeey3Z3+eLFy+atm3bmixZshhJ9npvt60l7h9v3e+m5Pf3TvuVu4mPjzc5c+Y0b7755j1/FoAjmzEP2V10AAAAUlFUVJSyZs2qd955x37a+6MsOjpaTzzxhMaPH68uXbo4u5xH0qRJk9S/f38dP35cuXLlcnY5D6UlS5aobdu2+vfff5UzZ05nlwM80rimGwAApBuXL19O0pZ4nfCzzz6btsVYxNfXV6+//romTJiQoru/P+5u3SauXLmiWbNmqXDhwgTuOxg3bpx69epF4AZSAUe6AQBAujFv3jzNmzdPDRs2lLe3t37//Xd9+eWXqlevXrI3yEP616BBA+XNm1flypVTdHS0vvjiC+3atUsLFixQ27ZtnV0egMcAN1IDAADpRpkyZeTm5qbx48crJibGfnO1d955x9mlwUlCQkL06aefasGCBYqPj1eJEiX01Vdf6YUXXnB2aQAeExzpBgAAAADAIlzTDQAAAACARQjdAAAAAABYhGu601BCQoJOnjypzJkzy2azObscAAAAAMB9MsbowoULCgoKkovL7Y9nE7rT0MmTJ5UnTx5nlwEAAAAASCXHjh1T7ty5bzud0J2GMmfOLOnGD8XHx8fJ1QAAAAAA7ldMTIzy5Mljz3m3Q+hOQ4mnlPv4+BC6AQAAACAduNulw9xIDQAAAAAAixC6AQAAAACwCKEbAAAAAACLELoBAAAAALAIoRsAAAAAAIsQugEAAAAAsAihGwAAAAAAixC6cVvr1q1TkyZNFBQUJJvNpiVLljhM/+6771SvXj35+fnJZrMpPDw8yTyuXLminj17ys/PT97e3mrRooUiIyOT9Js3b57KlCkjT09P+fv7q2fPng7z6NSpk0qXLi03Nzc1a9Ysyec7deokm82W5FWyZMkHHQYAAAAAuG+EbtxWbGysypYtq2nTpt12+tNPP61x48bddh79+/fXjz/+qEWLFum3337TyZMn1bx5c4c+H3zwgYYNG6YhQ4Zo165d+uWXXxQSEmKfHh8fLy8vL/Xp00fBwcHJLmfy5Mk6deqU/XXs2DFly5ZNzz///H2sOQAAAACkDpsxxji7iMdFTEyMfH19FR0dLR8fH2eXc09sNpu+//77ZI8yHz58WAUKFNDWrVtVrlw5e3t0dLRy5MihhQsXqmXLlpKkvXv3qnjx4tq4caOqVq2q8+fPK1euXPrxxx9Vp06du9bRqVMnRUVFJTnqfqslS5aoefPmOnTokPLly3cvqwoAAAAAd5XSfMeRblgmLCxM165dczg6XaxYMeXNm1cbN26UJIWGhiohIUEnTpxQ8eLFlTt3brVq1UrHjh17oGXPnj1bwcHBBG4AAAAATkXohmUiIiLk7u6uLFmyOLQHBAQoIiJCknTw4EElJCTovffe06RJk/Ttt9/q3Llzqlu3rq5evXpfyz158qSWL1+ul19++UFXAQAAAAAeCKEbTpWQkKBr165pypQpCgkJUdWqVfXll19q//79+vXXX+9rnvPnz1eWLFmSPRUeAAAAANISoRuWCQwM1NWrVxUVFeXQHhkZqcDAQElSzpw5JUklSpSwT8+RI4eyZ8+uo0eP3vMyjTGaM2eO2rdvL3d39/svHgAAAABSAaEblqlYsaIyZMig1atX29v27duno0ePqlq1apKkp556yt6e6Ny5czpz5sx9XY/922+/6cCBA+rSpcsDVg8AAAAAD87N2QXg4XXx4kUdOHDA/v7QoUMKDw9XtmzZlDdvXp07d05Hjx7VyZMnJf1fcA4MDFRgYKB8fX3VpUsXDRgwQNmyZZOPj4969+6tatWqqWrVqpKkIkWK6LnnnlPfvn318ccfy8fHR0OHDlWxYsVUq1Yt+7J3796tq1ev6ty5c7pw4YL9meA33y1dunEDtSpVqqhUqVIWjgwAAAAApAyPDEtDj9ojw9auXesQfBN17NhR8+bN07x589S5c+ck00eOHKlRo0ZJkq5cuaLXXntNX375peLi4hQSEqLp06fbTy+XboxL//799d1338nFxUU1a9bU5MmTlSdPHnuf/Pnz68iRI0mWdfPmGx0drZw5c2ry5Mnq2rXrg6w6AAAAANxRSvMdoTsNPWqhGwAAAACQPJ7TDQAAAACAkxG6AQAAAACwCDdSg4OxW884uwTLDCmf3dklAAAAAHjMcKQbAAAAAACLELoBAAAAALAIoRsAAAAAAIsQugEAAAAAsAihGwAAAAAAixC6AQAAAACwCKEbAAAAAACLELoBAAAAALAIoRsAAAAAAIsQugEAAAAAsAihGwAAAAAAixC6AQAAAACwCKEbAAAAAACLELoBAAAAALAIoRsAAAAAAIsQugEAAAAAsAihGwAAAAAAixC6AQAAAACwCKEbAAAAAACLELoBAAAAALAIoRsAAAAAAIsQugEAAAAAsAihGwAAAAAAixC6AQAAAACwCKEbAAAAAACLELoBAAAAALAIoRsAAAAAAIsQugEAAAAAsAihGwAAAAAAixC6AQAAAACwCKEbAAAAAACLELoBAAAAALAIoRsAAAAAAIsQugEAAAAAsAihGwAAAAAAixC6AQAAAACwCKEbAAAAAACLODV0r1u3Tk2aNFFQUJBsNpuWLFniMN0YoxEjRihnzpzy8vJScHCw9u/f79Dn3LlzateunXx8fJQlSxZ16dJFFy9edOizfft2PfPMM/L09FSePHk0fvz4JLUsWrRIxYoVk6enp0qXLq2ff/75nmsBAAAAAOBmTg3dsbGxKlu2rKZNm5bs9PHjx2vKlCmaOXOmNm3apEyZMikkJERXrlyx92nXrp127dql0NBQLVu2TOvWrdMrr7xinx4TE6N69eopX758CgsL04QJEzRq1Ch9/PHH9j5//PGH2rRpoy5dumjr1q1q1qyZmjVrpp07d95TLQAAAAAA3MxmjDHOLkKSbDabvv/+ezVr1kzSjSPLQUFBeu211zRw4EBJUnR0tAICAjRv3jy1bt1ae/bsUYkSJbR582ZVqlRJkrRixQo1bNhQx48fV1BQkGbMmKFhw4YpIiJC7u7ukqQhQ4ZoyZIl2rt3ryTphRdeUGxsrJYtW2avp2rVqipXrpxmzpyZolpSIiYmRr6+voqOjpaPj0+qjFtqG7v1jLNLsMyQ8tmdXQIAAACAdCKl+e6hvab70KFDioiIUHBwsL3N19dXVapU0caNGyVJGzduVJYsWeyBW5KCg4Pl4uKiTZs22fvUqFHDHrglKSQkRPv27dP58+ftfW5eTmKfxOWkpJbkxMXFKSYmxuEFAAAAAHh8PLShOyIiQpIUEBDg0B4QEGCfFhERIX9/f4fpbm5uypYtm0Of5OZx8zJu1+fm6XerJTljxoyRr6+v/ZUnT567rDUAAAAAID15aEN3ejB06FBFR0fbX8eOHXN2SQAAAACANPTQhu7AwEBJUmRkpEN7ZGSkfVpgYKBOnz7tMP369es6d+6cQ5/k5nHzMm7X5+bpd6slOR4eHvLx8XF4AQAAAAAeHw9t6C5QoIACAwO1evVqe1tMTIw2bdqkatWqSZKqVaumqKgohYWF2fusWbNGCQkJqlKlir3PunXrdO3aNXuf0NBQFS1aVFmzZrX3uXk5iX0Sl5OSWgAAAAAAuJVTQ/fFixcVHh6u8PBwSTduWBYeHq6jR4/KZrOpX79+euedd7R06VLt2LFDHTp0UFBQkP0O58WLF1f9+vXVtWtX/fXXX9qwYYN69eql1q1bKygoSJLUtm1bubu7q0uXLtq1a5e+/vprTZ48WQMGDLDX0bdvX61YsUITJ07U3r17NWrUKG3ZskW9evWSpBTVAgAAAADArdycufAtW7aoVq1a9veJQbhjx46aN2+eXn/9dcXGxuqVV15RVFSUnn76aa1YsUKenp72zyxYsEC9evVSnTp15OLiohYtWmjKlCn26b6+vlq1apV69uypihUrKnv27BoxYoTDs7yrV6+uhQsX6s0339Qbb7yhwoULa8mSJSpVqpS9T0pqAQAAAADgZg/Nc7ofBzyn27l4TjcAAACA1PLIP6cbAAAAAIBHHaEbAAAAAACLELoBAAAAALAIoRsAAAAAAIsQugEAAAAAsAihGwAAAAAAixC6AQAAAACwCKEbAAAAAACLELoBAAAAALAIoRsAAAAAAIsQugEAAAAAsAihGwAAAAAAixC6AQAAAACwCKEbAAAAAACLELoBAAAAALAIoRsAAAAAAIsQugEAAAAAsAihGwAAAAAAixC6AQAAAACwCKEbAAAAAACLELoBAAAAALAIoRsAAAAAAIsQugEAAAAAsAihGwAAAAAAixC6AQAAAACwCKEbAAAAAACLELoBAAAAALAIoRsAAAAAAIsQugEAAAAAsAihGwAAAAAAixC6AQAAAACwCKEbAAAAAACLELoBAAAAALAIoRsAAAAAAIsQugEAAAAAsAihGwAAAAAAixC6AQAAAACwCKEbAAAAAACLELoBAAAAALAIoRsAAAAAAIsQugEAAAAAsAihGwAAAAAAixC6AQAAAACwCKEbAAAAAACLELoBAAAAALAIoRsAAAAAAIsQugEAAAAAsAihGwAAAAAAixC6AQAAAACwCKEbAAAAAACLELoBAAAAALAIoRsAAAAAAIsQugEAAAAAsAihGwAAAAAAixC6AQAAAACwCKEbAAAAAACLELoBAAAAALAIoRsAAAAAAIsQugEAAAAAsAihGwAAAAAAixC6AQAAAACwCKEbAAAAAACLELoBAAAAALAIoRsAAAAAAIsQugEAAAAAsAihGwAAAAAAixC6AQAAAACwCKEbAAAAAACLELoBAAAAALDIQx264+PjNXz4cBUoUEBeXl4qWLCg3n77bRlj7H2MMRoxYoRy5swpLy8vBQcHa//+/Q7zOXfunNq1aycfHx9lyZJFXbp00cWLFx36bN++Xc8884w8PT2VJ08ejR8/Pkk9ixYtUrFixeTp6anSpUvr559/tmbFAQAAAADpwkMduseNG6cZM2boo48+0p49ezRu3DiNHz9eU6dOtfcZP368pkyZopkzZ2rTpk3KlCmTQkJCdOXKFXufdu3aadeuXQoNDdWyZcu0bt06vfLKK/bpMTExqlevnvLly6ewsDBNmDBBo0aN0scff2zv88cff6hNmzbq0qWLtm7dqmbNmqlZs2bauXNn2gwGAAAAAOCRYzM3HzZ+yDRu3FgBAQGaPXu2va1Fixby8vLSF198IWOMgoKC9Nprr2ngwIGSpOjoaAUEBGjevHlq3bq19uzZoxIlSmjz5s2qVKmSJGnFihVq2LChjh8/rqCgIM2YMUPDhg1TRESE3N3dJUlDhgzRkiVLtHfvXknSCy+8oNjYWC1btsxeS9WqVVWuXDnNnDkzResTExMjX19fRUdHy8fHJ1XGKLWN3XrG2SVYZkj57M4uAQAAAEA6kdJ891Af6a5evbpWr16tf/75R5K0bds2/f7772rQoIEk6dChQ4qIiFBwcLD9M76+vqpSpYo2btwoSdq4caOyZMliD9ySFBwcLBcXF23atMnep0aNGvbALUkhISHat2+fzp8/b+9z83IS+yQuBwAAAACAW7k5u4A7GTJkiGJiYlSsWDG5uroqPj5e7777rtq1aydJioiIkCQFBAQ4fC4gIMA+LSIiQv7+/g7T3dzclC1bNoc+BQoUSDKPxGlZs2ZVRETEHZeTnLi4OMXFxdnfx8TEpHjdAQAAAACPvof6SPc333yjBQsWaOHChfr77781f/58vf/++5o/f76zS0uRMWPGyNfX1/7KkyePs0sCAAAAAKShhzp0Dxo0SEOGDFHr1q1VunRptW/fXv3799eYMWMkSYGBgZKkyMhIh89FRkbapwUGBur06dMO069fv65z58459EluHjcv43Z9EqcnZ+jQoYqOjra/jh07dk/rDwAAAAB4tD3UofvSpUtycXEs0dXVVQkJCZKkAgUKKDAwUKtXr7ZPj4mJ0aZNm1StWjVJUrVq1RQVFaWwsDB7nzVr1ighIUFVqlSx91m3bp2uXbtm7xMaGqqiRYsqa9as9j43LyexT+JykuPh4SEfHx+HFwAAAADg8fFQh+4mTZro3Xff1U8//aTDhw/r+++/1wcffKD//e9/kiSbzaZ+/frpnXfe0dKlS7Vjxw516NBBQUFBatasmSSpePHiql+/vrp27aq//vpLGzZsUK9evdS6dWsFBQVJktq2bSt3d3d16dJFu3bt0tdff63JkydrwIAB9lr69u2rFStWaOLEidq7d69GjRqlLVu2qFevXmk+LgAAAACAR8NDfSO1qVOnavjw4erRo4dOnz6toKAgdevWTSNGjLD3ef311xUbG6tXXnlFUVFRevrpp7VixQp5enra+yxYsEC9evVSnTp15OLiohYtWmjKlCn26b6+vlq1apV69uypihUrKnv27BoxYoTDs7yrV6+uhQsX6s0339Qbb7yhwoULa8mSJSpVqlTaDAYAAAAA4JHzUD+nO73hOd3OxXO6AQAAAKSWdPGcbgAAAAAAHmWEbgAAAAAALELoBgAAAADAIoRuAAAAAAAsQugGAAAAAMAihG4AAAAAACxC6AYAAAAAwCKEbgAAAAAALELoBgAAAADAIoRuAAAAAAAsQugGAAAAAMAihG4AAAAAACxC6AYAAAAAwCKEbgAAAAAALELoBgAAAADAIoRuAAAAAAAsQugGAAAAAMAihG4AAAAAACxC6AYAAAAAwCKEbgAAAAAALELoBgAAAADAIoRuAAAAAAAsQugGAAAAAMAihG4AAAAAACxC6AYAAAAAwCKEbgAAAAAALELoBgAAAADAIoRuAAAAAAAsQugGAAAAAMAihG4AAAAAACxC6AYAAAAAwCKEbgAAAAAALELoBgAAAADAIoRuAAAAAAAsQugGAAAAAMAihG4AAAAAACxC6AYAAAAAwCKEbgAAAAAALELoBgAAAADAIoRuAAAAAAAsQugGAAAAAMAihG4AAAAAACxC6AYAAAAAwCKEbgAAAAAALELoBgAAAADAIoRuAAAAAAAsQugGAAAAAMAihG4AAAAAACxC6AYAAAAAwCKEbgAAAAAALELoBgAAAADAIoRuAAAAAAAsQugGAAAAAMAihG4AAAAAACxC6AYAAAAAwCKEbgAAAAAALELoBgAAAADAIoRuAAAAAAAsQugGAAAAAMAihG4AAAAAACxC6AYAAAAAwCKEbgAAAAAALELoBgAAAADAIoRuAAAAAAAscl+h+4knntDZs2eTtEdFRemJJ5544KIAAAAAAEgP7it0Hz58WPHx8Una4+LidOLEiQcuCgAAAACA9MDtXjovXbrU/v8rV66Ur6+v/X18fLxWr16t/Pnzp1pxAAAAAAA8yu4pdDdr1kySZLPZ1LFjR4dpGTJkUP78+TVx4sRUKw4AAAAAgEfZPYXuhIQESVKBAgW0efNmZc+e3ZKiAAAAAABID+4pdCc6dOhQatcBAAAAAEC6c9+PDFu9erXeeOMNvfzyy3rppZccXqnpxIkTevHFF+Xn5ycvLy+VLl1aW7ZssU83xmjEiBHKmTOnvLy8FBwcrP379zvM49y5c2rXrp18fHyUJUsWdenSRRcvXnTos337dj3zzDPy9PRUnjx5NH78+CS1LFq0SMWKFZOnp6dKly6tn3/+OVXXFQAAAACQvtxX6B49erTq1aun1atX68yZMzp//rzDK7WcP39eTz31lDJkyKDly5dr9+7dmjhxorJmzWrvM378eE2ZMkUzZ87Upk2blClTJoWEhOjKlSv2Pu3atdOuXbsUGhqqZcuWad26dXrllVfs02NiYlSvXj3ly5dPYWFhmjBhgkaNGqWPP/7Y3uePP/5QmzZt1KVLF23dulXNmjVTs2bNtHPnzlRbXwAAAABA+mIzxph7/VDOnDk1fvx4tW/f3oqa7IYMGaINGzZo/fr1yU43xigoKEivvfaaBg4cKEmKjo5WQECA5s2bp9atW2vPnj0qUaKENm/erEqVKkmSVqxYoYYNG+r48eMKCgrSjBkzNGzYMEVERMjd3d2+7CVLlmjv3r2SpBdeeEGxsbFatmyZfflVq1ZVuXLlNHPmzBStT0xMjHx9fRUdHS0fH5/7Hhcrjd16xtklWGZIee5BAAAAACB1pDTf3deR7qtXr6p69er3XVxKLV26VJUqVdLzzz8vf39/lS9fXp988ol9+qFDhxQREaHg4GB7m6+vr6pUqaKNGzdKkjZu3KgsWbLYA7ckBQcHy8XFRZs2bbL3qVGjhj1wS1JISIj27dtnP3K/ceNGh+Uk9klcTnLi4uIUExPj8AIAAAAAPD7uK3S//PLLWrhwYWrXksTBgwc1Y8YMFS5cWCtXrtSrr76qPn36aP78+ZKkiIgISVJAQIDD5wICAuzTIiIi5O/v7zDdzc1N2bJlc+iT3DxuXsbt+iROT86YMWPk6+trf+XJk+ee1h8AAAAA8Gi7r7uXX7lyRR9//LF++eUXlSlTRhkyZHCY/sEHH6RKcQkJCapUqZLee+89SVL58uW1c+dOzZw5M8lzwh9GQ4cO1YABA+zvY2JiCN4AAAAA8Bi5r9C9fft2lStXTpKS3EjMZrM9cFGJcubMqRIlSji0FS9eXIsXL5YkBQYGSpIiIyOVM2dOe5/IyEh7fYGBgTp9+rTDPK5fv65z587ZPx8YGKjIyEiHPonv79YncXpyPDw85OHhkaJ1BQAAAACkP/cVun/99dfUriNZTz31lPbt2+fQ9s8//yhfvnySpAIFCigwMFCrV6+2h+yYmBht2rRJr776qiSpWrVqioqKUlhYmCpWrChJWrNmjRISElSlShV7n2HDhunatWv2o/ahoaEqWrSo/U7p1apV0+rVq9WvXz97LaGhoapWrZpl6w8AAAAAeLTd93O600L//v31559/6r333tOBAwe0cOFCffzxx+rZs6ekG0fV+/Xrp3feeUdLly7Vjh071KFDBwUFBalZs2aSbhwZr1+/vrp27aq//vpLGzZsUK9evdS6dWsFBQVJktq2bSt3d3d16dJFu3bt0tdff63Jkyc7nBret29frVixQhMnTtTevXs1atQobdmyRb169UrzcQEAAAAAPBru65FhtWrVuuNp5GvWrHmgom62bNkyDR06VPv371eBAgU0YMAAde3a1T7dGKORI0fq448/VlRUlJ5++mlNnz5dRYoUsfc5d+6cevXqpR9//FEuLi5q0aKFpkyZIm9vb3uf7du3q2fPntq8ebOyZ8+u3r17a/DgwQ61LFq0SG+++aYOHz6swoULa/z48WrYsGGK14VHhjkXjwwDAAAAkFpSmu/uK3T379/f4f21a9cUHh6unTt3qmPHjpo8efK9V/wYIHQ7F6EbAAAAQGpJab67r2u6P/zww2TbR40apYsXL97PLAEAAAAASHdS9ZruF198UXPmzEnNWQIAAAAA8MhK1dC9ceNGeXp6puYsAQAAAAB4ZN3X6eXNmzd3eG+M0alTp7RlyxYNHz48VQoDAAAAAOBRd1+h29fX1+G9i4uLihYtqrfeekv16tVLlcIAAAAAAHjU3Vfonjt3bmrXAQAAAABAunNfoTtRWFiY9uzZI0kqWbKkypcvnypFAQAAAACQHtxX6D59+rRat26ttWvXKkuWLJKkqKgo1apVS1999ZVy5MiRmjUCAAAAAPBIuq+7l/fu3VsXLlzQrl27dO7cOZ07d047d+5UTEyM+vTpk9o1AgAAAADwSLqvI90rVqzQL7/8ouLFi9vbSpQooWnTpnEjNQAAAAAA/r/7OtKdkJCgDBkyJGnPkCGDEhISHrgoAAAAAADSg/sK3bVr11bfvn118uRJe9uJEyfUv39/1alTJ9WKAwAAAADgUXZfofujjz5STEyM8ufPr4IFC6pgwYIqUKCAYmJiNHXq1NSuEQAAAACAR9J9XdOdJ08e/f333/rll1+0d+9eSVLx4sUVHBycqsUBAAAAAPAou6cj3WvWrFGJEiUUExMjm82munXrqnfv3urdu7cqV66skiVLav369VbVCgAAAADAI+WeQvekSZPUtWtX+fj4JJnm6+urbt266YMPPki14gAAAAAAeJTdU+jetm2b6tevf9vp9erVU1hY2AMXBQAAAABAenBPoTsyMjLZR4UlcnNz03///ffARQEAAAAAkB7cU+jOlSuXdu7cedvp27dvV86cOR+4KAAAAAAA0oN7Ct0NGzbU8OHDdeXKlSTTLl++rJEjR6px48apVhwAAAAAAI+ye3pk2JtvvqnvvvtORYoUUa9evVS0aFFJ0t69ezVt2jTFx8dr2LBhlhQKAAAAAMCj5p5Cd0BAgP744w+9+uqrGjp0qIwxkiSbzaaQkBBNmzZNAQEBlhQKAAAAAMCj5p5CtyTly5dPP//8s86fP68DBw7IGKPChQsra9asVtQHAAAAAMAj655Dd6KsWbOqcuXKqVkLAAAAAADpyj3dSA0AAAAAAKQcoRsAAAAAAIsQugEAAAAAsAihGwAAAAAAixC6AQAAAACwCKEbAAAAAACLELoBAAAAALAIoRsAAAAAAIsQugEAAAAAsAihGwAAAAAAixC6AQAAAACwCKEbAAAAAACLELoBAAAAALAIoRsAAAAAAIsQugEAAAAAsAihGwAAAAAAixC6AQAAAACwCKEbAAAAAACLELoBAAAAALAIoRsAAAAAAIsQugEAAAAAsAihGwAAAAAAixC6AQAAAACwCKEbAAAAAACLELoBAAAAALAIoRsAAAAAAIsQugEAAAAAsAihGwAAAAAAixC6AQAAAACwCKEbAAAAAACLELoBAAAAALAIoRsAAAAAAIsQugEAAAAAsAihGwAAAAAAixC6AQAAAACwCKEbAAAAAACLELoBAAAAALAIoRsAAAAAAIsQugEAAAAAsAihGwAAAAAAixC6AQAAAACwCKEbAAAAAACLELoBAAAAALAIoRsAAAAAAIsQugEAAAAAsMgjFbrHjh0rm82mfv362duuXLminj17ys/PT97e3mrRooUiIyMdPnf06FE1atRIGTNmlL+/vwYNGqTr16879Fm7dq0qVKggDw8PFSpUSPPmzUuy/GnTpil//vzy9PRUlSpV9Ndff1mxmgAAAACAdOKRCd2bN2/WrFmzVKZMGYf2/v3768cff9SiRYv022+/6eTJk2revLl9enx8vBo1aqSrV6/qjz/+0Pz58zVv3jyNGDHC3ufQoUNq1KiRatWqpfDwcPXr108vv/yyVq5cae/z9ddfa8CAARo5cqT+/vtvlS1bViEhITp9+rT1Kw8AAAAAeCTZjDHG2UXczcWLF1WhQgVNnz5d77zzjsqVK6dJkyYpOjpaOXLk0MKFC9WyZUtJ0t69e1W8eHFt3LhRVatW1fLly9W4cWOdPHlSAQEBkqSZM2dq8ODB+u+//+Tu7q7Bgwfrp59+0s6dO+3LbN26taKiorRixQpJUpUqVVS5cmV99NFHkqSEhATlyZNHvXv31pAhQ1K0HjExMfL19VV0dLR8fHxSc4hSzditZ5xdgmWGlM/u7BIAAAAApBMpzXePxJHunj17qlGjRgoODnZoDwsL07Vr1xzaixUrprx582rjxo2SpI0bN6p06dL2wC1JISEhiomJ0a5du+x9bp13SEiIfR5Xr15VWFiYQx8XFxcFBwfb+wAAAAAAcCs3ZxdwN1999ZX+/vtvbd68Ocm0iIgIubu7K0uWLA7tAQEBioiIsPe5OXAnTk+cdqc+MTExunz5ss6fP6/4+Phk++zdu/e2tcfFxSkuLs7+PiYm5i5rCwAAAABITx7qI93Hjh1T3759tWDBAnl6ejq7nHs2ZswY+fr62l958uRxdkkAAAAAgDT0UIfusLAwnT59WhUqVJCbm5vc3Nz022+/acqUKXJzc1NAQICuXr2qqKgoh89FRkYqMDBQkhQYGJjkbuaJ7+/Wx8fHR15eXsqePbtcXV2T7ZM4j+QMHTpU0dHR9texY8fuaxwAAAAAAI+mhzp016lTRzt27FB4eLj9ValSJbVr187+/xkyZNDq1avtn9m3b5+OHj2qatWqSZKqVaumHTt2ONxlPDQ0VD4+PipRooS9z83zSOyTOA93d3dVrFjRoU9CQoJWr15t75McDw8P+fj4OLwAAAAAAI+Ph/qa7syZM6tUqVIObZkyZZKfn5+9vUuXLhowYICyZcsmHx8f9e7dW9WqVVPVqlUlSfXq1VOJEiXUvn17jR8/XhEREXrzzTfVs2dPeXh4SJK6d++ujz76SK+//rpeeuklrVmzRt98841++ukn+3IHDBigjh07qlKlSnryySc1adIkxcbGqnPnzmk0GgAAAACAR81DHbpT4sMPP5SLi4tatGihuLg4hYSEaPr06fbprq6uWrZsmV599VVVq1ZNmTJlUseOHfXWW2/Z+xQoUEA//fST+vfvr8mTJyt37tz69NNPFRISYu/zwgsv6L///tOIESMUERGhcuXKacWKFUlurgYAAAAAQKJH4jnd6QXP6XYuntMNAAAAILWkq+d0AwAAAADwKCJ0AwAAAABgEUI3AAAAAAAWIXQDAAAAAGARQjcAAAAAABYhdAMAAAAAYBFCNwAAAAAAFiF0AwAAAABgEUI3AAAAAAAWIXQDAAAAAGARQjcAAAAAABYhdAMAAAAAYBFCNwAAAAAAFiF0AwAAAABgEUI3AAAAAAAWIXQDAAAAAGARQjcAAAAAABYhdAMAAAAAYBFCNwAAAAAAFiF0AwAAAABgEUI3AAAAAAAWIXQDAAAAAGARQjcAAAAAABYhdAMAAAAAYBFCNwAAAAAAFiF0AwAAAABgEUI3AAAAAAAWIXQDAAAAAGARQjcAAAAAABYhdAMAAAAAYBFCNwAAAAAAFiF0AwAAAABgEUI3AAAAAAAWIXQDAAAAAGARQjcAAAAAABYhdAMAAAAAYBFCNwAAAAAAFiF0AwAAAABgEUI3AAAAAAAWIXQDAAAAAGARQjcAAAAAABYhdAMAAAAAYBFCNwAAAAAAFiF0AwAAAABgEUI3AAAAAAAWIXQDAAAAAGARQjcAAAAAABYhdAMAAAAAYBFCNwAAAAAAFiF0AwAAAABgEUI3AAAAAAAWIXQDAAAAAGARQjcAAAAAABYhdAMAAAAAYBFCNwAAAAAAFiF0AwAAAABgEUI3AAAAAAAWIXQDAAAAAGARQjcAAAAAABYhdAMAAAAAYBFCNwAAAAAAFiF0AwAAAABgEUI3AAAAAAAWIXQDAAAAAGARQjfwANatW6cmTZooKChINptNS5YscZgeGRmpTp06KSgoSBkzZlT9+vW1f//+ZOdljFGDBg2SnY/NZkvy+uqrr5Kdz4YNG+Tm5qZy5cqlwhoCAAAAeBCEbuABxMbGqmzZspo2bVqSacYYNWvWTAcPHtQPP/ygrVu3Kl++fAoODlZsbGyS/pMmTZLNZrvtsubOnatTp07ZX82aNUvSJyoqSh06dFCdOnUeaL0AAAAApA43ZxcAPMoaNGigBg0aJDtt//79+vPPP7Vz506VLFlSkjRjxgwFBgbqyy+/1Msvv2zvGx4erokTJ2rLli3KmTNnsvPLkiWLAgMD71hP9+7d1bZtW7m6uiY5Wg4AAAAg7XGkG7BIXFycJMnT09Pe5uLiIg8PD/3+++/2tkuXLqlt27aaNm3aHUN1z549lT17dj355JOaM2eOjDEO0+fOnauDBw9q5MiRqbwmAAAAAO4XR7oBixQrVkx58+bV0KFDNWvWLGXKlEkffvihjh8/rlOnTtn79e/fX9WrV9dzzz1323m99dZbql27tjJmzKhVq1apR48eunjxovr06SPpxlH1IUOGaP369XJz49caAAAAeFjw1zlgkQwZMui7775Tly5dlC1bNrm6uio4OFgNGjSwH6VeunSp1qxZo61bt95xXsOHD7f/f/ny5RUbG6sJEyaoT58+io+PV9u2bTV69GgVKVLE0nUCAAAAcG8e6tPLx4wZo8qVKytz5szy9/dXs2bNtG/fPoc+V65cUc+ePeXn5ydvb2+1aNFCkZGRDn2OHj2qRo0aKWPGjPL399egQYN0/fp1hz5r165VhQoV5OHhoUKFCmnevHlJ6pk2bZry588vT09PValSRX/99VeqrzPSl4oVKyo8PFxRUVE6deqUVqxYobNnz+qJJ56QJK1Zs0b//vuvsmTJIjc3N/tR6hYtWujZZ5+97XyrVKmi48ePKy4uThcuXNCWLVvUq1cv+zzeeustbdu2TW5ublqzZk1arCoAAACAZDzUofu3335Tz5499eeffyo0NFTXrl1TvXr1HO783L9/f/34449atGiRfvvtN508eVLNmze3T4+Pj1ejRo109epV/fHHH5o/f77mzZunESNG2PscOnRIjRo1Uq1atRQeHq5+/frp5Zdf1sqVK+19vv76aw0YMEAjR47U33//rbJlyyokJESnT59Om8HAI83X11c5cuTQ/v37tWXLFvup5EOGDNH27dsVHh5uf0nShx9+qLlz5952fuHh4cqaNas8PDzk4+OjHTt2OMyje/fuKlq0qMLDw1WlSpW0WEUAAAAAybCZW+/G9BD777//5O/vr99++001atRQdHS0cuTIoYULF6ply5aSpL1796p48eLauHGjqlatquXLl6tx48Y6efKkAgICJEkzZ87U4MGD9d9//8nd3V2DBw/WTz/9pJ07d9qX1bp1a0VFRWnFihWSbhxZrFy5sj766CNJUkJCgvLkyaPevXtryJAhKao/JiZGvr6+io6Olo+PT2oOTaoZu/WMs0uwzJDy2VN9nhcvXtSBAwck3Tjt+4MPPlCtWrWULVs25c2bV4sWLVKOHDmUN29e7dixQ3379lXFihW1ePHi287TZrPp+++/tz8S7Mcff1RkZKSqVq0qT09PhYaGauDAgRo4cKBGjx6d7DxGjRqlJUuW2EM8AAAAgNSV0nz3UB/pvlV0dLQkKVu2bJKksLAwXbt2TcHBwfY+iTev2rhxoyRp48aNKl26tD1wS1JISIhiYmK0a9cue5+b55HYJ3EeV69eVVhYmEMfFxcXBQcH2/skJy4uTjExMQ4vpC9btmxR+fLlVb58eUnSgAEDVL58efuZFKdOnVL79u1VrFgx9enTR+3bt9eXX355T8vIkCGDpk2bpmrVqqlcuXKaNWuWPvjgA+5SDgAAADwCHpkbqSUkJKhfv3566qmnVKpUKUlSRESE3N3dlSVLFoe+AQEBioiIsPe5OXAnTk+cdqc+MTExunz5ss6fP6/4+Phk++zdu/e2NY8ZM+a2RyKRPjz77LNJHt11sz59+tjvMJ5St86vfv36ql+//j3NY9SoURo1atQ9fQYAAABA6ntkjnT37NlTO3fu1FdffeXsUlJs6NChio6Otr+OHTvm7JIAAAAAAGnokTjS3atXLy1btkzr1q1T7ty57e2BgYG6evWqoqKiHI52R0ZGKjAw0N7n1ruMJ97d/OY+t97xPDIyUj4+PvLy8pKrq6tcXV2T7ZM4j+R4eHjIw8Pj3lcYAAAAAJAuPNSh2xij3r176/vvv9fatWtVoEABh+kVK1ZUhgwZtHr1arVo0UKStG/fPh09elTVqlWTJFWrVk3vvvuuTp8+LX9/f0lSaGiofHx8VKJECXufn3/+2WHeoaGh9nm4u7urYsWKWr16tf3mVgkJCVq9erV69epl2frj4ZBeby5nxY3lAAAAADh6qEN3z549tXDhQv3www/KnDmz/RpsX19feXl5ydfXV126dNGAAQOULVs2+fj4qHfv3qpWrZqqVq0qSapXr55KlCih9u3ba/z48YqIiNCbb76pnj172o9Cd+/eXR999JFef/11vfTSS1qzZo2++eYb/fTTT/ZaBgwYoI4dO6pSpUp68sknNWnSJMXGxqpz585pPzAAAAAAgEfCQx26Z8yYIenGzapuNnfuXHXq1EnSjecZu7i4qEWLFoqLi1NISIimT59u7+vq6qply5bp1VdfVbVq1ZQpUyZ17NhRb731lr1PgQIF9NNPP6l///6aPHmycufOrU8//VQhISH2Pi+88IL+++8/jRgxQhERESpXrpxWrFiR5OZqAAAAAAAkeqSe0/2o4zndznW/p1On1zHh9HIAAADg/qXL53QDAAAAAPAoIXQDAAAAAGARQjeAVLNu3To1adJEQUFBstlsWrJkyW37du/eXTabTZMmTbK3rV27VjabLdnX5s2b7f22b9+uZ555Rp6ensqTJ4/Gjx9/2+V89dVXstls9icPAAAAAGmJ0A0g1cTGxqps2bKaNm3aHft9//33+vPPPxUUFOTQXr16dZ06dcrh9fLLL6tAgQKqVKmSpBvXztSrV0/58uVTWFiYJkyYoFGjRunjjz9OspzDhw9r4MCBeuaZZ1JvJQEAAIB78FDfvRzAo6VBgwZq0KDBHfucOHFCvXv31sqVK9WoUSOHae7u7goMDLS/v3btmn744Qf17t1bNptNkrRgwQJdvXpVc+bMkbu7u0qWLKnw8HB98MEHeuWVV+yfjY+PV7t27TR69GitX79eUVFRqbeiAAAAQApxpBtAmklISFD79u01aNAglSxZ8q79ly5dqrNnz6pz5872to0bN6pGjRpyd3e3t4WEhGjfvn06f/68ve2tt96Sv7+/unTpkrorAQAAANwDjnQDSDPjxo2Tm5ub+vTpk6L+s2fPVkhIiHLnzm1vi4iIUIECBRz6BQQE2KdlzZpVv//+u2bPnq3w8PBUqx0AAAC4H4RuAGkiLCxMkydP1t9//20/VfxOjh8/rpUrV+qbb765p+VcuHBB7du31yeffKLs2XkWOQAAAJyL0A0gTaxfv16nT59W3rx57W3x8fF67bXXNGnSJB0+fNih/9y5c+Xn56emTZs6tAcGBioyMtKhLfF9YGCg/v33Xx0+fFhNmjSxT09ISJAkubm5ad++fSpYsGBqrhoAAABwW4RuAGmiffv2Cg4OdmgLCQlR+/btHa7ZliRjjObOnasOHTooQ4YMDtOqVaumYcOG6dq1a/ZpoaGhKlq0qLJmzSovLy/t2LHD4TNvvvmmLly4oMmTJytPnjwWrB0AAACQPEI3gFRz8eJFHThwwP7+0KFDCg8PV7Zs2ZQ3b175+fk59M+QIYMCAwNVtGhRh/Y1a9bo0KFDevnll5Mso23btho9erS6dOmiwYMHa+fOnZo8ebI+/PBDSZKnp6dKlSrl8JksWbJIUpJ2AAAAwGqEbgCpZsuWLapVq5b9/YABAyRJHTt21Lx581I8n9mzZ6t69eoqVqxYkmm+vr5atWqVevbsqYoVKyp79uwaMWKEw+PCAAAAgIeFzRhjnF3E4yImJka+vr6Kjo6Wj4+Ps8tJ1titZ5xdgmWGlL+/m2ql1zG53/EAAAAAkPJ8x3O6AQAAAACwCKEbAAAAAACLcE03gHuSXk+3lzjlHgAAAKmPI90AAAAAAFiE0A0AAAAAgEUI3QAAAAAAWITQDQAAAACARQjdAAAAAABYhNANAAAAAIBFCN0AAAAAAFiE0A0AAAAAgEUI3QAAAAAAWITQDQAAAACARQjdAAAAAABYhNANAAAAAIBFCN0AkEbi4+M1fPhwFShQQF5eXipYsKDefvttGWPsfb777jvVq1dPfn5+stlsCg8Pd5jH4cOHZbPZkn0tWrTI3i+56V999VVarSoAAAD+PzdnFwAAj4tx48ZpxowZmj9/vkqWLKktW7aoc+fO8vX1VZ8+fSRJsbGxevrpp9WqVSt17do1yTzy5MmjU6dOObR9/PHHmjBhgho0aODQPnfuXNWvX9/+PkuWLKm/UgAAALgjQjcApJE//vhDzz33nBo1aiRJyp8/v7788kv99ddf9j7t27eXdOOIdnJcXV0VGBjo0Pb999+rVatW8vb2dmjPkiVLkr4AAABIW5xeDgBppHr16lq9erX++ecfSdK2bdv0+++/JzlCfS/CwsIUHh6uLl26JJnWs2dPZc+eXU8++aTmzJnjcBo7AAAA0gZHugEgjQwZMkQxMTEqVqyYXF1dFR8fr3fffVft2rW773nOnj1bxYsXV/Xq1R3a33rrLdWuXVsZM2bUqlWr1KNHD128eNF+GjsAAADSBqEbANLIN998owULFmjhwoUqWbKkwsPD1a9fPwUFBaljx473PL/Lly9r4cKFGj58eJJpN7eVL19esbGxmjBhAqEbAAAgjXF6OQCkkUGDBmnIkCFq3bq1Spcurfbt26t///4aM2bMfc3v22+/1aVLl9ShQ4e79q1SpYqOHz+uuLi4+1oWAAAA7g+hGwDSyKVLl+Ti4rjbdXV1VUJCwn3Nb/bs2WratKly5Mhx177h4eHKmjWrPDw87mtZAAAAuD+cXg4AaaRJkyZ69913lTdvXpUsWVJbt27VBx98oJdeesne59y5czp69KhOnjwpSdq3b58kKTAw0OFO5AcOHNC6dev0888/J1nOjz/+qMjISFWtWlWenp4KDQ3Ve++9p4EDB1q8hgAAALgVoRsA0sjUqVM1fPhw9ejRQ6dPn1ZQUJC6deumESNG2PssXbpUnTt3tr9v3bq1JGnkyJEaNWqUvX3OnDnKnTu36tWrl2Q5GTJk0LRp09S/f38ZY1SoUCF98MEHyT73GwAAANayGZ4hk2ZiYmLk6+ur6Oho+fj4OLucZI3desbZJVhmSPns9/W59DomjEdS9zsmAAAAePykNN9xTTcAAAAAABYhdAMAAAAAYBGu6QaAB5ReT7nndHsAAIAHx5FuAMBDYezYsbLZbOrXr58k6fDhw7LZbMm+Fi1alOTzZ8+eVe7cuWWz2RQVFeUwLS4uTsOGDVO+fPnk4eGh/Pnza86cOWmwVgAA4HHHkW4AgNNt3rxZs2bNUpkyZextefLk0alTpxz6ffzxx5owYYIaNGiQZB5dunRRmTJldOLEiSTTWrVqpcjISM2ePVuFChXSqVOn7vv56AAAAPeC0A0AcKqLFy+qXbt2+uSTT/TOO+/Y211dXR2eTS5J33//vVq1aiVvb2+H9hkzZigqKkojRozQ8uXLHaatWLFCv/32mw4ePKhs2bJJkvLnz2/NygAAANyC08sBAE7Vs2dPNWrUSMHBwXfsFxYWpvDwcHXp0sWhfffu3Xrrrbf02WefycUl6T9rS5cuVaVKlTR+/HjlypVLRYoU0cCBA3X58uVUXQ8r3HrKvSRduXJFPXv2lJ+fn7y9vdWiRQtFRkbap589e1b169dXUFCQPDw8lCdPHvXq1UsxMTEO8542bZqKFy8uLy8vFS1aVJ999llarRYAAI8VjnQDAJzmq6++0t9//63Nmzffte/s2bNVvHhxVa9e3d4WFxenNm3aaMKECcqbN68OHjyY5HMHDx7U77//Lk9PT33//fc6c+aMevToobNnz2ru3Lmpuj6pKblT7iWpf//++umnn7Ro0SL5+vqqV69eat68uTZs2CBJcnFx0XPPPad33nlHOXLk0IEDB9SzZ0+dO3dOCxculHTjzIChQ4fqk08+UeXKlfXXX3+pa9euypo1q5o0aZLm6woAQHpG6AYAOMWxY8fUt29fhYaGytPT8459L1++rIULF2r48OEO7UOHDlXx4sX14osv3vazCQkJstlsWrBggXx9fSVJH3zwgVq2bKnp06fLy8vrwVcmld3ulPvo6GjNnj1bCxcuVO3atSVJc+fOVfHixfXnn3+qatWqypo1q1599VX7Z/Lly6cePXpowoQJ9rbPP/9c3bp10wsvvCBJeuKJJ7R582aNGzeO0A0AQCrj9HIAgFOEhYXp9OnTqlChgtzc3OTm5qbffvtNU6ZMkZubm+Lj4+19v/32W126dEkdOnRwmMeaNWu0aNEi++fr1KkjScqePbtGjhwpScqZM6dy5cplD9ySVLx4cRljdPz48TRY03t3u1Puw8LCdO3aNYf2YsWKKW/evNq4cWOy8zp58qS+++471axZ094WFxeX5IsOLy8v/fXXX7p27VoqrgkAAOBINwDAKerUqaMdO3Y4tHXu3FnFihXT4MGD5erqam+fPXu2mjZtqhw5cjj0X7x4scO12Zs3b9ZLL72k9evXq2DBgpKkp556SosWLdLFixftN2D7559/5OLioty5c1u1evftTqfcR0REyN3dXVmyZHFoDwgIUEREhENbmzZt9MMPP+jy5ctq0qSJPv30U/u0kJAQffrpp2rWrJkqVKigsLAwffrpp7p27ZrOnDmjnDlzWrJuAAA8jjjSDQBwisyZM6tUqVIOr0yZMsnPz0+lSpWy9ztw4IDWrVunl19+Ock8ChYs6PD5AgUKSLpxJNvf31+S1LZtW/n5+alz587avXu31q1bp0GDBumll1566E4tTzzlfsGCBXc95f5uPvzwQ/3999/64Ycf9O+//2rAgAH2acOHD1eDBg1UtWpVZciQQc8995w6duwoScnejA4AANw//mUFADzU5syZo9y5c6tevXr39Xlvb2+FhoYqKipKlSpVUrt27dSkSRNNmTIllSt9cHc75T4gIEBXr15VVFSUw+ciIyOTPF4tMDBQxYoVU9OmTTVr1izNmDHD/txzLy8vzZkzR5cuXdLhw4d19OhR5c+fX5kzZ05yNgEAAHgwnF4OAHhorF27Nknbe++9p/feey9Fn3/22WdljEnSXqxYMYWGhj5oeZa72yn3efLkUYYMGbR69Wq1aNFCkrRv3z4dPXpU1apVu+18ExISJN24lvtmGTJksJ9i/9VXX6lx48Yc6QYAIJURugEAeEgknnJ/s1tPue/SpYsGDBigbNmyycfHR71791a1atVUtWpVSdLPP/+syMhIVa5cWd7e3tq1a5cGDRqkp556Svnz55d045r2v/76S1WqVNH58+f1wQcfaOfOnZo/f36ari8AAI8DQjcAAI+QDz/8UC4uLmrRooXi4uIUEhKi6dOn26d7eXnpk08+Uf/+/RUXF6c8efKoefPmGjJkiL1PfHy8Jk6cqH379ilDhgyqVauW/vjjD3soBwAAqYfQDQBIVWO3nnF2CZYZUj57mi/z1lPuPT09NW3aNE2bNi3Z/okB+k6KFy+urVu3plaJAADgDrhwCwAAAAAAixC6AQAAAACwCKeXAwBgIU63BwDg8caRbgAA8MiYMWOGypQpIx8fH/n4+KhatWpavny5ffq///6r//3vf8qRI4d8fHzUqlUrRUZGJjuvuLg4lStXTjabTeHh4Wm0BgCAxw2hGwAAPDJy586tsWPHKiwsTFu2bFHt2rX13HPPadeuXYqNjVW9evVks9m0Zs0abdiwQVevXlWTJk3szyq/2euvv66goCAnrAUA4HFC6AYAAI+MJk2aqGHDhipcuLCKFCmid999V97e3vrzzz+1YcMGHT58WPPmzVPp0qVVunRpzZ8/X1u2bNGaNWsc5rN8+XKtWrVK77//vpPWxDpjxoxR5cqVlTlzZvn7+6tZs2bat29fkn4bN25U7dq1lSlTJvn4+KhGjRq6fPmyEyq2VkrGo1u3bipYsKC8vLyUI0cOPffcc9q7d6+TKrbeunXr1KRJEwUFBclms2nJkiVJ+uzZs0dNmzaVr6+vMmXKpMqVK+vo0aNpX6yT5M+fXzabLcmrZ8+ezi7toTB27FjZbDb169fP2aU8EgjdAADgkRQfH6+vvvpKsbGxqlatmuLi4mSz2eTh4WHv4+npKRcXF/3+++/2tsjISHXt2lWff/65MmbM6IzSLfXbb7+pZ8+e+vPPPxUaGqpr166pXr16io2NtffZuHGj6tevr3r16umvv/7S5s2b1atXL7m4pL8/DVMyHhUrVtTcuXO1Z88erVy5UsYY1atXT/Hx8U6s3DqxsbEqW7bsbR89+O+//+rpp59WsWLFtHbtWm3fvl3Dhw+Xp6dnGlfqPJs3b9apU6fsr9DQUEnS888/7+TKnG/z5s2aNWuWypQp4+xSHhncSA0AADxSduzYoWrVqunKlSvy9vbW999/rxIlSihHjhzKlCmTBg8erPfee0/GGA0ZMkTx8fE6deqUJMkYo06dOql79+6qVKmSDh8+7NyVscCKFSsc3s+bN0/+/v4KCwtTjRo1JEn9+/dXnz59NGTIEHu/okWLpmmdaSUl4/HKK6/Yp+fPn1/vvPOOypYtq8OHD6tgwYJpWm9aaNCggRo0aHDb6cOGDVPDhg01fvx4e1t6HIc7yZEjh8P7sWPHqmDBgqpZs6aTKno4XLx4Ue3atdMnn3yid955x9nlPDLS39eZAAAgXStatKjCw8O1adMmvfrqq+rYsaN2796tHDlyaNGiRfrxxx/l7e0tX19fRUVFqUKFCvYjuFOnTtWFCxc0dOhQJ69F2omOjpYkZcuWTZJ0+vRpbdq0Sf7+/qpevboCAgJUs2ZNh7MB0rNbx+NWsbGxmjt3rgoUKKA8efKkZWkPhYSEBP30008qUqSIQkJC5O/vrypVqiR7Cvrj4urVq/riiy/00ksvyWazObscp+rZs6caNWqk4OBgZ5fySCF0AwCAR4q7u7sKFSqkihUrasyYMSpbtqwmT54sSapXr57+/fdfnT59WmfOnNHnn3+uEydO6IknnpAkrVmzRhs3bpSHh4fc3NxUqFAhSVKlSpXUsWNHp62TVRISEtSvXz899dRTKlWqlCTp4MGDkqRRo0apa9euWrFihSpUqKA6depo//79zizXcsmNR6Lp06fL29tb3t7eWr58uUJDQ+Xu7u6kSp3n9OnTunjxosaOHav69etr1apV+t///qfmzZvrt99+c3Z5TrFkyRJFRUWpU6dOzi7Fqb766iv9/fffGjNmjLNLeeRwejkAAHikJSQkKC4uzqEte/YbzxBfs2aNTp8+raZNm0qSpkyZ4nBK5MmTJxUSEqKvv/5aVapUSbui00jPnj21c+dOh6PYiXdy79atmzp37ixJKl++vFavXq05c+ak6z+okxuPRO3atVPdunV16tQpvf/++2rVqpU2bNjwWF3HLP3f9vHcc8+pf//+kqRy5crpjz/+0MyZMx/L06tnz56tBg0aPNZPOzh27Jj69u2r0NDQx+53IjUQugEAwCNj6NChatCggfLmzasLFy5o4cKFWrt2rVauXClJmjt3rooXL64cOXJo48aN6tu3r/r372+/Xjlv3rwO8/P29pZ043rV3Llzp+3KWKxXr15atmyZ1q1b57BuOXPmlCSVKFHCoX/x4sXT9d2pbzceiXx9feXr66vChQuratWqypo1q77//nu1adPGCdU6T/bs2eXm5pbs9vG4XIJwsyNHjuiXX37Rd9995+xSnCosLEynT59WhQoV7G3x8fFat26dPvroI8XFxcnV1dWJFT7cCN0AAOCRcfr0aXXo0EGnTp2Sr6+vypQpo5UrV6pu3bqSpH379mno0KE6d+6c8ufPr2HDhtmP1j0ujDHq3bu3vv/+e61du1YFChRwmJ4/f34FBQUleWzWP//8c8ebaz2q7jYet/uMMSbJGRSPA3d3d1WuXDnZ7SNfvnxOqsp55s6dK39/fzVq1MjZpThVnTp1tGPHDoe2zp07q1ixYho8eDCB+y4I3fdo2rRpmjBhgiIiIlS2bFlNnTpVTz75pLPLAgDgsTB79uw7Th87dqzGjh2b4vnlz59fxpgHLeuh0rNnTy1cuFA//PCDMmfOrIiICEk3juR6eXnJZrNp0KBBGjlypMqWLaty5cpp/vz52rt3r7799lsnV5/67jYeBw8e1Ndff6169eopR44cOn78uMaOHSsvLy81bNjQydVb4+LFizpw4ID9/aFDhxQeHq5s2bIpb968GjRokF544QXVqFFDtWrV0ooVK/Tjjz9q7dq1zivaCRISEjR37lx17NhRbm6Pd2zKnDlzkvsgZMqUSX5+fknakdTjvfXco6+//loDBgzQzJkzVaVKFU2aNEkhISHat2+f/P39nV0eAACAZsyYIUl69tlnHdrnzp1rvxFUv379dOXKFfXv31/nzp1T2bJlFRoami4fC3W38fD09NT69es1adIknT9/XgEBAapRo4b++OOPdPv33ZYtW1SrVi37+wEDBkiSOnbsqHnz5ul///ufZs6cqTFjxqhPnz4qWrSoFi9erKefftpZJTvFL7/8oqNHj+qll15ydil4xNlMevt610JVqlRR5cqV9dFHH0m68e1Xnjx51Lt3b4fnXN5OTEyMfH19FR0dLR8fH6vLvS9jt55xdgmWGVI++319Lr2OCeORFGPiiPFI6n7GhPEAACB9Smm+40h3Cl29elVhYWEOz/V0cXFRcHCwNm7c6MTKAAB4tPBFBADgcULoTqEzZ84oPj5eAQEBDu0BAQHau3dvsp+Ji4tzuAFHdHS0pBvfiDysrly84OwSLBMTc3/P2kyvY8J4JMWYOGI8krqfMWE8kmJMAADpQWKuu9vJ44RuC40ZM0ajR49O0p4nTx4nVIOkP4nHG+ORFGPiiPFIijFxxHgkxZgAwOPnwoUL8vX1ve10QncKZc+eXa6uroqMjHRoj4yMVGBgYLKfGTp0qP3GFNKNa8DPnTsnPz8/2Ww2S+t9FMTExChPnjw6duzYQ3uNe1piPBwxHkkxJo4Yj6QYE0eMR1KMiSPGwxHjkRRj4ojxcGSM0YULFxQUFHTHfoTuFHJ3d1fFihW1evVqNWvWTNKNEL169Wr16tUr2c94eHjIw8PDoS1LliwWV/ro8fHx4Zf2JoyHI8YjKcbEEeORFGPiiPFIijFxxHg4YjySYkwcMR7/505HuBMRuu/BgAED1LFjR1WqVElPPvmkJk2apNjYWHXu3NnZpQEAAAAAHkKE7nvwwgsv6L///tOIESMUERGhcuXKacWKFUlurgYAAAAAgETovme9evW67enkuDceHh4aOXJkklPwH1eMhyPGIynGxBHjkRRj4ojxSIoxccR4OGI8kmJMHDEe98dm7nZ/cwAAAAAAcF9cnF0AAAAAAADpFaEbAAAAAACLELoBAAAAALAIoRsAAAAAAIsQuoE0wP0KAQAAgMcToRuwUFRUlCTJZrM5t5CHDF9CAAAAPByMMfxtZjGe0w1YZNu2berYsaPmz5+vsmXLOruch8Lhw4clSfnz53dqHQ+LkydP6sSJEzp79qzq1q0rm80mFxcXJSQkyMXl8fxO9HZjAiQ6duyY9uzZo//++09169ZVlixZ5O7u7uyygIfW4cOHtXHjRkVGRqpWrVoqVKiQMmXK5OyynIZ9iKM9e/ZoypQpOn78uCpUqKDatWurZs2azi4r3eE53UgVBw4c0OLFixUZGalnnnlGVapUUVBQkLPLcppt27apSpUq6tevn8aOHSvpxreIj/MR7/DwcNWpU0dTpkxRu3btnF2O023fvl2NGzdW5syZ9c8//6h06dJ65ZVX9OKLL8rb2/uxDN53G5PHzb59+zRv3jwdPXpUNWvWVOXKlVW+fHlJj+/+ZPv27apXr55y5cqlnTt3qnDhwmrYsKHeeOMNZcmSxdnlOQXbiSPGw9GOHTtUu3ZtFS9eXDt27FDu3LlVtGhRzZgxQzly5HB2eWmOfYijvXv3qmrVqqpTp46yZ8+uX375Rf7+/mrQoIFGjBjh7PLSlcfrLzpYYufOnapcubKWL1+uLVu2qE2bNurbt69++OEHZ5fmFDt37lTVqlU1ePBge+COjo7WwYMHnVyZ82zbtk3Vq1dX586dkwTux/F7vzNnzqh169Zq27atfvrpJ508eVLFihXTvHnzNHz4cF24cEEuLi6P1dikZEweJ7t371bVqlW1fft2xcbGatSoUerfv79mzZol6cYlK4/T9iHd2I927txZL774okJDQxUdHa2mTZtqw4YN6tSpk86dO+fsEtMc24kjxsNRbGysevToodatW2vVqlX677//1KdPH50+fVrBwcGKjIx0dolpin2Io/j4eM2cOVNNmjTR4sWLNWvWLK1bt041a9bUokWLNGTIEGeXmL4Y4AFcvnzZPPfcc6ZXr14mISHBGGPMr7/+aho0aGBq1KhhvvrqKydXmLbOnj1rypUrZ4oWLWpv69Chg6lQoYLx8fExwcHB5tdffzXXrl1zYpVpa+/evcbDw8OMHDnSGGPMtWvXzNq1a80333xjNm/ebK5evercAp1gx44dJn/+/Gbbtm32tri4ODNixAjz5JNPmmHDhpnLly87scK0x5j8n2vXrpnOnTubl156yd4WHh5uunfvbkqUKGE+/PBD5xXnRIcOHTJPPPGEWbt2rb0tLi7OzJkzx1SrVs20a9fOxMTEOLHCtMV24ojxSOq///4zxYoVM4sXL7a3Xbt2zaxZs8Y89dRTpnr16ubcuXNOrDBtsQ9J6n//+59p2rSpQ1tkZKQZOXKkqVChgpkxY4aTKkt/ONKNB+Lh4aGTJ08qa9as9lO2nn32Wb3zzjvy8/PTnDlztGHDBidXmXYyZsyounXrKjAwUAMGDFD16tV19uxZde/eXYsXL1Z0dLT69eun7du3O7vUNBEXF6f33ntPmTJlUr169SRJ//vf/9SzZ0/16tVLVapU0cCBA3XgwAEnV5q23N3dZbPZdPToUUnS9evX5e7uruHDh6tmzZr66aeftHnzZkmPz5kA9zIm6Z2bm5sOHz7scHlB2bJlNWjQINWtW1eff/65vv32WydW6Bze3t7KmDGjduzYIenG74a7u7s6duyoF198UXv27NGSJUucW2QaYjtxxHgk5evrqyxZsuiPP/6wt7m5uenZZ5/VG2+8oevXr2vq1KlOrDBtsQ/5P4l/W1SsWFGXLl2y/9srSf7+/uratauKFCmiJUuWKC4uzlllpiuEbtw3Y4yuXLmioKAgnT17VsYYxcfHS5IqVKigwYMH6+TJk1q8eLG9f3qWkJAgT09PjR49WjVr1tSSJUuUOXNmffrpp+ratauCg4P1xx9/6OLFi5oxY4azy00THh4e6t69u+rVq6chQ4aoUKFCMsbos88+0z///KOvv/5an3/+uebOnSsp/W8jifLlyyc/Pz/NmjVL8fHxcnNz0/Xr1+Xm5qZx48YpPj5en376qaTH58739zIm6Vni70C5cuV07tw5nTlzxj7tiSeeULdu3RQYGKjvvvvusbvbrK+vr4oWLaovv/xSR44csf9uuLi4qEePHsqePbu+/vprJ1eZNthOHDEeyXN1ddXTTz+t9evXa/369fZ2m82mhg0bqly5clq1apUTK0xb7EP+T+K616tXT3/++admzJhhD9fGGOXKlUuvv/66Vq1apa1btzqz1PQjjY+sIx2aN2+ecXNzMz/88IMxxpj4+Hj7qeZz5841GTNmNCdPnnRmiWkmPj7eGGPMpUuXzOTJk82yZcvsY5F4Snm7du3Mc88956wSnWLTpk2mcePGpkGDBubAgQMO0yZPnmy8vb1NZGSkk6pLW4nbyI4dO4yPj4/p2rWrfVritjJs2DBTv359p9TnDIxJUkuXLjWenp5mypQp9vFJ9OOPPxqbzWb27dvnpOrSXuJ2EBkZaQICAkzTpk1NZGSkvd0YY6ZOnWqqVKny2FyGYAzbya0Yj6TOnz9vSpUqZapVq2a2bNlirl+/bp/29ddfmxIlSjwWp5izD0kqcd0XLlxoXFxczOjRo010dLR9+qFDh0ypUqVMeHi4s0pMVzjSjQfWsWNHde/eXa1bt9Yvv/wiFxcX+zdo+fPnV4ECBeTm9ng8nS7xcU9eXl7q0aOH/ZFH0o1TuhISEnTp0iWVKlVK0uNzZPfJJ5/Uu+++qx49eihfvnySbpwZIEmZMmVSgQIF5Ovr68wS00ziDdJKlSql+fPna+HCherYsaPDDW0OHTqkrFmz2s8cSe8Yk6SaNGmikSNHasCAAZo7d66uXLlin1agQAGVKFHisbq7vc1mU3x8vPz9/bVixQpt3LhR7du315YtW+zbRHh4uPz8/B6rcWE7ccR4OIqPj1eWLFn066+/KiIiQn369NF3332na9euyRij9evXy8/PTx4eHs4u1XLsQ/7v765EiTcWbNOmjWbNmqVRo0Zp4MCBWr58uY4dO6ZZs2YpOjpa/v7+Tqo4fXk8khAs9/bbb+vSpUtq3Lixpk6dqtq1aytPnjz6+eef5eLi8tiEbkn2nfWt65yQkKDhw4frzz//1Lhx4yQ9PqcOS1KZMmVUqlQp+/gk/nfHjh0qWLBgugxTiadH3yrx5/7cc89pyZIlateunfbs2aNs2bLJz89PP/zwgzZu3ChXV9e0LjnNmFse3fM4j8mtY5H4fsiQIbp06ZK6du2qw4cPq2HDhipWrJg+++wzXblyJd1+UXXy5ElFRkbaH/OUKPFnX65cOf3xxx9q1KiRunfvruvXr+uJJ57Q6tWr9fvvvz82z9t93LeTWzEeSfclrq6uun79urJnz67NmzerTZs2eu+999S3b1+VKlVKmzdv1q+//qqMGTM6seq087juQ06ePHnbL1cSt5eXX35ZuXLl0siRI/Xjjz/K19dXcXFx+uGHH5QzZ860Ljld4jndSJHbhYebXb16VWPGjNGUKVOUMWNG5ciRQ8eOHdOqVauS/PH0qDt8+LAOHDigZ555JkXfEH/33XeaPXu2/v77b/3888/pbjxulZJnTB85ckSffvqppk6dqg0bNqhkyZJpVF3a2Llzp+bOnauRI0fKx8fnjn3Pnj2rKVOm6Pjx4/Lx8VHXrl1VokSJNKo07URHR+vKlSu6evWq8uTJc8e+j8OYnD59WtmyZbvrvnXmzJmaNm2aTp06Zb+HxrJly9LlfmTnzp0KDg5Wp06dNHbs2GSfq5y4f4mJidGSJUu0fft2ZcuWTS1atFDRokWdVHnauNO+9XHaTlLicRmPqKgoXb9+XZcuXVLevHnt7TdvK4l/w8XGxiosLEwbNmyQv7+/atasqUKFCjmrdKd5nPYh4eHhaty4sT7++GM1bNgw2T6JUdBmsykiIkJnz57VxYsXlT9/fgUEBKRluekaoRt3tW/fPs2aNUvdu3dXkSJF7tp/y5YtOn78uK5evaoqVarYTydOLyIjI1WsWDFlypRJn376qYKDg5P80RwfH+9wRO7EiRN6//331a1bNxUrViytS7bc8ePHtWPHDp04cUIvvviiPD097/jH4Y4dO9S3b18dOXJEixcvVrly5dK2YItt27ZN5cuX11tvvaU333xTUtI/lhO3kcT/Jk5PyRcWj6Jdu3apW7duunDhgvbt26fp06frpZdecujzOI3Jzp071bx5c/ud/JM7gn/zev/777+KiIjQlStXVLx4cQUFBaV1yZbbtm2bnn76aeXMmVMxMTFau3Ztkv3lrdtGehcREaFDhw4pIiJCTZs2laura5IvIh6n7eTff//VkiVLdPjwYTVv3lxPPvmkMmXK5NDncRqPHTt2qH379vLy8tLOnTvVtm1btWzZUnXr1pX0f6cTJ17Ck97Prtu7d682bdqkjh073rbP47QP2bZtm6pWrapevXppwoQJDtMS1//mv1evXbumDBkyOKPUx0MaX0OOR0hCQoK5fPmyqVq1qrHZbOall14yhw4dcphujHG4Kcfj4MyZM6ZatWqmcOHCxs/Pz/z888/2m27cfEMOY27cQCwqKsoYY5Lc1CW92L59uylcuLCpWLGi8fHxMSVLljSXLl1y6JPcNhIaGmoOHjyYVmWmmW3btpmMGTOawYMHO7THxcUl23/Tpk0ONy65dRtKD3bu3GmyZs1qBg4caFasWGFGjx5tPD09TUREhDEm+d+b9Dwme/bsMVmzZjWvvfaaOXbsWLJ9Hrf96rZt24yXl5d54403zMGDB02pUqXMpEmTjDHJj8Xy5ctvO3bpxfbt202pUqVMyZIlTebMmU2ZMmXsvxeJ/56k139XkrN9+3bj7+9vGjVqZIoWLWpy585ttmzZ4tDncfq9OXjwoAkKCjKDBw82W7duNcuWLTN58+Y1RYsWNfPmzUvSf+HChWbnzp1OqDRt7N+/3/j4+BibzWYmTpx41/7pfR+ye/du4+HhYUaPHm2MubGv2LVrl1m7dq05e/Zskv7jxo0z06dPv+3fKnhwhG7c1ciRI03Xrl1N5syZTfPmzZPcfTrR1KlTzZ9//pnG1aWt+Ph4c/HiRdO6dWtz6tQp07p1a5M9e3bzyy+/GGOMWbt2rb3vwoULjc1mM59//nm6Cw2J9uzZY7Jnz27efPNNc/z4cXP06FETGBholixZkmz/9L6NHD582Pj5+ZnmzZvb20aOHGlatWplgoODzZdffmmuXLlin/Y4bCMnTpwwlStXNoMGDbK37du3zzRs2NAcOHDA7Nu3z1y9etU+bcGCBel6TBISEkyPHj1Mp06djDE39ilr1qwxH3/8sdm1a1eSP4YmTZpkvvzyS2eUmmbCwsKMzWYzb775pr2tTZs2pkiRIsn2X7ZsmcmYMaN577330m3I+ueff0xAQIB54403zD///GP+/fdfU7ZsWdOqVatk+6f37eTUqVOmZMmSZtSoUfafefny5c3kyZOT7Z/ex8MYYyZOnGh/okPivnLSpEnG3d3dVKpUyXz++ef2vuvWrTN58uQx3bt3d9jfphdRUVHmxRdfNC1btjTvvPOOcXFxMePHj79t//S+D7l48aKpX7++8ff3N6dPnzbGGNO8eXNTokQJkzlzZuPn52c++ugj899//xljbnxZ9dRTT5mqVavaDxQh9RG6cVuJ36C/9tprZuLEiebAgQMmY8aM5oUXXjAxMTFm7Nix9gB+9uxZ4+rqaho2bOgQKtKr1q1bm2+++cYYY0yTJk1MQECAqVOnjqlQoYLDDuvVV181e/bscVaZloqKijKNGzc2/fr1c2gPCQkx06ZNM2PHjjXbtm0zFy9eNMbcOEPA1dXVNGjQIN0+jmPjxo2mSJEipnPnzmb16tWmZs2apk6dOqZdu3amQ4cOSYKFMel7GzHmxmPAXn31VbN//35728iRI42np6cpVaqUyZQpk+ncubPDWQ/peUzi4+NNjRo1zCeffGKMMaZGjRqmYsWKxs/PzxQoUMB06dLFPhbnz583RYoUMcHBwebChQvOLNtSX3/9tRk4cKAx5v/+3dm9e7fJnTu3mT59erKfGT16tPnnn3/SrMa0dOnSJdO5c2fTtWtX+6MmjTFmypQppkqVKkn6R0VFpfvtZOPGjaZkyZJm9+7d9rbWrVubvn37mhdeeMHMmjXL/Pvvv8aYx+f3ZuDAgaZOnTrGGGP/u2vBggWmXr16plGjRua5554z58+ft/e/eYzSm5MnT5rBgwebJUuWmLi4ODNlypS7Bu+RI0em232IMTe2hQYNGpgmTZqYUqVKmcaNG5tVq1aZI0eOmMGDBxs/Pz/z2Wef2fvHxcWZo0ePOrHi9I/QjbtavXq16dixozHmxh/QmTJlMnnz5jVBQUEOR70PHz6c7p9/mfhtcs+ePU2PHj3s7Xnz5jUuLi5m6tSpzirNKT799FOzYcMG+/u3337buLm5mTp16pgyZcqY7NmzmwULFtinPw7byC+//GKqVq1qPw3y5ueAzp8/37i4uJjffvvNyVWmrVOnTtn//4svvjDu7u5m4cKF5vDhw+bXX381Xl5eZubMmU6sMG298MILZuLEiWbUqFGmXr165uDBgyYhIcFMnz7dPPXUU2b48OH2oy8nTpxIl5dh3E10dLSpXbu2admypUN7ejwqlZzevXubsWPHOrStW7fOBAUFmbNnz9qPVibuW9L7drJy5UqTI0cOs3TpUnPx4kUzbtw44+7ubvr162eaNm1qnnzySfPqq6/av/RO7+NhjDGfffaZcXNzM6tXrzbR0dHm0KFDxtfX18ybN89s2bLFuLq6Plb/1hw/ftz+/5cuXTKTJ082Li4uZty4cfb2a9eumZMnTzqjvDRz63PYq1SpYkJCQpIE6o4dO5rixYub+Ph4hy/3YB1CN+5q/fr1pnDhwvZvjBs3bmxcXV1NnTp1zIkTJ4wx6e+ay7v5/vvvTffu3Y0xxnTo0MEEBQWZGjVqmFy5cpkffvgh3e/Akvt5//7776Zo0aLmxx9/tF/T/fzzz5syZcqY+Pj4dP/H8s1jsnr1avP8888n+YPnypUrJm/evGbChAlJPvM4uH79ulm+fLnZvHmzQ3utWrVM+/btnVRV2uvbt68pWbKkadu2rfnoo48cpg0bNswUKlTIXL58+bHbPhIlrvfKlSuNu7u7WbZsmZMrSjuJ637zGWOJbb///rt54oknHK65PHr06GNxdpkxxjRo0MAEBgaaOnXqGA+P/9fenYdFVX9/AH9ftmERZHMFAVHQUBYR3CBQ3NE0DQstEzUsTUkN1NDUELXcykotLVdcCs0dzQUF90AWBQUVvyAmikCECAjDnN8f/ObKCJqWzNTMeT1Pz9PcZTxz+Zx777nL5yOhQ4cOifNWrFhBLVu2VPtC+0khISEkCIL41FDtmwEODg60fv16FUanGrVz6KuvvlK44z1lyhSaOXOmWuZM7dcGap9vxcTE0N69e8Vp8vPTiIgI6tatm3KD1HCaM3gy+1uICI6OjmjXrh0aNWqE8ePHIyUlBVu2bMGkSZMwduxYrFu3TmGYCk1gamqKxMREDB06FBcuXEBcXBzatWuHnj17IjQ0FL1791brscnr6wHV3t4ehw8fhp2dHaRSKQDAy8sLOTk5kEqlajfu5ZMEQRB7h/Xz80ObNm3EoTbk04uKitC0aVM4ODiI62gSbW1tDBgwQPxMRHj48CEkEgk8PT1VGJlyyNvB0qVL4e3tje3bt8PKykqhF90+ffrgwIEDKCsrg76+voojVg15Lrm7u8PX1xf79u3DwIEDAUDtexuW7xPkQ1HW18OyvKfhsLAwnD17FkeOHHmuoSv/q+S9K8fExOD8+fMoKipCUVER3N3dxaGwvL29sWbNGlRUVKg6XKVauXIl/P39UVJSgkaNGol58vvvv8PQ0BBWVlYqjlD5aufQxIkTIQgCZsyYgZ9++glJSUm4ePGi2uVLRkYGfvzxR0yYMAEODg4Ko4AMHDgQUqlU3G/Iz01zc3PRvn17VFVVQUdHR+POR1RBfasC9o/JTxCbNm2KsrIyNG3aFFpaWti/fz88PT3h4OCA119/Xe1PguTkB3epVAo3NzcIgoAbN24gJiZGHNfx5MmTyM3NrTOEibqiWkOQtGjRQpwu36mnp6fjlVdeUdudOT0xBEt1dbXYRmoPlSdfZtWqVXj48CE8PDyUHquqyPNGfgJQe5sJgoAlS5aIQ4ipO0EQxCFZVq9ejeDgYGzfvh2+vr7w8fGBsbExDh48CGNjY7U7KXwWeRt59OgRtLW1xRNAS0tL+Pv7Y/r06Zg3b57aDff0LPI8qX181dPTQ3l5OaqrqzF37lysWrUKJ06cUPvjjba2NiorK6Gnp4du3brh6NGjePToESwsLMRCIjo6GsbGxhozprB8P1JRUYH+/fsrzKusrMSqVatQWlqKjh07qihC5XracUZPTw9BQUHYunUrsrKykJqaCmdnZ1WH+1JlZWXBz88Pd+/exZ07d7Bo0SLY2toqDItW+yZQcXExli9fjl27duH06dM8RJgyqeYGO/u3efLRX/ln+btjERER5OfnRxcvXlSYr46P6Dyp9qPRN2/epAEDBlBhYSEdOHBAoXModX+k/EnybVJcXFxn2JpHjx7RnDlzyNLSUqHjG3VRVFRUZ1rtNtKvXz+xx1AiooMHD9J7771H5ubmlJycrKwwVerJvHlymxw6dIg++OADMjc3p6SkJFWFqVTy7VFSUkJSqZQyMzOpW7duZGVlRR06dCB/f38yMzOjlJQUFUeqHFKpVKGN+Pj4iPsL+SOi9+7dIx8fH7XtAKo+tY+/td9TvXDhAjk7O1NISAjp6enVGS5LXcm3h7xTsIcPH5KdnR116dKFPvnkExo7dixZWFhoRN48mTOvvvqqwjH2/PnzNHnyZGrcuLFG7Ff/6jhTXV1NM2fOJEEQKDU1VVVhNpiysjL66KOP6J133qGDBw+SkZERBQQEUHZ2dr3Lx8XFka+vL9nY2GhE+/i30YxblOypMjMzUVRUJF4tBh4/ypWTkwM7OzvEx8fjgw8+QFRUFNzd3QE8frxN3R4Zvn37Nn799VdER0cjJycHQM3jjPLt8eqrr8LMzAzm5uYYNGgQ2rZtK66rzo+TP6mqqkrcJjY2Njhw4IA4LzY2FiNHjsTGjRtx5MgRvPLKKyqM9OVLTk6GpaUlkpOTFabXbiNNmzaFpaUlAKC8vBwFBQXIyspCXFwc3NzcVBB1w3qevHlym/zxxx+4ffs24uPj0alTJ1WGrxTynMnOzoaVlRUOHjwIR0dHnDt3DpGRkQgMDISfnx8uXLgAV1dXVYf70mVnZyMqKgpr1qzB2bNnAdTkjHybeHt7o3Xr1mjfvj2Ax0+HWFpa4sCBA7C3t1dZ7A2lurq6zrTKykoxb9q0aYMTJ06I88rLy5GWloatW7fi3Llz6Ny5szLDVYnaxxpbW1vs3r0bhoaGOHLkCMzMzHDq1CmUl5cjPj5e7fLmeXLG3t5ezBmgJl/s7e1x4cIFtduvvuhxBgCKiooAACkpKXBxcVFJ3A2JiNClSxf4+/vD398fZ8+exaFDhxAaGipuo9p8fHzw9ttv49ixY2rXPv4TVF31M9VJSUkhQRDqHecyNzeXmjRpQsHBwWrfAZbcpUuXqFmzZuTp6Una2trk4eFBU6ZMEecPGTKEgoODNapzo4yMDJo9ezYFBgbS+vXrFe6s5OTkUJMmTWjChAkK2yQ7O5sWLVqklr2Up6SkkLGxMU2fPr3OvLKyMho2bFi9bUQmk1FJSYmywlSqf5I36jicz/PkTHBwsEZ0Lih36dIlMjc3J19fXzIzMyNnZ2caMmSI2CbGjx9P48ePrzdv1NWVK1do4sSJ1K9fP5o/fz79+uuv4rxbt26RmZlZnX3rw4cPaciQIWp5x+5F8qa2qqoqhY7l1MXfzRki9ezh/58cZ9RxXPLa/vzzT4XPycnJde54V1dXa8xTdv9mXHRrqOTkZDIwMKCZM2fWmVddXU3Lly+nsLAwtT7pqa24uJhcXV1p6tSpVFxcTLdv36YFCxZQx44dadCgQURU8+iSuu+8a0tPTyczMzMaOnQo9enThzp06EBubm60adMmIiJavnw5hYaG1ttGnjwxUgeXL18mAwMD+vTTT8Vp9+7do0uXLoknOZmZmRr1mgHnjaJ/kjNE6llklpaWUo8ePWjixIkklUrp/v37tG3bNmrXrh25u7tTRUUFFRcXa0wbISK6evUqNW7cmN555x0aOXIk9enThywsLOjLL78kIqKff/6ZwsPDFdqDfJ+qjvuXv5M36niMkeOcUcTHmecjk8nEc5GkpCSx8L527RpNmTKFevXqJQ6px1SDi24NlJmZSdra2rRo0SIiqjmIHz58mFavXk3x8fEK78NoipycHHJ0dKSzZ8+K0x48eEA///wzOTg40MiRI1UYnfJJpVIaO3YsjRkzRjzRSUhIoJCQEDIzM6Nt27apOELlevDgAfn6+pKpqak4bfjw4dSpUycSBIF8fX1p1apVKoxQNThvHuOcqV9RURE5OzvT3r17xWlVVVWUkJBA7dq1Iy8vL3G6Ol50qM+0adNo2LBh4uecnBxavHgxCYJAK1asUGFkysd5UxfnjCI+zrwY+YW55ORkMjU1pWbNmpGenh6/w/0vwO90axipVIqff/4ZMpkM3bp1AwAMHDgQoaGh+OyzzzB8+HBMmDABp0+fVnGkymVsbIyqqirxvSkAaNSoEYYMGYI5c+YgPT0d33//vQojVC4iwo0bN2BsbCy+W+nh4YHp06dj3LhxCAsLw759+1QcpfJoa2sjODgYlpaWGDZsGAYMGIDKykqEh4fj1KlTsLa2xqZNmxAVFaXqUJWK8+Yxzpn6mZiYQCaTITY2Vpymo6ODzp07Y926dbh//z7Cw8MBaMYQekSE7Oxshf5QbGxsMGXKFCxfvhwzZszAhg0bVBihcnHe1MU5o4iPM08nH5714cOHKCkpAQCxF3c3Nzf07dsXVVVVuHjxIr/D/S/ARbeG0dHRwahRozB9+nQMHToUbdq0gYmJCbZt24a7d+9iw4YNKC4uxtq1a1FeXq7qcJXG0NAQPj4+OHbsGC5fvixOl0gkCAgIgJ2dHU6ePKm6AJVMR0cH3bp1w/Xr15GXlydOt7W1xYQJE+Dt7Y2oqCiUlZWpMErlMTAwwBtvvIHFixcjNTUVJSUlWLduHQICAuDl5YWvv/4aurq6OHz4sKpDVSrOm8c4Z+oiImhra2PEiBFISEjAoUOHxHmCIKB79+7w9/dHYmIiqqqqVBip8giCAB8fH6SmpuLq1avidCMjIwQFBWHy5MlYt24d7ty5o8IolYfzRhHnTF18nKmrurpaHCYtOzsbfn5+CttGS0sLn376KXbu3InY2FiNGTru346Lbg1kb2+PkJAQvPfee7C1tUVERIQ4buHgwYMxcuRI7Nq1CwUFBSqOVHkkEglCQ0ORnJyMyMhIZGVlifMMDQ3h6+uLa9euacyBHwC6dOmCa9euYdeuXSgtLRWnOzo6YujQoYiJiUF+fr4KI1QufX19DBo0CN988w3mzp2LJk2aAKg5+Jmbm8PNzQ25ubmQyWQqjlR5OG8Ucc4okt+FGz16NGQyGb799luFk2MdHR106tQJOTk5ePDggYqiVD4PDw8YGxtj48aNuH37tjjdzMwMgwYNQlpamkIBqu44bx7jnKlL048z2dnZ2Lp1K1atWoXjx48DqHn6Tl5wd+/eHR06dECPHj3EdWQyGbp3747Lly+rXa/+/2WaM8YRU2BjY4OQkBDcuXMHjo6OAB4PFdayZUvY2trCwMBAxVE2LCISD3AymQwdO3bE3r170bt3b8hkMkyaNAm9evUCAGRkZMDa2lqjhgULCAhAQkICZs6cCX19fQwfPhzm5uYAAHd3d9ja2uLRo0cqjrJh1W4jQM0d7759+4rDlACPh88rKCiAm5sbtLQ051om540izpm6iAj29vZYu3YtRo0ahSVLliAnJwdjxoyBVCpFcnIyWrZsCX19fVWHqjTe3t4YOXIkVq5cCYlEgqCgIHFINGdnZ9jY2GhUO+G8UcQ5o0iTjzOXL19G79690b17d1y5cgXGxsawsLDAnj17YGRkhLVr12LgwIH48ccfFc5VtLW14e/vr8LIWb1U9TI5+3eorxOO6dOnk5+fn1oOcXTnzh1KT0+vd56818fExERyc3Mjd3d3cnV1paFDh5KJiQmlpKQoM1SVqt0z7JQpU8jc3JzCw8Ppt99+o8LCQgoNDaU2bdrQ/fv3VRhlw3hWG6lPWVkZhYeHU4sWLSgjI6MBI1O9Zw1Po0l5I//NT+tNWdNyhqhmOKunDd0k3zbp6ek0bNgwcnR0JBsbG/Lz8yNTU1ONGsqmdjtZuHAhtWvXjkaNGkVHjhyhmzdvUlhYGFlbW1NeXp4Ko2wYubm5dTpz0vS8qa2+/Ykm5Ux9wyjKt4MmHmcKCgrI1dVVHGXozz//pM2bN4udt969e5eqq6s1vtf2/xKBiEjVhT9rGEVFRcjPz4e2tjZsbW0VOm6pT3Z2NlavXo1169bh1KlTavcOyO+//w5XV1f4+PggPDwcHh4edZaR3+2/desWLl68iNjYWLRq1QpDhgxB+/btVRB1w3pWG5FvCwD44osvsH//fiQmJsLJyQl3797FwYMH1a5jjudpI7Xt3r0b0dHROHnypFpuD6CmgxaZTAYigomJSb3LaFLepKSk4NNPP8VPP/0EQ0NDhXmamDMAkJaWhlmzZmHGjBno2rUrJBJJnWVkMhm0tLRQUFCA7OxsxMTEwNraGq+++iocHBxUEHXDqt0WniTfFgCwadMm7NmzB/v27UOHDh1QUlKC3bt3q107SU9Px8CBAzFixAgsX75cYftoYt7cvn0bZ8+ehY6ODhwcHMRX/GrTpJy5cuUKFi1ahLt378LBwQGDBw/GoEGDADxuH5p0nAGAS5cu4e2338aePXvQpk0bADXnKP369UNBQQHs7Oxw4cIFFUfJXoiKi37WQC5fvkydOnUiZ2dnkkgktGDBgjpXEGtLSkqiESNGUIcOHdTyCioR0YkTJ0hHR4f8/Pzo3XffpYsXL4rzal8t1IQhOIier43UHhM2JyeHTp48SXFxcXT79m1lh6sUz9tG5P73v//RggUL6Nq1a8oOVSnS09OpX79+1KlTJ2rZsiVFRUURUf13ZDQhb1JSUsjAwEC88yBX+7drWs6kpaWRqakpvf/++3Tr1q0682UymVqPqVyfzMxMWrZsGd25c+epy9RuJ6WlpXT58mVKT0+nu3fvKiNEpUpJSSFDQ0Nq3bo1NW/enO7du1dnGU3Km0uXLpGtrS15eHhQs2bN6LXXXqMbN24oLKNJOZORkUGNGzemwMBAmjVrFrm6upKHhwdNnTpVXEb+FI0mHGfkUlNTycbGhnbv3i1Oy8jIIFdXV9q+fTvZ2dnR0qVLVRcge2FcdKuh9PR0srCwoNDQUEpPT6dly5aRIAgKJ0T17dBPnDhBubm5ygxVqQoLC2nIkCH0/fffk7u7O7399tuUlpZGRIrbY8+ePfWeFKiTv9tG1N3ztpG9e/eKj38+62LWf5m8jUybNo22bt1K06dPJ11d3adelFP3vElNTSUjIyMKCwtTmF77kWpNy5nS0lLq168fTZw4UZx29epVSk5OppycnDrLr1+/vt7CXJ1cv36dzM3NSRAE+uSTT+p9LFqTCgf5harw8HC6f/8+dejQgSIjI0kmk4nbQZPyJjs7m6ysrGjWrFlUWlpKMTEx1Lx5c7pw4UK9y6t7zshkMgoPD6c333xTnFZSUkKRkZHk5uZGwcHBCsur+3Gmtvv371OvXr1o2LBhtGTJEjp48CCZmprStGnTiIgoICCAxo8fr+Io2YvgolvN3L9/n3x8fOijjz4Sp8lkMhowYACdPXuWkpOTFQrrlStX0o8//qiCSJVLKpVSfn4+OTo60u3bt+mXX34hT09PCg4Oph49etAbb7xBRDXFlLW1Nc2ePVttTwT+ThvZsGGD8gNVshdtI+Hh4VRdXa2WJ9CFhYXUr18/CgkJUZjes2dPmjJlChEpFg779+9X67zJy8uj5s2bU//+/Ymopq1MnTqVBg0aRO3bt6cvv/xS4X3+r7/+WiNypqKigry9vSkpKYmkUin179+fPD09ydjYmLp160Y//PCDuGx8fDw5ODjQO++8o7YXqkpLS2ncuHEUFBREq1atIkEQKCws7KnvIy9ZsoQiIiKUHKXypKamkkQiofDwcCKqKa4DAgLI09Oz3uU1IW++//576tmzp8L+09/fn77//nvatGkTxcbGitM1IWeIiIKCgsjHx0dhWklJCS1btow8PDxo8eLFRER04MABtT7O1CZvH5cvXxbf6XdwcKDZs2eLy0yaNIkGDBigqhDZ36B+Xf1pOEEQMGDAAAQEBIjTIiMj8euvv+Lu3bsoKChAhw4dMGfOHDg5OSEqKgoWFhYICAh46vua6kBLSwtNmjSBp6cn0tLSMGzYMEgkEowZMwaPHj1CcHAwAGDIkCFITExEUFCQ2vZC/XfbyPDhw7mNQDPaSFVVFYqLi8U2In+3sHXr1igqKgIAhZ5SBw8ejN9++02tt0n37t2Rm5uLvXv34rvvvkNVVRXc3NxgZ2eHr7/+GmlpaZg7dy50dXWxefNmWFpaqn3OFBcXIzMzEwUFBQgLCwMA/PDDD7hz5w5iY2MxZ84cNG7cGAEBAXj11VcxY8YM9O7d+6nvOv/XaWlpoXPnzrCwsMBbb70FS0tLBAYGAgBmzJgBS0tLcdmioiJcvHgR2dnZ+PDDD8XeutXJo0ePMGPGDERERIj7kMjISHTt2hVr1qzBxIkTxWXz8vKwZcsWtT/WEBFu3bqFlJQUdOrUCQsXLsShQ4dQWVmJP//8Ezk5Ofjiiy8QFBSk9jlD/z86iLu7O65fv47MzEy0a9cOAGBsbIxx48YhMzMT+/fvx/Tp0zFo0CCMGzcOY8aMUdvjjJwgCGKv7Rs3bgQRobi4GLa2tgBqtt3du3fh4uKi4kjZC1Ftzc8aQu1ex7dv306CINBPP/1EhYWFFBcXR56enjRv3jwiqnm3qL7HANXVu+++S7NmzSIiovHjx5OZmRk5OTnRuHHj6PTp0yqOTnm4jTwdt5Eatd9Tl7/LPmfOHBo9erTCcn/88Ycyw1KZO3fu0LvvvksGBgbUt29fKigoEOdt3bqVTE1N6cCBA0RUc3dCE3JGJpNRYGAgTZ48mQYPHkyHDx8W5+Xm5tI777xDH3zwwVN7NVdHpaWlCp937NhBgiBQaGio2GakUin98ccfVFhY+Mz3vtWNTCaj4uJiev311+nNN98kqVSq8Jh5Wlqa2ufNzZs3qUePHtS2bVt64403SBAE2rNnD8lkMrp37x6FhIRQz549NeYRaiKiGzdukKWlJY0bN44ePHhARI/v9N66dYsEQaD9+/erMsQGVV1dXefO/bPu5F+/fp3Cw8PJzMyMrl692tDhsZeI73SrIWNjY/H/u3fvjsTERLi7uwMAfHx80LRpUyQmJoKI6u0xUx3R/19R9fPzw//+9z9MmjQJMTExuHjxIlJSUhAWFgY9PT107twZEolE4S6eOuI2Uhe3EUXy3nFlMhl0dXUB1Gyj/Px8cZnFixdDIpEgJCRELcdIra1FixZYvHgxrKys0KdPH1hYWIhtZtSoUZg3bx5OnjyJQYMGqd3ID08jCAI+/vhj9OzZE2VlZZgwYYI4z9raGs2aNUNCQoLYfjSBkZERgJoel7W0tPDWW2+BiDBq1CgIgoCpU6di6dKlyM7Oxo4dO9TyDvfTCIKAxo0bY/To0QgICEBISAi8vLxANa86okOHDqoOscG1bt0aUVFRSEhIwJUrVyAIAoYOHQoAaNq0KVq2bIm4uDi1vdNfnzZt2uDnn3/GwIEDYWBggPnz54tPhejq6sLFxQUWFhYqjrJhXLlyBZ9//jlu376Ntm3bws/PD4GBgdDS0qp3BIT8/Hxs3boVW7ZswfHjx9Wy13Z1pt5nSQy2trbi4ygymQyVlZVo1KgRXFxc1L5oqE3+W1u3bo2xY8eiWbNmOHDgAFq3bo3WrVtDEAS4urpCX19fxZEqH7eRGtxG6qelpSUWl/LPADB37lxERkYiOTlZ7QtuuZYtW2LWrFliGxAEAUSEoqIiNGnSRO2GNXoeHh4eOHToEHx9fbF27VrY29uLxVNVVRUcHR0hlUo1qvAGAG1tbRARZDIZAgMDIQgCRo8ejX379iErKwu//fZbvUOraYLBgwejb9++WLNmDdzd3WFgYKDqkJRKfkz54YcfkJiYiMrKSnG4znv37sHOzg7V1dUqjlK5evXqhejoaIwYMQJ5eXl488034eLigs2bNyM/Px+tWrVSdYgvXUZGBry9vTF8+HAMHjwYR44cwaeffoozZ87gm2++gba2tkLbAABTU1OMHTsWwcHBaNmypQqjZ38Hj9OtYebOnYtNmzbh2LFjajfO4/OoqqrCli1b4OHhARcXF4VigtXgNsJt5Eny9zHnz5+PvLw8ODg4YM6cOTh79qz4hIQmmzdvHrZv346jR4+KF7A0TXx8PEaOHAlra2s4OzujsrIS+/btw+nTpzXmzn995KdYgiCgd+/eSElJwcmTJzXmCaKn+fzzz7F48WJkZmaiefPmqg5HJa5cuYIePXpg9uzZaN68OdLS0rB27VrEx8drbPtISkrC9OnTkZ2dDR0dHWhra2PHjh1qd0Hz0aNHGD9+PCwsLLBy5UoAQEVFBXr06IGUlBQEBgZi27Zt4vIbNmxA7969YWNjo6qQ2UugGbcnGKKjoxEXF4cdO3bg6NGjGllMATWPKtXu7EnTi6nauI3U4DZSl3xb6OrqYt26dTAxMcHp06c1vuDesWMHTpw4gejoaBw/flxjC26g5rWU2NhYREVF4fz583BwcND4ghuo2X9UV1cjLCwMJ06cQEpKisYWVMDj13jef/997Ny5ExUVFaoOSWWcnJywe/duBAcHQ0tLC1ZWVoiLi9Po9uHu7o59+/ahqKgIDx48QIsWLRQ6IFQXEokEd+/eFc+zKioqoK+vj759+8Le3h6ZmZlYtmwZQkNDcfr0aSxevBixsbHYuHGjWnaqpyn4TreGSE9PR0REBObPn49XXnlF1eGwfyFuI+yvJCYmokuXLkhLS4OTk5Oqw1G5S5cuITw8HF988YVGvI/6vGQyGQCofQ/Dz6u6uhobN25E586d4ebmpupw/hWICGVlZeI78JqsqKgIVVVVkEgkMDU1VXU4rIEREcrLyzFgwADY2dlh/fr10NHRwe+//w4vLy/MmzcPsbGx+P333xEbGwugZlSI3r17o3Xr1iqOnv0TXHRrkKqqKo17r469GG4j7K88fPiQT5RrefKdO8bqw6+pMMZqO3PmDHx8fODt7Q1bW1v88ssvGDlyJNatW4e0tDT06NED58+f5wvcaoQvQ2sQLqbYX+E2wv4KF9yKuOBmz4MLbsZYbV5eXjh//jxsbGwgkUiwZMkSrFu3DgBw8+ZNWFtbw8rKSsVRspeJ3+lmjDHGGGOMMSXy9PTE5s2b61yUO3XqFJo1a8YX69QMF92MMcYYY4wxpmS1C+vLly/ju+++Q1RUFOLj4zVqvHZNwEU3Y4wxxhhjjKnIo0ePcOPGDRQVFeHUqVNwcXFRdUjsJeOO1BhjjDHGGGNMhR49egSpVMp9p6gpLroZY4wxxhhjjLEGwr2XM8YYY4wxxhhjDYSLbsYYY4wxxhhjrIFw0c0YY4wxxhhjjDUQLroZY4wxxhhjjLEGwkU3Y4wxxhhjjDHWQLjoZowxxhhjjDHGGggX3YwxxhhjjDHGWAPhopsxxhhjjDHGGGsgXHQzxhhjzxAUFITXX3/9hdYRBAF79uxpkHhelJ2dHb766qvnWk4QBAiCAENDQzg7O+OHH3544X/vZf72kpISzJ49G+3bt4e+vj6aN2+OPn364JdffgERPdd3nDx5EoIgoLi4+KXExBhjjL0oHVUHwBhjjLH6VVVVQVdXV2n/XkREBIKDg1FWVobo6GgEBwfDysoKAwcOVFoMcsXFxfD29saff/6JyMhIeHp6QkdHB3FxcZgxYwb8/Pxgamqq9Lj+qcrKSujp6ak6DMYYY0rEd7oZY4yxF9CzZ0+EhIRgxowZMDc3R/PmzTF//nxxvp2dHQBg2LBhEARB/AwAe/fuhbu7O/T19WFvb4/PPvsMUqlUnC8IAtasWYMhQ4bAyMgICxcu/Mv1iAjz58+HjY0NJBIJWrZsiZCQEDHWnJwcTJs2TbyL/SzGxsZo3rw57O3tMXPmTJibm+Po0aPi/ISEBPTt2xeWlpZo3LgxfH19kZSU9FJ++5PCw8ORnZ2NCxcuYMyYMXBycoKjoyOCg4ORkpKCRo0aAQC2bNkCDw8PMfZRo0YhPz8fAJCdnY1evXoBAMzMzCAIAoKCggAAMpkMixcvRuvWrWFgYABXV1fs3LlTIYZ9+/bBwcEB+vr66NWrFzZt2lTnrvmuXbvQoUMHSCQS2NnZYfny5QrfYWdnhwULFuDdd9+FiYkJJkyYAD8/P0yePFlhufv370NPTw/Hjx9/xl+IMcbYfxIxxhhj7KnGjBlDQ4cOFT/7+vqSiYkJzZ8/n65du0abNm0iQRDoyJEjRESUn59PAGjDhg2Ul5dH+fn5REQUHx9PJiYmtHHjRsrKyqIjR46QnZ0dzZ8/X/xuANS0aVNav349ZWVlUU5Ozl+uFx0dTSYmJhQTE0M5OTl04cIFWrt2LRERFRYWkrW1NUVERFBeXh7l5eU99Xfa2trSl19+SURE1dXVtHPnThIEgWbOnCkuc/z4cdqyZQtdvXqVrly5QuPHj6dmzZpRSUnJP/7ttVVXV5OZmRlNmDDhL/8+P/74I8XExFBWVhadO3eOunfvTgMHDiQiIqlUSrt27SIAlJmZSXl5eVRcXExERJGRkdS+fXs6fPgwZWVl0YYNG0gikdDJkyeJiOjmzZukq6tLoaGhlJGRQdu3bycrKysCQH/88QcRESUmJpKWlhZFRERQZmYmbdiwgQwMDGjDhg0K29XExISWLVtGN27coBs3btDWrVvJzMyMKioqxOVWrFhBdnZ2JJPJ/vI3M8YY+2/hopsxxhh7hvqKbm9vb4VlPD09FYpTALR7926FZXr37k2LFi1SmLZlyxZq0aKFwnpTp059ofWWL19Ojo6OVFlZWW/8tYvpZ7G1tSU9PT0yMjIiHR0dAkDm5uZ0/fr1p65TXV1NxsbGtH//foXf8Hd+e2337t0jALRixYq/jPtJCQkJBIAePHhAREQnTpxQKJSJiCoqKsjQ0JDOnj2rsO748eNp5MiRREQ0c+ZM6tixo8L82bNnK3zXqFGjqG/fvgrLhIWFkZOTk/jZ1taWXn/9dYVlysvLyczMjH766SdxmouLy1MvQjDGGPtv48fLGWOMsRfk4uKi8LlFixbiI81Pk5qaioiICDRq1Ej8Lzg4GHl5eSgrKxOX8/DweKH1RowYgfLyctjb2yM4OBi7d+9+5mPbzxIWFoaUlBTExsaia9eu+PLLL9G2bVtx/r179xAcHAwHBwc0btwYJiYmKC0txa1bt17Kb5ej5+wkDQAuXryI1157DTY2NjA2Noavry8APDOmGzduoKysDH379lWIafPmzcjKygIAZGZmwtPTU2G9Ll26KHy+evUqvLy8FKZ5eXnh+vXrqK6uFqc9+TfV19fH6NGjsX79egBAUlIS0tLSxEffGWOMqRfuSI0xxhh7QU92biYIAmQy2TPXKS0txWeffYbhw4fXmaevry/+v5GR0Qut16pVK2RmZuLYsWM4evQoJk2ahKVLlyIuLu6FO2GztLRE27Zt0bZtW0RHR8PZ2RkeHh5wcnICAIwZMwaFhYVYuXIlbG1tIZFI0L17d1RWVr6U3y7XpEkTmJqaIiMj45nf+/DhQ/Tv3x/9+/fH1q1b0aRJE9y6dQv9+/d/ZkylpaUAgIMHD8LKykphnkQieea/+Xc8+TcFgPfeew9ubm64ffs2NmzYAD8/P9ja2r70f5sxxpjqcdHNGGOMvWS6uroKdzoBwN3dHZmZmQp3jp/H86xnYGCA1157Da+99ho+/PBDtG/fHpcvX4a7uzv09PTqxPI8WrVqhbfeeguffPIJ9u7dCwA4c+YMVq9eDX9/fwBAbm4uCgoKFNZ7Gb9dS0sLgYGB2LJlC+bNm4eWLVsqzC8tLYW+vj4yMjJQWFiIzz//HK1atQIAJCYmKiwr7ym8dkxOTk6QSCS4deuWeGf8Se3atUNMTIzCtISEBIXPr7zyCs6cOaMw7cyZM3B0dIS2tvYzf6P8gsa6deuwbds2fPvtt89cnjHG2H8XF92MMcbYS2ZnZ4fjx4/Dy8sLEokEZmZmmDt3LgYPHgwbGxsEBARAS0sLqampSEtLQ2Rk5FO/66/W27hxI6qrq9G1a1cYGhoiKioKBgYG4l1TOzs7xMfHIzAwEBKJBJaWls/9Oz766CN07NgRiYmJ8PDwgIODg9hbeElJCcLCwmBgYNAgv33hwoU4efIkunbtioULF8LDwwO6uro4deoUFi9ejISEBNjY2EBPTw/ffPMNPvjgA6SlpWHBggUK32NrawtBEHDgwAH4+/vDwMAAxsbGCA0NxbRp0yCTycShyc6cOQMTExOMGTMG77//PlasWIGZM2di/PjxSElJwcaNGwFA7AX+448/hqenJxYsWIC33noL586dw7fffovVq1c/1/Z97733MHnyZBgZGWHYsGHP/XdhjDH2H6Pql8oZY4yxf7P6OlL76KOPFJYZOnQojRkzRvy8b98+atu2Leno6JCtra04/fDhw9SjRw8yMDAgExMT6tKli9jTOFH9nZD91Xq7d++mrl27komJCRkZGVG3bt3o2LFj4rrnzp0jFxcXkkgk9KzD/tM6XOvfv7/YG3hSUhJ5eHiQvr4+OTg4UHR0dJ31/u5vr09xcTHNmjWLHBwcSE9Pj5o1a0Z9+vSh3bt3i718b9u2jezs7EgikVD37t1p3759BICSk5PF74mIiKDmzZuTIAji30kmk9FXX31F7dq1I11dXWrSpAn179+f4uLixPX27t1Lbdu2JYlEQj179qQ1a9YQACovLxeX2blzJzk5OZGuri7Z2NjQ0qVLn2u7EhE9ePCADA0NadKkSc/cDowxxv7bBKIX6K2EMcYYY0xDLVy4EN999x1yc3NfyvdlZ2ejTZs2SEhIgLu7+0v5TsYYY/8+/Hg5Y4wxxlg9Vq9eDU9PT1hYWODMmTNYunQpJk+e/I+/t6qqCoWFhZgzZw66devGBTdjjKk5LroZY4wxxupx/fp1REZGoqioCDY2Nvj444/xySef/OPvPXPmDHr16gVHR0fs3LnzJUTKGGPs34wfL2eMMcYYY4wxxhqIlqoDYIwxxhhjjDHG1BUX3YwxxhhjjDHGWAPhopsxxhhjjDHGGGsgXHQzxhhjjDHGGGMNhItuxhhjjDHGGGOsgXDRzRhjjDHGGGOMNRAuuhljjDHGGGOMsQbCRTdjjDHGGGOMMdZAuOhmjDHGGGOMMcYayP8BoBiDlDXPNdYAAAAASUVORK5CYII=",
>>>>>>> rianna
      "text/plain": [
       "<Figure size 1000x600 with 1 Axes>"
      ]
     },
     "metadata": {},
     "output_type": "display_data"
    }
   ],
   "source": [
    "import matplotlib.pyplot as plt\n",
    "\n",
    "# Filter the DataFrame to exclude the 'Other' category\n",
    "filtered_df = df[df['interest_rate'] != 'Other']\n",
    "\n",
    "# Get the value counts for the filtered DataFrame\n",
    "value_counts = filtered_df['interest_rate'].value_counts()\n",
    "\n",
    "# Plot the bar chart\n",
    "plt.figure(figsize=(10, 6))\n",
    "plt.bar(value_counts.index, value_counts.values, color='skyblue')\n",
    "plt.xlabel('Interest Rate Category')\n",
    "plt.ylabel('Count')\n",
    "plt.title('Distribution of Interest Rate Categories (Excluding \"Other\")')\n",
    "plt.xticks(rotation=45, ha='right')  # Rotate x-axis labels for readability\n",
    "\n",
    "# Display the counts on top of the bars\n",
    "for i, count in enumerate(value_counts.values):\n",
    "    plt.text(i, count, str(count), ha='center', va='bottom')\n",
    "\n",
    "plt.tight_layout()\n",
    "plt.show()\n"
   ]
  },
  {
   "cell_type": "code",
<<<<<<< HEAD
   "execution_count": 20,
=======
   "execution_count": 19,
>>>>>>> rianna
   "id": "3c9b3c96-68c3-4b4c-9d2b-f2144494904b",
   "metadata": {
    "tags": []
   },
   "outputs": [
    {
     "name": "stdout",
     "output_type": "stream",
     "text": [
      "interest_rate\n",
<<<<<<< HEAD
      "3.5-4.0     40625\n",
      "4.0-4.5      8243\n",
      "3.0-3.5      7101\n",
      "4.5-5.0      3380\n",
      "2.0-3.0      1872\n",
      "5.0-6.0      1488\n",
      "6.0-7.0       184\n",
      "7.0-8.0        15\n",
      "8.0-9.0        13\n",
      "9.9-15.0        5\n",
      "0.0-1.0         3\n",
      "1.0-2.0         3\n",
=======
      "3.5-4.0     110617\n",
      "4.0-4.5      19454\n",
      "3.0-3.5      14704\n",
      "4.5-5.0       8175\n",
      "2.0-3.0       4746\n",
      "5.0-6.0       4039\n",
      "6.0-7.0        394\n",
      "1.0-2.0         26\n",
      "7.0-8.0         23\n",
      "8.0-9.0         16\n",
      "0.0-1.0          7\n",
      "9.9-15.0         4\n",
>>>>>>> rianna
      "Name: count, dtype: int64\n"
     ]
    }
   ],
   "source": [
    "print(df['interest_rate'].value_counts())"
   ]
  },
  {
   "cell_type": "code",
<<<<<<< HEAD
   "execution_count": 21,
=======
   "execution_count": 20,
>>>>>>> rianna
   "id": "709c0b02-49d4-4f21-83fb-f525aee2b16a",
   "metadata": {
    "tags": []
   },
   "outputs": [],
   "source": [
    "df.to_csv('5_interest_rate.csv', index=False)"
   ]
  },
  {
   "cell_type": "code",
   "execution_count": null,
   "id": "060f4dc4-97d9-46c1-a6f2-cc6e5e9afaa7",
   "metadata": {},
   "outputs": [],
   "source": []
  }
 ],
 "metadata": {
  "kernelspec": {
   "display_name": "Python 3 (ipykernel)",
   "language": "python",
   "name": "python3"
  },
  "language_info": {
   "codemirror_mode": {
    "name": "ipython",
    "version": 3
   },
   "file_extension": ".py",
   "mimetype": "text/x-python",
   "name": "python",
   "nbconvert_exporter": "python",
   "pygments_lexer": "ipython3",
   "version": "3.9.18"
  }
 },
 "nbformat": 4,
 "nbformat_minor": 5
}
