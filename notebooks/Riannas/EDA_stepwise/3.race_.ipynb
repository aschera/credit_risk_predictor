{
 "cells": [
  {
<<<<<<< HEAD
   "cell_type": "markdown",
   "id": "53af85e4-21f9-4765-8f26-036a2a803366",
   "metadata": {},
   "source": [
    "# Imports"
   ]
  },
  {
=======
>>>>>>> rianna
   "cell_type": "code",
   "execution_count": 1,
   "id": "e2124416-86de-4f7b-84d6-9cb6b3a5b458",
   "metadata": {
    "tags": []
   },
   "outputs": [],
   "source": [
    "import warnings\n",
    "import numpy as np\n",
    "import pandas as pd\n",
    "import seaborn as sns\n",
    "import matplotlib.pyplot as plt\n",
    "import seaborn as sns\n",
    "\n",
    "from itertools import product\n",
    "import matplotlib.pyplot as plt"
   ]
  },
  {
   "cell_type": "code",
   "execution_count": 2,
   "id": "b29bb4f9-9d5d-420f-aa81-b8a75ae2b830",
   "metadata": {},
   "outputs": [],
   "source": [
    "# load dataset 2"
   ]
  },
  {
   "cell_type": "code",
   "execution_count": 3,
   "id": "344b4a95-526c-4ce5-a2b3-7aea0acac080",
   "metadata": {
    "tags": []
   },
<<<<<<< HEAD
   "outputs": [
    {
     "name": "stdout",
     "output_type": "stream",
     "text": [
      "<class 'pandas.core.frame.DataFrame'>\n",
      "RangeIndex: 85358 entries, 0 to 85357\n",
      "Data columns (total 33 columns):\n",
      " #   Column                                    Non-Null Count  Dtype  \n",
      "---  ------                                    --------------  -----  \n",
      " 0   action_taken                              85358 non-null  int64  \n",
      " 1   loan_type                                 85358 non-null  int64  \n",
      " 2   lien_status                               85358 non-null  int64  \n",
      " 3   open_end_line_of_credit                   85358 non-null  int64  \n",
      " 4   loan_amount                               85358 non-null  int64  \n",
      " 5   combined_loan_to_value_ratio              83673 non-null  object \n",
      " 6   interest_rate                             48750 non-null  object \n",
      " 7   total_loan_costs                          48750 non-null  object \n",
      " 8   origination_charges                       48750 non-null  object \n",
      " 9   loan_term                                 85303 non-null  object \n",
      " 10  negative_amortization                     85358 non-null  int64  \n",
      " 11  interest_only_payment                     85358 non-null  int64  \n",
      " 12  balloon_payment                           85358 non-null  int64  \n",
      " 13  other_nonamortizing_features              85358 non-null  int64  \n",
      " 14  property_value                            84190 non-null  object \n",
      " 15  occupancy_type                            85358 non-null  int64  \n",
      " 16  manufactured_home_secured_property_type   85358 non-null  int64  \n",
      " 17  manufactured_home_land_property_interest  85358 non-null  int64  \n",
      " 18  total_units                               85358 non-null  object \n",
      " 19  income                                    82529 non-null  float64\n",
      " 20  debt_to_income_ratio                      84356 non-null  object \n",
      " 21  applicant_credit_score_type               85358 non-null  int64  \n",
      " 22  co_applicant_credit_score_type            85358 non-null  int64  \n",
      " 23  applicant_ethnicity_1                     85037 non-null  float64\n",
      " 24  co_applicant_ethnicity_1                  85047 non-null  float64\n",
      " 25  applicant_race_1                          85266 non-null  float64\n",
      " 26  applicant_race_2                          4568 non-null   float64\n",
      " 27  co_applicant_race_1                       85256 non-null  float64\n",
      " 28  co_applicant_race_2                       4647 non-null   float64\n",
      " 29  applicant_sex                             85358 non-null  int64  \n",
      " 30  co_applicant_sex                          85358 non-null  int64  \n",
      " 31  applicant_age                             85358 non-null  object \n",
      " 32  co_applicant_age                          85358 non-null  object \n",
      "dtypes: float64(7), int64(16), object(10)\n",
      "memory usage: 21.5+ MB\n"
     ]
    },
    {
     "data": {
      "text/html": [
       "<div>\n",
       "<style scoped>\n",
       "    .dataframe tbody tr th:only-of-type {\n",
       "        vertical-align: middle;\n",
       "    }\n",
       "\n",
       "    .dataframe tbody tr th {\n",
       "        vertical-align: top;\n",
       "    }\n",
       "\n",
       "    .dataframe thead th {\n",
       "        text-align: right;\n",
       "    }\n",
       "</style>\n",
       "<table border=\"1\" class=\"dataframe\">\n",
       "  <thead>\n",
       "    <tr style=\"text-align: right;\">\n",
       "      <th></th>\n",
       "      <th>action_taken</th>\n",
       "      <th>loan_type</th>\n",
       "      <th>lien_status</th>\n",
       "      <th>open_end_line_of_credit</th>\n",
       "      <th>loan_amount</th>\n",
       "      <th>combined_loan_to_value_ratio</th>\n",
       "      <th>interest_rate</th>\n",
       "      <th>total_loan_costs</th>\n",
       "      <th>origination_charges</th>\n",
       "      <th>loan_term</th>\n",
       "      <th>...</th>\n",
       "      <th>applicant_ethnicity_1</th>\n",
       "      <th>co_applicant_ethnicity_1</th>\n",
       "      <th>applicant_race_1</th>\n",
       "      <th>applicant_race_2</th>\n",
       "      <th>co_applicant_race_1</th>\n",
       "      <th>co_applicant_race_2</th>\n",
       "      <th>applicant_sex</th>\n",
       "      <th>co_applicant_sex</th>\n",
       "      <th>applicant_age</th>\n",
       "      <th>co_applicant_age</th>\n",
       "    </tr>\n",
       "  </thead>\n",
       "  <tbody>\n",
       "    <tr>\n",
       "      <th>0</th>\n",
       "      <td>3</td>\n",
       "      <td>3</td>\n",
       "      <td>1</td>\n",
       "      <td>2</td>\n",
       "      <td>205000</td>\n",
       "      <td>110.256</td>\n",
       "      <td>NaN</td>\n",
       "      <td>NaN</td>\n",
       "      <td>NaN</td>\n",
       "      <td>360</td>\n",
       "      <td>...</td>\n",
       "      <td>2.0</td>\n",
       "      <td>2.0</td>\n",
       "      <td>5.0</td>\n",
       "      <td>NaN</td>\n",
       "      <td>5.0</td>\n",
       "      <td>NaN</td>\n",
       "      <td>1</td>\n",
       "      <td>2</td>\n",
       "      <td>&gt;74</td>\n",
       "      <td>65-74</td>\n",
       "    </tr>\n",
       "    <tr>\n",
       "      <th>1</th>\n",
       "      <td>3</td>\n",
       "      <td>2</td>\n",
       "      <td>1</td>\n",
       "      <td>2</td>\n",
       "      <td>155000</td>\n",
       "      <td>59.485</td>\n",
       "      <td>NaN</td>\n",
       "      <td>NaN</td>\n",
       "      <td>NaN</td>\n",
       "      <td>360</td>\n",
       "      <td>...</td>\n",
       "      <td>2.0</td>\n",
       "      <td>2.0</td>\n",
       "      <td>5.0</td>\n",
       "      <td>NaN</td>\n",
       "      <td>5.0</td>\n",
       "      <td>NaN</td>\n",
       "      <td>2</td>\n",
       "      <td>1</td>\n",
       "      <td>55-64</td>\n",
       "      <td>55-64</td>\n",
       "    </tr>\n",
       "    <tr>\n",
       "      <th>2</th>\n",
       "      <td>3</td>\n",
       "      <td>2</td>\n",
       "      <td>1</td>\n",
       "      <td>2</td>\n",
       "      <td>125000</td>\n",
       "      <td>61.367</td>\n",
       "      <td>NaN</td>\n",
       "      <td>NaN</td>\n",
       "      <td>NaN</td>\n",
       "      <td>360</td>\n",
       "      <td>...</td>\n",
       "      <td>2.0</td>\n",
       "      <td>2.0</td>\n",
       "      <td>5.0</td>\n",
       "      <td>NaN</td>\n",
       "      <td>5.0</td>\n",
       "      <td>NaN</td>\n",
       "      <td>1</td>\n",
       "      <td>2</td>\n",
       "      <td>65-74</td>\n",
       "      <td>55-64</td>\n",
       "    </tr>\n",
       "    <tr>\n",
       "      <th>3</th>\n",
       "      <td>3</td>\n",
       "      <td>2</td>\n",
       "      <td>1</td>\n",
       "      <td>2</td>\n",
       "      <td>55000</td>\n",
       "      <td>57.997</td>\n",
       "      <td>NaN</td>\n",
       "      <td>NaN</td>\n",
       "      <td>NaN</td>\n",
       "      <td>360</td>\n",
       "      <td>...</td>\n",
       "      <td>2.0</td>\n",
       "      <td>2.0</td>\n",
       "      <td>3.0</td>\n",
       "      <td>NaN</td>\n",
       "      <td>3.0</td>\n",
       "      <td>NaN</td>\n",
       "      <td>1</td>\n",
       "      <td>2</td>\n",
       "      <td>45-54</td>\n",
       "      <td>45-54</td>\n",
       "    </tr>\n",
       "    <tr>\n",
       "      <th>4</th>\n",
       "      <td>3</td>\n",
       "      <td>1</td>\n",
       "      <td>1</td>\n",
       "      <td>2</td>\n",
       "      <td>345000</td>\n",
       "      <td>78.841</td>\n",
       "      <td>NaN</td>\n",
       "      <td>NaN</td>\n",
       "      <td>NaN</td>\n",
       "      <td>180</td>\n",
       "      <td>...</td>\n",
       "      <td>2.0</td>\n",
       "      <td>2.0</td>\n",
       "      <td>5.0</td>\n",
       "      <td>NaN</td>\n",
       "      <td>5.0</td>\n",
       "      <td>NaN</td>\n",
       "      <td>1</td>\n",
       "      <td>2</td>\n",
       "      <td>45-54</td>\n",
       "      <td>45-54</td>\n",
       "    </tr>\n",
       "  </tbody>\n",
       "</table>\n",
       "<p>5 rows × 33 columns</p>\n",
       "</div>"
      ],
      "text/plain": [
       "   action_taken  loan_type  lien_status  open_end_line_of_credit  loan_amount  \\\n",
       "0             3          3            1                        2       205000   \n",
       "1             3          2            1                        2       155000   \n",
       "2             3          2            1                        2       125000   \n",
       "3             3          2            1                        2        55000   \n",
       "4             3          1            1                        2       345000   \n",
       "\n",
       "  combined_loan_to_value_ratio interest_rate total_loan_costs  \\\n",
       "0                      110.256           NaN              NaN   \n",
       "1                       59.485           NaN              NaN   \n",
       "2                       61.367           NaN              NaN   \n",
       "3                       57.997           NaN              NaN   \n",
       "4                       78.841           NaN              NaN   \n",
       "\n",
       "  origination_charges loan_term  ...  applicant_ethnicity_1  \\\n",
       "0                 NaN       360  ...                    2.0   \n",
       "1                 NaN       360  ...                    2.0   \n",
       "2                 NaN       360  ...                    2.0   \n",
       "3                 NaN       360  ...                    2.0   \n",
       "4                 NaN       180  ...                    2.0   \n",
       "\n",
       "   co_applicant_ethnicity_1  applicant_race_1  applicant_race_2  \\\n",
       "0                       2.0               5.0               NaN   \n",
       "1                       2.0               5.0               NaN   \n",
       "2                       2.0               5.0               NaN   \n",
       "3                       2.0               3.0               NaN   \n",
       "4                       2.0               5.0               NaN   \n",
       "\n",
       "  co_applicant_race_1  co_applicant_race_2  applicant_sex  co_applicant_sex  \\\n",
       "0                 5.0                  NaN              1                 2   \n",
       "1                 5.0                  NaN              2                 1   \n",
       "2                 5.0                  NaN              1                 2   \n",
       "3                 3.0                  NaN              1                 2   \n",
       "4                 5.0                  NaN              1                 2   \n",
       "\n",
       "  applicant_age  co_applicant_age  \n",
       "0           >74             65-74  \n",
       "1         55-64             55-64  \n",
       "2         65-74             55-64  \n",
       "3         45-54             45-54  \n",
       "4         45-54             45-54  \n",
       "\n",
       "[5 rows x 33 columns]"
      ]
     },
     "execution_count": 3,
     "metadata": {},
     "output_type": "execute_result"
    }
   ],
   "source": [
    "df = pd.read_csv('2_distribution_applicant_sex_and_action_taken.csv', low_memory=False)\n",
    "df.info()\n",
    "df.head()"
=======
   "outputs": [],
   "source": [
    "df = pd.read_csv('2_distribution_applicant_sex_and_action_taken.csv', low_memory=False)"
>>>>>>> rianna
   ]
  },
  {
   "cell_type": "markdown",
   "id": "86696652-483d-4d88-a977-607ef7d42fab",
   "metadata": {
    "tags": []
   },
   "source": [
<<<<<<< HEAD
    "# 3 applicant_ethnicity_1 and applicant_race_1 distribution"
=======
    "# 3 ethnicity and race distribution"
>>>>>>> rianna
   ]
  },
  {
   "cell_type": "markdown",
   "id": "367fee5e-5edc-4d7b-95ed-da65165f996b",
   "metadata": {},
   "source": [
<<<<<<< HEAD
    "## All the applicant_race_1 and applicant_ethnicity_1 columns we want\n",
=======
    "## All the race and ethnicity columns we want\n",
>>>>>>> rianna
    "\n",
    "applicant_ethnicity_1                     \n",
    "                 \n",
    "co_applicant_ethnicity_1 \n",
    "\n",
    "applicant_race_1                          \n",
    "applicant_race_2                         \n",
    "\n",
    "co_applicant_race_1                      \n",
    "co_applicant_race_2                      "
   ]
  },
  {
   "cell_type": "markdown",
   "id": "7d658ca1-cbe0-412d-bb69-f752ec41282f",
   "metadata": {},
   "source": [
    "## Columns we use for the model"
   ]
  },
  {
   "cell_type": "code",
   "execution_count": 4,
   "id": "b8ff3d6d-0420-4308-a90b-a99644725dd0",
   "metadata": {},
   "outputs": [],
   "source": [
    "columns_of_interest = ['applicant_ethnicity_1', 'co_applicant_ethnicity_1', 'applicant_race_1', 'applicant_race_2', 'co_applicant_race_1', 'co_applicant_race_2']"
   ]
  },
  {
   "cell_type": "code",
   "execution_count": 5,
   "id": "a35f4109-02b5-4239-947e-46cd7bce8677",
   "metadata": {
    "tags": []
   },
   "outputs": [
    {
     "name": "stdout",
     "output_type": "stream",
     "text": [
      "<class 'pandas.core.frame.DataFrame'>\n",
<<<<<<< HEAD
      "RangeIndex: 85358 entries, 0 to 85357\n",
      "Data columns (total 6 columns):\n",
      " #   Column                    Non-Null Count  Dtype  \n",
      "---  ------                    --------------  -----  \n",
      " 0   applicant_ethnicity_1     85037 non-null  float64\n",
      " 1   co_applicant_ethnicity_1  85047 non-null  float64\n",
      " 2   applicant_race_1          85266 non-null  float64\n",
      " 3   applicant_race_2          4568 non-null   float64\n",
      " 4   co_applicant_race_1       85256 non-null  float64\n",
      " 5   co_applicant_race_2       4647 non-null   float64\n",
      "dtypes: float64(6)\n",
      "memory usage: 3.9 MB\n",
=======
      "RangeIndex: 162206 entries, 0 to 162205\n",
      "Data columns (total 6 columns):\n",
      " #   Column                    Non-Null Count   Dtype  \n",
      "---  ------                    --------------   -----  \n",
      " 0   applicant_ethnicity_1     161278 non-null  float64\n",
      " 1   co_applicant_ethnicity_1  161883 non-null  float64\n",
      " 2   applicant_race_1          161903 non-null  float64\n",
      " 3   applicant_race_2          9251 non-null    float64\n",
      " 4   co_applicant_race_1       162113 non-null  float64\n",
      " 5   co_applicant_race_2       4252 non-null    float64\n",
      "dtypes: float64(6)\n",
      "memory usage: 7.4 MB\n",
>>>>>>> rianna
      "None\n"
     ]
    }
   ],
   "source": [
    "info_df = df[columns_of_interest]\n",
    "print(info_df.info())"
   ]
  },
  {
   "cell_type": "markdown",
   "id": "2cbbe9a6-3ef6-43a1-b48f-e0d395c9fd1b",
   "metadata": {},
   "source": [
    "# Race"
   ]
  },
  {
<<<<<<< HEAD
=======
   "cell_type": "code",
   "execution_count": 6,
   "id": "6353e7be-80a7-45b8-b4c9-70a0707c0fca",
   "metadata": {
    "tags": []
   },
   "outputs": [
    {
     "name": "stdout",
     "output_type": "stream",
     "text": [
      "applicant_race_1\n",
      "5.0     113478\n",
      "6.0      19087\n",
      "3.0      12757\n",
      "2.0      10246\n",
      "21.0      1809\n",
      "1.0       1711\n",
      "22.0       667\n",
      "23.0       500\n",
      "27.0       421\n",
      "26.0       301\n",
      "4.0        268\n",
      "25.0       225\n",
      "44.0       182\n",
      "7.0        140\n",
      "24.0        66\n",
      "42.0        19\n",
      "41.0        14\n",
      "43.0        12\n",
      "Name: count, dtype: int64\n"
     ]
    }
   ],
   "source": [
    "print(df['applicant_race_1'].value_counts())"
   ]
  },
  {
>>>>>>> rianna
   "cell_type": "markdown",
   "id": "b9921ae4-2095-410a-98d1-72eef3db22b2",
   "metadata": {
    "tags": []
   },
   "source": [
    "Values:\n",
    "- 1 - American Indian or Alaska Native\n",
    "- 2 - Asian\n",
    "- 21 - Asian Indian\n",
    "- 22 - Chinese\n",
    "- 23 - Filipino\n",
    "- 24 - Japanese\n",
    "- 25 - Korean\n",
    "- 26 - Vietnamese\n",
    "- 27 - Other Asian\n",
    "- 3 - Black or African American\n",
    "- 4 - Native Hawaiian or Other Pacific Islander\n",
    "- 41 - Native Hawaiian\n",
    "- 42 - Guamanian or Chamorro\n",
    "- 43 - Samoan\n",
    "- 44 - Other Pacific Islander\n",
    "- 5 - White\n",
    "- 6 - Information not provided by applicant in mail, internet, or telephone application\n",
    "- 7 - Not applicable"
   ]
  },
  {
   "cell_type": "markdown",
   "id": "91be669b-178a-4a9a-82d3-724f73a1281f",
   "metadata": {},
   "source": [
    "### We only want 5 - White and 3 - Black or African American"
   ]
  },
  {
   "cell_type": "code",
<<<<<<< HEAD
   "execution_count": 6,
=======
   "execution_count": 7,
>>>>>>> rianna
   "id": "8d2d1ced-16d7-49c2-baff-b1b41dea44ab",
   "metadata": {
    "tags": []
   },
   "outputs": [],
   "source": [
    "# Columns of interest\n",
    "columns_of_race = ['applicant_race_1', 'applicant_race_2', 'co_applicant_race_1', 'co_applicant_race_2']"
   ]
  },
  {
   "cell_type": "markdown",
<<<<<<< HEAD
=======
   "id": "c74888f3-142e-48ef-9145-d82052bf8e5c",
   "metadata": {},
   "source": [
    "### remove not needed columns"
   ]
  },
  {
   "cell_type": "code",
   "execution_count": 8,
   "id": "a843d028-64d3-4794-8970-cb1cf915e36d",
   "metadata": {
    "tags": []
   },
   "outputs": [
    {
     "name": "stdout",
     "output_type": "stream",
     "text": [
      "applicant_race_1\n",
      "applicant_race_1\n",
      "5.0    113478\n",
      "3.0     12757\n",
      "Name: count, dtype: int64\n",
      "applicant_race_2\n",
      "applicant_race_2\n",
      "5.0    1353\n",
      "3.0     191\n",
      "Name: count, dtype: int64\n",
      "co_applicant_race_1\n",
      "co_applicant_race_1\n",
      "5.0    53147\n",
      "3.0     3256\n",
      "Name: count, dtype: int64\n",
      "co_applicant_race_2\n",
      "co_applicant_race_2\n",
      "5.0    436\n",
      "3.0     38\n",
      "Name: count, dtype: int64\n"
     ]
    }
   ],
   "source": [
    "# Filter the DataFrame to keep rows with categories 2 and 3 for the specified columns\n",
    "filtered_race = df[columns_of_race].isin([5.0, 3.0])\n",
    "\n",
    "# Filter the race columns\n",
    "filtered_df_race = df[columns_of_race][filtered_race]\n",
    "\n",
    "# Merge the filtered race columns with the rest of the DataFrame\n",
    "filtered_df = pd.concat([df.drop(columns_of_race, axis=1), filtered_df_race], axis=1)\n",
    "\n",
    "# Print the value counts for each column\n",
    "for column in columns_of_race:\n",
    "    print(f\"{column}\\n{filtered_df[column].value_counts()}\")\n"
   ]
  },
  {
   "cell_type": "markdown",
>>>>>>> rianna
   "id": "1983efe3-f434-422a-9bcd-cf65d84dce8f",
   "metadata": {},
   "source": [
    "# Ethnicity"
   ]
  },
  {
<<<<<<< HEAD
=======
   "cell_type": "code",
   "execution_count": 9,
   "id": "da13868d-2c17-40b9-b35a-f7c281ca3ef5",
   "metadata": {
    "tags": []
   },
   "outputs": [
    {
     "name": "stdout",
     "output_type": "stream",
     "text": [
      "applicant_ethnicity_1\n",
      "2.0     122761\n",
      "1.0      18591\n",
      "3.0      16696\n",
      "11.0      1300\n",
      "14.0      1258\n",
      "12.0       329\n",
      "13.0       208\n",
      "4.0        135\n",
      "Name: count, dtype: int64\n"
     ]
    }
   ],
   "source": [
    "print(filtered_df['applicant_ethnicity_1'].value_counts())"
   ]
  },
  {
>>>>>>> rianna
   "cell_type": "markdown",
   "id": "d4d661e2-8f57-4de3-84d1-43cd56a77269",
   "metadata": {},
   "source": [
    "Values:\n",
    "- 1 - Hispanic or Latino\n",
    "- 11 - Mexican\n",
    "- 12 - Puerto Rican\n",
    "- 13 - Cuban\n",
    "- 14 - Other Hispanic or Latino\n",
    "- 2 - Not Hispanic or Latino\n",
    "- 3 - Information not provided by applicant in mail, internet, or telephone application\n",
    "- 4 - Not applicable"
   ]
  },
  {
   "cell_type": "markdown",
   "id": "3240327c-d49b-4611-b42c-b91edfbf03d3",
   "metadata": {},
   "source": [
    "### We only want 2 - Not Hispanic or Latino & 1 - Hispanic or Latino "
   ]
  },
  {
   "cell_type": "code",
<<<<<<< HEAD
   "execution_count": 7,
=======
   "execution_count": 10,
>>>>>>> rianna
   "id": "80570578-dd9b-4b0c-9482-71ac89262919",
   "metadata": {
    "tags": []
   },
   "outputs": [],
   "source": [
    "columns_of_ethnicity = ['applicant_ethnicity_1', 'co_applicant_ethnicity_1']"
   ]
  },
  {
   "cell_type": "markdown",
<<<<<<< HEAD
   "id": "fcfbe57c-d907-4d1c-8f3f-909ea8a5661f",
   "metadata": {},
   "source": [
    "# Remove applicant_race_1 and applicant_ethnicity_1"
   ]
  },
  {
   "cell_type": "code",
   "execution_count": 8,
   "id": "e19ff941-790a-4f11-9fff-b58ec5585740",
   "metadata": {
    "tags": []
   },
   "outputs": [
    {
     "data": {
      "text/plain": [
       "applicant_race_2\n",
       "21.0    1106\n",
       "22.0    1029\n",
       "5.0      570\n",
       "23.0     556\n",
       "26.0     442\n",
       "25.0     315\n",
       "27.0     278\n",
       "24.0     102\n",
       "44.0      50\n",
       "3.0       46\n",
       "4.0       25\n",
       "41.0      23\n",
       "42.0      11\n",
       "43.0       9\n",
       "2.0        6\n",
       "Name: count, dtype: int64"
      ]
     },
     "execution_count": 8,
     "metadata": {},
     "output_type": "execute_result"
    }
   ],
   "source": [
    "df['applicant_race_2'].value_counts()"
   ]
  },
  {
   "cell_type": "code",
   "execution_count": 9,
   "id": "94f68055-3f7f-4440-97db-bdcc6a5ba3c2",
   "metadata": {
    "tags": []
   },
   "outputs": [
    {
     "name": "stdout",
     "output_type": "stream",
     "text": [
      "Value counts for applicant_race_1 after filtering:\n",
      "applicant_race_1\n",
      "5.0    59524\n",
      "3.0     3410\n",
      "Name: count, dtype: int64\n",
      "co_applicant_race_1\n",
      "5.0    59505\n",
      "3.0     3429\n",
      "Name: count, dtype: int64\n",
      "applicant_race_2\n",
      "5.0     85\n",
      "27.0    32\n",
      "23.0    26\n",
      "21.0    17\n",
      "24.0    14\n",
      "25.0    14\n",
      "22.0    14\n",
      "44.0    11\n",
      "26.0     9\n",
      "41.0     4\n",
      "43.0     2\n",
      "Name: count, dtype: int64\n",
      "co_applicant_race_2\n",
      "5.0     85\n",
      "23.0    26\n",
      "27.0    24\n",
      "24.0    24\n",
      "21.0    20\n",
      "25.0    13\n",
      "22.0    10\n",
      "1.0      8\n",
      "26.0     8\n",
      "44.0     8\n",
      "41.0     4\n",
      "2.0      4\n",
      "3.0      1\n",
      "4.0      1\n",
      "Name: count, dtype: int64\n",
      "Value counts for applicant_ethnicity_1 after filtering:\n",
      "applicant_ethnicity_1\n",
      "2.0    56532\n",
      "1.0     6402\n",
      "Name: count, dtype: int64\n",
      "co_applicant_ethnicity_1\n",
      "2.0    56346\n",
      "1.0     6588\n",
      "Name: count, dtype: int64\n"
     ]
    }
   ],
   "source": [
    "# Define the criteria for applicant_race_1 and applicant_ethnicity_1\n",
    "race_criteria1 = (df['applicant_race_1'].isin([3, 5]))\n",
    "race_criteria2 = (df['co_applicant_race_1'].isin([3, 5]))\n",
    "ethnicity_criteria1 = (df['applicant_ethnicity_1'].isin([1, 2]))\n",
    "ethnicity_criteria2 = (df['co_applicant_ethnicity_1'].isin([1, 2]))\n",
    "\n",
    "# Combine the criteria using logical AND for applicant_ethnicity_1\n",
    "combined_criteria = race_criteria1 & ethnicity_criteria1 & race_criteria2 & ethnicity_criteria2 \n",
    "\n",
    "# Apply the combined criteria to filter the DataFrame\n",
    "filtered_df = df[combined_criteria]\n",
    "\n",
    "# Print the value counts for the filtered DataFrame\n",
    "print(\"Value counts for applicant_race_1 after filtering:\")\n",
    "print(filtered_df['applicant_race_1'].value_counts())\n",
    "print(filtered_df['co_applicant_race_1'].value_counts())\n",
    "print(filtered_df['applicant_race_2'].value_counts())\n",
    "print(filtered_df['co_applicant_race_2'].value_counts())\n",
    "\n",
    "print(\"Value counts for applicant_ethnicity_1 after filtering:\")\n",
    "print(filtered_df['applicant_ethnicity_1'].value_counts())\n",
    "print(filtered_df['co_applicant_ethnicity_1'].value_counts())"
   ]
  },
  {
   "cell_type": "code",
   "execution_count": 10,
   "id": "a7d41e7d-e4e5-461f-b768-9277895711fc",
   "metadata": {
    "tags": []
   },
   "outputs": [
    {
     "name": "stdout",
     "output_type": "stream",
     "text": [
      "Number of rows in the original DataFrame: 85358\n",
      "Number of rows in the filtered DataFrame: 62934\n",
      "Number of rows removed: 22424\n"
     ]
    }
   ],
   "source": [
    "# Calculate the number of rows in the original DataFrame\n",
    "original_row_count = len(df)\n",
    "\n",
    "# Calculate the number of rows in the filtered DataFrame\n",
    "filtered_row_count = len(filtered_df)\n",
    "\n",
    "# Calculate the number of rows removed\n",
    "rows_removed = original_row_count - filtered_row_count\n",
    "\n",
    "# Print the results\n",
    "print(f\"Number of rows in the original DataFrame: {original_row_count}\")\n",
    "print(f\"Number of rows in the filtered DataFrame: {filtered_row_count}\")\n",
    "print(f\"Number of rows removed: {rows_removed}\")\n"
=======
   "id": "6e7aeac6-d316-4d79-a71b-4cfb40b8b7a4",
   "metadata": {},
   "source": [
    "### remove not needed columns"
>>>>>>> rianna
   ]
  },
  {
   "cell_type": "code",
   "execution_count": 11,
<<<<<<< HEAD
   "id": "a3d28a48-62b1-4e1f-82c4-04964f0f22e3",
   "metadata": {},
   "outputs": [],
   "source": [
    "filtered_df.to_csv('3_distribution_race_ethnicity.csv', index=False)"
=======
   "id": "f46e7692-a9a2-4a12-bbdc-24c4352a13df",
   "metadata": {},
   "outputs": [
    {
     "name": "stdout",
     "output_type": "stream",
     "text": [
      "applicant_ethnicity_1\n",
      "applicant_ethnicity_1\n",
      "2.0    122761\n",
      "1.0     18591\n",
      "Name: count, dtype: int64\n",
      "co_applicant_ethnicity_1\n",
      "co_applicant_ethnicity_1\n",
      "2.0    56183\n",
      "1.0     7730\n",
      "Name: count, dtype: int64\n"
     ]
    }
   ],
   "source": [
    "# Filter the DataFrame to keep rows with categories 1 and 2 for the specified columns\n",
    "filtered_ethnicity = filtered_df[columns_of_ethnicity].isin([1.0, 2.0])\n",
    "\n",
    "# Filter the race columns\n",
    "filtered_df_ethnicity = filtered_df[columns_of_ethnicity][filtered_ethnicity]\n",
    "\n",
    "# Merge the filtered race columns with the rest of the DataFrame\n",
    "filtered_df = pd.concat([filtered_df.drop(columns_of_ethnicity, axis=1), filtered_df_ethnicity], axis=1)\n",
    "\n",
    "# Print the value counts for each column\n",
    "for column in columns_of_ethnicity:\n",
    "    print(f\"{column}\\n{filtered_df[column].value_counts()}\")\n"
>>>>>>> rianna
   ]
  },
  {
   "cell_type": "markdown",
   "id": "bea8c75c-8660-4f70-8de5-eeac3302eb20",
   "metadata": {},
   "source": [
    "# Visualisations"
   ]
  },
  {
   "cell_type": "code",
   "execution_count": 12,
   "id": "1b894668-4553-4f59-8bda-5aa8cfa07784",
   "metadata": {
    "tags": []
   },
   "outputs": [
    {
     "data": {
<<<<<<< HEAD
      "image/png": "iVBORw0KGgoAAAANSUhEUgAAAv0AAAKqCAYAAACpTeFbAAAAOXRFWHRTb2Z0d2FyZQBNYXRwbG90bGliIHZlcnNpb24zLjguMCwgaHR0cHM6Ly9tYXRwbG90bGliLm9yZy81sbWrAAAACXBIWXMAAA9hAAAPYQGoP6dpAACge0lEQVR4nOzdd3gUVfv/8c+mbXojoUNCEwxVglQpUkRAEGwgKhARkfJQoiIoGrHAFxVEVBAexfaoiIAVRZEi0lR6kd5CEEICKSQhfX5/8GN1TQjJZENIeL+ua66LPXNm5p5Noveevc8Zi2EYhgAAAACUW06lHQAAAACAkkXSDwAAAJRzJP0AAABAOUfSDwAAAJRzJP0AAABAOUfSDwAAAJRzJP0AAABAOUfSDwAAAJRzJP0AAABAOUfSD1yjPvjgA1ksFh07dsxh5zx27JgsFos++OADh50T16aUlBQ98sgjqly5siwWi8aNG1faIZUJa9askcVi0Zo1a0o7FABwKJJ+XFcOHz6s4cOHq3bt2nJ3d5evr6/atWunN954QxcuXCjt8Bzm008/1axZs0o7DDtDhgyRt7f3ZfdbLBaNHj26RGOYM2fOdfOBZ+rUqfrggw80YsQIffzxx3rooYcu2zc0NFQWi8W2eXl5qWXLlvroo4+uYsTm5OTk6P3331enTp0UGBgoq9Wq0NBQRUREaPPmzaUdHgBcM1xKOwDgalm2bJnuvfdeWa1WDRo0SI0aNVJmZqbWrVunJ598Unv27NH8+fNLO0yH+PTTT7V79+48o7shISG6cOGCXF1dSyewUjZnzhwFBQVpyJAhpR1KiVu1apVat26tqKioQvVv1qyZHn/8cUnSqVOn9O6772rw4MHKyMjQsGHDSjJU0y5cuKC77rpLy5cvV4cOHfT0008rMDBQx44d06JFi/Thhx8qOjpa1atXL+1QAaDUkfTjunD06FENGDBAISEhWrVqlapUqWLbN2rUKB06dEjLli0r9nUMw1B6ero8PDzy7EtPT5ebm5ucnErvCzaLxSJ3d/dSuz6unjNnzigsLKzQ/atVq6YHH3zQ9nrIkCGqXbu2Xn/99Ws26X/yySe1fPlyvf7663k+4EZFRen1118vncAA4BpEeQ+uC6+88opSUlL03nvv2SX8l9StW1djx461vc7OztaLL76oOnXq2MoFnn76aWVkZNgdFxoaqjvuuEM//vijWrRoIQ8PD82bN89WF7xw4UJNnjxZ1apVk6enp5KTkyVJv/32m26//Xb5+fnJ09NTHTt21Pr16694H19//bV69eqlqlWrymq1qk6dOnrxxReVk5Nj69OpUyctW7ZMx48ft5VrhIaGSrp8Tf+qVavUvn17eXl5yd/fX3feeaf27t1r1+f555+XxWLRoUOHNGTIEPn7+8vPz08RERFKS0u7YuxmZGRkKCoqSnXr1pXValWNGjU0YcKEPD+H999/X507d1bFihVltVoVFhamuXPn2vUJDQ3Vnj179Msvv9jel06dOkn6e/7EunXrNGbMGAUHB8vf31/Dhw9XZmamEhMTNWjQIAUEBCggIEATJkyQYRh253/ttdfUtm1bVahQQR4eHgoPD9fixYvz3NOlMqZPPvlE9evXl7u7u8LDw7V27dpCvSdnzpzR0KFDValSJbm7u6tp06b68MMPbfsv/e4dPXpUy5Yts91rUeeGBAcHq0GDBjp8+LBd+6+//qp7771XNWvWtP1Mxo8fn2953L59+3TfffcpODhYHh4eql+/vp555hm7PidPntTDDz+sSpUqyWq1qmHDhlqwYMEV44uJidG8efPUrVu3fOcrODs764knnrAb5d+2bZt69OghX19feXt7q0uXLtq0adMVrxUaGprvt0OdOnWy/Q5Jf7/3ixYt0pQpU1StWjX5+PjonnvuUVJSkjIyMjRu3DhVrFhR3t7eioiIyPO7fOn346uvvlKjRo1s78ny5cvt+p0/f17jxo1TaGiorFarKlasqG7dumnr1q1XvB8A1ydG+nFd+Pbbb1W7dm21bdu2UP0feeQRffjhh7rnnnv0+OOP67ffftO0adO0d+9effnll3Z99+/fr/vvv1/Dhw/XsGHDVL9+fdu+F198UW5ubnriiSeUkZEhNzc3rVq1Sj169FB4eLiioqLk5ORkS1p//fVXtWzZ8rJxffDBB/L29lZkZKS8vb21atUqPffcc0pOTtarr74qSXrmmWeUlJSkmJgY20hnQbX0P//8s3r06KHatWvr+eef14ULF/Tmm2+qXbt22rp1q+0DwyX33XefatWqpWnTpmnr1q169913VbFiRU2fPr1Q7218fHyh+uXm5qpPnz5at26dHn30Ud14443atWuXXn/9dR04cEBfffWVre/cuXPVsGFD9enTRy4uLvr22281cuRI5ebmatSoUZKkWbNm6T//+Y+8vb1tiWelSpXsrvmf//xHlStX1pQpU7Rp0ybNnz9f/v7+2rBhg2rWrKmpU6fq+++/16uvvqpGjRpp0KBBtmPfeOMN9enTRw888IAyMzO1cOFC3Xvvvfruu+/Uq1cvu+v88ssv+vzzzzVmzBhZrVbNmTNHt99+u37//Xc1atTosu/JhQsX1KlTJx06dEijR49WrVq19MUXX2jIkCFKTEzU2LFjdeONN+rjjz/W+PHjVb16dVvJTnBwcKHe90uys7MVExOjgIAAu/YvvvhCaWlpGjFihCpUqKDff/9db775pmJiYvTFF1/Y+u3cuVPt27eXq6urHn30UYWGhurw4cP69ttv9fLLL0uSYmNj1bp1a1uiGxwcrB9++EFDhw5VcnJygZOPf/jhB2VnZxc4V+Gf9uzZo/bt28vX11cTJkyQq6ur5s2bp06dOumXX35Rq1ativT+FGTatGny8PDQxIkTdejQIb355ptydXWVk5OTEhIS9Pzzz2vTpk364IMPVKtWLT333HN2x69bt05Lly7VyJEj5ePjo9mzZ+vuu+9WdHS0KlSoIEl67LHHtHjxYo0ePVphYWE6e/as1q1bp71796p58+YOuxcA5YgBlHNJSUmGJOPOO+8sVP/t27cbkoxHHnnErv2JJ54wJBmrVq2ytYWEhBiSjOXLl9v1Xb16tSHJqF27tpGWlmZrz83NNerVq2d0797dyM3NtbWnpaUZtWrVMrp162Zre//99w1JxtGjR+36/dvw4cMNT09PIz093dbWq1cvIyQkJE/fo0ePGpKM999/39bWrFkzo2LFisbZs2dtbTt27DCcnJyMQYMG2dqioqIMScbDDz9sd85+/foZFSpUyHOtfxs8eLAhqcBt1KhRtv4ff/yx4eTkZPz6669253nnnXcMScb69esLfF+6d+9u1K5d266tYcOGRseOHfP0vfRe//vn0qZNG8NisRiPPfaYrS07O9uoXr16nvP8O4bMzEyjUaNGRufOne3aL93r5s2bbW3Hjx833N3djX79+uWJ7Z9mzZplSDL+97//2V2nTZs2hre3t5GcnGxrDwkJMXr16lXg+f7Z97bbbjPi4uKMuLg4Y9euXcZDDz2U52eS330ahmFMmzbNsFgsxvHjx21tHTp0MHx8fOzaDMOwe3+HDh1qVKlSxYiPj7frM2DAAMPPzy/fa10yfvx4Q5Kxbdu2Qt1j3759DTc3N+Pw4cO2tr/++svw8fExOnToYGu79Le7evVqW1tISIgxePDgPOfs2LGj3e/BpWMbNWpkZGZm2trvv/9+w2KxGD169LA7vk2bNnn+TiUZbm5uxqFDh2xtO3bsMCQZb775pq3Nz88vz88GAApCeQ/KvUslNT4+PoXq//3330uSIiMj7dovjZj+u/a/Vq1a6t69e77nGjx4sF19//bt23Xw4EENHDhQZ8+eVXx8vOLj45WamqouXbpo7dq1ys3NvWxs/zzX+fPnFR8fr/bt2ystLU379u0r1P3906lTp7R9+3YNGTJEgYGBtvYmTZqoW7dutvfinx577DG71+3bt9fZs2dt73NB3N3dtWLFiny3f/viiy904403qkGDBrb3KT4+Xp07d5YkrV692tb3n+9LUlKS4uPj1bFjRx05ckRJSUlXfiP+v6FDh8pisdhet2rVSoZhaOjQobY2Z2dntWjRQkeOHLE79p8xJCQkKCkpSe3bt8+33KJNmzYKDw+3va5Zs6buvPNO/fjjj3alWv/2/fffq3Llyrr//vttba6urhozZoxSUlL0yy+/FPpe/+2nn35ScHCwgoOD1bhxY3388ceKiIiwfYOU332mpqYqPj5ebdu2lWEY2rZtmyQpLi5Oa9eu1cMPP6yaNWvaHX/p/TUMQ0uWLFHv3r1lGIbdz7h79+5KSkoqsFSlKH/XOTk5+umnn9S3b1/Vrl3b1l6lShUNHDhQ69atK9Tvb2ENGjTIbrL8pd+jhx9+2K5fq1atdOLECWVnZ9u1d+3aVXXq1LG9btKkiXx9fe1+5/z9/fXbb7/pr7/+cljcAMo3yntQ7vn6+kq6mCQXxvHjx+Xk5KS6devatVeuXFn+/v46fvy4XXutWrUue65/7zt48KCkix8GLicpKSlPScUle/bs0eTJk7Vq1ao8SUpRkttLLt3LP0uSLrnxxhv1448/KjU1VV5eXrb2fydxl2JNSEiwvdeX4+zsrK5duxYqtoMHD2rv3r2XLUs5c+aM7d/r169XVFSUNm7cmGd+QVJSkvz8/Ap1zX/f26XjatSokac9ISHBru27777TSy+9pO3bt9vVaf/zQ8Ql9erVy9N2ww03KC0tTXFxcapcuXK+8R0/flz16tXLMxn8xhtvtO03q1WrVnrppZeUk5Oj3bt366WXXlJCQoLc3Nzs+kVHR+u5557TN998k+c9uPQ7eCk5LahUKS4uTomJiZo/f/5lV83658/434rydx0XF6e0tLTL/p7n5ubqxIkTatiw4RXPVRhF+T3Kzc1VUlKSrWwnv+Oli39n/3y/X3nlFQ0ePFg1atRQeHi4evbsqUGDBtl9qAGAfyLpR7nn6+urqlWravfu3UU6Lr9kLT/5rdRzuX2XRvFfffVVNWvWLN9jLld/n5iYqI4dO8rX11cvvPCC6tSpI3d3d23dulVPPfVUgd8QOJKzs3O+7ca/JrYWV25urho3bqyZM2fmu/9SAnX48GF16dJFDRo00MyZM1WjRg25ubnp+++/1+uvv16k9+Vy95Zf+z/v99dff1WfPn3UoUMHzZkzR1WqVJGrq6vef/99ffrpp4W+fmkKCgqyfSDr3r27GjRooDvuuENvvPGG7VuvnJwcdevWTefOndNTTz2lBg0ayMvLSydPntSQIUOK9F5f6vvggw9e9kNwkyZNLnt8gwYNJEm7du267N+So1zuvwU5OTn5/m4U5fdIyvu3U5h+9913n9q3b68vv/xSP/30k1599VVNnz5dS5cuVY8ePfI9HsD1jaQf14U77rhD8+fP18aNG9WmTZsC+4aEhCg3N1cHDx60jaBKFycdJiYmKiQkxHQcl76y9/X1LfSI9yVr1qzR2bNntXTpUnXo0MHWfvTo0Tx9C/uB5dK97N+/P8++ffv2KSgoyG6U/2qqU6eOduzYoS5duhR4P99++60yMjL0zTff2I2Q/rP855LCvi9FtWTJErm7u+vHH3+U1Wq1tb///vv59r/0jc8/HThwQJ6engVOuA0JCdHOnTuVm5trN9p/qbSrOL+b/9arVy917NhRU6dO1fDhw+Xl5aVdu3bpwIED+vDDD+0mMf+7POvSaHNBH7SDg4Pl4+OjnJycIv8tSFKPHj3k7Oys//3vf1eczBscHCxPT8/L/p47OTnlGYX/p4CAACUmJuZpP378eKmOrFepUkUjR47UyJEjdebMGTVv3lwvv/wyST+AfFHTj+vChAkT5OXlpUceeUSxsbF59h8+fFhvvPGGJKlnz56SlOeJtpdGnP+9EktRhIeHq06dOnrttdeUkpKSZ39cXNxlj700+vfP0b7MzEzNmTMnT18vL69ClftUqVJFzZo104cffmiX1OzevVs//fST7b0oDffdd59Onjyp//73v3n2XbhwQampqZLyf1+SkpLyTbi9vLzyTd6Ky9nZWRaLxa4e/9ixY3YrDP3Txo0b7erVT5w4oa+//lq33XbbZUd5pYu/m6dPn9bnn39ua8vOztabb74pb29vdezYsfg38w9PPfWUzp49a/sZ5PdeG4Zh+9u5JDg4WB06dNCCBQsUHR1tt+/Ssc7Ozrr77ru1ZMmSfD8cFPS3IF38pmfYsGH66aef9Oabb+bZn5ubqxkzZigmJkbOzs667bbb9PXXX9stXRobG6tPP/1Ut9xyS4GlaXXq1NGmTZuUmZlpa/vuu+904sSJAmMsKTk5OXn+vitWrKiqVavmWQIUAC5hpB/XhTp16ujTTz9V//79deONN9o9kXfDhg22ZQ8lqWnTpho8eLDmz59vK6n5/fff9eGHH6pv37669dZbTcfh5OSkd999Vz169FDDhg0VERGhatWq6eTJk1q9erV8fX317bff5nts27ZtFRAQoMGDB2vMmDGyWCz6+OOP8y2rCQ8P1+eff67IyEjdfPPN8vb2Vu/evfM976uvvqoePXqoTZs2Gjp0qG3JTj8/Pz3//POm77W4HnroIS1atEiPPfaYVq9erXbt2iknJ0f79u3TokWLbM9GuO222+Tm5qbevXtr+PDhSklJ0X//+19VrFhRp06dsjtneHi45s6dq5deekl169ZVxYoVbRODi6NXr16aOXOmbr/9dg0cOFBnzpzR22+/rbp162rnzp15+jdq1Ejdu3e3W7JTkqZMmVLgdR599FHNmzdPQ4YM0ZYtWxQaGqrFixdr/fr1mjVrVqEnqxdWjx491KhRI82cOVOjRo1SgwYNVKdOHT3xxBM6efKkfH19tWTJkjy1/ZI0e/Zs3XLLLWrevLkeffRR1apVS8eOHdOyZcu0fft2SdL//d//afXq1WrVqpWGDRumsLAwnTt3Tlu3btXPP/+sc+fOFRjfjBkzdPjwYY0ZM0ZLly7VHXfcoYCAAEVHR+uLL77Qvn37NGDAAEnSSy+9pBUrVuiWW27RyJEj5eLionnz5ikjI0OvvPJKgdd55JFHtHjxYt1+++267777dPjwYf3vf/+zm2x7NZ0/f17Vq1fXPffco6ZNm8rb21s///yz/vjjD82YMaNUYgJQBpTCikFAqTlw4IAxbNgwIzQ01HBzczN8fHyMdu3aGW+++abdkpdZWVnGlClTjFq1ahmurq5GjRo1jEmTJtn1MYzLL4t4aem+L774It84tm3bZtx1111GhQoVDKvVaoSEhBj33XefsXLlSluf/JbsXL9+vdG6dWvDw8PDqFq1qjFhwgTjxx9/zLPEYEpKijFw4EDD39/fkGRbFjC/JTsNwzB+/vlno127doaHh4fh6+tr9O7d2/jzzz/t+lxasjMuLs6uPb848zN48GDDy8vrsvuVz/KQmZmZxvTp042GDRsaVqvVCAgIMMLDw40pU6YYSUlJtn7ffPON0aRJE8Pd3d0IDQ01pk+fbixYsCBPXKdPnzZ69epl+Pj4GJJsyy1euoc//vijUPec37289957Rr169Qyr1Wo0aNDAeP/9923H53ef//vf/2z9b7rpJrufX0FiY2ONiIgIIygoyHBzczMaN26c5+dpGEVfsvNyfT/44AO735k///zT6Nq1q+Ht7W0EBQUZw4YNsy0p+e84du/ebfTr18/w9/c33N3djfr16xvPPvtsnvsZNWqUUaNGDcPV1dWoXLmy0aVLF2P+/PmFij07O9t49913jfbt2xt+fn6Gq6urERISYkRERORZznPr1q1G9+7dDW9vb8PT09O49dZbjQ0bNtj1yW/JTsMwjBkzZhjVqlUzrFar0a5dO2Pz5s2XXbLz33/3Rfn9yu/vwDDslw3NyMgwnnzySaNp06aGj4+P4eXlZTRt2tSYM2dOod4zANcni2E4ePYdAOCyLBaLRo0apbfeequ0QwEAXEeo6QcAAADKOZJ+AAAAoJwj6QcAAADKOZJ+ALiKDMOgnh8ArmNr165V7969VbVqVVkslssu7/xPa9asUfPmzWW1WlW3bl198MEHRb4uST8AAABwlaSmpqpp06Z6++23C9X/6NGj6tWrl2699VZt375d48aN0yOPPKIff/yxSNdl9R4AAACgFFgsFn355Zfq27fvZfs89dRTWrZsmd2DDAcMGKDExEQtX7680NdipB8AAAAwKSMjQ8nJyXabI5+OvXHjRnXt2tWurXv37tq4cWORzsMTeQEAAFDmLXOtXyrX/eOZ+/M8UT0qKsphT7U/ffq0KlWqZNdWqVIlJScn68KFC/Lw8CjUea6ppL+0fli4vvTK2q/0H98r7TBwHXDvPlTnXhpe2mHgOhA4eZ76jjxQ2mHgOvDVnBtKO4RrzqRJkxQZGWnXZrVaSymay7umkn4AAACgLLFarSWa5FeuXFmxsbF2bbGxsfL19S30KL9E0g8AAIBywOJqKe0QSkSbNm30/fff27WtWLFCbdq0KdJ5mMgLAAAAXCUpKSnavn27tm/fLunikpzbt29XdHS0pIvlQoMGDbL1f+yxx3TkyBFNmDBB+/bt05w5c7Ro0SKNHz++SNdlpB8AAABlnpNL2Rjp37x5s2699Vbb60vzAQYPHqwPPvhAp06dsn0AkKRatWpp2bJlGj9+vN544w1Vr15d7777rrp3716k65L0AwAAAFdJp06dVNBjsvJ72m6nTp20bdu2Yl2XpB8AAABlnsWVqvWC8O4AAAAA5RxJPwAAAFDOUd4DAACAMq+sTOQtLYz0AwAAAOUcI/0AAAAo88rrw7kchZF+AAAAoJwj6QcAAADKOcp7AAAAUOYxkbdgjPQDAAAA5Rwj/QAAACjzmMhbMEb6AQAAgHKOkX4AAACUedT0F4yRfgAAAKCcc2jSf/jwYXXu3NmRpwQAAABQTA4t70lJSdEvv/ziyFMCAAAAV2RxprynIEVK+mfPnl3g/pMnTxYrGAAAAACOV6Skf9y4capSpYrc3Nzy3Z+ZmemQoAAAAICicGKkv0BFSvpDQkI0ffp03Xffffnu3759u8LDwx0SGAAAAADHKNJE3vDwcG3ZsuWy+y0WiwzDKHZQAAAAABynSCP9L7zwgtLS0i67PywsTEePHi12UAAAAEBRWJwo7ylIkUb6w8LC1KJFi8vud3V1VUhIiO31+vXrlZGRYT46AAAAAMVWok/k7dGjh7Zv367atWuX5GUAAABwnbM488zZgpTou0N9PwAAAFD6SnSkHwAAALgaWLKzYHwPAgAAAJRzJP0AAABAOVei5T0WC1+zAAAAoOSxZGfBmMgLAAAAlHOmR/qzs7O1Zs0aHT58WAMHDpSPj4/++usv+fr6ytvbW5J0/vx5hwUKAAAAXA4TeQtmKuk/fvy4br/9dkVHRysjI0PdunWTj4+Ppk+froyMDL3zzjuOjhMAAACASabKe8aOHasWLVooISFBHh4etvZ+/fpp5cqVDgsOAAAAQPGZGun/9ddftWHDBrm5udm1h4aG6uTJkw4JDAAAACgsC+U9BTI10p+bm6ucnJw87TExMfLx8Sl2UAAAAAAcx1TSf9ttt2nWrFm21xaLRSkpKYqKilLPnj0dFRsAAABQKBYnp1LZygpT5T0zZsxQ9+7dFRYWpvT0dA0cOFAHDx5UUFCQPvvsM0fHCAAAAKAYTCX91atX144dO/T5559rx44dSklJ0dChQ/XAAw/YTewFAAAArgYezlUw0+v0u7i46IEHHtADDzzgyHgAAAAAOJipQqRp06ZpwYIFedoXLFig6dOnFzsoAAAAAI5jKumfN2+eGjRokKe9YcOGPJgLAAAAV52Ts6VUtrLCVNJ/+vRpValSJU97cHCwTp06VeygAAAAADiOqZr+GjVqaP369apVq5Zd+/r161W1alWHBAYAAAAUFhN5C2Yq6R82bJjGjRunrKwsde7cWZK0cuVKTZgwQY8//rhDAwQAAABQPKaS/ieffFJnz57VyJEjlZmZKUlyd3fXU089pUmTJjk0QAAAAADFYyrpt1gsmj59up599lnt3btXHh4eqlevnqxWq6PjAwAAAK6oLD0dtzSYXqdfkry9vXXzzTc7KhYAAAAAJcB00r9582YtWrRI0dHRthKfS5YuXVrswAAAAIDCYiJvwUx9D7Jw4UK1bdtWe/fu1ZdffqmsrCzt2bNHq1atkp+fn6NjBAAAAFAMpkb6p06dqtdff12jRo2Sj4+P3njjDdWqVUvDhw/Pd/1+AAAAoCSVpQdllQZTI/2HDx9Wr169JElubm5KTU2VxWLR+PHjNX/+fIcGCAAAAKB4TCX9AQEBOn/+vCSpWrVq2r17tyQpMTFRaWlpjosOAAAAQLGZKu/p0KGDVqxYocaNG+vee+/V2LFjtWrVKq1YsUJdunRxdIwAAABAgZjIWzBTSf9bb72l9PR0SdIzzzwjV1dXbdiwQXfffbcmT57s0AABAAAAFE+Rk/7s7Gx999136t69uyTJyclJEydOdHhgAAAAQGHxcK6CFfndcXFx0WOPPWYb6QcAAABwbTP1kahly5bavn27g0MBAAAAUBJM1fSPHDlSkZGROnHihMLDw+Xl5WW3v0mTJg4JDgAAACgMJvIWzFTSP2DAAEnSmDFjbG0Wi0WGYchisSgnJ8cx0QEAAAAoNlNJ/9GjRx0dBwAAAGAaI/0FM5X0h4SEFKpfr1699O6776pKlSpmLgMAAADAAUp0baO1a9fqwoULJXkJAAAAAFdgaqQfAAAAuJZQ3lMwnmIAAAAAlHOM9AMAAKDM44m8BSPpv0YE3tJCtR8fKr/mjeRetaI23z1Ssd+sLPiYDi0V9tpEeYfVU/qJUzo0ba5iPvrSrk/IiIGqHTlU1srBSt65T3vGvaikP3aV5K2gDFi4dqs+XPW74pNTdUO1ipp4T1c1Dsl/wv3Q2Z9p86ETedrbh9XWW4/dI0lqOuaVfI8df2dHDenSynGBo8yxhneSe5tucvL2U05sjFJ/XKicv45dvn/LLnIP7yAn30DlXkhR1t6tSlv1pZSTLUnyG/2ynP2D8hyXvnmN0pZ/VlK3gTKgRwc/9esWKH9fZx2LydB/F8Xp4PH0fPu2buate7oHqkqwq5ydLTp1JlNfr0zQmt/P2/p8NeeGfI/9YGmcvvo5oUTuAShJJP3XCGcvTyXv3K8THyxRi8VvX7G/R2h13fzNPEXPX6jtg55Qhc5t1HjeS0o/Faf4FeskSVXu7aEbX52k3aOilPj7DtUaM1itlr2nNQ1vV2bcuZK+JVyjlm/dq9e+XK3J/W9T45Aq+uSXzRoxZ5G+nvyIKvh45ek/c2hfZf3j2RuJqem6b/r76nZTfVvbypdG2h2z7s+jev6zH9S1aX3h+uUW1kKe3e5R6g+fKvvkUbm37CKf+8coaW6UjLTzefs3vFmenfsp9dsPlR1zRE4VKsq79xDJkNJ+/kKSlLxgmmT5ezTPuWJV+T4wXpl7t1yt28I1qF24tx6+O1hzPzujA8fS1aezv6L+U02jnj+mpJS8zw5KSc3RF8vP6WRsprKzDbVo7KX/PFRZiedztH1vmiRpyMTDdsc0D/PS6AcraeO2lKtyTyg6J2dq+gti6nuQtWvXKjs7O097dna21q5da3v99NNPKzAw0Hx015G4H9fqQNQsxX79c6H6hzw6QBeOxmjvhOlK2XdEx+d8otNLflStsUNsfWqNi9CJ9xYp5sOlStl7WLtGRiknLV01htxdQneBsuDj1Zt1V9sm6tu6sepUCdLk+7rL3c1VX23K/xsgPy8PBfl627ZN+47J3dVV3Zr9ndD/c3+Qr7fW7Dqom+vVVPUg/6t0V7gWubfqqoxt65S5Y4Ny408p7ftPpKxMWZu1zbe/S/U6yj5xWJl7/lBu0lllH9mrjD1/yLlaqK2PkZYiIzXZtrnVbaKcc2eUffzAVborXIvu7Bygn9Yna9WmZMWcztTcz84oI9NQl7a++fbfffCCftuRopjTmTodn6XvVifq2MkMhdXxsPVJTM6x21o19dbuAxcUezbrat0W4FCmkv5bb71V587lHSlOSkrSrbfeans9adIk+fv7mw4Ol+ffupniV220a4tbsU4BrZtJkiyurvJr3lDxKzf83cEwFL9qg/xb33QVI8W1JCs7R3tPnFbr+qG2Nicni1rXD9HOo38V6hxfbtqp28MbyNPqlu/+s8mp+nXPEfVr3cQRIaOscnKWc5Wayjq69x+NhrKO7ZNLtdr5HpIdc1jOVWrKuWroxVP4B8mtbiNlHdp92Wu4NW6ljB0b8t+P64KLs1Snprt27k+1tRmGtGNfqurX8ijgyL81qe+hapXctOdQ/suM+/k4K7yRl37ekOSQmIHSYKq8xzAMWSx5v0I5e/asvLzylgfA8ayVgpQRG2/XlhEbL1c/Hzm5W+Ua4CcnFxdlnDn7rz5n5VU////hovxLSE1TTq6hCj6edu0VfLx0NPbKJV+7jp/SoVPxen5gj8v2+eb33fJ0d1OXpvnXw+L6YPH0lsXJWUaqfRlPbkqyXCtUzveYzD1/yOLpLd/BT0qyyOLsrPQtvyh9/Q/59ner30wWdw+S/uucj7eznJ0tSky2L+NJOp+j6pXyH5yQJE93J703tbZcXS3KzTU0b+EZ7diXlm/fzq19dSE9Vxu3U9pzLWPJzoIVKem/6667JEkWi0VDhgyR1Wq17cvJydHOnTvVtm3+X9v+U0ZGhjIyMuza/nkuANemLzfuVL2qwZed9CtJX23apZ4twmR1ZcoQisYl5AZ5tOuhtP8/B8ApsKI8b+sv91t6Kn3d93n6W5u1U9ahPTJSGH1F0V3IyNX4acflYXVSk/qeevjuYMXGZ2n3wbyj/V3a+GntH8nKyjZKIVLAMYr0f2U/Pz9JF0f6fXx85OHx99dmbm5uat26tYYNG3bF80ybNk1Tpkyxa4uKitLNRQnmOpcRGy9rJfsVLKyVgpSVdF656RnKjE9Qbna2rBUr/KtPBWWctv+GANePAC9POTtZdPa8/WjW2fOpCspnEu8/pWVk6setezWy5y2X7bP18AkdO3NOr0T0cUi8KLuMtBQZuTmyePnYtTt5+yr3Mkm6R8c+ytj1mzK2r5ck5cT9pQuuVnn1elDp636Q9HfC5eQXKJdaNypl8Tsldg8oG86n5Cgnx5C/r7Ndu5+PsxKS807ivcQwpNNxF+vzj8ZkqHplN93dPVC7D5606xdWx0PVK7vptfcKVwKJ0sOSnQUrUtL//vvvS5JCQ0P1xBNPmC7lmTRpkiIjI+3arFarfn6Z5dYKK3HTdgX36GDXFtSlrRI2bZckGVlZStq6R0Gd2/y99KfFogq3ttHxOf+7ytHiWuHq4qwba1TWbweOq3OTepKk3FxDv+0/rgEdmhd47Irt+5WZnaNeNze8bJ8vN+5SWI1Kql+tokPjRhmUm6OcU9FyrXWjsg7s+P+NFrmGNlD65tX5HmJxdbuYif2TkXvp0H/m/LI2bSsj9byyDrIE8fUuO0c6HJ2uJvU99duOi3X9FovUpL6nvv8lsdDnsVgkV5e85SFd2/rq0PF0HTuZ6aiQgVJh6iNRVFRUsWr3rVarfH197bbrvbzH2ctTvk0byLdpA0mSZ63q8m3aQO41LpZR1H8pUk3fn27rf3z+QnnWqqEG056UV/3aCnlsoKrc20NH3/jA1uforPdVY+h9qvZQX3k3qK1Gbz8vFy8Pnfhw6VW9N1xbHrq1hZZu2KFvftutI6fP6qVFP+lCZpb6tmosSXrm42V645tf8hz35cZdurVJPfl75T8xLuVChn7avl/92jCBFxel//azrDfdIrcmreVUobI8ew6UXN1sNfhefYbI49a+tv5ZB3fKPbyD3MJayMm/glxq3SiPjn2UeWDnvz4MWOTWtK0ydm78+0MBrmtfr0pQt3Z+urWVr6pXdtNjAyrK3eqklRuTJUljB1fWg3f+/e343d0D1LSBpypVcFX1ym66s0uAOrXy1Zrfk+3O6+HupLbNfbSCCbwoB0wV3cbGxuqJJ57QypUrdebMGRn/GpnJybn812nIn194I7VZ+bHtddhrT0uSTny0VDuHTpK1SrA8avxdR33hWIz+6DNcYTMmKfQ/g5Qec1q7hk+2rdEvSae++EFuwYG6IWrMxYdz7dir3+94RJn/mtyL68vtzW9UQsoFzfl+neKTU1W/ekXNGXGvKvhe/CB/OiFZTv+aqH8s9qy2HYnROyPvu+x5l2/dKxmGeoSHlWj8KDsy/9wsi6e3PDr2kZOXr3JiY3T+s9m2yb1OfoF2yfyFX7+XYUgene6Uk4+/ctNSlHVwpy6s/sruvC61G8jZr4Iydqy/mreDa9j6LSny847X/XdUUICvs47GZGjKWyeVdP5iPhIc4CIj9+/fNaubk4YPqKgK/i7KzDJ0MjZTr39wSuu32E/UbR/uI4tF+vWPvM+VwLWHibwFsxj/ztgLoUePHoqOjtbo0aNVpUqVPCv53HnnnaaCWebKg3xQ8npl7Vf6j++Vdhi4Drh3H6pzLw0v7TBwHQicPE99R/KsApS8yz2p+Fpw7BFz+Wdxhb77dalct6hMjfSvW7dOv/76q5o1a+bgcAAAAICiY6S/YKZq+mvUqJGnpAcAAADAtclU0j9r1ixNnDhRx44dc3A4AAAAQNFZnJxKZSsrTJX39O/fX2lpaapTp448PT3l6upqt//cuSs/2RMAAADA1WEq6Z81a5aDwwAAAABQUkwl/YMHD3Z0HAAAAIBpZWki79tvv61XX31Vp0+fVtOmTfXmm2+qZcuW+fbNysrStGnT9OGHH+rkyZOqX7++pk+frttvv71I1yx2IVJ6erqSk5PtNgAAAAB5ff7554qMjFRUVJS2bt2qpk2bqnv37jpz5ky+/SdPnqx58+bpzTff1J9//qnHHntM/fr107Zt24p0XVNJf2pqqkaPHq2KFSvKy8tLAQEBdhsAAABwNZWVibwzZ87UsGHDFBERobCwML3zzjvy9PTUggUL8u3/8ccf6+mnn1bPnj1Vu3ZtjRgxQj179tSMGTOKdF1TSf+ECRO0atUqzZ07V1arVe+++66mTJmiqlWr6qOPPjJzSgAAAKDMycjIyFP1kpGRkW/fzMxMbdmyRV27drW1OTk5qWvXrtq4ceNlz+/u7m7X5uHhoXXr1hUpTlNJ/7fffqs5c+bo7rvvlouLi9q3b6/Jkydr6tSp+uSTT8ycEgAAAChzpk2bJj8/P7tt2rRp+faNj49XTk6OKlWqZNdeqVIlnT59Ot9junfvrpkzZ+rgwYPKzc3VihUrtHTpUp06dapIcZpK+s+dO6fatWtLknx9fW1LdN5yyy1au3atmVMCAAAA5lkspbJNmjRJSUlJdtukSZMcdltvvPGG6tWrpwYNGsjNzU2jR49WRESEnIpYWmQq6a9du7aOHj0qSWrQoIEWLVok6eI3AP7+/mZOCQAAAJQ5VqtVvr6+dpvVas23b1BQkJydnRUbG2vXHhsbq8qVK+d7THBwsL766iulpqbq+PHj2rdvn7y9vW0D8IVlKumPiIjQjh07JEkTJ07U22+/LXd3d40fP15PPvmkmVMCAAAAplmcLKWyFYWbm5vCw8O1cuVKW1tubq5WrlypNm3aFHisu7u7qlWrpuzsbC1ZskR33nlnka5tap3+8ePH2/7dtWtX7du3T1u2bFHdunXVpEkTM6cEAAAAyr3IyEgNHjxYLVq0UMuWLTVr1iylpqYqIiJCkjRo0CBVq1bNNi/gt99+08mTJ9WsWTOdPHlSzz//vHJzczVhwoQiXddU0v9vISEhCgkJccSpAAAAgCIzs3xmaejfv7/i4uL03HPP6fTp02rWrJmWL19um9wbHR1tV6+fnp6uyZMn68iRI/L29lbPnj318ccfF7mk3lTSP2bMGNWtW1djxoyxa3/rrbd06NAhzZo1y8xpAQAAgHJv9OjRGj16dL771qxZY/e6Y8eO+vPPP4t9TVMfiZYsWaJ27drlaW/btq0WL15c7KAAAAAAOI6pkf6zZ8/Kz88vT7uvr6/i4+OLHRQAAABQFEWdVHu9MTXSX7duXS1fvjxP+w8//FDk5YMAAAAAlCxTI/2RkZEaPXq04uLi1LlzZ0nSypUrNWPGDOr5AQAAcNWVlYm8pcVU0v/www8rIyNDL7/8sl588UVJUmhoqObOnatBgwY5NEAAAAAAxWN6yc4RI0ZoxIgRiouLk4eHh7y9vR0ZFwAAAAAHKfY6/cHBwY6IAwAAADCNibwFK3TS37x5c61cuVIBAQG66aabZLFc/o3dunWrQ4IDAAAAUHyFTvrvvPNOWa1WSVLfvn1LKh4AAACgyBjpL1ihk/6oqKh8/w0AAADg2lbsmn4AAACg1LFkZ4EKnfQHBAQUWMf/T+fOnTMdEAAAAADHKnTSz0O3AAAAgLKp0En/4MGDSzIOAAAAwLTCVqRcr0zX9Ofk5OjLL7/U3r17JUlhYWG688475eLCNAEAAADgWmIqQ9+zZ4/69Omj06dPq379+pKk6dOnKzg4WN9++60aNWrk0CABAACAgliYyFsgU+/OI488ooYNGyomJkZbt27V1q1bdeLECTVp0kSPPvqoo2MEAAAAUAymRvq3b9+uzZs3KyAgwNYWEBCgl19+WTfffLPDggMAAABQfKZG+m+44QbFxsbmaT9z5ozq1q1b7KAAAACAorA4WUplKytMJf3Tpk3TmDFjtHjxYsXExCgmJkaLFy/WuHHjNH36dCUnJ9s2AAAAAKXLVHnPHXfcIUm67777bMsjGYYhSerdu7fttcViUU5OjiPiBAAAAC6PibwFMpX0r1692tFxAAAAACghppL+jh07OjoOAAAAwLSyVF9fGkw/SSshIUHvvfee3cO5IiIiFBgY6LDgAAAAABSfqeKntWvXKjQ0VLNnz1ZCQoISEhI0e/Zs1apVS2vXrnV0jAAAAACKwdRI/6hRo9S/f3/NnTtXzs7OkqScnByNHDlSo0aN0q5duxwaJAAAAFAQi4WJvAUx9e4cOnRIjz/+uC3hlyRnZ2dFRkbq0KFDDgsOAAAAQPGZSvqbN29uq+X/p71796pp06bFDgoAAAAoEidL6WxlhKnynjFjxmjs2LE6dOiQWrduLUnatGmT3n77bf3f//2fdu7caevbpEkTx0QKAAAAwBRTSf/9998vSZowYUK++ywWCw/nAgAAAK4RppL+o0ePOjoOAAAAwDQLT+QtkKmkPyQkRJL0559/Kjo6WpmZmbZ9FotFvXv3dkx0AAAAAIrNVNJ/5MgR9evXT7t27bKV8kgXE35JlPQAAADgquKJvAUz9T3I2LFjVatWLZ05c0aenp7avXu31q5dqxYtWmjNmjUODhEAAABAcZga6d+4caNWrVqloKAgOTk5ydnZWbfccoumTZumMWPGaNu2bY6OEwAAALg8Hs5VIFPvTk5Ojnx8fCRJQUFB+uuvvyRdrPXfv3+/46IDAAAAUGymRvobNWqkHTt2qFatWmrVqpVeeeUVubm5af78+apdu7ajYwQAAABQDKaS/smTJys1NVWS9MILL+iOO+5Q+/btVaFCBX3++ecODRAAAAC4EibyFsxU0t+9e3fbv+vWrat9+/bp3LlzCggIsK3gAwAAAODaYCrpz09gYKCjTgUAAAAUDQ/nKhDvDgAAAFDOkfQDAAAA5ZzDynsAAACA0sK80oIx0g8AAACUc4z0AwAAoOxjIm+BeHcAAACAco6kHwAAACjnKO8BAABAmccTeQvGSD8AAABQzjHSDwAAgLLPwlh2QXh3AAAAgHKOkX4AAACUfdT0F4iRfgAAAKCcI+kHAAAAyjnKewAAAFDmWZjIWyDeHQAAAKCcsxiGYZR2EAAAAEBxpP53cqlc12vYS6Vy3aK6psp70n98r7RDwHXAvftQLXOtX9ph4DrQK2u/bun9S2mHgevAum87amfPTqUdBq4DTb5fU9ohwCTKewAAAIBy7poa6QcAAADMsDgxll0Q3h0AAACgnGOkHwAAAGWfhSfyFoSRfgAAAKCcY6QfAAAAZR81/QXi3QEAAADKOZJ+AAAAoJyjvAcAAABlHxN5C8RIPwAAAFDOMdIPAACAMo+HcxWMdwcAAAAo50j6AQAAgHKO8h4AAACUfRbGsgvCuwMAAACUc4z0AwAAoOxzYsnOgjDSDwAAAJRzjPQDAACgzLNQ018g3h0AAACgnCty0n/q1Cn973//0/fff6/MzEy7fampqXrhhRccFhwAAACA4itS0v/HH38oLCxMo0aN0j333KOGDRtqz549tv0pKSmaMmWKw4MEAAAACuRkKZ2tjChS0v/000+rX79+SkhIUGxsrLp166aOHTtq27ZtJRUfAAAAgGIqUtK/ZcsWTZw4UU5OTvLx8dGcOXP0xBNPqEuXLvrjjz9KKkYAAACgYBan0tlMePvttxUaGip3d3e1atVKv//+e4H9Z82apfr168vDw0M1atTQ+PHjlZ6eXqRrFnn1nn9fYOLEiXJxcdFtt92mBQsWFPV0AAAAwHXj888/V2RkpN555x21atVKs2bNUvfu3bV//35VrFgxT/9PP/1UEydO1IIFC9S2bVsdOHBAQ4YMkcVi0cyZMwt93SJ9PGnUqJE2bNiQp/2JJ57QpEmTdP/99xfldAAAAMB1ZebMmRo2bJgiIiIUFhamd955R56enpcdPN+wYYPatWungQMHKjQ0VLfddpvuv//+K3478G9FSvoHDRqk9evX57tvwoQJmjJlimrWrFmkAAAAAIBis1hKZcvIyFBycrLdlpGRkW+ImZmZ2rJli7p27Wprc3JyUteuXbVx48Z8j2nbtq22bNliS/KPHDmi77//Xj179izS21OkpP+RRx7Rxx9/fNn9Tz31lI4ePWp7vX79+sveNAAAAFDWTZs2TX5+fnbbtGnT8u0bHx+vnJwcVapUya69UqVKOn36dL7HDBw4UC+88IJuueUWubq6qk6dOurUqZOefvrpIsVZog/n6tGjh06ePFmSlwAAAAAkJ6dS2SZNmqSkpCS7bdKkSQ67rTVr1mjq1KmaM2eOtm7dqqVLl2rZsmV68cUXi3SeIk/kLQrDMEry9AAAAECpslqtslqtheobFBQkZ2dnxcbG2rXHxsaqcuXK+R7z7LPP6qGHHtIjjzwiSWrcuLFSU1P16KOP6plnnpGTU+HG8Et0pB8AAAC4KsrAkp1ubm4KDw/XypUrbW25ublauXKl2rRpk+8xaWlpeRJ7Z2dnSUUbYC/RkX4AAAAAf4uMjNTgwYPVokULtWzZUrNmzVJqaqoiIiIkXVw4p1q1arZ5Ab1799bMmTN10003qVWrVjp06JCeffZZ9e7d25b8FwZJPwAAAHCV9O/fX3FxcXruued0+vRpNWvWTMuXL7dN7o2OjrYb2Z88ebIsFosmT56skydPKjg4WL1799bLL79cpOuWaNJvsVhK8vQAAADARU5lJ+8cPXq0Ro8ene++NWvW2L12cXFRVFSUoqKiinXNEq3pZyIvAAAAUPpMj/RnZ2drzZo1Onz4sAYOHCgfHx/99ddf8vX1lbe3tyTp/PnzDgsUAAAAuKwiTqq93phK+o8fP67bb79d0dHRysjIULdu3eTj46Pp06crIyND77zzjqPjBAAAAGCSqY9EY8eOVYsWLZSQkCAPDw9be79+/eyWIAIAAABQ+kyN9P/666/asGGD3Nzc7NpDQ0N5Ai8AAACuPhaQKZCpkf7c3Fzl5OTkaY+JiZGPj0+xgwIAAADgOKaS/ttuu02zZs2yvbZYLEpJSVFUVJR69uzpqNgAAACAwnFyKp2tjDBV3jNjxgx1795dYWFhSk9P18CBA3Xw4EEFBQXps88+c3SMAAAAAIrBVNJfvXp17dixQ59//rl27NihlJQUDR06VA888IDdxF4AAADgqqCmv0Cm1+l3cXHRAw88oAceeMCR8QAAAABwMFOFSNOmTdOCBQvytC9YsEDTp08vdlAAAAAAHMdU0j9v3jw1aNAgT3vDhg15MBcAAACuPotT6WxlhKlIT58+rSpVquRpDw4O1qlTp4odFAAAAADHMVXTX6NGDa1fv161atWya1+/fr2qVq3qkMAAAACAQitDy2eWBlNJ/7BhwzRu3DhlZWWpc+fOkqSVK1dqwoQJevzxxx0aIAAAAIDiMZX0P/nkkzp79qxGjhypzMxMSZK7u7ueeuopTZo0yaEBAgAAACgeU0m/xWLR9OnT9eyzz2rv3r3y8PBQvXr1ZLVaHR0fAAAAcGWs018g0+v0S5K3t7duvvlmR8UCAAAAoASYTvo3b96sRYsWKTo62lbic8nSpUuLHRgAAABQaGVo+czSYOrdWbhwodq2bau9e/fqyy+/VFZWlvbs2aNVq1bJz8/P0TECAAAAKAZTSf/UqVP1+uuv69tvv5Wbm5veeOMN7du3T/fdd59q1qzp6BgBAACAglkspbOVEaaS/sOHD6tXr16SJDc3N6WmpspisWj8+PGaP3++QwMEAAAAUDymkv6AgACdP39eklStWjXt3r1bkpSYmKi0tDTHRQcAAACg2ExN5O3QoYNWrFihxo0b695779XYsWO1atUqrVixQl26dHF0jAAAAEDBeCJvgUwl/W+99ZbS09MlSc8884xcXV21YcMG3X333Zo8ebJDAwQAAABQPEVO+rOzs/Xdd9+pe/fukiQnJydNnDjR4YEBAAAAhWWUoUm1paHI34O4uLjoscces430AwAAALi2mSp+atmypbZv3+7gUAAAAACUBFM1/SNHjlRkZKROnDih8PBweXl52e1v0qSJQ4IDAAAACoUn8hbIVNI/YMAASdKYMWNsbRaLRYZhyGKxKCcnxzHRAQAAACg2U0n/0aNHHR0HAAAAYB4j/QUylfSHhIQUql+vXr307rvvqkqVKmYuAwAAAMABSvQj0dq1a3XhwoWSvAQAAACAKzA10g8AAABcS1inv2AUPwEAAADlHCP9AAAAKPuYyFsgkv5ryMK1W/Xhqt8Vn5yqG6pV1MR7uqpxSP6ToIfO/kybD53I094+rLbeeuweSVLTMa/ke+z4OztqSJdWjgscZUrgLS1U+/Gh8mveSO5VK2rz3SMV+83Kgo/p0FJhr02Ud1g9pZ84pUPT5irmoy/t+oSMGKjakUNlrRys5J37tGfci0r6Y1dJ3grKgLt6VtX9d9VQYICbDh9N0evzDmnvwfP59u3QJkiD7q2palU85OJiUcxfF7TwqxP6cfUZSZKzs0WPPhiq1i0CVbWyh1JTs7V5R4LmfnhUZ89lXs3bwjWowh19FXz3ALkEBCr96CGdnDtbFw7sy7+zs7Mq3veAArp2l2uFYGXEROvU+/OVsuX3fLsH3ztQVSIeVdxXi3Vq/lsleBdAySHpv0Ys37pXr325WpP736bGIVX0yS+bNWLOIn09+RFV8PHK03/m0L7K+sfzEBJT03Xf9PfV7ab6traVL420O2bdn0f1/Gc/qGvT+sL1y9nLU8k79+vEB0vUYvHbV+zvEVpdN38zT9HzF2r7oCdUoXMbNZ73ktJPxSl+xTpJUpV7e+jGVydp96goJf6+Q7XGDFarZe9pTcPblRl3rqRvCdeozrcEa/QjdfTa2wf054Hzuq9PNc18obHuf+wPJSZl5el//nyWPlp0XMdjLigrO1ftbq6gSWMbKCExS79vS5C71Uk31PHRh59H6+DRFPl6u2jssLqaPrmRHoncWgp3iGuFX4dbVWXYSJ18a6bS9u1VUN97VOvFV7X/0YeUk5SYp3/lQUMVcGs3xcx+TRkx0fJufrNCJ7+oQ4+PUvqRQ3Z9PerVV4UevXXhX+24BlHTXyBT34OsXbtW2dnZedqzs7O1du1a2+unn35agYGB5qO7jny8erPuattEfVs3Vp0qQZp8X3e5u7nqq035j5T6eXkoyNfbtm3ad0zurq7q1uzvhP6f+4N8vbVm10HdXK+mqgf5X6W7wrUo7se1OhA1S7Ff/1yo/iGPDtCFozHaO2G6UvYd0fE5n+j0kh9Va+wQW59a4yJ04r1FivlwqVL2HtaukVHKSUtXjSF3l9BdoCwY0Le6vv3xlL5fGatjJ9L06pyDSs/I1R3dKufbf9vuJK3ddFbHY9L01+l0ffHtSR0+lqImYX6SpNS0HI1/bqdWrYvTiZMXtGf/ec2cd0gN6vmoUrD1at4arjHB/e7VueXLlLBiuTJOHNfJt2bKyEhX4G098+0f0Pk2nVn0ic5v/k2Zp0/p3Pff6PzmTQq+q79dPyd3D9WcMFkxs19TTkrK1bgVoMSYSvpvvfVWnTuXd/QuKSlJt956q+31pEmT5O/vbzq460VWdo72njit1vVDbW1OTha1rh+inUf/KtQ5vty0U7eHN5Cn1S3f/WeTU/XrniPq17qJI0LGdcS/dTPFr9po1xa3Yp0CWjeTJFlcXeXXvKHiV274u4NhKH7VBvm3vukqRopriYuLRTfU9dHmHQm2NsOQNm9PUMP6voU6R3gTf9Ws5qnte5Iu28fb01m5uYbOp+QdiML1weLiIo+69ZWyfcvfjYah89u3yLNBWP7HuLoqN9O+JCw3I1NeDRvbtVUdOVbJv2+yPzdQRpkq7zEMQ5Z8vkI5e/asvLzylqKgYAmpacrJNVTBx9OuvYKPl47GXrk0YtfxUzp0Kl7PD+xx2T7f/L5bnu5u6tL0hmLHi+uLtVKQMmLj7doyYuPl6ucjJ3erXAP85OTioowzZ//V56y86te+mqHiGuLn6yoXZ4vOJdiX8ZxLzFJIdc/LHCV5eTrryw/ayM3Vopxcaebcg9q8PSHfvm6uFo0YUls/rz2jtAs5+fZB+efs6yeLs7OyE+z/f5mdmCD3GjXzPeb81j8U3O9epe7eocxTf8m7WXP5tW0vOf89FurXobM86t6gQ2MfK9H44UBOTOQtSJGS/rvuukuSZLFYNGTIEFmtf3+dmpOTo507d6pt27ZXPE9GRoYyMjLs2v55LhTNlxt3ql7V4MtO+pWkrzbtUs8WYbK6Mo0DwLUr7UKOIsZuloe7s1o0DdDooXX01+kL2rbbfrTf2dmiF54KkyzSa3MOllK0KKv+eudNVR/7pOrP+0iSlHnqpM79/IMCu10sB3INClbV4aN19JknZGQxSRzlQ5EyQD+/i3WVhmHIx8dHHh4etn1ubm5q3bq1hg0bdsXzTJs2TVOmTLFri4qK0sQ2NYoSTrkR4OUpZyeLzp5Ps2s/ez5VQflM4v2ntIxM/bh1r0b2vOWyfbYePqFjZ87plYg+DokX15eM2HhZKwXZtVkrBSkr6bxy0zOUGZ+g3OxsWStW+FefCso4bf8NAa4fSclZys4xFBjgatce6O+qswmXT6IMQzp5Kl2SdOhoqkJqeOrBe2tq2+6/5zc5O1v04lNhqlzRXWOe2cEo/3UuJzlJRk6OXALs5xC6+AcoK59S5EvHHH9xsiyubnL29VX22XhVjnhUmacvltR61Ksv14BA1Xvzv7ZjLM7O8mrUREG9+2nXnd2k3NySuymYwsO5ClakpP/999+XJIWGhuqJJ54wXcozadIkRUZG2rVZrVYZa/5n6nxlnauLs26sUVm/HTiuzk3qSZJycw39tv+4BnRoXuCxK7bvV2Z2jnrd3PCyfb7cuEthNSqpfrWKDo0b14fETdsV3KODXVtQl7ZK2LRdkmRkZSlp6x4FdW7z99KfFosq3NpGx+dcn3/TkLKzDR04dF7hTQL066aLpV8WixTeNEBLl50s9HmcLJKb699f2V9K+KtX9dCYp3co+Ty1/Nc7IztbFw7tl3fT5kreeHFFMVks8m4WrrPfflnwsVmZyj4bLzk7y69dRyX9ulqSlLJ9i/aPiLDrW2P8U8qIidaZLz4j4UeZZKrWIyoqqlgXtVqt+ZbzpBfrrGXbQ7e20LP/+14Na1RWo5Aq+t+azbqQmaW+rS5OKnrm42Wq6OetsX062h335cZdurVJPfl7eeR3WqVcyNBP2/fr8b6dSvoWUEY4e3nKq+7fda6etarLt2kDZZ5LUvqJU6r/UqTcq1XSjoinJEnH5y9UyMgH1GDakzrxwRIF3dpaVe7toT/6DLed4+is99V0wXQlbtmtpD92KnTMYLl4eejEh0uv+v3h2rHwqxg9M76B9h06r70Hzuu+O6vJw91Jy34+LUmaPL6+4s5mat5HRyVJD95TQ/sOpeivUxfk6uqkNi0C1f3WSnpt7sXyHWdni16aGKYb6njrqRd2y8np4jcHkpSckq3sbKN0bhSlLu7LL1QjcpIuHNyvtAN7FXTnPXKyuithxQ+SpBqPT1LW2Xid/uDiyL1H/RvlWiFI6UcOyaVCkCo9MESyWHRm8UJJUu6FC8o4ftTuGrnp6cpOTs7TDpQVppL+2NhYPfHEE1q5cqXOnDkjw7D/D21ODl+1FtXtzW9UQsoFzfl+neKTU1W/ekXNGXGvKvhe/DbldEKynP71tdWx2LPadiRG74y877LnXb51r2QY6hGe/woGuP74hTdSm5Uf216Hvfa0JOnER0u1c+gkWasEy6PG3/NDLhyL0R99hitsxiSF/meQ0mNOa9fwybY1+iXp1Bc/yC04UDdEjbn4cK4de/X7HY8o81+Te3F9WbUuTv5+rnrkgVAFBrjp0JEUPR61SwmJFyf3Vgp2V+4//vfh4e6sx0fUVcUKVmVk5up4TJpemLFPq9bFSZKCK7ipfeuLpWYfvNnC7lr/mbQ9T90/rh9Ja1fLxddflR6KuPhwriOHdPS5CcpOvDgJ3DW4kox//LI5ubqp8qChcqtcVbkXLuj85k068dpU5aayLGeZxhN5C2Qx/p2xF0KPHj0UHR2t0aNHq0qVKnlW8rnzzjtNBZP+43umjgOKwr37UC1z5QFlKHm9svbrlt6/lHYYuA6s+7ajdvbsVNph4DrQ5Ps1pR3CZaVu/KpUruvVpm+pXLeoTI30r1u3Tr/++quaNWvm4HAAAACAojMY6S+QqXenRo0aeUp6AAAAAFybTCX9s2bN0sSJE3Xs2DEHhwMAAACYYLGUzlZGmCrv6d+/v9LS0lSnTh15enrK1dV+HeZzl1kXFwAAAMDVZyrpnzVrloPDAAAAAFBSTCX9gwcPdnQcAAAAgGlM5C2YqaT/n9LT05WZaf9IdV9f3+KeFgAAAICDmEr6U1NT9dRTT2nRokU6ezbvw3d4OBcAAACuqjI0qbY0mPoeZMKECVq1apXmzp0rq9Wqd999V1OmTFHVqlX10UcfOTpGAAAAAMVgaqT/22+/1UcffaROnTopIiJC7du3V926dRUSEqJPPvlEDzzwgKPjBAAAAGCSqZH+c+fOqXbt2pIu1u9fWqLzlltu0dq1ax0XHQAAAFAYFqfS2coIU5HWrl1bR48elSQ1aNBAixYtknTxGwB/f3+HBQcAAACg+EyV90RERGjHjh3q2LGjJk6cqN69e+utt95SVlaWZs6c6egYAQAAgAIZTOQtkKmkf/z48bZ/d+3aVfv27dOWLVtUt25dNWnSxGHBAQAAACi+Yq/TL0khISEKCQlxxKkAAACAoitD9fWlwdS7M2bMGM2ePTtP+1tvvaVx48YVNyYAAAAADmQq6V+yZInatWuXp71t27ZavHhxsYMCAAAA4DimynvOnj0rPz+/PO2+vr6Kj48vdlAAAABAURhiIm9BTI30161bV8uXL8/T/sMPP9jW7wcAAABwbTA10h8ZGanRo0crLi5OnTt3liStXLlSM2bM0KxZsxwZHwAAAHBFBhN5C2Qq6X/44YeVkZGhl19+WS+++KIkKTQ0VHPnztWgQYMcGiAAAACA4jG9ZOeIESM0YsQIxcXFycPDQ97e3o6MCwAAAICDFHud/uDgYEfEAQAAAJhHeU+BCp30N2/eXCtXrlRAQIBuuukmWQp41PHWrVsdEhwAAACA4it00n/nnXfKarVKkvr27VtS8QAAAABFZhQwII0iJP1RUVH5/hsAAADAta3YNf0AAABAaWPJzoIVOukPCAgosI7/n86dO2c6IAAAAACOVeikn4duAQAAAGVToZP+wYMHl2QcAAAAgHlM5C2Q6Zr+nJwcffnll9q7d68kKSwsTHfeeadcXJgmAAAAAFxLTGXoe/bsUZ8+fXT69GnVr19fkjR9+nQFBwfr22+/VaNGjRwaJAAAAFAQJvIWzNS788gjj6hhw4aKiYnR1q1btXXrVp04cUJNmjTRo48+6ugYAQAAABSDqaR/+/btmjZtmgICAmxtAQEBevnll7Vt2zaHBQcAAACUN2+//bZCQ0Pl7u6uVq1a6ffff79s306dOsliseTZevXqVaRrmkr6b7jhBsXGxuZpP3PmjOrWrWvmlAAAAIBphiylshXV559/rsjISEVFRWnr1q1q2rSpunfvrjNnzuTbf+nSpTp16pRt2717t5ydnXXvvfcW6bqmkv5p06ZpzJgxWrx4sWJiYhQTE6PFixdr3Lhxmj59upKTk20bAAAAgItmzpypYcOGKSIiQmFhYXrnnXfk6empBQsW5Ns/MDBQlStXtm0rVqyQp6dnkZN+UxN577jjDknSfffdZ3tgl2EYkqTevXvbXlssFuXk5Ji5BAAAAFBopTWRNyMjQxkZGXZtVqtVVqs1T9/MzExt2bJFkyZNsrU5OTmpa9eu2rhxY6Gu995772nAgAHy8vIqUpymkv7Vq1ebOQwAAAAoV6ZNm6YpU6bYtUVFRen555/P0zc+Pl45OTmqVKmSXXulSpW0b9++K17r999/1+7du/Xee+8VOU5TSX/Hjh3NHAYAAACUjFJ6ONekSZMUGRlp15bfKL8jvPfee2rcuLFatmxZ5GNNP0krISFB7733nt3DuSIiIhQYGGj2lAAAAECZcrlSnvwEBQXJ2dk5z4I4sbGxqly5coHHpqamauHChXrhhRdMxWmq+Gnt2rUKDQ3V7NmzlZCQoISEBM2ePVu1atXS2rVrTQUCAAAAlGdubm4KDw/XypUrbW25ublauXKl2rRpU+CxX3zxhTIyMvTggw+aurapkf5Ro0apf//+mjt3rpydnSVJOTk5GjlypEaNGqVdu3aZCgYAAAAwwzA3ln3VRUZGavDgwWrRooVatmypWbNmKTU1VREREZKkQYMGqVq1apo2bZrdce+995769u2rChUqmLquqaT/0KFDWrx4sS3hlyRnZ2dFRkbqo48+MhUIAAAAUN71799fcXFxeu6553T69Gk1a9ZMy5cvt03ujY6OlpOT/QeY/fv3a926dfrpp59MX9dU0t+8eXPt3btX9evXt2vfu3evmjZtajoYAAAAwAyjlCbymjF69GiNHj06331r1qzJ01a/fn3b8vhmmUr6x4wZo7Fjx+rQoUNq3bq1JGnTpk16++239X//93/auXOnrW+TJk2KFSAAAACA4jGV9N9///2SpAkTJuS7z2Kx8HAuAAAA4BphKuk/evSoo+MAAAAATCutJ/KWFaaS/pCQEEnSn3/+qejoaGVmZtr2WSwW9e7d2zHRAQAAACg2U0n/kSNH1K9fP+3atctWyiNdTPglUdIDAACAq8pQ2ZnIWxpMfQ8yduxY1apVS2fOnJGnp6d2796ttWvXqkWLFvnOOAYAAABQekyN9G/cuFGrVq1SUFCQnJyc5OzsrFtuuUXTpk3TmDFjtG3bNkfHCQAAAFwWNf0FM/Xu5OTkyMfHR5IUFBSkv/76S9LFWv/9+/c7LjoAAAAAxWZqpL9Ro0basWOHatWqpVatWumVV16Rm5ub5s+fr9q1azs6RgAAAADFYCrpnzx5slJTUyVJL7zwgu644w61b99eFSpU0Oeff+7QAAEAAIArKUtP5C0NppL+7t272/5dt25d7du3T+fOnVNAQIBtBR8AAAAA1wZTSX9+AgMDHXUqAAAAoEhYsrNgTHMGAAAAyjmSfgAAAKCcc1h5DwAAAFBaWKe/YLw7AAAAQDnHSD8AAADKPCbyFoyRfgAAAKCcI+kHAAAAyjnKewAAAFDmMZG3YLw7AAAAQDnHSD8AAADKPCbyFoyRfgAAAKCcY6QfAAAAZR41/QXj3QEAAADKOZJ+AAAAoJyjvAcAAABlHhN5C8ZIPwAAAFDOWQzDMEo7CAAAAKA4Dh85UirXrVO7dqlct6iuqfKecy8NL+0QcB0InDxPt/T+pbTDwHVg3bcdtcy1fmmHgetAr6z9itvzW2mHgetAcMNWpR0CTKK8BwAAACjnrqmRfgAAAMAMw2Aib0EY6QcAAADKOUb6AQAAUOYZjGUXiHcHAAAAKOcY6QcAAECZx8O5CsZIPwAAAFDOkfQDAAAA5ZxDk/69e/eqdhl5KhkAAADKD0OWUtnKCocm/ZmZmTp+/LgjTwkAAACgmIo0kTcyMrLA/XFxccUKBgAAADCjLI26l4YiJf1vvPGGmjVrJl9f33z3p6SkOCQoAAAAAI5TpKS/bt26Gj9+vB588MF892/fvl3h4eEOCQwAAACAYxSppr9FixbasmXLZfdbLBYZhlHsoAAAAICiYCJvwYo00j9jxgxlZGRcdn/Tpk2Vm5tb7KAAAAAAOE6RRvorV66skJCQQvf/7LPPlJqaWuSgAAAAgKIwDEupbGVFiT6ca/jw4YqNjS3JSwAAAAC4giKV9xQV9f0AAAC4GspSfX1pKNGRfgAAAAClj6QfAAAAKOdKtLwHAAAAuBoo7ykYI/0AAABAOVeiI/0hISFydXUtyUsAAAAAjPRfgemR/sTERL377ruaNGmSzp07J0naunWrTp48aeuze/du1ahRo/hRAgAAADDN1Ej/zp071bVrV/n5+enYsWMaNmyYAgMDtXTpUkVHR+ujjz5ydJwAAAAATDI10h8ZGakhQ4bo4MGDcnd3t7X37NlTa9eudVhwAAAAQGHwRN6CmUr6//jjDw0fPjxPe7Vq1XT69OliBwUAAADAcUyV91itViUnJ+dpP3DggIKDg4sdFAAAAFAUuUzkLZCpkf4+ffrohRdeUFZWliTJYrEoOjpaTz31lO6++26HBggAAACgeEwl/TNmzFBKSooqVqyoCxcuqGPHjqpbt658fHz08ssvOzpGAAAAoECGLKWylRWmynv8/Py0YsUKrV+/Xjt27FBKSoqaN2+url27Ojo+AAAAAMVUrIdztWvXTu3atXNULAAAAABKgKnynjFjxmj27Nl52t966y2NGzeuuDEBAAAARcKSnQUzlfQvWbIk3xH+tm3bavHixcUOCgAAAIDjmCrvOXv2rPz8/PK0+/r6Kj4+vthBAQAAAEVRlibVlgZTI/1169bV8uXL87T/8MMPql27drGDAgAAAOA4pkb6IyMjNXr0aMXFxalz586SpJUrV2rGjBmaNWuWI+MDAAAAUEymkv6HH35YGRkZevnll/Xiiy9KkkJDQzV37lwNGjTIoQECAAAAV1KWJtWWBtNLdo4YMUIjRoxQXFycPDw85O3t7ci4AAAAADhIsdbpl6Tg4GBHxAEAAACYxkTegplO+hcvXqxFixYpOjpamZmZdvu2bt1a7MAAAAAAOIap1Xtmz56tiIgIVapUSdu2bVPLli1VoUIFHTlyRD169HB0jAAAAECBeDhXwUwl/XPmzNH8+fP15ptvys3NTRMmTNCKFSs0ZswYJSUlOTpGAAAAAMVgKumPjo5W27ZtJUkeHh46f/68JOmhhx7SZ5995rjoAAAAABSbqaS/cuXKOnfunCSpZs2a2rRpkyTp6NGjMgzDcdEBAAAAhZBbSltZYSrp79y5s7755htJUkREhMaPH69u3bqpf//+6tevn0MDBAAAAFA8plbvmT9/vnJzL362GTVqlCpUqKANGzaoT58+Gj58uEMDBAAAAK6kLE2qLQ1FTvqzs7M1depUPfzww6pevbokacCAARowYIDDgwMAAABQfEUu73FxcdErr7yi7OzskogHAAAAgIOZqunv0qWLfvnlF0fHAgAAAJhiyFIqW1lhKunv0aOHJk6cqCeeeEKfffaZvvnmG7sNAAAAQP7efvtthYaGyt3dXa1atdLvv/9eYP/ExESNGjVKVapUkdVq1Q033KDvv/++SNc0NZF35MiRkqSZM2fm2WexWJSTk2PmtAAAAIApZWUi7+eff67IyEi98847atWqlWbNmqXu3btr//79qlixYp7+mZmZ6tatmypWrKjFixerWrVqOn78uPz9/Yt0XVNJ/6WVewAAAAAU3syZMzVs2DBFRERIkt555x0tW7ZMCxYs0MSJE/P0X7Bggc6dO6cNGzbI1dVVkhQaGlrk65oq7ymsxo0b68SJEyV5CQAAAKDUavozMjKUnJxst2VkZOQbY2ZmprZs2aKuXbva2pycnNS1a1dt3Lgx32O++eYbtWnTRqNGjVKlSpXUqFEjTZ06tciVNSWa9B87dkxZWVkleQkAAACg1EybNk1+fn5227Rp0/LtGx8fr5ycHFWqVMmuvVKlSjp9+nS+xxw5ckSLFy9WTk6Ovv/+ez377LOaMWOGXnrppSLFaaq8BwAAAIA0adIkRUZG2rVZrVaHnT83N1cVK1bU/Pnz5ezsrPDwcJ08eVKvvvqqoqKiCn0ekn4AAACUeblG6VzXarUWOskPCgqSs7OzYmNj7dpjY2NVuXLlfI+pUqWKXF1d5ezsbGu78cYbdfr0aWVmZsrNza1Q1y7R8h4AAAAAF7m5uSk8PFwrV660teXm5mrlypVq06ZNvse0a9dOhw4dsltI58CBA6pSpUqhE36JpB8AAADlQFl5OFdkZKT++9//6sMPP9TevXs1YsQIpaam2lbzGTRokCZNmmTrP2LECJ07d05jx47VgQMHtGzZMk2dOlWjRo0q0nUp7wEAAACukv79+ysuLk7PPfecTp8+rWbNmmn58uW2yb3R0dFycvp7XL5GjRr68ccfNX78eDVp0kTVqlXT2LFj9dRTTxXpuqaS/o8++kj9+/fPU7+UmZmphQsXatCgQZKkefPm5ZmdDAAAAFzPRo8erdGjR+e7b82aNXna2rRpo02bNhXrmqbKeyIiIpSUlJSn/fz587avJiRp4MCB8vLyMh8dAAAAUAiGYSmVrawwlfQbhiGLJe9NxsTEyM/Pr9hBAQAAAHCcIpX33HTTTbJYLLJYLOrSpYtcXP4+PCcnR0ePHtXtt9/u8CABAACAghiltGRnWVGkpL9v376SpO3bt6t79+7y9va27XNzc1NoaKjuvvtuhwYIAAAAoHiKlPRfeupXaGio+vfvL3d39xIJCgAAAIDjmFq9Z/DgwZIurtZz5swZu4cFSFLNmjWLHxkAAABQSLkm1sy/nphK+g8ePKiHH35YGzZssGu/NME3JyfHIcEBAAAAKD5TSf+QIUPk4uKi7777TlWqVMl3JR8AAADgailLy2eWBlNJ//bt27VlyxY1aNDA0fFc16zhneTeppucvP2UExuj1B8XKuevY5fv37KL3MM7yMk3ULkXUpS1d6vSVn0p5WRLkvxGvyxn/6A8x6VvXqO05Z+V1G2gDLirZ1Xdf1cNBQa46fDRFL0+75D2Hjyfb98ObYI06N6aqlbFQy4uFsX8dUELvzqhH1efkSQ5O1v06IOhat0iUFUreyg1NVubdyRo7odHdfZc5tW8LVxjAm9podqPD5Vf80Zyr1pRm+8eqdhvVhZ8TIeWCnttorzD6in9xCkdmjZXMR99adcnZMRA1Y4cKmvlYCXv3Kc9415U0h+7SvJWUAYs+eFnffbV9zqXmKQ6oTU0/pGHFFavTr59Rz87Vdv37MvT3qZ5U706+XFJF6sX3lu4VN+uWKPzaWlq3KCennh0iGpUrVyi9wGUFFNJf1hYmOLj4x0dy3XNLayFPLvdo9QfPlX2yaNyb9lFPvePUdLcKBlpeZMxt4Y3y7NzP6V++6GyY47IqUJFefceIhlS2s9fSJKSF0yTLH8/isG5YlX5PjBemXu3XK3bwjWo8y3BGv1IHb329gH9eeC87utTTTNfaKz7H/tDiUlZefqfP5+ljxYd1/GYC8rKzlW7myto0tgGSkjM0u/bEuRuddINdXz04efROng0Rb7eLho7rK6mT26kRyK3lsId4lrh7OWp5J37deKDJWqx+O0r9vcIra6bv5mn6PkLtX3QE6rQuY0az3tJ6afiFL9inSSpyr09dOOrk7R7VJQSf9+hWmMGq9Wy97Sm4e3KjDtX0reEa9TKdZv01vuf6onhQxR2Qx0t+u5HRb7wqj578xUF+Pvm6T91whhlZWfbXiedT1FE5GTd2ralre2TL5dp8bIVembMMFWpGKx3P1uiyBdf1f/emCarm9tVuS8UDUt2FszUw7mmT5+uCRMmaM2aNTp79qySk5PtNhSde6uuyti2Tpk7Nig3/pTSvv9EysqUtVnbfPu7VK+j7BOHlbnnD+UmnVX2kb3K2POHnKuF2voYaSkyUpNtm1vdJso5d0bZxw9cpbvCtWhA3+r69sdT+n5lrI6dSNOrcw4qPSNXd3TLf/Rq2+4krd10Vsdj0vTX6XR98e1JHT6WoiZhFx/El5qWo/HP7dSqdXE6cfKC9uw/r5nzDqlBPR9VCrZezVvDNSbux7U6EDVLsV//XKj+IY8O0IWjMdo7YbpS9h3R8Tmf6PSSH1Vr7BBbn1rjInTivUWK+XCpUvYe1q6RUcpJS1eNISwXfT1b+O1y9e7WSb26dFCtGtX05PAhcrda9d2qX/Lt7+vjrQoB/rZt847dslrdbEm/YRj64rsfNeiePmrfMlx1Q2tq8pjhOnsuUb/+zmAGyiZTSX/Xrl21adMmdenSRRUrVlRAQIACAgLk7++vgIAAR8dY/jk5y7lKTWUd3fuPRkNZx/bJpVrtfA/Jjjks5yo15Vw19OIp/IPkVreRsg7tvuw13Bq3UsaODfnvx3XBxcWiG+r6aPOOBFubYUibtyeoYf28o2H5CW/ir5rVPLV9T9Jl+3h7Ois319D5lOzL9gH+zb91M8Wv2mjXFrdinQJaN5MkWVxd5de8oeJX/uO/Y4ah+FUb5N/6pqsYKa4lWVnZOnD4mFo0aWhrc3JyUosmYdqz/1ChzvHdyrXqcktrebhfHKj4KzZOZxOTdHPTv8/p7eWpsHq1tbuQ5wSuNabKe1avXu3oOK5rFk9vWZycZaTal/HkpiTLtUL+o6+Ze/6QxdNbvoOflGSRxdlZ6Vt+Ufr6H/Lt71a/mSzuHiT91zk/X1e5OFt0LsG+jOdcYpZCqnte9jgvT2d9+UEbublalJMrzZx7UJu3J+Tb183VohFDauvntWeUdoGVvFB41kpByoi1Lx3NiI2Xq5+PnNytcg3wk5OLizLOnP1Xn7Pyqp//AAnKv6Tz55WTm6vAf5XxBPr76fjJU1c8/s+Dh3UkOkYTRw21tZ1LvDioEeDnZ9c3wN9P5xISix80SoTBkp0FMpX0d+zYsVgXzcjIUEZGhl2b1UoZQFG4hNwgj3Y9lPb/5wA4BVaU52395X5LT6Wv+z5Pf2uzdso6tEdGyuVHZ4HLSbuQo4ixm+Xh7qwWTQM0emgd/XX6grbttv99cna26IWnwiSL9Nqcg6UULQAU3nc/r1WdkBqXnfQLlBemkv5L0tLSFB0drcxM+xU6mjRpUuBx06ZN05QpU+zaoqKiNKZY0ZRdRlqKjNwcWbx87NqdvH2Ve5kk3aNjH2Xs+k0Z29dLknLi/tIFV6u8ej2o9HU/SPp7NouTX6Bcat2olMXvlNg9oGxISs5Sdo6hwABXu/ZAf1edTbj8SjuGIZ08lS5JOnQ0VSE1PPXgvTW1bfffK6Y4O1v04lNhqlzRXWOe2cEoP4osIzZe1kr2K45ZKwUpK+m8ctMzlBmfoNzsbFkrVvhXnwrKOM3iEtcrPx8fOTs56Vyi/ZzCc4lJquDvd5mjLrqQnqGV6zdp6IC77NoD//9xCUlJCgr0t7UnJCapbq0QxwQOh8tlIm+BTNX0x8XF6Y477pCPj48aNmyom266yW67kkmTJikpKclumzRpkplQyofcHOWcipZrrRv/0WiRa2gDZZ88ku8hFle3vNPUjdxLh9qxNm0rI/W8sg6ypN31Ljvb0IFD5xXe5O+5NxaLFN40QHv2F34SvpNFcnP9x8pQ/z/hr17VQ+Mm71TyeWr5UXSJm7arQufWdm1BXdoqYdN2SZKRlaWkrXsU1LnN3x0sFlW4tY0SN227ipHiWuLq6qIb6oRqy849trbc3Fxt2fmnGtavW+Cxqzf8rqysbHXvaL9oRtVKwarg76fNO/+0taWmXdCfB4+o0RXOCVyrTCX948aNU2Jion777Td5eHho+fLl+vDDD1WvXj198803VzzearXK19fXbrvey3vSf/tZ1ptukVuT1nKqUFmePQdKrm62GnyvPkPkcWtfW/+sgzvlHt5BbmEt5ORfQS61bpRHxz7KPLDzXx8GLHJr2lYZOzf+/aEA17WFX8Wod/cqur1zJYVU99QTI+vJw91Jy34+LUmaPL6+hg+qZev/4D011KJZgKpWcldIdU8N6Ftd3W+tpB/XxEq6mPC/NDFM9et664XX9srJ6eI3B4H+rnJxob7yeubs5Snfpg3k2/TiM108a1WXb9MGcq9RRZJU/6VINX1/uq3/8fkL5VmrhhpMe1Je9Wsr5LGBqnJvDx194wNbn6Oz3leNofep2kN95d2gthq9/bxcvDx04sOlV/XecG0Z0Pt2ffvzL/ph9a86FnNSr837UBcyMtSrcwdJ0otvzNM7/1uU57jvVv6i9i2by8/H/pt2i8Wie+/org8Xf611v2/V4eMn9NLseaoQ6K/2LZtflXsCHM1UQc2qVav09ddfq0WLFnJyclJISIi6desmX19fTZs2Tb169XJ0nOVe5p+bZfH0lkfHPnLy8lVObIzOfzbbNrnXyS/QLpm/8Ov3MgzJo9OdcvLxV25airIO7tSF1V/ZndeldgM5+1VQxo71V/N2cA1btS5O/n6ueuSBUAUGuOnQkRQ9HrVLCYkXJ/dWCna3+4rUw91Zj4+oq4oVrMrIzNXxmDS9MGOfVq2LkyQFV3BT+9YXSzI+eLOF3bX+M2l7nrp/XD/8whupzcqPba/DXntaknTio6XaOXSSrFWC5fH/PwBI0oVjMfqjz3CFzZik0P8MUnrMae0aPtm2Rr8knfriB7kFB+qGqDEXH861Y69+v+MRZf5rci+uL11uaa3E5PN697OlOpeYpLq1amrGs0/aynRi48/Kycl+ECL65Cnt3HtArz83Id9zPtCvl9IzMvTKO+8rJTVNjW+spxnPPsEa/dcwnshbMIthFP1RBr6+vtq5c6dCQ0MVEhKiTz/9VO3atdPRo0fVsGFDpaWlmQrm3EvDTR0HFEXg5Hm6pXf+azcDjrTu245a5lq/tMPAdaBX1n7F7fmttMPAdSC4YavSDuGyftiW9wGTV0OPm1yv3OkaYKq8p379+tq/f78kqWnTppo3b55Onjypd955R1WqVLnC0QAAAIBjGUbpbGWFqfKesWPH6tSpi2vfRkVF6fbbb9cnn3wiNzc3ffDBB46MDwAAAEAxmUr6H3zwQdu/w8PDdfz4ce3bt081a9ZUUFBQAUcCAAAAjpfLw7kK5JCV8T09PdW8ObPZAQAAgGuRqZr+u+++W9OnT8/T/sorr+jee+8tdlAAAAAAHMdU0r927Vr17NkzT3uPHj20du3aYgcFAAAAFAUTeQtmKulPSUmRWz7r1Lq6uio5ufBP9QQAAABQ8kwl/Y0bN9bnn3+ep33hwoUKCwsrdlAAAABAURiGpVS2ssLURN5nn31Wd911lw4fPqzOnTtLklauXKnPPvtMX3zxhUMDBAAAAFA8ppL+3r1766uvvtLUqVO1ePFieXh4qEmTJvr555/VsWNHR8cIAAAAoBhML9nZq1cv9erVy5GxAAAAAKbklqFJtaXBVE0/AAAAgLKj0CP9gYGBOnDggIKCghQQECCL5fITF86dO+eQ4AAAAIDCKEvLZ5aGQif9r7/+unx8fCRJs2bNKql4AAAAADhYoZP+wYMH5/tvAAAAoLQZKjvLZ5aGQif9RXnolq+vr6lgAAAAADheoZN+f3//Auv4JckwDFksFuXk5BQ7MAAAAACOUeikf/Xq1SUZBwAAAGAaS3YWrNBJPw/dAgAAAMom0w/nSkhI0Hvvvae9e/dKksLCwhQREaHAwECHBQcAAAAUBkt2FszUw7nWrl2r0NBQzZ49WwkJCUpISNDs2bNVq1YtrV271tExAgAAACgGUyP9o0aNUv/+/TV37lw5OztLknJycjRy5EiNGjVKu3btcmiQAAAAAMwzNdJ/6NAhPf7447aEX5KcnZ0VGRmpQ4cOOSw4AAAAoDAMo3S2ssJU0t+8eXNbLf8/7d27V02bNi12UAAAAAAcx1R5z5gxYzR27FgdOnRIrVu3liRt2rRJb7/9tv7v//5PO3futPVt0qSJYyIFAAAALiPX4Im8BTGV9N9///2SpAkTJuS7z2Kx8KAuAAAA4BphKuk/evSoo+MAAAAATCtL9fWlwVTSHxIS4ug4AAAAAJQQ0w/n2r9/v958803bhN4bb7xR//nPf1S/fn2HBQcAAACg+Eyt3rNkyRI1atRIW7ZsUdOmTdW0aVNt3bpVjRo10pIlSxwdIwAAAFAgluwsmKmR/gkTJmjSpEl64YUX7NqjoqI0YcIE3X333Q4JDgAAAEDxmRrpP3XqlAYNGpSn/cEHH9SpU6eKHRQAAABQFLlG6Wxlhamkv1OnTvr111/ztK9bt07t27cvdlAAAAAAHMdUeU+fPn301FNPacuWLXYP5/riiy80ZcoUffPNN3Z9AQAAAJQeU0n/yJEjJUlz5szRnDlz8t0niYdzAQAA4KoweCJvgUwl/bm5uY6OAwAAAEAJMb1OPwAAAHCtKEvLZ5YG00l/amqqfvnlF0VHRyszM9Nu35gxY4odGAAAAADHMJX0b9u2TT179lRaWppSU1MVGBio+Ph4eXp6qmLFiiT9AAAAuKrK0vKZpcHUkp3jx49X7969lZCQIA8PD23atEnHjx9XeHi4XnvtNUfHCAAAAKAYTCX927dv1+OPPy4nJyc5OzsrIyNDNWrU0CuvvKKnn37a0TECAAAAKAZTSb+rq6ucnC4eWrFiRUVHR0uS/Pz8dOLECcdFBwAAABSCYZTOVlaYqum/6aab9Mcff6hevXrq2LGjnnvuOcXHx+vjjz9Wo0aNHB0jAAAAgGIwNdI/depUValSRZL08ssvKyAgQCNGjFBcXJzmz5/v0AABAACAK2Gkv2CmRvpbtGhh+3fFihW1fPnyfPutX79eLVq0kNVqNRcdAAAAgGIzNdJfWD169NDJkydL8hIAAAAArqBEn8hrlKXvPAAAAFBmsU5/wUp0pB8AAABA6SvRkX4AAADgaqDApGCM9AMAAADlXImO9FsslpI8PQAAACBJys0t7QiubSU60s9EXgAAAKD0FWukPy4uTvv375ck1a9fX8HBwXb7z58/X5zTAwAAAHAAUyP9qampevjhh1W1alV16NBBHTp0UNWqVTV06FClpaU5OkYAAACgQDyRt2Cmkv7IyEj98ssv+uabb5SYmKjExER9/fXX+uWXX/T44487OkYAAAAAxWCqvGfJkiVavHixOnXqZGvr2bOnPDw8dN9992nu3LmOig8AAAC4orI06l4aTI30p6WlqVKlSnnaK1asSHkPAAAAcI0xlfS3adNGUVFRSk9Pt7VduHBBU6ZMUZs2bRwWHAAAAIDiM1XeM2vWLN1+++2qXr26mjZtKknasWOHrFarfvrpJ4cGCAAAAFxJLuU9BTKV9Ddu3FgHDx7UJ598on379kmS7r//fj3wwAPy8PBwaIAAAAAAisdU0j9t2jRVqlRJw4YNs2tfsGCB4uLi9NRTTzkkOAAAAKAwSu+hsJZSum7RmKrpnzdvnho0aJCnvWHDhnrnnXeKHRQAAABQXr399tsKDQ2Vu7u7WrVqpd9///2yfT/44ANZLBa7zd3dvcjXNJX0nz59WlWqVMnTHhwcrFOnTpk5JQAAAFDuff7554qMjFRUVJS2bt2qpk2bqnv37jpz5sxlj/H19dWpU6ds2/Hjx4t8XVNJf40aNbR+/fo87evXr1fVqlXNnBIAAAAwraw8kXfmzJkaNmyYIiIiFBYWpnfeeUeenp5asGDBZY+xWCyqXLmybctv6fwrMVXTP2zYMI0bN05ZWVnq3LmzJGnlypWaMGECT+QFAADAdSMjI0MZGRl2bVarVVarNU/fzMxMbdmyRZMmTbK1OTk5qWvXrtq4ceNlr5GSkqKQkBDl5uaqefPmmjp1qho2bFikOE0l/U8++aTOnj2rkSNHKjMzU5Lk7u6up556yu4mAAAAgKshN7d0rjtt2jRNmTLFri0qKkrPP/98nr7x8fHKycnJM1JfqVIl24qY/1a/fn0tWLBATZo0UVJSkl577TW1bdtWe/bsUfXq1Qsdp6mk32KxaPr06Xr22We1d+9eeXh4qF69evl+ogEAAADKq0mTJikyMtKuzZE5cZs2beweftu2bVvdeOONmjdvnl588cVCn8dU0n+Jt7e3br755uKcAgAAACi20lqx83KlPPkJCgqSs7OzYmNj7dpjY2NVuXLlQp3D1dVVN910kw4dOlSkOE1N5AUAAABQNG5ubgoPD9fKlSttbbm5uVq5cqXdaH5BcnJytGvXrnxX0ixIsUb6AQAAABReZGSkBg8erBYtWqhly5aaNWuWUlNTFRERIUkaNGiQqlWrpmnTpkmSXnjhBbVu3Vp169ZVYmKiXn31VR0/flyPPPJIka5L0g8AAIAyL7e0HshbRP3791dcXJyee+45nT59Ws2aNdPy5cttk3ujo6Pl5PR3MU5CQoKGDRum06dPKyAgQOHh4dqwYYPCwsKKdF2SfgAAAOAqGj16tEaPHp3vvjVr1ti9fv311/X6668X+5oWwyitaQ8AAACAY8z4qnRS2sf7WkrlukV1TY309x15oLRDwHXgqzk3aGfPTqUdBq4DTb5fo7g9v5V2GLgOBDdspWWu9Us7DFwHemXtL+0QYBKr9wAAAADl3DU10g8AAACYYZTaTN6yUd7DSD8AAABQzjHSDwAAgDKvrCzZWVoY6QcAAADKOUb6AQAAUOaxCH3BGOkHAAAAyjmSfgAAAKCcK3LSv2PHDr300kuaM2eO4uPj7fYlJyfr4YcfdlhwAAAAQGHk5hqlspUVRUr6f/rpJ7Vs2VILFy7U9OnT1aBBA61evdq2/8KFC/rwww8dHiQAAAAA84qU9D///PN64okntHv3bh07dkwTJkxQnz59tHz58pKKDwAAALgiwyidrawo0uo9e/bs0ccffyxJslgsmjBhgqpXr6577rlHCxcu1M0331wiQQIAAAAwr0hJv9VqVWJiol3bwIED5eTkpP79+2vGjBmOjA0AAACAAxQp6W/WrJlWr16t8PBwu/YBAwbIMAwNHjzYocEBAAAAhVGWSm1KQ5GS/hEjRmjt2rX57rv//vtlGIb++9//OiQwAAAAAI5RpIm8/fr10+uvv37Z/QMHDrRbzeezzz5Tamqq+egAAACAQsg1jFLZyooSfTjX8OHDFRsbW5KXAAAAAHAFRSrvKSqjDH36AQAAQNll5JZ2BNe2Eh3pBwAAAFD6SPoBAACAcq5Ey3sAAACAq4Gy8oIx0g8AAACUcyU60h8SEiJXV9eSvAQAAACgXCbyFsj0SH9iYqLeffddTZo0SefOnZMkbd26VSdPnrT12b17t2rUqFH8KAEAAACYZmqkf+fOneratav8/Px07NgxDRs2TIGBgVq6dKmio6P10UcfOTpOAAAAACaZGumPjIzUkCFDdPDgQbm7u9vae/bsqbVr1zosOAAAAKAwDMMola2sMJX0//HHHxo+fHie9mrVqun06dPFDgoAAACA45gq77FarUpOTs7TfuDAAQUHBxc7KAAAAKAocsvOoHupMDXS36dPH73wwgvKysqSJFksFkVHR+upp57S3Xff7dAAAQAAABSPqaR/xowZSklJUcWKFXXhwgV17NhRdevWlY+Pj15++WVHxwgAAAAUyMg1SmUrK0yV9/j5+WnFihVav369duzYoZSUFDVv3lxdu3Z1dHwAAAAAiqlYD+dq166d2rVr56hYAAAAAJQAU+U9Y8aM0ezZs/O0v/XWWxo3blxxYwIAAACKxDBKZysrTCX9S5YsyXeEv23btlq8eHGxgwIAAADgOKbKe86ePSs/P7887b6+voqPjy92UAAAAEBR5JahSbWlwdRIf926dbV8+fI87T/88INq165d7KAAAAAAOI6pkf7IyEiNHj1acXFx6ty5syRp5cqVmjFjhmbNmuXI+AAAAAAUk6mk/+GHH1ZGRoZefvllvfjii5Kk0NBQzZ07V4MGDXJogAAAAMCVGGVpVm0pML1k54gRIzRixAjFxcXJw8ND3t7ejowLAAAAgIMUa51+SQoODnZEHAAAAIBpRm5pR3BtM530L168WIsWLVJ0dLQyMzPt9m3durXYgQEAAABwDFOr98yePVsRERGqVKmStm3bppYtW6pChQo6cuSIevTo4egYAQAAgALlGkapbGWFqaR/zpw5mj9/vt588025ublpwoQJWrFihcaMGaOkpCRHxwgAAACgGEwl/dHR0Wrbtq0kycPDQ+fPn5ckPfTQQ/rss88cFx0AAACAYjOV9FeuXFnnzp2TJNWsWVObNm2SJB09epTlkgAAAHDVGYZRKltZYSrp79y5s7755htJUkREhMaPH69u3bqpf//+6tevn0MDBAAAAFA8plbvmT9/vnJzL66LNGrUKFWoUEEbNmxQnz59NHz4cIcGCAAAAFxJbm7ZGXUvDUVO+rOzszV16lQ9/PDDql69uiRpwIABGjBggMODAwAAAFB8RS7vcXFx0SuvvKLs7OySiAcAAACAg5mq6e/SpYt++eUXR8cCAAAAmGIYpbOVFaZq+nv06KGJEydq165dCg8Pl5eXl93+Pn36OCQ4AAAAAMVnKukfOXKkJGnmzJl59lksFuXk5BQvKgAAAKAIDCbyFshU0n9p5R4AAAAA1z5TNf2F1bhxY504caIkLwEAAAAo1zBKZSsrSjTpP3bsmLKyskryEgAAAACuoESTfgAAAAClz1RNPwAAAHAtYSJvwRjpBwAAAMo5RvoBAABQ5jHSXzBG+gEAAIByzlTS/9FHHykjIyNPe2Zmpj766CPb63nz5qlSpUrmowMAAABQbKaS/oiICCUlJeVpP3/+vCIiImyvBw4cKC8vL/PRAQAAAIWQa5TOVlaYSvoNw5DFYsnTHhMTIz8/v2IHBQAAAMBxijSR96abbpLFYpHFYlGXLl3k4vL34Tk5OTp69Khuv/12hwcJAAAAFISJvAUrUtLft29fSdL27dvVvXt3eXt72/a5ubkpNDRUd999t0MDBAAAAFA8RUr6o6KiJEmhoaHq37+/3N3dSyQoAAAAAI5jap3+wYMHS7q4Ws+ZM2eUm5trt79mzZrFjwwAAAAoJMOgvKcgppL+gwcP6uGHH9aGDRvs2i9N8M3JyXFIcAAAAACKz1TSP2TIELm4uOi7775TlSpV8l3JBwAAALhacpnIWyBTSf/27du1ZcsWNWjQwNHxXNd6dPBTv26B8vd11rGYDP13UZwOHk/Pt2/rZt66p3ugqgS7ytnZolNnMvX1ygSt+f28rc9Xc27I99gPlsbpq58TSuQeUDZUuKOvgu8eIJeAQKUfPaSTc2frwoF9+Xd2dlbF+x5QQNfucq0QrIyYaJ16f75Stvyeb/fgeweqSsSjivtqsU7Nf6sE7wJlwZIfftZnX32vc4lJqhNaQ+MfeUhh9erk23f0s1O1fU/e38M2zZvq1cmPS7r4jfJ7C5fq2xVrdD4tTY0b1NMTjw5RjaqVS/Q+cG0LvKWFaj8+VH7NG8m9akVtvnukYr9ZWfAxHVoq7LWJ8g6rp/QTp3Ro2lzFfPSlXZ+QEQNVO3KorJWDlbxzn/aMe1FJf+wqyVsBSoyppD8sLEzx8fGOjuW61i7cWw/fHay5n53RgWPp6tPZX1H/qaZRzx9TUkrecqmU1Bx9sfycTsZmKjvbUIvGXvrPQ5WVeD5H2/emSZKGTDxsd0zzMC+NfrCSNm5LuSr3hGuTX4dbVWXYSJ18a6bS9u1VUN97VOvFV7X/0YeUk5SYp3/lQUMVcGs3xcx+TRkx0fJufrNCJ7+oQ4+PUvqRQ3Z9PerVV4UevXXhX+24Pq1ct0lvvf+pnhg+RGE31NGi735U5Auv6rM3X1GAv2+e/lMnjFFWdrbtddL5FEVETtatbVva2j75cpkWL1uhZ8YMU5WKwXr3syWKfPFV/e+NabK6uV2V+8K1x9nLU8k79+vEB0vUYvHbV+zvEVpdN38zT9HzF2r7oCdUoXMbNZ73ktJPxSl+xTpJUpV7e+jGVydp96goJf6+Q7XGDFarZe9pTcPblRl3rqRvCSZQ018wUw/nmj59uiZMmKA1a9bo7NmzSk5OtttQdHd2DtBP65O1alOyYk5nau5nZ5SRaahL27z/Y5Sk3Qcv6LcdKYo5nanT8Vn6bnWijp3MUFgdD1ufxOQcu61VU2/tPnBBsWezrtZt4RoU3O9enVu+TAkrlivjxHGdfGumjIx0Bd7WM9/+AZ1v05lFn+j85t+UefqUzn3/jc5v3qTgu/rb9XNy91DNCZMVM/s15aTwwRLSwm+Xq3e3TurVpYNq1aimJ4cPkbvVqu9W/ZJvf18fb1UI8Ldtm3fsltXqZkv6DcPQF9/9qEH39FH7luGqG1pTk8cM19lzifr1961X89ZwjYn7ca0ORM1S7Nc/F6p/yKMDdOFojPZOmK6UfUd0fM4nOr3kR9UaO8TWp9a4CJ14b5FiPlyqlL2HtWtklHLS0lVjCEuTo2wylfR37dpVmzZtUpcuXVSxYkUFBAQoICBA/v7+CggIcHSM5Z6Ls1Snprt27k+1tRmGtGNfqurX8ijgyL81qe+hapXctOfQhXz3+/k4K7yRl37ekOSQmFE2WVxc5FG3vlK2b/m70TB0fvsWeTYIy/8YV1flZmbateVmZMqrYWO7tqojxyr5903258Z1KysrWwcOH1OLJg1tbU5OTmrRJEx79hfum6DvVq5Vl1tay8PdKkn6KzZOZxOTdHPTv8/p7eWpsHq1tbuQ5wQkyb91M8Wv2mjXFrdinQJaN5N08b97fs0bKn7lPxYsMQzFr9og/9Y3XcVIAccxVd6zevVqR8dxXfPxdpazs0WJyfZlPEnnc1S90uW/rvZ0d9J7U2vL1dWi3FxD8xae0Y59afn27dzaVxfSc7VxOyOw1zNnXz9ZnJ2VnWD/1XR2YoLca+S/1O75rX8ouN+9St29Q5mn/pJ3s+bya9tecv57zMCvQ2d51L1Bh8Y+VqLxo+xIOn9eObm5CvxXGU+gv5+Onzx1xeP/PHhYR6JjNHHUUFvbucSLgxYBfn52fQP8/XQuIbH4QeO6Ya0UpIxY+zLljNh4ufr5yMndKtcAPzm5uCjjzNl/9Tkrr/q1r2aoKAKeyFswU0l/x44di3XRjIwMZWRk2LVZrdZinfN6dCEjV+OnHZeH1UlN6nvq4buDFRufpd0H8472d2njp7V/JCsrmz8IFM1f77yp6mOfVP15H0mSMk+d1Lmff1Bgt4vlQK5Bwao6fLSOPvOEjKzMgk4FFNp3P69VnZAal530CwAoGlNJ/yVpaWmKjo5W5r+++m/SpEmBx02bNk1Tpkyxa7v4tN+BxQmnzDqfkqOcHEP+vs527X4+zkpIvvwzDwxDOh13sT7/aEyGqld2093dA7X74Em7fmF1PFS9sptee+8vxwePMiUnOUlGTo5cAgLt2l38A5R1Lv+JaTnJSTr+4mRZXN3k7Our7LPxqhzxqDJPX/x98qhXX64Bgar35n9tx1icneXVqImCevfTrju7Sf96gB/KPz8fHzk7Oelcov08r3OJSarg73eZoy66kJ6hles3aeiAu+zaA///cQlJSQoK9Le1JyQmqW6tEMcEjutCRmy8rJWC7NqslYKUlXReuekZyoxPUG52tqwVK/yrTwVlnGYhk2sVI/0FM1XTHxcXpzvuuEM+Pj5q2LChbrrpJrvtSiZNmqT/1969h0VVrn8D/w4IwyAHOYuCgIrIQSlha2SmJm5TQ9v57sosycxrp+Zha2HuTDyUx0zSVzN9TdMt0kaz7KRtSdLYmfwIxC2IYgilSIAoIHIQ7vcPf06OwACLgQH8fq5rrot51nrW3Gu4B2+fedazrl+/rvNYuHChklA6hFvVwIWccvT3sdS2qVRAfx9LZGTVPUe/LioVYNap9j0TQh+2QWZ2OS5e4ijs/U5u3cLNzAxYBQ74o1GlgtUDQSg7m6a/b1UlbhUWAKamsB08FMUnEgAApSlJyJg+BedefVn7KDt3Ftfij+Dcqy+z4L9PmZl1Qp9enkhKPaNtq6mpQVJqGvx9euvte/Q/J1FVdQujhj6s097NxQkOXWzxP6l/5OqNsptIO/8LAho4JtHdrp1IgcNjD+m0OY54GEUnUgAAUlWF6z+fgeNjIX/soFLBYXgIrp1IbsVIiQxH0Uj/3Llzce3aNfz0008YNmwYDhw4gLy8PLz99ttYt25dg/3VajWn89zj8++KMGdyV2RmV+B8djnChneBhdoEcT/eHiWbE94Vhddu4Z+f3x5hmDDKDpnZFbiSXwUzMxWC/Dtj2CAbbNmbp3NcjYUJHh5gjR2f5rf6OVHblH8gFu7zFuLm+QyUnUuH4/j/AxO1BYr+/Q0AwH3+QlQVFuDKztsj9xofX5g5OKL8l0x0cnCEy6QXAZUKv++LAQDU3LyJiuwsndeoKS/HreLiWu10f3k27HG8s3Eb+vb2gq93T/zri29xs6ICYx97FACw/P0P4eRgh1eef1qn35dx32PIwAGwtbbWaVepVPjrE6Pw8b7P4e7qAleX20t2Oth3wZCBA0D3L9POlujc+4/rkiy93GAT2BeVV6+j/Ndc+Lw9DxbdXXBqygIAQPbWGHjMmIS+K1/Hrzv3w3H4Q3D962gkjvub9hhZUTsQ+NFqXEv6L64npsJzdjg6ddbg148/bfXzIzIERUX/d999h88//xzBwcEwMTGBh4cHRo4cCRsbG6xcuRJjx441dJwdXkJSKWytCjDxCQfY2Zgi67cKLP2/l3C95Pb0Hie7TjpfW6nNTfC3Z53h0KUTKqsEl/IqsX5nLhKSdC/UHRJkDZUKOJ5YAiIAuH7sKDrZdIHLC1Nu35zrl0xkLY7ArWu3b9hm5uSik2smZuboOnkqzLt2Q83Nmyj5nxP49d0VqLnBi8JJvxGPPIRrxSX4f3s/xdVr19HbqwfWvfW6dppOXkEhTEx0v53MuZSL1PRzWL84os5jTvrLWJRXVGDNlh0ovVGGfr7eWPfWa1yj/z5nGxSAkLjd2ud+7/4DAPDrrk+ROnUh1K5O0Li7arffvPgbEsf9DX7rFsJz1mSU/3YFp/+2SLtGPwDkxn4Dcyd79ImcffvmXKfScfKJl1F5z8W91HbUtKN1+jdt2oS1a9fiypUrCAwMxMaNGzFw4MAG+8XExGDixIkYP348Pvvssya9pkoU3MnAxsYGqamp8PT0hIeHB6KjozF48GBkZWXB398fZWV1ryDTkCdnnFPUj6gpPtvcB6ljhhk7DLoP9P86HvlnfjJ2GHQfcPIfhK/MfIwdBt0HxlZlGDuEer24JK/hnVrAziUuTdr/k08+weTJk7FlyxYMGjQIUVFRiI2NRUZGBpydnevtd/HiRTzyyCPo2bMn7O3tm1z0K5rT7+Pjg4yM27/0wMBAfPjhh7h06RK2bNkCV1fXBnoTERERERmW1IhRHk313nvvYdq0aZgyZQr8/PywZcsWWFpa4qOPPqq3T3V1NSZNmoSlS5eiZ09ly8YqKvrnzJmD3Nzb6yxHRkbim2++QY8ePbBhwwasWLFCUSBERERERO1NRUUFiouLdR73Lk1/R2VlJZKSkhAaGqptMzExQWhoKH788cc6+wDAsmXL4OzsjKlTp9a7T0MUzel//vnntT8HBQUhOzsbZ8+eRY8ePeDo6KinJxERERGR4SmYsW4Q9S1Fv2TJklr7FhQUoLq6Gi4uulOCXFxccPbs2TqP/8MPP2D79u1ISUlpVpzNWqf/DktLSwwYwJUTiIiIiOj+snDhQsybN0+nzVCrVJaUlOCFF17Atm3bmj2wrqjonzBhAgYOHIgFCxbotK9ZswaJiYmIjY1tVlBERERERO1BU5aid3R0hKmpKfLydC86zsvLQ9euXWvtf+HCBVy8eBFhYWHatpr/vf9Np06dkJGRgV69GnfnckVz+o8dO4YxY8bUah89ejSOHTum5JBERERERIrV1IhRHk1hbm6OoKAgxMXF3RV3DeLi4hASElJr/759++L06dNISUnRPsaNG4fhw4cjJSUF7u7ujX5tRSP9paWlMK9jTWQzMzMUFxfX0YOIiIiIiObNm4fw8HAEBwdj4MCBiIqKwo0bNzBlyhQAwOTJk9G9e3esXLkSFhYWCAgI0OnfpUsXAKjV3hBFRX+/fv3wySefYPHixTrtMTEx8PPzU3JIIiIiIiLFlCyfaQzPPPMM8vPzsXjxYly5cgUPPPAADh06pL24NycnByYmiibj6KWo6H/rrbfw1FNP4cKFC3jssccAAHFxcdi7dy/n8xMRERER6fHqq6/i1VdfrXNbfHy83r47d+5U9JqKiv6wsDB89tlnWLFiBfbt2weNRoP+/fvjyJEjGDp0qKJAiIiIiIioZShesnPs2LEYO3asIWMhIiIiIlLEWOv0txeGnzBERERERERtSqNH+u3t7XHu3Dk4OjrCzs4OKpWq3n2vXr1qkOCIiIiIiBpD/nf9eqpbo4v+9evXw9raGgAQFRXVUvEQEREREZGBNbroDw8Pr/NnIiIiIiJja+qNsu43jS76m3LTLRsbG0XBEBERERGR4TW66O/SpYveefzA7aumVSoVqqurmx0YEREREREZRqOL/qNHj7ZkHEREREREinHJTv0aXfTzpltERERERO2T4ptzFRUVYfv27UhPTwcA+Pn5YcqUKbC3tzdYcEREREREjSG8kFcvRTfnOnbsGDw9PbFhwwYUFRWhqKgIGzZsgJeXF44dO2boGImIiIiIqBkUjfTPnDkTzzzzDD744AOYmpoCAKqrqzFjxgzMnDkTp0+fNmiQRERERESknKKiPzMzE/v27dMW/ABgamqKefPmYdeuXQYLjoiIiIioMTi9Rz9F03sGDBignct/t/T0dAQGBjY7KCIiIiIiMhxFI/2zZ8/GnDlzkJmZiYceeggAcOLECWzatAmrVq1Camqqdt/+/fsbJlIiIiIionrUSI2xQ2jTFBX9EydOBABERETUuU2lUvFGXUREREREbYSioj8rK8vQcRARERERKcY5/fopKvo9PDwMHQcREREREbUQxTfnysjIwMaNG7UX9Pr6+mLWrFnw8fExWHBERERERNR8ilbv2b9/PwICApCUlITAwEAEBgbi559/RkBAAPbv32/oGImIiIiI9JIaMcqjvVA00h8REYGFCxdi2bJlOu2RkZGIiIjAhAkTDBIcERERERE1n6KR/tzcXEyePLlW+/PPP4/c3NxmB0VERERE1BQiYpRHe6Go6B82bBiOHz9eq/2HH37AkCFDmh0UEREREREZjqLpPePGjcOCBQuQlJSkc3Ou2NhYLF26FAcPHtTZl4iIiIiIjEdR0T9jxgwAwObNm7F58+Y6twHgzbmIiIiIqFXU1PCOvPooKvr5phIRERERtR+K1+knIiIiImor2tPymcaguOi/ceMGvv/+e+Tk5KCyslJn2+zZs5sdGBERERERGYaioj85ORljxoxBWVkZbty4AXt7exQUFMDS0hLOzs4s+omIiIioVYlw+rk+ipbs/Pvf/46wsDAUFRVBo9HgxIkTyM7ORlBQEN59911Dx0hERERERM2gqOhPSUnB/PnzYWJiAlNTU1RUVMDd3R1r1qzBP/7xD0PHSEREREREzaCo6DczM4OJye2uzs7OyMnJAQDY2tri119/NVx0RERERESNIDVilEd7oWhO/4MPPojExER4e3tj6NChWLx4MQoKCrB7924EBAQYOkYiIiIiImoGRSP9K1asgKurKwDgnXfegZ2dHaZPn478/Hxs3brVoAESERERETWEI/36KRrpDw4O1v7s7OyMQ4cO1blfQkICgoODoVarlUVHRERERETNpmikv7FGjx6NS5cuteRLEBERERFRA1r0jrwi7ecrDyIiIiJqv2q4Tr9eLTrST0RERERExteiI/1ERERERK2hPV1Uawwc6SciIiIi6uBadKRfpVK15OGJiIiIiAAAUsM5/fq06Eg/L+QlIiIiIjK+Zo305+fnIyMjAwDg4+MDJycnne0lJSXNOTwRERERERmAoqL/xo0bmDVrFnbv3o3q6moAgKmpKSZPnoyNGzfC0tLSoEESEREREenDC3n1UzS9Z968efj+++9x8OBBXLt2DdeuXcPnn3+O77//HvPnzzd0jERERERE1AyKRvr379+Pffv2YdiwYdq2MWPGQKPR4Omnn8YHH3xgqPiIiIiIiBokvDmXXopG+svKyuDi4lKr3dnZGWVlZc0OioiIiIiIDEdR0R8SEoLIyEiUl5dr227evImlS5ciJCTEYMEREREREVHzKZreExUVhccffxxubm4IDAwEAJw6dQpqtRrffvutQQMkIiIiImpIDS/k1UtR0d+vXz+cP38ee/bswdmzZwEAEydOxKRJk6DRaAwaIBERERERNY+ion/lypVwcXHBtGnTdNo/+ugj5OfnY8GCBQYJjoiIiIioMXhHXv0Uzen/8MMP0bdv31rt/v7+2LJlS7ODIiIiIiIiw1FU9F+5cgWurq612p2cnJCbm9vsoIiIiIiIyHAUTe9xd3dHQkICvLy8dNoTEhLQrVs3gwRGRERERNRYvCOvfoqK/mnTpmHu3LmoqqrCY489BgCIi4tDREQE78hLRERERNTGKCr6X3/9dRQWFmLGjBmorKwEAFhYWGDBggVYuHChQQMkIiIiImoI78irn6KiX6VSYfXq1XjrrbeQnp4OjUYDb29vqNVqQ8dHRERERETNpKjov8PKygp/+tOfDBULEREREZEinNOvn6LVe4iIiIiIqP1g0U9ERERE1ME1a3oPEREREVFbwDvy6seRfiIiIiKiDk4lIrzqoR2qqKjAypUrsXDhQq6aRC2KuUathblGrYW5RvcjFv3tVHFxMWxtbXH9+nXY2NgYOxzqwJhr1FqYa9RamGt0P+L0HiIiIiKiDo5FPxERERFRB8ein4iIiIiog2PR306p1WpERkbyAiRqccw1ai3MNWotzDW6H/FCXiIiIiKiDo4j/UREREREHRyLfiIiIiKiDo5FPxERERFRB8eivxl27tyJLl26aJ8vWbIEDzzwgNHioY6LuUZtVXx8PFQqFa5duwagdq4SGQpzjah5WPQb0GuvvYa4uLhWfc0XX3wRTz75ZKu+Zks4c+YMJkyYAE9PT6hUKkRFRRk7pDaNuabctm3bMGTIENjZ2cHOzg6hoaE4efKkscPqMJ555hmcO3euVV+zo/wnODc3F8899xz69OkDExMTzJ0719ghtWnMNeU+/fRTjBw5Ek5OTrCxsUFISAgOHz5s7LCohbHoNyArKys4ODgYO4wmq6qqMnYIKCsrQ8+ePbFq1Sp07drV2OG0ecw15eLj4zFx4kQcPXoUP/74I9zd3fHnP/8Zly5dMnZoHYJGo4Gzs7Oxw2iytpCbFRUVcHJywqJFixAYGGjscNo85ppyx44dw8iRI/H1118jKSkJw4cPR1hYGJKTk40dGrUk6aC++eYbGTx4sNja2oq9vb2MHTtWMjMzRUQkKytLAMjevXslJCRE1Gq1+Pv7S3x8vLb/0aNHBYB8+eWX0q9fP1Gr1TJo0CA5ffq0dp8dO3aIra2t9nlkZKQEBgbqxLF9+3bx8/MTc3Nz6dq1q8ycOVO7bd26dRIQECCWlpbi5uYm06dPl5KSklrHP3TokPTt21c6d+4so0aNksuXL2tfD4DO4+jRo3rflzvnHhMTI48++qio1WrZsWOHFBQUyLPPPivdunUTjUYjAQEBEh0drdO3urpaVq9eLb169RJzc3Nxd3eXt99+W7s9JydH/vrXv4qtra3Y2dnJuHHjJCsrS288dfHw8JD169c3uZ+xMNfq1h5yTUTk1q1bYm1tLR9//LGi/s2l71xTU1Nl+PDhYmFhIfb29jJt2jSd35s+J0+elNDQUHFwcBAbGxt59NFHJSkpSWcfALJ582Z5/PHHxcLCQry8vCQ2Nla7vSn5W1RUJCK1c1VE5ODBgxIcHCxqtVocHBzkySef1G7btWuXBAUFiZWVlbi4uMjEiRMlLy+v1vGPHDkiQUFBotFoJCQkRM6ePat9vXtzc8eOHQ2+P3fOPSwsTCwtLSUyMlJu3bolL730knh6eoqFhYX06dNHoqKiavXV91krKiqSqVOniqOjo1hbW8vw4cMlJSWlwXjuNXToUJkzZ06T++nDXGOu6ePn5ydLly5V3J/avg5b9O/bt0/2798v58+fl+TkZAkLC5N+/fpJdXW19o+Lm5ub7Nu3T9LS0uTll18Wa2trKSgoEJE/Pvy+vr7y7bffSmpqqjzxxBPi6ekplZWVItJwIbZ582axsLCQqKgoycjIkJMnT+oUs+vXr5fvvvtOsrKyJC4uTnx8fGT69Ona7Tt27BAzMzMJDQ2VxMRESUpKEl9fX3nuuedERKSkpESefvppefzxxyU3N1dyc3OloqJC7/ty59w9PT1l//798ssvv8jly5flt99+k7Vr10pycrJcuHBBNmzYIKampvLTTz9p+0ZERIidnZ3s3LlTMjMz5fjx47Jt2zYREamsrBRfX1956aWXJDU1VdLS0uS5554THx+fBmO6V3sr+plrdWsPuSYiUlxcLBYWFvLFF180ua8h1HeupaWl4urqKk899ZScPn1a4uLixMvLS8LDwxt13Li4ONm9e7ekp6dLWlqaTJ06VVxcXKS4uFi7DwBxcHCQbdu2SUZGhixatEhMTU0lLS1NRKRJ+VtfIfbll1+KqampLF68WNLS0iQlJUVWrFih3b59+3b5+uuv5cKFC/Ljjz9KSEiIjB49Wrv9zvEHDRok8fHxcubMGRkyZIg8/PDDIiJSVlYm8+fPF39/f21ulpWVNfj+ABBnZ2f56KOP5MKFC5KdnS2VlZWyePFiSUxMlF9++UX++c9/iqWlpXzyySfafg191kJDQyUsLEwSExPl3LlzMn/+fHFwcJDCwsJG/d7uaImin7nGXKtPdXW1uLu7y8aNG5vcl9qPDlv03ys/P18AyOnTp7V/XFatWqXdXlVVJW5ubrJ69WoR+ePDHxMTo92nsLBQNBqN9kPZUCHWrVs3efPNNxsdY2xsrDg4OGif3xlVuDNqLCKyadMmcXFx0T4PDw+X8ePHN/o17px7XSMK9xo7dqzMnz9fRG4XRmq1Wlt43Wv37t3i4+MjNTU12raKigrRaDRy+PDhRscn0v6K/nsx125rD7kmIjJ9+nTp2bOn3Lx5s8l9m0vfuW7dulXs7OyktLRU2/bVV1+JiYmJXLlypcmvVV1dLdbW1jr/uQEgr7zyis5+gwYN0v6HsCn5W18hFhISIpMmTWp0nImJiQJAO8p89+jrHV999ZUA0P7O6vrmqyEAZO7cuQ3uN3PmTJkwYYL2ub7P2vHjx8XGxkbKy8t12nv16iUffvhhk+IzdNHPXKuNufaH1atXi52dnc43H9TxdNg5/efPn8fEiRPRs2dP2NjYwNPTEwCQk5Oj3SckJET7c6dOnRAcHIz09HSd49y9j729PXx8fGrtU5fff/8dly9fxogRI+rd58iRIxgxYgS6d+8Oa2trvPDCCygsLERZWZl2H0tLS/Tq1Uv73NXVFb///nuDr9+Q4OBgnefV1dVYvnw5+vXrB3t7e1hZWeHw4cPa9ys9PR0VFRX1ns+pU6eQmZkJa2trWFlZwcrKCvb29igvL8eFCxeaHW9bxlzTry3n2qpVqxATE4MDBw7AwsJC2Qk2g75zTU9PR2BgIDp37qxtGzx4MGpqapCRkdHgsfPy8jBt2jR4e3vD1tYWNjY2KC0t1clLQDfv7jzXl5v15W99UlJS9OZmUlISwsLC0KNHD1hbW2Po0KEAUCvO/v37a392dXUFgGbn5725CQCbNm1CUFAQnJycYGVlha1bt2pjaeizdurUKZSWlsLBwUGbm1ZWVsjKyjL630HmGnOtPtHR0Vi6dCn+9a9/tctrJKjxOhk7gJYSFhYGDw8PbNu2Dd26dUNNTQ0CAgJQWVnZKq+v0Wj0br948SKeeOIJTJ8+He+88w7s7e3xww8/YOrUqaisrISlpSUAwMzMTKefSqWCiDQ7vrv/uAPA2rVr8f777yMqKgr9+vVD586dMXfuXO371dD5lJaWIigoCHv27Km1zcnJqdnxtmXMNf3aaq69++67WLVqFY4cOaLzj3xrauhcmyM8PByFhYV4//334eHhAbVajZCQkFbLyzv0neONGzcwatQojBo1Cnv27IGTkxNycnIwatSoWnHenZ8qlQoAUFNT06zY7s3NmJgYvPbaa1i3bh1CQkJgbW2NtWvX4qeffmrwXIDbuenq6or4+Pha24y9tCRzjblWl5iYGLz88suIjY1FaGhoo/tR+9QhR/oLCwuRkZGBRYsWYcSIEfD19UVRUVGt/U6cOKH9+datW0hKSoKvr2+9+xQVFeHcuXO19qmLtbU1PD09611WMSkpCTU1NVi3bh0eeugh9OnTB5cvX27sKWqZm5ujurq6yf3ulZCQgPHjx+P5559HYGAgevbsqbMUmre3NzQaTb3nM2DAAJw/fx7Ozs7o3bu3zsPW1rbZ8bVVzLWmawu5tmbNGixfvhyHDh2qcwSuteg7V19fX5w6dQo3btzQtiUkJMDExAQ+Pj4NHjshIQGzZ8/GmDFj4O/vD7VajYKCglr73Z13d57ry8368rc+/fv3r/d3efbsWRQWFmLVqlUYMmQI+vbtq2hE1ZC5+fDDD2PGjBl48MEH0bt3b51R04Y+awMGDMCVK1fQqVOnWrnp6OjY7Piag7nGXLvX3r17MWXKFOzduxdjx45t9jlR29chR/rt7Ozg4OCArVu3wtXVFTk5OXjjjTdq7bdp0yZ4e3vD19cX69evR1FREV566SWdfZYtWwYHBwe4uLjgzTffhKOjY6PXKl+yZAleeeUVODs7Y/To0SgpKUFCQgJmzZqF3r17o6qqChs3bkRYWBgSEhKwZcuWJp+rp6cnDh8+jIyMDDg4OMDW1rbWiG1jeHt7Y9++ffjPf/4DOzs7vPfee8jLy4Ofnx8AwMLCAgsWLEBERATMzc0xePBg5Ofn48yZM5g6dSomTZqEtWvXYvz48Vi2bBnc3NyQnZ2NTz/9FBEREXBzc9P7+pWVlUhLS9P+fOnSJaSkpMDKygq9e/du8vm0FuZa+8u11atXY/HixYiOjoanpyeuXLkCANqvx1uTvnOdNGkSIiMjER4ejiVLliA/Px+zZs3CCy+8ABcXlwaP7e3tjd27dyM4OBjFxcV4/fXX6xw9jI2NRXBwMB555BHs2bMHJ0+exPbt23X2aUz+1icyMhIjRoxAr1698Oyzz+LWrVv4+uuvsWDBAvTo0QPm5ubYuHEjXnnlFfz3v//F8uXLG/fm3cXT0xNZWVlISUmBm5sbrK2toVarm3wcb29v7Nq1C4cPH4aXlxd2796NxMREeHl5affR91kLDQ1FSEgInnzySaxZs0b7H+yvvvoKf/nLXxr1H8yUlBQAt0dy8/PzkZKSAnNzc+3nQynmGnPtbtHR0QgPD8f777+PQYMGaf8OajSaDj1Qd98z9kUFLeXf//63+Pr6ilqtlv79+0t8fLwAkAMHDmgvGIqOjpaBAweKubm5+Pn5yXfffaftf+eCni+++EL8/f3F3NxcBg4cKKdOndLu05hlFLds2SI+Pj5iZmYmrq6uMmvWLO229957T1xdXUWj0cioUaNk165dDS5HduDAAbn71/b777/LyJEjxcrKqknLKCYnJ+u0FxYWyvjx48XKykqcnZ1l0aJFMnnyZJ0LN6urq+Xtt98WDw8PMTMzkx49euisjJCbmyuTJ08WR0dHUavV0rNnT5k2bZpcv35db0x3x3XvY+jQoQ32NTbmWt3aaq55eHjUmWuRkZEN9m0J+s61Ocso/vzzzxIcHCwWFhbi7e0tsbGxtS6SByCbNm2SkSNHilqtFk9PT53VQ5qSv/pyaf/+/fLAAw+Iubm5ODo6ylNPPaXdFh0dLZ6enqJWqyUkJEQOHjyokzf3Hl9EJDk5WQBol2ktLy+XCRMmSJcuXZq0jOKBAwd02srLy+XFF18UW1tb6dKli0yfPl3eeOONJn3WiouLZdasWdKtWzcxMzMTd3d3mTRpkuTk5DQY05247n14eHg0qm9DmGvMtTuGDh1aZ641dsUmap9UIgaYtNvOXLx4EV5eXkhOTq73znrx8fEYPnw4ioqKjD4Xk9ov5hq1ZSqVCgcOHKj3G6XG5C9RYzDXiIyvQ87pJyIiIiKiP7Do72BWrFihs3zX3Y/Ro0cbLa76YrKyssLx48eNFhcpx1wzrvvlPJXYs2dPve+Nv7+/0eLy9/evN666VqNqK5hr9WOuUXtyX07v6ciuXr2Kq1ev1rlNo9Gge/furRzRbZmZmfVu6969e4suJ0ctg7lmXPfLeSpRUlKCvLy8OreZmZnBw8OjlSO6LTs7G1VVVXVuc3FxgbW1dStH1DjMtfox16g9YdFPRERERNTBcXoPEREREVEHx6KfiIiIiKiDY9FPRERERNTBsegnIiIiIurgWPQTEREREXVwLPqJiIiIiDo4Fv1ERERERB0ci34iIiIiog7u/wN8hYyJIvRTDQAAAABJRU5ErkJggg==",
=======
      "image/png": "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",
>>>>>>> rianna
      "text/plain": [
       "<Figure size 1000x800 with 2 Axes>"
      ]
     },
     "metadata": {},
     "output_type": "display_data"
    }
   ],
   "source": [
<<<<<<< HEAD
    "# Select the specified applicant_race_1 columns\n",
=======
    "# Select the specified race columns\n",
>>>>>>> rianna
    "selected_columns = ['applicant_race_1', 'applicant_race_2', 'co_applicant_race_1', 'co_applicant_race_2']\n",
    "selected_df = filtered_df[selected_columns]\n",
    "\n",
    "# Calculate the correlation matrix\n",
    "correlation_matrix = selected_df.corr()\n",
    "\n",
    "# Plot the heatmap\n",
    "plt.figure(figsize=(10, 8))\n",
    "sns.heatmap(correlation_matrix, annot=True, cmap='coolwarm', fmt='.2f', linewidths=0.5)\n",
    "plt.title('Correlation Heatmap of Race Columns')\n",
    "plt.show()"
   ]
  },
  {
   "cell_type": "code",
   "execution_count": 13,
   "id": "255500cb-bb13-4f22-92f4-59c7ea10dc2d",
   "metadata": {
    "tags": []
   },
   "outputs": [
    {
     "data": {
<<<<<<< HEAD
      "image/png": "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",
=======
      "image/png": "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",
>>>>>>> rianna
      "text/plain": [
       "<Figure size 600x400 with 2 Axes>"
      ]
     },
     "metadata": {},
     "output_type": "display_data"
    }
   ],
   "source": [
<<<<<<< HEAD
    "# Select the specified applicant_ethnicity_1 columns\n",
=======
    "# Select the specified ethnicity columns\n",
>>>>>>> rianna
    "columns_of_ethnicity = ['applicant_ethnicity_1', 'co_applicant_ethnicity_1']\n",
    "ethnicity_df =  filtered_df[columns_of_ethnicity]\n",
    "\n",
    "# Calculate the correlation matrix\n",
    "correlation_matrix_ethnicity = ethnicity_df.corr()\n",
    "\n",
<<<<<<< HEAD
    "# Plot the heatmap for applicant_ethnicity_1 columns\n",
=======
    "# Plot the heatmap for ethnicity columns\n",
>>>>>>> rianna
    "plt.figure(figsize=(6, 4))\n",
    "sns.heatmap(correlation_matrix_ethnicity, annot=True, cmap='coolwarm', fmt='.2f', linewidths=0.5)\n",
    "plt.title('Correlation Heatmap of Ethnicity Columns')\n",
    "plt.show()"
   ]
  },
  {
   "cell_type": "code",
   "execution_count": 14,
   "id": "28c15638-87b3-4830-a182-4dfc025d30c7",
   "metadata": {},
   "outputs": [
    {
     "name": "stdout",
     "output_type": "stream",
     "text": [
<<<<<<< HEAD
      "Race Counts: [[59524, 3410], [85, 0], [59505, 3429], [85, 1]]\n",
      "Ethnicity Counts: [[56532, 6402], [56346, 6588]]\n"
=======
      "Race Counts: [[113478, 12757], [1353, 191], [53147, 3256], [436, 38]]\n",
      "Ethnicity Counts: [[122761, 18591], [56183, 7730]]\n"
>>>>>>> rianna
     ]
    }
   ],
   "source": [
<<<<<<< HEAD
    "# Define the applicant_race_1 and applicant_ethnicity_1 categories\n",
    "race_categories = ['5.0', '3.0']\n",
    "ethnicity_categories = ['2.0', '1.0']\n",
    "\n",
    "# Define the columns for applicant_race_1 and applicant_ethnicity_1\n",
=======
    "# Define the race and ethnicity categories\n",
    "race_categories = ['5.0', '3.0']\n",
    "ethnicity_categories = ['2.0', '1.0']\n",
    "\n",
    "# Define the columns for race and ethnicity\n",
>>>>>>> rianna
    "race_columns = ['applicant_race_1', 'applicant_race_2', 'co_applicant_race_1', 'co_applicant_race_2']\n",
    "ethnicity_columns = ['applicant_ethnicity_1', 'co_applicant_ethnicity_1']\n",
    "\n",
    "# Initialize counts for each combination\n",
    "race_counts = [[0] * len(race_categories) for _ in range(len(race_columns))]\n",
    "ethnicity_counts = [[0] * len(ethnicity_categories) for _ in range(len(ethnicity_columns))]\n",
    "\n",
    "# Iterate through the DataFrame and count combinations\n",
    "for idx, row in filtered_df.iterrows():\n",
    "    for i, col in enumerate(race_columns):\n",
    "        race_val = str(row[col])\n",
    "        if race_val in race_categories:\n",
    "            race_counts[i][race_categories.index(race_val)] += 1\n",
    "\n",
    "    for i, col in enumerate(ethnicity_columns):\n",
    "        ethnicity_val = str(row[col])\n",
    "        if ethnicity_val in ethnicity_categories:\n",
    "            ethnicity_counts[i][ethnicity_categories.index(ethnicity_val)] += 1\n",
    "\n",
    "# Now, race_counts and ethnicity_counts have the counts for each combination\n",
    "print('Race Counts:', race_counts)\n",
    "print('Ethnicity Counts:', ethnicity_counts)\n"
   ]
  },
  {
   "cell_type": "code",
   "execution_count": 15,
   "id": "5c93df2c-a925-4ea4-a763-923217963ee1",
   "metadata": {
    "tags": []
   },
   "outputs": [
    {
     "name": "stdout",
     "output_type": "stream",
     "text": [
      "Ethnicity Counts:\n",
<<<<<<< HEAD
      "                            1.0   2.0\n",
      "ethnicity_categories                 \n",
      "applicant_ethnicity_1     56532  6402\n",
      "co_applicant_ethnicity_1  56346  6588\n"
=======
      "                             1.0    2.0\n",
      "ethnicity_categories                   \n",
      "applicant_ethnicity_1     122761  18591\n",
      "co_applicant_ethnicity_1   56183   7730\n"
>>>>>>> rianna
     ]
    }
   ],
   "source": [
    "def generate_counts_table(counts, categories):\n",
    "    df = pd.DataFrame(counts, columns=['1.0', '2.0'], index=categories)\n",
    "    df.index.name = 'ethnicity_categories'\n",
    "    return df\n",
    "\n",
    "ethnicity_categories = ['applicant_ethnicity_1', 'co_applicant_ethnicity_1']\n",
    "\n",
    "# Generate and display the Ethnicity Counts table\n",
    "print('Ethnicity Counts:')\n",
    "ethnicity_table = generate_counts_table(ethnicity_counts, ethnicity_categories)\n",
    "print(ethnicity_table)"
   ]
  },
  {
   "cell_type": "code",
   "execution_count": 16,
   "id": "2fdeba2e-4f06-4882-8996-8da4d3288ecf",
   "metadata": {
    "tags": []
   },
   "outputs": [
    {
     "data": {
<<<<<<< HEAD
      "image/png": "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",
=======
      "image/png": "iVBORw0KGgoAAAANSUhEUgAAAlIAAAJkCAYAAADa/M/DAAAAOXRFWHRTb2Z0d2FyZQBNYXRwbG90bGliIHZlcnNpb24zLjguMCwgaHR0cHM6Ly9tYXRwbG90bGliLm9yZy81sbWrAAAACXBIWXMAAA9hAAAPYQGoP6dpAABSJUlEQVR4nO3dd3gU5eL+/3tTSScBAgktoffQq1RBigcpKioqHb9HQQREUI/SFBCOCBYEFaUJRxQEsYBCpEiRFgIovddACD1BSjK/P/ixH9dNIJlNmA28X9eV63KfmZ29s2bJnWeenbUZhmEIAAAAWeZhdQAAAIDciiIFAABgEkUKAADAJIoUAACASRQpAAAAkyhSAAAAJlGkAAAATKJIAQAAmESRAgAAMIkiBeRy3bp1U2BgYLYec/jw4bLZbFm+X5MmTdSkSZNszYL0jRs3TuXKlVNaWpp9zGazafjw4daFukvM/nxK0pNPPqlOnTplcyLczyhSgIWmT58um82W4dfvv/8uSUpJSdHw4cO1YsUKawNn0YkTJzR8+HDFx8fnyPHj4+P1zDPPqGjRovL19VVYWJiaN2+uadOmKTU1NUceM6tGjx6thQsXZusxL168qLFjx2rIkCHy8OCf8awYMmSI5s+fr61bt1odBfcIL6sDAJBGjhyp6Ohop/FSpUpJulmkRowYIUl3ZcbnjTfe0Kuvvprl+/3yyy8Ot0+cOKERI0YoKipKVatWzaZ0N02dOlX//ve/VbBgQT377LMqXbq0Ll26pNjYWPXs2VMnT57U66+/nq2Pacbo0aP12GOPqX379tl2zC+++EI3btzQU089lW3HvF9Uq1ZNNWvW1Pjx4zVz5kyr4+AeQJEC3EDr1q1Vs2ZNq2PYeXl5ycsr6/88+Pj45EAaZ7///rv+/e9/q169evrpp58UFBRk39a/f39t2rRJf/zxx13JYoVp06bpkUceUZ48eayOkit16tRJw4YN08cff5ztp8Vx/2FOGHBzhw4dUoECBSRJI0aMsJ/2++damOPHj6t9+/YKDAxUgQIFNGjQIIfTW4cOHZLNZtO7776rTz/9VCVLlpSvr69q1aqljRs3OhwrozUoX375pWrXri1/f3+FhoaqUaNGDrNQf18jtWLFCtWqVUuS1L17d3vu6dOna9iwYfL29lZiYqLTYzz33HPKmzev/vrrrwyfk1vPw+zZsx1K1C01a9ZUt27d7LeTk5P18ssv208Bli1bVu+++64Mw3B6fqZPn+50vH8+37een3379qlbt27KmzevQkJC1L17d6WkpDjcLzk5WTNmzLB//7dyXbp0Sf3791dUVJR8fX0VHh6uFi1aKC4uLsPvW5IOHjyobdu2qXnz5rfd75YtW7aodevWCg4OVmBgoB588EH7KeO/27Ztmxo3biw/Pz8VKVJEb7/9tqZNmyabzaZDhw7d9jESEhLUvXt3FSlSRL6+voqIiFC7du2c7rd48WI1btxYQUFBCg4OVq1atTRnzhz79t9++02PP/64ihUrJl9fXxUtWlQDBgzQlStXMvW9fvnll6pRo4b8/PwUFhamJ598UkePHnXar0WLFkpOTtbSpUszdVzgdpiRAtzAhQsXdObMGYcxm82mfPnyqUCBApo8ebKef/55dejQQR07dpQkValSxb5vamqqWrZsqTp16ujdd9/VsmXLNH78eJUsWVLPP/+8w3HnzJmjS5cu6f/9v/8nm82mcePGqWPHjjpw4IC8vb0zzDhixAgNHz5c9evX18iRI+Xj46P169fr119/1UMPPeS0f/ny5TVy5EgNHTpUzz33nBo2bChJql+/vh544AGNHDlSc+fOVd++fe33uXbtmubNm6dHH300w9mWlJQUxcbGqlGjRipWrNgdnlnJMAw98sgjWr58uXr27KmqVavq559/1iuvvKLjx49rwoQJdzxGRjp16qTo6GiNGTNGcXFxmjp1qsLDwzV27FhJ0qxZs9SrVy/Vrl1bzz33nCSpZMmSkqR///vfmjdvnvr27asKFSooKSlJq1ev1s6dO1W9evUMH3Pt2rWSdNt9bvnzzz/VsGFDBQcHa/DgwfL29tYnn3yiJk2aaOXKlapTp46kmyW8adOmstlseu211xQQEKCpU6fK19c3U8/Do48+qj///FMvvviioqKidPr0aS1dulRHjhxRVFSUpJvrAXv06KGKFSvqtddeU968ebVlyxYtWbJEnTt3liR98803SklJ0fPPP698+fJpw4YN+vDDD3Xs2DF98803t80watQovfnmm+rUqZN69eqlxMREffjhh2rUqJG2bNmivHnz2vetUKGC/Pz8tGbNGnXo0CFT3yOQIQOAZaZNm2ZISvfL19fXvl9iYqIhyRg2bJjTMbp27WpIMkaOHOkwXq1aNaNGjRr22wcPHjQkGfny5TPOnj1rH//uu+8MScb3339vHxs2bJjx938e9u7da3h4eBgdOnQwUlNTHR4nLS3N/t+NGzc2GjdubL+9ceNGQ5Ixbdo0p9z16tUz6tSp4zD27bffGpKM5cuXO+1/y9atWw1JxksvvZThPn+3cOFCQ5Lx9ttvO4w/9thjhs1mM/bt22cYxv89P+ll/edzf+v56dGjh8N+HTp0MPLly+cwFhAQYHTt2tXpmCEhIUafPn0y9T383RtvvGFIMi5dunTHnO3btzd8fHyM/fv328dOnDhhBAUFGY0aNbKPvfjii4bNZjO2bNliH0tKSjLCwsIMScbBgwczzHPu3DlDkvHf//43w33Onz9vBAUFGXXq1DGuXLnisO3vPz8pKSlO9x0zZoxhs9mMw4cP28f++fN56NAhw9PT0xg1apTDfbdv3254eXk5jRuGYZQpU8Zo3bp1hpmBzOLUHuAGJk2apKVLlzp8LV68OEvH+Pe//+1wu2HDhjpw4IDTfk888YRCQ0Md9pOU7r63LFy4UGlpaRo6dKjTu8TMvg29S5cuWr9+vfbv328fmz17tooWLarGjRtneL+LFy9KUrqn9NLz008/ydPTU/369XMYf/nll2UYRpaf579L7zlPSkqyZ7ydvHnzav369Tpx4kSWHjMpKUleXl53XNuTmpqqX375Re3bt1eJEiXs4xEREercubNWr15tz7lkyRLVq1fP4Q0BYWFhevrpp++Yx8/PTz4+PlqxYoXOnTuX7j5Lly7VpUuX9OqrrzrNNP7958fPz8/+38nJyTpz5ozq168vwzC0ZcuWDDN8++23SktLU6dOnXTmzBn7V6FChVS6dGktX77c6T6hoaFOs8CAGRQpwA3Url1bzZs3d/hq2rRppu+fJ08e+zqqW0JDQ9P9xfbP02G3SlVGvwQlaf/+/fLw8FCFChUynelOnnjiCfn6+mr27NmSbp7e/OGHH/T000/ftpwFBwdLurnGKDMOHz6syMhIp+JVvnx5+3azzDyXt4wbN05//PGHihYtqtq1a2v48OG3LbNZlZiYqJSUFJUtW9ZpW/ny5ZWWlmZfP3T48GH7O0T/Lr2xf/L19dXYsWO1ePFiFSxYUI0aNdK4ceOUkJBg3+dWWa5UqdJtj3XkyBF169ZNYWFh9rV+t0r1hQsXMrzf3r17ZRiGSpcurQIFCjh87dy5U6dPn3a6j2EYpv8IAP6OIgXcAzw9PV3e1/jbwuu7ITQ0VP/617/sRWrevHm6evWqnnnmmdver1SpUvLy8tL27duzNU9Gv1Rvdz0qV57LTp066cCBA/rwww8VGRmp//73v6pYseIdZ8jy5cunGzduZLpI3g39+/fXnj17NGbMGOXJk0dvvvmmypcvf9tZpH9KTU1VixYt9OOPP2rIkCFauHChli5dal/8//cLj/5TWlqabDablixZ4jSzu3TpUn3yySdO9zl37pzy58+f5e8V+CeKFJALWP2Xc8mSJZWWlqYdO3Zk6X53yt2lSxft2bNHGzdu1OzZs1WtWjVVrFjxtvfx9/dXs2bNtGrVqnTfkfVPxYsX14kTJ5yKx65du+zbpf+bTTp//rzDfq7MWEm3fw4iIiL0wgsvaOHChTp48KDy5cunUaNG3fZ45cqVk3Tz3Xu3U6BAAfn7+2v37t1O23bt2iUPDw8VLVpU0s3nYN++fU77pTeWkZIlS+rll1/WL7/8oj/++EPXrl3T+PHj7dsk3faSFNu3b9eePXs0fvx4DRkyRO3atVPz5s0VGRmZqcc2DEPR0dFOM7vNmzdX3bp1Hfa/ceOGjh49ap+VBFxBkQJyAX9/f0nOv+Tvlvbt28vDw0MjR450mhm43exLQECApIxzt27dWvnz59fYsWO1cuXKO85G3TJs2DAZhqFnn31Wly9fdtq+efNmzZgxQ5LUpk0bpaam6qOPPnLYZ8KECbLZbGrdurWkm6cM8+fPr1WrVjns9/HHH2cqU0YCAgKcvv/U1FSnU1Xh4eGKjIzU1atXb3u8evXqSZI2bdp02/08PT310EMP6bvvvnO4DMGpU6c0Z84cPfDAA/bTpC1bttS6descrkB/9uxZ+2zh7aSkpDhdqqJkyZIKCgqyfy8PPfSQgoKCNGbMGKd9b/383Jrd+/vPk2EYev/99++YoWPHjvL09NSIESOcfh4Nw1BSUpLD2I4dO/TXX3+pfv36dzw2cCdc/gBwA4sXL7bPkPxd/fr1VaJECfn5+alChQqaO3euypQpo7CwMFWqVOmOa06yS6lSpfSf//xHb731lho2bKiOHTvK19dXGzduVGRkpMaMGZPu/UqWLKm8efNqypQpCgoKUkBAgOrUqWO/iru3t7eefPJJffTRR/L09Mz0lbrr16+vSZMm6YUXXlC5cuUcrmy+YsUKLVq0SG+//bYkqW3btmratKn+85//6NChQ4qJidEvv/yi7777Tv3797fPlkhSr1699M4776hXr16qWbOmVq1apT179rj03NWoUUPLli3Te++9p8jISEVHR6ts2bIqUqSIHnvsMcXExCgwMFDLli3Txo0b7bM4GSlRooQqVaqkZcuWqUePHrfd9+2339bSpUv1wAMP6IUXXpCXl5c++eQTXb16VePGjbPvN3jwYH355Zdq0aKFXnzxRfvlD4oVK6azZ8/edlZtz549evDBB9WpUydVqFBBXl5eWrBggU6dOqUnn3xS0s2SOmHCBPXq1Uu1atVS586dFRoaqq1btyolJUUzZsxQuXLlVLJkSQ0aNEjHjx9XcHCw5s+fn6n1ZiVLltTbb7+t1157TYcOHVL79u0VFBSkgwcPasGCBXruuec0aNAg+/5Lly6Vv7+/WrRoccdjA3dkxVsFAdx0u8sf6B9vxV+7dq1Ro0YNw8fHx+Ft7l27djUCAgKcjv3Pt4jfent/em9TVwZv7/+nL774wqhWrZrh6+trhIaGGo0bNzaWLl1q3/7Pyx8Yxs3LK1SoUMHw8vJK9/ICGzZsMCQZDz300G2eqfRt3rzZ6Ny5sxEZGWl4e3sboaGhxoMPPmjMmDHD4TINly5dMgYMGGDfr3Tp0sZ///tfh7feG8bNt9/37NnTCAkJMYKCgoxOnToZp0+fzvD5SUxMdLj/rf+ff79cwK5du4xGjRoZfn5+hiSja9euxtWrV41XXnnFiImJMYKCgoyAgAAjJibG+PjjjzP1fb/33ntGYGCg0+UC/pnTMAwjLi7OaNmypREYGGj4+/sbTZs2NdauXet0zC1bthgNGzY0fH19jSJFihhjxowxPvjgA0OSkZCQkGGWM2fOGH369DHKlStnBAQEGCEhIUadOnWMr7/+2mnfRYsWGfXr1zf8/PyM4OBgo3bt2sb//vc/+/YdO3YYzZs3NwIDA438+fMbvXv3tl/u4u8/Nxn9fM6fP9944IEHjICAACMgIMAoV66c0adPH2P37t0O+9WpU8d45plnMvyegKywGcZdXmEKAH+zdetWVa1aVTNnztSzzz5rdZxc4cKFCypRooTGjRunnj175tjj9O/fX5988okuX76cpTc0uLP4+HhVr15dcXFx2f75j7g/UaQAWKpv376aMWOGEhIS7GuqcGdjx47VtGnTtGPHDqdre5lx5coVh+s4JSUlqUyZMqpevfo99VEqTz75pNLS0vT1119bHQX3CIoUAEt8//332rFjh95880317dtX7733ntWR7mtVq1ZVkyZNVL58eZ06dUqff/65Tpw4Yf84HgDpo0gBsERUVJROnTqlli1batasWZm+Ujlyxuuvv6558+bp2LFjstlsql69uoYNG5bpD0cG7lcUKQAAAJO4jhQAAIBJFCkAAACTuCBnDkpLS9OJEycUFBRk+Ud8AACAzDEMQ5cuXVJkZOQd3xVLkcpBJ06csH+WFQAAyF2OHj2qIkWK3HYfilQOuvUupKNHj9o/0woAALi3ixcvqmjRopl6NzFFKgfdOp0XHBxMkQIAIJfJzLIcFpsDAACYRJECAAAwiSIFAABgEmukAAC4x6Wmpur69etWx3ArPj4+2fKB3xQpAADuUYZhKCEhQefPn7c6itvx8PBQdHS0fHx8XDoORQoAgHvUrRIVHh4uf39/Lg79/7t1weyTJ0+qWLFiLj0vFCkAAO5Bqamp9hKVL18+q+O4nQIFCujEiRO6ceOGvL29TR+HxeYAANyDbq2J8vf3tziJe7p1Si81NdWl41CkAAC4h3E6L33Z9bxQpAAAAEyiSAEAAJjEYnMAAO4zUa/+eFcf79A7D2dp/1WrVum///2vNm/erJMnT2rBggVq3779be+zYsUKDRw4UH/++aeKFi2qN954Q926dTMfOpOYkQIAAG4lOTlZMTExmjRpUqb2P3jwoB5++GE1bdpU8fHx6t+/v3r16qWff/45h5MyIwUAANxM69at1bp160zvP2XKFEVHR2v8+PGSpPLly2v16tWaMGGCWrZsmVMxJVGkkFOGh1idAHfT8AtWJwBwH1u3bp2aN2/uMNayZUv1798/xx+bU3sAACBXS0hIUMGCBR3GChYsqIsXL+rKlSs5+tgUKQAAAJMoUgAAIFcrVKiQTp065TB26tQpBQcHy8/PL0cfmyIFAABytXr16ik2NtZhbOnSpapXr16OPzZFCgAAuJXLly8rPj5e8fHxkm5e3iA+Pl5HjhyRJL322mvq0qWLff9///vfOnDggAYPHqxdu3bp448/1tdff60BAwbkeFbetQcAwH0mqxfIvNs2bdqkpk2b2m8PHDhQktS1a1dNnz5dJ0+etJcqSYqOjtaPP/6oAQMG6P3331eRIkU0derUHL/0gUSRAgAAbqZJkyYyDCPD7dOnT0/3Plu2bMnBVOnj1B4AAIBJFCkAAACTKFIAAAAmUaQAAABMokgBAACYRJECAAAwiSIFAABgEkUKAADAJIoUAACASRQpAAAAk/iIGAAA7jfDQ+7y413I0u5jxozRt99+q127dsnPz0/169fX2LFjVbZs2dve75tvvtGbb76pQ4cOqXTp0ho7dqzatGnjSvI7YkYKAAC4lZUrV6pPnz76/ffftXTpUl2/fl0PPfSQkpOTM7zP2rVr9dRTT6lnz57asmWL2rdvr/bt2+uPP/7I0azMSAEAALeyZMkSh9vTp09XeHi4Nm/erEaNGqV7n/fff1+tWrXSK6+8Ikl66623tHTpUn300UeaMmVKjmVlRgoAALi1CxdunhoMCwvLcJ9169apefPmDmMtW7bUunXrcjQbRQoAALittLQ09e/fXw0aNFClSpUy3C8hIUEFCxZ0GCtYsKASEhJyNB+n9gAAgNvq06eP/vjjD61evdrqKOmiSAEAALfUt29f/fDDD1q1apWKFCly230LFSqkU6dOOYydOnVKhQoVysmInNoDAADuxTAM9e3bVwsWLNCvv/6q6OjoO96nXr16io2NdRhbunSp6tWrl1MxJTEjBQAA3EyfPn00Z84cfffddwoKCrKvcwoJCZGfn58kqUuXLipcuLDGjBkjSXrppZfUuHFjjR8/Xg8//LC++uorbdq0SZ9++mmOZqVIAQBwv8niBTLvtsmTJ0uSmjRp4jA+bdo0devWTZJ05MgReXj834m1+vXra86cOXrjjTf0+uuvq3Tp0lq4cOFtF6hnB4oUAABwK4Zh3HGfFStWOI09/vjjevzxx3MgUcZYIwUAAGASRQoAAMAkihQAAIBJFCkAAACTKFIAANzDMrNw+36UXc8LRQoAgHuQt7e3JCklJcXiJO7p2rVrkiRPT0+XjsPlDwAAuAd5enoqb968On36tCTJ399fNpvN4lTuIS0tTYmJifL395eXl2tViCIFAMA96tbnzN0qU/g/Hh4eKlasmMvlkiIFAMA9ymazKSIiQuHh4bp+/brVcdyKj4+Pw5XRzaJIAQBwj/P09HR5LRDSx2JzAAAAkyhSAAAAJlGkAAAATKJIAQAAmESRAgAAMIkiBQAAYBJFCgAAwCSKFAAAgEkUKQAAAJMoUgAAACZRpAAAAEyiSAEAAJhEkQIAADCJIgUAAGASRQoAAMAkL6sD4N4U9dccqyPgLjpkdQAAsAgzUgAAACZRpAAAAEyiSAEAAJhEkQIAADCJIgUAAGASRQoAAMAkihQAAIBJFCkAAACTKFIAAAAmUaQAAABMokgBAACYRJECAAAwiSIFAABgEkUKAADAJIoUAACASRQpAAAAkyhSAAAAJlGkAAAATKJIAQAAmESRAgAAMIkiBQAAYBJFCgAAwCSKFAAAgEkUKQAAAJMoUgAAACZRpAAAAEyiSAEAAJhEkQIAADCJIgUAAGASRQoAAMAkihQAAIBJFCkAAACTKFIAAAAmUaQAAABMokgBAACYRJECAAAwiSIFAABgEkUKAADAJIoUAACASRQpAAAAkyhSAAAAJlGkAAAATKJIAQAAmESRAgAAMIkiBQAAYBJFCgAAwCSKFAAAgEkUKQAAAJMoUgAAACZRpAAAAEyiSAEAAJhEkQIAADCJIgUAAGASRQoAAMAkihQAAIBJFCkAAACTKFIAAAAmUaQAAABMokgBAACYRJECAAAwiSIFAABgEkUKAADAJIoUAACASRQpAAAAkyhSAAAAJlGkAAAATKJIAQAAmESRAgAAMIkiBQAAYBJFCgAAwCSKFAAAgEkUKQAAAJO8rA7g7qKiohQcHCwPDw+FhoZq+fLlVkcCAABugiKVCWvXrlVgYKDVMQAAgJvh1B4AAIBJ93SRWrVqldq2bavIyEjZbDYtXLjQaZ9JkyYpKipKefLkUZ06dbRhwwaH7TabTY0bN1atWrU0e/bsu5QcAADkBlkuUjNmzNCPP/5ovz148GDlzZtX9evX1+HDh7M1nKuSk5MVExOjSZMmpbt97ty5GjhwoIYNG6a4uDjFxMSoZcuWOn36tH2f1atXa/PmzVq0aJFGjx6tbdu23a34AADAzWW5SI0ePVp+fn6SpHXr1mnSpEkaN26c8ufPrwEDBmR7QFe0bt1ab7/9tjp06JDu9vfee0+9e/dW9+7dVaFCBU2ZMkX+/v764osv7PsULlxYkhQREaE2bdooLi4uw8e7evWqLl686PAFAADuXVkuUkePHlWpUqUkSQsXLtSjjz6q5557TmPGjNFvv/2W7QFzyrVr17R582Y1b97cPubh4aHmzZtr3bp1km7OaF26dEmSdPnyZf3666+qWLFihsccM2aMQkJC7F9FixbN2W8CAABYKstFKjAwUElJSZKkX375RS1atJAk5cmTR1euXMnedDnozJkzSk1NVcGCBR3GCxYsqISEBEnSqVOn9MADDygmJkZ169ZVly5dVKtWrQyP+dprr+nChQv2r6NHj+bo9wAAAKyV5csftGjRQr169VK1atW0Z88etWnTRpL0559/KioqKrvzWapEiRLaunVrpvf39fWVr69vDiYCAADuJMszUpMmTVK9evWUmJio+fPnK1++fJKkzZs366mnnsr2gDklf/788vT01KlTpxzGT506pUKFClmUCgAA5CZZnpG6ePGiPvjgA3l4OHaw4cOH56pTWT4+PqpRo4ZiY2PVvn17SVJaWppiY2PVt29fa8MBAIBcIctFKjo6WidPnlR4eLjD+NmzZxUdHa3U1NRsC+eqy5cva9++ffbbBw8eVHx8vMLCwlSsWDENHDhQXbt2Vc2aNVW7dm1NnDhRycnJ6t69u4WpAQBAbpHlImUYRrrjly9fVp48eVwOlJ02bdqkpk2b2m8PHDhQktS1a1dNnz5dTzzxhBITEzV06FAlJCSoatWqWrJkidMCdAAAgPRkukjdKiE2m01Dhw6Vv7+/fVtqaqrWr1+vqlWrZntAVzRp0iTD4ndL3759OZUHAABMyXSR2rJli6SbM1Lbt2+Xj4+PfZuPj49iYmI0aNCg7E8IAADgpjJdpJYvXy5J6t69u95//30FBwfnWCgAAIDcIMtrpKZNm5YTOQAAAHKdLBep5ORkvfPOO4qNjdXp06eVlpbmsP3AgQPZFg4AAMCdZblI9erVSytXrtSzzz6riIgI2Wy2nMgFAADg9rJcpBYvXqwff/xRDRo0yIk8AAAAuUaWPyImNDRUYWFhOZEFAAAgV8lykXrrrbc0dOhQpaSk5EQeAACAXCPLp/bGjx+v/fv3q2DBgoqKipK3t7fD9ri4uGwLBwAA4M6yXKRufcAvAADA/S7LRWrYsGE5kQMAACDXyfIaKQAAANyU5RkpDw+P2147KjU11aVAAAAAuUWWi9SCBQscbl+/fl1btmzRjBkzNGLEiGwLBgAA4O6yXKTatWvnNPbYY4+pYsWKmjt3rnr27JktwQAAANxdtq2Rqlu3rmJjY7PrcAAAAG4vW4rUlStX9MEHH6hw4cLZcTgAAIBcIcun9kJDQx0WmxuGoUuXLsnf319ffvlltoYDAABwZ1kuUhMnTnS47eHhoQIFCqhOnToKDQ3NrlwAAABuL8tFqmvXrjmRAwAAINfJcpGSpPPnz+vzzz/Xzp07JUkVK1ZUjx49FBISkq3hAAAA3FmWF5tv2rRJJUuW1IQJE3T27FmdPXtW7733nkqWLMkHFgMAgPtKlmekBgwYoEceeUSfffaZvLxu3v3GjRvq1auX+vfvr1WrVmV7SAAAAHeU5SK1adMmhxIlSV5eXho8eLBq1qyZreEAAADcWZZP7QUHB+vIkSNO40ePHlVQUFC2hAIAAMgNslyknnjiCfXs2VNz587V0aNHdfToUX311Vfq1auXnnrqqZzICAAA4JayfGrv3Xfflc1mU5cuXXTjxg1Jkre3t55//nm988472R4QAADAXWW5SPn4+Oj999/XmDFjtH//fklSyZIl5e/vn+3hAAAA3FmmT+2lpqZq27ZtunLliiTJ399flStXVuXKlWWz2bRt2zalpaXlWFAAAAB3k+kiNWvWLPXo0UM+Pj5O27y9vdWjRw/NmTMnW8MBAAC4s0wXqc8//1yDBg2Sp6en07Zblz/49NNPszUcAACAO8t0kdq9e7fq1q2b4fZatWrZPzIGAADgfpDpIpWcnKyLFy9muP3SpUtKSUnJllC53aRJk1ShQgXVqlXL6igAACAHZbpIlS5dWmvXrs1w++rVq1W6dOlsCZXb9enTRzt27NDGjRutjgIAAHJQpotU586d9cYbb2jbtm1O27Zu3aqhQ4eqc+fO2RoOAADAnWX6OlIDBgzQ4sWLVaNGDTVv3lzlypWTJO3atUvLli1TgwYNNGDAgBwLCgAA4G4yXaS8vb31yy+/aMKECZozZ45WrVolwzBUpkwZjRo1Sv3795e3t3dOZgUAAHArWbqyube3twYPHqzBgwfnVB4AAIBcI8sfWgwAAICbKFIAAAAmUaQAAABMokgBAACYRJECAAAwKUvv2pOkgQMHpjtus9mUJ08elSpVSu3atVNYWJjL4QAAANxZlovUli1bFBcXp9TUVJUtW1aStGfPHnl6eqpcuXL6+OOP9fLLL2v16tWqUKFCtgcGAABwF1k+tdeuXTs1b95cJ06c0ObNm7V582YdO3ZMLVq00FNPPaXjx4+rUaNGXOUcAADc82yGYRhZuUPhwoW1dOlSp9mmP//8Uw899JCOHz+uuLg4PfTQQzpz5ky2hs1tLl68qJCQEF24cEHBwcFWx7mrol790eoIuIsOvfOw1REAINtk5fd3lmekLly4oNOnTzuNJyYm6uLFi5KkvHnz6tq1a1k9NAAAQK5i6tRejx49tGDBAh07dkzHjh3TggUL1LNnT7Vv316StGHDBpUpUya7swIAALiVLC82/+STTzRgwAA9+eSTunHjxs2DeHmpa9eumjBhgiSpXLlymjp1avYmBQAAcDNZLlKBgYH67LPPNGHCBB04cECSVKJECQUGBtr3qVq1arYFBAAAcFdZLlK3BAYG2q8V9fcSBQAAcL/I8hqptLQ0jRw5UiEhISpevLiKFy+uvHnz6q233lJaWlpOZAQAAHBLWZ6R+s9//qPPP/9c77zzjho0aCBJWr16tYYPH66//vpLo0aNyvaQAAAA7ijLRWrGjBmaOnWqHnnkEftYlSpVVLhwYb3wwgsUKQAAcN/I8qm9s2fPqly5ck7j5cqV09mzZ7MlFAAAQG6Q5SIVExOjjz76yGn8o48+UkxMTLaEAgAAyA2yfGpv3Lhxevjhh7Vs2TLVq1dPkrRu3TodPXpUP/30U7YHBAAAcFdZnpFq3Lix9uzZow4dOuj8+fM6f/68OnbsqN27d6thw4Y5kREAAMAtmbqOVGRkpNOi8mPHjum5557Tp59+mi3BAAAA3F2WZ6QykpSUpM8//zy7DgcAAOD2sq1IAQAA3G8oUgAAACZRpAAAAEzK9GLzjh073nb7+fPnXc0CAACQq2S6SIWEhNxxe5cuXVwOBAAAkFtkukhNmzYtJ3MAAADkOqyRAgAAMIkiBQAAYBJFCgAAwCSKFAAAgEkUKQAAAJMoUgAAACZRpAAAAEyiSAEAAJhEkQIAADCJIgUAAGASRSoHTJo0SRUqVFCtWrWsjgIAAHIQRSoH9OnTRzt27NDGjRutjgIAAHIQRQoAAMAkihQAAIBJFCkAAACTKFIAAAAmUaQAAABMokgBAACYRJECAAAwiSIFAABgEkUKAADAJIoUAACASRQpAAAAkyhSAAAAJlGkAAAATKJIAQAAmESRAgAAMIkiBQAAYBJFCgAAwCSKFAAAgEkUKQAAAJMoUgAAACZRpAAAAEyiSAEAAJhEkQIAADCJIgUAAGASRQoAAMAkihQAAIBJFCkAAACTKFIAAAAmUaQAAABMokgBAACYRJECAAAwiSIFAABgEkUKAADAJIoUAACASRQpAAAAkyhSAAAAJlGkAAAATKJIAQAAmESRAgAAMIkiBQAAYBJFCgAAwCSKFAAAgEkUKQAAAJMoUgAAACZRpAAAAEyiSAEAAJhEkQIAADCJIgUAAGASRQoAAMAkilQOmDRpkipUqKBatWpZHQUAAOQgilQO6NOnj3bs2KGNGzdaHQUAAOQgihQAAIBJFCkAAACTKFIAAAAmUaQAAABMokgBAACYRJECAAAwiSIFAABgEkUKAADAJIoUAACASRQpAAAAkyhSAAAAJlGkAAAATKJIAQAAmESRAgAAMIkiBQAAYBJFCgAAwCSKFAAAgEkUKQAAAJMoUgAAACZRpAAAAEyiSAEAAJhEkQIAADCJIgUAAGASRQoAAMAkihQAAIBJFCkAAACTKFIAAAAmUaQAAABMokgBAACYRJECAAAwiSIFAABgEkUKAADAJC+rAwAAcpnhIVYnwN00/ILVCdwaM1IAAAAmUaQAAABMokgBAACYRJECAAAwiSIFAABgEkUKAADAJIoUAACASRQpAAAAkyhSAAAAJlGkAAAATKJIAQAAmESRAgAAMIkiBQAAYBJFCgAAwCSKFAAAgEkUKQAAAJMoUgAAACZRpAAAAEyiSGVRSkqKihcvrkGDBlkdBQAAWIwilUWjRo1S3bp1rY4BAADcAEUqC/bu3atdu3apdevWVkcBAABuwC2K1PHjx/XMM88oX7588vPzU+XKlbVp06ZsO/6qVavUtm1bRUZGymazaeHChenuN2nSJEVFRSlPnjyqU6eONmzY4LB90KBBGjNmTLblAgAAuZvlRercuXNq0KCBvL29tXjxYu3YsUPjx49XaGhouvuvWbNG169fdxrfsWOHTp06le59kpOTFRMTo0mTJmWYY+7cuRo4cKCGDRumuLg4xcTEqGXLljp9+rQk6bvvvlOZMmVUpkwZE98lAAC4F3lZHWDs2LEqWrSopk2bZh+Ljo5Od9+0tDT16dNHpUuX1ldffSVPT09J0u7du9WsWTMNHDhQgwcPdrpf69at73g67r333lPv3r3VvXt3SdKUKVP0448/6osvvtCrr76q33//XV999ZW++eYbXb58WdevX1dwcLCGDh3qdKxJkyZp0qRJSk1NzfTzAAAAch/LZ6QWLVqkmjVr6vHHH1d4eLiqVaumzz77LN19PTw89NNPP2nLli3q0qWL0tLStH//fjVr1kzt27dPt0RlxrVr17R582Y1b97c4bGaN2+udevWSZLGjBmjo0eP6tChQ3r33XfVu3fvdEuUJPXp00c7duzQxo0bTeUBAAC5g+VF6sCBA5o8ebJKly6tn3/+Wc8//7z69eunGTNmpLt/ZGSkfv31V61evVqdO3dWs2bN1Lx5c02ePNl0hjNnzig1NVUFCxZ0GC9YsKASEhJMHxcAANzbLD+1l5aWppo1a2r06NGSpGrVqumPP/7QlClT1LVr13TvU6xYMc2aNUuNGzdWiRIl9Pnnn8tms921zN26dbtrjwUAANyX5TNSERERqlChgsNY+fLldeTIkQzvc+rUKT333HNq27atUlJSNGDAAJcy5M+fX56enk6L1U+dOqVChQq5dGwAAHDvsrxINWjQQLt373YY27Nnj4oXL57u/mfOnNGDDz6o8uXL69tvv1VsbKzmzp3r0pXGfXx8VKNGDcXGxtrH0tLSFBsbq3r16pk+LgAAuLdZfmpvwIABql+/vkaPHq1OnTppw4YN+vTTT/Xpp5867ZuWlqbWrVurePHimjt3rry8vFShQgUtXbpUzZo1U+HChdOdnbp8+bL27dtnv33w4EHFx8crLCxMxYoVkyQNHDhQXbt2Vc2aNVW7dm1NnDhRycnJ9nfxAQAA/JPlRapWrVpasGCBXnvtNY0cOVLR0dGaOHGinn76aad9PTw8NHr0aDVs2FA+Pj728ZiYGC1btkwFChRI9zE2bdqkpk2b2m8PHDhQktS1a1dNnz5dkvTEE08oMTFRQ4cOVUJCgqpWraolS5Y4LUAHAAC4xWYYhmF1iHvVxYsXFRISogsXLig4ONjqOHdV1Ks/Wh0Bd9Ghdx62OgLupuEhVifA3TT8gtUJ7rqs/P62fI0UAABAbkWRAgAAMIkiBQAAYBJFCgAAwCSKFAAAgEkUKQAAAJMoUgAAACZRpAAAAEyiSAEAAJhEkQIAADCJIgUAAGASRQoAAMAkihQAAIBJFCkAAACTKFIAAAAmeVkd4F5mGIYk6eLFixYnufvSrqZYHQF30f34M35fu2pYnQB30334+r71b9qt3+O3YzMysxdMOXbsmIoWLWp1DAAAYMLRo0dVpEiR2+5DkcpBaWlpOnHihIKCgmSz2ayOgxx28eJFFS1aVEePHlVwcLDVcQBkI17f9xfDMHTp0iVFRkbKw+P2q6A4tZeDPDw87thkce8JDg7mH1rgHsXr+/4REhKSqf1YbA4AAGASRQoAAMAkihSQTXx9fTVs2DD5+vpaHQVANuP1jYyw2BwAAMAkZqQAAABMokgBAACYRJECAAAwiSIFAABgEkUKAADAJIoUAACASRQpAAAAkyhSQA7YuXOnSpQoYXUMADlg69at8vT0tDoG3ARFCsgB165d0+HDh62OASCHcC1r3OJldQAgNxo4cOBttycmJt6lJACyW8eOHW+7/cKFC7LZbHcpDdwdHxEDmODp6amqVasqODg43e2XL19WXFycUlNT73IyAK7y9vZWixYtVLBgwXS3nz17Vj/88AOvb0hiRgowpVSpUhowYICeeeaZdLfHx8erRo0adzkVgOxQvnx5Pfroo+rZs2e62+Pj4/XDDz/c5VRwV6yRAkyoWbOmNm/enOF2m83GGgogl6pRo4bi4uIy3O7r66tixYrdxURwZ5zaA0xISEjQ1atXVbx4caujAMhmV69eVWpqqvz9/a2OglyAGSnAhEKFCmWpRP3vf/9TcnJyDiYCkF18fX2zVKLeeecdnT9/PucCwa0xIwXcBcHBwYqPj+faUsA9iNf3/Y0ZKeAu4O8V4N7F6/v+RpECAAAwiSIFAABgEkUKAADAJIoUAACASRQp4C4oXry4vL29rY4BIAc0bNhQfn5+VseARShSgAu6du2qVatW3XG/P/74Q0WLFr0LiQBkl8aNG2vmzJm6cuXKbff76aefFBERcZdSwd1QpAAXXLhwQc2bN1fp0qU1evRoHT9+3OpIALJJtWrVNGjQIBUqVEi9e/fW77//bnUkuCGKFOCChQsX6vjx43r++ec1d+5cRUVFqXXr1po3b56uX79udTwALpg4caJOnDihadOm6fTp02rUqJEqVKigd999V6dOnbI6HtwEVzYHslFcXJymTZumqVOnKjAwUM8884xeeOEFlS5d2upoAFx0+vRpffrppxo1apRSU1PVpk0b9evXT82aNbM6GizEjBSQTU6ePKmlS5dq6dKl8vT0VJs2bbR9+3ZVqFBBEyZMsDoeABds2LBBw4YN0/jx4xUeHq7XXntN+fPn17/+9S8NGjTI6niwEDNSgAuuX7+uRYsWadq0afrll19UpUoV9erVS507d1ZwcLAkacGCBerRo4fOnTtncVoAWXH69GnNmjVL06ZN0969e9W2bVv16tVLLVu2lM1mkyStXr1arVq10uXLly1OC6t4WR0AyM0iIiKUlpamp556Shs2bFDVqlWd9mnatKny5s1717MBcE2RIkVUsmRJ9ejRQ926dVOBAgWc9qlSpYpq1aplQTq4C2akABfMmjVLjz/+uPLkyWN1FADZ7LffflPDhg2tjgE3xxopwAXLly9P9915ycnJ6tGjhwWJAGSXYcOG6fz5807jFy9eZIE57JiRAlzg6empkydPKjw83GH8zJkzKlSokG7cuGFRMgCuyuj1ffr0aRUuXJhLnEASa6QAUy5evCjDMGQYhi5duuRwai81NVU//fST0z++AHKHbdu2SZIMw9COHTuUkJBg35aamqolS5aocOHCVsWDm6FIASbkzZtXNptNNptNZcqUcdpus9k0YsQIC5IBcFXVqlXtr+/0TuH5+fnpww8/tCAZ3BGn9gATVq5cKcMw1KxZM82fP19hYWH2bT4+PipevLgiIyMtTAjArMOHD8swDJUoUUIbNmxweLeej4+PwsPD5enpaWFCuBOKFOCCw4cPq1ixYvZrygAA7i8UKSCLtm3bpkqVKsnDw8O+liIjVapUuUupAGSHRYsWqXXr1vL29taiRYtuu+8jjzxyl1LBnVGkgCzy8PBQQkKCwsPD5eHhIZvNpvReRjabTampqRYkBGDWP1/fGeH1jVtYbA5k0cGDB+1rJg4ePGhxGgDZKS0tLd3/BjLCjBQAAIBJXNkccMGYMWP0xRdfOI1/8cUXGjt2rAWJAGSXfv366YMPPnAa/+ijj9S/f/+7HwhuiSIFuOCTTz5RuXLlnMYrVqyoKVOmWJAIQHaZP3++GjRo4DRev359zZs3z4JEcEcUKcAFCQkJioiIcBovUKCATp48aUEiANklKSlJISEhTuPBwcE6c+aMBYngjihSgAuKFi2qNWvWOI2vWbOGC3ICuVypUqW0ZMkSp/HFixerRIkSFiSCO+Jde4ALevfurf79++v69ev2j5KIjY3V4MGD9fLLL1ucDoArBg4cqL59+yoxMdHh9T1+/HhNnDjR2nBwG7xrD3CBYRh69dVX9cEHH+jatWuSpDx58mjIkCEaOnSoxekAuGry5MkaNWqUTpw4IUmKiorS8OHD1aVLF4uTwV1QpIBscPnyZe3cuVN+fn4qXbq0fH19rY4EIBslJibKz89PgYGBVkeBm6FIAQAAmMQaKSCLOnbsqOnTpys4OFgdO3a87b7ffvvtXUoFIDtUr15dsbGxCg0NVbVq1W77geRxcXF3MRncFUUKyKKQkBD7P67pvTUaQO7Vrl07+6n59u3bWxsGuQKn9gAAAExiRgoAgNu4du2aTp8+7fQhxsWKFbMoEdwJF+QEXHDq1Ck9++yzioyMlJeXlzw9PR2+AORee/bsUcOGDeXn56fixYsrOjpa0dHRioqKUnR0tNXx4CaYkQJc0K1bNx05ckRvvvmmIiIibrswFUDu0r17d3l5eemHH37g9Y0MsUYKcEFQUJB+++03Va1a1eooALJZQECANm/enO4HkwO3cGoPcEHRokXF3yLAvalChQp8ODHuiCIFuGDixIl69dVXdejQIaujAMhmY8eO1eDBg7VixQolJSXp4sWLDl+AxKk9wCWhoaFKSUnRjRs35O/vL29vb4ftZ8+etSgZAFd5eNyca/jn2ijDMGSz2ZSammpFLLgZFpsDLuAT4IF71/Lly62OgFyAGSkAAACTmJECXJSWlqZ9+/ale8G+Ro0aWZQKQHY4f/68NmzYkO7ru0uXLhalgjthRgpwwe+//67OnTvr8OHDTu/eYw0FkLt9//33evrpp3X58mUFBwc7rJWy2WysgYQkihTgkqpVq6pMmTIaMWJEuhfs40ONgdyrTJkyatOmjUaPHi1/f3+r48BNUaQAFwQEBGjr1q0qVaqU1VEAZLOAgABt375dJUqUsDoK3BjXkQJcUKdOHe3bt8/qGAByQMuWLbVp0yarY8DNsdgcyKJt27bZ//vFF1/Uyy+/rISEBFWuXNnpOlJVqlS52/EAuGDRokX2/3744Yf1yiuvaMeOHem+vh955JG7HQ9uiFN7QBZ5eHjIZrNl+NEwt7ax2BzIfW5dhPNOeH3jFmakgCw6ePCg1REA5JB/XuIAuBPWSAFZVLx4cfvX4cOHVbhwYYex4sWLq3Dhwjp8+LDVUQG4YObMmbp69arT+LVr1zRz5kwLEsEdcWoPcIGnp6dOnjyp8PBwh/GkpCSFh4cz9Q/kYry+kRnMSAEuuLUW6p+SkpIUEBBgQSIA2SWj1/exY8e4RhzsWCMFmNCxY0dJNxecduvWTb6+vvZtqamp2rZtm+rXr29VPAAuqFatmmw2m2w2mx588EF5ef3fr8rU1FQdPHhQrVq1sjAh3AlFCjDh1l+jhmEoKChIfn5+9m0+Pj6qW7euevfubVU8AC5o3769JCk+Pl4tW7ZUYGCgfZuPj4+ioqL06KOPWpQO7oY1UoALRowYoUGDBnEaD7gHzZgxQ0888YTy5MljdRS4MYoU4KIbN25oxYoV2r9/vzp37qygoCCdOHFCwcHBDn/JAsh9zp8/r3nz5mn//v165ZVXFBYWpri4OBUsWFCFCxe2Oh7cAEUKcMHhw4fVqlUrHTlyRFevXtWePXtUokQJvfTSS7p69aqmTJlidUQAJm3btk3NmzdXSEiIDh06pN27d6tEiRJ64403dOTIES6BAEm8aw9wyUsvvaSaNWvq3LlzDuukOnTooNjYWAuTAXDVgAED1K1bN+3du9fh9F6bNm20atUqC5PBnbDYHHDBb7/9prVr18rHx8dhPCoqSsePH7coFYDssGnTJn366adO44ULF1ZCQoIFieCOmJECXJCWlpbuRfmOHTumoKAgCxIByC6+vr66ePGi0/iePXtUoEABCxLBHVGkABc89NBDmjhxov22zWbT5cuXNWzYMLVp08a6YABc9sgjj2jkyJG6fv26pJuv7yNHjmjIkCFc/gB2LDYHXHDs2DG1bNlShmFo7969qlmzpvbu3av8+fNr1apVTh8tASD3uHDhgh577DFt2rRJly5dUmRkpBISElSvXj399NNPXPYEkihSgMtu3LihuXPnauvWrbp8+bKqV6+up59+2mHxOYDca82aNQ6v7+bNm1sdCW6EIgXcBQ8//LCmTp2qiIgIq6MAyGaVK1fWTz/9pKJFi1odBRZgjRRwF6xatUpXrlyxOgaAHHDo0CH7OircfyhSAAAAJlGkAAAATKJIAQAAmESRAgAAMIkiBQAAYBJFCnDBqlWrdOPGDafxGzduOHyo6euvv66wsLC7GQ2Ai2bOnKmrV686jV+7dk0zZ8603/7kk09UsGDBuxkNboTrSAEu8PT01MmTJ52uYJ6UlKTw8PB0P4cPQO7A6xuZwYwU4ALDMGSz2ZzGk5KS+PgIIJfL6PV97NgxhYSEWJAI7sjL6gBAbtSxY0dJNz/EtFu3bvL19bVvS01N1bZt21S/fn2r4gFwQbVq1WSz2WSz2fTggw/Ky+v/flWmpqbq4MGDatWqlYUJ4U4oUoAJt/4aNQxDQUFBDp+r5+Pjo7p166p3795WxQPggvbt20uS4uPj1bJlSwUGBtq3+fj4KCoqSo8++qhF6eBuWCMFuGDEiBEaNGgQp/GAe9CMGTP0xBNPKE+ePFZHgRujSAEAcBvXrl3T6dOnlZaW5jBerFgxixLBnbDYHHDBqVOn9OyzzyoyMlJeXl7y9PR0+AKQe+3du1cNGzaUn5+fihcvrujoaEVHRysqKkrR0dFWx4ObYI0U4IJu3brpyJEjevPNNxUREZHuO3wA5E7dunWTl5eXfvjhB17fyBCn9gAXBAUF6bffflPVqlWtjgIgmwUEBGjz5s0qV66c1VHgxji1B7igaNGi4m8R4N5UoUIFnTlzxuoYcHMUKcAFEydO1KuvvqpDhw5ZHQVANhs7dqwGDx6sFStWKCkpSRcvXnT4AiRO7QEuCQ0NVUpKim7cuCF/f395e3s7bD979qxFyQC4ysPj5lzDP9dG3briOR8RA4nF5oBLJk6caHUEADlk+fLlVkdALsCMFAAAgEnMSAHZ5K+//tK1a9ccxoKDgy1KAyC7pKSk6MiRI06v7ypVqliUCO6EIgW4IDk5WUOGDNHXX3+tpKQkp+2soQByr8TERHXv3l2LFy9Odzuvb0i8aw9wyeDBg/Xrr79q8uTJ8vX11dSpUzVixAhFRkZq5syZVscD4IL+/fvr/PnzWr9+vfz8/LRkyRLNmDFDpUuX1qJFi6yOBzfBGinABcWKFdPMmTPVpEkTBQcHKy4uTqVKldKsWbP0v//9Tz/99JPVEQGYFBERoe+++061a9dWcHCwNm3apDJlymjRokUaN26cVq9ebXVEuAFmpAAXnD17ViVKlJB0cz3UrcsdPPDAA1q1apWV0QC4KDk5WeHh4ZJuXuokMTFRklS5cmXFxcVZGQ1uhCIFuKBEiRI6ePCgJKlcuXL6+uuvJUnff/+98ubNa2EyAK4qW7asdu/eLUmKiYnRJ598ouPHj2vKlCmKiIiwOB3cBaf2ABdMmDBBnp6e6tevn5YtW6a2bdvKMAxdv35d7733nl566SWrIwIw6csvv9SNGzfUrVs3bd68Wa1atdLZs2fl4+Oj6dOn64knnrA6ItwARQrIRocPH9bmzZtVqlQp3hoN3GNSUlK0a9cuFStWTPnz57c6DtwERQoAAMAk1kgBLujXr58++OADp/GPPvpI/fv3v/uBAGSbRx99VGPHjnUaHzdunB5//HELEsEdUaQAF8yfP18NGjRwGq9fv77mzZtnQSIA2WXVqlVq06aN03jr1q15Vy7sKFKAC5KSkhQSEuI0HhwcrDNnzliQCEB2uXz5snx8fJzGvb29dfHiRQsSwR1RpAAXlCpVSkuWLHEaX7x4sf36UgByp8qVK2vu3LlO41999ZUqVKhgQSK4Iz5rD3DBwIED1bdvXyUmJqpZs2aSpNjYWI0fP14TJ060NhwAl7z55pvq2LGj9u/f7/D6/t///qdvvvnG4nRwF7xrD3DR5MmTNWrUKJ04cUKSFBUVpeHDh6tLly4WJwPgqh9//FGjR49WfHy8/Pz8VKVKFQ0bNkyNGze2OhrcBEUKyCaJiYny8/NTYGCg1VEAAHcJRQoAAMAk1kgBWVS9enXFxsYqNDRU1apVk81my3BfPtgUyF3CwsK0Z88e5c+fX6Ghobd9fd/6kHLc3yhSQBa1a9dOvr6+kqT27dtbGwZAtpowYYKCgoIkiTeMIFM4tQcAAGASM1IAAPz/snKhzeDg4BxMgtyCGSkgi+60buLvWEMB5C4eHh53fH0bhiGbzabU1NS7lArujBkpIItYNwHcu5YvX251BOQyzEgBAACYxIwU4KLU1FQtWLBAO3fulCRVqFBB7dq1k5cXLy8gtzt37pw+//xzh9d39+7dFRYWZnEyuAtmpAAX/Pnnn3rkkUeUkJCgsmXLSpL27NmjAgUK6Pvvv1elSpUsTgjArFWrVqlt27YKCQlRzZo1JUmbN2/W+fPn9f3336tRo0YWJ4Q7oEgBLqhXr54KFCigGTNmKDQ0VNLNv2C7deumxMRErV271uKEAMyqXLmy6tWrp8mTJ8vT01PSzRnoF154QWvXrtX27dstTgh3QJECXODn56dNmzapYsWKDuN//PGHatWqpStXrliUDICr/Pz8FB8fb59tvmX37t2qWrUqr29IkjysDgDkZmXKlNGpU6ecxk+fPq1SpUpZkAhAdqlevbp9bdTf7dy5UzExMRYkgjtiNSzggjFjxqhfv34aPny46tatK0n6/fffNXLkSI0dO9bh4n5cvA/IXfr166eXXnpJ+/btc3h9T5o0Se+88462bdtm37dKlSpWxYTFOLUHuMDD4/8mdW9dxO/WS+rvt7l4H5D7/P31nR6bzcbrG8xIAa7g4n3AvevgwYNWR0AuwIwUAACAScxIAS7ign3AvWv37t368MMP7a/v8uXL68UXX3R6Jx/uX7xrD3DBqlWrFBUVpQ8++EDnzp3TuXPn9MEHHyg6OlqrVq2yOh4AF8yfP1+VKlXS5s2bFRMTo5iYGMXFxalSpUqaP3++1fHgJji1B7iAC/YB966SJUvq6aef1siRIx3Ghw0bpi+//FL79++3KBncCUUKcAEX7APuXf7+/tq2bZvTNeH27t2rmJgYpaSkWJQM7oRTe4ALuGAfcO9q0qSJfvvtN6fx1atXq2HDhhYkgjtisTngAi7YB9y7HnnkEQ0ZMkSbN292eH1/8803GjFihBYtWuSwL+5PnNoDXMAF+4B7151e37fw+r6/MSMFuIAL9gH3rrS0NKsjIBdgRgrIBjt27NCRI0d07do1+5jNZlPbtm0tTAUAyGnMSAEuOHDggDp06KDt27fbT+NJ//c5e0z3A7lbcnKyVq5c6fSHknRzjSTAjBTggrZt28rT01NTp05VdHS01q9fr7Nnz+rll1/Wu+++yzt7gFxsy5YtatOmjVJSUpScnKywsDCdOXNG/v7+Cg8P14EDB6yOCDfA5Q8AF6xbt04jR45U/vz55eHhIU9PTz3wwAMaM2YMf60CudyAAQPUtm1bnTt3Tn5+fvr99991+PBh1ahRQ++++67V8eAmKFKAC1JTUxUUFCRJyp8/v06cOCFJKl68uHbv3m1lNAAuio+P18svv2z/I+nq1asqWrSoxo0bp9dff93qeHATrJECXFCpUiVt3bpV0dHRqlOnjsaNGycfHx99+umnKlGihNXxALjA29vbfgmE8PBwHTlyROXLl1dISIiOHj1qcTq4C4oU4II33nhDycnJkqSRI0fqX//6lxo2bKh8+fJp7ty5FqcD4Ipq1app48aNKl26tBo3bqyhQ4fqzJkzmjVrlipVqmR1PLgJFpsD2ezs2bMKDQ21v3MPQO60adMmXbp0SU2bNtXp06fVpUsXrV27VqVLl9YXX3zBx0BBEkUKAACXrFmzRjVr1pSvr6/VUWABihQAAC4IDg5WfHw86yLvU7xrDwAAFzAfcX+jSAEAAJhEkQIAADCJIgUAAGASRQoAABdwqZP7G0UKAAAXsNj8/sblDwAAuI3ExET7Z2eWLVtWBQoUsDgR3AkzUgAApCM5OVk9evRQZGSkGjVqpEaNGikyMlI9e/ZUSkqK1fHgJihSAACkY+DAgVq5cqUWLVqk8+fP6/z58/ruu++0cuVKvfzyy1bHg5vg1B4AAOnInz+/5s2bpyZNmjiML1++XJ06dVJiYqI1weBWmJECACAdKSkpKliwoNN4eHg4p/Zgx4wUAADpePDBB5UvXz7NnDlTefLkkSRduXJFXbt21dmzZ7Vs2TKLE8IdUKQAAEjH9u3b1apVK129elUxMTGSpK1bt8rX11e//PKLKlasaHFCuAOKFAAAGUhJSdHs2bO1a9cuSVL58uX19NNPy8/Pz+JkcBcUKQAA0jFmzBgVLFhQPXr0cBj/4osvlJiYqCFDhliUDO6ExeYAAKTjk08+Ubly5ZzGK1asqClTpliQCO6IIgUAQDoSEhIUERHhNF6gQAGdPHnSgkRwRxQpAADSUbRoUa1Zs8ZpfM2aNYqMjLQgEdyRl9UBAABwR71791b//v11/fp1NWvWTJIUGxurwYMHc2Vz2LHYHACAdBiGoVdffVUffPCBrl27JknKkyePhgwZoqFDh1qcDu6CIgUAwG1cvnxZO3fulJ+fn0qXLi1fX1+rI8GNUKQAAABMYrE5AACASRQpAAAAkyhSAAAAJlGkAOSo4cOHq2rVqi4fx2azaeHChXf1Me83WXmOAdxEkQKQKd26dZPNZnP6atWqlX2fnPxFfPLkSbVu3TpT+w4aNEixsbH22926dVP79u2zJce1a9c0btw4xcTEyN/fX/nz51eDBg00bdo0Xb9+PVPHOHTokGw2m+Lj47MlU3bJynMM4CYuyAkg01q1aqVp06Y5jN2tt4IXKlQo0/sGBgYqMDAw2zNcu3ZNLVu21NatW/XWW2+pQYMGCg4O1u+//653331X1apVy5UzYdeuXZOPj0+WnmMANzEjBSDTfH19VahQIYev0NBQSVJUVJQkqUOHDrLZbPbbt8yaNUtRUVEKCQnRk08+qUuXLtm3NWnSRP369dPgwYMVFhamQoUKafjw4Q73/+ds17Fjx/TUU08pLCxMAQEBqlmzptavXy/J8dTe8OHDNWPGDH333Xf2WbQVK1aoWbNm6tu3r8NjJCYmysfHx2E26+8mTpyoVatWKTY2Vn369FHVqlVVokQJde7cWevXr1fp0qUlSUuWLNEDDzygvHnzKl++fPrXv/6l/fv3248THR0tSapWrZpsNpuaNGli3zZ16lSVL19eefLkUbly5fTxxx87ZFi7dq2qVq2qPHnyqGbNmlq4cKHT7NbKlStVu3Zt+fr6KiIiQq+++qpu3Ljh8Hz37dtX/fv3V/78+dWyZct0n+OjR4+qU6dOyps3r8LCwtSuXTsdOnTIvn3FihWqXbu2AgIClDdvXjVo0ECHDx9O97kD7lUUKQDZYuPGjZKkadOm6eTJk/bbkrR//34tXLhQP/zwg3744QetXLlS77zzjsP9Z8yYoYCAAK1fv17jxo3TyJEjtXTp0nQf6/Lly2rcuLGOHz+uRYsWaevWrRo8eLDS0tKc9h00aJA6deqkVq1a6eTJkzp58qTq16+vXr16ac6cObp69ap93y+//FKFCxe2fxzIP82ePVvNmzdXtWrVnLZ5e3srICBAkpScnKyBAwdq06ZNio2NlYeHhzp06GDPt2HDBknSsmXLdPLkSX377bf24w8dOlSjRo3Szp07NXr0aL355puaMWOGJOnixYtq27atKleurLi4OL311lsaMmSIQ47jx4+rTZs2qlWrlrZu3arJkyfr888/19tvv+30fPv4+GjNmjWaMmWK0/dz/fp1tWzZUkFBQfrtt9+0Zs0aBQYGqlWrVrp27Zpu3Lih9u3bq3Hjxtq2bZvWrVun5557TjabLd3nDrhnGQCQCV27djU8PT2NgIAAh69Ro0bZ95FkLFiwwOF+w4YNM/z9/Y2LFy/ax1555RWjTp069tuNGzc2HnjgAYf71apVyxgyZEi6x/7kk0+MoKAgIykpKd2sw4YNM2JiYhyyt2vXzmGfK1euGKGhocbcuXPtY1WqVDGGDx+e4XPg5+dn9OvXL8PtGUlMTDQkGdu3bzcMwzAOHjxoSDK2bNnisF/JkiWNOXPmOIy99dZbRr169QzDMIzJkycb+fLlM65cuWLf/tlnnzkc6/XXXzfKli1rpKWl2feZNGmSERgYaKSmphqGcfP5rlatmlPOvz/Hs2bNcjrO1atXDT8/P+Pnn382kpKSDEnGihUrsvx8APcS1kgByLSmTZtq8uTJDmNhYWF3vF9UVJSCgoLstyMiInT69GmHfapUqeJwO719bomPj1e1atUy9dgZyZMnj5599ll98cUX6tSpk+Li4vTHH39o0aJFGd7HyOQHQezdu1dDhw7V+vXrdebMGftM1JEjR1SpUqV075OcnKz9+/erZ8+e6t27t338xo0bCgkJkSTt3r1bVapUUZ48eezba9eu7XCcnTt3ql69eg4zQw0aNNDly5d17NgxFStWTJJUo0aN234PW7du1b59+xz+v0nSX3/9pf379+uhhx5St27d1LJlS7Vo0ULNmzdXp06dFBERcaenB7inUKQAZFpAQIBKlSqV5ft5e3s73LbZbE6n4TKzzy1+fn5ZzpCeXr16qWrVqjp27JimTZumZs2aqXjx4hnuX6ZMGe3ateuOx23btq2KFy+uzz77TJGRkUpLS1OlSpXsH3ybnsuXL0uSPvvsM9WpU8dhm6enZya/o8y7dRrydnlq1Kih2bNnO20rUKCApJuncfv166clS5Zo7ty5euONN7R06VLVrVs32/MC7oo1UgCyjbe3t1JTU3P8capUqaL4+HidPXs2U/v7+Pikm6ty5cqqWbOmPvvsM82ZM0c9evS47XE6d+6sZcuWacuWLU7brl+/ruTkZCUlJWn37t1644039OCDD6p8+fI6d+6cUx5JDpkKFiyoyMhIHThwQKVKlXL4urU4vWzZstq+fbvDuq6/r0WTpPLly2vdunUOs2dr1qxRUFCQihQpctvv7++qV6+uvXv3Kjw83CnPrRky6eaC+ddee01r165VpUqVNGfOnEw/BnAvoEgByLSrV68qISHB4evMmTP27VFRUYqNjVVCQoJTechOTz31lAoVKqT27dtrzZo1OnDggObPn69169alu39UVJS2bdum3bt368yZMw7Xe+rVq5feeecdGYahDh063PZx+/fvrwYNGujBBx/UpEmTtHXrVh04cEBff/216tatq7179yo0NFT58uXTp59+qn379unXX3/VwIEDHY4THh4uPz8/LVmyRKdOndKFCxckSSNGjNCYMWP0wQcfaM+ePdq+fbumTZum9957T9LNIpeWlqbnnntOO3fu1M8//6x3331Xkuyn8l544QUdPXpUL774onbt2qXvvvtOw4YN08CBA+Xhkfl/8p9++mnlz59f7dq102+//aaDBw9qxYoV6tevn44dO6aDBw/qtdde07p163T48GH98ssv2rt3r8qXL5/pxwDuCRav0QKQS3Tt2tWQ5PRVtmxZ+z6LFi0ySpUqZXh5eRnFixc3DMN54bdhGMaECRPs2w3j5uLnl156yWGfdu3aGV27drXf1j8Wsh86dMh49NFHjeDgYMPf39+oWbOmsX79+nQf8/Tp00aLFi2MwMBAQ5KxfPly+7ZLly4Z/v7+xgsvvJCp5+Gvv/4yxowZY1SuXNnIkyePERYWZjRo0MCYPn26cf36dcMwDGPp0qVG+fLlDV9fX6NKlSrGihUrnPJ/9tlnRtGiRQ0PDw+jcePG9vHZs2cbVatWNXx8fIzQ0FCjUaNGxrfffmvfvmbNGqNKlSqGj4+PUaNGDWPOnDmGJGPXrl32fVasWGHUqlXL8PHxMQoVKmQMGTLEni2j5zu95/jkyZNGly5djPz58xu+vr5GiRIljN69exsXLlwwEhISjPbt2xsRERGGj4+PUbx4cWPo0KH2Be3A/cJmGJlcPQkA96BDhw6pZMmS2rhxo6pXr251nCybPXu2unfvrgsXLmTb2jEAmcdicwD3pevXryspKUlvvPGG6tatm2tK1MyZM1WiRAkVLlxYW7du1ZAhQ9SpUydKFGARihSA+9KaNWvUtGlTlSlTRvPmzbM6TqYlJCRo6NChSkhIUEREhB5//HGNGjXK6ljAfYtTewAAACbxrj0AAACTKFIAAAAmUaQAAABMokgBAACYRJECAAAwiSIFAABgEkUKAADAJIoUAACASRQpAAAAk/4/xE0Gh3DWqA8AAAAASUVORK5CYII=",
>>>>>>> rianna
      "text/plain": [
       "<Figure size 640x480 with 1 Axes>"
      ]
     },
     "metadata": {},
     "output_type": "display_data"
    }
   ],
   "source": [
    "# Plot the Ethnicity Counts on a logarithmic scale\n",
    "ethnicity_table.plot(kind='bar', stacked=True, logy=True)\n",
    "plt.xlabel('Ethnicity Categories')\n",
    "plt.ylabel('Log Counts')\n",
    "plt.title('Ethnicity Counts (log scale)')\n",
    "plt.show()"
   ]
  },
  {
   "cell_type": "code",
   "execution_count": 17,
   "id": "1ec0169c-3e7b-4d1e-bef8-b06beda057ee",
   "metadata": {
    "tags": []
   },
   "outputs": [
    {
     "name": "stdout",
     "output_type": "stream",
     "text": [
      "Race Counts:\n",
<<<<<<< HEAD
      "                       5.0   3.0\n",
      "race_categories                 \n",
      "applicant_race_1     59524  3410\n",
      "applicant_race_2        85     0\n",
      "co_applicant_race_1  59505  3429\n",
      "co_applicant_race_2     85     1\n"
=======
      "                        5.0    3.0\n",
      "race_categories                   \n",
      "applicant_race_1     113478  12757\n",
      "applicant_race_2       1353    191\n",
      "co_applicant_race_1   53147   3256\n",
      "co_applicant_race_2     436     38\n"
>>>>>>> rianna
     ]
    }
   ],
   "source": [
<<<<<<< HEAD
=======
    "import pandas as pd\n",
    "\n",
>>>>>>> rianna
    "def generate_counts_table(counts, categories):\n",
    "    df = pd.DataFrame(counts, columns=['5.0', '3.0'], index=categories)\n",
    "    df.index.name = 'race_categories'\n",
    "    return df\n",
    "\n",
    "race_categories = ['applicant_race_1', 'applicant_race_2', 'co_applicant_race_1', 'co_applicant_race_2']\n",
    "\n",
    "# Generate and display the Race Counts table\n",
    "print('Race Counts:')\n",
    "race_table = generate_counts_table(race_counts, race_categories)\n",
<<<<<<< HEAD
    "print(race_table)"
=======
    "print(race_table)\n"
>>>>>>> rianna
   ]
  },
  {
   "cell_type": "code",
   "execution_count": 18,
   "id": "0a327981-cbe8-4392-a7a7-614f05b33576",
   "metadata": {
    "tags": []
   },
   "outputs": [
    {
     "data": {
<<<<<<< HEAD
      "image/png": "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",
=======
      "image/png": "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",
>>>>>>> rianna
      "text/plain": [
       "<Figure size 640x480 with 1 Axes>"
      ]
     },
     "metadata": {},
     "output_type": "display_data"
    }
   ],
   "source": [
    "# Plot the Race Counts on a logarithmic scale\n",
    "race_table.plot(kind='bar', stacked=True, logy=True)\n",
    "plt.xlabel('Race Categories')\n",
    "plt.ylabel('Log Counts')\n",
    "plt.title('Race Counts (log scale)')\n",
    "plt.show()"
   ]
  },
  {
   "cell_type": "markdown",
   "id": "b495ee74-2b2f-4515-afba-37ed19911cf4",
   "metadata": {},
   "source": [
    "## See all the WHITE applicants."
   ]
  },
  {
   "cell_type": "code",
   "execution_count": 19,
   "id": "63c44661-4545-4d80-a79d-e77a46c2996b",
   "metadata": {
    "tags": []
   },
   "outputs": [],
   "source": [
    "# Filter the DataFrame to include only 'applicant_race_1' with value 5.0\n",
    "filtered_df_applicant_race_1_5 = filtered_df[(filtered_df['applicant_race_1'] == 5.0)]\n",
    "\n",
    "race_columns1 = ['applicant_race_2', 'co_applicant_race_1', 'co_applicant_race_2']\n",
    "ethnicity_columns1 = ['applicant_ethnicity_1', 'co_applicant_ethnicity_1']\n",
    "\n",
    "# Select specific columns\n",
    "selected_columns = race_columns1 + ethnicity_columns1\n",
    "filtered_df_selected_columns = filtered_df_applicant_race_1_5[selected_columns]"
   ]
  },
  {
   "cell_type": "code",
   "execution_count": 20,
   "id": "48949d93-09ee-4a2a-857d-11c8489d246a",
   "metadata": {
    "tags": []
   },
   "outputs": [
    {
     "name": "stdout",
     "output_type": "stream",
     "text": [
      "<class 'pandas.core.frame.DataFrame'>\n",
<<<<<<< HEAD
      "Index: 59524 entries, 0 to 85357\n",
      "Data columns (total 5 columns):\n",
      " #   Column                    Non-Null Count  Dtype  \n",
      "---  ------                    --------------  -----  \n",
      " 0   applicant_race_2          135 non-null    float64\n",
      " 1   co_applicant_race_1       59524 non-null  float64\n",
      " 2   co_applicant_race_2       192 non-null    float64\n",
      " 3   applicant_ethnicity_1     59524 non-null  float64\n",
      " 4   co_applicant_ethnicity_1  59524 non-null  float64\n",
      "dtypes: float64(5)\n",
      "memory usage: 2.7 MB\n"
=======
      "Index: 113478 entries, 1 to 162205\n",
      "Data columns (total 5 columns):\n",
      " #   Column                    Non-Null Count   Dtype  \n",
      "---  ------                    --------------   -----  \n",
      " 0   applicant_race_2          0 non-null       float64\n",
      " 1   co_applicant_race_1       51459 non-null   float64\n",
      " 2   co_applicant_race_2       258 non-null     float64\n",
      " 3   applicant_ethnicity_1     109099 non-null  float64\n",
      " 4   co_applicant_ethnicity_1  51581 non-null   float64\n",
      "dtypes: float64(5)\n",
      "memory usage: 5.2 MB\n"
>>>>>>> rianna
     ]
    }
   ],
   "source": [
    "filtered_df_selected_columns.info()"
   ]
  },
  {
   "cell_type": "code",
   "execution_count": 21,
   "id": "030864a1-2148-44a2-bc22-48b62320ca56",
   "metadata": {
    "tags": []
   },
   "outputs": [],
   "source": [
    "# Sort with NaN values at the bottom\n",
    "df_sorted = pd.concat([filtered_df_selected_columns.dropna(), \n",
    "                       filtered_df_selected_columns[filtered_df_selected_columns.isna().any(axis=1)]], \n",
    "                      ignore_index=True)\n",
    "\n",
    "# Calculate summary statistics\n",
    "statistics = df_sorted.describe()"
   ]
  },
  {
   "cell_type": "code",
   "execution_count": 22,
   "id": "87c43a39-be7a-4734-8585-6d1dd992cb61",
   "metadata": {
    "tags": []
   },
   "outputs": [
    {
     "name": "stdout",
     "output_type": "stream",
     "text": [
      "       applicant_race_2  co_applicant_race_1  co_applicant_race_2  \\\n",
<<<<<<< HEAD
      "count        135.000000         59524.000000           192.000000   \n",
      "mean          25.866667             4.985250            18.776042   \n",
      "std            5.711732             0.171125            10.680356   \n",
      "min           21.000000             3.000000             1.000000   \n",
      "25%           23.000000             5.000000             5.000000   \n",
      "50%           24.000000             5.000000            23.000000   \n",
      "75%           27.000000             5.000000            25.000000   \n",
      "max           44.000000             5.000000            44.000000   \n",
      "\n",
      "       applicant_ethnicity_1  co_applicant_ethnicity_1  \n",
      "count           59524.000000              59524.000000  \n",
      "mean                1.893908                  1.891405  \n",
      "std                 0.307957                  0.311133  \n",
=======
      "count               0.0         51459.000000           258.000000   \n",
      "mean                NaN             4.984959             4.860465   \n",
      "std                 NaN             0.172790             0.510500   \n",
      "min                 NaN             3.000000             3.000000   \n",
      "25%                 NaN             5.000000             5.000000   \n",
      "50%                 NaN             5.000000             5.000000   \n",
      "75%                 NaN             5.000000             5.000000   \n",
      "max                 NaN             5.000000             5.000000   \n",
      "\n",
      "       applicant_ethnicity_1  co_applicant_ethnicity_1  \n",
      "count          109099.000000              51581.000000  \n",
      "mean                1.868147                  1.876931  \n",
      "std                 0.338332                  0.328519  \n",
>>>>>>> rianna
      "min                 1.000000                  1.000000  \n",
      "25%                 2.000000                  2.000000  \n",
      "50%                 2.000000                  2.000000  \n",
      "75%                 2.000000                  2.000000  \n",
      "max                 2.000000                  2.000000  \n"
     ]
    }
   ],
   "source": [
    "print(statistics)"
   ]
  },
  {
   "cell_type": "markdown",
   "id": "f31faaa2-a5f5-4aab-a88d-e592f9eeedba",
   "metadata": {},
   "source": [
    "# Conclusion\n",
<<<<<<< HEAD
    "- White applicants generally have only one applicant_race_1.\n",
    "- Most co applicants for white people are black.\n",
    "- Some co applicants have a 2nd applicant_race_1.\n",
    "\n",
    "- White applicants do NOT have Hispanic or Latino applicant_ethnicity_1\n",
=======
    "- White applicants generally have only one race.\n",
    "- Most co applicants for white people are black.\n",
    "- Some co applicants have a 2nd race.\n",
    "\n",
    "- White applicants do NOT have Hispanic or Latino ethnicity\n",
>>>>>>> rianna
    "- Same for the co applicant."
   ]
  },
  {
   "cell_type": "markdown",
   "id": "442a4528-454b-4e59-8aea-de823d9c71f2",
   "metadata": {},
   "source": [
    "## See all the BLACK applicants."
   ]
  },
  {
   "cell_type": "code",
   "execution_count": 23,
   "id": "1f20f66d-3a69-4c93-a53c-616bdd861c57",
   "metadata": {
    "tags": []
   },
   "outputs": [],
   "source": [
    "# Filter the DataFrame to include only 'applicant_race_1' with value 5.0\n",
    "filtered_df_applicant_race_1_3 = filtered_df[(filtered_df['applicant_race_1'] == 3.0)]\n",
    "\n",
    "race_columns2 = ['applicant_race_2', 'co_applicant_race_1', 'co_applicant_race_2']\n",
    "ethnicity_columns2 = ['applicant_ethnicity_1', 'co_applicant_ethnicity_1']\n",
    "\n",
    "# Select specific columns\n",
    "selected_columns2 = race_columns2 + ethnicity_columns2\n",
    "filtered_df_selected_columns2 = filtered_df_applicant_race_1_3[selected_columns2]"
   ]
  },
  {
   "cell_type": "code",
   "execution_count": 24,
   "id": "65f3db02-813c-4aad-be8f-782decd57a31",
   "metadata": {
    "tags": []
   },
   "outputs": [
    {
     "name": "stdout",
     "output_type": "stream",
     "text": [
      "<class 'pandas.core.frame.DataFrame'>\n",
<<<<<<< HEAD
      "Index: 3410 entries, 3 to 85310\n",
      "Data columns (total 5 columns):\n",
      " #   Column                    Non-Null Count  Dtype  \n",
      "---  ------                    --------------  -----  \n",
      " 0   applicant_race_2          93 non-null     float64\n",
      " 1   co_applicant_race_1       3410 non-null   float64\n",
      " 2   co_applicant_race_2       44 non-null     float64\n",
      " 3   applicant_ethnicity_1     3410 non-null   float64\n",
      " 4   co_applicant_ethnicity_1  3410 non-null   float64\n",
      "dtypes: float64(5)\n",
      "memory usage: 159.8 KB\n"
=======
      "Index: 12757 entries, 0 to 162195\n",
      "Data columns (total 5 columns):\n",
      " #   Column                    Non-Null Count  Dtype  \n",
      "---  ------                    --------------  -----  \n",
      " 0   applicant_race_2          294 non-null    float64\n",
      " 1   co_applicant_race_1       3146 non-null   float64\n",
      " 2   co_applicant_race_2       46 non-null     float64\n",
      " 3   applicant_ethnicity_1     11750 non-null  float64\n",
      " 4   co_applicant_ethnicity_1  3050 non-null   float64\n",
      "dtypes: float64(5)\n",
      "memory usage: 598.0 KB\n"
>>>>>>> rianna
     ]
    }
   ],
   "source": [
    "filtered_df_selected_columns2.info()"
   ]
  },
  {
   "cell_type": "code",
   "execution_count": 25,
   "id": "253d345b-418d-41da-b8cb-13a80502b603",
   "metadata": {
    "tags": []
   },
   "outputs": [],
   "source": [
    "# Sort with NaN values at the bottom\n",
    "df_sorted2 = pd.concat([filtered_df_selected_columns2.dropna(), \n",
    "                       filtered_df_selected_columns2[filtered_df_selected_columns2.isna().any(axis=1)]], \n",
    "                      ignore_index=True)\n",
    "\n",
    "# Calculate summary statistics\n",
    "statistics2 = df_sorted2.describe()"
   ]
  },
  {
   "cell_type": "code",
   "execution_count": 26,
   "id": "7ad5604b-f882-4302-9b2e-8f45a08c4dc3",
   "metadata": {
    "tags": []
   },
   "outputs": [
    {
     "name": "stdout",
     "output_type": "stream",
     "text": [
      "       applicant_race_2  co_applicant_race_1  co_applicant_race_2  \\\n",
<<<<<<< HEAD
      "count         93.000000          3410.000000            44.000000   \n",
      "mean           7.677419             3.246334             8.045455   \n",
      "std            9.276151             0.657354            10.034718   \n",
      "min            5.000000             3.000000             5.000000   \n",
      "25%            5.000000             3.000000             5.000000   \n",
      "50%            5.000000             3.000000             5.000000   \n",
      "75%            5.000000             3.000000             5.000000   \n",
      "max           44.000000             5.000000            44.000000   \n",
      "\n",
      "       applicant_ethnicity_1  co_applicant_ethnicity_1  \n",
      "count            3410.000000               3410.000000  \n",
      "mean                1.974487                  1.963636  \n",
      "std                 0.157701                  0.187221  \n",
=======
      "count             294.0          3146.000000            46.000000   \n",
      "mean                5.0             3.247298             4.652174   \n",
      "std                 0.0             0.658466             0.766446   \n",
      "min                 5.0             3.000000             3.000000   \n",
      "25%                 5.0             3.000000             5.000000   \n",
      "50%                 5.0             3.000000             5.000000   \n",
      "75%                 5.0             3.000000             5.000000   \n",
      "max                 5.0             5.000000             5.000000   \n",
      "\n",
      "       applicant_ethnicity_1  co_applicant_ethnicity_1  \n",
      "count           11750.000000               3050.000000  \n",
      "mean                1.973021                  1.956066  \n",
      "std                 0.162028                  0.204983  \n",
>>>>>>> rianna
      "min                 1.000000                  1.000000  \n",
      "25%                 2.000000                  2.000000  \n",
      "50%                 2.000000                  2.000000  \n",
      "75%                 2.000000                  2.000000  \n",
      "max                 2.000000                  2.000000  \n"
     ]
    }
   ],
   "source": [
    "print(statistics2)"
   ]
  },
  {
   "cell_type": "markdown",
   "id": "57a5daec-abf7-4d84-ab67-0f75fc634790",
   "metadata": {},
   "source": [
    "# Conclusion\n",
<<<<<<< HEAD
    "- Black applicants mostly are one applicant_race_1, but some are mixed.\n",
    "- co applicants for black people are fairly evenly spread black and white.\n",
    "- Some co applicants have a 2nd applicant_race_1.\n",
    "\n",
    "- Black applicants do NOT have Hispanic or Latino applicant_ethnicity_1\n",
=======
    "- Black applicants mostly are one race, but some are mixed.\n",
    "- co applicants for black people are fairly evenly spread black and white.\n",
    "- Some co applicants have a 2nd race.\n",
    "\n",
    "- Black applicants do NOT have Hispanic or Latino ethnicity\n",
>>>>>>> rianna
    "- Same for the co applicant."
   ]
  },
  {
   "cell_type": "code",
<<<<<<< HEAD
   "execution_count": null,
=======
   "execution_count": 27,
   "id": "7ab28b0b-ed65-4b29-9d25-576914051a8b",
   "metadata": {},
   "outputs": [],
   "source": [
    "filtered_df['applicant_race_1'] = filtered_df['applicant_race_1'].astype('Int32')\n",
    "filtered_df['co_applicant_race_1'] = filtered_df['co_applicant_race_1'].astype('Int32')\n",
    "filtered_df['applicant_ethnicity_1'] = filtered_df['applicant_ethnicity_1'].astype('Int32')\n",
    "filtered_df['co_applicant_ethnicity_1'] = filtered_df['co_applicant_ethnicity_1'].astype('Int32')"
   ]
  },
  {
   "cell_type": "code",
   "execution_count": 28,
   "id": "88ef75b6-f60e-4fa9-8cf2-974fcbc98f77",
   "metadata": {
    "tags": []
   },
   "outputs": [
    {
     "data": {
      "text/html": [
       "<div>\n",
       "<style scoped>\n",
       "    .dataframe tbody tr th:only-of-type {\n",
       "        vertical-align: middle;\n",
       "    }\n",
       "\n",
       "    .dataframe tbody tr th {\n",
       "        vertical-align: top;\n",
       "    }\n",
       "\n",
       "    .dataframe thead th {\n",
       "        text-align: right;\n",
       "    }\n",
       "</style>\n",
       "<table border=\"1\" class=\"dataframe\">\n",
       "  <thead>\n",
       "    <tr style=\"text-align: right;\">\n",
       "      <th></th>\n",
       "      <th>census_tract</th>\n",
       "      <th>action_taken</th>\n",
       "      <th>loan_type</th>\n",
       "      <th>lien_status</th>\n",
       "      <th>reverse_mortgage</th>\n",
       "      <th>open_end_line_of_credit</th>\n",
       "      <th>loan_amount</th>\n",
       "      <th>combined_loan_to_value_ratio</th>\n",
       "      <th>interest_rate</th>\n",
       "      <th>total_loan_costs</th>\n",
       "      <th>...</th>\n",
       "      <th>co_applicant_sex</th>\n",
       "      <th>applicant_age</th>\n",
       "      <th>co_applicant_age</th>\n",
       "      <th>aus_1</th>\n",
       "      <th>applicant_race_1</th>\n",
       "      <th>applicant_race_2</th>\n",
       "      <th>co_applicant_race_1</th>\n",
       "      <th>co_applicant_race_2</th>\n",
       "      <th>applicant_ethnicity_1</th>\n",
       "      <th>co_applicant_ethnicity_1</th>\n",
       "    </tr>\n",
       "  </thead>\n",
       "  <tbody>\n",
       "    <tr>\n",
       "      <th>0</th>\n",
       "      <td>9.003416e+09</td>\n",
       "      <td>3</td>\n",
       "      <td>2</td>\n",
       "      <td>1</td>\n",
       "      <td>2</td>\n",
       "      <td>2</td>\n",
       "      <td>115000</td>\n",
       "      <td>98.188</td>\n",
       "      <td>NaN</td>\n",
       "      <td>NaN</td>\n",
       "      <td>...</td>\n",
       "      <td>5</td>\n",
       "      <td>35-44</td>\n",
       "      <td>9999</td>\n",
       "      <td>1</td>\n",
       "      <td>3</td>\n",
       "      <td>NaN</td>\n",
       "      <td>&lt;NA&gt;</td>\n",
       "      <td>NaN</td>\n",
       "      <td>2</td>\n",
       "      <td>&lt;NA&gt;</td>\n",
       "    </tr>\n",
       "    <tr>\n",
       "      <th>1</th>\n",
       "      <td>4.201710e+10</td>\n",
       "      <td>3</td>\n",
       "      <td>3</td>\n",
       "      <td>1</td>\n",
       "      <td>2</td>\n",
       "      <td>2</td>\n",
       "      <td>205000</td>\n",
       "      <td>110.256</td>\n",
       "      <td>NaN</td>\n",
       "      <td>NaN</td>\n",
       "      <td>...</td>\n",
       "      <td>2</td>\n",
       "      <td>&gt;74</td>\n",
       "      <td>65-74</td>\n",
       "      <td>1</td>\n",
       "      <td>5</td>\n",
       "      <td>NaN</td>\n",
       "      <td>5</td>\n",
       "      <td>NaN</td>\n",
       "      <td>2</td>\n",
       "      <td>2</td>\n",
       "    </tr>\n",
       "    <tr>\n",
       "      <th>2</th>\n",
       "      <td>3.401700e+10</td>\n",
       "      <td>3</td>\n",
       "      <td>1</td>\n",
       "      <td>1</td>\n",
       "      <td>2</td>\n",
       "      <td>2</td>\n",
       "      <td>205000</td>\n",
       "      <td>59.629</td>\n",
       "      <td>NaN</td>\n",
       "      <td>NaN</td>\n",
       "      <td>...</td>\n",
       "      <td>5</td>\n",
       "      <td>35-44</td>\n",
       "      <td>9999</td>\n",
       "      <td>1</td>\n",
       "      <td>3</td>\n",
       "      <td>NaN</td>\n",
       "      <td>&lt;NA&gt;</td>\n",
       "      <td>NaN</td>\n",
       "      <td>2</td>\n",
       "      <td>&lt;NA&gt;</td>\n",
       "    </tr>\n",
       "    <tr>\n",
       "      <th>3</th>\n",
       "      <td>6.065043e+09</td>\n",
       "      <td>3</td>\n",
       "      <td>1</td>\n",
       "      <td>1</td>\n",
       "      <td>2</td>\n",
       "      <td>2</td>\n",
       "      <td>155000</td>\n",
       "      <td>64.99</td>\n",
       "      <td>NaN</td>\n",
       "      <td>NaN</td>\n",
       "      <td>...</td>\n",
       "      <td>5</td>\n",
       "      <td>65-74</td>\n",
       "      <td>9999</td>\n",
       "      <td>1</td>\n",
       "      <td>5</td>\n",
       "      <td>NaN</td>\n",
       "      <td>&lt;NA&gt;</td>\n",
       "      <td>NaN</td>\n",
       "      <td>2</td>\n",
       "      <td>&lt;NA&gt;</td>\n",
       "    </tr>\n",
       "    <tr>\n",
       "      <th>4</th>\n",
       "      <td>3.711901e+10</td>\n",
       "      <td>3</td>\n",
       "      <td>1</td>\n",
       "      <td>1</td>\n",
       "      <td>2</td>\n",
       "      <td>2</td>\n",
       "      <td>255000</td>\n",
       "      <td>70.0</td>\n",
       "      <td>NaN</td>\n",
       "      <td>NaN</td>\n",
       "      <td>...</td>\n",
       "      <td>5</td>\n",
       "      <td>55-64</td>\n",
       "      <td>9999</td>\n",
       "      <td>1</td>\n",
       "      <td>3</td>\n",
       "      <td>NaN</td>\n",
       "      <td>&lt;NA&gt;</td>\n",
       "      <td>NaN</td>\n",
       "      <td>2</td>\n",
       "      <td>&lt;NA&gt;</td>\n",
       "    </tr>\n",
       "  </tbody>\n",
       "</table>\n",
       "<p>5 rows × 36 columns</p>\n",
       "</div>"
      ],
      "text/plain": [
       "   census_tract  action_taken  loan_type  lien_status  reverse_mortgage  \\\n",
       "0  9.003416e+09             3          2            1                 2   \n",
       "1  4.201710e+10             3          3            1                 2   \n",
       "2  3.401700e+10             3          1            1                 2   \n",
       "3  6.065043e+09             3          1            1                 2   \n",
       "4  3.711901e+10             3          1            1                 2   \n",
       "\n",
       "   open_end_line_of_credit  loan_amount combined_loan_to_value_ratio  \\\n",
       "0                        2       115000                       98.188   \n",
       "1                        2       205000                      110.256   \n",
       "2                        2       205000                       59.629   \n",
       "3                        2       155000                        64.99   \n",
       "4                        2       255000                         70.0   \n",
       "\n",
       "  interest_rate total_loan_costs  ... co_applicant_sex applicant_age  \\\n",
       "0           NaN              NaN  ...                5         35-44   \n",
       "1           NaN              NaN  ...                2           >74   \n",
       "2           NaN              NaN  ...                5         35-44   \n",
       "3           NaN              NaN  ...                5         65-74   \n",
       "4           NaN              NaN  ...                5         55-64   \n",
       "\n",
       "   co_applicant_age  aus_1  applicant_race_1  applicant_race_2  \\\n",
       "0              9999      1                 3               NaN   \n",
       "1             65-74      1                 5               NaN   \n",
       "2              9999      1                 3               NaN   \n",
       "3              9999      1                 5               NaN   \n",
       "4              9999      1                 3               NaN   \n",
       "\n",
       "  co_applicant_race_1  co_applicant_race_2  applicant_ethnicity_1  \\\n",
       "0                <NA>                  NaN                      2   \n",
       "1                   5                  NaN                      2   \n",
       "2                <NA>                  NaN                      2   \n",
       "3                <NA>                  NaN                      2   \n",
       "4                <NA>                  NaN                      2   \n",
       "\n",
       "   co_applicant_ethnicity_1  \n",
       "0                      <NA>  \n",
       "1                         2  \n",
       "2                      <NA>  \n",
       "3                      <NA>  \n",
       "4                      <NA>  \n",
       "\n",
       "[5 rows x 36 columns]"
      ]
     },
     "execution_count": 28,
     "metadata": {},
     "output_type": "execute_result"
    }
   ],
   "source": [
    "filtered_df.head()"
   ]
  },
  {
   "cell_type": "code",
   "execution_count": 29,
>>>>>>> rianna
   "id": "9597de5b-0f0c-420c-86ea-0c403a1cdad7",
   "metadata": {
    "tags": []
   },
   "outputs": [],
<<<<<<< HEAD
   "source": []
=======
   "source": [
    "filtered_df.to_csv('3_distribution_race_ethnicity.csv', index=False)"
   ]
>>>>>>> rianna
  },
  {
   "cell_type": "code",
   "execution_count": null,
   "id": "e6be9e3c-6e94-4ff7-ac86-2b8c6daed7a4",
   "metadata": {},
   "outputs": [],
   "source": []
  }
 ],
 "metadata": {
  "kernelspec": {
   "display_name": "Python 3 (ipykernel)",
   "language": "python",
   "name": "python3"
  },
  "language_info": {
   "codemirror_mode": {
    "name": "ipython",
    "version": 3
   },
   "file_extension": ".py",
   "mimetype": "text/x-python",
   "name": "python",
   "nbconvert_exporter": "python",
   "pygments_lexer": "ipython3",
   "version": "3.9.18"
  }
 },
 "nbformat": 4,
 "nbformat_minor": 5
}
