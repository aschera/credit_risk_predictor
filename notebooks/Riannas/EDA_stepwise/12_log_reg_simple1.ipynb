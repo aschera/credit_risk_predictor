{
 "cells": [
  {
<<<<<<< HEAD
   "cell_type": "markdown",
   "id": "4a2ff65d-a810-4065-be85-fe1a2c06014b",
   "metadata": {},
   "source": [
    "# Imports"
   ]
  },
  {
=======
>>>>>>> rianna
   "cell_type": "code",
   "execution_count": 1,
   "id": "236fe6aa-a953-40d2-830b-d6a8db58d7b5",
   "metadata": {
    "tags": []
   },
   "outputs": [],
   "source": [
    "import warnings\n",
    "import numpy as np\n",
    "import pandas as pd\n",
    "import seaborn as sns\n",
    "import matplotlib.pyplot as plt\n",
    "from sklearn.preprocessing import LabelEncoder\n",
    "from scipy.stats import chi2_contingency\n",
    "from itertools import product\n",
    "from numpy import mean\n",
    "from numpy import std\n",
    "from sklearn.datasets import make_classification\n",
    "from sklearn.model_selection import cross_val_score\n",
    "from sklearn.model_selection import RepeatedStratifiedKFold\n",
    "from sklearn.linear_model import LogisticRegression\n",
<<<<<<< HEAD
=======
    "\n",
>>>>>>> rianna
    "from sklearn.metrics import accuracy_score, classification_report, confusion_matrix"
   ]
  },
  {
   "cell_type": "markdown",
   "id": "948cb308-612a-4da1-98c0-736da467816f",
   "metadata": {
    "tags": []
   },
   "source": [
    "# load dataset 10"
   ]
  },
  {
   "cell_type": "code",
<<<<<<< HEAD
   "execution_count": 2,
=======
   "execution_count": null,
>>>>>>> rianna
   "id": "0c5150a5-e658-44d5-83c8-88e4ba8f4ead",
   "metadata": {},
   "outputs": [],
   "source": [
    "# Define the data types as a dictionary\n",
    "dtypes = {\n",
<<<<<<< HEAD
    "    'action_taken': 'int32',\n",
    "    'loan_type': 'int32',\n",
    "    'lien_status': 'int32',\n",
=======
    "    'census_tract': 'float32',\n",
    "    'action_taken': 'int32',\n",
    "    'loan_type': 'int32',\n",
    "    'lien_status': 'int32',\n",
    "    'reverse_mortgage': 'int32',\n",
>>>>>>> rianna
    "    'open_end_line_of_credit': 'int32',\n",
    "    'loan_amount': 'int32',\n",
    "    'combined_loan_to_value_ratio': 'int32',\n",
    "    'interest_rate': 'float32',\n",
<<<<<<< HEAD
    "    'total_loan_costs': 'float32',\n",
    "    'origination_charges': 'float32',\n",
    "    'loan_term': 'float32',\n",
=======
    "    'total_loan_costs': 'int32',\n",
    "    'origination_charges': 'int32',\n",
    "    'loan_term': 'int32',\n",
>>>>>>> rianna
    "    'negative_amortization': 'int32',\n",
    "    'interest_only_payment': 'int32',\n",
    "    'balloon_payment': 'int32',\n",
    "    'other_nonamortizing_features': 'int32',\n",
    "    'property_value': 'float32',\n",
    "    'occupancy_type': 'int32',\n",
    "    'manufactured_home_secured_property_type': 'int32',\n",
    "    'manufactured_home_land_property_interest': 'int32',\n",
    "    'total_units': 'int32',\n",
    "    'income': 'float32',\n",
<<<<<<< HEAD
    "    'debt_to_income_ratio': 'float32',\n",
    "    'applicant_credit_score_type': 'int32',\n",
    "    'co_applicant_credit_score_type': 'int32',\n",
    "    'applicant_ethnicity_1': 'float32',\n",
    "    'co_applicant_ethnicity_1': 'float32',\n",
    "    'applicant_race_1': 'float32',\n",
    "    'applicant_race_2': 'float32',\n",
    "    'co_applicant_race_1': 'float32',\n",
    "    'co_applicant_race_2': 'float32',\n",
=======
    "    'debt_to_income_ratio': 'int32',\n",
    "    'applicant_credit_score_type': 'int32',\n",
    "    'co_applicant_credit_score_type': 'int32',\n",
>>>>>>> rianna
    "    'applicant_sex': 'int32',\n",
    "    'co_applicant_sex': 'int32',\n",
    "    'applicant_age': 'int32',\n",
    "    'co_applicant_age': 'int32',\n",
<<<<<<< HEAD
=======
    "    'aus_1': 'int32',\n",
    "    'applicant_race_1': 'float32',\n",
    "    'applicant_race_2': 'float32',\n",
    "    'co_applicant_race_1': 'float32',\n",
    "    'co_applicant_race_2': 'float32',\n",
    "    'applicant_ethnicity_1': 'float32',\n",
    "    'co_applicant_ethnicity_1': 'float32'\n",
>>>>>>> rianna
    "}"
   ]
  },
  {
   "cell_type": "code",
<<<<<<< HEAD
   "execution_count": 3,
=======
   "execution_count": 2,
>>>>>>> rianna
   "id": "c2a59209-78cf-4057-853f-b81f2fd701a6",
   "metadata": {
    "tags": []
   },
   "outputs": [],
   "source": [
    "# Read the CSV file with specified data types\n",
<<<<<<< HEAD
    "df = pd.read_csv('10_all_numerical_32bit.csv', dtype=dtypes, low_memory=False)\n",
    "\n",
    "# Drop the column you want to exclude\n",
    "column_to_exclude = 'reverse_mortgage'\n",
    "if column_to_exclude in df:\n",
    "    df.drop(column_to_exclude, axis=1, inplace=True)\n",
    "\n",
    "# Convert the data types of the remaining columns as needed\n",
    "df = df.astype(dtypes)"
=======
    "df = pd.read_csv('10_all_numerical_32bit.csv', dtype=dtypes, low_memory=False)"
>>>>>>> rianna
   ]
  },
  {
   "cell_type": "code",
<<<<<<< HEAD
   "execution_count": 4,
=======
   "execution_count": 3,
>>>>>>> rianna
   "id": "8cc5244b-35d6-4fe1-89a8-246bc1d67113",
   "metadata": {
    "tags": []
   },
   "outputs": [
    {
     "name": "stdout",
     "output_type": "stream",
     "text": [
      "<class 'pandas.core.frame.DataFrame'>\n",
<<<<<<< HEAD
      "RangeIndex: 54832 entries, 0 to 54831\n",
      "Data columns (total 33 columns):\n",
      " #   Column                                    Non-Null Count  Dtype  \n",
      "---  ------                                    --------------  -----  \n",
      " 0   action_taken                              54832 non-null  int32  \n",
      " 1   loan_type                                 54832 non-null  int32  \n",
      " 2   lien_status                               54832 non-null  int32  \n",
      " 3   open_end_line_of_credit                   54832 non-null  int32  \n",
      " 4   loan_amount                               54832 non-null  int32  \n",
      " 5   combined_loan_to_value_ratio              54832 non-null  int32  \n",
      " 6   interest_rate                             54832 non-null  float32\n",
      " 7   total_loan_costs                          54832 non-null  float32\n",
      " 8   origination_charges                       54832 non-null  float32\n",
      " 9   loan_term                                 54832 non-null  float32\n",
      " 10  negative_amortization                     54832 non-null  int32  \n",
      " 11  interest_only_payment                     54832 non-null  int32  \n",
      " 12  balloon_payment                           54832 non-null  int32  \n",
      " 13  other_nonamortizing_features              54832 non-null  int32  \n",
      " 14  property_value                            54832 non-null  float32\n",
      " 15  occupancy_type                            54832 non-null  int32  \n",
      " 16  manufactured_home_secured_property_type   54832 non-null  int32  \n",
      " 17  manufactured_home_land_property_interest  54832 non-null  int32  \n",
      " 18  total_units                               54832 non-null  int32  \n",
      " 19  income                                    54832 non-null  float32\n",
      " 20  debt_to_income_ratio                      54832 non-null  float32\n",
      " 21  applicant_credit_score_type               54832 non-null  int32  \n",
      " 22  co_applicant_credit_score_type            54832 non-null  int32  \n",
      " 23  applicant_ethnicity_1                     54832 non-null  float32\n",
      " 24  co_applicant_ethnicity_1                  54832 non-null  float32\n",
      " 25  applicant_race_1                          54832 non-null  float32\n",
      " 26  applicant_race_2                          54832 non-null  float32\n",
      " 27  co_applicant_race_1                       54832 non-null  float32\n",
      " 28  co_applicant_race_2                       54832 non-null  float32\n",
      " 29  applicant_sex                             54832 non-null  int32  \n",
      " 30  co_applicant_sex                          54832 non-null  int32  \n",
      " 31  applicant_age                             54832 non-null  int32  \n",
      " 32  co_applicant_age                          54832 non-null  int32  \n",
      "dtypes: float32(13), int32(20)\n",
      "memory usage: 6.9 MB\n"
=======
      "RangeIndex: 155766 entries, 0 to 155765\n",
      "Data columns (total 36 columns):\n",
      " #   Column                                    Non-Null Count   Dtype  \n",
      "---  ------                                    --------------   -----  \n",
      " 0   census_tract                              155680 non-null  float64\n",
      " 1   action_taken                              155766 non-null  int64  \n",
      " 2   loan_type                                 155766 non-null  int64  \n",
      " 3   lien_status                               155766 non-null  int64  \n",
      " 4   reverse_mortgage                          155766 non-null  int64  \n",
      " 5   open_end_line_of_credit                   155766 non-null  int64  \n",
      " 6   loan_amount                               155766 non-null  int64  \n",
      " 7   combined_loan_to_value_ratio              154641 non-null  float64\n",
      " 8   interest_rate                             77802 non-null   float64\n",
      " 9   total_loan_costs                          77806 non-null   float64\n",
      " 10  origination_charges                       77806 non-null   float64\n",
      " 11  loan_term                                 155758 non-null  float64\n",
      " 12  negative_amortization                     155766 non-null  int64  \n",
      " 13  interest_only_payment                     155766 non-null  int64  \n",
      " 14  balloon_payment                           155766 non-null  int64  \n",
      " 15  other_nonamortizing_features              155766 non-null  int64  \n",
      " 16  property_value                            155635 non-null  float64\n",
      " 17  occupancy_type                            155766 non-null  int64  \n",
      " 18  manufactured_home_secured_property_type   155766 non-null  int64  \n",
      " 19  manufactured_home_land_property_interest  155766 non-null  int64  \n",
      " 20  total_units                               155766 non-null  int64  \n",
      " 21  income                                    150439 non-null  float64\n",
      " 22  debt_to_income_ratio                      153967 non-null  float64\n",
      " 23  applicant_credit_score_type               155766 non-null  int64  \n",
      " 24  co_applicant_credit_score_type            155766 non-null  int64  \n",
      " 25  applicant_sex                             155766 non-null  int64  \n",
      " 26  co_applicant_sex                          155766 non-null  int64  \n",
      " 27  applicant_age                             155766 non-null  int64  \n",
      " 28  co_applicant_age                          155766 non-null  int64  \n",
      " 29  aus_1                                     155766 non-null  int64  \n",
      " 30  applicant_race_1                          126230 non-null  float64\n",
      " 31  applicant_race_2                          1545 non-null    float64\n",
      " 32  co_applicant_race_1                       56025 non-null   float64\n",
      " 33  co_applicant_race_2                       473 non-null     float64\n",
      " 34  applicant_ethnicity_1                     141331 non-null  float64\n",
      " 35  co_applicant_ethnicity_1                  63517 non-null   float64\n",
      "dtypes: float64(15), int64(21)\n",
      "memory usage: 42.8 MB\n"
>>>>>>> rianna
     ]
    }
   ],
   "source": [
    "df.info()"
   ]
  },
  {
   "cell_type": "code",
<<<<<<< HEAD
   "execution_count": 5,
=======
   "execution_count": 4,
>>>>>>> rianna
   "id": "b0f1fbb7-b549-4b4a-b386-e8e0da786044",
   "metadata": {
    "tags": []
   },
   "outputs": [
    {
     "data": {
      "text/html": [
       "<div>\n",
       "<style scoped>\n",
       "    .dataframe tbody tr th:only-of-type {\n",
       "        vertical-align: middle;\n",
       "    }\n",
       "\n",
       "    .dataframe tbody tr th {\n",
       "        vertical-align: top;\n",
       "    }\n",
       "\n",
       "    .dataframe thead th {\n",
       "        text-align: right;\n",
       "    }\n",
       "</style>\n",
       "<table border=\"1\" class=\"dataframe\">\n",
       "  <thead>\n",
       "    <tr style=\"text-align: right;\">\n",
       "      <th></th>\n",
<<<<<<< HEAD
       "      <th>action_taken</th>\n",
       "      <th>loan_type</th>\n",
       "      <th>lien_status</th>\n",
=======
       "      <th>census_tract</th>\n",
       "      <th>action_taken</th>\n",
       "      <th>loan_type</th>\n",
       "      <th>lien_status</th>\n",
       "      <th>reverse_mortgage</th>\n",
>>>>>>> rianna
       "      <th>open_end_line_of_credit</th>\n",
       "      <th>loan_amount</th>\n",
       "      <th>combined_loan_to_value_ratio</th>\n",
       "      <th>interest_rate</th>\n",
       "      <th>total_loan_costs</th>\n",
<<<<<<< HEAD
       "      <th>origination_charges</th>\n",
       "      <th>loan_term</th>\n",
       "      <th>...</th>\n",
       "      <th>applicant_ethnicity_1</th>\n",
       "      <th>co_applicant_ethnicity_1</th>\n",
=======
       "      <th>...</th>\n",
       "      <th>co_applicant_sex</th>\n",
       "      <th>applicant_age</th>\n",
       "      <th>co_applicant_age</th>\n",
       "      <th>aus_1</th>\n",
>>>>>>> rianna
       "      <th>applicant_race_1</th>\n",
       "      <th>applicant_race_2</th>\n",
       "      <th>co_applicant_race_1</th>\n",
       "      <th>co_applicant_race_2</th>\n",
<<<<<<< HEAD
       "      <th>applicant_sex</th>\n",
       "      <th>co_applicant_sex</th>\n",
       "      <th>applicant_age</th>\n",
       "      <th>co_applicant_age</th>\n",
=======
       "      <th>applicant_ethnicity_1</th>\n",
       "      <th>co_applicant_ethnicity_1</th>\n",
>>>>>>> rianna
       "    </tr>\n",
       "  </thead>\n",
       "  <tbody>\n",
       "    <tr>\n",
       "      <th>0</th>\n",
<<<<<<< HEAD
       "      <td>3</td>\n",
       "      <td>3</td>\n",
       "      <td>1</td>\n",
       "      <td>2</td>\n",
       "      <td>205000</td>\n",
       "      <td>16</td>\n",
       "      <td>5.0</td>\n",
       "      <td>7.0</td>\n",
       "      <td>1.0</td>\n",
       "      <td>6.0</td>\n",
       "      <td>...</td>\n",
       "      <td>2.0</td>\n",
       "      <td>2.0</td>\n",
       "      <td>5.0</td>\n",
       "      <td>5.0</td>\n",
       "      <td>5.0</td>\n",
       "      <td>5.0</td>\n",
       "      <td>1</td>\n",
       "      <td>2</td>\n",
       "      <td>7</td>\n",
       "      <td>4</td>\n",
       "    </tr>\n",
       "    <tr>\n",
       "      <th>1</th>\n",
       "      <td>3</td>\n",
       "      <td>2</td>\n",
       "      <td>1</td>\n",
       "      <td>2</td>\n",
       "      <td>155000</td>\n",
       "      <td>7</td>\n",
       "      <td>5.0</td>\n",
       "      <td>7.0</td>\n",
       "      <td>1.0</td>\n",
       "      <td>6.0</td>\n",
       "      <td>...</td>\n",
       "      <td>2.0</td>\n",
       "      <td>2.0</td>\n",
       "      <td>5.0</td>\n",
       "      <td>5.0</td>\n",
       "      <td>5.0</td>\n",
       "      <td>5.0</td>\n",
       "      <td>2</td>\n",
       "      <td>1</td>\n",
       "      <td>3</td>\n",
       "      <td>3</td>\n",
       "    </tr>\n",
       "    <tr>\n",
       "      <th>2</th>\n",
       "      <td>3</td>\n",
       "      <td>2</td>\n",
       "      <td>1</td>\n",
       "      <td>2</td>\n",
       "      <td>125000</td>\n",
       "      <td>8</td>\n",
       "      <td>5.0</td>\n",
       "      <td>7.0</td>\n",
       "      <td>1.0</td>\n",
       "      <td>6.0</td>\n",
       "      <td>...</td>\n",
       "      <td>2.0</td>\n",
       "      <td>2.0</td>\n",
       "      <td>5.0</td>\n",
       "      <td>5.0</td>\n",
       "      <td>5.0</td>\n",
       "      <td>5.0</td>\n",
       "      <td>1</td>\n",
       "      <td>2</td>\n",
       "      <td>4</td>\n",
       "      <td>3</td>\n",
       "    </tr>\n",
       "    <tr>\n",
       "      <th>3</th>\n",
       "      <td>3</td>\n",
       "      <td>2</td>\n",
       "      <td>1</td>\n",
       "      <td>2</td>\n",
       "      <td>55000</td>\n",
       "      <td>7</td>\n",
       "      <td>5.0</td>\n",
       "      <td>7.0</td>\n",
       "      <td>1.0</td>\n",
       "      <td>6.0</td>\n",
       "      <td>...</td>\n",
       "      <td>2.0</td>\n",
       "      <td>2.0</td>\n",
       "      <td>3.0</td>\n",
       "      <td>5.0</td>\n",
       "      <td>3.0</td>\n",
       "      <td>5.0</td>\n",
       "      <td>1</td>\n",
       "      <td>2</td>\n",
       "      <td>2</td>\n",
       "      <td>2</td>\n",
       "    </tr>\n",
       "    <tr>\n",
       "      <th>4</th>\n",
=======
       "      <td>9.003416e+09</td>\n",
       "      <td>3</td>\n",
       "      <td>2</td>\n",
       "      <td>1</td>\n",
       "      <td>2</td>\n",
       "      <td>2</td>\n",
       "      <td>115000</td>\n",
       "      <td>98.188</td>\n",
       "      <td>NaN</td>\n",
       "      <td>NaN</td>\n",
       "      <td>...</td>\n",
       "      <td>5</td>\n",
       "      <td>1</td>\n",
       "      <td>6</td>\n",
       "      <td>1</td>\n",
       "      <td>3.0</td>\n",
       "      <td>NaN</td>\n",
       "      <td>NaN</td>\n",
       "      <td>NaN</td>\n",
       "      <td>2.0</td>\n",
       "      <td>NaN</td>\n",
       "    </tr>\n",
       "    <tr>\n",
       "      <th>1</th>\n",
       "      <td>4.201710e+10</td>\n",
       "      <td>3</td>\n",
       "      <td>3</td>\n",
       "      <td>1</td>\n",
       "      <td>2</td>\n",
       "      <td>2</td>\n",
       "      <td>205000</td>\n",
       "      <td>110.256</td>\n",
       "      <td>NaN</td>\n",
       "      <td>NaN</td>\n",
       "      <td>...</td>\n",
       "      <td>2</td>\n",
       "      <td>7</td>\n",
       "      <td>4</td>\n",
       "      <td>1</td>\n",
       "      <td>5.0</td>\n",
       "      <td>NaN</td>\n",
       "      <td>5.0</td>\n",
       "      <td>NaN</td>\n",
       "      <td>2.0</td>\n",
       "      <td>2.0</td>\n",
       "    </tr>\n",
       "    <tr>\n",
       "      <th>2</th>\n",
       "      <td>3.401700e+10</td>\n",
       "      <td>3</td>\n",
       "      <td>1</td>\n",
       "      <td>1</td>\n",
       "      <td>2</td>\n",
       "      <td>2</td>\n",
       "      <td>205000</td>\n",
       "      <td>59.629</td>\n",
       "      <td>NaN</td>\n",
       "      <td>NaN</td>\n",
       "      <td>...</td>\n",
       "      <td>5</td>\n",
       "      <td>1</td>\n",
       "      <td>6</td>\n",
       "      <td>1</td>\n",
       "      <td>3.0</td>\n",
       "      <td>NaN</td>\n",
       "      <td>NaN</td>\n",
       "      <td>NaN</td>\n",
       "      <td>2.0</td>\n",
       "      <td>NaN</td>\n",
       "    </tr>\n",
       "    <tr>\n",
       "      <th>3</th>\n",
       "      <td>6.065043e+09</td>\n",
       "      <td>3</td>\n",
       "      <td>1</td>\n",
       "      <td>1</td>\n",
       "      <td>2</td>\n",
       "      <td>2</td>\n",
       "      <td>155000</td>\n",
       "      <td>64.990</td>\n",
       "      <td>NaN</td>\n",
       "      <td>NaN</td>\n",
       "      <td>...</td>\n",
       "      <td>5</td>\n",
       "      <td>4</td>\n",
       "      <td>6</td>\n",
       "      <td>1</td>\n",
       "      <td>5.0</td>\n",
       "      <td>NaN</td>\n",
       "      <td>NaN</td>\n",
       "      <td>NaN</td>\n",
       "      <td>2.0</td>\n",
       "      <td>NaN</td>\n",
       "    </tr>\n",
       "    <tr>\n",
       "      <th>4</th>\n",
       "      <td>3.711901e+10</td>\n",
>>>>>>> rianna
       "      <td>3</td>\n",
       "      <td>1</td>\n",
       "      <td>1</td>\n",
       "      <td>2</td>\n",
<<<<<<< HEAD
       "      <td>345000</td>\n",
       "      <td>1</td>\n",
       "      <td>5.0</td>\n",
       "      <td>7.0</td>\n",
       "      <td>1.0</td>\n",
       "      <td>3.0</td>\n",
       "      <td>...</td>\n",
       "      <td>2.0</td>\n",
       "      <td>2.0</td>\n",
       "      <td>5.0</td>\n",
       "      <td>5.0</td>\n",
       "      <td>5.0</td>\n",
       "      <td>5.0</td>\n",
       "      <td>1</td>\n",
       "      <td>2</td>\n",
       "      <td>2</td>\n",
       "      <td>2</td>\n",
       "    </tr>\n",
       "  </tbody>\n",
       "</table>\n",
       "<p>5 rows × 33 columns</p>\n",
       "</div>"
      ],
      "text/plain": [
       "   action_taken  loan_type  lien_status  open_end_line_of_credit  loan_amount  \\\n",
       "0             3          3            1                        2       205000   \n",
       "1             3          2            1                        2       155000   \n",
       "2             3          2            1                        2       125000   \n",
       "3             3          2            1                        2        55000   \n",
       "4             3          1            1                        2       345000   \n",
       "\n",
       "   combined_loan_to_value_ratio  interest_rate  total_loan_costs  \\\n",
       "0                            16            5.0               7.0   \n",
       "1                             7            5.0               7.0   \n",
       "2                             8            5.0               7.0   \n",
       "3                             7            5.0               7.0   \n",
       "4                             1            5.0               7.0   \n",
       "\n",
       "   origination_charges  loan_term  ...  applicant_ethnicity_1  \\\n",
       "0                  1.0        6.0  ...                    2.0   \n",
       "1                  1.0        6.0  ...                    2.0   \n",
       "2                  1.0        6.0  ...                    2.0   \n",
       "3                  1.0        6.0  ...                    2.0   \n",
       "4                  1.0        3.0  ...                    2.0   \n",
       "\n",
       "   co_applicant_ethnicity_1  applicant_race_1  applicant_race_2  \\\n",
       "0                       2.0               5.0               5.0   \n",
       "1                       2.0               5.0               5.0   \n",
       "2                       2.0               5.0               5.0   \n",
       "3                       2.0               3.0               5.0   \n",
       "4                       2.0               5.0               5.0   \n",
       "\n",
       "   co_applicant_race_1  co_applicant_race_2  applicant_sex  co_applicant_sex  \\\n",
       "0                  5.0                  5.0              1                 2   \n",
       "1                  5.0                  5.0              2                 1   \n",
       "2                  5.0                  5.0              1                 2   \n",
       "3                  3.0                  5.0              1                 2   \n",
       "4                  5.0                  5.0              1                 2   \n",
       "\n",
       "   applicant_age  co_applicant_age  \n",
       "0              7                 4  \n",
       "1              3                 3  \n",
       "2              4                 3  \n",
       "3              2                 2  \n",
       "4              2                 2  \n",
       "\n",
       "[5 rows x 33 columns]"
      ]
     },
     "execution_count": 5,
=======
       "      <td>2</td>\n",
       "      <td>255000</td>\n",
       "      <td>70.000</td>\n",
       "      <td>NaN</td>\n",
       "      <td>NaN</td>\n",
       "      <td>...</td>\n",
       "      <td>5</td>\n",
       "      <td>3</td>\n",
       "      <td>6</td>\n",
       "      <td>1</td>\n",
       "      <td>3.0</td>\n",
       "      <td>NaN</td>\n",
       "      <td>NaN</td>\n",
       "      <td>NaN</td>\n",
       "      <td>2.0</td>\n",
       "      <td>NaN</td>\n",
       "    </tr>\n",
       "  </tbody>\n",
       "</table>\n",
       "<p>5 rows × 36 columns</p>\n",
       "</div>"
      ],
      "text/plain": [
       "   census_tract  action_taken  loan_type  lien_status  reverse_mortgage  \\\n",
       "0  9.003416e+09             3          2            1                 2   \n",
       "1  4.201710e+10             3          3            1                 2   \n",
       "2  3.401700e+10             3          1            1                 2   \n",
       "3  6.065043e+09             3          1            1                 2   \n",
       "4  3.711901e+10             3          1            1                 2   \n",
       "\n",
       "   open_end_line_of_credit  loan_amount  combined_loan_to_value_ratio  \\\n",
       "0                        2       115000                        98.188   \n",
       "1                        2       205000                       110.256   \n",
       "2                        2       205000                        59.629   \n",
       "3                        2       155000                        64.990   \n",
       "4                        2       255000                        70.000   \n",
       "\n",
       "   interest_rate  total_loan_costs  ...  co_applicant_sex  applicant_age  \\\n",
       "0            NaN               NaN  ...                 5              1   \n",
       "1            NaN               NaN  ...                 2              7   \n",
       "2            NaN               NaN  ...                 5              1   \n",
       "3            NaN               NaN  ...                 5              4   \n",
       "4            NaN               NaN  ...                 5              3   \n",
       "\n",
       "   co_applicant_age  aus_1  applicant_race_1  applicant_race_2  \\\n",
       "0                 6      1               3.0               NaN   \n",
       "1                 4      1               5.0               NaN   \n",
       "2                 6      1               3.0               NaN   \n",
       "3                 6      1               5.0               NaN   \n",
       "4                 6      1               3.0               NaN   \n",
       "\n",
       "   co_applicant_race_1  co_applicant_race_2  applicant_ethnicity_1  \\\n",
       "0                  NaN                  NaN                    2.0   \n",
       "1                  5.0                  NaN                    2.0   \n",
       "2                  NaN                  NaN                    2.0   \n",
       "3                  NaN                  NaN                    2.0   \n",
       "4                  NaN                  NaN                    2.0   \n",
       "\n",
       "   co_applicant_ethnicity_1  \n",
       "0                       NaN  \n",
       "1                       2.0  \n",
       "2                       NaN  \n",
       "3                       NaN  \n",
       "4                       NaN  \n",
       "\n",
       "[5 rows x 36 columns]"
      ]
     },
     "execution_count": 4,
>>>>>>> rianna
     "metadata": {},
     "output_type": "execute_result"
    }
   ],
   "source": [
    "df.head()"
   ]
  },
  {
   "cell_type": "code",
<<<<<<< HEAD
   "execution_count": 6,
=======
   "execution_count": 9,
>>>>>>> rianna
   "id": "95af00c4-f865-478f-9072-fdfa9afef4b4",
   "metadata": {
    "tags": []
   },
   "outputs": [],
   "source": [
    "target_variable = \"action_taken\""
   ]
  },
  {
   "cell_type": "code",
<<<<<<< HEAD
   "execution_count": 7,
=======
   "execution_count": 10,
>>>>>>> rianna
   "id": "ab973836-0960-4153-b3d7-3f07537b189a",
   "metadata": {
    "tags": []
   },
   "outputs": [],
   "source": [
    "X = df.drop(columns=[target_variable])\n",
    "y = df[target_variable]"
   ]
  },
  {
   "cell_type": "code",
<<<<<<< HEAD
   "execution_count": 8,
=======
   "execution_count": 11,
>>>>>>> rianna
   "id": "adf25d8a-9970-44c0-b447-dc7ba4bcffd5",
   "metadata": {
    "tags": []
   },
   "outputs": [
    {
     "name": "stdout",
     "output_type": "stream",
     "text": [
<<<<<<< HEAD
      "(54832, 32) (54832,)\n"
=======
      "(155766, 35) (155766,)\n"
>>>>>>> rianna
     ]
    }
   ],
   "source": [
    "print(X.shape, y.shape)"
   ]
  },
  {
   "cell_type": "code",
<<<<<<< HEAD
   "execution_count": 9,
=======
   "execution_count": 12,
>>>>>>> rianna
   "id": "1a84fa8b-a9e7-475c-b6c8-75e46f9208ce",
   "metadata": {
    "tags": []
   },
   "outputs": [],
   "source": [
    "seed = 123"
   ]
  },
  {
   "cell_type": "code",
<<<<<<< HEAD
   "execution_count": 10,
=======
   "execution_count": 13,
>>>>>>> rianna
   "id": "ac8a339a-a6ca-42fd-95af-95ff44bcd0bc",
   "metadata": {},
   "outputs": [
    {
     "name": "stdout",
     "output_type": "stream",
     "text": [
<<<<<<< HEAD
      "Mean accuracy: 0.570 (0.001)\n"
=======
      "Mean accuracy: 0.503 (0.011)\n"
>>>>>>> rianna
     ]
    }
   ],
   "source": [
    "model = LogisticRegression(multi_class = 'multinomial', solver = 'lbfgs')\n",
    "cv = RepeatedStratifiedKFold(n_splits = 6, n_repeats = 3, random_state=seed)\n",
    "n_scores = cross_val_score(model, X, y, scoring = 'accuracy', cv=cv)\n",
    "\n",
    "print('Mean accuracy: %.3f (%.3f)' % (mean(n_scores), std(n_scores)))\n",
    "\n",
    "model.fit(X, y)\n",
    "\n",
    "y_pred = model.predict(X)"
   ]
  },
  {
   "cell_type": "code",
<<<<<<< HEAD
   "execution_count": 11,
=======
   "execution_count": 14,
>>>>>>> rianna
   "id": "dd02cee3-8f6c-47c5-9ce4-350f7bbb67b7",
   "metadata": {},
   "outputs": [
    {
     "name": "stdout",
     "output_type": "stream",
     "text": [
      "              precision    recall  f1-score   support\n",
      "\n",
<<<<<<< HEAD
      "           1       0.57      0.99      0.72     31034\n",
      "           3       0.62      0.02      0.05     23798\n",
      "\n",
      "    accuracy                           0.57     54832\n",
      "   macro avg       0.59      0.51      0.38     54832\n",
      "weighted avg       0.59      0.57      0.43     54832\n",
=======
      "           1       0.00      0.00      0.00     77806\n",
      "           3       0.50      1.00      0.67     77960\n",
      "\n",
      "    accuracy                           0.50    155766\n",
      "   macro avg       0.25      0.50      0.33    155766\n",
      "weighted avg       0.25      0.50      0.33    155766\n",
>>>>>>> rianna
      "\n"
     ]
    }
   ],
   "source": [
    "accuracy = accuracy_score(y, y_pred)\n",
    "\n",
    "print(classification_report(y, y_pred, zero_division=0))"
   ]
  },
  {
   "cell_type": "markdown",
   "id": "d2cdf36e-3df5-4ac9-90ae-100920e0c8c9",
   "metadata": {},
   "source": [
    "- for _class 1, precision is 0.80_, which means that _80%_ of the predictions for class 1 were correct, \n",
    "- and for _class 3, it's 0.00_, which means that _none_ of the predictions for class 3 were correct."
   ]
  },
  {
   "cell_type": "code",
<<<<<<< HEAD
   "execution_count": 12,
=======
   "execution_count": 15,
>>>>>>> rianna
   "id": "5356f047-8511-40b8-9c48-bebe2cc7cc6f",
   "metadata": {
    "tags": []
   },
   "outputs": [
    {
     "data": {
<<<<<<< HEAD
      "image/png": "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",
=======
      "image/png": "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",
>>>>>>> rianna
      "text/plain": [
       "<Figure size 640x480 with 2 Axes>"
      ]
     },
     "metadata": {},
     "output_type": "display_data"
    }
   ],
   "source": [
    "cm = confusion_matrix(y, y_pred)\n",
    "sns.heatmap(cm, annot=True, fmt='d')\n",
    "plt.xlabel('Predicted')\n",
    "plt.ylabel('True')\n",
    "plt.title('Confusion Matrix')\n",
    "plt.show()"
   ]
  },
  {
   "cell_type": "markdown",
   "id": "0dd5fc75-8a7a-4251-82c1-f0ed6d45bc53",
   "metadata": {},
   "source": [
    "# Conclusion\n",
    "\n",
<<<<<<< HEAD
    "The model is ok. a lot of errors. "
=======
    "The model cant predict class 3!"
>>>>>>> rianna
   ]
  },
  {
   "cell_type": "code",
   "execution_count": null,
   "id": "c974e0a1-9aac-4e7d-add8-c1dc750b96e8",
   "metadata": {},
   "outputs": [],
   "source": []
  }
 ],
 "metadata": {
  "kernelspec": {
   "display_name": "Python 3 (ipykernel)",
   "language": "python",
   "name": "python3"
  },
  "language_info": {
   "codemirror_mode": {
    "name": "ipython",
    "version": 3
   },
   "file_extension": ".py",
   "mimetype": "text/x-python",
   "name": "python",
   "nbconvert_exporter": "python",
   "pygments_lexer": "ipython3",
   "version": "3.9.18"
  }
 },
 "nbformat": 4,
 "nbformat_minor": 5
}
