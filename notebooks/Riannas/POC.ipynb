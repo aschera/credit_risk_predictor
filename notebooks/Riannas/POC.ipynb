{
 "cells": [
  {
   "cell_type": "code",
   "execution_count": 1,
   "id": "095f3080",
   "metadata": {},
   "outputs": [],
   "source": [
    "import numpy as np\n",
    "import pandas as pd\n",
    "import matplotlib.pyplot as plt\n",
    "import matplotlib as mpl\n",
    "import seaborn as sns\n",
    "\n",
    "from sklearn.model_selection import train_test_split"
   ]
  },
  {
   "cell_type": "code",
   "execution_count": 2,
   "id": "f65ad94d",
   "metadata": {},
   "outputs": [
    {
     "name": "stderr",
     "output_type": "stream",
     "text": [
      "C:\\Users\\asche\\AppData\\Local\\Temp\\ipykernel_13084\\1910874760.py:1: DtypeWarning: Columns (19,20,21,22,23,24,25,27,32,33,34,39) have mixed types. Specify dtype option on import or set low_memory=False.\n",
      "  df = pd.read_csv('processed_dataframe4.csv')\n"
     ]
    }
   ],
   "source": [
    "df = pd.read_csv('processed_dataframe4.csv')"
   ]
  },
  {
   "cell_type": "code",
   "execution_count": 3,
   "id": "3bdc3af4",
   "metadata": {},
   "outputs": [
    {
     "name": "stdout",
     "output_type": "stream",
     "text": [
      "<class 'pandas.core.frame.DataFrame'>\n",
      "RangeIndex: 199998 entries, 0 to 199997\n",
      "Data columns (total 41 columns):\n",
      " #   Column                                    Non-Null Count   Dtype  \n",
      "---  ------                                    --------------   -----  \n",
      " 0   loan_type                                 199998 non-null  int64  \n",
      " 1   loan_amount                               199998 non-null  int64  \n",
      " 2   action_taken                              199998 non-null  int64  \n",
      " 3   occupancy_type                            199998 non-null  int64  \n",
      " 4   census_tract                              199929 non-null  float64\n",
      " 5   applicant_ethnicity_1                     199238 non-null  float64\n",
      " 6   co_applicant_ethnicity_1                  199717 non-null  float64\n",
      " 7   applicant_race_1                          199743 non-null  float64\n",
      " 8   applicant_race_2                          11514 non-null   float64\n",
      " 9   co_applicant_race_1                       199904 non-null  float64\n",
      " 10  co_applicant_race_2                       5756 non-null    float64\n",
      " 11  applicant_sex                             199998 non-null  int64  \n",
      " 12  co_applicant_sex                          199998 non-null  int64  \n",
      " 13  applicant_age                             199998 non-null  object \n",
      " 14  co_applicant_age                          199998 non-null  object \n",
      " 15  income                                    187451 non-null  float64\n",
      " 16  lien_status                               199998 non-null  int64  \n",
      " 17  applicant_credit_score_type               199998 non-null  int64  \n",
      " 18  co_applicant_credit_score_type            199998 non-null  int64  \n",
      " 19  origination_charges                       122410 non-null  object \n",
      " 20  discount_points                           29927 non-null   object \n",
      " 21  lender_credits                            63693 non-null   object \n",
      " 22  interest_rate                             125613 non-null  object \n",
      " 23  combined_loan_to_value_ratio              146118 non-null  object \n",
      " 24  loan_term                                 199727 non-null  object \n",
      " 25  property_value                            155581 non-null  object \n",
      " 26  manufactured_home_secured_property_type   199998 non-null  int64  \n",
      " 27  total_units                               199998 non-null  object \n",
      " 28  aus_1                                     199998 non-null  int64  \n",
      " 29  reverse_mortgage                          199998 non-null  int64  \n",
      " 30  open_end_line_of_credit                   199998 non-null  int64  \n",
      " 31  manufactured_home_land_property_interest  199998 non-null  int64  \n",
      " 32  total_loan_costs                          120260 non-null  object \n",
      " 33  total_points_and_fees                     307 non-null     object \n",
      " 34  prepayment_penalty_term                   308 non-null     object \n",
      " 35  negative_amortization                     199998 non-null  int64  \n",
      " 36  interest_only_payment                     199998 non-null  int64  \n",
      " 37  balloon_payment                           199998 non-null  int64  \n",
      " 38  other_nonamortizing_features              199998 non-null  int64  \n",
      " 39  multifamily_affordable_units              307 non-null     object \n",
      " 40  debt_to_income_ratio                      19061 non-null   object \n",
      "dtypes: float64(8), int64(18), object(15)\n",
      "memory usage: 62.6+ MB\n"
     ]
    }
   ],
   "source": [
    "df.info()"
   ]
  },
  {
   "cell_type": "code",
   "execution_count": 4,
   "id": "1d2a1d64",
   "metadata": {},
   "outputs": [
    {
     "ename": "ValueError",
     "evalue": "could not convert string to float: '35-44'",
     "output_type": "error",
     "traceback": [
      "\u001b[1;31m---------------------------------------------------------------------------\u001b[0m",
      "\u001b[1;31mValueError\u001b[0m                                Traceback (most recent call last)",
      "Cell \u001b[1;32mIn[4], line 1\u001b[0m\n\u001b[1;32m----> 1\u001b[0m \u001b[43mdf\u001b[49m\u001b[38;5;241;43m.\u001b[39;49m\u001b[43mcorr\u001b[49m\u001b[43m(\u001b[49m\u001b[43m)\u001b[49m\n",
      "File \u001b[1;32m~\\anaconda3\\envs\\Test\\lib\\site-packages\\pandas\\core\\frame.py:10707\u001b[0m, in \u001b[0;36mDataFrame.corr\u001b[1;34m(self, method, min_periods, numeric_only)\u001b[0m\n\u001b[0;32m  10705\u001b[0m cols \u001b[38;5;241m=\u001b[39m data\u001b[38;5;241m.\u001b[39mcolumns\n\u001b[0;32m  10706\u001b[0m idx \u001b[38;5;241m=\u001b[39m cols\u001b[38;5;241m.\u001b[39mcopy()\n\u001b[1;32m> 10707\u001b[0m mat \u001b[38;5;241m=\u001b[39m \u001b[43mdata\u001b[49m\u001b[38;5;241;43m.\u001b[39;49m\u001b[43mto_numpy\u001b[49m\u001b[43m(\u001b[49m\u001b[43mdtype\u001b[49m\u001b[38;5;241;43m=\u001b[39;49m\u001b[38;5;28;43mfloat\u001b[39;49m\u001b[43m,\u001b[49m\u001b[43m \u001b[49m\u001b[43mna_value\u001b[49m\u001b[38;5;241;43m=\u001b[39;49m\u001b[43mnp\u001b[49m\u001b[38;5;241;43m.\u001b[39;49m\u001b[43mnan\u001b[49m\u001b[43m,\u001b[49m\u001b[43m \u001b[49m\u001b[43mcopy\u001b[49m\u001b[38;5;241;43m=\u001b[39;49m\u001b[38;5;28;43;01mFalse\u001b[39;49;00m\u001b[43m)\u001b[49m\n\u001b[0;32m  10709\u001b[0m \u001b[38;5;28;01mif\u001b[39;00m method \u001b[38;5;241m==\u001b[39m \u001b[38;5;124m\"\u001b[39m\u001b[38;5;124mpearson\u001b[39m\u001b[38;5;124m\"\u001b[39m:\n\u001b[0;32m  10710\u001b[0m     correl \u001b[38;5;241m=\u001b[39m libalgos\u001b[38;5;241m.\u001b[39mnancorr(mat, minp\u001b[38;5;241m=\u001b[39mmin_periods)\n",
      "File \u001b[1;32m~\\anaconda3\\envs\\Test\\lib\\site-packages\\pandas\\core\\frame.py:1892\u001b[0m, in \u001b[0;36mDataFrame.to_numpy\u001b[1;34m(self, dtype, copy, na_value)\u001b[0m\n\u001b[0;32m   1890\u001b[0m \u001b[38;5;28;01mif\u001b[39;00m dtype \u001b[38;5;129;01mis\u001b[39;00m \u001b[38;5;129;01mnot\u001b[39;00m \u001b[38;5;28;01mNone\u001b[39;00m:\n\u001b[0;32m   1891\u001b[0m     dtype \u001b[38;5;241m=\u001b[39m np\u001b[38;5;241m.\u001b[39mdtype(dtype)\n\u001b[1;32m-> 1892\u001b[0m result \u001b[38;5;241m=\u001b[39m \u001b[38;5;28;43mself\u001b[39;49m\u001b[38;5;241;43m.\u001b[39;49m\u001b[43m_mgr\u001b[49m\u001b[38;5;241;43m.\u001b[39;49m\u001b[43mas_array\u001b[49m\u001b[43m(\u001b[49m\u001b[43mdtype\u001b[49m\u001b[38;5;241;43m=\u001b[39;49m\u001b[43mdtype\u001b[49m\u001b[43m,\u001b[49m\u001b[43m \u001b[49m\u001b[43mcopy\u001b[49m\u001b[38;5;241;43m=\u001b[39;49m\u001b[43mcopy\u001b[49m\u001b[43m,\u001b[49m\u001b[43m \u001b[49m\u001b[43mna_value\u001b[49m\u001b[38;5;241;43m=\u001b[39;49m\u001b[43mna_value\u001b[49m\u001b[43m)\u001b[49m\n\u001b[0;32m   1893\u001b[0m \u001b[38;5;28;01mif\u001b[39;00m result\u001b[38;5;241m.\u001b[39mdtype \u001b[38;5;129;01mis\u001b[39;00m \u001b[38;5;129;01mnot\u001b[39;00m dtype:\n\u001b[0;32m   1894\u001b[0m     result \u001b[38;5;241m=\u001b[39m np\u001b[38;5;241m.\u001b[39marray(result, dtype\u001b[38;5;241m=\u001b[39mdtype, copy\u001b[38;5;241m=\u001b[39m\u001b[38;5;28;01mFalse\u001b[39;00m)\n",
      "File \u001b[1;32m~\\anaconda3\\envs\\Test\\lib\\site-packages\\pandas\\core\\internals\\managers.py:1656\u001b[0m, in \u001b[0;36mBlockManager.as_array\u001b[1;34m(self, dtype, copy, na_value)\u001b[0m\n\u001b[0;32m   1654\u001b[0m         arr\u001b[38;5;241m.\u001b[39mflags\u001b[38;5;241m.\u001b[39mwriteable \u001b[38;5;241m=\u001b[39m \u001b[38;5;28;01mFalse\u001b[39;00m\n\u001b[0;32m   1655\u001b[0m \u001b[38;5;28;01melse\u001b[39;00m:\n\u001b[1;32m-> 1656\u001b[0m     arr \u001b[38;5;241m=\u001b[39m \u001b[38;5;28;43mself\u001b[39;49m\u001b[38;5;241;43m.\u001b[39;49m\u001b[43m_interleave\u001b[49m\u001b[43m(\u001b[49m\u001b[43mdtype\u001b[49m\u001b[38;5;241;43m=\u001b[39;49m\u001b[43mdtype\u001b[49m\u001b[43m,\u001b[49m\u001b[43m \u001b[49m\u001b[43mna_value\u001b[49m\u001b[38;5;241;43m=\u001b[39;49m\u001b[43mna_value\u001b[49m\u001b[43m)\u001b[49m\n\u001b[0;32m   1657\u001b[0m     \u001b[38;5;66;03m# The underlying data was copied within _interleave, so no need\u001b[39;00m\n\u001b[0;32m   1658\u001b[0m     \u001b[38;5;66;03m# to further copy if copy=True or setting na_value\u001b[39;00m\n\u001b[0;32m   1660\u001b[0m \u001b[38;5;28;01mif\u001b[39;00m na_value \u001b[38;5;129;01mis\u001b[39;00m lib\u001b[38;5;241m.\u001b[39mno_default:\n",
      "File \u001b[1;32m~\\anaconda3\\envs\\Test\\lib\\site-packages\\pandas\\core\\internals\\managers.py:1715\u001b[0m, in \u001b[0;36mBlockManager._interleave\u001b[1;34m(self, dtype, na_value)\u001b[0m\n\u001b[0;32m   1713\u001b[0m     \u001b[38;5;28;01melse\u001b[39;00m:\n\u001b[0;32m   1714\u001b[0m         arr \u001b[38;5;241m=\u001b[39m blk\u001b[38;5;241m.\u001b[39mget_values(dtype)\n\u001b[1;32m-> 1715\u001b[0m     result[rl\u001b[38;5;241m.\u001b[39mindexer] \u001b[38;5;241m=\u001b[39m arr\n\u001b[0;32m   1716\u001b[0m     itemmask[rl\u001b[38;5;241m.\u001b[39mindexer] \u001b[38;5;241m=\u001b[39m \u001b[38;5;241m1\u001b[39m\n\u001b[0;32m   1718\u001b[0m \u001b[38;5;28;01mif\u001b[39;00m \u001b[38;5;129;01mnot\u001b[39;00m itemmask\u001b[38;5;241m.\u001b[39mall():\n",
      "\u001b[1;31mValueError\u001b[0m: could not convert string to float: '35-44'"
     ]
    }
   ],
   "source": [
    "df.corr()"
   ]
  },
  {
   "cell_type": "code",
   "execution_count": null,
   "id": "43796a10",
   "metadata": {},
   "outputs": [],
   "source": [
    "df_test = df.copy()"
   ]
  },
  {
   "cell_type": "code",
   "execution_count": null,
   "id": "6b777c1b",
   "metadata": {},
   "outputs": [],
   "source": [
    "columns_to_drop = ['reverse_mortgage', 'open_end_line_of_credit', 'total_points_and_fees', 'prepayment_penalty_term', 'negative_amortization', 'balloon_payment', 'other_nonamortizing_features', 'multifamily_affordable_units']\n",
    "df_test = df_test.drop(columns=columns_to_drop)"
   ]
  },
  {
   "cell_type": "code",
   "execution_count": null,
   "id": "56e8d55e",
   "metadata": {},
   "outputs": [],
   "source": [
    "correlation_matrix = df_test.corr()"
   ]
  },
  {
   "cell_type": "code",
   "execution_count": null,
   "id": "a9af4614",
   "metadata": {},
   "outputs": [],
   "source": [
    "correlation_matrix"
   ]
  },
  {
   "cell_type": "code",
   "execution_count": null,
   "id": "6cddc535",
   "metadata": {},
   "outputs": [],
   "source": [
    "plt.matshow(correlation_matrix)\n",
    "plt.show()"
   ]
  },
  {
   "cell_type": "code",
   "execution_count": null,
   "id": "927ff909",
   "metadata": {},
   "outputs": [],
   "source": [
    "correlation_with_target = correlation_matrix['action_taken'].drop('action_taken')"
   ]
  },
  {
   "cell_type": "code",
   "execution_count": null,
   "id": "450791d6",
   "metadata": {},
   "outputs": [],
   "source": [
    "correlation_with_target"
   ]
  },
  {
   "cell_type": "code",
   "execution_count": null,
   "id": "cde32081",
   "metadata": {},
   "outputs": [],
   "source": [
    "from itertools import cycle  \n",
    "import matplotlib.pyplot as plt\n",
    "\n",
    "plt.figure(figsize=(12, 8))\n",
    "color_cycle = cycle(plt.rcParams['axes.prop_cycle'].by_key()['color'])\n",
    "bar_width = 0.5 \n",
    "\n",
    "for i, (feature, correlation) in enumerate(correlation_with_target.items()):\n",
    "    color = next(color_cycle)\n",
    "    plt.bar(i, correlation, width=bar_width, color=color, label=feature)\n",
    "\n",
    "# Add x ticks and labels\n",
    "plt.xticks(range(len(correlation_with_target)), correlation_with_target.index)\n",
    "\n",
    "plt.xlabel('Features')\n",
    "plt.ylabel('Correlation with Target')\n",
    "plt.title('Correlation with Target for Different Features')\n",
    "plt.legend(loc='center left', bbox_to_anchor=(1, 0.5), title='Features')\n",
    "\n",
    "plt.tight_layout()\n",
    "plt.show()"
   ]
  },
  {
   "cell_type": "code",
   "execution_count": null,
   "id": "fa717fe5",
   "metadata": {},
   "outputs": [],
   "source": [
    "from numpy import mean\n",
    "from numpy import std\n",
    "from sklearn.datasets import make_classification\n",
    "from sklearn.model_selection import cross_val_score\n",
    "from sklearn.model_selection import RepeatedStratifiedKFold\n",
    "from sklearn.linear_model import LogisticRegression\n",
    "\n",
    "from sklearn.metrics import accuracy_score, classification_report, confusion_matrix"
   ]
  },
  {
   "cell_type": "code",
   "execution_count": null,
   "id": "0827efe6-4193-4db0-8346-6428a818f15f",
   "metadata": {
    "tags": []
   },
   "outputs": [],
   "source": [
    "# Check for missing values in each column\n",
    "missing_values = df_test.isnull().sum()\n",
    "\n",
    "# Display columns with missing values\n",
    "columns_with_missing_values = missing_values[missing_values > 0]\n",
    "print(\"Columns with missing values:\")\n",
    "print(columns_with_missing_values)"
   ]
  },
  {
   "cell_type": "code",
   "execution_count": null,
   "id": "03418df5",
   "metadata": {},
   "outputs": [],
   "source": [
    "target_variable = \"action_taken\""
   ]
  },
  {
   "cell_type": "code",
   "execution_count": null,
   "id": "fb9a94b4",
   "metadata": {},
   "outputs": [],
   "source": [
    "X = df_test.drop(columns=[target_variable])\n",
    "y = df_test[target_variable]"
   ]
  },
  {
   "cell_type": "code",
   "execution_count": null,
   "id": "3522186f",
   "metadata": {},
   "outputs": [],
   "source": [
    "print(X.shape, y.shape)"
   ]
  },
  {
   "cell_type": "code",
   "execution_count": null,
   "id": "51bfa54a",
   "metadata": {},
   "outputs": [],
   "source": [
    "seed = 123"
   ]
  },
  {
   "cell_type": "code",
   "execution_count": null,
   "id": "433bb776",
   "metadata": {
    "tags": []
   },
   "outputs": [],
   "source": [
    "# 1- loan originated\n",
    "# 2- application approved but not accepted\n",
    "# 3- application denied\n",
    "# 4 - application withdrawn by applicant\n",
    "# 5 - file closed for incompleteness\n",
    "# 6 - purchased loan\n",
    "# 7 - Pre-approval request denied\n",
    "# 8 - pre-approval request approved but not accepted\n",
    "\n",
    "y.value_counts()"
   ]
  },
  {
   "cell_type": "code",
   "execution_count": null,
   "id": "2cc0ded4",
   "metadata": {},
   "outputs": [],
   "source": [
    "model = LogisticRegression(multi_class = 'multinomial', solver = 'lbfgs')\n",
    "cv = RepeatedStratifiedKFold(n_splits = 6, n_repeats = 3, random_state=seed)\n",
    "n_scores = cross_val_score(model, X, y, scoring = 'accuracy', cv=cv)\n",
    "\n",
    "print('Mean accuracy: %.3f (%.3f)' % (mean(n_scores), std(n_scores)))\n",
    "\n",
    "model.fit(X, y)\n",
    "\n",
    "y_pred = model.predict(X)"
   ]
  },
  {
   "cell_type": "code",
   "execution_count": null,
   "id": "985a5152-5dfe-4567-824d-890a62d84457",
   "metadata": {
    "tags": []
   },
   "outputs": [],
   "source": [
    "from sklearn.model_selection import StratifiedKFold, cross_val_score\n",
    "\n",
    "# Create a StratifiedKFold object\n",
    "skf = StratifiedKFold(n_splits=6, shuffle=True, random_state=seed)\n",
    "\n",
    "# Use it in cross_val_score\n",
    "n_scores = cross_val_score(model, X, y, scoring='accuracy', cv=skf)\n",
    "\n",
    "print('Mean accuracy: %.3f (%.3f)' % (n_scores.mean(), n_scores.std()))\n",
    "\n",
    "# Note: You may need to handle the warning about the least populated class based on your specific dataset and context.\n"
   ]
  },
  {
   "cell_type": "code",
   "execution_count": null,
   "id": "8a047d48",
   "metadata": {},
   "outputs": [],
   "source": [
    "accuracy = accuracy_score(y, y_pred)\n",
    "\n",
    "print(classification_report(y, y_pred, zero_division=0))"
   ]
  },
  {
   "cell_type": "code",
   "execution_count": null,
   "id": "96e37a49",
   "metadata": {},
   "outputs": [],
   "source": [
    "cm = confusion_matrix(y, y_pred)\n",
    "sns.heatmap(cm, annot=True, fmt='d')\n",
    "plt.xlabel('Predicted')\n",
    "plt.ylabel('True')\n",
    "plt.title('Confusion Matrix')\n",
    "plt.show()"
   ]
  },
  {
   "cell_type": "code",
   "execution_count": null,
   "id": "40e53681",
   "metadata": {},
   "outputs": [],
   "source": [
    "import joblib\n",
    "\n",
    "# Save the model to a file\n",
    "filename = 'logistic_regression_model.pkl'\n",
    "joblib.dump(model, filename)\n",
    "print('Model saved to', filename)"
   ]
  },
  {
   "cell_type": "code",
   "execution_count": null,
   "id": "bbd51d7d",
   "metadata": {},
   "outputs": [],
   "source": []
  }
 ],
 "metadata": {
  "kernelspec": {
   "display_name": "Python 3 (ipykernel)",
   "language": "python",
   "name": "python3"
  },
  "language_info": {
   "codemirror_mode": {
    "name": "ipython",
    "version": 3
   },
   "file_extension": ".py",
   "mimetype": "text/x-python",
   "name": "python",
   "nbconvert_exporter": "python",
   "pygments_lexer": "ipython3",
   "version": "3.9.18"
  }
 },
 "nbformat": 4,
 "nbformat_minor": 5
}
