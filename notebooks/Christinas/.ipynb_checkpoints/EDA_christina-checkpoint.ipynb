{
 "cells": [
  {
   "cell_type": "markdown",
   "id": "5aceb885-7a83-4ee4-af1b-14feda05584c",
   "metadata": {},
   "source": [
    "# Imports"
   ]
  },
  {
   "cell_type": "code",
   "execution_count": 57,
   "id": "0aaefa4a-14d8-4a01-abb5-19680a5bcc7c",
   "metadata": {
    "tags": []
   },
   "outputs": [],
   "source": [
    "import tensorflow as tf\n",
    "from sklearn.model_selection import train_test_split\n",
    "from sklearn.preprocessing import MinMaxScaler\n",
    "import pandas as pd\n",
    "import matplotlib.pyplot as plt"
   ]
  },
  {
   "cell_type": "markdown",
   "id": "1ad95453-f9b0-49b3-bac0-66bd4b9dcf7a",
   "metadata": {},
   "source": [
    "# Förbered och ladda data"
   ]
  },
  {
   "cell_type": "code",
   "execution_count": 58,
   "id": "486581cd-70b9-421f-b322-a1db619c1b42",
   "metadata": {
    "tags": []
   },
   "outputs": [],
   "source": [
    "# URL to the CSV file\n",
    "\n",
    "# 2019 Dataset - Loan/Application Records (LAR)\n",
    "url = 'https://s3.amazonaws.com/cfpb-hmda-public/prod/three-year-data/2019/2019_public_lar_three_year_csv.zip'\n",
    "\n",
    "# See information about data fields of the original dataset here:\n",
    "# https://ffiec.cfpb.gov/documentation/publications/loan-level-datasets/lar-data-fields"
   ]
  },
  {
   "cell_type": "markdown",
   "id": "b505cab3-4c97-4a80-ab9d-7feb7aabc4ff",
   "metadata": {},
   "source": [
    "# EDA"
   ]
  },
  {
   "cell_type": "markdown",
   "id": "3da39a6b-68f4-47df-8894-afb36a88a3f6",
   "metadata": {
    "tags": []
   },
   "source": [
    "## Get the first n rows of data from the URL"
   ]
  },
  {
   "cell_type": "code",
   "execution_count": 59,
   "id": "7994d1c3-97fe-407a-bf4d-d91ecc45d69f",
   "metadata": {
    "tags": []
   },
   "outputs": [],
   "source": [
    "# Specify the number of rows to read\n",
    "num_rows_to_read = 10000"
   ]
  },
  {
   "cell_type": "code",
   "execution_count": 60,
   "id": "3cf008a3-8247-45f5-8fc7-75dec75cb467",
   "metadata": {
    "tags": []
   },
   "outputs": [],
   "source": [
    "# Specify the columns to get.\n",
    "# removed columns: {\"lei\"}\n",
    "\n",
    "column_data_types = {\n",
    "    'activity_year': 'int64',\n",
    "    'derived_msa_md': 'float64',\n",
    "    'state_code': 'object',\n",
    "    'county_code': 'float64',\n",
    "    'census_tract': 'float64',\n",
    "    'conforming_loan_limit': 'object',\n",
    "    'derived_loan_product_type': 'object',\n",
    "    'derived_dwelling_category': 'object',\n",
    "    'derived_ethnicity': 'object',\n",
    "    'derived_race': 'object',\n",
    "    'derived_sex': 'object',\n",
    "    'action_taken': 'int64',\n",
    "    'purchaser_type': 'int64',\n",
    "    'preapproval': 'int64',\n",
    "    'loan_type': 'int64',\n",
    "    'loan_purpose': 'int64',\n",
    "    'lien_status': 'int64',\n",
    "    'reverse_mortgage': 'int64',\n",
    "    'open_end_line_of_credit': 'int64' , \n",
    "    'loan_amount': 'int64' , \n",
    "    'combined_loan_to_value_ratio': 'float64',\n",
    "    'interest_rate': 'float64',\n",
    "    'rate_spread': 'float64',\n",
    "    'hoepa_status': 'int64', \n",
    "    'total_loan_costs': 'float64',\n",
    "    'total_points_and_fees': 'float64',\n",
    "    'origination_charges': 'float64',\n",
    "    'discount_points': 'float64',\n",
    "    'lender_credits': 'float64',\n",
    "    'loan_term': 'float64',\n",
    "    'prepayment_penalty_term': 'float64',\n",
    "    'intro_rate_period': 'float64',\n",
    "    'negative_amortization': 'int64',\n",
    "    'interest_only_payment': 'int64',\n",
    "    'balloon_payment': 'int64',\n",
    "    'other_nonamortizing_features': 'int64',\n",
    "    'property_value': 'float64',\n",
    "    'construction_method': 'int64', \n",
    "    'occupancy_type': 'int64',\n",
    "    'manufactured_home_secured_property_type': 'int64',\n",
    "    'manufactured_home_land_property_interest': 'int64',\n",
    "    'total_units': 'object',\n",
    "    'multifamily_affordable_units': 'float64',\n",
    "    'income': 'float64',\n",
    "    'debt_to_income_ratio': 'object',\n",
    "    'applicant_credit_score_type': 'int64',\n",
    "    'co_applicant_credit_score_type': 'int64',\n",
    "    'applicant_ethnicity_1': 'float64',\n",
    "    'applicant_ethnicity_2': 'float64',\n",
    "    'applicant_ethnicity_3': 'float64',\n",
    "    'applicant_ethnicity_4': 'float64',\n",
    "    'applicant_ethnicity_5': 'float64',\n",
    "    'co_applicant_ethnicity_1': 'float64',\n",
    "    'co_applicant_ethnicity_2': 'float64',\n",
    "    'co_applicant_ethnicity_3': 'float64',\n",
    "    'co_applicant_ethnicity_4': 'float64',\n",
    "    'co_applicant_ethnicity_5': 'float64',\n",
    "    'applicant_ethnicity_observed': 'int64',\n",
    "    'co_applicant_ethnicity_observed': 'int64',\n",
    "    'applicant_race_1': 'float64',\n",
    "    'applicant_race_2': 'float64',\n",
    "    'applicant_race_3': 'float64',\n",
    "    'applicant_race_4': 'float64',\n",
    "    'applicant_race_5': 'float64',\n",
    "    'co_applicant_race_1': 'int64',\n",
    "    'co_applicant_race_2': 'float64',\n",
    "    'co_applicant_race_3': 'float64',\n",
    "    'co_applicant_race_4': 'float64',\n",
    "    'co_applicant_race_5': 'float64',\n",
    "    'applicant_race_observed': 'int64',\n",
    "    'co_applicant_race_observed': 'int64',\n",
    "    'applicant_sex': 'int64',\n",
    "    'co_applicant_sex': 'int64',\n",
    "    'applicant_sex_observed': 'int64',\n",
    "    'co_applicant_sex_observed': 'int64',\n",
    "    'applicant_age': 'object',\n",
    "    'co_applicant_age': 'object',\n",
    "    'applicant_age_above_62': 'object',\n",
    "    'co_applicant_age_above_62': 'object',\n",
    "    'submission_of_application': 'int64',\n",
    "    'initially_payable_to_institution': 'int64',\n",
    "    'aus_1': 'int64',\n",
    "    'aus_2': 'float64',\n",
    "    'aus_3': 'float64',\n",
    "    'aus_4': 'float64',\n",
    "    'aus_5': 'float64',\n",
    "    'denial_reason_1': 'int64',\n",
    "    'denial_reason_2': 'float64',\n",
    "    'denial_reason_3': 'float64',\n",
    "    'denial_reason_4': 'float64',\n",
    "    'tract_population': 'int64',\n",
    "    'tract_minority_population_percent': 'float64',\n",
    "    'ffiec_msa_md_median_family_income': 'int64',\n",
    "    'tract_to_msa_income_percentage': 'float64',\n",
    "    'tract_owner_occupied_units': 'int64',\n",
    "    'tract_one_to_four_family_homes': 'int64',\n",
    "    'tract_median_age_of_housing_units': 'int64',\n",
    "}"
   ]
  },
  {
   "cell_type": "code",
   "execution_count": null,
   "id": "01054978-d6ee-493d-8340-8ea23478a96e",
   "metadata": {},
   "outputs": [],
   "source": [
    "# Read the CSV file with specified data types\n",
    "data = pd.read_csv(url, nrows=num_rows_to_read, dtype=column_data_types)"
   ]
  },
  {
   "cell_type": "markdown",
   "id": "4a137c1f-6660-4e75-a622-deece8fa2e1c",
   "metadata": {},
   "source": [
    "## Data info"
   ]
  },
  {
   "cell_type": "code",
   "execution_count": 4,
   "id": "a2a19e1f-c90d-4c28-a6ee-f30b3965289e",
   "metadata": {},
   "outputs": [
    {
     "name": "stdout",
     "output_type": "stream",
     "text": [
      "Column info:\n",
      "<class 'pandas.core.frame.DataFrame'>\n",
      "RangeIndex: 10000 entries, 0 to 9999\n",
      "Data columns (total 99 columns):\n",
      " #   Column                                    Non-Null Count  Dtype  \n",
      "---  ------                                    --------------  -----  \n",
      " 0   activity_year                             10000 non-null  int64  \n",
      " 1   lei                                       10000 non-null  object \n",
      " 2   derived_msa_md                            688 non-null    float64\n",
      " 3   state_code                                9998 non-null   object \n",
      " 4   county_code                               9998 non-null   float64\n",
      " 5   census_tract                              9998 non-null   float64\n",
      " 6   conforming_loan_limit                     9999 non-null   object \n",
      " 7   derived_loan_product_type                 10000 non-null  object \n",
      " 8   derived_dwelling_category                 10000 non-null  object \n",
      " 9   derived_ethnicity                         10000 non-null  object \n",
      " 10  derived_race                              10000 non-null  object \n",
      " 11  derived_sex                               10000 non-null  object \n",
      " 12  action_taken                              10000 non-null  int64  \n",
      " 13  purchaser_type                            10000 non-null  int64  \n",
      " 14  preapproval                               10000 non-null  int64  \n",
      " 15  loan_type                                 10000 non-null  int64  \n",
      " 16  loan_purpose                              10000 non-null  int64  \n",
      " 17  lien_status                               10000 non-null  int64  \n",
      " 18  reverse_mortgage                          10000 non-null  int64  \n",
      " 19  open_end_line_of_credit                   10000 non-null  int64  \n",
      " 20  business_or_commercial_purpose            10000 non-null  int64  \n",
      " 21  loan_amount                               10000 non-null  int64  \n",
      " 22  combined_loan_to_value_ratio              4414 non-null   float64\n",
      " 23  interest_rate                             5906 non-null   float64\n",
      " 24  rate_spread                               3735 non-null   float64\n",
      " 25  hoepa_status                              10000 non-null  int64  \n",
      " 26  total_loan_costs                          5466 non-null   float64\n",
      " 27  total_points_and_fees                     0 non-null      float64\n",
      " 28  origination_charges                       5463 non-null   float64\n",
      " 29  discount_points                           1303 non-null   float64\n",
      " 30  lender_credits                            1631 non-null   float64\n",
      " 31  loan_term                                 9841 non-null   float64\n",
      " 32  prepayment_penalty_term                   1 non-null      float64\n",
      " 33  intro_rate_period                         166 non-null    float64\n",
      " 34  negative_amortization                     10000 non-null  int64  \n",
      " 35  interest_only_payment                     10000 non-null  int64  \n",
      " 36  balloon_payment                           10000 non-null  int64  \n",
      " 37  other_nonamortizing_features              10000 non-null  int64  \n",
      " 38  property_value                            6582 non-null   float64\n",
      " 39  construction_method                       10000 non-null  int64  \n",
      " 40  occupancy_type                            10000 non-null  int64  \n",
      " 41  manufactured_home_secured_property_type   10000 non-null  int64  \n",
      " 42  manufactured_home_land_property_interest  10000 non-null  int64  \n",
      " 43  total_units                               10000 non-null  object \n",
      " 44  multifamily_affordable_units              0 non-null      float64\n",
      " 45  income                                    9003 non-null   float64\n",
      " 46  debt_to_income_ratio                      4685 non-null   object \n",
      " 47  applicant_credit_score_type               10000 non-null  int64  \n",
      " 48  co_applicant_credit_score_type            10000 non-null  int64  \n",
      " 49  applicant_ethnicity_1                     9994 non-null   float64\n",
      " 50  applicant_ethnicity_2                     361 non-null    float64\n",
      " 51  applicant_ethnicity_3                     5 non-null      float64\n",
      " 52  applicant_ethnicity_4                     0 non-null      float64\n",
      " 53  applicant_ethnicity_5                     0 non-null      float64\n",
      " 54  co_applicant_ethnicity_1                  9998 non-null   float64\n",
      " 55  co_applicant_ethnicity_2                  120 non-null    float64\n",
      " 56  co_applicant_ethnicity_3                  1 non-null      float64\n",
      " 57  co_applicant_ethnicity_4                  0 non-null      float64\n",
      " 58  co_applicant_ethnicity_5                  0 non-null      float64\n",
      " 59  applicant_ethnicity_observed              10000 non-null  int64  \n",
      " 60  co_applicant_ethnicity_observed           10000 non-null  int64  \n",
      " 61  applicant_race_1                          9999 non-null   float64\n",
      " 62  applicant_race_2                          297 non-null    float64\n",
      " 63  applicant_race_3                          8 non-null      float64\n",
      " 64  applicant_race_4                          0 non-null      float64\n",
      " 65  applicant_race_5                          0 non-null      float64\n",
      " 66  co_applicant_race_1                       10000 non-null  int64  \n",
      " 67  co_applicant_race_2                       154 non-null    float64\n",
      " 68  co_applicant_race_3                       3 non-null      float64\n",
      " 69  co_applicant_race_4                       0 non-null      float64\n",
      " 70  co_applicant_race_5                       0 non-null      float64\n",
      " 71  applicant_race_observed                   10000 non-null  int64  \n",
      " 72  co_applicant_race_observed                10000 non-null  int64  \n",
      " 73  applicant_sex                             10000 non-null  int64  \n",
      " 74  co_applicant_sex                          10000 non-null  int64  \n",
      " 75  applicant_sex_observed                    10000 non-null  int64  \n",
      " 76  co_applicant_sex_observed                 10000 non-null  int64  \n",
      " 77  applicant_age                             10000 non-null  object \n",
      " 78  co_applicant_age                          10000 non-null  object \n",
      " 79  applicant_age_above_62                    9874 non-null   object \n",
      " 80  co_applicant_age_above_62                 4070 non-null   object \n",
      " 81  submission_of_application                 10000 non-null  int64  \n",
      " 82  initially_payable_to_institution          10000 non-null  int64  \n",
      " 83  aus_1                                     10000 non-null  int64  \n",
      " 84  aus_2                                     1528 non-null   float64\n",
      " 85  aus_3                                     264 non-null    float64\n",
      " 86  aus_4                                     0 non-null      float64\n",
      " 87  aus_5                                     4 non-null      float64\n",
      " 88  denial_reason_1                           10000 non-null  int64  \n",
      " 89  denial_reason_2                           125 non-null    float64\n",
      " 90  denial_reason_3                           21 non-null     float64\n",
      " 91  denial_reason_4                           0 non-null      float64\n",
      " 92  tract_population                          10000 non-null  int64  \n",
      " 93  tract_minority_population_percent         10000 non-null  float64\n",
      " 94  ffiec_msa_md_median_family_income         10000 non-null  int64  \n",
      " 95  tract_to_msa_income_percentage            10000 non-null  float64\n",
      " 96  tract_owner_occupied_units                10000 non-null  int64  \n",
      " 97  tract_one_to_four_family_homes            10000 non-null  int64  \n",
      " 98  tract_median_age_of_housing_units         10000 non-null  int64  \n",
      "dtypes: float64(45), int64(40), object(14)\n",
      "memory usage: 7.6+ MB\n",
      "None\n"
     ]
    }
   ],
   "source": [
    "# Print column info\n",
    "print(\"Column info:\")\n",
    "print(data.info())"
   ]
  },
  {
   "cell_type": "code",
   "execution_count": null,
   "id": "13c7400d-30b4-4011-8548-e7ea4279d625",
   "metadata": {},
   "outputs": [],
   "source": [
    "## Data statistics"
   ]
  },
  {
   "cell_type": "code",
   "execution_count": null,
   "id": "3fcf361c-02c7-4683-8fe1-dfe96eb3c0e7",
   "metadata": {},
   "outputs": [],
   "source": [
    "# Print column statistics\n",
    "print(\"Column statistics:\")\n",
    "print(data.describe())"
   ]
  },
  {
   "cell_type": "code",
   "execution_count": null,
   "id": "ecc79adb-6c77-4805-9a47-0ae9eacf49a5",
   "metadata": {},
   "outputs": [],
   "source": [
    "## Data correlations"
   ]
  },
  {
   "cell_type": "markdown",
   "id": "3535ed80-c3d1-4b44-8ed1-a5090969a80b",
   "metadata": {},
   "source": [
    "## Loans accepted or denialed"
   ]
  },
  {
   "cell_type": "code",
   "execution_count": 51,
   "id": "0c0ce5fe-61c1-4d95-9f7b-d7c99fbbd151",
   "metadata": {
    "tags": []
   },
   "outputs": [
    {
     "name": "stdout",
     "output_type": "stream",
     "text": [
      "Unique values and counts for action_taken:\n",
      "action_taken\n",
      "1    3349\n",
      "4    2664\n",
      "6    2144\n",
      "3     967\n",
      "5     463\n",
      "2     413\n",
      "Name: count, dtype: int64\n"
     ]
    }
   ],
   "source": [
    "# Print unique values and counts for action_taken\n",
    "print(\"Unique values and counts for action_taken:\")\n",
    "print(data['action_taken'].value_counts())"
   ]
  },
  {
   "cell_type": "markdown",
   "id": "4612da19-1981-42d0-adc1-5decc84d3dd5",
   "metadata": {},
   "source": [
    "Description: The action taken on the covered loan or application\n",
    "Values:\n",
    "1 - Loan originated\n",
    "2 - Application approved but not accepted\n",
    "3 - Application denied\n",
    "4 - Application withdrawn by applicant\n",
    "5 - File closed for incompleteness\n",
    "6 - Purchased loan\n",
    "7 - Preapproval request denied\n",
    "8 - Preapproval request approved but not accepted"
   ]
  },
  {
   "cell_type": "code",
   "execution_count": null,
   "id": "a295d7a3-d0b5-4898-af77-723d941220ee",
   "metadata": {},
   "outputs": [],
   "source": [
    "# Print unique values and counts for denial_reason columns\n",
    "denial_reason_columns = ['denial_reason_1', 'denial_reason_2', 'denial_reason_3', 'denial_reason_4']\n",
    "for col in denial_reason_columns:\n",
    "    print(f\"\\nUnique values and counts for {col}:\")\n",
    "    print(data[col].value_counts())"
   ]
  },
  {
   "cell_type": "code",
   "execution_count": 50,
   "id": "6d549ddd-e6fc-411b-b8c5-e59b8cc8e262",
   "metadata": {
    "tags": []
   },
   "outputs": [
    {
     "data": {
      "image/png": "[encoded data removed]",
      "text/plain": [
       "<Figure size 640x480 with 1 Axes>"
      ]
     },
     "metadata": {},
     "output_type": "display_data"
    }
   ],
   "source": [
    "# Action labels\n",
    "action_labels = {\n",
    "    1: 'Loan originated',\n",
    "    3: 'Application denied'\n",
    "}\n",
    "\n",
    "# Filter data for 'Loan originated' and 'Application denied'\n",
    "filtered_data = data[data['action_taken'].isin([1, 3])]\n",
    "action_counts = filtered_data['action_taken'].value_counts()\n",
    "\n",
    "# Plot a bar chart\n",
    "plt.bar([action_labels[x] for x in action_counts.index], action_counts.values)\n",
    "\n",
    "# Add labels and title\n",
    "plt.xlabel('Action Taken')\n",
    "plt.ylabel('Number of Loans')\n",
    "plt.title('Number of Loans: Loan Originated vs Application Denied')\n",
    "\n",
    "plt.tight_layout()\n",
    "plt.show()\n"
   ]
  },
  {
   "cell_type": "markdown",
   "id": "a117fd90-7320-4931-a6dd-512d1b989eec",
   "metadata": {},
   "source": [
    "## The first 5 rows"
   ]
  },
  {
   "cell_type": "code",
   "execution_count": 43,
   "id": "1aa075fb-c2c2-4d5a-b406-00b96640ce83",
   "metadata": {
    "tags": []
   },
   "outputs": [
    {
     "name": "stdout",
     "output_type": "stream",
     "text": [
      "\n",
      "Unique values and their counts for denial_reason_1:\n",
      "denial_reason_1\n",
      "10    9033\n",
      "3      325\n",
      "1      267\n",
      "4      119\n",
      "7      108\n",
      "9       71\n",
      "6       41\n",
      "5       19\n",
      "2       17\n",
      "Name: count, dtype: int64\n",
      "\n",
      "Unique values and their counts for denial_reason_2:\n",
      "denial_reason_2\n",
      "3.0    37\n",
      "9.0    25\n",
      "1.0    24\n",
      "6.0    14\n",
      "5.0    11\n",
      "4.0     7\n",
      "7.0     4\n",
      "2.0     3\n",
      "Name: count, dtype: int64\n",
      "\n",
      "Unique values and their counts for denial_reason_3:\n",
      "denial_reason_3\n",
      "5.0    7\n",
      "1.0    6\n",
      "9.0    4\n",
      "2.0    1\n",
      "4.0    1\n",
      "3.0    1\n",
      "6.0    1\n",
      "Name: count, dtype: int64\n",
      "\n",
      "Unique values and their counts for denial_reason_4:\n",
      "Series([], Name: count, dtype: int64)\n"
     ]
    }
   ],
   "source": [
    "# Assuming data is your DataFrame\n",
    "\n",
    "# Columns of interest\n",
    "columns_of_interest = ['denial_reason_1', 'denial_reason_2', 'denial_reason_3', 'denial_reason_4']\n",
    "\n",
    "for col in columns_of_interest:\n",
    "    print(f\"\\nUnique values and their counts for {col}:\")\n",
    "    print(data[col].value_counts())\n"
   ]
  },
  {
   "cell_type": "code",
   "execution_count": 5,
   "id": "8adec69e-c994-44af-96bf-3a9dc322e6e7",
   "metadata": {
    "tags": []
   },
   "outputs": [],
   "source": [
    "# Print the first 5 rows\n",
    "# print(\"\\nFirst 5 rows:\")\n",
    "# print(data.head())"
   ]
  },
  {
   "cell_type": "markdown",
   "id": "74f09c96-098e-4115-8c17-cf603cebbb07",
   "metadata": {},
   "source": [
    "## Columns with more than 30% null values:"
   ]
  },
  {
   "cell_type": "code",
   "execution_count": 6,
   "id": "bc637370-006e-41f6-a498-cb91fb65242e",
   "metadata": {
    "tags": []
   },
   "outputs": [
    {
     "name": "stdout",
     "output_type": "stream",
     "text": [
      "Columns with more than 30% null values:\n",
      "Column 'derived_msa_md': 93.12% null values (9312 null values)\n",
      "Column 'combined_loan_to_value_ratio': 55.86% null values (5586 null values)\n",
      "Column 'interest_rate': 40.94% null values (4094 null values)\n",
      "Column 'rate_spread': 62.65% null values (6265 null values)\n",
      "Column 'total_loan_costs': 45.34% null values (4534 null values)\n",
      "Column 'total_points_and_fees': 100.00% null values (10000 null values)\n",
      "Column 'origination_charges': 45.37% null values (4537 null values)\n",
      "Column 'discount_points': 86.97% null values (8697 null values)\n",
      "Column 'lender_credits': 83.69% null values (8369 null values)\n",
      "Column 'prepayment_penalty_term': 99.99% null values (9999 null values)\n",
      "Column 'intro_rate_period': 98.34% null values (9834 null values)\n",
      "Column 'property_value': 34.18% null values (3418 null values)\n",
      "Column 'multifamily_affordable_units': 100.00% null values (10000 null values)\n",
      "Column 'debt_to_income_ratio': 53.15% null values (5315 null values)\n",
      "Column 'applicant_ethnicity_2': 96.39% null values (9639 null values)\n",
      "Column 'applicant_ethnicity_3': 99.95% null values (9995 null values)\n",
      "Column 'applicant_ethnicity_4': 100.00% null values (10000 null values)\n",
      "Column 'applicant_ethnicity_5': 100.00% null values (10000 null values)\n",
      "Column 'co_applicant_ethnicity_2': 98.80% null values (9880 null values)\n",
      "Column 'co_applicant_ethnicity_3': 99.99% null values (9999 null values)\n",
      "Column 'co_applicant_ethnicity_4': 100.00% null values (10000 null values)\n",
      "Column 'co_applicant_ethnicity_5': 100.00% null values (10000 null values)\n",
      "Column 'applicant_race_2': 97.03% null values (9703 null values)\n",
      "Column 'applicant_race_3': 99.92% null values (9992 null values)\n",
      "Column 'applicant_race_4': 100.00% null values (10000 null values)\n",
      "Column 'applicant_race_5': 100.00% null values (10000 null values)\n",
      "Column 'co_applicant_race_2': 98.46% null values (9846 null values)\n",
      "Column 'co_applicant_race_3': 99.97% null values (9997 null values)\n",
      "Column 'co_applicant_race_4': 100.00% null values (10000 null values)\n",
      "Column 'co_applicant_race_5': 100.00% null values (10000 null values)\n",
      "Column 'co_applicant_age_above_62': 59.30% null values (5930 null values)\n",
      "Column 'aus_2': 84.72% null values (8472 null values)\n",
      "Column 'aus_3': 97.36% null values (9736 null values)\n",
      "Column 'aus_4': 100.00% null values (10000 null values)\n",
      "Column 'aus_5': 99.96% null values (9996 null values)\n",
      "Column 'denial_reason_2': 98.75% null values (9875 null values)\n",
      "Column 'denial_reason_3': 99.79% null values (9979 null values)\n",
      "Column 'denial_reason_4': 100.00% null values (10000 null values)\n"
     ]
    }
   ],
   "source": [
    "# Calculate the total number of rows in the DataFrame\n",
    "total_rows = len(data)\n",
    "\n",
    "# Calculate the percentage of null values for each column\n",
    "null_percentage = (data.isnull().sum() / total_rows) * 100\n",
    "\n",
    "# Filter columns with more than 30% null values\n",
    "columns_with_high_nulls = null_percentage[null_percentage > 30]\n",
    "\n",
    "# Print columns with more than 30% null values and their respective null counts\n",
    "print(\"Columns with more than 30% null values:\")\n",
    "for column, null_percent in columns_with_high_nulls.items():\n",
    "    print(f\"Column '{column}': {null_percent:.2f}% null values ({data[column].isnull().sum()} null values)\")\n"
   ]
  },
  {
   "cell_type": "code",
   "execution_count": 9,
   "id": "01b43bac-3d36-4de9-a9b3-a45ee51d5d2b",
   "metadata": {
    "tags": []
   },
   "outputs": [
    {
     "data": {
      "image/png": "[encoded data removed]",
      "text/plain": [
       "<Figure size 1200x600 with 1 Axes>"
      ]
     },
     "metadata": {},
     "output_type": "display_data"
    }
   ],
   "source": [
    "import matplotlib.pyplot as plt\n",
    "\n",
    "# Calculate the percentage of missing values for each column\n",
    "missing_percentage = (data.isnull().sum() / len(data)) * 100\n",
    "\n",
    "# Filter columns with more than 30% missing values\n",
    "columns_to_plot = missing_percentage[missing_percentage >= 30]\n",
    "\n",
    "# Filter the columns based on missing values\n",
    "columns_with_missing_values = columns_to_plot[columns_to_plot > 0]\n",
    "\n",
    "# Plot a bar chart for columns with more than 30% missing values\n",
    "plt.figure(figsize=(12, 6))\n",
    "plt.bar(columns_with_missing_values.index, columns_with_missing_values.values)\n",
    "plt.title('Columns with More Than 30% Missing Values')\n",
    "plt.xlabel('Columns')\n",
    "plt.ylabel('Percentage of Missing Values')\n",
    "plt.xticks(rotation=45, ha='right')  # Rotate x-axis labels\n",
    "plt.tight_layout()  # Adjust layout for better spacing\n",
    "plt.show()\n"
   ]
  },
  {
   "cell_type": "markdown",
   "id": "2297cfd6-38fe-4bbb-b25c-663e8e4a7b04",
   "metadata": {},
   "source": [
    "## Columns with less than 30% null values:"
   ]
  },
  {
   "cell_type": "code",
   "execution_count": 10,
   "id": "16a3f39d-4f91-40af-97ff-84e201a162dd",
   "metadata": {
    "tags": []
   },
   "outputs": [
    {
     "name": "stdout",
     "output_type": "stream",
     "text": [
      "Columns with less than or equal to 30% null values:\n",
      "Column 'activity_year': 0.00% null values (0 null values)\n",
      "Column 'lei': 0.00% null values (0 null values)\n",
      "Column 'state_code': 0.02% null values (2 null values)\n",
      "Column 'county_code': 0.02% null values (2 null values)\n",
      "Column 'census_tract': 0.02% null values (2 null values)\n",
      "Column 'conforming_loan_limit': 0.01% null values (1 null values)\n",
      "Column 'derived_loan_product_type': 0.00% null values (0 null values)\n",
      "Column 'derived_dwelling_category': 0.00% null values (0 null values)\n",
      "Column 'derived_ethnicity': 0.00% null values (0 null values)\n",
      "Column 'derived_race': 0.00% null values (0 null values)\n",
      "Column 'derived_sex': 0.00% null values (0 null values)\n",
      "Column 'action_taken': 0.00% null values (0 null values)\n",
      "Column 'purchaser_type': 0.00% null values (0 null values)\n",
      "Column 'preapproval': 0.00% null values (0 null values)\n",
      "Column 'loan_type': 0.00% null values (0 null values)\n",
      "Column 'loan_purpose': 0.00% null values (0 null values)\n",
      "Column 'lien_status': 0.00% null values (0 null values)\n",
      "Column 'reverse_mortgage': 0.00% null values (0 null values)\n",
      "Column 'open_end_line_of_credit': 0.00% null values (0 null values)\n",
      "Column 'business_or_commercial_purpose': 0.00% null values (0 null values)\n",
      "Column 'loan_amount': 0.00% null values (0 null values)\n",
      "Column 'hoepa_status': 0.00% null values (0 null values)\n",
      "Column 'loan_term': 1.59% null values (159 null values)\n",
      "Column 'negative_amortization': 0.00% null values (0 null values)\n",
      "Column 'interest_only_payment': 0.00% null values (0 null values)\n",
      "Column 'balloon_payment': 0.00% null values (0 null values)\n",
      "Column 'other_nonamortizing_features': 0.00% null values (0 null values)\n",
      "Column 'construction_method': 0.00% null values (0 null values)\n",
      "Column 'occupancy_type': 0.00% null values (0 null values)\n",
      "Column 'manufactured_home_secured_property_type': 0.00% null values (0 null values)\n",
      "Column 'manufactured_home_land_property_interest': 0.00% null values (0 null values)\n",
      "Column 'total_units': 0.00% null values (0 null values)\n",
      "Column 'income': 9.97% null values (997 null values)\n",
      "Column 'applicant_credit_score_type': 0.00% null values (0 null values)\n",
      "Column 'co_applicant_credit_score_type': 0.00% null values (0 null values)\n",
      "Column 'applicant_ethnicity_1': 0.06% null values (6 null values)\n",
      "Column 'co_applicant_ethnicity_1': 0.02% null values (2 null values)\n",
      "Column 'applicant_ethnicity_observed': 0.00% null values (0 null values)\n",
      "Column 'co_applicant_ethnicity_observed': 0.00% null values (0 null values)\n",
      "Column 'applicant_race_1': 0.01% null values (1 null values)\n",
      "Column 'co_applicant_race_1': 0.00% null values (0 null values)\n",
      "Column 'applicant_race_observed': 0.00% null values (0 null values)\n",
      "Column 'co_applicant_race_observed': 0.00% null values (0 null values)\n",
      "Column 'applicant_sex': 0.00% null values (0 null values)\n",
      "Column 'co_applicant_sex': 0.00% null values (0 null values)\n",
      "Column 'applicant_sex_observed': 0.00% null values (0 null values)\n",
      "Column 'co_applicant_sex_observed': 0.00% null values (0 null values)\n",
      "Column 'applicant_age': 0.00% null values (0 null values)\n",
      "Column 'co_applicant_age': 0.00% null values (0 null values)\n",
      "Column 'applicant_age_above_62': 1.26% null values (126 null values)\n",
      "Column 'submission_of_application': 0.00% null values (0 null values)\n",
      "Column 'initially_payable_to_institution': 0.00% null values (0 null values)\n",
      "Column 'aus_1': 0.00% null values (0 null values)\n",
      "Column 'denial_reason_1': 0.00% null values (0 null values)\n",
      "Column 'tract_population': 0.00% null values (0 null values)\n",
      "Column 'tract_minority_population_percent': 0.00% null values (0 null values)\n",
      "Column 'ffiec_msa_md_median_family_income': 0.00% null values (0 null values)\n",
      "Column 'tract_to_msa_income_percentage': 0.00% null values (0 null values)\n",
      "Column 'tract_owner_occupied_units': 0.00% null values (0 null values)\n",
      "Column 'tract_one_to_four_family_homes': 0.00% null values (0 null values)\n",
      "Column 'tract_median_age_of_housing_units': 0.00% null values (0 null values)\n"
     ]
    }
   ],
   "source": [
    "# Filter columns with less than 30% null values\n",
    "columns_with_low_nulls = null_percentage[null_percentage <= 30]\n",
    "\n",
    "# Print columns with less than or equal to 30% null values and their respective null counts\n",
    "print(\"Columns with less than or equal to 30% null values:\")\n",
    "for column, null_percent in columns_with_low_nulls.items():\n",
    "    print(f\"Column '{column}': {null_percent:.2f}% null values ({data[column].isnull().sum()} null values)\")\n"
   ]
  },
  {
   "cell_type": "code",
   "execution_count": 15,
   "id": "1558998c-7eaf-4206-97d0-fd54c0bf0d54",
   "metadata": {
    "tags": []
   },
   "outputs": [
    {
     "data": {
      "image/png": "[encoded data removed]",
      "text/plain": [
       "<Figure size 1200x600 with 1 Axes>"
      ]
     },
     "metadata": {},
     "output_type": "display_data"
    }
   ],
   "source": [
    "import matplotlib.pyplot as plt\n",
    "\n",
    "# Calculate the percentage of missing values for each column\n",
    "missing_percentage = (data.isnull().sum() / len(data)) * 100\n",
    "\n",
    "# Filter columns with more than 30% missing values\n",
    "columns_to_plot = missing_percentage[missing_percentage <= 30]\n",
    "\n",
    "# Filter the columns based on missing values\n",
    "columns_with_missing_values = columns_to_plot[columns_to_plot > 0]\n",
    "\n",
    "# Plot a bar chart for columns with more than 30% missing values\n",
    "plt.figure(figsize=(12, 6))\n",
    "plt.bar(columns_with_missing_values.index, columns_with_missing_values.values)\n",
    "plt.title('Columns with Less Than 30% Missing Values')\n",
    "plt.xlabel('Columns')\n",
    "plt.ylabel('Percentage of Missing Values')\n",
    "plt.xticks(rotation=45, ha='right')  # Rotate x-axis labels\n",
    "plt.tight_layout()  # Adjust layout for better spacing\n",
    "plt.show()"
   ]
  },
  {
   "cell_type": "markdown",
   "id": "8cf89d46-ea4d-476d-8dda-cd1bc2053e93",
   "metadata": {},
   "source": [
    "## Columns to remove."
   ]
  },
  {
   "cell_type": "code",
   "execution_count": 20,
   "id": "6b853381-8a40-4efe-9ca4-9b49473ae9db",
   "metadata": {
    "tags": []
   },
   "outputs": [
    {
     "name": "stdout",
     "output_type": "stream",
     "text": [
      "   activity_year                   lei  derived_msa_md state_code  \\\n",
      "0           2019  549300FNXYY540N23N64             NaN         CT   \n",
      "1           2019  549300FNXYY540N23N64             NaN         PA   \n",
      "\n",
      "   county_code  census_tract conforming_loan_limit derived_loan_product_type  \\\n",
      "0       9003.0  9.003416e+09                     C            FHA:First Lien   \n",
      "1      42017.0  4.201710e+10                     C   Conventional:First Lien   \n",
      "\n",
      "              derived_dwelling_category       derived_ethnicity  ...  \\\n",
      "0  Single Family (1-4 Units):Site-Built  Not Hispanic or Latino  ...   \n",
      "1  Single Family (1-4 Units):Site-Built  Not Hispanic or Latino  ...   \n",
      "\n",
      "  denial_reason_2 denial_reason_3  denial_reason_4  tract_population  \\\n",
      "0             NaN             NaN              NaN              3286   \n",
      "1             NaN             NaN              NaN              3765   \n",
      "\n",
      "   tract_minority_population_percent  ffiec_msa_md_median_family_income  \\\n",
      "0                              21.58                              98400   \n",
      "1                               4.70                             110100   \n",
      "\n",
      "   tract_to_msa_income_percentage  tract_owner_occupied_units  \\\n",
      "0                           99.73                        1077   \n",
      "1                           84.24                        1116   \n",
      "\n",
      "   tract_one_to_four_family_homes  tract_median_age_of_housing_units  \n",
      "0                            1294                                 59  \n",
      "1                            1295                                 54  \n",
      "\n",
      "[2 rows x 99 columns]\n"
     ]
    }
   ],
   "source": [
    "import pandas as pd\n",
    "\n",
    "# Filter columns with less than or equal to 30% null values\n",
    "columns_to_keep = missing_percentage[missing_percentage <= 30].index\n",
    "\n",
    "# Create a new dataset with the selected columns\n",
    "new_data = data[columns_to_keep].copy()\n",
    "\n",
    "df = pd.DataFrame(data=data)\n",
    "\n",
    "# Print the first 2 rows of the DataFrame\n",
    "print(df.head(2))"
   ]
  },
  {
   "cell_type": "markdown",
   "id": "b5985d12-a5ae-425b-96d3-56cbe16446b3",
   "metadata": {},
   "source": [
    "# remove columns that that are the same on every row"
   ]
  },
  {
   "cell_type": "code",
   "execution_count": 29,
   "id": "39d99a26-00a9-452f-b9d9-831b47ab7f84",
   "metadata": {
    "tags": []
   },
   "outputs": [],
   "source": [
    "# Calculate the standard deviation for numeric columns\n",
    "numeric_columns = new_data.select_dtypes(include=['number']).columns\n",
    "std_dev_numeric = new_data[numeric_columns].std()\n",
    "\n",
    "# Identify numeric columns where standard deviation is zero (indicating the same value in every row)\n",
    "numeric_columns_to_drop = std_dev_numeric[std_dev_numeric == 0].index\n",
    "\n",
    "# Check non-numeric columns for having the same value in every row\n",
    "non_numeric_columns_to_drop = []\n",
    "for column in new_data.columns:\n",
    "    if column not in numeric_columns:\n",
    "        if new_data[column].nunique() == 1:\n",
    "            non_numeric_columns_to_drop.append(column)\n",
    "\n",
    "# Combine columns to drop\n",
    "columns_to_drop = numeric_columns_to_drop.union(non_numeric_columns_to_drop)\n",
    "\n",
    "# Drop the identified columns\n",
    "new_data = new_data.drop(columns=columns_to_drop)\n"
   ]
  },
  {
   "cell_type": "code",
   "execution_count": 32,
   "id": "7b44e136-3ba8-4f2c-9fa9-7af6101666dc",
   "metadata": {
    "tags": []
   },
   "outputs": [
    {
     "name": "stdout",
     "output_type": "stream",
     "text": [
      "Columns removed (with the same value in every row):\n",
      "0\n"
     ]
    }
   ],
   "source": [
    "# Print the removed columns\n",
    "print(\"Columns removed (with the same value in every row):\")\n",
    "print(len(columns_to_drop))"
   ]
  },
  {
   "cell_type": "markdown",
   "id": "a788ec09-707f-4d81-b3a1-b9f687202ab0",
   "metadata": {
    "tags": []
   },
   "source": [
    "## Drop specific columns"
   ]
  },
  {
   "cell_type": "code",
   "execution_count": 33,
   "id": "25a01de9-13f6-4c03-a109-17a0dd6571a2",
   "metadata": {
    "tags": []
   },
   "outputs": [
    {
     "name": "stdout",
     "output_type": "stream",
     "text": [
      "First few rows of the modified dataset:\n",
      "  state_code  county_code  census_tract conforming_loan_limit  \\\n",
      "0         CT       9003.0  9.003416e+09                     C   \n",
      "1         PA      42017.0  4.201710e+10                     C   \n",
      "2         NJ      34039.0  3.403903e+10                     C   \n",
      "3         PA      42055.0  4.205501e+10                     C   \n",
      "4         MT      30111.0  3.011100e+10                     C   \n",
      "\n",
      "  derived_loan_product_type             derived_dwelling_category  \\\n",
      "0            FHA:First Lien  Single Family (1-4 Units):Site-Built   \n",
      "1   Conventional:First Lien  Single Family (1-4 Units):Site-Built   \n",
      "2            FHA:First Lien  Single Family (1-4 Units):Site-Built   \n",
      "3            FHA:First Lien  Single Family (1-4 Units):Site-Built   \n",
      "4   Conventional:First Lien  Single Family (1-4 Units):Site-Built   \n",
      "\n",
      "        derived_ethnicity               derived_race derived_sex  \\\n",
      "0  Not Hispanic or Latino  Black or African American        Male   \n",
      "1  Not Hispanic or Latino         Race Not Available       Joint   \n",
      "2      Hispanic or Latino                      White       Joint   \n",
      "3  Not Hispanic or Latino                      White      Female   \n",
      "4  Not Hispanic or Latino                      White      Female   \n",
      "\n",
      "   action_taken  ...  initially_payable_to_institution  aus_1  \\\n",
      "0             3  ...                                 1      1   \n",
      "1             2  ...                                 1      1   \n",
      "2             5  ...                                 1      1   \n",
      "3             5  ...                                 1      1   \n",
      "4             5  ...                                 1      1   \n",
      "\n",
      "   denial_reason_1  tract_population  tract_minority_population_percent  \\\n",
      "0                4              3286                              21.58   \n",
      "1               10              3765                               4.70   \n",
      "2               10              3932                              75.43   \n",
      "3               10              5844                              10.40   \n",
      "4               10              7934                              15.15   \n",
      "\n",
      "   ffiec_msa_md_median_family_income  tract_to_msa_income_percentage  \\\n",
      "0                              98400                           99.73   \n",
      "1                             110100                           84.24   \n",
      "2                              98600                           83.56   \n",
      "3                              76400                          116.35   \n",
      "4                              73700                          113.72   \n",
      "\n",
      "   tract_owner_occupied_units  tract_one_to_four_family_homes  \\\n",
      "0                        1077                            1294   \n",
      "1                        1116                            1295   \n",
      "2                        1138                            1395   \n",
      "3                        1769                            2259   \n",
      "4                        2108                            2879   \n",
      "\n",
      "   tract_median_age_of_housing_units  \n",
      "0                                 59  \n",
      "1                                 54  \n",
      "2                                 60  \n",
      "3                                 36  \n",
      "4                                 28  \n",
      "\n",
      "[5 rows x 55 columns]\n"
     ]
    }
   ],
   "source": [
    "# Drop the 'lei' column\n",
    "new_data.drop(columns=['lei', 'aus_1'], inplace=True)\n",
    "\n",
    "# Display the first few rows of the modified dataset\n",
    "print(\"First few rows of the modified dataset:\")\n",
    "print(new_data.head())"
   ]
  },
  {
   "cell_type": "markdown",
   "id": "ff4be3df-6b72-4c13-9f27-3fc8ae3e17dd",
   "metadata": {},
   "source": [
    "# Remove rows with missing values"
   ]
  },
  {
   "cell_type": "code",
   "execution_count": 39,
   "id": "ab3c9ba4-3f02-468a-a7db-b15a644a942e",
   "metadata": {
    "tags": []
   },
   "outputs": [
    {
     "name": "stdout",
     "output_type": "stream",
     "text": [
      "First few rows of the modified dataset:\n",
      "<class 'pandas.core.frame.DataFrame'>\n",
      "Index: 8827 entries, 0 to 9999\n",
      "Data columns (total 55 columns):\n",
      " #   Column                                    Non-Null Count  Dtype  \n",
      "---  ------                                    --------------  -----  \n",
      " 0   state_code                                8827 non-null   object \n",
      " 1   county_code                               8827 non-null   float64\n",
      " 2   census_tract                              8827 non-null   float64\n",
      " 3   conforming_loan_limit                     8827 non-null   object \n",
      " 4   derived_loan_product_type                 8827 non-null   object \n",
      " 5   derived_dwelling_category                 8827 non-null   object \n",
      " 6   derived_ethnicity                         8827 non-null   object \n",
      " 7   derived_race                              8827 non-null   object \n",
      " 8   derived_sex                               8827 non-null   object \n",
      " 9   action_taken                              8827 non-null   int64  \n",
      " 10  purchaser_type                            8827 non-null   int64  \n",
      " 11  preapproval                               8827 non-null   int64  \n",
      " 12  loan_type                                 8827 non-null   int64  \n",
      " 13  loan_purpose                              8827 non-null   int64  \n",
      " 14  lien_status                               8827 non-null   int64  \n",
      " 15  business_or_commercial_purpose            8827 non-null   int64  \n",
      " 16  loan_amount                               8827 non-null   int64  \n",
      " 17  hoepa_status                              8827 non-null   int64  \n",
      " 18  loan_term                                 8827 non-null   float64\n",
      " 19  interest_only_payment                     8827 non-null   int64  \n",
      " 20  other_nonamortizing_features              8827 non-null   int64  \n",
      " 21  construction_method                       8827 non-null   int64  \n",
      " 22  occupancy_type                            8827 non-null   int64  \n",
      " 23  manufactured_home_secured_property_type   8827 non-null   int64  \n",
      " 24  manufactured_home_land_property_interest  8827 non-null   int64  \n",
      " 25  total_units                               8827 non-null   object \n",
      " 26  income                                    8827 non-null   float64\n",
      " 27  applicant_credit_score_type               8827 non-null   int64  \n",
      " 28  co_applicant_credit_score_type            8827 non-null   int64  \n",
      " 29  applicant_ethnicity_1                     8827 non-null   float64\n",
      " 30  co_applicant_ethnicity_1                  8827 non-null   float64\n",
      " 31  applicant_ethnicity_observed              8827 non-null   int64  \n",
      " 32  co_applicant_ethnicity_observed           8827 non-null   int64  \n",
      " 33  applicant_race_1                          8827 non-null   float64\n",
      " 34  co_applicant_race_1                       8827 non-null   int64  \n",
      " 35  applicant_race_observed                   8827 non-null   int64  \n",
      " 36  co_applicant_race_observed                8827 non-null   int64  \n",
      " 37  applicant_sex                             8827 non-null   int64  \n",
      " 38  co_applicant_sex                          8827 non-null   int64  \n",
      " 39  applicant_sex_observed                    8827 non-null   int64  \n",
      " 40  co_applicant_sex_observed                 8827 non-null   int64  \n",
      " 41  applicant_age                             8827 non-null   object \n",
      " 42  co_applicant_age                          8827 non-null   object \n",
      " 43  applicant_age_above_62                    8827 non-null   object \n",
      " 44  submission_of_application                 8827 non-null   int64  \n",
      " 45  initially_payable_to_institution          8827 non-null   int64  \n",
      " 46  aus_1                                     8827 non-null   int64  \n",
      " 47  denial_reason_1                           8827 non-null   int64  \n",
      " 48  tract_population                          8827 non-null   int64  \n",
      " 49  tract_minority_population_percent         8827 non-null   float64\n",
      " 50  ffiec_msa_md_median_family_income         8827 non-null   int64  \n",
      " 51  tract_to_msa_income_percentage            8827 non-null   float64\n",
      " 52  tract_owner_occupied_units                8827 non-null   int64  \n",
      " 53  tract_one_to_four_family_homes            8827 non-null   int64  \n",
      " 54  tract_median_age_of_housing_units         8827 non-null   int64  \n",
      "dtypes: float64(9), int64(35), object(11)\n",
      "memory usage: 3.8+ MB\n",
      "None\n"
     ]
    }
   ],
   "source": [
    "new_data.dropna(inplace=True)\n",
    "\n",
    "print(\"First few rows of the modified dataset:\")\n",
    "print(new_data.info())"
   ]
  },
  {
   "cell_type": "markdown",
   "id": "4c9d2c3f-0971-4a18-8c40-9c5fcd214a07",
   "metadata": {},
   "source": [
    "## Inspect object category columns"
   ]
  },
  {
   "cell_type": "code",
   "execution_count": 40,
   "id": "8dcb7f76-16db-4f2f-a918-c5b3201f6be9",
   "metadata": {
    "tags": []
   },
   "outputs": [
    {
     "name": "stdout",
     "output_type": "stream",
     "text": [
      "Unique value counts for state_code:\n",
      "state_code\n",
      "CA    1372\n",
      "TX     594\n",
      "FL     586\n",
      "NY     545\n",
      "NJ     489\n",
      "GA     413\n",
      "PA     381\n",
      "NC     324\n",
      "IL     324\n",
      "MA     322\n",
      "VA     279\n",
      "MD     268\n",
      "CO     256\n",
      "AZ     251\n",
      "WA     246\n",
      "MI     176\n",
      "OH     172\n",
      "SC     146\n",
      "OR     128\n",
      "CT     127\n",
      "TN     115\n",
      "MN     113\n",
      "IN     109\n",
      "NV     108\n",
      "WI      91\n",
      "UT      82\n",
      "NH      80\n",
      "LA      78\n",
      "MO      73\n",
      "AL      66\n",
      "KY      61\n",
      "DE      47\n",
      "ID      38\n",
      "KS      37\n",
      "NM      35\n",
      "OK      32\n",
      "IA      31\n",
      "AR      30\n",
      "RI      29\n",
      "NE      27\n",
      "MS      27\n",
      "MT      20\n",
      "DC      20\n",
      "ME      19\n",
      "WV      16\n",
      "VT      12\n",
      "WY       8\n",
      "SD       8\n",
      "HI       8\n",
      "AK       6\n",
      "ND       2\n",
      "Name: count, dtype: int64\n",
      "\n",
      "\n",
      "Unique value counts for conforming_loan_limit:\n",
      "conforming_loan_limit\n",
      "C     8469\n",
      "NC     358\n",
      "Name: count, dtype: int64\n",
      "\n",
      "\n",
      "Unique value counts for derived_loan_product_type:\n",
      "derived_loan_product_type\n",
      "Conventional:First Lien          6438\n",
      "FHA:First Lien                   1691\n",
      "VA:First Lien                     609\n",
      "Conventional:Subordinate Lien      45\n",
      "FSA/RHS:First Lien                 35\n",
      "FHA:Subordinate Lien                6\n",
      "VA:Subordinate Lien                 3\n",
      "Name: count, dtype: int64\n",
      "\n",
      "\n",
      "Unique value counts for derived_dwelling_category:\n",
      "derived_dwelling_category\n",
      "Single Family (1-4 Units):Site-Built      8665\n",
      "Single Family (1-4 Units):Manufactured     162\n",
      "Name: count, dtype: int64\n",
      "\n",
      "\n",
      "Unique value counts for derived_ethnicity:\n",
      "derived_ethnicity\n",
      "Not Hispanic or Latino     6614\n",
      "Ethnicity Not Available    1225\n",
      "Hispanic or Latino          848\n",
      "Joint                       140\n",
      "Name: count, dtype: int64\n",
      "\n",
      "\n",
      "Unique value counts for derived_race:\n",
      "derived_race\n",
      "White                                        5848\n",
      "Race Not Available                           1468\n",
      "Black or African American                     813\n",
      "Asian                                         501\n",
      "Joint                                         127\n",
      "American Indian or Alaska Native               44\n",
      "Native Hawaiian or Other Pacific Islander      23\n",
      "2 or more minority races                        3\n",
      "Name: count, dtype: int64\n",
      "\n",
      "\n",
      "Unique value counts for derived_sex:\n",
      "derived_sex\n",
      "Male                 3115\n",
      "Joint                3090\n",
      "Female               1999\n",
      "Sex Not Available     623\n",
      "Name: count, dtype: int64\n",
      "\n",
      "\n",
      "Unique value counts for total_units:\n",
      "total_units\n",
      "1    6886\n",
      "1    1611\n",
      "2     191\n",
      "3      59\n",
      "2      32\n",
      "4      25\n",
      "3      14\n",
      "4       9\n",
      "Name: count, dtype: int64\n",
      "\n",
      "\n",
      "Unique value counts for applicant_age:\n",
      "applicant_age\n",
      "45-54    2150\n",
      "35-44    2066\n",
      "55-64    1700\n",
      "25-34    1396\n",
      "65-74     983\n",
      ">74       390\n",
      "<25       142\n",
      "Name: count, dtype: int64\n",
      "\n",
      "\n",
      "Unique value counts for co_applicant_age:\n",
      "co_applicant_age\n",
      "9999     5205\n",
      "35-44     846\n",
      "45-54     807\n",
      "55-64     684\n",
      "25-34     635\n",
      "65-74     449\n",
      ">74       134\n",
      "<25        67\n",
      "Name: count, dtype: int64\n",
      "\n",
      "\n",
      "Unique value counts for applicant_age_above_62:\n",
      "applicant_age_above_62\n",
      "No     7026\n",
      "Yes    1801\n",
      "Name: count, dtype: int64\n",
      "\n",
      "\n"
     ]
    }
   ],
   "source": [
    "# Assuming new_data is your DataFrame\n",
    "\n",
    "# Select columns with data type 'object'\n",
    "object_columns = new_data.select_dtypes(include=['object']).columns\n",
    "\n",
    "# Display unique value counts for each 'object' column\n",
    "for column in object_columns:\n",
    "    print(f\"Unique value counts for {column}:\")\n",
    "    print(new_data[column].value_counts())\n",
    "    print(\"\\n\")\n"
   ]
  },
  {
   "cell_type": "code",
   "execution_count": null,
   "id": "3f6e6726-239a-4a22-ada4-05db85c97b5a",
   "metadata": {},
   "outputs": [],
   "source": []
  },
  {
   "cell_type": "markdown",
   "id": "6937a2e1-93de-4bbe-abf5-9a62c6a18196",
   "metadata": {
    "tags": []
   },
   "source": [
    "male and female should be defined under the column 'applicant_sex', \n",
    "income under 'income',  \n",
    "loan amount under 'loan_amount'\n"
   ]
  },
  {
   "cell_type": "code",
   "execution_count": null,
   "id": "d15f08a0-ece6-48de-9c0b-c7a5c67da112",
   "metadata": {},
   "outputs": [],
   "source": []
  }
 ],
 "metadata": {
  "kernelspec": {
   "display_name": "Python 3 (ipykernel)",
   "language": "python",
   "name": "python3"
  },
  "language_info": {
   "codemirror_mode": {
    "name": "ipython",
    "version": 3
   },
   "file_extension": ".py",
   "mimetype": "text/x-python",
   "name": "python",
   "nbconvert_exporter": "python",
   "pygments_lexer": "ipython3",
   "version": "3.9.18"
  }
 },
 "nbformat": 4,
 "nbformat_minor": 5
}
