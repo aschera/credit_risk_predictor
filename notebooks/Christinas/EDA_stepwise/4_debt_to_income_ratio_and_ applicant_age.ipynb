{
 "cells": [
  {
   "cell_type": "code",
   "execution_count": 1,
   "id": "2fee75e9-d296-41d1-971d-4c50974d97b8",
   "metadata": {
    "tags": []
   },
   "outputs": [],
   "source": [
    "import warnings\n",
    "import numpy as np\n",
    "import pandas as pd\n",
    "import seaborn as sns\n",
    "import matplotlib.pyplot as plt\n",
    "import seaborn as sns\n",
    "from sklearn.preprocessing import LabelEncoder\n",
    "from itertools import product\n",
    "import matplotlib.pyplot as plt"
   ]
  },
  {
   "cell_type": "markdown",
   "id": "530571b3-91e7-4bd7-9819-1d5ff046fa53",
   "metadata": {},
   "source": [
    "# load dataset 3"
   ]
  },
  {
   "cell_type": "code",
   "execution_count": 2,
   "id": "49c9a1f4-56ea-430a-a484-af4e5b243ca6",
   "metadata": {
    "tags": []
   },
   "outputs": [],
   "source": [
    "df = pd.read_csv('3_distribution_race_ethnicity.csv', low_memory=False)"
   ]
  },
  {
   "cell_type": "code",
   "execution_count": 3,
   "id": "3e18bac8-439a-4038-8524-ce793eea902b",
   "metadata": {
    "tags": []
   },
   "outputs": [
    {
     "name": "stdout",
     "output_type": "stream",
     "text": [
      "<class 'pandas.core.frame.DataFrame'>\n",
      "RangeIndex: 279114 entries, 0 to 279113\n",
      "Data columns (total 34 columns):\n",
      " #   Column                                    Non-Null Count   Dtype  \n",
      "---  ------                                    --------------   -----  \n",
      " 0   census_tract                              279097 non-null  float64\n",
      " 1   action_taken                              279114 non-null  int64  \n",
      " 2   loan_type                                 279114 non-null  int64  \n",
      " 3   lien_status                               279114 non-null  int64  \n",
      " 4   reverse_mortgage                          279114 non-null  int64  \n",
      " 5   open_end_line_of_credit                   279114 non-null  int64  \n",
      " 6   loan_amount                               279114 non-null  int64  \n",
      " 7   combined_loan_to_value_ratio              278275 non-null  object \n",
      " 8   interest_rate                             209127 non-null  object \n",
      " 9   total_loan_costs                          209127 non-null  object \n",
      " 10  origination_charges                       209127 non-null  object \n",
      " 11  loan_term                                 279106 non-null  object \n",
      " 12  negative_amortization                     279114 non-null  int64  \n",
      " 13  interest_only_payment                     279114 non-null  int64  \n",
      " 14  balloon_payment                           279114 non-null  int64  \n",
      " 15  other_nonamortizing_features              279114 non-null  int64  \n",
      " 16  property_value                            279088 non-null  object \n",
      " 17  occupancy_type                            279114 non-null  int64  \n",
      " 18  manufactured_home_secured_property_type   279114 non-null  int64  \n",
      " 19  manufactured_home_land_property_interest  279114 non-null  int64  \n",
      " 20  total_units                               279114 non-null  int64  \n",
      " 21  income                                    268561 non-null  float64\n",
      " 22  debt_to_income_ratio                      277596 non-null  object \n",
      " 23  applicant_credit_score_type               279114 non-null  int64  \n",
      " 24  co_applicant_credit_score_type            279114 non-null  int64  \n",
      " 25  applicant_sex                             279114 non-null  int64  \n",
      " 26  co_applicant_sex                          279114 non-null  int64  \n",
      " 27  applicant_age                             279114 non-null  object \n",
      " 28  co_applicant_age                          279114 non-null  object \n",
      " 29  aus_1                                     279114 non-null  int64  \n",
      " 30  applicant_race_1                          224921 non-null  float64\n",
      " 31  co_applicant_race_1                       109161 non-null  float64\n",
      " 32  applicant_ethnicity_1                     255821 non-null  float64\n",
      " 33  co_applicant_ethnicity_1                  125633 non-null  float64\n",
      "dtypes: float64(6), int64(19), object(9)\n",
      "memory usage: 72.4+ MB\n"
     ]
    }
   ],
   "source": [
    "df.info()"
   ]
  },
  {
   "cell_type": "markdown",
   "id": "17a074f4-3488-4814-a1f2-c2dbff015dec",
   "metadata": {},
   "source": [
    "# debt_to_income_ratio\n",
    "Need new categories.inconsisten scale.\n",
    "\n",
    "- <20%      \n",
    "- 20% - <30%   \n",
    "- 30% - <36%   \n",
    "- (new) 36% - <40%\n",
    "- (new) 40% - < 50%\n",
    "- 50% - 60%    \n",
    "- >60%     "
   ]
  },
  {
   "cell_type": "code",
   "execution_count": 4,
   "id": "3e4c8c80-eee9-4bbc-bec2-79b81d6d3fa4",
   "metadata": {
    "tags": []
   },
   "outputs": [
    {
     "name": "stdout",
     "output_type": "stream",
     "text": [
      "debt_to_income_ratio\n",
      "20%-<30%    59017\n",
      "30%-<36%    51658\n",
      "<20%        22134\n",
      ">60%        16521\n",
      "50%-60%     11868\n",
      "44          11425\n",
      "43          10120\n",
      "42          10042\n",
      "39           9953\n",
      "41           9789\n",
      "40           9567\n",
      "38           9540\n",
      "37           9413\n",
      "36           9202\n",
      "49           6009\n",
      "48           5352\n",
      "45           5336\n",
      "46           5259\n",
      "47           5179\n",
      "Exempt        212\n",
      "Name: count, dtype: int64\n"
     ]
    }
   ],
   "source": [
    "print(df['debt_to_income_ratio'].value_counts())"
   ]
  },
  {
   "cell_type": "code",
   "execution_count": 5,
   "id": "0946f943-67e0-4203-bccc-7d8812251904",
   "metadata": {},
   "outputs": [
    {
     "data": {
      "text/plain": [
       "debt_to_income_ratio\n",
       "36%-50%     116186\n",
       "20%-<30%     59017\n",
       "30%-<36%     51658\n",
       "<20%         22134\n",
       ">60%         16521\n",
       "50%-60%      11868\n",
       "Exempt         212\n",
       "Name: count, dtype: int64"
      ]
     },
     "execution_count": 5,
     "metadata": {},
     "output_type": "execute_result"
    }
   ],
   "source": [
    "# Define a function to categorize debt to income ratio\n",
    "def categorize_ratio(ratio):\n",
    "    if ratio in ['36', '37','38','39','40', '41', '42', '43', '44', '45', '46', '47', '48', '49']:\n",
    "        return '36%-50%'\n",
    "    return ratio\n",
    "\n",
    "# Apply the categorization function to 'debt_to_income_ratio' column\n",
    "df['debt_to_income_ratio'] = df['debt_to_income_ratio'].apply(categorize_ratio)\n",
    "\n",
    "df['debt_to_income_ratio'].value_counts()"
   ]
  },
  {
   "cell_type": "markdown",
   "id": "ba852c05-c2d6-4aaa-9b2c-6483f8c9ce24",
   "metadata": {},
   "source": [
    "# applicant_age"
   ]
  },
  {
   "cell_type": "code",
   "execution_count": 6,
   "id": "6bec649d-d514-42c4-98c8-69f1889e803d",
   "metadata": {
    "tags": []
   },
   "outputs": [
    {
     "name": "stdout",
     "output_type": "stream",
     "text": [
      "applicant_age\n",
      "35-44    72558\n",
      "45-54    68978\n",
      "55-64    51750\n",
      "25-34    45578\n",
      "65-74    27126\n",
      ">74       8873\n",
      "<25       4248\n",
      "8888         3\n",
      "Name: count, dtype: int64\n"
     ]
    }
   ],
   "source": [
    "print(df['applicant_age'].value_counts())"
   ]
  },
  {
   "cell_type": "markdown",
   "id": "a51ac0fc-fa7e-43b0-90c0-4d26cab7a721",
   "metadata": {},
   "source": [
    "Remove 8888 category"
   ]
  },
  {
   "cell_type": "code",
   "execution_count": 7,
   "id": "15b58949-fc67-458e-8db9-bf1f2cd33b13",
   "metadata": {
    "tags": []
   },
   "outputs": [
    {
     "name": "stdout",
     "output_type": "stream",
     "text": [
      "applicant_age\n",
      "1    72558\n",
      "2    68978\n",
      "3    51750\n",
      "0    45578\n",
      "4    27126\n",
      "7     8873\n",
      "6     4248\n",
      "Name: count, dtype: int64\n"
     ]
    }
   ],
   "source": [
    "encoder = LabelEncoder()\n",
    "\n",
    "df['applicant_age'] = encoder.fit_transform(df['applicant_age'])\n",
    "df_encoded = df[df['applicant_age'] != 5]\n",
    "\n",
    "# Display the value counts after excluding the '8888' category\n",
    "print(df_encoded['applicant_age'].value_counts())"
   ]
  },
  {
   "cell_type": "code",
   "execution_count": 8,
   "id": "0c2cf102-9f40-4807-acfd-75c79beb6b40",
   "metadata": {
    "tags": []
   },
   "outputs": [
    {
     "name": "stdout",
     "output_type": "stream",
     "text": [
      "co_applicant_age\n",
      "9999     141614\n",
      "35-44     35825\n",
      "45-54     32244\n",
      "55-64     25262\n",
      "25-34     24934\n",
      "65-74     13688\n",
      ">74        3609\n",
      "<25        1938\n",
      "Name: count, dtype: int64\n"
     ]
    }
   ],
   "source": [
    "print(df['co_applicant_age'].value_counts())"
   ]
  },
  {
   "cell_type": "code",
   "execution_count": 9,
   "id": "7524a21d-959e-49fe-a328-9666b02a2704",
   "metadata": {
    "tags": []
   },
   "outputs": [
    {
     "name": "stdout",
     "output_type": "stream",
     "text": [
      "applicant_age\n",
      "1    36156\n",
      "2    32858\n",
      "3    25465\n",
      "0    22365\n",
      "4    14570\n",
      "7     4450\n",
      "6     1633\n",
      "5        3\n",
      "Name: count, dtype: int64\n"
     ]
    }
   ],
   "source": [
    "df['co_applicant_age'] = encoder.fit_transform(df['co_applicant_age'])\n",
    "df_encoded = df[df['co_applicant_age'] != 5]\n",
    "\n",
    "# Display the value counts after excluding the '8888' category\n",
    "print(df_encoded['applicant_age'].value_counts())"
   ]
  },
  {
   "cell_type": "code",
   "execution_count": 10,
   "id": "49b9a3ff-d047-430f-94dc-dd3f530db689",
   "metadata": {},
   "outputs": [
    {
     "name": "stdout",
     "output_type": "stream",
     "text": [
      "<class 'pandas.core.frame.DataFrame'>\n",
      "Index: 137500 entries, 1 to 279110\n",
      "Data columns (total 34 columns):\n",
      " #   Column                                    Non-Null Count   Dtype  \n",
      "---  ------                                    --------------   -----  \n",
      " 0   census_tract                              137495 non-null  float64\n",
      " 1   action_taken                              137500 non-null  int64  \n",
      " 2   loan_type                                 137500 non-null  int64  \n",
      " 3   lien_status                               137500 non-null  int64  \n",
      " 4   reverse_mortgage                          137500 non-null  int64  \n",
      " 5   open_end_line_of_credit                   137500 non-null  int64  \n",
      " 6   loan_amount                               137500 non-null  int64  \n",
      " 7   combined_loan_to_value_ratio              137205 non-null  object \n",
      " 8   interest_rate                             110512 non-null  object \n",
      " 9   total_loan_costs                          110512 non-null  object \n",
      " 10  origination_charges                       110512 non-null  object \n",
      " 11  loan_term                                 137497 non-null  object \n",
      " 12  negative_amortization                     137500 non-null  int64  \n",
      " 13  interest_only_payment                     137500 non-null  int64  \n",
      " 14  balloon_payment                           137500 non-null  int64  \n",
      " 15  other_nonamortizing_features              137500 non-null  int64  \n",
      " 16  property_value                            137490 non-null  object \n",
      " 17  occupancy_type                            137500 non-null  int64  \n",
      " 18  manufactured_home_secured_property_type   137500 non-null  int64  \n",
      " 19  manufactured_home_land_property_interest  137500 non-null  int64  \n",
      " 20  total_units                               137500 non-null  int64  \n",
      " 21  income                                    131944 non-null  float64\n",
      " 22  debt_to_income_ratio                      136918 non-null  object \n",
      " 23  applicant_credit_score_type               137500 non-null  int64  \n",
      " 24  co_applicant_credit_score_type            137500 non-null  int64  \n",
      " 25  applicant_sex                             137500 non-null  int64  \n",
      " 26  co_applicant_sex                          137500 non-null  int64  \n",
      " 27  applicant_age                             137500 non-null  int32  \n",
      " 28  co_applicant_age                          137500 non-null  int32  \n",
      " 29  aus_1                                     137500 non-null  int64  \n",
      " 30  applicant_race_1                          111339 non-null  float64\n",
      " 31  co_applicant_race_1                       109161 non-null  float64\n",
      " 32  applicant_ethnicity_1                     126954 non-null  float64\n",
      " 33  co_applicant_ethnicity_1                  125633 non-null  float64\n",
      "dtypes: float64(6), int32(2), int64(19), object(7)\n",
      "memory usage: 35.7+ MB\n"
     ]
    }
   ],
   "source": [
    "df_encoded.info()"
   ]
  },
  {
   "cell_type": "code",
   "execution_count": 11,
   "id": "2a622c5a-0772-475a-a7ce-a1e273d3c54a",
   "metadata": {
    "tags": []
   },
   "outputs": [],
   "source": [
    "df_encoded.to_csv('4_debt_to_income_ratio_and_applicant_age.csv', index=False)"
   ]
  }
 ],
 "metadata": {
  "kernelspec": {
   "display_name": "Python 3 (ipykernel)",
   "language": "python",
   "name": "python3"
  },
  "language_info": {
   "codemirror_mode": {
    "name": "ipython",
    "version": 3
   },
   "file_extension": ".py",
   "mimetype": "text/x-python",
   "name": "python",
   "nbconvert_exporter": "python",
   "pygments_lexer": "ipython3",
   "version": "3.9.18"
  }
 },
 "nbformat": 4,
 "nbformat_minor": 5
}
