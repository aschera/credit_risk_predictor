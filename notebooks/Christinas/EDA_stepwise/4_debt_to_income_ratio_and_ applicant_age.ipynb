{
 "cells": [
  {
   "cell_type": "code",
   "execution_count": 1,
   "id": "2fee75e9-d296-41d1-971d-4c50974d97b8",
   "metadata": {
    "tags": []
   },
   "outputs": [],
   "source": [
    "import warnings\n",
    "import numpy as np\n",
    "import pandas as pd\n",
    "import seaborn as sns\n",
    "import matplotlib.pyplot as plt\n",
    "import seaborn as sns\n",
    "from sklearn.preprocessing import LabelEncoder\n",
    "from itertools import product\n",
    "import matplotlib.pyplot as plt"
   ]
  },
  {
   "cell_type": "markdown",
   "id": "530571b3-91e7-4bd7-9819-1d5ff046fa53",
   "metadata": {},
   "source": [
    "# load dataset 3"
   ]
  },
  {
   "cell_type": "code",
   "execution_count": 2,
   "id": "49c9a1f4-56ea-430a-a484-af4e5b243ca6",
   "metadata": {
    "tags": []
   },
   "outputs": [],
   "source": [
    "df = pd.read_csv('3_distribution_race_ethnicity.csv', low_memory=False)"
   ]
  },
  {
   "cell_type": "code",
   "execution_count": 3,
   "id": "3e18bac8-439a-4038-8524-ce793eea902b",
   "metadata": {
    "tags": []
   },
   "outputs": [
    {
     "name": "stdout",
     "output_type": "stream",
     "text": [
      "<class 'pandas.core.frame.DataFrame'>\n",
      "RangeIndex: 190082 entries, 0 to 190081\n",
      "Data columns (total 76 columns):\n",
      " #   Column                                    Non-Null Count   Dtype  \n",
      "---  ------                                    --------------   -----  \n",
      " 0   activity_year                             190082 non-null  int64  \n",
      " 1   lei                                       190082 non-null  object \n",
      " 2   derived_msa_md                            10838 non-null   float64\n",
      " 3   state_code                                190024 non-null  object \n",
      " 4   county_code                               190014 non-null  float64\n",
      " 5   census_tract                              190014 non-null  float64\n",
      " 6   conforming_loan_limit                     190065 non-null  object \n",
      " 7   derived_loan_product_type                 190082 non-null  object \n",
      " 8   derived_dwelling_category                 190082 non-null  object \n",
      " 9   action_taken                              190082 non-null  int64  \n",
      " 10  purchaser_type                            190082 non-null  int64  \n",
      " 11  preapproval                               190082 non-null  int64  \n",
      " 12  loan_type                                 190082 non-null  int64  \n",
      " 13  loan_purpose                              190082 non-null  bool   \n",
      " 14  lien_status                               190082 non-null  int64  \n",
      " 15  reverse_mortgage                          190082 non-null  int64  \n",
      " 16  open_end_line_of_credit                   190082 non-null  int64  \n",
      " 17  business_or_commercial_purpose            190082 non-null  bool   \n",
      " 18  loan_amount                               190082 non-null  int64  \n",
      " 19  combined_loan_to_value_ratio              141881 non-null  object \n",
      " 20  interest_rate                             117691 non-null  object \n",
      " 21  rate_spread                               113282 non-null  object \n",
      " 22  hoepa_status                              190082 non-null  int64  \n",
      " 23  total_loan_costs                          113787 non-null  object \n",
      " 24  total_points_and_fees                     302 non-null     object \n",
      " 25  origination_charges                       115942 non-null  object \n",
      " 26  discount_points                           28357 non-null   object \n",
      " 27  lender_credits                            60714 non-null   object \n",
      " 28  loan_term                                 189817 non-null  object \n",
      " 29  prepayment_penalty_term                   303 non-null     object \n",
      " 30  intro_rate_period                         15481 non-null   object \n",
      " 31  negative_amortization                     190082 non-null  int64  \n",
      " 32  interest_only_payment                     190082 non-null  int64  \n",
      " 33  balloon_payment                           190082 non-null  int64  \n",
      " 34  other_nonamortizing_features              190082 non-null  int64  \n",
      " 35  property_value                            147001 non-null  object \n",
      " 36  construction_method                       190082 non-null  int64  \n",
      " 37  occupancy_type                            190082 non-null  int64  \n",
      " 38  manufactured_home_secured_property_type   190082 non-null  int64  \n",
      " 39  manufactured_home_land_property_interest  190082 non-null  int64  \n",
      " 40  total_units                               190082 non-null  object \n",
      " 41  multifamily_affordable_units              302 non-null     object \n",
      " 42  income                                    181950 non-null  float64\n",
      " 43  debt_to_income_ratio                      142255 non-null  object \n",
      " 44  applicant_credit_score_type               190082 non-null  int64  \n",
      " 45  co_applicant_credit_score_type            190082 non-null  int64  \n",
      " 46  applicant_sex                             190082 non-null  int64  \n",
      " 47  co_applicant_sex                          190082 non-null  int64  \n",
      " 48  applicant_age                             190082 non-null  object \n",
      " 49  co_applicant_age                          190082 non-null  object \n",
      " 50  applicant_age_above_62                    189854 non-null  object \n",
      " 51  co_applicant_age_above_62                 88058 non-null   object \n",
      " 52  submission_of_application                 190082 non-null  int64  \n",
      " 53  initially_payable_to_institution          190082 non-null  int64  \n",
      " 54  aus_1                                     190082 non-null  int64  \n",
      " 55  aus_2                                     48417 non-null   float64\n",
      " 56  aus_3                                     38363 non-null   float64\n",
      " 57  aus_4                                     0 non-null       float64\n",
      " 58  aus_5                                     8 non-null       float64\n",
      " 59  denial_reason_1                           190082 non-null  int64  \n",
      " 60  denial_reason_2                           11280 non-null   float64\n",
      " 61  denial_reason_3                           1649 non-null    float64\n",
      " 62  denial_reason_4                           134 non-null     float64\n",
      " 63  tract_population                          190082 non-null  int64  \n",
      " 64  tract_minority_population_percent         190082 non-null  float64\n",
      " 65  ffiec_msa_md_median_family_income         190082 non-null  int64  \n",
      " 66  tract_to_msa_income_percentage            190082 non-null  float64\n",
      " 67  tract_owner_occupied_units                190082 non-null  int64  \n",
      " 68  tract_one_to_four_family_homes            190082 non-null  int64  \n",
      " 69  tract_median_age_of_housing_units         190082 non-null  int64  \n",
      " 70  applicant_race_1                          148128 non-null  float64\n",
      " 71  applicant_race_2                          1583 non-null    float64\n",
      " 72  co_applicant_race_1                       69803 non-null   float64\n",
      " 73  co_applicant_race_2                       591 non-null     float64\n",
      " 74  applicant_ethnicity_1                     168803 non-null  float64\n",
      " 75  co_applicant_ethnicity_1                  80690 non-null   float64\n",
      "dtypes: bool(2), float64(19), int64(31), object(24)\n",
      "memory usage: 107.7+ MB\n"
     ]
    }
   ],
   "source": [
    "df.info()"
   ]
  },
  {
   "cell_type": "markdown",
   "id": "17a074f4-3488-4814-a1f2-c2dbff015dec",
   "metadata": {},
   "source": [
    "# debt_to_income_ratio\n",
    "Need new categories.inconsisten scale.\n",
    "\n",
    "- <20%      \n",
    "- 20% - <30%   \n",
    "- 30% - <36%   \n",
    "- (new) 36% - <40%\n",
    "- (new) 40% - < 50%\n",
    "- 50% - 60%    \n",
    "- >60%     "
   ]
  },
  {
   "cell_type": "code",
   "execution_count": 4,
   "id": "3e4c8c80-eee9-4bbc-bec2-79b81d6d3fa4",
   "metadata": {
    "tags": []
   },
   "outputs": [
    {
     "name": "stdout",
     "output_type": "stream",
     "text": [
      "debt_to_income_ratio\n",
      "20%-<30%    28099\n",
      "30%-<36%    26387\n",
      "<20%        10806\n",
      ">60%         7176\n",
      "50%-60%      6391\n",
      "44           6201\n",
      "43           5492\n",
      "42           5434\n",
      "40           5207\n",
      "39           5197\n",
      "41           5182\n",
      "38           4998\n",
      "37           4881\n",
      "36           4757\n",
      "49           3523\n",
      "45           3089\n",
      "48           3073\n",
      "46           3056\n",
      "47           3004\n",
      "Exempt        302\n",
      "Name: count, dtype: int64\n"
     ]
    }
   ],
   "source": [
    "print(df['debt_to_income_ratio'].value_counts())"
   ]
  },
  {
   "cell_type": "code",
   "execution_count": 5,
   "id": "0946f943-67e0-4203-bccc-7d8812251904",
   "metadata": {},
   "outputs": [
    {
     "data": {
      "text/plain": [
       "debt_to_income_ratio\n",
       "36%-50%     63094\n",
       "20%-<30%    28099\n",
       "30%-<36%    26387\n",
       "<20%        10806\n",
       ">60%         7176\n",
       "50%-60%      6391\n",
       "Exempt        302\n",
       "Name: count, dtype: int64"
      ]
     },
     "execution_count": 5,
     "metadata": {},
     "output_type": "execute_result"
    }
   ],
   "source": [
    "# Define a function to categorize debt to income ratio\n",
    "def categorize_ratio(ratio):\n",
    "    if ratio in ['36', '37','38','39','40', '41', '42', '43', '44', '45', '46', '47', '48', '49']:\n",
    "        return '36%-50%'\n",
    "    return ratio\n",
    "\n",
    "# Apply the categorization function to 'debt_to_income_ratio' column\n",
    "df['debt_to_income_ratio'] = df['debt_to_income_ratio'].apply(categorize_ratio)\n",
    "\n",
    "df['debt_to_income_ratio'].value_counts()"
   ]
  },
  {
   "cell_type": "markdown",
   "id": "ba852c05-c2d6-4aaa-9b2c-6483f8c9ce24",
   "metadata": {},
   "source": [
    "# applicant_age"
   ]
  },
  {
   "cell_type": "code",
   "execution_count": 6,
   "id": "6bec649d-d514-42c4-98c8-69f1889e803d",
   "metadata": {
    "tags": []
   },
   "outputs": [
    {
     "name": "stdout",
     "output_type": "stream",
     "text": [
      "applicant_age\n",
      "35-44    48815\n",
      "45-54    45182\n",
      "55-64    34348\n",
      "25-34    32903\n",
      "65-74    18722\n",
      ">74       6329\n",
      "<25       3555\n",
      "8888       228\n",
      "Name: count, dtype: int64\n"
     ]
    }
   ],
   "source": [
    "print(df['applicant_age'].value_counts())"
   ]
  },
  {
   "cell_type": "markdown",
   "id": "a51ac0fc-fa7e-43b0-90c0-4d26cab7a721",
   "metadata": {},
   "source": [
    "Remove 8888 category"
   ]
  },
  {
   "cell_type": "code",
   "execution_count": 7,
   "id": "15b58949-fc67-458e-8db9-bf1f2cd33b13",
   "metadata": {
    "tags": []
   },
   "outputs": [
    {
     "name": "stdout",
     "output_type": "stream",
     "text": [
      "applicant_age\n",
      "1    48815\n",
      "2    45182\n",
      "3    34348\n",
      "0    32903\n",
      "4    18722\n",
      "7     6329\n",
      "6     3555\n",
      "Name: count, dtype: int64\n"
     ]
    }
   ],
   "source": [
    "encoder = LabelEncoder()\n",
    "\n",
    "df['applicant_age'] = encoder.fit_transform(df['applicant_age'])\n",
    "df_encoded = df[df['applicant_age'] != 5]\n",
    "\n",
    "# Display the value counts after excluding the '8888' category\n",
    "print(df_encoded['applicant_age'].value_counts())"
   ]
  },
  {
   "cell_type": "code",
   "execution_count": 8,
   "id": "2a622c5a-0772-475a-a7ce-a1e273d3c54a",
   "metadata": {
    "tags": []
   },
   "outputs": [],
   "source": [
    "df_encoded.to_csv('4_debt_to_income_ratio_and_applicant_age.csv', index=False)"
   ]
  }
 ],
 "metadata": {
  "kernelspec": {
   "display_name": "Python 3 (ipykernel)",
   "language": "python",
   "name": "python3"
  },
  "language_info": {
   "codemirror_mode": {
    "name": "ipython",
    "version": 3
   },
   "file_extension": ".py",
   "mimetype": "text/x-python",
   "name": "python",
   "nbconvert_exporter": "python",
   "pygments_lexer": "ipython3",
   "version": "3.9.18"
  }
 },
 "nbformat": 4,
 "nbformat_minor": 5
}
