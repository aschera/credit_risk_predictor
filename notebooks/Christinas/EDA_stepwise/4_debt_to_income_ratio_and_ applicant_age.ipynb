{
 "cells": [
  {
   "cell_type": "code",
   "execution_count": 2,
   "id": "2fee75e9-d296-41d1-971d-4c50974d97b8",
   "metadata": {
    "tags": []
   },
   "outputs": [],
   "source": [
    "import warnings\n",
    "import numpy as np\n",
    "import pandas as pd\n",
    "import seaborn as sns\n",
    "import matplotlib.pyplot as plt\n",
    "import seaborn as sns\n",
    "from sklearn.preprocessing import LabelEncoder\n",
    "from itertools import product\n",
    "import matplotlib.pyplot as plt"
   ]
  },
  {
   "cell_type": "markdown",
   "id": "530571b3-91e7-4bd7-9819-1d5ff046fa53",
   "metadata": {},
   "source": [
    "# load dataset 3"
   ]
  },
  {
   "cell_type": "code",
   "execution_count": 3,
   "id": "49c9a1f4-56ea-430a-a484-af4e5b243ca6",
   "metadata": {
    "tags": []
   },
   "outputs": [],
   "source": [
    "df = pd.read_csv('3_distribution_race_ethnicity.csv', low_memory=False)"
   ]
  },
  {
   "cell_type": "code",
   "execution_count": 4,
   "id": "3e18bac8-439a-4038-8524-ce793eea902b",
   "metadata": {
    "tags": []
   },
   "outputs": [
    {
     "name": "stdout",
     "output_type": "stream",
     "text": [
      "<class 'pandas.core.frame.DataFrame'>\n",
      "RangeIndex: 55614 entries, 0 to 55613\n",
      "Data columns (total 35 columns):\n",
      " #   Column                                    Non-Null Count  Dtype  \n",
      "---  ------                                    --------------  -----  \n",
      " 0   census_tract                              55515 non-null  float64\n",
      " 1   action_taken                              55614 non-null  int64  \n",
      " 2   loan_type                                 55614 non-null  int64  \n",
      " 3   lien_status                               55614 non-null  int64  \n",
      " 4   reverse_mortgage                          55614 non-null  int64  \n",
      " 5   open_end_line_of_credit                   55614 non-null  int64  \n",
      " 6   loan_amount                               55614 non-null  int64  \n",
      " 7   combined_loan_to_value_ratio              55126 non-null  object \n",
      " 8   interest_rate                             32497 non-null  object \n",
      " 9   total_loan_costs                          32497 non-null  object \n",
      " 10  origination_charges                       32497 non-null  object \n",
      " 11  loan_term                                 55600 non-null  object \n",
      " 12  negative_amortization                     55614 non-null  int64  \n",
      " 13  interest_only_payment                     55614 non-null  int64  \n",
      " 14  balloon_payment                           55614 non-null  int64  \n",
      " 15  other_nonamortizing_features              55614 non-null  int64  \n",
      " 16  property_value                            55400 non-null  object \n",
      " 17  occupancy_type                            55614 non-null  int64  \n",
      " 18  manufactured_home_secured_property_type   55614 non-null  int64  \n",
      " 19  manufactured_home_land_property_interest  55614 non-null  int64  \n",
      " 20  total_units                               55614 non-null  int64  \n",
      " 21  income                                    53667 non-null  float64\n",
      " 22  debt_to_income_ratio                      55096 non-null  object \n",
      " 23  applicant_credit_score_type               55614 non-null  int64  \n",
      " 24  co_applicant_credit_score_type            55614 non-null  int64  \n",
      " 25  applicant_ethnicity_1                     55614 non-null  float64\n",
      " 26  co_applicant_ethnicity_1                  55614 non-null  float64\n",
      " 27  applicant_race_1                          55614 non-null  float64\n",
      " 28  applicant_race_2                          240 non-null    float64\n",
      " 29  co_applicant_race_1                       55614 non-null  float64\n",
      " 30  co_applicant_race_2                       213 non-null    float64\n",
      " 31  applicant_sex                             55614 non-null  int64  \n",
      " 32  co_applicant_sex                          55614 non-null  int64  \n",
      " 33  applicant_age                             55614 non-null  object \n",
      " 34  co_applicant_age                          55614 non-null  object \n",
      "dtypes: float64(8), int64(18), object(9)\n",
      "memory usage: 14.9+ MB\n"
     ]
    }
   ],
   "source": [
    "df.info()"
   ]
  },
  {
   "cell_type": "markdown",
   "id": "17a074f4-3488-4814-a1f2-c2dbff015dec",
   "metadata": {},
   "source": [
    "# debt_to_income_ratio\n",
    "Need new categories.inconsisten scale.\n",
    "\n",
    "- <20%      \n",
    "- 20% - <30%   \n",
    "- 30% - <36%   \n",
    "- (new) 36% - <40%\n",
    "- (new) 40% - < 50%\n",
    "- 50% - 60%    \n",
    "- >60%     "
   ]
  },
  {
   "cell_type": "code",
   "execution_count": 5,
   "id": "3e4c8c80-eee9-4bbc-bec2-79b81d6d3fa4",
   "metadata": {
    "tags": []
   },
   "outputs": [
    {
     "name": "stdout",
     "output_type": "stream",
     "text": [
      "debt_to_income_ratio\n",
      "20%-<30%    11610\n",
      "30%-<36%     9691\n",
      "<20%         4538\n",
      ">60%         4435\n",
      "50%-60%      3634\n",
      "44           1925\n",
      "42           1809\n",
      "43           1748\n",
      "39           1707\n",
      "41           1705\n",
      "38           1682\n",
      "40           1673\n",
      "37           1645\n",
      "36           1642\n",
      "49           1172\n",
      "45           1050\n",
      "48           1023\n",
      "47           1018\n",
      "46            966\n",
      "Exempt        423\n",
      "Name: count, dtype: int64\n"
     ]
    }
   ],
   "source": [
    "print(df['debt_to_income_ratio'].value_counts())"
   ]
  },
  {
   "cell_type": "code",
   "execution_count": 6,
   "id": "0946f943-67e0-4203-bccc-7d8812251904",
   "metadata": {},
   "outputs": [
    {
     "data": {
      "text/plain": [
       "debt_to_income_ratio\n",
       "36%-50%     20765\n",
       "20%-<30%    11610\n",
       "30%-<36%     9691\n",
       "<20%         4538\n",
       ">60%         4435\n",
       "50%-60%      3634\n",
       "Exempt        423\n",
       "Name: count, dtype: int64"
      ]
     },
     "execution_count": 6,
     "metadata": {},
     "output_type": "execute_result"
    }
   ],
   "source": [
    "# Define a function to categorize debt to income ratio\n",
    "def categorize_ratio(ratio):\n",
    "    if ratio in ['36', '37','38','39','40', '41', '42', '43', '44', '45', '46', '47', '48', '49']:\n",
    "        return '36%-50%'\n",
    "    return ratio\n",
    "\n",
    "# Apply the categorization function to 'debt_to_income_ratio' column\n",
    "df['debt_to_income_ratio'] = df['debt_to_income_ratio'].apply(categorize_ratio)\n",
    "\n",
    "df['debt_to_income_ratio'].value_counts()"
   ]
  },
  {
   "cell_type": "markdown",
   "id": "ba852c05-c2d6-4aaa-9b2c-6483f8c9ce24",
   "metadata": {},
   "source": [
    "# applicant_age"
   ]
  },
  {
   "cell_type": "code",
   "execution_count": 7,
   "id": "6bec649d-d514-42c4-98c8-69f1889e803d",
   "metadata": {
    "tags": []
   },
   "outputs": [
    {
     "name": "stdout",
     "output_type": "stream",
     "text": [
      "applicant_age\n",
      "45-54    13263\n",
      "35-44    13016\n",
      "55-64    11092\n",
      "25-34     8600\n",
      "65-74     6559\n",
      ">74       2200\n",
      "<25        881\n",
      "8888         3\n",
      "Name: count, dtype: int64\n"
     ]
    }
   ],
   "source": [
    "print(df['applicant_age'].value_counts())"
   ]
  },
  {
   "cell_type": "markdown",
   "id": "a51ac0fc-fa7e-43b0-90c0-4d26cab7a721",
   "metadata": {},
   "source": [
    "Remove 8888 category"
   ]
  },
  {
   "cell_type": "code",
   "execution_count": 8,
   "id": "15b58949-fc67-458e-8db9-bf1f2cd33b13",
   "metadata": {
    "tags": []
   },
   "outputs": [
    {
     "name": "stdout",
     "output_type": "stream",
     "text": [
      "applicant_age\n",
      "2    13263\n",
      "1    13016\n",
      "3    11092\n",
      "0     8600\n",
      "4     6559\n",
      "7     2200\n",
      "6      881\n",
      "Name: count, dtype: int64\n"
     ]
    }
   ],
   "source": [
    "encoder = LabelEncoder()\n",
    "\n",
    "df['applicant_age'] = encoder.fit_transform(df['applicant_age'])\n",
    "df_encoded = df[df['applicant_age'] != 5]\n",
    "\n",
    "# Display the value counts after excluding the '8888' category\n",
    "print(df_encoded['applicant_age'].value_counts())"
   ]
  },
  {
   "cell_type": "code",
   "execution_count": 9,
   "id": "0c2cf102-9f40-4807-acfd-75c79beb6b40",
   "metadata": {
    "tags": []
   },
   "outputs": [
    {
     "name": "stdout",
     "output_type": "stream",
     "text": [
      "co_applicant_age\n",
      "45-54    13240\n",
      "35-44    13061\n",
      "55-64    10960\n",
      "25-34     9206\n",
      "65-74     6295\n",
      ">74       1771\n",
      "<25       1079\n",
      "8888         2\n",
      "Name: count, dtype: int64\n"
     ]
    }
   ],
   "source": [
    "print(df['co_applicant_age'].value_counts())"
   ]
  },
  {
   "cell_type": "code",
   "execution_count": 10,
   "id": "7524a21d-959e-49fe-a328-9666b02a2704",
   "metadata": {
    "tags": []
   },
   "outputs": [
    {
     "name": "stdout",
     "output_type": "stream",
     "text": [
      "co_applicant_age\n",
      "2    13240\n",
      "1    13061\n",
      "3    10960\n",
      "0     9206\n",
      "4     6295\n",
      "7     1771\n",
      "6     1079\n",
      "Name: count, dtype: int64\n"
     ]
    }
   ],
   "source": [
    "df['co_applicant_age'] = encoder.fit_transform(df['co_applicant_age'])\n",
    "df_encoded = df[df['co_applicant_age'] != 5]\n",
    "\n",
    "# Display the value counts after excluding the '8888' category\n",
    "print(df_encoded['co_applicant_age'].value_counts())"
   ]
  },
  {
   "cell_type": "code",
   "execution_count": 10,
   "id": "49b9a3ff-d047-430f-94dc-dd3f530db689",
   "metadata": {},
   "outputs": [
    {
     "name": "stdout",
     "output_type": "stream",
     "text": [
      "<class 'pandas.core.frame.DataFrame'>\n",
      "Index: 55612 entries, 0 to 55613\n",
      "Data columns (total 35 columns):\n",
      " #   Column                                    Non-Null Count  Dtype  \n",
      "---  ------                                    --------------  -----  \n",
      " 0   census_tract                              55514 non-null  float64\n",
      " 1   action_taken                              55612 non-null  int64  \n",
      " 2   loan_type                                 55612 non-null  int64  \n",
      " 3   lien_status                               55612 non-null  int64  \n",
      " 4   reverse_mortgage                          55612 non-null  int64  \n",
      " 5   open_end_line_of_credit                   55612 non-null  int64  \n",
      " 6   loan_amount                               55612 non-null  int64  \n",
      " 7   combined_loan_to_value_ratio              55124 non-null  object \n",
      " 8   interest_rate                             32497 non-null  object \n",
      " 9   total_loan_costs                          32497 non-null  object \n",
      " 10  origination_charges                       32497 non-null  object \n",
      " 11  loan_term                                 55598 non-null  object \n",
      " 12  negative_amortization                     55612 non-null  int64  \n",
      " 13  interest_only_payment                     55612 non-null  int64  \n",
      " 14  balloon_payment                           55612 non-null  int64  \n",
      " 15  other_nonamortizing_features              55612 non-null  int64  \n",
      " 16  property_value                            55398 non-null  object \n",
      " 17  occupancy_type                            55612 non-null  int64  \n",
      " 18  manufactured_home_secured_property_type   55612 non-null  int64  \n",
      " 19  manufactured_home_land_property_interest  55612 non-null  int64  \n",
      " 20  total_units                               55612 non-null  int64  \n",
      " 21  income                                    53665 non-null  float64\n",
      " 22  debt_to_income_ratio                      55095 non-null  object \n",
      " 23  applicant_credit_score_type               55612 non-null  int64  \n",
      " 24  co_applicant_credit_score_type            55612 non-null  int64  \n",
      " 25  applicant_ethnicity_1                     55612 non-null  float64\n",
      " 26  co_applicant_ethnicity_1                  55612 non-null  float64\n",
      " 27  applicant_race_1                          55612 non-null  float64\n",
      " 28  applicant_race_2                          240 non-null    float64\n",
      " 29  co_applicant_race_1                       55612 non-null  float64\n",
      " 30  co_applicant_race_2                       213 non-null    float64\n",
      " 31  applicant_sex                             55612 non-null  int64  \n",
      " 32  co_applicant_sex                          55612 non-null  int64  \n",
      " 33  applicant_age                             55612 non-null  int32  \n",
      " 34  co_applicant_age                          55612 non-null  int32  \n",
      "dtypes: float64(8), int32(2), int64(18), object(7)\n",
      "memory usage: 14.9+ MB\n"
     ]
    }
   ],
   "source": [
    "df_encoded.info()"
   ]
  },
  {
   "cell_type": "code",
   "execution_count": 11,
   "id": "2a622c5a-0772-475a-a7ce-a1e273d3c54a",
   "metadata": {
    "tags": []
   },
   "outputs": [],
   "source": [
    "df_encoded.to_csv('4_debt_to_income_ratio_and_applicant_age.csv', index=False)"
   ]
  }
 ],
 "metadata": {
  "kernelspec": {
   "display_name": "Python 3 (ipykernel)",
   "language": "python",
   "name": "python3"
  },
  "language_info": {
   "codemirror_mode": {
    "name": "ipython",
    "version": 3
   },
   "file_extension": ".py",
   "mimetype": "text/x-python",
   "name": "python",
   "nbconvert_exporter": "python",
   "pygments_lexer": "ipython3",
   "version": "3.9.18"
  }
 },
 "nbformat": 4,
 "nbformat_minor": 5
}
