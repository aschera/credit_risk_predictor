{
 "cells": [
  {
   "cell_type": "markdown",
   "id": "5f147f5b-6c0c-45ac-97bd-4a5f42a6af35",
   "metadata": {},
   "source": [
    "# Make a flowchart."
   ]
  },
  {
   "cell_type": "code",
   "execution_count": 3,
   "id": "79a4bb71-5c54-4307-9565-c107d24d6e37",
   "metadata": {
    "tags": []
   },
   "outputs": [],
   "source": [
    "import pygraphviz as pgv\n",
    "from PIL import Image\n",
    "\n",
    "# Create a graph\n",
    "G = pgv.AGraph(strict=False)\n",
    "\n",
    "# Add nodes\n",
    "G.add_node(\"Start\")\n",
    "G.add_node(\"Process 1\")\n",
    "G.add_node(\"Process 2\")\n",
    "G.add_node(\"End\")\n",
    "\n",
    "# Add edges\n",
    "G.add_edge(\"Start\", \"Process 1\")\n",
    "G.add_edge(\"Process 1\", \"Process 2\")\n",
    "G.add_edge(\"Process 2\", \"End\")\n",
    "\n",
    "# Specify the layout engine (e.g., 'dot' or 'neato')\n",
    "G.layout(prog='dot')\n",
    "\n",
    "# Render the graph as an image\n",
    "G.draw(\"flowchart.png\", format=\"png\")\n",
    "img = Image.open(\"flowchart.png\")\n",
    "img.show()\n"
   ]
  },
  {
   "cell_type": "code",
   "execution_count": null,
   "id": "2de5c943-e3cb-4993-a0e5-9b0af016cc8d",
   "metadata": {},
   "outputs": [],
   "source": []
  }
 ],
 "metadata": {
  "kernelspec": {
   "display_name": "Python 3 (ipykernel)",
   "language": "python",
   "name": "python3"
  },
  "language_info": {
   "codemirror_mode": {
    "name": "ipython",
    "version": 3
   },
   "file_extension": ".py",
   "mimetype": "text/x-python",
   "name": "python",
   "nbconvert_exporter": "python",
   "pygments_lexer": "ipython3",
   "version": "3.9.18"
  }
 },
 "nbformat": 4,
 "nbformat_minor": 5
}
