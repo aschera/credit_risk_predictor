{
 "cells": [
  {
   "cell_type": "code",
   "execution_count": 1,
   "id": "7ded6d29-0371-4d2b-a166-6c879262eaf3",
   "metadata": {},
   "outputs": [],
   "source": [
    "import warnings\n",
    "import numpy as np\n",
    "import pandas as pd\n",
    "import seaborn as sns\n",
    "import matplotlib.pyplot as plt\n",
    "import seaborn as sns\n",
    "from sklearn.preprocessing import LabelEncoder\n",
    "from itertools import product\n",
    "import matplotlib.pyplot as plt"
   ]
  },
  {
   "cell_type": "markdown",
   "id": "e54bd0e0-9508-4541-ba4d-e5685dac8469",
   "metadata": {},
   "source": [
    "# load dataset 7"
   ]
  },
  {
   "cell_type": "code",
   "execution_count": 2,
   "id": "9cfa4754-ca70-4933-b99a-0a8702976971",
   "metadata": {},
   "outputs": [],
   "source": [
    "df = pd.read_csv('7_total_loan_costs.csv', low_memory=False)"
   ]
  },
  {
   "cell_type": "code",
   "execution_count": 3,
   "id": "331929d2-bc8b-4acb-a1a0-7b559a48c27e",
   "metadata": {
    "tags": []
   },
   "outputs": [
    {
     "name": "stdout",
     "output_type": "stream",
     "text": [
      "Value counts for race after filtering:\n",
      "applicant_race_1\n",
      "5.0    48540\n",
      "3.0     2813\n",
      "Name: count, dtype: int64\n",
      "co_applicant_race_1\n",
      "5.0    48553\n",
      "3.0     2800\n",
      "Name: count, dtype: int64\n",
      "Value counts for ethnicity after filtering:\n",
      "applicant_ethnicity_1\n",
      "2.0    45778\n",
      "1.0     5575\n",
      "Name: count, dtype: int64\n",
      "co_applicant_ethnicity_1\n",
      "2.0    45569\n",
      "1.0     5784\n",
      "Name: count, dtype: int64\n"
     ]
    }
   ],
   "source": [
    "# Print the value counts for the filtered DataFrame\n",
    "print(\"Value counts for race after filtering:\")\n",
    "print(df['applicant_race_1'].value_counts())\n",
    "print(df['co_applicant_race_1'].value_counts())\n",
    "\n",
    "print(\"Value counts for ethnicity after filtering:\")\n",
    "print(df['applicant_ethnicity_1'].value_counts())\n",
    "print(df['co_applicant_ethnicity_1'].value_counts())"
   ]
  },
  {
   "cell_type": "code",
   "execution_count": 4,
   "id": "9ec6d4c8-c02b-4106-bc0d-2de3ae2e8b4d",
   "metadata": {
    "tags": []
   },
   "outputs": [
    {
     "name": "stdout",
     "output_type": "stream",
     "text": [
      "<class 'pandas.core.frame.DataFrame'>\n",
      "RangeIndex: 51353 entries, 0 to 51352\n",
      "Data columns (total 35 columns):\n",
      " #   Column                                    Non-Null Count  Dtype  \n",
      "---  ------                                    --------------  -----  \n",
      " 0   census_tract                              51297 non-null  float64\n",
      " 1   action_taken                              51353 non-null  int64  \n",
      " 2   loan_type                                 51353 non-null  int64  \n",
      " 3   lien_status                               51353 non-null  int64  \n",
      " 4   reverse_mortgage                          51353 non-null  int64  \n",
      " 5   open_end_line_of_credit                   51353 non-null  int64  \n",
      " 6   loan_amount                               51353 non-null  int64  \n",
      " 7   combined_loan_to_value_ratio              51353 non-null  object \n",
      " 8   interest_rate                             51353 non-null  object \n",
      " 9   total_loan_costs                          51353 non-null  object \n",
      " 10  origination_charges                       29634 non-null  float64\n",
      " 11  loan_term                                 51346 non-null  float64\n",
      " 12  negative_amortization                     51353 non-null  int64  \n",
      " 13  interest_only_payment                     51353 non-null  int64  \n",
      " 14  balloon_payment                           51353 non-null  int64  \n",
      " 15  other_nonamortizing_features              51353 non-null  int64  \n",
      " 16  property_value                            51335 non-null  float64\n",
      " 17  occupancy_type                            51353 non-null  int64  \n",
      " 18  manufactured_home_secured_property_type   51353 non-null  int64  \n",
      " 19  manufactured_home_land_property_interest  51353 non-null  int64  \n",
      " 20  total_units                               51353 non-null  int64  \n",
      " 21  income                                    49759 non-null  float64\n",
      " 22  debt_to_income_ratio                      51147 non-null  object \n",
      " 23  applicant_credit_score_type               51353 non-null  int64  \n",
      " 24  co_applicant_credit_score_type            51353 non-null  int64  \n",
      " 25  applicant_ethnicity_1                     51353 non-null  float64\n",
      " 26  co_applicant_ethnicity_1                  51353 non-null  float64\n",
      " 27  applicant_race_1                          51353 non-null  float64\n",
      " 28  applicant_race_2                          223 non-null    float64\n",
      " 29  co_applicant_race_1                       51353 non-null  float64\n",
      " 30  co_applicant_race_2                       199 non-null    float64\n",
      " 31  applicant_sex                             51353 non-null  int64  \n",
      " 32  co_applicant_sex                          51353 non-null  int64  \n",
      " 33  applicant_age                             51353 non-null  int64  \n",
      " 34  co_applicant_age                          51353 non-null  int64  \n",
      "dtypes: float64(11), int64(20), object(4)\n",
      "memory usage: 13.7+ MB\n"
     ]
    }
   ],
   "source": [
    "df.info()"
   ]
  },
  {
   "cell_type": "code",
   "execution_count": 5,
   "id": "90d7547f-6a1a-4ee6-ba99-c5b221505928",
   "metadata": {
    "tags": []
   },
   "outputs": [
    {
     "name": "stdout",
     "output_type": "stream",
     "text": [
      "origination_charges\n",
      "0.00       6546\n",
      "1205.00     795\n",
      "1330.00     619\n",
      "1130.00     538\n",
      "80.00       465\n",
      "           ... \n",
      "131.01        1\n",
      "6565.00       1\n",
      "416.55        1\n",
      "363.25        1\n",
      "591.50        1\n",
      "Name: count, Length: 9133, dtype: int64\n"
     ]
    }
   ],
   "source": [
    "print(df['origination_charges'].value_counts())"
   ]
  },
  {
   "cell_type": "markdown",
   "id": "310d1ffb-22a5-47ec-bf35-55a650bd8c96",
   "metadata": {},
   "source": [
    "Origination charges may include various fees and costs, such as:\n",
    "\n",
    "- Application Fee: A fee to cover the cost of processing your loan application.\n",
    "- Underwriting Fee: This fee covers the cost of evaluating your creditworthiness and determining if you qualify for the loan.\n",
    "- Loan Origination Fee: This is a fee charged by the lender for originating the loan. It is often a percentage of the loan amount.\n",
    "- Points: Borrowers may pay points to lower their interest rate. Each point is equal to 1% of the loan amount.\n",
    "- Processing Fee: This fee covers the cost of processing your loan, including documentation and verification.\n",
    "- Document Preparation Fee: A fee for preparing loan documents.\n",
    "- Credit Report Fee: The cost of obtaining a credit report to assess your credit history.\n",
    "- Appraisal Fee: The cost of having a professional appraiser assess the value of the property being financed.\n",
    "- Title Search and Title Insurance: Fees for researching the property's title and providing insurance to protect against title defects.\n",
    "- Flood Certification Fee: A fee to determine if the property is in a flood zone."
   ]
  },
  {
   "cell_type": "code",
   "execution_count": 6,
   "id": "ddfdb1a8-16f4-437e-a855-a453b647b478",
   "metadata": {
    "tags": []
   },
   "outputs": [
    {
     "name": "stdout",
     "output_type": "stream",
     "text": [
      "Number of Unique Categories: 9133\n"
     ]
    }
   ],
   "source": [
    "unique_categories = df['origination_charges'].nunique()\n",
    "print(\"Number of Unique Categories:\", unique_categories)"
   ]
  },
  {
   "cell_type": "code",
   "execution_count": 7,
   "id": "60435384-b2a6-46c0-bb22-8ff37705a81b",
   "metadata": {
    "tags": []
   },
   "outputs": [
    {
     "name": "stdout",
     "output_type": "stream",
     "text": [
      "Minimum origination_charges: 0.0\n",
      "Maximum origination_charges: 8896.13\n",
      "Median origination_charges: 1130.0\n"
     ]
    }
   ],
   "source": [
    "# First, convert the 'origination_charges' column to numeric (float)\n",
    "df['origination_charges'] = pd.to_numeric(df['origination_charges'], errors='coerce')\n",
    "\n",
    "# Now, calculate the minimum, maximum, and median\n",
    "minimum_interest_rate = df['origination_charges'].min()\n",
    "maximum_interest_rate = df['origination_charges'].max()\n",
    "median_interest_rate = df['origination_charges'].median()\n",
    "\n",
    "print(\"Minimum origination_charges:\", minimum_interest_rate)\n",
    "print(\"Maximum origination_charges:\", maximum_interest_rate)\n",
    "print(\"Median origination_charges:\", median_interest_rate)"
   ]
  },
  {
   "cell_type": "code",
   "execution_count": 8,
   "id": "1ab7524a-1be6-45e4-8e9d-187ed02e3008",
   "metadata": {
    "tags": []
   },
   "outputs": [
    {
     "data": {
      "text/html": [
       "<div>\n",
       "<style scoped>\n",
       "    .dataframe tbody tr th:only-of-type {\n",
       "        vertical-align: middle;\n",
       "    }\n",
       "\n",
       "    .dataframe tbody tr th {\n",
       "        vertical-align: top;\n",
       "    }\n",
       "\n",
       "    .dataframe thead th {\n",
       "        text-align: right;\n",
       "    }\n",
       "</style>\n",
       "<table border=\"1\" class=\"dataframe\">\n",
       "  <thead>\n",
       "    <tr style=\"text-align: right;\">\n",
       "      <th></th>\n",
       "      <th>census_tract</th>\n",
       "      <th>action_taken</th>\n",
       "      <th>loan_type</th>\n",
       "      <th>lien_status</th>\n",
       "      <th>reverse_mortgage</th>\n",
       "      <th>open_end_line_of_credit</th>\n",
       "      <th>loan_amount</th>\n",
       "      <th>combined_loan_to_value_ratio</th>\n",
       "      <th>interest_rate</th>\n",
       "      <th>total_loan_costs</th>\n",
       "      <th>...</th>\n",
       "      <th>applicant_ethnicity_1</th>\n",
       "      <th>co_applicant_ethnicity_1</th>\n",
       "      <th>applicant_race_1</th>\n",
       "      <th>applicant_race_2</th>\n",
       "      <th>co_applicant_race_1</th>\n",
       "      <th>co_applicant_race_2</th>\n",
       "      <th>applicant_sex</th>\n",
       "      <th>co_applicant_sex</th>\n",
       "      <th>applicant_age</th>\n",
       "      <th>co_applicant_age</th>\n",
       "    </tr>\n",
       "  </thead>\n",
       "  <tbody>\n",
       "    <tr>\n",
       "      <th>41291</th>\n",
       "      <td>6.067009e+09</td>\n",
       "      <td>1</td>\n",
       "      <td>1</td>\n",
       "      <td>1</td>\n",
       "      <td>2</td>\n",
       "      <td>2</td>\n",
       "      <td>505000</td>\n",
       "      <td>85.0-90.0</td>\n",
       "      <td>3.5-4.0</td>\n",
       "      <td>8500-9000</td>\n",
       "      <td>...</td>\n",
       "      <td>2.0</td>\n",
       "      <td>2.0</td>\n",
       "      <td>5.0</td>\n",
       "      <td>NaN</td>\n",
       "      <td>5.0</td>\n",
       "      <td>NaN</td>\n",
       "      <td>1</td>\n",
       "      <td>2</td>\n",
       "      <td>3</td>\n",
       "      <td>2</td>\n",
       "    </tr>\n",
       "  </tbody>\n",
       "</table>\n",
       "<p>1 rows × 35 columns</p>\n",
       "</div>"
      ],
      "text/plain": [
       "       census_tract  action_taken  loan_type  lien_status  reverse_mortgage  \\\n",
       "41291  6.067009e+09             1          1            1                 2   \n",
       "\n",
       "       open_end_line_of_credit  loan_amount combined_loan_to_value_ratio  \\\n",
       "41291                        2       505000                    85.0-90.0   \n",
       "\n",
       "      interest_rate total_loan_costs  ...  applicant_ethnicity_1  \\\n",
       "41291       3.5-4.0        8500-9000  ...                    2.0   \n",
       "\n",
       "       co_applicant_ethnicity_1  applicant_race_1  applicant_race_2  \\\n",
       "41291                       2.0               5.0               NaN   \n",
       "\n",
       "       co_applicant_race_1  co_applicant_race_2  applicant_sex  \\\n",
       "41291                  5.0                  NaN              1   \n",
       "\n",
       "       co_applicant_sex  applicant_age  co_applicant_age  \n",
       "41291                 2              3                 2  \n",
       "\n",
       "[1 rows x 35 columns]"
      ]
     },
     "execution_count": 8,
     "metadata": {},
     "output_type": "execute_result"
    }
   ],
   "source": [
    "# Find the top 5 rows with the highest origination charges\n",
    "top_1_max_origination = df.nlargest(1, 'origination_charges')\n",
    "\n",
    "# Print the result\n",
    "top_1_max_origination"
   ]
  },
  {
   "cell_type": "markdown",
   "id": "96e9a16d-3c49-419c-8607-702f9f99c860",
   "metadata": {},
   "source": [
    "# Check outliers"
   ]
  },
  {
   "cell_type": "code",
   "execution_count": 9,
   "id": "12ca229e-39d5-45a5-83c8-0480a8288f23",
   "metadata": {},
   "outputs": [],
   "source": [
    "# Convert the 'origination_charges' column to numeric (float)\n",
    "df['origination_charges'] = pd.to_numeric(df['origination_charges'], errors='coerce')  # 'coerce' handles non-numeric values by converting them to NaN\n",
    "\n",
    "# Calculate the quantiles\n",
    "Q1 = df['origination_charges'].quantile(0.25)\n",
    "Q3 = df['origination_charges'].quantile(0.75)\n",
    "IQR = Q3 - Q1\n",
    "\n",
    "lower_bound = Q1 - 1.5 * IQR\n",
    "upper_bound = Q3 + 1.5 * IQR\n",
    "\n",
    "outliers = df[(df['origination_charges'] < lower_bound) | (df['origination_charges'] > upper_bound)]"
   ]
  },
  {
   "cell_type": "code",
   "execution_count": 10,
   "id": "7fb84799-8f63-429c-89b5-fd62780ce686",
   "metadata": {
    "tags": []
   },
   "outputs": [
    {
     "data": {
      "image/png": "[encoded data removed]",
      "text/plain": [
       "<Figure size 640x480 with 1 Axes>"
      ]
     },
     "metadata": {},
     "output_type": "display_data"
    }
   ],
   "source": [
    "plt.hist(df['origination_charges'], bins=50)  # Adjust the number of bins as needed\n",
    "plt.title('Histogram of origination_charges')\n",
    "plt.show()"
   ]
  },
  {
   "cell_type": "code",
   "execution_count": 11,
   "id": "12cc09f7-b818-42f3-9359-84769aec26f8",
   "metadata": {
    "tags": []
   },
   "outputs": [
    {
     "name": "stdout",
     "output_type": "stream",
     "text": [
      "[    nan 1130.   1079.   ... 3602.56 3085.6   591.5 ]\n",
      "21719\n"
     ]
    },
    {
     "data": {
      "image/png": "[encoded data removed]",
      "text/plain": [
       "<Figure size 640x480 with 1 Axes>"
      ]
     },
     "metadata": {},
     "output_type": "display_data"
    }
   ],
   "source": [
    "df1 = df.copy()\n",
    "df1['origination_charges'] = pd.to_numeric(df['origination_charges'], errors='coerce')\n",
    "\n",
    "print(df['origination_charges'].unique())\n",
    "print(df['origination_charges'].isna().sum())\n",
    "\n",
    "# Create a box plot of the 'combined_loan_to_value_ratio' column\n",
    "plt.boxplot(df1['origination_charges'])\n",
    "plt.title('Box Plot of origination_charges')\n",
    "plt.show()"
   ]
  },
  {
   "cell_type": "markdown",
   "id": "30fa0747-8e37-4b8b-9d0e-ba8e5a39d30b",
   "metadata": {},
   "source": [
    "## The outlier squashes the data.\n",
    "We can draw a boxplot without the outlier."
   ]
  },
  {
   "cell_type": "code",
   "execution_count": 12,
   "id": "bbb11bc8-08de-4f30-8ca1-91030f883c25",
   "metadata": {
    "tags": []
   },
   "outputs": [
    {
     "data": {
      "image/png": "[encoded data removed]",
      "text/plain": [
       "<Figure size 640x480 with 1 Axes>"
      ]
     },
     "metadata": {},
     "output_type": "display_data"
    }
   ],
   "source": [
    "import matplotlib.pyplot as plt\n",
    "\n",
    "# Create a box plot of the 'origination_charges' column\n",
    "plt.boxplot(df1['origination_charges'], showfliers=False)  # Exclude outliers\n",
    "plt.title('Box Plot of origination_charges')\n",
    "\n",
    "# Calculate the median value\n",
    "median_value = df1['origination_charges'].median()\n",
    "\n",
    "# Add a median line\n",
    "plt.axhline(median_value, color='r', linestyle='dashed', linewidth=2)\n",
    "\n",
    "# Add text with the median value 5 pixels above the line\n",
    "plt.text(1.5, median_value + 5, f'Median: {median_value}', va='center')\n",
    "\n",
    "plt.show()\n"
   ]
  },
  {
   "cell_type": "markdown",
   "id": "240e14b4-5674-4737-b0d8-07624722bd4c",
   "metadata": {},
   "source": [
    "# Conclusion"
   ]
  },
  {
   "cell_type": "markdown",
   "id": "18bb00da-07d1-4135-9443-dcb63de18709",
   "metadata": {
    "tags": []
   },
   "source": [
    "this median seems more normal!\n",
    "we have to remove outliers."
   ]
  },
  {
   "cell_type": "markdown",
   "id": "b9352f9e-5742-4552-9153-910581b68f20",
   "metadata": {},
   "source": [
    "# Remove outliers"
   ]
  },
  {
   "cell_type": "code",
   "execution_count": 13,
   "id": "969c4867-6237-402a-b3ee-3ad51e87a4e0",
   "metadata": {
    "tags": []
   },
   "outputs": [
    {
     "name": "stdout",
     "output_type": "stream",
     "text": [
      "Number of removed outliers: 1658\n"
     ]
    }
   ],
   "source": [
    "# Calculate the IQR for origination_charges\n",
    "Q1 = df1['origination_charges'].quantile(0.25)\n",
    "Q3 = df1['origination_charges'].quantile(0.75)\n",
    "IQR = Q3 - Q1\n",
    "\n",
    "# Define lower and upper bounds for outliers\n",
    "lower_bound = Q1 - 1.5 * IQR\n",
    "upper_bound = Q3 + 1.5 * IQR\n",
    "\n",
    "# Create a boolean mask for outliers\n",
    "outliers_mask = (df1['origination_charges'] < lower_bound) | (df1['origination_charges'] > upper_bound)\n",
    "\n",
    "# Create a new DataFrame without outliers\n",
    "df_no_outliers = df1[~outliers_mask]\n",
    "\n",
    "# Display the number of removed outliers\n",
    "print(f'Number of removed outliers: {outliers_mask.sum()}')"
   ]
  },
  {
   "cell_type": "code",
   "execution_count": 14,
   "id": "c5cb0df5-3855-466f-b7dd-2a0653be9f24",
   "metadata": {
    "tags": []
   },
   "outputs": [],
   "source": [
    "# Create a DataFrame of removed outliers\n",
    "outliers_df = df1[outliers_mask]"
   ]
  },
  {
   "cell_type": "code",
   "execution_count": 15,
   "id": "5bec6312-9c29-43a1-a43b-be422bad19f3",
   "metadata": {
    "tags": []
   },
   "outputs": [
    {
     "name": "stdout",
     "output_type": "stream",
     "text": [
      "21802    4343.75\n",
      "21808    4071.50\n",
      "21809    4340.00\n",
      "21822    6167.89\n",
      "21827    5100.00\n",
      "          ...   \n",
      "51312    4145.00\n",
      "51319    4990.00\n",
      "51330    4093.44\n",
      "51336    6430.00\n",
      "51340    4097.50\n",
      "Name: origination_charges, Length: 1658, dtype: float64\n"
     ]
    }
   ],
   "source": [
    "# Display the values of the removed outliers\n",
    "print(outliers_df['origination_charges'])"
   ]
  },
  {
   "cell_type": "code",
   "execution_count": 16,
   "id": "8e0ed272-b10d-4cd4-a74b-6f44e70df37c",
   "metadata": {
    "tags": []
   },
   "outputs": [
    {
     "data": {
      "image/png": "[encoded data removed]",
      "text/plain": [
       "<Figure size 1000x600 with 1 Axes>"
      ]
     },
     "metadata": {},
     "output_type": "display_data"
    }
   ],
   "source": [
    "plt.figure(figsize=(10, 6))\n",
    "plt.boxplot(df_no_outliers['origination_charges'])\n",
    "plt.title('Boxplot of origination_charges')\n",
    "plt.xlabel('Combined origination_charges')\n",
    "plt.show()"
   ]
  },
  {
   "cell_type": "code",
   "execution_count": 17,
   "id": "197691c5-d6a8-40fe-a42c-f5e83fd5756b",
   "metadata": {
    "tags": []
   },
   "outputs": [
    {
     "name": "stdout",
     "output_type": "stream",
     "text": [
      "Minimum origination_charges: 0.0\n",
      "Maximum origination_charges: 4025.0\n",
      "Median origination_charges: 1055.0\n"
     ]
    }
   ],
   "source": [
    "# First, convert the 'combined_loan_to_value_ratio' column to numeric (float)\n",
    "df_no_outliers.loc[:, 'origination_charges'] = pd.to_numeric(df_no_outliers['origination_charges'], errors='coerce')\n",
    "\n",
    "# Now, calculate the minimum, maximum, and median\n",
    "minimum_interest_rate = df_no_outliers['origination_charges'].min()\n",
    "maximum_interest_rate = df_no_outliers['origination_charges'].max()\n",
    "median_interest_rate = df_no_outliers['origination_charges'].median()\n",
    "\n",
    "print(\"Minimum origination_charges:\", minimum_interest_rate)\n",
    "print(\"Maximum origination_charges:\", maximum_interest_rate)\n",
    "print(\"Median origination_charges:\", median_interest_rate)"
   ]
  },
  {
   "cell_type": "code",
   "execution_count": 18,
   "id": "6353f260-59d6-4ca8-80c8-c30a1dca2589",
   "metadata": {
    "tags": []
   },
   "outputs": [
    {
     "name": "stdout",
     "output_type": "stream",
     "text": [
      "origination_charges\n",
      "0.00       6546\n",
      "1205.00     795\n",
      "1330.00     619\n",
      "1130.00     538\n",
      "80.00       465\n",
      "           ... \n",
      "131.01        1\n",
      "416.55        1\n",
      "363.25        1\n",
      "763.08        1\n",
      "591.50        1\n",
      "Name: count, Length: 7712, dtype: int64\n"
     ]
    }
   ],
   "source": [
    "print(df_no_outliers['origination_charges'].value_counts())"
   ]
  },
  {
   "cell_type": "code",
   "execution_count": 19,
   "id": "901dcb3a-378a-4c42-8a6d-b53a654a7718",
   "metadata": {
    "tags": []
   },
   "outputs": [],
   "source": [
    "# Remove categories below 100 entries.\n",
    "\n",
    "#threshold = 100\n",
    "#counts = df_no_outliers['origination_charges'].value_counts()\n",
    "#values_to_remove = counts[counts < threshold].index\n",
    "#df_filtered = df_no_outliers[~df_no_outliers['origination_charges'].isin(values_to_remove)]\n"
   ]
  },
  {
   "cell_type": "markdown",
   "id": "a36b639e-23ba-4b72-99fc-2b86ecff0d4f",
   "metadata": {},
   "source": [
    "# Make range categories"
   ]
  },
  {
   "cell_type": "code",
   "execution_count": 20,
   "id": "f419f2b4-9a2d-487a-982c-34cbdc521adc",
   "metadata": {
    "tags": []
   },
   "outputs": [
    {
     "name": "stdout",
     "output_type": "stream",
     "text": [
      "origination_charges\n",
      "Other        21719\n",
      "0-500         8779\n",
      "1000-1500     7929\n",
      "500-1000      4263\n",
      "1500-2000     2734\n",
      "2000-2500     1619\n",
      "2500-3000     1104\n",
      "3000-3500      878\n",
      "3500-4000      643\n",
      "4000-4500       27\n",
      "Name: count, dtype: int64\n"
     ]
    }
   ],
   "source": [
    "new_df = df_no_outliers.copy()\n",
    "\n",
    "# Define a function to categorize 'origination_charges' into the desired ranges\n",
    "def categorize_origination_charges(cost):\n",
    "    # Define a list of upper bounds for the ranges\n",
    "    upper_bounds = [500 * i for i in range(1, 41)]  # Generates ranges up to 8000 in increments of 200\n",
    "    labels = [f'{lower}-{upper}' for lower, upper in zip([0] + upper_bounds, upper_bounds)]\n",
    "    \n",
    "    # Find the appropriate range for 'origination_charges' and return the label\n",
    "    for label, upper_bound in zip(labels, upper_bounds):\n",
    "        if cost <= upper_bound:\n",
    "            return label\n",
    "    return 'Other'\n",
    "\n",
    "# Apply the categorization function to 'origination_charges' column\n",
    "new_df['origination_charges'] = new_df['origination_charges'].apply(categorize_origination_charges)\n",
    "\n",
    "# Print the result\n",
    "print(new_df['origination_charges'].value_counts())"
   ]
  },
  {
   "cell_type": "code",
   "execution_count": 21,
   "id": "b414d149-a50e-408c-8f7d-249eabc0b11d",
   "metadata": {
    "tags": []
   },
   "outputs": [
    {
     "data": {
      "image/png": "[encoded data removed]",
      "text/plain": [
       "<Figure size 1000x600 with 1 Axes>"
      ]
     },
     "metadata": {},
     "output_type": "display_data"
    }
   ],
   "source": [
    "# Filter the DataFrame to exclude the 'Other' category\n",
    "filtered_df = new_df[new_df['origination_charges'] != 'Other']\n",
    "\n",
    "# Get the value counts for the filtered DataFrame\n",
    "value_counts = filtered_df['origination_charges'].value_counts()\n",
    "\n",
    "# Plot the bar chart\n",
    "plt.figure(figsize=(10, 6))\n",
    "plt.bar(value_counts.index, value_counts.values, color='skyblue')\n",
    "plt.xlabel('origination_charges Category')\n",
    "plt.ylabel('Count')\n",
    "plt.title('Distribution of origination_charges Categories (Excluding \"Other\")')\n",
    "plt.xticks(rotation=45, ha='right')  # Rotate x-axis labels for readability\n",
    "\n",
    "# Display the counts on top of the bars\n",
    "for i, count in enumerate(value_counts.values):\n",
    "    plt.text(i, count, str(count), ha='center', va='bottom')\n",
    "\n",
    "plt.tight_layout()\n",
    "plt.show()"
   ]
  },
  {
   "cell_type": "code",
   "execution_count": 22,
   "id": "059aac2e-6933-4e36-81ac-76ffbf5ec46d",
   "metadata": {
    "tags": []
   },
   "outputs": [],
   "source": [
    "new_df.to_csv('8_origination_charges.csv', index=False)"
   ]
  }
 ],
 "metadata": {
  "kernelspec": {
   "display_name": "Python 3 (ipykernel)",
   "language": "python",
   "name": "python3"
  },
  "language_info": {
   "codemirror_mode": {
    "name": "ipython",
    "version": 3
   },
   "file_extension": ".py",
   "mimetype": "text/x-python",
   "name": "python",
   "nbconvert_exporter": "python",
   "pygments_lexer": "ipython3",
   "version": "3.9.18"
  }
 },
 "nbformat": 4,
 "nbformat_minor": 5
}
