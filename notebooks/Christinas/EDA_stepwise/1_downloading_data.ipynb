{
 "cells": [
  {
   "cell_type": "code",
   "execution_count": 1,
   "id": "ad77c1d1-cd5c-4e2e-9fd9-01f379cc89bd",
   "metadata": {
    "tags": []
   },
   "outputs": [],
   "source": [
    "import pandas as pd"
   ]
  },
  {
   "cell_type": "code",
   "execution_count": null,
   "id": "beeecf80-3042-445f-9615-a217fb27f8bd",
   "metadata": {
    "tags": []
   },
   "outputs": [],
   "source": [
    "url = 'https://s3.amazonaws.com/cfpb-hmda-public/prod/three-year-data/2019/2019_public_lar_three_year_csv.zip'\n",
    "# See information about data fields of the original dataset here:\n",
    "# https://ffiec.cfpb.gov/documentation/publications/loan-level-datasets/lar-data-fields\n",
    "\n",
    "num_rows_to_read = 700000\n",
    "\n",
    "# 'loan_purpose': condition, 'business or commercial_purpose, condition two is home owners.\n",
    "condition = lambda x: x == 1\n",
    "condition2 = lambda x: x == 2\n",
    "\n",
    "# List of column names we want to read:\n",
    "columns_to_read = [\n",
    "'loan_type',\n",
    "'loan_amount',\n",
    "'action_taken',\n",
    "'occupancy_type',\n",
    "'census_tract',\n",
    "'applicant_ethnicity_1',\n",
    "'co_applicant_ethnicity_1',\n",
    "'applicant_race_1',\n",
    "'co_applicant_race_1',\n",
    "'applicant_sex',\n",
    "'co_applicant_sex',\n",
    "'applicant_age',\n",
    "'co_applicant_age',\n",
    "'income',\n",
    "'lien_status',\n",
    "'applicant_credit_score_type',\n",
    "'co_applicant_credit_score_type',\n",
    "'origination_charges',\n",
    "'interest_rate',\n",
    "'debt_to_income_ratio',\n",
    "'combined_loan_to_value_ratio',\n",
    "'loan_term',\n",
    "'property_value',\n",
    "'manufactured_home_secured_property_type',\n",
    "'total_units',\n",
    "'aus_1',\n",
    "'reverse_mortgage',\n",
    "'open_end_line_of_credit',\n",
    "'manufactured_home_land_property_interest',\n",
    "'total_loan_costs',\n",
    "'negative_amortization',\n",
    "'interest_only_payment',\n",
    "'balloon_payment',\n",
    "'other_nonamortizing_features',\n",
    "    \n",
    "'co_applicant_race_2', # Need those for the EDA in '3', remove later.\n",
    "'applicant_race_2'  # Need those for the EDA in '3', remove later.\n",
    "]\n",
    "\n",
    "# Read the CSV file with the specified columns\n",
    "data = pd.read_csv(url, usecols=columns_to_read, nrows=num_rows_to_read, converters={'loan_purpose': condition, 'business_or_commercial_purpose': condition2}, low_memory=False)"
   ]
  },
  {
   "cell_type": "code",
   "execution_count": null,
   "id": "87c2ac84-6845-475f-9a90-4416fdd116b5",
   "metadata": {
    "tags": []
   },
   "outputs": [],
   "source": [
    "data.head()"
   ]
  },
  {
   "cell_type": "code",
   "execution_count": null,
   "id": "6fe63be4-32a1-4c81-8cb9-9848b9f9207a",
   "metadata": {},
   "outputs": [],
   "source": [
    "data.info()"
   ]
  },
  {
   "cell_type": "markdown",
   "id": "3a6cfc56-b487-4f82-9f75-ac998fbf8f91",
   "metadata": {},
   "source": [
    "## Check target variable for 'enough' data."
   ]
  },
  {
   "cell_type": "code",
   "execution_count": null,
   "id": "4934a211-346f-467e-88f4-0a0dd85a35b8",
   "metadata": {
    "tags": []
   },
   "outputs": [],
   "source": [
    "# we want enough data in the target column in the categories 1 and 3. at least 30% in category 3.\n",
    "data['action_taken'].value_counts()"
   ]
  },
  {
   "cell_type": "code",
   "execution_count": null,
   "id": "557833c3-1d17-4cbf-85d5-9f06dfdbe603",
   "metadata": {
    "tags": []
   },
   "outputs": [],
   "source": [
    "df_test = data.copy()"
   ]
  },
  {
   "cell_type": "code",
   "execution_count": null,
   "id": "692cf439-1c1a-4cc0-a61e-d048cc8023bf",
   "metadata": {
    "tags": []
   },
   "outputs": [],
   "source": [
    "# Create a Boolean mask to identify rows with missing values in 'object' columns\n",
    "missing_values_mask = df_test.select_dtypes(include=['object']).isna().any(axis=1)\n",
    "\n",
    "# Create a Boolean mask to identify rows without missing values in 'object' columns or with 'action_taken' equal to 3\n",
    "no_missing_values_mask = ~missing_values_mask | (df_test['action_taken'] == 3)\n",
    "\n",
    "# Use the mask to filter the DataFrame and get rows without missing values in 'object' columns, or with 'action_taken' equal to 3\n",
    "rows_without_missing_values = df_test[no_missing_values_mask]\n",
    "\n",
    "# Print the number of rows without missing values in 'object' columns or with 'action_taken' equal to 3\n",
    "print(len(rows_without_missing_values))\n"
   ]
  },
  {
   "cell_type": "code",
   "execution_count": null,
   "id": "89942538-4bea-4ce8-a2e8-a65db493b09c",
   "metadata": {
    "tags": []
   },
   "outputs": [],
   "source": [
    "data['action_taken'].value_counts()"
   ]
  },
  {
   "cell_type": "code",
   "execution_count": null,
   "id": "16bfb864-e30c-4a73-a1b9-8cdd98b14df9",
   "metadata": {
    "tags": []
   },
   "outputs": [],
   "source": [
    "rows_without_missing_values.info()"
   ]
  },
  {
   "cell_type": "code",
   "execution_count": null,
   "id": "ea695f6e-139f-445e-adec-04f0f87a16f6",
   "metadata": {
    "tags": []
   },
   "outputs": [],
   "source": [
    "rows_without_missing_values.head()"
   ]
  },
  {
   "cell_type": "code",
   "execution_count": null,
   "id": "7d6564bf-ba5d-46bd-9be8-a2cfe9c1436b",
   "metadata": {
    "tags": []
   },
   "outputs": [],
   "source": [
    "categorical_columns = rows_without_missing_values.select_dtypes(include=['object']).columns.tolist()\n",
    "categorical_columns"
   ]
  },
  {
   "cell_type": "code",
   "execution_count": null,
   "id": "00dcb75c-67ba-48ab-8a54-59cec0b00763",
   "metadata": {
    "tags": []
   },
   "outputs": [],
   "source": [
    "numerical_columns = rows_without_missing_values.select_dtypes(include=['float64', 'int64']).columns.tolist()\n",
    "numerical_columns"
   ]
  },
  {
   "cell_type": "code",
   "execution_count": null,
   "id": "e6c4041d-43a6-4bcd-8bb8-a3f8b551f970",
   "metadata": {
    "tags": []
   },
   "outputs": [],
   "source": [
    "rows_without_missing_values['action_taken'].value_counts()"
   ]
  },
  {
   "cell_type": "code",
   "execution_count": null,
   "id": "1da59713-8dc8-47e1-bcf4-42864572600c",
   "metadata": {
    "tags": []
   },
   "outputs": [],
   "source": [
    "# Filter rows to keep only categories 1 and 3\n",
    "df = rows_without_missing_values[rows_without_missing_values['action_taken'].isin([1, 3])]\n",
    "\n",
    "# Calculate the counts for each category using len\n",
    "category_1_count = len(df[df['action_taken'] == 1])\n",
    "category_3_count = len(df[df['action_taken'] == 3])\n",
    "\n",
    "# Ensure that counts are the same for categories 1 and 3\n",
    "if category_1_count != category_3_count:\n",
    "    if category_1_count > category_3_count:\n",
    "        # Randomly sample rows from category 1 to match the count of category 3\n",
    "        category_1_rows = df[df['action_taken'] == 1]\n",
    "        sampled_rows = category_1_rows.sample(n=category_3_count, random_state=1)\n",
    "        df = pd.concat([df[df['action_taken'] == 3], sampled_rows])\n",
    "    elif category_3_count > category_1_count:\n",
    "        # Randomly sample rows from category 3 to match the count of category 1\n",
    "        category_3_rows = df[df['action_taken'] == 3]\n",
    "        sampled_rows = category_3_rows.sample(n=category_1_count, random_state=1)\n",
    "        df = pd.concat([df[df['action_taken'] == 1], sampled_rows])\n",
    "# Now, df contains the same number of values in categories 1 and 3\n",
    "df['action_taken'].value_counts()\n"
   ]
  },
  {
   "cell_type": "code",
   "execution_count": null,
   "id": "78b71e12-8ffd-4a09-82c1-464bfe57cdd1",
   "metadata": {
    "tags": []
   },
   "outputs": [],
   "source": [
    "df.info()"
   ]
  },
  {
   "cell_type": "code",
   "execution_count": null,
   "id": "1e878840-5292-46d4-a9ca-b6abb4a4d69f",
   "metadata": {
    "tags": []
   },
   "outputs": [],
   "source": [
    "df.to_csv('1_downloaded_data.csv', index=False)"
   ]
  },
  {
   "cell_type": "code",
   "execution_count": null,
   "id": "4e09195f-1a6d-4dcc-acb8-7de3107488e1",
   "metadata": {},
   "outputs": [],
   "source": []
  }
 ],
 "metadata": {
  "kernelspec": {
   "display_name": "Python 3 (ipykernel)",
   "language": "python",
   "name": "python3"
  },
  "language_info": {
   "codemirror_mode": {
    "name": "ipython",
    "version": 3
   },
   "file_extension": ".py",
   "mimetype": "text/x-python",
   "name": "python",
   "nbconvert_exporter": "python",
   "pygments_lexer": "ipython3",
   "version": "3.9.18"
  }
 },
 "nbformat": 4,
 "nbformat_minor": 5
}
