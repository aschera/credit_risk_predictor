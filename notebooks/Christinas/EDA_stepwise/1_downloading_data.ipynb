{
 "cells": [
  {
   "cell_type": "code",
   "execution_count": 1,
   "id": "ad77c1d1-cd5c-4e2e-9fd9-01f379cc89bd",
   "metadata": {
    "tags": []
   },
   "outputs": [],
   "source": [
    "import pandas as pd"
   ]
  },
  {
   "cell_type": "code",
   "execution_count": 2,
   "id": "beeecf80-3042-445f-9615-a217fb27f8bd",
   "metadata": {
    "tags": []
   },
   "outputs": [],
   "source": [
    "url = 'https://s3.amazonaws.com/cfpb-hmda-public/prod/three-year-data/2019/2019_public_lar_three_year_csv.zip'\n",
    "# See information about data fields of the original dataset here:\n",
    "# https://ffiec.cfpb.gov/documentation/publications/loan-level-datasets/lar-data-fields\n",
    "\n",
    "num_rows_to_read = 800000\n",
    "\n",
    "# 'loan_purpose': condition, 'business or commercial_purpose, condition two is home owners.\n",
    "condition = lambda x: x == 1\n",
    "condition2 = lambda x: x == 2\n",
    "\n",
    "# List of column names we want to read:\n",
    "columns_to_read = [\n",
    "'loan_type',\n",
    "'loan_amount',\n",
    "'action_taken',\n",
    "'occupancy_type',\n",
    "'census_tract',\n",
    "'applicant_ethnicity_1',\n",
    "'co_applicant_ethnicity_1',\n",
    "'applicant_race_1',\n",
    "'co_applicant_race_1',\n",
    "'applicant_sex',\n",
    "'co_applicant_sex',\n",
    "'applicant_age',\n",
    "'co_applicant_age',\n",
    "'income',\n",
    "'lien_status',\n",
    "'applicant_credit_score_type',\n",
    "'co_applicant_credit_score_type',\n",
    "'origination_charges',\n",
    "'interest_rate',\n",
    "'debt_to_income_ratio',\n",
    "'combined_loan_to_value_ratio',\n",
    "'loan_term',\n",
    "'property_value',\n",
    "'manufactured_home_secured_property_type',\n",
    "'total_units',\n",
    "'reverse_mortgage',\n",
    "'open_end_line_of_credit',\n",
    "'manufactured_home_land_property_interest',\n",
    "'total_loan_costs',\n",
    "'negative_amortization',\n",
    "'interest_only_payment',\n",
    "'balloon_payment',\n",
    "'other_nonamortizing_features',\n",
    "    \n",
    "'co_applicant_race_2', # Need those for the EDA in '3', remove later.\n",
    "'applicant_race_2'  # Need those for the EDA in '3', remove later.\n",
    "]\n",
    "\n",
    "# Read the CSV file with the specified columns\n",
    "data = pd.read_csv(url, usecols=columns_to_read, nrows=num_rows_to_read, converters={'loan_purpose': condition, 'business_or_commercial_purpose': condition2}, low_memory=False)"
   ]
  },
  {
   "cell_type": "code",
   "execution_count": 3,
   "id": "87c2ac84-6845-475f-9a90-4416fdd116b5",
   "metadata": {
    "tags": []
   },
   "outputs": [
    {
     "data": {
      "text/html": [
       "<div>\n",
       "<style scoped>\n",
       "    .dataframe tbody tr th:only-of-type {\n",
       "        vertical-align: middle;\n",
       "    }\n",
       "\n",
       "    .dataframe tbody tr th {\n",
       "        vertical-align: top;\n",
       "    }\n",
       "\n",
       "    .dataframe thead th {\n",
       "        text-align: right;\n",
       "    }\n",
       "</style>\n",
       "<table border=\"1\" class=\"dataframe\">\n",
       "  <thead>\n",
       "    <tr style=\"text-align: right;\">\n",
       "      <th></th>\n",
       "      <th>census_tract</th>\n",
       "      <th>action_taken</th>\n",
       "      <th>loan_type</th>\n",
       "      <th>lien_status</th>\n",
       "      <th>reverse_mortgage</th>\n",
       "      <th>open_end_line_of_credit</th>\n",
       "      <th>loan_amount</th>\n",
       "      <th>combined_loan_to_value_ratio</th>\n",
       "      <th>interest_rate</th>\n",
       "      <th>total_loan_costs</th>\n",
       "      <th>...</th>\n",
       "      <th>applicant_ethnicity_1</th>\n",
       "      <th>co_applicant_ethnicity_1</th>\n",
       "      <th>applicant_race_1</th>\n",
       "      <th>applicant_race_2</th>\n",
       "      <th>co_applicant_race_1</th>\n",
       "      <th>co_applicant_race_2</th>\n",
       "      <th>applicant_sex</th>\n",
       "      <th>co_applicant_sex</th>\n",
       "      <th>applicant_age</th>\n",
       "      <th>co_applicant_age</th>\n",
       "    </tr>\n",
       "  </thead>\n",
       "  <tbody>\n",
       "    <tr>\n",
       "      <th>0</th>\n",
       "      <td>9.003416e+09</td>\n",
       "      <td>3</td>\n",
       "      <td>2</td>\n",
       "      <td>1</td>\n",
       "      <td>2</td>\n",
       "      <td>2</td>\n",
       "      <td>115000</td>\n",
       "      <td>98.188</td>\n",
       "      <td>NaN</td>\n",
       "      <td>NaN</td>\n",
       "      <td>...</td>\n",
       "      <td>2.0</td>\n",
       "      <td>5.0</td>\n",
       "      <td>3.0</td>\n",
       "      <td>NaN</td>\n",
       "      <td>8.0</td>\n",
       "      <td>NaN</td>\n",
       "      <td>1</td>\n",
       "      <td>5</td>\n",
       "      <td>35-44</td>\n",
       "      <td>9999</td>\n",
       "    </tr>\n",
       "    <tr>\n",
       "      <th>1</th>\n",
       "      <td>4.201710e+10</td>\n",
       "      <td>2</td>\n",
       "      <td>1</td>\n",
       "      <td>1</td>\n",
       "      <td>2</td>\n",
       "      <td>2</td>\n",
       "      <td>345000</td>\n",
       "      <td>79.254</td>\n",
       "      <td>3.5</td>\n",
       "      <td>NaN</td>\n",
       "      <td>...</td>\n",
       "      <td>2.0</td>\n",
       "      <td>2.0</td>\n",
       "      <td>6.0</td>\n",
       "      <td>NaN</td>\n",
       "      <td>6.0</td>\n",
       "      <td>NaN</td>\n",
       "      <td>1</td>\n",
       "      <td>2</td>\n",
       "      <td>45-54</td>\n",
       "      <td>55-64</td>\n",
       "    </tr>\n",
       "    <tr>\n",
       "      <th>2</th>\n",
       "      <td>3.403903e+10</td>\n",
       "      <td>5</td>\n",
       "      <td>2</td>\n",
       "      <td>1</td>\n",
       "      <td>2</td>\n",
       "      <td>2</td>\n",
       "      <td>225000</td>\n",
       "      <td>NaN</td>\n",
       "      <td>NaN</td>\n",
       "      <td>NaN</td>\n",
       "      <td>...</td>\n",
       "      <td>1.0</td>\n",
       "      <td>1.0</td>\n",
       "      <td>5.0</td>\n",
       "      <td>NaN</td>\n",
       "      <td>5.0</td>\n",
       "      <td>NaN</td>\n",
       "      <td>1</td>\n",
       "      <td>2</td>\n",
       "      <td>45-54</td>\n",
       "      <td>45-54</td>\n",
       "    </tr>\n",
       "    <tr>\n",
       "      <th>3</th>\n",
       "      <td>4.205501e+10</td>\n",
       "      <td>5</td>\n",
       "      <td>2</td>\n",
       "      <td>1</td>\n",
       "      <td>2</td>\n",
       "      <td>2</td>\n",
       "      <td>125000</td>\n",
       "      <td>NaN</td>\n",
       "      <td>NaN</td>\n",
       "      <td>NaN</td>\n",
       "      <td>...</td>\n",
       "      <td>2.0</td>\n",
       "      <td>5.0</td>\n",
       "      <td>5.0</td>\n",
       "      <td>NaN</td>\n",
       "      <td>8.0</td>\n",
       "      <td>NaN</td>\n",
       "      <td>2</td>\n",
       "      <td>5</td>\n",
       "      <td>65-74</td>\n",
       "      <td>9999</td>\n",
       "    </tr>\n",
       "    <tr>\n",
       "      <th>4</th>\n",
       "      <td>3.011100e+10</td>\n",
       "      <td>5</td>\n",
       "      <td>1</td>\n",
       "      <td>1</td>\n",
       "      <td>2</td>\n",
       "      <td>2</td>\n",
       "      <td>125000</td>\n",
       "      <td>NaN</td>\n",
       "      <td>NaN</td>\n",
       "      <td>NaN</td>\n",
       "      <td>...</td>\n",
       "      <td>2.0</td>\n",
       "      <td>5.0</td>\n",
       "      <td>5.0</td>\n",
       "      <td>NaN</td>\n",
       "      <td>8.0</td>\n",
       "      <td>NaN</td>\n",
       "      <td>2</td>\n",
       "      <td>5</td>\n",
       "      <td>55-64</td>\n",
       "      <td>9999</td>\n",
       "    </tr>\n",
       "  </tbody>\n",
       "</table>\n",
       "<p>5 rows × 35 columns</p>\n",
       "</div>"
      ],
      "text/plain": [
       "   census_tract  action_taken  loan_type  lien_status  reverse_mortgage  \\\n",
       "0  9.003416e+09             3          2            1                 2   \n",
       "1  4.201710e+10             2          1            1                 2   \n",
       "2  3.403903e+10             5          2            1                 2   \n",
       "3  4.205501e+10             5          2            1                 2   \n",
       "4  3.011100e+10             5          1            1                 2   \n",
       "\n",
       "   open_end_line_of_credit  loan_amount combined_loan_to_value_ratio  \\\n",
       "0                        2       115000                       98.188   \n",
       "1                        2       345000                       79.254   \n",
       "2                        2       225000                          NaN   \n",
       "3                        2       125000                          NaN   \n",
       "4                        2       125000                          NaN   \n",
       "\n",
       "  interest_rate total_loan_costs  ... applicant_ethnicity_1  \\\n",
       "0           NaN              NaN  ...                   2.0   \n",
       "1           3.5              NaN  ...                   2.0   \n",
       "2           NaN              NaN  ...                   1.0   \n",
       "3           NaN              NaN  ...                   2.0   \n",
       "4           NaN              NaN  ...                   2.0   \n",
       "\n",
       "  co_applicant_ethnicity_1  applicant_race_1  applicant_race_2  \\\n",
       "0                      5.0               3.0               NaN   \n",
       "1                      2.0               6.0               NaN   \n",
       "2                      1.0               5.0               NaN   \n",
       "3                      5.0               5.0               NaN   \n",
       "4                      5.0               5.0               NaN   \n",
       "\n",
       "   co_applicant_race_1  co_applicant_race_2 applicant_sex  co_applicant_sex  \\\n",
       "0                  8.0                  NaN             1                 5   \n",
       "1                  6.0                  NaN             1                 2   \n",
       "2                  5.0                  NaN             1                 2   \n",
       "3                  8.0                  NaN             2                 5   \n",
       "4                  8.0                  NaN             2                 5   \n",
       "\n",
       "   applicant_age  co_applicant_age  \n",
       "0          35-44              9999  \n",
       "1          45-54             55-64  \n",
       "2          45-54             45-54  \n",
       "3          65-74              9999  \n",
       "4          55-64              9999  \n",
       "\n",
       "[5 rows x 35 columns]"
      ]
     },
     "execution_count": 3,
     "metadata": {},
     "output_type": "execute_result"
    }
   ],
   "source": [
    "data.head()"
   ]
  },
  {
   "cell_type": "code",
   "execution_count": 4,
   "id": "6fe63be4-32a1-4c81-8cb9-9848b9f9207a",
   "metadata": {},
   "outputs": [
    {
     "name": "stdout",
     "output_type": "stream",
     "text": [
      "<class 'pandas.core.frame.DataFrame'>\n",
      "RangeIndex: 800000 entries, 0 to 799999\n",
      "Data columns (total 35 columns):\n",
      " #   Column                                    Non-Null Count   Dtype  \n",
      "---  ------                                    --------------   -----  \n",
      " 0   census_tract                              796991 non-null  float64\n",
      " 1   action_taken                              800000 non-null  int64  \n",
      " 2   loan_type                                 800000 non-null  int64  \n",
      " 3   lien_status                               800000 non-null  int64  \n",
      " 4   reverse_mortgage                          800000 non-null  int64  \n",
      " 5   open_end_line_of_credit                   800000 non-null  int64  \n",
      " 6   loan_amount                               800000 non-null  int64  \n",
      " 7   combined_loan_to_value_ratio              431834 non-null  object \n",
      " 8   interest_rate                             574691 non-null  object \n",
      " 9   total_loan_costs                          546909 non-null  object \n",
      " 10  origination_charges                       561139 non-null  object \n",
      " 11  loan_term                                 799413 non-null  object \n",
      " 12  negative_amortization                     800000 non-null  int64  \n",
      " 13  interest_only_payment                     800000 non-null  int64  \n",
      " 14  balloon_payment                           800000 non-null  int64  \n",
      " 15  other_nonamortizing_features              800000 non-null  int64  \n",
      " 16  property_value                            664300 non-null  object \n",
      " 17  occupancy_type                            800000 non-null  int64  \n",
      " 18  manufactured_home_secured_property_type   800000 non-null  int64  \n",
      " 19  manufactured_home_land_property_interest  800000 non-null  int64  \n",
      " 20  total_units                               800000 non-null  object \n",
      " 21  income                                    762555 non-null  float64\n",
      " 22  debt_to_income_ratio                      430952 non-null  object \n",
      " 23  applicant_credit_score_type               800000 non-null  int64  \n",
      " 24  co_applicant_credit_score_type            800000 non-null  int64  \n",
      " 25  applicant_ethnicity_1                     797785 non-null  float64\n",
      " 26  co_applicant_ethnicity_1                  799219 non-null  float64\n",
      " 27  applicant_race_1                          799280 non-null  float64\n",
      " 28  applicant_race_2                          43789 non-null   float64\n",
      " 29  co_applicant_race_1                       799748 non-null  float64\n",
      " 30  co_applicant_race_2                       20007 non-null   float64\n",
      " 31  applicant_sex                             800000 non-null  int64  \n",
      " 32  co_applicant_sex                          800000 non-null  int64  \n",
      " 33  applicant_age                             800000 non-null  object \n",
      " 34  co_applicant_age                          800000 non-null  object \n",
      "dtypes: float64(8), int64(17), object(10)\n",
      "memory usage: 213.6+ MB\n"
     ]
    }
   ],
   "source": [
    "data.info()"
   ]
  },
  {
   "cell_type": "code",
   "execution_count": 1,
   "id": "de4243e7-0930-4421-ae1a-af339eb35b4d",
   "metadata": {
    "tags": []
   },
   "outputs": [
    {
     "ename": "NameError",
     "evalue": "name 'df' is not defined",
     "output_type": "error",
     "traceback": [
      "\u001b[1;31m---------------------------------------------------------------------------\u001b[0m",
      "\u001b[1;31mNameError\u001b[0m                                 Traceback (most recent call last)",
      "Cell \u001b[1;32mIn[1], line 1\u001b[0m\n\u001b[1;32m----> 1\u001b[0m \u001b[38;5;28mprint\u001b[39m(\u001b[43mdf\u001b[49m[\u001b[38;5;124m'\u001b[39m\u001b[38;5;124mapplicant_credit_score_type\u001b[39m\u001b[38;5;124m'\u001b[39m]\u001b[38;5;241m.\u001b[39mvalue_counts())\n",
      "\u001b[1;31mNameError\u001b[0m: name 'df' is not defined"
     ]
    }
   ],
   "source": [
    "print(df['applicant_credit_score_type'].value_counts())"
   ]
  },
  {
   "cell_type": "markdown",
   "id": "3a6cfc56-b487-4f82-9f75-ac998fbf8f91",
   "metadata": {},
   "source": [
    "## Check target variable for 'enough' data."
   ]
  },
  {
   "cell_type": "code",
   "execution_count": 5,
   "id": "4934a211-346f-467e-88f4-0a0dd85a35b8",
   "metadata": {
    "tags": []
   },
   "outputs": [
    {
     "data": {
      "text/plain": [
       "action_taken\n",
       "1    343131\n",
       "6    226679\n",
       "4    126138\n",
       "3     91898\n",
       "5      6775\n",
       "2      4322\n",
       "8       948\n",
       "7       109\n",
       "Name: count, dtype: int64"
      ]
     },
     "execution_count": 5,
     "metadata": {},
     "output_type": "execute_result"
    }
   ],
   "source": [
    "# we want enough data in the target column in the categories 1 and 3. at least 30% in category 3.\n",
    "data['action_taken'].value_counts()"
   ]
  },
  {
   "cell_type": "code",
   "execution_count": 6,
   "id": "557833c3-1d17-4cbf-85d5-9f06dfdbe603",
   "metadata": {
    "tags": []
   },
   "outputs": [],
   "source": [
    "df_test = data.copy()"
   ]
  },
  {
   "cell_type": "code",
   "execution_count": 7,
   "id": "692cf439-1c1a-4cc0-a61e-d048cc8023bf",
   "metadata": {
    "tags": []
   },
   "outputs": [
    {
     "name": "stdout",
     "output_type": "stream",
     "text": [
      "407427\n"
     ]
    }
   ],
   "source": [
    "# Create a Boolean mask to identify rows with missing values in 'object' columns\n",
    "missing_values_mask = df_test.select_dtypes(include=['object']).isna().any(axis=1)\n",
    "\n",
    "# Create a Boolean mask to identify rows without missing values in 'object' columns or with 'action_taken' equal to 3\n",
    "no_missing_values_mask = ~missing_values_mask | (df_test['action_taken'] == 3)\n",
    "\n",
    "# Use the mask to filter the DataFrame and get rows without missing values in 'object' columns, or with 'action_taken' equal to 3\n",
    "rows_without_missing_values = df_test[no_missing_values_mask]\n",
    "\n",
    "# Print the number of rows without missing values in 'object' columns or with 'action_taken' equal to 3\n",
    "print(len(rows_without_missing_values))\n"
   ]
  },
  {
   "cell_type": "code",
   "execution_count": 8,
   "id": "89942538-4bea-4ce8-a2e8-a65db493b09c",
   "metadata": {
    "tags": []
   },
   "outputs": [
    {
     "data": {
      "text/plain": [
       "action_taken\n",
       "1    343131\n",
       "6    226679\n",
       "4    126138\n",
       "3     91898\n",
       "5      6775\n",
       "2      4322\n",
       "8       948\n",
       "7       109\n",
       "Name: count, dtype: int64"
      ]
     },
     "execution_count": 8,
     "metadata": {},
     "output_type": "execute_result"
    }
   ],
   "source": [
    "data['action_taken'].value_counts()"
   ]
  },
  {
   "cell_type": "code",
   "execution_count": 9,
   "id": "16bfb864-e30c-4a73-a1b9-8cdd98b14df9",
   "metadata": {
    "tags": []
   },
   "outputs": [
    {
     "name": "stdout",
     "output_type": "stream",
     "text": [
      "<class 'pandas.core.frame.DataFrame'>\n",
      "Index: 407427 entries, 0 to 799999\n",
      "Data columns (total 35 columns):\n",
      " #   Column                                    Non-Null Count   Dtype  \n",
      "---  ------                                    --------------   -----  \n",
      " 0   census_tract                              406815 non-null  float64\n",
      " 1   action_taken                              407427 non-null  int64  \n",
      " 2   loan_type                                 407427 non-null  int64  \n",
      " 3   lien_status                               407427 non-null  int64  \n",
      " 4   reverse_mortgage                          407427 non-null  int64  \n",
      " 5   open_end_line_of_credit                   407427 non-null  int64  \n",
      " 6   loan_amount                               407427 non-null  int64  \n",
      " 7   combined_loan_to_value_ratio              404749 non-null  object \n",
      " 8   interest_rate                             315885 non-null  object \n",
      " 9   total_loan_costs                          315885 non-null  object \n",
      " 10  origination_charges                       315885 non-null  object \n",
      " 11  loan_term                                 407349 non-null  object \n",
      " 12  negative_amortization                     407427 non-null  int64  \n",
      " 13  interest_only_payment                     407427 non-null  int64  \n",
      " 14  balloon_payment                           407427 non-null  int64  \n",
      " 15  other_nonamortizing_features              407427 non-null  int64  \n",
      " 16  property_value                            406301 non-null  object \n",
      " 17  occupancy_type                            407427 non-null  int64  \n",
      " 18  manufactured_home_secured_property_type   407427 non-null  int64  \n",
      " 19  manufactured_home_land_property_interest  407427 non-null  int64  \n",
      " 20  total_units                               407427 non-null  object \n",
      " 21  income                                    391007 non-null  float64\n",
      " 22  debt_to_income_ratio                      404735 non-null  object \n",
      " 23  applicant_credit_score_type               407427 non-null  int64  \n",
      " 24  co_applicant_credit_score_type            407427 non-null  int64  \n",
      " 25  applicant_ethnicity_1                     405995 non-null  float64\n",
      " 26  co_applicant_ethnicity_1                  406924 non-null  float64\n",
      " 27  applicant_race_1                          406951 non-null  float64\n",
      " 28  applicant_race_2                          22145 non-null   float64\n",
      " 29  co_applicant_race_1                       407255 non-null  float64\n",
      " 30  co_applicant_race_2                       10825 non-null   float64\n",
      " 31  applicant_sex                             407427 non-null  int64  \n",
      " 32  co_applicant_sex                          407427 non-null  int64  \n",
      " 33  applicant_age                             407427 non-null  object \n",
      " 34  co_applicant_age                          407427 non-null  object \n",
      "dtypes: float64(8), int64(17), object(10)\n",
      "memory usage: 111.9+ MB\n"
     ]
    }
   ],
   "source": [
    "rows_without_missing_values.info()"
   ]
  },
  {
   "cell_type": "code",
   "execution_count": 10,
   "id": "ea695f6e-139f-445e-adec-04f0f87a16f6",
   "metadata": {
    "tags": []
   },
   "outputs": [
    {
     "data": {
      "text/html": [
       "<div>\n",
       "<style scoped>\n",
       "    .dataframe tbody tr th:only-of-type {\n",
       "        vertical-align: middle;\n",
       "    }\n",
       "\n",
       "    .dataframe tbody tr th {\n",
       "        vertical-align: top;\n",
       "    }\n",
       "\n",
       "    .dataframe thead th {\n",
       "        text-align: right;\n",
       "    }\n",
       "</style>\n",
       "<table border=\"1\" class=\"dataframe\">\n",
       "  <thead>\n",
       "    <tr style=\"text-align: right;\">\n",
       "      <th></th>\n",
       "      <th>census_tract</th>\n",
       "      <th>action_taken</th>\n",
       "      <th>loan_type</th>\n",
       "      <th>lien_status</th>\n",
       "      <th>reverse_mortgage</th>\n",
       "      <th>open_end_line_of_credit</th>\n",
       "      <th>loan_amount</th>\n",
       "      <th>combined_loan_to_value_ratio</th>\n",
       "      <th>interest_rate</th>\n",
       "      <th>total_loan_costs</th>\n",
       "      <th>...</th>\n",
       "      <th>applicant_ethnicity_1</th>\n",
       "      <th>co_applicant_ethnicity_1</th>\n",
       "      <th>applicant_race_1</th>\n",
       "      <th>applicant_race_2</th>\n",
       "      <th>co_applicant_race_1</th>\n",
       "      <th>co_applicant_race_2</th>\n",
       "      <th>applicant_sex</th>\n",
       "      <th>co_applicant_sex</th>\n",
       "      <th>applicant_age</th>\n",
       "      <th>co_applicant_age</th>\n",
       "    </tr>\n",
       "  </thead>\n",
       "  <tbody>\n",
       "    <tr>\n",
       "      <th>0</th>\n",
       "      <td>9.003416e+09</td>\n",
       "      <td>3</td>\n",
       "      <td>2</td>\n",
       "      <td>1</td>\n",
       "      <td>2</td>\n",
       "      <td>2</td>\n",
       "      <td>115000</td>\n",
       "      <td>98.188</td>\n",
       "      <td>NaN</td>\n",
       "      <td>NaN</td>\n",
       "      <td>...</td>\n",
       "      <td>2.0</td>\n",
       "      <td>5.0</td>\n",
       "      <td>3.0</td>\n",
       "      <td>NaN</td>\n",
       "      <td>8.0</td>\n",
       "      <td>NaN</td>\n",
       "      <td>1</td>\n",
       "      <td>5</td>\n",
       "      <td>35-44</td>\n",
       "      <td>9999</td>\n",
       "    </tr>\n",
       "    <tr>\n",
       "      <th>7</th>\n",
       "      <td>4.209120e+10</td>\n",
       "      <td>1</td>\n",
       "      <td>1</td>\n",
       "      <td>1</td>\n",
       "      <td>2</td>\n",
       "      <td>2</td>\n",
       "      <td>355000</td>\n",
       "      <td>75.822</td>\n",
       "      <td>4.25</td>\n",
       "      <td>8352.71</td>\n",
       "      <td>...</td>\n",
       "      <td>2.0</td>\n",
       "      <td>2.0</td>\n",
       "      <td>5.0</td>\n",
       "      <td>NaN</td>\n",
       "      <td>5.0</td>\n",
       "      <td>NaN</td>\n",
       "      <td>1</td>\n",
       "      <td>2</td>\n",
       "      <td>35-44</td>\n",
       "      <td>&gt;74</td>\n",
       "    </tr>\n",
       "    <tr>\n",
       "      <th>8</th>\n",
       "      <td>6.067006e+09</td>\n",
       "      <td>1</td>\n",
       "      <td>1</td>\n",
       "      <td>1</td>\n",
       "      <td>2</td>\n",
       "      <td>2</td>\n",
       "      <td>265000</td>\n",
       "      <td>77.612</td>\n",
       "      <td>3.5</td>\n",
       "      <td>1983.0</td>\n",
       "      <td>...</td>\n",
       "      <td>2.0</td>\n",
       "      <td>5.0</td>\n",
       "      <td>5.0</td>\n",
       "      <td>NaN</td>\n",
       "      <td>8.0</td>\n",
       "      <td>NaN</td>\n",
       "      <td>2</td>\n",
       "      <td>5</td>\n",
       "      <td>45-54</td>\n",
       "      <td>9999</td>\n",
       "    </tr>\n",
       "    <tr>\n",
       "      <th>13</th>\n",
       "      <td>5.513320e+10</td>\n",
       "      <td>1</td>\n",
       "      <td>2</td>\n",
       "      <td>1</td>\n",
       "      <td>2</td>\n",
       "      <td>2</td>\n",
       "      <td>285000</td>\n",
       "      <td>84.777</td>\n",
       "      <td>4.125</td>\n",
       "      <td>6854.68</td>\n",
       "      <td>...</td>\n",
       "      <td>2.0</td>\n",
       "      <td>2.0</td>\n",
       "      <td>5.0</td>\n",
       "      <td>NaN</td>\n",
       "      <td>5.0</td>\n",
       "      <td>NaN</td>\n",
       "      <td>1</td>\n",
       "      <td>2</td>\n",
       "      <td>35-44</td>\n",
       "      <td>35-44</td>\n",
       "    </tr>\n",
       "    <tr>\n",
       "      <th>16</th>\n",
       "      <td>5.513320e+10</td>\n",
       "      <td>1</td>\n",
       "      <td>1</td>\n",
       "      <td>1</td>\n",
       "      <td>2</td>\n",
       "      <td>2</td>\n",
       "      <td>295000</td>\n",
       "      <td>95.0</td>\n",
       "      <td>3.5</td>\n",
       "      <td>4700.6</td>\n",
       "      <td>...</td>\n",
       "      <td>2.0</td>\n",
       "      <td>5.0</td>\n",
       "      <td>5.0</td>\n",
       "      <td>NaN</td>\n",
       "      <td>8.0</td>\n",
       "      <td>NaN</td>\n",
       "      <td>2</td>\n",
       "      <td>5</td>\n",
       "      <td>35-44</td>\n",
       "      <td>9999</td>\n",
       "    </tr>\n",
       "  </tbody>\n",
       "</table>\n",
       "<p>5 rows × 35 columns</p>\n",
       "</div>"
      ],
      "text/plain": [
       "    census_tract  action_taken  loan_type  lien_status  reverse_mortgage  \\\n",
       "0   9.003416e+09             3          2            1                 2   \n",
       "7   4.209120e+10             1          1            1                 2   \n",
       "8   6.067006e+09             1          1            1                 2   \n",
       "13  5.513320e+10             1          2            1                 2   \n",
       "16  5.513320e+10             1          1            1                 2   \n",
       "\n",
       "    open_end_line_of_credit  loan_amount combined_loan_to_value_ratio  \\\n",
       "0                         2       115000                       98.188   \n",
       "7                         2       355000                       75.822   \n",
       "8                         2       265000                       77.612   \n",
       "13                        2       285000                       84.777   \n",
       "16                        2       295000                         95.0   \n",
       "\n",
       "   interest_rate total_loan_costs  ... applicant_ethnicity_1  \\\n",
       "0            NaN              NaN  ...                   2.0   \n",
       "7           4.25          8352.71  ...                   2.0   \n",
       "8            3.5           1983.0  ...                   2.0   \n",
       "13         4.125          6854.68  ...                   2.0   \n",
       "16           3.5           4700.6  ...                   2.0   \n",
       "\n",
       "   co_applicant_ethnicity_1  applicant_race_1  applicant_race_2  \\\n",
       "0                       5.0               3.0               NaN   \n",
       "7                       2.0               5.0               NaN   \n",
       "8                       5.0               5.0               NaN   \n",
       "13                      2.0               5.0               NaN   \n",
       "16                      5.0               5.0               NaN   \n",
       "\n",
       "    co_applicant_race_1  co_applicant_race_2 applicant_sex  co_applicant_sex  \\\n",
       "0                   8.0                  NaN             1                 5   \n",
       "7                   5.0                  NaN             1                 2   \n",
       "8                   8.0                  NaN             2                 5   \n",
       "13                  5.0                  NaN             1                 2   \n",
       "16                  8.0                  NaN             2                 5   \n",
       "\n",
       "    applicant_age  co_applicant_age  \n",
       "0           35-44              9999  \n",
       "7           35-44               >74  \n",
       "8           45-54              9999  \n",
       "13          35-44             35-44  \n",
       "16          35-44              9999  \n",
       "\n",
       "[5 rows x 35 columns]"
      ]
     },
     "execution_count": 10,
     "metadata": {},
     "output_type": "execute_result"
    }
   ],
   "source": [
    "rows_without_missing_values.head()"
   ]
  },
  {
   "cell_type": "code",
   "execution_count": 11,
   "id": "7d6564bf-ba5d-46bd-9be8-a2cfe9c1436b",
   "metadata": {
    "tags": []
   },
   "outputs": [
    {
     "data": {
      "text/plain": [
       "['combined_loan_to_value_ratio',\n",
       " 'interest_rate',\n",
       " 'total_loan_costs',\n",
       " 'origination_charges',\n",
       " 'loan_term',\n",
       " 'property_value',\n",
       " 'total_units',\n",
       " 'debt_to_income_ratio',\n",
       " 'applicant_age',\n",
       " 'co_applicant_age']"
      ]
     },
     "execution_count": 11,
     "metadata": {},
     "output_type": "execute_result"
    }
   ],
   "source": [
    "categorical_columns = rows_without_missing_values.select_dtypes(include=['object']).columns.tolist()\n",
    "categorical_columns"
   ]
  },
  {
   "cell_type": "code",
   "execution_count": 12,
   "id": "00dcb75c-67ba-48ab-8a54-59cec0b00763",
   "metadata": {
    "tags": []
   },
   "outputs": [
    {
     "data": {
      "text/plain": [
       "['census_tract',\n",
       " 'action_taken',\n",
       " 'loan_type',\n",
       " 'lien_status',\n",
       " 'reverse_mortgage',\n",
       " 'open_end_line_of_credit',\n",
       " 'loan_amount',\n",
       " 'negative_amortization',\n",
       " 'interest_only_payment',\n",
       " 'balloon_payment',\n",
       " 'other_nonamortizing_features',\n",
       " 'occupancy_type',\n",
       " 'manufactured_home_secured_property_type',\n",
       " 'manufactured_home_land_property_interest',\n",
       " 'income',\n",
       " 'applicant_credit_score_type',\n",
       " 'co_applicant_credit_score_type',\n",
       " 'applicant_ethnicity_1',\n",
       " 'co_applicant_ethnicity_1',\n",
       " 'applicant_race_1',\n",
       " 'applicant_race_2',\n",
       " 'co_applicant_race_1',\n",
       " 'co_applicant_race_2',\n",
       " 'applicant_sex',\n",
       " 'co_applicant_sex']"
      ]
     },
     "execution_count": 12,
     "metadata": {},
     "output_type": "execute_result"
    }
   ],
   "source": [
    "numerical_columns = rows_without_missing_values.select_dtypes(include=['float64', 'int64']).columns.tolist()\n",
    "numerical_columns"
   ]
  },
  {
   "cell_type": "code",
   "execution_count": 13,
   "id": "e6c4041d-43a6-4bcd-8bb8-a3f8b551f970",
   "metadata": {
    "tags": []
   },
   "outputs": [
    {
     "data": {
      "text/plain": [
       "action_taken\n",
       "1    312145\n",
       "3     91898\n",
       "6      2850\n",
       "4       324\n",
       "2        96\n",
       "8        51\n",
       "5        41\n",
       "7        22\n",
       "Name: count, dtype: int64"
      ]
     },
     "execution_count": 13,
     "metadata": {},
     "output_type": "execute_result"
    }
   ],
   "source": [
    "rows_without_missing_values['action_taken'].value_counts()"
   ]
  },
  {
   "cell_type": "code",
   "execution_count": 14,
   "id": "1da59713-8dc8-47e1-bcf4-42864572600c",
   "metadata": {
    "tags": []
   },
   "outputs": [
    {
     "data": {
      "text/plain": [
       "action_taken\n",
       "3    91898\n",
       "1    91898\n",
       "Name: count, dtype: int64"
      ]
     },
     "execution_count": 14,
     "metadata": {},
     "output_type": "execute_result"
    }
   ],
   "source": [
    "# Filter rows to keep only categories 1 and 3\n",
    "df = rows_without_missing_values[rows_without_missing_values['action_taken'].isin([1, 3])]\n",
    "\n",
    "# Calculate the counts for each category using len\n",
    "category_1_count = len(df[df['action_taken'] == 1])\n",
    "category_3_count = len(df[df['action_taken'] == 3])\n",
    "\n",
    "# Ensure that counts are the same for categories 1 and 3\n",
    "if category_1_count != category_3_count:\n",
    "    if category_1_count > category_3_count:\n",
    "        # Randomly sample rows from category 1 to match the count of category 3\n",
    "        category_1_rows = df[df['action_taken'] == 1]\n",
    "        sampled_rows = category_1_rows.sample(n=category_3_count, random_state=1)\n",
    "        df = pd.concat([df[df['action_taken'] == 3], sampled_rows])\n",
    "    elif category_3_count > category_1_count:\n",
    "        # Randomly sample rows from category 3 to match the count of category 1\n",
    "        category_3_rows = df[df['action_taken'] == 3]\n",
    "        sampled_rows = category_3_rows.sample(n=category_1_count, random_state=1)\n",
    "        df = pd.concat([df[df['action_taken'] == 1], sampled_rows])\n",
    "# Now, df contains the same number of values in categories 1 and 3\n",
    "df['action_taken'].value_counts()\n"
   ]
  },
  {
   "cell_type": "code",
   "execution_count": 15,
   "id": "78b71e12-8ffd-4a09-82c1-464bfe57cdd1",
   "metadata": {
    "tags": []
   },
   "outputs": [
    {
     "name": "stdout",
     "output_type": "stream",
     "text": [
      "<class 'pandas.core.frame.DataFrame'>\n",
      "Index: 183796 entries, 0 to 624664\n",
      "Data columns (total 35 columns):\n",
      " #   Column                                    Non-Null Count   Dtype  \n",
      "---  ------                                    --------------   -----  \n",
      " 0   census_tract                              183391 non-null  float64\n",
      " 1   action_taken                              183796 non-null  int64  \n",
      " 2   loan_type                                 183796 non-null  int64  \n",
      " 3   lien_status                               183796 non-null  int64  \n",
      " 4   reverse_mortgage                          183796 non-null  int64  \n",
      " 5   open_end_line_of_credit                   183796 non-null  int64  \n",
      " 6   loan_amount                               183796 non-null  int64  \n",
      " 7   combined_loan_to_value_ratio              181118 non-null  object \n",
      " 8   interest_rate                             92254 non-null   object \n",
      " 9   total_loan_costs                          92254 non-null   object \n",
      " 10  origination_charges                       92254 non-null   object \n",
      " 11  loan_term                                 183718 non-null  object \n",
      " 12  negative_amortization                     183796 non-null  int64  \n",
      " 13  interest_only_payment                     183796 non-null  int64  \n",
      " 14  balloon_payment                           183796 non-null  int64  \n",
      " 15  other_nonamortizing_features              183796 non-null  int64  \n",
      " 16  property_value                            182670 non-null  object \n",
      " 17  occupancy_type                            183796 non-null  int64  \n",
      " 18  manufactured_home_secured_property_type   183796 non-null  int64  \n",
      " 19  manufactured_home_land_property_interest  183796 non-null  int64  \n",
      " 20  total_units                               183796 non-null  object \n",
      " 21  income                                    177054 non-null  float64\n",
      " 22  debt_to_income_ratio                      181104 non-null  object \n",
      " 23  applicant_credit_score_type               183796 non-null  int64  \n",
      " 24  co_applicant_credit_score_type            183796 non-null  int64  \n",
      " 25  applicant_ethnicity_1                     182867 non-null  float64\n",
      " 26  co_applicant_ethnicity_1                  183479 non-null  float64\n",
      " 27  applicant_race_1                          183490 non-null  float64\n",
      " 28  applicant_race_2                          9733 non-null    float64\n",
      " 29  co_applicant_race_1                       183697 non-null  float64\n",
      " 30  co_applicant_race_2                       4412 non-null    float64\n",
      " 31  applicant_sex                             183796 non-null  int64  \n",
      " 32  co_applicant_sex                          183796 non-null  int64  \n",
      " 33  applicant_age                             183796 non-null  object \n",
      " 34  co_applicant_age                          183796 non-null  object \n",
      "dtypes: float64(8), int64(17), object(10)\n",
      "memory usage: 50.5+ MB\n"
     ]
    }
   ],
   "source": [
    "df.info()"
   ]
  },
  {
   "cell_type": "code",
   "execution_count": 16,
   "id": "1e878840-5292-46d4-a9ca-b6abb4a4d69f",
   "metadata": {
    "tags": []
   },
   "outputs": [],
   "source": [
    "df.to_csv('1_downloaded_data.csv', index=False)"
   ]
  },
  {
   "cell_type": "code",
   "execution_count": null,
   "id": "4e09195f-1a6d-4dcc-acb8-7de3107488e1",
   "metadata": {},
   "outputs": [],
   "source": []
  }
 ],
 "metadata": {
  "kernelspec": {
   "display_name": "Python 3 (ipykernel)",
   "language": "python",
   "name": "python3"
  },
  "language_info": {
   "codemirror_mode": {
    "name": "ipython",
    "version": 3
   },
   "file_extension": ".py",
   "mimetype": "text/x-python",
   "name": "python",
   "nbconvert_exporter": "python",
   "pygments_lexer": "ipython3",
   "version": "3.9.18"
  }
 },
 "nbformat": 4,
 "nbformat_minor": 5
}
