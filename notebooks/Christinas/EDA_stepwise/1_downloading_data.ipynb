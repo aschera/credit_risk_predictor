{
 "cells": [
  {
   "cell_type": "markdown",
   "id": "1786602f-1766-4ed4-ad77-66270b1676f2",
   "metadata": {},
   "source": [
    "# Imports"
   ]
  },
  {
   "cell_type": "code",
   "execution_count": 1,
   "id": "ad77c1d1-cd5c-4e2e-9fd9-01f379cc89bd",
   "metadata": {
    "tags": []
   },
   "outputs": [],
   "source": [
    "import pandas as pd"
   ]
  },
  {
   "cell_type": "markdown",
   "id": "c79f369a-5ad5-4028-ab0c-110171b0fd6c",
   "metadata": {},
   "source": [
    "# Data Source"
   ]
  },
  {
   "cell_type": "code",
   "execution_count": 2,
   "id": "b2fe0934-af26-4f4d-b6ad-5fa4999dd45f",
   "metadata": {},
   "outputs": [],
   "source": [
    "url = 'https://s3.amazonaws.com/cfpb-hmda-public/prod/three-year-data/2019/2019_public_lar_three_year_csv.zip'\n",
    "# See information about data fields of the original dataset here:\n",
    "# https://ffiec.cfpb.gov/documentation/publications/loan-level-datasets/lar-data-fields"
   ]
  },
  {
   "cell_type": "markdown",
   "id": "3e0beb19-9f37-4a9a-ada2-b39dce3c6712",
   "metadata": {},
   "source": [
    "# How many rows\n",
    "- there are potentionally millions.\n",
    "- you can not load all! the computer will die."
   ]
  },
  {
   "cell_type": "code",
   "execution_count": 3,
   "id": "c71a7c9e-2d8c-4ae0-be22-49335dce0092",
   "metadata": {},
   "outputs": [],
   "source": [
    "num_rows_to_read = 1000000"
   ]
  },
  {
   "cell_type": "markdown",
   "id": "bd072359-842c-4d40-a189-734c7e77fe9b",
   "metadata": {},
   "source": [
    "# Conditions - which columns we want"
   ]
  },
  {
   "cell_type": "code",
   "execution_count": 4,
   "id": "beeecf80-3042-445f-9615-a217fb27f8bd",
   "metadata": {
    "tags": []
   },
   "outputs": [],
   "source": [
    "# 'loan_purpose': condition, 'business or commercial_purpose, condition two is home owners.\n",
    "condition = lambda x: x == 1\n",
    "condition2 = lambda x: x == 2\n",
    "\n",
    "# List of column names we want to read:\n",
    "columns_to_read = [\n",
    "'loan_type',\n",
    "'loan_amount',\n",
    "'action_taken',\n",
    "'occupancy_type',\n",
    "'applicant_ethnicity_1',\n",
    "'co_applicant_ethnicity_1',\n",
    "'applicant_race_1',\n",
    "'co_applicant_race_1',\n",
    "'applicant_sex',\n",
    "'co_applicant_sex',\n",
    "'applicant_age',\n",
    "'co_applicant_age',\n",
    "'income',\n",
    "'lien_status',\n",
    "'applicant_credit_score_type',\n",
    "'co_applicant_credit_score_type',\n",
    "'origination_charges',\n",
    "'interest_rate',\n",
    "'debt_to_income_ratio',\n",
    "'combined_loan_to_value_ratio',\n",
    "'loan_term',\n",
    "'property_value',\n",
    "'manufactured_home_secured_property_type',\n",
    "'total_units',\n",
    "'open_end_line_of_credit',\n",
    "'manufactured_home_land_property_interest',\n",
    "'total_loan_costs',\n",
    "'negative_amortization',\n",
    "'interest_only_payment',\n",
    "'balloon_payment',\n",
    "'other_nonamortizing_features',\n",
    "    \n",
    "'co_applicant_race_2', # Need those for the EDA in '3', remove later.\n",
    "'applicant_race_2'  # Need those for the EDA in '3', remove later.\n",
    "]\n"
   ]
  },
  {
   "cell_type": "code",
   "execution_count": 5,
   "id": "00d26c22-b88d-46a0-93a7-a80a34b580db",
   "metadata": {},
   "outputs": [],
   "source": [
    "# Read the CSV file with the specified columns\n",
    "data = pd.read_csv(url, usecols=columns_to_read, nrows=num_rows_to_read, converters={'loan_purpose': condition, 'business_or_commercial_purpose': condition2}, low_memory=False)"
   ]
  },
  {
   "cell_type": "code",
   "execution_count": 6,
   "id": "87c2ac84-6845-475f-9a90-4416fdd116b5",
   "metadata": {
    "tags": []
   },
   "outputs": [
    {
     "data": {
      "text/html": [
       "<div>\n",
       "<style scoped>\n",
       "    .dataframe tbody tr th:only-of-type {\n",
       "        vertical-align: middle;\n",
       "    }\n",
       "\n",
       "    .dataframe tbody tr th {\n",
       "        vertical-align: top;\n",
       "    }\n",
       "\n",
       "    .dataframe thead th {\n",
       "        text-align: right;\n",
       "    }\n",
       "</style>\n",
       "<table border=\"1\" class=\"dataframe\">\n",
       "  <thead>\n",
       "    <tr style=\"text-align: right;\">\n",
       "      <th></th>\n",
       "      <th>action_taken</th>\n",
       "      <th>loan_type</th>\n",
       "      <th>lien_status</th>\n",
       "      <th>open_end_line_of_credit</th>\n",
       "      <th>loan_amount</th>\n",
       "      <th>combined_loan_to_value_ratio</th>\n",
       "      <th>interest_rate</th>\n",
       "      <th>total_loan_costs</th>\n",
       "      <th>origination_charges</th>\n",
       "      <th>loan_term</th>\n",
       "      <th>...</th>\n",
       "      <th>applicant_ethnicity_1</th>\n",
       "      <th>co_applicant_ethnicity_1</th>\n",
       "      <th>applicant_race_1</th>\n",
       "      <th>applicant_race_2</th>\n",
       "      <th>co_applicant_race_1</th>\n",
       "      <th>co_applicant_race_2</th>\n",
       "      <th>applicant_sex</th>\n",
       "      <th>co_applicant_sex</th>\n",
       "      <th>applicant_age</th>\n",
       "      <th>co_applicant_age</th>\n",
       "    </tr>\n",
       "  </thead>\n",
       "  <tbody>\n",
       "    <tr>\n",
       "      <th>0</th>\n",
       "      <td>3</td>\n",
       "      <td>2</td>\n",
       "      <td>1</td>\n",
       "      <td>2</td>\n",
       "      <td>115000</td>\n",
       "      <td>98.188</td>\n",
       "      <td>NaN</td>\n",
       "      <td>NaN</td>\n",
       "      <td>NaN</td>\n",
       "      <td>360</td>\n",
       "      <td>...</td>\n",
       "      <td>2.0</td>\n",
       "      <td>5.0</td>\n",
       "      <td>3.0</td>\n",
       "      <td>NaN</td>\n",
       "      <td>8.0</td>\n",
       "      <td>NaN</td>\n",
       "      <td>1</td>\n",
       "      <td>5</td>\n",
       "      <td>35-44</td>\n",
       "      <td>9999</td>\n",
       "    </tr>\n",
       "    <tr>\n",
       "      <th>1</th>\n",
       "      <td>2</td>\n",
       "      <td>1</td>\n",
       "      <td>1</td>\n",
       "      <td>2</td>\n",
       "      <td>345000</td>\n",
       "      <td>79.254</td>\n",
       "      <td>3.5</td>\n",
       "      <td>NaN</td>\n",
       "      <td>NaN</td>\n",
       "      <td>180</td>\n",
       "      <td>...</td>\n",
       "      <td>2.0</td>\n",
       "      <td>2.0</td>\n",
       "      <td>6.0</td>\n",
       "      <td>NaN</td>\n",
       "      <td>6.0</td>\n",
       "      <td>NaN</td>\n",
       "      <td>1</td>\n",
       "      <td>2</td>\n",
       "      <td>45-54</td>\n",
       "      <td>55-64</td>\n",
       "    </tr>\n",
       "    <tr>\n",
       "      <th>2</th>\n",
       "      <td>5</td>\n",
       "      <td>2</td>\n",
       "      <td>1</td>\n",
       "      <td>2</td>\n",
       "      <td>225000</td>\n",
       "      <td>NaN</td>\n",
       "      <td>NaN</td>\n",
       "      <td>NaN</td>\n",
       "      <td>NaN</td>\n",
       "      <td>360</td>\n",
       "      <td>...</td>\n",
       "      <td>1.0</td>\n",
       "      <td>1.0</td>\n",
       "      <td>5.0</td>\n",
       "      <td>NaN</td>\n",
       "      <td>5.0</td>\n",
       "      <td>NaN</td>\n",
       "      <td>1</td>\n",
       "      <td>2</td>\n",
       "      <td>45-54</td>\n",
       "      <td>45-54</td>\n",
       "    </tr>\n",
       "    <tr>\n",
       "      <th>3</th>\n",
       "      <td>5</td>\n",
       "      <td>2</td>\n",
       "      <td>1</td>\n",
       "      <td>2</td>\n",
       "      <td>125000</td>\n",
       "      <td>NaN</td>\n",
       "      <td>NaN</td>\n",
       "      <td>NaN</td>\n",
       "      <td>NaN</td>\n",
       "      <td>360</td>\n",
       "      <td>...</td>\n",
       "      <td>2.0</td>\n",
       "      <td>5.0</td>\n",
       "      <td>5.0</td>\n",
       "      <td>NaN</td>\n",
       "      <td>8.0</td>\n",
       "      <td>NaN</td>\n",
       "      <td>2</td>\n",
       "      <td>5</td>\n",
       "      <td>65-74</td>\n",
       "      <td>9999</td>\n",
       "    </tr>\n",
       "    <tr>\n",
       "      <th>4</th>\n",
       "      <td>5</td>\n",
       "      <td>1</td>\n",
       "      <td>1</td>\n",
       "      <td>2</td>\n",
       "      <td>125000</td>\n",
       "      <td>NaN</td>\n",
       "      <td>NaN</td>\n",
       "      <td>NaN</td>\n",
       "      <td>NaN</td>\n",
       "      <td>360</td>\n",
       "      <td>...</td>\n",
       "      <td>2.0</td>\n",
       "      <td>5.0</td>\n",
       "      <td>5.0</td>\n",
       "      <td>NaN</td>\n",
       "      <td>8.0</td>\n",
       "      <td>NaN</td>\n",
       "      <td>2</td>\n",
       "      <td>5</td>\n",
       "      <td>55-64</td>\n",
       "      <td>9999</td>\n",
       "    </tr>\n",
       "  </tbody>\n",
       "</table>\n",
       "<p>5 rows × 33 columns</p>\n",
       "</div>"
      ],
      "text/plain": [
       "   action_taken  loan_type  lien_status  open_end_line_of_credit  loan_amount  \\\n",
       "0             3          2            1                        2       115000   \n",
       "1             2          1            1                        2       345000   \n",
       "2             5          2            1                        2       225000   \n",
       "3             5          2            1                        2       125000   \n",
       "4             5          1            1                        2       125000   \n",
       "\n",
       "  combined_loan_to_value_ratio interest_rate total_loan_costs  \\\n",
       "0                       98.188           NaN              NaN   \n",
       "1                       79.254           3.5              NaN   \n",
       "2                          NaN           NaN              NaN   \n",
       "3                          NaN           NaN              NaN   \n",
       "4                          NaN           NaN              NaN   \n",
       "\n",
       "  origination_charges loan_term  ...  applicant_ethnicity_1  \\\n",
       "0                 NaN       360  ...                    2.0   \n",
       "1                 NaN       180  ...                    2.0   \n",
       "2                 NaN       360  ...                    1.0   \n",
       "3                 NaN       360  ...                    2.0   \n",
       "4                 NaN       360  ...                    2.0   \n",
       "\n",
       "   co_applicant_ethnicity_1  applicant_race_1  applicant_race_2  \\\n",
       "0                       5.0               3.0               NaN   \n",
       "1                       2.0               6.0               NaN   \n",
       "2                       1.0               5.0               NaN   \n",
       "3                       5.0               5.0               NaN   \n",
       "4                       5.0               5.0               NaN   \n",
       "\n",
       "  co_applicant_race_1  co_applicant_race_2  applicant_sex  co_applicant_sex  \\\n",
       "0                 8.0                  NaN              1                 5   \n",
       "1                 6.0                  NaN              1                 2   \n",
       "2                 5.0                  NaN              1                 2   \n",
       "3                 8.0                  NaN              2                 5   \n",
       "4                 8.0                  NaN              2                 5   \n",
       "\n",
       "  applicant_age  co_applicant_age  \n",
       "0         35-44              9999  \n",
       "1         45-54             55-64  \n",
       "2         45-54             45-54  \n",
       "3         65-74              9999  \n",
       "4         55-64              9999  \n",
       "\n",
       "[5 rows x 33 columns]"
      ]
     },
     "execution_count": 6,
     "metadata": {},
     "output_type": "execute_result"
    }
   ],
   "source": [
    "data.head()"
   ]
  },
  {
   "cell_type": "code",
   "execution_count": 7,
   "id": "6fe63be4-32a1-4c81-8cb9-9848b9f9207a",
   "metadata": {},
   "outputs": [
    {
     "name": "stdout",
     "output_type": "stream",
     "text": [
      "<class 'pandas.core.frame.DataFrame'>\n",
      "RangeIndex: 1000000 entries, 0 to 999999\n",
      "Data columns (total 33 columns):\n",
      " #   Column                                    Non-Null Count    Dtype  \n",
      "---  ------                                    --------------    -----  \n",
      " 0   action_taken                              1000000 non-null  int64  \n",
      " 1   loan_type                                 1000000 non-null  int64  \n",
      " 2   lien_status                               1000000 non-null  int64  \n",
      " 3   open_end_line_of_credit                   1000000 non-null  int64  \n",
      " 4   loan_amount                               1000000 non-null  int64  \n",
      " 5   combined_loan_to_value_ratio              534599 non-null   object \n",
      " 6   interest_rate                             736975 non-null   object \n",
      " 7   total_loan_costs                          702224 non-null   object \n",
      " 8   origination_charges                       716826 non-null   object \n",
      " 9   loan_term                                 999137 non-null   object \n",
      " 10  negative_amortization                     1000000 non-null  int64  \n",
      " 11  interest_only_payment                     1000000 non-null  int64  \n",
      " 12  balloon_payment                           1000000 non-null  int64  \n",
      " 13  other_nonamortizing_features              1000000 non-null  int64  \n",
      " 14  property_value                            840908 non-null   object \n",
      " 15  occupancy_type                            1000000 non-null  int64  \n",
      " 16  manufactured_home_secured_property_type   1000000 non-null  int64  \n",
      " 17  manufactured_home_land_property_interest  1000000 non-null  int64  \n",
      " 18  total_units                               1000000 non-null  object \n",
      " 19  income                                    949059 non-null   float64\n",
      " 20  debt_to_income_ratio                      535910 non-null   object \n",
      " 21  applicant_credit_score_type               1000000 non-null  int64  \n",
      " 22  co_applicant_credit_score_type            1000000 non-null  int64  \n",
      " 23  applicant_ethnicity_1                     997782 non-null   float64\n",
      " 24  co_applicant_ethnicity_1                  999217 non-null   float64\n",
      " 25  applicant_race_1                          999276 non-null   float64\n",
      " 26  applicant_race_2                          49295 non-null    float64\n",
      " 27  co_applicant_race_1                       999748 non-null   float64\n",
      " 28  co_applicant_race_2                       22171 non-null    float64\n",
      " 29  applicant_sex                             1000000 non-null  int64  \n",
      " 30  co_applicant_sex                          1000000 non-null  int64  \n",
      " 31  applicant_age                             1000000 non-null  object \n",
      " 32  co_applicant_age                          1000000 non-null  object \n",
      "dtypes: float64(7), int64(16), object(10)\n",
      "memory usage: 251.8+ MB\n"
     ]
    }
   ],
   "source": [
    "data.info()"
   ]
  },
  {
   "cell_type": "markdown",
   "id": "3a6cfc56-b487-4f82-9f75-ac998fbf8f91",
   "metadata": {},
   "source": [
    "## Target Variable."
   ]
  },
  {
   "cell_type": "markdown",
   "id": "2d5cf452-9160-41c3-a153-b526b993d0cf",
   "metadata": {
    "tags": []
   },
   "source": [
    "the target variable: action_taken.\n",
    "\n",
    "- 1 - Loan originated\n",
    "- 2 - Application approved but not accepted\n",
    "- 3 - Application denied\n",
    "- 4 - Application withdrawn by applicant\n",
    "- 5 - File closed for incompleteness\n",
    "- 6 - Purchased loan\n",
    "- 7 - Preapproval request denied\n",
    "- 8 - Preapproval request approved but not accepted"
   ]
  },
  {
   "cell_type": "markdown",
   "id": "0f28e27e-b59b-49ff-a513-15dd887e5c4f",
   "metadata": {
    "tags": []
   },
   "source": [
    "# we want enough data in the target column in the categories 1 and 3. at least 30% in category 3.\n",
    "data['action_taken'].value_counts()"
   ]
  },
  {
   "cell_type": "code",
   "execution_count": 8,
   "id": "557833c3-1d17-4cbf-85d5-9f06dfdbe603",
   "metadata": {
    "tags": []
   },
   "outputs": [],
   "source": [
    "# Copy of the data for safety\n",
    "df_test = data.copy()"
   ]
  },
  {
   "cell_type": "markdown",
   "id": "45149e1a-2489-4a7d-b124-3755faf3083b",
   "metadata": {},
   "source": [
    "## How many rows have missing values when target variable is 'declined'"
   ]
  },
  {
   "cell_type": "code",
   "execution_count": 9,
   "id": "692cf439-1c1a-4cc0-a61e-d048cc8023bf",
   "metadata": {
    "tags": []
   },
   "outputs": [
    {
     "name": "stdout",
     "output_type": "stream",
     "text": [
      "0          True\n",
      "1          True\n",
      "2          True\n",
      "3          True\n",
      "4          True\n",
      "          ...  \n",
      "999995     True\n",
      "999996    False\n",
      "999997     True\n",
      "999998    False\n",
      "999999     True\n",
      "Length: 1000000, dtype: bool\n"
     ]
    }
   ],
   "source": [
    "# Create a Boolean mask to identify rows with missing values in 'object' columns\n",
    "missing_values_mask = df_test.select_dtypes(include=['object']).isna().any(axis=1)\n",
    "print(missing_values_mask)"
   ]
  },
  {
   "cell_type": "markdown",
   "id": "8457fb5d-9147-41b7-84e0-59d9af6381b1",
   "metadata": {},
   "source": [
    "### ['action_taken'] == 3\n",
    "\n",
    "When the target variable category is 3, then the loan is declined.(1 is accepted)\n",
    "Many rows had missing values in many places for those rows. This makes predictions harder. As we have a lot of data, we can remove rows with missing values where ['action_taken'] == 3"
   ]
  },
  {
   "cell_type": "markdown",
   "id": "541a1595-9f9f-4945-83f6-deea5cc82903",
   "metadata": {},
   "source": [
    "# Pick rows with no missing values when target variable is 3"
   ]
  },
  {
   "cell_type": "code",
   "execution_count": 10,
   "id": "ca1b4380-7458-4352-b320-03c29fa15067",
   "metadata": {},
   "outputs": [
    {
     "name": "stdout",
     "output_type": "stream",
     "text": [
      "506692\n"
     ]
    }
   ],
   "source": [
    "# Create a Boolean mask to identify rows without missing values in 'object' columns or with 'action_taken' equal to 3\n",
    "no_missing_values_mask = ~missing_values_mask | (df_test['action_taken'] == 3)\n",
    "\n",
    "# Use the mask to filter the DataFrame and get rows without missing values in 'object' columns, or with 'action_taken' equal to 3\n",
    "rows_without_missing_values = df_test[no_missing_values_mask]\n",
    "\n",
    "# Print the number of rows without missing values in 'object' columns or with 'action_taken' equal to 3\n",
    "print(len(rows_without_missing_values))"
   ]
  },
  {
   "cell_type": "code",
   "execution_count": 11,
   "id": "16bfb864-e30c-4a73-a1b9-8cdd98b14df9",
   "metadata": {
    "tags": []
   },
   "outputs": [
    {
     "name": "stdout",
     "output_type": "stream",
     "text": [
      "<class 'pandas.core.frame.DataFrame'>\n",
      "Index: 506692 entries, 0 to 999999\n",
      "Data columns (total 33 columns):\n",
      " #   Column                                    Non-Null Count   Dtype  \n",
      "---  ------                                    --------------   -----  \n",
      " 0   action_taken                              506692 non-null  int64  \n",
      " 1   loan_type                                 506692 non-null  int64  \n",
      " 2   lien_status                               506692 non-null  int64  \n",
      " 3   open_end_line_of_credit                   506692 non-null  int64  \n",
      " 4   loan_amount                               506692 non-null  int64  \n",
      " 5   combined_loan_to_value_ratio              500164 non-null  object \n",
      " 6   interest_rate                             397324 non-null  object \n",
      " 7   total_loan_costs                          397324 non-null  object \n",
      " 8   origination_charges                       397324 non-null  object \n",
      " 9   loan_term                                 506494 non-null  object \n",
      " 10  negative_amortization                     506692 non-null  int64  \n",
      " 11  interest_only_payment                     506692 non-null  int64  \n",
      " 12  balloon_payment                           506692 non-null  int64  \n",
      " 13  other_nonamortizing_features              506692 non-null  int64  \n",
      " 14  property_value                            502311 non-null  object \n",
      " 15  occupancy_type                            506692 non-null  int64  \n",
      " 16  manufactured_home_secured_property_type   506692 non-null  int64  \n",
      " 17  manufactured_home_land_property_interest  506692 non-null  int64  \n",
      " 18  total_units                               506692 non-null  object \n",
      " 19  income                                    487371 non-null  float64\n",
      " 20  debt_to_income_ratio                      502913 non-null  object \n",
      " 21  applicant_credit_score_type               506692 non-null  int64  \n",
      " 22  co_applicant_credit_score_type            506692 non-null  int64  \n",
      " 23  applicant_ethnicity_1                     505260 non-null  float64\n",
      " 24  co_applicant_ethnicity_1                  506189 non-null  float64\n",
      " 25  applicant_race_1                          506216 non-null  float64\n",
      " 26  applicant_race_2                          24901 non-null   float64\n",
      " 27  co_applicant_race_1                       506520 non-null  float64\n",
      " 28  co_applicant_race_2                       11896 non-null   float64\n",
      " 29  applicant_sex                             506692 non-null  int64  \n",
      " 30  co_applicant_sex                          506692 non-null  int64  \n",
      " 31  applicant_age                             506692 non-null  object \n",
      " 32  co_applicant_age                          506692 non-null  object \n",
      "dtypes: float64(7), int64(16), object(10)\n",
      "memory usage: 131.4+ MB\n"
     ]
    }
   ],
   "source": [
    "rows_without_missing_values.info()"
   ]
  },
  {
   "cell_type": "code",
   "execution_count": 12,
   "id": "ea695f6e-139f-445e-adec-04f0f87a16f6",
   "metadata": {
    "tags": []
   },
   "outputs": [
    {
     "data": {
      "text/html": [
       "<div>\n",
       "<style scoped>\n",
       "    .dataframe tbody tr th:only-of-type {\n",
       "        vertical-align: middle;\n",
       "    }\n",
       "\n",
       "    .dataframe tbody tr th {\n",
       "        vertical-align: top;\n",
       "    }\n",
       "\n",
       "    .dataframe thead th {\n",
       "        text-align: right;\n",
       "    }\n",
       "</style>\n",
       "<table border=\"1\" class=\"dataframe\">\n",
       "  <thead>\n",
       "    <tr style=\"text-align: right;\">\n",
       "      <th></th>\n",
       "      <th>action_taken</th>\n",
       "      <th>loan_type</th>\n",
       "      <th>lien_status</th>\n",
       "      <th>open_end_line_of_credit</th>\n",
       "      <th>loan_amount</th>\n",
       "      <th>combined_loan_to_value_ratio</th>\n",
       "      <th>interest_rate</th>\n",
       "      <th>total_loan_costs</th>\n",
       "      <th>origination_charges</th>\n",
       "      <th>loan_term</th>\n",
       "      <th>...</th>\n",
       "      <th>applicant_ethnicity_1</th>\n",
       "      <th>co_applicant_ethnicity_1</th>\n",
       "      <th>applicant_race_1</th>\n",
       "      <th>applicant_race_2</th>\n",
       "      <th>co_applicant_race_1</th>\n",
       "      <th>co_applicant_race_2</th>\n",
       "      <th>applicant_sex</th>\n",
       "      <th>co_applicant_sex</th>\n",
       "      <th>applicant_age</th>\n",
       "      <th>co_applicant_age</th>\n",
       "    </tr>\n",
       "  </thead>\n",
       "  <tbody>\n",
       "    <tr>\n",
       "      <th>0</th>\n",
       "      <td>3</td>\n",
       "      <td>2</td>\n",
       "      <td>1</td>\n",
       "      <td>2</td>\n",
       "      <td>115000</td>\n",
       "      <td>98.188</td>\n",
       "      <td>NaN</td>\n",
       "      <td>NaN</td>\n",
       "      <td>NaN</td>\n",
       "      <td>360</td>\n",
       "      <td>...</td>\n",
       "      <td>2.0</td>\n",
       "      <td>5.0</td>\n",
       "      <td>3.0</td>\n",
       "      <td>NaN</td>\n",
       "      <td>8.0</td>\n",
       "      <td>NaN</td>\n",
       "      <td>1</td>\n",
       "      <td>5</td>\n",
       "      <td>35-44</td>\n",
       "      <td>9999</td>\n",
       "    </tr>\n",
       "    <tr>\n",
       "      <th>7</th>\n",
       "      <td>1</td>\n",
       "      <td>1</td>\n",
       "      <td>1</td>\n",
       "      <td>2</td>\n",
       "      <td>355000</td>\n",
       "      <td>75.822</td>\n",
       "      <td>4.25</td>\n",
       "      <td>8352.71</td>\n",
       "      <td>4961.44</td>\n",
       "      <td>360</td>\n",
       "      <td>...</td>\n",
       "      <td>2.0</td>\n",
       "      <td>2.0</td>\n",
       "      <td>5.0</td>\n",
       "      <td>NaN</td>\n",
       "      <td>5.0</td>\n",
       "      <td>NaN</td>\n",
       "      <td>1</td>\n",
       "      <td>2</td>\n",
       "      <td>35-44</td>\n",
       "      <td>&gt;74</td>\n",
       "    </tr>\n",
       "    <tr>\n",
       "      <th>8</th>\n",
       "      <td>1</td>\n",
       "      <td>1</td>\n",
       "      <td>1</td>\n",
       "      <td>2</td>\n",
       "      <td>265000</td>\n",
       "      <td>77.612</td>\n",
       "      <td>3.5</td>\n",
       "      <td>1983.0</td>\n",
       "      <td>0.0</td>\n",
       "      <td>360</td>\n",
       "      <td>...</td>\n",
       "      <td>2.0</td>\n",
       "      <td>5.0</td>\n",
       "      <td>5.0</td>\n",
       "      <td>NaN</td>\n",
       "      <td>8.0</td>\n",
       "      <td>NaN</td>\n",
       "      <td>2</td>\n",
       "      <td>5</td>\n",
       "      <td>45-54</td>\n",
       "      <td>9999</td>\n",
       "    </tr>\n",
       "    <tr>\n",
       "      <th>13</th>\n",
       "      <td>1</td>\n",
       "      <td>2</td>\n",
       "      <td>1</td>\n",
       "      <td>2</td>\n",
       "      <td>285000</td>\n",
       "      <td>84.777</td>\n",
       "      <td>4.125</td>\n",
       "      <td>6854.68</td>\n",
       "      <td>0.0</td>\n",
       "      <td>360</td>\n",
       "      <td>...</td>\n",
       "      <td>2.0</td>\n",
       "      <td>2.0</td>\n",
       "      <td>5.0</td>\n",
       "      <td>NaN</td>\n",
       "      <td>5.0</td>\n",
       "      <td>NaN</td>\n",
       "      <td>1</td>\n",
       "      <td>2</td>\n",
       "      <td>35-44</td>\n",
       "      <td>35-44</td>\n",
       "    </tr>\n",
       "    <tr>\n",
       "      <th>16</th>\n",
       "      <td>1</td>\n",
       "      <td>1</td>\n",
       "      <td>1</td>\n",
       "      <td>2</td>\n",
       "      <td>295000</td>\n",
       "      <td>95.0</td>\n",
       "      <td>3.5</td>\n",
       "      <td>4700.6</td>\n",
       "      <td>1630.2</td>\n",
       "      <td>360</td>\n",
       "      <td>...</td>\n",
       "      <td>2.0</td>\n",
       "      <td>5.0</td>\n",
       "      <td>5.0</td>\n",
       "      <td>NaN</td>\n",
       "      <td>8.0</td>\n",
       "      <td>NaN</td>\n",
       "      <td>2</td>\n",
       "      <td>5</td>\n",
       "      <td>35-44</td>\n",
       "      <td>9999</td>\n",
       "    </tr>\n",
       "  </tbody>\n",
       "</table>\n",
       "<p>5 rows × 33 columns</p>\n",
       "</div>"
      ],
      "text/plain": [
       "    action_taken  loan_type  lien_status  open_end_line_of_credit  \\\n",
       "0              3          2            1                        2   \n",
       "7              1          1            1                        2   \n",
       "8              1          1            1                        2   \n",
       "13             1          2            1                        2   \n",
       "16             1          1            1                        2   \n",
       "\n",
       "    loan_amount combined_loan_to_value_ratio interest_rate total_loan_costs  \\\n",
       "0        115000                       98.188           NaN              NaN   \n",
       "7        355000                       75.822          4.25          8352.71   \n",
       "8        265000                       77.612           3.5           1983.0   \n",
       "13       285000                       84.777         4.125          6854.68   \n",
       "16       295000                         95.0           3.5           4700.6   \n",
       "\n",
       "   origination_charges loan_term  ...  applicant_ethnicity_1  \\\n",
       "0                  NaN       360  ...                    2.0   \n",
       "7              4961.44       360  ...                    2.0   \n",
       "8                  0.0       360  ...                    2.0   \n",
       "13                 0.0       360  ...                    2.0   \n",
       "16              1630.2       360  ...                    2.0   \n",
       "\n",
       "    co_applicant_ethnicity_1  applicant_race_1  applicant_race_2  \\\n",
       "0                        5.0               3.0               NaN   \n",
       "7                        2.0               5.0               NaN   \n",
       "8                        5.0               5.0               NaN   \n",
       "13                       2.0               5.0               NaN   \n",
       "16                       5.0               5.0               NaN   \n",
       "\n",
       "   co_applicant_race_1  co_applicant_race_2  applicant_sex  co_applicant_sex  \\\n",
       "0                  8.0                  NaN              1                 5   \n",
       "7                  5.0                  NaN              1                 2   \n",
       "8                  8.0                  NaN              2                 5   \n",
       "13                 5.0                  NaN              1                 2   \n",
       "16                 8.0                  NaN              2                 5   \n",
       "\n",
       "   applicant_age  co_applicant_age  \n",
       "0          35-44              9999  \n",
       "7          35-44               >74  \n",
       "8          45-54              9999  \n",
       "13         35-44             35-44  \n",
       "16         35-44              9999  \n",
       "\n",
       "[5 rows x 33 columns]"
      ]
     },
     "execution_count": 12,
     "metadata": {},
     "output_type": "execute_result"
    }
   ],
   "source": [
    "rows_without_missing_values.head()"
   ]
  },
  {
   "cell_type": "markdown",
   "id": "7f452941-633b-49b5-ac1a-232c7cf410fe",
   "metadata": {},
   "source": [
    "# Categorical columns"
   ]
  },
  {
   "cell_type": "code",
   "execution_count": 13,
   "id": "7d6564bf-ba5d-46bd-9be8-a2cfe9c1436b",
   "metadata": {
    "tags": []
   },
   "outputs": [
    {
     "data": {
      "text/plain": [
       "['combined_loan_to_value_ratio',\n",
       " 'interest_rate',\n",
       " 'total_loan_costs',\n",
       " 'origination_charges',\n",
       " 'loan_term',\n",
       " 'property_value',\n",
       " 'total_units',\n",
       " 'debt_to_income_ratio',\n",
       " 'applicant_age',\n",
       " 'co_applicant_age']"
      ]
     },
     "execution_count": 13,
     "metadata": {},
     "output_type": "execute_result"
    }
   ],
   "source": [
    "categorical_columns = rows_without_missing_values.select_dtypes(include=['object']).columns.tolist()\n",
    "categorical_columns"
   ]
  },
  {
   "cell_type": "markdown",
   "id": "c3823822-f632-438c-8cd8-d43c1fb9028f",
   "metadata": {},
   "source": [
    "# Numerical columns"
   ]
  },
  {
   "cell_type": "code",
   "execution_count": 14,
   "id": "00dcb75c-67ba-48ab-8a54-59cec0b00763",
   "metadata": {
    "tags": []
   },
   "outputs": [
    {
     "data": {
      "text/plain": [
       "['action_taken',\n",
       " 'loan_type',\n",
       " 'lien_status',\n",
       " 'open_end_line_of_credit',\n",
       " 'loan_amount',\n",
       " 'negative_amortization',\n",
       " 'interest_only_payment',\n",
       " 'balloon_payment',\n",
       " 'other_nonamortizing_features',\n",
       " 'occupancy_type',\n",
       " 'manufactured_home_secured_property_type',\n",
       " 'manufactured_home_land_property_interest',\n",
       " 'income',\n",
       " 'applicant_credit_score_type',\n",
       " 'co_applicant_credit_score_type',\n",
       " 'applicant_ethnicity_1',\n",
       " 'co_applicant_ethnicity_1',\n",
       " 'applicant_race_1',\n",
       " 'applicant_race_2',\n",
       " 'co_applicant_race_1',\n",
       " 'co_applicant_race_2',\n",
       " 'applicant_sex',\n",
       " 'co_applicant_sex']"
      ]
     },
     "execution_count": 14,
     "metadata": {},
     "output_type": "execute_result"
    }
   ],
   "source": [
    "numerical_columns = rows_without_missing_values.select_dtypes(include=['float64', 'int64']).columns.tolist()\n",
    "numerical_columns"
   ]
  },
  {
   "cell_type": "code",
   "execution_count": 15,
   "id": "e6c4041d-43a6-4bcd-8bb8-a3f8b551f970",
   "metadata": {
    "tags": []
   },
   "outputs": [
    {
     "data": {
      "text/plain": [
       "action_taken\n",
       "1    393274\n",
       "3    109885\n",
       "6      2851\n",
       "4       423\n",
       "2       132\n",
       "5        52\n",
       "8        52\n",
       "7        23\n",
       "Name: count, dtype: int64"
      ]
     },
     "execution_count": 15,
     "metadata": {},
     "output_type": "execute_result"
    }
   ],
   "source": [
    "rows_without_missing_values['action_taken'].value_counts()"
   ]
  },
  {
   "cell_type": "markdown",
   "id": "f8c0a07a-5c4f-46bb-89ec-e9623398a7d4",
   "metadata": {},
   "source": [
    "# Filter all rows that do not have the target variable as either 1 or 3."
   ]
  },
  {
   "cell_type": "code",
   "execution_count": 16,
   "id": "1da59713-8dc8-47e1-bcf4-42864572600c",
   "metadata": {
    "tags": []
   },
   "outputs": [
    {
     "data": {
      "text/plain": [
       "action_taken\n",
       "3    109885\n",
       "1    109885\n",
       "Name: count, dtype: int64"
      ]
     },
     "execution_count": 16,
     "metadata": {},
     "output_type": "execute_result"
    }
   ],
   "source": [
    "# Filter rows to keep only categories 1 and 3\n",
    "df = rows_without_missing_values[rows_without_missing_values['action_taken'].isin([1, 3])]\n",
    "\n",
    "# Calculate the counts for each category using len\n",
    "category_1_count = len(df[df['action_taken'] == 1])\n",
    "category_3_count = len(df[df['action_taken'] == 3])\n",
    "\n",
    "# Ensure that counts are the same for categories 1 and 3\n",
    "if category_1_count != category_3_count:\n",
    "    if category_1_count > category_3_count:\n",
    "        # Randomly sample rows from category 1 to match the count of category 3\n",
    "        category_1_rows = df[df['action_taken'] == 1]\n",
    "        sampled_rows = category_1_rows.sample(n=category_3_count, random_state=1)\n",
    "        df = pd.concat([df[df['action_taken'] == 3], sampled_rows])\n",
    "    elif category_3_count > category_1_count:\n",
    "        # Randomly sample rows from category 3 to match the count of category 1\n",
    "        category_3_rows = df[df['action_taken'] == 3]\n",
    "        sampled_rows = category_3_rows.sample(n=category_1_count, random_state=1)\n",
    "        df = pd.concat([df[df['action_taken'] == 1], sampled_rows])\n",
    "# Now, df contains the same number of values in categories 1 and 3\n",
    "df['action_taken'].value_counts()\n"
   ]
  },
  {
   "cell_type": "code",
   "execution_count": 17,
   "id": "78b71e12-8ffd-4a09-82c1-464bfe57cdd1",
   "metadata": {
    "tags": []
   },
   "outputs": [
    {
     "name": "stdout",
     "output_type": "stream",
     "text": [
      "<class 'pandas.core.frame.DataFrame'>\n",
      "Index: 219770 entries, 0 to 16536\n",
      "Data columns (total 33 columns):\n",
      " #   Column                                    Non-Null Count   Dtype  \n",
      "---  ------                                    --------------   -----  \n",
      " 0   action_taken                              219770 non-null  int64  \n",
      " 1   loan_type                                 219770 non-null  int64  \n",
      " 2   lien_status                               219770 non-null  int64  \n",
      " 3   open_end_line_of_credit                   219770 non-null  int64  \n",
      " 4   loan_amount                               219770 non-null  int64  \n",
      " 5   combined_loan_to_value_ratio              213242 non-null  object \n",
      " 6   interest_rate                             110402 non-null  object \n",
      " 7   total_loan_costs                          110402 non-null  object \n",
      " 8   origination_charges                       110402 non-null  object \n",
      " 9   loan_term                                 219572 non-null  object \n",
      " 10  negative_amortization                     219770 non-null  int64  \n",
      " 11  interest_only_payment                     219770 non-null  int64  \n",
      " 12  balloon_payment                           219770 non-null  int64  \n",
      " 13  other_nonamortizing_features              219770 non-null  int64  \n",
      " 14  property_value                            215389 non-null  object \n",
      " 15  occupancy_type                            219770 non-null  int64  \n",
      " 16  manufactured_home_secured_property_type   219770 non-null  int64  \n",
      " 17  manufactured_home_land_property_interest  219770 non-null  int64  \n",
      " 18  total_units                               219770 non-null  object \n",
      " 19  income                                    211698 non-null  float64\n",
      " 20  debt_to_income_ratio                      215991 non-null  object \n",
      " 21  applicant_credit_score_type               219770 non-null  int64  \n",
      " 22  co_applicant_credit_score_type            219770 non-null  int64  \n",
      " 23  applicant_ethnicity_1                     218855 non-null  float64\n",
      " 24  co_applicant_ethnicity_1                  219459 non-null  float64\n",
      " 25  applicant_race_1                          219479 non-null  float64\n",
      " 26  applicant_race_2                          10529 non-null   float64\n",
      " 27  co_applicant_race_1                       219668 non-null  float64\n",
      " 28  co_applicant_race_2                       4671 non-null    float64\n",
      " 29  applicant_sex                             219770 non-null  int64  \n",
      " 30  co_applicant_sex                          219770 non-null  int64  \n",
      " 31  applicant_age                             219770 non-null  object \n",
      " 32  co_applicant_age                          219770 non-null  object \n",
      "dtypes: float64(7), int64(16), object(10)\n",
      "memory usage: 57.0+ MB\n"
     ]
    }
   ],
   "source": [
    "df.info()"
   ]
  },
  {
   "cell_type": "code",
   "execution_count": 18,
   "id": "1e878840-5292-46d4-a9ca-b6abb4a4d69f",
   "metadata": {
    "tags": []
   },
   "outputs": [],
   "source": [
    "df.to_csv('1_downloaded_data.csv', index=False)"
   ]
  },
  {
   "cell_type": "code",
   "execution_count": null,
   "id": "4e09195f-1a6d-4dcc-acb8-7de3107488e1",
   "metadata": {},
   "outputs": [],
   "source": []
  }
 ],
 "metadata": {
  "kernelspec": {
   "display_name": "Python 3 (ipykernel)",
   "language": "python",
   "name": "python3"
  },
  "language_info": {
   "codemirror_mode": {
    "name": "ipython",
    "version": 3
   },
   "file_extension": ".py",
   "mimetype": "text/x-python",
   "name": "python",
   "nbconvert_exporter": "python",
   "pygments_lexer": "ipython3",
   "version": "3.11.5"
  }
 },
 "nbformat": 4,
 "nbformat_minor": 5
}
