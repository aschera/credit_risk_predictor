{
 "cells": [
  {
   "cell_type": "code",
   "execution_count": 1,
   "id": "80032433-56c6-4114-9c69-f3168dc93536",
   "metadata": {},
   "outputs": [],
   "source": [
    "import warnings\n",
    "import numpy as np\n",
    "import pandas as pd\n",
    "import seaborn as sns\n",
    "import matplotlib.pyplot as plt\n",
    "import seaborn as sns\n",
    "from sklearn.preprocessing import LabelEncoder\n",
    "from itertools import product\n",
    "import matplotlib.pyplot as plt"
   ]
  },
  {
   "cell_type": "markdown",
   "id": "fc89bff1-7154-4fcf-852e-b903c10c7817",
   "metadata": {},
   "source": [
    "# load dataset 5"
   ]
  },
  {
   "cell_type": "code",
   "execution_count": 2,
   "id": "a21ac8a3-8b08-4bb0-8de7-dcd8db2ac4c3",
   "metadata": {},
   "outputs": [],
   "source": [
    "df = pd.read_csv('5_interest_rate.csv', low_memory=False)"
   ]
  },
  {
   "cell_type": "code",
   "execution_count": 3,
   "id": "cbf5d510-115f-453a-8275-e9cdfbe091de",
   "metadata": {
    "tags": []
   },
   "outputs": [
    {
     "name": "stdout",
     "output_type": "stream",
     "text": [
      "<class 'pandas.core.frame.DataFrame'>\n",
      "RangeIndex: 88058 entries, 0 to 88057\n",
      "Data columns (total 34 columns):\n",
      " #   Column                                    Non-Null Count  Dtype  \n",
      "---  ------                                    --------------  -----  \n",
      " 0   census_tract                              88024 non-null  float64\n",
      " 1   action_taken                              88058 non-null  int64  \n",
      " 2   loan_type                                 88058 non-null  int64  \n",
      " 3   lien_status                               88058 non-null  int64  \n",
      " 4   reverse_mortgage                          88058 non-null  int64  \n",
      " 5   open_end_line_of_credit                   88058 non-null  int64  \n",
      " 6   loan_amount                               88058 non-null  int64  \n",
      " 7   combined_loan_to_value_ratio              67034 non-null  object \n",
      " 8   interest_rate                             88058 non-null  object \n",
      " 9   total_loan_costs                          56823 non-null  object \n",
      " 10  origination_charges                       57680 non-null  object \n",
      " 11  loan_term                                 88002 non-null  object \n",
      " 12  negative_amortization                     88058 non-null  int64  \n",
      " 13  interest_only_payment                     88058 non-null  int64  \n",
      " 14  balloon_payment                           88058 non-null  int64  \n",
      " 15  other_nonamortizing_features              88058 non-null  int64  \n",
      " 16  property_value                            69202 non-null  object \n",
      " 17  occupancy_type                            88058 non-null  int64  \n",
      " 18  manufactured_home_secured_property_type   88058 non-null  int64  \n",
      " 19  manufactured_home_land_property_interest  88058 non-null  int64  \n",
      " 20  total_units                               88058 non-null  int64  \n",
      " 21  income                                    84119 non-null  float64\n",
      " 22  debt_to_income_ratio                      67186 non-null  object \n",
      " 23  applicant_credit_score_type               88058 non-null  int64  \n",
      " 24  co_applicant_credit_score_type            88058 non-null  int64  \n",
      " 25  applicant_sex                             88058 non-null  int64  \n",
      " 26  co_applicant_sex                          88058 non-null  int64  \n",
      " 27  applicant_age                             88058 non-null  int64  \n",
      " 28  co_applicant_age                          88058 non-null  int64  \n",
      " 29  aus_1                                     88058 non-null  int64  \n",
      " 30  applicant_race_1                          70674 non-null  float64\n",
      " 31  co_applicant_race_1                       69803 non-null  float64\n",
      " 32  applicant_ethnicity_1                     80997 non-null  float64\n",
      " 33  co_applicant_ethnicity_1                  80690 non-null  float64\n",
      "dtypes: float64(6), int64(21), object(7)\n",
      "memory usage: 22.8+ MB\n"
     ]
    }
   ],
   "source": [
    "df.info()"
   ]
  },
  {
   "cell_type": "code",
   "execution_count": 4,
   "id": "c85c678d-f90e-4b69-9821-75f1295ab926",
   "metadata": {
    "tags": []
   },
   "outputs": [
    {
     "data": {
      "text/html": [
       "<div>\n",
       "<style scoped>\n",
       "    .dataframe tbody tr th:only-of-type {\n",
       "        vertical-align: middle;\n",
       "    }\n",
       "\n",
       "    .dataframe tbody tr th {\n",
       "        vertical-align: top;\n",
       "    }\n",
       "\n",
       "    .dataframe thead th {\n",
       "        text-align: right;\n",
       "    }\n",
       "</style>\n",
       "<table border=\"1\" class=\"dataframe\">\n",
       "  <thead>\n",
       "    <tr style=\"text-align: right;\">\n",
       "      <th></th>\n",
       "      <th>census_tract</th>\n",
       "      <th>action_taken</th>\n",
       "      <th>loan_type</th>\n",
       "      <th>lien_status</th>\n",
       "      <th>reverse_mortgage</th>\n",
       "      <th>open_end_line_of_credit</th>\n",
       "      <th>loan_amount</th>\n",
       "      <th>combined_loan_to_value_ratio</th>\n",
       "      <th>interest_rate</th>\n",
       "      <th>total_loan_costs</th>\n",
       "      <th>...</th>\n",
       "      <th>co_applicant_credit_score_type</th>\n",
       "      <th>applicant_sex</th>\n",
       "      <th>co_applicant_sex</th>\n",
       "      <th>applicant_age</th>\n",
       "      <th>co_applicant_age</th>\n",
       "      <th>aus_1</th>\n",
       "      <th>applicant_race_1</th>\n",
       "      <th>co_applicant_race_1</th>\n",
       "      <th>applicant_ethnicity_1</th>\n",
       "      <th>co_applicant_ethnicity_1</th>\n",
       "    </tr>\n",
       "  </thead>\n",
       "  <tbody>\n",
       "    <tr>\n",
       "      <th>0</th>\n",
       "      <td>4.201710e+10</td>\n",
       "      <td>2</td>\n",
       "      <td>1</td>\n",
       "      <td>1</td>\n",
       "      <td>2</td>\n",
       "      <td>2</td>\n",
       "      <td>345000</td>\n",
       "      <td>79.254</td>\n",
       "      <td>3.0-3.5</td>\n",
       "      <td>NaN</td>\n",
       "      <td>...</td>\n",
       "      <td>1</td>\n",
       "      <td>1</td>\n",
       "      <td>2</td>\n",
       "      <td>2</td>\n",
       "      <td>3</td>\n",
       "      <td>1</td>\n",
       "      <td>NaN</td>\n",
       "      <td>NaN</td>\n",
       "      <td>2.0</td>\n",
       "      <td>2.0</td>\n",
       "    </tr>\n",
       "    <tr>\n",
       "      <th>1</th>\n",
       "      <td>3.403903e+10</td>\n",
       "      <td>5</td>\n",
       "      <td>2</td>\n",
       "      <td>1</td>\n",
       "      <td>2</td>\n",
       "      <td>2</td>\n",
       "      <td>225000</td>\n",
       "      <td>NaN</td>\n",
       "      <td>Other</td>\n",
       "      <td>NaN</td>\n",
       "      <td>...</td>\n",
       "      <td>9</td>\n",
       "      <td>1</td>\n",
       "      <td>2</td>\n",
       "      <td>2</td>\n",
       "      <td>2</td>\n",
       "      <td>1</td>\n",
       "      <td>5.0</td>\n",
       "      <td>5.0</td>\n",
       "      <td>1.0</td>\n",
       "      <td>1.0</td>\n",
       "    </tr>\n",
       "    <tr>\n",
       "      <th>2</th>\n",
       "      <td>4.209120e+10</td>\n",
       "      <td>1</td>\n",
       "      <td>1</td>\n",
       "      <td>1</td>\n",
       "      <td>2</td>\n",
       "      <td>2</td>\n",
       "      <td>355000</td>\n",
       "      <td>75.822</td>\n",
       "      <td>4.0-4.5</td>\n",
       "      <td>8352.71</td>\n",
       "      <td>...</td>\n",
       "      <td>3</td>\n",
       "      <td>1</td>\n",
       "      <td>2</td>\n",
       "      <td>1</td>\n",
       "      <td>7</td>\n",
       "      <td>1</td>\n",
       "      <td>5.0</td>\n",
       "      <td>5.0</td>\n",
       "      <td>2.0</td>\n",
       "      <td>2.0</td>\n",
       "    </tr>\n",
       "    <tr>\n",
       "      <th>3</th>\n",
       "      <td>3.200300e+10</td>\n",
       "      <td>5</td>\n",
       "      <td>1</td>\n",
       "      <td>1</td>\n",
       "      <td>2</td>\n",
       "      <td>2</td>\n",
       "      <td>85000</td>\n",
       "      <td>NaN</td>\n",
       "      <td>Other</td>\n",
       "      <td>NaN</td>\n",
       "      <td>...</td>\n",
       "      <td>9</td>\n",
       "      <td>1</td>\n",
       "      <td>2</td>\n",
       "      <td>7</td>\n",
       "      <td>7</td>\n",
       "      <td>1</td>\n",
       "      <td>5.0</td>\n",
       "      <td>5.0</td>\n",
       "      <td>2.0</td>\n",
       "      <td>2.0</td>\n",
       "    </tr>\n",
       "    <tr>\n",
       "      <th>4</th>\n",
       "      <td>5.513320e+10</td>\n",
       "      <td>1</td>\n",
       "      <td>2</td>\n",
       "      <td>1</td>\n",
       "      <td>2</td>\n",
       "      <td>2</td>\n",
       "      <td>285000</td>\n",
       "      <td>84.777</td>\n",
       "      <td>4.0-4.5</td>\n",
       "      <td>6854.68</td>\n",
       "      <td>...</td>\n",
       "      <td>9</td>\n",
       "      <td>1</td>\n",
       "      <td>2</td>\n",
       "      <td>1</td>\n",
       "      <td>1</td>\n",
       "      <td>6</td>\n",
       "      <td>5.0</td>\n",
       "      <td>5.0</td>\n",
       "      <td>2.0</td>\n",
       "      <td>2.0</td>\n",
       "    </tr>\n",
       "  </tbody>\n",
       "</table>\n",
       "<p>5 rows × 34 columns</p>\n",
       "</div>"
      ],
      "text/plain": [
       "   census_tract  action_taken  loan_type  lien_status  reverse_mortgage  \\\n",
       "0  4.201710e+10             2          1            1                 2   \n",
       "1  3.403903e+10             5          2            1                 2   \n",
       "2  4.209120e+10             1          1            1                 2   \n",
       "3  3.200300e+10             5          1            1                 2   \n",
       "4  5.513320e+10             1          2            1                 2   \n",
       "\n",
       "   open_end_line_of_credit  loan_amount combined_loan_to_value_ratio  \\\n",
       "0                        2       345000                       79.254   \n",
       "1                        2       225000                          NaN   \n",
       "2                        2       355000                       75.822   \n",
       "3                        2        85000                          NaN   \n",
       "4                        2       285000                       84.777   \n",
       "\n",
       "  interest_rate total_loan_costs  ... co_applicant_credit_score_type  \\\n",
       "0       3.0-3.5              NaN  ...                              1   \n",
       "1         Other              NaN  ...                              9   \n",
       "2       4.0-4.5          8352.71  ...                              3   \n",
       "3         Other              NaN  ...                              9   \n",
       "4       4.0-4.5          6854.68  ...                              9   \n",
       "\n",
       "  applicant_sex  co_applicant_sex  applicant_age  co_applicant_age  aus_1  \\\n",
       "0             1                 2              2                 3      1   \n",
       "1             1                 2              2                 2      1   \n",
       "2             1                 2              1                 7      1   \n",
       "3             1                 2              7                 7      1   \n",
       "4             1                 2              1                 1      6   \n",
       "\n",
       "  applicant_race_1  co_applicant_race_1  applicant_ethnicity_1  \\\n",
       "0              NaN                  NaN                    2.0   \n",
       "1              5.0                  5.0                    1.0   \n",
       "2              5.0                  5.0                    2.0   \n",
       "3              5.0                  5.0                    2.0   \n",
       "4              5.0                  5.0                    2.0   \n",
       "\n",
       "   co_applicant_ethnicity_1  \n",
       "0                       2.0  \n",
       "1                       1.0  \n",
       "2                       2.0  \n",
       "3                       2.0  \n",
       "4                       2.0  \n",
       "\n",
       "[5 rows x 34 columns]"
      ]
     },
     "execution_count": 4,
     "metadata": {},
     "output_type": "execute_result"
    }
   ],
   "source": [
    "df.head()"
   ]
  },
  {
   "cell_type": "code",
   "execution_count": 5,
   "id": "342bde9c-ce37-4286-86dd-0c1cdfb04ed6",
   "metadata": {
    "tags": []
   },
   "outputs": [
    {
     "name": "stdout",
     "output_type": "stream",
     "text": [
      "combined_loan_to_value_ratio\n",
      "80.0      12563\n",
      "97.0       3375\n",
      "95.0       2672\n",
      "75.0       2671\n",
      "90.0       1996\n",
      "          ...  \n",
      "49.242        1\n",
      "196.0         1\n",
      "92.333        1\n",
      "60.392        1\n",
      "55.707        1\n",
      "Name: count, Length: 20739, dtype: int64\n"
     ]
    }
   ],
   "source": [
    "print(df['combined_loan_to_value_ratio'].value_counts())"
   ]
  },
  {
   "cell_type": "code",
   "execution_count": 6,
   "id": "00e33e39-ac39-4e7d-9f09-31f619d2d907",
   "metadata": {
    "tags": []
   },
   "outputs": [
    {
     "name": "stdout",
     "output_type": "stream",
     "text": [
      "Number of Unique Categories: 20739\n"
     ]
    }
   ],
   "source": [
    "unique_categories = df['combined_loan_to_value_ratio'].nunique()\n",
    "print(\"Number of Unique Categories:\", unique_categories)"
   ]
  },
  {
   "cell_type": "code",
   "execution_count": 7,
   "id": "5e96361b-586a-4a47-a184-3e234e75984c",
   "metadata": {
    "tags": []
   },
   "outputs": [
    {
     "name": "stdout",
     "output_type": "stream",
     "text": [
      "Minimum Interest Rate: 0.661\n",
      "Maximum Interest Rate: 29742.857\n",
      "Median Interest Rate: 78.8\n"
     ]
    }
   ],
   "source": [
    "# First, convert the 'combined_loan_to_value_ratio' column to numeric (float)\n",
    "df['combined_loan_to_value_ratio'] = pd.to_numeric(df['combined_loan_to_value_ratio'], errors='coerce')\n",
    "\n",
    "# Now, calculate the minimum, maximum, and median\n",
    "minimum_interest_rate = df['combined_loan_to_value_ratio'].min()\n",
    "maximum_interest_rate = df['combined_loan_to_value_ratio'].max()\n",
    "median_interest_rate = df['combined_loan_to_value_ratio'].median()\n",
    "\n",
    "print(\"Minimum combined_loan_to_value_ratio:\", minimum_interest_rate)\n",
    "print(\"Maximum combined_loan_to_value_ratio:\", maximum_interest_rate)\n",
    "print(\"Median combined_loan_to_value_ratio:\", median_interest_rate)"
   ]
  },
  {
   "cell_type": "code",
   "execution_count": 8,
   "id": "0100b66c-ead4-4dc8-8fb0-3541e0816e69",
   "metadata": {},
   "outputs": [],
   "source": [
    "# Convert the 'combined_loan_to_value_ratio' column to numeric (float)\n",
    "df['combined_loan_to_value_ratio'] = pd.to_numeric(df['combined_loan_to_value_ratio'], errors='coerce')  # 'coerce' handles non-numeric values by converting them to NaN\n",
    "\n",
    "# Calculate the quantiles\n",
    "Q1 = df['combined_loan_to_value_ratio'].quantile(0.25)\n",
    "Q3 = df['combined_loan_to_value_ratio'].quantile(0.75)\n",
    "IQR = Q3 - Q1\n",
    "\n",
    "lower_bound = Q1 - 1.5 * IQR\n",
    "upper_bound = Q3 + 1.5 * IQR\n",
    "\n",
    "outliers = df[(df['combined_loan_to_value_ratio'] < lower_bound) | (df['combined_loan_to_value_ratio'] > upper_bound)]"
   ]
  },
  {
   "cell_type": "code",
   "execution_count": 9,
   "id": "c3327fc6-4f55-47e5-ab5b-2bcb69787e9b",
   "metadata": {},
   "outputs": [
    {
     "data": {
      "image/png": "[encoded data removed]",
      "text/plain": [
       "<Figure size 640x480 with 1 Axes>"
      ]
     },
     "metadata": {},
     "output_type": "display_data"
    }
   ],
   "source": [
    "plt.hist(df['combined_loan_to_value_ratio'], bins=50)  # Adjust the number of bins as needed\n",
    "plt.title('Histogram of combined_loan_to_value_ratio')\n",
    "plt.show()"
   ]
  },
  {
   "cell_type": "code",
   "execution_count": 10,
   "id": "b6e2e4a8-d0a5-462a-9991-baab12c16ee7",
   "metadata": {
    "tags": []
   },
   "outputs": [
    {
     "name": "stdout",
     "output_type": "stream",
     "text": [
      "[79.254    nan 75.822 ... 44.163 85.901 55.707]\n",
      "21133\n"
     ]
    },
    {
     "data": {
      "image/png": "[encoded data removed]",
      "text/plain": [
       "<Figure size 640x480 with 1 Axes>"
      ]
     },
     "metadata": {},
     "output_type": "display_data"
    }
   ],
   "source": [
    "df1 = df.copy()\n",
    "df1['combined_loan_to_value_ratio'] = pd.to_numeric(df['combined_loan_to_value_ratio'], errors='coerce')\n",
    "df1 = df1.dropna(subset=['combined_loan_to_value_ratio'])\n",
    "\n",
    "print(df['combined_loan_to_value_ratio'].unique())\n",
    "print(df['combined_loan_to_value_ratio'].isna().sum())\n",
    "\n",
    "# Create a box plot of the 'combined_loan_to_value_ratio' column\n",
    "plt.boxplot(df1['combined_loan_to_value_ratio'])\n",
    "plt.title('Box Plot of combined_loan_to_value_ratio')\n",
    "plt.show()"
   ]
  },
  {
   "cell_type": "markdown",
   "id": "36182abe-a8fa-43a4-b6d7-76e97a4c7ec3",
   "metadata": {},
   "source": [
    "## The outlier squashes the data.\n",
    "We can draw a boxplot without the outlier."
   ]
  },
  {
   "cell_type": "code",
   "execution_count": 11,
   "id": "ddd46b61-36bf-411b-bb34-5daaa9cb4fd0",
   "metadata": {
    "tags": []
   },
   "outputs": [
    {
     "data": {
      "image/png": "[encoded data removed]",
      "text/plain": [
       "<Figure size 640x480 with 1 Axes>"
      ]
     },
     "metadata": {},
     "output_type": "display_data"
    }
   ],
   "source": [
    "# Create a box plot of the 'combined_loan_to_value_ratio' column\n",
    "plt.boxplot(df1['combined_loan_to_value_ratio'], showfliers=False)  # Exclude outliers\n",
    "plt.title('Box Plot of combined_loan_to_value_ratio (Values below 100)')\n",
    "\n",
    "# Calculate the median value\n",
    "median_value = df1['combined_loan_to_value_ratio'].median()\n",
    "\n",
    "# Add a median line\n",
    "plt.axhline(median_value, color='r', linestyle='dashed', linewidth=2)\n",
    "\n",
    "# Add text with the median value 5 pixels above the line\n",
    "plt.text(1.1, median_value + 5, f'Median: {median_value}', va='center')\n",
    "\n",
    "plt.show()"
   ]
  },
  {
   "cell_type": "markdown",
   "id": "ba453651-bf5c-4e17-803a-536a62335432",
   "metadata": {},
   "source": [
    "# Conclusion"
   ]
  },
  {
   "cell_type": "markdown",
   "id": "8b7acd38-70a0-4b8c-a85b-6cdbb73c8fcb",
   "metadata": {},
   "source": [
    "A median combined loan-to-value (CLTV) ratio of 78.8 suggests that, in the dataset, the typical loan is issued with the borrower having equity in the property of approximately 78.8%. \n",
    "In the context of mortgages and lending, a CLTV ratio below 100% indicates that the borrower has some level of equity in the property.\n",
    "\n",
    "In general, a lower CLTV ratio is often seen as less risky for lenders because it means the borrower has a larger stake in the property. \n",
    "A higher CLTV ratio, on the other hand, may indicate higher risk for the lender."
   ]
  },
  {
   "cell_type": "markdown",
   "id": "6328a6e2-2c1e-4a35-af38-d529c5bc8309",
   "metadata": {},
   "source": [
    "# Remove outliers"
   ]
  },
  {
   "cell_type": "code",
   "execution_count": 12,
   "id": "a29ec1a9-3efb-4dec-aaf2-02b808715cb6",
   "metadata": {
    "tags": []
   },
   "outputs": [
    {
     "name": "stdout",
     "output_type": "stream",
     "text": [
      "Number of removed outliers: 1995\n"
     ]
    }
   ],
   "source": [
    "# Calculate the IQR for combined_loan_to_value_ratio\n",
    "Q1 = df1['combined_loan_to_value_ratio'].quantile(0.25)\n",
    "Q3 = df1['combined_loan_to_value_ratio'].quantile(0.75)\n",
    "IQR = Q3 - Q1\n",
    "\n",
    "# Define lower and upper bounds for outliers\n",
    "lower_bound = Q1 - 1.5 * IQR\n",
    "upper_bound = Q3 + 1.5 * IQR\n",
    "\n",
    "# Create a boolean mask for outliers\n",
    "outliers_mask = (df1['combined_loan_to_value_ratio'] < lower_bound) | (df1['combined_loan_to_value_ratio'] > upper_bound)\n",
    "\n",
    "# Create a new DataFrame without outliers\n",
    "df_no_outliers = df1[~outliers_mask]\n",
    "\n",
    "# Display the number of removed outliers\n",
    "print(f'Number of removed outliers: {outliers_mask.sum()}')"
   ]
  },
  {
   "cell_type": "code",
   "execution_count": 13,
   "id": "66b3cc46-4eb0-42a5-a262-64f9c5fb9a02",
   "metadata": {
    "tags": []
   },
   "outputs": [
    {
     "name": "stdout",
     "output_type": "stream",
     "text": [
      "40        17.102\n",
      "433       20.896\n",
      "473       26.190\n",
      "608       25.333\n",
      "648      293.545\n",
      "          ...   \n",
      "87914     27.350\n",
      "88012     17.338\n",
      "88024     11.538\n",
      "88046     25.000\n",
      "88056     25.000\n",
      "Name: combined_loan_to_value_ratio, Length: 1995, dtype: float64\n"
     ]
    }
   ],
   "source": [
    "# Create a DataFrame of removed outliers\n",
    "outliers_df = df1[outliers_mask]\n",
    "\n",
    "# Display the values of the removed outliers\n",
    "print(outliers_df['combined_loan_to_value_ratio'])"
   ]
  },
  {
   "cell_type": "code",
   "execution_count": 14,
   "id": "963bbb8a-ae6f-4b97-bc47-d2373cbd6a9e",
   "metadata": {
    "tags": []
   },
   "outputs": [
    {
     "name": "stdout",
     "output_type": "stream",
     "text": [
      "combined_loan_to_value_ratio\n",
      "80.000    12563\n",
      "97.000     3375\n",
      "95.000     2672\n",
      "75.000     2671\n",
      "90.000     1996\n",
      "          ...  \n",
      "68.113        1\n",
      "71.311        1\n",
      "56.301        1\n",
      "75.694        1\n",
      "55.707        1\n",
      "Name: count, Length: 19239, dtype: int64\n"
     ]
    }
   ],
   "source": [
    "print(df_no_outliers['combined_loan_to_value_ratio'].value_counts())"
   ]
  },
  {
   "cell_type": "code",
   "execution_count": 15,
   "id": "bb63ebb3-1063-4088-85f6-44aa3faf3375",
   "metadata": {
    "tags": []
   },
   "outputs": [
    {
     "data": {
      "image/png": "[encoded data removed]",
      "text/plain": [
       "<Figure size 1000x600 with 1 Axes>"
      ]
     },
     "metadata": {},
     "output_type": "display_data"
    }
   ],
   "source": [
    "import matplotlib.pyplot as plt\n",
    "\n",
    "# Assuming df1 is your DataFrame\n",
    "plt.figure(figsize=(10, 6))\n",
    "plt.boxplot(df_no_outliers['combined_loan_to_value_ratio'])\n",
    "plt.title('Boxplot of Combined Loan to Value Ratio')\n",
    "plt.xlabel('Combined Loan to Value Ratio')\n",
    "plt.show()"
   ]
  },
  {
   "cell_type": "code",
   "execution_count": 16,
   "id": "82cd6ec1-8bb1-4b02-a8cb-69f07a27b6f6",
   "metadata": {
    "tags": []
   },
   "outputs": [
    {
     "name": "stdout",
     "output_type": "stream",
     "text": [
      "combined_loan_to_value_ratio\n",
      "80.000    12563\n",
      "97.000     3375\n",
      "95.000     2672\n",
      "75.000     2671\n",
      "90.000     1996\n",
      "          ...  \n",
      "68.113        1\n",
      "71.311        1\n",
      "56.301        1\n",
      "75.694        1\n",
      "55.707        1\n",
      "Name: count, Length: 19239, dtype: int64\n"
     ]
    }
   ],
   "source": [
    "print(df_no_outliers['combined_loan_to_value_ratio'].value_counts())"
   ]
  },
  {
   "cell_type": "code",
   "execution_count": 17,
   "id": "bdf899a3-4f2a-43ec-9f84-b43cc95a56d2",
   "metadata": {
    "tags": []
   },
   "outputs": [
    {
     "name": "stdout",
     "output_type": "stream",
     "text": [
      "Minimum Interest Rate: 29.764\n",
      "Maximum Interest Rate: 118.026\n",
      "Median Interest Rate: 79.461\n"
     ]
    }
   ],
   "source": [
    "# First, convert the 'combined_loan_to_value_ratio' column to numeric (float)\n",
    "df_no_outliers.loc[:, 'combined_loan_to_value_ratio'] = pd.to_numeric(df_no_outliers['combined_loan_to_value_ratio'], errors='coerce')\n",
    "\n",
    "# Now, calculate the minimum, maximum, and median\n",
    "minimum_interest_rate = df_no_outliers['combined_loan_to_value_ratio'].min()\n",
    "maximum_interest_rate = df_no_outliers['combined_loan_to_value_ratio'].max()\n",
    "median_interest_rate = df_no_outliers['combined_loan_to_value_ratio'].median()\n",
    "\n",
    "print(\"Minimum Interest Rate:\", minimum_interest_rate)\n",
    "print(\"Maximum Interest Rate:\", maximum_interest_rate)\n",
    "print(\"Median Interest Rate:\", median_interest_rate)"
   ]
  },
  {
   "cell_type": "markdown",
   "id": "bd3693a3-bd0d-411a-b38d-6fa9dbc1a7d5",
   "metadata": {},
   "source": [
    "# Make range categories"
   ]
  },
  {
   "cell_type": "code",
   "execution_count": 18,
   "id": "ab918dca-7da4-4443-b7c4-795a19f83471",
   "metadata": {
    "tags": []
   },
   "outputs": [
    {
     "name": "stdout",
     "output_type": "stream",
     "text": [
      "combined_loan_to_value_ratio\n",
      "75.0-80.0      17250\n",
      "70.0-75.0       6741\n",
      "95.0-100.0      6380\n",
      "65.0-70.0       5502\n",
      "85.0-90.0       4598\n",
      "90.0-95.0       4217\n",
      "55.0-60.0       3956\n",
      "60.0-65.0       3309\n",
      "50.0-55.0       2664\n",
      "80.0-85.0       2568\n",
      "45.0-50.0       2432\n",
      "40.0-45.0       1769\n",
      "35.0-40.0       1371\n",
      "100.0-120.0     1107\n",
      "30.0-35.0       1006\n",
      "25.0-30.0         60\n",
      "Name: count, dtype: int64\n"
     ]
    }
   ],
   "source": [
    "# Convert the 'combined_loan_to_value_ratio' column to numeric\n",
    "new_df = df_no_outliers.copy()\n",
    "\n",
    "# Define a function to categorize combined_loan_to_value_ratio into the desired ranges\n",
    "def categorize_combined_loan_to_value_ratio(ratio):\n",
    "    if ratio >= 25.0 and ratio <= 30.0:\n",
    "        return '25.0-30.0'\n",
    "    elif ratio > 30.0 and ratio <= 35.0:\n",
    "        return '30.0-35.0'\n",
    "    elif ratio > 35.0 and ratio <= 40.0:\n",
    "        return '35.0-40.0'\n",
    "    elif ratio > 40.0 and ratio <= 45.0:\n",
    "        return '40.0-45.0'\n",
    "    elif ratio > 45.0 and ratio <= 50.0:\n",
    "        return '45.0-50.0'\n",
    "    elif ratio > 50.0 and ratio <= 55.0:\n",
    "        return '50.0-55.0'\n",
    "    elif ratio > 55.0 and ratio <= 60.0:\n",
    "        return '55.0-60.0'\n",
    "    elif ratio > 60.0 and ratio <= 65.0:\n",
    "        return '60.0-65.0'\n",
    "    elif ratio > 65.0 and ratio <= 70.0:\n",
    "        return '65.0-70.0'\n",
    "    elif ratio > 70.0 and ratio <= 75.0:\n",
    "        return '70.0-75.0'\n",
    "    elif ratio > 75.0 and ratio <= 80.0:\n",
    "        return '75.0-80.0'\n",
    "    elif ratio > 80.0 and ratio <= 85.0:\n",
    "        return '80.0-85.0'\n",
    "    elif ratio > 85.0 and ratio <= 90.0:\n",
    "        return '85.0-90.0'\n",
    "    elif ratio > 90.0 and ratio <= 95.0:\n",
    "        return '90.0-95.0'\n",
    "    elif ratio > 95.0 and ratio <= 100.0:\n",
    "        return '95.0-100.0'\n",
    "    elif ratio > 100.0 and ratio <= 120.0:\n",
    "        return '100.0-120.0'\n",
    "    else:\n",
    "        return 'Other'\n",
    "\n",
    "# Apply the categorization function to 'combined_loan_to_value_ratio' column\n",
    "new_df['combined_loan_to_value_ratio'] = new_df['combined_loan_to_value_ratio'].apply(categorize_combined_loan_to_value_ratio)\n",
    "\n",
    "# Print the result\n",
    "print(new_df['combined_loan_to_value_ratio'].value_counts())"
   ]
  },
  {
   "cell_type": "code",
   "execution_count": 19,
   "id": "e0ab9d30-e539-4f18-8cc8-059d95679521",
   "metadata": {
    "tags": []
   },
   "outputs": [
    {
     "data": {
      "image/png": "[encoded data removed]",
      "text/plain": [
       "<Figure size 1000x600 with 1 Axes>"
      ]
     },
     "metadata": {},
     "output_type": "display_data"
    }
   ],
   "source": [
    "# Filter the DataFrame to exclude the 'Other' category\n",
    "filtered_df = new_df[new_df['combined_loan_to_value_ratio'] != 'Other']\n",
    "\n",
    "# Get the value counts for the filtered DataFrame\n",
    "value_counts = filtered_df['combined_loan_to_value_ratio'].value_counts()\n",
    "\n",
    "# Plot the bar chart\n",
    "plt.figure(figsize=(10, 6))\n",
    "plt.bar(value_counts.index, value_counts.values, color='skyblue')\n",
    "plt.xlabel('Interest Rate Category')\n",
    "plt.ylabel('Count')\n",
    "plt.title('Distribution of Interest Rate Categories (Excluding \"Other\")')\n",
    "plt.xticks(rotation=45, ha='right')  # Rotate x-axis labels for readability\n",
    "\n",
    "# Display the counts on top of the bars\n",
    "for i, count in enumerate(value_counts.values):\n",
    "    plt.text(i, count, str(count), ha='center', va='bottom')\n",
    "\n",
    "plt.tight_layout()\n",
    "plt.show()"
   ]
  },
  {
   "cell_type": "code",
   "execution_count": 21,
   "id": "6620c397-36a9-4db7-8b21-d53da87bb06c",
   "metadata": {},
   "outputs": [],
   "source": [
    "df.to_csv('6_combined_loan_to_value_ratio.csv', index=False)"
   ]
  }
 ],
 "metadata": {
  "kernelspec": {
   "display_name": "Python 3 (ipykernel)",
   "language": "python",
   "name": "python3"
  },
  "language_info": {
   "codemirror_mode": {
    "name": "ipython",
    "version": 3
   },
   "file_extension": ".py",
   "mimetype": "text/x-python",
   "name": "python",
   "nbconvert_exporter": "python",
   "pygments_lexer": "ipython3",
   "version": "3.9.18"
  }
 },
 "nbformat": 4,
 "nbformat_minor": 5
}
