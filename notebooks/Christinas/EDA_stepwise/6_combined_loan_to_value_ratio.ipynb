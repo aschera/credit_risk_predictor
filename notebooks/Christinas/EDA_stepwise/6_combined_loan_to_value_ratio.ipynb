{
 "cells": [
  {
   "cell_type": "markdown",
   "id": "393c4b64-9402-45b3-9b31-ef344cf3bdcd",
   "metadata": {},
   "source": [
    "# Imports"
   ]
  },
  {
   "cell_type": "code",
   "execution_count": 1,
   "id": "80032433-56c6-4114-9c69-f3168dc93536",
   "metadata": {},
   "outputs": [],
   "source": [
    "import warnings\n",
    "import numpy as np\n",
    "import pandas as pd\n",
    "import seaborn as sns\n",
    "import matplotlib.pyplot as plt\n",
    "from sklearn.preprocessing import LabelEncoder\n",
    "from itertools import product"
   ]
  },
  {
   "cell_type": "markdown",
   "id": "fc89bff1-7154-4fcf-852e-b903c10c7817",
   "metadata": {},
   "source": [
    "# load dataset 5"
   ]
  },
  {
   "cell_type": "code",
   "execution_count": 2,
   "id": "a21ac8a3-8b08-4bb0-8de7-dcd8db2ac4c3",
   "metadata": {},
   "outputs": [],
   "source": [
    "df = pd.read_csv('5_interest_rate.csv', low_memory=False)"
   ]
  },
  {
   "cell_type": "code",
   "execution_count": 3,
   "id": "eaa26416-5747-4bc7-b428-330e10e294ca",
   "metadata": {},
   "outputs": [
    {
     "name": "stdout",
     "output_type": "stream",
     "text": [
      "Value counts for applicant_race_1 after filtering:\n",
      "applicant_race_1\n",
      "5.0    59522\n",
      "3.0     3410\n",
      "Name: count, dtype: int64\n",
      "co_applicant_race_1\n",
      "5.0    59503\n",
      "3.0     3429\n",
      "Name: count, dtype: int64\n",
      "Value counts for applicant_ethnicity_1 after filtering:\n",
      "applicant_ethnicity_1\n",
      "2.0    56532\n",
      "1.0     6400\n",
      "Name: count, dtype: int64\n",
      "co_applicant_ethnicity_1\n",
      "2.0    56346\n",
      "1.0     6586\n",
      "Name: count, dtype: int64\n"
     ]
    }
   ],
   "source": [
    "# Print the value counts for the filtered DataFrame\n",
    "print(\"Value counts for applicant_race_1 after filtering:\")\n",
    "print(df['applicant_race_1'].value_counts())\n",
    "print(df['co_applicant_race_1'].value_counts())\n",
    "\n",
    "print(\"Value counts for applicant_ethnicity_1 after filtering:\")\n",
    "print(df['applicant_ethnicity_1'].value_counts())\n",
    "print(df['co_applicant_ethnicity_1'].value_counts())"
   ]
  },
  {
   "cell_type": "code",
   "execution_count": 4,
   "id": "3ba532a0-c221-45e5-a6e9-2a24a4e7dbd6",
   "metadata": {
    "tags": []
   },
   "outputs": [
    {
     "name": "stdout",
     "output_type": "stream",
     "text": [
      "interest_rate\n",
      "3.5-4.0     40625\n",
      "4.0-4.5      8243\n",
      "3.0-3.5      7101\n",
      "4.5-5.0      3380\n",
      "2.0-3.0      1872\n",
      "5.0-6.0      1488\n",
      "6.0-7.0       184\n",
      "7.0-8.0        15\n",
      "8.0-9.0        13\n",
      "9.9-15.0        5\n",
      "0.0-1.0         3\n",
      "1.0-2.0         3\n",
      "Name: count, dtype: int64\n"
     ]
    }
   ],
   "source": [
    "print(df['interest_rate'].value_counts())"
   ]
  },
  {
   "cell_type": "code",
   "execution_count": 5,
   "id": "cbf5d510-115f-453a-8275-e9cdfbe091de",
   "metadata": {
    "tags": []
   },
   "outputs": [
    {
     "name": "stdout",
     "output_type": "stream",
     "text": [
      "<class 'pandas.core.frame.DataFrame'>\n",
      "RangeIndex: 62932 entries, 0 to 62931\n",
      "Data columns (total 33 columns):\n",
      " #   Column                                    Non-Null Count  Dtype  \n",
      "---  ------                                    --------------  -----  \n",
      " 0   action_taken                              62932 non-null  int64  \n",
      " 1   loan_type                                 62932 non-null  int64  \n",
      " 2   lien_status                               62932 non-null  int64  \n",
      " 3   open_end_line_of_credit                   62932 non-null  int64  \n",
      " 4   loan_amount                               62932 non-null  int64  \n",
      " 5   combined_loan_to_value_ratio              61760 non-null  object \n",
      " 6   interest_rate                             62932 non-null  object \n",
      " 7   total_loan_costs                          36829 non-null  object \n",
      " 8   origination_charges                       36829 non-null  object \n",
      " 9   loan_term                                 62884 non-null  object \n",
      " 10  negative_amortization                     62932 non-null  int64  \n",
      " 11  interest_only_payment                     62932 non-null  int64  \n",
      " 12  balloon_payment                           62932 non-null  int64  \n",
      " 13  other_nonamortizing_features              62932 non-null  int64  \n",
      " 14  property_value                            62090 non-null  object \n",
      " 15  occupancy_type                            62932 non-null  int64  \n",
      " 16  manufactured_home_secured_property_type   62932 non-null  int64  \n",
      " 17  manufactured_home_land_property_interest  62932 non-null  int64  \n",
      " 18  total_units                               62932 non-null  object \n",
      " 19  income                                    60831 non-null  float64\n",
      " 20  debt_to_income_ratio                      62257 non-null  object \n",
      " 21  applicant_credit_score_type               62932 non-null  int64  \n",
      " 22  co_applicant_credit_score_type            62932 non-null  int64  \n",
      " 23  applicant_ethnicity_1                     62932 non-null  float64\n",
      " 24  co_applicant_ethnicity_1                  62932 non-null  float64\n",
      " 25  applicant_race_1                          62932 non-null  float64\n",
      " 26  applicant_race_2                          228 non-null    float64\n",
      " 27  co_applicant_race_1                       62932 non-null  float64\n",
      " 28  co_applicant_race_2                       236 non-null    float64\n",
      " 29  applicant_sex                             62932 non-null  int64  \n",
      " 30  co_applicant_sex                          62932 non-null  int64  \n",
      " 31  applicant_age                             62932 non-null  int64  \n",
      " 32  co_applicant_age                          62932 non-null  int64  \n",
      "dtypes: float64(7), int64(18), object(8)\n",
      "memory usage: 15.8+ MB\n"
     ]
    }
   ],
   "source": [
    "df.info()"
   ]
  },
  {
   "cell_type": "code",
   "execution_count": 6,
   "id": "c85c678d-f90e-4b69-9821-75f1295ab926",
   "metadata": {
    "tags": []
   },
   "outputs": [
    {
     "data": {
      "text/html": [
       "<div>\n",
       "<style scoped>\n",
       "    .dataframe tbody tr th:only-of-type {\n",
       "        vertical-align: middle;\n",
       "    }\n",
       "\n",
       "    .dataframe tbody tr th {\n",
       "        vertical-align: top;\n",
       "    }\n",
       "\n",
       "    .dataframe thead th {\n",
       "        text-align: right;\n",
       "    }\n",
       "</style>\n",
       "<table border=\"1\" class=\"dataframe\">\n",
       "  <thead>\n",
       "    <tr style=\"text-align: right;\">\n",
       "      <th></th>\n",
       "      <th>action_taken</th>\n",
       "      <th>loan_type</th>\n",
       "      <th>lien_status</th>\n",
       "      <th>open_end_line_of_credit</th>\n",
       "      <th>loan_amount</th>\n",
       "      <th>combined_loan_to_value_ratio</th>\n",
       "      <th>interest_rate</th>\n",
       "      <th>total_loan_costs</th>\n",
       "      <th>origination_charges</th>\n",
       "      <th>loan_term</th>\n",
       "      <th>...</th>\n",
       "      <th>applicant_ethnicity_1</th>\n",
       "      <th>co_applicant_ethnicity_1</th>\n",
       "      <th>applicant_race_1</th>\n",
       "      <th>applicant_race_2</th>\n",
       "      <th>co_applicant_race_1</th>\n",
       "      <th>co_applicant_race_2</th>\n",
       "      <th>applicant_sex</th>\n",
       "      <th>co_applicant_sex</th>\n",
       "      <th>applicant_age</th>\n",
       "      <th>co_applicant_age</th>\n",
       "    </tr>\n",
       "  </thead>\n",
       "  <tbody>\n",
       "    <tr>\n",
       "      <th>0</th>\n",
       "      <td>3</td>\n",
       "      <td>3</td>\n",
       "      <td>1</td>\n",
       "      <td>2</td>\n",
       "      <td>205000</td>\n",
       "      <td>110.256</td>\n",
       "      <td>3.5-4.0</td>\n",
       "      <td>NaN</td>\n",
       "      <td>NaN</td>\n",
       "      <td>360</td>\n",
       "      <td>...</td>\n",
       "      <td>2.0</td>\n",
       "      <td>2.0</td>\n",
       "      <td>5.0</td>\n",
       "      <td>NaN</td>\n",
       "      <td>5.0</td>\n",
       "      <td>NaN</td>\n",
       "      <td>1</td>\n",
       "      <td>2</td>\n",
       "      <td>7</td>\n",
       "      <td>4</td>\n",
       "    </tr>\n",
       "    <tr>\n",
       "      <th>1</th>\n",
       "      <td>3</td>\n",
       "      <td>2</td>\n",
       "      <td>1</td>\n",
       "      <td>2</td>\n",
       "      <td>155000</td>\n",
       "      <td>59.485</td>\n",
       "      <td>3.5-4.0</td>\n",
       "      <td>NaN</td>\n",
       "      <td>NaN</td>\n",
       "      <td>360</td>\n",
       "      <td>...</td>\n",
       "      <td>2.0</td>\n",
       "      <td>2.0</td>\n",
       "      <td>5.0</td>\n",
       "      <td>NaN</td>\n",
       "      <td>5.0</td>\n",
       "      <td>NaN</td>\n",
       "      <td>2</td>\n",
       "      <td>1</td>\n",
       "      <td>3</td>\n",
       "      <td>3</td>\n",
       "    </tr>\n",
       "    <tr>\n",
       "      <th>2</th>\n",
       "      <td>3</td>\n",
       "      <td>2</td>\n",
       "      <td>1</td>\n",
       "      <td>2</td>\n",
       "      <td>125000</td>\n",
       "      <td>61.367</td>\n",
       "      <td>3.5-4.0</td>\n",
       "      <td>NaN</td>\n",
       "      <td>NaN</td>\n",
       "      <td>360</td>\n",
       "      <td>...</td>\n",
       "      <td>2.0</td>\n",
       "      <td>2.0</td>\n",
       "      <td>5.0</td>\n",
       "      <td>NaN</td>\n",
       "      <td>5.0</td>\n",
       "      <td>NaN</td>\n",
       "      <td>1</td>\n",
       "      <td>2</td>\n",
       "      <td>4</td>\n",
       "      <td>3</td>\n",
       "    </tr>\n",
       "    <tr>\n",
       "      <th>3</th>\n",
       "      <td>3</td>\n",
       "      <td>2</td>\n",
       "      <td>1</td>\n",
       "      <td>2</td>\n",
       "      <td>55000</td>\n",
       "      <td>57.997</td>\n",
       "      <td>3.5-4.0</td>\n",
       "      <td>NaN</td>\n",
       "      <td>NaN</td>\n",
       "      <td>360</td>\n",
       "      <td>...</td>\n",
       "      <td>2.0</td>\n",
       "      <td>2.0</td>\n",
       "      <td>3.0</td>\n",
       "      <td>NaN</td>\n",
       "      <td>3.0</td>\n",
       "      <td>NaN</td>\n",
       "      <td>1</td>\n",
       "      <td>2</td>\n",
       "      <td>2</td>\n",
       "      <td>2</td>\n",
       "    </tr>\n",
       "    <tr>\n",
       "      <th>4</th>\n",
       "      <td>3</td>\n",
       "      <td>1</td>\n",
       "      <td>1</td>\n",
       "      <td>2</td>\n",
       "      <td>345000</td>\n",
       "      <td>78.841</td>\n",
       "      <td>3.5-4.0</td>\n",
       "      <td>NaN</td>\n",
       "      <td>NaN</td>\n",
       "      <td>180</td>\n",
       "      <td>...</td>\n",
       "      <td>2.0</td>\n",
       "      <td>2.0</td>\n",
       "      <td>5.0</td>\n",
       "      <td>NaN</td>\n",
       "      <td>5.0</td>\n",
       "      <td>NaN</td>\n",
       "      <td>1</td>\n",
       "      <td>2</td>\n",
       "      <td>2</td>\n",
       "      <td>2</td>\n",
       "    </tr>\n",
       "  </tbody>\n",
       "</table>\n",
       "<p>5 rows × 33 columns</p>\n",
       "</div>"
      ],
      "text/plain": [
       "   action_taken  loan_type  lien_status  open_end_line_of_credit  loan_amount  \\\n",
       "0             3          3            1                        2       205000   \n",
       "1             3          2            1                        2       155000   \n",
       "2             3          2            1                        2       125000   \n",
       "3             3          2            1                        2        55000   \n",
       "4             3          1            1                        2       345000   \n",
       "\n",
       "  combined_loan_to_value_ratio interest_rate total_loan_costs  \\\n",
       "0                      110.256       3.5-4.0              NaN   \n",
       "1                       59.485       3.5-4.0              NaN   \n",
       "2                       61.367       3.5-4.0              NaN   \n",
       "3                       57.997       3.5-4.0              NaN   \n",
       "4                       78.841       3.5-4.0              NaN   \n",
       "\n",
       "  origination_charges loan_term  ...  applicant_ethnicity_1  \\\n",
       "0                 NaN       360  ...                    2.0   \n",
       "1                 NaN       360  ...                    2.0   \n",
       "2                 NaN       360  ...                    2.0   \n",
       "3                 NaN       360  ...                    2.0   \n",
       "4                 NaN       180  ...                    2.0   \n",
       "\n",
       "   co_applicant_ethnicity_1  applicant_race_1  applicant_race_2  \\\n",
       "0                       2.0               5.0               NaN   \n",
       "1                       2.0               5.0               NaN   \n",
       "2                       2.0               5.0               NaN   \n",
       "3                       2.0               3.0               NaN   \n",
       "4                       2.0               5.0               NaN   \n",
       "\n",
       "  co_applicant_race_1  co_applicant_race_2  applicant_sex  co_applicant_sex  \\\n",
       "0                 5.0                  NaN              1                 2   \n",
       "1                 5.0                  NaN              2                 1   \n",
       "2                 5.0                  NaN              1                 2   \n",
       "3                 3.0                  NaN              1                 2   \n",
       "4                 5.0                  NaN              1                 2   \n",
       "\n",
       "  applicant_age  co_applicant_age  \n",
       "0             7                 4  \n",
       "1             3                 3  \n",
       "2             4                 3  \n",
       "3             2                 2  \n",
       "4             2                 2  \n",
       "\n",
       "[5 rows x 33 columns]"
      ]
     },
     "execution_count": 6,
     "metadata": {},
     "output_type": "execute_result"
    }
   ],
   "source": [
    "df.head()"
   ]
  },
  {
   "cell_type": "code",
   "execution_count": 7,
   "id": "342bde9c-ce37-4286-86dd-0c1cdfb04ed6",
   "metadata": {
    "tags": []
   },
   "outputs": [
    {
     "name": "stdout",
     "output_type": "stream",
     "text": [
      "combined_loan_to_value_ratio\n",
      "80.0       9270\n",
      "95.0       2479\n",
      "75.0       1848\n",
      "97.0       1805\n",
      "90.0       1550\n",
      "           ... \n",
      "92.762        1\n",
      "104.757       1\n",
      "4.0           1\n",
      "98.54         1\n",
      "31.24         1\n",
      "Name: count, Length: 20180, dtype: int64\n"
     ]
    }
   ],
   "source": [
    "print(df['combined_loan_to_value_ratio'].value_counts())"
   ]
  },
  {
   "cell_type": "code",
   "execution_count": 8,
   "id": "00e33e39-ac39-4e7d-9f09-31f619d2d907",
   "metadata": {
    "tags": []
   },
   "outputs": [
    {
     "name": "stdout",
     "output_type": "stream",
     "text": [
      "Number of Unique Categories: 20180\n"
     ]
    }
   ],
   "source": [
    "unique_categories = df['combined_loan_to_value_ratio'].nunique()\n",
    "print(\"Number of Unique Categories:\", unique_categories)"
   ]
  },
  {
   "cell_type": "code",
   "execution_count": 9,
   "id": "5e96361b-586a-4a47-a184-3e234e75984c",
   "metadata": {
    "tags": []
   },
   "outputs": [
    {
     "name": "stdout",
     "output_type": "stream",
     "text": [
      "Minimum combined_loan_to_value_ratio: 0.03\n",
      "Maximum combined_loan_to_value_ratio: 29742.857\n",
      "Median combined_loan_to_value_ratio: 77.705\n"
     ]
    }
   ],
   "source": [
    "# First, convert the 'combined_loan_to_value_ratio' column to numeric (float)\n",
    "df['combined_loan_to_value_ratio'] = pd.to_numeric(df['combined_loan_to_value_ratio'], errors='coerce')\n",
    "\n",
    "# Now, calculate the minimum, maximum, and median\n",
    "minimum_interest_rate = df['combined_loan_to_value_ratio'].min()\n",
    "maximum_interest_rate = df['combined_loan_to_value_ratio'].max()\n",
    "median_interest_rate = df['combined_loan_to_value_ratio'].median()\n",
    "\n",
    "print(\"Minimum combined_loan_to_value_ratio:\", minimum_interest_rate)\n",
    "print(\"Maximum combined_loan_to_value_ratio:\", maximum_interest_rate)\n",
    "print(\"Median combined_loan_to_value_ratio:\", median_interest_rate)"
   ]
  },
  {
   "cell_type": "code",
   "execution_count": 10,
   "id": "0100b66c-ead4-4dc8-8fb0-3541e0816e69",
   "metadata": {},
   "outputs": [],
   "source": [
    "# Convert the 'combined_loan_to_value_ratio' column to numeric (float)\n",
    "df['combined_loan_to_value_ratio'] = pd.to_numeric(df['combined_loan_to_value_ratio'], errors='coerce')  # 'coerce' handles non-numeric values by converting them to NaN\n",
    "\n",
    "# Calculate the quantiles\n",
    "Q1 = df['combined_loan_to_value_ratio'].quantile(0.25)\n",
    "Q3 = df['combined_loan_to_value_ratio'].quantile(0.75)\n",
    "IQR = Q3 - Q1\n",
    "\n",
    "lower_bound = Q1 - 1.5 * IQR\n",
    "upper_bound = Q3 + 1.5 * IQR\n",
    "\n",
    "outliers = df[(df['combined_loan_to_value_ratio'] < lower_bound) | (df['combined_loan_to_value_ratio'] > upper_bound)]"
   ]
  },
  {
   "cell_type": "code",
   "execution_count": 11,
   "id": "c3327fc6-4f55-47e5-ab5b-2bcb69787e9b",
   "metadata": {},
   "outputs": [
    {
     "data": {
      "image/png": "[encoded data removed]",
      "text/plain": [
       "<Figure size 640x480 with 1 Axes>"
      ]
     },
     "metadata": {},
     "output_type": "display_data"
    }
   ],
   "source": [
    "plt.hist(df['combined_loan_to_value_ratio'], bins=50)  # Adjust the number of bins as needed\n",
    "plt.title('Histogram of combined_loan_to_value_ratio')\n",
    "plt.show()"
   ]
  },
  {
   "cell_type": "code",
   "execution_count": 12,
   "id": "b6e2e4a8-d0a5-462a-9991-baab12c16ee7",
   "metadata": {
    "tags": []
   },
   "outputs": [
    {
     "name": "stdout",
     "output_type": "stream",
     "text": [
      "[110.256  59.485  61.367 ...  72.616  76.792  31.24 ]\n",
      "1869\n"
     ]
    },
    {
     "data": {
      "image/png": "[encoded data removed]",
      "text/plain": [
       "<Figure size 640x480 with 1 Axes>"
      ]
     },
     "metadata": {},
     "output_type": "display_data"
    }
   ],
   "source": [
    "df1 = df.copy()\n",
    "df1['combined_loan_to_value_ratio'] = pd.to_numeric(df['combined_loan_to_value_ratio'], errors='coerce')\n",
    "df1 = df1.dropna(subset=['combined_loan_to_value_ratio'])\n",
    "\n",
    "print(df['combined_loan_to_value_ratio'].unique())\n",
    "print(df['combined_loan_to_value_ratio'].isna().sum())\n",
    "\n",
    "# Create a box plot of the 'combined_loan_to_value_ratio' column\n",
    "plt.boxplot(df1['combined_loan_to_value_ratio'])\n",
    "plt.title('Box Plot of combined_loan_to_value_ratio')\n",
    "plt.show()"
   ]
  },
  {
   "cell_type": "markdown",
   "id": "36182abe-a8fa-43a4-b6d7-76e97a4c7ec3",
   "metadata": {},
   "source": [
    "## The outlier squashes the data.\n",
    "We can draw a boxplot without the outlier."
   ]
  },
  {
   "cell_type": "code",
   "execution_count": 13,
   "id": "ddd46b61-36bf-411b-bb34-5daaa9cb4fd0",
   "metadata": {
    "tags": []
   },
   "outputs": [
    {
     "data": {
      "image/png": "[encoded data removed]",
      "text/plain": [
       "<Figure size 640x480 with 1 Axes>"
      ]
     },
     "metadata": {},
     "output_type": "display_data"
    }
   ],
   "source": [
    "# Create a box plot of the 'combined_loan_to_value_ratio' column\n",
    "plt.boxplot(df1['combined_loan_to_value_ratio'], showfliers=False)  # Exclude outliers\n",
    "plt.title('Box Plot of combined_loan_to_value_ratio (Values below 100)')\n",
    "\n",
    "# Calculate the median value\n",
    "median_value = df1['combined_loan_to_value_ratio'].median()\n",
    "\n",
    "# Add a median line\n",
    "plt.axhline(median_value, color='r', linestyle='dashed', linewidth=2)\n",
    "\n",
    "# Add text with the median value 5 pixels above the line\n",
    "plt.text(1.1, median_value + 5, f'Median: {median_value}', va='center')\n",
    "\n",
    "plt.show()"
   ]
  },
  {
   "cell_type": "markdown",
   "id": "ba453651-bf5c-4e17-803a-536a62335432",
   "metadata": {},
   "source": [
    "# Conclusion"
   ]
  },
  {
   "cell_type": "markdown",
   "id": "8b7acd38-70a0-4b8c-a85b-6cdbb73c8fcb",
   "metadata": {},
   "source": [
    "##### A median combined loan-to-value (CLTV) ratio of 75 suggests that, in the dataset, the typical loan is issued with the borrower having equity in the property of approximately 75%. \n",
    "In the context of mortgages and lending, a CLTV ratio below 100% indicates that the borrower has some level of equity in the property.\n",
    "\n",
    "In general, a lower CLTV ratio is often seen as less risky for lenders because it means the borrower has a larger stake in the property. \n",
    "A higher CLTV ratio, on the other hand, may indicate higher risk for the lender."
   ]
  },
  {
   "cell_type": "markdown",
   "id": "6328a6e2-2c1e-4a35-af38-d529c5bc8309",
   "metadata": {},
   "source": [
    "# Remove outliers"
   ]
  },
  {
   "cell_type": "code",
   "execution_count": 14,
   "id": "a29ec1a9-3efb-4dec-aaf2-02b808715cb6",
   "metadata": {
    "tags": []
   },
   "outputs": [
    {
     "name": "stdout",
     "output_type": "stream",
     "text": [
      "Number of removed outliers: 1883\n"
     ]
    }
   ],
   "source": [
    "# Calculate the IQR for combined_loan_to_value_ratio\n",
    "Q1 = df1['combined_loan_to_value_ratio'].quantile(0.25)\n",
    "Q3 = df1['combined_loan_to_value_ratio'].quantile(0.75)\n",
    "IQR = Q3 - Q1\n",
    "\n",
    "# Define lower and upper bounds for outliers\n",
    "lower_bound = Q1 - 1.5 * IQR\n",
    "upper_bound = Q3 + 1.5 * IQR\n",
    "\n",
    "# Create a boolean mask for outliers\n",
    "outliers_mask = (df1['combined_loan_to_value_ratio'] < lower_bound) | (df1['combined_loan_to_value_ratio'] > upper_bound)\n",
    "\n",
    "# Create a new DataFrame without outliers\n",
    "df_no_outliers = df1[~outliers_mask]\n",
    "\n",
    "# Display the number of removed outliers\n",
    "print(f'Number of removed outliers: {outliers_mask.sum()}')"
   ]
  },
  {
   "cell_type": "code",
   "execution_count": 15,
   "id": "66b3cc46-4eb0-42a5-a262-64f9c5fb9a02",
   "metadata": {
    "tags": []
   },
   "outputs": [
    {
     "name": "stdout",
     "output_type": "stream",
     "text": [
      "19       293.545\n",
      "31         5.217\n",
      "57         4.542\n",
      "71       268.107\n",
      "81        19.200\n",
      "          ...   \n",
      "62500     24.730\n",
      "62608     24.091\n",
      "62792     17.937\n",
      "62857     25.433\n",
      "62876     12.225\n",
      "Name: combined_loan_to_value_ratio, Length: 1883, dtype: float64\n"
     ]
    }
   ],
   "source": [
    "# Create a DataFrame of removed outliers\n",
    "outliers_df = df1[outliers_mask]\n",
    "\n",
    "# Display the values of the removed outliers\n",
    "print(outliers_df['combined_loan_to_value_ratio'])"
   ]
  },
  {
   "cell_type": "code",
   "execution_count": 16,
   "id": "963bbb8a-ae6f-4b97-bc47-d2373cbd6a9e",
   "metadata": {
    "tags": []
   },
   "outputs": [
    {
     "name": "stdout",
     "output_type": "stream",
     "text": [
      "combined_loan_to_value_ratio\n",
      "80.000     9270\n",
      "95.000     2479\n",
      "75.000     1848\n",
      "97.000     1805\n",
      "90.000     1550\n",
      "           ... \n",
      "99.578        1\n",
      "104.355       1\n",
      "83.732        1\n",
      "54.520        1\n",
      "31.240        1\n",
      "Name: count, Length: 18817, dtype: int64\n"
     ]
    }
   ],
   "source": [
    "print(df_no_outliers['combined_loan_to_value_ratio'].value_counts())"
   ]
  },
  {
   "cell_type": "code",
   "execution_count": 17,
   "id": "bb63ebb3-1063-4088-85f6-44aa3faf3375",
   "metadata": {
    "tags": []
   },
   "outputs": [
    {
     "data": {
      "image/png": "[encoded data removed]",
      "text/plain": [
       "<Figure size 1000x600 with 1 Axes>"
      ]
     },
     "metadata": {},
     "output_type": "display_data"
    }
   ],
   "source": [
    "import matplotlib.pyplot as plt\n",
    "\n",
    "# Assuming df1 is your DataFrame\n",
    "plt.figure(figsize=(10, 6))\n",
    "plt.boxplot(df_no_outliers['combined_loan_to_value_ratio'])\n",
    "plt.title('Boxplot of Combined Loan to Value Ratio')\n",
    "plt.xlabel('Combined Loan to Value Ratio')\n",
    "plt.show()"
   ]
  },
  {
   "cell_type": "code",
   "execution_count": 18,
   "id": "82cd6ec1-8bb1-4b02-a8cb-69f07a27b6f6",
   "metadata": {
    "tags": []
   },
   "outputs": [
    {
     "name": "stdout",
     "output_type": "stream",
     "text": [
      "combined_loan_to_value_ratio\n",
      "80.000     9270\n",
      "95.000     2479\n",
      "75.000     1848\n",
      "97.000     1805\n",
      "90.000     1550\n",
      "           ... \n",
      "99.578        1\n",
      "104.355       1\n",
      "83.732        1\n",
      "54.520        1\n",
      "31.240        1\n",
      "Name: count, Length: 18817, dtype: int64\n"
     ]
    }
   ],
   "source": [
    "print(df_no_outliers['combined_loan_to_value_ratio'].value_counts())"
   ]
  },
  {
   "cell_type": "code",
   "execution_count": 19,
   "id": "bdf899a3-4f2a-43ec-9f84-b43cc95a56d2",
   "metadata": {
    "tags": []
   },
   "outputs": [
    {
     "name": "stdout",
     "output_type": "stream",
     "text": [
      "Minimum Interest Rate: 27.778\n",
      "Maximum Interest Rate: 119.195\n",
      "Median Interest Rate: 78.462\n"
     ]
    }
   ],
   "source": [
    "# First, convert the 'combined_loan_to_value_ratio' column to numeric (float)\n",
    "df_no_outliers.loc[:, 'combined_loan_to_value_ratio'] = pd.to_numeric(df_no_outliers['combined_loan_to_value_ratio'], errors='coerce')\n",
    "\n",
    "# Now, calculate the minimum, maximum, and median\n",
    "minimum_interest_rate = df_no_outliers['combined_loan_to_value_ratio'].min()\n",
    "maximum_interest_rate = df_no_outliers['combined_loan_to_value_ratio'].max()\n",
    "median_interest_rate = df_no_outliers['combined_loan_to_value_ratio'].median()\n",
    "\n",
    "print(\"Minimum Interest Rate:\", minimum_interest_rate)\n",
    "print(\"Maximum Interest Rate:\", maximum_interest_rate)\n",
    "print(\"Median Interest Rate:\", median_interest_rate)"
   ]
  },
  {
   "cell_type": "markdown",
   "id": "bd3693a3-bd0d-411a-b38d-6fa9dbc1a7d5",
   "metadata": {},
   "source": [
    "# Make range categories"
   ]
  },
  {
   "cell_type": "code",
   "execution_count": 20,
   "id": "edee4e59-e1d2-41d6-be5c-87ee5efb91c5",
   "metadata": {},
   "outputs": [
    {
     "name": "stdout",
     "output_type": "stream",
     "text": [
      "combined_loan_to_value_ratio\n",
      "80.000     9270\n",
      "95.000     2479\n",
      "75.000     1848\n",
      "97.000     1805\n",
      "90.000     1550\n",
      "           ... \n",
      "99.578        1\n",
      "104.355       1\n",
      "83.732        1\n",
      "54.520        1\n",
      "31.240        1\n",
      "Name: count, Length: 18817, dtype: int64\n"
     ]
    }
   ],
   "source": [
    "print(df_no_outliers['combined_loan_to_value_ratio'].value_counts())"
   ]
  },
  {
   "cell_type": "code",
   "execution_count": 21,
   "id": "541de1eb-d88b-4dc7-9dd4-5af9a5ed223c",
   "metadata": {},
   "outputs": [],
   "source": [
    "# First, obtain a view of the DataFrame\n",
    "view = df_no_outliers['combined_loan_to_value_ratio']\n",
    "\n",
    "# Calculate the mode of the view\n",
    "mode_value = view.mode().values[0]\n",
    "\n",
    "# Use .loc to fill missing values in the original DataFrame\n",
    "df_no_outliers.loc[df_no_outliers['combined_loan_to_value_ratio'].isnull(), 'combined_loan_to_value_ratio'] = mode_value\n"
   ]
  },
  {
   "cell_type": "code",
   "execution_count": 22,
   "id": "ab918dca-7da4-4443-b7c4-795a19f83471",
   "metadata": {
    "tags": []
   },
   "outputs": [
    {
     "name": "stdout",
     "output_type": "stream",
     "text": [
      "combined_loan_to_value_ratio\n",
      "75.0-80.0      14184\n",
      "70.0-75.0       6119\n",
      "95.0-100.0      5431\n",
      "65.0-70.0       5071\n",
      "90.0-95.0       4314\n",
      "85.0-90.0       4063\n",
      "55.0-60.0       3696\n",
      "80.0-85.0       3206\n",
      "60.0-65.0       3170\n",
      "50.0-55.0       2438\n",
      "45.0-50.0       2206\n",
      "40.0-45.0       1547\n",
      "35.0-40.0       1265\n",
      "100.0-120.0     1122\n",
      "30.0-35.0        971\n",
      "25.0-30.0        377\n",
      "Name: count, dtype: int64\n"
     ]
    }
   ],
   "source": [
    "'''\n",
    "Minimum combined_loan_to_value_ratio: 0.003\n",
    "Maximum combined_loan_to_value_ratio: 98000.0\n",
    "Median combined_loan_to_value_ratio: 75.758\n",
    "'''\n",
    "\n",
    "# Convert the 'combined_loan_to_value_ratio' column to numeric\n",
    "new_df = df_no_outliers.copy()\n",
    "\n",
    "# Define a function to categorize combined_loan_to_value_ratio into the desired ranges\n",
    "def categorize_combined_loan_to_value_ratio(ratio):\n",
    "    if ratio >= 0.0 and ratio <= 25.0:\n",
    "        return '0.0-25.0'\n",
    "    if ratio >= 25.0 and ratio <= 30.0:\n",
    "        return '25.0-30.0'\n",
    "    elif ratio > 30.0 and ratio <= 35.0:\n",
    "        return '30.0-35.0'\n",
    "    elif ratio > 35.0 and ratio <= 40.0:\n",
    "        return '35.0-40.0'\n",
    "    elif ratio > 40.0 and ratio <= 45.0:\n",
    "        return '40.0-45.0'\n",
    "    elif ratio > 45.0 and ratio <= 50.0:\n",
    "        return '45.0-50.0'\n",
    "    elif ratio > 50.0 and ratio <= 55.0:\n",
    "        return '50.0-55.0'\n",
    "    elif ratio > 55.0 and ratio <= 60.0:\n",
    "        return '55.0-60.0'\n",
    "    elif ratio > 60.0 and ratio <= 65.0:\n",
    "        return '60.0-65.0'\n",
    "    elif ratio > 65.0 and ratio <= 70.0:\n",
    "        return '65.0-70.0'\n",
    "    elif ratio > 70.0 and ratio <= 75.0:\n",
    "        return '70.0-75.0'\n",
    "    elif ratio > 75.0 and ratio <= 80.0:\n",
    "        return '75.0-80.0'\n",
    "    elif ratio > 80.0 and ratio <= 85.0:\n",
    "        return '80.0-85.0'\n",
    "    elif ratio > 85.0 and ratio <= 90.0:\n",
    "        return '85.0-90.0'\n",
    "    elif ratio > 90.0 and ratio <= 95.0:\n",
    "        return '90.0-95.0'\n",
    "    elif ratio > 95.0 and ratio <= 100.0:\n",
    "        return '95.0-100.0'\n",
    "    elif ratio > 100.0 and ratio <= 125.0:\n",
    "        return '100.0-120.0'\n",
    "    else:\n",
    "        print(ratio)\n",
    "        return 'Other'\n",
    "\n",
    "# Apply the categorization function to 'combined_loan_to_value_ratio' column\n",
    "new_df['combined_loan_to_value_ratio'] = new_df['combined_loan_to_value_ratio'].apply(categorize_combined_loan_to_value_ratio)\n",
    "\n",
    "# Print the result\n",
    "print(new_df['combined_loan_to_value_ratio'].value_counts())"
   ]
  },
  {
   "cell_type": "code",
   "execution_count": 23,
   "id": "e0ab9d30-e539-4f18-8cc8-059d95679521",
   "metadata": {
    "tags": []
   },
   "outputs": [
    {
     "data": {
      "image/png": "[encoded data removed]",
      "text/plain": [
       "<Figure size 1000x600 with 1 Axes>"
      ]
     },
     "metadata": {},
     "output_type": "display_data"
    }
   ],
   "source": [
    "# Filter the DataFrame to exclude the 'Other' category\n",
    "filtered_df = new_df[new_df['combined_loan_to_value_ratio'] != 'Other']\n",
    "\n",
    "# Get the value counts for the filtered DataFrame\n",
    "value_counts = filtered_df['combined_loan_to_value_ratio'].value_counts()\n",
    "\n",
    "# Plot the bar chart\n",
    "plt.figure(figsize=(10, 6))\n",
    "plt.bar(value_counts.index, value_counts.values, color='skyblue')\n",
    "plt.xlabel('Interest Rate Category')\n",
    "plt.ylabel('Count')\n",
    "plt.title('Distribution of Interest Rate Categories (Excluding \"Other\")')\n",
    "plt.xticks(rotation=45, ha='right')  # Rotate x-axis labels for readability\n",
    "\n",
    "# Display the counts on top of the bars\n",
    "for i, count in enumerate(value_counts.values):\n",
    "    plt.text(i, count, str(count), ha='center', va='bottom')\n",
    "\n",
    "plt.tight_layout()\n",
    "plt.show()"
   ]
  },
  {
   "cell_type": "code",
   "execution_count": 24,
   "id": "6620c397-36a9-4db7-8b21-d53da87bb06c",
   "metadata": {
    "tags": []
   },
   "outputs": [],
   "source": [
    "new_df.to_csv('6_combined_loan_to_value_ratio.csv', index=False)"
   ]
  }
 ],
 "metadata": {
  "kernelspec": {
   "display_name": "Python 3 (ipykernel)",
   "language": "python",
   "name": "python3"
  },
  "language_info": {
   "codemirror_mode": {
    "name": "ipython",
    "version": 3
   },
   "file_extension": ".py",
   "mimetype": "text/x-python",
   "name": "python",
   "nbconvert_exporter": "python",
   "pygments_lexer": "ipython3",
   "version": "3.11.5"
  }
 },
 "nbformat": 4,
 "nbformat_minor": 5
}
