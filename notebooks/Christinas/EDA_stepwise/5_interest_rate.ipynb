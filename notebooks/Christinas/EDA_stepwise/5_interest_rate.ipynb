{
 "cells": [
  {
   "cell_type": "code",
   "execution_count": 1,
   "id": "c7991506-9be4-40c0-a2bc-c3964daa55be",
   "metadata": {},
   "outputs": [],
   "source": [
    "import warnings\n",
    "import numpy as np\n",
    "import pandas as pd\n",
    "import seaborn as sns\n",
    "import matplotlib.pyplot as plt\n",
    "import seaborn as sns\n",
    "from sklearn.preprocessing import LabelEncoder\n",
    "from itertools import product\n",
    "import matplotlib.pyplot as plt"
   ]
  },
  {
   "cell_type": "markdown",
   "id": "c8e37e8d-4a4f-4f25-8a70-88083787f646",
   "metadata": {},
   "source": [
    "# load dataset 4"
   ]
  },
  {
   "cell_type": "code",
   "execution_count": 2,
   "id": "6cc79679-0e9d-4ed7-86c1-2e6e274062f9",
   "metadata": {},
   "outputs": [],
   "source": [
    "df = pd.read_csv('4_debt_to_income_ratio_and_applicant_age.csv', low_memory=False)"
   ]
  },
  {
   "cell_type": "code",
   "execution_count": 3,
   "id": "b99bcdad-9b29-4d00-968c-067f2cb88d93",
   "metadata": {
    "tags": []
   },
   "outputs": [
    {
     "name": "stdout",
     "output_type": "stream",
     "text": [
      "<class 'pandas.core.frame.DataFrame'>\n",
      "RangeIndex: 88058 entries, 0 to 88057\n",
      "Data columns (total 34 columns):\n",
      " #   Column                                    Non-Null Count  Dtype  \n",
      "---  ------                                    --------------  -----  \n",
      " 0   census_tract                              88024 non-null  float64\n",
      " 1   action_taken                              88058 non-null  int64  \n",
      " 2   loan_type                                 88058 non-null  int64  \n",
      " 3   lien_status                               88058 non-null  int64  \n",
      " 4   reverse_mortgage                          88058 non-null  int64  \n",
      " 5   open_end_line_of_credit                   88058 non-null  int64  \n",
      " 6   loan_amount                               88058 non-null  int64  \n",
      " 7   combined_loan_to_value_ratio              67034 non-null  object \n",
      " 8   interest_rate                             58334 non-null  object \n",
      " 9   total_loan_costs                          56823 non-null  object \n",
      " 10  origination_charges                       57680 non-null  object \n",
      " 11  loan_term                                 88002 non-null  object \n",
      " 12  negative_amortization                     88058 non-null  int64  \n",
      " 13  interest_only_payment                     88058 non-null  int64  \n",
      " 14  balloon_payment                           88058 non-null  int64  \n",
      " 15  other_nonamortizing_features              88058 non-null  int64  \n",
      " 16  property_value                            69202 non-null  object \n",
      " 17  occupancy_type                            88058 non-null  int64  \n",
      " 18  manufactured_home_secured_property_type   88058 non-null  int64  \n",
      " 19  manufactured_home_land_property_interest  88058 non-null  int64  \n",
      " 20  total_units                               88058 non-null  int64  \n",
      " 21  income                                    84119 non-null  float64\n",
      " 22  debt_to_income_ratio                      67186 non-null  object \n",
      " 23  applicant_credit_score_type               88058 non-null  int64  \n",
      " 24  co_applicant_credit_score_type            88058 non-null  int64  \n",
      " 25  applicant_sex                             88058 non-null  int64  \n",
      " 26  co_applicant_sex                          88058 non-null  int64  \n",
      " 27  applicant_age                             88058 non-null  int64  \n",
      " 28  co_applicant_age                          88058 non-null  int64  \n",
      " 29  aus_1                                     88058 non-null  int64  \n",
      " 30  applicant_race_1                          70674 non-null  float64\n",
      " 31  co_applicant_race_1                       69803 non-null  float64\n",
      " 32  applicant_ethnicity_1                     80997 non-null  float64\n",
      " 33  co_applicant_ethnicity_1                  80690 non-null  float64\n",
      "dtypes: float64(6), int64(21), object(7)\n",
      "memory usage: 22.8+ MB\n"
     ]
    }
   ],
   "source": [
    "df.info()"
   ]
  },
  {
   "cell_type": "code",
   "execution_count": 4,
   "id": "36aba90c-0d79-4fab-acd5-efdd864e463d",
   "metadata": {
    "tags": []
   },
   "outputs": [
    {
     "data": {
      "text/plain": [
       "['combined_loan_to_value_ratio',\n",
       " 'interest_rate',\n",
       " 'total_loan_costs',\n",
       " 'origination_charges',\n",
       " 'loan_term',\n",
       " 'property_value',\n",
       " 'debt_to_income_ratio']"
      ]
     },
     "execution_count": 4,
     "metadata": {},
     "output_type": "execute_result"
    }
   ],
   "source": [
    "categorical_columns = df.select_dtypes(include=['object']).columns.tolist()\n",
    "categorical_columns"
   ]
  },
  {
   "cell_type": "code",
   "execution_count": 5,
   "id": "1889a337-3727-4426-b42e-edc509d7ae72",
   "metadata": {
    "tags": []
   },
   "outputs": [
    {
     "name": "stdout",
     "output_type": "stream",
     "text": [
      "    interest_rate  count\n",
      "0           3.875   5704\n",
      "1             4.0   5004\n",
      "2           4.375   4935\n",
      "3           4.125   4881\n",
      "4            3.75   4154\n",
      "..            ...    ...\n",
      "125         4.624      1\n",
      "126         5.865      1\n",
      "127         2.975      1\n",
      "128         3.695      1\n",
      "129          4.15      1\n",
      "\n",
      "[130 rows x 2 columns]\n",
      "  interest_rate  count\n",
      "0         3.875   5704\n",
      "1           4.0   5004\n",
      "2         4.375   4935\n",
      "3         4.125   4881\n",
      "4          3.75   4154\n",
      "5          4.25   3576\n",
      "6           4.5   3364\n",
      "7         3.625   3151\n",
      "8           3.5   3103\n",
      "9         4.625   2466\n"
     ]
    }
   ],
   "source": [
    "\n",
    "interest_rate_counts = df['interest_rate'].value_counts().reset_index()\n",
    "interest_rate_counts.columns = ['interest_rate', 'count']\n",
    "\n",
    "# This will give you a DataFrame with two columns: 'interest_rate' and 'count'.\n",
    "print(interest_rate_counts)\n",
    "\n",
    "# Display the top N values, e.g., top 10\n",
    "top_N = 10\n",
    "top_interest_rates = interest_rate_counts.head(top_N)\n",
    "\n",
    "# This will give you a DataFrame with the top N interest rates and their counts.\n",
    "print(top_interest_rates)"
   ]
  },
  {
   "cell_type": "code",
   "execution_count": 6,
   "id": "f5f95bc2-46c0-4ef3-8016-a4c31a4b5e85",
   "metadata": {
    "tags": []
   },
   "outputs": [
    {
     "name": "stdout",
     "output_type": "stream",
     "text": [
      "    interest_rate  count\n",
      "37           3.49     87\n",
      "38           2.25     66\n",
      "39          6.375     62\n",
      "40            6.5     61\n",
      "41           5.49     47\n",
      "..            ...    ...\n",
      "125         4.624      1\n",
      "126         5.865      1\n",
      "127         2.975      1\n",
      "128         3.695      1\n",
      "129          4.15      1\n",
      "\n",
      "[93 rows x 2 columns]\n"
     ]
    }
   ],
   "source": [
    "# Assuming interest_rate_counts is the DataFrame with interest rates and their counts\n",
    "interest_rate_values_less_than_10 = interest_rate_counts[interest_rate_counts['count'] < 100]\n",
    "\n",
    "# This will give you a DataFrame with the interest rates that have less than 10 entries.\n",
    "print(interest_rate_values_less_than_10)\n"
   ]
  },
  {
   "cell_type": "code",
   "execution_count": 7,
   "id": "08cfb8c8-bb39-4c92-9a7f-23dbc90e635a",
   "metadata": {
    "tags": []
   },
   "outputs": [
    {
     "name": "stdout",
     "output_type": "stream",
     "text": [
      "Minimum Interest Rate: 0.0\n",
      "Maximum Interest Rate: 8.25\n",
      "Median Interest Rate: 4.0\n"
     ]
    }
   ],
   "source": [
    "# First, convert the 'interest_rate' column to numeric (float)\n",
    "df['interest_rate'] = pd.to_numeric(df['interest_rate'], errors='coerce')\n",
    "\n",
    "# Now, calculate the minimum, maximum, and median\n",
    "minimum_interest_rate = df['interest_rate'].min()\n",
    "maximum_interest_rate = df['interest_rate'].max()\n",
    "median_interest_rate = df['interest_rate'].median()\n",
    "\n",
    "print(\"Minimum Interest Rate:\", minimum_interest_rate)\n",
    "print(\"Maximum Interest Rate:\", maximum_interest_rate)\n",
    "print(\"Median Interest Rate:\", median_interest_rate)"
   ]
  },
  {
   "cell_type": "markdown",
   "id": "a0e78eec-6142-4be0-85db-502c10cf6c94",
   "metadata": {},
   "source": [
    "## Number of entries with a minimum interest rate"
   ]
  },
  {
   "cell_type": "code",
   "execution_count": 8,
   "id": "49e180ce-78dc-420e-8b3b-2704819b86ef",
   "metadata": {
    "tags": []
   },
   "outputs": [
    {
     "name": "stdout",
     "output_type": "stream",
     "text": [
      "Number of entries with a minimum interest rate of 0.0: 239\n"
     ]
    }
   ],
   "source": [
    "count_zero_interest_rate = len(df[df['interest_rate'] == 0.0])\n",
    "print(\"Number of entries with a minimum interest rate of 0.0:\", count_zero_interest_rate)"
   ]
  },
  {
   "cell_type": "code",
   "execution_count": 9,
   "id": "bd62117e-94e5-4a49-8eb0-e1b27a06f19c",
   "metadata": {
    "tags": []
   },
   "outputs": [
    {
     "name": "stdout",
     "output_type": "stream",
     "text": [
      "Count of each 'action_taken' category for entries with a minimum interest rate of 0.0:\n",
      "action_taken\n",
      "1    237\n",
      "2      2\n",
      "Name: count, dtype: int64\n"
     ]
    }
   ],
   "source": [
    "# Filter the DataFrame to select only rows with a minimum interest rate of 0.0\n",
    "zero_interest_rate_entries = df[df['interest_rate'] == 0.0]\n",
    "\n",
    "# Count the occurrences of each 'action_taken' category\n",
    "action_taken_counts = zero_interest_rate_entries['action_taken'].value_counts()\n",
    "\n",
    "# Print the counts for each 'action_taken' category\n",
    "print(\"Count of each 'action_taken' category for entries with a minimum interest rate of 0.0:\")\n",
    "print(action_taken_counts)\n"
   ]
  },
  {
   "cell_type": "markdown",
   "id": "dddc1619-9b04-4a8c-b7ec-a6d32f44a006",
   "metadata": {},
   "source": [
    "- 1 - Loan originated\n",
    "- 2 - Application approved but not accepted\n",
    "- 3 - Application denied\n",
    "- 4 - Application withdrawn by applicant\n",
    "- 5 - File closed for incompleteness\n",
    "- 6 - Purchased loan\n",
    "- 7 - Preapproval request denied\n",
    "- 8 - Preapproval request approved but not accepted"
   ]
  },
  {
   "cell_type": "markdown",
   "id": "89ab59fe-f42d-4c0f-bb34-e9e0753b5636",
   "metadata": {},
   "source": [
    "## Number of entries with a maximum interest rate"
   ]
  },
  {
   "cell_type": "code",
   "execution_count": 10,
   "id": "cf78b5ee-1269-4201-a88a-05cfc6b7f605",
   "metadata": {
    "tags": []
   },
   "outputs": [
    {
     "name": "stdout",
     "output_type": "stream",
     "text": [
      "Number of entries with the maximum interest rate: 1\n"
     ]
    }
   ],
   "source": [
    "# Find the maximum interest rate in the DataFrame\n",
    "max_interest_rate = df['interest_rate'].max()\n",
    "\n",
    "# Filter the DataFrame to select only rows with the maximum interest rate\n",
    "max_interest_rate_entries = df[df['interest_rate'] == max_interest_rate]\n",
    "\n",
    "# Count the number of entries with the maximum interest rate\n",
    "count_max_interest_rate = len(max_interest_rate_entries)\n",
    "\n",
    "print(\"Number of entries with the maximum interest rate:\", count_max_interest_rate)\n"
   ]
  },
  {
   "cell_type": "code",
   "execution_count": 11,
   "id": "331dbb8c-4f6f-432d-8a55-759b9470d40d",
   "metadata": {
    "tags": []
   },
   "outputs": [
    {
     "name": "stdout",
     "output_type": "stream",
     "text": [
      "Unique 'action_taken' values for entries with the maximum interest rate:\n",
      "[1]\n"
     ]
    }
   ],
   "source": [
    "# Find the maximum interest rate in the DataFrame\n",
    "max_interest_rate = df['interest_rate'].max()\n",
    "\n",
    "# Filter the DataFrame to select only rows with the maximum interest rate\n",
    "max_interest_rate_entries = df[df['interest_rate'] == max_interest_rate]\n",
    "\n",
    "# Get the unique values in the 'action_taken' column for these filtered entries\n",
    "unique_action_taken_values = max_interest_rate_entries['action_taken'].unique()\n",
    "\n",
    "# Print the unique 'action_taken' values for entries with the maximum interest rate\n",
    "print(\"Unique 'action_taken' values for entries with the maximum interest rate:\")\n",
    "print(unique_action_taken_values)\n"
   ]
  },
  {
   "cell_type": "markdown",
   "id": "dcccd433-500f-48d6-ad25-ba673399bf9c",
   "metadata": {},
   "source": [
    "## Interquartile Range (IQR) for 'interest_rate'"
   ]
  },
  {
   "cell_type": "code",
   "execution_count": 12,
   "id": "1290a5f7-8de5-4ddd-80f5-71835ec8a0c1",
   "metadata": {
    "tags": []
   },
   "outputs": [
    {
     "name": "stdout",
     "output_type": "stream",
     "text": [
      "Interquartile Range (IQR) for 'interest_rate' across all rows: 0.75\n"
     ]
    }
   ],
   "source": [
    "# Calculate the first quartile (Q1) and third quartile (Q3) of 'interest_rate'\n",
    "Q1 = df['interest_rate'].quantile(0.25)\n",
    "Q3 = df['interest_rate'].quantile(0.75)\n",
    "\n",
    "# Calculate the interquartile range (IQR)\n",
    "IQR = Q3 - Q1\n",
    "\n",
    "print(\"Interquartile Range (IQR) for 'interest_rate' across all rows:\", IQR)"
   ]
  },
  {
   "cell_type": "markdown",
   "id": "351df03a-c2f1-4d52-8bb0-18c81a79cd99",
   "metadata": {},
   "source": [
    "## first quartile (Q1) and third quartile (Q3): 50% of the data falls within this range"
   ]
  },
  {
   "cell_type": "code",
   "execution_count": 13,
   "id": "9ec0c584-f3c1-453c-b8e0-a490308f6830",
   "metadata": {
    "tags": []
   },
   "outputs": [
    {
     "name": "stdout",
     "output_type": "stream",
     "text": [
      "First Quartile (Q1): 3.625\n",
      "Third Quartile (Q3): 4.375\n"
     ]
    }
   ],
   "source": [
    "# Calculate the first quartile (Q1) and third quartile (Q3) for 'interest_rate'\n",
    "Q1 = df['interest_rate'].quantile(0.25)\n",
    "Q3 = df['interest_rate'].quantile(0.75)\n",
    "\n",
    "print(\"First Quartile (Q1):\", Q1)\n",
    "print(\"Third Quartile (Q3):\", Q3)\n"
   ]
  },
  {
   "cell_type": "markdown",
   "id": "13d7638f-403b-41e8-9143-5caa0beb3411",
   "metadata": {},
   "source": [
    "## the range that contains 90% of the data: 5th percentile (Q5) and the 95th percentile (Q95)"
   ]
  },
  {
   "cell_type": "code",
   "execution_count": 14,
   "id": "98d04aa5-e2e7-4edd-a867-9491ce07cdd4",
   "metadata": {
    "tags": []
   },
   "outputs": [
    {
     "name": "stdout",
     "output_type": "stream",
     "text": [
      "5th Percentile (Q5): 3.0\n",
      "95th Percentile (Q95): 5.125\n",
      "Range for 90% of the data: 2.125\n"
     ]
    }
   ],
   "source": [
    "# Calculate the 5th percentile (Q5) and 95th percentile (Q95) for 'interest_rate'\n",
    "Q5 = df['interest_rate'].quantile(0.05)\n",
    "Q95 = df['interest_rate'].quantile(0.95)\n",
    "\n",
    "print(\"5th Percentile (Q5):\", Q5)\n",
    "print(\"95th Percentile (Q95):\", Q95)\n",
    "\n",
    "# Calculate the range for 90% of the data\n",
    "data_range_90_percent = Q95 - Q5\n",
    "\n",
    "print(\"Range for 90% of the data:\", data_range_90_percent)\n"
   ]
  },
  {
   "cell_type": "markdown",
   "id": "e4c9e1b7-73f4-4439-9f1f-abbaed0f1b26",
   "metadata": {},
   "source": [
    "# Conclusion"
   ]
  },
  {
   "cell_type": "markdown",
   "id": "d43bb47f-e1dd-411f-9344-3582edb3ab78",
   "metadata": {},
   "source": [
    "90% of the interest rates are between 3% and 5.25%\n",
    "\n",
    "50% of the interest rates are between 3.75 and 4.5%"
   ]
  },
  {
   "cell_type": "markdown",
   "id": "380f005a-114b-4982-a2f9-908825d3e958",
   "metadata": {},
   "source": [
    "# Make new categories"
   ]
  },
  {
   "cell_type": "code",
   "execution_count": 15,
   "id": "8761c2cf-868a-49ab-8658-910e81961191",
   "metadata": {
    "tags": []
   },
   "outputs": [
    {
     "name": "stdout",
     "output_type": "stream",
     "text": [
      "interest_rate\n",
      "Other      29833\n",
      "3.5-4.0    18943\n",
      "4.0-4.5    17148\n",
      "3.0-3.5     8761\n",
      "4.5-5.0     6627\n",
      "2.0-3.0     3069\n",
      "5.0-6.0     2958\n",
      "6.0-7.0      418\n",
      "0.0-1.0      241\n",
      "7.0-8.0       49\n",
      "1.0-2.0        9\n",
      "8.0-9.0        2\n",
      "Name: count, dtype: int64\n"
     ]
    }
   ],
   "source": [
    "# Define a function to categorize interest rates into the desired ranges\n",
    "def categorize_interest_rate(rate):\n",
    "    if rate >= 0.0 and rate <= 1.0:\n",
    "        return '0.0-1.0'\n",
    "    elif rate > 1.0 and rate <= 2.0:\n",
    "        return '1.0-2.0'\n",
    "    elif rate > 2.0 and rate <= 3.0:\n",
    "        return '2.0-3.0'\n",
    "    elif rate > 3.0 and rate <= 3.5:\n",
    "        return '3.0-3.5'\n",
    "    elif rate > 3.5 and rate <= 4.0:\n",
    "        return '3.5-4.0'\n",
    "    elif rate > 4.0 and rate <= 4.5:\n",
    "        return '4.0-4.5'\n",
    "    elif rate > 4.5 and rate <= 5.0:\n",
    "        return '4.5-5.0'\n",
    "    elif rate > 5.0 and rate <= 6.0:\n",
    "        return '5.0-6.0'\n",
    "    elif rate > 6.0 and rate <= 7.0:\n",
    "        return '6.0-7.0'\n",
    "    elif rate > 7.0 and rate <= 8.0:\n",
    "        return '7.0-8.0'\n",
    "    elif rate > 8.0 and rate <= 9.9:\n",
    "        return '8.0-9.0'\n",
    "    else:\n",
    "        return 'Other'\n",
    "\n",
    "# Apply the categorization function to 'interest_rate' column\n",
    "df['interest_rate'] = df['interest_rate'].apply(categorize_interest_rate)\n",
    "\n",
    "# Print the result\n",
    "print(df['interest_rate'].value_counts())\n"
   ]
  },
  {
   "cell_type": "code",
   "execution_count": 16,
   "id": "df6e4147-31f0-4631-8abc-8232bdacd483",
   "metadata": {
    "tags": []
   },
   "outputs": [
    {
     "name": "stdout",
     "output_type": "stream",
     "text": [
      "Unique Interest Rates in 'Other' Category:\n",
      "['Other']\n"
     ]
    }
   ],
   "source": [
    "# Filter the DataFrame to show 'interest_rate' values in the 'Other' category\n",
    "other_interest_rates = df[df['interest_rate'] == 'Other']\n",
    "\n",
    "# Print the unique interest rates in the 'Other' category\n",
    "unique_other_interest_rates = other_interest_rates['interest_rate'].unique()\n",
    "\n",
    "print(\"Unique Interest Rates in 'Other' Category:\")\n",
    "print(unique_other_interest_rates)\n"
   ]
  },
  {
   "cell_type": "code",
   "execution_count": 17,
   "id": "f2b5ac39-7e0a-4508-8610-69a8f90032d7",
   "metadata": {
    "tags": []
   },
   "outputs": [
    {
     "data": {
      "image/png": "[encoded data removed]",
      "text/plain": [
       "<Figure size 1000x600 with 1 Axes>"
      ]
     },
     "metadata": {},
     "output_type": "display_data"
    }
   ],
   "source": [
    "import matplotlib.pyplot as plt\n",
    "\n",
    "# Filter the DataFrame to exclude the 'Other' category\n",
    "filtered_df = df[df['interest_rate'] != 'Other']\n",
    "\n",
    "# Get the value counts for the filtered DataFrame\n",
    "value_counts = filtered_df['interest_rate'].value_counts()\n",
    "\n",
    "# Plot the bar chart\n",
    "plt.figure(figsize=(10, 6))\n",
    "plt.bar(value_counts.index, value_counts.values, color='skyblue')\n",
    "plt.xlabel('Interest Rate Category')\n",
    "plt.ylabel('Count')\n",
    "plt.title('Distribution of Interest Rate Categories (Excluding \"Other\")')\n",
    "plt.xticks(rotation=45, ha='right')  # Rotate x-axis labels for readability\n",
    "\n",
    "# Display the counts on top of the bars\n",
    "for i, count in enumerate(value_counts.values):\n",
    "    plt.text(i, count, str(count), ha='center', va='bottom')\n",
    "\n",
    "plt.tight_layout()\n",
    "plt.show()\n"
   ]
  },
  {
   "cell_type": "code",
   "execution_count": 18,
   "id": "709c0b02-49d4-4f21-83fb-f525aee2b16a",
   "metadata": {
    "tags": []
   },
   "outputs": [],
   "source": [
    "df.to_csv('5_interest_rate.csv', index=False)"
   ]
  }
 ],
 "metadata": {
  "kernelspec": {
   "display_name": "Python 3 (ipykernel)",
   "language": "python",
   "name": "python3"
  },
  "language_info": {
   "codemirror_mode": {
    "name": "ipython",
    "version": 3
   },
   "file_extension": ".py",
   "mimetype": "text/x-python",
   "name": "python",
   "nbconvert_exporter": "python",
   "pygments_lexer": "ipython3",
   "version": "3.9.18"
  }
 },
 "nbformat": 4,
 "nbformat_minor": 5
}
