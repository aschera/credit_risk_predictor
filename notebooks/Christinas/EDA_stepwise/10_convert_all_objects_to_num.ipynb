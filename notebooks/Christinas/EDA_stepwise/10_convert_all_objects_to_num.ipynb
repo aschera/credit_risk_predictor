{
 "cells": [
  {
   "cell_type": "code",
   "execution_count": 1,
   "id": "236fe6aa-a953-40d2-830b-d6a8db58d7b5",
   "metadata": {
    "tags": []
   },
   "outputs": [],
   "source": [
    "import warnings\n",
    "import numpy as np\n",
    "import pandas as pd\n",
    "import seaborn as sns\n",
    "import matplotlib.pyplot as plt\n",
    "import seaborn as sns\n",
    "from sklearn.preprocessing import LabelEncoder\n",
    "from itertools import product\n",
    "import matplotlib.pyplot as plt"
   ]
  },
  {
   "cell_type": "markdown",
   "id": "948cb308-612a-4da1-98c0-736da467816f",
   "metadata": {
    "tags": []
   },
   "source": [
    "# load dataset 9"
   ]
  },
  {
   "cell_type": "code",
   "execution_count": 2,
   "id": "c2a59209-78cf-4057-853f-b81f2fd701a6",
   "metadata": {
    "tags": []
   },
   "outputs": [],
   "source": [
    "df = pd.read_csv('9_loan_term.csv', low_memory=False)"
   ]
  },
  {
   "cell_type": "code",
   "execution_count": 3,
   "id": "8cc5244b-35d6-4fe1-89a8-246bc1d67113",
   "metadata": {
    "tags": []
   },
   "outputs": [
    {
     "name": "stdout",
     "output_type": "stream",
     "text": [
      "<class 'pandas.core.frame.DataFrame'>\n",
      "RangeIndex: 69202 entries, 0 to 69201\n",
      "Data columns (total 36 columns):\n",
      " #   Column                                    Non-Null Count  Dtype  \n",
      "---  ------                                    --------------  -----  \n",
      " 0   census_tract                              69197 non-null  float64\n",
      " 1   action_taken                              69202 non-null  int64  \n",
      " 2   loan_type                                 69202 non-null  int64  \n",
      " 3   lien_status                               69202 non-null  int64  \n",
      " 4   reverse_mortgage                          69202 non-null  int64  \n",
      " 5   open_end_line_of_credit                   69202 non-null  int64  \n",
      " 6   loan_amount                               69202 non-null  int64  \n",
      " 7   combined_loan_to_value_ratio              69202 non-null  object \n",
      " 8   interest_rate                             69202 non-null  object \n",
      " 9   total_loan_costs                          69202 non-null  object \n",
      " 10  origination_charges                       69202 non-null  object \n",
      " 11  loan_term                                 69202 non-null  object \n",
      " 12  negative_amortization                     69202 non-null  int64  \n",
      " 13  interest_only_payment                     69202 non-null  int64  \n",
      " 14  balloon_payment                           69202 non-null  int64  \n",
      " 15  other_nonamortizing_features              69202 non-null  int64  \n",
      " 16  property_value                            69202 non-null  float64\n",
      " 17  occupancy_type                            69202 non-null  int64  \n",
      " 18  manufactured_home_secured_property_type   69202 non-null  int64  \n",
      " 19  manufactured_home_land_property_interest  69202 non-null  int64  \n",
      " 20  total_units                               69202 non-null  int64  \n",
      " 21  income                                    66868 non-null  float64\n",
      " 22  debt_to_income_ratio                      69202 non-null  object \n",
      " 23  applicant_credit_score_type               69202 non-null  int64  \n",
      " 24  co_applicant_credit_score_type            69202 non-null  int64  \n",
      " 25  applicant_sex                             69202 non-null  int64  \n",
      " 26  co_applicant_sex                          69202 non-null  int64  \n",
      " 27  applicant_age                             69202 non-null  int64  \n",
      " 28  co_applicant_age                          69202 non-null  int64  \n",
      " 29  aus_1                                     69202 non-null  int64  \n",
      " 30  applicant_race_1                          56757 non-null  float64\n",
      " 31  applicant_race_2                          542 non-null    float64\n",
      " 32  co_applicant_race_1                       28814 non-null  float64\n",
      " 33  co_applicant_race_2                       201 non-null    float64\n",
      " 34  applicant_ethnicity_1                     64164 non-null  float64\n",
      " 35  co_applicant_ethnicity_1                  32900 non-null  float64\n",
      "dtypes: float64(9), int64(21), object(6)\n",
      "memory usage: 19.0+ MB\n"
     ]
    }
   ],
   "source": [
    "df.info()"
   ]
  },
  {
   "cell_type": "code",
   "execution_count": 4,
   "id": "4015c8df-0159-47c2-aff1-9965217e7a07",
   "metadata": {
    "tags": []
   },
   "outputs": [
    {
     "name": "stdout",
     "output_type": "stream",
     "text": [
      "Index(['combined_loan_to_value_ratio', 'interest_rate', 'total_loan_costs',\n",
      "       'origination_charges', 'loan_term', 'debt_to_income_ratio'],\n",
      "      dtype='object')\n"
     ]
    }
   ],
   "source": [
    "# Select object (string) and category columns from your DataFrame\n",
    "object_category_columns = df.select_dtypes(include=['object'])\n",
    "\n",
    "# Print the names of the selected columns\n",
    "print(object_category_columns.columns)"
   ]
  },
  {
   "cell_type": "markdown",
   "id": "dcdc4a31-082c-4e53-a456-4ba261dc116c",
   "metadata": {},
   "source": [
    "# Convert interest_rate to numerical:"
   ]
  },
  {
   "cell_type": "code",
   "execution_count": 5,
   "id": "50a49a2d-08f8-4ada-8758-7c4b8a0759a0",
   "metadata": {
    "tags": []
   },
   "outputs": [
    {
     "name": "stdout",
     "output_type": "stream",
     "text": [
      "interest_rate\n",
      "3.5-4.0     24404\n",
      "4.0-4.5     17097\n",
      "3.0-3.5     12579\n",
      "4.5-5.0      7057\n",
      "2.0-3.0      4075\n",
      "5.0-6.0      3578\n",
      "6.0-7.0       350\n",
      "1.0-2.0        22\n",
      "7.0-8.0        20\n",
      "8.0-9.0        15\n",
      "9.9-15.0        3\n",
      "0.0-1.0         2\n",
      "Name: count, dtype: int64\n"
     ]
    }
   ],
   "source": [
    "print(df['interest_rate'].value_counts())"
   ]
  },
  {
   "cell_type": "code",
   "execution_count": 6,
   "id": "969677e4-e487-4786-bca2-d52473334825",
   "metadata": {},
   "outputs": [],
   "source": [
    "# Define a dictionary to map the interest rate categories to numerical values\n",
    "interest_rate_mapping = {\n",
    "    '0.0-1.0': 1,\n",
    "    '1.0-2.0': 2,\n",
    "    '2.0-3.0': 3,\n",
    "    '3.0-3.5': 4,\n",
    "    '3.5-4.0': 5,\n",
    "    '4.0-4.5': 6,\n",
    "    '4.5-5.0': 7,\n",
    "    '5.0-6.0': 8,\n",
    "    '6.0-7.0': 9,\n",
    "    '7.0-8.0': 10,\n",
    "    '8.0-9.0': 11\n",
    "}\n",
    "\n",
    "# Map the values to the 'interest_rate' column\n",
    "df['interest_rate'] = df['interest_rate'].map(interest_rate_mapping)"
   ]
  },
  {
   "cell_type": "code",
   "execution_count": 7,
   "id": "9ba40bbc-d9a3-4257-a41d-7a7404b589e9",
   "metadata": {
    "tags": []
   },
   "outputs": [
    {
     "name": "stdout",
     "output_type": "stream",
     "text": [
      "interest_rate\n",
      "5.0     24404\n",
      "6.0     17097\n",
      "4.0     12579\n",
      "7.0      7057\n",
      "3.0      4075\n",
      "8.0      3578\n",
      "9.0       350\n",
      "2.0        22\n",
      "10.0       20\n",
      "11.0       15\n",
      "1.0         2\n",
      "Name: count, dtype: int64\n"
     ]
    }
   ],
   "source": [
    "print(df['interest_rate'].value_counts())"
   ]
  },
  {
   "cell_type": "markdown",
   "id": "77de6591-88b1-4bb3-b97c-1a8c1d97143c",
   "metadata": {},
   "source": [
    "# Convert loan_term to numerical:"
   ]
  },
  {
   "cell_type": "code",
   "execution_count": 8,
   "id": "90f9b98e-0e00-45a2-b962-f93b1039fab3",
   "metadata": {
    "tags": []
   },
   "outputs": [
    {
     "name": "stdout",
     "output_type": "stream",
     "text": [
      "loan_term\n",
      "27-31 years    54907\n",
      "12-16 years     9592\n",
      "17-21 years     3481\n",
      "7-11 years       946\n",
      "22-26 years      244\n",
      "2-6 years         29\n",
      "0-1 years          2\n",
      "1-2 years          1\n",
      "Name: count, dtype: int64\n"
     ]
    }
   ],
   "source": [
    "print(df['loan_term'].value_counts())"
   ]
  },
  {
   "cell_type": "code",
   "execution_count": 9,
   "id": "83e3b9eb-2aa3-4e43-af93-9b086c5181d1",
   "metadata": {},
   "outputs": [],
   "source": [
    "# Define a dictionary to map the loan term categories to numerical values\n",
    "loan_term_mapping = {\n",
    "    '2-6 years': 1,\n",
    "    '7-11 years': 2,\n",
    "    '12-16 years': 3,\n",
    "    '17-21 years': 4,\n",
    "    '22-26 years': 5,\n",
    "    '27-31 years': 6,\n",
    "    '37-41 years': 7\n",
    "}\n",
    "\n",
    "# Map the values to the 'loan_term' column\n",
    "df['loan_term'] = df['loan_term'].map(loan_term_mapping)"
   ]
  },
  {
   "cell_type": "code",
   "execution_count": 10,
   "id": "815ec644-ce1b-401e-b8a4-bbe1e3e786a5",
   "metadata": {
    "tags": []
   },
   "outputs": [
    {
     "name": "stdout",
     "output_type": "stream",
     "text": [
      "loan_term\n",
      "6.0    54907\n",
      "3.0     9592\n",
      "4.0     3481\n",
      "2.0      946\n",
      "5.0      244\n",
      "1.0       29\n",
      "Name: count, dtype: int64\n"
     ]
    }
   ],
   "source": [
    "print(df['loan_term'].value_counts())"
   ]
  },
  {
   "cell_type": "markdown",
   "id": "354eb582-6ddd-4b11-85ec-72f21465048e",
   "metadata": {},
   "source": [
    "# Convert debt_to_income_ratio to numerical:"
   ]
  },
  {
   "cell_type": "code",
   "execution_count": 11,
   "id": "550ae80e-3750-45c4-9810-668e4e35e0e1",
   "metadata": {
    "tags": []
   },
   "outputs": [
    {
     "name": "stdout",
     "output_type": "stream",
     "text": [
      "debt_to_income_ratio\n",
      "36%-50%     32035\n",
      "20%-<30%    16217\n",
      "30%-<36%    14342\n",
      "<20%         5476\n",
      "50%-60%       994\n",
      ">60%          138\n",
      "Name: count, dtype: int64\n"
     ]
    }
   ],
   "source": [
    "print(df['debt_to_income_ratio'].value_counts())"
   ]
  },
  {
   "cell_type": "code",
   "execution_count": 12,
   "id": "d83665e9-0193-45f6-b442-c2e42085315b",
   "metadata": {},
   "outputs": [],
   "source": [
    "# Define a dictionary to map the debt to income ratio categories to numerical values\n",
    "debt_to_income_mapping = {\n",
    "    '<20%': 1,\n",
    "    '20%-<30%': 2,\n",
    "    '30%-<36%': 3,\n",
    "    '36%-50%': 4,\n",
    "    '50%-60%': 5,\n",
    "    '>60%': 6\n",
    "}\n",
    "\n",
    "# Map the values to the 'debt_to_income_ratio' column\n",
    "df['debt_to_income_ratio'] = df['debt_to_income_ratio'].map(debt_to_income_mapping)"
   ]
  },
  {
   "cell_type": "code",
   "execution_count": 13,
   "id": "178e1323-367c-413b-9e7f-f5594ef11908",
   "metadata": {
    "tags": []
   },
   "outputs": [
    {
     "name": "stdout",
     "output_type": "stream",
     "text": [
      "debt_to_income_ratio\n",
      "4    32035\n",
      "2    16217\n",
      "3    14342\n",
      "1     5476\n",
      "5      994\n",
      "6      138\n",
      "Name: count, dtype: int64\n"
     ]
    }
   ],
   "source": [
    "print(df['debt_to_income_ratio'].value_counts())"
   ]
  },
  {
   "cell_type": "code",
   "execution_count": 14,
   "id": "d86fdf9b-69c7-40fe-8f1a-d4b921979ab8",
   "metadata": {
    "tags": []
   },
   "outputs": [
    {
     "name": "stdout",
     "output_type": "stream",
     "text": [
      "origination_charges\n",
      "0-500        22563\n",
      "1000-1500    19894\n",
      "500-1000      9968\n",
      "1500-2000     6858\n",
      "2000-2500     4012\n",
      "2500-3000     2603\n",
      "3000-3500     2014\n",
      "3500-4000     1290\n",
      "Name: count, dtype: int64\n"
     ]
    }
   ],
   "source": [
    "print(df['origination_charges'].value_counts())"
   ]
  },
  {
   "cell_type": "code",
   "execution_count": 15,
   "id": "edc60d85-3424-40e3-bfe7-0e9ef1d55023",
   "metadata": {},
   "outputs": [],
   "source": [
    "# Define a dictionary to map the origination_charges categories to numerical values\n",
    "origination_charges_mapping = {\n",
    "    '0-500': 1,\n",
    "    '1000-1500': 2,\n",
    "    '500-1000': 3,\n",
    "    '1500-2000': 4,\n",
    "    '2000-2500': 5,\n",
    "    '2500-3000': 6,\n",
    "    '3000-3500': 7,\n",
    "    '3500-4000': 8\n",
    "}\n",
    "\n",
    "# Map the values to the 'origination_charges' column\n",
    "df['origination_charges'] = df['origination_charges'].map(origination_charges_mapping)"
   ]
  },
  {
   "cell_type": "code",
   "execution_count": 16,
   "id": "24bdcec9-f29d-4598-9d7b-12b8cbcddf9a",
   "metadata": {
    "tags": []
   },
   "outputs": [
    {
     "name": "stdout",
     "output_type": "stream",
     "text": [
      "origination_charges\n",
      "1    22563\n",
      "2    19894\n",
      "3     9968\n",
      "4     6858\n",
      "5     4012\n",
      "6     2603\n",
      "7     2014\n",
      "8     1290\n",
      "Name: count, dtype: int64\n"
     ]
    }
   ],
   "source": [
    "print(df['origination_charges'].value_counts())"
   ]
  },
  {
   "cell_type": "code",
   "execution_count": 17,
   "id": "65fe64dd-0d1e-4fd9-8dae-db745d78d48d",
   "metadata": {
    "tags": []
   },
   "outputs": [
    {
     "name": "stdout",
     "output_type": "stream",
     "text": [
      "total_loan_costs\n",
      "2500-3000    9268\n",
      "3000-3500    9155\n",
      "3500-4000    7352\n",
      "500-1000     7271\n",
      "2000-2500    6135\n",
      "4000-4500    5353\n",
      "0-500        4476\n",
      "4500-5000    4201\n",
      "1500-2000    3385\n",
      "5000-5500    3118\n",
      "1000-1500    2618\n",
      "5500-6000    2160\n",
      "6000-6500    1479\n",
      "6500-7000    1098\n",
      "7000-7500     795\n",
      "7500-8000     647\n",
      "8000-8500     463\n",
      "8500-9000     228\n",
      "Name: count, dtype: int64\n"
     ]
    }
   ],
   "source": [
    "print(df['total_loan_costs'].value_counts())"
   ]
  },
  {
   "cell_type": "code",
   "execution_count": 18,
   "id": "e583d723-de61-4208-bf51-af7482ca9f56",
   "metadata": {},
   "outputs": [],
   "source": [
    "# Define a dictionary to map the total_loan_costs categories to numerical values\n",
    "total_loan_costs_mapping = {\n",
    "    '2500-3000': 1,\n",
    "    '3000-3500': 2,\n",
    "    '3500-4000': 3,\n",
    "    '500-1000': 4,\n",
    "    '2000-2500': 5,\n",
    "    '4000-4500': 6,\n",
    "    '0-500': 7,\n",
    "    '4500-5000': 8,\n",
    "    '1500-2000': 9,\n",
    "    '5000-5500': 10,\n",
    "    '1000-1500': 11,\n",
    "    '5500-6000': 12,\n",
    "    '6000-6500': 13,\n",
    "    '6500-7000': 14,\n",
    "    '7000-7500': 15,\n",
    "    '7500-8000': 16,\n",
    "    '8000-8500': 17,\n",
    "    '8500-9000': 18\n",
    "}\n",
    "\n",
    "# Map the values to the 'origination_charges' column\n",
    "df['total_loan_costs'] = df['total_loan_costs'].map(total_loan_costs_mapping)"
   ]
  },
  {
   "cell_type": "code",
   "execution_count": 19,
   "id": "70288add-b4fd-46c6-8e06-222fc73f5963",
   "metadata": {},
   "outputs": [
    {
     "name": "stdout",
     "output_type": "stream",
     "text": [
      "total_loan_costs\n",
      "1     9268\n",
      "2     9155\n",
      "3     7352\n",
      "4     7271\n",
      "5     6135\n",
      "6     5353\n",
      "7     4476\n",
      "8     4201\n",
      "9     3385\n",
      "10    3118\n",
      "11    2618\n",
      "12    2160\n",
      "13    1479\n",
      "14    1098\n",
      "15     795\n",
      "16     647\n",
      "17     463\n",
      "18     228\n",
      "Name: count, dtype: int64\n"
     ]
    }
   ],
   "source": [
    "print(df['total_loan_costs'].value_counts())"
   ]
  },
  {
   "cell_type": "code",
   "execution_count": 20,
   "id": "dad96d8b-a21a-47f0-916c-29f732f92301",
   "metadata": {
    "tags": []
   },
   "outputs": [
    {
     "name": "stdout",
     "output_type": "stream",
     "text": [
      "combined_loan_to_value_ratio\n",
      "75.0-80.0      17325\n",
      "70.0-75.0       7508\n",
      "95.0-100.0      6443\n",
      "65.0-70.0       5792\n",
      "90.0-95.0       5121\n",
      "85.0-90.0       4504\n",
      "55.0-60.0       4377\n",
      "60.0-65.0       3527\n",
      "50.0-55.0       2937\n",
      "80.0-85.0       2784\n",
      "45.0-50.0       2652\n",
      "40.0-45.0       1915\n",
      "35.0-40.0       1613\n",
      "30.0-35.0       1177\n",
      "25.0-30.0        861\n",
      "100.0-120.0      337\n",
      "0.0-25.0         329\n",
      "Name: count, dtype: int64\n"
     ]
    }
   ],
   "source": [
    "print(df['combined_loan_to_value_ratio'].value_counts())"
   ]
  },
  {
   "cell_type": "code",
   "execution_count": 21,
   "id": "a41a9e65-fbe7-47ea-aa0a-5953a03ec724",
   "metadata": {},
   "outputs": [],
   "source": [
    "# Define a dictionary to map the combined_loan_to_value_ratio categories to numerical values\n",
    "combined_loan_to_value_ratio_mapping = {\n",
    "    '75.0-80.0': 1,\n",
    "    '70.0-75.0': 2,\n",
    "    '95.0-100.0': 3,\n",
    "    '65.0-70.0': 4,\n",
    "    '90.0-95.0': 5,\n",
    "    '85.0-90.0': 6,\n",
    "    '55.0-60.0': 7,\n",
    "    '60.0-65.0': 8,\n",
    "    '50.0-55.0': 9,\n",
    "    '80.0-85.0': 10,\n",
    "    '45.0-50.0': 11,\n",
    "    '40.0-45.0': 12,\n",
    "    '35.0-40.0': 13,\n",
    "    '30.0-35.0': 14,\n",
    "    '25.0-30.0': 15,\n",
    "    '100.0-120.0': 16,\n",
    "    '0.0-25.0': 17\n",
    "}\n",
    "\n",
    "\n",
    "# Map the values to the 'combined_loan_to_value_ratio' column\n",
    "df['combined_loan_to_value_ratio'] = df['combined_loan_to_value_ratio'].map(combined_loan_to_value_ratio_mapping)"
   ]
  },
  {
   "cell_type": "code",
   "execution_count": 22,
   "id": "8dd4beae-7e33-40ca-baf4-6bbf7d6d62ae",
   "metadata": {},
   "outputs": [
    {
     "name": "stdout",
     "output_type": "stream",
     "text": [
      "combined_loan_to_value_ratio\n",
      "1     17325\n",
      "2      7508\n",
      "3      6443\n",
      "4      5792\n",
      "5      5121\n",
      "6      4504\n",
      "7      4377\n",
      "8      3527\n",
      "9      2937\n",
      "10     2784\n",
      "11     2652\n",
      "12     1915\n",
      "13     1613\n",
      "14     1177\n",
      "15      861\n",
      "16      337\n",
      "17      329\n",
      "Name: count, dtype: int64\n"
     ]
    }
   ],
   "source": [
    "print(df['combined_loan_to_value_ratio'].value_counts())"
   ]
  },
  {
   "cell_type": "code",
   "execution_count": 23,
   "id": "8774f427-0043-486f-aca6-1bfc248fd12e",
   "metadata": {
    "tags": []
   },
   "outputs": [
    {
     "name": "stdout",
     "output_type": "stream",
     "text": [
      "<class 'pandas.core.frame.DataFrame'>\n",
      "RangeIndex: 69202 entries, 0 to 69201\n",
      "Data columns (total 36 columns):\n",
      " #   Column                                    Non-Null Count  Dtype  \n",
      "---  ------                                    --------------  -----  \n",
      " 0   census_tract                              69197 non-null  float64\n",
      " 1   action_taken                              69202 non-null  int64  \n",
      " 2   loan_type                                 69202 non-null  int64  \n",
      " 3   lien_status                               69202 non-null  int64  \n",
      " 4   reverse_mortgage                          69202 non-null  int64  \n",
      " 5   open_end_line_of_credit                   69202 non-null  int64  \n",
      " 6   loan_amount                               69202 non-null  int64  \n",
      " 7   combined_loan_to_value_ratio              69202 non-null  int64  \n",
      " 8   interest_rate                             69199 non-null  float64\n",
      " 9   total_loan_costs                          69202 non-null  int64  \n",
      " 10  origination_charges                       69202 non-null  int64  \n",
      " 11  loan_term                                 69199 non-null  float64\n",
      " 12  negative_amortization                     69202 non-null  int64  \n",
      " 13  interest_only_payment                     69202 non-null  int64  \n",
      " 14  balloon_payment                           69202 non-null  int64  \n",
      " 15  other_nonamortizing_features              69202 non-null  int64  \n",
      " 16  property_value                            69202 non-null  float64\n",
      " 17  occupancy_type                            69202 non-null  int64  \n",
      " 18  manufactured_home_secured_property_type   69202 non-null  int64  \n",
      " 19  manufactured_home_land_property_interest  69202 non-null  int64  \n",
      " 20  total_units                               69202 non-null  int64  \n",
      " 21  income                                    66868 non-null  float64\n",
      " 22  debt_to_income_ratio                      69202 non-null  int64  \n",
      " 23  applicant_credit_score_type               69202 non-null  int64  \n",
      " 24  co_applicant_credit_score_type            69202 non-null  int64  \n",
      " 25  applicant_sex                             69202 non-null  int64  \n",
      " 26  co_applicant_sex                          69202 non-null  int64  \n",
      " 27  applicant_age                             69202 non-null  int64  \n",
      " 28  co_applicant_age                          69202 non-null  int64  \n",
      " 29  aus_1                                     69202 non-null  int64  \n",
      " 30  applicant_race_1                          56757 non-null  float64\n",
      " 31  applicant_race_2                          542 non-null    float64\n",
      " 32  co_applicant_race_1                       28814 non-null  float64\n",
      " 33  co_applicant_race_2                       201 non-null    float64\n",
      " 34  applicant_ethnicity_1                     64164 non-null  float64\n",
      " 35  co_applicant_ethnicity_1                  32900 non-null  float64\n",
      "dtypes: float64(11), int64(25)\n",
      "memory usage: 19.0 MB\n"
     ]
    }
   ],
   "source": [
    "df.info()"
   ]
  },
  {
   "cell_type": "code",
   "execution_count": 24,
   "id": "23f2d271-e46c-453f-9654-77060b30bea5",
   "metadata": {
    "tags": []
   },
   "outputs": [
    {
     "data": {
      "text/html": [
       "<div>\n",
       "<style scoped>\n",
       "    .dataframe tbody tr th:only-of-type {\n",
       "        vertical-align: middle;\n",
       "    }\n",
       "\n",
       "    .dataframe tbody tr th {\n",
       "        vertical-align: top;\n",
       "    }\n",
       "\n",
       "    .dataframe thead th {\n",
       "        text-align: right;\n",
       "    }\n",
       "</style>\n",
       "<table border=\"1\" class=\"dataframe\">\n",
       "  <thead>\n",
       "    <tr style=\"text-align: right;\">\n",
       "      <th></th>\n",
       "      <th>census_tract</th>\n",
       "      <th>action_taken</th>\n",
       "      <th>loan_type</th>\n",
       "      <th>lien_status</th>\n",
       "      <th>reverse_mortgage</th>\n",
       "      <th>open_end_line_of_credit</th>\n",
       "      <th>loan_amount</th>\n",
       "      <th>combined_loan_to_value_ratio</th>\n",
       "      <th>interest_rate</th>\n",
       "      <th>total_loan_costs</th>\n",
       "      <th>...</th>\n",
       "      <th>co_applicant_sex</th>\n",
       "      <th>applicant_age</th>\n",
       "      <th>co_applicant_age</th>\n",
       "      <th>aus_1</th>\n",
       "      <th>applicant_race_1</th>\n",
       "      <th>applicant_race_2</th>\n",
       "      <th>co_applicant_race_1</th>\n",
       "      <th>co_applicant_race_2</th>\n",
       "      <th>applicant_ethnicity_1</th>\n",
       "      <th>co_applicant_ethnicity_1</th>\n",
       "    </tr>\n",
       "  </thead>\n",
       "  <tbody>\n",
       "    <tr>\n",
       "      <th>0</th>\n",
       "      <td>1.703175e+10</td>\n",
       "      <td>1</td>\n",
       "      <td>1</td>\n",
       "      <td>1</td>\n",
       "      <td>2</td>\n",
       "      <td>2</td>\n",
       "      <td>225000</td>\n",
       "      <td>1</td>\n",
       "      <td>6.0</td>\n",
       "      <td>1</td>\n",
       "      <td>...</td>\n",
       "      <td>5</td>\n",
       "      <td>1</td>\n",
       "      <td>6</td>\n",
       "      <td>5</td>\n",
       "      <td>5.0</td>\n",
       "      <td>NaN</td>\n",
       "      <td>NaN</td>\n",
       "      <td>NaN</td>\n",
       "      <td>2.0</td>\n",
       "      <td>NaN</td>\n",
       "    </tr>\n",
       "    <tr>\n",
       "      <th>1</th>\n",
       "      <td>8.005086e+09</td>\n",
       "      <td>1</td>\n",
       "      <td>1</td>\n",
       "      <td>1</td>\n",
       "      <td>2</td>\n",
       "      <td>2</td>\n",
       "      <td>435000</td>\n",
       "      <td>2</td>\n",
       "      <td>5.0</td>\n",
       "      <td>9</td>\n",
       "      <td>...</td>\n",
       "      <td>2</td>\n",
       "      <td>1</td>\n",
       "      <td>0</td>\n",
       "      <td>1</td>\n",
       "      <td>5.0</td>\n",
       "      <td>NaN</td>\n",
       "      <td>5.0</td>\n",
       "      <td>NaN</td>\n",
       "      <td>2.0</td>\n",
       "      <td>2.0</td>\n",
       "    </tr>\n",
       "    <tr>\n",
       "      <th>2</th>\n",
       "      <td>2.400373e+10</td>\n",
       "      <td>1</td>\n",
       "      <td>1</td>\n",
       "      <td>1</td>\n",
       "      <td>2</td>\n",
       "      <td>2</td>\n",
       "      <td>555000</td>\n",
       "      <td>1</td>\n",
       "      <td>7.0</td>\n",
       "      <td>8</td>\n",
       "      <td>...</td>\n",
       "      <td>2</td>\n",
       "      <td>1</td>\n",
       "      <td>1</td>\n",
       "      <td>6</td>\n",
       "      <td>5.0</td>\n",
       "      <td>NaN</td>\n",
       "      <td>5.0</td>\n",
       "      <td>NaN</td>\n",
       "      <td>2.0</td>\n",
       "      <td>2.0</td>\n",
       "    </tr>\n",
       "    <tr>\n",
       "      <th>3</th>\n",
       "      <td>3.500500e+10</td>\n",
       "      <td>1</td>\n",
       "      <td>1</td>\n",
       "      <td>1</td>\n",
       "      <td>2</td>\n",
       "      <td>2</td>\n",
       "      <td>85000</td>\n",
       "      <td>2</td>\n",
       "      <td>7.0</td>\n",
       "      <td>2</td>\n",
       "      <td>...</td>\n",
       "      <td>5</td>\n",
       "      <td>0</td>\n",
       "      <td>6</td>\n",
       "      <td>1</td>\n",
       "      <td>5.0</td>\n",
       "      <td>NaN</td>\n",
       "      <td>NaN</td>\n",
       "      <td>NaN</td>\n",
       "      <td>1.0</td>\n",
       "      <td>NaN</td>\n",
       "    </tr>\n",
       "    <tr>\n",
       "      <th>4</th>\n",
       "      <td>2.401785e+10</td>\n",
       "      <td>1</td>\n",
       "      <td>1</td>\n",
       "      <td>1</td>\n",
       "      <td>2</td>\n",
       "      <td>2</td>\n",
       "      <td>225000</td>\n",
       "      <td>2</td>\n",
       "      <td>5.0</td>\n",
       "      <td>5</td>\n",
       "      <td>...</td>\n",
       "      <td>5</td>\n",
       "      <td>1</td>\n",
       "      <td>6</td>\n",
       "      <td>1</td>\n",
       "      <td>5.0</td>\n",
       "      <td>NaN</td>\n",
       "      <td>NaN</td>\n",
       "      <td>NaN</td>\n",
       "      <td>2.0</td>\n",
       "      <td>NaN</td>\n",
       "    </tr>\n",
       "  </tbody>\n",
       "</table>\n",
       "<p>5 rows × 36 columns</p>\n",
       "</div>"
      ],
      "text/plain": [
       "   census_tract  action_taken  loan_type  lien_status  reverse_mortgage  \\\n",
       "0  1.703175e+10             1          1            1                 2   \n",
       "1  8.005086e+09             1          1            1                 2   \n",
       "2  2.400373e+10             1          1            1                 2   \n",
       "3  3.500500e+10             1          1            1                 2   \n",
       "4  2.401785e+10             1          1            1                 2   \n",
       "\n",
       "   open_end_line_of_credit  loan_amount  combined_loan_to_value_ratio  \\\n",
       "0                        2       225000                             1   \n",
       "1                        2       435000                             2   \n",
       "2                        2       555000                             1   \n",
       "3                        2        85000                             2   \n",
       "4                        2       225000                             2   \n",
       "\n",
       "   interest_rate  total_loan_costs  ...  co_applicant_sex  applicant_age  \\\n",
       "0            6.0                 1  ...                 5              1   \n",
       "1            5.0                 9  ...                 2              1   \n",
       "2            7.0                 8  ...                 2              1   \n",
       "3            7.0                 2  ...                 5              0   \n",
       "4            5.0                 5  ...                 5              1   \n",
       "\n",
       "   co_applicant_age  aus_1  applicant_race_1  applicant_race_2  \\\n",
       "0                 6      5               5.0               NaN   \n",
       "1                 0      1               5.0               NaN   \n",
       "2                 1      6               5.0               NaN   \n",
       "3                 6      1               5.0               NaN   \n",
       "4                 6      1               5.0               NaN   \n",
       "\n",
       "   co_applicant_race_1  co_applicant_race_2  applicant_ethnicity_1  \\\n",
       "0                  NaN                  NaN                    2.0   \n",
       "1                  5.0                  NaN                    2.0   \n",
       "2                  5.0                  NaN                    2.0   \n",
       "3                  NaN                  NaN                    1.0   \n",
       "4                  NaN                  NaN                    2.0   \n",
       "\n",
       "   co_applicant_ethnicity_1  \n",
       "0                       NaN  \n",
       "1                       2.0  \n",
       "2                       2.0  \n",
       "3                       NaN  \n",
       "4                       NaN  \n",
       "\n",
       "[5 rows x 36 columns]"
      ]
     },
     "execution_count": 24,
     "metadata": {},
     "output_type": "execute_result"
    }
   ],
   "source": [
    "df.head()"
   ]
  },
  {
   "cell_type": "markdown",
   "id": "b0c5ab94-89b1-4816-b201-43235dbc73bd",
   "metadata": {},
   "source": [
    "# Make data the same data type"
   ]
  },
  {
   "cell_type": "markdown",
   "id": "d0f73bc6-c16a-4343-9819-245d104902e8",
   "metadata": {},
   "source": [
    "## Remove nan first"
   ]
  },
  {
   "cell_type": "code",
   "execution_count": 25,
   "id": "6a40d82f-72fb-4c75-bc09-c08f0b919b2f",
   "metadata": {
    "tags": []
   },
   "outputs": [
    {
     "name": "stdout",
     "output_type": "stream",
     "text": [
      "Columns with NaN values: ['census_tract', 'interest_rate', 'loan_term', 'income', 'applicant_race_1', 'applicant_race_2', 'co_applicant_race_1', 'co_applicant_race_2', 'applicant_ethnicity_1', 'co_applicant_ethnicity_1']\n"
     ]
    }
   ],
   "source": [
    "columns_with_nan = df.columns[df.isna().any()].tolist()\n",
    "print(\"Columns with NaN values:\", columns_with_nan)"
   ]
  },
  {
   "cell_type": "code",
   "execution_count": 26,
   "id": "aba596e3-cf7c-4b11-a6af-dd801e1a73c6",
   "metadata": {},
   "outputs": [],
   "source": [
    "# Specify columns with NaN values and their respective fill methods\n",
    "columns_to_fill = {\n",
    "    'census_tract': 'mode',  # Fill with mode\n",
    "    'interest_rate': 'mean',  # Fill with mean\n",
    "    'loan_term': 'mode',  # Fill with mode\n",
    "    'income': 'mean',  # Fill with mean\n",
    "    'applicant_race_1': 'mode',  # Fill with mode\n",
    "    'applicant_race_2': 'mode',  # Fill with mode\n",
    "    'co_applicant_race_1': 'mode',  # Fill with mode\n",
    "    'co_applicant_race_2': 'mode',  # Fill with mode\n",
    "    'applicant_ethnicity_1': 'mode',  # Fill with mode\n",
    "    'co_applicant_ethnicity_1': 'mode'  # Fill with mode\n",
    "}\n",
    "\n",
    "# Fill missing values according to the specified method for each column\n",
    "for column, fill_method in columns_to_fill.items():\n",
    "    if fill_method == 'mean':\n",
    "        mean_value = df[column].mean()\n",
    "        df[column].fillna(mean_value, inplace=True)\n",
    "    elif fill_method == 'mode':\n",
    "        mode_value = df[column].mode().values[0]\n",
    "        df[column].fillna(mode_value, inplace=True)\n",
    "    else:\n",
    "        df[column].fillna(fill_method, inplace=True)\n"
   ]
  },
  {
   "cell_type": "code",
   "execution_count": 27,
   "id": "b6cc11c2-7127-48c4-ab77-db509dbf6e9a",
   "metadata": {},
   "outputs": [
    {
     "name": "stdout",
     "output_type": "stream",
     "text": [
      "Columns with NaN values: []\n"
     ]
    }
   ],
   "source": [
    "columns_with_nan = df.columns[df.isna().any()].tolist()\n",
    "print(\"Columns with NaN values:\", columns_with_nan)"
   ]
  },
  {
   "cell_type": "code",
   "execution_count": 28,
   "id": "f52340de-5078-45cf-9874-d666462ae7f8",
   "metadata": {},
   "outputs": [
    {
     "name": "stdout",
     "output_type": "stream",
     "text": [
      "census_tract                                float32\n",
      "action_taken                                  int32\n",
      "loan_type                                     int32\n",
      "lien_status                                   int32\n",
      "reverse_mortgage                              int32\n",
      "open_end_line_of_credit                       int32\n",
      "loan_amount                                   int32\n",
      "combined_loan_to_value_ratio                  int32\n",
      "interest_rate                               float32\n",
      "total_loan_costs                              int32\n",
      "origination_charges                           int32\n",
      "loan_term                                     int32\n",
      "negative_amortization                         int32\n",
      "interest_only_payment                         int32\n",
      "balloon_payment                               int32\n",
      "other_nonamortizing_features                  int32\n",
      "property_value                              float32\n",
      "occupancy_type                                int32\n",
      "manufactured_home_secured_property_type       int32\n",
      "manufactured_home_land_property_interest      int32\n",
      "total_units                                   int32\n",
      "income                                      float32\n",
      "debt_to_income_ratio                          int32\n",
      "applicant_credit_score_type                   int32\n",
      "co_applicant_credit_score_type                int32\n",
      "applicant_sex                                 int32\n",
      "co_applicant_sex                              int32\n",
      "applicant_age                                 int32\n",
      "co_applicant_age                              int32\n",
      "aus_1                                         int32\n",
      "applicant_race_1                            float32\n",
      "applicant_race_2                            float32\n",
      "co_applicant_race_1                         float32\n",
      "co_applicant_race_2                         float32\n",
      "applicant_ethnicity_1                       float32\n",
      "co_applicant_ethnicity_1                    float32\n",
      "dtype: object\n"
     ]
    }
   ],
   "source": [
    "int32_columns = [\n",
    "    'action_taken', 'loan_type', 'lien_status', 'reverse_mortgage', 'open_end_line_of_credit', 'loan_amount',\n",
    "    'combined_loan_to_value_ratio', 'total_loan_costs', 'origination_charges', 'loan_term',\n",
    "    'negative_amortization', 'interest_only_payment', 'balloon_payment', 'other_nonamortizing_features',\n",
    "    'occupancy_type', 'manufactured_home_secured_property_type', 'manufactured_home_land_property_interest',\n",
    "    'total_units', 'debt_to_income_ratio', 'applicant_credit_score_type', 'co_applicant_credit_score_type',\n",
    "    'applicant_sex', 'co_applicant_sex', 'applicant_age', 'co_applicant_age', 'aus_1'\n",
    "]\n",
    "\n",
    "float32_columns = [\n",
    "    'census_tract', 'interest_rate', 'property_value', 'income', 'applicant_race_1', 'applicant_race_2',\n",
    "    'co_applicant_race_1', 'co_applicant_race_2', 'applicant_ethnicity_1', 'co_applicant_ethnicity_1'\n",
    "]\n",
    "\n",
    "\n",
    "\n",
    "for column in int32_columns:\n",
    "    df[column] = df[column].astype(np.int32)\n",
    "\n",
    "for column in float32_columns:\n",
    "    df[column] = df[column].astype(np.float32)\n",
    "\n",
    "# Verify the data types after conversion\n",
    "print(df.dtypes)"
   ]
  },
  {
   "cell_type": "code",
   "execution_count": 29,
   "id": "a60f632b-08bb-46c7-85cf-c235a4d7ffa8",
   "metadata": {
    "tags": []
   },
   "outputs": [],
   "source": [
    "df.to_csv('10_all_numerical.csv', index=False)"
   ]
  },
  {
   "cell_type": "code",
   "execution_count": null,
   "id": "f0ac2c87-506f-4a01-949b-ffab52fa90f8",
   "metadata": {},
   "outputs": [],
   "source": []
  },
  {
   "cell_type": "code",
   "execution_count": null,
   "id": "440e79a1-235f-447e-a283-3e671f4ac675",
   "metadata": {},
   "outputs": [],
   "source": []
  }
 ],
 "metadata": {
  "kernelspec": {
   "display_name": "Python 3 (ipykernel)",
   "language": "python",
   "name": "python3"
  },
  "language_info": {
   "codemirror_mode": {
    "name": "ipython",
    "version": 3
   },
   "file_extension": ".py",
   "mimetype": "text/x-python",
   "name": "python",
   "nbconvert_exporter": "python",
   "pygments_lexer": "ipython3",
   "version": "3.9.18"
  }
 },
 "nbformat": 4,
 "nbformat_minor": 5
}
