{
 "cells": [
  {
   "cell_type": "code",
   "execution_count": 1,
   "id": "236fe6aa-a953-40d2-830b-d6a8db58d7b5",
   "metadata": {
    "tags": []
   },
   "outputs": [],
   "source": [
    "import warnings\n",
    "import numpy as np\n",
    "import pandas as pd\n",
    "import seaborn as sns\n",
    "import matplotlib.pyplot as plt\n",
    "import seaborn as sns\n",
    "from sklearn.preprocessing import LabelEncoder\n",
    "from itertools import product\n",
    "import matplotlib.pyplot as plt"
   ]
  },
  {
   "cell_type": "markdown",
   "id": "948cb308-612a-4da1-98c0-736da467816f",
   "metadata": {
    "tags": []
   },
   "source": [
    "# load dataset 9"
   ]
  },
  {
   "cell_type": "code",
   "execution_count": 2,
   "id": "c2a59209-78cf-4057-853f-b81f2fd701a6",
   "metadata": {
    "tags": []
   },
   "outputs": [],
   "source": [
    "df = pd.read_csv('9_loan_term.csv', low_memory=False)"
   ]
  },
  {
   "cell_type": "code",
   "execution_count": 3,
   "id": "c0c8023b-2960-4f5c-9e27-a3a5f0088ebc",
   "metadata": {},
   "outputs": [
    {
     "name": "stdout",
     "output_type": "stream",
     "text": [
      "Value counts for race after filtering:\n",
      "applicant_race_1\n",
      "5.0    46920\n",
      "3.0     2768\n",
      "Name: count, dtype: int64\n",
      "co_applicant_race_1\n",
      "5.0    46927\n",
      "3.0     2761\n",
      "Name: count, dtype: int64\n",
      "Value counts for ethnicity after filtering:\n",
      "applicant_ethnicity_1\n",
      "2.0    44272\n",
      "1.0     5416\n",
      "Name: count, dtype: int64\n",
      "co_applicant_ethnicity_1\n",
      "2.0    44071\n",
      "1.0     5617\n",
      "Name: count, dtype: int64\n"
     ]
    }
   ],
   "source": [
    "# Print the value counts for the filtered DataFrame\n",
    "print(\"Value counts for race after filtering:\")\n",
    "print(df['applicant_race_1'].value_counts())\n",
    "print(df['co_applicant_race_1'].value_counts())\n",
    "\n",
    "print(\"Value counts for ethnicity after filtering:\")\n",
    "print(df['applicant_ethnicity_1'].value_counts())\n",
    "print(df['co_applicant_ethnicity_1'].value_counts())"
   ]
  },
  {
   "cell_type": "code",
   "execution_count": 4,
   "id": "8cc5244b-35d6-4fe1-89a8-246bc1d67113",
   "metadata": {
    "tags": []
   },
   "outputs": [
    {
     "name": "stdout",
     "output_type": "stream",
     "text": [
      "<class 'pandas.core.frame.DataFrame'>\n",
      "RangeIndex: 49688 entries, 0 to 49687\n",
      "Data columns (total 35 columns):\n",
      " #   Column                                    Non-Null Count  Dtype  \n",
      "---  ------                                    --------------  -----  \n",
      " 0   census_tract                              49638 non-null  float64\n",
      " 1   action_taken                              49688 non-null  int64  \n",
      " 2   loan_type                                 49688 non-null  int64  \n",
      " 3   lien_status                               49688 non-null  int64  \n",
      " 4   reverse_mortgage                          49688 non-null  int64  \n",
      " 5   open_end_line_of_credit                   49688 non-null  int64  \n",
      " 6   loan_amount                               49688 non-null  int64  \n",
      " 7   combined_loan_to_value_ratio              49688 non-null  object \n",
      " 8   interest_rate                             49688 non-null  object \n",
      " 9   total_loan_costs                          49688 non-null  object \n",
      " 10  origination_charges                       49688 non-null  object \n",
      " 11  loan_term                                 49688 non-null  object \n",
      " 12  negative_amortization                     49688 non-null  int64  \n",
      " 13  interest_only_payment                     49688 non-null  int64  \n",
      " 14  balloon_payment                           49688 non-null  int64  \n",
      " 15  other_nonamortizing_features              49688 non-null  int64  \n",
      " 16  property_value                            49675 non-null  float64\n",
      " 17  occupancy_type                            49688 non-null  int64  \n",
      " 18  manufactured_home_secured_property_type   49688 non-null  int64  \n",
      " 19  manufactured_home_land_property_interest  49688 non-null  int64  \n",
      " 20  total_units                               49688 non-null  int64  \n",
      " 21  income                                    48126 non-null  float64\n",
      " 22  debt_to_income_ratio                      49482 non-null  object \n",
      " 23  applicant_credit_score_type               49688 non-null  int64  \n",
      " 24  co_applicant_credit_score_type            49688 non-null  int64  \n",
      " 25  applicant_ethnicity_1                     49688 non-null  float64\n",
      " 26  co_applicant_ethnicity_1                  49688 non-null  float64\n",
      " 27  applicant_race_1                          49688 non-null  float64\n",
      " 28  applicant_race_2                          215 non-null    float64\n",
      " 29  co_applicant_race_1                       49688 non-null  float64\n",
      " 30  co_applicant_race_2                       189 non-null    float64\n",
      " 31  applicant_sex                             49688 non-null  int64  \n",
      " 32  co_applicant_sex                          49688 non-null  int64  \n",
      " 33  applicant_age                             49688 non-null  int64  \n",
      " 34  co_applicant_age                          49688 non-null  int64  \n",
      "dtypes: float64(9), int64(20), object(6)\n",
      "memory usage: 13.3+ MB\n"
     ]
    }
   ],
   "source": [
    "df.info()"
   ]
  },
  {
   "cell_type": "code",
   "execution_count": 5,
   "id": "4015c8df-0159-47c2-aff1-9965217e7a07",
   "metadata": {
    "tags": []
   },
   "outputs": [
    {
     "name": "stdout",
     "output_type": "stream",
     "text": [
      "Index(['combined_loan_to_value_ratio', 'interest_rate', 'total_loan_costs',\n",
      "       'origination_charges', 'loan_term', 'debt_to_income_ratio'],\n",
      "      dtype='object')\n"
     ]
    }
   ],
   "source": [
    "# Select object (string) and category columns from your DataFrame\n",
    "object_category_columns = df.select_dtypes(include=['object'])\n",
    "\n",
    "# Print the names of the selected columns\n",
    "print(object_category_columns.columns)"
   ]
  },
  {
   "cell_type": "markdown",
   "id": "dcdc4a31-082c-4e53-a456-4ba261dc116c",
   "metadata": {},
   "source": [
    "# Convert interest_rate to numerical:"
   ]
  },
  {
   "cell_type": "code",
   "execution_count": 6,
   "id": "50a49a2d-08f8-4ada-8758-7c4b8a0759a0",
   "metadata": {
    "tags": []
   },
   "outputs": [
    {
     "name": "stdout",
     "output_type": "stream",
     "text": [
      "interest_rate\n",
      "3.5-4.0     31919\n",
      "4.0-4.5      6928\n",
      "3.0-3.5      5076\n",
      "4.5-5.0      2800\n",
      "2.0-3.0      1489\n",
      "5.0-6.0      1307\n",
      "6.0-7.0       142\n",
      "8.0-9.0        11\n",
      "7.0-8.0         8\n",
      "1.0-2.0         7\n",
      "9.9-15.0        1\n",
      "Name: count, dtype: int64\n"
     ]
    }
   ],
   "source": [
    "print(df['interest_rate'].value_counts())"
   ]
  },
  {
   "cell_type": "code",
   "execution_count": 7,
   "id": "969677e4-e487-4786-bca2-d52473334825",
   "metadata": {},
   "outputs": [],
   "source": [
    "# Define a dictionary to map the interest rate categories to numerical values\n",
    "interest_rate_mapping = {\n",
    "    '0.0-1.0': 1,\n",
    "    '1.0-2.0': 2,\n",
    "    '2.0-3.0': 3,\n",
    "    '3.0-3.5': 4,\n",
    "    '3.5-4.0': 5,\n",
    "    '4.0-4.5': 6,\n",
    "    '4.5-5.0': 7,\n",
    "    '5.0-6.0': 8,\n",
    "    '6.0-7.0': 9,\n",
    "    '7.0-8.0': 10,\n",
    "    '8.0-9.0': 11\n",
    "}\n",
    "\n",
    "# Map the values to the 'interest_rate' column\n",
    "df['interest_rate'] = df['interest_rate'].map(interest_rate_mapping)"
   ]
  },
  {
   "cell_type": "code",
   "execution_count": 8,
   "id": "9ba40bbc-d9a3-4257-a41d-7a7404b589e9",
   "metadata": {
    "tags": []
   },
   "outputs": [
    {
     "name": "stdout",
     "output_type": "stream",
     "text": [
      "interest_rate\n",
      "5.0     31919\n",
      "6.0      6928\n",
      "4.0      5076\n",
      "7.0      2800\n",
      "3.0      1489\n",
      "8.0      1307\n",
      "9.0       142\n",
      "11.0       11\n",
      "10.0        8\n",
      "2.0         7\n",
      "Name: count, dtype: int64\n"
     ]
    }
   ],
   "source": [
    "print(df['interest_rate'].value_counts())"
   ]
  },
  {
   "cell_type": "markdown",
   "id": "77de6591-88b1-4bb3-b97c-1a8c1d97143c",
   "metadata": {},
   "source": [
    "# Convert loan_term to numerical:"
   ]
  },
  {
   "cell_type": "code",
   "execution_count": 9,
   "id": "90f9b98e-0e00-45a2-b962-f93b1039fab3",
   "metadata": {
    "tags": []
   },
   "outputs": [
    {
     "name": "stdout",
     "output_type": "stream",
     "text": [
      "loan_term\n",
      "27-31 years    38575\n",
      "12-16 years     7074\n",
      "17-21 years     2943\n",
      "7-11 years       848\n",
      "22-26 years      173\n",
      "2-6 years         70\n",
      "37-41 years        2\n",
      "1-2 years          1\n",
      "32-36 years        1\n",
      "0-1 years          1\n",
      "Name: count, dtype: int64\n"
     ]
    }
   ],
   "source": [
    "print(df['loan_term'].value_counts())"
   ]
  },
  {
   "cell_type": "code",
   "execution_count": 10,
   "id": "83e3b9eb-2aa3-4e43-af93-9b086c5181d1",
   "metadata": {},
   "outputs": [],
   "source": [
    "# Define a dictionary to map the loan term categories to numerical values\n",
    "loan_term_mapping = {\n",
    "    '2-6 years': 1,\n",
    "    '7-11 years': 2,\n",
    "    '12-16 years': 3,\n",
    "    '17-21 years': 4,\n",
    "    '22-26 years': 5,\n",
    "    '27-31 years': 6,\n",
    "    '37-41 years': 7\n",
    "}\n",
    "\n",
    "# Map the values to the 'loan_term' column\n",
    "df['loan_term'] = df['loan_term'].map(loan_term_mapping)"
   ]
  },
  {
   "cell_type": "code",
   "execution_count": 11,
   "id": "815ec644-ce1b-401e-b8a4-bbe1e3e786a5",
   "metadata": {
    "tags": []
   },
   "outputs": [
    {
     "name": "stdout",
     "output_type": "stream",
     "text": [
      "loan_term\n",
      "6.0    38575\n",
      "3.0     7074\n",
      "4.0     2943\n",
      "2.0      848\n",
      "5.0      173\n",
      "1.0       70\n",
      "7.0        2\n",
      "Name: count, dtype: int64\n"
     ]
    }
   ],
   "source": [
    "print(df['loan_term'].value_counts())"
   ]
  },
  {
   "cell_type": "markdown",
   "id": "354eb582-6ddd-4b11-85ec-72f21465048e",
   "metadata": {},
   "source": [
    "# Convert debt_to_income_ratio to numerical:"
   ]
  },
  {
   "cell_type": "code",
   "execution_count": 12,
   "id": "550ae80e-3750-45c4-9810-668e4e35e0e1",
   "metadata": {
    "tags": []
   },
   "outputs": [
    {
     "name": "stdout",
     "output_type": "stream",
     "text": [
      "debt_to_income_ratio\n",
      "36%-50%     18584\n",
      "20%-<30%    10640\n",
      "30%-<36%     8793\n",
      ">60%         4183\n",
      "<20%         4045\n",
      "50%-60%      3237\n",
      "Name: count, dtype: int64\n"
     ]
    }
   ],
   "source": [
    "print(df['debt_to_income_ratio'].value_counts())"
   ]
  },
  {
   "cell_type": "code",
   "execution_count": 13,
   "id": "d83665e9-0193-45f6-b442-c2e42085315b",
   "metadata": {},
   "outputs": [],
   "source": [
    "# Define a dictionary to map the debt to income ratio categories to numerical values\n",
    "debt_to_income_mapping = {\n",
    "    '<20%': 1,\n",
    "    '20%-<30%': 2,\n",
    "    '30%-<36%': 3,\n",
    "    '36%-50%': 4,\n",
    "    '50%-60%': 5,\n",
    "    '>60%': 6\n",
    "}\n",
    "\n",
    "# Map the values to the 'debt_to_income_ratio' column\n",
    "df['debt_to_income_ratio'] = df['debt_to_income_ratio'].map(debt_to_income_mapping)"
   ]
  },
  {
   "cell_type": "code",
   "execution_count": 14,
   "id": "178e1323-367c-413b-9e7f-f5594ef11908",
   "metadata": {
    "tags": []
   },
   "outputs": [
    {
     "name": "stdout",
     "output_type": "stream",
     "text": [
      "debt_to_income_ratio\n",
      "4.0    18584\n",
      "2.0    10640\n",
      "3.0     8793\n",
      "6.0     4183\n",
      "1.0     4045\n",
      "5.0     3237\n",
      "Name: count, dtype: int64\n"
     ]
    }
   ],
   "source": [
    "print(df['debt_to_income_ratio'].value_counts())"
   ]
  },
  {
   "cell_type": "code",
   "execution_count": 15,
   "id": "d86fdf9b-69c7-40fe-8f1a-d4b921979ab8",
   "metadata": {
    "tags": []
   },
   "outputs": [
    {
     "name": "stdout",
     "output_type": "stream",
     "text": [
      "origination_charges\n",
      "Other        21712\n",
      "0-500         8779\n",
      "1000-1500     7929\n",
      "500-1000      4263\n",
      "1500-2000     2734\n",
      "2000-2500     1619\n",
      "2500-3000     1104\n",
      "3000-3500      878\n",
      "3500-4000      643\n",
      "4000-4500       27\n",
      "Name: count, dtype: int64\n"
     ]
    }
   ],
   "source": [
    "print(df['origination_charges'].value_counts())"
   ]
  },
  {
   "cell_type": "code",
   "execution_count": 16,
   "id": "edc60d85-3424-40e3-bfe7-0e9ef1d55023",
   "metadata": {},
   "outputs": [],
   "source": [
    "# Define a dictionary to map the origination_charges categories to numerical values\n",
    "origination_charges_mapping = {\n",
    "    '0-500': 1,\n",
    "    '1000-1500': 2,\n",
    "    '500-1000': 3,\n",
    "    '1500-2000': 4,\n",
    "    '2000-2500': 5,\n",
    "    '2500-3000': 6,\n",
    "    '3000-3500': 7,\n",
    "    '3500-4000': 8\n",
    "}\n",
    "\n",
    "# Map the values to the 'origination_charges' column\n",
    "df['origination_charges'] = df['origination_charges'].map(origination_charges_mapping)"
   ]
  },
  {
   "cell_type": "code",
   "execution_count": 17,
   "id": "24bdcec9-f29d-4598-9d7b-12b8cbcddf9a",
   "metadata": {
    "tags": []
   },
   "outputs": [
    {
     "name": "stdout",
     "output_type": "stream",
     "text": [
      "origination_charges\n",
      "1.0    8779\n",
      "2.0    7929\n",
      "3.0    4263\n",
      "4.0    2734\n",
      "5.0    1619\n",
      "6.0    1104\n",
      "7.0     878\n",
      "8.0     643\n",
      "Name: count, dtype: int64\n"
     ]
    }
   ],
   "source": [
    "print(df['origination_charges'].value_counts())"
   ]
  },
  {
   "cell_type": "code",
   "execution_count": 18,
   "id": "65fe64dd-0d1e-4fd9-8dae-db745d78d48d",
   "metadata": {
    "tags": []
   },
   "outputs": [
    {
     "name": "stdout",
     "output_type": "stream",
     "text": [
      "total_loan_costs\n",
      "Other        21712\n",
      "3000-3500     3703\n",
      "2500-3000     3660\n",
      "3500-4000     2986\n",
      "500-1000      2622\n",
      "2000-2500     2544\n",
      "4000-4500     2300\n",
      "4500-5000     1787\n",
      "0-500         1723\n",
      "5000-5500     1348\n",
      "1500-2000     1319\n",
      "1000-1500     1066\n",
      "5500-6000      945\n",
      "6000-6500      590\n",
      "6500-7000      475\n",
      "7000-7500      307\n",
      "7500-8000      249\n",
      "8000-8500      189\n",
      "8500-9000      156\n",
      "9000-9500        7\n",
      "Name: count, dtype: int64\n"
     ]
    }
   ],
   "source": [
    "print(df['total_loan_costs'].value_counts())"
   ]
  },
  {
   "cell_type": "code",
   "execution_count": 19,
   "id": "e583d723-de61-4208-bf51-af7482ca9f56",
   "metadata": {},
   "outputs": [],
   "source": [
    "# Define a dictionary to map the total_loan_costs categories to numerical values\n",
    "total_loan_costs_mapping = {\n",
    "    '2500-3000': 1,\n",
    "    '3000-3500': 2,\n",
    "    '3500-4000': 3,\n",
    "    '500-1000': 4,\n",
    "    '2000-2500': 5,\n",
    "    '4000-4500': 6,\n",
    "    '0-500': 7,\n",
    "    '4500-5000': 8,\n",
    "    '1500-2000': 9,\n",
    "    '5000-5500': 10,\n",
    "    '1000-1500': 11,\n",
    "    '5500-6000': 12,\n",
    "    '6000-6500': 13,\n",
    "    '6500-7000': 14,\n",
    "    '7000-7500': 15,\n",
    "    '7500-8000': 16,\n",
    "    '8000-8500': 17,\n",
    "    '8500-9000': 18\n",
    "}\n",
    "\n",
    "# Map the values to the 'origination_charges' column\n",
    "df['total_loan_costs'] = df['total_loan_costs'].map(total_loan_costs_mapping)"
   ]
  },
  {
   "cell_type": "code",
   "execution_count": 20,
   "id": "70288add-b4fd-46c6-8e06-222fc73f5963",
   "metadata": {},
   "outputs": [
    {
     "name": "stdout",
     "output_type": "stream",
     "text": [
      "total_loan_costs\n",
      "2.0     3703\n",
      "1.0     3660\n",
      "3.0     2986\n",
      "4.0     2622\n",
      "5.0     2544\n",
      "6.0     2300\n",
      "8.0     1787\n",
      "7.0     1723\n",
      "10.0    1348\n",
      "9.0     1319\n",
      "11.0    1066\n",
      "12.0     945\n",
      "13.0     590\n",
      "14.0     475\n",
      "15.0     307\n",
      "16.0     249\n",
      "17.0     189\n",
      "18.0     156\n",
      "Name: count, dtype: int64\n"
     ]
    }
   ],
   "source": [
    "print(df['total_loan_costs'].value_counts())"
   ]
  },
  {
   "cell_type": "code",
   "execution_count": 21,
   "id": "dad96d8b-a21a-47f0-916c-29f732f92301",
   "metadata": {
    "tags": []
   },
   "outputs": [
    {
     "name": "stdout",
     "output_type": "stream",
     "text": [
      "combined_loan_to_value_ratio\n",
      "75.0-80.0      11897\n",
      "70.0-75.0       5175\n",
      "95.0-100.0      4326\n",
      "65.0-70.0       4219\n",
      "90.0-95.0       3378\n",
      "85.0-90.0       3315\n",
      "55.0-60.0       3255\n",
      "60.0-65.0       2714\n",
      "80.0-85.0       2496\n",
      "50.0-55.0       2079\n",
      "45.0-50.0       1951\n",
      "40.0-45.0       1437\n",
      "35.0-40.0       1118\n",
      "100.0-120.0      926\n",
      "30.0-35.0        891\n",
      "25.0-30.0        511\n",
      "Name: count, dtype: int64\n"
     ]
    }
   ],
   "source": [
    "print(df['combined_loan_to_value_ratio'].value_counts())"
   ]
  },
  {
   "cell_type": "code",
   "execution_count": 22,
   "id": "a41a9e65-fbe7-47ea-aa0a-5953a03ec724",
   "metadata": {},
   "outputs": [],
   "source": [
    "# Define a dictionary to map the combined_loan_to_value_ratio categories to numerical values\n",
    "combined_loan_to_value_ratio_mapping = {\n",
    "    '75.0-80.0': 1,\n",
    "    '70.0-75.0': 2,\n",
    "    '95.0-100.0': 3,\n",
    "    '65.0-70.0': 4,\n",
    "    '90.0-95.0': 5,\n",
    "    '85.0-90.0': 6,\n",
    "    '55.0-60.0': 7,\n",
    "    '60.0-65.0': 8,\n",
    "    '50.0-55.0': 9,\n",
    "    '80.0-85.0': 10,\n",
    "    '45.0-50.0': 11,\n",
    "    '40.0-45.0': 12,\n",
    "    '35.0-40.0': 13,\n",
    "    '30.0-35.0': 14,\n",
    "    '25.0-30.0': 15,\n",
    "    '100.0-120.0': 16,\n",
    "    '0.0-25.0': 17\n",
    "}\n",
    "\n",
    "\n",
    "# Map the values to the 'combined_loan_to_value_ratio' column\n",
    "df['combined_loan_to_value_ratio'] = df['combined_loan_to_value_ratio'].map(combined_loan_to_value_ratio_mapping)"
   ]
  },
  {
   "cell_type": "code",
   "execution_count": 23,
   "id": "8dd4beae-7e33-40ca-baf4-6bbf7d6d62ae",
   "metadata": {},
   "outputs": [
    {
     "name": "stdout",
     "output_type": "stream",
     "text": [
      "combined_loan_to_value_ratio\n",
      "1     11897\n",
      "2      5175\n",
      "3      4326\n",
      "4      4219\n",
      "5      3378\n",
      "6      3315\n",
      "7      3255\n",
      "8      2714\n",
      "10     2496\n",
      "9      2079\n",
      "11     1951\n",
      "12     1437\n",
      "13     1118\n",
      "16      926\n",
      "14      891\n",
      "15      511\n",
      "Name: count, dtype: int64\n"
     ]
    }
   ],
   "source": [
    "print(df['combined_loan_to_value_ratio'].value_counts())"
   ]
  },
  {
   "cell_type": "code",
   "execution_count": 24,
   "id": "8774f427-0043-486f-aca6-1bfc248fd12e",
   "metadata": {
    "tags": []
   },
   "outputs": [
    {
     "name": "stdout",
     "output_type": "stream",
     "text": [
      "<class 'pandas.core.frame.DataFrame'>\n",
      "RangeIndex: 49688 entries, 0 to 49687\n",
      "Data columns (total 35 columns):\n",
      " #   Column                                    Non-Null Count  Dtype  \n",
      "---  ------                                    --------------  -----  \n",
      " 0   census_tract                              49638 non-null  float64\n",
      " 1   action_taken                              49688 non-null  int64  \n",
      " 2   loan_type                                 49688 non-null  int64  \n",
      " 3   lien_status                               49688 non-null  int64  \n",
      " 4   reverse_mortgage                          49688 non-null  int64  \n",
      " 5   open_end_line_of_credit                   49688 non-null  int64  \n",
      " 6   loan_amount                               49688 non-null  int64  \n",
      " 7   combined_loan_to_value_ratio              49688 non-null  int64  \n",
      " 8   interest_rate                             49687 non-null  float64\n",
      " 9   total_loan_costs                          27969 non-null  float64\n",
      " 10  origination_charges                       27949 non-null  float64\n",
      " 11  loan_term                                 49685 non-null  float64\n",
      " 12  negative_amortization                     49688 non-null  int64  \n",
      " 13  interest_only_payment                     49688 non-null  int64  \n",
      " 14  balloon_payment                           49688 non-null  int64  \n",
      " 15  other_nonamortizing_features              49688 non-null  int64  \n",
      " 16  property_value                            49675 non-null  float64\n",
      " 17  occupancy_type                            49688 non-null  int64  \n",
      " 18  manufactured_home_secured_property_type   49688 non-null  int64  \n",
      " 19  manufactured_home_land_property_interest  49688 non-null  int64  \n",
      " 20  total_units                               49688 non-null  int64  \n",
      " 21  income                                    48126 non-null  float64\n",
      " 22  debt_to_income_ratio                      49482 non-null  float64\n",
      " 23  applicant_credit_score_type               49688 non-null  int64  \n",
      " 24  co_applicant_credit_score_type            49688 non-null  int64  \n",
      " 25  applicant_ethnicity_1                     49688 non-null  float64\n",
      " 26  co_applicant_ethnicity_1                  49688 non-null  float64\n",
      " 27  applicant_race_1                          49688 non-null  float64\n",
      " 28  applicant_race_2                          215 non-null    float64\n",
      " 29  co_applicant_race_1                       49688 non-null  float64\n",
      " 30  co_applicant_race_2                       189 non-null    float64\n",
      " 31  applicant_sex                             49688 non-null  int64  \n",
      " 32  co_applicant_sex                          49688 non-null  int64  \n",
      " 33  applicant_age                             49688 non-null  int64  \n",
      " 34  co_applicant_age                          49688 non-null  int64  \n",
      "dtypes: float64(14), int64(21)\n",
      "memory usage: 13.3 MB\n"
     ]
    }
   ],
   "source": [
    "df.info()"
   ]
  },
  {
   "cell_type": "code",
   "execution_count": 25,
   "id": "23f2d271-e46c-453f-9654-77060b30bea5",
   "metadata": {
    "tags": []
   },
   "outputs": [
    {
     "data": {
      "text/html": [
       "<div>\n",
       "<style scoped>\n",
       "    .dataframe tbody tr th:only-of-type {\n",
       "        vertical-align: middle;\n",
       "    }\n",
       "\n",
       "    .dataframe tbody tr th {\n",
       "        vertical-align: top;\n",
       "    }\n",
       "\n",
       "    .dataframe thead th {\n",
       "        text-align: right;\n",
       "    }\n",
       "</style>\n",
       "<table border=\"1\" class=\"dataframe\">\n",
       "  <thead>\n",
       "    <tr style=\"text-align: right;\">\n",
       "      <th></th>\n",
       "      <th>census_tract</th>\n",
       "      <th>action_taken</th>\n",
       "      <th>loan_type</th>\n",
       "      <th>lien_status</th>\n",
       "      <th>reverse_mortgage</th>\n",
       "      <th>open_end_line_of_credit</th>\n",
       "      <th>loan_amount</th>\n",
       "      <th>combined_loan_to_value_ratio</th>\n",
       "      <th>interest_rate</th>\n",
       "      <th>total_loan_costs</th>\n",
       "      <th>...</th>\n",
       "      <th>applicant_ethnicity_1</th>\n",
       "      <th>co_applicant_ethnicity_1</th>\n",
       "      <th>applicant_race_1</th>\n",
       "      <th>applicant_race_2</th>\n",
       "      <th>co_applicant_race_1</th>\n",
       "      <th>co_applicant_race_2</th>\n",
       "      <th>applicant_sex</th>\n",
       "      <th>co_applicant_sex</th>\n",
       "      <th>applicant_age</th>\n",
       "      <th>co_applicant_age</th>\n",
       "    </tr>\n",
       "  </thead>\n",
       "  <tbody>\n",
       "    <tr>\n",
       "      <th>0</th>\n",
       "      <td>4.201710e+10</td>\n",
       "      <td>3</td>\n",
       "      <td>3</td>\n",
       "      <td>1</td>\n",
       "      <td>2</td>\n",
       "      <td>2</td>\n",
       "      <td>205000</td>\n",
       "      <td>16</td>\n",
       "      <td>5.0</td>\n",
       "      <td>NaN</td>\n",
       "      <td>...</td>\n",
       "      <td>2.0</td>\n",
       "      <td>2.0</td>\n",
       "      <td>5.0</td>\n",
       "      <td>NaN</td>\n",
       "      <td>5.0</td>\n",
       "      <td>NaN</td>\n",
       "      <td>1</td>\n",
       "      <td>2</td>\n",
       "      <td>7</td>\n",
       "      <td>4</td>\n",
       "    </tr>\n",
       "    <tr>\n",
       "      <th>1</th>\n",
       "      <td>4.843911e+10</td>\n",
       "      <td>3</td>\n",
       "      <td>2</td>\n",
       "      <td>1</td>\n",
       "      <td>2</td>\n",
       "      <td>2</td>\n",
       "      <td>155000</td>\n",
       "      <td>7</td>\n",
       "      <td>5.0</td>\n",
       "      <td>NaN</td>\n",
       "      <td>...</td>\n",
       "      <td>2.0</td>\n",
       "      <td>2.0</td>\n",
       "      <td>5.0</td>\n",
       "      <td>NaN</td>\n",
       "      <td>5.0</td>\n",
       "      <td>NaN</td>\n",
       "      <td>2</td>\n",
       "      <td>1</td>\n",
       "      <td>3</td>\n",
       "      <td>3</td>\n",
       "    </tr>\n",
       "    <tr>\n",
       "      <th>2</th>\n",
       "      <td>1.703700e+10</td>\n",
       "      <td>3</td>\n",
       "      <td>2</td>\n",
       "      <td>1</td>\n",
       "      <td>2</td>\n",
       "      <td>2</td>\n",
       "      <td>125000</td>\n",
       "      <td>8</td>\n",
       "      <td>5.0</td>\n",
       "      <td>NaN</td>\n",
       "      <td>...</td>\n",
       "      <td>2.0</td>\n",
       "      <td>2.0</td>\n",
       "      <td>5.0</td>\n",
       "      <td>NaN</td>\n",
       "      <td>5.0</td>\n",
       "      <td>NaN</td>\n",
       "      <td>1</td>\n",
       "      <td>2</td>\n",
       "      <td>4</td>\n",
       "      <td>3</td>\n",
       "    </tr>\n",
       "    <tr>\n",
       "      <th>3</th>\n",
       "      <td>4.500700e+10</td>\n",
       "      <td>3</td>\n",
       "      <td>2</td>\n",
       "      <td>1</td>\n",
       "      <td>2</td>\n",
       "      <td>2</td>\n",
       "      <td>55000</td>\n",
       "      <td>7</td>\n",
       "      <td>5.0</td>\n",
       "      <td>NaN</td>\n",
       "      <td>...</td>\n",
       "      <td>2.0</td>\n",
       "      <td>2.0</td>\n",
       "      <td>3.0</td>\n",
       "      <td>NaN</td>\n",
       "      <td>3.0</td>\n",
       "      <td>NaN</td>\n",
       "      <td>1</td>\n",
       "      <td>2</td>\n",
       "      <td>2</td>\n",
       "      <td>2</td>\n",
       "    </tr>\n",
       "    <tr>\n",
       "      <th>4</th>\n",
       "      <td>4.201711e+10</td>\n",
       "      <td>3</td>\n",
       "      <td>1</td>\n",
       "      <td>1</td>\n",
       "      <td>2</td>\n",
       "      <td>2</td>\n",
       "      <td>345000</td>\n",
       "      <td>1</td>\n",
       "      <td>5.0</td>\n",
       "      <td>NaN</td>\n",
       "      <td>...</td>\n",
       "      <td>2.0</td>\n",
       "      <td>2.0</td>\n",
       "      <td>5.0</td>\n",
       "      <td>NaN</td>\n",
       "      <td>5.0</td>\n",
       "      <td>NaN</td>\n",
       "      <td>1</td>\n",
       "      <td>2</td>\n",
       "      <td>2</td>\n",
       "      <td>2</td>\n",
       "    </tr>\n",
       "  </tbody>\n",
       "</table>\n",
       "<p>5 rows × 35 columns</p>\n",
       "</div>"
      ],
      "text/plain": [
       "   census_tract  action_taken  loan_type  lien_status  reverse_mortgage  \\\n",
       "0  4.201710e+10             3          3            1                 2   \n",
       "1  4.843911e+10             3          2            1                 2   \n",
       "2  1.703700e+10             3          2            1                 2   \n",
       "3  4.500700e+10             3          2            1                 2   \n",
       "4  4.201711e+10             3          1            1                 2   \n",
       "\n",
       "   open_end_line_of_credit  loan_amount  combined_loan_to_value_ratio  \\\n",
       "0                        2       205000                            16   \n",
       "1                        2       155000                             7   \n",
       "2                        2       125000                             8   \n",
       "3                        2        55000                             7   \n",
       "4                        2       345000                             1   \n",
       "\n",
       "   interest_rate  total_loan_costs  ...  applicant_ethnicity_1  \\\n",
       "0            5.0               NaN  ...                    2.0   \n",
       "1            5.0               NaN  ...                    2.0   \n",
       "2            5.0               NaN  ...                    2.0   \n",
       "3            5.0               NaN  ...                    2.0   \n",
       "4            5.0               NaN  ...                    2.0   \n",
       "\n",
       "   co_applicant_ethnicity_1  applicant_race_1  applicant_race_2  \\\n",
       "0                       2.0               5.0               NaN   \n",
       "1                       2.0               5.0               NaN   \n",
       "2                       2.0               5.0               NaN   \n",
       "3                       2.0               3.0               NaN   \n",
       "4                       2.0               5.0               NaN   \n",
       "\n",
       "   co_applicant_race_1  co_applicant_race_2  applicant_sex  co_applicant_sex  \\\n",
       "0                  5.0                  NaN              1                 2   \n",
       "1                  5.0                  NaN              2                 1   \n",
       "2                  5.0                  NaN              1                 2   \n",
       "3                  3.0                  NaN              1                 2   \n",
       "4                  5.0                  NaN              1                 2   \n",
       "\n",
       "   applicant_age  co_applicant_age  \n",
       "0              7                 4  \n",
       "1              3                 3  \n",
       "2              4                 3  \n",
       "3              2                 2  \n",
       "4              2                 2  \n",
       "\n",
       "[5 rows x 35 columns]"
      ]
     },
     "execution_count": 25,
     "metadata": {},
     "output_type": "execute_result"
    }
   ],
   "source": [
    "df.head()"
   ]
  },
  {
   "cell_type": "markdown",
   "id": "b0c5ab94-89b1-4816-b201-43235dbc73bd",
   "metadata": {},
   "source": [
    "# Make data the same data type"
   ]
  },
  {
   "cell_type": "markdown",
   "id": "d0f73bc6-c16a-4343-9819-245d104902e8",
   "metadata": {},
   "source": [
    "## Remove nan first"
   ]
  },
  {
   "cell_type": "code",
   "execution_count": 26,
   "id": "6a40d82f-72fb-4c75-bc09-c08f0b919b2f",
   "metadata": {
    "tags": []
   },
   "outputs": [
    {
     "name": "stdout",
     "output_type": "stream",
     "text": [
      "Columns with NaN values: ['census_tract', 'interest_rate', 'total_loan_costs', 'origination_charges', 'loan_term', 'property_value', 'income', 'debt_to_income_ratio', 'applicant_race_2', 'co_applicant_race_2']\n"
     ]
    }
   ],
   "source": [
    "columns_with_nan = df.columns[df.isna().any()].tolist()\n",
    "print(\"Columns with NaN values:\", columns_with_nan)"
   ]
  },
  {
   "cell_type": "code",
   "execution_count": 27,
   "id": "aba596e3-cf7c-4b11-a6af-dd801e1a73c6",
   "metadata": {},
   "outputs": [],
   "source": [
    "# Specify columns with NaN values and their respective fill methods\n",
    "columns_to_fill = {\n",
    "    'census_tract': 'mode',  # Fill with mode\n",
    "    'interest_rate': 'mean',  # Fill with mean\n",
    "    'loan_term': 'mode',  # Fill with mode\n",
    "    'income': 'mean',  # Fill with mean\n",
    "    'applicant_race_1': 'mode',  # Fill with mode\n",
    "    'applicant_race_2': 'mode',  # Fill with mode\n",
    "    'co_applicant_race_1': 'mode',  # Fill with mode\n",
    "    'co_applicant_race_2': 'mode',  # Fill with mode\n",
    "    'applicant_ethnicity_1': 'mode',  # Fill with mode\n",
    "    'co_applicant_ethnicity_1': 'mode',  # Fill with mode\n",
    "    'total_loan_costs': 'mean',  # Fill with mean\n",
    "    'origination_charges': 'mean',  # Fill with mean\n",
    "    'property_value': 'mean',  # Fill with mean\n",
    "    'debt_to_income_ratio': 'mean'  # Fill with mean\n",
    "}\n",
    "\n",
    "# Fill missing values according to the specified method for each column\n",
    "for column, fill_method in columns_to_fill.items():\n",
    "    if fill_method == 'mean':\n",
    "        mean_value = df[column].mean()\n",
    "        df[column].fillna(mean_value, inplace=True)\n",
    "    elif fill_method == 'mode':\n",
    "        mode_value = df[column].mode().values[0]\n",
    "        df[column].fillna(mode_value, inplace=True)\n",
    "    else:\n",
    "        df[column].fillna(fill_method, inplace=True)\n"
   ]
  },
  {
   "cell_type": "code",
   "execution_count": 28,
   "id": "b6cc11c2-7127-48c4-ab77-db509dbf6e9a",
   "metadata": {},
   "outputs": [
    {
     "name": "stdout",
     "output_type": "stream",
     "text": [
      "Columns with NaN values: []\n"
     ]
    }
   ],
   "source": [
    "columns_with_nan = df.columns[df.isna().any()].tolist()\n",
    "print(\"Columns with NaN values:\", columns_with_nan)"
   ]
  },
  {
   "cell_type": "code",
   "execution_count": 29,
   "id": "f52340de-5078-45cf-9874-d666462ae7f8",
   "metadata": {},
   "outputs": [],
   "source": [
    "int32_columns = [\n",
    "    'action_taken', 'loan_type', 'lien_status', 'reverse_mortgage', 'open_end_line_of_credit', 'loan_amount',\n",
    "    'combined_loan_to_value_ratio', 'total_loan_costs', 'origination_charges', 'loan_term',\n",
    "    'negative_amortization', 'interest_only_payment', 'balloon_payment', 'other_nonamortizing_features',\n",
    "    'occupancy_type', 'manufactured_home_secured_property_type', 'manufactured_home_land_property_interest',\n",
    "    'total_units', 'debt_to_income_ratio', 'applicant_credit_score_type', 'co_applicant_credit_score_type',\n",
    "    'applicant_sex', 'co_applicant_sex', 'applicant_age', 'co_applicant_age'\n",
    "]\n",
    "\n",
    "float32_columns = [\n",
    "    'census_tract', 'interest_rate', 'property_value', 'income', 'applicant_race_1', 'applicant_race_2',\n",
    "    'co_applicant_race_1', 'co_applicant_race_2', 'applicant_ethnicity_1', 'co_applicant_ethnicity_1'\n",
    "]\n",
    "\n",
    "for column in int32_columns:\n",
    "    df[column] = df[column].astype(np.int32)\n",
    "\n",
    "for column in float32_columns:\n",
    "    df[column] = df[column].astype(np.float32)"
   ]
  },
  {
   "cell_type": "code",
   "execution_count": 30,
   "id": "ab8324a8-ae1e-41bf-a4aa-8a2db62f87e5",
   "metadata": {
    "tags": []
   },
   "outputs": [
    {
     "name": "stdout",
     "output_type": "stream",
     "text": [
      "<class 'pandas.core.frame.DataFrame'>\n",
      "RangeIndex: 49688 entries, 0 to 49687\n",
      "Data columns (total 35 columns):\n",
      " #   Column                                    Non-Null Count  Dtype  \n",
      "---  ------                                    --------------  -----  \n",
      " 0   census_tract                              49688 non-null  float32\n",
      " 1   action_taken                              49688 non-null  int32  \n",
      " 2   loan_type                                 49688 non-null  int32  \n",
      " 3   lien_status                               49688 non-null  int32  \n",
      " 4   reverse_mortgage                          49688 non-null  int32  \n",
      " 5   open_end_line_of_credit                   49688 non-null  int32  \n",
      " 6   loan_amount                               49688 non-null  int32  \n",
      " 7   combined_loan_to_value_ratio              49688 non-null  int32  \n",
      " 8   interest_rate                             49688 non-null  float32\n",
      " 9   total_loan_costs                          49688 non-null  int32  \n",
      " 10  origination_charges                       49688 non-null  int32  \n",
      " 11  loan_term                                 49688 non-null  int32  \n",
      " 12  negative_amortization                     49688 non-null  int32  \n",
      " 13  interest_only_payment                     49688 non-null  int32  \n",
      " 14  balloon_payment                           49688 non-null  int32  \n",
      " 15  other_nonamortizing_features              49688 non-null  int32  \n",
      " 16  property_value                            49688 non-null  float32\n",
      " 17  occupancy_type                            49688 non-null  int32  \n",
      " 18  manufactured_home_secured_property_type   49688 non-null  int32  \n",
      " 19  manufactured_home_land_property_interest  49688 non-null  int32  \n",
      " 20  total_units                               49688 non-null  int32  \n",
      " 21  income                                    49688 non-null  float32\n",
      " 22  debt_to_income_ratio                      49688 non-null  int32  \n",
      " 23  applicant_credit_score_type               49688 non-null  int32  \n",
      " 24  co_applicant_credit_score_type            49688 non-null  int32  \n",
      " 25  applicant_ethnicity_1                     49688 non-null  float32\n",
      " 26  co_applicant_ethnicity_1                  49688 non-null  float32\n",
      " 27  applicant_race_1                          49688 non-null  float32\n",
      " 28  applicant_race_2                          49688 non-null  float32\n",
      " 29  co_applicant_race_1                       49688 non-null  float32\n",
      " 30  co_applicant_race_2                       49688 non-null  float32\n",
      " 31  applicant_sex                             49688 non-null  int32  \n",
      " 32  co_applicant_sex                          49688 non-null  int32  \n",
      " 33  applicant_age                             49688 non-null  int32  \n",
      " 34  co_applicant_age                          49688 non-null  int32  \n",
      "dtypes: float32(10), int32(25)\n",
      "memory usage: 6.6 MB\n"
     ]
    }
   ],
   "source": [
    "df.info()"
   ]
  },
  {
   "cell_type": "code",
   "execution_count": 31,
   "id": "24b99736-5f55-4701-81eb-9a9e44fa9cad",
   "metadata": {
    "tags": []
   },
   "outputs": [
    {
     "name": "stdout",
     "output_type": "stream",
     "text": [
      "Value counts for race after filtering:\n",
      "applicant_race_1\n",
      "5.0    46920\n",
      "3.0     2768\n",
      "Name: count, dtype: int64\n",
      "co_applicant_race_1\n",
      "5.0    46927\n",
      "3.0     2761\n",
      "Name: count, dtype: int64\n",
      "Value counts for ethnicity after filtering:\n",
      "applicant_ethnicity_1\n",
      "2.0    44272\n",
      "1.0     5416\n",
      "Name: count, dtype: int64\n",
      "co_applicant_ethnicity_1\n",
      "2.0    44071\n",
      "1.0     5617\n",
      "Name: count, dtype: int64\n"
     ]
    }
   ],
   "source": [
    "# Print the value counts for the filtered DataFrame\n",
    "print(\"Value counts for race after filtering:\")\n",
    "print(df['applicant_race_1'].value_counts())\n",
    "print(df['co_applicant_race_1'].value_counts())\n",
    "\n",
    "print(\"Value counts for ethnicity after filtering:\")\n",
    "print(df['applicant_ethnicity_1'].value_counts())\n",
    "print(df['co_applicant_ethnicity_1'].value_counts())"
   ]
  },
  {
   "cell_type": "code",
   "execution_count": 33,
   "id": "a60f632b-08bb-46c7-85cf-c235a4d7ffa8",
   "metadata": {
    "tags": []
   },
   "outputs": [],
   "source": [
    "df.to_csv('10_all_numerical_32bit.csv', index=False)"
   ]
  },
  {
   "cell_type": "code",
   "execution_count": null,
   "id": "f0ac2c87-506f-4a01-949b-ffab52fa90f8",
   "metadata": {},
   "outputs": [],
   "source": []
  },
  {
   "cell_type": "code",
   "execution_count": null,
   "id": "440e79a1-235f-447e-a283-3e671f4ac675",
   "metadata": {},
   "outputs": [],
   "source": []
  }
 ],
 "metadata": {
  "kernelspec": {
   "display_name": "Python 3 (ipykernel)",
   "language": "python",
   "name": "python3"
  },
  "language_info": {
   "codemirror_mode": {
    "name": "ipython",
    "version": 3
   },
   "file_extension": ".py",
   "mimetype": "text/x-python",
   "name": "python",
   "nbconvert_exporter": "python",
   "pygments_lexer": "ipython3",
   "version": "3.9.18"
  }
 },
 "nbformat": 4,
 "nbformat_minor": 5
}
