{
 "cells": [
  {
   "cell_type": "code",
   "execution_count": 1,
   "id": "236fe6aa-a953-40d2-830b-d6a8db58d7b5",
   "metadata": {
    "tags": []
   },
   "outputs": [],
   "source": [
    "import warnings\n",
    "import numpy as np\n",
    "import pandas as pd\n",
    "import seaborn as sns\n",
    "import matplotlib.pyplot as plt\n",
    "import seaborn as sns\n",
    "from sklearn.preprocessing import LabelEncoder\n",
    "from itertools import product\n",
    "import matplotlib.pyplot as plt"
   ]
  },
  {
   "cell_type": "markdown",
   "id": "948cb308-612a-4da1-98c0-736da467816f",
   "metadata": {
    "tags": []
   },
   "source": [
    "# load dataset 9"
   ]
  },
  {
   "cell_type": "code",
   "execution_count": 2,
   "id": "c2a59209-78cf-4057-853f-b81f2fd701a6",
   "metadata": {
    "tags": []
   },
   "outputs": [],
   "source": [
    "df = pd.read_csv('9_loan_term.csv', low_memory=False)"
   ]
  },
  {
   "cell_type": "code",
   "execution_count": 3,
   "id": "8cc5244b-35d6-4fe1-89a8-246bc1d67113",
   "metadata": {
    "tags": []
   },
   "outputs": [
    {
     "name": "stdout",
     "output_type": "stream",
     "text": [
      "<class 'pandas.core.frame.DataFrame'>\n",
      "RangeIndex: 155766 entries, 0 to 155765\n",
      "Data columns (total 36 columns):\n",
      " #   Column                                    Non-Null Count   Dtype  \n",
      "---  ------                                    --------------   -----  \n",
      " 0   census_tract                              155680 non-null  float64\n",
      " 1   action_taken                              155766 non-null  int64  \n",
      " 2   loan_type                                 155766 non-null  int64  \n",
      " 3   lien_status                               155766 non-null  int64  \n",
      " 4   reverse_mortgage                          155766 non-null  int64  \n",
      " 5   open_end_line_of_credit                   155766 non-null  int64  \n",
      " 6   loan_amount                               155766 non-null  int64  \n",
      " 7   combined_loan_to_value_ratio              154641 non-null  float64\n",
      " 8   interest_rate                             155766 non-null  object \n",
      " 9   total_loan_costs                          77806 non-null   float64\n",
      " 10  origination_charges                       77806 non-null   float64\n",
      " 11  loan_term                                 155766 non-null  object \n",
      " 12  negative_amortization                     155766 non-null  int64  \n",
      " 13  interest_only_payment                     155766 non-null  int64  \n",
      " 14  balloon_payment                           155766 non-null  int64  \n",
      " 15  other_nonamortizing_features              155766 non-null  int64  \n",
      " 16  property_value                            155635 non-null  float64\n",
      " 17  occupancy_type                            155766 non-null  int64  \n",
      " 18  manufactured_home_secured_property_type   155766 non-null  int64  \n",
      " 19  manufactured_home_land_property_interest  155766 non-null  int64  \n",
      " 20  total_units                               155766 non-null  int64  \n",
      " 21  income                                    150439 non-null  float64\n",
      " 22  debt_to_income_ratio                      153967 non-null  object \n",
      " 23  applicant_credit_score_type               155766 non-null  int64  \n",
      " 24  co_applicant_credit_score_type            155766 non-null  int64  \n",
      " 25  applicant_sex                             155766 non-null  int64  \n",
      " 26  co_applicant_sex                          155766 non-null  int64  \n",
      " 27  applicant_age                             155766 non-null  int64  \n",
      " 28  co_applicant_age                          155766 non-null  int64  \n",
      " 29  aus_1                                     155766 non-null  int64  \n",
      " 30  applicant_race_1                          126230 non-null  float64\n",
      " 31  applicant_race_2                          1545 non-null    float64\n",
      " 32  co_applicant_race_1                       56025 non-null   float64\n",
      " 33  co_applicant_race_2                       473 non-null     float64\n",
      " 34  applicant_ethnicity_1                     141331 non-null  float64\n",
      " 35  co_applicant_ethnicity_1                  63517 non-null   float64\n",
      "dtypes: float64(12), int64(21), object(3)\n",
      "memory usage: 42.8+ MB\n"
     ]
    }
   ],
   "source": [
    "df.info()"
   ]
  },
  {
   "cell_type": "code",
   "execution_count": 4,
   "id": "4015c8df-0159-47c2-aff1-9965217e7a07",
   "metadata": {
    "tags": []
   },
   "outputs": [
    {
     "name": "stdout",
     "output_type": "stream",
     "text": [
      "Index(['interest_rate', 'loan_term', 'debt_to_income_ratio'], dtype='object')\n"
     ]
    }
   ],
   "source": [
    "# Select object (string) and category columns from your DataFrame\n",
    "object_category_columns = df.select_dtypes(include=['object', 'category'])\n",
    "\n",
    "# Print the names of the selected columns\n",
    "print(object_category_columns.columns)"
   ]
  },
  {
   "cell_type": "markdown",
   "id": "dcdc4a31-082c-4e53-a456-4ba261dc116c",
   "metadata": {},
   "source": [
    "# Convert interest_rate to numerical:"
   ]
  },
  {
   "cell_type": "code",
   "execution_count": 5,
   "id": "50a49a2d-08f8-4ada-8758-7c4b8a0759a0",
   "metadata": {
    "tags": []
   },
   "outputs": [
    {
     "name": "stdout",
     "output_type": "stream",
     "text": [
      "interest_rate\n",
      "Other      77964\n",
      "3.5-4.0    27620\n",
      "4.0-4.5    18922\n",
      "3.0-3.5    14250\n",
      "4.5-5.0     7968\n",
      "2.0-3.0     4604\n",
      "5.0-6.0     3984\n",
      "6.0-7.0      385\n",
      "1.0-2.0       24\n",
      "7.0-8.0       22\n",
      "8.0-9.0       16\n",
      "0.0-1.0        7\n",
      "Name: count, dtype: int64\n"
     ]
    }
   ],
   "source": [
    "print(df['interest_rate'].value_counts())"
   ]
  },
  {
   "cell_type": "code",
   "execution_count": 6,
   "id": "969677e4-e487-4786-bca2-d52473334825",
   "metadata": {},
   "outputs": [],
   "source": [
    "# Define a dictionary to map the interest rate categories to numerical values\n",
    "interest_rate_mapping = {\n",
    "    '0.0-1.0': 1,\n",
    "    '1.0-2.0': 2,\n",
    "    '2.0-3.0': 3,\n",
    "    '3.0-3.5': 4,\n",
    "    '3.5-4.0': 5,\n",
    "    '4.0-4.5': 6,\n",
    "    '4.5-5.0': 7,\n",
    "    '5.0-6.0': 8,\n",
    "    '6.0-7.0': 9,\n",
    "    '7.0-8.0': 10,\n",
    "    '8.0-9.0': 11\n",
    "}\n",
    "\n",
    "# Map the values to the 'interest_rate' column\n",
    "df['interest_rate'] = df['interest_rate'].map(interest_rate_mapping)"
   ]
  },
  {
   "cell_type": "code",
   "execution_count": 7,
   "id": "9ba40bbc-d9a3-4257-a41d-7a7404b589e9",
   "metadata": {
    "tags": []
   },
   "outputs": [
    {
     "name": "stdout",
     "output_type": "stream",
     "text": [
      "interest_rate\n",
      "5.0     27620\n",
      "6.0     18922\n",
      "4.0     14250\n",
      "7.0      7968\n",
      "3.0      4604\n",
      "8.0      3984\n",
      "9.0       385\n",
      "2.0        24\n",
      "10.0       22\n",
      "11.0       16\n",
      "1.0         7\n",
      "Name: count, dtype: int64\n"
     ]
    }
   ],
   "source": [
    "print(df['interest_rate'].value_counts())"
   ]
  },
  {
   "cell_type": "markdown",
   "id": "77de6591-88b1-4bb3-b97c-1a8c1d97143c",
   "metadata": {},
   "source": [
    "# Convert loan_term to numerical:"
   ]
  },
  {
   "cell_type": "code",
   "execution_count": 8,
   "id": "90f9b98e-0e00-45a2-b962-f93b1039fab3",
   "metadata": {
    "tags": []
   },
   "outputs": [
    {
     "name": "stdout",
     "output_type": "stream",
     "text": [
      "loan_term\n",
      "27-31 years    122026\n",
      "12-16 years     20972\n",
      "17-21 years      9258\n",
      "7-11 years       2792\n",
      "22-26 years       534\n",
      "2-6 years         171\n",
      "37-41 years         5\n",
      "1-2 years           5\n",
      "Other               3\n",
      "Name: count, dtype: int64\n"
     ]
    }
   ],
   "source": [
    "print(df['loan_term'].value_counts())"
   ]
  },
  {
   "cell_type": "code",
   "execution_count": 9,
   "id": "83e3b9eb-2aa3-4e43-af93-9b086c5181d1",
   "metadata": {},
   "outputs": [],
   "source": [
    "# Define a dictionary to map the loan term categories to numerical values\n",
    "loan_term_mapping = {\n",
    "    '2-6 years': 1,\n",
    "    '7-11 years': 2,\n",
    "    '12-16 years': 3,\n",
    "    '17-21 years': 4,\n",
    "    '22-26 years': 5,\n",
    "    '27-31 years': 6,\n",
    "    '37-41 years': 7\n",
    "}\n",
    "\n",
    "# Map the values to the 'loan_term' column\n",
    "df['loan_term'] = df['loan_term'].map(loan_term_mapping)"
   ]
  },
  {
   "cell_type": "code",
   "execution_count": 10,
   "id": "815ec644-ce1b-401e-b8a4-bbe1e3e786a5",
   "metadata": {
    "tags": []
   },
   "outputs": [
    {
     "name": "stdout",
     "output_type": "stream",
     "text": [
      "loan_term\n",
      "6.0    122026\n",
      "3.0     20972\n",
      "4.0      9258\n",
      "2.0      2792\n",
      "5.0       534\n",
      "1.0       171\n",
      "7.0         5\n",
      "Name: count, dtype: int64\n"
     ]
    }
   ],
   "source": [
    "print(df['loan_term'].value_counts())"
   ]
  },
  {
   "cell_type": "markdown",
   "id": "354eb582-6ddd-4b11-85ec-72f21465048e",
   "metadata": {},
   "source": [
    "# Convert debt_to_income_ratio to numerical:"
   ]
  },
  {
   "cell_type": "code",
   "execution_count": 11,
   "id": "550ae80e-3750-45c4-9810-668e4e35e0e1",
   "metadata": {
    "tags": []
   },
   "outputs": [
    {
     "name": "stdout",
     "output_type": "stream",
     "text": [
      "debt_to_income_ratio\n",
      "36%-50%     59693\n",
      "20%-<30%    28056\n",
      "30%-<36%    24650\n",
      ">60%        17510\n",
      "50%-60%     12681\n",
      "<20%        11377\n",
      "Name: count, dtype: int64\n"
     ]
    }
   ],
   "source": [
    "print(df['debt_to_income_ratio'].value_counts())"
   ]
  },
  {
   "cell_type": "code",
   "execution_count": 12,
   "id": "d83665e9-0193-45f6-b442-c2e42085315b",
   "metadata": {},
   "outputs": [],
   "source": [
    "# Define a dictionary to map the debt to income ratio categories to numerical values\n",
    "debt_to_income_mapping = {\n",
    "    '<20%': 1,\n",
    "    '20%-<30%': 2,\n",
    "    '30%-<36%': 3,\n",
    "    '36%-50%': 4,\n",
    "    '50%-60%': 5,\n",
    "    '>60%': 6\n",
    "}\n",
    "\n",
    "# Map the values to the 'debt_to_income_ratio' column\n",
    "df['debt_to_income_ratio'] = df['debt_to_income_ratio'].map(debt_to_income_mapping)"
   ]
  },
  {
   "cell_type": "code",
   "execution_count": 13,
   "id": "178e1323-367c-413b-9e7f-f5594ef11908",
   "metadata": {
    "tags": []
   },
   "outputs": [
    {
     "name": "stdout",
     "output_type": "stream",
     "text": [
      "debt_to_income_ratio\n",
      "4.0    59693\n",
      "2.0    28056\n",
      "3.0    24650\n",
      "6.0    17510\n",
      "5.0    12681\n",
      "1.0    11377\n",
      "Name: count, dtype: int64\n"
     ]
    }
   ],
   "source": [
    "print(df['debt_to_income_ratio'].value_counts())"
   ]
  },
  {
   "cell_type": "code",
   "execution_count": 14,
   "id": "8774f427-0043-486f-aca6-1bfc248fd12e",
   "metadata": {
    "tags": []
   },
   "outputs": [
    {
     "name": "stdout",
     "output_type": "stream",
     "text": [
      "<class 'pandas.core.frame.DataFrame'>\n",
      "RangeIndex: 155766 entries, 0 to 155765\n",
      "Data columns (total 36 columns):\n",
      " #   Column                                    Non-Null Count   Dtype  \n",
      "---  ------                                    --------------   -----  \n",
      " 0   census_tract                              155680 non-null  float64\n",
      " 1   action_taken                              155766 non-null  int64  \n",
      " 2   loan_type                                 155766 non-null  int64  \n",
      " 3   lien_status                               155766 non-null  int64  \n",
      " 4   reverse_mortgage                          155766 non-null  int64  \n",
      " 5   open_end_line_of_credit                   155766 non-null  int64  \n",
      " 6   loan_amount                               155766 non-null  int64  \n",
      " 7   combined_loan_to_value_ratio              154641 non-null  float64\n",
      " 8   interest_rate                             77802 non-null   float64\n",
      " 9   total_loan_costs                          77806 non-null   float64\n",
      " 10  origination_charges                       77806 non-null   float64\n",
      " 11  loan_term                                 155758 non-null  float64\n",
      " 12  negative_amortization                     155766 non-null  int64  \n",
      " 13  interest_only_payment                     155766 non-null  int64  \n",
      " 14  balloon_payment                           155766 non-null  int64  \n",
      " 15  other_nonamortizing_features              155766 non-null  int64  \n",
      " 16  property_value                            155635 non-null  float64\n",
      " 17  occupancy_type                            155766 non-null  int64  \n",
      " 18  manufactured_home_secured_property_type   155766 non-null  int64  \n",
      " 19  manufactured_home_land_property_interest  155766 non-null  int64  \n",
      " 20  total_units                               155766 non-null  int64  \n",
      " 21  income                                    150439 non-null  float64\n",
      " 22  debt_to_income_ratio                      153967 non-null  float64\n",
      " 23  applicant_credit_score_type               155766 non-null  int64  \n",
      " 24  co_applicant_credit_score_type            155766 non-null  int64  \n",
      " 25  applicant_sex                             155766 non-null  int64  \n",
      " 26  co_applicant_sex                          155766 non-null  int64  \n",
      " 27  applicant_age                             155766 non-null  int64  \n",
      " 28  co_applicant_age                          155766 non-null  int64  \n",
      " 29  aus_1                                     155766 non-null  int64  \n",
      " 30  applicant_race_1                          126230 non-null  float64\n",
      " 31  applicant_race_2                          1545 non-null    float64\n",
      " 32  co_applicant_race_1                       56025 non-null   float64\n",
      " 33  co_applicant_race_2                       473 non-null     float64\n",
      " 34  applicant_ethnicity_1                     141331 non-null  float64\n",
      " 35  co_applicant_ethnicity_1                  63517 non-null   float64\n",
      "dtypes: float64(15), int64(21)\n",
      "memory usage: 42.8 MB\n"
     ]
    }
   ],
   "source": [
    "df.info()"
   ]
  },
  {
   "cell_type": "code",
   "execution_count": 15,
   "id": "23f2d271-e46c-453f-9654-77060b30bea5",
   "metadata": {
    "tags": []
   },
   "outputs": [
    {
     "data": {
      "text/html": [
       "<div>\n",
       "<style scoped>\n",
       "    .dataframe tbody tr th:only-of-type {\n",
       "        vertical-align: middle;\n",
       "    }\n",
       "\n",
       "    .dataframe tbody tr th {\n",
       "        vertical-align: top;\n",
       "    }\n",
       "\n",
       "    .dataframe thead th {\n",
       "        text-align: right;\n",
       "    }\n",
       "</style>\n",
       "<table border=\"1\" class=\"dataframe\">\n",
       "  <thead>\n",
       "    <tr style=\"text-align: right;\">\n",
       "      <th></th>\n",
       "      <th>census_tract</th>\n",
       "      <th>action_taken</th>\n",
       "      <th>loan_type</th>\n",
       "      <th>lien_status</th>\n",
       "      <th>reverse_mortgage</th>\n",
       "      <th>open_end_line_of_credit</th>\n",
       "      <th>loan_amount</th>\n",
       "      <th>combined_loan_to_value_ratio</th>\n",
       "      <th>interest_rate</th>\n",
       "      <th>total_loan_costs</th>\n",
       "      <th>...</th>\n",
       "      <th>co_applicant_sex</th>\n",
       "      <th>applicant_age</th>\n",
       "      <th>co_applicant_age</th>\n",
       "      <th>aus_1</th>\n",
       "      <th>applicant_race_1</th>\n",
       "      <th>applicant_race_2</th>\n",
       "      <th>co_applicant_race_1</th>\n",
       "      <th>co_applicant_race_2</th>\n",
       "      <th>applicant_ethnicity_1</th>\n",
       "      <th>co_applicant_ethnicity_1</th>\n",
       "    </tr>\n",
       "  </thead>\n",
       "  <tbody>\n",
       "    <tr>\n",
       "      <th>0</th>\n",
       "      <td>9.003416e+09</td>\n",
       "      <td>3</td>\n",
       "      <td>2</td>\n",
       "      <td>1</td>\n",
       "      <td>2</td>\n",
       "      <td>2</td>\n",
       "      <td>115000</td>\n",
       "      <td>98.188</td>\n",
       "      <td>NaN</td>\n",
       "      <td>NaN</td>\n",
       "      <td>...</td>\n",
       "      <td>5</td>\n",
       "      <td>1</td>\n",
       "      <td>6</td>\n",
       "      <td>1</td>\n",
       "      <td>3.0</td>\n",
       "      <td>NaN</td>\n",
       "      <td>NaN</td>\n",
       "      <td>NaN</td>\n",
       "      <td>2.0</td>\n",
       "      <td>NaN</td>\n",
       "    </tr>\n",
       "    <tr>\n",
       "      <th>1</th>\n",
       "      <td>4.201710e+10</td>\n",
       "      <td>3</td>\n",
       "      <td>3</td>\n",
       "      <td>1</td>\n",
       "      <td>2</td>\n",
       "      <td>2</td>\n",
       "      <td>205000</td>\n",
       "      <td>110.256</td>\n",
       "      <td>NaN</td>\n",
       "      <td>NaN</td>\n",
       "      <td>...</td>\n",
       "      <td>2</td>\n",
       "      <td>7</td>\n",
       "      <td>4</td>\n",
       "      <td>1</td>\n",
       "      <td>5.0</td>\n",
       "      <td>NaN</td>\n",
       "      <td>5.0</td>\n",
       "      <td>NaN</td>\n",
       "      <td>2.0</td>\n",
       "      <td>2.0</td>\n",
       "    </tr>\n",
       "    <tr>\n",
       "      <th>2</th>\n",
       "      <td>3.401700e+10</td>\n",
       "      <td>3</td>\n",
       "      <td>1</td>\n",
       "      <td>1</td>\n",
       "      <td>2</td>\n",
       "      <td>2</td>\n",
       "      <td>205000</td>\n",
       "      <td>59.629</td>\n",
       "      <td>NaN</td>\n",
       "      <td>NaN</td>\n",
       "      <td>...</td>\n",
       "      <td>5</td>\n",
       "      <td>1</td>\n",
       "      <td>6</td>\n",
       "      <td>1</td>\n",
       "      <td>3.0</td>\n",
       "      <td>NaN</td>\n",
       "      <td>NaN</td>\n",
       "      <td>NaN</td>\n",
       "      <td>2.0</td>\n",
       "      <td>NaN</td>\n",
       "    </tr>\n",
       "    <tr>\n",
       "      <th>3</th>\n",
       "      <td>6.065043e+09</td>\n",
       "      <td>3</td>\n",
       "      <td>1</td>\n",
       "      <td>1</td>\n",
       "      <td>2</td>\n",
       "      <td>2</td>\n",
       "      <td>155000</td>\n",
       "      <td>64.990</td>\n",
       "      <td>NaN</td>\n",
       "      <td>NaN</td>\n",
       "      <td>...</td>\n",
       "      <td>5</td>\n",
       "      <td>4</td>\n",
       "      <td>6</td>\n",
       "      <td>1</td>\n",
       "      <td>5.0</td>\n",
       "      <td>NaN</td>\n",
       "      <td>NaN</td>\n",
       "      <td>NaN</td>\n",
       "      <td>2.0</td>\n",
       "      <td>NaN</td>\n",
       "    </tr>\n",
       "    <tr>\n",
       "      <th>4</th>\n",
       "      <td>3.711901e+10</td>\n",
       "      <td>3</td>\n",
       "      <td>1</td>\n",
       "      <td>1</td>\n",
       "      <td>2</td>\n",
       "      <td>2</td>\n",
       "      <td>255000</td>\n",
       "      <td>70.000</td>\n",
       "      <td>NaN</td>\n",
       "      <td>NaN</td>\n",
       "      <td>...</td>\n",
       "      <td>5</td>\n",
       "      <td>3</td>\n",
       "      <td>6</td>\n",
       "      <td>1</td>\n",
       "      <td>3.0</td>\n",
       "      <td>NaN</td>\n",
       "      <td>NaN</td>\n",
       "      <td>NaN</td>\n",
       "      <td>2.0</td>\n",
       "      <td>NaN</td>\n",
       "    </tr>\n",
       "  </tbody>\n",
       "</table>\n",
       "<p>5 rows × 36 columns</p>\n",
       "</div>"
      ],
      "text/plain": [
       "   census_tract  action_taken  loan_type  lien_status  reverse_mortgage  \\\n",
       "0  9.003416e+09             3          2            1                 2   \n",
       "1  4.201710e+10             3          3            1                 2   \n",
       "2  3.401700e+10             3          1            1                 2   \n",
       "3  6.065043e+09             3          1            1                 2   \n",
       "4  3.711901e+10             3          1            1                 2   \n",
       "\n",
       "   open_end_line_of_credit  loan_amount  combined_loan_to_value_ratio  \\\n",
       "0                        2       115000                        98.188   \n",
       "1                        2       205000                       110.256   \n",
       "2                        2       205000                        59.629   \n",
       "3                        2       155000                        64.990   \n",
       "4                        2       255000                        70.000   \n",
       "\n",
       "   interest_rate  total_loan_costs  ...  co_applicant_sex  applicant_age  \\\n",
       "0            NaN               NaN  ...                 5              1   \n",
       "1            NaN               NaN  ...                 2              7   \n",
       "2            NaN               NaN  ...                 5              1   \n",
       "3            NaN               NaN  ...                 5              4   \n",
       "4            NaN               NaN  ...                 5              3   \n",
       "\n",
       "   co_applicant_age  aus_1  applicant_race_1  applicant_race_2  \\\n",
       "0                 6      1               3.0               NaN   \n",
       "1                 4      1               5.0               NaN   \n",
       "2                 6      1               3.0               NaN   \n",
       "3                 6      1               5.0               NaN   \n",
       "4                 6      1               3.0               NaN   \n",
       "\n",
       "   co_applicant_race_1  co_applicant_race_2  applicant_ethnicity_1  \\\n",
       "0                  NaN                  NaN                    2.0   \n",
       "1                  5.0                  NaN                    2.0   \n",
       "2                  NaN                  NaN                    2.0   \n",
       "3                  NaN                  NaN                    2.0   \n",
       "4                  NaN                  NaN                    2.0   \n",
       "\n",
       "   co_applicant_ethnicity_1  \n",
       "0                       NaN  \n",
       "1                       2.0  \n",
       "2                       NaN  \n",
       "3                       NaN  \n",
       "4                       NaN  \n",
       "\n",
       "[5 rows x 36 columns]"
      ]
     },
     "execution_count": 15,
     "metadata": {},
     "output_type": "execute_result"
    }
   ],
   "source": [
    "df.head()"
   ]
  },
  {
   "cell_type": "code",
   "execution_count": 16,
   "id": "a60f632b-08bb-46c7-85cf-c235a4d7ffa8",
   "metadata": {
    "tags": []
   },
   "outputs": [],
   "source": [
    "df.to_csv('10_all_numerical.csv', index=False)"
   ]
  },
  {
   "cell_type": "code",
   "execution_count": null,
   "id": "f0ac2c87-506f-4a01-949b-ffab52fa90f8",
   "metadata": {},
   "outputs": [],
   "source": []
  },
  {
   "cell_type": "code",
   "execution_count": null,
   "id": "440e79a1-235f-447e-a283-3e671f4ac675",
   "metadata": {},
   "outputs": [],
   "source": []
  }
 ],
 "metadata": {
  "kernelspec": {
   "display_name": "Python 3 (ipykernel)",
   "language": "python",
   "name": "python3"
  },
  "language_info": {
   "codemirror_mode": {
    "name": "ipython",
    "version": 3
   },
   "file_extension": ".py",
   "mimetype": "text/x-python",
   "name": "python",
   "nbconvert_exporter": "python",
   "pygments_lexer": "ipython3",
   "version": "3.9.18"
  }
 },
 "nbformat": 4,
 "nbformat_minor": 5
}
