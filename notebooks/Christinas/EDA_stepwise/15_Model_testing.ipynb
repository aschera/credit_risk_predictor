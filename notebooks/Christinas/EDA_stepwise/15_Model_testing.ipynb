{
 "cells": [
  {
   "cell_type": "code",
   "execution_count": 58,
   "id": "4b6ec995-2da3-4f18-ba18-1e6bf47007e8",
   "metadata": {
    "tags": []
   },
   "outputs": [],
   "source": [
    "import os\n",
    "import numpy as np\n",
    "import pandas as pd\n",
    "import matplotlib.pyplot as plt\n",
    "import warnings\n",
    "\n",
    "from scipy import stats\n",
    "import seaborn as sns\n",
    "from sklearn.datasets import make_classification\n",
    "from sklearn.ensemble import (\n",
    "    RandomForestClassifier, AdaBoostClassifier, GradientBoostingClassifier,\n",
    "    VotingClassifier, RandomForestRegressor, ExtraTreesClassifier,\n",
    "    StackingClassifier\n",
    ")\n",
    "from sklearn.linear_model import (\n",
    "    LogisticRegression, SGDClassifier\n",
    ")\n",
    "from sklearn.impute import SimpleImputer\n",
    "from sklearn.metrics import (\n",
    "    accuracy_score, classification_report, confusion_matrix,\n",
    "    roc_auc_score, roc_curve, auc,\n",
    "    precision_recall_curve, average_precision_score,\n",
    "    precision_score, recall_score, f1_score,\n",
    "    log_loss\n",
    ")\n",
    "from sklearn.model_selection import (\n",
    "    train_test_split, cross_val_score, GridSearchCV, KFold, RandomizedSearchCV\n",
    ")\n",
    "from sklearn.preprocessing import (\n",
    "    StandardScaler, MinMaxScaler, StandardScaler\n",
    ")\n",
    "from sklearn.svm import SVC\n",
    "from sklearn.tree import DecisionTreeClassifier\n",
    "from sklearn.naive_bayes import BernoulliNB, MultinomialNB, GaussianNB\n",
    "from sklearn.dummy import DummyClassifier\n",
    "from sklearn.neighbors import KNeighborsClassifier\n",
    "from sklearn import metrics, linear_model, neighbors, ensemble, tree\n",
    "import statsmodels.api as sm\n",
    "import statsmodels.formula.api as smf\n",
    "from sklearn.pipeline import make_pipeline\n",
    "\n",
    "from imblearn.combine import SMOTEENN\n",
    "from imblearn.under_sampling import RandomUnderSampler, EditedNearestNeighbours\n",
    "from imblearn.over_sampling import SMOTE\n",
    "\n",
    "import pickle\n",
    "\n",
    "os.environ['LOKY_MAX_CPU_COUNT'] = '4'\n",
    "\n",
    "import xgboost as xgb\n",
    "from xgboost import XGBClassifier\n",
    "\n",
    "from collections import defaultdict\n"
   ]
  },
  {
   "cell_type": "code",
   "execution_count": 59,
   "id": "1d013332-e9bc-48ab-b42b-dfb437128a0e",
   "metadata": {
    "tags": []
   },
   "outputs": [],
   "source": [
    "# Read the CSV file with specified data types\n",
    "df = pd.read_csv('final_dataset.csv', low_memory=False)"
   ]
  },
  {
   "cell_type": "code",
   "execution_count": 60,
   "id": "87cfe31e-e712-44c3-a49c-45f07a4a7014",
   "metadata": {
    "tags": []
   },
   "outputs": [
    {
     "name": "stdout",
     "output_type": "stream",
     "text": [
      "manufactured_home_secured_property_type\n",
      "1.0    48651\n",
      "0.0     1003\n",
      "0.5       16\n",
      "Name: count, dtype: int64\n"
     ]
    }
   ],
   "source": [
    "print(df['manufactured_home_secured_property_type'].value_counts())"
   ]
  },
  {
   "cell_type": "code",
   "execution_count": 61,
   "id": "935c878b-8ba6-407d-81ea-52e78ffe4312",
   "metadata": {
    "tags": []
   },
   "outputs": [
    {
     "data": {
      "text/html": [
       "<div>\n",
       "<style scoped>\n",
       "    .dataframe tbody tr th:only-of-type {\n",
       "        vertical-align: middle;\n",
       "    }\n",
       "\n",
       "    .dataframe tbody tr th {\n",
       "        vertical-align: top;\n",
       "    }\n",
       "\n",
       "    .dataframe thead th {\n",
       "        text-align: right;\n",
       "    }\n",
       "</style>\n",
       "<table border=\"1\" class=\"dataframe\">\n",
       "  <thead>\n",
       "    <tr style=\"text-align: right;\">\n",
       "      <th></th>\n",
       "      <th>census_tract</th>\n",
       "      <th>action_taken</th>\n",
       "      <th>loan_type</th>\n",
       "      <th>lien_status</th>\n",
       "      <th>open_end_line_of_credit</th>\n",
       "      <th>loan_amount</th>\n",
       "      <th>combined_loan_to_value_ratio</th>\n",
       "      <th>interest_rate</th>\n",
       "      <th>total_loan_costs</th>\n",
       "      <th>origination_charges</th>\n",
       "      <th>...</th>\n",
       "      <th>applicant_ethnicity_1</th>\n",
       "      <th>co_applicant_ethnicity_1</th>\n",
       "      <th>applicant_race_1</th>\n",
       "      <th>applicant_race_2</th>\n",
       "      <th>co_applicant_race_1</th>\n",
       "      <th>co_applicant_race_2</th>\n",
       "      <th>applicant_sex</th>\n",
       "      <th>co_applicant_sex</th>\n",
       "      <th>applicant_age</th>\n",
       "      <th>co_applicant_age</th>\n",
       "    </tr>\n",
       "  </thead>\n",
       "  <tbody>\n",
       "    <tr>\n",
       "      <th>0</th>\n",
       "      <td>0.745178</td>\n",
       "      <td>1.0</td>\n",
       "      <td>0.666667</td>\n",
       "      <td>0.0</td>\n",
       "      <td>1.0</td>\n",
       "      <td>0.011765</td>\n",
       "      <td>1.000000</td>\n",
       "      <td>0.333333</td>\n",
       "      <td>0.352941</td>\n",
       "      <td>0.0</td>\n",
       "      <td>...</td>\n",
       "      <td>1.0</td>\n",
       "      <td>1.0</td>\n",
       "      <td>1.0</td>\n",
       "      <td>0.0</td>\n",
       "      <td>1.0</td>\n",
       "      <td>0.093023</td>\n",
       "      <td>0.0</td>\n",
       "      <td>0.2</td>\n",
       "      <td>1.000000</td>\n",
       "      <td>0.571429</td>\n",
       "    </tr>\n",
       "    <tr>\n",
       "      <th>1</th>\n",
       "      <td>0.861853</td>\n",
       "      <td>1.0</td>\n",
       "      <td>0.333333</td>\n",
       "      <td>0.0</td>\n",
       "      <td>1.0</td>\n",
       "      <td>0.008824</td>\n",
       "      <td>0.400000</td>\n",
       "      <td>0.333333</td>\n",
       "      <td>0.352941</td>\n",
       "      <td>0.0</td>\n",
       "      <td>...</td>\n",
       "      <td>1.0</td>\n",
       "      <td>1.0</td>\n",
       "      <td>1.0</td>\n",
       "      <td>0.0</td>\n",
       "      <td>1.0</td>\n",
       "      <td>0.093023</td>\n",
       "      <td>0.2</td>\n",
       "      <td>0.0</td>\n",
       "      <td>0.428571</td>\n",
       "      <td>0.428571</td>\n",
       "    </tr>\n",
       "    <tr>\n",
       "      <th>2</th>\n",
       "      <td>0.291341</td>\n",
       "      <td>1.0</td>\n",
       "      <td>0.333333</td>\n",
       "      <td>0.0</td>\n",
       "      <td>1.0</td>\n",
       "      <td>0.007059</td>\n",
       "      <td>0.466667</td>\n",
       "      <td>0.333333</td>\n",
       "      <td>0.352941</td>\n",
       "      <td>0.0</td>\n",
       "      <td>...</td>\n",
       "      <td>1.0</td>\n",
       "      <td>1.0</td>\n",
       "      <td>1.0</td>\n",
       "      <td>0.0</td>\n",
       "      <td>1.0</td>\n",
       "      <td>0.093023</td>\n",
       "      <td>0.0</td>\n",
       "      <td>0.2</td>\n",
       "      <td>0.571429</td>\n",
       "      <td>0.428571</td>\n",
       "    </tr>\n",
       "    <tr>\n",
       "      <th>3</th>\n",
       "      <td>0.799498</td>\n",
       "      <td>1.0</td>\n",
       "      <td>0.333333</td>\n",
       "      <td>0.0</td>\n",
       "      <td>1.0</td>\n",
       "      <td>0.002941</td>\n",
       "      <td>0.400000</td>\n",
       "      <td>0.333333</td>\n",
       "      <td>0.352941</td>\n",
       "      <td>0.0</td>\n",
       "      <td>...</td>\n",
       "      <td>1.0</td>\n",
       "      <td>1.0</td>\n",
       "      <td>0.0</td>\n",
       "      <td>0.0</td>\n",
       "      <td>0.0</td>\n",
       "      <td>0.093023</td>\n",
       "      <td>0.0</td>\n",
       "      <td>0.2</td>\n",
       "      <td>0.285714</td>\n",
       "      <td>0.285714</td>\n",
       "    </tr>\n",
       "    <tr>\n",
       "      <th>4</th>\n",
       "      <td>0.745178</td>\n",
       "      <td>1.0</td>\n",
       "      <td>0.000000</td>\n",
       "      <td>0.0</td>\n",
       "      <td>1.0</td>\n",
       "      <td>0.020000</td>\n",
       "      <td>0.000000</td>\n",
       "      <td>0.333333</td>\n",
       "      <td>0.352941</td>\n",
       "      <td>0.0</td>\n",
       "      <td>...</td>\n",
       "      <td>1.0</td>\n",
       "      <td>1.0</td>\n",
       "      <td>1.0</td>\n",
       "      <td>0.0</td>\n",
       "      <td>1.0</td>\n",
       "      <td>0.093023</td>\n",
       "      <td>0.0</td>\n",
       "      <td>0.2</td>\n",
       "      <td>0.285714</td>\n",
       "      <td>0.285714</td>\n",
       "    </tr>\n",
       "  </tbody>\n",
       "</table>\n",
       "<p>5 rows × 34 columns</p>\n",
       "</div>"
      ],
      "text/plain": [
       "   census_tract  action_taken  loan_type  lien_status  \\\n",
       "0      0.745178           1.0   0.666667          0.0   \n",
       "1      0.861853           1.0   0.333333          0.0   \n",
       "2      0.291341           1.0   0.333333          0.0   \n",
       "3      0.799498           1.0   0.333333          0.0   \n",
       "4      0.745178           1.0   0.000000          0.0   \n",
       "\n",
       "   open_end_line_of_credit  loan_amount  combined_loan_to_value_ratio  \\\n",
       "0                      1.0     0.011765                      1.000000   \n",
       "1                      1.0     0.008824                      0.400000   \n",
       "2                      1.0     0.007059                      0.466667   \n",
       "3                      1.0     0.002941                      0.400000   \n",
       "4                      1.0     0.020000                      0.000000   \n",
       "\n",
       "   interest_rate  total_loan_costs  origination_charges  ...  \\\n",
       "0       0.333333          0.352941                  0.0  ...   \n",
       "1       0.333333          0.352941                  0.0  ...   \n",
       "2       0.333333          0.352941                  0.0  ...   \n",
       "3       0.333333          0.352941                  0.0  ...   \n",
       "4       0.333333          0.352941                  0.0  ...   \n",
       "\n",
       "   applicant_ethnicity_1  co_applicant_ethnicity_1  applicant_race_1  \\\n",
       "0                    1.0                       1.0               1.0   \n",
       "1                    1.0                       1.0               1.0   \n",
       "2                    1.0                       1.0               1.0   \n",
       "3                    1.0                       1.0               0.0   \n",
       "4                    1.0                       1.0               1.0   \n",
       "\n",
       "   applicant_race_2  co_applicant_race_1  co_applicant_race_2  applicant_sex  \\\n",
       "0               0.0                  1.0             0.093023            0.0   \n",
       "1               0.0                  1.0             0.093023            0.2   \n",
       "2               0.0                  1.0             0.093023            0.0   \n",
       "3               0.0                  0.0             0.093023            0.0   \n",
       "4               0.0                  1.0             0.093023            0.0   \n",
       "\n",
       "   co_applicant_sex  applicant_age  co_applicant_age  \n",
       "0               0.2       1.000000          0.571429  \n",
       "1               0.0       0.428571          0.428571  \n",
       "2               0.2       0.571429          0.428571  \n",
       "3               0.2       0.285714          0.285714  \n",
       "4               0.2       0.285714          0.285714  \n",
       "\n",
       "[5 rows x 34 columns]"
      ]
     },
     "execution_count": 61,
     "metadata": {},
     "output_type": "execute_result"
    }
   ],
   "source": [
    "df.head()"
   ]
  },
  {
   "cell_type": "code",
   "execution_count": 62,
   "id": "690cba4e-d754-4a23-84b8-1a52d424df2e",
   "metadata": {
    "tags": []
   },
   "outputs": [
    {
     "name": "stdout",
     "output_type": "stream",
     "text": [
      "<class 'pandas.core.frame.DataFrame'>\n",
      "RangeIndex: 49670 entries, 0 to 49669\n",
      "Data columns (total 34 columns):\n",
      " #   Column                                    Non-Null Count  Dtype  \n",
      "---  ------                                    --------------  -----  \n",
      " 0   census_tract                              49670 non-null  float64\n",
      " 1   action_taken                              49670 non-null  float64\n",
      " 2   loan_type                                 49670 non-null  float64\n",
      " 3   lien_status                               49670 non-null  float64\n",
      " 4   open_end_line_of_credit                   49670 non-null  float64\n",
      " 5   loan_amount                               49670 non-null  float64\n",
      " 6   combined_loan_to_value_ratio              49670 non-null  float64\n",
      " 7   interest_rate                             49670 non-null  float64\n",
      " 8   total_loan_costs                          49670 non-null  float64\n",
      " 9   origination_charges                       49670 non-null  float64\n",
      " 10  loan_term                                 49670 non-null  float64\n",
      " 11  negative_amortization                     49670 non-null  float64\n",
      " 12  interest_only_payment                     49670 non-null  float64\n",
      " 13  balloon_payment                           49670 non-null  float64\n",
      " 14  other_nonamortizing_features              49670 non-null  float64\n",
      " 15  property_value                            49670 non-null  float64\n",
      " 16  occupancy_type                            49670 non-null  float64\n",
      " 17  manufactured_home_secured_property_type   49670 non-null  float64\n",
      " 18  manufactured_home_land_property_interest  49670 non-null  float64\n",
      " 19  total_units                               49670 non-null  float64\n",
      " 20  income                                    49670 non-null  float64\n",
      " 21  debt_to_income_ratio                      49670 non-null  float64\n",
      " 22  applicant_credit_score_type               49670 non-null  float64\n",
      " 23  co_applicant_credit_score_type            49670 non-null  float64\n",
      " 24  applicant_ethnicity_1                     49670 non-null  float64\n",
      " 25  co_applicant_ethnicity_1                  49670 non-null  float64\n",
      " 26  applicant_race_1                          49670 non-null  float64\n",
      " 27  applicant_race_2                          49670 non-null  float64\n",
      " 28  co_applicant_race_1                       49670 non-null  float64\n",
      " 29  co_applicant_race_2                       49670 non-null  float64\n",
      " 30  applicant_sex                             49670 non-null  float64\n",
      " 31  co_applicant_sex                          49670 non-null  float64\n",
      " 32  applicant_age                             49670 non-null  float64\n",
      " 33  co_applicant_age                          49670 non-null  float64\n",
      "dtypes: float64(34)\n",
      "memory usage: 12.9 MB\n"
     ]
    }
   ],
   "source": [
    "df.info()"
   ]
  },
  {
   "cell_type": "code",
   "execution_count": 63,
   "id": "af0eefb8-540f-4e6f-bdfb-9c0d012d9a9b",
   "metadata": {},
   "outputs": [],
   "source": [
    "random_state=42"
   ]
  },
  {
   "cell_type": "code",
   "execution_count": 66,
   "id": "c792f0f1-86de-4ee5-ac83-cba459e93efc",
   "metadata": {
    "tags": []
   },
   "outputs": [
    {
     "data": {
      "text/plain": [
       "total_loan_costs\n",
       "0.352941    23423\n",
       "0.058824     3700\n",
       "0.000000     3659\n",
       "0.117647     2987\n",
       "0.176471     2624\n",
       "0.235294     2545\n",
       "0.294118     2306\n",
       "0.411765     1786\n",
       "0.529412     1346\n",
       "0.470588     1317\n",
       "0.588235     1067\n",
       "0.647059      946\n",
       "0.705882      589\n",
       "0.764706      476\n",
       "0.823529      306\n",
       "0.882353      248\n",
       "0.941176      189\n",
       "1.000000      156\n",
       "Name: count, dtype: int64"
      ]
     },
     "execution_count": 66,
     "metadata": {},
     "output_type": "execute_result"
    }
   ],
   "source": [
    "df['total_loan_costs'].value_counts()"
   ]
  },
  {
   "cell_type": "code",
   "execution_count": 8,
   "id": "3987f3fb-2cc4-4aa8-ab8a-91e264524dc8",
   "metadata": {},
   "outputs": [],
   "source": [
    "from imblearn.over_sampling import SMOTE\n",
    "import pandas as pd\n",
    "\n",
    "# Define the minority classes for each column\n",
    "minority_classes = {\n",
    "    'applicant_sex': [0.2, 1.0, 0.4],\n",
    "    'co_applicant_sex': [0.0, 1.0],\n",
    "    'applicant_race_1': [0.0],\n",
    "    'co_applicant_race_1': [0.0],\n",
    "    'applicant_ethnicity_1': [0.0],\n",
    "    'co_applicant_ethnicity_1': [0.0],\n",
    "}\n",
    "\n",
    "# Create a dictionary to store resampled datasets for each column\n",
    "resampled_datasets = {}\n",
    "\n",
    "# Create a new DataFrame to store the resampled data\n",
    "resampled_df = df.copy()\n",
    "\n",
    "# Iterate through the columns and apply SMOTE to each\n",
    "for column in df.columns:\n",
    "    if column in minority_classes:\n",
    "        # Select the specific column\n",
    "        selected_column = df[column].values.reshape(-1, 1)\n",
    "\n",
    "        # Define y_min based on the minority class for this column\n",
    "        y_min = [1 if value in minority_classes[column] else 0 for value in df[column]]\n",
    "\n",
    "        # Apply SMOTE to the selected column with a reduced sampling strategy\n",
    "        smote = SMOTE(sampling_strategy='auto', random_state=42)\n",
    "        X_resampled, y_resampled = smote.fit_resample(selected_column, y_min)\n",
    "\n",
    "        # Ensure that the resampled data has the same number of rows as the original DataFrame\n",
    "        if len(X_resampled) > len(df):\n",
    "            X_resampled = X_resampled[:len(df)]\n",
    "            y_resampled = y_resampled[:len(df)]\n",
    "\n",
    "        # Update the resampled data in the new DataFrame\n",
    "        resampled_df[column] = X_resampled.flatten()\n",
    "\n",
    "# Now, 'resampled_df' contains all 35 columns with the necessary resampling applied to specific columns\n"
   ]
  },
  {
   "cell_type": "code",
   "execution_count": 9,
   "id": "91934cc3-94b5-4be3-9907-5005edc0cc77",
   "metadata": {
    "tags": []
   },
   "outputs": [
    {
     "name": "stdout",
     "output_type": "stream",
     "text": [
      "<class 'pandas.core.frame.DataFrame'>\n",
      "RangeIndex: 49670 entries, 0 to 49669\n",
      "Data columns (total 34 columns):\n",
      " #   Column                                    Non-Null Count  Dtype  \n",
      "---  ------                                    --------------  -----  \n",
      " 0   census_tract                              49670 non-null  float64\n",
      " 1   action_taken                              49670 non-null  float64\n",
      " 2   loan_type                                 49670 non-null  float64\n",
      " 3   lien_status                               49670 non-null  float64\n",
      " 4   open_end_line_of_credit                   49670 non-null  float64\n",
      " 5   loan_amount                               49670 non-null  float64\n",
      " 6   combined_loan_to_value_ratio              49670 non-null  float64\n",
      " 7   interest_rate                             49670 non-null  float64\n",
      " 8   total_loan_costs                          49670 non-null  float64\n",
      " 9   origination_charges                       49670 non-null  float64\n",
      " 10  loan_term                                 49670 non-null  float64\n",
      " 11  negative_amortization                     49670 non-null  float64\n",
      " 12  interest_only_payment                     49670 non-null  float64\n",
      " 13  balloon_payment                           49670 non-null  float64\n",
      " 14  other_nonamortizing_features              49670 non-null  float64\n",
      " 15  property_value                            49670 non-null  float64\n",
      " 16  occupancy_type                            49670 non-null  float64\n",
      " 17  manufactured_home_secured_property_type   49670 non-null  float64\n",
      " 18  manufactured_home_land_property_interest  49670 non-null  float64\n",
      " 19  total_units                               49670 non-null  float64\n",
      " 20  income                                    49670 non-null  float64\n",
      " 21  debt_to_income_ratio                      49670 non-null  float64\n",
      " 22  applicant_credit_score_type               49670 non-null  float64\n",
      " 23  co_applicant_credit_score_type            49670 non-null  float64\n",
      " 24  applicant_ethnicity_1                     49670 non-null  float64\n",
      " 25  co_applicant_ethnicity_1                  49670 non-null  float64\n",
      " 26  applicant_race_1                          49670 non-null  float64\n",
      " 27  applicant_race_2                          49670 non-null  float64\n",
      " 28  co_applicant_race_1                       49670 non-null  float64\n",
      " 29  co_applicant_race_2                       49670 non-null  float64\n",
      " 30  applicant_sex                             49670 non-null  float64\n",
      " 31  co_applicant_sex                          49670 non-null  float64\n",
      " 32  applicant_age                             49670 non-null  float64\n",
      " 33  co_applicant_age                          49670 non-null  float64\n",
      "dtypes: float64(34)\n",
      "memory usage: 12.9 MB\n"
     ]
    }
   ],
   "source": [
    "resampled_df.info()"
   ]
  },
  {
   "cell_type": "code",
   "execution_count": 10,
   "id": "c83da716-3888-4d28-9b72-d6af36c50294",
   "metadata": {},
   "outputs": [
    {
     "data": {
      "image/png": "[encoded data removed]",
      "text/plain": [
       "<Figure size 1500x1000 with 6 Axes>"
      ]
     },
     "metadata": {},
     "output_type": "display_data"
    }
   ],
   "source": [
    "import matplotlib.pyplot as plt\n",
    "import seaborn as sns\n",
    "\n",
    "# Create a list of columns for which you want to plot the distribution\n",
    "columns_to_plot = list(minority_classes.keys())\n",
    "\n",
    "# Calculate the number of plots and rows\n",
    "num_plots = len(columns_to_plot)\n",
    "num_rows = (num_plots // 3) + (num_plots % 3)\n",
    "\n",
    "# Create subplots\n",
    "fig, axes = plt.subplots(num_rows, 3, figsize=(15, 5 * num_rows))\n",
    "axes = axes.ravel()\n",
    "\n",
    "for i, column in enumerate(columns_to_plot):\n",
    "    # Extract the resampled values for the current column from the resampled_df\n",
    "    values = resampled_df[column]\n",
    "\n",
    "    # Create a histogram plot\n",
    "    g = sns.histplot(values, ax=axes[i], bins=10, kde=True)\n",
    "    g.set_title(f'Distribution of {column}')\n",
    "    g.set_xlabel(\"Value\")\n",
    "    g.set_ylabel(\"Count\")\n",
    "\n",
    "# Hide any empty subplots\n",
    "for i in range(num_plots, num_rows * 3):\n",
    "    fig.delaxes(axes[i])\n",
    "\n",
    "plt.tight_layout()\n",
    "plt.show()\n"
   ]
  },
  {
   "cell_type": "markdown",
   "id": "a05b8ef4-d3d4-4f29-990b-3a3d3699e7f0",
   "metadata": {},
   "source": [
    "# Logistic Regression"
   ]
  },
  {
   "cell_type": "code",
   "execution_count": 11,
   "id": "fc83a68b-edea-485b-8ee9-246e4ff6166e",
   "metadata": {},
   "outputs": [],
   "source": [
    "X = resampled_df.drop('action_taken', axis=1)\n",
    "y = resampled_df['action_taken']"
   ]
  },
  {
   "cell_type": "code",
   "execution_count": 12,
   "id": "cb55bc4e-4dbf-44ed-8aa4-6bbeb6fa4553",
   "metadata": {
    "tags": []
   },
   "outputs": [],
   "source": [
    "# Split your data into training and testing sets (80% train, 20% test)\n",
    "X_train, X_test, y_train, y_test = train_test_split(X, y, test_size=0.2, random_state=42)\n",
    "\n",
    "# Now, split the training data into training and validation sets (80% train, 20% validation)\n",
    "X_train, X_val, y_train, y_val = train_test_split(X_train, y_train, test_size=0.2, random_state=42)"
   ]
  },
  {
   "cell_type": "code",
   "execution_count": 56,
   "id": "36f29ef6-11a0-46c4-9ab0-a33056f66d80",
   "metadata": {
    "tags": []
   },
   "outputs": [
    {
     "data": {
      "text/plain": [
       "{0: 'census_tract',\n",
       " 1: 'loan_type',\n",
       " 2: 'lien_status',\n",
       " 3: 'open_end_line_of_credit',\n",
       " 4: 'loan_amount',\n",
       " 5: 'combined_loan_to_value_ratio',\n",
       " 6: 'interest_rate',\n",
       " 7: 'total_loan_costs',\n",
       " 8: 'origination_charges',\n",
       " 9: 'loan_term',\n",
       " 10: 'negative_amortization',\n",
       " 11: 'interest_only_payment',\n",
       " 12: 'balloon_payment',\n",
       " 13: 'other_nonamortizing_features',\n",
       " 14: 'property_value',\n",
       " 15: 'occupancy_type',\n",
       " 16: 'manufactured_home_secured_property_type',\n",
       " 17: 'manufactured_home_land_property_interest',\n",
       " 18: 'total_units',\n",
       " 19: 'income',\n",
       " 20: 'debt_to_income_ratio',\n",
       " 21: 'applicant_credit_score_type',\n",
       " 22: 'co_applicant_credit_score_type',\n",
       " 23: 'applicant_ethnicity_1',\n",
       " 24: 'co_applicant_ethnicity_1',\n",
       " 25: 'applicant_race_1',\n",
       " 26: 'applicant_race_2',\n",
       " 27: 'co_applicant_race_1',\n",
       " 28: 'co_applicant_race_2',\n",
       " 29: 'applicant_sex',\n",
       " 30: 'co_applicant_sex',\n",
       " 31: 'applicant_age',\n",
       " 32: 'co_applicant_age'}"
      ]
     },
     "execution_count": 56,
     "metadata": {},
     "output_type": "execute_result"
    }
   ],
   "source": [
    "column_mapping = {i: col for i, col in enumerate(X_train.columns)}\n",
    "column_mapping"
   ]
  },
  {
   "cell_type": "code",
   "execution_count": 13,
   "id": "a4e5e72a-210f-4b8f-b8dc-64c20fc42f41",
   "metadata": {
    "tags": []
   },
   "outputs": [
    {
     "name": "stdout",
     "output_type": "stream",
     "text": [
      "The accuracy for training: 0.8534667170001259\n",
      "The accuracy for validation: 0.8452440865626573\n",
      "F1 score for validation: 0.836826744494561\n"
     ]
    }
   ],
   "source": [
    "LR = LogisticRegression(penalty='l2', max_iter=1000, C=1.0) \n",
    "LR.fit(X_train, y_train)\n",
    "\n",
    "y_predict = LR.predict(X_train) \n",
    "print(f\"The accuracy for training: {LR.score(X_train, y_train)}\") \n",
    "print(f\"The accuracy for validation: {LR.score(X_val, y_val)}\") \n",
    "print(f\"F1 score for validation: {f1_score(LR.predict(X_val), y_val)}\")"
   ]
  },
  {
   "cell_type": "code",
   "execution_count": 14,
   "id": "f3a05f24-fa21-409d-84c9-e0ecc29d9c47",
   "metadata": {
    "tags": []
   },
   "outputs": [
    {
     "data": {
      "image/png": "[encoded data removed]",
      "text/plain": [
       "<Figure size 1200x1000 with 4 Axes>"
      ]
     },
     "metadata": {},
     "output_type": "display_data"
    },
    {
     "name": "stdout",
     "output_type": "stream",
     "text": [
      "Logistic Regression Model best F1 score 0.849 at prob decision threshold >= 0.454\n"
     ]
    }
   ],
   "source": [
    "thresh_ps = np.linspace(.10, 1, 1000)\n",
    "model_val_probs = LR.predict_proba(X_val)[:, 1]\n",
    "\n",
    "f1_scores, prec_scores, rec_scores, acc_scores = [], [], [], []\n",
    "best_f1_score, best_thresh_p = 0, 0  # Initialize best F1 score and threshold\n",
    "\n",
    "for p in thresh_ps:\n",
    "    model_val_labels = model_val_probs >= p\n",
    "    prec_scores.append(precision_score(y_val, model_val_labels, average='micro'))\n",
    "    rec_scores.append(recall_score(y_val, model_val_labels, average='micro'))\n",
    "    f1 = f1_score(y_val, model_val_labels, average='micro')\n",
    "    f1_scores.append(f1)\n",
    "    acc_scores.append(accuracy_score(y_val, model_val_labels))\n",
    "    \n",
    "    if f1 > best_f1_score:\n",
    "        best_f1_score = f1\n",
    "        best_thresh_p = p\n",
    "\n",
    "# Create subplots with 2 rows and 2 columns\n",
    "fig, axes = plt.subplots(2, 2, figsize=(12, 10))\n",
    "\n",
    "# Adjust the spacing between subplots\n",
    "plt.subplots_adjust(wspace=0.3, hspace=0.3)\n",
    "\n",
    "# Plot F1 score\n",
    "axes[0, 0].plot(thresh_ps, f1_scores, label='F1', color='blue')\n",
    "axes[0, 0].set_title('F1 Score')\n",
    "axes[0, 0].set_xlabel('Threshold')\n",
    "axes[0, 0].set_ylabel('F1 Score')\n",
    "\n",
    "# Plot Precision\n",
    "axes[0, 1].plot(thresh_ps, prec_scores, label='Precision', color='green')\n",
    "axes[0, 1].set_title('Precision')\n",
    "axes[0, 1].set_xlabel('Threshold')\n",
    "axes[0, 1].set_ylabel('Precision')\n",
    "\n",
    "# Plot Recall\n",
    "axes[1, 0].plot(thresh_ps, rec_scores, label='Recall', color='red')\n",
    "axes[1, 0].set_title('Recall')\n",
    "axes[1, 0].set_xlabel('Threshold')\n",
    "axes[1, 0].set_ylabel('Recall')\n",
    "\n",
    "# Plot Accuracy\n",
    "axes[1, 1].plot(thresh_ps, acc_scores, label='Accuracy', color='purple')\n",
    "axes[1, 1].set_title('Accuracy')\n",
    "axes[1, 1].set_xlabel('Threshold')\n",
    "axes[1, 1].set_ylabel('Accuracy')\n",
    "\n",
    "# Add legends to each subplot\n",
    "for ax in axes.flatten():\n",
    "    ax.legend()\n",
    "\n",
    "# Display the plots\n",
    "plt.show()\n",
    "\n",
    "\n",
    "print('Logistic Regression Model best F1 score %.3f at prob decision threshold >= %.3f' \n",
    "      % (best_f1_score, best_thresh_p))\n"
   ]
  },
  {
   "cell_type": "code",
   "execution_count": 15,
   "id": "d1556a3b-a701-4f6c-b861-03335ecf3c31",
   "metadata": {
    "tags": []
   },
   "outputs": [
    {
     "data": {
      "image/png": "[encoded data removed]",
      "text/plain": [
       "<Figure size 800x600 with 1 Axes>"
      ]
     },
     "metadata": {},
     "output_type": "display_data"
    }
   ],
   "source": [
    "# Get the predicted probabilities for the positive class\n",
    "model_val_probs = LR.predict_proba(X_val)[:, 1]\n",
    "\n",
    "# Calculate the ROC curve\n",
    "fpr, tpr, thresholds = roc_curve(y_val, model_val_probs)\n",
    "\n",
    "# Calculate the ROC AUC score\n",
    "roc_auc = roc_auc_score(y_val, model_val_probs)\n",
    "\n",
    "# Plot the ROC curve\n",
    "plt.figure(figsize=(8, 6))\n",
    "plt.plot(fpr, tpr, color='darkorange', lw=2, label=f'ROC curve (area = {roc_auc:.2f})')\n",
    "plt.plot([0, 1], [0, 1], color='navy', lw=2, linestyle='--')\n",
    "plt.xlim([0.0, 1.0])\n",
    "plt.ylim([0.0, 1.05])\n",
    "plt.xlabel('False Positive Rate')\n",
    "plt.ylabel('True Positive Rate')\n",
    "plt.title('Receiver Operating Characteristic (ROC) Curve')\n",
    "plt.legend(loc=\"lower right\")\n",
    "plt.show()\n"
   ]
  },
  {
   "cell_type": "code",
   "execution_count": 16,
   "id": "5b29e30e-61bb-48ef-bc56-a7adc3b2acc1",
   "metadata": {
    "tags": []
   },
   "outputs": [
    {
     "name": "stdout",
     "output_type": "stream",
     "text": [
      "Default threshold:\n",
      "Precision: 0.8313,   Recall: 0.7644\n"
     ]
    }
   ],
   "source": [
    "y_predict = (LR.predict_proba(X_train)[:, 1] >= 0.65)\n",
    "\n",
    "print(\"Default threshold:\")\n",
    "print(\"Precision: {:6.4f},   Recall: {:6.4f}\".format(precision_score(y_train, y_predict), \n",
    "                                                     recall_score(y_train, y_predict)))"
   ]
  },
  {
   "cell_type": "code",
   "execution_count": 17,
   "id": "7c10a4ca-b01e-4596-a425-b414ad874e97",
   "metadata": {
    "tags": []
   },
   "outputs": [
    {
     "data": {
      "image/png": "[encoded data removed]",
      "text/plain": [
       "<Figure size 640x480 with 2 Axes>"
      ]
     },
     "metadata": {},
     "output_type": "display_data"
    }
   ],
   "source": [
    "y_predict = (LR.predict_proba(X_val)[:, 1] >= 0.65)\n",
    "\n",
    "confusion = confusion_matrix(y_val, y_predict)\n",
    "\n",
    "sns.heatmap(confusion , cmap = plt.cm.Blues, annot = True , square = True , fmt = 'd',\n",
    "           xticklabels = ['accept','decline'],\n",
    "           yticklabels = ['accept','decline']);\n",
    "plt.xlabel('prediction')\n",
    "plt.ylabel('actual');"
   ]
  },
  {
   "cell_type": "markdown",
   "id": "a2e5c7f0-a0c0-4b84-b366-9202f63a5f77",
   "metadata": {},
   "source": [
    "Conclusion: clearly overfitting. "
   ]
  },
  {
   "cell_type": "markdown",
   "id": "d0973a8a-aea5-4358-afb5-a27aa511751f",
   "metadata": {},
   "source": [
    "# KNeighborsClassifier"
   ]
  },
  {
   "cell_type": "code",
   "execution_count": 18,
   "id": "d33aa72a-4e52-4692-a497-fcaec8bba464",
   "metadata": {
    "tags": []
   },
   "outputs": [
    {
     "name": "stdout",
     "output_type": "stream",
     "text": [
      "The accuracy for training :  0.9321127469485341\n",
      "The accuracy for validation:  0.8764469048817313\n",
      "F1_score for train:  0.9267829273257786\n",
      "F1_score for validation:  0.8683646112600536\n"
     ]
    }
   ],
   "source": [
    "knn = KNeighborsClassifier(n_neighbors=3)\n",
    "knn.fit(X_train, y_train)\n",
    "\n",
    "# Now, you can calculate the accuracy and F1 score\n",
    "print('The accuracy for training : ', knn.score(X_train, y_train))\n",
    "print('The accuracy for validation: ', knn.score(X_val, y_val))\n",
    "print('F1_score for train: ', f1_score(knn.predict(X_train), y_train))\n",
    "print('F1_score for validation: ', f1_score(knn.predict(X_val), y_val))"
   ]
  },
  {
   "cell_type": "code",
   "execution_count": 19,
   "id": "e1345765-1ab0-49a4-8e93-9fd3835e5778",
   "metadata": {
    "tags": []
   },
   "outputs": [
    {
     "data": {
      "image/png": "[encoded data removed]",
      "text/plain": [
       "<Figure size 800x600 with 1 Axes>"
      ]
     },
     "metadata": {},
     "output_type": "display_data"
    }
   ],
   "source": [
    "# Get the predicted probabilities for the positive class\n",
    "model_val_probs = knn.predict_proba(X_val)[:, 1]\n",
    "\n",
    "# Calculate the ROC curve\n",
    "fpr, tpr, thresholds = roc_curve(y_val, model_val_probs)\n",
    "\n",
    "# Calculate the ROC AUC score\n",
    "roc_auc = roc_auc_score(y_val, model_val_probs)\n",
    "\n",
    "# Plot the ROC curve\n",
    "plt.figure(figsize=(8, 6))\n",
    "plt.plot(fpr, tpr, color='darkorange', lw=2, label=f'ROC curve (area = {roc_auc:.2f})')\n",
    "plt.plot([0, 1], [0, 1], color='navy', lw=2, linestyle='--')\n",
    "plt.xlim([0.0, 1.0])\n",
    "plt.ylim([0.0, 1.05])\n",
    "plt.xlabel('False Positive Rate')\n",
    "plt.ylabel('True Positive Rate')\n",
    "plt.title('Receiver Operating Characteristic (ROC) Curve')\n",
    "plt.legend(loc=\"lower right\")\n",
    "plt.show()"
   ]
  },
  {
   "cell_type": "code",
   "execution_count": 20,
   "id": "297cf905-81b2-47aa-934d-e602d7d827d2",
   "metadata": {
    "tags": []
   },
   "outputs": [
    {
     "name": "stdout",
     "output_type": "stream",
     "text": [
      "Default threshold:\n",
      "Precision: 0.8803,   Recall: 0.9785\n"
     ]
    }
   ],
   "source": [
    "y_predict = (knn.predict_proba(X_train)[:, 1] >= 0.65)\n",
    "\n",
    "print(\"Default threshold:\")\n",
    "print(\"Precision: {:6.4f},   Recall: {:6.4f}\".format(precision_score(y_train, y_predict), \n",
    "                                                     recall_score(y_train, y_predict)))"
   ]
  },
  {
   "cell_type": "code",
   "execution_count": 21,
   "id": "85d3d33c-9285-45ea-9bd2-d03d2795bbc4",
   "metadata": {
    "tags": []
   },
   "outputs": [
    {
     "data": {
      "image/png": "[encoded data removed]",
      "text/plain": [
       "<Figure size 640x480 with 2 Axes>"
      ]
     },
     "metadata": {},
     "output_type": "display_data"
    }
   ],
   "source": [
    "y_predict = (knn.predict_proba(X_val)[:, 1] >= 0.65)\n",
    "\n",
    "confusion = confusion_matrix(y_val, y_predict)\n",
    "\n",
    "sns.heatmap(confusion , cmap = plt.cm.Blues, annot = True , square = True , fmt = 'd',\n",
    "           xticklabels = ['accept','decline'],\n",
    "           yticklabels = ['accept','decline']);\n",
    "plt.xlabel('prediction')\n",
    "plt.ylabel('actual');"
   ]
  },
  {
   "cell_type": "markdown",
   "id": "36bfb8bf-4c68-4dcb-a3a5-4cffec3c9381",
   "metadata": {},
   "source": [
    "Conclusion: clearly overfitting. "
   ]
  },
  {
   "cell_type": "markdown",
   "id": "6b69e9c6-8e71-42b6-ba7e-0e3da5a6ac68",
   "metadata": {},
   "source": [
    "# Naive Bayes"
   ]
  },
  {
   "cell_type": "code",
   "execution_count": 22,
   "id": "7efa3fa5-b172-433d-aabe-9391ad0e9240",
   "metadata": {
    "tags": []
   },
   "outputs": [
    {
     "name": "stdout",
     "output_type": "stream",
     "text": [
      "The accuracy for training :  0.7926261482320373\n",
      "The accuracy for validation:  0.7922747861097131\n",
      "f1_score for train:  0.6934523809523809\n",
      "f1_score for validation:  0.6843815714012618\n"
     ]
    }
   ],
   "source": [
    "Gaussian = GaussianNB()\n",
    "Gaussian.fit(X_train, y_train)\n",
    "print('The accuracy for training : ',Gaussian.score(X_train,y_train))\n",
    "print('The accuracy for validation: ',Gaussian.score(X_val,y_val))\n",
    "print('f1_score for train: ',f1_score(Gaussian.predict(X_train), y_train))\n",
    "print('f1_score for validation: ',f1_score(Gaussian.predict(X_val), y_val))"
   ]
  },
  {
   "cell_type": "markdown",
   "id": "cda4d28b-7f23-4cdc-b990-4b286adf4356",
   "metadata": {},
   "source": [
    "# Ada Boost Classifier"
   ]
  },
  {
   "cell_type": "code",
   "execution_count": 23,
   "id": "c52c0a53-4d44-481f-91e0-d122d3a9ba19",
   "metadata": {
    "tags": []
   },
   "outputs": [
    {
     "name": "stdout",
     "output_type": "stream",
     "text": [
      "The accuracy for training :  0.9846797533660501\n",
      "The accuracy for validation:  0.9846502264720685\n",
      "f1_score for train:  0.9828539238812801\n",
      "f1_score for validation:  0.982496413199426\n"
     ]
    }
   ],
   "source": [
    "AB_CLF = AdaBoostClassifier(n_estimators=50, random_state=random_state)\n",
    "AB_CLF.fit(X_train , y_train)\n",
    "print('The accuracy for training : ',AB_CLF.score(X_train,y_train))\n",
    "print('The accuracy for validation: ',AB_CLF.score(X_val,y_val))\n",
    "print('f1_score for train: ',f1_score(AB_CLF.predict(X_train), y_train))\n",
    "print('f1_score for validation: ',f1_score(AB_CLF.predict(X_val), y_val))"
   ]
  },
  {
   "cell_type": "markdown",
   "id": "0afab59d-1ecd-4dc9-aaf7-4d1354c555cd",
   "metadata": {},
   "source": [
    "# Stochastic Gradient Descent Algorithm"
   ]
  },
  {
   "cell_type": "code",
   "execution_count": 24,
   "id": "4857709a-70d5-4f7a-bf53-67597970a961",
   "metadata": {
    "tags": []
   },
   "outputs": [
    {
     "name": "stdout",
     "output_type": "stream",
     "text": [
      "The accuracy for training :  0.8912482697873412\n",
      "The accuracy for validation:  0.8896577755410167\n",
      "f1_score for train:  0.8878507704785076\n",
      "f1_score for validation:  0.8844684494796469\n"
     ]
    }
   ],
   "source": [
    "SG_PIP_CLF = make_pipeline(StandardScaler(),\n",
    "                     SGDClassifier(max_iter=100, tol=1e-3))\n",
    "SG_PIP_CLF.fit(X_train , y_train)\n",
    "print('The accuracy for training : ',SG_PIP_CLF.score(X_train,y_train))\n",
    "print('The accuracy for validation: ',SG_PIP_CLF.score(X_val,y_val))\n",
    "print('f1_score for train: ',f1_score(SG_PIP_CLF.predict(X_train), y_train))\n",
    "print('f1_score for validation: ',f1_score(SG_PIP_CLF.predict(X_val), y_val))"
   ]
  },
  {
   "cell_type": "markdown",
   "id": "61ca4efa-d45a-4e38-9b96-07fd9b5cbc66",
   "metadata": {},
   "source": [
    "# XGBoost (eXtreme Gradient Boosting) - this takes a very long time!"
   ]
  },
  {
   "cell_type": "code",
   "execution_count": 25,
   "id": "27e572a7-2d56-4b77-a422-0c174c789aad",
   "metadata": {
    "tags": []
   },
   "outputs": [
    {
     "name": "stdout",
     "output_type": "stream",
     "text": [
      "Fitting 3 folds for each of 243 candidates, totalling 729 fits\n",
      "[0]\tvalidation_0-logloss:0.58965\n",
      "[1]\tvalidation_0-logloss:0.45270\n",
      "[2]\tvalidation_0-logloss:0.36082\n",
      "[3]\tvalidation_0-logloss:0.29669\n",
      "[4]\tvalidation_0-logloss:0.26995\n",
      "[5]\tvalidation_0-logloss:0.22541\n",
      "[6]\tvalidation_0-logloss:0.19115\n",
      "[7]\tvalidation_0-logloss:0.16475\n",
      "[8]\tvalidation_0-logloss:0.14703\n",
      "[9]\tvalidation_0-logloss:0.13592\n",
      "[10]\tvalidation_0-logloss:0.11981\n",
      "[11]\tvalidation_0-logloss:0.11066\n",
      "[12]\tvalidation_0-logloss:0.10351\n",
      "[13]\tvalidation_0-logloss:0.09436\n",
      "[14]\tvalidation_0-logloss:0.08719\n",
      "[15]\tvalidation_0-logloss:0.08356\n",
      "[16]\tvalidation_0-logloss:0.08044\n",
      "[17]\tvalidation_0-logloss:0.07773\n",
      "[18]\tvalidation_0-logloss:0.07557\n",
      "[19]\tvalidation_0-logloss:0.07196\n",
      "[20]\tvalidation_0-logloss:0.06910\n",
      "[21]\tvalidation_0-logloss:0.06677\n",
      "[22]\tvalidation_0-logloss:0.06481\n",
      "[23]\tvalidation_0-logloss:0.06323\n",
      "[24]\tvalidation_0-logloss:0.06198\n",
      "[25]\tvalidation_0-logloss:0.06091\n",
      "[26]\tvalidation_0-logloss:0.06006\n",
      "[27]\tvalidation_0-logloss:0.05934\n",
      "[28]\tvalidation_0-logloss:0.05872\n",
      "[29]\tvalidation_0-logloss:0.05818\n",
      "[30]\tvalidation_0-logloss:0.05779\n",
      "[31]\tvalidation_0-logloss:0.05733\n",
      "[32]\tvalidation_0-logloss:0.05701\n",
      "[33]\tvalidation_0-logloss:0.05667\n",
      "[34]\tvalidation_0-logloss:0.05637\n",
      "[35]\tvalidation_0-logloss:0.05611\n",
      "[36]\tvalidation_0-logloss:0.05589\n",
      "[37]\tvalidation_0-logloss:0.05557\n",
      "[38]\tvalidation_0-logloss:0.05542\n",
      "[39]\tvalidation_0-logloss:0.05513\n",
      "[40]\tvalidation_0-logloss:0.05497\n",
      "[41]\tvalidation_0-logloss:0.05468\n",
      "[42]\tvalidation_0-logloss:0.05447\n",
      "[43]\tvalidation_0-logloss:0.05434\n",
      "[44]\tvalidation_0-logloss:0.05408\n",
      "[45]\tvalidation_0-logloss:0.05395\n",
      "[46]\tvalidation_0-logloss:0.05381\n",
      "[47]\tvalidation_0-logloss:0.05367\n",
      "[48]\tvalidation_0-logloss:0.05367\n",
      "[49]\tvalidation_0-logloss:0.05353\n",
      "[50]\tvalidation_0-logloss:0.05338\n",
      "[51]\tvalidation_0-logloss:0.05316\n",
      "[52]\tvalidation_0-logloss:0.05305\n",
      "[53]\tvalidation_0-logloss:0.05297\n",
      "[54]\tvalidation_0-logloss:0.05292\n",
      "[55]\tvalidation_0-logloss:0.05281\n",
      "[56]\tvalidation_0-logloss:0.05274\n",
      "[57]\tvalidation_0-logloss:0.05272\n",
      "[58]\tvalidation_0-logloss:0.05270\n",
      "[59]\tvalidation_0-logloss:0.05255\n",
      "[60]\tvalidation_0-logloss:0.05255\n",
      "[61]\tvalidation_0-logloss:0.05242\n",
      "[62]\tvalidation_0-logloss:0.05233\n",
      "[63]\tvalidation_0-logloss:0.05226\n",
      "[64]\tvalidation_0-logloss:0.05221\n",
      "[65]\tvalidation_0-logloss:0.05208\n",
      "[66]\tvalidation_0-logloss:0.05210\n",
      "[67]\tvalidation_0-logloss:0.05205\n",
      "[68]\tvalidation_0-logloss:0.05198\n",
      "[69]\tvalidation_0-logloss:0.05197\n",
      "[70]\tvalidation_0-logloss:0.05194\n",
      "[71]\tvalidation_0-logloss:0.05187\n",
      "[72]\tvalidation_0-logloss:0.05186\n",
      "[73]\tvalidation_0-logloss:0.05185\n",
      "[74]\tvalidation_0-logloss:0.05178\n",
      "[75]\tvalidation_0-logloss:0.05164\n",
      "[76]\tvalidation_0-logloss:0.05168\n",
      "[77]\tvalidation_0-logloss:0.05162\n",
      "[78]\tvalidation_0-logloss:0.05163\n",
      "[79]\tvalidation_0-logloss:0.05161\n",
      "[80]\tvalidation_0-logloss:0.05148\n",
      "[81]\tvalidation_0-logloss:0.05143\n",
      "[82]\tvalidation_0-logloss:0.05147\n",
      "[83]\tvalidation_0-logloss:0.05145\n"
     ]
    },
    {
     "data": {
      "text/html": [
       "<style>#sk-container-id-1 {color: black;}#sk-container-id-1 pre{padding: 0;}#sk-container-id-1 div.sk-toggleable {background-color: white;}#sk-container-id-1 label.sk-toggleable__label {cursor: pointer;display: block;width: 100%;margin-bottom: 0;padding: 0.3em;box-sizing: border-box;text-align: center;}#sk-container-id-1 label.sk-toggleable__label-arrow:before {content: \"▸\";float: left;margin-right: 0.25em;color: #696969;}#sk-container-id-1 label.sk-toggleable__label-arrow:hover:before {color: black;}#sk-container-id-1 div.sk-estimator:hover label.sk-toggleable__label-arrow:before {color: black;}#sk-container-id-1 div.sk-toggleable__content {max-height: 0;max-width: 0;overflow: hidden;text-align: left;background-color: #f0f8ff;}#sk-container-id-1 div.sk-toggleable__content pre {margin: 0.2em;color: black;border-radius: 0.25em;background-color: #f0f8ff;}#sk-container-id-1 input.sk-toggleable__control:checked~div.sk-toggleable__content {max-height: 200px;max-width: 100%;overflow: auto;}#sk-container-id-1 input.sk-toggleable__control:checked~label.sk-toggleable__label-arrow:before {content: \"▾\";}#sk-container-id-1 div.sk-estimator input.sk-toggleable__control:checked~label.sk-toggleable__label {background-color: #d4ebff;}#sk-container-id-1 div.sk-label input.sk-toggleable__control:checked~label.sk-toggleable__label {background-color: #d4ebff;}#sk-container-id-1 input.sk-hidden--visually {border: 0;clip: rect(1px 1px 1px 1px);clip: rect(1px, 1px, 1px, 1px);height: 1px;margin: -1px;overflow: hidden;padding: 0;position: absolute;width: 1px;}#sk-container-id-1 div.sk-estimator {font-family: monospace;background-color: #f0f8ff;border: 1px dotted black;border-radius: 0.25em;box-sizing: border-box;margin-bottom: 0.5em;}#sk-container-id-1 div.sk-estimator:hover {background-color: #d4ebff;}#sk-container-id-1 div.sk-parallel-item::after {content: \"\";width: 100%;border-bottom: 1px solid gray;flex-grow: 1;}#sk-container-id-1 div.sk-label:hover label.sk-toggleable__label {background-color: #d4ebff;}#sk-container-id-1 div.sk-serial::before {content: \"\";position: absolute;border-left: 1px solid gray;box-sizing: border-box;top: 0;bottom: 0;left: 50%;z-index: 0;}#sk-container-id-1 div.sk-serial {display: flex;flex-direction: column;align-items: center;background-color: white;padding-right: 0.2em;padding-left: 0.2em;position: relative;}#sk-container-id-1 div.sk-item {position: relative;z-index: 1;}#sk-container-id-1 div.sk-parallel {display: flex;align-items: stretch;justify-content: center;background-color: white;position: relative;}#sk-container-id-1 div.sk-item::before, #sk-container-id-1 div.sk-parallel-item::before {content: \"\";position: absolute;border-left: 1px solid gray;box-sizing: border-box;top: 0;bottom: 0;left: 50%;z-index: -1;}#sk-container-id-1 div.sk-parallel-item {display: flex;flex-direction: column;z-index: 1;position: relative;background-color: white;}#sk-container-id-1 div.sk-parallel-item:first-child::after {align-self: flex-end;width: 50%;}#sk-container-id-1 div.sk-parallel-item:last-child::after {align-self: flex-start;width: 50%;}#sk-container-id-1 div.sk-parallel-item:only-child::after {width: 0;}#sk-container-id-1 div.sk-dashed-wrapped {border: 1px dashed gray;margin: 0 0.4em 0.5em 0.4em;box-sizing: border-box;padding-bottom: 0.4em;background-color: white;}#sk-container-id-1 div.sk-label label {font-family: monospace;font-weight: bold;display: inline-block;line-height: 1.2em;}#sk-container-id-1 div.sk-label-container {text-align: center;}#sk-container-id-1 div.sk-container {/* jupyter's `normalize.less` sets `[hidden] { display: none; }` but bootstrap.min.css set `[hidden] { display: none !important; }` so we also need the `!important` here to be able to override the default hidden behavior on the sphinx rendered scikit-learn.org. See: https://github.com/scikit-learn/scikit-learn/issues/21755 */display: inline-block !important;position: relative;}#sk-container-id-1 div.sk-text-repr-fallback {display: none;}</style><div id=\"sk-container-id-1\" class=\"sk-top-container\"><div class=\"sk-text-repr-fallback\"><pre>GridSearchCV(cv=KFold(n_splits=3, random_state=42, shuffle=True),\n",
       "             estimator=XGBClassifier(base_score=None, booster=None,\n",
       "                                     callbacks=None, colsample_bylevel=None,\n",
       "                                     colsample_bynode=None,\n",
       "                                     colsample_bytree=None, device=None,\n",
       "                                     early_stopping_rounds=3,\n",
       "                                     enable_categorical=False, eval_metric=None,\n",
       "                                     feature_types=None, gamma=None,\n",
       "                                     grow_policy=None, importance_type=None,\n",
       "                                     intera...\n",
       "                                     n_jobs=None, num_parallel_tree=None,\n",
       "                                     random_state=None, ...),\n",
       "             n_jobs=3,\n",
       "             param_grid={&#x27;colsample_bytree&#x27;: [0.7], &#x27;eval_metric&#x27;: [&#x27;logloss&#x27;],\n",
       "                         &#x27;learning_rate&#x27;: [0.1, 0.2, 0.3],\n",
       "                         &#x27;max_depth&#x27;: [3, 4, 5], &#x27;min_child_weight&#x27;: [1, 5, 10],\n",
       "                         &#x27;missing&#x27;: [-999], &#x27;n_estimators&#x27;: [8000, 9000, 10000],\n",
       "                         &#x27;nthread&#x27;: [4], &#x27;objective&#x27;: [&#x27;binary:logistic&#x27;],\n",
       "                         &#x27;seed&#x27;: [1337], &#x27;subsample&#x27;: [0.5, 0.7, 0.9]},\n",
       "             scoring=&#x27;neg_log_loss&#x27;, verbose=4)</pre><b>In a Jupyter environment, please rerun this cell to show the HTML representation or trust the notebook. <br />On GitHub, the HTML representation is unable to render, please try loading this page with nbviewer.org.</b></div><div class=\"sk-container\" hidden><div class=\"sk-item sk-dashed-wrapped\"><div class=\"sk-label-container\"><div class=\"sk-label sk-toggleable\"><input class=\"sk-toggleable__control sk-hidden--visually\" id=\"sk-estimator-id-1\" type=\"checkbox\" ><label for=\"sk-estimator-id-1\" class=\"sk-toggleable__label sk-toggleable__label-arrow\">GridSearchCV</label><div class=\"sk-toggleable__content\"><pre>GridSearchCV(cv=KFold(n_splits=3, random_state=42, shuffle=True),\n",
       "             estimator=XGBClassifier(base_score=None, booster=None,\n",
       "                                     callbacks=None, colsample_bylevel=None,\n",
       "                                     colsample_bynode=None,\n",
       "                                     colsample_bytree=None, device=None,\n",
       "                                     early_stopping_rounds=3,\n",
       "                                     enable_categorical=False, eval_metric=None,\n",
       "                                     feature_types=None, gamma=None,\n",
       "                                     grow_policy=None, importance_type=None,\n",
       "                                     intera...\n",
       "                                     n_jobs=None, num_parallel_tree=None,\n",
       "                                     random_state=None, ...),\n",
       "             n_jobs=3,\n",
       "             param_grid={&#x27;colsample_bytree&#x27;: [0.7], &#x27;eval_metric&#x27;: [&#x27;logloss&#x27;],\n",
       "                         &#x27;learning_rate&#x27;: [0.1, 0.2, 0.3],\n",
       "                         &#x27;max_depth&#x27;: [3, 4, 5], &#x27;min_child_weight&#x27;: [1, 5, 10],\n",
       "                         &#x27;missing&#x27;: [-999], &#x27;n_estimators&#x27;: [8000, 9000, 10000],\n",
       "                         &#x27;nthread&#x27;: [4], &#x27;objective&#x27;: [&#x27;binary:logistic&#x27;],\n",
       "                         &#x27;seed&#x27;: [1337], &#x27;subsample&#x27;: [0.5, 0.7, 0.9]},\n",
       "             scoring=&#x27;neg_log_loss&#x27;, verbose=4)</pre></div></div></div><div class=\"sk-parallel\"><div class=\"sk-parallel-item\"><div class=\"sk-item\"><div class=\"sk-label-container\"><div class=\"sk-label sk-toggleable\"><input class=\"sk-toggleable__control sk-hidden--visually\" id=\"sk-estimator-id-2\" type=\"checkbox\" ><label for=\"sk-estimator-id-2\" class=\"sk-toggleable__label sk-toggleable__label-arrow\">estimator: XGBClassifier</label><div class=\"sk-toggleable__content\"><pre>XGBClassifier(base_score=None, booster=None, callbacks=None,\n",
       "              colsample_bylevel=None, colsample_bynode=None,\n",
       "              colsample_bytree=None, device=None, early_stopping_rounds=3,\n",
       "              enable_categorical=False, eval_metric=None, feature_types=None,\n",
       "              gamma=None, grow_policy=None, importance_type=None,\n",
       "              interaction_constraints=None, learning_rate=None, max_bin=None,\n",
       "              max_cat_threshold=None, max_cat_to_onehot=None,\n",
       "              max_delta_step=None, max_depth=None, max_leaves=None,\n",
       "              min_child_weight=None, missing=nan, monotone_constraints=None,\n",
       "              multi_strategy=None, n_estimators=None, n_jobs=None,\n",
       "              num_parallel_tree=None, random_state=None, ...)</pre></div></div></div><div class=\"sk-serial\"><div class=\"sk-item\"><div class=\"sk-estimator sk-toggleable\"><input class=\"sk-toggleable__control sk-hidden--visually\" id=\"sk-estimator-id-3\" type=\"checkbox\" ><label for=\"sk-estimator-id-3\" class=\"sk-toggleable__label sk-toggleable__label-arrow\">XGBClassifier</label><div class=\"sk-toggleable__content\"><pre>XGBClassifier(base_score=None, booster=None, callbacks=None,\n",
       "              colsample_bylevel=None, colsample_bynode=None,\n",
       "              colsample_bytree=None, device=None, early_stopping_rounds=3,\n",
       "              enable_categorical=False, eval_metric=None, feature_types=None,\n",
       "              gamma=None, grow_policy=None, importance_type=None,\n",
       "              interaction_constraints=None, learning_rate=None, max_bin=None,\n",
       "              max_cat_threshold=None, max_cat_to_onehot=None,\n",
       "              max_delta_step=None, max_depth=None, max_leaves=None,\n",
       "              min_child_weight=None, missing=nan, monotone_constraints=None,\n",
       "              multi_strategy=None, n_estimators=None, n_jobs=None,\n",
       "              num_parallel_tree=None, random_state=None, ...)</pre></div></div></div></div></div></div></div></div></div></div>"
      ],
      "text/plain": [
       "GridSearchCV(cv=KFold(n_splits=3, random_state=42, shuffle=True),\n",
       "             estimator=XGBClassifier(base_score=None, booster=None,\n",
       "                                     callbacks=None, colsample_bylevel=None,\n",
       "                                     colsample_bynode=None,\n",
       "                                     colsample_bytree=None, device=None,\n",
       "                                     early_stopping_rounds=3,\n",
       "                                     enable_categorical=False, eval_metric=None,\n",
       "                                     feature_types=None, gamma=None,\n",
       "                                     grow_policy=None, importance_type=None,\n",
       "                                     intera...\n",
       "                                     n_jobs=None, num_parallel_tree=None,\n",
       "                                     random_state=None, ...),\n",
       "             n_jobs=3,\n",
       "             param_grid={'colsample_bytree': [0.7], 'eval_metric': ['logloss'],\n",
       "                         'learning_rate': [0.1, 0.2, 0.3],\n",
       "                         'max_depth': [3, 4, 5], 'min_child_weight': [1, 5, 10],\n",
       "                         'missing': [-999], 'n_estimators': [8000, 9000, 10000],\n",
       "                         'nthread': [4], 'objective': ['binary:logistic'],\n",
       "                         'seed': [1337], 'subsample': [0.5, 0.7, 0.9]},\n",
       "             scoring='neg_log_loss', verbose=4)"
      ]
     },
     "execution_count": 25,
     "metadata": {},
     "output_type": "execute_result"
    }
   ],
   "source": [
    "# Add early stopping\n",
    "early_stopping_rounds = 3\n",
    "\n",
    "xgb_model1 = xgb.XGBClassifier(early_stopping_rounds=early_stopping_rounds)\n",
    "\n",
    "parameters = {\n",
    "    'nthread': [4],\n",
    "    'objective': ['binary:logistic'],\n",
    "    'learning_rate': [0.1, 0.2, 0.3],\n",
    "    'max_depth': [3, 4, 5],\n",
    "    'min_child_weight': [1, 5, 10],\n",
    "    'subsample': [0.5, 0.7, 0.9],\n",
    "    'colsample_bytree': [0.7],\n",
    "    'n_estimators': [8000, 9000, 10000],\n",
    "    'missing': [-999],\n",
    "    'seed': [1337],\n",
    "    'eval_metric': ['logloss'],\n",
    "}\n",
    "\n",
    "# Use 3-fold cross-validation\n",
    "clf = GridSearchCV(xgb_model1, parameters, n_jobs=3,\n",
    "                   cv=KFold(n_splits=3, shuffle=True, random_state=random_state),\n",
    "                   scoring='neg_log_loss',  \n",
    "                   verbose=4, refit=True)\n",
    "\n",
    "\n",
    "# Implement early stopping\n",
    "eval_set = [(X_val, y_val)]\n",
    "clf.fit(X_train, y_train, eval_set=eval_set)"
   ]
  },
  {
   "cell_type": "code",
   "execution_count": 26,
   "id": "f3597480-9224-49e9-8d10-0dc7fe1ef3b9",
   "metadata": {},
   "outputs": [
    {
     "data": {
      "text/plain": [
       "{'colsample_bytree': 0.7,\n",
       " 'eval_metric': 'logloss',\n",
       " 'learning_rate': 0.2,\n",
       " 'max_depth': 4,\n",
       " 'min_child_weight': 1,\n",
       " 'missing': -999,\n",
       " 'n_estimators': 8000,\n",
       " 'nthread': 4,\n",
       " 'objective': 'binary:logistic',\n",
       " 'seed': 1337,\n",
       " 'subsample': 0.9}"
      ]
     },
     "execution_count": 26,
     "metadata": {},
     "output_type": "execute_result"
    }
   ],
   "source": [
    "clf.best_params_"
   ]
  },
  {
   "cell_type": "code",
   "execution_count": 27,
   "id": "1d86ce0a-f27c-41ab-bf6e-b04b165e47b8",
   "metadata": {
    "tags": []
   },
   "outputs": [],
   "source": [
    "# Define your hyperparameters\n",
    "params = {'colsample_bytree': 0.7,\n",
    " 'eval_metric': 'logloss',\n",
    " 'learning_rate': 0.2,\n",
    " 'max_depth': 5,\n",
    " 'min_child_weight': 1,\n",
    " 'missing': -999,\n",
    " 'n_estimators': 8000,\n",
    " 'nthread': 4,\n",
    " 'objective': 'binary:logistic',\n",
    " 'seed': 1337,\n",
    " 'subsample': 0.9}"
   ]
  },
  {
   "cell_type": "code",
   "execution_count": 55,
   "id": "0c01649f-f223-4d1e-96f3-4d5c387c86d5",
   "metadata": {
    "tags": []
   },
   "outputs": [
    {
     "data": {
      "text/html": [
       "<div>\n",
       "<style scoped>\n",
       "    .dataframe tbody tr th:only-of-type {\n",
       "        vertical-align: middle;\n",
       "    }\n",
       "\n",
       "    .dataframe tbody tr th {\n",
       "        vertical-align: top;\n",
       "    }\n",
       "\n",
       "    .dataframe thead th {\n",
       "        text-align: right;\n",
       "    }\n",
       "</style>\n",
       "<table border=\"1\" class=\"dataframe\">\n",
       "  <thead>\n",
       "    <tr style=\"text-align: right;\">\n",
       "      <th></th>\n",
       "      <th>census_tract</th>\n",
       "      <th>loan_type</th>\n",
       "      <th>lien_status</th>\n",
       "      <th>open_end_line_of_credit</th>\n",
       "      <th>loan_amount</th>\n",
       "      <th>combined_loan_to_value_ratio</th>\n",
       "      <th>interest_rate</th>\n",
       "      <th>total_loan_costs</th>\n",
       "      <th>origination_charges</th>\n",
       "      <th>loan_term</th>\n",
       "      <th>...</th>\n",
       "      <th>applicant_ethnicity_1</th>\n",
       "      <th>co_applicant_ethnicity_1</th>\n",
       "      <th>applicant_race_1</th>\n",
       "      <th>applicant_race_2</th>\n",
       "      <th>co_applicant_race_1</th>\n",
       "      <th>co_applicant_race_2</th>\n",
       "      <th>applicant_sex</th>\n",
       "      <th>co_applicant_sex</th>\n",
       "      <th>applicant_age</th>\n",
       "      <th>co_applicant_age</th>\n",
       "    </tr>\n",
       "  </thead>\n",
       "  <tbody>\n",
       "    <tr>\n",
       "      <th>48581</th>\n",
       "      <td>0.219614</td>\n",
       "      <td>0.0</td>\n",
       "      <td>0.0</td>\n",
       "      <td>1.0</td>\n",
       "      <td>0.020588</td>\n",
       "      <td>0.000000</td>\n",
       "      <td>0.444444</td>\n",
       "      <td>0.117647</td>\n",
       "      <td>0.142857</td>\n",
       "      <td>0.833333</td>\n",
       "      <td>...</td>\n",
       "      <td>1.0</td>\n",
       "      <td>1.0</td>\n",
       "      <td>1.0</td>\n",
       "      <td>0.0</td>\n",
       "      <td>1.0</td>\n",
       "      <td>0.093023</td>\n",
       "      <td>0.0</td>\n",
       "      <td>0.2</td>\n",
       "      <td>0.000000</td>\n",
       "      <td>0.000000</td>\n",
       "    </tr>\n",
       "    <tr>\n",
       "      <th>17845</th>\n",
       "      <td>0.856127</td>\n",
       "      <td>0.0</td>\n",
       "      <td>0.0</td>\n",
       "      <td>1.0</td>\n",
       "      <td>0.009412</td>\n",
       "      <td>0.200000</td>\n",
       "      <td>0.333333</td>\n",
       "      <td>0.352941</td>\n",
       "      <td>0.000000</td>\n",
       "      <td>0.333333</td>\n",
       "      <td>...</td>\n",
       "      <td>1.0</td>\n",
       "      <td>1.0</td>\n",
       "      <td>1.0</td>\n",
       "      <td>0.0</td>\n",
       "      <td>1.0</td>\n",
       "      <td>0.093023</td>\n",
       "      <td>0.0</td>\n",
       "      <td>0.2</td>\n",
       "      <td>0.285714</td>\n",
       "      <td>0.285714</td>\n",
       "    </tr>\n",
       "    <tr>\n",
       "      <th>19539</th>\n",
       "      <td>0.945679</td>\n",
       "      <td>0.0</td>\n",
       "      <td>0.0</td>\n",
       "      <td>1.0</td>\n",
       "      <td>0.025882</td>\n",
       "      <td>0.266667</td>\n",
       "      <td>0.333333</td>\n",
       "      <td>0.352941</td>\n",
       "      <td>0.000000</td>\n",
       "      <td>0.833333</td>\n",
       "      <td>...</td>\n",
       "      <td>1.0</td>\n",
       "      <td>1.0</td>\n",
       "      <td>1.0</td>\n",
       "      <td>0.0</td>\n",
       "      <td>1.0</td>\n",
       "      <td>0.093023</td>\n",
       "      <td>0.0</td>\n",
       "      <td>0.2</td>\n",
       "      <td>0.142857</td>\n",
       "      <td>0.142857</td>\n",
       "    </tr>\n",
       "    <tr>\n",
       "      <th>33705</th>\n",
       "      <td>0.872245</td>\n",
       "      <td>0.0</td>\n",
       "      <td>0.0</td>\n",
       "      <td>1.0</td>\n",
       "      <td>0.018824</td>\n",
       "      <td>0.000000</td>\n",
       "      <td>0.444444</td>\n",
       "      <td>0.411765</td>\n",
       "      <td>0.714286</td>\n",
       "      <td>0.833333</td>\n",
       "      <td>...</td>\n",
       "      <td>1.0</td>\n",
       "      <td>1.0</td>\n",
       "      <td>1.0</td>\n",
       "      <td>0.0</td>\n",
       "      <td>1.0</td>\n",
       "      <td>0.093023</td>\n",
       "      <td>0.0</td>\n",
       "      <td>0.2</td>\n",
       "      <td>0.428571</td>\n",
       "      <td>0.428571</td>\n",
       "    </tr>\n",
       "    <tr>\n",
       "      <th>2391</th>\n",
       "      <td>0.474584</td>\n",
       "      <td>0.0</td>\n",
       "      <td>0.0</td>\n",
       "      <td>1.0</td>\n",
       "      <td>0.012353</td>\n",
       "      <td>0.066667</td>\n",
       "      <td>0.333333</td>\n",
       "      <td>0.352941</td>\n",
       "      <td>0.000000</td>\n",
       "      <td>0.833333</td>\n",
       "      <td>...</td>\n",
       "      <td>1.0</td>\n",
       "      <td>1.0</td>\n",
       "      <td>1.0</td>\n",
       "      <td>0.0</td>\n",
       "      <td>1.0</td>\n",
       "      <td>0.093023</td>\n",
       "      <td>0.0</td>\n",
       "      <td>0.2</td>\n",
       "      <td>0.000000</td>\n",
       "      <td>0.000000</td>\n",
       "    </tr>\n",
       "    <tr>\n",
       "      <th>...</th>\n",
       "      <td>...</td>\n",
       "      <td>...</td>\n",
       "      <td>...</td>\n",
       "      <td>...</td>\n",
       "      <td>...</td>\n",
       "      <td>...</td>\n",
       "      <td>...</td>\n",
       "      <td>...</td>\n",
       "      <td>...</td>\n",
       "      <td>...</td>\n",
       "      <td>...</td>\n",
       "      <td>...</td>\n",
       "      <td>...</td>\n",
       "      <td>...</td>\n",
       "      <td>...</td>\n",
       "      <td>...</td>\n",
       "      <td>...</td>\n",
       "      <td>...</td>\n",
       "      <td>...</td>\n",
       "      <td>...</td>\n",
       "      <td>...</td>\n",
       "    </tr>\n",
       "    <tr>\n",
       "      <th>27058</th>\n",
       "      <td>0.417943</td>\n",
       "      <td>0.0</td>\n",
       "      <td>0.0</td>\n",
       "      <td>1.0</td>\n",
       "      <td>0.029412</td>\n",
       "      <td>0.333333</td>\n",
       "      <td>0.444444</td>\n",
       "      <td>0.176471</td>\n",
       "      <td>0.000000</td>\n",
       "      <td>0.833333</td>\n",
       "      <td>...</td>\n",
       "      <td>1.0</td>\n",
       "      <td>1.0</td>\n",
       "      <td>1.0</td>\n",
       "      <td>0.0</td>\n",
       "      <td>1.0</td>\n",
       "      <td>0.093023</td>\n",
       "      <td>0.0</td>\n",
       "      <td>0.2</td>\n",
       "      <td>0.142857</td>\n",
       "      <td>0.142857</td>\n",
       "    </tr>\n",
       "    <tr>\n",
       "      <th>21016</th>\n",
       "      <td>0.745867</td>\n",
       "      <td>0.0</td>\n",
       "      <td>1.0</td>\n",
       "      <td>1.0</td>\n",
       "      <td>0.001765</td>\n",
       "      <td>0.533333</td>\n",
       "      <td>0.333333</td>\n",
       "      <td>0.352941</td>\n",
       "      <td>0.000000</td>\n",
       "      <td>0.166667</td>\n",
       "      <td>...</td>\n",
       "      <td>1.0</td>\n",
       "      <td>1.0</td>\n",
       "      <td>1.0</td>\n",
       "      <td>0.0</td>\n",
       "      <td>1.0</td>\n",
       "      <td>0.093023</td>\n",
       "      <td>0.2</td>\n",
       "      <td>0.2</td>\n",
       "      <td>0.428571</td>\n",
       "      <td>1.000000</td>\n",
       "    </tr>\n",
       "    <tr>\n",
       "      <th>3430</th>\n",
       "      <td>0.527415</td>\n",
       "      <td>0.0</td>\n",
       "      <td>0.0</td>\n",
       "      <td>1.0</td>\n",
       "      <td>0.018235</td>\n",
       "      <td>0.533333</td>\n",
       "      <td>0.333333</td>\n",
       "      <td>0.352941</td>\n",
       "      <td>0.000000</td>\n",
       "      <td>0.833333</td>\n",
       "      <td>...</td>\n",
       "      <td>1.0</td>\n",
       "      <td>1.0</td>\n",
       "      <td>1.0</td>\n",
       "      <td>0.0</td>\n",
       "      <td>1.0</td>\n",
       "      <td>0.093023</td>\n",
       "      <td>0.2</td>\n",
       "      <td>0.0</td>\n",
       "      <td>0.285714</td>\n",
       "      <td>0.285714</td>\n",
       "    </tr>\n",
       "    <tr>\n",
       "      <th>46611</th>\n",
       "      <td>0.091496</td>\n",
       "      <td>0.0</td>\n",
       "      <td>0.0</td>\n",
       "      <td>1.0</td>\n",
       "      <td>0.032353</td>\n",
       "      <td>0.466667</td>\n",
       "      <td>0.222222</td>\n",
       "      <td>0.588235</td>\n",
       "      <td>0.000000</td>\n",
       "      <td>0.833333</td>\n",
       "      <td>...</td>\n",
       "      <td>1.0</td>\n",
       "      <td>0.0</td>\n",
       "      <td>1.0</td>\n",
       "      <td>0.0</td>\n",
       "      <td>1.0</td>\n",
       "      <td>0.093023</td>\n",
       "      <td>0.0</td>\n",
       "      <td>0.2</td>\n",
       "      <td>0.000000</td>\n",
       "      <td>0.000000</td>\n",
       "    </tr>\n",
       "    <tr>\n",
       "      <th>48432</th>\n",
       "      <td>0.509301</td>\n",
       "      <td>0.0</td>\n",
       "      <td>0.0</td>\n",
       "      <td>1.0</td>\n",
       "      <td>0.008235</td>\n",
       "      <td>0.133333</td>\n",
       "      <td>0.444444</td>\n",
       "      <td>0.176471</td>\n",
       "      <td>0.000000</td>\n",
       "      <td>0.833333</td>\n",
       "      <td>...</td>\n",
       "      <td>1.0</td>\n",
       "      <td>1.0</td>\n",
       "      <td>1.0</td>\n",
       "      <td>0.0</td>\n",
       "      <td>1.0</td>\n",
       "      <td>0.093023</td>\n",
       "      <td>0.0</td>\n",
       "      <td>0.2</td>\n",
       "      <td>0.857143</td>\n",
       "      <td>0.857143</td>\n",
       "    </tr>\n",
       "  </tbody>\n",
       "</table>\n",
       "<p>31788 rows × 33 columns</p>\n",
       "</div>"
      ],
      "text/plain": [
       "       census_tract  loan_type  lien_status  open_end_line_of_credit  \\\n",
       "48581      0.219614        0.0          0.0                      1.0   \n",
       "17845      0.856127        0.0          0.0                      1.0   \n",
       "19539      0.945679        0.0          0.0                      1.0   \n",
       "33705      0.872245        0.0          0.0                      1.0   \n",
       "2391       0.474584        0.0          0.0                      1.0   \n",
       "...             ...        ...          ...                      ...   \n",
       "27058      0.417943        0.0          0.0                      1.0   \n",
       "21016      0.745867        0.0          1.0                      1.0   \n",
       "3430       0.527415        0.0          0.0                      1.0   \n",
       "46611      0.091496        0.0          0.0                      1.0   \n",
       "48432      0.509301        0.0          0.0                      1.0   \n",
       "\n",
       "       loan_amount  combined_loan_to_value_ratio  interest_rate  \\\n",
       "48581     0.020588                      0.000000       0.444444   \n",
       "17845     0.009412                      0.200000       0.333333   \n",
       "19539     0.025882                      0.266667       0.333333   \n",
       "33705     0.018824                      0.000000       0.444444   \n",
       "2391      0.012353                      0.066667       0.333333   \n",
       "...            ...                           ...            ...   \n",
       "27058     0.029412                      0.333333       0.444444   \n",
       "21016     0.001765                      0.533333       0.333333   \n",
       "3430      0.018235                      0.533333       0.333333   \n",
       "46611     0.032353                      0.466667       0.222222   \n",
       "48432     0.008235                      0.133333       0.444444   \n",
       "\n",
       "       total_loan_costs  origination_charges  loan_term  ...  \\\n",
       "48581          0.117647             0.142857   0.833333  ...   \n",
       "17845          0.352941             0.000000   0.333333  ...   \n",
       "19539          0.352941             0.000000   0.833333  ...   \n",
       "33705          0.411765             0.714286   0.833333  ...   \n",
       "2391           0.352941             0.000000   0.833333  ...   \n",
       "...                 ...                  ...        ...  ...   \n",
       "27058          0.176471             0.000000   0.833333  ...   \n",
       "21016          0.352941             0.000000   0.166667  ...   \n",
       "3430           0.352941             0.000000   0.833333  ...   \n",
       "46611          0.588235             0.000000   0.833333  ...   \n",
       "48432          0.176471             0.000000   0.833333  ...   \n",
       "\n",
       "       applicant_ethnicity_1  co_applicant_ethnicity_1  applicant_race_1  \\\n",
       "48581                    1.0                       1.0               1.0   \n",
       "17845                    1.0                       1.0               1.0   \n",
       "19539                    1.0                       1.0               1.0   \n",
       "33705                    1.0                       1.0               1.0   \n",
       "2391                     1.0                       1.0               1.0   \n",
       "...                      ...                       ...               ...   \n",
       "27058                    1.0                       1.0               1.0   \n",
       "21016                    1.0                       1.0               1.0   \n",
       "3430                     1.0                       1.0               1.0   \n",
       "46611                    1.0                       0.0               1.0   \n",
       "48432                    1.0                       1.0               1.0   \n",
       "\n",
       "       applicant_race_2  co_applicant_race_1  co_applicant_race_2  \\\n",
       "48581               0.0                  1.0             0.093023   \n",
       "17845               0.0                  1.0             0.093023   \n",
       "19539               0.0                  1.0             0.093023   \n",
       "33705               0.0                  1.0             0.093023   \n",
       "2391                0.0                  1.0             0.093023   \n",
       "...                 ...                  ...                  ...   \n",
       "27058               0.0                  1.0             0.093023   \n",
       "21016               0.0                  1.0             0.093023   \n",
       "3430                0.0                  1.0             0.093023   \n",
       "46611               0.0                  1.0             0.093023   \n",
       "48432               0.0                  1.0             0.093023   \n",
       "\n",
       "       applicant_sex  co_applicant_sex  applicant_age  co_applicant_age  \n",
       "48581            0.0               0.2       0.000000          0.000000  \n",
       "17845            0.0               0.2       0.285714          0.285714  \n",
       "19539            0.0               0.2       0.142857          0.142857  \n",
       "33705            0.0               0.2       0.428571          0.428571  \n",
       "2391             0.0               0.2       0.000000          0.000000  \n",
       "...              ...               ...            ...               ...  \n",
       "27058            0.0               0.2       0.142857          0.142857  \n",
       "21016            0.2               0.2       0.428571          1.000000  \n",
       "3430             0.2               0.0       0.285714          0.285714  \n",
       "46611            0.0               0.2       0.000000          0.000000  \n",
       "48432            0.0               0.2       0.857143          0.857143  \n",
       "\n",
       "[31788 rows x 33 columns]"
      ]
     },
     "execution_count": 55,
     "metadata": {},
     "output_type": "execute_result"
    }
   ],
   "source": [
    "X_train"
   ]
  },
  {
   "cell_type": "code",
   "execution_count": 28,
   "id": "2eb6ec67-8ab8-4973-bc45-8eb8547f31af",
   "metadata": {},
   "outputs": [
    {
     "name": "stdout",
     "output_type": "stream",
     "text": [
      "[0]\tvalidation_0-logloss:0.44435\n",
      "[1]\tvalidation_0-logloss:0.31422\n",
      "[2]\tvalidation_0-logloss:0.23335\n",
      "[3]\tvalidation_0-logloss:0.18020\n",
      "[4]\tvalidation_0-logloss:0.14424\n",
      "[5]\tvalidation_0-logloss:0.11950\n",
      "[6]\tvalidation_0-logloss:0.10231\n",
      "[7]\tvalidation_0-logloss:0.08946\n",
      "[8]\tvalidation_0-logloss:0.08033\n",
      "[9]\tvalidation_0-logloss:0.07380\n",
      "[10]\tvalidation_0-logloss:0.06918\n",
      "[11]\tvalidation_0-logloss:0.06554\n",
      "[12]\tvalidation_0-logloss:0.06275\n",
      "[13]\tvalidation_0-logloss:0.06069\n",
      "[14]\tvalidation_0-logloss:0.05916\n",
      "[15]\tvalidation_0-logloss:0.05784\n",
      "[16]\tvalidation_0-logloss:0.05674\n",
      "[17]\tvalidation_0-logloss:0.05595\n",
      "[18]\tvalidation_0-logloss:0.05530\n",
      "[19]\tvalidation_0-logloss:0.05453\n",
      "[20]\tvalidation_0-logloss:0.05413\n",
      "[21]\tvalidation_0-logloss:0.05358\n",
      "[22]\tvalidation_0-logloss:0.05335\n",
      "[23]\tvalidation_0-logloss:0.05304\n",
      "[24]\tvalidation_0-logloss:0.05291\n",
      "[25]\tvalidation_0-logloss:0.05260\n",
      "[26]\tvalidation_0-logloss:0.05249\n",
      "[27]\tvalidation_0-logloss:0.05248\n",
      "[28]\tvalidation_0-logloss:0.05246\n",
      "[29]\tvalidation_0-logloss:0.05239\n",
      "[30]\tvalidation_0-logloss:0.05208\n",
      "[31]\tvalidation_0-logloss:0.05195\n",
      "[32]\tvalidation_0-logloss:0.05186\n",
      "[33]\tvalidation_0-logloss:0.05195\n",
      "[34]\tvalidation_0-logloss:0.05194\n",
      "[35]\tvalidation_0-logloss:0.05229\n",
      "Test set results:\n",
      "Precision: 0.9723, Recall: 0.9998\n",
      "Test set results:\n",
      "Precision: 0.9723\n",
      "Recall: 0.9998\n",
      "Accuracy: 0.9875\n",
      "F1 Score: 0.9859\n",
      "Confusion Matrix:\n",
      "[[5489  123]\n",
      " [   1 4321]]\n"
     ]
    }
   ],
   "source": [
    "# Train the model and monitor early stopping\n",
    "xgb_model1.fit(X_train, y_train, eval_set=eval_set, verbose=True)\n",
    "\n",
    "# Make predictions on the test set\n",
    "y_predict = (xgb_model1.predict_proba(X_test)[:, 1] >= 0.59)\n",
    "\n",
    "# Calculate precision and recall on the test set\n",
    "precision = precision_score(y_test, y_predict)\n",
    "recall = recall_score(y_test, y_predict)\n",
    "\n",
    "# Print test set results\n",
    "print(\"Test set results:\")\n",
    "print(f\"Precision: {precision:.4f}, Recall: {recall:.4f}\")\n",
    "\n",
    "from sklearn.metrics import accuracy_score, f1_score\n",
    "\n",
    "# Calculate other evaluation metrics\n",
    "accuracy = accuracy_score(y_test, y_predict)\n",
    "f1 = f1_score(y_test, y_predict)\n",
    "\n",
    "# Calculate the confusion matrix\n",
    "cm = confusion_matrix(y_test, y_predict)\n",
    "\n",
    "# Print other evaluation metrics\n",
    "print(\"Test set results:\")\n",
    "print(f\"Precision: {precision:.4f}\")\n",
    "print(f\"Recall: {recall:.4f}\")\n",
    "print(f\"Accuracy: {accuracy:.4f}\")\n",
    "print(f\"F1 Score: {f1:.4f}\")\n",
    "print(\"Confusion Matrix:\")\n",
    "print(cm)"
   ]
  },
  {
   "cell_type": "code",
   "execution_count": 29,
   "id": "2c60f64a-0896-470c-8db3-b9b76d779e81",
   "metadata": {
    "tags": []
   },
   "outputs": [
    {
     "name": "stdout",
     "output_type": "stream",
     "text": [
      "<class 'pandas.core.frame.DataFrame'>\n",
      "Index: 31788 entries, 48581 to 48432\n",
      "Data columns (total 33 columns):\n",
      " #   Column                                    Non-Null Count  Dtype  \n",
      "---  ------                                    --------------  -----  \n",
      " 0   census_tract                              31788 non-null  float64\n",
      " 1   loan_type                                 31788 non-null  float64\n",
      " 2   lien_status                               31788 non-null  float64\n",
      " 3   open_end_line_of_credit                   31788 non-null  float64\n",
      " 4   loan_amount                               31788 non-null  float64\n",
      " 5   combined_loan_to_value_ratio              31788 non-null  float64\n",
      " 6   interest_rate                             31788 non-null  float64\n",
      " 7   total_loan_costs                          31788 non-null  float64\n",
      " 8   origination_charges                       31788 non-null  float64\n",
      " 9   loan_term                                 31788 non-null  float64\n",
      " 10  negative_amortization                     31788 non-null  float64\n",
      " 11  interest_only_payment                     31788 non-null  float64\n",
      " 12  balloon_payment                           31788 non-null  float64\n",
      " 13  other_nonamortizing_features              31788 non-null  float64\n",
      " 14  property_value                            31788 non-null  float64\n",
      " 15  occupancy_type                            31788 non-null  float64\n",
      " 16  manufactured_home_secured_property_type   31788 non-null  float64\n",
      " 17  manufactured_home_land_property_interest  31788 non-null  float64\n",
      " 18  total_units                               31788 non-null  float64\n",
      " 19  income                                    31788 non-null  float64\n",
      " 20  debt_to_income_ratio                      31788 non-null  float64\n",
      " 21  applicant_credit_score_type               31788 non-null  float64\n",
      " 22  co_applicant_credit_score_type            31788 non-null  float64\n",
      " 23  applicant_ethnicity_1                     31788 non-null  float64\n",
      " 24  co_applicant_ethnicity_1                  31788 non-null  float64\n",
      " 25  applicant_race_1                          31788 non-null  float64\n",
      " 26  applicant_race_2                          31788 non-null  float64\n",
      " 27  co_applicant_race_1                       31788 non-null  float64\n",
      " 28  co_applicant_race_2                       31788 non-null  float64\n",
      " 29  applicant_sex                             31788 non-null  float64\n",
      " 30  co_applicant_sex                          31788 non-null  float64\n",
      " 31  applicant_age                             31788 non-null  float64\n",
      " 32  co_applicant_age                          31788 non-null  float64\n",
      "dtypes: float64(33)\n",
      "memory usage: 8.2 MB\n"
     ]
    }
   ],
   "source": [
    "X_train.info()"
   ]
  },
  {
   "cell_type": "code",
   "execution_count": 30,
   "id": "a7b05759-906a-47fa-b5f9-edabfacac82e",
   "metadata": {
    "tags": []
   },
   "outputs": [],
   "source": [
    "import pickle\n",
    "\n",
    "with open('xgboost_model.pkl', 'wb') as file:\n",
    "    pickle.dump(xgb_model1, file)"
   ]
  },
  {
   "cell_type": "code",
   "execution_count": 31,
   "id": "af852191-4794-491f-8a3b-f92ca9345c6b",
   "metadata": {
    "tags": []
   },
   "outputs": [
    {
     "name": "stdout",
     "output_type": "stream",
     "text": [
      "['census_tract', 'loan_type', 'lien_status', 'open_end_line_of_credit', 'loan_amount', 'combined_loan_to_value_ratio', 'interest_rate', 'total_loan_costs', 'origination_charges', 'loan_term', 'negative_amortization', 'interest_only_payment', 'balloon_payment', 'other_nonamortizing_features', 'property_value', 'occupancy_type', 'manufactured_home_secured_property_type', 'manufactured_home_land_property_interest', 'total_units', 'income', 'debt_to_income_ratio', 'applicant_credit_score_type', 'co_applicant_credit_score_type', 'applicant_ethnicity_1', 'co_applicant_ethnicity_1', 'applicant_race_1', 'applicant_race_2', 'co_applicant_race_1', 'co_applicant_race_2', 'applicant_sex', 'co_applicant_sex', 'applicant_age', 'co_applicant_age']\n"
     ]
    }
   ],
   "source": [
    "import xgboost as xgb\n",
    "\n",
    "# Assuming xgb_model1 is your trained XGBoost model\n",
    "booster = xgb_model1.get_booster()\n",
    "\n",
    "# Get feature names\n",
    "feature_names = booster.feature_names\n",
    "print(feature_names)"
   ]
  },
  {
   "cell_type": "code",
   "execution_count": 32,
   "id": "44aa745a-8af1-4ee2-9aff-ea6195a4480c",
   "metadata": {
    "tags": []
   },
   "outputs": [
    {
     "data": {
      "image/png": "[encoded data removed]",
      "text/plain": [
       "<Figure size 640x480 with 1 Axes>"
      ]
     },
     "metadata": {},
     "output_type": "display_data"
    }
   ],
   "source": [
    "import xgboost as xgb\n",
    "import matplotlib.pyplot as plt\n",
    "\n",
    "# Assuming xgb_model1 is your trained XGBoost model\n",
    "xgb.plot_importance(xgb_model1)\n",
    "plt.show()\n"
   ]
  },
  {
   "cell_type": "code",
   "execution_count": 33,
   "id": "205e843e-44b2-493e-9dfe-f96d55c5f458",
   "metadata": {
    "tags": []
   },
   "outputs": [
    {
     "data": {
      "image/png": "[encoded data removed]",
      "text/plain": [
       "<Figure size 800x600 with 1 Axes>"
      ]
     },
     "metadata": {},
     "output_type": "display_data"
    }
   ],
   "source": [
    "import numpy as np\n",
    "import matplotlib.pyplot as plt\n",
    "from sklearn.metrics import confusion_matrix\n",
    "import seaborn as sns\n",
    "\n",
    "# Assuming you already have y_test and y_predict from your code\n",
    "\n",
    "# Calculate the confusion matrix\n",
    "cm = confusion_matrix(y_test, y_predict)\n",
    "\n",
    "# Create a heatmap of the confusion matrix\n",
    "plt.figure(figsize=(8, 6))\n",
    "sns.heatmap(cm, annot=True, fmt=\"d\", cmap=\"Blues\", linewidths=0.5, linecolor=\"black\", square=True, cbar=False,\n",
    "            xticklabels=[\"Predicted 0\", \"Predicted 1\"],\n",
    "            yticklabels=[\"True 0\", \"True 1\"])\n",
    "plt.xlabel(\"Predicted\")\n",
    "plt.ylabel(\"True\")\n",
    "plt.title(\"Confusion Matrix\")\n",
    "plt.show()"
   ]
  },
  {
   "cell_type": "markdown",
   "id": "90f4548c-fdca-4143-b641-81995dd9b98f",
   "metadata": {},
   "source": [
    "# Make test data for the webapp\n",
    "\n",
    "We create a json file.\n",
    "it contains 5 accepted rows and 5 declined rows.\n",
    "We feed this to the form in our webapp to test predictions. "
   ]
  },
  {
   "cell_type": "code",
   "execution_count": 34,
   "id": "3074be94-bb34-421d-b4d3-90e1b850c9db",
   "metadata": {
    "tags": []
   },
   "outputs": [
    {
     "name": "stdout",
     "output_type": "stream",
     "text": [
      "0\n",
      "3\n",
      "6\n"
     ]
    },
    {
     "data": {
      "text/plain": [
       "[('acceptedDummy1',\n",
       "  census_tract                                0.311689\n",
       "  loan_type                                   0.000000\n",
       "  lien_status                                 0.000000\n",
       "  open_end_line_of_credit                     1.000000\n",
       "  loan_amount                                 0.005882\n",
       "  combined_loan_to_value_ratio                0.200000\n",
       "  interest_rate                               0.333333\n",
       "  total_loan_costs                            0.352941\n",
       "  origination_charges                         0.000000\n",
       "  loan_term                                   0.833333\n",
       "  negative_amortization                       1.000000\n",
       "  interest_only_payment                       1.000000\n",
       "  balloon_payment                             1.000000\n",
       "  other_nonamortizing_features                1.000000\n",
       "  property_value                              0.004058\n",
       "  occupancy_type                              0.000000\n",
       "  manufactured_home_secured_property_type     1.000000\n",
       "  manufactured_home_land_property_interest    1.000000\n",
       "  total_units                                 0.000000\n",
       "  income                                      0.030691\n",
       "  debt_to_income_ratio                        0.600000\n",
       "  applicant_credit_score_type                 1.000000\n",
       "  co_applicant_credit_score_type              0.111111\n",
       "  applicant_ethnicity_1                       1.000000\n",
       "  co_applicant_ethnicity_1                    1.000000\n",
       "  applicant_race_1                            1.000000\n",
       "  applicant_race_2                            0.000000\n",
       "  co_applicant_race_1                         1.000000\n",
       "  co_applicant_race_2                         0.093023\n",
       "  applicant_sex                               0.000000\n",
       "  co_applicant_sex                            0.200000\n",
       "  applicant_age                               0.428571\n",
       "  co_applicant_age                            0.428571\n",
       "  action_taken                                1.000000\n",
       "  Name: 8569, dtype: float64),\n",
       " ('acceptedDummy2',\n",
       "  census_tract                                0.981615\n",
       "  loan_type                                   0.000000\n",
       "  lien_status                                 0.000000\n",
       "  open_end_line_of_credit                     1.000000\n",
       "  loan_amount                                 0.005882\n",
       "  combined_loan_to_value_ratio                0.066667\n",
       "  interest_rate                               0.333333\n",
       "  total_loan_costs                            0.352941\n",
       "  origination_charges                         0.000000\n",
       "  loan_term                                   0.166667\n",
       "  negative_amortization                       1.000000\n",
       "  interest_only_payment                       1.000000\n",
       "  balloon_payment                             1.000000\n",
       "  other_nonamortizing_features                1.000000\n",
       "  property_value                              0.004058\n",
       "  occupancy_type                              0.000000\n",
       "  manufactured_home_secured_property_type     1.000000\n",
       "  manufactured_home_land_property_interest    1.000000\n",
       "  total_units                                 0.000000\n",
       "  income                                      0.031573\n",
       "  debt_to_income_ratio                        0.000000\n",
       "  applicant_credit_score_type                 0.250000\n",
       "  co_applicant_credit_score_type              0.888889\n",
       "  applicant_ethnicity_1                       1.000000\n",
       "  co_applicant_ethnicity_1                    1.000000\n",
       "  applicant_race_1                            1.000000\n",
       "  applicant_race_2                            0.000000\n",
       "  co_applicant_race_1                         1.000000\n",
       "  co_applicant_race_2                         0.093023\n",
       "  applicant_sex                               0.000000\n",
       "  co_applicant_sex                            0.200000\n",
       "  applicant_age                               0.428571\n",
       "  co_applicant_age                            0.428571\n",
       "  action_taken                                1.000000\n",
       "  Name: 6483, dtype: float64),\n",
       " ('acceptedDummy3',\n",
       "  census_tract                                0.418420\n",
       "  loan_type                                   0.000000\n",
       "  lien_status                                 0.000000\n",
       "  open_end_line_of_credit                     1.000000\n",
       "  loan_amount                                 0.039412\n",
       "  combined_loan_to_value_ratio                0.333333\n",
       "  interest_rate                               0.333333\n",
       "  total_loan_costs                            0.352941\n",
       "  origination_charges                         0.000000\n",
       "  loan_term                                   0.833333\n",
       "  negative_amortization                       1.000000\n",
       "  interest_only_payment                       1.000000\n",
       "  balloon_payment                             1.000000\n",
       "  other_nonamortizing_features                1.000000\n",
       "  property_value                              0.021449\n",
       "  occupancy_type                              0.000000\n",
       "  manufactured_home_secured_property_type     1.000000\n",
       "  manufactured_home_land_property_interest    1.000000\n",
       "  total_units                                 0.000000\n",
       "  income                                      0.032800\n",
       "  debt_to_income_ratio                        0.200000\n",
       "  applicant_credit_score_type                 1.000000\n",
       "  co_applicant_credit_score_type              0.000000\n",
       "  applicant_ethnicity_1                       1.000000\n",
       "  co_applicant_ethnicity_1                    1.000000\n",
       "  applicant_race_1                            1.000000\n",
       "  applicant_race_2                            0.000000\n",
       "  co_applicant_race_1                         1.000000\n",
       "  co_applicant_race_2                         0.093023\n",
       "  applicant_sex                               0.000000\n",
       "  co_applicant_sex                            0.200000\n",
       "  applicant_age                               0.142857\n",
       "  co_applicant_age                            0.142857\n",
       "  action_taken                                1.000000\n",
       "  Name: 16094, dtype: float64)]"
      ]
     },
     "execution_count": 34,
     "metadata": {},
     "output_type": "execute_result"
    }
   ],
   "source": [
    "accepted_counter = 0  # Initialize the accepted counter\n",
    "dummy_data = []  # List to store the dummy data\n",
    "\n",
    "for index, target_value in enumerate(y_test):\n",
    "    if target_value == 1.0 and accepted_counter < 3:\n",
    "        dummy_name = f\"acceptedDummy{accepted_counter + 1}\"\n",
    "        print(index)\n",
    "        dummy_row = X_test.iloc[index].copy()  # Create a copy of the row\n",
    "        dummy_row['action_taken'] = 1.0  # Set the action_taken value to 1.0 for accepted\n",
    "        dummy_data.append((dummy_name, dummy_row))\n",
    "        accepted_counter += 1\n",
    "\n",
    "dummy_data\n"
   ]
  },
  {
   "cell_type": "markdown",
   "id": "86f70158-4255-43c3-93dd-6d71a5898106",
   "metadata": {},
   "source": [
    "## Make a list of a few predictions and mirror them vs true labels."
   ]
  },
  {
   "cell_type": "code",
   "execution_count": 35,
   "id": "d0ed8327-8c48-437b-90a8-e28925927e9e",
   "metadata": {
    "tags": []
   },
   "outputs": [
    {
     "data": {
      "text/html": [
       "<div>\n",
       "<style scoped>\n",
       "    .dataframe tbody tr th:only-of-type {\n",
       "        vertical-align: middle;\n",
       "    }\n",
       "\n",
       "    .dataframe tbody tr th {\n",
       "        vertical-align: top;\n",
       "    }\n",
       "\n",
       "    .dataframe thead th {\n",
       "        text-align: right;\n",
       "    }\n",
       "</style>\n",
       "<table border=\"1\" class=\"dataframe\">\n",
       "  <thead>\n",
       "    <tr style=\"text-align: right;\">\n",
       "      <th></th>\n",
       "      <th>census_tract</th>\n",
       "      <th>loan_type</th>\n",
       "      <th>lien_status</th>\n",
       "      <th>open_end_line_of_credit</th>\n",
       "      <th>loan_amount</th>\n",
       "      <th>combined_loan_to_value_ratio</th>\n",
       "      <th>interest_rate</th>\n",
       "      <th>total_loan_costs</th>\n",
       "      <th>origination_charges</th>\n",
       "      <th>loan_term</th>\n",
       "      <th>...</th>\n",
       "      <th>applicant_ethnicity_1</th>\n",
       "      <th>co_applicant_ethnicity_1</th>\n",
       "      <th>applicant_race_1</th>\n",
       "      <th>applicant_race_2</th>\n",
       "      <th>co_applicant_race_1</th>\n",
       "      <th>co_applicant_race_2</th>\n",
       "      <th>applicant_sex</th>\n",
       "      <th>co_applicant_sex</th>\n",
       "      <th>applicant_age</th>\n",
       "      <th>co_applicant_age</th>\n",
       "    </tr>\n",
       "  </thead>\n",
       "  <tbody>\n",
       "    <tr>\n",
       "      <th>8569</th>\n",
       "      <td>0.311689</td>\n",
       "      <td>0.0</td>\n",
       "      <td>0.0</td>\n",
       "      <td>1.0</td>\n",
       "      <td>0.005882</td>\n",
       "      <td>0.200000</td>\n",
       "      <td>0.333333</td>\n",
       "      <td>0.352941</td>\n",
       "      <td>0.000000</td>\n",
       "      <td>0.833333</td>\n",
       "      <td>...</td>\n",
       "      <td>1.0</td>\n",
       "      <td>1.0</td>\n",
       "      <td>1.0</td>\n",
       "      <td>0.0</td>\n",
       "      <td>1.0</td>\n",
       "      <td>0.093023</td>\n",
       "      <td>0.0</td>\n",
       "      <td>0.2</td>\n",
       "      <td>0.428571</td>\n",
       "      <td>0.428571</td>\n",
       "    </tr>\n",
       "    <tr>\n",
       "      <th>23113</th>\n",
       "      <td>0.145538</td>\n",
       "      <td>0.0</td>\n",
       "      <td>0.0</td>\n",
       "      <td>1.0</td>\n",
       "      <td>0.020000</td>\n",
       "      <td>0.066667</td>\n",
       "      <td>0.111111</td>\n",
       "      <td>0.000000</td>\n",
       "      <td>0.142857</td>\n",
       "      <td>0.333333</td>\n",
       "      <td>...</td>\n",
       "      <td>1.0</td>\n",
       "      <td>1.0</td>\n",
       "      <td>1.0</td>\n",
       "      <td>0.0</td>\n",
       "      <td>1.0</td>\n",
       "      <td>0.093023</td>\n",
       "      <td>0.2</td>\n",
       "      <td>0.0</td>\n",
       "      <td>0.142857</td>\n",
       "      <td>0.142857</td>\n",
       "    </tr>\n",
       "    <tr>\n",
       "      <th>26945</th>\n",
       "      <td>0.491117</td>\n",
       "      <td>0.0</td>\n",
       "      <td>0.0</td>\n",
       "      <td>1.0</td>\n",
       "      <td>0.010000</td>\n",
       "      <td>0.000000</td>\n",
       "      <td>0.444444</td>\n",
       "      <td>0.470588</td>\n",
       "      <td>0.000000</td>\n",
       "      <td>0.833333</td>\n",
       "      <td>...</td>\n",
       "      <td>1.0</td>\n",
       "      <td>1.0</td>\n",
       "      <td>1.0</td>\n",
       "      <td>0.0</td>\n",
       "      <td>1.0</td>\n",
       "      <td>0.093023</td>\n",
       "      <td>0.2</td>\n",
       "      <td>0.0</td>\n",
       "      <td>0.857143</td>\n",
       "      <td>0.857143</td>\n",
       "    </tr>\n",
       "    <tr>\n",
       "      <th>6483</th>\n",
       "      <td>0.981615</td>\n",
       "      <td>0.0</td>\n",
       "      <td>0.0</td>\n",
       "      <td>1.0</td>\n",
       "      <td>0.005882</td>\n",
       "      <td>0.066667</td>\n",
       "      <td>0.333333</td>\n",
       "      <td>0.352941</td>\n",
       "      <td>0.000000</td>\n",
       "      <td>0.166667</td>\n",
       "      <td>...</td>\n",
       "      <td>1.0</td>\n",
       "      <td>1.0</td>\n",
       "      <td>1.0</td>\n",
       "      <td>0.0</td>\n",
       "      <td>1.0</td>\n",
       "      <td>0.093023</td>\n",
       "      <td>0.0</td>\n",
       "      <td>0.2</td>\n",
       "      <td>0.428571</td>\n",
       "      <td>0.428571</td>\n",
       "    </tr>\n",
       "    <tr>\n",
       "      <th>29840</th>\n",
       "      <td>0.091501</td>\n",
       "      <td>0.0</td>\n",
       "      <td>0.0</td>\n",
       "      <td>1.0</td>\n",
       "      <td>0.013529</td>\n",
       "      <td>0.533333</td>\n",
       "      <td>0.444444</td>\n",
       "      <td>0.294118</td>\n",
       "      <td>0.428571</td>\n",
       "      <td>0.333333</td>\n",
       "      <td>...</td>\n",
       "      <td>1.0</td>\n",
       "      <td>1.0</td>\n",
       "      <td>1.0</td>\n",
       "      <td>0.0</td>\n",
       "      <td>1.0</td>\n",
       "      <td>0.093023</td>\n",
       "      <td>0.0</td>\n",
       "      <td>0.2</td>\n",
       "      <td>0.428571</td>\n",
       "      <td>0.285714</td>\n",
       "    </tr>\n",
       "    <tr>\n",
       "      <th>...</th>\n",
       "      <td>...</td>\n",
       "      <td>...</td>\n",
       "      <td>...</td>\n",
       "      <td>...</td>\n",
       "      <td>...</td>\n",
       "      <td>...</td>\n",
       "      <td>...</td>\n",
       "      <td>...</td>\n",
       "      <td>...</td>\n",
       "      <td>...</td>\n",
       "      <td>...</td>\n",
       "      <td>...</td>\n",
       "      <td>...</td>\n",
       "      <td>...</td>\n",
       "      <td>...</td>\n",
       "      <td>...</td>\n",
       "      <td>...</td>\n",
       "      <td>...</td>\n",
       "      <td>...</td>\n",
       "      <td>...</td>\n",
       "      <td>...</td>\n",
       "    </tr>\n",
       "    <tr>\n",
       "      <th>28628</th>\n",
       "      <td>0.800770</td>\n",
       "      <td>0.0</td>\n",
       "      <td>0.0</td>\n",
       "      <td>1.0</td>\n",
       "      <td>0.005882</td>\n",
       "      <td>0.533333</td>\n",
       "      <td>0.444444</td>\n",
       "      <td>0.000000</td>\n",
       "      <td>0.142857</td>\n",
       "      <td>0.833333</td>\n",
       "      <td>...</td>\n",
       "      <td>1.0</td>\n",
       "      <td>1.0</td>\n",
       "      <td>1.0</td>\n",
       "      <td>0.0</td>\n",
       "      <td>1.0</td>\n",
       "      <td>0.093023</td>\n",
       "      <td>0.0</td>\n",
       "      <td>0.2</td>\n",
       "      <td>0.428571</td>\n",
       "      <td>0.428571</td>\n",
       "    </tr>\n",
       "    <tr>\n",
       "      <th>1796</th>\n",
       "      <td>0.746158</td>\n",
       "      <td>0.0</td>\n",
       "      <td>0.0</td>\n",
       "      <td>1.0</td>\n",
       "      <td>0.006471</td>\n",
       "      <td>0.400000</td>\n",
       "      <td>0.333333</td>\n",
       "      <td>0.352941</td>\n",
       "      <td>0.000000</td>\n",
       "      <td>0.833333</td>\n",
       "      <td>...</td>\n",
       "      <td>1.0</td>\n",
       "      <td>1.0</td>\n",
       "      <td>1.0</td>\n",
       "      <td>0.0</td>\n",
       "      <td>1.0</td>\n",
       "      <td>0.093023</td>\n",
       "      <td>0.2</td>\n",
       "      <td>0.0</td>\n",
       "      <td>0.142857</td>\n",
       "      <td>0.857143</td>\n",
       "    </tr>\n",
       "    <tr>\n",
       "      <th>12635</th>\n",
       "      <td>0.091504</td>\n",
       "      <td>0.0</td>\n",
       "      <td>0.0</td>\n",
       "      <td>1.0</td>\n",
       "      <td>0.032353</td>\n",
       "      <td>0.066667</td>\n",
       "      <td>0.333333</td>\n",
       "      <td>0.352941</td>\n",
       "      <td>0.000000</td>\n",
       "      <td>0.833333</td>\n",
       "      <td>...</td>\n",
       "      <td>0.0</td>\n",
       "      <td>0.0</td>\n",
       "      <td>1.0</td>\n",
       "      <td>0.0</td>\n",
       "      <td>1.0</td>\n",
       "      <td>0.093023</td>\n",
       "      <td>0.0</td>\n",
       "      <td>0.2</td>\n",
       "      <td>0.142857</td>\n",
       "      <td>0.142857</td>\n",
       "    </tr>\n",
       "    <tr>\n",
       "      <th>33426</th>\n",
       "      <td>0.473465</td>\n",
       "      <td>0.0</td>\n",
       "      <td>0.0</td>\n",
       "      <td>1.0</td>\n",
       "      <td>0.015294</td>\n",
       "      <td>0.000000</td>\n",
       "      <td>0.222222</td>\n",
       "      <td>0.411765</td>\n",
       "      <td>0.571429</td>\n",
       "      <td>0.833333</td>\n",
       "      <td>...</td>\n",
       "      <td>1.0</td>\n",
       "      <td>1.0</td>\n",
       "      <td>1.0</td>\n",
       "      <td>0.0</td>\n",
       "      <td>1.0</td>\n",
       "      <td>0.093023</td>\n",
       "      <td>0.2</td>\n",
       "      <td>0.0</td>\n",
       "      <td>0.000000</td>\n",
       "      <td>0.000000</td>\n",
       "    </tr>\n",
       "    <tr>\n",
       "      <th>3018</th>\n",
       "      <td>0.563243</td>\n",
       "      <td>0.0</td>\n",
       "      <td>0.0</td>\n",
       "      <td>1.0</td>\n",
       "      <td>0.023529</td>\n",
       "      <td>0.000000</td>\n",
       "      <td>0.333333</td>\n",
       "      <td>0.352941</td>\n",
       "      <td>0.000000</td>\n",
       "      <td>0.833333</td>\n",
       "      <td>...</td>\n",
       "      <td>1.0</td>\n",
       "      <td>1.0</td>\n",
       "      <td>1.0</td>\n",
       "      <td>0.0</td>\n",
       "      <td>1.0</td>\n",
       "      <td>0.093023</td>\n",
       "      <td>0.0</td>\n",
       "      <td>0.2</td>\n",
       "      <td>0.142857</td>\n",
       "      <td>0.000000</td>\n",
       "    </tr>\n",
       "  </tbody>\n",
       "</table>\n",
       "<p>9934 rows × 33 columns</p>\n",
       "</div>"
      ],
      "text/plain": [
       "       census_tract  loan_type  lien_status  open_end_line_of_credit  \\\n",
       "8569       0.311689        0.0          0.0                      1.0   \n",
       "23113      0.145538        0.0          0.0                      1.0   \n",
       "26945      0.491117        0.0          0.0                      1.0   \n",
       "6483       0.981615        0.0          0.0                      1.0   \n",
       "29840      0.091501        0.0          0.0                      1.0   \n",
       "...             ...        ...          ...                      ...   \n",
       "28628      0.800770        0.0          0.0                      1.0   \n",
       "1796       0.746158        0.0          0.0                      1.0   \n",
       "12635      0.091504        0.0          0.0                      1.0   \n",
       "33426      0.473465        0.0          0.0                      1.0   \n",
       "3018       0.563243        0.0          0.0                      1.0   \n",
       "\n",
       "       loan_amount  combined_loan_to_value_ratio  interest_rate  \\\n",
       "8569      0.005882                      0.200000       0.333333   \n",
       "23113     0.020000                      0.066667       0.111111   \n",
       "26945     0.010000                      0.000000       0.444444   \n",
       "6483      0.005882                      0.066667       0.333333   \n",
       "29840     0.013529                      0.533333       0.444444   \n",
       "...            ...                           ...            ...   \n",
       "28628     0.005882                      0.533333       0.444444   \n",
       "1796      0.006471                      0.400000       0.333333   \n",
       "12635     0.032353                      0.066667       0.333333   \n",
       "33426     0.015294                      0.000000       0.222222   \n",
       "3018      0.023529                      0.000000       0.333333   \n",
       "\n",
       "       total_loan_costs  origination_charges  loan_term  ...  \\\n",
       "8569           0.352941             0.000000   0.833333  ...   \n",
       "23113          0.000000             0.142857   0.333333  ...   \n",
       "26945          0.470588             0.000000   0.833333  ...   \n",
       "6483           0.352941             0.000000   0.166667  ...   \n",
       "29840          0.294118             0.428571   0.333333  ...   \n",
       "...                 ...                  ...        ...  ...   \n",
       "28628          0.000000             0.142857   0.833333  ...   \n",
       "1796           0.352941             0.000000   0.833333  ...   \n",
       "12635          0.352941             0.000000   0.833333  ...   \n",
       "33426          0.411765             0.571429   0.833333  ...   \n",
       "3018           0.352941             0.000000   0.833333  ...   \n",
       "\n",
       "       applicant_ethnicity_1  co_applicant_ethnicity_1  applicant_race_1  \\\n",
       "8569                     1.0                       1.0               1.0   \n",
       "23113                    1.0                       1.0               1.0   \n",
       "26945                    1.0                       1.0               1.0   \n",
       "6483                     1.0                       1.0               1.0   \n",
       "29840                    1.0                       1.0               1.0   \n",
       "...                      ...                       ...               ...   \n",
       "28628                    1.0                       1.0               1.0   \n",
       "1796                     1.0                       1.0               1.0   \n",
       "12635                    0.0                       0.0               1.0   \n",
       "33426                    1.0                       1.0               1.0   \n",
       "3018                     1.0                       1.0               1.0   \n",
       "\n",
       "       applicant_race_2  co_applicant_race_1  co_applicant_race_2  \\\n",
       "8569                0.0                  1.0             0.093023   \n",
       "23113               0.0                  1.0             0.093023   \n",
       "26945               0.0                  1.0             0.093023   \n",
       "6483                0.0                  1.0             0.093023   \n",
       "29840               0.0                  1.0             0.093023   \n",
       "...                 ...                  ...                  ...   \n",
       "28628               0.0                  1.0             0.093023   \n",
       "1796                0.0                  1.0             0.093023   \n",
       "12635               0.0                  1.0             0.093023   \n",
       "33426               0.0                  1.0             0.093023   \n",
       "3018                0.0                  1.0             0.093023   \n",
       "\n",
       "       applicant_sex  co_applicant_sex  applicant_age  co_applicant_age  \n",
       "8569             0.0               0.2       0.428571          0.428571  \n",
       "23113            0.2               0.0       0.142857          0.142857  \n",
       "26945            0.2               0.0       0.857143          0.857143  \n",
       "6483             0.0               0.2       0.428571          0.428571  \n",
       "29840            0.0               0.2       0.428571          0.285714  \n",
       "...              ...               ...            ...               ...  \n",
       "28628            0.0               0.2       0.428571          0.428571  \n",
       "1796             0.2               0.0       0.142857          0.857143  \n",
       "12635            0.0               0.2       0.142857          0.142857  \n",
       "33426            0.2               0.0       0.000000          0.000000  \n",
       "3018             0.0               0.2       0.142857          0.000000  \n",
       "\n",
       "[9934 rows x 33 columns]"
      ]
     },
     "execution_count": 35,
     "metadata": {},
     "output_type": "execute_result"
    }
   ],
   "source": [
    "X_test"
   ]
  },
  {
   "cell_type": "code",
   "execution_count": 36,
   "id": "62a49ecd-7a4c-4353-9d33-5431cd1ab440",
   "metadata": {
    "tags": []
   },
   "outputs": [
    {
     "name": "stdout",
     "output_type": "stream",
     "text": [
      "Predictions: [1, 0, 0, 1, 0]\n",
      "True Values: [1.0, 0.0, 0.0, 1.0, 0.0]\n"
     ]
    }
   ],
   "source": [
    "# Initialize lists to store predictions and true values\n",
    "predictions = []\n",
    "true_values = []\n",
    "\n",
    "def make_predictions(xgb_model1, X_test, y_test, num_predictions=5):\n",
    "    # Make predictions for the test dataset\n",
    "    for _, testX in X_test.iterrows():\n",
    "        yhat = xgb_model1.predict([testX.values])  # Make a one-step prediction\n",
    "        predictions.append(yhat[0])  # Store the prediction\n",
    "\n",
    "    # Make predictions for the true values\n",
    "    for true_value in y_test:\n",
    "        true_values.append(true_value)  # Store the true value\n",
    "\n",
    "    # Return lists of predictions and true values\n",
    "    return predictions[:num_predictions], true_values[:num_predictions]\n",
    "\n",
    "# Example usage:\n",
    "preds, true_vals = make_predictions(xgb_model1, X_test, y_test, num_predictions=5)\n",
    "\n",
    "# Display the results\n",
    "print(\"Predictions:\", preds)\n",
    "print(\"True Values:\", true_vals)\n"
   ]
  },
  {
   "cell_type": "markdown",
   "id": "db630319-8558-4232-8e6c-962f6cb300c8",
   "metadata": {},
   "source": [
    "### See which rows are accepted."
   ]
  },
  {
   "cell_type": "code",
   "execution_count": 67,
   "id": "325498fb-4361-4054-b1a5-55bb6420446e",
   "metadata": {
    "tags": []
   },
   "outputs": [
    {
     "name": "stdout",
     "output_type": "stream",
     "text": [
      "      Predictions  True_Values\n",
      "0               1          1.0\n",
      "3               1          1.0\n",
      "6               1          1.0\n",
      "17              1          1.0\n",
      "26              1          1.0\n",
      "...           ...          ...\n",
      "9923            1          1.0\n",
      "9925            1          1.0\n",
      "9930            1          1.0\n",
      "9931            1          1.0\n",
      "9933            1          1.0\n",
      "\n",
      "[4444 rows x 2 columns]\n"
     ]
    }
   ],
   "source": [
    "# Create a DataFrame with predictions and true values\n",
    "results_df = pd.DataFrame({'Predictions': predictions, 'True_Values': true_values})\n",
    "\n",
    "# Filter rows where Predictions are 1 (accepted)\n",
    "accepted_rows = results_df[results_df['Predictions'] == 1]\n",
    "\n",
    "# Display the accepted rows\n",
    "print(accepted_rows)"
   ]
  },
  {
   "cell_type": "markdown",
   "id": "3f78152a-580d-4759-9964-4dc8050faa07",
   "metadata": {},
   "source": [
    "### Pick a specific accepted row and see its values."
   ]
  },
  {
   "cell_type": "code",
   "execution_count": 38,
   "id": "d66ae3ed-7e27-4ef9-b14b-d5865a7369dc",
   "metadata": {
    "tags": []
   },
   "outputs": [],
   "source": [
    "import joblib\n",
    "model_xgboost = joblib.load('xgboost_model.pkl') "
   ]
  },
  {
   "cell_type": "code",
   "execution_count": 39,
   "id": "a42518c0-b322-4e3d-bd37-7a32716d4bbe",
   "metadata": {
    "tags": []
   },
   "outputs": [
    {
     "name": "stdout",
     "output_type": "stream",
     "text": [
      "Model prediction is correct. 0.0\n"
     ]
    }
   ],
   "source": [
    "row = X_test.iloc[7]\n",
    "true_label = y_test.iloc[7]\n",
    "\n",
    "prediction = xgb_model1.predict([row])\n",
    "if prediction == true_label:\n",
    "    print(\"Model prediction is correct.\", true_label)\n",
    "else:\n",
    "    print(\"Model prediction is incorrect.\", true_label)"
   ]
  },
  {
   "cell_type": "code",
   "execution_count": 40,
   "id": "22f40608-08c6-427a-b101-5e78fd6aa9f8",
   "metadata": {
    "tags": []
   },
   "outputs": [
    {
     "name": "stdout",
     "output_type": "stream",
     "text": [
      "Model prediction is correct. 0.0\n"
     ]
    }
   ],
   "source": [
    "row = X_test.iloc[7]\n",
    "true_label = y_test.iloc[7]\n",
    "\n",
    "prediction = model_xgboost.predict([row])\n",
    "if prediction == true_label:\n",
    "    print(\"Model prediction is correct.\", true_label)\n",
    "else:\n",
    "    print(\"Model prediction is incorrect.\", true_label)"
   ]
  },
  {
   "cell_type": "code",
   "execution_count": 41,
   "id": "dd16ef39-53cc-44b2-afa4-dac2c2182eeb",
   "metadata": {
    "tags": []
   },
   "outputs": [
    {
     "name": "stdout",
     "output_type": "stream",
     "text": [
      "census_tract                                0.091639\n",
      "loan_type                                   0.000000\n",
      "lien_status                                 0.000000\n",
      "open_end_line_of_credit                     1.000000\n",
      "loan_amount                                 0.022353\n",
      "combined_loan_to_value_ratio                0.466667\n",
      "interest_rate                               0.333333\n",
      "total_loan_costs                            0.352941\n",
      "origination_charges                         0.000000\n",
      "loan_term                                   0.833333\n",
      "negative_amortization                       1.000000\n",
      "interest_only_payment                       1.000000\n",
      "balloon_payment                             1.000000\n",
      "other_nonamortizing_features                1.000000\n",
      "property_value                              0.017391\n",
      "occupancy_type                              0.000000\n",
      "manufactured_home_secured_property_type     1.000000\n",
      "manufactured_home_land_property_interest    1.000000\n",
      "total_units                                 0.000000\n",
      "income                                      0.030906\n",
      "debt_to_income_ratio                        0.600000\n",
      "applicant_credit_score_type                 1.000000\n",
      "co_applicant_credit_score_type              0.000000\n",
      "applicant_ethnicity_1                       1.000000\n",
      "co_applicant_ethnicity_1                    1.000000\n",
      "applicant_race_1                            1.000000\n",
      "applicant_race_2                            0.000000\n",
      "co_applicant_race_1                         1.000000\n",
      "co_applicant_race_2                         0.093023\n",
      "applicant_sex                               0.000000\n",
      "co_applicant_sex                            0.200000\n",
      "applicant_age                               0.285714\n",
      "co_applicant_age                            0.285714\n",
      "Name: 17516, dtype: float64\n",
      "Model prediction is correct. 1.0\n"
     ]
    }
   ],
   "source": [
    "row = X_test.iloc[147]\n",
    "print(row)\n",
    "true_label = y_test.iloc[147]\n",
    "\n",
    "prediction = xgb_model1.predict([row])\n",
    "if prediction == true_label:\n",
    "    print(\"Model prediction is correct.\", true_label)\n",
    "else:\n",
    "    print(\"Model prediction is incorrect.\", true_label)"
   ]
  },
  {
   "cell_type": "code",
   "execution_count": 42,
   "id": "37da2753-7190-4b08-939a-629ba4ebc02f",
   "metadata": {
    "tags": []
   },
   "outputs": [
    {
     "name": "stdout",
     "output_type": "stream",
     "text": [
      "Model prediction is correct. 1.0\n"
     ]
    }
   ],
   "source": [
    "row = X_test.iloc[147]\n",
    "true_label = y_test.iloc[147]\n",
    "\n",
    "prediction = model_xgboost.predict([row])\n",
    "if prediction == true_label:\n",
    "    print(\"Model prediction is correct.\", true_label)\n",
    "else:\n",
    "    print(\"Model prediction is incorrect.\", true_label)"
   ]
  },
  {
   "cell_type": "code",
   "execution_count": 43,
   "id": "fe632f0c-c533-4408-8778-6df70f51875c",
   "metadata": {
    "tags": []
   },
   "outputs": [
    {
     "data": {
      "text/plain": [
       "census_tract                                0.418420\n",
       "loan_type                                   0.000000\n",
       "lien_status                                 0.000000\n",
       "open_end_line_of_credit                     1.000000\n",
       "loan_amount                                 0.039412\n",
       "combined_loan_to_value_ratio                0.333333\n",
       "interest_rate                               0.333333\n",
       "total_loan_costs                            0.352941\n",
       "origination_charges                         0.000000\n",
       "loan_term                                   0.833333\n",
       "negative_amortization                       1.000000\n",
       "interest_only_payment                       1.000000\n",
       "balloon_payment                             1.000000\n",
       "other_nonamortizing_features                1.000000\n",
       "property_value                              0.021449\n",
       "occupancy_type                              0.000000\n",
       "manufactured_home_secured_property_type     1.000000\n",
       "manufactured_home_land_property_interest    1.000000\n",
       "total_units                                 0.000000\n",
       "income                                      0.032800\n",
       "debt_to_income_ratio                        0.200000\n",
       "applicant_credit_score_type                 1.000000\n",
       "co_applicant_credit_score_type              0.000000\n",
       "applicant_ethnicity_1                       1.000000\n",
       "co_applicant_ethnicity_1                    1.000000\n",
       "applicant_race_1                            1.000000\n",
       "applicant_race_2                            0.000000\n",
       "co_applicant_race_1                         1.000000\n",
       "co_applicant_race_2                         0.093023\n",
       "applicant_sex                               0.000000\n",
       "co_applicant_sex                            0.200000\n",
       "applicant_age                               0.142857\n",
       "co_applicant_age                            0.142857\n",
       "Name: 16094, dtype: float64"
      ]
     },
     "execution_count": 43,
     "metadata": {},
     "output_type": "execute_result"
    }
   ],
   "source": [
    "# Ensure that data_values has the correct format and values\n",
    "data_values = X_test.iloc[6]  # accept: 0,3,6\n",
    "data_values"
   ]
  },
  {
   "cell_type": "code",
   "execution_count": 44,
   "id": "8a5b51a2-c5b2-4783-95f3-3c77e7fc80d8",
   "metadata": {},
   "outputs": [
    {
     "name": "stdout",
     "output_type": "stream",
     "text": [
      "[1]\n"
     ]
    }
   ],
   "source": [
    "# problematic prediction\n",
    "prediction2 = model_xgboost.predict([data_values])\n",
    "print(prediction2)  # This should be 1 if data_values now match the expected format and values"
   ]
  },
  {
   "cell_type": "code",
   "execution_count": 45,
   "id": "88506df4-612c-4097-b57e-45c4935d28e0",
   "metadata": {
    "tags": []
   },
   "outputs": [
    {
     "data": {
      "text/plain": [
       "census_tract                                0.091639\n",
       "loan_type                                   0.000000\n",
       "lien_status                                 0.000000\n",
       "open_end_line_of_credit                     1.000000\n",
       "loan_amount                                 0.022353\n",
       "combined_loan_to_value_ratio                0.466667\n",
       "interest_rate                               0.333333\n",
       "total_loan_costs                            0.352941\n",
       "origination_charges                         0.000000\n",
       "loan_term                                   0.833333\n",
       "negative_amortization                       1.000000\n",
       "interest_only_payment                       1.000000\n",
       "balloon_payment                             1.000000\n",
       "other_nonamortizing_features                1.000000\n",
       "property_value                              0.017391\n",
       "occupancy_type                              0.000000\n",
       "manufactured_home_secured_property_type     1.000000\n",
       "manufactured_home_land_property_interest    1.000000\n",
       "total_units                                 0.000000\n",
       "income                                      0.030906\n",
       "debt_to_income_ratio                        0.600000\n",
       "applicant_credit_score_type                 1.000000\n",
       "co_applicant_credit_score_type              0.000000\n",
       "applicant_ethnicity_1                       1.000000\n",
       "co_applicant_ethnicity_1                    1.000000\n",
       "applicant_race_1                            1.000000\n",
       "applicant_race_2                            0.000000\n",
       "co_applicant_race_1                         1.000000\n",
       "co_applicant_race_2                         0.093023\n",
       "applicant_sex                               0.000000\n",
       "co_applicant_sex                            0.200000\n",
       "applicant_age                               0.285714\n",
       "co_applicant_age                            0.285714\n",
       "Name: 17516, dtype: float64"
      ]
     },
     "execution_count": 45,
     "metadata": {},
     "output_type": "execute_result"
    }
   ],
   "source": [
    "row1 = X_test.iloc[147]\n",
    "np.save('row1.npy', row1)\n",
    "row1"
   ]
  },
  {
   "cell_type": "code",
   "execution_count": 46,
   "id": "c0d9914a-5b89-4641-a683-76088e93c643",
   "metadata": {
    "tags": []
   },
   "outputs": [
    {
     "name": "stdout",
     "output_type": "stream",
     "text": [
      "[1]\n"
     ]
    }
   ],
   "source": [
    "# correct prediction\n",
    "prediction1 = model_xgboost.predict([row1])\n",
    "print(prediction1)"
   ]
  },
  {
   "cell_type": "markdown",
   "id": "7443593f-149e-44d9-b1a8-c959359f2a7e",
   "metadata": {},
   "source": [
    "# Pickle models"
   ]
  },
  {
   "cell_type": "code",
   "execution_count": 47,
   "id": "56f9d9ed-f1c4-4208-b845-9f388b30e3e7",
   "metadata": {},
   "outputs": [],
   "source": [
    "lr_model = linear_model.LogisticRegression(solver=\"lbfgs\", random_state=random_state)\n",
    "dt_model = tree.DecisionTreeClassifier(max_depth=8)\n",
    "ADA_model = AdaBoostClassifier(n_estimators=50, random_state=random_state)\n",
    "SGD_model = make_pipeline(StandardScaler(),\n",
    "                     SGDClassifier(max_iter=100, tol=1e-3))\n",
    "\n",
    "models = [\"lr_model\",\"dt_model\",\"ADA_model\",\"SGD_model\"]"
   ]
  },
  {
   "cell_type": "code",
   "execution_count": 48,
   "id": "d331aef4-51af-435c-a696-9df2c057e106",
   "metadata": {},
   "outputs": [
    {
     "name": "stderr",
     "output_type": "stream",
     "text": [
      "C:\\Users\\asche\\anaconda3\\envs\\Test\\lib\\site-packages\\sklearn\\linear_model\\_logistic.py:460: ConvergenceWarning: lbfgs failed to converge (status=1):\n",
      "STOP: TOTAL NO. of ITERATIONS REACHED LIMIT.\n",
      "\n",
      "Increase the number of iterations (max_iter) or scale the data as shown in:\n",
      "    https://scikit-learn.org/stable/modules/preprocessing.html\n",
      "Please also refer to the documentation for alternative solver options:\n",
      "    https://scikit-learn.org/stable/modules/linear_model.html#logistic-regression\n",
      "  n_iter_i = _check_optimize_result(\n"
     ]
    }
   ],
   "source": [
    "for model_name in models:\n",
    "    \n",
    "    curr_model = eval(model_name)\n",
    "    \n",
    "    curr_model.fit(X_train, y_train)\n",
    "    \n",
    "    with open(f\"{model_name}.pickle\", \"wb\") as pfile:\n",
    "        pickle.dump(curr_model, pfile)"
   ]
  },
  {
   "cell_type": "code",
   "execution_count": 49,
   "id": "206e5c23-c225-4f3f-affa-fc389624aea7",
   "metadata": {},
   "outputs": [],
   "source": [
    "model_names = [\"lr_model\",\"dt_model\",\"ADA_model\",\"SGD_model\"]\n",
    "\n",
    "for model_name in model_names:\n",
    "    with open(f\"{model_name}.pickle\", \"rb\") as pfile:\n",
    "        exec(f\"{model_name} = pickle.load(pfile)\")\n",
    "\n",
    "model_vars = [eval(n) for n in model_names]\n",
    "model_list = list(zip(model_names, model_vars))"
   ]
  },
  {
   "cell_type": "code",
   "execution_count": 50,
   "id": "2aad9f28-9e8c-4e0d-81e4-f1cc3e83df25",
   "metadata": {},
   "outputs": [
    {
     "name": "stdout",
     "output_type": "stream",
     "text": [
      "lr_model score: 0.8534038001761671\n",
      "lr_model score: 0.8451182687468546\n",
      "dt_model score: 0.9846797533660501\n",
      "dt_model score: 0.9849018621036739\n",
      "ADA_model score: 0.9846797533660501\n",
      "ADA_model score: 0.9846502264720685\n",
      "SGD_model score: 0.8969737007675852\n",
      "SGD_model score: 0.8943130347257172\n"
     ]
    }
   ],
   "source": [
    "for model_name in model_names:\n",
    "    curr_model = eval(model_name)\n",
    "    print(f'{model_name} score: {curr_model.score(X_train, y_train)}')\n",
    "    print(f'{model_name} score: {curr_model.score(X_val, y_val)}')"
   ]
  },
  {
   "cell_type": "markdown",
   "id": "49cbe423-2382-48c6-b88f-807fdb7cbed4",
   "metadata": {},
   "source": [
    "# voting classifer (HARD)"
   ]
  },
  {
   "cell_type": "code",
   "execution_count": 51,
   "id": "6bc2b22b-aff0-49fe-80da-4c41f43bf078",
   "metadata": {},
   "outputs": [
    {
     "data": {
      "text/html": [
       "<style>#sk-container-id-2 {color: black;}#sk-container-id-2 pre{padding: 0;}#sk-container-id-2 div.sk-toggleable {background-color: white;}#sk-container-id-2 label.sk-toggleable__label {cursor: pointer;display: block;width: 100%;margin-bottom: 0;padding: 0.3em;box-sizing: border-box;text-align: center;}#sk-container-id-2 label.sk-toggleable__label-arrow:before {content: \"▸\";float: left;margin-right: 0.25em;color: #696969;}#sk-container-id-2 label.sk-toggleable__label-arrow:hover:before {color: black;}#sk-container-id-2 div.sk-estimator:hover label.sk-toggleable__label-arrow:before {color: black;}#sk-container-id-2 div.sk-toggleable__content {max-height: 0;max-width: 0;overflow: hidden;text-align: left;background-color: #f0f8ff;}#sk-container-id-2 div.sk-toggleable__content pre {margin: 0.2em;color: black;border-radius: 0.25em;background-color: #f0f8ff;}#sk-container-id-2 input.sk-toggleable__control:checked~div.sk-toggleable__content {max-height: 200px;max-width: 100%;overflow: auto;}#sk-container-id-2 input.sk-toggleable__control:checked~label.sk-toggleable__label-arrow:before {content: \"▾\";}#sk-container-id-2 div.sk-estimator input.sk-toggleable__control:checked~label.sk-toggleable__label {background-color: #d4ebff;}#sk-container-id-2 div.sk-label input.sk-toggleable__control:checked~label.sk-toggleable__label {background-color: #d4ebff;}#sk-container-id-2 input.sk-hidden--visually {border: 0;clip: rect(1px 1px 1px 1px);clip: rect(1px, 1px, 1px, 1px);height: 1px;margin: -1px;overflow: hidden;padding: 0;position: absolute;width: 1px;}#sk-container-id-2 div.sk-estimator {font-family: monospace;background-color: #f0f8ff;border: 1px dotted black;border-radius: 0.25em;box-sizing: border-box;margin-bottom: 0.5em;}#sk-container-id-2 div.sk-estimator:hover {background-color: #d4ebff;}#sk-container-id-2 div.sk-parallel-item::after {content: \"\";width: 100%;border-bottom: 1px solid gray;flex-grow: 1;}#sk-container-id-2 div.sk-label:hover label.sk-toggleable__label {background-color: #d4ebff;}#sk-container-id-2 div.sk-serial::before {content: \"\";position: absolute;border-left: 1px solid gray;box-sizing: border-box;top: 0;bottom: 0;left: 50%;z-index: 0;}#sk-container-id-2 div.sk-serial {display: flex;flex-direction: column;align-items: center;background-color: white;padding-right: 0.2em;padding-left: 0.2em;position: relative;}#sk-container-id-2 div.sk-item {position: relative;z-index: 1;}#sk-container-id-2 div.sk-parallel {display: flex;align-items: stretch;justify-content: center;background-color: white;position: relative;}#sk-container-id-2 div.sk-item::before, #sk-container-id-2 div.sk-parallel-item::before {content: \"\";position: absolute;border-left: 1px solid gray;box-sizing: border-box;top: 0;bottom: 0;left: 50%;z-index: -1;}#sk-container-id-2 div.sk-parallel-item {display: flex;flex-direction: column;z-index: 1;position: relative;background-color: white;}#sk-container-id-2 div.sk-parallel-item:first-child::after {align-self: flex-end;width: 50%;}#sk-container-id-2 div.sk-parallel-item:last-child::after {align-self: flex-start;width: 50%;}#sk-container-id-2 div.sk-parallel-item:only-child::after {width: 0;}#sk-container-id-2 div.sk-dashed-wrapped {border: 1px dashed gray;margin: 0 0.4em 0.5em 0.4em;box-sizing: border-box;padding-bottom: 0.4em;background-color: white;}#sk-container-id-2 div.sk-label label {font-family: monospace;font-weight: bold;display: inline-block;line-height: 1.2em;}#sk-container-id-2 div.sk-label-container {text-align: center;}#sk-container-id-2 div.sk-container {/* jupyter's `normalize.less` sets `[hidden] { display: none; }` but bootstrap.min.css set `[hidden] { display: none !important; }` so we also need the `!important` here to be able to override the default hidden behavior on the sphinx rendered scikit-learn.org. See: https://github.com/scikit-learn/scikit-learn/issues/21755 */display: inline-block !important;position: relative;}#sk-container-id-2 div.sk-text-repr-fallback {display: none;}</style><div id=\"sk-container-id-2\" class=\"sk-top-container\"><div class=\"sk-text-repr-fallback\"><pre>VotingClassifier(estimators=[(&#x27;lr_model&#x27;, LogisticRegression(random_state=42)),\n",
       "                             (&#x27;dt_model&#x27;, DecisionTreeClassifier(max_depth=8)),\n",
       "                             (&#x27;ADA_model&#x27;, AdaBoostClassifier(random_state=42)),\n",
       "                             (&#x27;SGD_model&#x27;,\n",
       "                              Pipeline(steps=[(&#x27;standardscaler&#x27;,\n",
       "                                               StandardScaler()),\n",
       "                                              (&#x27;sgdclassifier&#x27;,\n",
       "                                               SGDClassifier(max_iter=100))]))],\n",
       "                 n_jobs=-1)</pre><b>In a Jupyter environment, please rerun this cell to show the HTML representation or trust the notebook. <br />On GitHub, the HTML representation is unable to render, please try loading this page with nbviewer.org.</b></div><div class=\"sk-container\" hidden><div class=\"sk-item sk-dashed-wrapped\"><div class=\"sk-label-container\"><div class=\"sk-label sk-toggleable\"><input class=\"sk-toggleable__control sk-hidden--visually\" id=\"sk-estimator-id-4\" type=\"checkbox\" ><label for=\"sk-estimator-id-4\" class=\"sk-toggleable__label sk-toggleable__label-arrow\">VotingClassifier</label><div class=\"sk-toggleable__content\"><pre>VotingClassifier(estimators=[(&#x27;lr_model&#x27;, LogisticRegression(random_state=42)),\n",
       "                             (&#x27;dt_model&#x27;, DecisionTreeClassifier(max_depth=8)),\n",
       "                             (&#x27;ADA_model&#x27;, AdaBoostClassifier(random_state=42)),\n",
       "                             (&#x27;SGD_model&#x27;,\n",
       "                              Pipeline(steps=[(&#x27;standardscaler&#x27;,\n",
       "                                               StandardScaler()),\n",
       "                                              (&#x27;sgdclassifier&#x27;,\n",
       "                                               SGDClassifier(max_iter=100))]))],\n",
       "                 n_jobs=-1)</pre></div></div></div><div class=\"sk-parallel\"><div class=\"sk-parallel-item\"><div class=\"sk-item\"><div class=\"sk-label-container\"><div class=\"sk-label sk-toggleable\"><label>lr_model</label></div></div><div class=\"sk-serial\"><div class=\"sk-item\"><div class=\"sk-estimator sk-toggleable\"><input class=\"sk-toggleable__control sk-hidden--visually\" id=\"sk-estimator-id-5\" type=\"checkbox\" ><label for=\"sk-estimator-id-5\" class=\"sk-toggleable__label sk-toggleable__label-arrow\">LogisticRegression</label><div class=\"sk-toggleable__content\"><pre>LogisticRegression(random_state=42)</pre></div></div></div></div></div></div><div class=\"sk-parallel-item\"><div class=\"sk-item\"><div class=\"sk-label-container\"><div class=\"sk-label sk-toggleable\"><label>dt_model</label></div></div><div class=\"sk-serial\"><div class=\"sk-item\"><div class=\"sk-estimator sk-toggleable\"><input class=\"sk-toggleable__control sk-hidden--visually\" id=\"sk-estimator-id-6\" type=\"checkbox\" ><label for=\"sk-estimator-id-6\" class=\"sk-toggleable__label sk-toggleable__label-arrow\">DecisionTreeClassifier</label><div class=\"sk-toggleable__content\"><pre>DecisionTreeClassifier(max_depth=8)</pre></div></div></div></div></div></div><div class=\"sk-parallel-item\"><div class=\"sk-item\"><div class=\"sk-label-container\"><div class=\"sk-label sk-toggleable\"><label>ADA_model</label></div></div><div class=\"sk-serial\"><div class=\"sk-item\"><div class=\"sk-estimator sk-toggleable\"><input class=\"sk-toggleable__control sk-hidden--visually\" id=\"sk-estimator-id-7\" type=\"checkbox\" ><label for=\"sk-estimator-id-7\" class=\"sk-toggleable__label sk-toggleable__label-arrow\">AdaBoostClassifier</label><div class=\"sk-toggleable__content\"><pre>AdaBoostClassifier(random_state=42)</pre></div></div></div></div></div></div><div class=\"sk-parallel-item\"><div class=\"sk-item\"><div class=\"sk-label-container\"><div class=\"sk-label sk-toggleable\"><label>SGD_model</label></div></div><div class=\"sk-serial\"><div class=\"sk-item\"><div class=\"sk-serial\"><div class=\"sk-item\"><div class=\"sk-estimator sk-toggleable\"><input class=\"sk-toggleable__control sk-hidden--visually\" id=\"sk-estimator-id-8\" type=\"checkbox\" ><label for=\"sk-estimator-id-8\" class=\"sk-toggleable__label sk-toggleable__label-arrow\">StandardScaler</label><div class=\"sk-toggleable__content\"><pre>StandardScaler()</pre></div></div></div><div class=\"sk-item\"><div class=\"sk-estimator sk-toggleable\"><input class=\"sk-toggleable__control sk-hidden--visually\" id=\"sk-estimator-id-9\" type=\"checkbox\" ><label for=\"sk-estimator-id-9\" class=\"sk-toggleable__label sk-toggleable__label-arrow\">SGDClassifier</label><div class=\"sk-toggleable__content\"><pre>SGDClassifier(max_iter=100)</pre></div></div></div></div></div></div></div></div></div></div></div></div>"
      ],
      "text/plain": [
       "VotingClassifier(estimators=[('lr_model', LogisticRegression(random_state=42)),\n",
       "                             ('dt_model', DecisionTreeClassifier(max_depth=8)),\n",
       "                             ('ADA_model', AdaBoostClassifier(random_state=42)),\n",
       "                             ('SGD_model',\n",
       "                              Pipeline(steps=[('standardscaler',\n",
       "                                               StandardScaler()),\n",
       "                                              ('sgdclassifier',\n",
       "                                               SGDClassifier(max_iter=100))]))],\n",
       "                 n_jobs=-1)"
      ]
     },
     "execution_count": 51,
     "metadata": {},
     "output_type": "execute_result"
    }
   ],
   "source": [
    "voting_classifer = VotingClassifier(estimators=model_list,\n",
    "                                    voting='hard', #<-- sklearn calls this hard voting\n",
    "                                    n_jobs=-1)\n",
    "voting_classifer.fit(X_train, y_train)"
   ]
  },
  {
   "cell_type": "code",
   "execution_count": 52,
   "id": "fc607988-b88d-4924-b25b-f5b9d2c2b0c5",
   "metadata": {},
   "outputs": [
    {
     "data": {
      "text/plain": [
       "0.9843337108342771"
      ]
     },
     "execution_count": 52,
     "metadata": {},
     "output_type": "execute_result"
    }
   ],
   "source": [
    "y_pred = voting_classifer.predict(X_train)\n",
    "accuracy_score(y_train, y_pred)"
   ]
  },
  {
   "cell_type": "code",
   "execution_count": 53,
   "id": "280f3620-f18d-43bb-8b3a-9a4d5ca6daa4",
   "metadata": {},
   "outputs": [
    {
     "data": {
      "text/plain": [
       "0.9842727730246603"
      ]
     },
     "execution_count": 53,
     "metadata": {},
     "output_type": "execute_result"
    }
   ],
   "source": [
    "y_pred = voting_classifer.predict(X_val)\n",
    "accuracy_score(y_val, y_pred)"
   ]
  },
  {
   "cell_type": "markdown",
   "id": "6acf93e0-46ae-4adb-9c25-bc3c817a8203",
   "metadata": {},
   "source": [
    "# Compare all the models."
   ]
  },
  {
   "cell_type": "code",
   "execution_count": 54,
   "id": "6353f336-9876-42c5-9c64-28e7011078bd",
   "metadata": {
    "tags": []
   },
   "outputs": [
    {
     "name": "stdout",
     "output_type": "stream",
     "text": [
      "                             Accuracy  Precision    Recall  F1 Score\n",
      "LR                           0.845244   0.766650  0.921145  0.836827\n",
      "knn                          0.876447   0.802527  0.945970  0.868365\n",
      "Ada Boost                    0.984650   0.965595  1.000000  0.982496\n",
      "Gaussian                     0.792275   0.990592  0.522780  0.684382\n",
      "Stochastic Gradient Descent  0.889658   0.805616  0.980432  0.884468\n",
      "xgb_model1                   0.984776   0.966130  0.999708  0.982632\n",
      "Decision Tree                0.984902   0.966140  1.000000  0.982778\n",
      "SGD_model                    0.894313   0.805005  0.995911  0.890339\n",
      "voting_classifier            0.984273   0.965829  0.998832  0.982053\n"
     ]
    }
   ],
   "source": [
    "# Example model and prediction data\n",
    "models = ['LR', 'knn', 'Ada Boost', 'Gaussian', 'Stochastic Gradient Descent', 'xgb_model1', 'Decision Tree', 'SGD_model', 'voting_classifier']\n",
    "y_pred1 = LR.predict(X_val)\n",
    "y_pred2 = knn.predict(X_val)\n",
    "y_pred3 = AB_CLF.predict(X_val)\n",
    "y_pred4 = Gaussian.predict(X_val)\n",
    "y_pred5 = SG_PIP_CLF.predict(X_val)\n",
    "y_pred6 = xgb_model1.predict(X_val)\n",
    "y_pred7 = dt_model.predict(X_val)\n",
    "y_pred8 = SGD_model.predict(X_val)\n",
    "y_pred9 = voting_classifer.predict(X_val)  \n",
    " \n",
    "\n",
    "y_true = y_val  # True labels\n",
    "\n",
    "# Calculate evaluation metrics\n",
    "from sklearn.metrics import accuracy_score, precision_score, recall_score, f1_score\n",
    "\n",
    "metrics = {\n",
    "    'Accuracy': [accuracy_score(y_true, y_pred1), accuracy_score(y_true, y_pred2), accuracy_score(y_true, y_pred3),\n",
    "                 accuracy_score(y_true, y_pred4), accuracy_score(y_true, y_pred5), accuracy_score(y_true, y_pred6),\n",
    "                 accuracy_score(y_true, y_pred7), accuracy_score(y_true, y_pred8), accuracy_score(y_true, y_pred9)],\n",
    "    \n",
    "    'Precision': [precision_score(y_true, y_pred1), precision_score(y_true, y_pred2), precision_score(y_true, y_pred3),\n",
    "                  precision_score(y_true, y_pred4), precision_score(y_true, y_pred5), precision_score(y_true, y_pred6),\n",
    "                  precision_score(y_true, y_pred7), precision_score(y_true, y_pred8), precision_score(y_true, y_pred9)],\n",
    "    \n",
    "    'Recall': [recall_score(y_true, y_pred1), recall_score(y_true, y_pred2), recall_score(y_true, y_pred3),\n",
    "               recall_score(y_true, y_pred4), recall_score(y_true, y_pred5), recall_score(y_true, y_pred6),\n",
    "               recall_score(y_true, y_pred7), recall_score(y_true, y_pred8), recall_score(y_true, y_pred9)],\n",
    "    \n",
    "    'F1 Score': [f1_score(y_true, y_pred1), f1_score(y_true, y_pred2), f1_score(y_true, y_pred3),\n",
    "                 f1_score(y_true, y_pred4), f1_score(y_true, y_pred5), f1_score(y_true, y_pred6),\n",
    "                 f1_score(y_true, y_pred7), f1_score(y_true, y_pred8), f1_score(y_true, y_pred9)]\n",
    "}\n",
    "\n",
    "# Create a DataFrame\n",
    "import pandas as pd\n",
    "df = pd.DataFrame(metrics, index=models)\n",
    "\n",
    "# Display the DataFrame\n",
    "print(df)\n"
   ]
  },
  {
   "cell_type": "code",
   "execution_count": null,
   "id": "08378c0d-8765-4e04-8f8e-cc973670428b",
   "metadata": {},
   "outputs": [],
   "source": []
  }
 ],
 "metadata": {
  "kernelspec": {
   "display_name": "Python 3 (ipykernel)",
   "language": "python",
   "name": "python3"
  },
  "language_info": {
   "codemirror_mode": {
    "name": "ipython",
    "version": 3
   },
   "file_extension": ".py",
   "mimetype": "text/x-python",
   "name": "python",
   "nbconvert_exporter": "python",
   "pygments_lexer": "ipython3",
   "version": "3.9.18"
  }
 },
 "nbformat": 4,
 "nbformat_minor": 5
}
