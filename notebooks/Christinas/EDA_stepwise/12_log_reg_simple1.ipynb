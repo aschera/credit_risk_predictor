{
 "cells": [
  {
   "cell_type": "markdown",
   "id": "4a2ff65d-a810-4065-be85-fe1a2c06014b",
   "metadata": {},
   "source": [
    "# Imports"
   ]
  },
  {
   "cell_type": "code",
   "execution_count": 1,
   "id": "236fe6aa-a953-40d2-830b-d6a8db58d7b5",
   "metadata": {
    "tags": []
   },
   "outputs": [],
   "source": [
    "import warnings\n",
    "import numpy as np\n",
    "import pandas as pd\n",
    "import seaborn as sns\n",
    "import matplotlib.pyplot as plt\n",
    "from sklearn.preprocessing import LabelEncoder\n",
    "from scipy.stats import chi2_contingency\n",
    "from itertools import product\n",
    "from numpy import mean\n",
    "from numpy import std\n",
    "from sklearn.datasets import make_classification\n",
    "from sklearn.model_selection import cross_val_score\n",
    "from sklearn.model_selection import RepeatedStratifiedKFold\n",
    "from sklearn.linear_model import LogisticRegression\n",
    "from sklearn.metrics import accuracy_score, classification_report, confusion_matrix"
   ]
  },
  {
   "cell_type": "markdown",
   "id": "948cb308-612a-4da1-98c0-736da467816f",
   "metadata": {
    "tags": []
   },
   "source": [
    "# load dataset 10"
   ]
  },
  {
   "cell_type": "code",
   "execution_count": 2,
   "id": "0c5150a5-e658-44d5-83c8-88e4ba8f4ead",
   "metadata": {},
   "outputs": [],
   "source": [
    "# Define the data types as a dictionary\n",
    "dtypes = {\n",
    "    'action_taken': 'int32',\n",
    "    'loan_type': 'int32',\n",
    "    'lien_status': 'int32',\n",
    "    'open_end_line_of_credit': 'int32',\n",
    "    'loan_amount': 'int32',\n",
    "    'combined_loan_to_value_ratio': 'int32',\n",
    "    'interest_rate': 'float32',\n",
    "    'total_loan_costs': 'float32',\n",
    "    'origination_charges': 'float32',\n",
    "    'loan_term': 'float32',\n",
    "    'negative_amortization': 'int32',\n",
    "    'interest_only_payment': 'int32',\n",
    "    'balloon_payment': 'int32',\n",
    "    'other_nonamortizing_features': 'int32',\n",
    "    'property_value': 'float32',\n",
    "    'occupancy_type': 'int32',\n",
    "    'manufactured_home_secured_property_type': 'int32',\n",
    "    'manufactured_home_land_property_interest': 'int32',\n",
    "    'total_units': 'int32',\n",
    "    'income': 'float32',\n",
    "    'debt_to_income_ratio': 'float32',\n",
    "    'applicant_credit_score_type': 'int32',\n",
    "    'co_applicant_credit_score_type': 'int32',\n",
    "    'applicant_ethnicity_1': 'float32',\n",
    "    'co_applicant_ethnicity_1': 'float32',\n",
    "    'applicant_race_1': 'float32',\n",
    "    'applicant_race_2': 'float32',\n",
    "    'co_applicant_race_1': 'float32',\n",
    "    'co_applicant_race_2': 'float32',\n",
    "    'applicant_sex': 'int32',\n",
    "    'co_applicant_sex': 'int32',\n",
    "    'applicant_age': 'int32',\n",
    "    'co_applicant_age': 'int32',\n",
    "}"
   ]
  },
  {
   "cell_type": "code",
   "execution_count": 3,
   "id": "c2a59209-78cf-4057-853f-b81f2fd701a6",
   "metadata": {
    "tags": []
   },
   "outputs": [],
   "source": [
    "# Read the CSV file with specified data types\n",
    "df = pd.read_csv('10_all_numerical_32bit.csv', dtype=dtypes, low_memory=False)\n",
    "\n",
    "# Drop the column you want to exclude\n",
    "column_to_exclude = 'reverse_mortgage'\n",
    "if column_to_exclude in df:\n",
    "    df.drop(column_to_exclude, axis=1, inplace=True)\n",
    "\n",
    "# Convert the data types of the remaining columns as needed\n",
    "df = df.astype(dtypes)"
   ]
  },
  {
   "cell_type": "code",
   "execution_count": 4,
   "id": "8cc5244b-35d6-4fe1-89a8-246bc1d67113",
   "metadata": {
    "tags": []
   },
   "outputs": [
    {
     "name": "stdout",
     "output_type": "stream",
     "text": [
      "<class 'pandas.core.frame.DataFrame'>\n",
      "RangeIndex: 54832 entries, 0 to 54831\n",
      "Data columns (total 33 columns):\n",
      " #   Column                                    Non-Null Count  Dtype  \n",
      "---  ------                                    --------------  -----  \n",
      " 0   action_taken                              54832 non-null  int32  \n",
      " 1   loan_type                                 54832 non-null  int32  \n",
      " 2   lien_status                               54832 non-null  int32  \n",
      " 3   open_end_line_of_credit                   54832 non-null  int32  \n",
      " 4   loan_amount                               54832 non-null  int32  \n",
      " 5   combined_loan_to_value_ratio              54832 non-null  int32  \n",
      " 6   interest_rate                             54832 non-null  float32\n",
      " 7   total_loan_costs                          54832 non-null  float32\n",
      " 8   origination_charges                       54832 non-null  float32\n",
      " 9   loan_term                                 54832 non-null  float32\n",
      " 10  negative_amortization                     54832 non-null  int32  \n",
      " 11  interest_only_payment                     54832 non-null  int32  \n",
      " 12  balloon_payment                           54832 non-null  int32  \n",
      " 13  other_nonamortizing_features              54832 non-null  int32  \n",
      " 14  property_value                            54832 non-null  float32\n",
      " 15  occupancy_type                            54832 non-null  int32  \n",
      " 16  manufactured_home_secured_property_type   54832 non-null  int32  \n",
      " 17  manufactured_home_land_property_interest  54832 non-null  int32  \n",
      " 18  total_units                               54832 non-null  int32  \n",
      " 19  income                                    54832 non-null  float32\n",
      " 20  debt_to_income_ratio                      54832 non-null  float32\n",
      " 21  applicant_credit_score_type               54832 non-null  int32  \n",
      " 22  co_applicant_credit_score_type            54832 non-null  int32  \n",
      " 23  applicant_ethnicity_1                     54832 non-null  float32\n",
      " 24  co_applicant_ethnicity_1                  54832 non-null  float32\n",
      " 25  applicant_race_1                          54832 non-null  float32\n",
      " 26  applicant_race_2                          54832 non-null  float32\n",
      " 27  co_applicant_race_1                       54832 non-null  float32\n",
      " 28  co_applicant_race_2                       54832 non-null  float32\n",
      " 29  applicant_sex                             54832 non-null  int32  \n",
      " 30  co_applicant_sex                          54832 non-null  int32  \n",
      " 31  applicant_age                             54832 non-null  int32  \n",
      " 32  co_applicant_age                          54832 non-null  int32  \n",
      "dtypes: float32(13), int32(20)\n",
      "memory usage: 6.9 MB\n"
     ]
    }
   ],
   "source": [
    "df.info()"
   ]
  },
  {
   "cell_type": "code",
   "execution_count": 5,
   "id": "b0f1fbb7-b549-4b4a-b386-e8e0da786044",
   "metadata": {
    "tags": []
   },
   "outputs": [
    {
     "data": {
      "text/html": [
       "<div>\n",
       "<style scoped>\n",
       "    .dataframe tbody tr th:only-of-type {\n",
       "        vertical-align: middle;\n",
       "    }\n",
       "\n",
       "    .dataframe tbody tr th {\n",
       "        vertical-align: top;\n",
       "    }\n",
       "\n",
       "    .dataframe thead th {\n",
       "        text-align: right;\n",
       "    }\n",
       "</style>\n",
       "<table border=\"1\" class=\"dataframe\">\n",
       "  <thead>\n",
       "    <tr style=\"text-align: right;\">\n",
       "      <th></th>\n",
       "      <th>action_taken</th>\n",
       "      <th>loan_type</th>\n",
       "      <th>lien_status</th>\n",
       "      <th>open_end_line_of_credit</th>\n",
       "      <th>loan_amount</th>\n",
       "      <th>combined_loan_to_value_ratio</th>\n",
       "      <th>interest_rate</th>\n",
       "      <th>total_loan_costs</th>\n",
       "      <th>origination_charges</th>\n",
       "      <th>loan_term</th>\n",
       "      <th>...</th>\n",
       "      <th>applicant_ethnicity_1</th>\n",
       "      <th>co_applicant_ethnicity_1</th>\n",
       "      <th>applicant_race_1</th>\n",
       "      <th>applicant_race_2</th>\n",
       "      <th>co_applicant_race_1</th>\n",
       "      <th>co_applicant_race_2</th>\n",
       "      <th>applicant_sex</th>\n",
       "      <th>co_applicant_sex</th>\n",
       "      <th>applicant_age</th>\n",
       "      <th>co_applicant_age</th>\n",
       "    </tr>\n",
       "  </thead>\n",
       "  <tbody>\n",
       "    <tr>\n",
       "      <th>0</th>\n",
       "      <td>3</td>\n",
       "      <td>3</td>\n",
       "      <td>1</td>\n",
       "      <td>2</td>\n",
       "      <td>205000</td>\n",
       "      <td>16</td>\n",
       "      <td>5.0</td>\n",
       "      <td>7.0</td>\n",
       "      <td>1.0</td>\n",
       "      <td>6.0</td>\n",
       "      <td>...</td>\n",
       "      <td>2.0</td>\n",
       "      <td>2.0</td>\n",
       "      <td>5.0</td>\n",
       "      <td>5.0</td>\n",
       "      <td>5.0</td>\n",
       "      <td>5.0</td>\n",
       "      <td>1</td>\n",
       "      <td>2</td>\n",
       "      <td>7</td>\n",
       "      <td>4</td>\n",
       "    </tr>\n",
       "    <tr>\n",
       "      <th>1</th>\n",
       "      <td>3</td>\n",
       "      <td>2</td>\n",
       "      <td>1</td>\n",
       "      <td>2</td>\n",
       "      <td>155000</td>\n",
       "      <td>7</td>\n",
       "      <td>5.0</td>\n",
       "      <td>7.0</td>\n",
       "      <td>1.0</td>\n",
       "      <td>6.0</td>\n",
       "      <td>...</td>\n",
       "      <td>2.0</td>\n",
       "      <td>2.0</td>\n",
       "      <td>5.0</td>\n",
       "      <td>5.0</td>\n",
       "      <td>5.0</td>\n",
       "      <td>5.0</td>\n",
       "      <td>2</td>\n",
       "      <td>1</td>\n",
       "      <td>3</td>\n",
       "      <td>3</td>\n",
       "    </tr>\n",
       "    <tr>\n",
       "      <th>2</th>\n",
       "      <td>3</td>\n",
       "      <td>2</td>\n",
       "      <td>1</td>\n",
       "      <td>2</td>\n",
       "      <td>125000</td>\n",
       "      <td>8</td>\n",
       "      <td>5.0</td>\n",
       "      <td>7.0</td>\n",
       "      <td>1.0</td>\n",
       "      <td>6.0</td>\n",
       "      <td>...</td>\n",
       "      <td>2.0</td>\n",
       "      <td>2.0</td>\n",
       "      <td>5.0</td>\n",
       "      <td>5.0</td>\n",
       "      <td>5.0</td>\n",
       "      <td>5.0</td>\n",
       "      <td>1</td>\n",
       "      <td>2</td>\n",
       "      <td>4</td>\n",
       "      <td>3</td>\n",
       "    </tr>\n",
       "    <tr>\n",
       "      <th>3</th>\n",
       "      <td>3</td>\n",
       "      <td>2</td>\n",
       "      <td>1</td>\n",
       "      <td>2</td>\n",
       "      <td>55000</td>\n",
       "      <td>7</td>\n",
       "      <td>5.0</td>\n",
       "      <td>7.0</td>\n",
       "      <td>1.0</td>\n",
       "      <td>6.0</td>\n",
       "      <td>...</td>\n",
       "      <td>2.0</td>\n",
       "      <td>2.0</td>\n",
       "      <td>3.0</td>\n",
       "      <td>5.0</td>\n",
       "      <td>3.0</td>\n",
       "      <td>5.0</td>\n",
       "      <td>1</td>\n",
       "      <td>2</td>\n",
       "      <td>2</td>\n",
       "      <td>2</td>\n",
       "    </tr>\n",
       "    <tr>\n",
       "      <th>4</th>\n",
       "      <td>3</td>\n",
       "      <td>1</td>\n",
       "      <td>1</td>\n",
       "      <td>2</td>\n",
       "      <td>345000</td>\n",
       "      <td>1</td>\n",
       "      <td>5.0</td>\n",
       "      <td>7.0</td>\n",
       "      <td>1.0</td>\n",
       "      <td>3.0</td>\n",
       "      <td>...</td>\n",
       "      <td>2.0</td>\n",
       "      <td>2.0</td>\n",
       "      <td>5.0</td>\n",
       "      <td>5.0</td>\n",
       "      <td>5.0</td>\n",
       "      <td>5.0</td>\n",
       "      <td>1</td>\n",
       "      <td>2</td>\n",
       "      <td>2</td>\n",
       "      <td>2</td>\n",
       "    </tr>\n",
       "  </tbody>\n",
       "</table>\n",
       "<p>5 rows × 33 columns</p>\n",
       "</div>"
      ],
      "text/plain": [
       "   action_taken  loan_type  lien_status  open_end_line_of_credit  loan_amount  \\\n",
       "0             3          3            1                        2       205000   \n",
       "1             3          2            1                        2       155000   \n",
       "2             3          2            1                        2       125000   \n",
       "3             3          2            1                        2        55000   \n",
       "4             3          1            1                        2       345000   \n",
       "\n",
       "   combined_loan_to_value_ratio  interest_rate  total_loan_costs  \\\n",
       "0                            16            5.0               7.0   \n",
       "1                             7            5.0               7.0   \n",
       "2                             8            5.0               7.0   \n",
       "3                             7            5.0               7.0   \n",
       "4                             1            5.0               7.0   \n",
       "\n",
       "   origination_charges  loan_term  ...  applicant_ethnicity_1  \\\n",
       "0                  1.0        6.0  ...                    2.0   \n",
       "1                  1.0        6.0  ...                    2.0   \n",
       "2                  1.0        6.0  ...                    2.0   \n",
       "3                  1.0        6.0  ...                    2.0   \n",
       "4                  1.0        3.0  ...                    2.0   \n",
       "\n",
       "   co_applicant_ethnicity_1  applicant_race_1  applicant_race_2  \\\n",
       "0                       2.0               5.0               5.0   \n",
       "1                       2.0               5.0               5.0   \n",
       "2                       2.0               5.0               5.0   \n",
       "3                       2.0               3.0               5.0   \n",
       "4                       2.0               5.0               5.0   \n",
       "\n",
       "   co_applicant_race_1  co_applicant_race_2  applicant_sex  co_applicant_sex  \\\n",
       "0                  5.0                  5.0              1                 2   \n",
       "1                  5.0                  5.0              2                 1   \n",
       "2                  5.0                  5.0              1                 2   \n",
       "3                  3.0                  5.0              1                 2   \n",
       "4                  5.0                  5.0              1                 2   \n",
       "\n",
       "   applicant_age  co_applicant_age  \n",
       "0              7                 4  \n",
       "1              3                 3  \n",
       "2              4                 3  \n",
       "3              2                 2  \n",
       "4              2                 2  \n",
       "\n",
       "[5 rows x 33 columns]"
      ]
     },
     "execution_count": 5,
     "metadata": {},
     "output_type": "execute_result"
    }
   ],
   "source": [
    "df.head()"
   ]
  },
  {
   "cell_type": "code",
   "execution_count": 6,
   "id": "95af00c4-f865-478f-9072-fdfa9afef4b4",
   "metadata": {
    "tags": []
   },
   "outputs": [],
   "source": [
    "target_variable = \"action_taken\""
   ]
  },
  {
   "cell_type": "code",
   "execution_count": 7,
   "id": "ab973836-0960-4153-b3d7-3f07537b189a",
   "metadata": {
    "tags": []
   },
   "outputs": [],
   "source": [
    "X = df.drop(columns=[target_variable])\n",
    "y = df[target_variable]"
   ]
  },
  {
   "cell_type": "code",
   "execution_count": 8,
   "id": "adf25d8a-9970-44c0-b447-dc7ba4bcffd5",
   "metadata": {
    "tags": []
   },
   "outputs": [
    {
     "name": "stdout",
     "output_type": "stream",
     "text": [
      "(54832, 32) (54832,)\n"
     ]
    }
   ],
   "source": [
    "print(X.shape, y.shape)"
   ]
  },
  {
   "cell_type": "code",
   "execution_count": 9,
   "id": "1a84fa8b-a9e7-475c-b6c8-75e46f9208ce",
   "metadata": {
    "tags": []
   },
   "outputs": [],
   "source": [
    "seed = 123"
   ]
  },
  {
   "cell_type": "code",
   "execution_count": 10,
   "id": "ac8a339a-a6ca-42fd-95af-95ff44bcd0bc",
   "metadata": {},
   "outputs": [
    {
     "name": "stdout",
     "output_type": "stream",
     "text": [
      "Mean accuracy: 0.570 (0.001)\n"
     ]
    }
   ],
   "source": [
    "model = LogisticRegression(multi_class = 'multinomial', solver = 'lbfgs')\n",
    "cv = RepeatedStratifiedKFold(n_splits = 6, n_repeats = 3, random_state=seed)\n",
    "n_scores = cross_val_score(model, X, y, scoring = 'accuracy', cv=cv)\n",
    "\n",
    "print('Mean accuracy: %.3f (%.3f)' % (mean(n_scores), std(n_scores)))\n",
    "\n",
    "model.fit(X, y)\n",
    "\n",
    "y_pred = model.predict(X)"
   ]
  },
  {
   "cell_type": "code",
   "execution_count": 11,
   "id": "dd02cee3-8f6c-47c5-9ce4-350f7bbb67b7",
   "metadata": {},
   "outputs": [
    {
     "name": "stdout",
     "output_type": "stream",
     "text": [
      "              precision    recall  f1-score   support\n",
      "\n",
      "           1       0.57      0.99      0.72     31034\n",
      "           3       0.62      0.02      0.05     23798\n",
      "\n",
      "    accuracy                           0.57     54832\n",
      "   macro avg       0.59      0.51      0.38     54832\n",
      "weighted avg       0.59      0.57      0.43     54832\n",
      "\n"
     ]
    }
   ],
   "source": [
    "accuracy = accuracy_score(y, y_pred)\n",
    "\n",
    "print(classification_report(y, y_pred, zero_division=0))"
   ]
  },
  {
   "cell_type": "markdown",
   "id": "d2cdf36e-3df5-4ac9-90ae-100920e0c8c9",
   "metadata": {},
   "source": [
    "- for _class 1, precision is 0.80_, which means that _80%_ of the predictions for class 1 were correct, \n",
    "- and for _class 3, it's 0.00_, which means that _none_ of the predictions for class 3 were correct."
   ]
  },
  {
   "cell_type": "code",
   "execution_count": 12,
   "id": "5356f047-8511-40b8-9c48-bebe2cc7cc6f",
   "metadata": {
    "tags": []
   },
   "outputs": [
    {
     "data": {
      "image/png": "[encoded data removed]",
      "text/plain": [
       "<Figure size 640x480 with 2 Axes>"
      ]
     },
     "metadata": {},
     "output_type": "display_data"
    }
   ],
   "source": [
    "cm = confusion_matrix(y, y_pred)\n",
    "sns.heatmap(cm, annot=True, fmt='d')\n",
    "plt.xlabel('Predicted')\n",
    "plt.ylabel('True')\n",
    "plt.title('Confusion Matrix')\n",
    "plt.show()"
   ]
  },
  {
   "cell_type": "markdown",
   "id": "0dd5fc75-8a7a-4251-82c1-f0ed6d45bc53",
   "metadata": {},
   "source": [
    "# Conclusion\n",
    "\n",
    "The model is ok. a lot of errors. "
   ]
  },
  {
   "cell_type": "code",
   "execution_count": null,
   "id": "c974e0a1-9aac-4e7d-add8-c1dc750b96e8",
   "metadata": {},
   "outputs": [],
   "source": []
  }
 ],
 "metadata": {
  "kernelspec": {
   "display_name": "Python 3 (ipykernel)",
   "language": "python",
   "name": "python3"
  },
  "language_info": {
   "codemirror_mode": {
    "name": "ipython",
    "version": 3
   },
   "file_extension": ".py",
   "mimetype": "text/x-python",
   "name": "python",
   "nbconvert_exporter": "python",
   "pygments_lexer": "ipython3",
   "version": "3.9.13"
  }
 },
 "nbformat": 4,
 "nbformat_minor": 5
}
