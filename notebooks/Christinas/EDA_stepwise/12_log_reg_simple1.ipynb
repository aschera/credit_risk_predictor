{
 "cells": [
  {
   "cell_type": "code",
   "execution_count": 1,
   "id": "236fe6aa-a953-40d2-830b-d6a8db58d7b5",
   "metadata": {
    "tags": []
   },
   "outputs": [],
   "source": [
    "import warnings\n",
    "import numpy as np\n",
    "import pandas as pd\n",
    "import seaborn as sns\n",
    "import matplotlib.pyplot as plt\n",
    "from sklearn.preprocessing import LabelEncoder\n",
    "from scipy.stats import chi2_contingency\n",
    "from itertools import product\n",
    "from numpy import mean\n",
    "from numpy import std\n",
    "from sklearn.datasets import make_classification\n",
    "from sklearn.model_selection import cross_val_score\n",
    "from sklearn.model_selection import RepeatedStratifiedKFold\n",
    "from sklearn.linear_model import LogisticRegression\n",
    "\n",
    "from sklearn.metrics import accuracy_score, classification_report, confusion_matrix"
   ]
  },
  {
   "cell_type": "markdown",
   "id": "948cb308-612a-4da1-98c0-736da467816f",
   "metadata": {
    "tags": []
   },
   "source": [
    "# load dataset 10"
   ]
  },
  {
   "cell_type": "code",
   "execution_count": 2,
   "id": "c2a59209-78cf-4057-853f-b81f2fd701a6",
   "metadata": {
    "tags": []
   },
   "outputs": [],
   "source": [
    "df = pd.read_csv('10_all_numerical.csv', low_memory=False)"
   ]
  },
  {
   "cell_type": "code",
   "execution_count": 3,
   "id": "8cc5244b-35d6-4fe1-89a8-246bc1d67113",
   "metadata": {
    "tags": []
   },
   "outputs": [
    {
     "name": "stdout",
     "output_type": "stream",
     "text": [
      "<class 'pandas.core.frame.DataFrame'>\n",
      "RangeIndex: 137386 entries, 0 to 137385\n",
      "Data columns (total 34 columns):\n",
      " #   Column                                    Non-Null Count   Dtype  \n",
      "---  ------                                    --------------   -----  \n",
      " 0   census_tract                              137381 non-null  float64\n",
      " 1   action_taken                              137386 non-null  int64  \n",
      " 2   loan_type                                 137386 non-null  int64  \n",
      " 3   lien_status                               137386 non-null  int64  \n",
      " 4   reverse_mortgage                          137386 non-null  int64  \n",
      " 5   open_end_line_of_credit                   137386 non-null  int64  \n",
      " 6   loan_amount                               137386 non-null  int64  \n",
      " 7   combined_loan_to_value_ratio              137091 non-null  float64\n",
      " 8   interest_rate                             110401 non-null  float64\n",
      " 9   total_loan_costs                          110401 non-null  float64\n",
      " 10  origination_charges                       110401 non-null  float64\n",
      " 11  loan_term                                 137386 non-null  int64  \n",
      " 12  negative_amortization                     137386 non-null  int64  \n",
      " 13  interest_only_payment                     137386 non-null  int64  \n",
      " 14  balloon_payment                           137386 non-null  int64  \n",
      " 15  other_nonamortizing_features              137386 non-null  int64  \n",
      " 16  property_value                            137376 non-null  float64\n",
      " 17  occupancy_type                            137386 non-null  int64  \n",
      " 18  manufactured_home_secured_property_type   137386 non-null  int64  \n",
      " 19  manufactured_home_land_property_interest  137386 non-null  int64  \n",
      " 20  total_units                               137386 non-null  int64  \n",
      " 21  income                                    131832 non-null  float64\n",
      " 22  debt_to_income_ratio                      136804 non-null  float64\n",
      " 23  applicant_credit_score_type               137386 non-null  int64  \n",
      " 24  co_applicant_credit_score_type            137386 non-null  int64  \n",
      " 25  applicant_sex                             137386 non-null  int64  \n",
      " 26  co_applicant_sex                          137386 non-null  int64  \n",
      " 27  applicant_age                             137386 non-null  int64  \n",
      " 28  co_applicant_age                          137386 non-null  int64  \n",
      " 29  aus_1                                     137386 non-null  int64  \n",
      " 30  applicant_race_1                          111226 non-null  float64\n",
      " 31  co_applicant_race_1                       109051 non-null  float64\n",
      " 32  applicant_ethnicity_1                     126842 non-null  float64\n",
      " 33  co_applicant_ethnicity_1                  125523 non-null  float64\n",
      "dtypes: float64(12), int64(22)\n",
      "memory usage: 35.6 MB\n"
     ]
    }
   ],
   "source": [
    "df.info()"
   ]
  },
  {
   "cell_type": "code",
   "execution_count": 4,
   "id": "b0f1fbb7-b549-4b4a-b386-e8e0da786044",
   "metadata": {
    "tags": []
   },
   "outputs": [
    {
     "data": {
      "text/html": [
       "<div>\n",
       "<style scoped>\n",
       "    .dataframe tbody tr th:only-of-type {\n",
       "        vertical-align: middle;\n",
       "    }\n",
       "\n",
       "    .dataframe tbody tr th {\n",
       "        vertical-align: top;\n",
       "    }\n",
       "\n",
       "    .dataframe thead th {\n",
       "        text-align: right;\n",
       "    }\n",
       "</style>\n",
       "<table border=\"1\" class=\"dataframe\">\n",
       "  <thead>\n",
       "    <tr style=\"text-align: right;\">\n",
       "      <th></th>\n",
       "      <th>census_tract</th>\n",
       "      <th>action_taken</th>\n",
       "      <th>loan_type</th>\n",
       "      <th>lien_status</th>\n",
       "      <th>reverse_mortgage</th>\n",
       "      <th>open_end_line_of_credit</th>\n",
       "      <th>loan_amount</th>\n",
       "      <th>combined_loan_to_value_ratio</th>\n",
       "      <th>interest_rate</th>\n",
       "      <th>total_loan_costs</th>\n",
       "      <th>...</th>\n",
       "      <th>co_applicant_credit_score_type</th>\n",
       "      <th>applicant_sex</th>\n",
       "      <th>co_applicant_sex</th>\n",
       "      <th>applicant_age</th>\n",
       "      <th>co_applicant_age</th>\n",
       "      <th>aus_1</th>\n",
       "      <th>applicant_race_1</th>\n",
       "      <th>co_applicant_race_1</th>\n",
       "      <th>applicant_ethnicity_1</th>\n",
       "      <th>co_applicant_ethnicity_1</th>\n",
       "    </tr>\n",
       "  </thead>\n",
       "  <tbody>\n",
       "    <tr>\n",
       "      <th>0</th>\n",
       "      <td>4.209120e+10</td>\n",
       "      <td>1</td>\n",
       "      <td>1</td>\n",
       "      <td>1</td>\n",
       "      <td>2</td>\n",
       "      <td>2</td>\n",
       "      <td>355000</td>\n",
       "      <td>75.822</td>\n",
       "      <td>6.0</td>\n",
       "      <td>8352.71</td>\n",
       "      <td>...</td>\n",
       "      <td>3</td>\n",
       "      <td>1</td>\n",
       "      <td>2</td>\n",
       "      <td>1</td>\n",
       "      <td>7</td>\n",
       "      <td>1</td>\n",
       "      <td>5.0</td>\n",
       "      <td>5.0</td>\n",
       "      <td>2.0</td>\n",
       "      <td>2.0</td>\n",
       "    </tr>\n",
       "    <tr>\n",
       "      <th>1</th>\n",
       "      <td>5.513320e+10</td>\n",
       "      <td>1</td>\n",
       "      <td>2</td>\n",
       "      <td>1</td>\n",
       "      <td>2</td>\n",
       "      <td>2</td>\n",
       "      <td>285000</td>\n",
       "      <td>84.777</td>\n",
       "      <td>6.0</td>\n",
       "      <td>6854.68</td>\n",
       "      <td>...</td>\n",
       "      <td>9</td>\n",
       "      <td>1</td>\n",
       "      <td>2</td>\n",
       "      <td>1</td>\n",
       "      <td>1</td>\n",
       "      <td>6</td>\n",
       "      <td>5.0</td>\n",
       "      <td>5.0</td>\n",
       "      <td>2.0</td>\n",
       "      <td>2.0</td>\n",
       "    </tr>\n",
       "    <tr>\n",
       "      <th>2</th>\n",
       "      <td>6.073010e+09</td>\n",
       "      <td>1</td>\n",
       "      <td>1</td>\n",
       "      <td>1</td>\n",
       "      <td>2</td>\n",
       "      <td>2</td>\n",
       "      <td>475000</td>\n",
       "      <td>54.091</td>\n",
       "      <td>4.0</td>\n",
       "      <td>2288.00</td>\n",
       "      <td>...</td>\n",
       "      <td>9</td>\n",
       "      <td>1</td>\n",
       "      <td>2</td>\n",
       "      <td>1</td>\n",
       "      <td>1</td>\n",
       "      <td>6</td>\n",
       "      <td>NaN</td>\n",
       "      <td>NaN</td>\n",
       "      <td>NaN</td>\n",
       "      <td>NaN</td>\n",
       "    </tr>\n",
       "    <tr>\n",
       "      <th>3</th>\n",
       "      <td>2.712304e+10</td>\n",
       "      <td>1</td>\n",
       "      <td>1</td>\n",
       "      <td>1</td>\n",
       "      <td>2</td>\n",
       "      <td>2</td>\n",
       "      <td>185000</td>\n",
       "      <td>64.615</td>\n",
       "      <td>4.0</td>\n",
       "      <td>1881.10</td>\n",
       "      <td>...</td>\n",
       "      <td>9</td>\n",
       "      <td>2</td>\n",
       "      <td>1</td>\n",
       "      <td>0</td>\n",
       "      <td>0</td>\n",
       "      <td>6</td>\n",
       "      <td>5.0</td>\n",
       "      <td>5.0</td>\n",
       "      <td>2.0</td>\n",
       "      <td>2.0</td>\n",
       "    </tr>\n",
       "    <tr>\n",
       "      <th>4</th>\n",
       "      <td>4.849102e+10</td>\n",
       "      <td>1</td>\n",
       "      <td>1</td>\n",
       "      <td>1</td>\n",
       "      <td>2</td>\n",
       "      <td>2</td>\n",
       "      <td>225000</td>\n",
       "      <td>85.920</td>\n",
       "      <td>5.0</td>\n",
       "      <td>3434.50</td>\n",
       "      <td>...</td>\n",
       "      <td>9</td>\n",
       "      <td>1</td>\n",
       "      <td>2</td>\n",
       "      <td>1</td>\n",
       "      <td>1</td>\n",
       "      <td>6</td>\n",
       "      <td>5.0</td>\n",
       "      <td>5.0</td>\n",
       "      <td>2.0</td>\n",
       "      <td>2.0</td>\n",
       "    </tr>\n",
       "  </tbody>\n",
       "</table>\n",
       "<p>5 rows × 34 columns</p>\n",
       "</div>"
      ],
      "text/plain": [
       "   census_tract  action_taken  loan_type  lien_status  reverse_mortgage  \\\n",
       "0  4.209120e+10             1          1            1                 2   \n",
       "1  5.513320e+10             1          2            1                 2   \n",
       "2  6.073010e+09             1          1            1                 2   \n",
       "3  2.712304e+10             1          1            1                 2   \n",
       "4  4.849102e+10             1          1            1                 2   \n",
       "\n",
       "   open_end_line_of_credit  loan_amount  combined_loan_to_value_ratio  \\\n",
       "0                        2       355000                        75.822   \n",
       "1                        2       285000                        84.777   \n",
       "2                        2       475000                        54.091   \n",
       "3                        2       185000                        64.615   \n",
       "4                        2       225000                        85.920   \n",
       "\n",
       "   interest_rate  total_loan_costs  ...  co_applicant_credit_score_type  \\\n",
       "0            6.0           8352.71  ...                               3   \n",
       "1            6.0           6854.68  ...                               9   \n",
       "2            4.0           2288.00  ...                               9   \n",
       "3            4.0           1881.10  ...                               9   \n",
       "4            5.0           3434.50  ...                               9   \n",
       "\n",
       "   applicant_sex  co_applicant_sex  applicant_age  co_applicant_age  aus_1  \\\n",
       "0              1                 2              1                 7      1   \n",
       "1              1                 2              1                 1      6   \n",
       "2              1                 2              1                 1      6   \n",
       "3              2                 1              0                 0      6   \n",
       "4              1                 2              1                 1      6   \n",
       "\n",
       "   applicant_race_1  co_applicant_race_1  applicant_ethnicity_1  \\\n",
       "0               5.0                  5.0                    2.0   \n",
       "1               5.0                  5.0                    2.0   \n",
       "2               NaN                  NaN                    NaN   \n",
       "3               5.0                  5.0                    2.0   \n",
       "4               5.0                  5.0                    2.0   \n",
       "\n",
       "   co_applicant_ethnicity_1  \n",
       "0                       2.0  \n",
       "1                       2.0  \n",
       "2                       NaN  \n",
       "3                       2.0  \n",
       "4                       2.0  \n",
       "\n",
       "[5 rows x 34 columns]"
      ]
     },
     "execution_count": 4,
     "metadata": {},
     "output_type": "execute_result"
    }
   ],
   "source": [
    "df.head()"
   ]
  },
  {
   "cell_type": "code",
   "execution_count": 5,
   "id": "95142538-7d70-4bc5-a84a-d7b5b75d8074",
   "metadata": {
    "tags": []
   },
   "outputs": [
    {
     "name": "stdout",
     "output_type": "stream",
     "text": [
      "Columns with NaN values: ['census_tract', 'combined_loan_to_value_ratio', 'interest_rate', 'total_loan_costs', 'origination_charges', 'property_value', 'income', 'debt_to_income_ratio', 'applicant_race_1', 'co_applicant_race_1', 'applicant_ethnicity_1', 'co_applicant_ethnicity_1']\n"
     ]
    }
   ],
   "source": [
    "columns_with_nan = df.columns[df.isna().any()].tolist()\n",
    "print(\"Columns with NaN values:\", columns_with_nan)"
   ]
  },
  {
   "cell_type": "code",
   "execution_count": 6,
   "id": "99576d2a-2acc-4117-a4c1-43c85d88f08e",
   "metadata": {
    "tags": []
   },
   "outputs": [],
   "source": [
    "# Fill missing values with the mean for each column\n",
    "for column in columns_with_nan:\n",
    "    mean_value = df[column].mean()\n",
    "    df[column].fillna(mean_value, inplace=True)"
   ]
  },
  {
   "cell_type": "code",
   "execution_count": 7,
   "id": "de537973-1487-4c75-ba6d-ad025cf0154d",
   "metadata": {
    "tags": []
   },
   "outputs": [
    {
     "name": "stdout",
     "output_type": "stream",
     "text": [
      "Columns with NaN values: []\n"
     ]
    }
   ],
   "source": [
    "columns_with_nan = df.columns[df.isna().any()].tolist()\n",
    "print(\"Columns with NaN values:\", columns_with_nan)"
   ]
  },
  {
   "cell_type": "code",
   "execution_count": 8,
   "id": "6bb08d57-ed06-43c8-9992-ef9d09f3bba0",
   "metadata": {
    "tags": []
   },
   "outputs": [],
   "source": [
    "df.to_csv('12_removed_all_nan_with_mean.csv', index=False)"
   ]
  },
  {
   "cell_type": "code",
   "execution_count": 9,
   "id": "95af00c4-f865-478f-9072-fdfa9afef4b4",
   "metadata": {
    "tags": []
   },
   "outputs": [],
   "source": [
    "target_variable = \"action_taken\""
   ]
  },
  {
   "cell_type": "code",
   "execution_count": 10,
   "id": "ab973836-0960-4153-b3d7-3f07537b189a",
   "metadata": {
    "tags": []
   },
   "outputs": [],
   "source": [
    "X = df.drop(columns=[target_variable])\n",
    "y = df[target_variable]"
   ]
  },
  {
   "cell_type": "code",
   "execution_count": 11,
   "id": "adf25d8a-9970-44c0-b447-dc7ba4bcffd5",
   "metadata": {
    "tags": []
   },
   "outputs": [
    {
     "name": "stdout",
     "output_type": "stream",
     "text": [
      "(137386, 33) (137386,)\n"
     ]
    }
   ],
   "source": [
    "print(X.shape, y.shape)"
   ]
  },
  {
   "cell_type": "code",
   "execution_count": 12,
   "id": "1a84fa8b-a9e7-475c-b6c8-75e46f9208ce",
   "metadata": {
    "tags": []
   },
   "outputs": [],
   "source": [
    "seed = 123"
   ]
  },
  {
   "cell_type": "code",
   "execution_count": 13,
   "id": "ac8a339a-a6ca-42fd-95af-95ff44bcd0bc",
   "metadata": {},
   "outputs": [
    {
     "name": "stdout",
     "output_type": "stream",
     "text": [
      "Mean accuracy: 0.804 (0.000)\n"
     ]
    }
   ],
   "source": [
    "model = LogisticRegression(multi_class = 'multinomial', solver = 'lbfgs')\n",
    "cv = RepeatedStratifiedKFold(n_splits = 6, n_repeats = 3, random_state=seed)\n",
    "n_scores = cross_val_score(model, X, y, scoring = 'accuracy', cv=cv)\n",
    "\n",
    "print('Mean accuracy: %.3f (%.3f)' % (mean(n_scores), std(n_scores)))\n",
    "\n",
    "model.fit(X, y)\n",
    "\n",
    "y_pred = model.predict(X)"
   ]
  },
  {
   "cell_type": "code",
   "execution_count": 14,
   "id": "dd02cee3-8f6c-47c5-9ce4-350f7bbb67b7",
   "metadata": {},
   "outputs": [
    {
     "name": "stdout",
     "output_type": "stream",
     "text": [
      "              precision    recall  f1-score   support\n",
      "\n",
      "           1       0.80      1.00      0.89    110401\n",
      "           3       0.00      0.00      0.00     26985\n",
      "\n",
      "    accuracy                           0.80    137386\n",
      "   macro avg       0.40      0.50      0.45    137386\n",
      "weighted avg       0.65      0.80      0.72    137386\n",
      "\n"
     ]
    }
   ],
   "source": [
    "accuracy = accuracy_score(y, y_pred)\n",
    "\n",
    "print(classification_report(y, y_pred, zero_division=0))"
   ]
  },
  {
   "cell_type": "markdown",
   "id": "d2cdf36e-3df5-4ac9-90ae-100920e0c8c9",
   "metadata": {},
   "source": [
    "- for _class 1, precision is 0.80_, which means that _80%_ of the predictions for class 1 were correct, \n",
    "- and for _class 3, it's 0.00_, which means that _none_ of the predictions for class 3 were correct."
   ]
  },
  {
   "cell_type": "code",
   "execution_count": 15,
   "id": "5356f047-8511-40b8-9c48-bebe2cc7cc6f",
   "metadata": {
    "tags": []
   },
   "outputs": [
    {
     "data": {
      "image/png": "[encoded data removed]",
      "text/plain": [
       "<Figure size 640x480 with 2 Axes>"
      ]
     },
     "metadata": {},
     "output_type": "display_data"
    }
   ],
   "source": [
    "cm = confusion_matrix(y, y_pred)\n",
    "sns.heatmap(cm, annot=True, fmt='d')\n",
    "plt.xlabel('Predicted')\n",
    "plt.ylabel('True')\n",
    "plt.title('Confusion Matrix')\n",
    "plt.show()"
   ]
  },
  {
   "cell_type": "markdown",
   "id": "0dd5fc75-8a7a-4251-82c1-f0ed6d45bc53",
   "metadata": {},
   "source": [
    "# Conclusion\n",
    "\n",
    "The model cant predict class 3!"
   ]
  },
  {
   "cell_type": "code",
   "execution_count": null,
   "id": "c974e0a1-9aac-4e7d-add8-c1dc750b96e8",
   "metadata": {},
   "outputs": [],
   "source": []
  }
 ],
 "metadata": {
  "kernelspec": {
   "display_name": "Python 3 (ipykernel)",
   "language": "python",
   "name": "python3"
  },
  "language_info": {
   "codemirror_mode": {
    "name": "ipython",
    "version": 3
   },
   "file_extension": ".py",
   "mimetype": "text/x-python",
   "name": "python",
   "nbconvert_exporter": "python",
   "pygments_lexer": "ipython3",
   "version": "3.9.18"
  }
 },
 "nbformat": 4,
 "nbformat_minor": 5
}
