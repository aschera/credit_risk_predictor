{
 "cells": [
  {
   "cell_type": "code",
   "execution_count": 1,
   "id": "5a467b08-101f-42d1-b551-e13cc5d97e78",
   "metadata": {
    "tags": []
   },
   "outputs": [],
   "source": [
    "import pandas as pd\n",
    "import sqlite3\n",
    "\n",
    "# Connect to the SQLite database\n",
    "conn = sqlite3.connect('loan_database.db')\n",
    "\n",
    "# Specify the name of the table you want to load\n",
    "table_name = 'original_data'\n",
    "\n",
    "# Query to select all rows from the table\n",
    "query = f'SELECT * FROM {table_name}'\n",
    "\n",
    "# Load the data into a Pandas DataFrame\n",
    "df = pd.read_sql_query(query, conn)\n",
    "\n",
    "# Close the database connection\n",
    "conn.close()\n",
    "\n",
    "# Now df contains your data as a Pandas DataFrame\n"
   ]
  },
  {
   "cell_type": "code",
   "execution_count": 2,
   "id": "48962066-d74e-4edf-b1a5-d65f5dcd2ab7",
   "metadata": {
    "tags": []
   },
   "outputs": [
    {
     "data": {
      "text/plain": [
       "action_taken\n",
       "1    2901\n",
       "3    2901\n",
       "Name: count, dtype: int64"
      ]
     },
     "execution_count": 2,
     "metadata": {},
     "output_type": "execute_result"
    }
   ],
   "source": [
    "df['action_taken'].value_counts()"
   ]
  },
  {
   "cell_type": "code",
   "execution_count": 3,
   "id": "c01f7b08-4166-4641-baf2-c58ec8f72681",
   "metadata": {
    "tags": []
   },
   "outputs": [
    {
     "name": "stdout",
     "output_type": "stream",
     "text": [
      "<class 'pandas.core.frame.DataFrame'>\n",
      "RangeIndex: 5802 entries, 0 to 5801\n",
      "Data columns (total 99 columns):\n",
      " #   Column                                    Non-Null Count  Dtype  \n",
      "---  ------                                    --------------  -----  \n",
      " 0   activity_year                             5802 non-null   int64  \n",
      " 1   lei                                       5802 non-null   object \n",
      " 2   derived_msa_md                            69 non-null     float64\n",
      " 3   state_code                                5802 non-null   object \n",
      " 4   county_code                               5802 non-null   float64\n",
      " 5   census_tract                              5802 non-null   float64\n",
      " 6   conforming_loan_limit                     5802 non-null   object \n",
      " 7   derived_loan_product_type                 5802 non-null   object \n",
      " 8   derived_dwelling_category                 5802 non-null   object \n",
      " 9   derived_ethnicity                         5802 non-null   object \n",
      " 10  derived_race                              5802 non-null   object \n",
      " 11  derived_sex                               5802 non-null   object \n",
      " 12  action_taken                              5802 non-null   int64  \n",
      " 13  purchaser_type                            5802 non-null   int64  \n",
      " 14  preapproval                               5802 non-null   int64  \n",
      " 15  loan_type                                 5802 non-null   int64  \n",
      " 16  loan_purpose                              5802 non-null   int64  \n",
      " 17  lien_status                               5802 non-null   int64  \n",
      " 18  reverse_mortgage                          5802 non-null   int64  \n",
      " 19  open_end_line_of_credit                   5802 non-null   int64  \n",
      " 20  business_or_commercial_purpose            5802 non-null   int64  \n",
      " 21  loan_amount                               5802 non-null   int64  \n",
      " 22  combined_loan_to_value_ratio              5343 non-null   float64\n",
      " 23  interest_rate                             2901 non-null   float64\n",
      " 24  rate_spread                               2901 non-null   float64\n",
      " 25  hoepa_status                              5802 non-null   int64  \n",
      " 26  total_loan_costs                          2901 non-null   float64\n",
      " 27  total_points_and_fees                     0 non-null      object \n",
      " 28  origination_charges                       2901 non-null   float64\n",
      " 29  discount_points                           1128 non-null   float64\n",
      " 30  lender_credits                            1542 non-null   float64\n",
      " 31  loan_term                                 5784 non-null   float64\n",
      " 32  prepayment_penalty_term                   3 non-null      float64\n",
      " 33  intro_rate_period                         102 non-null    float64\n",
      " 34  negative_amortization                     5802 non-null   int64  \n",
      " 35  interest_only_payment                     5802 non-null   int64  \n",
      " 36  balloon_payment                           5802 non-null   int64  \n",
      " 37  other_nonamortizing_features              5802 non-null   int64  \n",
      " 38  property_value                            5358 non-null   float64\n",
      " 39  construction_method                       5802 non-null   int64  \n",
      " 40  occupancy_type                            5802 non-null   int64  \n",
      " 41  manufactured_home_secured_property_type   5802 non-null   int64  \n",
      " 42  manufactured_home_land_property_interest  5802 non-null   int64  \n",
      " 43  total_units                               5802 non-null   object \n",
      " 44  multifamily_affordable_units              0 non-null      object \n",
      " 45  income                                    5115 non-null   float64\n",
      " 46  debt_to_income_ratio                      5787 non-null   object \n",
      " 47  applicant_credit_score_type               5802 non-null   int64  \n",
      " 48  co_applicant_credit_score_type            5802 non-null   int64  \n",
      " 49  applicant_ethnicity_1                     5796 non-null   float64\n",
      " 50  applicant_ethnicity_2                     195 non-null    float64\n",
      " 51  applicant_ethnicity_3                     0 non-null      object \n",
      " 52  applicant_ethnicity_4                     0 non-null      object \n",
      " 53  applicant_ethnicity_5                     0 non-null      object \n",
      " 54  co_applicant_ethnicity_1                  5802 non-null   float64\n",
      " 55  co_applicant_ethnicity_2                  51 non-null     float64\n",
      " 56  co_applicant_ethnicity_3                  0 non-null      object \n",
      " 57  co_applicant_ethnicity_4                  0 non-null      object \n",
      " 58  co_applicant_ethnicity_5                  0 non-null      object \n",
      " 59  applicant_ethnicity_observed              5802 non-null   int64  \n",
      " 60  co_applicant_ethnicity_observed           5802 non-null   int64  \n",
      " 61  applicant_race_1                          5799 non-null   float64\n",
      " 62  applicant_race_2                          177 non-null    float64\n",
      " 63  applicant_race_3                          6 non-null      float64\n",
      " 64  applicant_race_4                          0 non-null      object \n",
      " 65  applicant_race_5                          0 non-null      object \n",
      " 66  co_applicant_race_1                       5802 non-null   int64  \n",
      " 67  co_applicant_race_2                       96 non-null     float64\n",
      " 68  co_applicant_race_3                       3 non-null      float64\n",
      " 69  co_applicant_race_4                       0 non-null      object \n",
      " 70  co_applicant_race_5                       0 non-null      object \n",
      " 71  applicant_race_observed                   5802 non-null   int64  \n",
      " 72  co_applicant_race_observed                5802 non-null   int64  \n",
      " 73  applicant_sex                             5802 non-null   int64  \n",
      " 74  co_applicant_sex                          5802 non-null   int64  \n",
      " 75  applicant_sex_observed                    5802 non-null   int64  \n",
      " 76  co_applicant_sex_observed                 5802 non-null   int64  \n",
      " 77  applicant_age                             5802 non-null   object \n",
      " 78  co_applicant_age                          5802 non-null   object \n",
      " 79  applicant_age_above_62                    5799 non-null   object \n",
      " 80  co_applicant_age_above_62                 2211 non-null   object \n",
      " 81  submission_of_application                 5802 non-null   int64  \n",
      " 82  initially_payable_to_institution          5802 non-null   int64  \n",
      " 83  aus_1                                     5802 non-null   int64  \n",
      " 84  aus_2                                     1359 non-null   float64\n",
      " 85  aus_3                                     336 non-null    float64\n",
      " 86  aus_4                                     0 non-null      object \n",
      " 87  aus_5                                     3 non-null      float64\n",
      " 88  denial_reason_1                           5802 non-null   int64  \n",
      " 89  denial_reason_2                           375 non-null    float64\n",
      " 90  denial_reason_3                           63 non-null     float64\n",
      " 91  denial_reason_4                           0 non-null      object \n",
      " 92  tract_population                          5802 non-null   int64  \n",
      " 93  tract_minority_population_percent         5802 non-null   float64\n",
      " 94  ffiec_msa_md_median_family_income         5802 non-null   int64  \n",
      " 95  tract_to_msa_income_percentage            5802 non-null   float64\n",
      " 96  tract_owner_occupied_units                5802 non-null   int64  \n",
      " 97  tract_one_to_four_family_homes            5802 non-null   int64  \n",
      " 98  tract_median_age_of_housing_units         5802 non-null   int64  \n",
      "dtypes: float64(31), int64(40), object(28)\n",
      "memory usage: 4.4+ MB\n"
     ]
    }
   ],
   "source": [
    "df.info()"
   ]
  },
  {
   "cell_type": "code",
   "execution_count": null,
   "id": "0a59acd0-f740-4627-ba77-988c1cb3fd3a",
   "metadata": {},
   "outputs": [],
   "source": []
  }
 ],
 "metadata": {
  "kernelspec": {
   "display_name": "Python 3 (ipykernel)",
   "language": "python",
   "name": "python3"
  },
  "language_info": {
   "codemirror_mode": {
    "name": "ipython",
    "version": 3
   },
   "file_extension": ".py",
   "mimetype": "text/x-python",
   "name": "python",
   "nbconvert_exporter": "python",
   "pygments_lexer": "ipython3",
   "version": "3.9.18"
  }
 },
 "nbformat": 4,
 "nbformat_minor": 5
}
