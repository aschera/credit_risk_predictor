{
 "cells": [
  {
   "cell_type": "markdown",
   "id": "28fc00cd-5b87-49ff-a9ac-1fe8b4985f78",
   "metadata": {},
   "source": [
    "# Imports"
   ]
  },
  {
   "cell_type": "code",
   "execution_count": 1,
   "id": "236fe6aa-a953-40d2-830b-d6a8db58d7b5",
   "metadata": {
    "tags": []
   },
   "outputs": [],
   "source": [
    "import warnings\n",
    "import numpy as np\n",
    "import pandas as pd\n",
    "import seaborn as sns\n",
    "from sklearn.preprocessing import LabelEncoder\n",
    "from itertools import product\n",
    "import matplotlib.pyplot as plt"
   ]
  },
  {
   "cell_type": "markdown",
   "id": "948cb308-612a-4da1-98c0-736da467816f",
   "metadata": {
    "tags": []
   },
   "source": [
    "# load dataset 9"
   ]
  },
  {
   "cell_type": "code",
   "execution_count": 2,
   "id": "c2a59209-78cf-4057-853f-b81f2fd701a6",
   "metadata": {
    "tags": []
   },
   "outputs": [],
   "source": [
    "df = pd.read_csv('9_loan_term.csv', low_memory=False)"
   ]
  },
  {
   "cell_type": "code",
   "execution_count": 3,
   "id": "8cc5244b-35d6-4fe1-89a8-246bc1d67113",
   "metadata": {
    "tags": []
   },
   "outputs": [
    {
     "name": "stdout",
     "output_type": "stream",
     "text": [
      "<class 'pandas.core.frame.DataFrame'>\n",
      "RangeIndex: 54832 entries, 0 to 54831\n",
      "Data columns (total 33 columns):\n",
      " #   Column                                    Non-Null Count  Dtype  \n",
      "---  ------                                    --------------  -----  \n",
      " 0   action_taken                              54832 non-null  int64  \n",
      " 1   loan_type                                 54832 non-null  int64  \n",
      " 2   lien_status                               54832 non-null  int64  \n",
      " 3   open_end_line_of_credit                   54832 non-null  int64  \n",
      " 4   loan_amount                               54832 non-null  int64  \n",
      " 5   combined_loan_to_value_ratio              54832 non-null  object \n",
      " 6   interest_rate                             54832 non-null  object \n",
      " 7   total_loan_costs                          54832 non-null  object \n",
      " 8   origination_charges                       54832 non-null  object \n",
      " 9   loan_term                                 54832 non-null  object \n",
      " 10  negative_amortization                     54832 non-null  int64  \n",
      " 11  interest_only_payment                     54832 non-null  int64  \n",
      " 12  balloon_payment                           54832 non-null  int64  \n",
      " 13  other_nonamortizing_features              54832 non-null  int64  \n",
      " 14  property_value                            54777 non-null  float64\n",
      " 15  occupancy_type                            54832 non-null  int64  \n",
      " 16  manufactured_home_secured_property_type   54832 non-null  int64  \n",
      " 17  manufactured_home_land_property_interest  54832 non-null  int64  \n",
      " 18  total_units                               54832 non-null  object \n",
      " 19  income                                    53217 non-null  float64\n",
      " 20  debt_to_income_ratio                      54605 non-null  object \n",
      " 21  applicant_credit_score_type               54832 non-null  int64  \n",
      " 22  co_applicant_credit_score_type            54832 non-null  int64  \n",
      " 23  applicant_ethnicity_1                     54832 non-null  float64\n",
      " 24  co_applicant_ethnicity_1                  54832 non-null  float64\n",
      " 25  applicant_race_1                          54832 non-null  float64\n",
      " 26  applicant_race_2                          205 non-null    float64\n",
      " 27  co_applicant_race_1                       54832 non-null  float64\n",
      " 28  co_applicant_race_2                       210 non-null    float64\n",
      " 29  applicant_sex                             54832 non-null  int64  \n",
      " 30  co_applicant_sex                          54832 non-null  int64  \n",
      " 31  applicant_age                             54832 non-null  int64  \n",
      " 32  co_applicant_age                          54832 non-null  int64  \n",
      "dtypes: float64(8), int64(18), object(7)\n",
      "memory usage: 13.8+ MB\n"
     ]
    }
   ],
   "source": [
    "df.info()"
   ]
  },
  {
   "cell_type": "code",
   "execution_count": 4,
   "id": "4015c8df-0159-47c2-aff1-9965217e7a07",
   "metadata": {
    "tags": []
   },
   "outputs": [
    {
     "name": "stdout",
     "output_type": "stream",
     "text": [
      "Index(['combined_loan_to_value_ratio', 'interest_rate', 'total_loan_costs',\n",
      "       'origination_charges', 'loan_term', 'total_units',\n",
      "       'debt_to_income_ratio'],\n",
      "      dtype='object')\n"
     ]
    }
   ],
   "source": [
    "# Select object (string) and category columns from your DataFrame\n",
    "object_category_columns = df.select_dtypes(include=['object'])\n",
    "\n",
    "# Print the names of the selected columns\n",
    "print(object_category_columns.columns)"
   ]
  },
  {
   "cell_type": "markdown",
   "id": "dcdc4a31-082c-4e53-a456-4ba261dc116c",
   "metadata": {},
   "source": [
    "# Convert interest_rate to numerical:"
   ]
  },
  {
   "cell_type": "code",
   "execution_count": 5,
   "id": "50a49a2d-08f8-4ada-8758-7c4b8a0759a0",
   "metadata": {
    "tags": []
   },
   "outputs": [
    {
     "name": "stdout",
     "output_type": "stream",
     "text": [
      "interest_rate\n",
      "3.5-4.0     35596\n",
      "4.0-4.5      7277\n",
      "3.0-3.5      5905\n",
      "4.5-5.0      2939\n",
      "2.0-3.0      1582\n",
      "5.0-6.0      1325\n",
      "6.0-7.0       170\n",
      "7.0-8.0        15\n",
      "8.0-9.0        13\n",
      "9.9-15.0        5\n",
      "1.0-2.0         3\n",
      "0.0-1.0         2\n",
      "Name: count, dtype: int64\n"
     ]
    }
   ],
   "source": [
    "print(df['interest_rate'].value_counts())"
   ]
  },
  {
   "cell_type": "code",
   "execution_count": 6,
   "id": "969677e4-e487-4786-bca2-d52473334825",
   "metadata": {
    "tags": []
   },
   "outputs": [],
   "source": [
    "# Define a dictionary to map the interest rate categories to numerical values\n",
    "interest_rate_mapping = {\n",
    "    '0.0-1.0': 1,\n",
    "    '1.0-2.0': 2,\n",
    "    '2.0-3.0': 3,\n",
    "    '3.0-3.5': 4,\n",
    "    '3.5-4.0': 5,\n",
    "    '4.0-4.5': 6,\n",
    "    '4.5-5.0': 7,\n",
    "    '5.0-6.0': 8,\n",
    "    '6.0-7.0': 9,\n",
    "    '7.0-8.0': 10,\n",
    "    '8.0-9.0': 11\n",
    "}\n",
    "\n",
    "# Map the values to the 'interest_rate' column\n",
    "df['interest_rate'] = df['interest_rate'].map(interest_rate_mapping)"
   ]
  },
  {
   "cell_type": "code",
   "execution_count": 7,
   "id": "9ba40bbc-d9a3-4257-a41d-7a7404b589e9",
   "metadata": {
    "tags": []
   },
   "outputs": [
    {
     "name": "stdout",
     "output_type": "stream",
     "text": [
      "interest_rate\n",
      "5.0     35596\n",
      "6.0      7277\n",
      "4.0      5905\n",
      "7.0      2939\n",
      "3.0      1582\n",
      "8.0      1325\n",
      "9.0       170\n",
      "10.0       15\n",
      "11.0       13\n",
      "2.0         3\n",
      "1.0         2\n",
      "Name: count, dtype: int64\n"
     ]
    }
   ],
   "source": [
    "print(df['interest_rate'].value_counts())"
   ]
  },
  {
   "cell_type": "markdown",
   "id": "77de6591-88b1-4bb3-b97c-1a8c1d97143c",
   "metadata": {},
   "source": [
    "# Convert loan_term to numerical:"
   ]
  },
  {
   "cell_type": "code",
   "execution_count": 8,
   "id": "90f9b98e-0e00-45a2-b962-f93b1039fab3",
   "metadata": {
    "tags": []
   },
   "outputs": [
    {
     "name": "stdout",
     "output_type": "stream",
     "text": [
      "loan_term\n",
      "27-31 years    42129\n",
      "12-16 years     7872\n",
      "17-21 years     3220\n",
      "7-11 years      1154\n",
      "22-26 years      290\n",
      "2-6 years        159\n",
      "0-1 years          5\n",
      "37-41 years        2\n",
      "1-2 years          1\n",
      "Name: count, dtype: int64\n"
     ]
    }
   ],
   "source": [
    "print(df['loan_term'].value_counts())"
   ]
  },
  {
   "cell_type": "code",
   "execution_count": 9,
   "id": "83e3b9eb-2aa3-4e43-af93-9b086c5181d1",
   "metadata": {
    "tags": []
   },
   "outputs": [],
   "source": [
    "# Define a dictionary to map the loan term categories to numerical values\n",
    "loan_term_mapping = {\n",
    "    '2-6 years': 1,\n",
    "    '7-11 years': 2,\n",
    "    '12-16 years': 3,\n",
    "    '17-21 years': 4,\n",
    "    '22-26 years': 5,\n",
    "    '27-31 years': 6,\n",
    "    '37-41 years': 7\n",
    "}\n",
    "\n",
    "# Map the values to the 'loan_term' column\n",
    "df['loan_term'] = df['loan_term'].map(loan_term_mapping)"
   ]
  },
  {
   "cell_type": "code",
   "execution_count": 10,
   "id": "815ec644-ce1b-401e-b8a4-bbe1e3e786a5",
   "metadata": {
    "tags": []
   },
   "outputs": [
    {
     "name": "stdout",
     "output_type": "stream",
     "text": [
      "loan_term\n",
      "6.0    42129\n",
      "3.0     7872\n",
      "4.0     3220\n",
      "2.0     1154\n",
      "5.0      290\n",
      "1.0      159\n",
      "7.0        2\n",
      "Name: count, dtype: int64\n"
     ]
    }
   ],
   "source": [
    "print(df['loan_term'].value_counts())"
   ]
  },
  {
   "cell_type": "markdown",
   "id": "354eb582-6ddd-4b11-85ec-72f21465048e",
   "metadata": {},
   "source": [
    "# Convert debt_to_income_ratio to numerical:"
   ]
  },
  {
   "cell_type": "code",
   "execution_count": 11,
   "id": "550ae80e-3750-45c4-9810-668e4e35e0e1",
   "metadata": {
    "tags": []
   },
   "outputs": [
    {
     "name": "stdout",
     "output_type": "stream",
     "text": [
      "debt_to_income_ratio\n",
      "36%-50%     20445\n",
      "20%-<30%    11873\n",
      "30%-<36%     9669\n",
      "<20%         4499\n",
      ">60%         4460\n",
      "50%-60%      3659\n",
      "Name: count, dtype: int64\n"
     ]
    }
   ],
   "source": [
    "print(df['debt_to_income_ratio'].value_counts())"
   ]
  },
  {
   "cell_type": "code",
   "execution_count": 12,
   "id": "d83665e9-0193-45f6-b442-c2e42085315b",
   "metadata": {
    "tags": []
   },
   "outputs": [],
   "source": [
    "# Define a dictionary to map the debt to income ratio categories to numerical values\n",
    "debt_to_income_mapping = {\n",
    "    '<20%': 1,\n",
    "    '20%-<30%': 2,\n",
    "    '30%-<36%': 3,\n",
    "    '36%-50%': 4,\n",
    "    '50%-60%': 5,\n",
    "    '>60%': 6\n",
    "}\n",
    "\n",
    "# Map the values to the 'debt_to_income_ratio' column\n",
    "df['debt_to_income_ratio'] = df['debt_to_income_ratio'].map(debt_to_income_mapping)"
   ]
  },
  {
   "cell_type": "code",
   "execution_count": 13,
   "id": "178e1323-367c-413b-9e7f-f5594ef11908",
   "metadata": {
    "tags": []
   },
   "outputs": [
    {
     "name": "stdout",
     "output_type": "stream",
     "text": [
      "debt_to_income_ratio\n",
      "4.0    20445\n",
      "2.0    11873\n",
      "3.0     9669\n",
      "1.0     4499\n",
      "6.0     4460\n",
      "5.0     3659\n",
      "Name: count, dtype: int64\n"
     ]
    }
   ],
   "source": [
    "print(df['debt_to_income_ratio'].value_counts())"
   ]
  },
  {
   "cell_type": "markdown",
   "id": "99051672-fce1-441a-b530-df2446c387dc",
   "metadata": {},
   "source": [
    "# Convert origination_charges to numerical:"
   ]
  },
  {
   "cell_type": "code",
   "execution_count": 14,
   "id": "d86fdf9b-69c7-40fe-8f1a-d4b921979ab8",
   "metadata": {
    "tags": []
   },
   "outputs": [
    {
     "name": "stdout",
     "output_type": "stream",
     "text": [
      "origination_charges\n",
      "0-500        32956\n",
      "1000-1500     8326\n",
      "500-1000      5460\n",
      "1500-2000     3032\n",
      "2000-2500     1856\n",
      "2500-3000     1333\n",
      "3000-3500     1049\n",
      "3500-4000      780\n",
      "4000-4500       40\n",
      "Name: count, dtype: int64\n"
     ]
    }
   ],
   "source": [
    "print(df['origination_charges'].value_counts())"
   ]
  },
  {
   "cell_type": "code",
   "execution_count": 15,
   "id": "edc60d85-3424-40e3-bfe7-0e9ef1d55023",
   "metadata": {},
   "outputs": [],
   "source": [
    "# Define a dictionary to map the origination_charges categories to numerical values\n",
    "origination_charges_mapping = {\n",
    "    '0-500': 1,\n",
    "    '1000-1500': 2,\n",
    "    '500-1000': 3,\n",
    "    '1500-2000': 4,\n",
    "    '2000-2500': 5,\n",
    "    '2500-3000': 6,\n",
    "    '3000-3500': 7,\n",
    "    '3500-4000': 8\n",
    "}\n",
    "\n",
    "# Map the values to the 'origination_charges' column\n",
    "df['origination_charges'] = df['origination_charges'].map(origination_charges_mapping)"
   ]
  },
  {
   "cell_type": "code",
   "execution_count": 16,
   "id": "24bdcec9-f29d-4598-9d7b-12b8cbcddf9a",
   "metadata": {
    "tags": []
   },
   "outputs": [
    {
     "name": "stdout",
     "output_type": "stream",
     "text": [
      "origination_charges\n",
      "1.0    32956\n",
      "2.0     8326\n",
      "3.0     5460\n",
      "4.0     3032\n",
      "5.0     1856\n",
      "6.0     1333\n",
      "7.0     1049\n",
      "8.0      780\n",
      "Name: count, dtype: int64\n"
     ]
    }
   ],
   "source": [
    "print(df['origination_charges'].value_counts())"
   ]
  },
  {
   "cell_type": "markdown",
   "id": "d60724ca-fa1d-4aef-a424-c070a097dc10",
   "metadata": {},
   "source": [
    "# Convert total_loan_costs to numerical:"
   ]
  },
  {
   "cell_type": "code",
   "execution_count": 17,
   "id": "65fe64dd-0d1e-4fd9-8dae-db745d78d48d",
   "metadata": {
    "tags": []
   },
   "outputs": [
    {
     "name": "stdout",
     "output_type": "stream",
     "text": [
      "total_loan_costs\n",
      "0-500        25773\n",
      "3000-3500     4176\n",
      "2500-3000     4000\n",
      "3500-4000     3346\n",
      "2000-2500     2741\n",
      "500-1000      2549\n",
      "4000-4500     2532\n",
      "4500-5000     1949\n",
      "1500-2000     1566\n",
      "5000-5500     1515\n",
      "1000-1500     1138\n",
      "5500-6000     1112\n",
      "6000-6500      696\n",
      "6500-7000      523\n",
      "7000-7500      371\n",
      "7500-8000      308\n",
      "8000-8500      242\n",
      "8500-9000      185\n",
      "9000-9500      110\n",
      "Name: count, dtype: int64\n"
     ]
    }
   ],
   "source": [
    "print(df['total_loan_costs'].value_counts())"
   ]
  },
  {
   "cell_type": "code",
   "execution_count": 18,
   "id": "e583d723-de61-4208-bf51-af7482ca9f56",
   "metadata": {},
   "outputs": [],
   "source": [
    "# Define a dictionary to map the total_loan_costs categories to numerical values\n",
    "total_loan_costs_mapping = {\n",
    "    '2500-3000': 1,\n",
    "    '3000-3500': 2,\n",
    "    '3500-4000': 3,\n",
    "    '500-1000': 4,\n",
    "    '2000-2500': 5,\n",
    "    '4000-4500': 6,\n",
    "    '0-500': 7,\n",
    "    '4500-5000': 8,\n",
    "    '1500-2000': 9,\n",
    "    '5000-5500': 10,\n",
    "    '1000-1500': 11,\n",
    "    '5500-6000': 12,\n",
    "    '6000-6500': 13,\n",
    "    '6500-7000': 14,\n",
    "    '7000-7500': 15,\n",
    "    '7500-8000': 16,\n",
    "    '8000-8500': 17,\n",
    "    '8500-9000': 18\n",
    "}\n",
    "\n",
    "# Map the values to the 'origination_charges' column\n",
    "df['total_loan_costs'] = df['total_loan_costs'].map(total_loan_costs_mapping)"
   ]
  },
  {
   "cell_type": "code",
   "execution_count": 19,
   "id": "70288add-b4fd-46c6-8e06-222fc73f5963",
   "metadata": {},
   "outputs": [
    {
     "name": "stdout",
     "output_type": "stream",
     "text": [
      "total_loan_costs\n",
      "7.0     25773\n",
      "2.0      4176\n",
      "1.0      4000\n",
      "3.0      3346\n",
      "5.0      2741\n",
      "4.0      2549\n",
      "6.0      2532\n",
      "8.0      1949\n",
      "9.0      1566\n",
      "10.0     1515\n",
      "11.0     1138\n",
      "12.0     1112\n",
      "13.0      696\n",
      "14.0      523\n",
      "15.0      371\n",
      "16.0      308\n",
      "17.0      242\n",
      "18.0      185\n",
      "Name: count, dtype: int64\n"
     ]
    }
   ],
   "source": [
    "print(df['total_loan_costs'].value_counts())"
   ]
  },
  {
   "cell_type": "markdown",
   "id": "350fa3d7-05b0-4c90-b7bb-0981f41cd756",
   "metadata": {},
   "source": [
    "# Convert total_units to numerical:"
   ]
  },
  {
   "cell_type": "code",
   "execution_count": 20,
   "id": "6e5fe4dd-b853-49c6-b979-e2dfacf60442",
   "metadata": {
    "tags": []
   },
   "outputs": [
    {
     "name": "stdout",
     "output_type": "stream",
     "text": [
      "total_units\n",
      "1       54079\n",
      "2         529\n",
      "4         120\n",
      "3         103\n",
      "5-24        1\n",
      "Name: count, dtype: int64\n"
     ]
    }
   ],
   "source": [
    "print(df['total_units'].value_counts())"
   ]
  },
  {
   "cell_type": "code",
   "execution_count": 21,
   "id": "b9ca5b12-07b2-4034-b4c5-b63b8acf58f6",
   "metadata": {
    "tags": []
   },
   "outputs": [],
   "source": [
    "# Define a dictionary to map the total_units categories to numerical values\n",
    "total_units_mapping = {\n",
    "    '1': 1,\n",
    "    '2': 2,\n",
    "    '3': 3,\n",
    "    '4': 4,\n",
    "    '5-24': 5,\n",
    "}\n",
    "\n",
    "# Map the values to the 'combined_loan_to_value_ratio' column\n",
    "df['total_units'] = df['total_units'].map(total_units_mapping)"
   ]
  },
  {
   "cell_type": "code",
   "execution_count": 22,
   "id": "dfd343e3-53e0-489d-88c5-d98403425258",
   "metadata": {
    "tags": []
   },
   "outputs": [
    {
     "name": "stdout",
     "output_type": "stream",
     "text": [
      "total_units\n",
      "1    54079\n",
      "2      529\n",
      "4      120\n",
      "3      103\n",
      "5        1\n",
      "Name: count, dtype: int64\n"
     ]
    }
   ],
   "source": [
    "print(df['total_units'].value_counts())"
   ]
  },
  {
   "cell_type": "markdown",
   "id": "180fe289-82a8-480d-9d50-87731e70e0d6",
   "metadata": {},
   "source": [
    "# Convert combined_loan_to_value_ratio to numerical:"
   ]
  },
  {
   "cell_type": "code",
   "execution_count": 23,
   "id": "dad96d8b-a21a-47f0-916c-29f732f92301",
   "metadata": {
    "tags": []
   },
   "outputs": [
    {
     "name": "stdout",
     "output_type": "stream",
     "text": [
      "combined_loan_to_value_ratio\n",
      "75.0-80.0      13229\n",
      "70.0-75.0       5643\n",
      "95.0-100.0      4687\n",
      "65.0-70.0       4668\n",
      "90.0-95.0       3951\n",
      "85.0-90.0       3719\n",
      "55.0-60.0       3477\n",
      "60.0-65.0       2979\n",
      "80.0-85.0       2885\n",
      "50.0-55.0       2317\n",
      "45.0-50.0       2133\n",
      "40.0-45.0       1508\n",
      "35.0-40.0       1222\n",
      "100.0-120.0     1087\n",
      "30.0-35.0        957\n",
      "25.0-30.0        370\n",
      "Name: count, dtype: int64\n"
     ]
    }
   ],
   "source": [
    "print(df['combined_loan_to_value_ratio'].value_counts())"
   ]
  },
  {
   "cell_type": "code",
   "execution_count": 24,
   "id": "a41a9e65-fbe7-47ea-aa0a-5953a03ec724",
   "metadata": {},
   "outputs": [],
   "source": [
    "# Define a dictionary to map the combined_loan_to_value_ratio categories to numerical values\n",
    "combined_loan_to_value_ratio_mapping = {\n",
    "    '75.0-80.0': 1,\n",
    "    '70.0-75.0': 2,\n",
    "    '95.0-100.0': 3,\n",
    "    '65.0-70.0': 4,\n",
    "    '90.0-95.0': 5,\n",
    "    '85.0-90.0': 6,\n",
    "    '55.0-60.0': 7,\n",
    "    '60.0-65.0': 8,\n",
    "    '50.0-55.0': 9,\n",
    "    '80.0-85.0': 10,\n",
    "    '45.0-50.0': 11,\n",
    "    '40.0-45.0': 12,\n",
    "    '35.0-40.0': 13,\n",
    "    '30.0-35.0': 14,\n",
    "    '25.0-30.0': 15,\n",
    "    '100.0-120.0': 16,\n",
    "    '0.0-25.0': 17\n",
    "}\n",
    "\n",
    "\n",
    "# Map the values to the 'combined_loan_to_value_ratio' column\n",
    "df['combined_loan_to_value_ratio'] = df['combined_loan_to_value_ratio'].map(combined_loan_to_value_ratio_mapping)"
   ]
  },
  {
   "cell_type": "code",
   "execution_count": 25,
   "id": "8dd4beae-7e33-40ca-baf4-6bbf7d6d62ae",
   "metadata": {},
   "outputs": [
    {
     "name": "stdout",
     "output_type": "stream",
     "text": [
      "combined_loan_to_value_ratio\n",
      "1     13229\n",
      "2      5643\n",
      "3      4687\n",
      "4      4668\n",
      "5      3951\n",
      "6      3719\n",
      "7      3477\n",
      "8      2979\n",
      "10     2885\n",
      "9      2317\n",
      "11     2133\n",
      "12     1508\n",
      "13     1222\n",
      "16     1087\n",
      "14      957\n",
      "15      370\n",
      "Name: count, dtype: int64\n"
     ]
    }
   ],
   "source": [
    "print(df['combined_loan_to_value_ratio'].value_counts())"
   ]
  },
  {
   "cell_type": "code",
   "execution_count": 26,
   "id": "8774f427-0043-486f-aca6-1bfc248fd12e",
   "metadata": {
    "tags": []
   },
   "outputs": [
    {
     "name": "stdout",
     "output_type": "stream",
     "text": [
      "<class 'pandas.core.frame.DataFrame'>\n",
      "RangeIndex: 54832 entries, 0 to 54831\n",
      "Data columns (total 33 columns):\n",
      " #   Column                                    Non-Null Count  Dtype  \n",
      "---  ------                                    --------------  -----  \n",
      " 0   action_taken                              54832 non-null  int64  \n",
      " 1   loan_type                                 54832 non-null  int64  \n",
      " 2   lien_status                               54832 non-null  int64  \n",
      " 3   open_end_line_of_credit                   54832 non-null  int64  \n",
      " 4   loan_amount                               54832 non-null  int64  \n",
      " 5   combined_loan_to_value_ratio              54832 non-null  int64  \n",
      " 6   interest_rate                             54827 non-null  float64\n",
      " 7   total_loan_costs                          54722 non-null  float64\n",
      " 8   origination_charges                       54792 non-null  float64\n",
      " 9   loan_term                                 54826 non-null  float64\n",
      " 10  negative_amortization                     54832 non-null  int64  \n",
      " 11  interest_only_payment                     54832 non-null  int64  \n",
      " 12  balloon_payment                           54832 non-null  int64  \n",
      " 13  other_nonamortizing_features              54832 non-null  int64  \n",
      " 14  property_value                            54777 non-null  float64\n",
      " 15  occupancy_type                            54832 non-null  int64  \n",
      " 16  manufactured_home_secured_property_type   54832 non-null  int64  \n",
      " 17  manufactured_home_land_property_interest  54832 non-null  int64  \n",
      " 18  total_units                               54832 non-null  int64  \n",
      " 19  income                                    53217 non-null  float64\n",
      " 20  debt_to_income_ratio                      54605 non-null  float64\n",
      " 21  applicant_credit_score_type               54832 non-null  int64  \n",
      " 22  co_applicant_credit_score_type            54832 non-null  int64  \n",
      " 23  applicant_ethnicity_1                     54832 non-null  float64\n",
      " 24  co_applicant_ethnicity_1                  54832 non-null  float64\n",
      " 25  applicant_race_1                          54832 non-null  float64\n",
      " 26  applicant_race_2                          205 non-null    float64\n",
      " 27  co_applicant_race_1                       54832 non-null  float64\n",
      " 28  co_applicant_race_2                       210 non-null    float64\n",
      " 29  applicant_sex                             54832 non-null  int64  \n",
      " 30  co_applicant_sex                          54832 non-null  int64  \n",
      " 31  applicant_age                             54832 non-null  int64  \n",
      " 32  co_applicant_age                          54832 non-null  int64  \n",
      "dtypes: float64(13), int64(20)\n",
      "memory usage: 13.8 MB\n"
     ]
    }
   ],
   "source": [
    "df.info()"
   ]
  },
  {
   "cell_type": "code",
   "execution_count": 27,
   "id": "23f2d271-e46c-453f-9654-77060b30bea5",
   "metadata": {
    "tags": []
   },
   "outputs": [
    {
     "data": {
      "text/html": [
       "<div>\n",
       "<style scoped>\n",
       "    .dataframe tbody tr th:only-of-type {\n",
       "        vertical-align: middle;\n",
       "    }\n",
       "\n",
       "    .dataframe tbody tr th {\n",
       "        vertical-align: top;\n",
       "    }\n",
       "\n",
       "    .dataframe thead th {\n",
       "        text-align: right;\n",
       "    }\n",
       "</style>\n",
       "<table border=\"1\" class=\"dataframe\">\n",
       "  <thead>\n",
       "    <tr style=\"text-align: right;\">\n",
       "      <th></th>\n",
       "      <th>action_taken</th>\n",
       "      <th>loan_type</th>\n",
       "      <th>lien_status</th>\n",
       "      <th>open_end_line_of_credit</th>\n",
       "      <th>loan_amount</th>\n",
       "      <th>combined_loan_to_value_ratio</th>\n",
       "      <th>interest_rate</th>\n",
       "      <th>total_loan_costs</th>\n",
       "      <th>origination_charges</th>\n",
       "      <th>loan_term</th>\n",
       "      <th>...</th>\n",
       "      <th>applicant_ethnicity_1</th>\n",
       "      <th>co_applicant_ethnicity_1</th>\n",
       "      <th>applicant_race_1</th>\n",
       "      <th>applicant_race_2</th>\n",
       "      <th>co_applicant_race_1</th>\n",
       "      <th>co_applicant_race_2</th>\n",
       "      <th>applicant_sex</th>\n",
       "      <th>co_applicant_sex</th>\n",
       "      <th>applicant_age</th>\n",
       "      <th>co_applicant_age</th>\n",
       "    </tr>\n",
       "  </thead>\n",
       "  <tbody>\n",
       "    <tr>\n",
       "      <th>0</th>\n",
       "      <td>3</td>\n",
       "      <td>3</td>\n",
       "      <td>1</td>\n",
       "      <td>2</td>\n",
       "      <td>205000</td>\n",
       "      <td>16</td>\n",
       "      <td>5.0</td>\n",
       "      <td>7.0</td>\n",
       "      <td>1.0</td>\n",
       "      <td>6.0</td>\n",
       "      <td>...</td>\n",
       "      <td>2.0</td>\n",
       "      <td>2.0</td>\n",
       "      <td>5.0</td>\n",
       "      <td>NaN</td>\n",
       "      <td>5.0</td>\n",
       "      <td>NaN</td>\n",
       "      <td>1</td>\n",
       "      <td>2</td>\n",
       "      <td>7</td>\n",
       "      <td>4</td>\n",
       "    </tr>\n",
       "    <tr>\n",
       "      <th>1</th>\n",
       "      <td>3</td>\n",
       "      <td>2</td>\n",
       "      <td>1</td>\n",
       "      <td>2</td>\n",
       "      <td>155000</td>\n",
       "      <td>7</td>\n",
       "      <td>5.0</td>\n",
       "      <td>7.0</td>\n",
       "      <td>1.0</td>\n",
       "      <td>6.0</td>\n",
       "      <td>...</td>\n",
       "      <td>2.0</td>\n",
       "      <td>2.0</td>\n",
       "      <td>5.0</td>\n",
       "      <td>NaN</td>\n",
       "      <td>5.0</td>\n",
       "      <td>NaN</td>\n",
       "      <td>2</td>\n",
       "      <td>1</td>\n",
       "      <td>3</td>\n",
       "      <td>3</td>\n",
       "    </tr>\n",
       "    <tr>\n",
       "      <th>2</th>\n",
       "      <td>3</td>\n",
       "      <td>2</td>\n",
       "      <td>1</td>\n",
       "      <td>2</td>\n",
       "      <td>125000</td>\n",
       "      <td>8</td>\n",
       "      <td>5.0</td>\n",
       "      <td>7.0</td>\n",
       "      <td>1.0</td>\n",
       "      <td>6.0</td>\n",
       "      <td>...</td>\n",
       "      <td>2.0</td>\n",
       "      <td>2.0</td>\n",
       "      <td>5.0</td>\n",
       "      <td>NaN</td>\n",
       "      <td>5.0</td>\n",
       "      <td>NaN</td>\n",
       "      <td>1</td>\n",
       "      <td>2</td>\n",
       "      <td>4</td>\n",
       "      <td>3</td>\n",
       "    </tr>\n",
       "    <tr>\n",
       "      <th>3</th>\n",
       "      <td>3</td>\n",
       "      <td>2</td>\n",
       "      <td>1</td>\n",
       "      <td>2</td>\n",
       "      <td>55000</td>\n",
       "      <td>7</td>\n",
       "      <td>5.0</td>\n",
       "      <td>7.0</td>\n",
       "      <td>1.0</td>\n",
       "      <td>6.0</td>\n",
       "      <td>...</td>\n",
       "      <td>2.0</td>\n",
       "      <td>2.0</td>\n",
       "      <td>3.0</td>\n",
       "      <td>NaN</td>\n",
       "      <td>3.0</td>\n",
       "      <td>NaN</td>\n",
       "      <td>1</td>\n",
       "      <td>2</td>\n",
       "      <td>2</td>\n",
       "      <td>2</td>\n",
       "    </tr>\n",
       "    <tr>\n",
       "      <th>4</th>\n",
       "      <td>3</td>\n",
       "      <td>1</td>\n",
       "      <td>1</td>\n",
       "      <td>2</td>\n",
       "      <td>345000</td>\n",
       "      <td>1</td>\n",
       "      <td>5.0</td>\n",
       "      <td>7.0</td>\n",
       "      <td>1.0</td>\n",
       "      <td>3.0</td>\n",
       "      <td>...</td>\n",
       "      <td>2.0</td>\n",
       "      <td>2.0</td>\n",
       "      <td>5.0</td>\n",
       "      <td>NaN</td>\n",
       "      <td>5.0</td>\n",
       "      <td>NaN</td>\n",
       "      <td>1</td>\n",
       "      <td>2</td>\n",
       "      <td>2</td>\n",
       "      <td>2</td>\n",
       "    </tr>\n",
       "  </tbody>\n",
       "</table>\n",
       "<p>5 rows × 33 columns</p>\n",
       "</div>"
      ],
      "text/plain": [
       "   action_taken  loan_type  lien_status  open_end_line_of_credit  loan_amount  \\\n",
       "0             3          3            1                        2       205000   \n",
       "1             3          2            1                        2       155000   \n",
       "2             3          2            1                        2       125000   \n",
       "3             3          2            1                        2        55000   \n",
       "4             3          1            1                        2       345000   \n",
       "\n",
       "   combined_loan_to_value_ratio  interest_rate  total_loan_costs  \\\n",
       "0                            16            5.0               7.0   \n",
       "1                             7            5.0               7.0   \n",
       "2                             8            5.0               7.0   \n",
       "3                             7            5.0               7.0   \n",
       "4                             1            5.0               7.0   \n",
       "\n",
       "   origination_charges  loan_term  ...  applicant_ethnicity_1  \\\n",
       "0                  1.0        6.0  ...                    2.0   \n",
       "1                  1.0        6.0  ...                    2.0   \n",
       "2                  1.0        6.0  ...                    2.0   \n",
       "3                  1.0        6.0  ...                    2.0   \n",
       "4                  1.0        3.0  ...                    2.0   \n",
       "\n",
       "   co_applicant_ethnicity_1  applicant_race_1  applicant_race_2  \\\n",
       "0                       2.0               5.0               NaN   \n",
       "1                       2.0               5.0               NaN   \n",
       "2                       2.0               5.0               NaN   \n",
       "3                       2.0               3.0               NaN   \n",
       "4                       2.0               5.0               NaN   \n",
       "\n",
       "   co_applicant_race_1  co_applicant_race_2  applicant_sex  co_applicant_sex  \\\n",
       "0                  5.0                  NaN              1                 2   \n",
       "1                  5.0                  NaN              2                 1   \n",
       "2                  5.0                  NaN              1                 2   \n",
       "3                  3.0                  NaN              1                 2   \n",
       "4                  5.0                  NaN              1                 2   \n",
       "\n",
       "   applicant_age  co_applicant_age  \n",
       "0              7                 4  \n",
       "1              3                 3  \n",
       "2              4                 3  \n",
       "3              2                 2  \n",
       "4              2                 2  \n",
       "\n",
       "[5 rows x 33 columns]"
      ]
     },
     "execution_count": 27,
     "metadata": {},
     "output_type": "execute_result"
    }
   ],
   "source": [
    "df.head()"
   ]
  },
  {
   "cell_type": "markdown",
   "id": "b0c5ab94-89b1-4816-b201-43235dbc73bd",
   "metadata": {},
   "source": [
    "# Make data the same data type"
   ]
  },
  {
   "cell_type": "markdown",
   "id": "d0f73bc6-c16a-4343-9819-245d104902e8",
   "metadata": {},
   "source": [
    "## Remove nan first"
   ]
  },
  {
   "cell_type": "code",
   "execution_count": 28,
   "id": "6a40d82f-72fb-4c75-bc09-c08f0b919b2f",
   "metadata": {
    "tags": []
   },
   "outputs": [
    {
     "name": "stdout",
     "output_type": "stream",
     "text": [
      "Columns with NaN values: ['interest_rate', 'total_loan_costs', 'origination_charges', 'loan_term', 'property_value', 'income', 'debt_to_income_ratio', 'applicant_race_2', 'co_applicant_race_2']\n"
     ]
    }
   ],
   "source": [
    "columns_with_nan = df.columns[df.isna().any()].tolist()\n",
    "print(\"Columns with NaN values:\", columns_with_nan)"
   ]
  },
  {
   "cell_type": "code",
   "execution_count": 29,
   "id": "aba596e3-cf7c-4b11-a6af-dd801e1a73c6",
   "metadata": {},
   "outputs": [],
   "source": [
    "# Specify columns with NaN values and their respective fill methods\n",
    "columns_to_fill = {\n",
    "    'interest_rate': 'mean',  # Fill with mean\n",
    "    'loan_term': 'mode',  # Fill with mode\n",
    "    'income': 'mean',  # Fill with mean\n",
    "    'applicant_race_1': 'mode',  # Fill with mode\n",
    "    'applicant_race_2': 'mode',  # Fill with mode\n",
    "    'co_applicant_race_1': 'mode',  # Fill with mode\n",
    "    'co_applicant_race_2': 'mode',  # Fill with mode\n",
    "    'applicant_ethnicity_1': 'mode',  # Fill with mode\n",
    "    'co_applicant_ethnicity_1': 'mode',  # Fill with mode\n",
    "    'total_loan_costs': 'mean',  # Fill with mean\n",
    "    'origination_charges': 'mean',  # Fill with mean\n",
    "    'property_value': 'mean',  # Fill with mean\n",
    "    'debt_to_income_ratio': 'mean'  # Fill with mean\n",
    "}\n",
    "\n",
    "# Fill missing values according to the specified method for each column\n",
    "for column, fill_method in columns_to_fill.items():\n",
    "    if fill_method == 'mean':\n",
    "        mean_value = df[column].mean()\n",
    "        df[column].fillna(mean_value, inplace=True)\n",
    "    elif fill_method == 'mode':\n",
    "        mode_value = df[column].mode().values[0]\n",
    "        df[column].fillna(mode_value, inplace=True)\n",
    "    else:\n",
    "        df[column].fillna(fill_method, inplace=True)\n"
   ]
  },
  {
   "cell_type": "code",
   "execution_count": 30,
   "id": "b6cc11c2-7127-48c4-ab77-db509dbf6e9a",
   "metadata": {},
   "outputs": [
    {
     "name": "stdout",
     "output_type": "stream",
     "text": [
      "Columns with NaN values: []\n"
     ]
    }
   ],
   "source": [
    "columns_with_nan = df.columns[df.isna().any()].tolist()\n",
    "print(\"Columns with NaN values:\", columns_with_nan)"
   ]
  },
  {
   "cell_type": "code",
   "execution_count": 31,
   "id": "cf12c807-17c9-477f-ba9f-73533dbdb731",
   "metadata": {},
   "outputs": [
    {
     "name": "stdout",
     "output_type": "stream",
     "text": [
      "<class 'pandas.core.frame.DataFrame'>\n",
      "RangeIndex: 54832 entries, 0 to 54831\n",
      "Data columns (total 33 columns):\n",
      " #   Column                                    Non-Null Count  Dtype  \n",
      "---  ------                                    --------------  -----  \n",
      " 0   action_taken                              54832 non-null  int64  \n",
      " 1   loan_type                                 54832 non-null  int64  \n",
      " 2   lien_status                               54832 non-null  int64  \n",
      " 3   open_end_line_of_credit                   54832 non-null  int64  \n",
      " 4   loan_amount                               54832 non-null  int64  \n",
      " 5   combined_loan_to_value_ratio              54832 non-null  int64  \n",
      " 6   interest_rate                             54832 non-null  float64\n",
      " 7   total_loan_costs                          54832 non-null  float64\n",
      " 8   origination_charges                       54832 non-null  float64\n",
      " 9   loan_term                                 54832 non-null  float64\n",
      " 10  negative_amortization                     54832 non-null  int64  \n",
      " 11  interest_only_payment                     54832 non-null  int64  \n",
      " 12  balloon_payment                           54832 non-null  int64  \n",
      " 13  other_nonamortizing_features              54832 non-null  int64  \n",
      " 14  property_value                            54832 non-null  float64\n",
      " 15  occupancy_type                            54832 non-null  int64  \n",
      " 16  manufactured_home_secured_property_type   54832 non-null  int64  \n",
      " 17  manufactured_home_land_property_interest  54832 non-null  int64  \n",
      " 18  total_units                               54832 non-null  int64  \n",
      " 19  income                                    54832 non-null  float64\n",
      " 20  debt_to_income_ratio                      54832 non-null  float64\n",
      " 21  applicant_credit_score_type               54832 non-null  int64  \n",
      " 22  co_applicant_credit_score_type            54832 non-null  int64  \n",
      " 23  applicant_ethnicity_1                     54832 non-null  float64\n",
      " 24  co_applicant_ethnicity_1                  54832 non-null  float64\n",
      " 25  applicant_race_1                          54832 non-null  float64\n",
      " 26  applicant_race_2                          54832 non-null  float64\n",
      " 27  co_applicant_race_1                       54832 non-null  float64\n",
      " 28  co_applicant_race_2                       54832 non-null  float64\n",
      " 29  applicant_sex                             54832 non-null  int64  \n",
      " 30  co_applicant_sex                          54832 non-null  int64  \n",
      " 31  applicant_age                             54832 non-null  int64  \n",
      " 32  co_applicant_age                          54832 non-null  int64  \n",
      "dtypes: float64(13), int64(20)\n",
      "memory usage: 13.8 MB\n"
     ]
    }
   ],
   "source": [
    "df.info()"
   ]
  },
  {
   "cell_type": "code",
   "execution_count": 32,
   "id": "a60f632b-08bb-46c7-85cf-c235a4d7ffa8",
   "metadata": {
    "tags": []
   },
   "outputs": [],
   "source": [
    "df.to_csv('10_all_numerical_32bit.csv', index=False)"
   ]
  },
  {
   "cell_type": "code",
   "execution_count": null,
   "id": "440e79a1-235f-447e-a283-3e671f4ac675",
   "metadata": {},
   "outputs": [],
   "source": []
  }
 ],
 "metadata": {
  "kernelspec": {
   "display_name": "Python 3 (ipykernel)",
   "language": "python",
   "name": "python3"
  },
  "language_info": {
   "codemirror_mode": {
    "name": "ipython",
    "version": 3
   },
   "file_extension": ".py",
   "mimetype": "text/x-python",
   "name": "python",
   "nbconvert_exporter": "python",
   "pygments_lexer": "ipython3",
   "version": "3.11.5"
  }
 },
 "nbformat": 4,
 "nbformat_minor": 5
}
