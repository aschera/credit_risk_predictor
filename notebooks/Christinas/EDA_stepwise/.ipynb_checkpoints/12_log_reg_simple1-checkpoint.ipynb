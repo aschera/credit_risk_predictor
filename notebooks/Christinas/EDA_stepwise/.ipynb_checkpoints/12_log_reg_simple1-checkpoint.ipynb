{
 "cells": [
  {
   "cell_type": "code",
   "execution_count": 1,
   "id": "236fe6aa-a953-40d2-830b-d6a8db58d7b5",
   "metadata": {
    "tags": []
   },
   "outputs": [],
   "source": [
    "import warnings\n",
    "import numpy as np\n",
    "import pandas as pd\n",
    "import seaborn as sns\n",
    "import matplotlib.pyplot as plt\n",
    "from sklearn.preprocessing import LabelEncoder\n",
    "from scipy.stats import chi2_contingency\n",
    "from itertools import product\n",
    "from numpy import mean\n",
    "from numpy import std\n",
    "from sklearn.datasets import make_classification\n",
    "from sklearn.model_selection import cross_val_score\n",
    "from sklearn.model_selection import RepeatedStratifiedKFold\n",
    "from sklearn.linear_model import LogisticRegression\n",
    "\n",
    "from sklearn.metrics import accuracy_score, classification_report, confusion_matrix"
   ]
  },
  {
   "cell_type": "markdown",
   "id": "948cb308-612a-4da1-98c0-736da467816f",
   "metadata": {
    "tags": []
   },
   "source": [
    "# load dataset 10"
   ]
  },
  {
   "cell_type": "code",
   "execution_count": 2,
   "id": "c2a59209-78cf-4057-853f-b81f2fd701a6",
   "metadata": {
    "tags": []
   },
   "outputs": [],
   "source": [
    "df = pd.read_csv('10_all_numerical.csv', low_memory=False)"
   ]
  },
  {
   "cell_type": "code",
   "execution_count": 3,
   "id": "8cc5244b-35d6-4fe1-89a8-246bc1d67113",
   "metadata": {
    "tags": []
   },
   "outputs": [
    {
     "name": "stdout",
     "output_type": "stream",
     "text": [
      "<class 'pandas.core.frame.DataFrame'>\n",
      "RangeIndex: 155766 entries, 0 to 155765\n",
      "Data columns (total 36 columns):\n",
      " #   Column                                    Non-Null Count   Dtype  \n",
      "---  ------                                    --------------   -----  \n",
      " 0   census_tract                              155680 non-null  float64\n",
      " 1   action_taken                              155766 non-null  int64  \n",
      " 2   loan_type                                 155766 non-null  int64  \n",
      " 3   lien_status                               155766 non-null  int64  \n",
      " 4   reverse_mortgage                          155766 non-null  int64  \n",
      " 5   open_end_line_of_credit                   155766 non-null  int64  \n",
      " 6   loan_amount                               155766 non-null  int64  \n",
      " 7   combined_loan_to_value_ratio              154641 non-null  float64\n",
      " 8   interest_rate                             77802 non-null   float64\n",
      " 9   total_loan_costs                          77806 non-null   float64\n",
      " 10  origination_charges                       77806 non-null   float64\n",
      " 11  loan_term                                 155758 non-null  float64\n",
      " 12  negative_amortization                     155766 non-null  int64  \n",
      " 13  interest_only_payment                     155766 non-null  int64  \n",
      " 14  balloon_payment                           155766 non-null  int64  \n",
      " 15  other_nonamortizing_features              155766 non-null  int64  \n",
      " 16  property_value                            155635 non-null  float64\n",
      " 17  occupancy_type                            155766 non-null  int64  \n",
      " 18  manufactured_home_secured_property_type   155766 non-null  int64  \n",
      " 19  manufactured_home_land_property_interest  155766 non-null  int64  \n",
      " 20  total_units                               155766 non-null  int64  \n",
      " 21  income                                    150439 non-null  float64\n",
      " 22  debt_to_income_ratio                      153967 non-null  float64\n",
      " 23  applicant_credit_score_type               155766 non-null  int64  \n",
      " 24  co_applicant_credit_score_type            155766 non-null  int64  \n",
      " 25  applicant_sex                             155766 non-null  int64  \n",
      " 26  co_applicant_sex                          155766 non-null  int64  \n",
      " 27  applicant_age                             155766 non-null  int64  \n",
      " 28  co_applicant_age                          155766 non-null  int64  \n",
      " 29  aus_1                                     155766 non-null  int64  \n",
      " 30  applicant_race_1                          126230 non-null  float64\n",
      " 31  applicant_race_2                          1545 non-null    float64\n",
      " 32  co_applicant_race_1                       56025 non-null   float64\n",
      " 33  co_applicant_race_2                       473 non-null     float64\n",
      " 34  applicant_ethnicity_1                     141331 non-null  float64\n",
      " 35  co_applicant_ethnicity_1                  63517 non-null   float64\n",
      "dtypes: float64(15), int64(21)\n",
      "memory usage: 42.8 MB\n"
     ]
    }
   ],
   "source": [
    "df.info()"
   ]
  },
  {
   "cell_type": "code",
   "execution_count": 4,
   "id": "b0f1fbb7-b549-4b4a-b386-e8e0da786044",
   "metadata": {
    "tags": []
   },
   "outputs": [
    {
     "data": {
      "text/html": [
       "<div>\n",
       "<style scoped>\n",
       "    .dataframe tbody tr th:only-of-type {\n",
       "        vertical-align: middle;\n",
       "    }\n",
       "\n",
       "    .dataframe tbody tr th {\n",
       "        vertical-align: top;\n",
       "    }\n",
       "\n",
       "    .dataframe thead th {\n",
       "        text-align: right;\n",
       "    }\n",
       "</style>\n",
       "<table border=\"1\" class=\"dataframe\">\n",
       "  <thead>\n",
       "    <tr style=\"text-align: right;\">\n",
       "      <th></th>\n",
       "      <th>census_tract</th>\n",
       "      <th>action_taken</th>\n",
       "      <th>loan_type</th>\n",
       "      <th>lien_status</th>\n",
       "      <th>reverse_mortgage</th>\n",
       "      <th>open_end_line_of_credit</th>\n",
       "      <th>loan_amount</th>\n",
       "      <th>combined_loan_to_value_ratio</th>\n",
       "      <th>interest_rate</th>\n",
       "      <th>total_loan_costs</th>\n",
       "      <th>...</th>\n",
       "      <th>co_applicant_sex</th>\n",
       "      <th>applicant_age</th>\n",
       "      <th>co_applicant_age</th>\n",
       "      <th>aus_1</th>\n",
       "      <th>applicant_race_1</th>\n",
       "      <th>applicant_race_2</th>\n",
       "      <th>co_applicant_race_1</th>\n",
       "      <th>co_applicant_race_2</th>\n",
       "      <th>applicant_ethnicity_1</th>\n",
       "      <th>co_applicant_ethnicity_1</th>\n",
       "    </tr>\n",
       "  </thead>\n",
       "  <tbody>\n",
       "    <tr>\n",
       "      <th>0</th>\n",
       "      <td>9.003416e+09</td>\n",
       "      <td>3</td>\n",
       "      <td>2</td>\n",
       "      <td>1</td>\n",
       "      <td>2</td>\n",
       "      <td>2</td>\n",
       "      <td>115000</td>\n",
       "      <td>98.188</td>\n",
       "      <td>NaN</td>\n",
       "      <td>NaN</td>\n",
       "      <td>...</td>\n",
       "      <td>5</td>\n",
       "      <td>1</td>\n",
       "      <td>6</td>\n",
       "      <td>1</td>\n",
       "      <td>3.0</td>\n",
       "      <td>NaN</td>\n",
       "      <td>NaN</td>\n",
       "      <td>NaN</td>\n",
       "      <td>2.0</td>\n",
       "      <td>NaN</td>\n",
       "    </tr>\n",
       "    <tr>\n",
       "      <th>1</th>\n",
       "      <td>4.201710e+10</td>\n",
       "      <td>3</td>\n",
       "      <td>3</td>\n",
       "      <td>1</td>\n",
       "      <td>2</td>\n",
       "      <td>2</td>\n",
       "      <td>205000</td>\n",
       "      <td>110.256</td>\n",
       "      <td>NaN</td>\n",
       "      <td>NaN</td>\n",
       "      <td>...</td>\n",
       "      <td>2</td>\n",
       "      <td>7</td>\n",
       "      <td>4</td>\n",
       "      <td>1</td>\n",
       "      <td>5.0</td>\n",
       "      <td>NaN</td>\n",
       "      <td>5.0</td>\n",
       "      <td>NaN</td>\n",
       "      <td>2.0</td>\n",
       "      <td>2.0</td>\n",
       "    </tr>\n",
       "    <tr>\n",
       "      <th>2</th>\n",
       "      <td>3.401700e+10</td>\n",
       "      <td>3</td>\n",
       "      <td>1</td>\n",
       "      <td>1</td>\n",
       "      <td>2</td>\n",
       "      <td>2</td>\n",
       "      <td>205000</td>\n",
       "      <td>59.629</td>\n",
       "      <td>NaN</td>\n",
       "      <td>NaN</td>\n",
       "      <td>...</td>\n",
       "      <td>5</td>\n",
       "      <td>1</td>\n",
       "      <td>6</td>\n",
       "      <td>1</td>\n",
       "      <td>3.0</td>\n",
       "      <td>NaN</td>\n",
       "      <td>NaN</td>\n",
       "      <td>NaN</td>\n",
       "      <td>2.0</td>\n",
       "      <td>NaN</td>\n",
       "    </tr>\n",
       "    <tr>\n",
       "      <th>3</th>\n",
       "      <td>6.065043e+09</td>\n",
       "      <td>3</td>\n",
       "      <td>1</td>\n",
       "      <td>1</td>\n",
       "      <td>2</td>\n",
       "      <td>2</td>\n",
       "      <td>155000</td>\n",
       "      <td>64.990</td>\n",
       "      <td>NaN</td>\n",
       "      <td>NaN</td>\n",
       "      <td>...</td>\n",
       "      <td>5</td>\n",
       "      <td>4</td>\n",
       "      <td>6</td>\n",
       "      <td>1</td>\n",
       "      <td>5.0</td>\n",
       "      <td>NaN</td>\n",
       "      <td>NaN</td>\n",
       "      <td>NaN</td>\n",
       "      <td>2.0</td>\n",
       "      <td>NaN</td>\n",
       "    </tr>\n",
       "    <tr>\n",
       "      <th>4</th>\n",
       "      <td>3.711901e+10</td>\n",
       "      <td>3</td>\n",
       "      <td>1</td>\n",
       "      <td>1</td>\n",
       "      <td>2</td>\n",
       "      <td>2</td>\n",
       "      <td>255000</td>\n",
       "      <td>70.000</td>\n",
       "      <td>NaN</td>\n",
       "      <td>NaN</td>\n",
       "      <td>...</td>\n",
       "      <td>5</td>\n",
       "      <td>3</td>\n",
       "      <td>6</td>\n",
       "      <td>1</td>\n",
       "      <td>3.0</td>\n",
       "      <td>NaN</td>\n",
       "      <td>NaN</td>\n",
       "      <td>NaN</td>\n",
       "      <td>2.0</td>\n",
       "      <td>NaN</td>\n",
       "    </tr>\n",
       "  </tbody>\n",
       "</table>\n",
       "<p>5 rows × 36 columns</p>\n",
       "</div>"
      ],
      "text/plain": [
       "   census_tract  action_taken  loan_type  lien_status  reverse_mortgage  \\\n",
       "0  9.003416e+09             3          2            1                 2   \n",
       "1  4.201710e+10             3          3            1                 2   \n",
       "2  3.401700e+10             3          1            1                 2   \n",
       "3  6.065043e+09             3          1            1                 2   \n",
       "4  3.711901e+10             3          1            1                 2   \n",
       "\n",
       "   open_end_line_of_credit  loan_amount  combined_loan_to_value_ratio  \\\n",
       "0                        2       115000                        98.188   \n",
       "1                        2       205000                       110.256   \n",
       "2                        2       205000                        59.629   \n",
       "3                        2       155000                        64.990   \n",
       "4                        2       255000                        70.000   \n",
       "\n",
       "   interest_rate  total_loan_costs  ...  co_applicant_sex  applicant_age  \\\n",
       "0            NaN               NaN  ...                 5              1   \n",
       "1            NaN               NaN  ...                 2              7   \n",
       "2            NaN               NaN  ...                 5              1   \n",
       "3            NaN               NaN  ...                 5              4   \n",
       "4            NaN               NaN  ...                 5              3   \n",
       "\n",
       "   co_applicant_age  aus_1  applicant_race_1  applicant_race_2  \\\n",
       "0                 6      1               3.0               NaN   \n",
       "1                 4      1               5.0               NaN   \n",
       "2                 6      1               3.0               NaN   \n",
       "3                 6      1               5.0               NaN   \n",
       "4                 6      1               3.0               NaN   \n",
       "\n",
       "   co_applicant_race_1  co_applicant_race_2  applicant_ethnicity_1  \\\n",
       "0                  NaN                  NaN                    2.0   \n",
       "1                  5.0                  NaN                    2.0   \n",
       "2                  NaN                  NaN                    2.0   \n",
       "3                  NaN                  NaN                    2.0   \n",
       "4                  NaN                  NaN                    2.0   \n",
       "\n",
       "   co_applicant_ethnicity_1  \n",
       "0                       NaN  \n",
       "1                       2.0  \n",
       "2                       NaN  \n",
       "3                       NaN  \n",
       "4                       NaN  \n",
       "\n",
       "[5 rows x 36 columns]"
      ]
     },
     "execution_count": 4,
     "metadata": {},
     "output_type": "execute_result"
    }
   ],
   "source": [
    "df.head()"
   ]
  },
  {
   "cell_type": "code",
   "execution_count": 9,
   "id": "95af00c4-f865-478f-9072-fdfa9afef4b4",
   "metadata": {
    "tags": []
   },
   "outputs": [],
   "source": [
    "target_variable = \"action_taken\""
   ]
  },
  {
   "cell_type": "code",
   "execution_count": 10,
   "id": "ab973836-0960-4153-b3d7-3f07537b189a",
   "metadata": {
    "tags": []
   },
   "outputs": [],
   "source": [
    "X = df.drop(columns=[target_variable])\n",
    "y = df[target_variable]"
   ]
  },
  {
   "cell_type": "code",
   "execution_count": 11,
   "id": "adf25d8a-9970-44c0-b447-dc7ba4bcffd5",
   "metadata": {
    "tags": []
   },
   "outputs": [
    {
     "name": "stdout",
     "output_type": "stream",
     "text": [
      "(155766, 35) (155766,)\n"
     ]
    }
   ],
   "source": [
    "print(X.shape, y.shape)"
   ]
  },
  {
   "cell_type": "code",
   "execution_count": 12,
   "id": "1a84fa8b-a9e7-475c-b6c8-75e46f9208ce",
   "metadata": {
    "tags": []
   },
   "outputs": [],
   "source": [
    "seed = 123"
   ]
  },
  {
   "cell_type": "code",
   "execution_count": 13,
   "id": "ac8a339a-a6ca-42fd-95af-95ff44bcd0bc",
   "metadata": {},
   "outputs": [
    {
     "name": "stdout",
     "output_type": "stream",
     "text": [
      "Mean accuracy: 0.503 (0.011)\n"
     ]
    }
   ],
   "source": [
    "model = LogisticRegression(multi_class = 'multinomial', solver = 'lbfgs')\n",
    "cv = RepeatedStratifiedKFold(n_splits = 6, n_repeats = 3, random_state=seed)\n",
    "n_scores = cross_val_score(model, X, y, scoring = 'accuracy', cv=cv)\n",
    "\n",
    "print('Mean accuracy: %.3f (%.3f)' % (mean(n_scores), std(n_scores)))\n",
    "\n",
    "model.fit(X, y)\n",
    "\n",
    "y_pred = model.predict(X)"
   ]
  },
  {
   "cell_type": "code",
   "execution_count": 14,
   "id": "dd02cee3-8f6c-47c5-9ce4-350f7bbb67b7",
   "metadata": {},
   "outputs": [
    {
     "name": "stdout",
     "output_type": "stream",
     "text": [
      "              precision    recall  f1-score   support\n",
      "\n",
      "           1       0.00      0.00      0.00     77806\n",
      "           3       0.50      1.00      0.67     77960\n",
      "\n",
      "    accuracy                           0.50    155766\n",
      "   macro avg       0.25      0.50      0.33    155766\n",
      "weighted avg       0.25      0.50      0.33    155766\n",
      "\n"
     ]
    }
   ],
   "source": [
    "accuracy = accuracy_score(y, y_pred)\n",
    "\n",
    "print(classification_report(y, y_pred, zero_division=0))"
   ]
  },
  {
   "cell_type": "markdown",
   "id": "d2cdf36e-3df5-4ac9-90ae-100920e0c8c9",
   "metadata": {},
   "source": [
    "- for _class 1, precision is 0.80_, which means that _80%_ of the predictions for class 1 were correct, \n",
    "- and for _class 3, it's 0.00_, which means that _none_ of the predictions for class 3 were correct."
   ]
  },
  {
   "cell_type": "code",
   "execution_count": 15,
   "id": "5356f047-8511-40b8-9c48-bebe2cc7cc6f",
   "metadata": {
    "tags": []
   },
   "outputs": [
    {
     "data": {
      "image/png": "[encoded data removed]",
      "text/plain": [
       "<Figure size 640x480 with 2 Axes>"
      ]
     },
     "metadata": {},
     "output_type": "display_data"
    }
   ],
   "source": [
    "cm = confusion_matrix(y, y_pred)\n",
    "sns.heatmap(cm, annot=True, fmt='d')\n",
    "plt.xlabel('Predicted')\n",
    "plt.ylabel('True')\n",
    "plt.title('Confusion Matrix')\n",
    "plt.show()"
   ]
  },
  {
   "cell_type": "markdown",
   "id": "0dd5fc75-8a7a-4251-82c1-f0ed6d45bc53",
   "metadata": {},
   "source": [
    "# Conclusion\n",
    "\n",
    "The model cant predict class 3!"
   ]
  },
  {
   "cell_type": "code",
   "execution_count": null,
   "id": "c974e0a1-9aac-4e7d-add8-c1dc750b96e8",
   "metadata": {},
   "outputs": [],
   "source": []
  }
 ],
 "metadata": {
  "kernelspec": {
   "display_name": "Python 3 (ipykernel)",
   "language": "python",
   "name": "python3"
  },
  "language_info": {
   "codemirror_mode": {
    "name": "ipython",
    "version": 3
   },
   "file_extension": ".py",
   "mimetype": "text/x-python",
   "name": "python",
   "nbconvert_exporter": "python",
   "pygments_lexer": "ipython3",
   "version": "3.9.18"
  }
 },
 "nbformat": 4,
 "nbformat_minor": 5
}
