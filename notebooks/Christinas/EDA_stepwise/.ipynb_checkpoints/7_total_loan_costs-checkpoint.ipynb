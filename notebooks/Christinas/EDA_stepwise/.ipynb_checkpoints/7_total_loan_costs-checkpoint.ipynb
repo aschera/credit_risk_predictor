{
 "cells": [
  {
   "cell_type": "code",
   "execution_count": 1,
   "id": "7ded6d29-0371-4d2b-a166-6c879262eaf3",
   "metadata": {},
   "outputs": [],
   "source": [
    "import warnings\n",
    "import numpy as np\n",
    "import pandas as pd\n",
    "import seaborn as sns\n",
    "import matplotlib.pyplot as plt\n",
    "import seaborn as sns\n",
    "from sklearn.preprocessing import LabelEncoder\n",
    "from itertools import product\n",
    "import matplotlib.pyplot as plt"
   ]
  },
  {
   "cell_type": "markdown",
   "id": "e54bd0e0-9508-4541-ba4d-e5685dac8469",
   "metadata": {},
   "source": [
    "# load dataset 6"
   ]
  },
  {
   "cell_type": "code",
   "execution_count": 2,
   "id": "9cfa4754-ca70-4933-b99a-0a8702976971",
   "metadata": {},
   "outputs": [],
   "source": [
    "df = pd.read_csv('6_combined_loan_to_value_ratio.csv', low_memory=False)"
   ]
  },
  {
   "cell_type": "code",
   "execution_count": 3,
   "id": "9ec6d4c8-c02b-4106-bc0d-2de3ae2e8b4d",
   "metadata": {
    "tags": []
   },
   "outputs": [
    {
     "name": "stdout",
     "output_type": "stream",
     "text": [
      "<class 'pandas.core.frame.DataFrame'>\n",
      "RangeIndex: 88058 entries, 0 to 88057\n",
      "Data columns (total 34 columns):\n",
      " #   Column                                    Non-Null Count  Dtype  \n",
      "---  ------                                    --------------  -----  \n",
      " 0   census_tract                              88024 non-null  float64\n",
      " 1   action_taken                              88058 non-null  int64  \n",
      " 2   loan_type                                 88058 non-null  int64  \n",
      " 3   lien_status                               88058 non-null  int64  \n",
      " 4   reverse_mortgage                          88058 non-null  int64  \n",
      " 5   open_end_line_of_credit                   88058 non-null  int64  \n",
      " 6   loan_amount                               88058 non-null  int64  \n",
      " 7   combined_loan_to_value_ratio              66925 non-null  float64\n",
      " 8   interest_rate                             88058 non-null  object \n",
      " 9   total_loan_costs                          56823 non-null  object \n",
      " 10  origination_charges                       57680 non-null  object \n",
      " 11  loan_term                                 88002 non-null  object \n",
      " 12  negative_amortization                     88058 non-null  int64  \n",
      " 13  interest_only_payment                     88058 non-null  int64  \n",
      " 14  balloon_payment                           88058 non-null  int64  \n",
      " 15  other_nonamortizing_features              88058 non-null  int64  \n",
      " 16  property_value                            69202 non-null  object \n",
      " 17  occupancy_type                            88058 non-null  int64  \n",
      " 18  manufactured_home_secured_property_type   88058 non-null  int64  \n",
      " 19  manufactured_home_land_property_interest  88058 non-null  int64  \n",
      " 20  total_units                               88058 non-null  int64  \n",
      " 21  income                                    84119 non-null  float64\n",
      " 22  debt_to_income_ratio                      67186 non-null  object \n",
      " 23  applicant_credit_score_type               88058 non-null  int64  \n",
      " 24  co_applicant_credit_score_type            88058 non-null  int64  \n",
      " 25  applicant_sex                             88058 non-null  int64  \n",
      " 26  co_applicant_sex                          88058 non-null  int64  \n",
      " 27  applicant_age                             88058 non-null  int64  \n",
      " 28  co_applicant_age                          88058 non-null  int64  \n",
      " 29  aus_1                                     88058 non-null  int64  \n",
      " 30  applicant_race_1                          70674 non-null  float64\n",
      " 31  co_applicant_race_1                       69803 non-null  float64\n",
      " 32  applicant_ethnicity_1                     80997 non-null  float64\n",
      " 33  co_applicant_ethnicity_1                  80690 non-null  float64\n",
      "dtypes: float64(7), int64(21), object(6)\n",
      "memory usage: 22.8+ MB\n"
     ]
    }
   ],
   "source": [
    "df.info()"
   ]
  },
  {
   "cell_type": "markdown",
   "id": "22a50afa-79be-4f77-be56-ea7344f7efb7",
   "metadata": {},
   "source": [
    "\n",
    " 'total_loan_costs',\n",
    " 'origination_charges',\n",
    " 'loan_term',\n",
    " 'property_value',\n"
   ]
  },
  {
   "cell_type": "code",
   "execution_count": 4,
   "id": "90d7547f-6a1a-4ee6-ba99-c5b221505928",
   "metadata": {
    "tags": []
   },
   "outputs": [
    {
     "name": "stdout",
     "output_type": "stream",
     "text": [
      "total_loan_costs\n",
      "0.0        1827\n",
      "695.0      1214\n",
      "635.43      830\n",
      "15.43       513\n",
      "505.43      408\n",
      "           ... \n",
      "9840.1        1\n",
      "3695.4        1\n",
      "8003.75       1\n",
      "6157.89       1\n",
      "393.73        1\n",
      "Name: count, Length: 36877, dtype: int64\n"
     ]
    }
   ],
   "source": [
    "print(df['total_loan_costs'].value_counts())"
   ]
  },
  {
   "cell_type": "code",
   "execution_count": 5,
   "id": "ddfdb1a8-16f4-437e-a855-a453b647b478",
   "metadata": {
    "tags": []
   },
   "outputs": [
    {
     "name": "stdout",
     "output_type": "stream",
     "text": [
      "Number of Unique Categories: 36877\n"
     ]
    }
   ],
   "source": [
    "unique_categories = df['total_loan_costs'].nunique()\n",
    "print(\"Number of Unique Categories:\", unique_categories)"
   ]
  },
  {
   "cell_type": "code",
   "execution_count": 6,
   "id": "60435384-b2a6-46c0-bb22-8ff37705a81b",
   "metadata": {
    "tags": []
   },
   "outputs": [
    {
     "name": "stdout",
     "output_type": "stream",
     "text": [
      "Minimum total_loan_costs: 0.0\n",
      "Maximum total_loan_costs: 389990.0\n",
      "Median total_loan_costs: 3078.43\n"
     ]
    }
   ],
   "source": [
    "# First, convert the 'total_loan_costs' column to numeric (float)\n",
    "df['total_loan_costs'] = pd.to_numeric(df['total_loan_costs'], errors='coerce')\n",
    "\n",
    "# Now, calculate the minimum, maximum, and median\n",
    "minimum_interest_rate = df['total_loan_costs'].min()\n",
    "maximum_interest_rate = df['total_loan_costs'].max()\n",
    "median_interest_rate = df['total_loan_costs'].median()\n",
    "\n",
    "print(\"Minimum total_loan_costs:\", minimum_interest_rate)\n",
    "print(\"Maximum total_loan_costs:\", maximum_interest_rate)\n",
    "print(\"Median total_loan_costs:\", median_interest_rate)"
   ]
  },
  {
   "cell_type": "code",
   "execution_count": 7,
   "id": "12ca229e-39d5-45a5-83c8-0480a8288f23",
   "metadata": {},
   "outputs": [],
   "source": [
    "# Convert the 'total_loan_costs' column to numeric (float)\n",
    "df['total_loan_costs'] = pd.to_numeric(df['total_loan_costs'], errors='coerce')  # 'coerce' handles non-numeric values by converting them to NaN\n",
    "\n",
    "# Calculate the quantiles\n",
    "Q1 = df['total_loan_costs'].quantile(0.25)\n",
    "Q3 = df['total_loan_costs'].quantile(0.75)\n",
    "IQR = Q3 - Q1\n",
    "\n",
    "lower_bound = Q1 - 1.5 * IQR\n",
    "upper_bound = Q3 + 1.5 * IQR\n",
    "\n",
    "outliers = df[(df['total_loan_costs'] < lower_bound) | (df['total_loan_costs'] > upper_bound)]"
   ]
  },
  {
   "cell_type": "code",
   "execution_count": 8,
   "id": "7fb84799-8f63-429c-89b5-fd62780ce686",
   "metadata": {
    "tags": []
   },
   "outputs": [
    {
     "data": {
      "image/png": "[encoded data removed]",
      "text/plain": [
       "<Figure size 640x480 with 1 Axes>"
      ]
     },
     "metadata": {},
     "output_type": "display_data"
    }
   ],
   "source": [
    "plt.hist(df['total_loan_costs'], bins=50)  # Adjust the number of bins as needed\n",
    "plt.title('Histogram of total_loan_costs')\n",
    "plt.show()"
   ]
  },
  {
   "cell_type": "code",
   "execution_count": 9,
   "id": "12cc09f7-b818-42f3-9359-84769aec26f8",
   "metadata": {
    "tags": []
   },
   "outputs": [
    {
     "name": "stdout",
     "output_type": "stream",
     "text": [
      "[    nan 8352.71 6854.68 ... 1632.05  562.13  393.73]\n",
      "31344\n"
     ]
    },
    {
     "data": {
      "image/png": "[encoded data removed]",
      "text/plain": [
       "<Figure size 640x480 with 1 Axes>"
      ]
     },
     "metadata": {},
     "output_type": "display_data"
    }
   ],
   "source": [
    "df1 = df.copy()\n",
    "df1['total_loan_costs'] = pd.to_numeric(df['total_loan_costs'], errors='coerce')\n",
    "df1 = df1.dropna(subset=['total_loan_costs'])\n",
    "\n",
    "print(df['total_loan_costs'].unique())\n",
    "print(df['total_loan_costs'].isna().sum())\n",
    "\n",
    "# Create a box plot of the 'combined_loan_to_value_ratio' column\n",
    "plt.boxplot(df1['total_loan_costs'])\n",
    "plt.title('Box Plot of total_loan_costs')\n",
    "plt.show()"
   ]
  },
  {
   "cell_type": "code",
   "execution_count": null,
   "id": "78194e8f-abaf-497e-8725-6c79c9393ce7",
   "metadata": {},
   "outputs": [],
   "source": []
  }
 ],
 "metadata": {
  "kernelspec": {
   "display_name": "Python 3 (ipykernel)",
   "language": "python",
   "name": "python3"
  },
  "language_info": {
   "codemirror_mode": {
    "name": "ipython",
    "version": 3
   },
   "file_extension": ".py",
   "mimetype": "text/x-python",
   "name": "python",
   "nbconvert_exporter": "python",
   "pygments_lexer": "ipython3",
   "version": "3.9.18"
  }
 },
 "nbformat": 4,
 "nbformat_minor": 5
}
