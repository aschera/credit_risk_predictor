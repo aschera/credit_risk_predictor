{
 "cells": [
  {
   "cell_type": "code",
   "execution_count": 1,
   "id": "ad77c1d1-cd5c-4e2e-9fd9-01f379cc89bd",
   "metadata": {
    "tags": []
   },
   "outputs": [],
   "source": [
    "import pandas as pd"
   ]
  },
  {
   "cell_type": "code",
   "execution_count": null,
   "id": "beeecf80-3042-445f-9615-a217fb27f8bd",
   "metadata": {
    "tags": []
   },
   "outputs": [],
   "source": [
    "url = 'https://s3.amazonaws.com/cfpb-hmda-public/prod/three-year-data/2019/2019_public_lar_three_year_csv.zip'\n",
    "# See information about data fields of the original dataset here:\n",
    "# https://ffiec.cfpb.gov/documentation/publications/loan-level-datasets/lar-data-fields\n",
    "\n",
    "num_rows_to_read = 500000\n",
    "\n",
    "# 'loan_purpose': condition, 'business or commercial_purpose, condition two is home owners.\n",
    "condition = lambda x: x == 1\n",
    "condition2 = lambda x: x == 2\n",
    "\n",
    "# List of column names we want to read:\n",
    "columns_to_read = [\n",
    "'loan_type',\n",
    "'loan_amount',\n",
    "'action_taken',\n",
    "'occupancy_type',\n",
    "'census_tract',\n",
    "'applicant_ethnicity_1',\n",
    "'co_applicant_ethnicity_1',\n",
    "'applicant_race_1',\n",
    "'co_applicant_race_1',\n",
    "'applicant_sex',\n",
    "'co_applicant_sex',\n",
    "'applicant_age',\n",
    "'co_applicant_age',\n",
    "'income',\n",
    "'lien_status',\n",
    "'applicant_credit_score_type',\n",
    "'co_applicant_credit_score_type',\n",
    "'origination_charges',\n",
    "'interest_rate',\n",
    "'debt_to_income_ratio',\n",
    "'combined_loan_to_value_ratio',\n",
    "'loan_term',\n",
    "'property_value',\n",
    "'manufactured_home_secured_property_type',\n",
    "'total_units',\n",
    "'aus_1',\n",
    "'reverse_mortgage',\n",
    "'open_end_line_of_credit',\n",
    "'manufactured_home_land_property_interest',\n",
    "'total_loan_costs',\n",
    "'negative_amortization',\n",
    "'interest_only_payment',\n",
    "'balloon_payment',\n",
    "'other_nonamortizing_features',\n",
    "    \n",
    "'co_applicant_race_2', # Need those for the EDA in '3', remove later.\n",
    "'applicant_race_2'  # Need those for the EDA in '3', remove later.\n",
    "]\n",
    "\n",
    "# Read the CSV file with the specified columns\n",
    "data = pd.read_csv(url, usecols=columns_to_read, nrows=num_rows_to_read, converters={'loan_purpose': condition, 'business_or_commercial_purpose': condition2}, low_memory=False)"
   ]
  },
  {
   "cell_type": "code",
   "execution_count": null,
   "id": "87c2ac84-6845-475f-9a90-4416fdd116b5",
   "metadata": {
    "tags": []
   },
   "outputs": [],
   "source": [
    "data.head()"
   ]
  },
  {
   "cell_type": "code",
   "execution_count": null,
   "id": "6fe63be4-32a1-4c81-8cb9-9848b9f9207a",
   "metadata": {},
   "outputs": [],
   "source": [
    "data.info()"
   ]
  },
  {
   "cell_type": "code",
   "execution_count": null,
   "id": "692cf439-1c1a-4cc0-a61e-d048cc8023bf",
   "metadata": {
    "tags": []
   },
   "outputs": [],
   "source": [
    "# Create a Boolean mask to identify rows with missing values in 'object' columns\n",
    "missing_values_mask = data.select_dtypes(include=['object']).isna().any(axis=1)\n",
    "\n",
    "# Create a Boolean mask to identify rows without missing values in 'object' columns\n",
    "no_missing_values_mask = ~missing_values_mask\n",
    "\n",
    "# Use the mask to filter the DataFrame and get rows without missing values in 'object' columns\n",
    "rows_without_missing_values = data[no_missing_values_mask]\n",
    "\n",
    "# Print the number of rows without missing values in 'object' columns\n",
    "print(len(rows_without_missing_values))"
   ]
  },
  {
   "cell_type": "code",
   "execution_count": null,
   "id": "16bfb864-e30c-4a73-a1b9-8cdd98b14df9",
   "metadata": {
    "tags": []
   },
   "outputs": [],
   "source": [
    "rows_without_missing_values.info()"
   ]
  },
  {
   "cell_type": "code",
   "execution_count": null,
   "id": "ea695f6e-139f-445e-adec-04f0f87a16f6",
   "metadata": {
    "tags": []
   },
   "outputs": [],
   "source": [
    "rows_without_missing_values.head()"
   ]
  },
  {
   "cell_type": "code",
   "execution_count": null,
   "id": "1e878840-5292-46d4-a9ca-b6abb4a4d69f",
   "metadata": {
    "tags": []
   },
   "outputs": [],
   "source": [
    "# data.to_csv('1_downloaded_data.csv', index=False)"
   ]
  }
 ],
 "metadata": {
  "kernelspec": {
   "display_name": "Python 3 (ipykernel)",
   "language": "python",
   "name": "python3"
  },
  "language_info": {
   "codemirror_mode": {
    "name": "ipython",
    "version": 3
   },
   "file_extension": ".py",
   "mimetype": "text/x-python",
   "name": "python",
   "nbconvert_exporter": "python",
   "pygments_lexer": "ipython3",
   "version": "3.9.18"
  }
 },
 "nbformat": 4,
 "nbformat_minor": 5
}
