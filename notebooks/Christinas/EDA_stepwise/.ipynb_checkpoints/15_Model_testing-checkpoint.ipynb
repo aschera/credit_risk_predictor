{
 "cells": [
  {
   "cell_type": "code",
   "execution_count": 1,
   "id": "4b6ec995-2da3-4f18-ba18-1e6bf47007e8",
   "metadata": {
    "tags": []
   },
   "outputs": [],
   "source": [
    "import os\n",
    "import numpy as np\n",
    "import pandas as pd\n",
    "import matplotlib.pyplot as plt\n",
    "import warnings\n",
    "\n",
    "from scipy import stats\n",
    "import seaborn as sns\n",
    "from sklearn.datasets import make_classification\n",
    "from sklearn.ensemble import (\n",
    "    RandomForestClassifier, AdaBoostClassifier, GradientBoostingClassifier,\n",
    "    VotingClassifier, RandomForestRegressor, ExtraTreesClassifier,\n",
    "    StackingClassifier\n",
    ")\n",
    "from sklearn.linear_model import (\n",
    "    LogisticRegression, SGDClassifier\n",
    ")\n",
    "from sklearn.impute import SimpleImputer\n",
    "from sklearn.metrics import (\n",
    "    accuracy_score, classification_report, confusion_matrix,\n",
    "    roc_auc_score, roc_curve, auc,\n",
    "    precision_recall_curve, average_precision_score,\n",
    "    precision_score, recall_score, f1_score,\n",
    "    log_loss\n",
    ")\n",
    "from sklearn.model_selection import (\n",
    "    train_test_split, cross_val_score, GridSearchCV, KFold, RandomizedSearchCV\n",
    ")\n",
    "from sklearn.preprocessing import (\n",
    "    StandardScaler, MinMaxScaler, StandardScaler\n",
    ")\n",
    "from sklearn.svm import SVC\n",
    "from sklearn.tree import DecisionTreeClassifier\n",
    "from sklearn.naive_bayes import BernoulliNB, MultinomialNB, GaussianNB\n",
    "from sklearn.dummy import DummyClassifier\n",
    "from sklearn.neighbors import KNeighborsClassifier\n",
    "from sklearn import metrics, linear_model, neighbors, ensemble, tree\n",
    "import statsmodels.api as sm\n",
    "import statsmodels.formula.api as smf\n",
    "from sklearn.pipeline import make_pipeline\n",
    "\n",
    "from imblearn.combine import SMOTEENN\n",
    "from imblearn.under_sampling import RandomUnderSampler, EditedNearestNeighbours\n",
    "from imblearn.over_sampling import SMOTE\n",
    "\n",
    "import pickle\n",
    "\n",
    "os.environ['LOKY_MAX_CPU_COUNT'] = '4'\n",
    "\n",
    "import xgboost as xgb\n",
    "from xgboost import XGBClassifier\n",
    "from sklearn.metrics import accuracy_score, f1_score\n",
    "from collections import defaultdict\n",
    "\n",
    "# Suppress the specific warning\n",
    "warnings.filterwarnings(\"ignore\", category=FutureWarning, module=\"seaborn\")\n",
    "warnings.filterwarnings(\"ignore\", category=FutureWarning, module=\"sklearn.utils.validation\")\n",
    "import matplotlib.pyplot as plt\n",
    "import seaborn as sns"
   ]
  },
  {
   "cell_type": "code",
   "execution_count": 2,
   "id": "1d013332-e9bc-48ab-b42b-dfb437128a0e",
   "metadata": {
    "tags": []
   },
   "outputs": [],
   "source": [
    "# Read the CSV file with specified data types\n",
    "df = pd.read_csv('final_dataset.csv', low_memory=False)"
   ]
  },
  {
   "cell_type": "code",
   "execution_count": 3,
   "id": "935c878b-8ba6-407d-81ea-52e78ffe4312",
   "metadata": {
    "tags": []
   },
   "outputs": [
    {
     "data": {
      "text/html": [
       "<div>\n",
       "<style scoped>\n",
       "    .dataframe tbody tr th:only-of-type {\n",
       "        vertical-align: middle;\n",
       "    }\n",
       "\n",
       "    .dataframe tbody tr th {\n",
       "        vertical-align: top;\n",
       "    }\n",
       "\n",
       "    .dataframe thead th {\n",
       "        text-align: right;\n",
       "    }\n",
       "</style>\n",
       "<table border=\"1\" class=\"dataframe\">\n",
       "  <thead>\n",
       "    <tr style=\"text-align: right;\">\n",
       "      <th></th>\n",
       "      <th>action_taken</th>\n",
       "      <th>loan_type</th>\n",
       "      <th>lien_status</th>\n",
       "      <th>open_end_line_of_credit</th>\n",
       "      <th>loan_amount</th>\n",
       "      <th>combined_loan_to_value_ratio</th>\n",
       "      <th>interest_rate</th>\n",
       "      <th>total_loan_costs</th>\n",
       "      <th>origination_charges</th>\n",
       "      <th>loan_term</th>\n",
       "      <th>...</th>\n",
       "      <th>applicant_ethnicity_1</th>\n",
       "      <th>co_applicant_ethnicity_1</th>\n",
       "      <th>applicant_race_1</th>\n",
       "      <th>applicant_race_2</th>\n",
       "      <th>co_applicant_race_1</th>\n",
       "      <th>co_applicant_race_2</th>\n",
       "      <th>applicant_sex</th>\n",
       "      <th>co_applicant_sex</th>\n",
       "      <th>applicant_age</th>\n",
       "      <th>co_applicant_age</th>\n",
       "    </tr>\n",
       "  </thead>\n",
       "  <tbody>\n",
       "    <tr>\n",
       "      <th>0</th>\n",
       "      <td>3.0</td>\n",
       "      <td>3.0</td>\n",
       "      <td>1.0</td>\n",
       "      <td>2.0</td>\n",
       "      <td>205000.0</td>\n",
       "      <td>16.0</td>\n",
       "      <td>5.0</td>\n",
       "      <td>7.0</td>\n",
       "      <td>1.0</td>\n",
       "      <td>6.0</td>\n",
       "      <td>...</td>\n",
       "      <td>2.0</td>\n",
       "      <td>2.0</td>\n",
       "      <td>5.0</td>\n",
       "      <td>5.0</td>\n",
       "      <td>5.0</td>\n",
       "      <td>5.0</td>\n",
       "      <td>1.0</td>\n",
       "      <td>2.0</td>\n",
       "      <td>7.0</td>\n",
       "      <td>4.0</td>\n",
       "    </tr>\n",
       "    <tr>\n",
       "      <th>1</th>\n",
       "      <td>3.0</td>\n",
       "      <td>2.0</td>\n",
       "      <td>1.0</td>\n",
       "      <td>2.0</td>\n",
       "      <td>155000.0</td>\n",
       "      <td>7.0</td>\n",
       "      <td>5.0</td>\n",
       "      <td>7.0</td>\n",
       "      <td>1.0</td>\n",
       "      <td>6.0</td>\n",
       "      <td>...</td>\n",
       "      <td>2.0</td>\n",
       "      <td>2.0</td>\n",
       "      <td>5.0</td>\n",
       "      <td>5.0</td>\n",
       "      <td>5.0</td>\n",
       "      <td>5.0</td>\n",
       "      <td>2.0</td>\n",
       "      <td>1.0</td>\n",
       "      <td>3.0</td>\n",
       "      <td>3.0</td>\n",
       "    </tr>\n",
       "    <tr>\n",
       "      <th>2</th>\n",
       "      <td>3.0</td>\n",
       "      <td>2.0</td>\n",
       "      <td>1.0</td>\n",
       "      <td>2.0</td>\n",
       "      <td>125000.0</td>\n",
       "      <td>8.0</td>\n",
       "      <td>5.0</td>\n",
       "      <td>7.0</td>\n",
       "      <td>1.0</td>\n",
       "      <td>6.0</td>\n",
       "      <td>...</td>\n",
       "      <td>2.0</td>\n",
       "      <td>2.0</td>\n",
       "      <td>5.0</td>\n",
       "      <td>5.0</td>\n",
       "      <td>5.0</td>\n",
       "      <td>5.0</td>\n",
       "      <td>1.0</td>\n",
       "      <td>2.0</td>\n",
       "      <td>4.0</td>\n",
       "      <td>3.0</td>\n",
       "    </tr>\n",
       "    <tr>\n",
       "      <th>3</th>\n",
       "      <td>3.0</td>\n",
       "      <td>2.0</td>\n",
       "      <td>1.0</td>\n",
       "      <td>2.0</td>\n",
       "      <td>55000.0</td>\n",
       "      <td>7.0</td>\n",
       "      <td>5.0</td>\n",
       "      <td>7.0</td>\n",
       "      <td>1.0</td>\n",
       "      <td>6.0</td>\n",
       "      <td>...</td>\n",
       "      <td>2.0</td>\n",
       "      <td>2.0</td>\n",
       "      <td>3.0</td>\n",
       "      <td>5.0</td>\n",
       "      <td>3.0</td>\n",
       "      <td>5.0</td>\n",
       "      <td>1.0</td>\n",
       "      <td>2.0</td>\n",
       "      <td>2.0</td>\n",
       "      <td>2.0</td>\n",
       "    </tr>\n",
       "    <tr>\n",
       "      <th>4</th>\n",
       "      <td>3.0</td>\n",
       "      <td>1.0</td>\n",
       "      <td>1.0</td>\n",
       "      <td>2.0</td>\n",
       "      <td>345000.0</td>\n",
       "      <td>1.0</td>\n",
       "      <td>5.0</td>\n",
       "      <td>7.0</td>\n",
       "      <td>1.0</td>\n",
       "      <td>3.0</td>\n",
       "      <td>...</td>\n",
       "      <td>2.0</td>\n",
       "      <td>2.0</td>\n",
       "      <td>5.0</td>\n",
       "      <td>5.0</td>\n",
       "      <td>5.0</td>\n",
       "      <td>5.0</td>\n",
       "      <td>1.0</td>\n",
       "      <td>2.0</td>\n",
       "      <td>2.0</td>\n",
       "      <td>2.0</td>\n",
       "    </tr>\n",
       "  </tbody>\n",
       "</table>\n",
       "<p>5 rows × 33 columns</p>\n",
       "</div>"
      ],
      "text/plain": [
       "   action_taken  loan_type  lien_status  open_end_line_of_credit  loan_amount  \\\n",
       "0           3.0        3.0          1.0                      2.0     205000.0   \n",
       "1           3.0        2.0          1.0                      2.0     155000.0   \n",
       "2           3.0        2.0          1.0                      2.0     125000.0   \n",
       "3           3.0        2.0          1.0                      2.0      55000.0   \n",
       "4           3.0        1.0          1.0                      2.0     345000.0   \n",
       "\n",
       "   combined_loan_to_value_ratio  interest_rate  total_loan_costs  \\\n",
       "0                          16.0            5.0               7.0   \n",
       "1                           7.0            5.0               7.0   \n",
       "2                           8.0            5.0               7.0   \n",
       "3                           7.0            5.0               7.0   \n",
       "4                           1.0            5.0               7.0   \n",
       "\n",
       "   origination_charges  loan_term  ...  applicant_ethnicity_1  \\\n",
       "0                  1.0        6.0  ...                    2.0   \n",
       "1                  1.0        6.0  ...                    2.0   \n",
       "2                  1.0        6.0  ...                    2.0   \n",
       "3                  1.0        6.0  ...                    2.0   \n",
       "4                  1.0        3.0  ...                    2.0   \n",
       "\n",
       "   co_applicant_ethnicity_1  applicant_race_1  applicant_race_2  \\\n",
       "0                       2.0               5.0               5.0   \n",
       "1                       2.0               5.0               5.0   \n",
       "2                       2.0               5.0               5.0   \n",
       "3                       2.0               3.0               5.0   \n",
       "4                       2.0               5.0               5.0   \n",
       "\n",
       "   co_applicant_race_1  co_applicant_race_2  applicant_sex  co_applicant_sex  \\\n",
       "0                  5.0                  5.0            1.0               2.0   \n",
       "1                  5.0                  5.0            2.0               1.0   \n",
       "2                  5.0                  5.0            1.0               2.0   \n",
       "3                  3.0                  5.0            1.0               2.0   \n",
       "4                  5.0                  5.0            1.0               2.0   \n",
       "\n",
       "   applicant_age  co_applicant_age  \n",
       "0            7.0               4.0  \n",
       "1            3.0               3.0  \n",
       "2            4.0               3.0  \n",
       "3            2.0               2.0  \n",
       "4            2.0               2.0  \n",
       "\n",
       "[5 rows x 33 columns]"
      ]
     },
     "execution_count": 3,
     "metadata": {},
     "output_type": "execute_result"
    }
   ],
   "source": [
    "df.head()"
   ]
  },
  {
   "cell_type": "code",
   "execution_count": 4,
   "id": "690cba4e-d754-4a23-84b8-1a52d424df2e",
   "metadata": {
    "tags": []
   },
   "outputs": [
    {
     "name": "stdout",
     "output_type": "stream",
     "text": [
      "<class 'pandas.core.frame.DataFrame'>\n",
      "RangeIndex: 54832 entries, 0 to 54831\n",
      "Data columns (total 33 columns):\n",
      " #   Column                                    Non-Null Count  Dtype  \n",
      "---  ------                                    --------------  -----  \n",
      " 0   action_taken                              54832 non-null  float64\n",
      " 1   loan_type                                 54832 non-null  float64\n",
      " 2   lien_status                               54832 non-null  float64\n",
      " 3   open_end_line_of_credit                   54832 non-null  float64\n",
      " 4   loan_amount                               54832 non-null  float64\n",
      " 5   combined_loan_to_value_ratio              54832 non-null  float64\n",
      " 6   interest_rate                             54832 non-null  float64\n",
      " 7   total_loan_costs                          54832 non-null  float64\n",
      " 8   origination_charges                       54832 non-null  float64\n",
      " 9   loan_term                                 54832 non-null  float64\n",
      " 10  negative_amortization                     54832 non-null  float64\n",
      " 11  interest_only_payment                     54832 non-null  float64\n",
      " 12  balloon_payment                           54832 non-null  float64\n",
      " 13  other_nonamortizing_features              54832 non-null  float64\n",
      " 14  property_value                            54832 non-null  float64\n",
      " 15  occupancy_type                            54832 non-null  float64\n",
      " 16  manufactured_home_secured_property_type   54832 non-null  float64\n",
      " 17  manufactured_home_land_property_interest  54832 non-null  float64\n",
      " 18  total_units                               54832 non-null  float64\n",
      " 19  income                                    54832 non-null  float64\n",
      " 20  debt_to_income_ratio                      54832 non-null  float64\n",
      " 21  applicant_credit_score_type               54832 non-null  float64\n",
      " 22  co_applicant_credit_score_type            54832 non-null  float64\n",
      " 23  applicant_ethnicity_1                     54832 non-null  float64\n",
      " 24  co_applicant_ethnicity_1                  54832 non-null  float64\n",
      " 25  applicant_race_1                          54832 non-null  float64\n",
      " 26  applicant_race_2                          54832 non-null  float64\n",
      " 27  co_applicant_race_1                       54832 non-null  float64\n",
      " 28  co_applicant_race_2                       54832 non-null  float64\n",
      " 29  applicant_sex                             54832 non-null  float64\n",
      " 30  co_applicant_sex                          54832 non-null  float64\n",
      " 31  applicant_age                             54832 non-null  float64\n",
      " 32  co_applicant_age                          54832 non-null  float64\n",
      "dtypes: float64(33)\n",
      "memory usage: 13.8 MB\n"
     ]
    }
   ],
   "source": [
    "df.info()"
   ]
  },
  {
   "cell_type": "code",
   "execution_count": 5,
   "id": "af0eefb8-540f-4e6f-bdfb-9c0d012d9a9b",
   "metadata": {},
   "outputs": [],
   "source": [
    "random_state=42"
   ]
  },
  {
   "cell_type": "code",
   "execution_count": 6,
   "id": "3987f3fb-2cc4-4aa8-ab8a-91e264524dc8",
   "metadata": {},
   "outputs": [],
   "source": [
    "# Define the minority classes for each column\n",
    "minority_classes = {\n",
    "    'applicant_sex': [2.0, 3.0, 6.0],\n",
    "    'co_applicant_sex': [6.0, 1.0],\n",
    "    'applicant_race_1': [3.0],\n",
    "    'co_applicant_race_1': [3.0],\n",
    "    'applicant_ethnicity_1': [1.0],\n",
    "    'co_applicant_ethnicity_1': [1.0],\n",
    "}\n",
    "\n",
    "# Create a dictionary to store resampled datasets for each column\n",
    "resampled_datasets = {}\n",
    "\n",
    "# Create a new DataFrame to store the resampled data\n",
    "resampled_df = df.copy()\n",
    "\n",
    "# Iterate through the columns and apply SMOTE to each\n",
    "for column, minority_class in minority_classes.items():\n",
    "    # Select the specific column\n",
    "    selected_column = df[column].values.reshape(-1, 1)\n",
    "\n",
    "    # Define y_min based on the minority class for this column\n",
    "    y_min = [1 if value in minority_class else 0 for value in df[column]]\n",
    "\n",
    "    # Apply SMOTE to the selected column\n",
    "    smote = SMOTE(sampling_strategy='auto', random_state=42)\n",
    "    X_resampled2, y_resampled2 = smote.fit_resample(selected_column, y_min)\n",
    "\n",
    "    # Ensure that the resampled data has the same number of rows as the original DataFrame\n",
    "    if len(X_resampled2) > len(df):\n",
    "        X_resampled2 = X_resampled2[:len(df)]\n",
    "        y_resampled2 = y_resampled2[:len(df)]\n",
    "\n",
    "    # Update the resampled data in the new DataFrame\n",
    "    resampled_df[column] = X_resampled2.flatten()"
   ]
  },
  {
   "cell_type": "code",
   "execution_count": 7,
   "id": "91934cc3-94b5-4be3-9907-5005edc0cc77",
   "metadata": {
    "tags": []
   },
   "outputs": [
    {
     "name": "stdout",
     "output_type": "stream",
     "text": [
      "<class 'pandas.core.frame.DataFrame'>\n",
      "RangeIndex: 54832 entries, 0 to 54831\n",
      "Data columns (total 33 columns):\n",
      " #   Column                                    Non-Null Count  Dtype  \n",
      "---  ------                                    --------------  -----  \n",
      " 0   action_taken                              54832 non-null  float64\n",
      " 1   loan_type                                 54832 non-null  float64\n",
      " 2   lien_status                               54832 non-null  float64\n",
      " 3   open_end_line_of_credit                   54832 non-null  float64\n",
      " 4   loan_amount                               54832 non-null  float64\n",
      " 5   combined_loan_to_value_ratio              54832 non-null  float64\n",
      " 6   interest_rate                             54832 non-null  float64\n",
      " 7   total_loan_costs                          54832 non-null  float64\n",
      " 8   origination_charges                       54832 non-null  float64\n",
      " 9   loan_term                                 54832 non-null  float64\n",
      " 10  negative_amortization                     54832 non-null  float64\n",
      " 11  interest_only_payment                     54832 non-null  float64\n",
      " 12  balloon_payment                           54832 non-null  float64\n",
      " 13  other_nonamortizing_features              54832 non-null  float64\n",
      " 14  property_value                            54832 non-null  float64\n",
      " 15  occupancy_type                            54832 non-null  float64\n",
      " 16  manufactured_home_secured_property_type   54832 non-null  float64\n",
      " 17  manufactured_home_land_property_interest  54832 non-null  float64\n",
      " 18  total_units                               54832 non-null  float64\n",
      " 19  income                                    54832 non-null  float64\n",
      " 20  debt_to_income_ratio                      54832 non-null  float64\n",
      " 21  applicant_credit_score_type               54832 non-null  float64\n",
      " 22  co_applicant_credit_score_type            54832 non-null  float64\n",
      " 23  applicant_ethnicity_1                     54832 non-null  float64\n",
      " 24  co_applicant_ethnicity_1                  54832 non-null  float64\n",
      " 25  applicant_race_1                          54832 non-null  float64\n",
      " 26  applicant_race_2                          54832 non-null  float64\n",
      " 27  co_applicant_race_1                       54832 non-null  float64\n",
      " 28  co_applicant_race_2                       54832 non-null  float64\n",
      " 29  applicant_sex                             54832 non-null  float64\n",
      " 30  co_applicant_sex                          54832 non-null  float64\n",
      " 31  applicant_age                             54832 non-null  float64\n",
      " 32  co_applicant_age                          54832 non-null  float64\n",
      "dtypes: float64(33)\n",
      "memory usage: 13.8 MB\n"
     ]
    }
   ],
   "source": [
    "resampled_df.info()"
   ]
  },
  {
   "cell_type": "code",
   "execution_count": 8,
   "id": "c83da716-3888-4d28-9b72-d6af36c50294",
   "metadata": {},
   "outputs": [
    {
     "data": {
      "image/png": "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\n",
      "text/plain": [
       "<Figure size 1500x1000 with 6 Axes>"
      ]
     },
     "metadata": {},
     "output_type": "display_data"
    }
   ],
   "source": [
    "# Create a list of columns for which you want to plot the distribution\n",
    "columns_to_plot = list(minority_classes.keys())\n",
    "\n",
    "# Calculate the number of plots and rows\n",
    "num_plots = len(columns_to_plot)\n",
    "num_rows = (num_plots // 3) + (num_plots % 3)\n",
    "\n",
    "# Create subplots\n",
    "fig, axes = plt.subplots(num_rows, 3, figsize=(15, 5 * num_rows))\n",
    "axes = axes.ravel()\n",
    "\n",
    "for i, column in enumerate(columns_to_plot):\n",
    "    # Extract the resampled values for the current column from the resampled_df\n",
    "    values = resampled_df[column]\n",
    "\n",
    "    # Create a histogram plot\n",
    "    g = sns.histplot(values, ax=axes[i], bins=10, kde=True)\n",
    "    g.set_title(f'Distribution of {column}')\n",
    "    g.set_xlabel(\"Value\")\n",
    "    g.set_ylabel(\"Count\")\n",
    "\n",
    "# Hide any empty subplots\n",
    "for i in range(num_plots, num_rows * 3):\n",
    "    fig.delaxes(axes[i])\n",
    "\n",
    "plt.tight_layout()\n",
    "plt.show()\n"
   ]
  },
  {
   "cell_type": "markdown",
   "id": "a05b8ef4-d3d4-4f29-990b-3a3d3699e7f0",
   "metadata": {},
   "source": [
    "# Logistic Regression"
   ]
  },
  {
   "cell_type": "code",
   "execution_count": 9,
   "id": "fc83a68b-edea-485b-8ee9-246e4ff6166e",
   "metadata": {},
   "outputs": [],
   "source": [
    "X = resampled_df.drop('action_taken', axis=1)\n",
    "y = resampled_df['action_taken']"
   ]
  },
  {
   "cell_type": "code",
   "execution_count": 10,
   "id": "9d13118d-310a-4b1d-8114-b1e9bc157af5",
   "metadata": {},
   "outputs": [],
   "source": [
    "# Transform the labels\n",
    "y = (y == 1).astype(int)\n",
    "\n",
    "# Map class label 3 to 0\n",
    "y[y == 3] = 0"
   ]
  },
  {
   "cell_type": "code",
   "execution_count": 11,
   "id": "3134a586-c64f-4b1c-8b58-260e70fd21d5",
   "metadata": {},
   "outputs": [],
   "source": [
    "# Split your data into training and testing sets (80% train, 20% test)\n",
    "X_train, X_test, y_train, y_test = train_test_split(X, y, test_size=0.2, random_state=42)"
   ]
  },
  {
   "cell_type": "code",
   "execution_count": 12,
   "id": "cb55bc4e-4dbf-44ed-8aa4-6bbeb6fa4553",
   "metadata": {
    "tags": []
   },
   "outputs": [],
   "source": [
    "# Now, split the training data into training and validation sets (80% train, 20% validation)\n",
    "X_train, X_val, y_train, y_val = train_test_split(X_train, y_train, test_size=0.2, random_state=42)"
   ]
  },
  {
   "cell_type": "code",
   "execution_count": 13,
   "id": "36f29ef6-11a0-46c4-9ab0-a33056f66d80",
   "metadata": {
    "tags": []
   },
   "outputs": [
    {
     "data": {
      "text/plain": [
       "{0: 'loan_type',\n",
       " 1: 'lien_status',\n",
       " 2: 'open_end_line_of_credit',\n",
       " 3: 'loan_amount',\n",
       " 4: 'combined_loan_to_value_ratio',\n",
       " 5: 'interest_rate',\n",
       " 6: 'total_loan_costs',\n",
       " 7: 'origination_charges',\n",
       " 8: 'loan_term',\n",
       " 9: 'negative_amortization',\n",
       " 10: 'interest_only_payment',\n",
       " 11: 'balloon_payment',\n",
       " 12: 'other_nonamortizing_features',\n",
       " 13: 'property_value',\n",
       " 14: 'occupancy_type',\n",
       " 15: 'manufactured_home_secured_property_type',\n",
       " 16: 'manufactured_home_land_property_interest',\n",
       " 17: 'total_units',\n",
       " 18: 'income',\n",
       " 19: 'debt_to_income_ratio',\n",
       " 20: 'applicant_credit_score_type',\n",
       " 21: 'co_applicant_credit_score_type',\n",
       " 22: 'applicant_ethnicity_1',\n",
       " 23: 'co_applicant_ethnicity_1',\n",
       " 24: 'applicant_race_1',\n",
       " 25: 'applicant_race_2',\n",
       " 26: 'co_applicant_race_1',\n",
       " 27: 'co_applicant_race_2',\n",
       " 28: 'applicant_sex',\n",
       " 29: 'co_applicant_sex',\n",
       " 30: 'applicant_age',\n",
       " 31: 'co_applicant_age'}"
      ]
     },
     "execution_count": 13,
     "metadata": {},
     "output_type": "execute_result"
    }
   ],
   "source": [
    "column_mapping = {i: col for i, col in enumerate(X_train.columns)}\n",
    "column_mapping"
   ]
  },
  {
   "cell_type": "code",
   "execution_count": 14,
   "id": "a4e5e72a-210f-4b8f-b8dc-64c20fc42f41",
   "metadata": {
    "tags": []
   },
   "outputs": [
    {
     "name": "stdout",
     "output_type": "stream",
     "text": [
      "The accuracy for training: 0.5703864128576314\n",
      "The accuracy for validation: 0.568904593639576\n",
      "Confusion Matrix for Test Set:\n",
      "[[ 114 4664]\n",
      " [  65 6124]]\n",
      "F1 Score for Test Set: 0.7214466631324733\n"
     ]
    }
   ],
   "source": [
    "LR = LogisticRegression(penalty='l2', max_iter=1000, C=1.0) \n",
    "LR.fit(X_train, y_train)\n",
    "\n",
    "y_predict = LR.predict(X_train) \n",
    "print(f\"The accuracy for training: {LR.score(X_train, y_train)}\") \n",
    "print(f\"The accuracy for validation: {LR.score(X_val, y_val)}\") \n",
    "\n",
    "from sklearn.metrics import confusion_matrix, f1_score\n",
    "\n",
    "# Make predictions on the test set\n",
    "y_test_predict = LR.predict(X_test)\n",
    "\n",
    "# Calculate the confusion matrix for the test set\n",
    "cm = confusion_matrix(y_test, y_test_predict)\n",
    "print(\"Confusion Matrix for Test Set:\")\n",
    "print(cm)\n",
    "\n",
    "# Calculate F1 score for the test set\n",
    "f1_test = f1_score(y_test, y_test_predict)\n",
    "print(f\"F1 Score for Test Set: {f1_test}\")\n"
   ]
  },
  {
   "cell_type": "markdown",
   "id": "d0973a8a-aea5-4358-afb5-a27aa511751f",
   "metadata": {},
   "source": [
    "# KNeighborsClassifier"
   ]
  },
  {
   "cell_type": "code",
   "execution_count": 15,
   "id": "d33aa72a-4e52-4692-a497-fcaec8bba464",
   "metadata": {
    "tags": []
   },
   "outputs": [
    {
     "name": "stdout",
     "output_type": "stream",
     "text": [
      "The accuracy for training :  0.7998404194688248\n",
      "The accuracy for validation:  0.598540978000684\n",
      "Confusion Matrix for Test Set:\n",
      "[[2504 2274]\n",
      " [2101 4088]]\n",
      "F1 Score for Test Set: 0.6514221974344674\n"
     ]
    }
   ],
   "source": [
    "knn = KNeighborsClassifier(n_neighbors=3)\n",
    "knn.fit(X_train, y_train)\n",
    "\n",
    "# Now, you can calculate the accuracy and F1 score\n",
    "print('The accuracy for training : ', knn.score(X_train, y_train))\n",
    "print('The accuracy for validation: ', knn.score(X_val, y_val))\n",
    "\n",
    "# Make predictions on the test set\n",
    "y_test_predict = knn.predict(X_test)\n",
    "\n",
    "# Calculate the confusion matrix for the test set\n",
    "cm = confusion_matrix(y_test, y_test_predict)\n",
    "print(\"Confusion Matrix for Test Set:\")\n",
    "print(cm)\n",
    "\n",
    "# Calculate F1 score for the test set\n",
    "f1_test = f1_score(y_test, y_test_predict)\n",
    "print(f\"F1 Score for Test Set: {f1_test}\")\n"
   ]
  },
  {
   "cell_type": "markdown",
   "id": "6b69e9c6-8e71-42b6-ba7e-0e3da5a6ac68",
   "metadata": {},
   "source": [
    "# Naive Bayes"
   ]
  },
  {
   "cell_type": "code",
   "execution_count": 16,
   "id": "7efa3fa5-b172-433d-aabe-9391ad0e9240",
   "metadata": {
    "tags": []
   },
   "outputs": [
    {
     "name": "stdout",
     "output_type": "stream",
     "text": [
      "The accuracy for training :  0.559700216573578\n",
      "The accuracy for validation:  0.5519206656787872\n",
      "Confusion Matrix for Test Set:\n",
      "[[ 145 4633]\n",
      " [ 246 5943]]\n",
      "F1 Score for Test Set: 0.7089770354906054\n"
     ]
    }
   ],
   "source": [
    "Gaussian = GaussianNB()\n",
    "Gaussian.fit(X_train, y_train)\n",
    "print('The accuracy for training : ',Gaussian.score(X_train,y_train))\n",
    "print('The accuracy for validation: ',Gaussian.score(X_val,y_val))\n",
    "\n",
    "# Make predictions on the test set\n",
    "y_test_predict = Gaussian.predict(X_test)\n",
    "\n",
    "# Calculate the confusion matrix for the test set\n",
    "cm = confusion_matrix(y_test, y_test_predict)\n",
    "print(\"Confusion Matrix for Test Set:\")\n",
    "print(cm)\n",
    "\n",
    "# Calculate F1 score for the test set\n",
    "f1_test = f1_score(y_test, y_test_predict)\n",
    "print(f\"F1 Score for Test Set: {f1_test}\")\n"
   ]
  },
  {
   "cell_type": "markdown",
   "id": "cda4d28b-7f23-4cdc-b990-4b286adf4356",
   "metadata": {},
   "source": [
    "# Ada Boost Classifier"
   ]
  },
  {
   "cell_type": "code",
   "execution_count": 17,
   "id": "c52c0a53-4d44-481f-91e0-d122d3a9ba19",
   "metadata": {
    "tags": []
   },
   "outputs": [
    {
     "name": "stdout",
     "output_type": "stream",
     "text": [
      "The accuracy for training :  0.985979710475322\n",
      "The accuracy for validation:  0.9826741137581215\n",
      "Confusion Matrix for Test Set:\n",
      "[[4777    1]\n",
      " [ 147 6042]]\n",
      "F1 Score for Test Set: 0.9879005886200132\n"
     ]
    }
   ],
   "source": [
    "AB_CLF = AdaBoostClassifier(n_estimators=50, random_state=random_state)\n",
    "AB_CLF.fit(X_train , y_train)\n",
    "print('The accuracy for training : ',AB_CLF.score(X_train,y_train))\n",
    "print('The accuracy for validation: ',AB_CLF.score(X_val,y_val))\n",
    "\n",
    "# Make predictions on the test set\n",
    "y_test_predict = AB_CLF.predict(X_test)\n",
    "\n",
    "# Calculate the confusion matrix for the test set\n",
    "cm = confusion_matrix(y_test, y_test_predict)\n",
    "print(\"Confusion Matrix for Test Set:\")\n",
    "print(cm)\n",
    "\n",
    "# Calculate F1 score for the test set\n",
    "f1_test = f1_score(y_test, y_test_predict)\n",
    "print(f\"F1 Score for Test Set: {f1_test}\")"
   ]
  },
  {
   "cell_type": "markdown",
   "id": "0afab59d-1ecd-4dc9-aaf7-4d1354c555cd",
   "metadata": {},
   "source": [
    "# Stochastic Gradient Descent Algorithm"
   ]
  },
  {
   "cell_type": "code",
   "execution_count": 18,
   "id": "4857709a-70d5-4f7a-bf53-67597970a961",
   "metadata": {
    "tags": []
   },
   "outputs": [
    {
     "name": "stdout",
     "output_type": "stream",
     "text": [
      "The accuracy for training :  0.8949618146586117\n",
      "The accuracy for validation:  0.8957027242676393\n",
      "Confusion Matrix for Test Set:\n",
      "[[4758   20]\n",
      " [1131 5058]]\n",
      "F1 Score for Test Set: 0.8978432590751753\n"
     ]
    }
   ],
   "source": [
    "SG_PIP_CLF = make_pipeline(StandardScaler(),\n",
    "                     SGDClassifier(max_iter=100, tol=1e-3))\n",
    "SG_PIP_CLF.fit(X_train , y_train)\n",
    "print('The accuracy for training : ',SG_PIP_CLF.score(X_train,y_train))\n",
    "print('The accuracy for validation: ',SG_PIP_CLF.score(X_val,y_val))\n",
    "\n",
    "# Make predictions on the test set\n",
    "y_test_predict = SG_PIP_CLF.predict(X_test)\n",
    "\n",
    "# Calculate the confusion matrix for the test set\n",
    "cm = confusion_matrix(y_test, y_test_predict)\n",
    "print(\"Confusion Matrix for Test Set:\")\n",
    "print(cm)\n",
    "\n",
    "# Calculate F1 score for the test set\n",
    "f1_test = f1_score(y_test, y_test_predict)\n",
    "print(f\"F1 Score for Test Set: {f1_test}\")"
   ]
  },
  {
   "cell_type": "markdown",
   "id": "61ca4efa-d45a-4e38-9b96-07fd9b5cbc66",
   "metadata": {},
   "source": [
    "# XGBoost (eXtreme Gradient Boosting) - this takes a very long time!"
   ]
  },
  {
   "cell_type": "code",
   "execution_count": null,
   "id": "27e572a7-2d56-4b77-a422-0c174c789aad",
   "metadata": {
    "tags": []
   },
   "outputs": [
    {
     "name": "stdout",
     "output_type": "stream",
     "text": [
<<<<<<< HEAD
      "Fitting 3 folds for each of 2187 candidates, totalling 6561 fits\n"
=======
      "Fitting 3 folds for each of 2187 candidates, totalling 6561 fits\n",
      "[0]\tvalidation_0-logloss:0.54428\n",
      "[1]\tvalidation_0-logloss:0.45041\n",
      "[2]\tvalidation_0-logloss:0.35911\n",
      "[3]\tvalidation_0-logloss:0.32330\n",
      "[4]\tvalidation_0-logloss:0.26916\n",
      "[5]\tvalidation_0-logloss:0.23748\n",
      "[6]\tvalidation_0-logloss:0.19875\n",
      "[7]\tvalidation_0-logloss:0.16964\n",
      "[8]\tvalidation_0-logloss:0.14938\n",
      "[9]\tvalidation_0-logloss:0.13370\n",
      "[10]\tvalidation_0-logloss:0.11918\n",
      "[11]\tvalidation_0-logloss:0.10799\n",
      "[12]\tvalidation_0-logloss:0.10289\n",
      "[13]\tvalidation_0-logloss:0.09514\n",
      "[14]\tvalidation_0-logloss:0.09131\n",
      "[15]\tvalidation_0-logloss:0.08778\n",
      "[16]\tvalidation_0-logloss:0.08345\n",
      "[17]\tvalidation_0-logloss:0.07972\n",
      "[18]\tvalidation_0-logloss:0.07685\n",
      "[19]\tvalidation_0-logloss:0.07515\n",
      "[20]\tvalidation_0-logloss:0.07360\n",
      "[21]\tvalidation_0-logloss:0.07173\n",
      "[22]\tvalidation_0-logloss:0.07020\n",
      "[23]\tvalidation_0-logloss:0.06921\n",
      "[24]\tvalidation_0-logloss:0.06801\n",
      "[25]\tvalidation_0-logloss:0.06702\n",
      "[26]\tvalidation_0-logloss:0.06623\n",
      "[27]\tvalidation_0-logloss:0.06548\n",
      "[28]\tvalidation_0-logloss:0.06494\n",
      "[29]\tvalidation_0-logloss:0.06438\n",
      "[30]\tvalidation_0-logloss:0.06403\n",
      "[31]\tvalidation_0-logloss:0.06371\n",
      "[32]\tvalidation_0-logloss:0.06322\n",
      "[33]\tvalidation_0-logloss:0.06290\n",
      "[34]\tvalidation_0-logloss:0.06250\n",
      "[35]\tvalidation_0-logloss:0.06183\n",
      "[36]\tvalidation_0-logloss:0.06150\n",
      "[37]\tvalidation_0-logloss:0.06102\n",
      "[38]\tvalidation_0-logloss:0.06077\n",
      "[39]\tvalidation_0-logloss:0.06045\n",
      "[40]\tvalidation_0-logloss:0.06026\n",
      "[41]\tvalidation_0-logloss:0.06002\n",
      "[42]\tvalidation_0-logloss:0.05983\n",
      "[43]\tvalidation_0-logloss:0.05972\n",
      "[44]\tvalidation_0-logloss:0.05966\n",
      "[45]\tvalidation_0-logloss:0.05947\n",
      "[46]\tvalidation_0-logloss:0.05922\n",
      "[47]\tvalidation_0-logloss:0.05910\n",
      "[48]\tvalidation_0-logloss:0.05902\n",
      "[49]\tvalidation_0-logloss:0.05883\n",
      "[50]\tvalidation_0-logloss:0.05882\n",
      "[51]\tvalidation_0-logloss:0.05869\n",
      "[52]\tvalidation_0-logloss:0.05863\n",
      "[53]\tvalidation_0-logloss:0.05852\n",
      "[54]\tvalidation_0-logloss:0.05834\n",
      "[55]\tvalidation_0-logloss:0.05822\n",
      "[56]\tvalidation_0-logloss:0.05816\n",
      "[57]\tvalidation_0-logloss:0.05818\n",
      "[58]\tvalidation_0-logloss:0.05812\n",
      "[59]\tvalidation_0-logloss:0.05794\n",
      "[60]\tvalidation_0-logloss:0.05788\n",
      "[61]\tvalidation_0-logloss:0.05785\n",
      "[62]\tvalidation_0-logloss:0.05778\n",
      "[63]\tvalidation_0-logloss:0.05782\n",
      "[64]\tvalidation_0-logloss:0.05775\n",
      "[65]\tvalidation_0-logloss:0.05770\n",
      "[66]\tvalidation_0-logloss:0.05764\n",
      "[67]\tvalidation_0-logloss:0.05762\n",
      "[68]\tvalidation_0-logloss:0.05766\n",
      "[69]\tvalidation_0-logloss:0.05761\n",
      "[70]\tvalidation_0-logloss:0.05747\n",
      "[71]\tvalidation_0-logloss:0.05744\n",
      "[72]\tvalidation_0-logloss:0.05746\n",
      "[73]\tvalidation_0-logloss:0.05742\n",
      "[74]\tvalidation_0-logloss:0.05745\n",
      "[75]\tvalidation_0-logloss:0.05738\n",
      "[76]\tvalidation_0-logloss:0.05740\n",
      "[77]\tvalidation_0-logloss:0.05753\n",
      "[78]\tvalidation_0-logloss:0.05743\n"
>>>>>>> christina
     ]
    }
   ],
   "source": [
    "# Add early stopping\n",
    "early_stopping_rounds = 3\n",
    "\n",
    "xgb_model1 = xgb.XGBClassifier(early_stopping_rounds=early_stopping_rounds)\n",
    "\n",
    "parameters = {\n",
    "    'nthread': [4],\n",
    "    'objective': ['binary:logistic'],\n",
    "    'learning_rate': [0.1, 0.2, 0.3],\n",
    "    'max_depth': [3, 4, 5],\n",
    "    'min_child_weight': [1, 5, 10],\n",
    "    'subsample': [0.5, 0.7, 0.9],\n",
    "    'colsample_bytree': [0.7],\n",
    "    'n_estimators': [8000, 9000, 10000],\n",
    "    'missing': [-999],\n",
    "    'seed': [1337],\n",
    "    'eval_metric': ['logloss'],\n",
    "    'reg_alpha': [0.0, 0.1, 0.2],  # Test L1 regularization (0.0 means no L1 regularization)\n",
    "    'reg_lambda': [0.0, 0.1, 0.2]  # Test L2 regularization (0.0 means no L2 regularization)\n",
    "}\n",
    "\n",
    "# Use 3-fold cross-validation\n",
    "clf = GridSearchCV(xgb_model1, parameters, n_jobs=3,\n",
    "                   cv=KFold(n_splits=3, shuffle=True, random_state=random_state),\n",
    "                   scoring='neg_log_loss',  \n",
    "                   verbose=4, refit=True)\n",
    "\n",
    "\n",
    "# Implement early stopping\n",
    "eval_set = [(X_val, y_val)]\n",
    "clf.fit(X_train, y_train, eval_set=eval_set)"
   ]
  },
  {
   "cell_type": "code",
<<<<<<< HEAD
   "execution_count": null,
=======
   "execution_count": 20,
>>>>>>> christina
   "id": "59cd200a-4146-47b8-87d1-df357c2bf9ae",
   "metadata": {
    "tags": []
   },
<<<<<<< HEAD
   "outputs": [],
=======
   "outputs": [
    {
     "data": {
      "text/plain": [
       "['grid_search_xgboost.pkl']"
      ]
     },
     "execution_count": 20,
     "metadata": {},
     "output_type": "execute_result"
    }
   ],
>>>>>>> christina
   "source": [
    "import joblib\n",
    "# Save the grid search object\n",
    "joblib.dump(clf, 'grid_search_xgboost.pkl')"
   ]
  },
  {
   "cell_type": "code",
<<<<<<< HEAD
   "execution_count": null,
   "id": "f3597480-9224-49e9-8d10-0dc7fe1ef3b9",
   "metadata": {},
   "outputs": [],
=======
   "execution_count": 21,
   "id": "f3597480-9224-49e9-8d10-0dc7fe1ef3b9",
   "metadata": {},
   "outputs": [
    {
     "data": {
      "text/plain": [
       "{'colsample_bytree': 0.7,\n",
       " 'eval_metric': 'logloss',\n",
       " 'learning_rate': 0.2,\n",
       " 'max_depth': 4,\n",
       " 'min_child_weight': 1,\n",
       " 'missing': -999,\n",
       " 'n_estimators': 8000,\n",
       " 'nthread': 4,\n",
       " 'objective': 'binary:logistic',\n",
       " 'reg_alpha': 0.1,\n",
       " 'reg_lambda': 0.0,\n",
       " 'seed': 1337,\n",
       " 'subsample': 0.9}"
      ]
     },
     "execution_count": 21,
     "metadata": {},
     "output_type": "execute_result"
    }
   ],
>>>>>>> christina
   "source": [
    "clf.best_params_"
   ]
  },
  {
   "cell_type": "code",
<<<<<<< HEAD
   "execution_count": null,
=======
   "execution_count": 22,
>>>>>>> christina
   "id": "1d86ce0a-f27c-41ab-bf6e-b04b165e47b8",
   "metadata": {
    "tags": []
   },
   "outputs": [],
   "source": [
    "# Define your hyperparameters\n",
    "params = {'colsample_bytree': 0.7,\n",
    " 'eval_metric': 'logloss',\n",
    " 'learning_rate': 0.2,\n",
    " 'max_depth': 4,\n",
    " 'min_child_weight': 1,\n",
    " 'missing': -999,\n",
    " 'n_estimators': 8000,\n",
    " 'nthread': 4,\n",
    " 'objective': 'binary:logistic',\n",
    " 'reg_alpha': 0.1,\n",
    " 'reg_lambda': 0.0,\n",
    " 'seed': 1337,\n",
    " 'subsample': 0.9}"
   ]
  },
  {
   "cell_type": "code",
<<<<<<< HEAD
   "execution_count": null,
=======
   "execution_count": 23,
>>>>>>> christina
   "id": "0c01649f-f223-4d1e-96f3-4d5c387c86d5",
   "metadata": {
    "tags": []
   },
<<<<<<< HEAD
   "outputs": [],
=======
   "outputs": [
    {
     "data": {
      "text/html": [
       "<div>\n",
       "<style scoped>\n",
       "    .dataframe tbody tr th:only-of-type {\n",
       "        vertical-align: middle;\n",
       "    }\n",
       "\n",
       "    .dataframe tbody tr th {\n",
       "        vertical-align: top;\n",
       "    }\n",
       "\n",
       "    .dataframe thead th {\n",
       "        text-align: right;\n",
       "    }\n",
       "</style>\n",
       "<table border=\"1\" class=\"dataframe\">\n",
       "  <thead>\n",
       "    <tr style=\"text-align: right;\">\n",
       "      <th></th>\n",
       "      <th>loan_type</th>\n",
       "      <th>lien_status</th>\n",
       "      <th>open_end_line_of_credit</th>\n",
       "      <th>loan_amount</th>\n",
       "      <th>combined_loan_to_value_ratio</th>\n",
       "      <th>interest_rate</th>\n",
       "      <th>total_loan_costs</th>\n",
       "      <th>origination_charges</th>\n",
       "      <th>loan_term</th>\n",
       "      <th>negative_amortization</th>\n",
       "      <th>...</th>\n",
       "      <th>applicant_ethnicity_1</th>\n",
       "      <th>co_applicant_ethnicity_1</th>\n",
       "      <th>applicant_race_1</th>\n",
       "      <th>applicant_race_2</th>\n",
       "      <th>co_applicant_race_1</th>\n",
       "      <th>co_applicant_race_2</th>\n",
       "      <th>applicant_sex</th>\n",
       "      <th>co_applicant_sex</th>\n",
       "      <th>applicant_age</th>\n",
       "      <th>co_applicant_age</th>\n",
       "    </tr>\n",
       "  </thead>\n",
       "  <tbody>\n",
       "    <tr>\n",
       "      <th>38004</th>\n",
       "      <td>1.0</td>\n",
       "      <td>1.0</td>\n",
       "      <td>2.0</td>\n",
       "      <td>225000.0</td>\n",
       "      <td>8.0</td>\n",
       "      <td>7.0</td>\n",
       "      <td>1.0</td>\n",
       "      <td>2.0</td>\n",
       "      <td>6.0</td>\n",
       "      <td>2.0</td>\n",
       "      <td>...</td>\n",
       "      <td>2.0</td>\n",
       "      <td>2.0</td>\n",
       "      <td>5.0</td>\n",
       "      <td>5.0</td>\n",
       "      <td>5.0</td>\n",
       "      <td>5.0</td>\n",
       "      <td>2.0</td>\n",
       "      <td>1.0</td>\n",
       "      <td>2.0</td>\n",
       "      <td>2.0</td>\n",
       "    </tr>\n",
       "    <tr>\n",
       "      <th>7191</th>\n",
       "      <td>1.0</td>\n",
       "      <td>1.0</td>\n",
       "      <td>2.0</td>\n",
       "      <td>195000.0</td>\n",
       "      <td>9.0</td>\n",
       "      <td>5.0</td>\n",
       "      <td>7.0</td>\n",
       "      <td>1.0</td>\n",
       "      <td>6.0</td>\n",
       "      <td>2.0</td>\n",
       "      <td>...</td>\n",
       "      <td>2.0</td>\n",
       "      <td>1.0</td>\n",
       "      <td>5.0</td>\n",
       "      <td>5.0</td>\n",
       "      <td>5.0</td>\n",
       "      <td>5.0</td>\n",
       "      <td>1.0</td>\n",
       "      <td>2.0</td>\n",
       "      <td>1.0</td>\n",
       "      <td>1.0</td>\n",
       "    </tr>\n",
       "    <tr>\n",
       "      <th>9193</th>\n",
       "      <td>1.0</td>\n",
       "      <td>1.0</td>\n",
       "      <td>2.0</td>\n",
       "      <td>705000.0</td>\n",
       "      <td>14.0</td>\n",
       "      <td>5.0</td>\n",
       "      <td>7.0</td>\n",
       "      <td>1.0</td>\n",
       "      <td>6.0</td>\n",
       "      <td>2.0</td>\n",
       "      <td>...</td>\n",
       "      <td>2.0</td>\n",
       "      <td>1.0</td>\n",
       "      <td>5.0</td>\n",
       "      <td>5.0</td>\n",
       "      <td>5.0</td>\n",
       "      <td>5.0</td>\n",
       "      <td>1.0</td>\n",
       "      <td>2.0</td>\n",
       "      <td>2.0</td>\n",
       "      <td>1.0</td>\n",
       "    </tr>\n",
       "    <tr>\n",
       "      <th>8752</th>\n",
       "      <td>1.0</td>\n",
       "      <td>1.0</td>\n",
       "      <td>2.0</td>\n",
       "      <td>215000.0</td>\n",
       "      <td>4.0</td>\n",
       "      <td>5.0</td>\n",
       "      <td>7.0</td>\n",
       "      <td>1.0</td>\n",
       "      <td>3.0</td>\n",
       "      <td>2.0</td>\n",
       "      <td>...</td>\n",
       "      <td>2.0</td>\n",
       "      <td>2.0</td>\n",
       "      <td>5.0</td>\n",
       "      <td>5.0</td>\n",
       "      <td>5.0</td>\n",
       "      <td>5.0</td>\n",
       "      <td>1.0</td>\n",
       "      <td>2.0</td>\n",
       "      <td>2.0</td>\n",
       "      <td>2.0</td>\n",
       "    </tr>\n",
       "    <tr>\n",
       "      <th>27397</th>\n",
       "      <td>1.0</td>\n",
       "      <td>1.0</td>\n",
       "      <td>2.0</td>\n",
       "      <td>125000.0</td>\n",
       "      <td>3.0</td>\n",
       "      <td>6.0</td>\n",
       "      <td>4.0</td>\n",
       "      <td>1.0</td>\n",
       "      <td>6.0</td>\n",
       "      <td>2.0</td>\n",
       "      <td>...</td>\n",
       "      <td>2.0</td>\n",
       "      <td>2.0</td>\n",
       "      <td>5.0</td>\n",
       "      <td>5.0</td>\n",
       "      <td>5.0</td>\n",
       "      <td>5.0</td>\n",
       "      <td>2.0</td>\n",
       "      <td>1.0</td>\n",
       "      <td>0.0</td>\n",
       "      <td>0.0</td>\n",
       "    </tr>\n",
       "    <tr>\n",
       "      <th>...</th>\n",
       "      <td>...</td>\n",
       "      <td>...</td>\n",
       "      <td>...</td>\n",
       "      <td>...</td>\n",
       "      <td>...</td>\n",
       "      <td>...</td>\n",
       "      <td>...</td>\n",
       "      <td>...</td>\n",
       "      <td>...</td>\n",
       "      <td>...</td>\n",
       "      <td>...</td>\n",
       "      <td>...</td>\n",
       "      <td>...</td>\n",
       "      <td>...</td>\n",
       "      <td>...</td>\n",
       "      <td>...</td>\n",
       "      <td>...</td>\n",
       "      <td>...</td>\n",
       "      <td>...</td>\n",
       "      <td>...</td>\n",
       "      <td>...</td>\n",
       "    </tr>\n",
       "    <tr>\n",
       "      <th>14182</th>\n",
       "      <td>1.0</td>\n",
       "      <td>1.0</td>\n",
       "      <td>2.0</td>\n",
       "      <td>255000.0</td>\n",
       "      <td>2.0</td>\n",
       "      <td>5.0</td>\n",
       "      <td>7.0</td>\n",
       "      <td>1.0</td>\n",
       "      <td>6.0</td>\n",
       "      <td>2.0</td>\n",
       "      <td>...</td>\n",
       "      <td>2.0</td>\n",
       "      <td>2.0</td>\n",
       "      <td>5.0</td>\n",
       "      <td>5.0</td>\n",
       "      <td>5.0</td>\n",
       "      <td>5.0</td>\n",
       "      <td>1.0</td>\n",
       "      <td>2.0</td>\n",
       "      <td>1.0</td>\n",
       "      <td>1.0</td>\n",
       "    </tr>\n",
       "    <tr>\n",
       "      <th>37896</th>\n",
       "      <td>1.0</td>\n",
       "      <td>1.0</td>\n",
       "      <td>2.0</td>\n",
       "      <td>155000.0</td>\n",
       "      <td>9.0</td>\n",
       "      <td>6.0</td>\n",
       "      <td>2.0</td>\n",
       "      <td>2.0</td>\n",
       "      <td>6.0</td>\n",
       "      <td>2.0</td>\n",
       "      <td>...</td>\n",
       "      <td>2.0</td>\n",
       "      <td>2.0</td>\n",
       "      <td>5.0</td>\n",
       "      <td>5.0</td>\n",
       "      <td>5.0</td>\n",
       "      <td>5.0</td>\n",
       "      <td>1.0</td>\n",
       "      <td>2.0</td>\n",
       "      <td>7.0</td>\n",
       "      <td>7.0</td>\n",
       "    </tr>\n",
       "    <tr>\n",
       "      <th>37842</th>\n",
       "      <td>1.0</td>\n",
       "      <td>1.0</td>\n",
       "      <td>2.0</td>\n",
       "      <td>165000.0</td>\n",
       "      <td>8.0</td>\n",
       "      <td>8.0</td>\n",
       "      <td>3.0</td>\n",
       "      <td>2.0</td>\n",
       "      <td>3.0</td>\n",
       "      <td>2.0</td>\n",
       "      <td>...</td>\n",
       "      <td>2.0</td>\n",
       "      <td>2.0</td>\n",
       "      <td>5.0</td>\n",
       "      <td>5.0</td>\n",
       "      <td>5.0</td>\n",
       "      <td>5.0</td>\n",
       "      <td>1.0</td>\n",
       "      <td>2.0</td>\n",
       "      <td>2.0</td>\n",
       "      <td>2.0</td>\n",
       "    </tr>\n",
       "    <tr>\n",
       "      <th>34882</th>\n",
       "      <td>1.0</td>\n",
       "      <td>1.0</td>\n",
       "      <td>2.0</td>\n",
       "      <td>335000.0</td>\n",
       "      <td>1.0</td>\n",
       "      <td>6.0</td>\n",
       "      <td>5.0</td>\n",
       "      <td>1.0</td>\n",
       "      <td>6.0</td>\n",
       "      <td>2.0</td>\n",
       "      <td>...</td>\n",
       "      <td>2.0</td>\n",
       "      <td>2.0</td>\n",
       "      <td>5.0</td>\n",
       "      <td>5.0</td>\n",
       "      <td>5.0</td>\n",
       "      <td>5.0</td>\n",
       "      <td>1.0</td>\n",
       "      <td>2.0</td>\n",
       "      <td>2.0</td>\n",
       "      <td>2.0</td>\n",
       "    </tr>\n",
       "    <tr>\n",
       "      <th>23712</th>\n",
       "      <td>1.0</td>\n",
       "      <td>1.0</td>\n",
       "      <td>2.0</td>\n",
       "      <td>125000.0</td>\n",
       "      <td>11.0</td>\n",
       "      <td>5.0</td>\n",
       "      <td>7.0</td>\n",
       "      <td>1.0</td>\n",
       "      <td>3.0</td>\n",
       "      <td>2.0</td>\n",
       "      <td>...</td>\n",
       "      <td>2.0</td>\n",
       "      <td>2.0</td>\n",
       "      <td>5.0</td>\n",
       "      <td>5.0</td>\n",
       "      <td>5.0</td>\n",
       "      <td>5.0</td>\n",
       "      <td>2.0</td>\n",
       "      <td>1.0</td>\n",
       "      <td>3.0</td>\n",
       "      <td>4.0</td>\n",
       "    </tr>\n",
       "  </tbody>\n",
       "</table>\n",
       "<p>35092 rows × 32 columns</p>\n",
       "</div>"
      ],
      "text/plain": [
       "       loan_type  lien_status  open_end_line_of_credit  loan_amount  \\\n",
       "38004        1.0          1.0                      2.0     225000.0   \n",
       "7191         1.0          1.0                      2.0     195000.0   \n",
       "9193         1.0          1.0                      2.0     705000.0   \n",
       "8752         1.0          1.0                      2.0     215000.0   \n",
       "27397        1.0          1.0                      2.0     125000.0   \n",
       "...          ...          ...                      ...          ...   \n",
       "14182        1.0          1.0                      2.0     255000.0   \n",
       "37896        1.0          1.0                      2.0     155000.0   \n",
       "37842        1.0          1.0                      2.0     165000.0   \n",
       "34882        1.0          1.0                      2.0     335000.0   \n",
       "23712        1.0          1.0                      2.0     125000.0   \n",
       "\n",
       "       combined_loan_to_value_ratio  interest_rate  total_loan_costs  \\\n",
       "38004                           8.0            7.0               1.0   \n",
       "7191                            9.0            5.0               7.0   \n",
       "9193                           14.0            5.0               7.0   \n",
       "8752                            4.0            5.0               7.0   \n",
       "27397                           3.0            6.0               4.0   \n",
       "...                             ...            ...               ...   \n",
       "14182                           2.0            5.0               7.0   \n",
       "37896                           9.0            6.0               2.0   \n",
       "37842                           8.0            8.0               3.0   \n",
       "34882                           1.0            6.0               5.0   \n",
       "23712                          11.0            5.0               7.0   \n",
       "\n",
       "       origination_charges  loan_term  negative_amortization  ...  \\\n",
       "38004                  2.0        6.0                    2.0  ...   \n",
       "7191                   1.0        6.0                    2.0  ...   \n",
       "9193                   1.0        6.0                    2.0  ...   \n",
       "8752                   1.0        3.0                    2.0  ...   \n",
       "27397                  1.0        6.0                    2.0  ...   \n",
       "...                    ...        ...                    ...  ...   \n",
       "14182                  1.0        6.0                    2.0  ...   \n",
       "37896                  2.0        6.0                    2.0  ...   \n",
       "37842                  2.0        3.0                    2.0  ...   \n",
       "34882                  1.0        6.0                    2.0  ...   \n",
       "23712                  1.0        3.0                    2.0  ...   \n",
       "\n",
       "       applicant_ethnicity_1  co_applicant_ethnicity_1  applicant_race_1  \\\n",
       "38004                    2.0                       2.0               5.0   \n",
       "7191                     2.0                       1.0               5.0   \n",
       "9193                     2.0                       1.0               5.0   \n",
       "8752                     2.0                       2.0               5.0   \n",
       "27397                    2.0                       2.0               5.0   \n",
       "...                      ...                       ...               ...   \n",
       "14182                    2.0                       2.0               5.0   \n",
       "37896                    2.0                       2.0               5.0   \n",
       "37842                    2.0                       2.0               5.0   \n",
       "34882                    2.0                       2.0               5.0   \n",
       "23712                    2.0                       2.0               5.0   \n",
       "\n",
       "       applicant_race_2  co_applicant_race_1  co_applicant_race_2  \\\n",
       "38004               5.0                  5.0                  5.0   \n",
       "7191                5.0                  5.0                  5.0   \n",
       "9193                5.0                  5.0                  5.0   \n",
       "8752                5.0                  5.0                  5.0   \n",
       "27397               5.0                  5.0                  5.0   \n",
       "...                 ...                  ...                  ...   \n",
       "14182               5.0                  5.0                  5.0   \n",
       "37896               5.0                  5.0                  5.0   \n",
       "37842               5.0                  5.0                  5.0   \n",
       "34882               5.0                  5.0                  5.0   \n",
       "23712               5.0                  5.0                  5.0   \n",
       "\n",
       "       applicant_sex  co_applicant_sex  applicant_age  co_applicant_age  \n",
       "38004            2.0               1.0            2.0               2.0  \n",
       "7191             1.0               2.0            1.0               1.0  \n",
       "9193             1.0               2.0            2.0               1.0  \n",
       "8752             1.0               2.0            2.0               2.0  \n",
       "27397            2.0               1.0            0.0               0.0  \n",
       "...              ...               ...            ...               ...  \n",
       "14182            1.0               2.0            1.0               1.0  \n",
       "37896            1.0               2.0            7.0               7.0  \n",
       "37842            1.0               2.0            2.0               2.0  \n",
       "34882            1.0               2.0            2.0               2.0  \n",
       "23712            2.0               1.0            3.0               4.0  \n",
       "\n",
       "[35092 rows x 32 columns]"
      ]
     },
     "execution_count": 23,
     "metadata": {},
     "output_type": "execute_result"
    }
   ],
>>>>>>> christina
   "source": [
    "X_train"
   ]
  },
  {
   "cell_type": "code",
<<<<<<< HEAD
   "execution_count": null,
   "id": "2eb6ec67-8ab8-4973-bc45-8eb8547f31af",
   "metadata": {},
   "outputs": [],
=======
   "execution_count": 24,
   "id": "2eb6ec67-8ab8-4973-bc45-8eb8547f31af",
   "metadata": {},
   "outputs": [
    {
     "name": "stdout",
     "output_type": "stream",
     "text": [
      "[0]\tvalidation_0-logloss:0.44517\n",
      "[1]\tvalidation_0-logloss:0.31554\n",
      "[2]\tvalidation_0-logloss:0.23535\n",
      "[3]\tvalidation_0-logloss:0.18287\n",
      "[4]\tvalidation_0-logloss:0.14750\n",
      "[5]\tvalidation_0-logloss:0.12331\n",
      "[6]\tvalidation_0-logloss:0.10660\n",
      "[7]\tvalidation_0-logloss:0.09428\n",
      "[8]\tvalidation_0-logloss:0.08553\n",
      "[9]\tvalidation_0-logloss:0.07915\n",
      "[10]\tvalidation_0-logloss:0.07453\n",
      "[11]\tvalidation_0-logloss:0.07104\n",
      "[12]\tvalidation_0-logloss:0.06855\n",
      "[13]\tvalidation_0-logloss:0.06661\n",
      "[14]\tvalidation_0-logloss:0.06510\n",
      "[15]\tvalidation_0-logloss:0.06405\n",
      "[16]\tvalidation_0-logloss:0.06300\n",
      "[17]\tvalidation_0-logloss:0.06187\n",
      "[18]\tvalidation_0-logloss:0.06110\n",
      "[19]\tvalidation_0-logloss:0.06066\n",
      "[20]\tvalidation_0-logloss:0.06008\n",
      "[21]\tvalidation_0-logloss:0.05970\n",
      "[22]\tvalidation_0-logloss:0.05929\n",
      "[23]\tvalidation_0-logloss:0.05913\n",
      "[24]\tvalidation_0-logloss:0.05868\n",
      "[25]\tvalidation_0-logloss:0.05860\n",
      "[26]\tvalidation_0-logloss:0.05852\n",
      "[27]\tvalidation_0-logloss:0.05841\n",
      "[28]\tvalidation_0-logloss:0.05837\n",
      "[29]\tvalidation_0-logloss:0.05819\n",
      "[30]\tvalidation_0-logloss:0.05807\n",
      "[31]\tvalidation_0-logloss:0.05794\n",
      "[32]\tvalidation_0-logloss:0.05781\n",
      "[33]\tvalidation_0-logloss:0.05774\n",
      "[34]\tvalidation_0-logloss:0.05769\n",
      "[35]\tvalidation_0-logloss:0.05768\n",
      "[36]\tvalidation_0-logloss:0.05771\n",
      "[37]\tvalidation_0-logloss:0.05767\n",
      "[38]\tvalidation_0-logloss:0.05764\n",
      "[39]\tvalidation_0-logloss:0.05758\n",
      "[40]\tvalidation_0-logloss:0.05764\n",
      "[41]\tvalidation_0-logloss:0.05766\n",
      "Test set results:\n",
      "Precision: 1.0000, Recall: 0.9762\n",
      "Test set results:\n",
      "Precision: 1.0000\n",
      "Recall: 0.9762\n",
      "Accuracy: 0.9866\n",
      "F1 Score: 0.9880\n",
      "Confusion Matrix:\n",
      "[[4778    0]\n",
      " [ 147 6042]]\n"
     ]
    }
   ],
>>>>>>> christina
   "source": [
    "# Train the model and monitor early stopping\n",
    "xgb_model1.fit(X_train, y_train, eval_set=eval_set, verbose=True)\n",
    "\n",
    "# Make predictions on the test set\n",
    "y_predict = (xgb_model1.predict_proba(X_test)[:, 1] >= 0.59)\n",
    "\n",
    "# Calculate precision and recall on the test set\n",
    "precision = precision_score(y_test, y_predict)\n",
    "recall = recall_score(y_test, y_predict)\n",
    "\n",
    "# Print test set results\n",
    "print(\"Test set results:\")\n",
    "print(f\"Precision: {precision:.4f}, Recall: {recall:.4f}\")\n",
    "\n",
    "# Calculate other evaluation metrics\n",
    "accuracy = accuracy_score(y_test, y_predict)\n",
    "f1 = f1_score(y_test, y_predict)\n",
    "\n",
    "# Calculate the confusion matrix\n",
    "cm = confusion_matrix(y_test, y_predict)\n",
    "\n",
    "# Print other evaluation metrics\n",
    "print(\"Test set results:\")\n",
    "print(f\"Precision: {precision:.4f}\")\n",
    "print(f\"Recall: {recall:.4f}\")\n",
    "print(f\"Accuracy: {accuracy:.4f}\")\n",
    "print(f\"F1 Score: {f1:.4f}\")\n",
    "print(\"Confusion Matrix:\")\n",
    "print(cm)"
   ]
  },
  {
   "cell_type": "code",
<<<<<<< HEAD
   "execution_count": null,
=======
   "execution_count": 25,
>>>>>>> christina
   "id": "2c60f64a-0896-470c-8db3-b9b76d779e81",
   "metadata": {
    "tags": []
   },
   "outputs": [],
   "source": [
    "X_train.info()"
   ]
  },
  {
   "cell_type": "code",
<<<<<<< HEAD
   "execution_count": null,
=======
   "execution_count": 26,
>>>>>>> christina
   "id": "a7b05759-906a-47fa-b5f9-edabfacac82e",
   "metadata": {
    "tags": []
   },
   "outputs": [],
   "source": [
    "import pickle\n",
    "\n",
    "with open('xgboost_model.pkl', 'wb') as file:\n",
    "    pickle.dump(xgb_model1, file)"
   ]
  },
  {
   "cell_type": "code",
<<<<<<< HEAD
   "execution_count": null,
=======
   "execution_count": 27,
>>>>>>> christina
   "id": "af852191-4794-491f-8a3b-f92ca9345c6b",
   "metadata": {
    "tags": []
   },
   "outputs": [],
   "source": [
    "import xgboost as xgb\n",
    "\n",
    "# Assuming xgb_model1 is your trained XGBoost model\n",
    "booster = xgb_model1.get_booster()\n",
    "\n",
    "# Get feature names\n",
    "feature_names = booster.feature_names\n",
    "print(feature_names)"
   ]
  },
  {
   "cell_type": "code",
<<<<<<< HEAD
   "execution_count": null,
=======
   "execution_count": 28,
>>>>>>> christina
   "id": "44aa745a-8af1-4ee2-9aff-ea6195a4480c",
   "metadata": {
    "tags": []
   },
   "outputs": [],
   "source": [
    "import xgboost as xgb\n",
    "import matplotlib.pyplot as plt\n",
    "\n",
    "# Assuming xgb_model1 is your trained XGBoost model\n",
    "xgb.plot_importance(xgb_model1)\n",
    "plt.show()"
   ]
  },
  {
   "cell_type": "markdown",
   "id": "90f4548c-fdca-4143-b641-81995dd9b98f",
   "metadata": {},
   "source": [
    "# Make test data for the webapp\n",
    "\n",
    "We create a json file.\n",
    "it contains 5 accepted rows and 5 declined rows.\n",
    "We feed this to the form in our webapp to test predictions. "
   ]
  },
  {
   "cell_type": "code",
<<<<<<< HEAD
   "execution_count": null,
=======
   "execution_count": 29,
>>>>>>> christina
   "id": "3074be94-bb34-421d-b4d3-90e1b850c9db",
   "metadata": {
    "tags": []
   },
<<<<<<< HEAD
   "outputs": [],
=======
   "outputs": [
    {
     "name": "stdout",
     "output_type": "stream",
     "text": [
      "0\n",
      "1\n",
      "2\n"
     ]
    },
    {
     "data": {
      "text/plain": [
       "[('acceptedDummy1',\n",
       "  loan_type                                         1.0\n",
       "  lien_status                                       1.0\n",
       "  open_end_line_of_credit                           2.0\n",
       "  loan_amount                                  545000.0\n",
       "  combined_loan_to_value_ratio                     14.0\n",
       "  interest_rate                                     6.0\n",
       "  total_loan_costs                                  1.0\n",
       "  origination_charges                               3.0\n",
       "  loan_term                                         6.0\n",
       "  negative_amortization                             2.0\n",
       "  interest_only_payment                             2.0\n",
       "  balloon_payment                                   2.0\n",
       "  other_nonamortizing_features                      2.0\n",
       "  property_value                              2405000.0\n",
       "  occupancy_type                                    3.0\n",
       "  manufactured_home_secured_property_type           3.0\n",
       "  manufactured_home_land_property_interest          5.0\n",
       "  total_units                                       1.0\n",
       "  income                                          247.0\n",
       "  debt_to_income_ratio                              1.0\n",
       "  applicant_credit_score_type                       1.0\n",
       "  co_applicant_credit_score_type                    9.0\n",
       "  applicant_ethnicity_1                             2.0\n",
       "  co_applicant_ethnicity_1                          2.0\n",
       "  applicant_race_1                                  5.0\n",
       "  applicant_race_2                                  5.0\n",
       "  co_applicant_race_1                               5.0\n",
       "  co_applicant_race_2                               5.0\n",
       "  applicant_sex                                     1.0\n",
       "  co_applicant_sex                                  2.0\n",
       "  applicant_age                                     3.0\n",
       "  co_applicant_age                                  4.0\n",
       "  action_taken                                      1.0\n",
       "  Name: 29212, dtype: float64),\n",
       " ('acceptedDummy2',\n",
       "  loan_type                                         1.0\n",
       "  lien_status                                       1.0\n",
       "  open_end_line_of_credit                           2.0\n",
       "  loan_amount                                  785000.0\n",
       "  combined_loan_to_value_ratio                      4.0\n",
       "  interest_rate                                     5.0\n",
       "  total_loan_costs                                  3.0\n",
       "  origination_charges                               2.0\n",
       "  loan_term                                         6.0\n",
       "  negative_amortization                             2.0\n",
       "  interest_only_payment                             2.0\n",
       "  balloon_payment                                   2.0\n",
       "  other_nonamortizing_features                      2.0\n",
       "  property_value                              1205000.0\n",
       "  occupancy_type                                    1.0\n",
       "  manufactured_home_secured_property_type           3.0\n",
       "  manufactured_home_land_property_interest          5.0\n",
       "  total_units                                       1.0\n",
       "  income                                          178.0\n",
       "  debt_to_income_ratio                              4.0\n",
       "  applicant_credit_score_type                       1.0\n",
       "  co_applicant_credit_score_type                    9.0\n",
       "  applicant_ethnicity_1                             2.0\n",
       "  co_applicant_ethnicity_1                          2.0\n",
       "  applicant_race_1                                  5.0\n",
       "  applicant_race_2                                  5.0\n",
       "  co_applicant_race_1                               5.0\n",
       "  co_applicant_race_2                               5.0\n",
       "  applicant_sex                                     1.0\n",
       "  co_applicant_sex                                  2.0\n",
       "  applicant_age                                     2.0\n",
       "  co_applicant_age                                  1.0\n",
       "  action_taken                                      1.0\n",
       "  Name: 37769, dtype: float64),\n",
       " ('acceptedDummy3',\n",
       "  loan_type                                        1.0\n",
       "  lien_status                                      1.0\n",
       "  open_end_line_of_credit                          2.0\n",
       "  loan_amount                                 425000.0\n",
       "  combined_loan_to_value_ratio                     1.0\n",
       "  interest_rate                                    4.0\n",
       "  total_loan_costs                                 9.0\n",
       "  origination_charges                              1.0\n",
       "  loan_term                                        6.0\n",
       "  negative_amortization                            2.0\n",
       "  interest_only_payment                            2.0\n",
       "  balloon_payment                                  2.0\n",
       "  other_nonamortizing_features                     2.0\n",
       "  property_value                              525000.0\n",
       "  occupancy_type                                   2.0\n",
       "  manufactured_home_secured_property_type          3.0\n",
       "  manufactured_home_land_property_interest         5.0\n",
       "  total_units                                      1.0\n",
       "  income                                         471.0\n",
       "  debt_to_income_ratio                             1.0\n",
       "  applicant_credit_score_type                      9.0\n",
       "  co_applicant_credit_score_type                   1.0\n",
       "  applicant_ethnicity_1                            2.0\n",
       "  co_applicant_ethnicity_1                         2.0\n",
       "  applicant_race_1                                 5.0\n",
       "  applicant_race_2                                 5.0\n",
       "  co_applicant_race_1                              5.0\n",
       "  co_applicant_race_2                              5.0\n",
       "  applicant_sex                                    1.0\n",
       "  co_applicant_sex                                 2.0\n",
       "  applicant_age                                    2.0\n",
       "  co_applicant_age                                 2.0\n",
       "  action_taken                                     1.0\n",
       "  Name: 23992, dtype: float64)]"
      ]
     },
     "execution_count": 29,
     "metadata": {},
     "output_type": "execute_result"
    }
   ],
>>>>>>> christina
   "source": [
    "accepted_counter = 0  # Initialize the accepted counter\n",
    "dummy_data = []  # List to store the dummy data\n",
    "\n",
    "for index, target_value in enumerate(y_test):\n",
    "    if target_value == 1.0 and accepted_counter < 3:\n",
    "        dummy_name = f\"acceptedDummy{accepted_counter + 1}\"\n",
    "        print(index)\n",
    "        dummy_row = X_test.iloc[index].copy()  # Create a copy of the row\n",
    "        dummy_row['action_taken'] = 1.0  # Set the action_taken value to 1.0 for accepted\n",
    "        dummy_data.append((dummy_name, dummy_row))\n",
    "        accepted_counter += 1\n",
    "\n",
    "dummy_data\n"
   ]
  },
  {
   "cell_type": "markdown",
   "id": "86f70158-4255-43c3-93dd-6d71a5898106",
   "metadata": {},
   "source": [
    "## Make a list of a few predictions and mirror them vs true labels."
   ]
  },
  {
   "cell_type": "code",
<<<<<<< HEAD
   "execution_count": null,
=======
   "execution_count": 30,
>>>>>>> christina
   "id": "d0ed8327-8c48-437b-90a8-e28925927e9e",
   "metadata": {
    "tags": []
   },
<<<<<<< HEAD
   "outputs": [],
=======
   "outputs": [
    {
     "data": {
      "text/html": [
       "<div>\n",
       "<style scoped>\n",
       "    .dataframe tbody tr th:only-of-type {\n",
       "        vertical-align: middle;\n",
       "    }\n",
       "\n",
       "    .dataframe tbody tr th {\n",
       "        vertical-align: top;\n",
       "    }\n",
       "\n",
       "    .dataframe thead th {\n",
       "        text-align: right;\n",
       "    }\n",
       "</style>\n",
       "<table border=\"1\" class=\"dataframe\">\n",
       "  <thead>\n",
       "    <tr style=\"text-align: right;\">\n",
       "      <th></th>\n",
       "      <th>loan_type</th>\n",
       "      <th>lien_status</th>\n",
       "      <th>open_end_line_of_credit</th>\n",
       "      <th>loan_amount</th>\n",
       "      <th>combined_loan_to_value_ratio</th>\n",
       "      <th>interest_rate</th>\n",
       "      <th>total_loan_costs</th>\n",
       "      <th>origination_charges</th>\n",
       "      <th>loan_term</th>\n",
       "      <th>negative_amortization</th>\n",
       "      <th>...</th>\n",
       "      <th>applicant_ethnicity_1</th>\n",
       "      <th>co_applicant_ethnicity_1</th>\n",
       "      <th>applicant_race_1</th>\n",
       "      <th>applicant_race_2</th>\n",
       "      <th>co_applicant_race_1</th>\n",
       "      <th>co_applicant_race_2</th>\n",
       "      <th>applicant_sex</th>\n",
       "      <th>co_applicant_sex</th>\n",
       "      <th>applicant_age</th>\n",
       "      <th>co_applicant_age</th>\n",
       "    </tr>\n",
       "  </thead>\n",
       "  <tbody>\n",
       "    <tr>\n",
       "      <th>29212</th>\n",
       "      <td>1.0</td>\n",
       "      <td>1.0</td>\n",
       "      <td>2.0</td>\n",
       "      <td>545000.0</td>\n",
       "      <td>14.0</td>\n",
       "      <td>6.0</td>\n",
       "      <td>1.0</td>\n",
       "      <td>3.0</td>\n",
       "      <td>6.0</td>\n",
       "      <td>2.0</td>\n",
       "      <td>...</td>\n",
       "      <td>2.0</td>\n",
       "      <td>2.0</td>\n",
       "      <td>5.0</td>\n",
       "      <td>5.0</td>\n",
       "      <td>5.0</td>\n",
       "      <td>5.0</td>\n",
       "      <td>1.0</td>\n",
       "      <td>2.0</td>\n",
       "      <td>3.0</td>\n",
       "      <td>4.0</td>\n",
       "    </tr>\n",
       "    <tr>\n",
       "      <th>37769</th>\n",
       "      <td>1.0</td>\n",
       "      <td>1.0</td>\n",
       "      <td>2.0</td>\n",
       "      <td>785000.0</td>\n",
       "      <td>4.0</td>\n",
       "      <td>5.0</td>\n",
       "      <td>3.0</td>\n",
       "      <td>2.0</td>\n",
       "      <td>6.0</td>\n",
       "      <td>2.0</td>\n",
       "      <td>...</td>\n",
       "      <td>2.0</td>\n",
       "      <td>2.0</td>\n",
       "      <td>5.0</td>\n",
       "      <td>5.0</td>\n",
       "      <td>5.0</td>\n",
       "      <td>5.0</td>\n",
       "      <td>1.0</td>\n",
       "      <td>2.0</td>\n",
       "      <td>2.0</td>\n",
       "      <td>1.0</td>\n",
       "    </tr>\n",
       "    <tr>\n",
       "      <th>23992</th>\n",
       "      <td>1.0</td>\n",
       "      <td>1.0</td>\n",
       "      <td>2.0</td>\n",
       "      <td>425000.0</td>\n",
       "      <td>1.0</td>\n",
       "      <td>4.0</td>\n",
       "      <td>9.0</td>\n",
       "      <td>1.0</td>\n",
       "      <td>6.0</td>\n",
       "      <td>2.0</td>\n",
       "      <td>...</td>\n",
       "      <td>2.0</td>\n",
       "      <td>2.0</td>\n",
       "      <td>5.0</td>\n",
       "      <td>5.0</td>\n",
       "      <td>5.0</td>\n",
       "      <td>5.0</td>\n",
       "      <td>1.0</td>\n",
       "      <td>2.0</td>\n",
       "      <td>2.0</td>\n",
       "      <td>2.0</td>\n",
       "    </tr>\n",
       "    <tr>\n",
       "      <th>18417</th>\n",
       "      <td>1.0</td>\n",
       "      <td>1.0</td>\n",
       "      <td>2.0</td>\n",
       "      <td>265000.0</td>\n",
       "      <td>4.0</td>\n",
       "      <td>5.0</td>\n",
       "      <td>7.0</td>\n",
       "      <td>1.0</td>\n",
       "      <td>6.0</td>\n",
       "      <td>2.0</td>\n",
       "      <td>...</td>\n",
       "      <td>2.0</td>\n",
       "      <td>2.0</td>\n",
       "      <td>5.0</td>\n",
       "      <td>5.0</td>\n",
       "      <td>5.0</td>\n",
       "      <td>5.0</td>\n",
       "      <td>1.0</td>\n",
       "      <td>2.0</td>\n",
       "      <td>4.0</td>\n",
       "      <td>3.0</td>\n",
       "    </tr>\n",
       "    <tr>\n",
       "      <th>54425</th>\n",
       "      <td>1.0</td>\n",
       "      <td>1.0</td>\n",
       "      <td>2.0</td>\n",
       "      <td>215000.0</td>\n",
       "      <td>2.0</td>\n",
       "      <td>4.0</td>\n",
       "      <td>10.0</td>\n",
       "      <td>7.0</td>\n",
       "      <td>3.0</td>\n",
       "      <td>2.0</td>\n",
       "      <td>...</td>\n",
       "      <td>2.0</td>\n",
       "      <td>2.0</td>\n",
       "      <td>5.0</td>\n",
       "      <td>5.0</td>\n",
       "      <td>5.0</td>\n",
       "      <td>5.0</td>\n",
       "      <td>1.0</td>\n",
       "      <td>2.0</td>\n",
       "      <td>1.0</td>\n",
       "      <td>1.0</td>\n",
       "    </tr>\n",
       "    <tr>\n",
       "      <th>...</th>\n",
       "      <td>...</td>\n",
       "      <td>...</td>\n",
       "      <td>...</td>\n",
       "      <td>...</td>\n",
       "      <td>...</td>\n",
       "      <td>...</td>\n",
       "      <td>...</td>\n",
       "      <td>...</td>\n",
       "      <td>...</td>\n",
       "      <td>...</td>\n",
       "      <td>...</td>\n",
       "      <td>...</td>\n",
       "      <td>...</td>\n",
       "      <td>...</td>\n",
       "      <td>...</td>\n",
       "      <td>...</td>\n",
       "      <td>...</td>\n",
       "      <td>...</td>\n",
       "      <td>...</td>\n",
       "      <td>...</td>\n",
       "      <td>...</td>\n",
       "    </tr>\n",
       "    <tr>\n",
       "      <th>19244</th>\n",
       "      <td>1.0</td>\n",
       "      <td>1.0</td>\n",
       "      <td>2.0</td>\n",
       "      <td>235000.0</td>\n",
       "      <td>6.0</td>\n",
       "      <td>5.0</td>\n",
       "      <td>7.0</td>\n",
       "      <td>1.0</td>\n",
       "      <td>4.0</td>\n",
       "      <td>2.0</td>\n",
       "      <td>...</td>\n",
       "      <td>2.0</td>\n",
       "      <td>2.0</td>\n",
       "      <td>5.0</td>\n",
       "      <td>5.0</td>\n",
       "      <td>5.0</td>\n",
       "      <td>5.0</td>\n",
       "      <td>1.0</td>\n",
       "      <td>2.0</td>\n",
       "      <td>3.0</td>\n",
       "      <td>3.0</td>\n",
       "    </tr>\n",
       "    <tr>\n",
       "      <th>18378</th>\n",
       "      <td>1.0</td>\n",
       "      <td>1.0</td>\n",
       "      <td>2.0</td>\n",
       "      <td>505000.0</td>\n",
       "      <td>8.0</td>\n",
       "      <td>5.0</td>\n",
       "      <td>7.0</td>\n",
       "      <td>1.0</td>\n",
       "      <td>6.0</td>\n",
       "      <td>2.0</td>\n",
       "      <td>...</td>\n",
       "      <td>2.0</td>\n",
       "      <td>2.0</td>\n",
       "      <td>5.0</td>\n",
       "      <td>5.0</td>\n",
       "      <td>5.0</td>\n",
       "      <td>5.0</td>\n",
       "      <td>1.0</td>\n",
       "      <td>2.0</td>\n",
       "      <td>1.0</td>\n",
       "      <td>0.0</td>\n",
       "    </tr>\n",
       "    <tr>\n",
       "      <th>9725</th>\n",
       "      <td>1.0</td>\n",
       "      <td>1.0</td>\n",
       "      <td>2.0</td>\n",
       "      <td>165000.0</td>\n",
       "      <td>1.0</td>\n",
       "      <td>5.0</td>\n",
       "      <td>7.0</td>\n",
       "      <td>1.0</td>\n",
       "      <td>6.0</td>\n",
       "      <td>2.0</td>\n",
       "      <td>...</td>\n",
       "      <td>2.0</td>\n",
       "      <td>2.0</td>\n",
       "      <td>5.0</td>\n",
       "      <td>5.0</td>\n",
       "      <td>5.0</td>\n",
       "      <td>5.0</td>\n",
       "      <td>1.0</td>\n",
       "      <td>2.0</td>\n",
       "      <td>4.0</td>\n",
       "      <td>3.0</td>\n",
       "    </tr>\n",
       "    <tr>\n",
       "      <th>47680</th>\n",
       "      <td>2.0</td>\n",
       "      <td>1.0</td>\n",
       "      <td>2.0</td>\n",
       "      <td>145000.0</td>\n",
       "      <td>3.0</td>\n",
       "      <td>7.0</td>\n",
       "      <td>16.0</td>\n",
       "      <td>5.0</td>\n",
       "      <td>6.0</td>\n",
       "      <td>2.0</td>\n",
       "      <td>...</td>\n",
       "      <td>1.0</td>\n",
       "      <td>1.0</td>\n",
       "      <td>5.0</td>\n",
       "      <td>5.0</td>\n",
       "      <td>5.0</td>\n",
       "      <td>5.0</td>\n",
       "      <td>1.0</td>\n",
       "      <td>2.0</td>\n",
       "      <td>3.0</td>\n",
       "      <td>2.0</td>\n",
       "    </tr>\n",
       "    <tr>\n",
       "      <th>33713</th>\n",
       "      <td>1.0</td>\n",
       "      <td>1.0</td>\n",
       "      <td>2.0</td>\n",
       "      <td>185000.0</td>\n",
       "      <td>6.0</td>\n",
       "      <td>6.0</td>\n",
       "      <td>1.0</td>\n",
       "      <td>3.0</td>\n",
       "      <td>6.0</td>\n",
       "      <td>2.0</td>\n",
       "      <td>...</td>\n",
       "      <td>2.0</td>\n",
       "      <td>2.0</td>\n",
       "      <td>5.0</td>\n",
       "      <td>5.0</td>\n",
       "      <td>5.0</td>\n",
       "      <td>5.0</td>\n",
       "      <td>1.0</td>\n",
       "      <td>2.0</td>\n",
       "      <td>2.0</td>\n",
       "      <td>2.0</td>\n",
       "    </tr>\n",
       "  </tbody>\n",
       "</table>\n",
       "<p>10967 rows × 32 columns</p>\n",
       "</div>"
      ],
      "text/plain": [
       "       loan_type  lien_status  open_end_line_of_credit  loan_amount  \\\n",
       "29212        1.0          1.0                      2.0     545000.0   \n",
       "37769        1.0          1.0                      2.0     785000.0   \n",
       "23992        1.0          1.0                      2.0     425000.0   \n",
       "18417        1.0          1.0                      2.0     265000.0   \n",
       "54425        1.0          1.0                      2.0     215000.0   \n",
       "...          ...          ...                      ...          ...   \n",
       "19244        1.0          1.0                      2.0     235000.0   \n",
       "18378        1.0          1.0                      2.0     505000.0   \n",
       "9725         1.0          1.0                      2.0     165000.0   \n",
       "47680        2.0          1.0                      2.0     145000.0   \n",
       "33713        1.0          1.0                      2.0     185000.0   \n",
       "\n",
       "       combined_loan_to_value_ratio  interest_rate  total_loan_costs  \\\n",
       "29212                          14.0            6.0               1.0   \n",
       "37769                           4.0            5.0               3.0   \n",
       "23992                           1.0            4.0               9.0   \n",
       "18417                           4.0            5.0               7.0   \n",
       "54425                           2.0            4.0              10.0   \n",
       "...                             ...            ...               ...   \n",
       "19244                           6.0            5.0               7.0   \n",
       "18378                           8.0            5.0               7.0   \n",
       "9725                            1.0            5.0               7.0   \n",
       "47680                           3.0            7.0              16.0   \n",
       "33713                           6.0            6.0               1.0   \n",
       "\n",
       "       origination_charges  loan_term  negative_amortization  ...  \\\n",
       "29212                  3.0        6.0                    2.0  ...   \n",
       "37769                  2.0        6.0                    2.0  ...   \n",
       "23992                  1.0        6.0                    2.0  ...   \n",
       "18417                  1.0        6.0                    2.0  ...   \n",
       "54425                  7.0        3.0                    2.0  ...   \n",
       "...                    ...        ...                    ...  ...   \n",
       "19244                  1.0        4.0                    2.0  ...   \n",
       "18378                  1.0        6.0                    2.0  ...   \n",
       "9725                   1.0        6.0                    2.0  ...   \n",
       "47680                  5.0        6.0                    2.0  ...   \n",
       "33713                  3.0        6.0                    2.0  ...   \n",
       "\n",
       "       applicant_ethnicity_1  co_applicant_ethnicity_1  applicant_race_1  \\\n",
       "29212                    2.0                       2.0               5.0   \n",
       "37769                    2.0                       2.0               5.0   \n",
       "23992                    2.0                       2.0               5.0   \n",
       "18417                    2.0                       2.0               5.0   \n",
       "54425                    2.0                       2.0               5.0   \n",
       "...                      ...                       ...               ...   \n",
       "19244                    2.0                       2.0               5.0   \n",
       "18378                    2.0                       2.0               5.0   \n",
       "9725                     2.0                       2.0               5.0   \n",
       "47680                    1.0                       1.0               5.0   \n",
       "33713                    2.0                       2.0               5.0   \n",
       "\n",
       "       applicant_race_2  co_applicant_race_1  co_applicant_race_2  \\\n",
       "29212               5.0                  5.0                  5.0   \n",
       "37769               5.0                  5.0                  5.0   \n",
       "23992               5.0                  5.0                  5.0   \n",
       "18417               5.0                  5.0                  5.0   \n",
       "54425               5.0                  5.0                  5.0   \n",
       "...                 ...                  ...                  ...   \n",
       "19244               5.0                  5.0                  5.0   \n",
       "18378               5.0                  5.0                  5.0   \n",
       "9725                5.0                  5.0                  5.0   \n",
       "47680               5.0                  5.0                  5.0   \n",
       "33713               5.0                  5.0                  5.0   \n",
       "\n",
       "       applicant_sex  co_applicant_sex  applicant_age  co_applicant_age  \n",
       "29212            1.0               2.0            3.0               4.0  \n",
       "37769            1.0               2.0            2.0               1.0  \n",
       "23992            1.0               2.0            2.0               2.0  \n",
       "18417            1.0               2.0            4.0               3.0  \n",
       "54425            1.0               2.0            1.0               1.0  \n",
       "...              ...               ...            ...               ...  \n",
       "19244            1.0               2.0            3.0               3.0  \n",
       "18378            1.0               2.0            1.0               0.0  \n",
       "9725             1.0               2.0            4.0               3.0  \n",
       "47680            1.0               2.0            3.0               2.0  \n",
       "33713            1.0               2.0            2.0               2.0  \n",
       "\n",
       "[10967 rows x 32 columns]"
      ]
     },
     "execution_count": 30,
     "metadata": {},
     "output_type": "execute_result"
    }
   ],
>>>>>>> christina
   "source": [
    "X_test"
   ]
  },
  {
   "cell_type": "code",
<<<<<<< HEAD
   "execution_count": null,
=======
   "execution_count": 31,
>>>>>>> christina
   "id": "62a49ecd-7a4c-4353-9d33-5431cd1ab440",
   "metadata": {
    "tags": []
   },
   "outputs": [],
   "source": [
    "# Initialize lists to store predictions and true values\n",
    "predictions = []\n",
    "true_values = []\n",
    "\n",
    "def make_predictions(xgb_model1, X_test, y_test, num_predictions=5):\n",
    "    # Make predictions for the test dataset\n",
    "    for _, testX in X_test.iterrows():\n",
    "        yhat = xgb_model1.predict([testX.values])  # Make a one-step prediction\n",
    "        predictions.append(yhat[0])  # Store the prediction\n",
    "\n",
    "    # Make predictions for the true values\n",
    "    for true_value in y_test:\n",
    "        true_values.append(true_value)  # Store the true value\n",
    "\n",
    "    # Return lists of predictions and true values\n",
    "    return predictions[:num_predictions], true_values[:num_predictions]\n",
    "\n",
    "# Example usage:\n",
    "preds, true_vals = make_predictions(xgb_model1, X_test, y_test, num_predictions=5)\n",
    "\n",
    "# Display the results\n",
    "print(\"Predictions:\", preds)\n",
    "print(\"True Values:\", true_vals)\n"
   ]
  },
  {
   "cell_type": "markdown",
   "id": "db630319-8558-4232-8e6c-962f6cb300c8",
   "metadata": {},
   "source": [
    "### See which rows are accepted."
   ]
  },
  {
   "cell_type": "code",
<<<<<<< HEAD
   "execution_count": null,
=======
   "execution_count": 32,
>>>>>>> christina
   "id": "325498fb-4361-4054-b1a5-55bb6420446e",
   "metadata": {
    "tags": []
   },
   "outputs": [],
   "source": [
    "# Create a DataFrame with predictions and true values\n",
    "results_df = pd.DataFrame({'Predictions': predictions, 'True_Values': true_values})\n",
    "\n",
    "# Filter rows where Predictions are 1 (accepted)\n",
    "accepted_rows = results_df[results_df['Predictions'] == 1]\n",
    "\n",
    "# Display the accepted rows\n",
    "print(accepted_rows)"
   ]
  },
  {
   "cell_type": "markdown",
   "id": "3f78152a-580d-4759-9964-4dc8050faa07",
   "metadata": {},
   "source": [
    "### Pick a specific accepted row and see its values."
   ]
  },
  {
   "cell_type": "code",
<<<<<<< HEAD
   "execution_count": null,
=======
   "execution_count": 33,
>>>>>>> christina
   "id": "d66ae3ed-7e27-4ef9-b14b-d5865a7369dc",
   "metadata": {
    "tags": []
   },
   "outputs": [],
   "source": [
    "import joblib\n",
    "model_xgboost = joblib.load('xgboost_model.pkl') "
   ]
  },
  {
   "cell_type": "code",
<<<<<<< HEAD
   "execution_count": null,
=======
   "execution_count": 34,
>>>>>>> christina
   "id": "a42518c0-b322-4e3d-bd37-7a32716d4bbe",
   "metadata": {
    "tags": []
   },
   "outputs": [],
   "source": [
    "row = X_test.iloc[7]\n",
    "true_label = y_test.iloc[7]\n",
    "\n",
    "prediction = xgb_model1.predict([row])\n",
    "if prediction == true_label:\n",
    "    print(\"Model prediction is correct.\", true_label)\n",
    "else:\n",
    "    print(\"Model prediction is incorrect.\", true_label)"
   ]
  },
  {
   "cell_type": "code",
<<<<<<< HEAD
   "execution_count": null,
=======
   "execution_count": 35,
>>>>>>> christina
   "id": "22f40608-08c6-427a-b101-5e78fd6aa9f8",
   "metadata": {
    "tags": []
   },
   "outputs": [],
   "source": [
    "row = X_test.iloc[7]\n",
    "true_label = y_test.iloc[7]\n",
    "\n",
    "prediction = model_xgboost.predict([row])\n",
    "if prediction == true_label:\n",
    "    print(\"Model prediction is correct.\", true_label)\n",
    "else:\n",
    "    print(\"Model prediction is incorrect.\", true_label)"
   ]
  },
  {
   "cell_type": "code",
<<<<<<< HEAD
   "execution_count": null,
=======
   "execution_count": 36,
>>>>>>> christina
   "id": "dd16ef39-53cc-44b2-afa4-dac2c2182eeb",
   "metadata": {
    "tags": []
   },
   "outputs": [],
   "source": [
    "row = X_test.iloc[147]\n",
    "print(row)\n",
    "true_label = y_test.iloc[147]\n",
    "\n",
    "prediction = xgb_model1.predict([row])\n",
    "if prediction == true_label:\n",
    "    print(\"Model prediction is correct.\", true_label)\n",
    "else:\n",
    "    print(\"Model prediction is incorrect.\", true_label)"
   ]
  },
  {
   "cell_type": "code",
<<<<<<< HEAD
   "execution_count": null,
=======
   "execution_count": 37,
>>>>>>> christina
   "id": "37da2753-7190-4b08-939a-629ba4ebc02f",
   "metadata": {
    "tags": []
   },
   "outputs": [],
   "source": [
    "row = X_test.iloc[147]\n",
    "true_label = y_test.iloc[147]\n",
    "\n",
    "prediction = model_xgboost.predict([row])\n",
    "if prediction == true_label:\n",
    "    print(\"Model prediction is correct.\", true_label)\n",
    "else:\n",
    "    print(\"Model prediction is incorrect.\", true_label)"
   ]
  },
  {
   "cell_type": "code",
<<<<<<< HEAD
   "execution_count": null,
=======
   "execution_count": 38,
>>>>>>> christina
   "id": "fe632f0c-c533-4408-8778-6df70f51875c",
   "metadata": {
    "tags": []
   },
<<<<<<< HEAD
   "outputs": [],
=======
   "outputs": [
    {
     "data": {
      "text/plain": [
       "loan_type                                        1.0\n",
       "lien_status                                      1.0\n",
       "open_end_line_of_credit                          2.0\n",
       "loan_amount                                 305000.0\n",
       "combined_loan_to_value_ratio                     1.0\n",
       "interest_rate                                    5.0\n",
       "total_loan_costs                                 3.0\n",
       "origination_charges                              2.0\n",
       "loan_term                                        6.0\n",
       "negative_amortization                            2.0\n",
       "interest_only_payment                            2.0\n",
       "balloon_payment                                  2.0\n",
       "other_nonamortizing_features                     2.0\n",
       "property_value                              385000.0\n",
       "occupancy_type                                   1.0\n",
       "manufactured_home_secured_property_type          3.0\n",
       "manufactured_home_land_property_interest         5.0\n",
       "total_units                                      1.0\n",
       "income                                         195.0\n",
       "debt_to_income_ratio                             4.0\n",
       "applicant_credit_score_type                      9.0\n",
       "co_applicant_credit_score_type                   1.0\n",
       "applicant_ethnicity_1                            2.0\n",
       "co_applicant_ethnicity_1                         2.0\n",
       "applicant_race_1                                 5.0\n",
       "applicant_race_2                                 5.0\n",
       "co_applicant_race_1                              5.0\n",
       "co_applicant_race_2                              5.0\n",
       "applicant_sex                                    2.0\n",
       "co_applicant_sex                                 2.0\n",
       "applicant_age                                    3.0\n",
       "co_applicant_age                                 3.0\n",
       "Name: 28971, dtype: float64"
      ]
     },
     "execution_count": 38,
     "metadata": {},
     "output_type": "execute_result"
    }
   ],
>>>>>>> christina
   "source": [
    "# Ensure that data_values has the correct format and values\n",
    "data_values = X_test.iloc[6]  # accept: 0,3,6\n",
    "data_values"
   ]
  },
  {
   "cell_type": "code",
<<<<<<< HEAD
   "execution_count": null,
=======
   "execution_count": 39,
>>>>>>> christina
   "id": "8a5b51a2-c5b2-4783-95f3-3c77e7fc80d8",
   "metadata": {},
   "outputs": [],
   "source": [
    "# problematic prediction\n",
    "prediction2 = model_xgboost.predict([data_values])\n",
    "print(prediction2)  # This should be 1 if data_values now match the expected format and values"
   ]
  },
  {
   "cell_type": "code",
<<<<<<< HEAD
   "execution_count": null,
=======
   "execution_count": 40,
>>>>>>> christina
   "id": "88506df4-612c-4097-b57e-45c4935d28e0",
   "metadata": {
    "tags": []
   },
<<<<<<< HEAD
   "outputs": [],
=======
   "outputs": [
    {
     "data": {
      "text/plain": [
       "loan_type                                        1.0\n",
       "lien_status                                      1.0\n",
       "open_end_line_of_credit                          2.0\n",
       "loan_amount                                 185000.0\n",
       "combined_loan_to_value_ratio                    13.0\n",
       "interest_rate                                    6.0\n",
       "total_loan_costs                                 5.0\n",
       "origination_charges                              2.0\n",
       "loan_term                                        6.0\n",
       "negative_amortization                            2.0\n",
       "interest_only_payment                            2.0\n",
       "balloon_payment                                  2.0\n",
       "other_nonamortizing_features                     2.0\n",
       "property_value                              505000.0\n",
       "occupancy_type                                   1.0\n",
       "manufactured_home_secured_property_type          3.0\n",
       "manufactured_home_land_property_interest         5.0\n",
       "total_units                                      1.0\n",
       "income                                          94.0\n",
       "debt_to_income_ratio                             3.0\n",
       "applicant_credit_score_type                      9.0\n",
       "co_applicant_credit_score_type                   2.0\n",
       "applicant_ethnicity_1                            2.0\n",
       "co_applicant_ethnicity_1                         2.0\n",
       "applicant_race_1                                 5.0\n",
       "applicant_race_2                                 5.0\n",
       "co_applicant_race_1                              5.0\n",
       "co_applicant_race_2                              5.0\n",
       "applicant_sex                                    2.0\n",
       "co_applicant_sex                                 1.0\n",
       "applicant_age                                    3.0\n",
       "co_applicant_age                                 4.0\n",
       "Name: 32456, dtype: float64"
      ]
     },
     "execution_count": 40,
     "metadata": {},
     "output_type": "execute_result"
    }
   ],
>>>>>>> christina
   "source": [
    "row1 = X_test.iloc[147]\n",
    "np.save('row1.npy', row1)\n",
    "row1"
   ]
  },
  {
   "cell_type": "code",
<<<<<<< HEAD
   "execution_count": null,
=======
   "execution_count": 41,
>>>>>>> christina
   "id": "c0d9914a-5b89-4641-a683-76088e93c643",
   "metadata": {
    "tags": []
   },
   "outputs": [],
   "source": [
    "# correct prediction\n",
    "prediction1 = model_xgboost.predict([row1])\n",
    "print(prediction1)"
   ]
  },
  {
   "cell_type": "markdown",
   "id": "7443593f-149e-44d9-b1a8-c959359f2a7e",
   "metadata": {},
   "source": [
    "# Pickle models"
   ]
  },
  {
   "cell_type": "code",
<<<<<<< HEAD
   "execution_count": null,
=======
   "execution_count": 42,
>>>>>>> christina
   "id": "56f9d9ed-f1c4-4208-b845-9f388b30e3e7",
   "metadata": {},
   "outputs": [],
   "source": [
    "lr_model = linear_model.LogisticRegression(solver=\"lbfgs\", random_state=random_state)\n",
    "dt_model = tree.DecisionTreeClassifier(max_depth=8)\n",
    "ADA_model = AdaBoostClassifier(n_estimators=50, random_state=random_state)\n",
    "SGD_model = make_pipeline(StandardScaler(),\n",
    "                     SGDClassifier(max_iter=100, tol=1e-3))\n",
    "\n",
    "models = [\"lr_model\",\"dt_model\",\"ADA_model\",\"SGD_model\"]"
   ]
  },
  {
   "cell_type": "code",
<<<<<<< HEAD
   "execution_count": null,
=======
   "execution_count": 43,
>>>>>>> christina
   "id": "d331aef4-51af-435c-a696-9df2c057e106",
   "metadata": {},
   "outputs": [],
   "source": [
    "for model_name in models:\n",
    "    \n",
    "    curr_model = eval(model_name)\n",
    "    \n",
    "    curr_model.fit(X_train, y_train)\n",
    "    \n",
    "    with open(f\"{model_name}.pickle\", \"wb\") as pfile:\n",
    "        pickle.dump(curr_model, pfile)"
   ]
  },
  {
   "cell_type": "code",
<<<<<<< HEAD
   "execution_count": null,
=======
   "execution_count": 44,
>>>>>>> christina
   "id": "206e5c23-c225-4f3f-affa-fc389624aea7",
   "metadata": {},
   "outputs": [],
   "source": [
    "model_names = [\"lr_model\",\"dt_model\",\"ADA_model\",\"SGD_model\"]\n",
    "\n",
    "for model_name in model_names:\n",
    "    with open(f\"{model_name}.pickle\", \"rb\") as pfile:\n",
    "        exec(f\"{model_name} = pickle.load(pfile)\")\n",
    "\n",
    "model_vars = [eval(n) for n in model_names]\n",
    "model_list = list(zip(model_names, model_vars))"
   ]
  },
  {
   "cell_type": "code",
<<<<<<< HEAD
   "execution_count": null,
   "id": "2aad9f28-9e8c-4e0d-81e4-f1cc3e83df25",
   "metadata": {},
   "outputs": [],
=======
   "execution_count": 45,
   "id": "2aad9f28-9e8c-4e0d-81e4-f1cc3e83df25",
   "metadata": {},
   "outputs": [
    {
     "name": "stdout",
     "output_type": "stream",
     "text": [
      "lr_model score: 0.5703864128576314\n",
      "lr_model score: 0.568904593639576\n",
      "dt_model score: 0.985979710475322\n",
      "dt_model score: 0.982788099851818\n",
      "ADA_model score: 0.985979710475322\n",
      "ADA_model score: 0.9826741137581215\n",
      "SGD_model score: 0.8991508036019605\n",
      "SGD_model score: 0.9023139177020404\n"
     ]
    }
   ],
>>>>>>> christina
   "source": [
    "for model_name in model_names:\n",
    "    curr_model = eval(model_name)\n",
    "    print(f'{model_name} score: {curr_model.score(X_train, y_train)}')\n",
    "    print(f'{model_name} score: {curr_model.score(X_val, y_val)}')"
   ]
  },
  {
   "cell_type": "markdown",
   "id": "49cbe423-2382-48c6-b88f-807fdb7cbed4",
   "metadata": {},
   "source": [
    "# voting classifer (HARD)"
   ]
  },
  {
   "cell_type": "code",
<<<<<<< HEAD
   "execution_count": null,
   "id": "6bc2b22b-aff0-49fe-80da-4c41f43bf078",
   "metadata": {},
   "outputs": [],
=======
   "execution_count": 46,
   "id": "6bc2b22b-aff0-49fe-80da-4c41f43bf078",
   "metadata": {},
   "outputs": [
    {
     "data": {
      "text/html": [
       "<style>#sk-container-id-2 {color: black;background-color: white;}#sk-container-id-2 pre{padding: 0;}#sk-container-id-2 div.sk-toggleable {background-color: white;}#sk-container-id-2 label.sk-toggleable__label {cursor: pointer;display: block;width: 100%;margin-bottom: 0;padding: 0.3em;box-sizing: border-box;text-align: center;}#sk-container-id-2 label.sk-toggleable__label-arrow:before {content: \"▸\";float: left;margin-right: 0.25em;color: #696969;}#sk-container-id-2 label.sk-toggleable__label-arrow:hover:before {color: black;}#sk-container-id-2 div.sk-estimator:hover label.sk-toggleable__label-arrow:before {color: black;}#sk-container-id-2 div.sk-toggleable__content {max-height: 0;max-width: 0;overflow: hidden;text-align: left;background-color: #f0f8ff;}#sk-container-id-2 div.sk-toggleable__content pre {margin: 0.2em;color: black;border-radius: 0.25em;background-color: #f0f8ff;}#sk-container-id-2 input.sk-toggleable__control:checked~div.sk-toggleable__content {max-height: 200px;max-width: 100%;overflow: auto;}#sk-container-id-2 input.sk-toggleable__control:checked~label.sk-toggleable__label-arrow:before {content: \"▾\";}#sk-container-id-2 div.sk-estimator input.sk-toggleable__control:checked~label.sk-toggleable__label {background-color: #d4ebff;}#sk-container-id-2 div.sk-label input.sk-toggleable__control:checked~label.sk-toggleable__label {background-color: #d4ebff;}#sk-container-id-2 input.sk-hidden--visually {border: 0;clip: rect(1px 1px 1px 1px);clip: rect(1px, 1px, 1px, 1px);height: 1px;margin: -1px;overflow: hidden;padding: 0;position: absolute;width: 1px;}#sk-container-id-2 div.sk-estimator {font-family: monospace;background-color: #f0f8ff;border: 1px dotted black;border-radius: 0.25em;box-sizing: border-box;margin-bottom: 0.5em;}#sk-container-id-2 div.sk-estimator:hover {background-color: #d4ebff;}#sk-container-id-2 div.sk-parallel-item::after {content: \"\";width: 100%;border-bottom: 1px solid gray;flex-grow: 1;}#sk-container-id-2 div.sk-label:hover label.sk-toggleable__label {background-color: #d4ebff;}#sk-container-id-2 div.sk-serial::before {content: \"\";position: absolute;border-left: 1px solid gray;box-sizing: border-box;top: 0;bottom: 0;left: 50%;z-index: 0;}#sk-container-id-2 div.sk-serial {display: flex;flex-direction: column;align-items: center;background-color: white;padding-right: 0.2em;padding-left: 0.2em;position: relative;}#sk-container-id-2 div.sk-item {position: relative;z-index: 1;}#sk-container-id-2 div.sk-parallel {display: flex;align-items: stretch;justify-content: center;background-color: white;position: relative;}#sk-container-id-2 div.sk-item::before, #sk-container-id-2 div.sk-parallel-item::before {content: \"\";position: absolute;border-left: 1px solid gray;box-sizing: border-box;top: 0;bottom: 0;left: 50%;z-index: -1;}#sk-container-id-2 div.sk-parallel-item {display: flex;flex-direction: column;z-index: 1;position: relative;background-color: white;}#sk-container-id-2 div.sk-parallel-item:first-child::after {align-self: flex-end;width: 50%;}#sk-container-id-2 div.sk-parallel-item:last-child::after {align-self: flex-start;width: 50%;}#sk-container-id-2 div.sk-parallel-item:only-child::after {width: 0;}#sk-container-id-2 div.sk-dashed-wrapped {border: 1px dashed gray;margin: 0 0.4em 0.5em 0.4em;box-sizing: border-box;padding-bottom: 0.4em;background-color: white;}#sk-container-id-2 div.sk-label label {font-family: monospace;font-weight: bold;display: inline-block;line-height: 1.2em;}#sk-container-id-2 div.sk-label-container {text-align: center;}#sk-container-id-2 div.sk-container {/* jupyter's `normalize.less` sets `[hidden] { display: none; }` but bootstrap.min.css set `[hidden] { display: none !important; }` so we also need the `!important` here to be able to override the default hidden behavior on the sphinx rendered scikit-learn.org. See: https://github.com/scikit-learn/scikit-learn/issues/21755 */display: inline-block !important;position: relative;}#sk-container-id-2 div.sk-text-repr-fallback {display: none;}</style><div id=\"sk-container-id-2\" class=\"sk-top-container\"><div class=\"sk-text-repr-fallback\"><pre>VotingClassifier(estimators=[(&#x27;lr_model&#x27;, LogisticRegression(random_state=42)),\n",
       "                             (&#x27;dt_model&#x27;, DecisionTreeClassifier(max_depth=8)),\n",
       "                             (&#x27;ADA_model&#x27;, AdaBoostClassifier(random_state=42)),\n",
       "                             (&#x27;SGD_model&#x27;,\n",
       "                              Pipeline(steps=[(&#x27;standardscaler&#x27;,\n",
       "                                               StandardScaler()),\n",
       "                                              (&#x27;sgdclassifier&#x27;,\n",
       "                                               SGDClassifier(max_iter=100))]))],\n",
       "                 n_jobs=-1)</pre><b>In a Jupyter environment, please rerun this cell to show the HTML representation or trust the notebook. <br />On GitHub, the HTML representation is unable to render, please try loading this page with nbviewer.org.</b></div><div class=\"sk-container\" hidden><div class=\"sk-item sk-dashed-wrapped\"><div class=\"sk-label-container\"><div class=\"sk-label sk-toggleable\"><input class=\"sk-toggleable__control sk-hidden--visually\" id=\"sk-estimator-id-4\" type=\"checkbox\" ><label for=\"sk-estimator-id-4\" class=\"sk-toggleable__label sk-toggleable__label-arrow\">VotingClassifier</label><div class=\"sk-toggleable__content\"><pre>VotingClassifier(estimators=[(&#x27;lr_model&#x27;, LogisticRegression(random_state=42)),\n",
       "                             (&#x27;dt_model&#x27;, DecisionTreeClassifier(max_depth=8)),\n",
       "                             (&#x27;ADA_model&#x27;, AdaBoostClassifier(random_state=42)),\n",
       "                             (&#x27;SGD_model&#x27;,\n",
       "                              Pipeline(steps=[(&#x27;standardscaler&#x27;,\n",
       "                                               StandardScaler()),\n",
       "                                              (&#x27;sgdclassifier&#x27;,\n",
       "                                               SGDClassifier(max_iter=100))]))],\n",
       "                 n_jobs=-1)</pre></div></div></div><div class=\"sk-parallel\"><div class=\"sk-parallel-item\"><div class=\"sk-item\"><div class=\"sk-label-container\"><div class=\"sk-label sk-toggleable\"><label>lr_model</label></div></div><div class=\"sk-serial\"><div class=\"sk-item\"><div class=\"sk-estimator sk-toggleable\"><input class=\"sk-toggleable__control sk-hidden--visually\" id=\"sk-estimator-id-5\" type=\"checkbox\" ><label for=\"sk-estimator-id-5\" class=\"sk-toggleable__label sk-toggleable__label-arrow\">LogisticRegression</label><div class=\"sk-toggleable__content\"><pre>LogisticRegression(random_state=42)</pre></div></div></div></div></div></div><div class=\"sk-parallel-item\"><div class=\"sk-item\"><div class=\"sk-label-container\"><div class=\"sk-label sk-toggleable\"><label>dt_model</label></div></div><div class=\"sk-serial\"><div class=\"sk-item\"><div class=\"sk-estimator sk-toggleable\"><input class=\"sk-toggleable__control sk-hidden--visually\" id=\"sk-estimator-id-6\" type=\"checkbox\" ><label for=\"sk-estimator-id-6\" class=\"sk-toggleable__label sk-toggleable__label-arrow\">DecisionTreeClassifier</label><div class=\"sk-toggleable__content\"><pre>DecisionTreeClassifier(max_depth=8)</pre></div></div></div></div></div></div><div class=\"sk-parallel-item\"><div class=\"sk-item\"><div class=\"sk-label-container\"><div class=\"sk-label sk-toggleable\"><label>ADA_model</label></div></div><div class=\"sk-serial\"><div class=\"sk-item\"><div class=\"sk-estimator sk-toggleable\"><input class=\"sk-toggleable__control sk-hidden--visually\" id=\"sk-estimator-id-7\" type=\"checkbox\" ><label for=\"sk-estimator-id-7\" class=\"sk-toggleable__label sk-toggleable__label-arrow\">AdaBoostClassifier</label><div class=\"sk-toggleable__content\"><pre>AdaBoostClassifier(random_state=42)</pre></div></div></div></div></div></div><div class=\"sk-parallel-item\"><div class=\"sk-item\"><div class=\"sk-label-container\"><div class=\"sk-label sk-toggleable\"><label>SGD_model</label></div></div><div class=\"sk-serial\"><div class=\"sk-item\"><div class=\"sk-serial\"><div class=\"sk-item\"><div class=\"sk-estimator sk-toggleable\"><input class=\"sk-toggleable__control sk-hidden--visually\" id=\"sk-estimator-id-8\" type=\"checkbox\" ><label for=\"sk-estimator-id-8\" class=\"sk-toggleable__label sk-toggleable__label-arrow\">StandardScaler</label><div class=\"sk-toggleable__content\"><pre>StandardScaler()</pre></div></div></div><div class=\"sk-item\"><div class=\"sk-estimator sk-toggleable\"><input class=\"sk-toggleable__control sk-hidden--visually\" id=\"sk-estimator-id-9\" type=\"checkbox\" ><label for=\"sk-estimator-id-9\" class=\"sk-toggleable__label sk-toggleable__label-arrow\">SGDClassifier</label><div class=\"sk-toggleable__content\"><pre>SGDClassifier(max_iter=100)</pre></div></div></div></div></div></div></div></div></div></div></div></div>"
      ],
      "text/plain": [
       "VotingClassifier(estimators=[('lr_model', LogisticRegression(random_state=42)),\n",
       "                             ('dt_model', DecisionTreeClassifier(max_depth=8)),\n",
       "                             ('ADA_model', AdaBoostClassifier(random_state=42)),\n",
       "                             ('SGD_model',\n",
       "                              Pipeline(steps=[('standardscaler',\n",
       "                                               StandardScaler()),\n",
       "                                              ('sgdclassifier',\n",
       "                                               SGDClassifier(max_iter=100))]))],\n",
       "                 n_jobs=-1)"
      ]
     },
     "execution_count": 46,
     "metadata": {},
     "output_type": "execute_result"
    }
   ],
>>>>>>> christina
   "source": [
    "voting_classifer = VotingClassifier(estimators=model_list,\n",
    "                                    voting='hard', #<-- sklearn calls this hard voting\n",
    "                                    n_jobs=-1)\n",
    "voting_classifer.fit(X_train, y_train)"
   ]
  },
  {
   "cell_type": "code",
<<<<<<< HEAD
   "execution_count": null,
   "id": "fc607988-b88d-4924-b25b-f5b9d2c2b0c5",
   "metadata": {},
   "outputs": [],
=======
   "execution_count": 47,
   "id": "fc607988-b88d-4924-b25b-f5b9d2c2b0c5",
   "metadata": {},
   "outputs": [
    {
     "data": {
      "text/plain": [
       "0.9837569816482389"
      ]
     },
     "execution_count": 47,
     "metadata": {},
     "output_type": "execute_result"
    }
   ],
>>>>>>> christina
   "source": [
    "y_pred = voting_classifer.predict(X_train)\n",
    "accuracy_score(y_train, y_pred)"
   ]
  },
  {
   "cell_type": "code",
<<<<<<< HEAD
   "execution_count": null,
   "id": "280f3620-f18d-43bb-8b3a-9a4d5ca6daa4",
   "metadata": {},
   "outputs": [],
=======
   "execution_count": 48,
   "id": "280f3620-f18d-43bb-8b3a-9a4d5ca6daa4",
   "metadata": {},
   "outputs": [
    {
     "data": {
      "text/plain": [
       "0.9808503362589764"
      ]
     },
     "execution_count": 48,
     "metadata": {},
     "output_type": "execute_result"
    }
   ],
>>>>>>> christina
   "source": [
    "y_pred = voting_classifer.predict(X_val)\n",
    "accuracy_score(y_val, y_pred)"
   ]
  },
  {
   "cell_type": "markdown",
   "id": "6acf93e0-46ae-4adb-9c25-bc3c817a8203",
   "metadata": {},
   "source": [
    "# Compare all the models."
   ]
  },
  {
   "cell_type": "code",
<<<<<<< HEAD
   "execution_count": null,
=======
   "execution_count": 51,
>>>>>>> christina
   "id": "6353f336-9876-42c5-9c64-28e7011078bd",
   "metadata": {
    "tags": []
   },
<<<<<<< HEAD
   "outputs": [],
=======
   "outputs": [
    {
     "ename": "ImportError",
     "evalue": "DLL load failed while importing lib: The specified procedure could not be found.",
     "output_type": "error",
     "traceback": [
      "\u001b[1;31m---------------------------------------------------------------------------\u001b[0m",
      "\u001b[1;31mImportError\u001b[0m                               Traceback (most recent call last)",
      "Cell \u001b[1;32mIn[51], line 1\u001b[0m\n\u001b[1;32m----> 1\u001b[0m \u001b[38;5;28;01mimport\u001b[39;00m \u001b[38;5;21;01mstreamlit\u001b[39;00m \u001b[38;5;28;01mas\u001b[39;00m \u001b[38;5;21;01mst\u001b[39;00m\n\u001b[0;32m      2\u001b[0m \u001b[38;5;28;01mimport\u001b[39;00m \u001b[38;5;21;01mpandas\u001b[39;00m \u001b[38;5;28;01mas\u001b[39;00m \u001b[38;5;21;01mpd\u001b[39;00m\n\u001b[0;32m      4\u001b[0m \u001b[38;5;66;03m# Example model and prediction data\u001b[39;00m\n",
      "File \u001b[1;32m~\\anaconda3\\envs\\jupyterlab\\Lib\\site-packages\\streamlit\\__init__.py:56\u001b[0m\n\u001b[0;32m     53\u001b[0m \u001b[38;5;66;03m# Give the package a version.\u001b[39;00m\n\u001b[0;32m     54\u001b[0m __version__ \u001b[38;5;241m=\u001b[39m _STREAMLIT_VERSION_STRING\n\u001b[1;32m---> 56\u001b[0m \u001b[38;5;28;01mfrom\u001b[39;00m \u001b[38;5;21;01mstreamlit\u001b[39;00m\u001b[38;5;21;01m.\u001b[39;00m\u001b[38;5;21;01mdelta_generator\u001b[39;00m \u001b[38;5;28;01mimport\u001b[39;00m DeltaGenerator \u001b[38;5;28;01mas\u001b[39;00m _DeltaGenerator\n\u001b[0;32m     57\u001b[0m \u001b[38;5;28;01mfrom\u001b[39;00m \u001b[38;5;21;01mstreamlit\u001b[39;00m\u001b[38;5;21;01m.\u001b[39;00m\u001b[38;5;21;01mproto\u001b[39;00m\u001b[38;5;21;01m.\u001b[39;00m\u001b[38;5;21;01mRootContainer_pb2\u001b[39;00m \u001b[38;5;28;01mimport\u001b[39;00m RootContainer \u001b[38;5;28;01mas\u001b[39;00m _RootContainer\n\u001b[0;32m     58\u001b[0m \u001b[38;5;28;01mfrom\u001b[39;00m \u001b[38;5;21;01mstreamlit\u001b[39;00m\u001b[38;5;21;01m.\u001b[39;00m\u001b[38;5;21;01mruntime\u001b[39;00m\u001b[38;5;21;01m.\u001b[39;00m\u001b[38;5;21;01mcaching\u001b[39;00m \u001b[38;5;28;01mimport\u001b[39;00m (\n\u001b[0;32m     59\u001b[0m     cache_resource \u001b[38;5;28;01mas\u001b[39;00m _cache_resource,\n\u001b[0;32m     60\u001b[0m     cache_data \u001b[38;5;28;01mas\u001b[39;00m _cache_data,\n\u001b[0;32m     61\u001b[0m     experimental_singleton \u001b[38;5;28;01mas\u001b[39;00m _experimental_singleton,\n\u001b[0;32m     62\u001b[0m     experimental_memo \u001b[38;5;28;01mas\u001b[39;00m _experimental_memo,\n\u001b[0;32m     63\u001b[0m )\n",
      "File \u001b[1;32m~\\anaconda3\\envs\\jupyterlab\\Lib\\site-packages\\streamlit\\delta_generator.py:37\u001b[0m\n\u001b[0;32m     34\u001b[0m \u001b[38;5;28;01mimport\u001b[39;00m \u001b[38;5;21;01mclick\u001b[39;00m\n\u001b[0;32m     35\u001b[0m \u001b[38;5;28;01mfrom\u001b[39;00m \u001b[38;5;21;01mtyping_extensions\u001b[39;00m \u001b[38;5;28;01mimport\u001b[39;00m Final, Literal\n\u001b[1;32m---> 37\u001b[0m \u001b[38;5;28;01mfrom\u001b[39;00m \u001b[38;5;21;01mstreamlit\u001b[39;00m \u001b[38;5;28;01mimport\u001b[39;00m config, cursor, env_util, logger, runtime, type_util, util\n\u001b[0;32m     38\u001b[0m \u001b[38;5;28;01mfrom\u001b[39;00m \u001b[38;5;21;01mstreamlit\u001b[39;00m\u001b[38;5;21;01m.\u001b[39;00m\u001b[38;5;21;01mcursor\u001b[39;00m \u001b[38;5;28;01mimport\u001b[39;00m Cursor\n\u001b[0;32m     39\u001b[0m \u001b[38;5;28;01mfrom\u001b[39;00m \u001b[38;5;21;01mstreamlit\u001b[39;00m\u001b[38;5;21;01m.\u001b[39;00m\u001b[38;5;21;01melements\u001b[39;00m\u001b[38;5;21;01m.\u001b[39;00m\u001b[38;5;21;01malert\u001b[39;00m \u001b[38;5;28;01mimport\u001b[39;00m AlertMixin\n",
      "File \u001b[1;32m~\\anaconda3\\envs\\jupyterlab\\Lib\\site-packages\\streamlit\\cursor.py:18\u001b[0m\n\u001b[0;32m     15\u001b[0m \u001b[38;5;28;01mfrom\u001b[39;00m \u001b[38;5;21;01mtyping\u001b[39;00m \u001b[38;5;28;01mimport\u001b[39;00m Any, List, Optional, Tuple\n\u001b[0;32m     17\u001b[0m \u001b[38;5;28;01mfrom\u001b[39;00m \u001b[38;5;21;01mstreamlit\u001b[39;00m \u001b[38;5;28;01mimport\u001b[39;00m util\n\u001b[1;32m---> 18\u001b[0m \u001b[38;5;28;01mfrom\u001b[39;00m \u001b[38;5;21;01mstreamlit\u001b[39;00m\u001b[38;5;21;01m.\u001b[39;00m\u001b[38;5;21;01mruntime\u001b[39;00m\u001b[38;5;21;01m.\u001b[39;00m\u001b[38;5;21;01mscriptrunner\u001b[39;00m \u001b[38;5;28;01mimport\u001b[39;00m get_script_run_ctx\n\u001b[0;32m     21\u001b[0m \u001b[38;5;28;01mdef\u001b[39;00m \u001b[38;5;21mmake_delta_path\u001b[39m(\n\u001b[0;32m     22\u001b[0m     root_container: \u001b[38;5;28mint\u001b[39m, parent_path: Tuple[\u001b[38;5;28mint\u001b[39m, \u001b[38;5;241m.\u001b[39m\u001b[38;5;241m.\u001b[39m\u001b[38;5;241m.\u001b[39m], index: \u001b[38;5;28mint\u001b[39m\n\u001b[0;32m     23\u001b[0m ) \u001b[38;5;241m-\u001b[39m\u001b[38;5;241m>\u001b[39m List[\u001b[38;5;28mint\u001b[39m]:\n\u001b[0;32m     24\u001b[0m     delta_path \u001b[38;5;241m=\u001b[39m [root_container]\n",
      "File \u001b[1;32m~\\anaconda3\\envs\\jupyterlab\\Lib\\site-packages\\streamlit\\runtime\\__init__.py:15\u001b[0m\n\u001b[0;32m      1\u001b[0m \u001b[38;5;66;03m# Copyright (c) Streamlit Inc. (2018-2022) Snowflake Inc. (2022)\u001b[39;00m\n\u001b[0;32m      2\u001b[0m \u001b[38;5;66;03m#\u001b[39;00m\n\u001b[0;32m      3\u001b[0m \u001b[38;5;66;03m# Licensed under the Apache License, Version 2.0 (the \"License\");\u001b[39;00m\n\u001b[1;32m   (...)\u001b[0m\n\u001b[0;32m     12\u001b[0m \u001b[38;5;66;03m# See the License for the specific language governing permissions and\u001b[39;00m\n\u001b[0;32m     13\u001b[0m \u001b[38;5;66;03m# limitations under the License.\u001b[39;00m\n\u001b[1;32m---> 15\u001b[0m \u001b[38;5;28;01mfrom\u001b[39;00m \u001b[38;5;21;01mstreamlit\u001b[39;00m\u001b[38;5;21;01m.\u001b[39;00m\u001b[38;5;21;01mruntime\u001b[39;00m\u001b[38;5;21;01m.\u001b[39;00m\u001b[38;5;21;01mruntime\u001b[39;00m \u001b[38;5;28;01mimport\u001b[39;00m Runtime, RuntimeConfig, RuntimeState\n\u001b[0;32m     16\u001b[0m \u001b[38;5;28;01mfrom\u001b[39;00m \u001b[38;5;21;01mstreamlit\u001b[39;00m\u001b[38;5;21;01m.\u001b[39;00m\u001b[38;5;21;01mruntime\u001b[39;00m\u001b[38;5;21;01m.\u001b[39;00m\u001b[38;5;21;01msession_manager\u001b[39;00m \u001b[38;5;28;01mimport\u001b[39;00m (\n\u001b[0;32m     17\u001b[0m     SessionClient,\n\u001b[0;32m     18\u001b[0m     SessionClientDisconnectedError,\n\u001b[0;32m     19\u001b[0m )\n\u001b[0;32m     22\u001b[0m \u001b[38;5;28;01mdef\u001b[39;00m \u001b[38;5;21mget_instance\u001b[39m() \u001b[38;5;241m-\u001b[39m\u001b[38;5;241m>\u001b[39m Runtime:\n",
      "File \u001b[1;32m~\\anaconda3\\envs\\jupyterlab\\Lib\\site-packages\\streamlit\\runtime\\runtime.py:30\u001b[0m\n\u001b[0;32m     28\u001b[0m \u001b[38;5;28;01mfrom\u001b[39;00m \u001b[38;5;21;01mstreamlit\u001b[39;00m\u001b[38;5;21;01m.\u001b[39;00m\u001b[38;5;21;01mproto\u001b[39;00m\u001b[38;5;21;01m.\u001b[39;00m\u001b[38;5;21;01mBackMsg_pb2\u001b[39;00m \u001b[38;5;28;01mimport\u001b[39;00m BackMsg\n\u001b[0;32m     29\u001b[0m \u001b[38;5;28;01mfrom\u001b[39;00m \u001b[38;5;21;01mstreamlit\u001b[39;00m\u001b[38;5;21;01m.\u001b[39;00m\u001b[38;5;21;01mproto\u001b[39;00m\u001b[38;5;21;01m.\u001b[39;00m\u001b[38;5;21;01mForwardMsg_pb2\u001b[39;00m \u001b[38;5;28;01mimport\u001b[39;00m ForwardMsg\n\u001b[1;32m---> 30\u001b[0m \u001b[38;5;28;01mfrom\u001b[39;00m \u001b[38;5;21;01mstreamlit\u001b[39;00m\u001b[38;5;21;01m.\u001b[39;00m\u001b[38;5;21;01mruntime\u001b[39;00m\u001b[38;5;21;01m.\u001b[39;00m\u001b[38;5;21;01mapp_session\u001b[39;00m \u001b[38;5;28;01mimport\u001b[39;00m AppSession\n\u001b[0;32m     31\u001b[0m \u001b[38;5;28;01mfrom\u001b[39;00m \u001b[38;5;21;01mstreamlit\u001b[39;00m\u001b[38;5;21;01m.\u001b[39;00m\u001b[38;5;21;01mruntime\u001b[39;00m\u001b[38;5;21;01m.\u001b[39;00m\u001b[38;5;21;01mcaching\u001b[39;00m \u001b[38;5;28;01mimport\u001b[39;00m (\n\u001b[0;32m     32\u001b[0m     get_data_cache_stats_provider,\n\u001b[0;32m     33\u001b[0m     get_resource_cache_stats_provider,\n\u001b[0;32m     34\u001b[0m )\n\u001b[0;32m     35\u001b[0m \u001b[38;5;28;01mfrom\u001b[39;00m \u001b[38;5;21;01mstreamlit\u001b[39;00m\u001b[38;5;21;01m.\u001b[39;00m\u001b[38;5;21;01mruntime\u001b[39;00m\u001b[38;5;21;01m.\u001b[39;00m\u001b[38;5;21;01mcaching\u001b[39;00m\u001b[38;5;21;01m.\u001b[39;00m\u001b[38;5;21;01mstorage\u001b[39;00m\u001b[38;5;21;01m.\u001b[39;00m\u001b[38;5;21;01mlocal_disk_cache_storage\u001b[39;00m \u001b[38;5;28;01mimport\u001b[39;00m (\n\u001b[0;32m     36\u001b[0m     LocalDiskCacheStorageManager,\n\u001b[0;32m     37\u001b[0m )\n",
      "File \u001b[1;32m~\\anaconda3\\envs\\jupyterlab\\Lib\\site-packages\\streamlit\\runtime\\app_session.py:36\u001b[0m\n\u001b[0;32m     29\u001b[0m \u001b[38;5;28;01mfrom\u001b[39;00m \u001b[38;5;21;01mstreamlit\u001b[39;00m\u001b[38;5;21;01m.\u001b[39;00m\u001b[38;5;21;01mproto\u001b[39;00m\u001b[38;5;21;01m.\u001b[39;00m\u001b[38;5;21;01mNewSession_pb2\u001b[39;00m \u001b[38;5;28;01mimport\u001b[39;00m (\n\u001b[0;32m     30\u001b[0m     Config,\n\u001b[0;32m     31\u001b[0m     CustomThemeConfig,\n\u001b[0;32m     32\u001b[0m     NewSession,\n\u001b[0;32m     33\u001b[0m     UserInfo,\n\u001b[0;32m     34\u001b[0m )\n\u001b[0;32m     35\u001b[0m \u001b[38;5;28;01mfrom\u001b[39;00m \u001b[38;5;21;01mstreamlit\u001b[39;00m\u001b[38;5;21;01m.\u001b[39;00m\u001b[38;5;21;01mproto\u001b[39;00m\u001b[38;5;21;01m.\u001b[39;00m\u001b[38;5;21;01mPagesChanged_pb2\u001b[39;00m \u001b[38;5;28;01mimport\u001b[39;00m PagesChanged\n\u001b[1;32m---> 36\u001b[0m \u001b[38;5;28;01mfrom\u001b[39;00m \u001b[38;5;21;01mstreamlit\u001b[39;00m\u001b[38;5;21;01m.\u001b[39;00m\u001b[38;5;21;01mruntime\u001b[39;00m \u001b[38;5;28;01mimport\u001b[39;00m caching, legacy_caching\n\u001b[0;32m     37\u001b[0m \u001b[38;5;28;01mfrom\u001b[39;00m \u001b[38;5;21;01mstreamlit\u001b[39;00m\u001b[38;5;21;01m.\u001b[39;00m\u001b[38;5;21;01mruntime\u001b[39;00m\u001b[38;5;21;01m.\u001b[39;00m\u001b[38;5;21;01mforward_msg_queue\u001b[39;00m \u001b[38;5;28;01mimport\u001b[39;00m ForwardMsgQueue\n\u001b[0;32m     38\u001b[0m \u001b[38;5;28;01mfrom\u001b[39;00m \u001b[38;5;21;01mstreamlit\u001b[39;00m\u001b[38;5;21;01m.\u001b[39;00m\u001b[38;5;21;01mruntime\u001b[39;00m\u001b[38;5;21;01m.\u001b[39;00m\u001b[38;5;21;01mmetrics_util\u001b[39;00m \u001b[38;5;28;01mimport\u001b[39;00m Installation\n",
      "File \u001b[1;32m~\\anaconda3\\envs\\jupyterlab\\Lib\\site-packages\\streamlit\\runtime\\caching\\__init__.py:21\u001b[0m\n\u001b[0;32m     18\u001b[0m \u001b[38;5;28;01mfrom\u001b[39;00m \u001b[38;5;21;01mgoogle\u001b[39;00m\u001b[38;5;21;01m.\u001b[39;00m\u001b[38;5;21;01mprotobuf\u001b[39;00m\u001b[38;5;21;01m.\u001b[39;00m\u001b[38;5;21;01mmessage\u001b[39;00m \u001b[38;5;28;01mimport\u001b[39;00m Message\n\u001b[0;32m     20\u001b[0m \u001b[38;5;28;01mfrom\u001b[39;00m \u001b[38;5;21;01mstreamlit\u001b[39;00m\u001b[38;5;21;01m.\u001b[39;00m\u001b[38;5;21;01mproto\u001b[39;00m\u001b[38;5;21;01m.\u001b[39;00m\u001b[38;5;21;01mBlock_pb2\u001b[39;00m \u001b[38;5;28;01mimport\u001b[39;00m Block\n\u001b[1;32m---> 21\u001b[0m \u001b[38;5;28;01mfrom\u001b[39;00m \u001b[38;5;21;01mstreamlit\u001b[39;00m\u001b[38;5;21;01m.\u001b[39;00m\u001b[38;5;21;01mruntime\u001b[39;00m\u001b[38;5;21;01m.\u001b[39;00m\u001b[38;5;21;01mcaching\u001b[39;00m\u001b[38;5;21;01m.\u001b[39;00m\u001b[38;5;21;01mcache_data_api\u001b[39;00m \u001b[38;5;28;01mimport\u001b[39;00m (\n\u001b[0;32m     22\u001b[0m     CACHE_DATA_MESSAGE_REPLAY_CTX,\n\u001b[0;32m     23\u001b[0m     CacheDataAPI,\n\u001b[0;32m     24\u001b[0m     _data_caches,\n\u001b[0;32m     25\u001b[0m )\n\u001b[0;32m     26\u001b[0m \u001b[38;5;28;01mfrom\u001b[39;00m \u001b[38;5;21;01mstreamlit\u001b[39;00m\u001b[38;5;21;01m.\u001b[39;00m\u001b[38;5;21;01mruntime\u001b[39;00m\u001b[38;5;21;01m.\u001b[39;00m\u001b[38;5;21;01mcaching\u001b[39;00m\u001b[38;5;21;01m.\u001b[39;00m\u001b[38;5;21;01mcache_errors\u001b[39;00m \u001b[38;5;28;01mimport\u001b[39;00m CACHE_DOCS_URL\n\u001b[0;32m     27\u001b[0m \u001b[38;5;28;01mfrom\u001b[39;00m \u001b[38;5;21;01mstreamlit\u001b[39;00m\u001b[38;5;21;01m.\u001b[39;00m\u001b[38;5;21;01mruntime\u001b[39;00m\u001b[38;5;21;01m.\u001b[39;00m\u001b[38;5;21;01mcaching\u001b[39;00m\u001b[38;5;21;01m.\u001b[39;00m\u001b[38;5;21;01mcache_resource_api\u001b[39;00m \u001b[38;5;28;01mimport\u001b[39;00m (\n\u001b[0;32m     28\u001b[0m     CACHE_RESOURCE_MESSAGE_REPLAY_CTX,\n\u001b[0;32m     29\u001b[0m     CacheResourceAPI,\n\u001b[0;32m     30\u001b[0m     _resource_caches,\n\u001b[0;32m     31\u001b[0m )\n",
      "File \u001b[1;32m~\\anaconda3\\envs\\jupyterlab\\Lib\\site-packages\\streamlit\\runtime\\caching\\cache_data_api.py:32\u001b[0m\n\u001b[0;32m     30\u001b[0m \u001b[38;5;28;01mfrom\u001b[39;00m \u001b[38;5;21;01mstreamlit\u001b[39;00m\u001b[38;5;21;01m.\u001b[39;00m\u001b[38;5;21;01merrors\u001b[39;00m \u001b[38;5;28;01mimport\u001b[39;00m StreamlitAPIException\n\u001b[0;32m     31\u001b[0m \u001b[38;5;28;01mfrom\u001b[39;00m \u001b[38;5;21;01mstreamlit\u001b[39;00m\u001b[38;5;21;01m.\u001b[39;00m\u001b[38;5;21;01mlogger\u001b[39;00m \u001b[38;5;28;01mimport\u001b[39;00m get_logger\n\u001b[1;32m---> 32\u001b[0m \u001b[38;5;28;01mfrom\u001b[39;00m \u001b[38;5;21;01mstreamlit\u001b[39;00m\u001b[38;5;21;01m.\u001b[39;00m\u001b[38;5;21;01mruntime\u001b[39;00m\u001b[38;5;21;01m.\u001b[39;00m\u001b[38;5;21;01mcaching\u001b[39;00m\u001b[38;5;21;01m.\u001b[39;00m\u001b[38;5;21;01mcache_errors\u001b[39;00m \u001b[38;5;28;01mimport\u001b[39;00m CacheError, CacheKeyNotFoundError\n\u001b[0;32m     33\u001b[0m \u001b[38;5;28;01mfrom\u001b[39;00m \u001b[38;5;21;01mstreamlit\u001b[39;00m\u001b[38;5;21;01m.\u001b[39;00m\u001b[38;5;21;01mruntime\u001b[39;00m\u001b[38;5;21;01m.\u001b[39;00m\u001b[38;5;21;01mcaching\u001b[39;00m\u001b[38;5;21;01m.\u001b[39;00m\u001b[38;5;21;01mcache_type\u001b[39;00m \u001b[38;5;28;01mimport\u001b[39;00m CacheType\n\u001b[0;32m     34\u001b[0m \u001b[38;5;28;01mfrom\u001b[39;00m \u001b[38;5;21;01mstreamlit\u001b[39;00m\u001b[38;5;21;01m.\u001b[39;00m\u001b[38;5;21;01mruntime\u001b[39;00m\u001b[38;5;21;01m.\u001b[39;00m\u001b[38;5;21;01mcaching\u001b[39;00m\u001b[38;5;21;01m.\u001b[39;00m\u001b[38;5;21;01mcache_utils\u001b[39;00m \u001b[38;5;28;01mimport\u001b[39;00m (\n\u001b[0;32m     35\u001b[0m     Cache,\n\u001b[0;32m     36\u001b[0m     CachedFuncInfo,\n\u001b[0;32m     37\u001b[0m     make_cached_func_wrapper,\n\u001b[0;32m     38\u001b[0m     ttl_to_seconds,\n\u001b[0;32m     39\u001b[0m )\n",
      "File \u001b[1;32m~\\anaconda3\\envs\\jupyterlab\\Lib\\site-packages\\streamlit\\runtime\\caching\\cache_errors.py:18\u001b[0m\n\u001b[0;32m     15\u001b[0m \u001b[38;5;28;01mimport\u001b[39;00m \u001b[38;5;21;01mtypes\u001b[39;00m\n\u001b[0;32m     16\u001b[0m \u001b[38;5;28;01mfrom\u001b[39;00m \u001b[38;5;21;01mtyping\u001b[39;00m \u001b[38;5;28;01mimport\u001b[39;00m Any, Optional\n\u001b[1;32m---> 18\u001b[0m \u001b[38;5;28;01mfrom\u001b[39;00m \u001b[38;5;21;01mstreamlit\u001b[39;00m \u001b[38;5;28;01mimport\u001b[39;00m type_util\n\u001b[0;32m     19\u001b[0m \u001b[38;5;28;01mfrom\u001b[39;00m \u001b[38;5;21;01mstreamlit\u001b[39;00m\u001b[38;5;21;01m.\u001b[39;00m\u001b[38;5;21;01merrors\u001b[39;00m \u001b[38;5;28;01mimport\u001b[39;00m (\n\u001b[0;32m     20\u001b[0m     MarkdownFormattedException,\n\u001b[0;32m     21\u001b[0m     StreamlitAPIException,\n\u001b[0;32m     22\u001b[0m     StreamlitAPIWarning,\n\u001b[0;32m     23\u001b[0m )\n\u001b[0;32m     24\u001b[0m \u001b[38;5;28;01mfrom\u001b[39;00m \u001b[38;5;21;01mstreamlit\u001b[39;00m\u001b[38;5;21;01m.\u001b[39;00m\u001b[38;5;21;01mruntime\u001b[39;00m\u001b[38;5;21;01m.\u001b[39;00m\u001b[38;5;21;01mcaching\u001b[39;00m\u001b[38;5;21;01m.\u001b[39;00m\u001b[38;5;21;01mcache_type\u001b[39;00m \u001b[38;5;28;01mimport\u001b[39;00m CacheType, get_decorator_api_name\n",
      "File \u001b[1;32m~\\anaconda3\\envs\\jupyterlab\\Lib\\site-packages\\streamlit\\type_util.py:42\u001b[0m\n\u001b[0;32m     24\u001b[0m \u001b[38;5;28;01mfrom\u001b[39;00m \u001b[38;5;21;01mtyping\u001b[39;00m \u001b[38;5;28;01mimport\u001b[39;00m (\n\u001b[0;32m     25\u001b[0m     TYPE_CHECKING,\n\u001b[0;32m     26\u001b[0m     Any,\n\u001b[1;32m   (...)\u001b[0m\n\u001b[0;32m     38\u001b[0m     overload,\n\u001b[0;32m     39\u001b[0m )\n\u001b[0;32m     41\u001b[0m \u001b[38;5;28;01mimport\u001b[39;00m \u001b[38;5;21;01mnumpy\u001b[39;00m \u001b[38;5;28;01mas\u001b[39;00m \u001b[38;5;21;01mnp\u001b[39;00m\n\u001b[1;32m---> 42\u001b[0m \u001b[38;5;28;01mimport\u001b[39;00m \u001b[38;5;21;01mpyarrow\u001b[39;00m \u001b[38;5;28;01mas\u001b[39;00m \u001b[38;5;21;01mpa\u001b[39;00m\n\u001b[0;32m     43\u001b[0m \u001b[38;5;28;01mfrom\u001b[39;00m \u001b[38;5;21;01mpandas\u001b[39;00m \u001b[38;5;28;01mimport\u001b[39;00m DataFrame, Index, MultiIndex, Series\n\u001b[0;32m     44\u001b[0m \u001b[38;5;28;01mfrom\u001b[39;00m \u001b[38;5;21;01mpandas\u001b[39;00m\u001b[38;5;21;01m.\u001b[39;00m\u001b[38;5;21;01mapi\u001b[39;00m\u001b[38;5;21;01m.\u001b[39;00m\u001b[38;5;21;01mtypes\u001b[39;00m \u001b[38;5;28;01mimport\u001b[39;00m infer_dtype, is_dict_like, is_list_like\n",
      "File \u001b[1;32m~\\anaconda3\\envs\\jupyterlab\\Lib\\site-packages\\pyarrow\\__init__.py:65\u001b[0m\n\u001b[0;32m     63\u001b[0m _gc_enabled \u001b[38;5;241m=\u001b[39m _gc\u001b[38;5;241m.\u001b[39misenabled()\n\u001b[0;32m     64\u001b[0m _gc\u001b[38;5;241m.\u001b[39mdisable()\n\u001b[1;32m---> 65\u001b[0m \u001b[38;5;28;01mimport\u001b[39;00m \u001b[38;5;21;01mpyarrow\u001b[39;00m\u001b[38;5;21;01m.\u001b[39;00m\u001b[38;5;21;01mlib\u001b[39;00m \u001b[38;5;28;01mas\u001b[39;00m \u001b[38;5;21;01m_lib\u001b[39;00m\n\u001b[0;32m     66\u001b[0m \u001b[38;5;28;01mif\u001b[39;00m _gc_enabled:\n\u001b[0;32m     67\u001b[0m     _gc\u001b[38;5;241m.\u001b[39menable()\n",
      "\u001b[1;31mImportError\u001b[0m: DLL load failed while importing lib: The specified procedure could not be found."
     ]
    }
   ],
>>>>>>> christina
   "source": [
    "import streamlit as st\n",
    "import pandas as pd\n",
    "\n",
    "# Example model and prediction data\n",
    "models = ['LR', 'knn', 'Ada Boost', 'Gaussian', 'Stochastic Gradient Descent', 'xgb_model1', 'Decision Tree', 'SGD_model', 'voting_classifier']\n",
    "y_pred1 = LR.predict(X_val)\n",
    "y_pred2 = knn.predict(X_val)\n",
    "y_pred3 = AB_CLF.predict(X_val)\n",
    "y_pred4 = Gaussian.predict(X_val)\n",
    "y_pred5 = SG_PIP_CLF.predict(X_val)\n",
    "y_pred6 = xgb_model1.predict(X_val)\n",
    "y_pred7 = dt_model.predict(X_val)\n",
    "y_pred8 = SGD_model.predict(X_val)\n",
    "y_pred9 = voting_classifer.predict(X_val)  \n",
    "\n",
    "y_true = y_val  # True labels\n",
    "\n",
    "# Calculate evaluation metrics\n",
    "from sklearn.metrics import accuracy_score, precision_score, recall_score, f1_score\n",
    "\n",
    "metrics = {\n",
    "    'Models': models,  # Add the 'models' list as a column\n",
    "    'Accuracy': [accuracy_score(y_true, y_pred1), accuracy_score(y_true, y_pred2), accuracy_score(y_true, y_pred3),\n",
    "                 accuracy_score(y_true, y_pred4), accuracy_score(y_true, y_pred5), accuracy_score(y_true, y_pred6),\n",
    "                 accuracy_score(y_true, y_pred7), accuracy_score(y_true, y_pred8), accuracy_score(y_true, y_pred9)],\n",
    "    \n",
    "    'Precision': [precision_score(y_true, y_pred1), precision_score(y_true, y_pred2), precision_score(y_true, y_pred3),\n",
    "                  precision_score(y_true, y_pred4), precision_score(y_true, y_pred5), precision_score(y_true, y_pred6),\n",
    "                  precision_score(y_true, y_pred7), precision_score(y_true, y_pred8), precision_score(y_true, y_pred9)],\n",
    "    \n",
    "    'Recall': [recall_score(y_true, y_pred1), recall_score(y_true, y_pred2), recall_score(y_true, y_pred3),\n",
    "               recall_score(y_true, y_pred4), recall_score(y_true, y_pred5), recall_score(y_true, y_pred6),\n",
    "               recall_score(y_true, y_pred7), recall_score(y_true, y_pred8), recall_score(y_true, y_pred9)],\n",
    "    \n",
    "    'F1 Score': [f1_score(y_true, y_pred1), f1_score(y_true, y_pred2), f1_score(y_true, y_pred3),\n",
    "                 f1_score(y_true, y_pred4), f1_score(y_true, y_pred5), f1_score(y_true, y_pred6),\n",
    "                 f1_score(y_true, y_pred7), f1_score(y_true, y_pred8), f1_score(y_true, y_pred9)]\n",
    "}\n",
    "\n",
    "# Create a DataFrame\n",
    "df = pd.DataFrame(metrics)\n",
    "\n",
    "# Display the DataFrame\n",
    "print(df)\n"
   ]
  },
  {
   "cell_type": "code",
   "execution_count": null,
   "id": "08378c0d-8765-4e04-8f8e-cc973670428b",
   "metadata": {},
   "outputs": [],
   "source": [
    "# Save to CSV with the index column\n",
    "df.to_csv('model_comparison.csv', index=False)"
   ]
  },
  {
   "cell_type": "markdown",
   "id": "2d58cd75-d9d9-4ba6-ae82-7187ebc20d05",
   "metadata": {},
   "source": [
    "# AWI - AOD"
   ]
  },
  {
   "cell_type": "markdown",
   "id": "7cbcf50d-4e52-4ce8-bd20-fd17ddd1a105",
   "metadata": {},
   "source": [
    "Rättvisa mätvärden:\n",
    "Studien introducerar ett nytt rättvisemått som kallas \"alternate world index (AWI)\" för att utvärdera rättvisa för data med flera känsliga parametrar och alternativ.\n",
    "AWI kvantifierar de partiska förutsägelserna inom en datauppsättning med hjälp av kontrafakta.\n",
    "Dessutom använder studien \"average odds difference (AOD)\" som en jämförelsemetod för rättvisa utvärdering.\n",
    "AOD mäter den genomsnittliga skillnaden mellan falska positiva siffror och sanna positiva siffror för oprivilegierade och privilegierade grupper."
   ]
<<<<<<< HEAD
=======
  },
  {
   "cell_type": "code",
   "execution_count": 50,
   "id": "2ee9f790-bafa-4534-9f9d-703ea317a357",
   "metadata": {},
   "outputs": [
    {
     "ename": "NameError",
     "evalue": "name 'y_pred6' is not defined",
     "output_type": "error",
     "traceback": [
      "\u001b[1;31m---------------------------------------------------------------------------\u001b[0m",
      "\u001b[1;31mNameError\u001b[0m                                 Traceback (most recent call last)",
      "Cell \u001b[1;32mIn[50], line 24\u001b[0m\n\u001b[0;32m     21\u001b[0m     \u001b[38;5;28;01mreturn\u001b[39;00m aod\n\u001b[0;32m     23\u001b[0m \u001b[38;5;66;03m# Calculate AWI and AOD\u001b[39;00m\n\u001b[1;32m---> 24\u001b[0m awi \u001b[38;5;241m=\u001b[39m calculate_AWI(y_true, \u001b[43my_pred6\u001b[49m, sensitive_group)\n\u001b[0;32m     25\u001b[0m aod \u001b[38;5;241m=\u001b[39m calculate_AOD(y_true, y_pred6, sensitive_group)\n\u001b[0;32m     27\u001b[0m \u001b[38;5;66;03m# Evaluate fairness based on your criteria\u001b[39;00m\n",
      "\u001b[1;31mNameError\u001b[0m: name 'y_pred6' is not defined"
     ]
    }
   ],
   "source": [
    "from sklearn.metrics import average_precision_score, roc_auc_score\n",
    "\n",
    "y_true = y_val  # True labels\n",
    "\n",
    "def calculate_AWI(y_true, y_pred, sensitive_group):\n",
    "    mask = sensitive_group == 1 # Identify unprivileged group\n",
    "    prob_unprivileged = y_pred[mask]\n",
    "    prob_privileged = y_pred[~mask]\n",
    "\n",
    "    awi = (average_precision_score(y_true[mask], prob_unprivileged) - average_precision_score(y_true[~mask], prob_privileged))\n",
    "    return awi\n",
    "\n",
    "def calculate_AOD(y_true, y_pred, sensitive_group):\n",
    "    mask = sensitivegroup == 1 # Identify unprivileged group\n",
    "    fpr_unprivileged, tpr_unprivileged, = roc_curve(y_true[mask], y_pred[mask])\n",
    "    fpr_privileged, tpr_privileged, = roc_curve(y_true[~mask], y_pred[~mask])\n",
    "\n",
    "    aod = (abs(fpr_unprivileged - fpr_privileged).mean() +\n",
    "    abs(tpr_unprivileged - tpr_privileged).mean()) / 2\n",
    "\n",
    "    return aod\n",
    "\n",
    "# Calculate AWI and AOD\n",
    "awi = calculate_AWI(y_true, y_pred6, sensitive_group)\n",
    "aod = calculate_AOD(y_true, y_pred6, sensitive_group)\n",
    "\n",
    "# Evaluate fairness based on your criteria\n",
    "\n",
    "if awi < threshold_AWI and aod < threshold_AOD:\n",
    "    print(\"The model is considered fair.\")\n",
    "else:\n",
    "    print(\"The model may have fairness issues and requires further examination or bias mitigation.\")"
   ]
>>>>>>> christina
  },
  {
   "cell_type": "code",
   "execution_count": null,
   "id": "7b7df6dc-3d27-4867-bff5-b318ff707d30",
   "metadata": {},
   "outputs": [],
   "source": [
    "from sklearn.metrics import average_precision_score, roc_auc_score\n",
    "\n",
    "y_true = y_val  # True labels\n",
    "\n",
    "def calculate_AWI(y_true, y_pred, sensitive_group):\n",
    "    mask = sensitive_group == 1 # Identify unprivileged group\n",
    "    prob_unprivileged = y_pred[mask]\n",
    "    prob_privileged = y_pred[~mask]\n",
    "\n",
    "    awi = (average_precision_score(y_true[mask], prob_unprivileged) - average_precision_score(y_true[~mask], prob_privileged))\n",
    "    return awi\n",
    "\n",
    "def calculate_AOD(y_true, y_pred, sensitive_group):\n",
    "    mask = sensitivegroup == 1 # Identify unprivileged group\n",
    "    fpr_unprivileged, tpr_unprivileged, = roc_curve(y_true[mask], y_pred[mask])\n",
    "    fpr_privileged, tpr_privileged, = roc_curve(y_true[~mask], y_pred[~mask])\n",
    "\n",
    "    aod = (abs(fpr_unprivileged - fpr_privileged).mean() +\n",
    "    abs(tpr_unprivileged - tpr_privileged).mean()) / 2\n",
    "\n",
    "    return aod\n",
    "\n",
    "# Calculate AWI and AOD\n",
    "awi = calculate_AWI(y_true, y_pred6, sensitive_group)\n",
    "aod = calculate_AOD(y_true, y_pred6, sensitive_group)\n",
    "\n",
    "# Evaluate fairness based on your criteria\n",
    "\n",
    "if awi < threshold_AWI and aod < threshold_AOD:\n",
    "    print(\"The model is considered fair.\")\n",
    "else:\n",
    "    print(\"The model may have fairness issues and requires further examination or bias mitigation.\")"
   ]
  },
  {
   "cell_type": "code",
   "execution_count": null,
   "id": "7b7df6dc-3d27-4867-bff5-b318ff707d30",
   "metadata": {},
   "outputs": [],
   "source": []
  }
 ],
 "metadata": {
  "kernelspec": {
   "display_name": "Python 3 (ipykernel)",
   "language": "python",
   "name": "python3"
  },
  "language_info": {
   "codemirror_mode": {
    "name": "ipython",
    "version": 3
   },
   "file_extension": ".py",
   "mimetype": "text/x-python",
   "name": "python",
   "nbconvert_exporter": "python",
   "pygments_lexer": "ipython3",
   "version": "3.11.5"
  }
 },
 "nbformat": 4,
 "nbformat_minor": 5
}
