{
 "cells": [
  {
   "cell_type": "code",
   "execution_count": 1,
   "id": "e2124416-86de-4f7b-84d6-9cb6b3a5b458",
   "metadata": {
    "tags": []
   },
   "outputs": [],
   "source": [
    "import warnings\n",
    "import numpy as np\n",
    "import pandas as pd\n",
    "import seaborn as sns\n",
    "import matplotlib.pyplot as plt\n",
    "import seaborn as sns\n",
    "\n",
    "from itertools import product\n",
    "import matplotlib.pyplot as plt"
   ]
  },
  {
   "cell_type": "code",
   "execution_count": 2,
   "id": "b29bb4f9-9d5d-420f-aa81-b8a75ae2b830",
   "metadata": {},
   "outputs": [],
   "source": [
    "# load dataset 2"
   ]
  },
  {
   "cell_type": "code",
   "execution_count": 3,
   "id": "344b4a95-526c-4ce5-a2b3-7aea0acac080",
   "metadata": {
    "tags": []
   },
   "outputs": [
    {
     "name": "stdout",
     "output_type": "stream",
     "text": [
      "<class 'pandas.core.frame.DataFrame'>\n",
      "RangeIndex: 176927 entries, 0 to 176926\n",
      "Data columns (total 35 columns):\n",
      " #   Column                                    Non-Null Count   Dtype  \n",
      "---  ------                                    --------------   -----  \n",
      " 0   census_tract                              176653 non-null  float64\n",
      " 1   action_taken                              176927 non-null  int64  \n",
      " 2   loan_type                                 176927 non-null  int64  \n",
      " 3   lien_status                               176927 non-null  int64  \n",
      " 4   reverse_mortgage                          176927 non-null  int64  \n",
      " 5   open_end_line_of_credit                   176927 non-null  int64  \n",
      " 6   loan_amount                               176927 non-null  int64  \n",
      " 7   combined_loan_to_value_ratio              174421 non-null  object \n",
      " 8   interest_rate                             88348 non-null   object \n",
      " 9   total_loan_costs                          88348 non-null   object \n",
      " 10  origination_charges                       88348 non-null   object \n",
      " 11  loan_term                                 176859 non-null  object \n",
      " 12  negative_amortization                     176927 non-null  int64  \n",
      " 13  interest_only_payment                     176927 non-null  int64  \n",
      " 14  balloon_payment                           176927 non-null  int64  \n",
      " 15  other_nonamortizing_features              176927 non-null  int64  \n",
      " 16  property_value                            175868 non-null  object \n",
      " 17  occupancy_type                            176927 non-null  int64  \n",
      " 18  manufactured_home_secured_property_type   176927 non-null  int64  \n",
      " 19  manufactured_home_land_property_interest  176927 non-null  int64  \n",
      " 20  total_units                               176927 non-null  object \n",
      " 21  income                                    170514 non-null  float64\n",
      " 22  debt_to_income_ratio                      174480 non-null  object \n",
      " 23  applicant_credit_score_type               176927 non-null  int64  \n",
      " 24  co_applicant_credit_score_type            176927 non-null  int64  \n",
      " 25  applicant_ethnicity_1                     176000 non-null  float64\n",
      " 26  co_applicant_ethnicity_1                  176610 non-null  float64\n",
      " 27  applicant_race_1                          176621 non-null  float64\n",
      " 28  applicant_race_2                          9692 non-null    float64\n",
      " 29  co_applicant_race_1                       176828 non-null  float64\n",
      " 30  co_applicant_race_2                       4397 non-null    float64\n",
      " 31  applicant_sex                             176927 non-null  int64  \n",
      " 32  co_applicant_sex                          176927 non-null  int64  \n",
      " 33  applicant_age                             176927 non-null  object \n",
      " 34  co_applicant_age                          176927 non-null  object \n",
      "dtypes: float64(8), int64(17), object(10)\n",
      "memory usage: 47.2+ MB\n"
     ]
    },
    {
     "data": {
      "text/html": [
       "<div>\n",
       "<style scoped>\n",
       "    .dataframe tbody tr th:only-of-type {\n",
       "        vertical-align: middle;\n",
       "    }\n",
       "\n",
       "    .dataframe tbody tr th {\n",
       "        vertical-align: top;\n",
       "    }\n",
       "\n",
       "    .dataframe thead th {\n",
       "        text-align: right;\n",
       "    }\n",
       "</style>\n",
       "<table border=\"1\" class=\"dataframe\">\n",
       "  <thead>\n",
       "    <tr style=\"text-align: right;\">\n",
       "      <th></th>\n",
       "      <th>census_tract</th>\n",
       "      <th>action_taken</th>\n",
       "      <th>loan_type</th>\n",
       "      <th>lien_status</th>\n",
       "      <th>reverse_mortgage</th>\n",
       "      <th>open_end_line_of_credit</th>\n",
       "      <th>loan_amount</th>\n",
       "      <th>combined_loan_to_value_ratio</th>\n",
       "      <th>interest_rate</th>\n",
       "      <th>total_loan_costs</th>\n",
       "      <th>...</th>\n",
       "      <th>applicant_ethnicity_1</th>\n",
       "      <th>co_applicant_ethnicity_1</th>\n",
       "      <th>applicant_race_1</th>\n",
       "      <th>applicant_race_2</th>\n",
       "      <th>co_applicant_race_1</th>\n",
       "      <th>co_applicant_race_2</th>\n",
       "      <th>applicant_sex</th>\n",
       "      <th>co_applicant_sex</th>\n",
       "      <th>applicant_age</th>\n",
       "      <th>co_applicant_age</th>\n",
       "    </tr>\n",
       "  </thead>\n",
       "  <tbody>\n",
       "    <tr>\n",
       "      <th>0</th>\n",
       "      <td>9.003416e+09</td>\n",
       "      <td>3</td>\n",
       "      <td>2</td>\n",
       "      <td>1</td>\n",
       "      <td>2</td>\n",
       "      <td>2</td>\n",
       "      <td>115000</td>\n",
       "      <td>98.188</td>\n",
       "      <td>NaN</td>\n",
       "      <td>NaN</td>\n",
       "      <td>...</td>\n",
       "      <td>2.0</td>\n",
       "      <td>5.0</td>\n",
       "      <td>3.0</td>\n",
       "      <td>NaN</td>\n",
       "      <td>8.0</td>\n",
       "      <td>NaN</td>\n",
       "      <td>1</td>\n",
       "      <td>5</td>\n",
       "      <td>35-44</td>\n",
       "      <td>9999</td>\n",
       "    </tr>\n",
       "    <tr>\n",
       "      <th>1</th>\n",
       "      <td>4.201710e+10</td>\n",
       "      <td>3</td>\n",
       "      <td>3</td>\n",
       "      <td>1</td>\n",
       "      <td>2</td>\n",
       "      <td>2</td>\n",
       "      <td>205000</td>\n",
       "      <td>110.256</td>\n",
       "      <td>NaN</td>\n",
       "      <td>NaN</td>\n",
       "      <td>...</td>\n",
       "      <td>2.0</td>\n",
       "      <td>2.0</td>\n",
       "      <td>5.0</td>\n",
       "      <td>NaN</td>\n",
       "      <td>5.0</td>\n",
       "      <td>NaN</td>\n",
       "      <td>1</td>\n",
       "      <td>2</td>\n",
       "      <td>&gt;74</td>\n",
       "      <td>65-74</td>\n",
       "    </tr>\n",
       "    <tr>\n",
       "      <th>2</th>\n",
       "      <td>3.401700e+10</td>\n",
       "      <td>3</td>\n",
       "      <td>1</td>\n",
       "      <td>1</td>\n",
       "      <td>2</td>\n",
       "      <td>2</td>\n",
       "      <td>205000</td>\n",
       "      <td>59.629</td>\n",
       "      <td>NaN</td>\n",
       "      <td>NaN</td>\n",
       "      <td>...</td>\n",
       "      <td>2.0</td>\n",
       "      <td>5.0</td>\n",
       "      <td>3.0</td>\n",
       "      <td>NaN</td>\n",
       "      <td>8.0</td>\n",
       "      <td>NaN</td>\n",
       "      <td>1</td>\n",
       "      <td>5</td>\n",
       "      <td>35-44</td>\n",
       "      <td>9999</td>\n",
       "    </tr>\n",
       "    <tr>\n",
       "      <th>3</th>\n",
       "      <td>6.065043e+09</td>\n",
       "      <td>3</td>\n",
       "      <td>1</td>\n",
       "      <td>1</td>\n",
       "      <td>2</td>\n",
       "      <td>2</td>\n",
       "      <td>155000</td>\n",
       "      <td>64.99</td>\n",
       "      <td>NaN</td>\n",
       "      <td>NaN</td>\n",
       "      <td>...</td>\n",
       "      <td>2.0</td>\n",
       "      <td>5.0</td>\n",
       "      <td>5.0</td>\n",
       "      <td>NaN</td>\n",
       "      <td>8.0</td>\n",
       "      <td>NaN</td>\n",
       "      <td>2</td>\n",
       "      <td>5</td>\n",
       "      <td>65-74</td>\n",
       "      <td>9999</td>\n",
       "    </tr>\n",
       "    <tr>\n",
       "      <th>4</th>\n",
       "      <td>3.711901e+10</td>\n",
       "      <td>3</td>\n",
       "      <td>1</td>\n",
       "      <td>1</td>\n",
       "      <td>2</td>\n",
       "      <td>2</td>\n",
       "      <td>255000</td>\n",
       "      <td>70.0</td>\n",
       "      <td>NaN</td>\n",
       "      <td>NaN</td>\n",
       "      <td>...</td>\n",
       "      <td>2.0</td>\n",
       "      <td>5.0</td>\n",
       "      <td>3.0</td>\n",
       "      <td>NaN</td>\n",
       "      <td>8.0</td>\n",
       "      <td>NaN</td>\n",
       "      <td>2</td>\n",
       "      <td>5</td>\n",
       "      <td>55-64</td>\n",
       "      <td>9999</td>\n",
       "    </tr>\n",
       "  </tbody>\n",
       "</table>\n",
       "<p>5 rows × 35 columns</p>\n",
       "</div>"
      ],
      "text/plain": [
       "   census_tract  action_taken  loan_type  lien_status  reverse_mortgage  \\\n",
       "0  9.003416e+09             3          2            1                 2   \n",
       "1  4.201710e+10             3          3            1                 2   \n",
       "2  3.401700e+10             3          1            1                 2   \n",
       "3  6.065043e+09             3          1            1                 2   \n",
       "4  3.711901e+10             3          1            1                 2   \n",
       "\n",
       "   open_end_line_of_credit  loan_amount combined_loan_to_value_ratio  \\\n",
       "0                        2       115000                       98.188   \n",
       "1                        2       205000                      110.256   \n",
       "2                        2       205000                       59.629   \n",
       "3                        2       155000                        64.99   \n",
       "4                        2       255000                         70.0   \n",
       "\n",
       "  interest_rate total_loan_costs  ... applicant_ethnicity_1  \\\n",
       "0           NaN              NaN  ...                   2.0   \n",
       "1           NaN              NaN  ...                   2.0   \n",
       "2           NaN              NaN  ...                   2.0   \n",
       "3           NaN              NaN  ...                   2.0   \n",
       "4           NaN              NaN  ...                   2.0   \n",
       "\n",
       "  co_applicant_ethnicity_1  applicant_race_1  applicant_race_2  \\\n",
       "0                      5.0               3.0               NaN   \n",
       "1                      2.0               5.0               NaN   \n",
       "2                      5.0               3.0               NaN   \n",
       "3                      5.0               5.0               NaN   \n",
       "4                      5.0               3.0               NaN   \n",
       "\n",
       "   co_applicant_race_1  co_applicant_race_2 applicant_sex  co_applicant_sex  \\\n",
       "0                  8.0                  NaN             1                 5   \n",
       "1                  5.0                  NaN             1                 2   \n",
       "2                  8.0                  NaN             1                 5   \n",
       "3                  8.0                  NaN             2                 5   \n",
       "4                  8.0                  NaN             2                 5   \n",
       "\n",
       "   applicant_age  co_applicant_age  \n",
       "0          35-44              9999  \n",
       "1            >74             65-74  \n",
       "2          35-44              9999  \n",
       "3          65-74              9999  \n",
       "4          55-64              9999  \n",
       "\n",
       "[5 rows x 35 columns]"
      ]
     },
     "execution_count": 3,
     "metadata": {},
     "output_type": "execute_result"
    }
   ],
   "source": [
    "df = pd.read_csv('2_distribution_applicant_sex_and_action_taken.csv', low_memory=False)\n",
    "df.info()\n",
    "df.head()"
   ]
  },
  {
   "cell_type": "markdown",
   "id": "86696652-483d-4d88-a977-607ef7d42fab",
   "metadata": {
    "tags": []
   },
   "source": [
    "# 3 ethnicity and race distribution"
   ]
  },
  {
   "cell_type": "markdown",
   "id": "367fee5e-5edc-4d7b-95ed-da65165f996b",
   "metadata": {},
   "source": [
    "## All the race and ethnicity columns we want\n",
    "\n",
    "applicant_ethnicity_1                     \n",
    "                 \n",
    "co_applicant_ethnicity_1 \n",
    "\n",
    "applicant_race_1                          \n",
    "applicant_race_2                         \n",
    "\n",
    "co_applicant_race_1                      \n",
    "co_applicant_race_2                      "
   ]
  },
  {
   "cell_type": "markdown",
   "id": "7d658ca1-cbe0-412d-bb69-f752ec41282f",
   "metadata": {},
   "source": [
    "## Columns we use for the model"
   ]
  },
  {
   "cell_type": "code",
   "execution_count": 4,
   "id": "b8ff3d6d-0420-4308-a90b-a99644725dd0",
   "metadata": {},
   "outputs": [],
   "source": [
    "columns_of_interest = ['applicant_ethnicity_1', 'co_applicant_ethnicity_1', 'applicant_race_1', 'applicant_race_2', 'co_applicant_race_1', 'co_applicant_race_2']"
   ]
  },
  {
   "cell_type": "code",
   "execution_count": 5,
   "id": "a35f4109-02b5-4239-947e-46cd7bce8677",
   "metadata": {
    "tags": []
   },
   "outputs": [
    {
     "name": "stdout",
     "output_type": "stream",
     "text": [
      "<class 'pandas.core.frame.DataFrame'>\n",
      "RangeIndex: 176927 entries, 0 to 176926\n",
      "Data columns (total 6 columns):\n",
      " #   Column                    Non-Null Count   Dtype  \n",
      "---  ------                    --------------   -----  \n",
      " 0   applicant_ethnicity_1     176000 non-null  float64\n",
      " 1   co_applicant_ethnicity_1  176610 non-null  float64\n",
      " 2   applicant_race_1          176621 non-null  float64\n",
      " 3   applicant_race_2          9692 non-null    float64\n",
      " 4   co_applicant_race_1       176828 non-null  float64\n",
      " 5   co_applicant_race_2       4397 non-null    float64\n",
      "dtypes: float64(6)\n",
      "memory usage: 8.1 MB\n",
      "None\n"
     ]
    }
   ],
   "source": [
    "info_df = df[columns_of_interest]\n",
    "print(info_df.info())"
   ]
  },
  {
   "cell_type": "markdown",
   "id": "2cbbe9a6-3ef6-43a1-b48f-e0d395c9fd1b",
   "metadata": {},
   "source": [
    "# Race"
   ]
  },
  {
   "cell_type": "markdown",
   "id": "b9921ae4-2095-410a-98d1-72eef3db22b2",
   "metadata": {
    "tags": []
   },
   "source": [
    "Values:\n",
    "- 1 - American Indian or Alaska Native\n",
    "- 2 - Asian\n",
    "- 21 - Asian Indian\n",
    "- 22 - Chinese\n",
    "- 23 - Filipino\n",
    "- 24 - Japanese\n",
    "- 25 - Korean\n",
    "- 26 - Vietnamese\n",
    "- 27 - Other Asian\n",
    "- 3 - Black or African American\n",
    "- 4 - Native Hawaiian or Other Pacific Islander\n",
    "- 41 - Native Hawaiian\n",
    "- 42 - Guamanian or Chamorro\n",
    "- 43 - Samoan\n",
    "- 44 - Other Pacific Islander\n",
    "- 5 - White\n",
    "- 6 - Information not provided by applicant in mail, internet, or telephone application\n",
    "- 7 - Not applicable"
   ]
  },
  {
   "cell_type": "markdown",
   "id": "91be669b-178a-4a9a-82d3-724f73a1281f",
   "metadata": {},
   "source": [
    "### We only want 5 - White and 3 - Black or African American"
   ]
  },
  {
   "cell_type": "code",
   "execution_count": 6,
   "id": "8d2d1ced-16d7-49c2-baff-b1b41dea44ab",
   "metadata": {
    "tags": []
   },
   "outputs": [],
   "source": [
    "# Columns of interest\n",
    "columns_of_race = ['applicant_race_1', 'applicant_race_2', 'co_applicant_race_1', 'co_applicant_race_2']"
   ]
  },
  {
   "cell_type": "markdown",
   "id": "1983efe3-f434-422a-9bcd-cf65d84dce8f",
   "metadata": {},
   "source": [
    "# Ethnicity"
   ]
  },
  {
   "cell_type": "markdown",
   "id": "d4d661e2-8f57-4de3-84d1-43cd56a77269",
   "metadata": {},
   "source": [
    "Values:\n",
    "- 1 - Hispanic or Latino\n",
    "- 11 - Mexican\n",
    "- 12 - Puerto Rican\n",
    "- 13 - Cuban\n",
    "- 14 - Other Hispanic or Latino\n",
    "- 2 - Not Hispanic or Latino\n",
    "- 3 - Information not provided by applicant in mail, internet, or telephone application\n",
    "- 4 - Not applicable"
   ]
  },
  {
   "cell_type": "markdown",
   "id": "3240327c-d49b-4611-b42c-b91edfbf03d3",
   "metadata": {},
   "source": [
    "### We only want 2 - Not Hispanic or Latino & 1 - Hispanic or Latino "
   ]
  },
  {
   "cell_type": "code",
   "execution_count": 7,
   "id": "80570578-dd9b-4b0c-9482-71ac89262919",
   "metadata": {
    "tags": []
   },
   "outputs": [],
   "source": [
    "columns_of_ethnicity = ['applicant_ethnicity_1', 'co_applicant_ethnicity_1']"
   ]
  },
  {
   "cell_type": "markdown",
   "id": "fcfbe57c-d907-4d1c-8f3f-909ea8a5661f",
   "metadata": {},
   "source": [
    "# Remove race and ethnicity"
   ]
  },
  {
   "cell_type": "code",
   "execution_count": 8,
   "id": "e19ff941-790a-4f11-9fff-b58ec5585740",
   "metadata": {
    "tags": []
   },
   "outputs": [
    {
     "data": {
      "text/plain": [
       "applicant_race_1\n",
       "5.0     122563\n",
       "6.0      22790\n",
       "3.0      13796\n",
       "2.0      10846\n",
       "21.0      1850\n",
       "1.0       1794\n",
       "22.0       662\n",
       "23.0       530\n",
       "27.0       437\n",
       "26.0       311\n",
       "4.0        295\n",
       "25.0       226\n",
       "7.0        209\n",
       "44.0       175\n",
       "24.0        87\n",
       "42.0        19\n",
       "41.0        19\n",
       "43.0        12\n",
       "Name: count, dtype: int64"
      ]
     },
     "execution_count": 8,
     "metadata": {},
     "output_type": "execute_result"
    }
   ],
   "source": [
    "df['applicant_race_1'].value_counts()"
   ]
  },
  {
   "cell_type": "code",
   "execution_count": 9,
   "id": "94f68055-3f7f-4440-97db-bdcc6a5ba3c2",
   "metadata": {
    "tags": []
   },
   "outputs": [
    {
     "name": "stdout",
     "output_type": "stream",
     "text": [
      "Value counts for race after filtering:\n",
      "applicant_race_1\n",
      "5.0    52523\n",
      "3.0     3111\n",
      "Name: count, dtype: int64\n",
      "co_applicant_race_1\n",
      "5.0    52548\n",
      "3.0     3086\n",
      "Name: count, dtype: int64\n",
      "applicant_race_2\n",
      "5.0     86\n",
      "27.0    33\n",
      "23.0    30\n",
      "24.0    21\n",
      "21.0    19\n",
      "25.0    15\n",
      "22.0    13\n",
      "44.0    11\n",
      "26.0     9\n",
      "43.0     1\n",
      "41.0     1\n",
      "42.0     1\n",
      "Name: count, dtype: int64\n",
      "co_applicant_race_2\n",
      "5.0     74\n",
      "23.0    25\n",
      "24.0    22\n",
      "21.0    20\n",
      "27.0    18\n",
      "22.0    14\n",
      "26.0    10\n",
      "44.0     9\n",
      "25.0     9\n",
      "41.0     5\n",
      "1.0      3\n",
      "4.0      2\n",
      "3.0      1\n",
      "42.0     1\n",
      "Name: count, dtype: int64\n",
      "Value counts for ethnicity after filtering:\n",
      "applicant_ethnicity_1\n",
      "2.0    49528\n",
      "1.0     6106\n",
      "Name: count, dtype: int64\n",
      "co_applicant_ethnicity_1\n",
      "2.0    49251\n",
      "1.0     6383\n",
      "Name: count, dtype: int64\n"
     ]
    }
   ],
   "source": [
    "# Define the criteria for race and ethnicity\n",
    "race_criteria1 = (df['applicant_race_1'].isin([3, 5]))\n",
    "race_criteria2 = (df['co_applicant_race_1'].isin([3, 5]))\n",
    "ethnicity_criteria1 = (df['applicant_ethnicity_1'].isin([1, 2]))\n",
    "ethnicity_criteria2 = (df['co_applicant_ethnicity_1'].isin([1, 2]))\n",
    "\n",
    "# Combine the criteria using logical AND for ethnicity\n",
    "combined_criteria = race_criteria1 & ethnicity_criteria1 & race_criteria2 & ethnicity_criteria2 \n",
    "\n",
    "# Apply the combined criteria to filter the DataFrame\n",
    "filtered_df = df[combined_criteria]\n",
    "\n",
    "# Print the value counts for the filtered DataFrame\n",
    "print(\"Value counts for race after filtering:\")\n",
    "print(filtered_df['applicant_race_1'].value_counts())\n",
    "print(filtered_df['co_applicant_race_1'].value_counts())\n",
    "print(filtered_df['applicant_race_2'].value_counts())\n",
    "print(filtered_df['co_applicant_race_2'].value_counts())\n",
    "\n",
    "print(\"Value counts for ethnicity after filtering:\")\n",
    "print(filtered_df['applicant_ethnicity_1'].value_counts())\n",
    "print(filtered_df['co_applicant_ethnicity_1'].value_counts())"
   ]
  },
  {
   "cell_type": "code",
   "execution_count": 10,
   "id": "a7d41e7d-e4e5-461f-b768-9277895711fc",
   "metadata": {
    "tags": []
   },
   "outputs": [
    {
     "name": "stdout",
     "output_type": "stream",
     "text": [
      "Number of rows in the original DataFrame: 176927\n",
      "Number of rows in the filtered DataFrame: 55634\n",
      "Number of rows removed: 121293\n"
     ]
    }
   ],
   "source": [
    "# Calculate the number of rows in the original DataFrame\n",
    "original_row_count = len(df)\n",
    "\n",
    "# Calculate the number of rows in the filtered DataFrame\n",
    "filtered_row_count = len(filtered_df)\n",
    "\n",
    "# Calculate the number of rows removed\n",
    "rows_removed = original_row_count - filtered_row_count\n",
    "\n",
    "# Print the results\n",
    "print(f\"Number of rows in the original DataFrame: {original_row_count}\")\n",
    "print(f\"Number of rows in the filtered DataFrame: {filtered_row_count}\")\n",
    "print(f\"Number of rows removed: {rows_removed}\")\n"
   ]
  },
  {
   "cell_type": "code",
   "execution_count": 11,
   "id": "a3d28a48-62b1-4e1f-82c4-04964f0f22e3",
   "metadata": {},
   "outputs": [],
   "source": [
    "filtered_df.to_csv('3_distribution_race_ethnicity.csv', index=False)"
   ]
  },
  {
   "cell_type": "markdown",
   "id": "bea8c75c-8660-4f70-8de5-eeac3302eb20",
   "metadata": {},
   "source": [
    "# Visualisations"
   ]
  },
  {
   "cell_type": "code",
   "execution_count": 12,
   "id": "1b894668-4553-4f59-8bda-5aa8cfa07784",
   "metadata": {
    "tags": []
   },
   "outputs": [
    {
     "data": {
      "image/png": "[encoded data removed]",
      "text/plain": [
       "<Figure size 1000x800 with 2 Axes>"
      ]
     },
     "metadata": {},
     "output_type": "display_data"
    }
   ],
   "source": [
    "# Select the specified race columns\n",
    "selected_columns = ['applicant_race_1', 'applicant_race_2', 'co_applicant_race_1', 'co_applicant_race_2']\n",
    "selected_df = filtered_df[selected_columns]\n",
    "\n",
    "# Calculate the correlation matrix\n",
    "correlation_matrix = selected_df.corr()\n",
    "\n",
    "# Plot the heatmap\n",
    "plt.figure(figsize=(10, 8))\n",
    "sns.heatmap(correlation_matrix, annot=True, cmap='coolwarm', fmt='.2f', linewidths=0.5)\n",
    "plt.title('Correlation Heatmap of Race Columns')\n",
    "plt.show()"
   ]
  },
  {
   "cell_type": "code",
   "execution_count": 13,
   "id": "255500cb-bb13-4f22-92f4-59c7ea10dc2d",
   "metadata": {
    "tags": []
   },
   "outputs": [
    {
     "data": {
      "image/png": "[encoded data removed]",
      "text/plain": [
       "<Figure size 600x400 with 2 Axes>"
      ]
     },
     "metadata": {},
     "output_type": "display_data"
    }
   ],
   "source": [
    "# Select the specified ethnicity columns\n",
    "columns_of_ethnicity = ['applicant_ethnicity_1', 'co_applicant_ethnicity_1']\n",
    "ethnicity_df =  filtered_df[columns_of_ethnicity]\n",
    "\n",
    "# Calculate the correlation matrix\n",
    "correlation_matrix_ethnicity = ethnicity_df.corr()\n",
    "\n",
    "# Plot the heatmap for ethnicity columns\n",
    "plt.figure(figsize=(6, 4))\n",
    "sns.heatmap(correlation_matrix_ethnicity, annot=True, cmap='coolwarm', fmt='.2f', linewidths=0.5)\n",
    "plt.title('Correlation Heatmap of Ethnicity Columns')\n",
    "plt.show()"
   ]
  },
  {
   "cell_type": "code",
   "execution_count": 14,
   "id": "28c15638-87b3-4830-a182-4dfc025d30c7",
   "metadata": {},
   "outputs": [
    {
     "name": "stdout",
     "output_type": "stream",
     "text": [
      "Race Counts: [[52523, 3111], [86, 0], [52548, 3086], [74, 1]]\n",
      "Ethnicity Counts: [[49528, 6106], [49251, 6383]]\n"
     ]
    }
   ],
   "source": [
    "# Define the race and ethnicity categories\n",
    "race_categories = ['5.0', '3.0']\n",
    "ethnicity_categories = ['2.0', '1.0']\n",
    "\n",
    "# Define the columns for race and ethnicity\n",
    "race_columns = ['applicant_race_1', 'applicant_race_2', 'co_applicant_race_1', 'co_applicant_race_2']\n",
    "ethnicity_columns = ['applicant_ethnicity_1', 'co_applicant_ethnicity_1']\n",
    "\n",
    "# Initialize counts for each combination\n",
    "race_counts = [[0] * len(race_categories) for _ in range(len(race_columns))]\n",
    "ethnicity_counts = [[0] * len(ethnicity_categories) for _ in range(len(ethnicity_columns))]\n",
    "\n",
    "# Iterate through the DataFrame and count combinations\n",
    "for idx, row in filtered_df.iterrows():\n",
    "    for i, col in enumerate(race_columns):\n",
    "        race_val = str(row[col])\n",
    "        if race_val in race_categories:\n",
    "            race_counts[i][race_categories.index(race_val)] += 1\n",
    "\n",
    "    for i, col in enumerate(ethnicity_columns):\n",
    "        ethnicity_val = str(row[col])\n",
    "        if ethnicity_val in ethnicity_categories:\n",
    "            ethnicity_counts[i][ethnicity_categories.index(ethnicity_val)] += 1\n",
    "\n",
    "# Now, race_counts and ethnicity_counts have the counts for each combination\n",
    "print('Race Counts:', race_counts)\n",
    "print('Ethnicity Counts:', ethnicity_counts)\n"
   ]
  },
  {
   "cell_type": "code",
   "execution_count": 15,
   "id": "5c93df2c-a925-4ea4-a763-923217963ee1",
   "metadata": {
    "tags": []
   },
   "outputs": [
    {
     "name": "stdout",
     "output_type": "stream",
     "text": [
      "Ethnicity Counts:\n",
      "                            1.0   2.0\n",
      "ethnicity_categories                 \n",
      "applicant_ethnicity_1     49528  6106\n",
      "co_applicant_ethnicity_1  49251  6383\n"
     ]
    }
   ],
   "source": [
    "def generate_counts_table(counts, categories):\n",
    "    df = pd.DataFrame(counts, columns=['1.0', '2.0'], index=categories)\n",
    "    df.index.name = 'ethnicity_categories'\n",
    "    return df\n",
    "\n",
    "ethnicity_categories = ['applicant_ethnicity_1', 'co_applicant_ethnicity_1']\n",
    "\n",
    "# Generate and display the Ethnicity Counts table\n",
    "print('Ethnicity Counts:')\n",
    "ethnicity_table = generate_counts_table(ethnicity_counts, ethnicity_categories)\n",
    "print(ethnicity_table)"
   ]
  },
  {
   "cell_type": "code",
   "execution_count": 16,
   "id": "2fdeba2e-4f06-4882-8996-8da4d3288ecf",
   "metadata": {
    "tags": []
   },
   "outputs": [
    {
     "data": {
      "image/png": "[encoded data removed]",
      "text/plain": [
       "<Figure size 640x480 with 1 Axes>"
      ]
     },
     "metadata": {},
     "output_type": "display_data"
    }
   ],
   "source": [
    "# Plot the Ethnicity Counts on a logarithmic scale\n",
    "ethnicity_table.plot(kind='bar', stacked=True, logy=True)\n",
    "plt.xlabel('Ethnicity Categories')\n",
    "plt.ylabel('Log Counts')\n",
    "plt.title('Ethnicity Counts (log scale)')\n",
    "plt.show()"
   ]
  },
  {
   "cell_type": "code",
   "execution_count": 17,
   "id": "1ec0169c-3e7b-4d1e-bef8-b06beda057ee",
   "metadata": {
    "tags": []
   },
   "outputs": [
    {
     "name": "stdout",
     "output_type": "stream",
     "text": [
      "Race Counts:\n",
      "                       5.0   3.0\n",
      "race_categories                 \n",
      "applicant_race_1     52523  3111\n",
      "applicant_race_2        86     0\n",
      "co_applicant_race_1  52548  3086\n",
      "co_applicant_race_2     74     1\n"
     ]
    }
   ],
   "source": [
    "import pandas as pd\n",
    "\n",
    "def generate_counts_table(counts, categories):\n",
    "    df = pd.DataFrame(counts, columns=['5.0', '3.0'], index=categories)\n",
    "    df.index.name = 'race_categories'\n",
    "    return df\n",
    "\n",
    "race_categories = ['applicant_race_1', 'applicant_race_2', 'co_applicant_race_1', 'co_applicant_race_2']\n",
    "\n",
    "# Generate and display the Race Counts table\n",
    "print('Race Counts:')\n",
    "race_table = generate_counts_table(race_counts, race_categories)\n",
    "print(race_table)\n"
   ]
  },
  {
   "cell_type": "code",
   "execution_count": 18,
   "id": "0a327981-cbe8-4392-a7a7-614f05b33576",
   "metadata": {
    "tags": []
   },
   "outputs": [
    {
     "data": {
      "image/png": "[encoded data removed]",
      "text/plain": [
       "<Figure size 640x480 with 1 Axes>"
      ]
     },
     "metadata": {},
     "output_type": "display_data"
    }
   ],
   "source": [
    "# Plot the Race Counts on a logarithmic scale\n",
    "race_table.plot(kind='bar', stacked=True, logy=True)\n",
    "plt.xlabel('Race Categories')\n",
    "plt.ylabel('Log Counts')\n",
    "plt.title('Race Counts (log scale)')\n",
    "plt.show()"
   ]
  },
  {
   "cell_type": "markdown",
   "id": "b495ee74-2b2f-4515-afba-37ed19911cf4",
   "metadata": {},
   "source": [
    "## See all the WHITE applicants."
   ]
  },
  {
   "cell_type": "code",
   "execution_count": 19,
   "id": "63c44661-4545-4d80-a79d-e77a46c2996b",
   "metadata": {
    "tags": []
   },
   "outputs": [],
   "source": [
    "# Filter the DataFrame to include only 'applicant_race_1' with value 5.0\n",
    "filtered_df_applicant_race_1_5 = filtered_df[(filtered_df['applicant_race_1'] == 5.0)]\n",
    "\n",
    "race_columns1 = ['applicant_race_2', 'co_applicant_race_1', 'co_applicant_race_2']\n",
    "ethnicity_columns1 = ['applicant_ethnicity_1', 'co_applicant_ethnicity_1']\n",
    "\n",
    "# Select specific columns\n",
    "selected_columns = race_columns1 + ethnicity_columns1\n",
    "filtered_df_selected_columns = filtered_df_applicant_race_1_5[selected_columns]"
   ]
  },
  {
   "cell_type": "code",
   "execution_count": 20,
   "id": "48949d93-09ee-4a2a-857d-11c8489d246a",
   "metadata": {
    "tags": []
   },
   "outputs": [
    {
     "name": "stdout",
     "output_type": "stream",
     "text": [
      "<class 'pandas.core.frame.DataFrame'>\n",
      "Index: 52523 entries, 1 to 176922\n",
      "Data columns (total 5 columns):\n",
      " #   Column                    Non-Null Count  Dtype  \n",
      "---  ------                    --------------  -----  \n",
      " 0   applicant_race_2          144 non-null    float64\n",
      " 1   co_applicant_race_1       52523 non-null  float64\n",
      " 2   co_applicant_race_2       170 non-null    float64\n",
      " 3   applicant_ethnicity_1     52523 non-null  float64\n",
      " 4   co_applicant_ethnicity_1  52523 non-null  float64\n",
      "dtypes: float64(5)\n",
      "memory usage: 2.4 MB\n"
     ]
    }
   ],
   "source": [
    "filtered_df_selected_columns.info()"
   ]
  },
  {
   "cell_type": "code",
   "execution_count": 21,
   "id": "030864a1-2148-44a2-bc22-48b62320ca56",
   "metadata": {
    "tags": []
   },
   "outputs": [],
   "source": [
    "# Sort with NaN values at the bottom\n",
    "df_sorted = pd.concat([filtered_df_selected_columns.dropna(), \n",
    "                       filtered_df_selected_columns[filtered_df_selected_columns.isna().any(axis=1)]], \n",
    "                      ignore_index=True)\n",
    "\n",
    "# Calculate summary statistics\n",
    "statistics = df_sorted.describe()"
   ]
  },
  {
   "cell_type": "code",
   "execution_count": 22,
   "id": "87c43a39-be7a-4734-8585-6d1dd992cb61",
   "metadata": {
    "tags": []
   },
   "outputs": [
    {
     "name": "stdout",
     "output_type": "stream",
     "text": [
      "       applicant_race_2  co_applicant_race_1  co_applicant_race_2  \\\n",
      "count        144.000000         52523.000000           170.000000   \n",
      "mean          25.375000             4.985721            20.482353   \n",
      "std            5.069965             0.168391            10.351928   \n",
      "min           21.000000             3.000000             1.000000   \n",
      "25%           23.000000             5.000000            21.000000   \n",
      "50%           24.000000             5.000000            23.000000   \n",
      "75%           27.000000             5.000000            25.000000   \n",
      "max           44.000000             5.000000            44.000000   \n",
      "\n",
      "       applicant_ethnicity_1  co_applicant_ethnicity_1  \n",
      "count           52523.000000              52523.000000  \n",
      "mean                1.885384                  1.880776  \n",
      "std                 0.318562                  0.324055  \n",
      "min                 1.000000                  1.000000  \n",
      "25%                 2.000000                  2.000000  \n",
      "50%                 2.000000                  2.000000  \n",
      "75%                 2.000000                  2.000000  \n",
      "max                 2.000000                  2.000000  \n"
     ]
    }
   ],
   "source": [
    "print(statistics)"
   ]
  },
  {
   "cell_type": "markdown",
   "id": "f31faaa2-a5f5-4aab-a88d-e592f9eeedba",
   "metadata": {},
   "source": [
    "# Conclusion\n",
    "- White applicants generally have only one race.\n",
    "- Most co applicants for white people are black.\n",
    "- Some co applicants have a 2nd race.\n",
    "\n",
    "- White applicants do NOT have Hispanic or Latino ethnicity\n",
    "- Same for the co applicant."
   ]
  },
  {
   "cell_type": "markdown",
   "id": "442a4528-454b-4e59-8aea-de823d9c71f2",
   "metadata": {},
   "source": [
    "## See all the BLACK applicants."
   ]
  },
  {
   "cell_type": "code",
   "execution_count": 23,
   "id": "1f20f66d-3a69-4c93-a53c-616bdd861c57",
   "metadata": {
    "tags": []
   },
   "outputs": [],
   "source": [
    "# Filter the DataFrame to include only 'applicant_race_1' with value 5.0\n",
    "filtered_df_applicant_race_1_3 = filtered_df[(filtered_df['applicant_race_1'] == 3.0)]\n",
    "\n",
    "race_columns2 = ['applicant_race_2', 'co_applicant_race_1', 'co_applicant_race_2']\n",
    "ethnicity_columns2 = ['applicant_ethnicity_1', 'co_applicant_ethnicity_1']\n",
    "\n",
    "# Select specific columns\n",
    "selected_columns2 = race_columns2 + ethnicity_columns2\n",
    "filtered_df_selected_columns2 = filtered_df_applicant_race_1_3[selected_columns2]"
   ]
  },
  {
   "cell_type": "code",
   "execution_count": 24,
   "id": "65f3db02-813c-4aad-be8f-782decd57a31",
   "metadata": {
    "tags": []
   },
   "outputs": [
    {
     "name": "stdout",
     "output_type": "stream",
     "text": [
      "<class 'pandas.core.frame.DataFrame'>\n",
      "Index: 3111 entries, 15 to 176835\n",
      "Data columns (total 5 columns):\n",
      " #   Column                    Non-Null Count  Dtype  \n",
      "---  ------                    --------------  -----  \n",
      " 0   applicant_race_2          96 non-null     float64\n",
      " 1   co_applicant_race_1       3111 non-null   float64\n",
      " 2   co_applicant_race_2       43 non-null     float64\n",
      " 3   applicant_ethnicity_1     3111 non-null   float64\n",
      " 4   co_applicant_ethnicity_1  3111 non-null   float64\n",
      "dtypes: float64(5)\n",
      "memory usage: 145.8 KB\n"
     ]
    }
   ],
   "source": [
    "filtered_df_selected_columns2.info()"
   ]
  },
  {
   "cell_type": "code",
   "execution_count": 25,
   "id": "253d345b-418d-41da-b8cb-13a80502b603",
   "metadata": {
    "tags": []
   },
   "outputs": [],
   "source": [
    "# Sort with NaN values at the bottom\n",
    "df_sorted2 = pd.concat([filtered_df_selected_columns2.dropna(), \n",
    "                       filtered_df_selected_columns2[filtered_df_selected_columns2.isna().any(axis=1)]], \n",
    "                      ignore_index=True)\n",
    "\n",
    "# Calculate summary statistics\n",
    "statistics2 = df_sorted2.describe()"
   ]
  },
  {
   "cell_type": "code",
   "execution_count": 26,
   "id": "7ad5604b-f882-4302-9b2e-8f45a08c4dc3",
   "metadata": {
    "tags": []
   },
   "outputs": [
    {
     "name": "stdout",
     "output_type": "stream",
     "text": [
      "       applicant_race_2  co_applicant_race_1  co_applicant_race_2  \\\n",
      "count         96.000000          3111.000000            43.000000   \n",
      "mean           7.968750             3.257152             8.069767   \n",
      "std            9.403754             0.669568            10.067381   \n",
      "min            5.000000             3.000000             5.000000   \n",
      "25%            5.000000             3.000000             5.000000   \n",
      "50%            5.000000             3.000000             5.000000   \n",
      "75%            5.000000             3.000000             5.000000   \n",
      "max           44.000000             5.000000            44.000000   \n",
      "\n",
      "       applicant_ethnicity_1  co_applicant_ethnicity_1  \n",
      "count            3111.000000               3111.000000  \n",
      "mean                1.972356                  1.961106  \n",
      "std                 0.163977                  0.193374  \n",
      "min                 1.000000                  1.000000  \n",
      "25%                 2.000000                  2.000000  \n",
      "50%                 2.000000                  2.000000  \n",
      "75%                 2.000000                  2.000000  \n",
      "max                 2.000000                  2.000000  \n"
     ]
    }
   ],
   "source": [
    "print(statistics2)"
   ]
  },
  {
   "cell_type": "markdown",
   "id": "57a5daec-abf7-4d84-ab67-0f75fc634790",
   "metadata": {},
   "source": [
    "# Conclusion\n",
    "- Black applicants mostly are one race, but some are mixed.\n",
    "- co applicants for black people are fairly evenly spread black and white.\n",
    "- Some co applicants have a 2nd race.\n",
    "\n",
    "- Black applicants do NOT have Hispanic or Latino ethnicity\n",
    "- Same for the co applicant."
   ]
  },
  {
   "cell_type": "code",
   "execution_count": null,
   "id": "9597de5b-0f0c-420c-86ea-0c403a1cdad7",
   "metadata": {
    "tags": []
   },
   "outputs": [],
   "source": []
  },
  {
   "cell_type": "code",
   "execution_count": null,
   "id": "e6be9e3c-6e94-4ff7-ac86-2b8c6daed7a4",
   "metadata": {},
   "outputs": [],
   "source": []
  }
 ],
 "metadata": {
  "kernelspec": {
   "display_name": "Python 3 (ipykernel)",
   "language": "python",
   "name": "python3"
  },
  "language_info": {
   "codemirror_mode": {
    "name": "ipython",
    "version": 3
   },
   "file_extension": ".py",
   "mimetype": "text/x-python",
   "name": "python",
   "nbconvert_exporter": "python",
   "pygments_lexer": "ipython3",
   "version": "3.9.18"
  }
 },
 "nbformat": 4,
 "nbformat_minor": 5
}
