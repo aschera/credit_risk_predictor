{
 "cells": [
  {
   "cell_type": "code",
   "execution_count": 1,
   "id": "e2124416-86de-4f7b-84d6-9cb6b3a5b458",
   "metadata": {
    "tags": []
   },
   "outputs": [],
   "source": [
    "import numpy as np\n",
    "import pandas as pd\n",
    "import seaborn as sns\n",
    "import matplotlib.pyplot as plt"
   ]
  },
  {
   "cell_type": "code",
   "execution_count": 2,
   "id": "b29bb4f9-9d5d-420f-aa81-b8a75ae2b830",
   "metadata": {},
   "outputs": [],
   "source": [
    "# load dataset 2"
   ]
  },
  {
   "cell_type": "code",
   "execution_count": 3,
   "id": "344b4a95-526c-4ce5-a2b3-7aea0acac080",
   "metadata": {
    "tags": []
   },
   "outputs": [],
   "source": [
    "df = pd.read_csv('2_distribution_applicant_sex_and_action_taken.csv', low_memory=False)"
   ]
  },
  {
   "cell_type": "markdown",
   "id": "86696652-483d-4d88-a977-607ef7d42fab",
   "metadata": {
    "tags": []
   },
   "source": [
    "# 3 ethnicity and race distribution"
   ]
  },
  {
   "cell_type": "markdown",
   "id": "367fee5e-5edc-4d7b-95ed-da65165f996b",
   "metadata": {},
   "source": [
    "## All the race and ethnicity columns\n",
    "\n",
    "applicant_ethnicity_1                     \n",
    "applicant_ethnicity_2                     \n",
    "applicant_ethnicity_3                     \n",
    "applicant_ethnicity_4                     \n",
    "applicant_ethnicity_5                                         \n",
    "applicant_ethnicity_observed   \n",
    "\n",
    "co_applicant_ethnicity_1 \n",
    "co_applicant_ethnicity_3                  \n",
    "co_applicant_ethnicity_4                  \n",
    "co_applicant_ethnicity_5 \n",
    "co_applicant_ethnicity_observed   \n",
    "\n",
    "applicant_race_1                          \n",
    "applicant_race_2                         \n",
    "applicant_race_3                       \n",
    "applicant_race_4                         \n",
    "applicant_race_5    \n",
    "applicant_race_observed  \n",
    "\n",
    "co_applicant_race_1                      \n",
    "co_applicant_race_2                      \n",
    "co_applicant_race_3                      \n",
    "co_applicant_race_4                 \n",
    "co_applicant_race_5          \n",
    "co_applicant_race_observed    \n",
    "\n",
    "derived_ethnicity                         \n",
    "derived_race"
   ]
  },
  {
   "cell_type": "markdown",
   "id": "7d658ca1-cbe0-412d-bb69-f752ec41282f",
   "metadata": {},
   "source": [
    "## Columns we use for the model\n",
    "'applicant_ethnicity_1',\n",
    "'co_applicant_ethnicity_1',\n",
    "'applicant_race_1',\n",
    "'applicant_race_2',\n",
    "'co_applicant_race_1',\n",
    "'co_applicant_race_2',"
   ]
  },
  {
   "cell_type": "code",
   "execution_count": 4,
   "id": "a35f4109-02b5-4239-947e-46cd7bce8677",
   "metadata": {
    "tags": []
   },
   "outputs": [
    {
     "name": "stdout",
     "output_type": "stream",
     "text": [
      "<class 'pandas.core.frame.DataFrame'>\n",
      "RangeIndex: 184502 entries, 0 to 184501\n",
      "Data columns (total 6 columns):\n",
      " #   Column                    Non-Null Count   Dtype  \n",
      "---  ------                    --------------   -----  \n",
      " 0   applicant_ethnicity_1     183744 non-null  float64\n",
      " 1   co_applicant_ethnicity_1  184221 non-null  float64\n",
      " 2   applicant_race_1          184247 non-null  float64\n",
      " 3   applicant_race_2          11483 non-null   float64\n",
      " 4   co_applicant_race_1       184408 non-null  float64\n",
      " 5   co_applicant_race_2       5736 non-null    float64\n",
      "dtypes: float64(6)\n",
      "memory usage: 8.4 MB\n",
      "None\n"
     ]
    }
   ],
   "source": [
    "columns_of_interest = ['applicant_ethnicity_1', 'co_applicant_ethnicity_1', 'applicant_race_1', 'applicant_race_2', 'co_applicant_race_1', 'co_applicant_race_2']\n",
    "\n",
    "info_df = df[columns_of_interest]\n",
    "print(info_df.info())"
   ]
  },
  {
   "cell_type": "markdown",
   "id": "2cbbe9a6-3ef6-43a1-b48f-e0d395c9fd1b",
   "metadata": {},
   "source": [
    "# Race"
   ]
  },
  {
   "cell_type": "code",
   "execution_count": 5,
   "id": "6353e7be-80a7-45b8-b4c9-70a0707c0fca",
   "metadata": {
    "tags": []
   },
   "outputs": [
    {
     "name": "stdout",
     "output_type": "stream",
     "text": [
      "applicant_race_1\n",
      "5.0     135911\n",
      "6.0      14274\n",
      "2.0      13484\n",
      "3.0      12671\n",
      "21.0      2772\n",
      "1.0       1640\n",
      "22.0      1106\n",
      "23.0       587\n",
      "27.0       524\n",
      "25.0       332\n",
      "26.0       327\n",
      "4.0        315\n",
      "44.0       173\n",
      "24.0        81\n",
      "41.0        22\n",
      "42.0        17\n",
      "43.0        11\n",
      "Name: count, dtype: int64\n"
     ]
    }
   ],
   "source": [
    "print(df['applicant_race_1'].value_counts())"
   ]
  },
  {
   "cell_type": "markdown",
   "id": "b9921ae4-2095-410a-98d1-72eef3db22b2",
   "metadata": {
    "tags": []
   },
   "source": [
    "Values:\n",
    "- 1 - American Indian or Alaska Native\n",
    "- 2 - Asian\n",
    "- 21 - Asian Indian\n",
    "- 22 - Chinese\n",
    "- 23 - Filipino\n",
    "- 24 - Japanese\n",
    "- 25 - Korean\n",
    "- 26 - Vietnamese\n",
    "- 27 - Other Asian\n",
    "- 3 - Black or African American\n",
    "- 4 - Native Hawaiian or Other Pacific Islander\n",
    "- 41 - Native Hawaiian\n",
    "- 42 - Guamanian or Chamorro\n",
    "- 43 - Samoan\n",
    "- 44 - Other Pacific Islander\n",
    "- 5 - White\n",
    "- 6 - Information not provided by applicant in mail, internet, or telephone application\n",
    "- 7 - Not applicable"
   ]
  },
  {
   "cell_type": "markdown",
   "id": "91be669b-178a-4a9a-82d3-724f73a1281f",
   "metadata": {},
   "source": [
    "### We only want 5 - White and 3 - Black or African American"
   ]
  },
  {
   "cell_type": "code",
   "execution_count": 6,
   "id": "8d2d1ced-16d7-49c2-baff-b1b41dea44ab",
   "metadata": {
    "tags": []
   },
   "outputs": [],
   "source": [
    "# Columns of interest\n",
    "columns_of_race = ['applicant_race_1', 'applicant_race_2', 'co_applicant_race_1', 'co_applicant_race_2']"
   ]
  },
  {
   "cell_type": "markdown",
   "id": "c74888f3-142e-48ef-9145-d82052bf8e5c",
   "metadata": {},
   "source": [
    "### remove not needed columns"
   ]
  },
  {
   "cell_type": "code",
   "execution_count": 7,
   "id": "a843d028-64d3-4794-8970-cb1cf915e36d",
   "metadata": {
    "tags": []
   },
   "outputs": [],
   "source": [
    "# Filter the DataFrame to keep rows with categories 2 and 3 for the specified columns\n",
    "filtered_df = df[df[columns_of_race].isin([2.0, 3.0])]"
   ]
  },
  {
   "cell_type": "code",
   "execution_count": 8,
   "id": "ad0d74b8-e9f9-4cd8-9669-f3de9439a98c",
   "metadata": {
    "tags": []
   },
   "outputs": [
    {
     "name": "stdout",
     "output_type": "stream",
     "text": [
      "applicant_race_1\n",
      "2.0    13484\n",
      "3.0    12671\n",
      "Name: count, dtype: int64\n",
      "applicant_race_2\n",
      "3.0    165\n",
      "2.0     28\n",
      "Name: count, dtype: int64\n",
      "co_applicant_race_1\n",
      "2.0    7119\n",
      "3.0    3545\n",
      "Name: count, dtype: int64\n",
      "co_applicant_race_2\n",
      "3.0    34\n",
      "2.0    26\n",
      "Name: count, dtype: int64\n"
     ]
    }
   ],
   "source": [
    "print(filtered_df['applicant_race_1'].value_counts())\n",
    "print(filtered_df['applicant_race_2'].value_counts())\n",
    "print(filtered_df['co_applicant_race_1'].value_counts())\n",
    "print(filtered_df['co_applicant_race_2'].value_counts())"
   ]
  },
  {
   "cell_type": "markdown",
   "id": "1983efe3-f434-422a-9bcd-cf65d84dce8f",
   "metadata": {},
   "source": [
    "# Ethnicity"
   ]
  },
  {
   "cell_type": "code",
   "execution_count": 9,
   "id": "1b60a4b0-42fa-4786-8477-1de5779f2dcf",
   "metadata": {
    "tags": []
   },
   "outputs": [
    {
     "name": "stdout",
     "output_type": "stream",
     "text": [
      "applicant_ethnicity_1\n",
      "2.0     149631\n",
      "1.0      19587\n",
      "3.0      11612\n",
      "11.0      1253\n",
      "14.0      1109\n",
      "12.0       324\n",
      "13.0       228\n",
      "Name: count, dtype: int64\n"
     ]
    }
   ],
   "source": [
    "print(filtered_df['applicant_ethnicity_1'].value_counts())"
   ]
  },
  {
   "cell_type": "markdown",
   "id": "d4d661e2-8f57-4de3-84d1-43cd56a77269",
   "metadata": {},
   "source": [
    "Values:\n",
    "- 1 - Hispanic or Latino\n",
    "- 11 - Mexican\n",
    "- 12 - Puerto Rican\n",
    "- 13 - Cuban\n",
    "- 14 - Other Hispanic or Latino\n",
    "- 2 - Not Hispanic or Latino\n",
    "- 3 - Information not provided by applicant in mail, internet, or telephone application\n",
    "- 4 - Not applicable"
   ]
  },
  {
   "cell_type": "markdown",
   "id": "3240327c-d49b-4611-b42c-b91edfbf03d3",
   "metadata": {},
   "source": [
    "### We only want 2 - Not Hispanic or Latino & 1 - Hispanic or Latino "
   ]
  },
  {
   "cell_type": "code",
   "execution_count": 14,
   "id": "80570578-dd9b-4b0c-9482-71ac89262919",
   "metadata": {
    "tags": []
   },
   "outputs": [],
   "source": [
    "columns_of_ethnicity = ['applicant_ethnicity_1', 'co_applicant_ethnicity_1']"
   ]
  },
  {
   "cell_type": "markdown",
   "id": "6e7aeac6-d316-4d79-a71b-4cfb40b8b7a4",
   "metadata": {},
   "source": [
    "### remove not needed columns"
   ]
  },
  {
   "cell_type": "code",
   "execution_count": 15,
   "id": "f46e7692-a9a2-4a12-bbdc-24c4352a13df",
   "metadata": {},
   "outputs": [],
   "source": [
    "# Filter the DataFrame to keep rows with categories 2 and 3 for the specified columns\n",
    "filtered_df = filtered_df[filtered_df[columns_of_ethnicity].isin([2.0, 1.0])]"
   ]
  },
  {
   "cell_type": "code",
   "execution_count": 16,
   "id": "27414157-72a7-48e5-b5b3-234524b8fe04",
   "metadata": {
    "tags": []
   },
   "outputs": [
    {
     "name": "stdout",
     "output_type": "stream",
     "text": [
      "applicant_ethnicity_1\n",
      "2.0    149631\n",
      "1.0     19587\n",
      "Name: count, dtype: int64\n",
      "co_applicant_ethnicity_1\n",
      "2.0    72035\n",
      "1.0     8480\n",
      "Name: count, dtype: int64\n"
     ]
    }
   ],
   "source": [
    "print(filtered_df['applicant_ethnicity_1'].value_counts())\n",
    "print(filtered_df['co_applicant_ethnicity_1'].value_counts())"
   ]
  },
  {
   "cell_type": "code",
   "execution_count": null,
   "id": "8cbe8dda-f516-44e2-acec-dec0a4783be4",
   "metadata": {},
   "outputs": [],
   "source": []
  }
 ],
 "metadata": {
  "kernelspec": {
   "display_name": "Python 3 (ipykernel)",
   "language": "python",
   "name": "python3"
  },
  "language_info": {
   "codemirror_mode": {
    "name": "ipython",
    "version": 3
   },
   "file_extension": ".py",
   "mimetype": "text/x-python",
   "name": "python",
   "nbconvert_exporter": "python",
   "pygments_lexer": "ipython3",
   "version": "3.9.18"
  }
 },
 "nbformat": 4,
 "nbformat_minor": 5
}
