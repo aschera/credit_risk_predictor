{
 "cells": [
  {
   "cell_type": "code",
   "execution_count": 20,
   "id": "e2124416-86de-4f7b-84d6-9cb6b3a5b458",
   "metadata": {
    "tags": []
   },
   "outputs": [],
   "source": [
    "import warnings\n",
    "import numpy as np\n",
    "import pandas as pd\n",
    "import seaborn as sns\n",
    "import matplotlib.pyplot as plt"
   ]
  },
  {
   "cell_type": "code",
   "execution_count": 2,
   "id": "b29bb4f9-9d5d-420f-aa81-b8a75ae2b830",
   "metadata": {},
   "outputs": [],
   "source": [
    "# load dataset 2"
   ]
  },
  {
   "cell_type": "code",
   "execution_count": 3,
   "id": "344b4a95-526c-4ce5-a2b3-7aea0acac080",
   "metadata": {
    "tags": []
   },
   "outputs": [],
   "source": [
    "df = pd.read_csv('2_distribution_applicant_sex_and_action_taken.csv', low_memory=False)"
   ]
  },
  {
   "cell_type": "markdown",
   "id": "86696652-483d-4d88-a977-607ef7d42fab",
   "metadata": {
    "tags": []
   },
   "source": [
    "# 3 ethnicity and race distribution"
   ]
  },
  {
   "cell_type": "markdown",
   "id": "367fee5e-5edc-4d7b-95ed-da65165f996b",
   "metadata": {},
   "source": [
    "## All the race and ethnicity columns\n",
    "\n",
    "applicant_ethnicity_1                     \n",
    "applicant_ethnicity_2                     \n",
    "applicant_ethnicity_3                     \n",
    "applicant_ethnicity_4                     \n",
    "applicant_ethnicity_5                                         \n",
    "applicant_ethnicity_observed   \n",
    "\n",
    "co_applicant_ethnicity_1 \n",
    "co_applicant_ethnicity_3                  \n",
    "co_applicant_ethnicity_4                  \n",
    "co_applicant_ethnicity_5 \n",
    "co_applicant_ethnicity_observed   \n",
    "\n",
    "applicant_race_1                          \n",
    "applicant_race_2                         \n",
    "applicant_race_3                       \n",
    "applicant_race_4                         \n",
    "applicant_race_5    \n",
    "applicant_race_observed  \n",
    "\n",
    "co_applicant_race_1                      \n",
    "co_applicant_race_2                      \n",
    "co_applicant_race_3                      \n",
    "co_applicant_race_4                 \n",
    "co_applicant_race_5          \n",
    "co_applicant_race_observed    \n",
    "\n",
    "derived_ethnicity                         \n",
    "derived_race"
   ]
  },
  {
   "cell_type": "markdown",
   "id": "7d658ca1-cbe0-412d-bb69-f752ec41282f",
   "metadata": {},
   "source": [
    "## Columns we use for the model\n",
    "'applicant_ethnicity_1',\n",
    "'co_applicant_ethnicity_1',\n",
    "'applicant_race_1',\n",
    "'applicant_race_2',\n",
    "'co_applicant_race_1',\n",
    "'co_applicant_race_2',"
   ]
  },
  {
   "cell_type": "code",
   "execution_count": 4,
   "id": "a35f4109-02b5-4239-947e-46cd7bce8677",
   "metadata": {
    "tags": []
   },
   "outputs": [
    {
     "name": "stdout",
     "output_type": "stream",
     "text": [
      "<class 'pandas.core.frame.DataFrame'>\n",
      "RangeIndex: 184502 entries, 0 to 184501\n",
      "Data columns (total 6 columns):\n",
      " #   Column                    Non-Null Count   Dtype  \n",
      "---  ------                    --------------   -----  \n",
      " 0   applicant_ethnicity_1     183744 non-null  float64\n",
      " 1   co_applicant_ethnicity_1  184221 non-null  float64\n",
      " 2   applicant_race_1          184247 non-null  float64\n",
      " 3   applicant_race_2          11483 non-null   float64\n",
      " 4   co_applicant_race_1       184408 non-null  float64\n",
      " 5   co_applicant_race_2       5736 non-null    float64\n",
      "dtypes: float64(6)\n",
      "memory usage: 8.4 MB\n",
      "None\n"
     ]
    }
   ],
   "source": [
    "columns_of_interest = ['applicant_ethnicity_1', 'co_applicant_ethnicity_1', 'applicant_race_1', 'applicant_race_2', 'co_applicant_race_1', 'co_applicant_race_2']\n",
    "\n",
    "info_df = df[columns_of_interest]\n",
    "print(info_df.info())"
   ]
  },
  {
   "cell_type": "markdown",
   "id": "a0914a88-b1f6-46d7-a20a-9a8b080aed1d",
   "metadata": {},
   "source": [
    "## Remove columns we dont need."
   ]
  },
  {
   "cell_type": "code",
   "execution_count": 5,
   "id": "bed4e8c3-060f-4df0-8b32-c6258d0a9bbf",
   "metadata": {},
   "outputs": [],
   "source": [
    "# List of columns to remove\n",
    "columns_to_remove = ['applicant_ethnicity_2', 'applicant_ethnicity_3', 'applicant_ethnicity_4', \n",
    "                     'applicant_ethnicity_5', 'applicant_ethnicity_observed','co_applicant_ethnicity_2', 'co_applicant_ethnicity_3', \n",
    "                     'co_applicant_ethnicity_4', 'co_applicant_ethnicity_5', 'co_applicant_ethnicity_observed',\n",
    "                      'applicant_race_3', 'applicant_race_4', 'applicant_race_5', \n",
    "                     'applicant_race_observed',  'co_applicant_race_3', \n",
    "                     'co_applicant_race_4', 'co_applicant_race_5', 'co_applicant_race_observed',\n",
    "                     'derived_ethnicity', 'derived_race']\n",
    "\n",
    "# Drop the specified columns\n",
    "df.drop(columns=columns_to_remove, inplace=True)"
   ]
  },
  {
   "cell_type": "code",
   "execution_count": 6,
   "id": "1a28390f-08b8-4290-9a18-7af088e39a5f",
   "metadata": {
    "tags": []
   },
   "outputs": [
    {
     "name": "stdout",
     "output_type": "stream",
     "text": [
      "<class 'pandas.core.frame.DataFrame'>\n",
      "RangeIndex: 184502 entries, 0 to 184501\n",
      "Data columns (total 79 columns):\n",
      " #   Column                                    Non-Null Count   Dtype  \n",
      "---  ------                                    --------------   -----  \n",
      " 0   activity_year                             184502 non-null  int64  \n",
      " 1   lei                                       184502 non-null  object \n",
      " 2   derived_msa_md                            10558 non-null   float64\n",
      " 3   state_code                                184444 non-null  object \n",
      " 4   county_code                               184434 non-null  float64\n",
      " 5   census_tract                              184434 non-null  float64\n",
      " 6   conforming_loan_limit                     184501 non-null  object \n",
      " 7   derived_loan_product_type                 184502 non-null  object \n",
      " 8   derived_dwelling_category                 184502 non-null  object \n",
      " 9   derived_sex                               184502 non-null  object \n",
      " 10  action_taken                              184502 non-null  int64  \n",
      " 11  purchaser_type                            184502 non-null  int64  \n",
      " 12  preapproval                               184502 non-null  int64  \n",
      " 13  loan_type                                 184502 non-null  int64  \n",
      " 14  loan_purpose                              184502 non-null  bool   \n",
      " 15  lien_status                               184502 non-null  int64  \n",
      " 16  reverse_mortgage                          184502 non-null  int64  \n",
      " 17  open_end_line_of_credit                   184502 non-null  int64  \n",
      " 18  business_or_commercial_purpose            184502 non-null  bool   \n",
      " 19  loan_amount                               184502 non-null  int64  \n",
      " 20  combined_loan_to_value_ratio              137863 non-null  object \n",
      " 21  interest_rate                             114582 non-null  object \n",
      " 22  rate_spread                               110275 non-null  object \n",
      " 23  hoepa_status                              184502 non-null  int64  \n",
      " 24  total_loan_costs                          110762 non-null  object \n",
      " 25  total_points_and_fees                     212 non-null     object \n",
      " 26  origination_charges                       112907 non-null  object \n",
      " 27  discount_points                           27058 non-null   object \n",
      " 28  lender_credits                            59547 non-null   object \n",
      " 29  loan_term                                 184261 non-null  object \n",
      " 30  prepayment_penalty_term                   213 non-null     object \n",
      " 31  intro_rate_period                         14978 non-null   object \n",
      " 32  negative_amortization                     184502 non-null  int64  \n",
      " 33  interest_only_payment                     184502 non-null  int64  \n",
      " 34  balloon_payment                           184502 non-null  int64  \n",
      " 35  other_nonamortizing_features              184502 non-null  int64  \n",
      " 36  property_value                            142779 non-null  object \n",
      " 37  construction_method                       184502 non-null  int64  \n",
      " 38  occupancy_type                            184502 non-null  int64  \n",
      " 39  manufactured_home_secured_property_type   184502 non-null  int64  \n",
      " 40  manufactured_home_land_property_interest  184502 non-null  int64  \n",
      " 41  total_units                               184502 non-null  object \n",
      " 42  multifamily_affordable_units              212 non-null     object \n",
      " 43  income                                    176771 non-null  float64\n",
      " 44  debt_to_income_ratio                      138228 non-null  object \n",
      " 45  applicant_credit_score_type               184502 non-null  int64  \n",
      " 46  co_applicant_credit_score_type            184502 non-null  int64  \n",
      " 47  applicant_ethnicity_1                     183744 non-null  float64\n",
      " 48  co_applicant_ethnicity_1                  184221 non-null  float64\n",
      " 49  applicant_race_1                          184247 non-null  float64\n",
      " 50  applicant_race_2                          11483 non-null   float64\n",
      " 51  co_applicant_race_1                       184408 non-null  float64\n",
      " 52  co_applicant_race_2                       5736 non-null    float64\n",
      " 53  applicant_sex                             184502 non-null  int64  \n",
      " 54  co_applicant_sex                          184502 non-null  int64  \n",
      " 55  applicant_sex_observed                    184502 non-null  int64  \n",
      " 56  co_applicant_sex_observed                 184502 non-null  int64  \n",
      " 57  applicant_age                             184502 non-null  object \n",
      " 58  co_applicant_age                          184502 non-null  object \n",
      " 59  applicant_age_above_62                    184426 non-null  object \n",
      " 60  co_applicant_age_above_62                 88492 non-null   object \n",
      " 61  submission_of_application                 184502 non-null  int64  \n",
      " 62  initially_payable_to_institution          184502 non-null  int64  \n",
      " 63  aus_1                                     184502 non-null  int64  \n",
      " 64  aus_2                                     47389 non-null   float64\n",
      " 65  aus_3                                     37520 non-null   float64\n",
      " 66  aus_4                                     0 non-null       float64\n",
      " 67  aus_5                                     8 non-null       float64\n",
      " 68  denial_reason_1                           184502 non-null  int64  \n",
      " 69  denial_reason_2                           10954 non-null   float64\n",
      " 70  denial_reason_3                           1604 non-null    float64\n",
      " 71  denial_reason_4                           131 non-null     float64\n",
      " 72  tract_population                          184502 non-null  int64  \n",
      " 73  tract_minority_population_percent         184502 non-null  float64\n",
      " 74  ffiec_msa_md_median_family_income         184502 non-null  int64  \n",
      " 75  tract_to_msa_income_percentage            184502 non-null  float64\n",
      " 76  tract_owner_occupied_units                184502 non-null  int64  \n",
      " 77  tract_one_to_four_family_homes            184502 non-null  int64  \n",
      " 78  tract_median_age_of_housing_units         184502 non-null  int64  \n",
      "dtypes: bool(2), float64(19), int64(33), object(25)\n",
      "memory usage: 108.7+ MB\n"
     ]
    }
   ],
   "source": [
    "df.info()"
   ]
  },
  {
   "cell_type": "markdown",
   "id": "2cbbe9a6-3ef6-43a1-b48f-e0d395c9fd1b",
   "metadata": {},
   "source": [
    "# Race"
   ]
  },
  {
   "cell_type": "code",
   "execution_count": 7,
   "id": "6353e7be-80a7-45b8-b4c9-70a0707c0fca",
   "metadata": {
    "tags": []
   },
   "outputs": [
    {
     "name": "stdout",
     "output_type": "stream",
     "text": [
      "applicant_race_1\n",
      "5.0     135911\n",
      "6.0      14274\n",
      "2.0      13484\n",
      "3.0      12671\n",
      "21.0      2772\n",
      "1.0       1640\n",
      "22.0      1106\n",
      "23.0       587\n",
      "27.0       524\n",
      "25.0       332\n",
      "26.0       327\n",
      "4.0        315\n",
      "44.0       173\n",
      "24.0        81\n",
      "41.0        22\n",
      "42.0        17\n",
      "43.0        11\n",
      "Name: count, dtype: int64\n"
     ]
    }
   ],
   "source": [
    "print(df['applicant_race_1'].value_counts())"
   ]
  },
  {
   "cell_type": "markdown",
   "id": "b9921ae4-2095-410a-98d1-72eef3db22b2",
   "metadata": {
    "tags": []
   },
   "source": [
    "Values:\n",
    "- 1 - American Indian or Alaska Native\n",
    "- 2 - Asian\n",
    "- 21 - Asian Indian\n",
    "- 22 - Chinese\n",
    "- 23 - Filipino\n",
    "- 24 - Japanese\n",
    "- 25 - Korean\n",
    "- 26 - Vietnamese\n",
    "- 27 - Other Asian\n",
    "- 3 - Black or African American\n",
    "- 4 - Native Hawaiian or Other Pacific Islander\n",
    "- 41 - Native Hawaiian\n",
    "- 42 - Guamanian or Chamorro\n",
    "- 43 - Samoan\n",
    "- 44 - Other Pacific Islander\n",
    "- 5 - White\n",
    "- 6 - Information not provided by applicant in mail, internet, or telephone application\n",
    "- 7 - Not applicable"
   ]
  },
  {
   "cell_type": "markdown",
   "id": "91be669b-178a-4a9a-82d3-724f73a1281f",
   "metadata": {},
   "source": [
    "### We only want 5 - White and 3 - Black or African American"
   ]
  },
  {
   "cell_type": "code",
   "execution_count": 8,
   "id": "8d2d1ced-16d7-49c2-baff-b1b41dea44ab",
   "metadata": {
    "tags": []
   },
   "outputs": [],
   "source": [
    "# Columns of interest\n",
    "columns_of_race = ['applicant_race_1', 'applicant_race_2', 'co_applicant_race_1', 'co_applicant_race_2']"
   ]
  },
  {
   "cell_type": "markdown",
   "id": "c74888f3-142e-48ef-9145-d82052bf8e5c",
   "metadata": {},
   "source": [
    "### remove not needed columns"
   ]
  },
  {
   "cell_type": "code",
   "execution_count": 9,
   "id": "a843d028-64d3-4794-8970-cb1cf915e36d",
   "metadata": {
    "tags": []
   },
   "outputs": [
    {
     "name": "stdout",
     "output_type": "stream",
     "text": [
      "applicant_race_1\n",
      "applicant_race_1\n",
      "2.0    13484\n",
      "3.0    12671\n",
      "Name: count, dtype: int64\n",
      "applicant_race_2\n",
      "applicant_race_2\n",
      "3.0    165\n",
      "2.0     28\n",
      "Name: count, dtype: int64\n",
      "co_applicant_race_1\n",
      "co_applicant_race_1\n",
      "2.0    7119\n",
      "3.0    3545\n",
      "Name: count, dtype: int64\n",
      "co_applicant_race_2\n",
      "co_applicant_race_2\n",
      "3.0    34\n",
      "2.0    26\n",
      "Name: count, dtype: int64\n"
     ]
    }
   ],
   "source": [
    "# Filter the DataFrame to keep rows with categories 2 and 3 for the specified columns\n",
    "filtered_race = df[columns_of_race].isin([2.0, 3.0])\n",
    "\n",
    "# Filter the race columns\n",
    "filtered_df_race = df[columns_of_race][filtered_race]\n",
    "\n",
    "# Merge the filtered race columns with the rest of the DataFrame\n",
    "filtered_df = pd.concat([df.drop(columns_of_race, axis=1), filtered_df_race], axis=1)\n",
    "\n",
    "# Print the value counts for each column\n",
    "for column in columns_of_race:\n",
    "    print(f\"{column}\\n{filtered_df[column].value_counts()}\")\n"
   ]
  },
  {
   "cell_type": "markdown",
   "id": "1983efe3-f434-422a-9bcd-cf65d84dce8f",
   "metadata": {},
   "source": [
    "# Ethnicity"
   ]
  },
  {
   "cell_type": "code",
   "execution_count": 10,
   "id": "da13868d-2c17-40b9-b35a-f7c281ca3ef5",
   "metadata": {
    "tags": []
   },
   "outputs": [
    {
     "name": "stdout",
     "output_type": "stream",
     "text": [
      "applicant_ethnicity_1\n",
      "2.0     149631\n",
      "1.0      19587\n",
      "3.0      11612\n",
      "11.0      1253\n",
      "14.0      1109\n",
      "12.0       324\n",
      "13.0       228\n",
      "Name: count, dtype: int64\n"
     ]
    }
   ],
   "source": [
    "print(filtered_df['applicant_ethnicity_1'].value_counts())"
   ]
  },
  {
   "cell_type": "markdown",
   "id": "d4d661e2-8f57-4de3-84d1-43cd56a77269",
   "metadata": {},
   "source": [
    "Values:\n",
    "- 1 - Hispanic or Latino\n",
    "- 11 - Mexican\n",
    "- 12 - Puerto Rican\n",
    "- 13 - Cuban\n",
    "- 14 - Other Hispanic or Latino\n",
    "- 2 - Not Hispanic or Latino\n",
    "- 3 - Information not provided by applicant in mail, internet, or telephone application\n",
    "- 4 - Not applicable"
   ]
  },
  {
   "cell_type": "markdown",
   "id": "3240327c-d49b-4611-b42c-b91edfbf03d3",
   "metadata": {},
   "source": [
    "### We only want 2 - Not Hispanic or Latino & 1 - Hispanic or Latino "
   ]
  },
  {
   "cell_type": "code",
   "execution_count": 11,
   "id": "80570578-dd9b-4b0c-9482-71ac89262919",
   "metadata": {
    "tags": []
   },
   "outputs": [],
   "source": [
    "columns_of_ethnicity = ['applicant_ethnicity_1', 'co_applicant_ethnicity_1']"
   ]
  },
  {
   "cell_type": "markdown",
   "id": "6e7aeac6-d316-4d79-a71b-4cfb40b8b7a4",
   "metadata": {},
   "source": [
    "### remove not needed columns"
   ]
  },
  {
   "cell_type": "code",
   "execution_count": 12,
   "id": "f46e7692-a9a2-4a12-bbdc-24c4352a13df",
   "metadata": {},
   "outputs": [
    {
     "name": "stdout",
     "output_type": "stream",
     "text": [
      "applicant_ethnicity_1\n",
      "applicant_ethnicity_1\n",
      "2.0    149631\n",
      "1.0     19587\n",
      "Name: count, dtype: int64\n",
      "co_applicant_ethnicity_1\n",
      "co_applicant_ethnicity_1\n",
      "2.0    72035\n",
      "1.0     8480\n",
      "Name: count, dtype: int64\n"
     ]
    }
   ],
   "source": [
    "# Filter the DataFrame to keep rows with categories 2 and 3 for the specified columns\n",
    "filtered_ethnicity = filtered_df[columns_of_ethnicity].isin([1.0, 2.0])\n",
    "\n",
    "# Filter the race columns\n",
    "filtered_df_ethnicity = filtered_df[columns_of_ethnicity][filtered_ethnicity]\n",
    "\n",
    "# Merge the filtered race columns with the rest of the DataFrame\n",
    "filtered_df = pd.concat([filtered_df.drop(columns_of_ethnicity, axis=1), filtered_df_ethnicity], axis=1)\n",
    "\n",
    "# Print the value counts for each column\n",
    "for column in columns_of_ethnicity:\n",
    "    print(f\"{column}\\n{filtered_df[column].value_counts()}\")\n"
   ]
  },
  {
   "cell_type": "markdown",
   "id": "bea8c75c-8660-4f70-8de5-eeac3302eb20",
   "metadata": {},
   "source": [
    "# Visualisations"
   ]
  },
  {
   "cell_type": "code",
   "execution_count": 13,
   "id": "1b894668-4553-4f59-8bda-5aa8cfa07784",
   "metadata": {
    "tags": []
   },
   "outputs": [
    {
     "data": {
      "image/png": "[encoded data removed]",
      "text/plain": [
       "<Figure size 1000x800 with 2 Axes>"
      ]
     },
     "metadata": {},
     "output_type": "display_data"
    }
   ],
   "source": [
    "import seaborn as sns\n",
    "import numpy as np\n",
    "\n",
    "# Select the specified race columns\n",
    "selected_columns = ['applicant_race_1', 'applicant_race_2', 'co_applicant_race_1', 'co_applicant_race_2']\n",
    "selected_df = filtered_df[selected_columns]\n",
    "\n",
    "# Calculate the correlation matrix\n",
    "correlation_matrix = selected_df.corr()\n",
    "\n",
    "# Plot the heatmap\n",
    "plt.figure(figsize=(10, 8))\n",
    "sns.heatmap(correlation_matrix, annot=True, cmap='coolwarm', fmt='.2f', linewidths=0.5)\n",
    "plt.title('Correlation Heatmap of Race Columns')\n",
    "plt.show()\n",
    "\n"
   ]
  },
  {
   "cell_type": "code",
   "execution_count": 14,
   "id": "255500cb-bb13-4f22-92f4-59c7ea10dc2d",
   "metadata": {
    "tags": []
   },
   "outputs": [
    {
     "data": {
      "image/png": "[encoded data removed]",
      "text/plain": [
       "<Figure size 600x400 with 2 Axes>"
      ]
     },
     "metadata": {},
     "output_type": "display_data"
    }
   ],
   "source": [
    "# Select the specified ethnicity columns\n",
    "columns_of_ethnicity = ['applicant_ethnicity_1', 'co_applicant_ethnicity_1']\n",
    "ethnicity_df =  filtered_df[columns_of_ethnicity]\n",
    "\n",
    "# Calculate the correlation matrix\n",
    "correlation_matrix_ethnicity = ethnicity_df.corr()\n",
    "\n",
    "# Plot the heatmap for ethnicity columns\n",
    "plt.figure(figsize=(6, 4))\n",
    "sns.heatmap(correlation_matrix_ethnicity, annot=True, cmap='coolwarm', fmt='.2f', linewidths=0.5)\n",
    "plt.title('Correlation Heatmap of Ethnicity Columns')\n",
    "plt.show()\n"
   ]
  },
  {
   "cell_type": "code",
   "execution_count": 33,
   "id": "02ebde2a-8798-4e89-a936-12c63d00fb63",
   "metadata": {
    "tags": []
   },
   "outputs": [
    {
     "name": "stdout",
     "output_type": "stream",
     "text": [
      "| Combination                                             |   count |\n",
      "|:--------------------------------------------------------|--------:|\n",
      "| applicant_ethnicity_1_2.0                               |   63010 |\n",
      "| applicant_ethnicity_1_2.0, co_applicant_ethnicity_1_2.0 |   58582 |\n",
      "|                                                         |   13318 |\n",
      "| applicant_ethnicity_1_1.0                               |   11362 |\n",
      "| applicant_race_1_3.0, applicant_ethnicity_1_2.0         |    8319 |\n"
     ]
    }
   ],
   "source": [
    "import pandas as pd\n",
    "\n",
    "# Combine race and ethnicity columns into a new DataFrame\n",
    "combined_df = filtered_df[['applicant_race_1', 'applicant_race_2', 'co_applicant_race_1', 'co_applicant_race_2',\n",
    "                           'applicant_ethnicity_1', 'co_applicant_ethnicity_1']]\n",
    "\n",
    "# Convert race and ethnicity columns to string for combination\n",
    "combined_df = combined_df.astype(str)\n",
    "\n",
    "# Find the most frequent combinations\n",
    "frequent_combinations = combined_df.groupby(combined_df.columns.tolist()).size().reset_index(name='count')\n",
    "frequent_combinations = frequent_combinations.sort_values(by='count', ascending=False)\n",
    "\n",
    "# Select the top 5 most frequent combinations\n",
    "top_combinations = frequent_combinations.head(5).copy()\n",
    "\n",
    "# Function to generate combination strings\n",
    "def generate_combination(row):\n",
    "    combination = []\n",
    "    for column, category in zip(top_combinations.columns[:-1], row[:-1]):\n",
    "        if category != 'nan':\n",
    "            combination.append(f\"{column}_{category}\")\n",
    "    return ', '.join(combination)\n",
    "\n",
    "# Apply the function to create the Combination column\n",
    "top_combinations['Combination'] = top_combinations.apply(generate_combination, axis=1)\n",
    "\n",
    "# Reorder the columns\n",
    "top_combinations = top_combinations[['Combination', 'count']]\n",
    "\n",
    "# Print the formatted table\n",
    "print(top_combinations.to_markdown(index=False))\n",
    "\n"
   ]
  },
  {
   "cell_type": "code",
   "execution_count": null,
   "id": "3a259cf3-1b19-4763-b455-a81661855244",
   "metadata": {},
   "outputs": [],
   "source": [
    "\n",
    "# Suppress specific FutureWarnings\n",
    "warnings.filterwarnings(\"ignore\", message=\"is_categorical_dtype is deprecated\")\n",
    "\n",
    "# Plot the bar chart with labels\n",
    "plt.figure(figsize=(12, 6))\n",
    "ax = sns.barplot(x='count', y='index', data=top_combinations.reset_index(), orient='h')\n",
    "\n",
    "# Add labels to the bars\n",
    "for index, row in top_combinations.iterrows():\n",
    "    label = f\"applicant_race_1 {row['applicant_race_1']} and applicant_ethnicity_1 {row['applicant_ethnicity_1']}\"\n",
    "    ax.text(row['count'], index, label, ha='left', va='center')\n",
    "\n",
    "plt.xlabel('Count')\n",
    "plt.ylabel('Race and Ethnicity Combinations')\n",
    "plt.title('Top 10 Most Frequent Race and Ethnicity Combinations')\n",
    "plt.show()"
   ]
  }
 ],
 "metadata": {
  "kernelspec": {
   "display_name": "Python 3 (ipykernel)",
   "language": "python",
   "name": "python3"
  },
  "language_info": {
   "codemirror_mode": {
    "name": "ipython",
    "version": 3
   },
   "file_extension": ".py",
   "mimetype": "text/x-python",
   "name": "python",
   "nbconvert_exporter": "python",
   "pygments_lexer": "ipython3",
   "version": "3.9.18"
  }
 },
 "nbformat": 4,
 "nbformat_minor": 5
}
