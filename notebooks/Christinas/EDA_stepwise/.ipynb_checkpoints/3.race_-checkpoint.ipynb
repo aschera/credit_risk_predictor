{
 "cells": [
  {
   "cell_type": "markdown",
   "id": "53af85e4-21f9-4765-8f26-036a2a803366",
   "metadata": {},
   "source": [
    "# Imports"
   ]
  },
  {
   "cell_type": "code",
   "execution_count": 1,
   "id": "e2124416-86de-4f7b-84d6-9cb6b3a5b458",
   "metadata": {
    "tags": []
   },
   "outputs": [],
   "source": [
    "import warnings\n",
    "import numpy as np\n",
    "import pandas as pd\n",
    "import seaborn as sns\n",
    "import matplotlib.pyplot as plt\n",
    "import seaborn as sns\n",
    "\n",
    "from itertools import product\n",
    "import matplotlib.pyplot as plt"
   ]
  },
  {
   "cell_type": "code",
   "execution_count": 2,
   "id": "b29bb4f9-9d5d-420f-aa81-b8a75ae2b830",
   "metadata": {},
   "outputs": [],
   "source": [
    "# load dataset 2"
   ]
  },
  {
   "cell_type": "code",
   "execution_count": 3,
   "id": "344b4a95-526c-4ce5-a2b3-7aea0acac080",
   "metadata": {
    "tags": []
   },
   "outputs": [
    {
     "name": "stdout",
     "output_type": "stream",
     "text": [
      "<class 'pandas.core.frame.DataFrame'>\n",
      "RangeIndex: 85358 entries, 0 to 85357\n",
      "Data columns (total 33 columns):\n",
      " #   Column                                    Non-Null Count  Dtype  \n",
      "---  ------                                    --------------  -----  \n",
      " 0   action_taken                              85358 non-null  int64  \n",
      " 1   loan_type                                 85358 non-null  int64  \n",
      " 2   lien_status                               85358 non-null  int64  \n",
      " 3   open_end_line_of_credit                   85358 non-null  int64  \n",
      " 4   loan_amount                               85358 non-null  int64  \n",
      " 5   combined_loan_to_value_ratio              83673 non-null  object \n",
      " 6   interest_rate                             48750 non-null  object \n",
      " 7   total_loan_costs                          48750 non-null  object \n",
      " 8   origination_charges                       48750 non-null  object \n",
      " 9   loan_term                                 85303 non-null  object \n",
      " 10  negative_amortization                     85358 non-null  int64  \n",
      " 11  interest_only_payment                     85358 non-null  int64  \n",
      " 12  balloon_payment                           85358 non-null  int64  \n",
      " 13  other_nonamortizing_features              85358 non-null  int64  \n",
      " 14  property_value                            84190 non-null  object \n",
      " 15  occupancy_type                            85358 non-null  int64  \n",
      " 16  manufactured_home_secured_property_type   85358 non-null  int64  \n",
      " 17  manufactured_home_land_property_interest  85358 non-null  int64  \n",
      " 18  total_units                               85358 non-null  object \n",
      " 19  income                                    82529 non-null  float64\n",
      " 20  debt_to_income_ratio                      84356 non-null  object \n",
      " 21  applicant_credit_score_type               85358 non-null  int64  \n",
      " 22  co_applicant_credit_score_type            85358 non-null  int64  \n",
      " 23  applicant_ethnicity_1                     85037 non-null  float64\n",
      " 24  co_applicant_ethnicity_1                  85047 non-null  float64\n",
      " 25  applicant_race_1                          85266 non-null  float64\n",
      " 26  applicant_race_2                          4568 non-null   float64\n",
      " 27  co_applicant_race_1                       85256 non-null  float64\n",
      " 28  co_applicant_race_2                       4647 non-null   float64\n",
      " 29  applicant_sex                             85358 non-null  int64  \n",
      " 30  co_applicant_sex                          85358 non-null  int64  \n",
      " 31  applicant_age                             85358 non-null  object \n",
      " 32  co_applicant_age                          85358 non-null  object \n",
      "dtypes: float64(7), int64(16), object(10)\n",
      "memory usage: 21.5+ MB\n"
     ]
    },
    {
     "data": {
      "text/html": [
       "<div>\n",
       "<style scoped>\n",
       "    .dataframe tbody tr th:only-of-type {\n",
       "        vertical-align: middle;\n",
       "    }\n",
       "\n",
       "    .dataframe tbody tr th {\n",
       "        vertical-align: top;\n",
       "    }\n",
       "\n",
       "    .dataframe thead th {\n",
       "        text-align: right;\n",
       "    }\n",
       "</style>\n",
       "<table border=\"1\" class=\"dataframe\">\n",
       "  <thead>\n",
       "    <tr style=\"text-align: right;\">\n",
       "      <th></th>\n",
       "      <th>action_taken</th>\n",
       "      <th>loan_type</th>\n",
       "      <th>lien_status</th>\n",
       "      <th>open_end_line_of_credit</th>\n",
       "      <th>loan_amount</th>\n",
       "      <th>combined_loan_to_value_ratio</th>\n",
       "      <th>interest_rate</th>\n",
       "      <th>total_loan_costs</th>\n",
       "      <th>origination_charges</th>\n",
       "      <th>loan_term</th>\n",
       "      <th>...</th>\n",
       "      <th>applicant_ethnicity_1</th>\n",
       "      <th>co_applicant_ethnicity_1</th>\n",
       "      <th>applicant_race_1</th>\n",
       "      <th>applicant_race_2</th>\n",
       "      <th>co_applicant_race_1</th>\n",
       "      <th>co_applicant_race_2</th>\n",
       "      <th>applicant_sex</th>\n",
       "      <th>co_applicant_sex</th>\n",
       "      <th>applicant_age</th>\n",
       "      <th>co_applicant_age</th>\n",
       "    </tr>\n",
       "  </thead>\n",
       "  <tbody>\n",
       "    <tr>\n",
       "      <th>0</th>\n",
       "      <td>3</td>\n",
       "      <td>3</td>\n",
       "      <td>1</td>\n",
       "      <td>2</td>\n",
       "      <td>205000</td>\n",
       "      <td>110.256</td>\n",
       "      <td>NaN</td>\n",
       "      <td>NaN</td>\n",
       "      <td>NaN</td>\n",
       "      <td>360</td>\n",
       "      <td>...</td>\n",
       "      <td>2.0</td>\n",
       "      <td>2.0</td>\n",
       "      <td>5.0</td>\n",
       "      <td>NaN</td>\n",
       "      <td>5.0</td>\n",
       "      <td>NaN</td>\n",
       "      <td>1</td>\n",
       "      <td>2</td>\n",
       "      <td>&gt;74</td>\n",
       "      <td>65-74</td>\n",
       "    </tr>\n",
       "    <tr>\n",
       "      <th>1</th>\n",
       "      <td>3</td>\n",
       "      <td>2</td>\n",
       "      <td>1</td>\n",
       "      <td>2</td>\n",
       "      <td>155000</td>\n",
       "      <td>59.485</td>\n",
       "      <td>NaN</td>\n",
       "      <td>NaN</td>\n",
       "      <td>NaN</td>\n",
       "      <td>360</td>\n",
       "      <td>...</td>\n",
       "      <td>2.0</td>\n",
       "      <td>2.0</td>\n",
       "      <td>5.0</td>\n",
       "      <td>NaN</td>\n",
       "      <td>5.0</td>\n",
       "      <td>NaN</td>\n",
       "      <td>2</td>\n",
       "      <td>1</td>\n",
       "      <td>55-64</td>\n",
       "      <td>55-64</td>\n",
       "    </tr>\n",
       "    <tr>\n",
       "      <th>2</th>\n",
       "      <td>3</td>\n",
       "      <td>2</td>\n",
       "      <td>1</td>\n",
       "      <td>2</td>\n",
       "      <td>125000</td>\n",
       "      <td>61.367</td>\n",
       "      <td>NaN</td>\n",
       "      <td>NaN</td>\n",
       "      <td>NaN</td>\n",
       "      <td>360</td>\n",
       "      <td>...</td>\n",
       "      <td>2.0</td>\n",
       "      <td>2.0</td>\n",
       "      <td>5.0</td>\n",
       "      <td>NaN</td>\n",
       "      <td>5.0</td>\n",
       "      <td>NaN</td>\n",
       "      <td>1</td>\n",
       "      <td>2</td>\n",
       "      <td>65-74</td>\n",
       "      <td>55-64</td>\n",
       "    </tr>\n",
       "    <tr>\n",
       "      <th>3</th>\n",
       "      <td>3</td>\n",
       "      <td>2</td>\n",
       "      <td>1</td>\n",
       "      <td>2</td>\n",
       "      <td>55000</td>\n",
       "      <td>57.997</td>\n",
       "      <td>NaN</td>\n",
       "      <td>NaN</td>\n",
       "      <td>NaN</td>\n",
       "      <td>360</td>\n",
       "      <td>...</td>\n",
       "      <td>2.0</td>\n",
       "      <td>2.0</td>\n",
       "      <td>3.0</td>\n",
       "      <td>NaN</td>\n",
       "      <td>3.0</td>\n",
       "      <td>NaN</td>\n",
       "      <td>1</td>\n",
       "      <td>2</td>\n",
       "      <td>45-54</td>\n",
       "      <td>45-54</td>\n",
       "    </tr>\n",
       "    <tr>\n",
       "      <th>4</th>\n",
       "      <td>3</td>\n",
       "      <td>1</td>\n",
       "      <td>1</td>\n",
       "      <td>2</td>\n",
       "      <td>345000</td>\n",
       "      <td>78.841</td>\n",
       "      <td>NaN</td>\n",
       "      <td>NaN</td>\n",
       "      <td>NaN</td>\n",
       "      <td>180</td>\n",
       "      <td>...</td>\n",
       "      <td>2.0</td>\n",
       "      <td>2.0</td>\n",
       "      <td>5.0</td>\n",
       "      <td>NaN</td>\n",
       "      <td>5.0</td>\n",
       "      <td>NaN</td>\n",
       "      <td>1</td>\n",
       "      <td>2</td>\n",
       "      <td>45-54</td>\n",
       "      <td>45-54</td>\n",
       "    </tr>\n",
       "  </tbody>\n",
       "</table>\n",
       "<p>5 rows × 33 columns</p>\n",
       "</div>"
      ],
      "text/plain": [
       "   action_taken  loan_type  lien_status  open_end_line_of_credit  loan_amount  \\\n",
       "0             3          3            1                        2       205000   \n",
       "1             3          2            1                        2       155000   \n",
       "2             3          2            1                        2       125000   \n",
       "3             3          2            1                        2        55000   \n",
       "4             3          1            1                        2       345000   \n",
       "\n",
       "  combined_loan_to_value_ratio interest_rate total_loan_costs  \\\n",
       "0                      110.256           NaN              NaN   \n",
       "1                       59.485           NaN              NaN   \n",
       "2                       61.367           NaN              NaN   \n",
       "3                       57.997           NaN              NaN   \n",
       "4                       78.841           NaN              NaN   \n",
       "\n",
       "  origination_charges loan_term  ...  applicant_ethnicity_1  \\\n",
       "0                 NaN       360  ...                    2.0   \n",
       "1                 NaN       360  ...                    2.0   \n",
       "2                 NaN       360  ...                    2.0   \n",
       "3                 NaN       360  ...                    2.0   \n",
       "4                 NaN       180  ...                    2.0   \n",
       "\n",
       "   co_applicant_ethnicity_1  applicant_race_1  applicant_race_2  \\\n",
       "0                       2.0               5.0               NaN   \n",
       "1                       2.0               5.0               NaN   \n",
       "2                       2.0               5.0               NaN   \n",
       "3                       2.0               3.0               NaN   \n",
       "4                       2.0               5.0               NaN   \n",
       "\n",
       "  co_applicant_race_1  co_applicant_race_2  applicant_sex  co_applicant_sex  \\\n",
       "0                 5.0                  NaN              1                 2   \n",
       "1                 5.0                  NaN              2                 1   \n",
       "2                 5.0                  NaN              1                 2   \n",
       "3                 3.0                  NaN              1                 2   \n",
       "4                 5.0                  NaN              1                 2   \n",
       "\n",
       "  applicant_age  co_applicant_age  \n",
       "0           >74             65-74  \n",
       "1         55-64             55-64  \n",
       "2         65-74             55-64  \n",
       "3         45-54             45-54  \n",
       "4         45-54             45-54  \n",
       "\n",
       "[5 rows x 33 columns]"
      ]
     },
     "execution_count": 3,
     "metadata": {},
     "output_type": "execute_result"
    }
   ],
   "source": [
    "df = pd.read_csv('2_distribution_applicant_sex_and_action_taken.csv', low_memory=False)\n",
    "df.info()\n",
    "df.head()"
   ]
  },
  {
   "cell_type": "markdown",
   "id": "86696652-483d-4d88-a977-607ef7d42fab",
   "metadata": {
    "tags": []
   },
   "source": [
    "# 3 applicant_ethnicity_1 and applicant_race_1 distribution"
   ]
  },
  {
   "cell_type": "markdown",
   "id": "367fee5e-5edc-4d7b-95ed-da65165f996b",
   "metadata": {},
   "source": [
    "## All the applicant_race_1 and applicant_ethnicity_1 columns we want\n",
    "\n",
    "applicant_ethnicity_1                     \n",
    "                 \n",
    "co_applicant_ethnicity_1 \n",
    "\n",
    "applicant_race_1                          \n",
    "applicant_race_2                         \n",
    "\n",
    "co_applicant_race_1                      \n",
    "co_applicant_race_2                      "
   ]
  },
  {
   "cell_type": "markdown",
   "id": "7d658ca1-cbe0-412d-bb69-f752ec41282f",
   "metadata": {},
   "source": [
    "## Columns we use for the model"
   ]
  },
  {
   "cell_type": "code",
   "execution_count": 4,
   "id": "b8ff3d6d-0420-4308-a90b-a99644725dd0",
   "metadata": {},
   "outputs": [],
   "source": [
    "columns_of_interest = ['applicant_ethnicity_1', 'co_applicant_ethnicity_1', 'applicant_race_1', 'applicant_race_2', 'co_applicant_race_1', 'co_applicant_race_2']"
   ]
  },
  {
   "cell_type": "code",
   "execution_count": 5,
   "id": "a35f4109-02b5-4239-947e-46cd7bce8677",
   "metadata": {
    "tags": []
   },
   "outputs": [
    {
     "name": "stdout",
     "output_type": "stream",
     "text": [
      "<class 'pandas.core.frame.DataFrame'>\n",
      "RangeIndex: 85358 entries, 0 to 85357\n",
      "Data columns (total 6 columns):\n",
      " #   Column                    Non-Null Count  Dtype  \n",
      "---  ------                    --------------  -----  \n",
      " 0   applicant_ethnicity_1     85037 non-null  float64\n",
      " 1   co_applicant_ethnicity_1  85047 non-null  float64\n",
      " 2   applicant_race_1          85266 non-null  float64\n",
      " 3   applicant_race_2          4568 non-null   float64\n",
      " 4   co_applicant_race_1       85256 non-null  float64\n",
      " 5   co_applicant_race_2       4647 non-null   float64\n",
      "dtypes: float64(6)\n",
      "memory usage: 3.9 MB\n",
      "None\n"
     ]
    }
   ],
   "source": [
    "info_df = df[columns_of_interest]\n",
    "print(info_df.info())"
   ]
  },
  {
   "cell_type": "markdown",
   "id": "2cbbe9a6-3ef6-43a1-b48f-e0d395c9fd1b",
   "metadata": {},
   "source": [
    "# Race"
   ]
  },
  {
   "cell_type": "markdown",
   "id": "b9921ae4-2095-410a-98d1-72eef3db22b2",
   "metadata": {
    "tags": []
   },
   "source": [
    "Values:\n",
    "- 1 - American Indian or Alaska Native\n",
    "- 2 - Asian\n",
    "- 21 - Asian Indian\n",
    "- 22 - Chinese\n",
    "- 23 - Filipino\n",
    "- 24 - Japanese\n",
    "- 25 - Korean\n",
    "- 26 - Vietnamese\n",
    "- 27 - Other Asian\n",
    "- 3 - Black or African American\n",
    "- 4 - Native Hawaiian or Other Pacific Islander\n",
    "- 41 - Native Hawaiian\n",
    "- 42 - Guamanian or Chamorro\n",
    "- 43 - Samoan\n",
    "- 44 - Other Pacific Islander\n",
    "- 5 - White\n",
    "- 6 - Information not provided by applicant in mail, internet, or telephone application\n",
    "- 7 - Not applicable"
   ]
  },
  {
   "cell_type": "markdown",
   "id": "91be669b-178a-4a9a-82d3-724f73a1281f",
   "metadata": {},
   "source": [
    "### We only want 5 - White and 3 - Black or African American"
   ]
  },
  {
   "cell_type": "code",
   "execution_count": 6,
   "id": "8d2d1ced-16d7-49c2-baff-b1b41dea44ab",
   "metadata": {
    "tags": []
   },
   "outputs": [],
   "source": [
    "# Columns of interest\n",
    "columns_of_race = ['applicant_race_1', 'applicant_race_2', 'co_applicant_race_1', 'co_applicant_race_2']"
   ]
  },
  {
   "cell_type": "markdown",
   "id": "1983efe3-f434-422a-9bcd-cf65d84dce8f",
   "metadata": {},
   "source": [
    "# Ethnicity"
   ]
  },
  {
   "cell_type": "markdown",
   "id": "d4d661e2-8f57-4de3-84d1-43cd56a77269",
   "metadata": {},
   "source": [
    "Values:\n",
    "- 1 - Hispanic or Latino\n",
    "- 11 - Mexican\n",
    "- 12 - Puerto Rican\n",
    "- 13 - Cuban\n",
    "- 14 - Other Hispanic or Latino\n",
    "- 2 - Not Hispanic or Latino\n",
    "- 3 - Information not provided by applicant in mail, internet, or telephone application\n",
    "- 4 - Not applicable"
   ]
  },
  {
   "cell_type": "markdown",
   "id": "3240327c-d49b-4611-b42c-b91edfbf03d3",
   "metadata": {},
   "source": [
    "### We only want 2 - Not Hispanic or Latino & 1 - Hispanic or Latino "
   ]
  },
  {
   "cell_type": "code",
   "execution_count": 7,
   "id": "80570578-dd9b-4b0c-9482-71ac89262919",
   "metadata": {
    "tags": []
   },
   "outputs": [],
   "source": [
    "columns_of_ethnicity = ['applicant_ethnicity_1', 'co_applicant_ethnicity_1']"
   ]
  },
  {
   "cell_type": "markdown",
   "id": "fcfbe57c-d907-4d1c-8f3f-909ea8a5661f",
   "metadata": {},
   "source": [
    "# Remove applicant_race_1 and applicant_ethnicity_1"
   ]
  },
  {
   "cell_type": "code",
   "execution_count": 8,
   "id": "e19ff941-790a-4f11-9fff-b58ec5585740",
   "metadata": {
    "tags": []
   },
   "outputs": [
    {
     "data": {
      "text/plain": [
       "applicant_race_2\n",
       "21.0    1106\n",
       "22.0    1029\n",
       "5.0      570\n",
       "23.0     556\n",
       "26.0     442\n",
       "25.0     315\n",
       "27.0     278\n",
       "24.0     102\n",
       "44.0      50\n",
       "3.0       46\n",
       "4.0       25\n",
       "41.0      23\n",
       "42.0      11\n",
       "43.0       9\n",
       "2.0        6\n",
       "Name: count, dtype: int64"
      ]
     },
     "execution_count": 8,
     "metadata": {},
     "output_type": "execute_result"
    }
   ],
   "source": [
    "df['applicant_race_2'].value_counts()"
   ]
  },
  {
   "cell_type": "code",
   "execution_count": 9,
   "id": "94f68055-3f7f-4440-97db-bdcc6a5ba3c2",
   "metadata": {
    "tags": []
   },
   "outputs": [
    {
     "name": "stdout",
     "output_type": "stream",
     "text": [
      "Value counts for applicant_race_1 after filtering:\n",
      "applicant_race_1\n",
      "5.0    59524\n",
      "3.0     3410\n",
      "Name: count, dtype: int64\n",
      "co_applicant_race_1\n",
      "5.0    59505\n",
      "3.0     3429\n",
      "Name: count, dtype: int64\n",
      "applicant_race_2\n",
      "5.0     85\n",
      "27.0    32\n",
      "23.0    26\n",
      "21.0    17\n",
      "24.0    14\n",
      "25.0    14\n",
      "22.0    14\n",
      "44.0    11\n",
      "26.0     9\n",
      "41.0     4\n",
      "43.0     2\n",
      "Name: count, dtype: int64\n",
      "co_applicant_race_2\n",
      "5.0     85\n",
      "23.0    26\n",
      "27.0    24\n",
      "24.0    24\n",
      "21.0    20\n",
      "25.0    13\n",
      "22.0    10\n",
      "1.0      8\n",
      "26.0     8\n",
      "44.0     8\n",
      "41.0     4\n",
      "2.0      4\n",
      "3.0      1\n",
      "4.0      1\n",
      "Name: count, dtype: int64\n",
      "Value counts for applicant_ethnicity_1 after filtering:\n",
      "applicant_ethnicity_1\n",
      "2.0    56532\n",
      "1.0     6402\n",
      "Name: count, dtype: int64\n",
      "co_applicant_ethnicity_1\n",
      "2.0    56346\n",
      "1.0     6588\n",
      "Name: count, dtype: int64\n"
     ]
    }
   ],
   "source": [
    "# Define the criteria for applicant_race_1 and applicant_ethnicity_1\n",
    "race_criteria1 = (df['applicant_race_1'].isin([3, 5]))\n",
    "race_criteria2 = (df['co_applicant_race_1'].isin([3, 5]))\n",
    "ethnicity_criteria1 = (df['applicant_ethnicity_1'].isin([1, 2]))\n",
    "ethnicity_criteria2 = (df['co_applicant_ethnicity_1'].isin([1, 2]))\n",
    "\n",
    "# Combine the criteria using logical AND for applicant_ethnicity_1\n",
    "combined_criteria = race_criteria1 & ethnicity_criteria1 & race_criteria2 & ethnicity_criteria2 \n",
    "\n",
    "# Apply the combined criteria to filter the DataFrame\n",
    "filtered_df = df[combined_criteria]\n",
    "\n",
    "# Print the value counts for the filtered DataFrame\n",
    "print(\"Value counts for applicant_race_1 after filtering:\")\n",
    "print(filtered_df['applicant_race_1'].value_counts())\n",
    "print(filtered_df['co_applicant_race_1'].value_counts())\n",
    "print(filtered_df['applicant_race_2'].value_counts())\n",
    "print(filtered_df['co_applicant_race_2'].value_counts())\n",
    "\n",
    "print(\"Value counts for applicant_ethnicity_1 after filtering:\")\n",
    "print(filtered_df['applicant_ethnicity_1'].value_counts())\n",
    "print(filtered_df['co_applicant_ethnicity_1'].value_counts())"
   ]
  },
  {
   "cell_type": "code",
   "execution_count": 10,
   "id": "a7d41e7d-e4e5-461f-b768-9277895711fc",
   "metadata": {
    "tags": []
   },
   "outputs": [
    {
     "name": "stdout",
     "output_type": "stream",
     "text": [
      "Number of rows in the original DataFrame: 85358\n",
      "Number of rows in the filtered DataFrame: 62934\n",
      "Number of rows removed: 22424\n"
     ]
    }
   ],
   "source": [
    "# Calculate the number of rows in the original DataFrame\n",
    "original_row_count = len(df)\n",
    "\n",
    "# Calculate the number of rows in the filtered DataFrame\n",
    "filtered_row_count = len(filtered_df)\n",
    "\n",
    "# Calculate the number of rows removed\n",
    "rows_removed = original_row_count - filtered_row_count\n",
    "\n",
    "# Print the results\n",
    "print(f\"Number of rows in the original DataFrame: {original_row_count}\")\n",
    "print(f\"Number of rows in the filtered DataFrame: {filtered_row_count}\")\n",
    "print(f\"Number of rows removed: {rows_removed}\")\n"
   ]
  },
  {
   "cell_type": "code",
   "execution_count": 11,
   "id": "a3d28a48-62b1-4e1f-82c4-04964f0f22e3",
   "metadata": {},
   "outputs": [],
   "source": [
    "filtered_df.to_csv('3_distribution_race_ethnicity.csv', index=False)"
   ]
  },
  {
   "cell_type": "markdown",
   "id": "bea8c75c-8660-4f70-8de5-eeac3302eb20",
   "metadata": {},
   "source": [
    "# Visualisations"
   ]
  },
  {
   "cell_type": "code",
   "execution_count": 12,
   "id": "1b894668-4553-4f59-8bda-5aa8cfa07784",
   "metadata": {
    "tags": []
   },
   "outputs": [
    {
     "data": {
      "image/png": "[encoded data removed]",
      "text/plain": [
       "<Figure size 1000x800 with 2 Axes>"
      ]
     },
     "metadata": {},
     "output_type": "display_data"
    }
   ],
   "source": [
    "# Select the specified applicant_race_1 columns\n",
    "selected_columns = ['applicant_race_1', 'applicant_race_2', 'co_applicant_race_1', 'co_applicant_race_2']\n",
    "selected_df = filtered_df[selected_columns]\n",
    "\n",
    "# Calculate the correlation matrix\n",
    "correlation_matrix = selected_df.corr()\n",
    "\n",
    "# Plot the heatmap\n",
    "plt.figure(figsize=(10, 8))\n",
    "sns.heatmap(correlation_matrix, annot=True, cmap='coolwarm', fmt='.2f', linewidths=0.5)\n",
    "plt.title('Correlation Heatmap of Race Columns')\n",
    "plt.show()"
   ]
  },
  {
   "cell_type": "code",
   "execution_count": 13,
   "id": "255500cb-bb13-4f22-92f4-59c7ea10dc2d",
   "metadata": {
    "tags": []
   },
   "outputs": [
    {
     "data": {
      "image/png": "[encoded data removed]",
      "text/plain": [
       "<Figure size 600x400 with 2 Axes>"
      ]
     },
     "metadata": {},
     "output_type": "display_data"
    }
   ],
   "source": [
    "# Select the specified applicant_ethnicity_1 columns\n",
    "columns_of_ethnicity = ['applicant_ethnicity_1', 'co_applicant_ethnicity_1']\n",
    "ethnicity_df =  filtered_df[columns_of_ethnicity]\n",
    "\n",
    "# Calculate the correlation matrix\n",
    "correlation_matrix_ethnicity = ethnicity_df.corr()\n",
    "\n",
    "# Plot the heatmap for applicant_ethnicity_1 columns\n",
    "plt.figure(figsize=(6, 4))\n",
    "sns.heatmap(correlation_matrix_ethnicity, annot=True, cmap='coolwarm', fmt='.2f', linewidths=0.5)\n",
    "plt.title('Correlation Heatmap of Ethnicity Columns')\n",
    "plt.show()"
   ]
  },
  {
   "cell_type": "code",
   "execution_count": 14,
   "id": "28c15638-87b3-4830-a182-4dfc025d30c7",
   "metadata": {},
   "outputs": [
    {
     "name": "stdout",
     "output_type": "stream",
     "text": [
      "Race Counts: [[59524, 3410], [85, 0], [59505, 3429], [85, 1]]\n",
      "Ethnicity Counts: [[56532, 6402], [56346, 6588]]\n"
     ]
    }
   ],
   "source": [
    "# Define the applicant_race_1 and applicant_ethnicity_1 categories\n",
    "race_categories = ['5.0', '3.0']\n",
    "ethnicity_categories = ['2.0', '1.0']\n",
    "\n",
    "# Define the columns for applicant_race_1 and applicant_ethnicity_1\n",
    "race_columns = ['applicant_race_1', 'applicant_race_2', 'co_applicant_race_1', 'co_applicant_race_2']\n",
    "ethnicity_columns = ['applicant_ethnicity_1', 'co_applicant_ethnicity_1']\n",
    "\n",
    "# Initialize counts for each combination\n",
    "race_counts = [[0] * len(race_categories) for _ in range(len(race_columns))]\n",
    "ethnicity_counts = [[0] * len(ethnicity_categories) for _ in range(len(ethnicity_columns))]\n",
    "\n",
    "# Iterate through the DataFrame and count combinations\n",
    "for idx, row in filtered_df.iterrows():\n",
    "    for i, col in enumerate(race_columns):\n",
    "        race_val = str(row[col])\n",
    "        if race_val in race_categories:\n",
    "            race_counts[i][race_categories.index(race_val)] += 1\n",
    "\n",
    "    for i, col in enumerate(ethnicity_columns):\n",
    "        ethnicity_val = str(row[col])\n",
    "        if ethnicity_val in ethnicity_categories:\n",
    "            ethnicity_counts[i][ethnicity_categories.index(ethnicity_val)] += 1\n",
    "\n",
    "# Now, race_counts and ethnicity_counts have the counts for each combination\n",
    "print('Race Counts:', race_counts)\n",
    "print('Ethnicity Counts:', ethnicity_counts)\n"
   ]
  },
  {
   "cell_type": "code",
   "execution_count": 15,
   "id": "5c93df2c-a925-4ea4-a763-923217963ee1",
   "metadata": {
    "tags": []
   },
   "outputs": [
    {
     "name": "stdout",
     "output_type": "stream",
     "text": [
      "Ethnicity Counts:\n",
      "                            1.0   2.0\n",
      "ethnicity_categories                 \n",
      "applicant_ethnicity_1     56532  6402\n",
      "co_applicant_ethnicity_1  56346  6588\n"
     ]
    }
   ],
   "source": [
    "def generate_counts_table(counts, categories):\n",
    "    df = pd.DataFrame(counts, columns=['1.0', '2.0'], index=categories)\n",
    "    df.index.name = 'ethnicity_categories'\n",
    "    return df\n",
    "\n",
    "ethnicity_categories = ['applicant_ethnicity_1', 'co_applicant_ethnicity_1']\n",
    "\n",
    "# Generate and display the Ethnicity Counts table\n",
    "print('Ethnicity Counts:')\n",
    "ethnicity_table = generate_counts_table(ethnicity_counts, ethnicity_categories)\n",
    "print(ethnicity_table)"
   ]
  },
  {
   "cell_type": "code",
   "execution_count": 16,
   "id": "2fdeba2e-4f06-4882-8996-8da4d3288ecf",
   "metadata": {
    "tags": []
   },
   "outputs": [
    {
     "data": {
      "image/png": "[encoded data removed]",
      "text/plain": [
       "<Figure size 640x480 with 1 Axes>"
      ]
     },
     "metadata": {},
     "output_type": "display_data"
    }
   ],
   "source": [
    "# Plot the Ethnicity Counts on a logarithmic scale\n",
    "ethnicity_table.plot(kind='bar', stacked=True, logy=True)\n",
    "plt.xlabel('Ethnicity Categories')\n",
    "plt.ylabel('Log Counts')\n",
    "plt.title('Ethnicity Counts (log scale)')\n",
    "plt.show()"
   ]
  },
  {
   "cell_type": "code",
   "execution_count": 17,
   "id": "1ec0169c-3e7b-4d1e-bef8-b06beda057ee",
   "metadata": {
    "tags": []
   },
   "outputs": [
    {
     "name": "stdout",
     "output_type": "stream",
     "text": [
      "Race Counts:\n",
      "                       5.0   3.0\n",
      "race_categories                 \n",
      "applicant_race_1     59524  3410\n",
      "applicant_race_2        85     0\n",
      "co_applicant_race_1  59505  3429\n",
      "co_applicant_race_2     85     1\n"
     ]
    }
   ],
   "source": [
    "def generate_counts_table(counts, categories):\n",
    "    df = pd.DataFrame(counts, columns=['5.0', '3.0'], index=categories)\n",
    "    df.index.name = 'race_categories'\n",
    "    return df\n",
    "\n",
    "race_categories = ['applicant_race_1', 'applicant_race_2', 'co_applicant_race_1', 'co_applicant_race_2']\n",
    "\n",
    "# Generate and display the Race Counts table\n",
    "print('Race Counts:')\n",
    "race_table = generate_counts_table(race_counts, race_categories)\n",
    "print(race_table)"
   ]
  },
  {
   "cell_type": "code",
   "execution_count": 18,
   "id": "0a327981-cbe8-4392-a7a7-614f05b33576",
   "metadata": {
    "tags": []
   },
   "outputs": [
    {
     "data": {
      "image/png": "[encoded data removed]",
      "text/plain": [
       "<Figure size 640x480 with 1 Axes>"
      ]
     },
     "metadata": {},
     "output_type": "display_data"
    }
   ],
   "source": [
    "# Plot the Race Counts on a logarithmic scale\n",
    "race_table.plot(kind='bar', stacked=True, logy=True)\n",
    "plt.xlabel('Race Categories')\n",
    "plt.ylabel('Log Counts')\n",
    "plt.title('Race Counts (log scale)')\n",
    "plt.show()"
   ]
  },
  {
   "cell_type": "markdown",
   "id": "b495ee74-2b2f-4515-afba-37ed19911cf4",
   "metadata": {},
   "source": [
    "## See all the WHITE applicants."
   ]
  },
  {
   "cell_type": "code",
   "execution_count": 19,
   "id": "63c44661-4545-4d80-a79d-e77a46c2996b",
   "metadata": {
    "tags": []
   },
   "outputs": [],
   "source": [
    "# Filter the DataFrame to include only 'applicant_race_1' with value 5.0\n",
    "filtered_df_applicant_race_1_5 = filtered_df[(filtered_df['applicant_race_1'] == 5.0)]\n",
    "\n",
    "race_columns1 = ['applicant_race_2', 'co_applicant_race_1', 'co_applicant_race_2']\n",
    "ethnicity_columns1 = ['applicant_ethnicity_1', 'co_applicant_ethnicity_1']\n",
    "\n",
    "# Select specific columns\n",
    "selected_columns = race_columns1 + ethnicity_columns1\n",
    "filtered_df_selected_columns = filtered_df_applicant_race_1_5[selected_columns]"
   ]
  },
  {
   "cell_type": "code",
   "execution_count": 20,
   "id": "48949d93-09ee-4a2a-857d-11c8489d246a",
   "metadata": {
    "tags": []
   },
   "outputs": [
    {
     "name": "stdout",
     "output_type": "stream",
     "text": [
      "<class 'pandas.core.frame.DataFrame'>\n",
      "Index: 59524 entries, 0 to 85357\n",
      "Data columns (total 5 columns):\n",
      " #   Column                    Non-Null Count  Dtype  \n",
      "---  ------                    --------------  -----  \n",
      " 0   applicant_race_2          135 non-null    float64\n",
      " 1   co_applicant_race_1       59524 non-null  float64\n",
      " 2   co_applicant_race_2       192 non-null    float64\n",
      " 3   applicant_ethnicity_1     59524 non-null  float64\n",
      " 4   co_applicant_ethnicity_1  59524 non-null  float64\n",
      "dtypes: float64(5)\n",
      "memory usage: 2.7 MB\n"
     ]
    }
   ],
   "source": [
    "filtered_df_selected_columns.info()"
   ]
  },
  {
   "cell_type": "code",
   "execution_count": 21,
   "id": "030864a1-2148-44a2-bc22-48b62320ca56",
   "metadata": {
    "tags": []
   },
   "outputs": [],
   "source": [
    "# Sort with NaN values at the bottom\n",
    "df_sorted = pd.concat([filtered_df_selected_columns.dropna(), \n",
    "                       filtered_df_selected_columns[filtered_df_selected_columns.isna().any(axis=1)]], \n",
    "                      ignore_index=True)\n",
    "\n",
    "# Calculate summary statistics\n",
    "statistics = df_sorted.describe()"
   ]
  },
  {
   "cell_type": "code",
   "execution_count": 22,
   "id": "87c43a39-be7a-4734-8585-6d1dd992cb61",
   "metadata": {
    "tags": []
   },
   "outputs": [
    {
     "name": "stdout",
     "output_type": "stream",
     "text": [
      "       applicant_race_2  co_applicant_race_1  co_applicant_race_2  \\\n",
      "count        135.000000         59524.000000           192.000000   \n",
      "mean          25.866667             4.985250            18.776042   \n",
      "std            5.711732             0.171125            10.680356   \n",
      "min           21.000000             3.000000             1.000000   \n",
      "25%           23.000000             5.000000             5.000000   \n",
      "50%           24.000000             5.000000            23.000000   \n",
      "75%           27.000000             5.000000            25.000000   \n",
      "max           44.000000             5.000000            44.000000   \n",
      "\n",
      "       applicant_ethnicity_1  co_applicant_ethnicity_1  \n",
      "count           59524.000000              59524.000000  \n",
      "mean                1.893908                  1.891405  \n",
      "std                 0.307957                  0.311133  \n",
      "min                 1.000000                  1.000000  \n",
      "25%                 2.000000                  2.000000  \n",
      "50%                 2.000000                  2.000000  \n",
      "75%                 2.000000                  2.000000  \n",
      "max                 2.000000                  2.000000  \n"
     ]
    }
   ],
   "source": [
    "print(statistics)"
   ]
  },
  {
   "cell_type": "markdown",
   "id": "f31faaa2-a5f5-4aab-a88d-e592f9eeedba",
   "metadata": {},
   "source": [
    "# Conclusion\n",
    "- White applicants generally have only one applicant_race_1.\n",
    "- Most co applicants for white people are black.\n",
    "- Some co applicants have a 2nd applicant_race_1.\n",
    "\n",
    "- White applicants do NOT have Hispanic or Latino applicant_ethnicity_1\n",
    "- Same for the co applicant."
   ]
  },
  {
   "cell_type": "markdown",
   "id": "442a4528-454b-4e59-8aea-de823d9c71f2",
   "metadata": {},
   "source": [
    "## See all the BLACK applicants."
   ]
  },
  {
   "cell_type": "code",
   "execution_count": 23,
   "id": "1f20f66d-3a69-4c93-a53c-616bdd861c57",
   "metadata": {
    "tags": []
   },
   "outputs": [],
   "source": [
    "# Filter the DataFrame to include only 'applicant_race_1' with value 5.0\n",
    "filtered_df_applicant_race_1_3 = filtered_df[(filtered_df['applicant_race_1'] == 3.0)]\n",
    "\n",
    "race_columns2 = ['applicant_race_2', 'co_applicant_race_1', 'co_applicant_race_2']\n",
    "ethnicity_columns2 = ['applicant_ethnicity_1', 'co_applicant_ethnicity_1']\n",
    "\n",
    "# Select specific columns\n",
    "selected_columns2 = race_columns2 + ethnicity_columns2\n",
    "filtered_df_selected_columns2 = filtered_df_applicant_race_1_3[selected_columns2]"
   ]
  },
  {
   "cell_type": "code",
   "execution_count": 24,
   "id": "65f3db02-813c-4aad-be8f-782decd57a31",
   "metadata": {
    "tags": []
   },
   "outputs": [
    {
     "name": "stdout",
     "output_type": "stream",
     "text": [
      "<class 'pandas.core.frame.DataFrame'>\n",
      "Index: 3410 entries, 3 to 85310\n",
      "Data columns (total 5 columns):\n",
      " #   Column                    Non-Null Count  Dtype  \n",
      "---  ------                    --------------  -----  \n",
      " 0   applicant_race_2          93 non-null     float64\n",
      " 1   co_applicant_race_1       3410 non-null   float64\n",
      " 2   co_applicant_race_2       44 non-null     float64\n",
      " 3   applicant_ethnicity_1     3410 non-null   float64\n",
      " 4   co_applicant_ethnicity_1  3410 non-null   float64\n",
      "dtypes: float64(5)\n",
      "memory usage: 159.8 KB\n"
     ]
    }
   ],
   "source": [
    "filtered_df_selected_columns2.info()"
   ]
  },
  {
   "cell_type": "code",
   "execution_count": 25,
   "id": "253d345b-418d-41da-b8cb-13a80502b603",
   "metadata": {
    "tags": []
   },
   "outputs": [],
   "source": [
    "# Sort with NaN values at the bottom\n",
    "df_sorted2 = pd.concat([filtered_df_selected_columns2.dropna(), \n",
    "                       filtered_df_selected_columns2[filtered_df_selected_columns2.isna().any(axis=1)]], \n",
    "                      ignore_index=True)\n",
    "\n",
    "# Calculate summary statistics\n",
    "statistics2 = df_sorted2.describe()"
   ]
  },
  {
   "cell_type": "code",
   "execution_count": 26,
   "id": "7ad5604b-f882-4302-9b2e-8f45a08c4dc3",
   "metadata": {
    "tags": []
   },
   "outputs": [
    {
     "name": "stdout",
     "output_type": "stream",
     "text": [
      "       applicant_race_2  co_applicant_race_1  co_applicant_race_2  \\\n",
      "count         93.000000          3410.000000            44.000000   \n",
      "mean           7.677419             3.246334             8.045455   \n",
      "std            9.276151             0.657354            10.034718   \n",
      "min            5.000000             3.000000             5.000000   \n",
      "25%            5.000000             3.000000             5.000000   \n",
      "50%            5.000000             3.000000             5.000000   \n",
      "75%            5.000000             3.000000             5.000000   \n",
      "max           44.000000             5.000000            44.000000   \n",
      "\n",
      "       applicant_ethnicity_1  co_applicant_ethnicity_1  \n",
      "count            3410.000000               3410.000000  \n",
      "mean                1.974487                  1.963636  \n",
      "std                 0.157701                  0.187221  \n",
      "min                 1.000000                  1.000000  \n",
      "25%                 2.000000                  2.000000  \n",
      "50%                 2.000000                  2.000000  \n",
      "75%                 2.000000                  2.000000  \n",
      "max                 2.000000                  2.000000  \n"
     ]
    }
   ],
   "source": [
    "print(statistics2)"
   ]
  },
  {
   "cell_type": "markdown",
   "id": "57a5daec-abf7-4d84-ab67-0f75fc634790",
   "metadata": {},
   "source": [
    "# Conclusion\n",
    "- Black applicants mostly are one applicant_race_1, but some are mixed.\n",
    "- co applicants for black people are fairly evenly spread black and white.\n",
    "- Some co applicants have a 2nd applicant_race_1.\n",
    "\n",
    "- Black applicants do NOT have Hispanic or Latino applicant_ethnicity_1\n",
    "- Same for the co applicant."
   ]
  },
  {
   "cell_type": "code",
   "execution_count": null,
   "id": "9597de5b-0f0c-420c-86ea-0c403a1cdad7",
   "metadata": {
    "tags": []
   },
   "outputs": [],
   "source": []
  },
  {
   "cell_type": "code",
   "execution_count": null,
   "id": "e6be9e3c-6e94-4ff7-ac86-2b8c6daed7a4",
   "metadata": {},
   "outputs": [],
   "source": []
  }
 ],
 "metadata": {
  "kernelspec": {
   "display_name": "Python 3 (ipykernel)",
   "language": "python",
   "name": "python3"
  },
  "language_info": {
   "codemirror_mode": {
    "name": "ipython",
    "version": 3
   },
   "file_extension": ".py",
   "mimetype": "text/x-python",
   "name": "python",
   "nbconvert_exporter": "python",
   "pygments_lexer": "ipython3",
   "version": "3.9.18"
  }
 },
 "nbformat": 4,
 "nbformat_minor": 5
}
