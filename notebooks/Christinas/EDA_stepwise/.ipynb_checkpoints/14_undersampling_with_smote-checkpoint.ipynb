{
 "cells": [
  {
   "cell_type": "code",
   "execution_count": 1,
   "id": "7167645e-0810-4e57-83c5-c40c33190bd9",
   "metadata": {
    "tags": []
   },
   "outputs": [],
   "source": [
    "import os\n",
    "import numpy as np\n",
    "import pandas as pd\n",
    "import seaborn as sns\n",
    "import matplotlib.pyplot as plt\n",
    "import warnings\n",
    "from sklearn.datasets import make_classification\n",
    "from sklearn.linear_model import LogisticRegression\n",
    "from sklearn.metrics import (\n",
    "    accuracy_score, classification_report, confusion_matrix,\n",
    "    classification_report, roc_auc_score, roc_curve, auc,\n",
    "    precision_recall_curve, average_precision_score\n",
    ")\n",
    "from sklearn.model_selection import train_test_split, cross_val_score, GridSearchCV\n",
    "from sklearn.preprocessing import StandardScaler, MinMaxScaler\n",
    "from sklearn.ensemble import RandomForestClassifier\n",
    "from imblearn.combine import SMOTEENN\n",
    "from imblearn.under_sampling import RandomUnderSampler, EditedNearestNeighbours\n",
    "\n",
    "os.environ['LOKY_MAX_CPU_COUNT'] = '4'"
   ]
  },
  {
   "cell_type": "markdown",
   "id": "6448f81e-8c22-48c9-95a6-22aca5897d2b",
   "metadata": {},
   "source": [
    "# Scale data:\n",
    "\n",
    "MinMaxScaler (normalization) scales your data to a specific range, typically [0, 1] or [-1, 1]. \n",
    "It's useful when you want to constrain the features within a specific range and when you don't want to \n",
    "assume a normal distribution of the data. This is a good choice when the absolute values and the relative \n",
    "relationships between your features are important."
   ]
  },
  {
   "cell_type": "code",
   "execution_count": 2,
   "id": "f4af3f05-abcd-45c7-99f4-0f76b616d631",
   "metadata": {},
   "outputs": [],
   "source": [
    "# Define the data types as a dictionary\n",
    "dtypes = {\n",
    "    'census_tract': 'float32',\n",
    "    'action_taken': 'int32',\n",
    "    'loan_type': 'int32',\n",
    "    'lien_status': 'int32',\n",
    "    'reverse_mortgage': 'int32',\n",
    "    'open_end_line_of_credit': 'int32',\n",
    "    'loan_amount': 'int32',\n",
    "    'combined_loan_to_value_ratio': 'int32',\n",
    "    'interest_rate': 'float32',\n",
    "    'total_loan_costs': 'int32',\n",
    "    'origination_charges': 'int32',\n",
    "    'loan_term': 'int32',\n",
    "    'negative_amortization': 'int32',\n",
    "    'interest_only_payment': 'int32',\n",
    "    'balloon_payment': 'int32',\n",
    "    'other_nonamortizing_features': 'int32',\n",
    "    'property_value': 'float32',\n",
    "    'occupancy_type': 'int32',\n",
    "    'manufactured_home_secured_property_type': 'int32',\n",
    "    'manufactured_home_land_property_interest': 'int32',\n",
    "    'total_units': 'int32',\n",
    "    'income': 'float32',\n",
    "    'debt_to_income_ratio': 'int32',\n",
    "    'applicant_credit_score_type': 'int32',\n",
    "    'co_applicant_credit_score_type': 'int32',\n",
    "    'applicant_sex': 'int32',\n",
    "    'co_applicant_sex': 'int32',\n",
    "    'applicant_age': 'int32',\n",
    "    'co_applicant_age': 'int32',\n",
    "    'aus_1': 'int32',\n",
    "    'applicant_race_1': 'float32',\n",
    "    'applicant_race_2': 'float32',\n",
    "    'co_applicant_race_1': 'float32',\n",
    "    'co_applicant_race_2': 'float32',\n",
    "    'applicant_ethnicity_1': 'float32',\n",
    "    'co_applicant_ethnicity_1': 'float32'\n",
    "}"
   ]
  },
  {
   "cell_type": "code",
   "execution_count": 3,
   "id": "a72d5679-6bf9-423a-aef8-6eb3ceb31684",
   "metadata": {
    "tags": []
   },
   "outputs": [],
   "source": [
    "# Read the CSV file with specified data types\n",
    "df = pd.read_csv('10_all_numerical_32bit.csv', dtype=dtypes, low_memory=False)"
   ]
  },
  {
   "cell_type": "code",
   "execution_count": 4,
   "id": "9558c5a9-4544-403a-b52d-986f17637add",
   "metadata": {
    "tags": []
   },
   "outputs": [
    {
     "name": "stdout",
     "output_type": "stream",
     "text": [
      "<class 'pandas.core.frame.DataFrame'>\n",
      "RangeIndex: 148621 entries, 0 to 148620\n",
      "Data columns (total 36 columns):\n",
      " #   Column                                    Non-Null Count   Dtype  \n",
      "---  ------                                    --------------   -----  \n",
      " 0   census_tract                              148621 non-null  float32\n",
      " 1   action_taken                              148621 non-null  int32  \n",
      " 2   loan_type                                 148621 non-null  int32  \n",
      " 3   lien_status                               148621 non-null  int32  \n",
      " 4   reverse_mortgage                          148621 non-null  int32  \n",
      " 5   open_end_line_of_credit                   148621 non-null  int32  \n",
      " 6   loan_amount                               148621 non-null  int32  \n",
      " 7   combined_loan_to_value_ratio              148621 non-null  int32  \n",
      " 8   interest_rate                             148621 non-null  float32\n",
      " 9   total_loan_costs                          148621 non-null  int32  \n",
      " 10  origination_charges                       148621 non-null  int32  \n",
      " 11  loan_term                                 148621 non-null  int32  \n",
      " 12  negative_amortization                     148621 non-null  int32  \n",
      " 13  interest_only_payment                     148621 non-null  int32  \n",
      " 14  balloon_payment                           148621 non-null  int32  \n",
      " 15  other_nonamortizing_features              148621 non-null  int32  \n",
      " 16  property_value                            148621 non-null  float32\n",
      " 17  occupancy_type                            148621 non-null  int32  \n",
      " 18  manufactured_home_secured_property_type   148621 non-null  int32  \n",
      " 19  manufactured_home_land_property_interest  148621 non-null  int32  \n",
      " 20  total_units                               148621 non-null  int32  \n",
      " 21  income                                    148621 non-null  float32\n",
      " 22  debt_to_income_ratio                      148621 non-null  int32  \n",
      " 23  applicant_credit_score_type               148621 non-null  int32  \n",
      " 24  co_applicant_credit_score_type            148621 non-null  int32  \n",
      " 25  applicant_sex                             148621 non-null  int32  \n",
      " 26  co_applicant_sex                          148621 non-null  int32  \n",
      " 27  applicant_age                             148621 non-null  int32  \n",
      " 28  co_applicant_age                          148621 non-null  int32  \n",
      " 29  aus_1                                     148621 non-null  int32  \n",
      " 30  applicant_race_1                          148621 non-null  float32\n",
      " 31  applicant_race_2                          148621 non-null  float32\n",
      " 32  co_applicant_race_1                       148621 non-null  float32\n",
      " 33  co_applicant_race_2                       148621 non-null  float32\n",
      " 34  applicant_ethnicity_1                     148621 non-null  float32\n",
      " 35  co_applicant_ethnicity_1                  148621 non-null  float32\n",
      "dtypes: float32(10), int32(26)\n",
      "memory usage: 20.4 MB\n"
     ]
    }
   ],
   "source": [
    "df.info()"
   ]
  },
  {
   "cell_type": "markdown",
   "id": "a3090d7c-d3e6-4485-8c15-1dd549f1dfa4",
   "metadata": {},
   "source": [
    "# Scale data between 1 and 0"
   ]
  },
  {
   "cell_type": "code",
   "execution_count": 5,
   "id": "743c5f37-110c-46c9-a29c-a2b4fc95e76f",
   "metadata": {},
   "outputs": [],
   "source": [
    "scaler = MinMaxScaler()\n",
    "df_scaled = pd.DataFrame(scaler.fit_transform(df), columns=df.columns)"
   ]
  },
  {
   "cell_type": "code",
   "execution_count": null,
   "id": "3ba42899-1826-444f-8a86-359eed097dd3",
   "metadata": {},
   "outputs": [],
   "source": [
    "df.to_csv('final_dataset.csv', index=False)"
   ]
  },
  {
   "cell_type": "markdown",
   "id": "922b7c94-3e5c-4828-a360-06291f2b0047",
   "metadata": {},
   "source": [
    "# Create X and y"
   ]
  },
  {
   "cell_type": "code",
   "execution_count": 6,
   "id": "a416b8c4-204d-4dc0-a52a-ad20149a8fd5",
   "metadata": {
    "tags": []
   },
   "outputs": [],
   "source": [
    "X = df_scaled.drop('action_taken', axis=1)\n",
    "y = df_scaled['action_taken']"
   ]
  },
  {
   "cell_type": "code",
   "execution_count": 7,
   "id": "2077da24-04d3-46ff-a0b1-330227d55663",
   "metadata": {
    "tags": []
   },
   "outputs": [
    {
     "data": {
      "text/html": [
       "<div>\n",
       "<style scoped>\n",
       "    .dataframe tbody tr th:only-of-type {\n",
       "        vertical-align: middle;\n",
       "    }\n",
       "\n",
       "    .dataframe tbody tr th {\n",
       "        vertical-align: top;\n",
       "    }\n",
       "\n",
       "    .dataframe thead th {\n",
       "        text-align: right;\n",
       "    }\n",
       "</style>\n",
       "<table border=\"1\" class=\"dataframe\">\n",
       "  <thead>\n",
       "    <tr style=\"text-align: right;\">\n",
       "      <th></th>\n",
       "      <th>census_tract</th>\n",
       "      <th>loan_type</th>\n",
       "      <th>lien_status</th>\n",
       "      <th>reverse_mortgage</th>\n",
       "      <th>open_end_line_of_credit</th>\n",
       "      <th>loan_amount</th>\n",
       "      <th>combined_loan_to_value_ratio</th>\n",
       "      <th>interest_rate</th>\n",
       "      <th>total_loan_costs</th>\n",
       "      <th>origination_charges</th>\n",
       "      <th>...</th>\n",
       "      <th>co_applicant_sex</th>\n",
       "      <th>applicant_age</th>\n",
       "      <th>co_applicant_age</th>\n",
       "      <th>aus_1</th>\n",
       "      <th>applicant_race_1</th>\n",
       "      <th>applicant_race_2</th>\n",
       "      <th>co_applicant_race_1</th>\n",
       "      <th>co_applicant_race_2</th>\n",
       "      <th>applicant_ethnicity_1</th>\n",
       "      <th>co_applicant_ethnicity_1</th>\n",
       "    </tr>\n",
       "  </thead>\n",
       "  <tbody>\n",
       "    <tr>\n",
       "      <th>0</th>\n",
       "      <td>0.112671</td>\n",
       "      <td>0.333333</td>\n",
       "      <td>0.0</td>\n",
       "      <td>0.0</td>\n",
       "      <td>1.0</td>\n",
       "      <td>0.003901</td>\n",
       "      <td>0.1250</td>\n",
       "      <td>0.4</td>\n",
       "      <td>0.235294</td>\n",
       "      <td>0.142857</td>\n",
       "      <td>...</td>\n",
       "      <td>0.8</td>\n",
       "      <td>0.142857</td>\n",
       "      <td>0.75</td>\n",
       "      <td>0.0</td>\n",
       "      <td>0.0</td>\n",
       "      <td>1.0</td>\n",
       "      <td>1.0</td>\n",
       "      <td>1.0</td>\n",
       "      <td>1.0</td>\n",
       "      <td>1.0</td>\n",
       "    </tr>\n",
       "    <tr>\n",
       "      <th>1</th>\n",
       "      <td>0.577495</td>\n",
       "      <td>0.666667</td>\n",
       "      <td>0.0</td>\n",
       "      <td>0.0</td>\n",
       "      <td>1.0</td>\n",
       "      <td>0.007092</td>\n",
       "      <td>0.9375</td>\n",
       "      <td>0.4</td>\n",
       "      <td>0.235294</td>\n",
       "      <td>0.142857</td>\n",
       "      <td>...</td>\n",
       "      <td>0.2</td>\n",
       "      <td>1.000000</td>\n",
       "      <td>0.50</td>\n",
       "      <td>0.0</td>\n",
       "      <td>1.0</td>\n",
       "      <td>1.0</td>\n",
       "      <td>1.0</td>\n",
       "      <td>1.0</td>\n",
       "      <td>1.0</td>\n",
       "      <td>1.0</td>\n",
       "    </tr>\n",
       "    <tr>\n",
       "      <th>2</th>\n",
       "      <td>0.464855</td>\n",
       "      <td>0.000000</td>\n",
       "      <td>0.0</td>\n",
       "      <td>0.0</td>\n",
       "      <td>1.0</td>\n",
       "      <td>0.007092</td>\n",
       "      <td>0.3750</td>\n",
       "      <td>0.4</td>\n",
       "      <td>0.235294</td>\n",
       "      <td>0.142857</td>\n",
       "      <td>...</td>\n",
       "      <td>0.8</td>\n",
       "      <td>0.142857</td>\n",
       "      <td>0.75</td>\n",
       "      <td>0.0</td>\n",
       "      <td>0.0</td>\n",
       "      <td>1.0</td>\n",
       "      <td>1.0</td>\n",
       "      <td>1.0</td>\n",
       "      <td>1.0</td>\n",
       "      <td>1.0</td>\n",
       "    </tr>\n",
       "    <tr>\n",
       "      <th>3</th>\n",
       "      <td>0.071300</td>\n",
       "      <td>0.000000</td>\n",
       "      <td>0.0</td>\n",
       "      <td>0.0</td>\n",
       "      <td>1.0</td>\n",
       "      <td>0.005319</td>\n",
       "      <td>0.4375</td>\n",
       "      <td>0.4</td>\n",
       "      <td>0.235294</td>\n",
       "      <td>0.142857</td>\n",
       "      <td>...</td>\n",
       "      <td>0.8</td>\n",
       "      <td>0.571429</td>\n",
       "      <td>0.75</td>\n",
       "      <td>0.0</td>\n",
       "      <td>1.0</td>\n",
       "      <td>1.0</td>\n",
       "      <td>1.0</td>\n",
       "      <td>1.0</td>\n",
       "      <td>1.0</td>\n",
       "      <td>1.0</td>\n",
       "    </tr>\n",
       "    <tr>\n",
       "      <th>4</th>\n",
       "      <td>0.508531</td>\n",
       "      <td>0.000000</td>\n",
       "      <td>0.0</td>\n",
       "      <td>0.0</td>\n",
       "      <td>1.0</td>\n",
       "      <td>0.008865</td>\n",
       "      <td>0.1875</td>\n",
       "      <td>0.4</td>\n",
       "      <td>0.235294</td>\n",
       "      <td>0.142857</td>\n",
       "      <td>...</td>\n",
       "      <td>0.8</td>\n",
       "      <td>0.428571</td>\n",
       "      <td>0.75</td>\n",
       "      <td>0.0</td>\n",
       "      <td>0.0</td>\n",
       "      <td>1.0</td>\n",
       "      <td>1.0</td>\n",
       "      <td>1.0</td>\n",
       "      <td>1.0</td>\n",
       "      <td>1.0</td>\n",
       "    </tr>\n",
       "    <tr>\n",
       "      <th>...</th>\n",
       "      <td>...</td>\n",
       "      <td>...</td>\n",
       "      <td>...</td>\n",
       "      <td>...</td>\n",
       "      <td>...</td>\n",
       "      <td>...</td>\n",
       "      <td>...</td>\n",
       "      <td>...</td>\n",
       "      <td>...</td>\n",
       "      <td>...</td>\n",
       "      <td>...</td>\n",
       "      <td>...</td>\n",
       "      <td>...</td>\n",
       "      <td>...</td>\n",
       "      <td>...</td>\n",
       "      <td>...</td>\n",
       "      <td>...</td>\n",
       "      <td>...</td>\n",
       "      <td>...</td>\n",
       "      <td>...</td>\n",
       "      <td>...</td>\n",
       "    </tr>\n",
       "    <tr>\n",
       "      <th>148616</th>\n",
       "      <td>0.423912</td>\n",
       "      <td>0.000000</td>\n",
       "      <td>0.0</td>\n",
       "      <td>0.0</td>\n",
       "      <td>1.0</td>\n",
       "      <td>0.004610</td>\n",
       "      <td>0.0000</td>\n",
       "      <td>0.6</td>\n",
       "      <td>0.235294</td>\n",
       "      <td>0.285714</td>\n",
       "      <td>...</td>\n",
       "      <td>0.8</td>\n",
       "      <td>0.571429</td>\n",
       "      <td>0.75</td>\n",
       "      <td>0.8</td>\n",
       "      <td>1.0</td>\n",
       "      <td>1.0</td>\n",
       "      <td>1.0</td>\n",
       "      <td>1.0</td>\n",
       "      <td>1.0</td>\n",
       "      <td>1.0</td>\n",
       "    </tr>\n",
       "    <tr>\n",
       "      <th>148617</th>\n",
       "      <td>0.353741</td>\n",
       "      <td>0.000000</td>\n",
       "      <td>0.0</td>\n",
       "      <td>0.0</td>\n",
       "      <td>1.0</td>\n",
       "      <td>0.027305</td>\n",
       "      <td>0.1875</td>\n",
       "      <td>0.4</td>\n",
       "      <td>0.058824</td>\n",
       "      <td>0.000000</td>\n",
       "      <td>...</td>\n",
       "      <td>0.0</td>\n",
       "      <td>0.142857</td>\n",
       "      <td>0.25</td>\n",
       "      <td>0.8</td>\n",
       "      <td>1.0</td>\n",
       "      <td>1.0</td>\n",
       "      <td>1.0</td>\n",
       "      <td>1.0</td>\n",
       "      <td>1.0</td>\n",
       "      <td>1.0</td>\n",
       "    </tr>\n",
       "    <tr>\n",
       "      <th>148618</th>\n",
       "      <td>0.366805</td>\n",
       "      <td>0.000000</td>\n",
       "      <td>0.0</td>\n",
       "      <td>0.0</td>\n",
       "      <td>1.0</td>\n",
       "      <td>0.006738</td>\n",
       "      <td>0.0000</td>\n",
       "      <td>0.5</td>\n",
       "      <td>0.411765</td>\n",
       "      <td>0.857143</td>\n",
       "      <td>...</td>\n",
       "      <td>0.2</td>\n",
       "      <td>0.000000</td>\n",
       "      <td>0.00</td>\n",
       "      <td>0.0</td>\n",
       "      <td>1.0</td>\n",
       "      <td>1.0</td>\n",
       "      <td>1.0</td>\n",
       "      <td>1.0</td>\n",
       "      <td>1.0</td>\n",
       "      <td>1.0</td>\n",
       "    </tr>\n",
       "    <tr>\n",
       "      <th>148619</th>\n",
       "      <td>0.071975</td>\n",
       "      <td>0.000000</td>\n",
       "      <td>0.0</td>\n",
       "      <td>0.0</td>\n",
       "      <td>1.0</td>\n",
       "      <td>0.012766</td>\n",
       "      <td>0.0625</td>\n",
       "      <td>0.4</td>\n",
       "      <td>0.058824</td>\n",
       "      <td>0.142857</td>\n",
       "      <td>...</td>\n",
       "      <td>0.2</td>\n",
       "      <td>0.000000</td>\n",
       "      <td>0.00</td>\n",
       "      <td>0.0</td>\n",
       "      <td>1.0</td>\n",
       "      <td>1.0</td>\n",
       "      <td>1.0</td>\n",
       "      <td>1.0</td>\n",
       "      <td>1.0</td>\n",
       "      <td>1.0</td>\n",
       "    </tr>\n",
       "    <tr>\n",
       "      <th>148620</th>\n",
       "      <td>0.563245</td>\n",
       "      <td>0.000000</td>\n",
       "      <td>0.0</td>\n",
       "      <td>0.0</td>\n",
       "      <td>1.0</td>\n",
       "      <td>0.026950</td>\n",
       "      <td>0.0000</td>\n",
       "      <td>0.4</td>\n",
       "      <td>0.117647</td>\n",
       "      <td>0.428571</td>\n",
       "      <td>...</td>\n",
       "      <td>0.8</td>\n",
       "      <td>0.142857</td>\n",
       "      <td>0.75</td>\n",
       "      <td>0.8</td>\n",
       "      <td>1.0</td>\n",
       "      <td>1.0</td>\n",
       "      <td>1.0</td>\n",
       "      <td>1.0</td>\n",
       "      <td>1.0</td>\n",
       "      <td>1.0</td>\n",
       "    </tr>\n",
       "  </tbody>\n",
       "</table>\n",
       "<p>148621 rows × 35 columns</p>\n",
       "</div>"
      ],
      "text/plain": [
       "        census_tract  loan_type  lien_status  reverse_mortgage  \\\n",
       "0           0.112671   0.333333          0.0               0.0   \n",
       "1           0.577495   0.666667          0.0               0.0   \n",
       "2           0.464855   0.000000          0.0               0.0   \n",
       "3           0.071300   0.000000          0.0               0.0   \n",
       "4           0.508531   0.000000          0.0               0.0   \n",
       "...              ...        ...          ...               ...   \n",
       "148616      0.423912   0.000000          0.0               0.0   \n",
       "148617      0.353741   0.000000          0.0               0.0   \n",
       "148618      0.366805   0.000000          0.0               0.0   \n",
       "148619      0.071975   0.000000          0.0               0.0   \n",
       "148620      0.563245   0.000000          0.0               0.0   \n",
       "\n",
       "        open_end_line_of_credit  loan_amount  combined_loan_to_value_ratio  \\\n",
       "0                           1.0     0.003901                        0.1250   \n",
       "1                           1.0     0.007092                        0.9375   \n",
       "2                           1.0     0.007092                        0.3750   \n",
       "3                           1.0     0.005319                        0.4375   \n",
       "4                           1.0     0.008865                        0.1875   \n",
       "...                         ...          ...                           ...   \n",
       "148616                      1.0     0.004610                        0.0000   \n",
       "148617                      1.0     0.027305                        0.1875   \n",
       "148618                      1.0     0.006738                        0.0000   \n",
       "148619                      1.0     0.012766                        0.0625   \n",
       "148620                      1.0     0.026950                        0.0000   \n",
       "\n",
       "        interest_rate  total_loan_costs  origination_charges  ...  \\\n",
       "0                 0.4          0.235294             0.142857  ...   \n",
       "1                 0.4          0.235294             0.142857  ...   \n",
       "2                 0.4          0.235294             0.142857  ...   \n",
       "3                 0.4          0.235294             0.142857  ...   \n",
       "4                 0.4          0.235294             0.142857  ...   \n",
       "...               ...               ...                  ...  ...   \n",
       "148616            0.6          0.235294             0.285714  ...   \n",
       "148617            0.4          0.058824             0.000000  ...   \n",
       "148618            0.5          0.411765             0.857143  ...   \n",
       "148619            0.4          0.058824             0.142857  ...   \n",
       "148620            0.4          0.117647             0.428571  ...   \n",
       "\n",
       "        co_applicant_sex  applicant_age  co_applicant_age  aus_1  \\\n",
       "0                    0.8       0.142857              0.75    0.0   \n",
       "1                    0.2       1.000000              0.50    0.0   \n",
       "2                    0.8       0.142857              0.75    0.0   \n",
       "3                    0.8       0.571429              0.75    0.0   \n",
       "4                    0.8       0.428571              0.75    0.0   \n",
       "...                  ...            ...               ...    ...   \n",
       "148616               0.8       0.571429              0.75    0.8   \n",
       "148617               0.0       0.142857              0.25    0.8   \n",
       "148618               0.2       0.000000              0.00    0.0   \n",
       "148619               0.2       0.000000              0.00    0.0   \n",
       "148620               0.8       0.142857              0.75    0.8   \n",
       "\n",
       "        applicant_race_1  applicant_race_2  co_applicant_race_1  \\\n",
       "0                    0.0               1.0                  1.0   \n",
       "1                    1.0               1.0                  1.0   \n",
       "2                    0.0               1.0                  1.0   \n",
       "3                    1.0               1.0                  1.0   \n",
       "4                    0.0               1.0                  1.0   \n",
       "...                  ...               ...                  ...   \n",
       "148616               1.0               1.0                  1.0   \n",
       "148617               1.0               1.0                  1.0   \n",
       "148618               1.0               1.0                  1.0   \n",
       "148619               1.0               1.0                  1.0   \n",
       "148620               1.0               1.0                  1.0   \n",
       "\n",
       "        co_applicant_race_2  applicant_ethnicity_1  co_applicant_ethnicity_1  \n",
       "0                       1.0                    1.0                       1.0  \n",
       "1                       1.0                    1.0                       1.0  \n",
       "2                       1.0                    1.0                       1.0  \n",
       "3                       1.0                    1.0                       1.0  \n",
       "4                       1.0                    1.0                       1.0  \n",
       "...                     ...                    ...                       ...  \n",
       "148616                  1.0                    1.0                       1.0  \n",
       "148617                  1.0                    1.0                       1.0  \n",
       "148618                  1.0                    1.0                       1.0  \n",
       "148619                  1.0                    1.0                       1.0  \n",
       "148620                  1.0                    1.0                       1.0  \n",
       "\n",
       "[148621 rows x 35 columns]"
      ]
     },
     "execution_count": 7,
     "metadata": {},
     "output_type": "execute_result"
    }
   ],
   "source": [
    "X"
   ]
  },
  {
   "cell_type": "code",
   "execution_count": 8,
   "id": "7ac37afb-9286-46b5-a2c4-8cf0be9b70dc",
   "metadata": {
    "tags": []
   },
   "outputs": [],
   "source": [
    "# Split your data into training and testing sets\n",
    "X_train, X_test, y_train, y_test = train_test_split(X, y, test_size=0.2, random_state=42)"
   ]
  },
  {
   "cell_type": "markdown",
   "id": "a5108f3e-7902-46ae-9adf-6b6053c012aa",
   "metadata": {},
   "source": [
    "# Logistic regression"
   ]
  },
  {
   "cell_type": "code",
   "execution_count": 9,
   "id": "6d89f612-db8d-4fb1-8544-a64c68b8dd40",
   "metadata": {
    "tags": []
   },
   "outputs": [
    {
     "data": {
      "text/html": [
       "<style>#sk-container-id-1 {color: black;}#sk-container-id-1 pre{padding: 0;}#sk-container-id-1 div.sk-toggleable {background-color: white;}#sk-container-id-1 label.sk-toggleable__label {cursor: pointer;display: block;width: 100%;margin-bottom: 0;padding: 0.3em;box-sizing: border-box;text-align: center;}#sk-container-id-1 label.sk-toggleable__label-arrow:before {content: \"▸\";float: left;margin-right: 0.25em;color: #696969;}#sk-container-id-1 label.sk-toggleable__label-arrow:hover:before {color: black;}#sk-container-id-1 div.sk-estimator:hover label.sk-toggleable__label-arrow:before {color: black;}#sk-container-id-1 div.sk-toggleable__content {max-height: 0;max-width: 0;overflow: hidden;text-align: left;background-color: #f0f8ff;}#sk-container-id-1 div.sk-toggleable__content pre {margin: 0.2em;color: black;border-radius: 0.25em;background-color: #f0f8ff;}#sk-container-id-1 input.sk-toggleable__control:checked~div.sk-toggleable__content {max-height: 200px;max-width: 100%;overflow: auto;}#sk-container-id-1 input.sk-toggleable__control:checked~label.sk-toggleable__label-arrow:before {content: \"▾\";}#sk-container-id-1 div.sk-estimator input.sk-toggleable__control:checked~label.sk-toggleable__label {background-color: #d4ebff;}#sk-container-id-1 div.sk-label input.sk-toggleable__control:checked~label.sk-toggleable__label {background-color: #d4ebff;}#sk-container-id-1 input.sk-hidden--visually {border: 0;clip: rect(1px 1px 1px 1px);clip: rect(1px, 1px, 1px, 1px);height: 1px;margin: -1px;overflow: hidden;padding: 0;position: absolute;width: 1px;}#sk-container-id-1 div.sk-estimator {font-family: monospace;background-color: #f0f8ff;border: 1px dotted black;border-radius: 0.25em;box-sizing: border-box;margin-bottom: 0.5em;}#sk-container-id-1 div.sk-estimator:hover {background-color: #d4ebff;}#sk-container-id-1 div.sk-parallel-item::after {content: \"\";width: 100%;border-bottom: 1px solid gray;flex-grow: 1;}#sk-container-id-1 div.sk-label:hover label.sk-toggleable__label {background-color: #d4ebff;}#sk-container-id-1 div.sk-serial::before {content: \"\";position: absolute;border-left: 1px solid gray;box-sizing: border-box;top: 0;bottom: 0;left: 50%;z-index: 0;}#sk-container-id-1 div.sk-serial {display: flex;flex-direction: column;align-items: center;background-color: white;padding-right: 0.2em;padding-left: 0.2em;position: relative;}#sk-container-id-1 div.sk-item {position: relative;z-index: 1;}#sk-container-id-1 div.sk-parallel {display: flex;align-items: stretch;justify-content: center;background-color: white;position: relative;}#sk-container-id-1 div.sk-item::before, #sk-container-id-1 div.sk-parallel-item::before {content: \"\";position: absolute;border-left: 1px solid gray;box-sizing: border-box;top: 0;bottom: 0;left: 50%;z-index: -1;}#sk-container-id-1 div.sk-parallel-item {display: flex;flex-direction: column;z-index: 1;position: relative;background-color: white;}#sk-container-id-1 div.sk-parallel-item:first-child::after {align-self: flex-end;width: 50%;}#sk-container-id-1 div.sk-parallel-item:last-child::after {align-self: flex-start;width: 50%;}#sk-container-id-1 div.sk-parallel-item:only-child::after {width: 0;}#sk-container-id-1 div.sk-dashed-wrapped {border: 1px dashed gray;margin: 0 0.4em 0.5em 0.4em;box-sizing: border-box;padding-bottom: 0.4em;background-color: white;}#sk-container-id-1 div.sk-label label {font-family: monospace;font-weight: bold;display: inline-block;line-height: 1.2em;}#sk-container-id-1 div.sk-label-container {text-align: center;}#sk-container-id-1 div.sk-container {/* jupyter's `normalize.less` sets `[hidden] { display: none; }` but bootstrap.min.css set `[hidden] { display: none !important; }` so we also need the `!important` here to be able to override the default hidden behavior on the sphinx rendered scikit-learn.org. See: https://github.com/scikit-learn/scikit-learn/issues/21755 */display: inline-block !important;position: relative;}#sk-container-id-1 div.sk-text-repr-fallback {display: none;}</style><div id=\"sk-container-id-1\" class=\"sk-top-container\"><div class=\"sk-text-repr-fallback\"><pre>LogisticRegression(max_iter=1000)</pre><b>In a Jupyter environment, please rerun this cell to show the HTML representation or trust the notebook. <br />On GitHub, the HTML representation is unable to render, please try loading this page with nbviewer.org.</b></div><div class=\"sk-container\" hidden><div class=\"sk-item\"><div class=\"sk-estimator sk-toggleable\"><input class=\"sk-toggleable__control sk-hidden--visually\" id=\"sk-estimator-id-1\" type=\"checkbox\" checked><label for=\"sk-estimator-id-1\" class=\"sk-toggleable__label sk-toggleable__label-arrow\">LogisticRegression</label><div class=\"sk-toggleable__content\"><pre>LogisticRegression(max_iter=1000)</pre></div></div></div></div></div>"
      ],
      "text/plain": [
       "LogisticRegression(max_iter=1000)"
      ]
     },
     "execution_count": 9,
     "metadata": {},
     "output_type": "execute_result"
    }
   ],
   "source": [
    "# Train a logistic regression model on the resampled training data\n",
    "model1 = LogisticRegression(max_iter=1000)\n",
    "model1.fit(X_train, y_train)"
   ]
  },
  {
   "cell_type": "code",
   "execution_count": 10,
   "id": "75cef60c-e1e2-4e21-9ac4-896f1d15497d",
   "metadata": {
    "tags": []
   },
   "outputs": [],
   "source": [
    "# Make predictions on the test set\n",
    "y_pred1 = model1.predict(X_test)"
   ]
  },
  {
   "cell_type": "code",
   "execution_count": 11,
   "id": "38539853-7b9d-4de8-827d-cd8ad04fdc9d",
   "metadata": {
    "tags": []
   },
   "outputs": [
    {
     "name": "stdout",
     "output_type": "stream",
     "text": [
      "              precision    recall  f1-score   support\n",
      "\n",
      "         0.0       0.83      0.80      0.82     14332\n",
      "         1.0       0.82      0.85      0.83     15393\n",
      "\n",
      "    accuracy                           0.83     29725\n",
      "   macro avg       0.83      0.83      0.83     29725\n",
      "weighted avg       0.83      0.83      0.83     29725\n",
      "\n"
     ]
    }
   ],
   "source": [
    "# Calculate and print the classification report\n",
    "report1 = classification_report(y_test, y_pred1, zero_division=1)\n",
    "\n",
    "print(report1)"
   ]
  },
  {
   "cell_type": "markdown",
   "id": "06639791-d4c8-4435-91f8-bae7d61d1761",
   "metadata": {},
   "source": [
    "# Logistic regression with regularisation"
   ]
  },
  {
   "cell_type": "code",
   "execution_count": 12,
   "id": "2d39dc63-a19f-414a-9824-3a606557caa9",
   "metadata": {},
   "outputs": [
    {
     "name": "stdout",
     "output_type": "stream",
     "text": [
      "              precision    recall  f1-score   support\n",
      "\n",
      "         0.0       0.83      0.80      0.82     14332\n",
      "         1.0       0.82      0.85      0.83     15393\n",
      "\n",
      "    accuracy                           0.83     29725\n",
      "   macro avg       0.83      0.83      0.83     29725\n",
      "weighted avg       0.83      0.83      0.83     29725\n",
      "\n"
     ]
    }
   ],
   "source": [
    "# Create a regularized logistic regression model with L2 regularization\n",
    "model3 = LogisticRegression(penalty='l2', C=1.0 ,max_iter=1000)\n",
    "\n",
    "# Fit the model on the resampled training data\n",
    "model3.fit(X_train, y_train)\n",
    "\n",
    "# Make predictions on the test set\n",
    "y_pred3 = model3.predict(X_test)\n",
    "\n",
    "# Calculate and print the classification report\n",
    "report3 = classification_report(y_test, y_pred3, zero_division=1)\n",
    "print(report3)"
   ]
  },
  {
   "cell_type": "markdown",
   "id": "51254379-7294-46cc-8e1b-e11911987505",
   "metadata": {
    "tags": []
   },
   "source": [
    "# SMOTE-ENN (Synthetic Minority Over-sampling Technique - Edited Nearest Neighbors): \n",
    "    \n",
    "This technique first oversamples the minority class using SMOTE and then removes \n",
    "noisy samples by applying Edited Nearest Neighbors (ENN) to the combined dataset. \n",
    "It's a good choice if you suspect that there are noisy samples in your majority class \n",
    "that you want to remove."
   ]
  },
  {
   "cell_type": "code",
   "execution_count": 13,
   "id": "f0799219-3061-4e62-981c-157f9017e1d1",
   "metadata": {
    "tags": []
   },
   "outputs": [
    {
     "name": "stdout",
     "output_type": "stream",
     "text": [
      "              precision    recall  f1-score   support\n",
      "\n",
      "         0.0       0.87      0.75      0.81     14332\n",
      "         1.0       0.79      0.89      0.84     15393\n",
      "\n",
      "    accuracy                           0.82     29725\n",
      "   macro avg       0.83      0.82      0.82     29725\n",
      "weighted avg       0.83      0.82      0.82     29725\n",
      "\n",
      "AUC-ROC: 0.8989380319542764\n",
      "Precision-Recall AUC: 0.8952537167600767\n"
     ]
    }
   ],
   "source": [
    "# Create a SMOTE-ENN instance\n",
    "smote_enn = SMOTEENN(enn=EditedNearestNeighbours(sampling_strategy='majority'))\n",
    "\n",
    "# Fit and resample your training data\n",
    "X_resampled, y_resampled = smote_enn.fit_resample(X_train, y_train)\n",
    "\n",
    "# Create a regularized logistic regression model with L2 regularization\n",
    "logistic_reg_smote = LogisticRegression(penalty='l2', C=1.0, max_iter=1000)\n",
    "\n",
    "# Fit the model on the resampled training data\n",
    "logistic_reg_smote.fit(X_resampled, y_resampled)\n",
    "\n",
    "# Make predictions on the test set\n",
    "y_prob = logistic_reg_smote.predict_proba(X_test)[:, 1]\n",
    "\n",
    "# Calculate and print the classification report\n",
    "report = classification_report(y_test, (y_prob > 0.5).astype(int), zero_division=1)\n",
    "print(report)\n",
    "\n",
    "# Calculate AUC-ROC\n",
    "roc_auc = roc_auc_score(y_test, y_prob)\n",
    "print(\"AUC-ROC:\", roc_auc)\n",
    "\n",
    "# Calculate Precision-Recall AUC\n",
    "precision, recall, _ = precision_recall_curve(y_test, y_prob, pos_label=1)\n",
    "pr_auc = auc(recall, precision)\n",
    "print(\"Precision-Recall AUC:\", pr_auc)"
   ]
  },
  {
   "cell_type": "code",
   "execution_count": 14,
   "id": "f28e11b7-82c6-4bde-945a-ae1470aae327",
   "metadata": {
    "tags": []
   },
   "outputs": [
    {
     "data": {
      "image/png": "[encoded data removed]",
      "text/plain": [
       "<Figure size 640x480 with 1 Axes>"
      ]
     },
     "metadata": {},
     "output_type": "display_data"
    }
   ],
   "source": [
    "# Calculate the False Positive Rate (FPR) and True Positive Rate (TPR)\n",
    "fpr, tpr, _ = roc_curve(y_test, y_prob)\n",
    "\n",
    "# Calculate AUC-ROC\n",
    "roc_auc = auc(fpr, tpr)\n",
    "\n",
    "# Create the ROC curve plot\n",
    "plt.figure()\n",
    "plt.plot(fpr, tpr, color='darkorange', lw=2, label='ROC curve (area = %0.2f)' % roc_auc)\n",
    "plt.plot([0, 1], [0, 1], color='navy', lw=2, linestyle='--')\n",
    "plt.xlim([0.0, 1.0])\n",
    "plt.ylim([0.0, 1.05])\n",
    "plt.xlabel('False Positive Rate')\n",
    "plt.ylabel('True Positive Rate')\n",
    "plt.title('ROC Curve')\n",
    "plt.legend(loc=\"lower right\")\n",
    "plt.show()\n"
   ]
  },
  {
   "cell_type": "code",
   "execution_count": 15,
   "id": "72ed01d6-d425-4f8d-a23c-245de198c061",
   "metadata": {
    "tags": []
   },
   "outputs": [
    {
     "data": {
      "text/plain": [
       "co_applicant_ethnicity_1\n",
       "2.0    141655\n",
       "1.0      6966\n",
       "Name: count, dtype: int64"
      ]
     },
     "execution_count": 15,
     "metadata": {},
     "output_type": "execute_result"
    }
   ],
   "source": [
    "'''\n",
    "\n",
    "The BIAS columns that need to be fair:\n",
    "\n",
    " 25  applicant_sex                             143288 non-null  int32  \n",
    " 26  co_applicant_sex                          143288 non-null  int32  \n",
    " 27  applicant_age                             143288 non-null  int32  \n",
    " 28  co_applicant_age                          143288 non-null  int32  \n",
    " 30  applicant_race_1                          143288 non-null  float32\n",
    " 31  applicant_race_2                          143288 non-null  float32\n",
    " 32  co_applicant_race_1                       143288 non-null  float32\n",
    " 33  co_applicant_race_2                       143288 non-null  float32\n",
    " 34  applicant_ethnicity_1                     143288 non-null  float32\n",
    " 35  co_applicant_ethnicity_1\n",
    " \n",
    " '''\n",
    "\n",
    "\n",
    "\n",
    "df['co_applicant_ethnicity_1'].value_counts()"
   ]
  },
  {
   "cell_type": "code",
   "execution_count": 16,
   "id": "e74bcbd8-4c0b-4504-8112-529da2c63763",
   "metadata": {},
   "outputs": [
    {
     "data": {
      "text/plain": [
       "\"\\n\\nfrom imblearn.over_sampling import SMOTE\\nimport numpy as np\\n\\n# Assuming X_min is your minority class data with the specific columns you want to focus on\\nX_selected = X_min[:, [1, 3, 5]]  # Select columns 1, 3, and 5, for example\\n\\n# Apply SMOTE only to the selected features\\nsmote = SMOTE(sampling_strategy='auto', random_state=42)\\nX_resampled, y_resampled = smote.fit_resample(X_selected, y_min)\\n\\n# Concatenate the resampled data with the unchanged columns from the original data\\nX_resampled_full = np.column_stack((X_min, X_resampled[:, [1, 2]]))  # Assuming you want to keep all columns\\n\\n\""
      ]
     },
     "execution_count": 16,
     "metadata": {},
     "output_type": "execute_result"
    }
   ],
   "source": [
    "'''\n",
    "\n",
    "from imblearn.over_sampling import SMOTE\n",
    "import numpy as np\n",
    "\n",
    "# Assuming X_min is your minority class data with the specific columns you want to focus on\n",
    "X_selected = X_min[:, [1, 3, 5]]  # Select columns 1, 3, and 5, for example\n",
    "\n",
    "# Apply SMOTE only to the selected features\n",
    "smote = SMOTE(sampling_strategy='auto', random_state=42)\n",
    "X_resampled, y_resampled = smote.fit_resample(X_selected, y_min)\n",
    "\n",
    "# Concatenate the resampled data with the unchanged columns from the original data\n",
    "X_resampled_full = np.column_stack((X_min, X_resampled[:, [1, 2]]))  # Assuming you want to keep all columns\n",
    "\n",
    "'''"
   ]
  },
  {
   "cell_type": "markdown",
   "id": "f6b31f9f-2801-463d-8b28-92f0c7060b5a",
   "metadata": {},
   "source": [
    "# Gridsearch"
   ]
  },
  {
   "cell_type": "code",
   "execution_count": null,
   "id": "8f7f0a29-3e50-4358-93a6-f23cf0ab296a",
   "metadata": {
    "tags": []
   },
   "outputs": [],
   "source": [
    "# Step 1: Define the parameter grid\n",
    "param_grid = {\n",
    "    'penalty': ['l1', 'l2'],  # Regularization type\n",
    "    'C': [0.001, 0.01, 0.1, 1, 10],  # Inverse of regularization strength\n",
    "    'max_iter': [1000, 10000, 100000]  # Maximum number of iterations\n",
    "}\n",
    "\n",
    "# Step 2: Create a logistic regression classifier\n",
    "logistic_reg = LogisticRegression()\n",
    "\n",
    "# Step 3: Create a GridSearchCV object\n",
    "grid_search = GridSearchCV(logistic_reg, param_grid, cv=5, scoring='roc_auc')\n",
    "\n",
    "# Step 4: Fit the GridSearchCV object on your data\n",
    "grid_search.fit(X_resampled, y_resampled)\n",
    "\n",
    "# Step 5: Access the best hyperparameters and the best estimator\n",
    "best_params = grid_search.best_params_\n",
    "best_estimator = grid_search.best_estimator_\n",
    "\n",
    "# Step 6: Use the best estimator for predictions and evaluation\n",
    "y_prob_best = best_estimator.predict_proba(X_test)[:, 1]\n",
    "roc_auc_best = roc_auc_score(y_test, y_prob_best)\n",
    "print(\"Best AUC-ROC:\", roc_auc_best)\n",
    "\n",
    "# You can also access other best hyperparameters as needed\n",
    "print(\"Best Hyperparameters:\", best_params)\n"
   ]
  }
 ],
 "metadata": {
  "kernelspec": {
   "display_name": "Python 3 (ipykernel)",
   "language": "python",
   "name": "python3"
  },
  "language_info": {
   "codemirror_mode": {
    "name": "ipython",
    "version": 3
   },
   "file_extension": ".py",
   "mimetype": "text/x-python",
   "name": "python",
   "nbconvert_exporter": "python",
   "pygments_lexer": "ipython3",
   "version": "3.9.18"
  }
 },
 "nbformat": 4,
 "nbformat_minor": 5
}
