{
 "cells": [
  {
   "cell_type": "code",
   "execution_count": 1,
   "id": "7167645e-0810-4e57-83c5-c40c33190bd9",
   "metadata": {
    "tags": []
   },
   "outputs": [],
   "source": [
    "from imblearn.under_sampling import RandomUnderSampler\n",
    "from sklearn.model_selection import train_test_split\n",
    "from sklearn.linear_model import LogisticRegression\n",
    "from sklearn.ensemble import RandomForestClassifier\n",
    "from sklearn.metrics import accuracy_score, classification_report, confusion_matrix\n",
    "from sklearn.model_selection import cross_val_score, train_test_split\n",
    "from sklearn.preprocessing import StandardScaler\n",
    "from sklearn.preprocessing import StandardScaler\n",
    "from sklearn.metrics import classification_report, roc_auc_score, roc_curve, auc, precision_recall_curve, average_precision_score\n",
    "import matplotlib.pyplot as plt\n",
    "import warnings\n",
    "import numpy as np\n",
    "import pandas as pd\n",
    "import seaborn as sns\n",
    "import matplotlib.pyplot as plt\n",
    "import os\n",
    "\n",
    "os.environ['LOKY_MAX_CPU_COUNT'] = '4'  # Set the number of cores you want to use (change to your preference)\n"
   ]
  },
  {
   "cell_type": "markdown",
   "id": "6448f81e-8c22-48c9-95a6-22aca5897d2b",
   "metadata": {},
   "source": [
    "# Undersampling:\n",
    "    \n",
    "Undersampling involves randomly removing samples from the majority class to achieve a balanced class distribution.\n",
    "One common method is random undersampling, where you randomly select a subset of the majority class samples.\n"
   ]
  },
  {
   "cell_type": "code",
   "execution_count": 2,
   "id": "a72d5679-6bf9-423a-aef8-6eb3ceb31684",
   "metadata": {
    "tags": []
   },
   "outputs": [],
   "source": [
    "df = pd.read_csv('10_all_numerical.csv', low_memory=False)"
   ]
  },
  {
   "cell_type": "code",
   "execution_count": 3,
   "id": "9558c5a9-4544-403a-b52d-986f17637add",
   "metadata": {
    "tags": []
   },
   "outputs": [
    {
     "name": "stdout",
     "output_type": "stream",
     "text": [
      "<class 'pandas.core.frame.DataFrame'>\n",
      "RangeIndex: 155766 entries, 0 to 155765\n",
      "Data columns (total 36 columns):\n",
      " #   Column                                    Non-Null Count   Dtype  \n",
      "---  ------                                    --------------   -----  \n",
      " 0   census_tract                              155766 non-null  float64\n",
      " 1   action_taken                              155766 non-null  int64  \n",
      " 2   loan_type                                 155766 non-null  int64  \n",
      " 3   lien_status                               155766 non-null  int64  \n",
      " 4   reverse_mortgage                          155766 non-null  int64  \n",
      " 5   open_end_line_of_credit                   155766 non-null  int64  \n",
      " 6   loan_amount                               155766 non-null  int64  \n",
      " 7   combined_loan_to_value_ratio              155766 non-null  float64\n",
      " 8   interest_rate                             155766 non-null  float64\n",
      " 9   total_loan_costs                          155766 non-null  float64\n",
      " 10  origination_charges                       155766 non-null  float64\n",
      " 11  loan_term                                 155766 non-null  float64\n",
      " 12  negative_amortization                     155766 non-null  int64  \n",
      " 13  interest_only_payment                     155766 non-null  int64  \n",
      " 14  balloon_payment                           155766 non-null  int64  \n",
      " 15  other_nonamortizing_features              155766 non-null  int64  \n",
      " 16  property_value                            155766 non-null  float64\n",
      " 17  occupancy_type                            155766 non-null  int64  \n",
      " 18  manufactured_home_secured_property_type   155766 non-null  int64  \n",
      " 19  manufactured_home_land_property_interest  155766 non-null  int64  \n",
      " 20  total_units                               155766 non-null  int64  \n",
      " 21  income                                    155766 non-null  float64\n",
      " 22  debt_to_income_ratio                      155766 non-null  float64\n",
      " 23  applicant_credit_score_type               155766 non-null  int64  \n",
      " 24  co_applicant_credit_score_type            155766 non-null  int64  \n",
      " 25  applicant_sex                             155766 non-null  int64  \n",
      " 26  co_applicant_sex                          155766 non-null  int64  \n",
      " 27  applicant_age                             155766 non-null  int64  \n",
      " 28  co_applicant_age                          155766 non-null  int64  \n",
      " 29  aus_1                                     155766 non-null  int64  \n",
      " 30  applicant_race_1                          155766 non-null  float64\n",
      " 31  applicant_race_2                          155766 non-null  float64\n",
      " 32  co_applicant_race_1                       155766 non-null  float64\n",
      " 33  co_applicant_race_2                       155766 non-null  float64\n",
      " 34  applicant_ethnicity_1                     155766 non-null  float64\n",
      " 35  co_applicant_ethnicity_1                  155766 non-null  float64\n",
      "dtypes: float64(15), int64(21)\n",
      "memory usage: 42.8 MB\n"
     ]
    }
   ],
   "source": [
    "df.info()"
   ]
  },
  {
   "cell_type": "code",
   "execution_count": 4,
   "id": "a416b8c4-204d-4dc0-a52a-ad20149a8fd5",
   "metadata": {
    "tags": []
   },
   "outputs": [],
   "source": [
    "X = df.drop('action_taken', axis=1)\n",
    "y = df['action_taken']"
   ]
  },
  {
   "cell_type": "code",
   "execution_count": 5,
   "id": "7ac37afb-9286-46b5-a2c4-8cf0be9b70dc",
   "metadata": {
    "tags": []
   },
   "outputs": [],
   "source": [
    "# Split your data into training and testing sets\n",
    "X_train, X_test, y_train, y_test = train_test_split(X, y, test_size=0.2, random_state=42)"
   ]
  },
  {
   "cell_type": "markdown",
   "id": "a5108f3e-7902-46ae-9adf-6b6053c012aa",
   "metadata": {},
   "source": [
    "# Logistic regression"
   ]
  },
  {
   "cell_type": "code",
   "execution_count": 6,
   "id": "6d89f612-db8d-4fb1-8544-a64c68b8dd40",
   "metadata": {
    "tags": []
   },
   "outputs": [
    {
     "data": {
      "text/html": [
       "<style>#sk-container-id-1 {color: black;}#sk-container-id-1 pre{padding: 0;}#sk-container-id-1 div.sk-toggleable {background-color: white;}#sk-container-id-1 label.sk-toggleable__label {cursor: pointer;display: block;width: 100%;margin-bottom: 0;padding: 0.3em;box-sizing: border-box;text-align: center;}#sk-container-id-1 label.sk-toggleable__label-arrow:before {content: \"▸\";float: left;margin-right: 0.25em;color: #696969;}#sk-container-id-1 label.sk-toggleable__label-arrow:hover:before {color: black;}#sk-container-id-1 div.sk-estimator:hover label.sk-toggleable__label-arrow:before {color: black;}#sk-container-id-1 div.sk-toggleable__content {max-height: 0;max-width: 0;overflow: hidden;text-align: left;background-color: #f0f8ff;}#sk-container-id-1 div.sk-toggleable__content pre {margin: 0.2em;color: black;border-radius: 0.25em;background-color: #f0f8ff;}#sk-container-id-1 input.sk-toggleable__control:checked~div.sk-toggleable__content {max-height: 200px;max-width: 100%;overflow: auto;}#sk-container-id-1 input.sk-toggleable__control:checked~label.sk-toggleable__label-arrow:before {content: \"▾\";}#sk-container-id-1 div.sk-estimator input.sk-toggleable__control:checked~label.sk-toggleable__label {background-color: #d4ebff;}#sk-container-id-1 div.sk-label input.sk-toggleable__control:checked~label.sk-toggleable__label {background-color: #d4ebff;}#sk-container-id-1 input.sk-hidden--visually {border: 0;clip: rect(1px 1px 1px 1px);clip: rect(1px, 1px, 1px, 1px);height: 1px;margin: -1px;overflow: hidden;padding: 0;position: absolute;width: 1px;}#sk-container-id-1 div.sk-estimator {font-family: monospace;background-color: #f0f8ff;border: 1px dotted black;border-radius: 0.25em;box-sizing: border-box;margin-bottom: 0.5em;}#sk-container-id-1 div.sk-estimator:hover {background-color: #d4ebff;}#sk-container-id-1 div.sk-parallel-item::after {content: \"\";width: 100%;border-bottom: 1px solid gray;flex-grow: 1;}#sk-container-id-1 div.sk-label:hover label.sk-toggleable__label {background-color: #d4ebff;}#sk-container-id-1 div.sk-serial::before {content: \"\";position: absolute;border-left: 1px solid gray;box-sizing: border-box;top: 0;bottom: 0;left: 50%;z-index: 0;}#sk-container-id-1 div.sk-serial {display: flex;flex-direction: column;align-items: center;background-color: white;padding-right: 0.2em;padding-left: 0.2em;position: relative;}#sk-container-id-1 div.sk-item {position: relative;z-index: 1;}#sk-container-id-1 div.sk-parallel {display: flex;align-items: stretch;justify-content: center;background-color: white;position: relative;}#sk-container-id-1 div.sk-item::before, #sk-container-id-1 div.sk-parallel-item::before {content: \"\";position: absolute;border-left: 1px solid gray;box-sizing: border-box;top: 0;bottom: 0;left: 50%;z-index: -1;}#sk-container-id-1 div.sk-parallel-item {display: flex;flex-direction: column;z-index: 1;position: relative;background-color: white;}#sk-container-id-1 div.sk-parallel-item:first-child::after {align-self: flex-end;width: 50%;}#sk-container-id-1 div.sk-parallel-item:last-child::after {align-self: flex-start;width: 50%;}#sk-container-id-1 div.sk-parallel-item:only-child::after {width: 0;}#sk-container-id-1 div.sk-dashed-wrapped {border: 1px dashed gray;margin: 0 0.4em 0.5em 0.4em;box-sizing: border-box;padding-bottom: 0.4em;background-color: white;}#sk-container-id-1 div.sk-label label {font-family: monospace;font-weight: bold;display: inline-block;line-height: 1.2em;}#sk-container-id-1 div.sk-label-container {text-align: center;}#sk-container-id-1 div.sk-container {/* jupyter's `normalize.less` sets `[hidden] { display: none; }` but bootstrap.min.css set `[hidden] { display: none !important; }` so we also need the `!important` here to be able to override the default hidden behavior on the sphinx rendered scikit-learn.org. See: https://github.com/scikit-learn/scikit-learn/issues/21755 */display: inline-block !important;position: relative;}#sk-container-id-1 div.sk-text-repr-fallback {display: none;}</style><div id=\"sk-container-id-1\" class=\"sk-top-container\"><div class=\"sk-text-repr-fallback\"><pre>LogisticRegression()</pre><b>In a Jupyter environment, please rerun this cell to show the HTML representation or trust the notebook. <br />On GitHub, the HTML representation is unable to render, please try loading this page with nbviewer.org.</b></div><div class=\"sk-container\" hidden><div class=\"sk-item\"><div class=\"sk-estimator sk-toggleable\"><input class=\"sk-toggleable__control sk-hidden--visually\" id=\"sk-estimator-id-1\" type=\"checkbox\" checked><label for=\"sk-estimator-id-1\" class=\"sk-toggleable__label sk-toggleable__label-arrow\">LogisticRegression</label><div class=\"sk-toggleable__content\"><pre>LogisticRegression()</pre></div></div></div></div></div>"
      ],
      "text/plain": [
       "LogisticRegression()"
      ]
     },
     "execution_count": 6,
     "metadata": {},
     "output_type": "execute_result"
    }
   ],
   "source": [
    "# Train a logistic regression model on the resampled training data\n",
    "model1 = LogisticRegression()\n",
    "model1.fit(X_train, y_train)"
   ]
  },
  {
   "cell_type": "code",
   "execution_count": 7,
   "id": "75cef60c-e1e2-4e21-9ac4-896f1d15497d",
   "metadata": {
    "tags": []
   },
   "outputs": [],
   "source": [
    "# Make predictions on the test set\n",
    "y_pred1 = model1.predict(X_test)"
   ]
  },
  {
   "cell_type": "code",
   "execution_count": 8,
   "id": "38539853-7b9d-4de8-827d-cd8ad04fdc9d",
   "metadata": {
    "tags": []
   },
   "outputs": [
    {
     "name": "stdout",
     "output_type": "stream",
     "text": [
      "              precision    recall  f1-score   support\n",
      "\n",
      "           1       0.55      0.56      0.55     15618\n",
      "           3       0.55      0.53      0.54     15536\n",
      "\n",
      "    accuracy                           0.55     31154\n",
      "   macro avg       0.55      0.55      0.55     31154\n",
      "weighted avg       0.55      0.55      0.55     31154\n",
      "\n"
     ]
    }
   ],
   "source": [
    "# Calculate and print the classification report\n",
    "report1 = classification_report(y_test, y_pred1, zero_division=1)\n",
    "\n",
    "print(report1)"
   ]
  },
  {
   "cell_type": "markdown",
   "id": "06639791-d4c8-4435-91f8-bae7d61d1761",
   "metadata": {},
   "source": [
    "# Logistic regression with regularisation"
   ]
  },
  {
   "cell_type": "code",
   "execution_count": 9,
   "id": "2d39dc63-a19f-414a-9824-3a606557caa9",
   "metadata": {},
   "outputs": [
    {
     "name": "stdout",
     "output_type": "stream",
     "text": [
      "              precision    recall  f1-score   support\n",
      "\n",
      "           1       0.55      0.56      0.55     15618\n",
      "           3       0.55      0.53      0.54     15536\n",
      "\n",
      "    accuracy                           0.55     31154\n",
      "   macro avg       0.55      0.55      0.55     31154\n",
      "weighted avg       0.55      0.55      0.55     31154\n",
      "\n"
     ]
    }
   ],
   "source": [
    "# Create a regularized logistic regression model with L2 regularization\n",
    "model3 = LogisticRegression(penalty='l2', C=1.0)\n",
    "\n",
    "# Fit the model on the resampled training data\n",
    "model3.fit(X_train, y_train)\n",
    "\n",
    "# Make predictions on the test set\n",
    "y_pred3 = model3.predict(X_test)\n",
    "\n",
    "# Calculate and print the classification report\n",
    "report3 = classification_report(y_test, y_pred3, zero_division=1)\n",
    "print(report3)"
   ]
  },
  {
   "cell_type": "markdown",
   "id": "a3fa3c30-1d5c-4ee3-bd68-97556a3c7429",
   "metadata": {},
   "source": [
    "# Conclusion\n",
    "\n",
    "It seems that the model is performing poorly in terms of precision, recall, and F1-score, especially for classes 0 and 3. \n",
    "The extremely low values for precision, recall, and F1-score for class 0 indicate that the model is unable to make \n",
    "meaningful predictions for that class, likely due to a lack of true samples in the test set.\n",
    "\n",
    "The AUC-ROC value of 0.9177 indicates that the model's ability to distinguish between positive and negative instances \n",
    "is relatively good, but this metric can be misleading when dealing with imbalanced datasets.\n",
    "\n",
    "The Precision-Recall AUC of 0.6182 suggests that the model's performance in terms of precision and recall trade-off is \n",
    "suboptimal, and there is room for improvement."
   ]
  },
  {
   "cell_type": "markdown",
   "id": "51254379-7294-46cc-8e1b-e11911987505",
   "metadata": {
    "tags": []
   },
   "source": [
    "# SMOTE-ENN (Synthetic Minority Over-sampling Technique - Edited Nearest Neighbors): \n",
    "    \n",
    "This technique first oversamples the minority class using SMOTE and then removes \n",
    "noisy samples by applying Edited Nearest Neighbors (ENN) to the combined dataset. \n",
    "It's a good choice if you suspect that there are noisy samples in your majority class \n",
    "that you want to remove."
   ]
  },
  {
   "cell_type": "code",
   "execution_count": 10,
   "id": "f0799219-3061-4e62-981c-157f9017e1d1",
   "metadata": {
    "tags": []
   },
   "outputs": [],
   "source": [
    "from imblearn.combine import SMOTEENN\n",
    "from imblearn.under_sampling import EditedNearestNeighbours\n",
    "from sklearn.datasets import make_classification\n",
    "\n",
    "# Create a SMOTE-ENN instance\n",
    "smote_enn = SMOTEENN(enn=EditedNearestNeighbours(sampling_strategy='majority'))\n",
    "\n",
    "# Fit and resample your training data\n",
    "X_resampled, y_resampled = smote_enn.fit_resample(X_train, y_train)\n"
   ]
  },
  {
   "cell_type": "code",
   "execution_count": 11,
   "id": "56c68c47-736d-4173-823f-acf48e5dae4e",
   "metadata": {
    "tags": []
   },
   "outputs": [
    {
     "name": "stdout",
     "output_type": "stream",
     "text": [
      "              precision    recall  f1-score   support\n",
      "\n",
      "           1       0.50      1.00      0.67     15618\n",
      "           3       1.00      0.00      0.00     15536\n",
      "\n",
      "    accuracy                           0.50     31154\n",
      "   macro avg       0.75      0.50      0.33     31154\n",
      "weighted avg       0.75      0.50      0.33     31154\n",
      "\n",
      "AUC-ROC: 0.5174383911840084\n",
      "Precision-Recall AUC: 0.49944781529435756\n"
     ]
    }
   ],
   "source": [
    "# Create a regularized logistic regression model with L2 regularization\n",
    "logistic_reg_smote = LogisticRegression(penalty='l2', C=1.0)\n",
    "\n",
    "# Fit the model on the resampled training data\n",
    "logistic_reg_smote.fit(X_resampled, y_resampled)\n",
    "\n",
    "# Make predictions on the test set\n",
    "y_prob = logistic_reg_smote.predict_proba(X_test)[:, 1]\n",
    "\n",
    "# Calculate and print the classification report\n",
    "report = classification_report(y_test, (y_prob > 0.5).astype(int), zero_division=1)\n",
    "print(report)\n",
    "\n",
    "# Calculate AUC-ROC\n",
    "roc_auc = roc_auc_score(y_test, y_prob)\n",
    "print(\"AUC-ROC:\", roc_auc)\n",
    "\n",
    "# Calculate Precision-Recall AUC\n",
    "precision, recall, _ = precision_recall_curve(y_test, y_prob, pos_label=1)\n",
    "pr_auc = auc(recall, precision)\n",
    "print(\"Precision-Recall AUC:\", pr_auc)"
   ]
  },
  {
   "cell_type": "code",
   "execution_count": 12,
   "id": "f28e11b7-82c6-4bde-945a-ae1470aae327",
   "metadata": {
    "tags": []
   },
   "outputs": [
    {
     "data": {
      "image/png": "[encoded data removed]",
      "text/plain": [
       "<Figure size 640x480 with 1 Axes>"
      ]
     },
     "metadata": {},
     "output_type": "display_data"
    }
   ],
   "source": [
    "# Map the target variable to binary labels (e.g., 0 and 1) for ROC curve calculation\n",
    "y_test_binary = y_test.map({1: 0, 3: 1})\n",
    "\n",
    "\n",
    "# Calculate AUC-ROC\n",
    "roc_auc = roc_auc_score(y_test, y_prob)\n",
    "\n",
    "# Calculate Precision-Recall AUC\n",
    "precision, recall, _ = precision_recall_curve(y_test, y_prob, pos_label=1)\n",
    "pr_auc = auc(recall, precision)\n",
    "\n",
    "# Plot ROC curve\n",
    "fpr, tpr, _ = roc_curve(y_test_binary, y_prob)\n",
    "plt.figure()\n",
    "plt.plot(fpr, tpr, color='darkorange', lw=2, label='ROC curve (area = %0.2f)' % roc_auc)\n",
    "plt.plot([0, 1], [0, 1], color='navy', lw=2, linestyle='--')\n",
    "plt.xlim([0.0, 1.0])\n",
    "plt.ylim([0.0, 1.05])\n",
    "plt.xlabel('False Positive Rate')\n",
    "plt.ylabel('True Positive Rate')  # Fix this line\n",
    "plt.title('ROC Curve')\n",
    "plt.legend(loc=\"lower right\")\n",
    "plt.show()"
   ]
  },
  {
   "cell_type": "code",
   "execution_count": null,
   "id": "940c33db-2188-41dd-8d57-a442a001764b",
   "metadata": {},
   "outputs": [],
   "source": []
  }
 ],
 "metadata": {
  "kernelspec": {
   "display_name": "Python 3 (ipykernel)",
   "language": "python",
   "name": "python3"
  },
  "language_info": {
   "codemirror_mode": {
    "name": "ipython",
    "version": 3
   },
   "file_extension": ".py",
   "mimetype": "text/x-python",
   "name": "python",
   "nbconvert_exporter": "python",
   "pygments_lexer": "ipython3",
   "version": "3.9.18"
  }
 },
 "nbformat": 4,
 "nbformat_minor": 5
}
