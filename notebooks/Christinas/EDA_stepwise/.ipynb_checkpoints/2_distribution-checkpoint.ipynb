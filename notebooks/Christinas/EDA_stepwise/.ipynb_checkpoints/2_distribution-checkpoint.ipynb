{
 "cells": [
  {
   "cell_type": "code",
   "execution_count": 1,
   "id": "a36aa112-4bc6-4a08-915e-ae3974ff08dc",
   "metadata": {
    "tags": []
   },
   "outputs": [
    {
     "name": "stdout",
     "output_type": "stream",
     "text": [
      "Collecting seaborn\n",
      "  Obtaining dependency information for seaborn from https://files.pythonhosted.org/packages/7b/e5/83fcd7e9db036c179e0352bfcd20f81d728197a16f883e7b90307a88e65e/seaborn-0.13.0-py3-none-any.whl.metadata\n",
      "  Using cached seaborn-0.13.0-py3-none-any.whl.metadata (5.3 kB)\n",
      "Collecting numpy!=1.24.0,>=1.20 (from seaborn)\n",
      "  Obtaining dependency information for numpy!=1.24.0,>=1.20 from https://files.pythonhosted.org/packages/2d/ed/022fc4106f6d97e41e156201274138e0369b27dbfc8c206034f24ebd97d9/numpy-1.26.1-cp39-cp39-win_amd64.whl.metadata\n",
      "  Using cached numpy-1.26.1-cp39-cp39-win_amd64.whl.metadata (61 kB)\n",
      "Collecting pandas>=1.2 (from seaborn)\n",
      "  Obtaining dependency information for pandas>=1.2 from https://files.pythonhosted.org/packages/f2/8c/35364a11b3e25f8e29a35420b0d18f65ec4f9d6d38e86a62d16ef998923c/pandas-2.1.1-cp39-cp39-win_amd64.whl.metadata\n",
      "  Using cached pandas-2.1.1-cp39-cp39-win_amd64.whl.metadata (18 kB)\n",
      "Collecting matplotlib!=3.6.1,>=3.3 (from seaborn)\n",
      "  Obtaining dependency information for matplotlib!=3.6.1,>=3.3 from https://files.pythonhosted.org/packages/01/50/0d8d8f044e2a0d8151e9ed59fe50924e9e697ba43a8b12d5ff9b45adb871/matplotlib-3.8.0-cp39-cp39-win_amd64.whl.metadata\n",
      "  Using cached matplotlib-3.8.0-cp39-cp39-win_amd64.whl.metadata (5.9 kB)\n",
      "Collecting contourpy>=1.0.1 (from matplotlib!=3.6.1,>=3.3->seaborn)\n",
      "  Obtaining dependency information for contourpy>=1.0.1 from https://files.pythonhosted.org/packages/87/2b/9b49451f7412cc1a79198e94a771a4e52d65c479aae610b1161c0290ef2c/contourpy-1.1.1-cp39-cp39-win_amd64.whl.metadata\n",
      "  Using cached contourpy-1.1.1-cp39-cp39-win_amd64.whl.metadata (5.9 kB)\n",
      "Collecting cycler>=0.10 (from matplotlib!=3.6.1,>=3.3->seaborn)\n",
      "  Obtaining dependency information for cycler>=0.10 from https://files.pythonhosted.org/packages/e7/05/c19819d5e3d95294a6f5947fb9b9629efb316b96de511b418c53d245aae6/cycler-0.12.1-py3-none-any.whl.metadata\n",
      "  Using cached cycler-0.12.1-py3-none-any.whl.metadata (3.8 kB)\n",
      "Collecting fonttools>=4.22.0 (from matplotlib!=3.6.1,>=3.3->seaborn)\n",
      "  Obtaining dependency information for fonttools>=4.22.0 from https://files.pythonhosted.org/packages/39/85/43a6d535a7cb021a673f5451f49c8f034217d58a83ab813e374bfe564ccb/fonttools-4.43.1-cp39-cp39-win_amd64.whl.metadata\n",
      "  Using cached fonttools-4.43.1-cp39-cp39-win_amd64.whl.metadata (155 kB)\n",
      "Collecting kiwisolver>=1.0.1 (from matplotlib!=3.6.1,>=3.3->seaborn)\n",
      "  Obtaining dependency information for kiwisolver>=1.0.1 from https://files.pythonhosted.org/packages/ca/c1/1f986c8119c0c57c2bd71d1941da23332c38ee2c90117e46dff4358b70f7/kiwisolver-1.4.5-cp39-cp39-win_amd64.whl.metadata\n",
      "  Using cached kiwisolver-1.4.5-cp39-cp39-win_amd64.whl.metadata (6.5 kB)\n",
      "Collecting packaging>=20.0 (from matplotlib!=3.6.1,>=3.3->seaborn)\n",
      "  Obtaining dependency information for packaging>=20.0 from https://files.pythonhosted.org/packages/ec/1a/610693ac4ee14fcdf2d9bf3c493370e4f2ef7ae2e19217d7a237ff42367d/packaging-23.2-py3-none-any.whl.metadata\n",
      "  Using cached packaging-23.2-py3-none-any.whl.metadata (3.2 kB)\n",
      "Collecting pillow>=6.2.0 (from matplotlib!=3.6.1,>=3.3->seaborn)\n",
      "  Obtaining dependency information for pillow>=6.2.0 from https://files.pythonhosted.org/packages/98/56/0eb5a210de84b8c73720e6b691fe8fe1a99d62c8e8f0564b95f2c12988e8/Pillow-10.1.0-cp39-cp39-win_amd64.whl.metadata\n",
      "  Using cached Pillow-10.1.0-cp39-cp39-win_amd64.whl.metadata (9.6 kB)\n",
      "Collecting pyparsing>=2.3.1 (from matplotlib!=3.6.1,>=3.3->seaborn)\n",
      "  Obtaining dependency information for pyparsing>=2.3.1 from https://files.pythonhosted.org/packages/39/92/8486ede85fcc088f1b3dba4ce92dd29d126fd96b0008ea213167940a2475/pyparsing-3.1.1-py3-none-any.whl.metadata\n",
      "  Using cached pyparsing-3.1.1-py3-none-any.whl.metadata (5.1 kB)\n",
      "Collecting python-dateutil>=2.7 (from matplotlib!=3.6.1,>=3.3->seaborn)\n",
      "  Using cached python_dateutil-2.8.2-py2.py3-none-any.whl (247 kB)\n",
      "Collecting importlib-resources>=3.2.0 (from matplotlib!=3.6.1,>=3.3->seaborn)\n",
      "  Obtaining dependency information for importlib-resources>=3.2.0 from https://files.pythonhosted.org/packages/65/6e/09d8816b5cb7a4006ef8ad1717a2703ad9f331dae9717d9f22488a2d6469/importlib_resources-6.1.0-py3-none-any.whl.metadata\n",
      "  Using cached importlib_resources-6.1.0-py3-none-any.whl.metadata (4.1 kB)\n",
      "Collecting pytz>=2020.1 (from pandas>=1.2->seaborn)\n",
      "  Obtaining dependency information for pytz>=2020.1 from https://files.pythonhosted.org/packages/32/4d/aaf7eff5deb402fd9a24a1449a8119f00d74ae9c2efa79f8ef9994261fc2/pytz-2023.3.post1-py2.py3-none-any.whl.metadata\n",
      "  Using cached pytz-2023.3.post1-py2.py3-none-any.whl.metadata (22 kB)\n",
      "Collecting tzdata>=2022.1 (from pandas>=1.2->seaborn)\n",
      "  Using cached tzdata-2023.3-py2.py3-none-any.whl (341 kB)\n",
      "Collecting zipp>=3.1.0 (from importlib-resources>=3.2.0->matplotlib!=3.6.1,>=3.3->seaborn)\n",
      "  Obtaining dependency information for zipp>=3.1.0 from https://files.pythonhosted.org/packages/d9/66/48866fc6b158c81cc2bfecc04c480f105c6040e8b077bc54c634b4a67926/zipp-3.17.0-py3-none-any.whl.metadata\n",
      "  Using cached zipp-3.17.0-py3-none-any.whl.metadata (3.7 kB)\n",
      "Collecting six>=1.5 (from python-dateutil>=2.7->matplotlib!=3.6.1,>=3.3->seaborn)\n",
      "  Using cached six-1.16.0-py2.py3-none-any.whl (11 kB)\n",
      "Using cached seaborn-0.13.0-py3-none-any.whl (294 kB)\n",
      "Using cached matplotlib-3.8.0-cp39-cp39-win_amd64.whl (7.6 MB)\n",
      "Using cached numpy-1.26.1-cp39-cp39-win_amd64.whl (15.8 MB)\n",
      "Using cached pandas-2.1.1-cp39-cp39-win_amd64.whl (10.8 MB)\n",
      "Using cached contourpy-1.1.1-cp39-cp39-win_amd64.whl (435 kB)\n",
      "Using cached cycler-0.12.1-py3-none-any.whl (8.3 kB)\n",
      "Using cached fonttools-4.43.1-cp39-cp39-win_amd64.whl (2.1 MB)\n",
      "Using cached importlib_resources-6.1.0-py3-none-any.whl (33 kB)\n",
      "Using cached kiwisolver-1.4.5-cp39-cp39-win_amd64.whl (56 kB)\n",
      "Using cached packaging-23.2-py3-none-any.whl (53 kB)\n",
      "Using cached Pillow-10.1.0-cp39-cp39-win_amd64.whl (2.6 MB)\n",
      "Using cached pyparsing-3.1.1-py3-none-any.whl (103 kB)\n",
      "Using cached pytz-2023.3.post1-py2.py3-none-any.whl (502 kB)\n",
      "Using cached zipp-3.17.0-py3-none-any.whl (7.4 kB)\n",
      "Installing collected packages: pytz, zipp, tzdata, six, pyparsing, pillow, packaging, numpy, kiwisolver, fonttools, cycler, python-dateutil, importlib-resources, contourpy, pandas, matplotlib, seaborn\n",
      "  Attempting uninstall: pytz\n",
      "    Found existing installation: pytz 2023.3.post1\n",
      "    Uninstalling pytz-2023.3.post1:\n",
      "      Successfully uninstalled pytz-2023.3.post1\n",
      "  Attempting uninstall: zipp\n",
      "    Found existing installation: zipp 3.17.0\n",
      "    Uninstalling zipp-3.17.0:\n",
      "      Successfully uninstalled zipp-3.17.0\n",
      "  Attempting uninstall: tzdata\n",
      "    Found existing installation: tzdata 2023.3\n",
      "    Uninstalling tzdata-2023.3:\n",
      "      Successfully uninstalled tzdata-2023.3\n",
      "  Attempting uninstall: six\n",
      "    Found existing installation: six 1.16.0\n",
      "    Uninstalling six-1.16.0:\n",
      "      Successfully uninstalled six-1.16.0\n",
      "  Attempting uninstall: pyparsing\n",
      "    Found existing installation: pyparsing 3.1.1\n",
      "    Uninstalling pyparsing-3.1.1:\n",
      "      Successfully uninstalled pyparsing-3.1.1\n",
      "  Attempting uninstall: pillow\n",
      "    Found existing installation: Pillow 10.1.0\n",
      "    Uninstalling Pillow-10.1.0:\n",
      "      Successfully uninstalled Pillow-10.1.0\n",
      "  Attempting uninstall: packaging\n",
      "    Found existing installation: packaging 23.2\n",
      "    Uninstalling packaging-23.2:\n",
      "      Successfully uninstalled packaging-23.2\n",
      "  Attempting uninstall: numpy\n",
      "    Found existing installation: numpy 1.24.3\n",
      "    Uninstalling numpy-1.24.3:\n",
      "      Successfully uninstalled numpy-1.24.3\n",
      "  Attempting uninstall: kiwisolver\n",
      "    Found existing installation: kiwisolver 1.4.5\n",
      "    Uninstalling kiwisolver-1.4.5:\n",
      "      Successfully uninstalled kiwisolver-1.4.5\n",
      "  Attempting uninstall: fonttools\n",
      "    Found existing installation: fonttools 4.42.1\n",
      "    Uninstalling fonttools-4.42.1:\n",
      "      Successfully uninstalled fonttools-4.42.1\n",
      "  Attempting uninstall: cycler\n",
      "    Found existing installation: cycler 0.12.1\n",
      "    Uninstalling cycler-0.12.1:\n",
      "      Successfully uninstalled cycler-0.12.1\n",
      "  Attempting uninstall: python-dateutil\n",
      "    Found existing installation: python-dateutil 2.8.2\n",
      "    Uninstalling python-dateutil-2.8.2:\n",
      "      Successfully uninstalled python-dateutil-2.8.2\n",
      "  Attempting uninstall: importlib-resources\n",
      "    Found existing installation: importlib-resources 6.1.0\n",
      "    Uninstalling importlib-resources-6.1.0:\n",
      "      Successfully uninstalled importlib-resources-6.1.0\n",
      "  Attempting uninstall: contourpy\n",
      "    Found existing installation: contourpy 1.1.1\n",
      "    Uninstalling contourpy-1.1.1:\n",
      "      Successfully uninstalled contourpy-1.1.1\n",
      "  Attempting uninstall: pandas\n",
      "    Found existing installation: pandas 2.1.1\n",
      "    Uninstalling pandas-2.1.1:\n",
      "      Successfully uninstalled pandas-2.1.1\n",
      "Note: you may need to restart the kernel to use updated packages.\n"
     ]
    },
    {
     "name": "stderr",
     "output_type": "stream",
     "text": [
      "WARNING: Ignoring invalid distribution -atplotlib (c:\\users\\asche\\anaconda3\\envs\\test\\lib\\site-packages)\n",
      "WARNING: Ignoring invalid distribution -atplotlib (c:\\users\\asche\\anaconda3\\envs\\test\\lib\\site-packages)\n",
      "ERROR: Could not install packages due to an OSError: [WinError 32] The process cannot access the file because it is being used by another process: 'C:\\\\Users\\\\asche\\\\anaconda3\\\\envs\\\\Test\\\\Lib\\\\site-packages\\\\matplotlib\\\\mpl-data\\\\fonts\\\\ttf\\\\DejaVuSans-Oblique.ttf'\n",
      "Consider using the `--user` option or check the permissions.\n",
      "\n"
     ]
    }
   ],
   "source": [
    "pip install --user --force-reinstall matplotlib"
   ]
  },
  {
   "cell_type": "code",
   "execution_count": 2,
   "id": "4611b3a4-a818-4077-97b5-c0e392fd30db",
   "metadata": {
    "tags": []
   },
   "outputs": [
    {
     "ename": "AttributeError",
     "evalue": "module 'matplotlib._api' has no attribute 'MatplotlibDeprecationWarning'",
     "output_type": "error",
     "traceback": [
      "\u001b[1;31m---------------------------------------------------------------------------\u001b[0m",
      "\u001b[1;31mAttributeError\u001b[0m                            Traceback (most recent call last)",
      "Cell \u001b[1;32mIn[2], line 4\u001b[0m\n\u001b[0;32m      2\u001b[0m \u001b[38;5;28;01mimport\u001b[39;00m \u001b[38;5;21;01mnumpy\u001b[39;00m \u001b[38;5;28;01mas\u001b[39;00m \u001b[38;5;21;01mnp\u001b[39;00m\n\u001b[0;32m      3\u001b[0m \u001b[38;5;28;01mimport\u001b[39;00m \u001b[38;5;21;01mpandas\u001b[39;00m \u001b[38;5;28;01mas\u001b[39;00m \u001b[38;5;21;01mpd\u001b[39;00m\n\u001b[1;32m----> 4\u001b[0m \u001b[38;5;28;01mimport\u001b[39;00m \u001b[38;5;21;01mseaborn\u001b[39;00m \u001b[38;5;28;01mas\u001b[39;00m \u001b[38;5;21;01msns\u001b[39;00m\n\u001b[0;32m      5\u001b[0m \u001b[38;5;28;01mimport\u001b[39;00m \u001b[38;5;21;01mmatplotlib\u001b[39;00m\u001b[38;5;21;01m.\u001b[39;00m\u001b[38;5;21;01mpyplot\u001b[39;00m \u001b[38;5;28;01mas\u001b[39;00m \u001b[38;5;21;01mplt\u001b[39;00m\n",
      "File \u001b[1;32m~\\anaconda3\\envs\\Test\\lib\\site-packages\\seaborn\\__init__.py:2\u001b[0m\n\u001b[0;32m      1\u001b[0m \u001b[38;5;66;03m# Import seaborn objects\u001b[39;00m\n\u001b[1;32m----> 2\u001b[0m \u001b[38;5;28;01mfrom\u001b[39;00m \u001b[38;5;21;01m.\u001b[39;00m\u001b[38;5;21;01mrcmod\u001b[39;00m \u001b[38;5;28;01mimport\u001b[39;00m \u001b[38;5;241m*\u001b[39m  \u001b[38;5;66;03m# noqa: F401,F403\u001b[39;00m\n\u001b[0;32m      3\u001b[0m \u001b[38;5;28;01mfrom\u001b[39;00m \u001b[38;5;21;01m.\u001b[39;00m\u001b[38;5;21;01mutils\u001b[39;00m \u001b[38;5;28;01mimport\u001b[39;00m \u001b[38;5;241m*\u001b[39m  \u001b[38;5;66;03m# noqa: F401,F403\u001b[39;00m\n\u001b[0;32m      4\u001b[0m \u001b[38;5;28;01mfrom\u001b[39;00m \u001b[38;5;21;01m.\u001b[39;00m\u001b[38;5;21;01mpalettes\u001b[39;00m \u001b[38;5;28;01mimport\u001b[39;00m \u001b[38;5;241m*\u001b[39m  \u001b[38;5;66;03m# noqa: F401,F403\u001b[39;00m\n",
      "File \u001b[1;32m~\\anaconda3\\envs\\Test\\lib\\site-packages\\seaborn\\rcmod.py:3\u001b[0m\n\u001b[0;32m      1\u001b[0m \u001b[38;5;124;03m\"\"\"Control plot style and scaling using the matplotlib rcParams interface.\"\"\"\u001b[39;00m\n\u001b[0;32m      2\u001b[0m \u001b[38;5;28;01mimport\u001b[39;00m \u001b[38;5;21;01mfunctools\u001b[39;00m\n\u001b[1;32m----> 3\u001b[0m \u001b[38;5;28;01mimport\u001b[39;00m \u001b[38;5;21;01mmatplotlib\u001b[39;00m \u001b[38;5;28;01mas\u001b[39;00m \u001b[38;5;21;01mmpl\u001b[39;00m\n\u001b[0;32m      4\u001b[0m \u001b[38;5;28;01mfrom\u001b[39;00m \u001b[38;5;21;01mcycler\u001b[39;00m \u001b[38;5;28;01mimport\u001b[39;00m cycler\n\u001b[0;32m      5\u001b[0m \u001b[38;5;28;01mfrom\u001b[39;00m \u001b[38;5;21;01m.\u001b[39;00m \u001b[38;5;28;01mimport\u001b[39;00m palettes\n",
      "File \u001b[1;32m~\\anaconda3\\envs\\Test\\lib\\site-packages\\matplotlib\\__init__.py:188\u001b[0m\n\u001b[0;32m    184\u001b[0m \u001b[38;5;28;01mfrom\u001b[39;00m \u001b[38;5;21;01mpackaging\u001b[39;00m\u001b[38;5;21;01m.\u001b[39;00m\u001b[38;5;21;01mversion\u001b[39;00m \u001b[38;5;28;01mimport\u001b[39;00m parse \u001b[38;5;28;01mas\u001b[39;00m parse_version\n\u001b[0;32m    186\u001b[0m \u001b[38;5;66;03m# cbook must import matplotlib only within function\u001b[39;00m\n\u001b[0;32m    187\u001b[0m \u001b[38;5;66;03m# definitions, so it is safe to import from it here.\u001b[39;00m\n\u001b[1;32m--> 188\u001b[0m \u001b[38;5;28;01mfrom\u001b[39;00m \u001b[38;5;21;01m.\u001b[39;00m \u001b[38;5;28;01mimport\u001b[39;00m _api, _version, cbook, _docstring, rcsetup\n\u001b[0;32m    189\u001b[0m \u001b[38;5;28;01mfrom\u001b[39;00m \u001b[38;5;21;01mmatplotlib\u001b[39;00m\u001b[38;5;21;01m.\u001b[39;00m\u001b[38;5;21;01mcbook\u001b[39;00m \u001b[38;5;28;01mimport\u001b[39;00m sanitize_sequence\n\u001b[0;32m    190\u001b[0m \u001b[38;5;28;01mfrom\u001b[39;00m \u001b[38;5;21;01mmatplotlib\u001b[39;00m\u001b[38;5;21;01m.\u001b[39;00m\u001b[38;5;21;01m_api\u001b[39;00m \u001b[38;5;28;01mimport\u001b[39;00m MatplotlibDeprecationWarning\n",
      "File \u001b[1;32m~\\anaconda3\\envs\\Test\\lib\\site-packages\\matplotlib\\cbook.py:369\u001b[0m\n\u001b[0;32m    363\u001b[0m         \u001b[38;5;28;01melse\u001b[39;00m:\n\u001b[0;32m    364\u001b[0m             \u001b[38;5;28;01mreturn\u001b[39;00m \u001b[38;5;124m\"\u001b[39m\u001b[38;5;124m<an empty list>\u001b[39m\u001b[38;5;124m\"\u001b[39m\n\u001b[0;32m    367\u001b[0m \u001b[38;5;28;01mdef\u001b[39;00m \u001b[38;5;21m_local_over_kwdict\u001b[39m(\n\u001b[0;32m    368\u001b[0m         local_var, kwargs, \u001b[38;5;241m*\u001b[39mkeys,\n\u001b[1;32m--> 369\u001b[0m         warning_cls\u001b[38;5;241m=\u001b[39m\u001b[43m_api\u001b[49m\u001b[38;5;241;43m.\u001b[39;49m\u001b[43mMatplotlibDeprecationWarning\u001b[49m):\n\u001b[0;32m    370\u001b[0m     out \u001b[38;5;241m=\u001b[39m local_var\n\u001b[0;32m    371\u001b[0m     \u001b[38;5;28;01mfor\u001b[39;00m key \u001b[38;5;129;01min\u001b[39;00m keys:\n",
      "\u001b[1;31mAttributeError\u001b[0m: module 'matplotlib._api' has no attribute 'MatplotlibDeprecationWarning'"
     ]
    }
   ],
   "source": [
    "import warnings\n",
    "import numpy as np\n",
    "import pandas as pd\n",
    "import seaborn as sns\n",
    "import matplotlib.pyplot as plt"
   ]
  },
  {
   "cell_type": "markdown",
   "id": "4ad8a80e-c404-4070-b347-8a0fd93652cb",
   "metadata": {},
   "source": [
    "# load dataset 1"
   ]
  },
  {
   "cell_type": "code",
   "execution_count": null,
   "id": "203eb435-d4d1-453c-962b-df04f935898c",
   "metadata": {
    "tags": []
   },
   "outputs": [],
   "source": [
    "df = pd.read_csv('1_downloaded_data.csv', low_memory=False)"
   ]
  },
  {
   "cell_type": "markdown",
   "id": "2c60eae5-7785-46e4-a0d3-0373b1a9a88d",
   "metadata": {},
   "source": [
    "# 2 Action_taken and applicant_sex distribution"
   ]
  },
  {
   "cell_type": "markdown",
   "id": "6b2fa7db-b63e-4b91-95b9-91cefc91fc39",
   "metadata": {},
   "source": [
    "We want the distribution of the target variable: action_taken."
   ]
  },
  {
   "cell_type": "markdown",
   "id": "944851af-cdb0-4825-9834-ad7edb19ba47",
   "metadata": {},
   "source": [
    "- 1 - Loan originated\n",
    "- 2 - Application approved but not accepted\n",
    "- 3 - Application denied\n",
    "- 4 - Application withdrawn by applicant\n",
    "- 5 - File closed for incompleteness\n",
    "- 6 - Purchased loan\n",
    "- 7 - Preapproval request denied\n",
    "- 8 - Preapproval request approved but not accepted"
   ]
  },
  {
   "cell_type": "markdown",
   "id": "ee7922bb-8c40-4e85-b93a-0d5ebc5efea1",
   "metadata": {
    "tags": []
   },
   "source": [
    "An we also want the distibution of the applicant_sex variable."
   ]
  },
  {
   "cell_type": "markdown",
   "id": "ba8309d3-3bd9-4f52-91fe-5776eeb2c57b",
   "metadata": {},
   "source": [
    "- 1 - Male\n",
    "- 2 - Female\n",
    "- 3 - Information not provided by applicant in mail, internet, or telephone application\n",
    "- 4 - Not applicable\n",
    "- 6 - Applicant selected both male and female"
   ]
  },
  {
   "cell_type": "code",
   "execution_count": null,
   "id": "2bae572e-6768-4c23-9dbf-8e3810fd69d4",
   "metadata": {
    "tags": []
   },
   "outputs": [],
   "source": [
    "df['action_taken'].value_counts()"
   ]
  },
  {
   "cell_type": "markdown",
   "id": "3ea0f379-cefc-4e4a-8fc6-798affd670c2",
   "metadata": {},
   "source": [
    "# Remove anything except male, female and mixed gender."
   ]
  },
  {
   "cell_type": "code",
   "execution_count": null,
   "id": "34440bd9-369d-4ed4-825a-aab36c3bc3c7",
   "metadata": {
    "tags": []
   },
   "outputs": [],
   "source": [
    "# Remove rows where applicant_sex is 3 or 4, and also remove null values\n",
    "df_filtered = df[~df['applicant_sex'].isin([3, 4])].dropna(subset=['applicant_sex'])\n",
    "\n",
    "# Check the new value counts\n",
    "print(df_filtered['applicant_sex'].value_counts())"
   ]
  },
  {
   "cell_type": "markdown",
   "id": "6862fa35-da8e-4310-8f9b-325e6f7cbbb1",
   "metadata": {},
   "source": [
    "## Plotting Histograms"
   ]
  },
  {
   "cell_type": "code",
   "execution_count": null,
   "id": "219ee13f-64ca-4c38-9598-8b0892897993",
   "metadata": {},
   "outputs": [],
   "source": [
    "# Create a histogram on a logarithmic scale for the y-axis\n",
    "plt.hist(df_filtered['action_taken'], bins=30, edgecolor='black', log=False)\n",
    "\n",
    "# Add labels and title\n",
    "plt.xlabel('Value')\n",
    "plt.ylabel('Frequency')\n",
    "plt.title('Histogram of Values of action_taken')\n",
    "\n",
    "# Show the plot\n",
    "plt.show()"
   ]
  },
  {
   "cell_type": "code",
   "execution_count": null,
   "id": "017ad63a-5614-45ef-8652-e112f440e121",
   "metadata": {
    "tags": []
   },
   "outputs": [],
   "source": [
    "# Create a histogram on a logarithmic scale for the y-axis\n",
    "plt.hist(df_filtered['applicant_sex'], bins=30, edgecolor='black', log=False)\n",
    "\n",
    "# Add labels and title\n",
    "plt.xlabel('Value')\n",
    "plt.ylabel('Frequency')\n",
    "plt.title('Histogram of Values of derived_sex')\n",
    "\n",
    "# Show the plot\n",
    "plt.show()"
   ]
  },
  {
   "cell_type": "markdown",
   "id": "3805dbc6-f530-4d77-9d21-a1519d6d028f",
   "metadata": {},
   "source": [
    "### Shapiro-Wilk Test for Normality\n",
    "assess if the combined data is normally distributed."
   ]
  },
  {
   "cell_type": "code",
   "execution_count": null,
   "id": "57c2bd4e-a8d4-4681-8909-6ce4a4773748",
   "metadata": {
    "tags": []
   },
   "outputs": [],
   "source": [
    "# Extract data for 'action_taken' and 'applicant_sex'\n",
    "data_combined1 = df_filtered[['action_taken', 'applicant_sex']]"
   ]
  },
  {
   "cell_type": "code",
   "execution_count": null,
   "id": "35c3f715-34ee-4124-a957-7e8b8835dc51",
   "metadata": {
    "tags": []
   },
   "outputs": [],
   "source": [
    "data_combined1.values"
   ]
  },
  {
   "cell_type": "code",
   "execution_count": null,
   "id": "e95fec89-7711-4366-89c0-0df0859b8578",
   "metadata": {
    "tags": []
   },
   "outputs": [],
   "source": [
    "# Perform Shapiro-Wilk test\n",
    "stat_combined1, p_value_combined1 = shapiro(data_combined1)\n",
    "\n",
    "# Print the results\n",
    "print('Shapiro-Wilk Test for Combined Data:')\n",
    "print('  Statistic:', stat_combined1)\n",
    "print('  p-value:', p_value_combined1)\n",
    "print('  Is the data normally distributed?', p_value_combined1 > 0.05)\n"
   ]
  },
  {
   "cell_type": "markdown",
   "id": "92cacd04-a9c2-405d-ba39-d923451a8aa5",
   "metadata": {},
   "source": [
    "### Test for normal, exponential, poisson, gamma distribution"
   ]
  },
  {
   "cell_type": "code",
   "execution_count": null,
   "id": "18b824f5-53d7-457e-917e-b065535bdcd0",
   "metadata": {
    "tags": []
   },
   "outputs": [],
   "source": [
    "data = data_combined1[['action_taken', 'applicant_sex']].values\n",
    "\n",
    "# Flatten the data into a 1D array\n",
    "flattened_data = data.flatten()\n",
    "flattened_data = flattened_data[flattened_data >= 0]  # Filter out negative or invalid values\n",
    "\n",
    "# Fit the data to different distributions\n",
    "params_norm = norm.fit(flattened_data)\n",
    "params_expon = expon.fit(flattened_data)\n",
    "\n",
    "# Generate x values for the PDFs\n",
    "x = np.linspace(min(flattened_data), max(flattened_data), 1000)\n",
    "\n",
    "# Fit the Poisson distribution\n",
    "mu_poisson = np.mean(flattened_data)\n",
    "pdf_poisson = poisson.pmf(x.astype(int), mu_poisson)\n",
    "\n",
    "# Fit a truncated gamma distribution (truncated at 0 to avoid negative values)\n",
    "a, loc, scale = gamma.fit(flattened_data, floc=0)\n",
    "pdf_trunc_gamma = gamma.pdf(x, a, loc=0, scale=scale)\n",
    "\n",
    "# Generate x values for the PDFs\n",
    "x = np.linspace(min(flattened_data), max(flattened_data), 1000)\n",
    "pdf_norm = norm.pdf(x, *params_norm)\n",
    "pdf_expon = expon.pdf(x, *params_expon)\n",
    "\n",
    "# Plot the data and fits\n",
    "plt.hist(flattened_data, bins=30, density=True, alpha=0.7, label=\"Data histogram\")\n",
    "plt.plot(x, pdf_norm, label=\"Fitted normal distribution\")\n",
    "plt.plot(x, pdf_expon, label=\"Fitted exponential distribution\")\n",
    "plt.plot(x, pdf_poisson, label=\"Fitted Poisson distribution\")\n",
    "plt.plot(x, pdf_trunc_gamma, label=\"Fitted Truncated Gamma distribution\")\n",
    "\n",
    "plt.xlabel(\"The Data\", fontsize=12)  # Adjust the fontsize here\n",
    "plt.ylabel(\"Probability Density\", fontsize=12)  # Adjust the fontsize here\n",
    "plt.legend()\n",
    "plt.legend(fontsize=10)  # Adjust the fontsize for the legend here\n",
    "plt.xticks(fontsize=10)  # Adjust the fontsize for the x-axis ticks here\n",
    "plt.yticks(fontsize=10)  # Adjust the fontsize for the y-axis ticks here\n",
    "\n",
    "plt.show()"
   ]
  },
  {
   "cell_type": "markdown",
   "id": "ba599290-4b9f-4a92-a31f-cd22b20742b6",
   "metadata": {},
   "source": [
    "## Plotting Boxplots"
   ]
  },
  {
   "cell_type": "code",
   "execution_count": null,
   "id": "ae6de82e-8b59-4fe4-af0c-29c0c24cccc5",
   "metadata": {},
   "outputs": [],
   "source": [
    "# Create a list of categories (unique values in 'derived_sex')\n",
    "categories = df_filtered['applicant_sex'].unique()\n",
    "categories\n",
    "\n",
    "# Initialize a list to store the data for each category\n",
    "data_per_category = []\n",
    "\n",
    "\n",
    "# Iterate over each category and extract the 'action_taken' values\n",
    "for category in categories:\n",
    "    data_per_category.append(df_filtered[df_filtered['applicant_sex'] == category]['action_taken'].values)\n",
    "\n",
    "data_per_category \n",
    "\n",
    "# Create a boxplot\n",
    "# plt.boxplot(data_per_category, labels=categories)\n",
    "\n",
    "# Add labels and title\n",
    "# plt.xlabel('applicant_sex')\n",
    "# plt.ylabel('Action Taken')\n",
    "# plt.title('Boxplot of Action Taken vs applicant_sex')\n",
    "\n",
    "# Show the plot\n",
    "# plt.show()"
   ]
  },
  {
   "cell_type": "markdown",
   "id": "f768201c-2097-4ac5-9cbd-570d0068ef16",
   "metadata": {},
   "source": [
    "# Violin Plot"
   ]
  },
  {
   "cell_type": "code",
   "execution_count": null,
   "id": "7ef2d407-e159-427a-bc53-c289dc463637",
   "metadata": {
    "tags": []
   },
   "outputs": [],
   "source": [
    "# Create a violin plot\n",
    "sns.violinplot(x='applicant_sex', y='action_taken', data=df_filtered)\n",
    "\n",
    "# Add labels and title\n",
    "plt.xlabel('Applicant Sex')\n",
    "plt.ylabel('Action Taken')\n",
    "plt.title('Violin Plot of Action Taken vs Applicant Sex')\n",
    "\n",
    "# Show the plot\n",
    "plt.show()\n",
    "\n",
    "#  the white dot at the center of each \"violin\" represents the median of the data within that category. \n",
    "#  The thicker part of the violin (the \"body\") represents the interquartile range (IQR), which contains the middle 50% of the data.\n",
    "#  The thinner sections extending from the body (the \"whiskers\") indicate the data's minimum and maximum values within 1.5 times the IQR."
   ]
  },
  {
   "cell_type": "markdown",
   "id": "e95b6ab7-f3aa-427b-b9aa-3c36fe2739fe",
   "metadata": {},
   "source": [
    "##  Barplot"
   ]
  },
  {
   "cell_type": "code",
   "execution_count": null,
   "id": "58545cbe-7b15-4afb-8c88-a92514d2e7b2",
   "metadata": {
    "tags": []
   },
   "outputs": [],
   "source": [
    "pip install --upgrade seaborn matplotlib"
   ]
  },
  {
   "cell_type": "code",
   "execution_count": null,
   "id": "d196c02a-4e02-4337-95fd-490f42329305",
   "metadata": {
    "tags": []
   },
   "outputs": [],
   "source": [
    "# Filter out the warnings related to is_categorical_dtype and use_inf_as_na\n",
    "warnings.filterwarnings(\"ignore\", message=\"is_categorical_dtype is deprecated\")\n",
    "warnings.filterwarnings(\"ignore\", message=\"use_inf_as_na option is deprecated\")\n",
    "\n",
    "first_dimension = \"action_taken\"\n",
    "horizontal_label = \"x label\"\n",
    "second_dimension = \"applicant_sex\"\n",
    "\n",
    "sns.histplot(binwidth=1,\n",
    "            x=first_dimension,\n",
    "            hue=second_dimension,\n",
    "            data=df_filtered,\n",
    "            stat=\"count\",\n",
    "            multiple=\"dodge\",\n",
    "            palette=['lightgreen', 'pink', 'yellow', 'orange', 'grey'],\n",
    "            )  # Adjust the number of bins as needed.\n"
   ]
  },
  {
   "cell_type": "code",
   "execution_count": null,
   "id": "924e05b2-06c4-4070-8a97-e61c2a5e6473",
   "metadata": {
    "tags": []
   },
   "outputs": [],
   "source": [
    "df_test = df_filtered.copy()\n",
    "\n",
    "# Group by 'action_taken' and 'applicant_sex' and count the occurrences\n",
    "grouped_data = df_test.groupby(['action_taken', 'applicant_sex']).size().unstack().fillna(0)\n",
    "\n",
    "# Calculate the total count of each 'action_taken' category\n",
    "total_counts_action_taken = grouped_data.sum(axis=1)\n",
    "\n",
    "# Calculate the percentages for each combination\n",
    "percentage_data = grouped_data.divide(total_counts_action_taken, axis=0) * 100\n",
    "\n",
    "# Print the percentage data\n",
    "print(\"Percentage of each 'action_taken' category for each 'applicant_sex':\")\n",
    "print(percentage_data)"
   ]
  },
  {
   "cell_type": "code",
   "execution_count": null,
   "id": "16bfa04e-d08e-4184-96c3-5f25029abe15",
   "metadata": {
    "tags": []
   },
   "outputs": [],
   "source": [
    "\n",
    "# Filter data for 'action_taken' categories 1 and 3\n",
    "filtered_data = df_test[df_test['action_taken'].isin([1, 3])]\n",
    "\n",
    "# Group by 'action_taken' and 'applicant_sex' and count the occurrences\n",
    "grouped_data = filtered_data.groupby(['action_taken', 'applicant_sex']).size().unstack().fillna(0)\n",
    "\n",
    "# Calculate the total count of each 'action_taken' category\n",
    "total_counts_action_taken = grouped_data.sum(axis=1)\n",
    "\n",
    "# Calculate the percentages for each combination\n",
    "percentage_data = grouped_data.divide(total_counts_action_taken, axis=0) * 100\n",
    "\n",
    "# Plot the percentages for 'action_taken' categories 1 and 3\n",
    "percentage_data.loc[[1, 3]].T.plot(kind='bar', stacked=True)\n",
    "\n",
    "# Add labels and title\n",
    "plt.xlabel('Applicant Sex')\n",
    "plt.ylabel('Percentage')\n",
    "plt.title('Percentage of Action Taken Categories 1 and 3 by Applicant Sex')\n",
    "\n",
    "# Show the plot\n",
    "plt.show()"
   ]
  },
  {
   "cell_type": "markdown",
   "id": "08be2556-7b0c-4b6c-93ad-2eb3f55add92",
   "metadata": {},
   "source": [
    "# Conclusion"
   ]
  },
  {
   "cell_type": "markdown",
   "id": "9423ba06-8068-47f8-9e9f-c8637f3eec4c",
   "metadata": {},
   "source": [
    "The exponential distribution is often used to model the time until an event occurs in a Poisson process, which could be related to the time until a loan is approved or some other event.\n",
    "\n",
    "\n",
    "- Data: Sex and loan approval (action taken category).\n",
    "\n",
    "- Distribution: Exponential distribution, modeling the time until loan approval.\n",
    "\n",
    "- Interpretation: The exponential distribution suggests that the time (or other relevant measure) until a loan is approved may follow this distribution. The rate parameter of the exponential distribution (often denoted as λ, which is the reciprocal of the mean) provides an estimate of how frequently loans are approved."
   ]
  },
  {
   "cell_type": "code",
   "execution_count": null,
   "id": "d949987b-0b0d-40fd-b495-f37e9dc9fa17",
   "metadata": {
    "tags": []
   },
   "outputs": [],
   "source": [
    "import numpy as np\n",
    "\n",
    "# Filter data for applicant_sex category 1 and action_taken category 1\n",
    "data_applicant_sex_1_action_taken_1 = df_test[df_test['applicant_sex'] == 1]['action_taken']\n",
    "\n",
    "# Calculate the mean of the filtered data\n",
    "mean_of_data_applicant_sex_1_action_taken_1 = np.mean(data_applicant_sex_1_action_taken_1)\n",
    "\n",
    "# Calculate the rate parameter (lambda) for applicant_sex category 1 and action_taken category 1\n",
    "rate_parameter_applicant_sex_1_action_taken_1 = 1 / mean_of_data_applicant_sex_1_action_taken_1\n",
    "\n",
    "print(\"Rate parameter (lambda) for the exponential distribution, applicant_sex category 1 and action_taken:\", rate_parameter_applicant_sex_1_action_taken_1)"
   ]
  },
  {
   "cell_type": "code",
   "execution_count": null,
   "id": "d6b2c418-8ac4-486f-b0ad-fc01447a8a87",
   "metadata": {
    "tags": []
   },
   "outputs": [],
   "source": [
    "import numpy as np\n",
    "\n",
    "# Filter data for applicant_sex category 1 and action_taken category 1\n",
    "data_applicant_sex_2_action_taken_1 = df_test[df_test['applicant_sex'] == 2]['action_taken']\n",
    "\n",
    "# Calculate the mean of the filtered data\n",
    "mean_of_data_applicant_sex_2_action_taken_1 = np.mean(data_applicant_sex_2_action_taken_1)\n",
    "\n",
    "# Calculate the rate parameter (lambda) for applicant_sex category 1 and action_taken category 1\n",
    "rate_parameter_applicant_sex_2_action_taken_1 = 1 / mean_of_data_applicant_sex_2_action_taken_1\n",
    "\n",
    "print(\"Rate parameter (lambda) for the exponential distribution, applicant_sex category 2 and action_taken:\", rate_parameter_applicant_sex_2_action_taken_1)\n"
   ]
  },
  {
   "cell_type": "code",
   "execution_count": null,
   "id": "1b574b96-cbb1-4532-a699-c3b4d2a24a82",
   "metadata": {
    "tags": []
   },
   "outputs": [],
   "source": [
    "df_test.to_csv('2_distribution_applicant_sex_and_action_taken.csv', index=False)"
   ]
  }
 ],
 "metadata": {
  "kernelspec": {
   "display_name": "Python 3 (ipykernel)",
   "language": "python",
   "name": "python3"
  },
  "language_info": {
   "codemirror_mode": {
    "name": "ipython",
    "version": 3
   },
   "file_extension": ".py",
   "mimetype": "text/x-python",
   "name": "python",
   "nbconvert_exporter": "python",
   "pygments_lexer": "ipython3",
   "version": "3.9.18"
  }
 },
 "nbformat": 4,
 "nbformat_minor": 5
}
