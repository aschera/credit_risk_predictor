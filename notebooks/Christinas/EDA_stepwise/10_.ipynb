{
 "cells": [
  {
   "cell_type": "code",
   "execution_count": null,
   "id": "236fe6aa-a953-40d2-830b-d6a8db58d7b5",
   "metadata": {},
   "outputs": [],
   "source": [
    "import warnings\n",
    "import numpy as np\n",
    "import pandas as pd\n",
    "import seaborn as sns\n",
    "import matplotlib.pyplot as plt\n",
    "import seaborn as sns\n",
    "from sklearn.preprocessing import LabelEncoder\n",
    "from itertools import product\n",
    "import matplotlib.pyplot as plt"
   ]
  },
  {
   "cell_type": "code",
   "execution_count": null,
   "id": "8f333560-e967-4ec4-b859-68f0a5553053",
   "metadata": {},
   "outputs": [],
   "source": [
    "# load dataset 9"
   ]
  },
  {
   "cell_type": "code",
   "execution_count": null,
   "id": "c2a59209-78cf-4057-853f-b81f2fd701a6",
   "metadata": {},
   "outputs": [],
   "source": [
    "df = pd.read_csv('9_loan_term.csv', low_memory=False)"
   ]
  },
  {
   "cell_type": "code",
   "execution_count": null,
   "id": "8cc5244b-35d6-4fe1-89a8-246bc1d67113",
   "metadata": {},
   "outputs": [],
   "source": [
    "df.info()"
   ]
  }
 ],
 "metadata": {
  "kernelspec": {
   "display_name": "Python 3 (ipykernel)",
   "language": "python",
   "name": "python3"
  },
  "language_info": {
   "codemirror_mode": {
    "name": "ipython",
    "version": 3
   },
   "file_extension": ".py",
   "mimetype": "text/x-python",
   "name": "python",
   "nbconvert_exporter": "python",
   "pygments_lexer": "ipython3",
   "version": "3.9.18"
  }
 },
 "nbformat": 4,
 "nbformat_minor": 5
}
