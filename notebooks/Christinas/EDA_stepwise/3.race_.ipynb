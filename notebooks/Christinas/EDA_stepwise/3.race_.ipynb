{
 "cells": [
  {
   "cell_type": "code",
   "execution_count": 1,
   "id": "e2124416-86de-4f7b-84d6-9cb6b3a5b458",
   "metadata": {
    "tags": []
   },
   "outputs": [],
   "source": [
    "import numpy as np\n",
    "import pandas as pd\n",
    "import seaborn as sns\n",
    "import matplotlib.pyplot as plt"
   ]
  },
  {
   "cell_type": "code",
   "execution_count": null,
   "id": "b29bb4f9-9d5d-420f-aa81-b8a75ae2b830",
   "metadata": {},
   "outputs": [],
   "source": [
    "# load dataset 2"
   ]
  },
  {
   "cell_type": "code",
   "execution_count": 3,
   "id": "344b4a95-526c-4ce5-a2b3-7aea0acac080",
   "metadata": {
    "tags": []
   },
   "outputs": [],
   "source": [
    "df = pd.read_csv('2_distribution_applicant_sex_and_action_taken.csv', low_memory=False)"
   ]
  },
  {
   "cell_type": "markdown",
   "id": "86696652-483d-4d88-a977-607ef7d42fab",
   "metadata": {
    "tags": []
   },
   "source": [
    "# 3 ethnicity and race distribution"
   ]
  },
  {
   "cell_type": "markdown",
   "id": "367fee5e-5edc-4d7b-95ed-da65165f996b",
   "metadata": {},
   "source": [
    "## All the race and ethnicity columns\n",
    "\n",
    "applicant_ethnicity_1                     \n",
    "applicant_ethnicity_2                     \n",
    "applicant_ethnicity_3                     \n",
    "applicant_ethnicity_4                     \n",
    "applicant_ethnicity_5                                         \n",
    "applicant_ethnicity_observed   \n",
    "\n",
    "co_applicant_ethnicity_1 \n",
    "co_applicant_ethnicity_3                  \n",
    "co_applicant_ethnicity_4                  \n",
    "co_applicant_ethnicity_5 \n",
    "co_applicant_ethnicity_observed   \n",
    "\n",
    "applicant_race_1                          \n",
    "applicant_race_2                         \n",
    "applicant_race_3                       \n",
    "applicant_race_4                         \n",
    "applicant_race_5    \n",
    "applicant_race_observed  \n",
    "\n",
    "co_applicant_race_1                      \n",
    "co_applicant_race_2                      \n",
    "co_applicant_race_3                      \n",
    "co_applicant_race_4                 \n",
    "co_applicant_race_5          \n",
    "co_applicant_race_observed    \n",
    "\n",
    "derived_ethnicity                         \n",
    "derived_race"
   ]
  },
  {
   "cell_type": "markdown",
   "id": "7d658ca1-cbe0-412d-bb69-f752ec41282f",
   "metadata": {},
   "source": [
    "## Columns we use for the model\n",
    "'applicant_ethnicity_1',\n",
    "'co_applicant_ethnicity_1',\n",
    "'applicant_race_1',\n",
    "'applicant_race_2',\n",
    "'co_applicant_race_1',\n",
    "'co_applicant_race_2',"
   ]
  },
  {
   "cell_type": "code",
   "execution_count": 6,
   "id": "a35f4109-02b5-4239-947e-46cd7bce8677",
   "metadata": {
    "tags": []
   },
   "outputs": [
    {
     "name": "stdout",
     "output_type": "stream",
     "text": [
      "<class 'pandas.core.frame.DataFrame'>\n",
      "RangeIndex: 184502 entries, 0 to 184501\n",
      "Data columns (total 6 columns):\n",
      " #   Column                    Non-Null Count   Dtype  \n",
      "---  ------                    --------------   -----  \n",
      " 0   applicant_ethnicity_1     183744 non-null  float64\n",
      " 1   co_applicant_ethnicity_1  184221 non-null  float64\n",
      " 2   applicant_race_1          184247 non-null  float64\n",
      " 3   applicant_race_2          11483 non-null   float64\n",
      " 4   co_applicant_race_1       184408 non-null  float64\n",
      " 5   co_applicant_race_2       5736 non-null    float64\n",
      "dtypes: float64(6)\n",
      "memory usage: 8.4 MB\n",
      "None\n"
     ]
    }
   ],
   "source": [
    "columns_of_interest = ['applicant_ethnicity_1', 'co_applicant_ethnicity_1', 'applicant_race_1', 'applicant_race_2', 'co_applicant_race_1', 'co_applicant_race_2']\n",
    "\n",
    "info_df = df[columns_of_interest]\n",
    "print(info_df.info())"
   ]
  },
  {
   "cell_type": "code",
   "execution_count": null,
   "id": "8c1f5468-1607-4990-a65b-d0bb77a817a5",
   "metadata": {},
   "outputs": [],
   "source": []
  }
 ],
 "metadata": {
  "kernelspec": {
   "display_name": "Python 3 (ipykernel)",
   "language": "python",
   "name": "python3"
  },
  "language_info": {
   "codemirror_mode": {
    "name": "ipython",
    "version": 3
   },
   "file_extension": ".py",
   "mimetype": "text/x-python",
   "name": "python",
   "nbconvert_exporter": "python",
   "pygments_lexer": "ipython3",
   "version": "3.9.18"
  }
 },
 "nbformat": 4,
 "nbformat_minor": 5
}
