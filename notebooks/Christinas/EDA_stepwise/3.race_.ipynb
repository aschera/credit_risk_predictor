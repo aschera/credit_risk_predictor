{
 "cells": [
  {
   "cell_type": "code",
   "execution_count": 1,
   "id": "e2124416-86de-4f7b-84d6-9cb6b3a5b458",
   "metadata": {
    "tags": []
   },
   "outputs": [],
   "source": [
    "import warnings\n",
    "import numpy as np\n",
    "import pandas as pd\n",
    "import seaborn as sns\n",
    "import matplotlib.pyplot as plt\n",
    "import seaborn as sns\n",
    "\n",
    "from itertools import product\n",
    "import matplotlib.pyplot as plt"
   ]
  },
  {
   "cell_type": "code",
   "execution_count": 2,
   "id": "b29bb4f9-9d5d-420f-aa81-b8a75ae2b830",
   "metadata": {},
   "outputs": [],
   "source": [
    "# load dataset 2"
   ]
  },
  {
   "cell_type": "code",
   "execution_count": 3,
   "id": "344b4a95-526c-4ce5-a2b3-7aea0acac080",
   "metadata": {
    "tags": []
   },
   "outputs": [],
   "source": [
    "df = pd.read_csv('2_distribution_applicant_sex_and_action_taken.csv', low_memory=False)"
   ]
  },
  {
   "cell_type": "markdown",
   "id": "86696652-483d-4d88-a977-607ef7d42fab",
   "metadata": {
    "tags": []
   },
   "source": [
    "# 3 ethnicity and race distribution"
   ]
  },
  {
   "cell_type": "markdown",
   "id": "367fee5e-5edc-4d7b-95ed-da65165f996b",
   "metadata": {},
   "source": [
    "## All the race and ethnicity columns\n",
    "\n",
    "applicant_ethnicity_1                     \n",
    "applicant_ethnicity_2                     \n",
    "applicant_ethnicity_3                     \n",
    "applicant_ethnicity_4                     \n",
    "applicant_ethnicity_5                                         \n",
    "applicant_ethnicity_observed   \n",
    "\n",
    "co_applicant_ethnicity_1 \n",
    "co_applicant_ethnicity_3                  \n",
    "co_applicant_ethnicity_4                  \n",
    "co_applicant_ethnicity_5 \n",
    "co_applicant_ethnicity_observed   \n",
    "\n",
    "applicant_race_1                          \n",
    "applicant_race_2                         \n",
    "applicant_race_3                       \n",
    "applicant_race_4                         \n",
    "applicant_race_5    \n",
    "applicant_race_observed  \n",
    "\n",
    "co_applicant_race_1                      \n",
    "co_applicant_race_2                      \n",
    "co_applicant_race_3                      \n",
    "co_applicant_race_4                 \n",
    "co_applicant_race_5          \n",
    "co_applicant_race_observed    \n",
    "\n",
    "derived_ethnicity                         \n",
    "derived_race"
   ]
  },
  {
   "cell_type": "markdown",
   "id": "7d658ca1-cbe0-412d-bb69-f752ec41282f",
   "metadata": {},
   "source": [
    "## Columns we use for the model\n",
    "'applicant_ethnicity_1',\n",
    "'co_applicant_ethnicity_1',\n",
    "'applicant_race_1',\n",
    "'applicant_race_2',\n",
    "'co_applicant_race_1',\n",
    "'co_applicant_race_2',"
   ]
  },
  {
   "cell_type": "code",
   "execution_count": 4,
   "id": "a35f4109-02b5-4239-947e-46cd7bce8677",
   "metadata": {
    "tags": []
   },
   "outputs": [
    {
     "name": "stdout",
     "output_type": "stream",
     "text": [
      "<class 'pandas.core.frame.DataFrame'>\n",
      "RangeIndex: 190082 entries, 0 to 190081\n",
      "Data columns (total 6 columns):\n",
      " #   Column                    Non-Null Count   Dtype  \n",
      "---  ------                    --------------   -----  \n",
      " 0   applicant_ethnicity_1     189325 non-null  float64\n",
      " 1   co_applicant_ethnicity_1  189801 non-null  float64\n",
      " 2   applicant_race_1          189827 non-null  float64\n",
      " 3   applicant_race_2          11484 non-null   float64\n",
      " 4   co_applicant_race_1       189988 non-null  float64\n",
      " 5   co_applicant_race_2       5740 non-null    float64\n",
      "dtypes: float64(6)\n",
      "memory usage: 8.7 MB\n",
      "None\n"
     ]
    }
   ],
   "source": [
    "columns_of_interest = ['applicant_ethnicity_1', 'co_applicant_ethnicity_1', 'applicant_race_1', 'applicant_race_2', 'co_applicant_race_1', 'co_applicant_race_2']\n",
    "\n",
    "info_df = df[columns_of_interest]\n",
    "print(info_df.info())"
   ]
  },
  {
   "cell_type": "markdown",
   "id": "a0914a88-b1f6-46d7-a20a-9a8b080aed1d",
   "metadata": {},
   "source": [
    "## Remove columns we dont need."
   ]
  },
  {
   "cell_type": "code",
   "execution_count": 5,
   "id": "bed4e8c3-060f-4df0-8b32-c6258d0a9bbf",
   "metadata": {},
   "outputs": [],
   "source": [
    "# List of columns to remove\n",
    "columns_to_remove = ['applicant_ethnicity_2', 'applicant_ethnicity_3', 'applicant_ethnicity_4', \n",
    "                     'applicant_ethnicity_5', 'applicant_ethnicity_observed','co_applicant_ethnicity_2', 'co_applicant_ethnicity_3', \n",
    "                     'co_applicant_ethnicity_4', 'co_applicant_ethnicity_5', 'co_applicant_ethnicity_observed',\n",
    "                      'applicant_race_3', 'applicant_race_4', 'applicant_race_5', \n",
    "                     'applicant_race_observed',  'co_applicant_race_3', \n",
    "                     'co_applicant_race_4', 'co_applicant_race_5', 'co_applicant_race_observed',\n",
    "                     'derived_ethnicity', 'derived_race']\n",
    "\n",
    "# Drop the specified columns\n",
    "df.drop(columns=columns_to_remove, inplace=True)"
   ]
  },
  {
   "cell_type": "code",
   "execution_count": 6,
   "id": "1a28390f-08b8-4290-9a18-7af088e39a5f",
   "metadata": {
    "tags": []
   },
   "outputs": [
    {
     "name": "stdout",
     "output_type": "stream",
     "text": [
      "<class 'pandas.core.frame.DataFrame'>\n",
      "RangeIndex: 190082 entries, 0 to 190081\n",
      "Data columns (total 76 columns):\n",
      " #   Column                                    Non-Null Count   Dtype  \n",
      "---  ------                                    --------------   -----  \n",
      " 0   activity_year                             190082 non-null  int64  \n",
      " 1   lei                                       190082 non-null  object \n",
      " 2   derived_msa_md                            10838 non-null   float64\n",
      " 3   state_code                                190024 non-null  object \n",
      " 4   county_code                               190014 non-null  float64\n",
      " 5   census_tract                              190014 non-null  float64\n",
      " 6   conforming_loan_limit                     190065 non-null  object \n",
      " 7   derived_loan_product_type                 190082 non-null  object \n",
      " 8   derived_dwelling_category                 190082 non-null  object \n",
      " 9   action_taken                              190082 non-null  int64  \n",
      " 10  purchaser_type                            190082 non-null  int64  \n",
      " 11  preapproval                               190082 non-null  int64  \n",
      " 12  loan_type                                 190082 non-null  int64  \n",
      " 13  loan_purpose                              190082 non-null  bool   \n",
      " 14  lien_status                               190082 non-null  int64  \n",
      " 15  reverse_mortgage                          190082 non-null  int64  \n",
      " 16  open_end_line_of_credit                   190082 non-null  int64  \n",
      " 17  business_or_commercial_purpose            190082 non-null  bool   \n",
      " 18  loan_amount                               190082 non-null  int64  \n",
      " 19  combined_loan_to_value_ratio              141881 non-null  object \n",
      " 20  interest_rate                             117691 non-null  object \n",
      " 21  rate_spread                               113282 non-null  object \n",
      " 22  hoepa_status                              190082 non-null  int64  \n",
      " 23  total_loan_costs                          113787 non-null  object \n",
      " 24  total_points_and_fees                     302 non-null     object \n",
      " 25  origination_charges                       115942 non-null  object \n",
      " 26  discount_points                           28357 non-null   object \n",
      " 27  lender_credits                            60714 non-null   object \n",
      " 28  loan_term                                 189817 non-null  object \n",
      " 29  prepayment_penalty_term                   303 non-null     object \n",
      " 30  intro_rate_period                         15481 non-null   object \n",
      " 31  negative_amortization                     190082 non-null  int64  \n",
      " 32  interest_only_payment                     190082 non-null  int64  \n",
      " 33  balloon_payment                           190082 non-null  int64  \n",
      " 34  other_nonamortizing_features              190082 non-null  int64  \n",
      " 35  property_value                            147001 non-null  object \n",
      " 36  construction_method                       190082 non-null  int64  \n",
      " 37  occupancy_type                            190082 non-null  int64  \n",
      " 38  manufactured_home_secured_property_type   190082 non-null  int64  \n",
      " 39  manufactured_home_land_property_interest  190082 non-null  int64  \n",
      " 40  total_units                               190082 non-null  object \n",
      " 41  multifamily_affordable_units              302 non-null     object \n",
      " 42  income                                    181950 non-null  float64\n",
      " 43  debt_to_income_ratio                      142255 non-null  object \n",
      " 44  applicant_credit_score_type               190082 non-null  int64  \n",
      " 45  co_applicant_credit_score_type            190082 non-null  int64  \n",
      " 46  applicant_ethnicity_1                     189325 non-null  float64\n",
      " 47  co_applicant_ethnicity_1                  189801 non-null  float64\n",
      " 48  applicant_race_1                          189827 non-null  float64\n",
      " 49  applicant_race_2                          11484 non-null   float64\n",
      " 50  co_applicant_race_1                       189988 non-null  float64\n",
      " 51  co_applicant_race_2                       5740 non-null    float64\n",
      " 52  applicant_sex                             190082 non-null  int64  \n",
      " 53  co_applicant_sex                          190082 non-null  int64  \n",
      " 54  applicant_age                             190082 non-null  object \n",
      " 55  co_applicant_age                          190082 non-null  object \n",
      " 56  applicant_age_above_62                    189854 non-null  object \n",
      " 57  co_applicant_age_above_62                 88058 non-null   object \n",
      " 58  submission_of_application                 190082 non-null  int64  \n",
      " 59  initially_payable_to_institution          190082 non-null  int64  \n",
      " 60  aus_1                                     190082 non-null  int64  \n",
      " 61  aus_2                                     48417 non-null   float64\n",
      " 62  aus_3                                     38363 non-null   float64\n",
      " 63  aus_4                                     0 non-null       float64\n",
      " 64  aus_5                                     8 non-null       float64\n",
      " 65  denial_reason_1                           190082 non-null  int64  \n",
      " 66  denial_reason_2                           11280 non-null   float64\n",
      " 67  denial_reason_3                           1649 non-null    float64\n",
      " 68  denial_reason_4                           134 non-null     float64\n",
      " 69  tract_population                          190082 non-null  int64  \n",
      " 70  tract_minority_population_percent         190082 non-null  float64\n",
      " 71  ffiec_msa_md_median_family_income         190082 non-null  int64  \n",
      " 72  tract_to_msa_income_percentage            190082 non-null  float64\n",
      " 73  tract_owner_occupied_units                190082 non-null  int64  \n",
      " 74  tract_one_to_four_family_homes            190082 non-null  int64  \n",
      " 75  tract_median_age_of_housing_units         190082 non-null  int64  \n",
      "dtypes: bool(2), float64(19), int64(31), object(24)\n",
      "memory usage: 107.7+ MB\n"
     ]
    }
   ],
   "source": [
    "df.info()"
   ]
  },
  {
   "cell_type": "markdown",
   "id": "2cbbe9a6-3ef6-43a1-b48f-e0d395c9fd1b",
   "metadata": {},
   "source": [
    "# Race"
   ]
  },
  {
   "cell_type": "code",
   "execution_count": 7,
   "id": "6353e7be-80a7-45b8-b4c9-70a0707c0fca",
   "metadata": {
    "tags": []
   },
   "outputs": [
    {
     "name": "stdout",
     "output_type": "stream",
     "text": [
      "applicant_race_1\n",
      "5.0     135470\n",
      "6.0      20192\n",
      "2.0      13467\n",
      "3.0      12658\n",
      "21.0      2775\n",
      "1.0       1634\n",
      "22.0      1105\n",
      "23.0       588\n",
      "27.0       523\n",
      "25.0       333\n",
      "26.0       328\n",
      "4.0        313\n",
      "44.0       173\n",
      "7.0        138\n",
      "24.0        81\n",
      "41.0        21\n",
      "42.0        17\n",
      "43.0        11\n",
      "Name: count, dtype: int64\n"
     ]
    }
   ],
   "source": [
    "print(df['applicant_race_1'].value_counts())"
   ]
  },
  {
   "cell_type": "markdown",
   "id": "b9921ae4-2095-410a-98d1-72eef3db22b2",
   "metadata": {
    "tags": []
   },
   "source": [
    "Values:\n",
    "- 1 - American Indian or Alaska Native\n",
    "- 2 - Asian\n",
    "- 21 - Asian Indian\n",
    "- 22 - Chinese\n",
    "- 23 - Filipino\n",
    "- 24 - Japanese\n",
    "- 25 - Korean\n",
    "- 26 - Vietnamese\n",
    "- 27 - Other Asian\n",
    "- 3 - Black or African American\n",
    "- 4 - Native Hawaiian or Other Pacific Islander\n",
    "- 41 - Native Hawaiian\n",
    "- 42 - Guamanian or Chamorro\n",
    "- 43 - Samoan\n",
    "- 44 - Other Pacific Islander\n",
    "- 5 - White\n",
    "- 6 - Information not provided by applicant in mail, internet, or telephone application\n",
    "- 7 - Not applicable"
   ]
  },
  {
   "cell_type": "markdown",
   "id": "91be669b-178a-4a9a-82d3-724f73a1281f",
   "metadata": {},
   "source": [
    "### We only want 5 - White and 3 - Black or African American"
   ]
  },
  {
   "cell_type": "code",
   "execution_count": 8,
   "id": "8d2d1ced-16d7-49c2-baff-b1b41dea44ab",
   "metadata": {
    "tags": []
   },
   "outputs": [],
   "source": [
    "# Columns of interest\n",
    "columns_of_race = ['applicant_race_1', 'applicant_race_2', 'co_applicant_race_1', 'co_applicant_race_2']"
   ]
  },
  {
   "cell_type": "markdown",
   "id": "c74888f3-142e-48ef-9145-d82052bf8e5c",
   "metadata": {},
   "source": [
    "### remove not needed columns"
   ]
  },
  {
   "cell_type": "code",
   "execution_count": 9,
   "id": "a843d028-64d3-4794-8970-cb1cf915e36d",
   "metadata": {
    "tags": []
   },
   "outputs": [
    {
     "name": "stdout",
     "output_type": "stream",
     "text": [
      "applicant_race_1\n",
      "applicant_race_1\n",
      "5.0    135470\n",
      "3.0     12658\n",
      "Name: count, dtype: int64\n",
      "applicant_race_2\n",
      "applicant_race_2\n",
      "5.0    1417\n",
      "3.0     166\n",
      "Name: count, dtype: int64\n",
      "co_applicant_race_1\n",
      "co_applicant_race_1\n",
      "5.0    66252\n",
      "3.0     3551\n",
      "Name: count, dtype: int64\n",
      "co_applicant_race_2\n",
      "co_applicant_race_2\n",
      "5.0    557\n",
      "3.0     34\n",
      "Name: count, dtype: int64\n"
     ]
    }
   ],
   "source": [
    "# Filter the DataFrame to keep rows with categories 2 and 3 for the specified columns\n",
    "filtered_race = df[columns_of_race].isin([5.0, 3.0])\n",
    "\n",
    "# Filter the race columns\n",
    "filtered_df_race = df[columns_of_race][filtered_race]\n",
    "\n",
    "# Merge the filtered race columns with the rest of the DataFrame\n",
    "filtered_df = pd.concat([df.drop(columns_of_race, axis=1), filtered_df_race], axis=1)\n",
    "\n",
    "# Print the value counts for each column\n",
    "for column in columns_of_race:\n",
    "    print(f\"{column}\\n{filtered_df[column].value_counts()}\")\n"
   ]
  },
  {
   "cell_type": "markdown",
   "id": "1983efe3-f434-422a-9bcd-cf65d84dce8f",
   "metadata": {},
   "source": [
    "# Ethnicity"
   ]
  },
  {
   "cell_type": "code",
   "execution_count": 10,
   "id": "da13868d-2c17-40b9-b35a-f7c281ca3ef5",
   "metadata": {
    "tags": []
   },
   "outputs": [
    {
     "name": "stdout",
     "output_type": "stream",
     "text": [
      "applicant_ethnicity_1\n",
      "2.0     149265\n",
      "1.0      19538\n",
      "3.0      17471\n",
      "11.0      1253\n",
      "14.0      1112\n",
      "12.0       322\n",
      "13.0       226\n",
      "4.0        138\n",
      "Name: count, dtype: int64\n"
     ]
    }
   ],
   "source": [
    "print(filtered_df['applicant_ethnicity_1'].value_counts())"
   ]
  },
  {
   "cell_type": "markdown",
   "id": "d4d661e2-8f57-4de3-84d1-43cd56a77269",
   "metadata": {},
   "source": [
    "Values:\n",
    "- 1 - Hispanic or Latino\n",
    "- 11 - Mexican\n",
    "- 12 - Puerto Rican\n",
    "- 13 - Cuban\n",
    "- 14 - Other Hispanic or Latino\n",
    "- 2 - Not Hispanic or Latino\n",
    "- 3 - Information not provided by applicant in mail, internet, or telephone application\n",
    "- 4 - Not applicable"
   ]
  },
  {
   "cell_type": "markdown",
   "id": "3240327c-d49b-4611-b42c-b91edfbf03d3",
   "metadata": {},
   "source": [
    "### We only want 2 - Not Hispanic or Latino & 1 - Hispanic or Latino "
   ]
  },
  {
   "cell_type": "code",
   "execution_count": 11,
   "id": "80570578-dd9b-4b0c-9482-71ac89262919",
   "metadata": {
    "tags": []
   },
   "outputs": [],
   "source": [
    "columns_of_ethnicity = ['applicant_ethnicity_1', 'co_applicant_ethnicity_1']"
   ]
  },
  {
   "cell_type": "markdown",
   "id": "6e7aeac6-d316-4d79-a71b-4cfb40b8b7a4",
   "metadata": {},
   "source": [
    "### remove not needed columns"
   ]
  },
  {
   "cell_type": "code",
   "execution_count": 12,
   "id": "f46e7692-a9a2-4a12-bbdc-24c4352a13df",
   "metadata": {},
   "outputs": [
    {
     "name": "stdout",
     "output_type": "stream",
     "text": [
      "applicant_ethnicity_1\n",
      "applicant_ethnicity_1\n",
      "2.0    149265\n",
      "1.0     19538\n",
      "Name: count, dtype: int64\n",
      "co_applicant_ethnicity_1\n",
      "co_applicant_ethnicity_1\n",
      "2.0    72189\n",
      "1.0     8501\n",
      "Name: count, dtype: int64\n"
     ]
    }
   ],
   "source": [
    "# Filter the DataFrame to keep rows with categories 1 and 2 for the specified columns\n",
    "filtered_ethnicity = filtered_df[columns_of_ethnicity].isin([1.0, 2.0])\n",
    "\n",
    "# Filter the race columns\n",
    "filtered_df_ethnicity = filtered_df[columns_of_ethnicity][filtered_ethnicity]\n",
    "\n",
    "# Merge the filtered race columns with the rest of the DataFrame\n",
    "filtered_df = pd.concat([filtered_df.drop(columns_of_ethnicity, axis=1), filtered_df_ethnicity], axis=1)\n",
    "\n",
    "# Print the value counts for each column\n",
    "for column in columns_of_ethnicity:\n",
    "    print(f\"{column}\\n{filtered_df[column].value_counts()}\")\n"
   ]
  },
  {
   "cell_type": "markdown",
   "id": "bea8c75c-8660-4f70-8de5-eeac3302eb20",
   "metadata": {},
   "source": [
    "# Visualisations"
   ]
  },
  {
   "cell_type": "code",
   "execution_count": 13,
   "id": "1b894668-4553-4f59-8bda-5aa8cfa07784",
   "metadata": {
    "tags": []
   },
   "outputs": [
    {
     "data": {
      "image/png": "[encoded data removed]",
      "text/plain": [
       "<Figure size 1000x800 with 2 Axes>"
      ]
     },
     "metadata": {},
     "output_type": "display_data"
    }
   ],
   "source": [
    "# Select the specified race columns\n",
    "selected_columns = ['applicant_race_1', 'applicant_race_2', 'co_applicant_race_1', 'co_applicant_race_2']\n",
    "selected_df = filtered_df[selected_columns]\n",
    "\n",
    "# Calculate the correlation matrix\n",
    "correlation_matrix = selected_df.corr()\n",
    "\n",
    "# Plot the heatmap\n",
    "plt.figure(figsize=(10, 8))\n",
    "sns.heatmap(correlation_matrix, annot=True, cmap='coolwarm', fmt='.2f', linewidths=0.5)\n",
    "plt.title('Correlation Heatmap of Race Columns')\n",
    "plt.show()"
   ]
  },
  {
   "cell_type": "code",
   "execution_count": 14,
   "id": "255500cb-bb13-4f22-92f4-59c7ea10dc2d",
   "metadata": {
    "tags": []
   },
   "outputs": [
    {
     "data": {
      "image/png": "[encoded data removed]",
      "text/plain": [
       "<Figure size 600x400 with 2 Axes>"
      ]
     },
     "metadata": {},
     "output_type": "display_data"
    }
   ],
   "source": [
    "# Select the specified ethnicity columns\n",
    "columns_of_ethnicity = ['applicant_ethnicity_1', 'co_applicant_ethnicity_1']\n",
    "ethnicity_df =  filtered_df[columns_of_ethnicity]\n",
    "\n",
    "# Calculate the correlation matrix\n",
    "correlation_matrix_ethnicity = ethnicity_df.corr()\n",
    "\n",
    "# Plot the heatmap for ethnicity columns\n",
    "plt.figure(figsize=(6, 4))\n",
    "sns.heatmap(correlation_matrix_ethnicity, annot=True, cmap='coolwarm', fmt='.2f', linewidths=0.5)\n",
    "plt.title('Correlation Heatmap of Ethnicity Columns')\n",
    "plt.show()"
   ]
  },
  {
   "cell_type": "code",
   "execution_count": 15,
   "id": "28c15638-87b3-4830-a182-4dfc025d30c7",
   "metadata": {},
   "outputs": [
    {
     "name": "stdout",
     "output_type": "stream",
     "text": [
      "Race Counts: [[135470, 12658], [1417, 166], [66252, 3551], [557, 34]]\n",
      "Ethnicity Counts: [[149265, 19538], [72189, 8501]]\n"
     ]
    }
   ],
   "source": [
    "# Define the race and ethnicity categories\n",
    "race_categories = ['5.0', '3.0']\n",
    "ethnicity_categories = ['2.0', '1.0']\n",
    "\n",
    "# Define the columns for race and ethnicity\n",
    "race_columns = ['applicant_race_1', 'applicant_race_2', 'co_applicant_race_1', 'co_applicant_race_2']\n",
    "ethnicity_columns = ['applicant_ethnicity_1', 'co_applicant_ethnicity_1']\n",
    "\n",
    "# Initialize counts for each combination\n",
    "race_counts = [[0] * len(race_categories) for _ in range(len(race_columns))]\n",
    "ethnicity_counts = [[0] * len(ethnicity_categories) for _ in range(len(ethnicity_columns))]\n",
    "\n",
    "# Iterate through the DataFrame and count combinations\n",
    "for idx, row in filtered_df.iterrows():\n",
    "    for i, col in enumerate(race_columns):\n",
    "        race_val = str(row[col])\n",
    "        if race_val in race_categories:\n",
    "            race_counts[i][race_categories.index(race_val)] += 1\n",
    "\n",
    "    for i, col in enumerate(ethnicity_columns):\n",
    "        ethnicity_val = str(row[col])\n",
    "        if ethnicity_val in ethnicity_categories:\n",
    "            ethnicity_counts[i][ethnicity_categories.index(ethnicity_val)] += 1\n",
    "\n",
    "# Now, race_counts and ethnicity_counts have the counts for each combination\n",
    "print('Race Counts:', race_counts)\n",
    "print('Ethnicity Counts:', ethnicity_counts)\n"
   ]
  },
  {
   "cell_type": "code",
   "execution_count": 16,
   "id": "5c93df2c-a925-4ea4-a763-923217963ee1",
   "metadata": {
    "tags": []
   },
   "outputs": [
    {
     "name": "stdout",
     "output_type": "stream",
     "text": [
      "Ethnicity Counts:\n",
      "                             1.0    2.0\n",
      "ethnicity_categories                   \n",
      "applicant_ethnicity_1     149265  19538\n",
      "co_applicant_ethnicity_1   72189   8501\n"
     ]
    }
   ],
   "source": [
    "def generate_counts_table(counts, categories):\n",
    "    df = pd.DataFrame(counts, columns=['1.0', '2.0'], index=categories)\n",
    "    df.index.name = 'ethnicity_categories'\n",
    "    return df\n",
    "\n",
    "ethnicity_categories = ['applicant_ethnicity_1', 'co_applicant_ethnicity_1']\n",
    "\n",
    "# Generate and display the Ethnicity Counts table\n",
    "print('Ethnicity Counts:')\n",
    "ethnicity_table = generate_counts_table(ethnicity_counts, ethnicity_categories)\n",
    "print(ethnicity_table)"
   ]
  },
  {
   "cell_type": "code",
   "execution_count": 17,
   "id": "2fdeba2e-4f06-4882-8996-8da4d3288ecf",
   "metadata": {
    "tags": []
   },
   "outputs": [
    {
     "data": {
      "image/png": "[encoded data removed]",
      "text/plain": [
       "<Figure size 640x480 with 1 Axes>"
      ]
     },
     "metadata": {},
     "output_type": "display_data"
    }
   ],
   "source": [
    "# Plot the Ethnicity Counts on a logarithmic scale\n",
    "ethnicity_table.plot(kind='bar', stacked=True, logy=True)\n",
    "plt.xlabel('Ethnicity Categories')\n",
    "plt.ylabel('Log Counts')\n",
    "plt.title('Ethnicity Counts (log scale)')\n",
    "plt.show()"
   ]
  },
  {
   "cell_type": "code",
   "execution_count": 18,
   "id": "1ec0169c-3e7b-4d1e-bef8-b06beda057ee",
   "metadata": {
    "tags": []
   },
   "outputs": [
    {
     "name": "stdout",
     "output_type": "stream",
     "text": [
      "Race Counts:\n",
      "                        5.0    3.0\n",
      "race_categories                   \n",
      "applicant_race_1     135470  12658\n",
      "applicant_race_2       1417    166\n",
      "co_applicant_race_1   66252   3551\n",
      "co_applicant_race_2     557     34\n"
     ]
    }
   ],
   "source": [
    "import pandas as pd\n",
    "\n",
    "def generate_counts_table(counts, categories):\n",
    "    df = pd.DataFrame(counts, columns=['5.0', '3.0'], index=categories)\n",
    "    df.index.name = 'race_categories'\n",
    "    return df\n",
    "\n",
    "race_categories = ['applicant_race_1', 'applicant_race_2', 'co_applicant_race_1', 'co_applicant_race_2']\n",
    "\n",
    "# Generate and display the Race Counts table\n",
    "print('Race Counts:')\n",
    "race_table = generate_counts_table(race_counts, race_categories)\n",
    "print(race_table)\n"
   ]
  },
  {
   "cell_type": "code",
   "execution_count": 19,
   "id": "0a327981-cbe8-4392-a7a7-614f05b33576",
   "metadata": {
    "tags": []
   },
   "outputs": [
    {
     "data": {
      "image/png": "[encoded data removed]",
      "text/plain": [
       "<Figure size 640x480 with 1 Axes>"
      ]
     },
     "metadata": {},
     "output_type": "display_data"
    }
   ],
   "source": [
    "# Plot the Race Counts on a logarithmic scale\n",
    "race_table.plot(kind='bar', stacked=True, logy=True)\n",
    "plt.xlabel('Race Categories')\n",
    "plt.ylabel('Log Counts')\n",
    "plt.title('Race Counts (log scale)')\n",
    "plt.show()"
   ]
  },
  {
   "cell_type": "markdown",
   "id": "b495ee74-2b2f-4515-afba-37ed19911cf4",
   "metadata": {},
   "source": [
    "## See all the WHITE applicants."
   ]
  },
  {
   "cell_type": "code",
   "execution_count": 20,
   "id": "63c44661-4545-4d80-a79d-e77a46c2996b",
   "metadata": {
    "tags": []
   },
   "outputs": [],
   "source": [
    "# Filter the DataFrame to include only 'applicant_race_1' with value 5.0\n",
    "filtered_df_applicant_race_1_5 = filtered_df[(filtered_df['applicant_race_1'] == 5.0)]\n",
    "\n",
    "race_columns1 = ['applicant_race_2', 'co_applicant_race_1', 'co_applicant_race_2']\n",
    "ethnicity_columns1 = ['applicant_ethnicity_1', 'co_applicant_ethnicity_1']\n",
    "\n",
    "# Select specific columns\n",
    "selected_columns = race_columns1 + ethnicity_columns1\n",
    "filtered_df_selected_columns = filtered_df_applicant_race_1_5[selected_columns]"
   ]
  },
  {
   "cell_type": "code",
   "execution_count": 21,
   "id": "48949d93-09ee-4a2a-857d-11c8489d246a",
   "metadata": {
    "tags": []
   },
   "outputs": [
    {
     "name": "stdout",
     "output_type": "stream",
     "text": [
      "<class 'pandas.core.frame.DataFrame'>\n",
      "Index: 135470 entries, 2 to 190080\n",
      "Data columns (total 5 columns):\n",
      " #   Column                    Non-Null Count   Dtype  \n",
      "---  ------                    --------------   -----  \n",
      " 0   applicant_race_2          0 non-null       float64\n",
      " 1   co_applicant_race_1       64092 non-null   float64\n",
      " 2   co_applicant_race_2       301 non-null     float64\n",
      " 3   applicant_ethnicity_1     131101 non-null  float64\n",
      " 4   co_applicant_ethnicity_1  64695 non-null   float64\n",
      "dtypes: float64(5)\n",
      "memory usage: 6.2 MB\n"
     ]
    }
   ],
   "source": [
    "filtered_df_selected_columns.info()"
   ]
  },
  {
   "cell_type": "code",
   "execution_count": 22,
   "id": "030864a1-2148-44a2-bc22-48b62320ca56",
   "metadata": {
    "tags": []
   },
   "outputs": [],
   "source": [
    "# Sort with NaN values at the bottom\n",
    "df_sorted = pd.concat([filtered_df_selected_columns.dropna(), \n",
    "                       filtered_df_selected_columns[filtered_df_selected_columns.isna().any(axis=1)]], \n",
    "                      ignore_index=True)\n",
    "\n",
    "# Calculate summary statistics\n",
    "statistics = df_sorted.describe()"
   ]
  },
  {
   "cell_type": "code",
   "execution_count": 23,
   "id": "87c43a39-be7a-4734-8585-6d1dd992cb61",
   "metadata": {
    "tags": []
   },
   "outputs": [
    {
     "name": "stdout",
     "output_type": "stream",
     "text": [
      "       applicant_race_2  co_applicant_race_1  co_applicant_race_2  \\\n",
      "count               0.0         64092.000000           301.000000   \n",
      "mean                NaN             4.986675             4.933555   \n",
      "std                 NaN             0.162702             0.359032   \n",
      "min                 NaN             3.000000             3.000000   \n",
      "25%                 NaN             5.000000             5.000000   \n",
      "50%                 NaN             5.000000             5.000000   \n",
      "75%                 NaN             5.000000             5.000000   \n",
      "max                 NaN             5.000000             5.000000   \n",
      "\n",
      "       applicant_ethnicity_1  co_applicant_ethnicity_1  \n",
      "count          131101.000000              64695.000000  \n",
      "mean                1.880924                  1.891012  \n",
      "std                 0.323879                  0.311627  \n",
      "min                 1.000000                  1.000000  \n",
      "25%                 2.000000                  2.000000  \n",
      "50%                 2.000000                  2.000000  \n",
      "75%                 2.000000                  2.000000  \n",
      "max                 2.000000                  2.000000  \n"
     ]
    }
   ],
   "source": [
    "print(statistics)"
   ]
  },
  {
   "cell_type": "markdown",
   "id": "f31faaa2-a5f5-4aab-a88d-e592f9eeedba",
   "metadata": {},
   "source": [
    "# Conclusion\n",
    "- White applicants generally have only one race.\n",
    "- Most co applicants for white people are black.\n",
    "- Some co applicants have a 2nd race.\n",
    "\n",
    "- White applicants do NOT have Hispanic or Latino ethnicity\n",
    "- Same for the co applicant."
   ]
  },
  {
   "cell_type": "markdown",
   "id": "442a4528-454b-4e59-8aea-de823d9c71f2",
   "metadata": {},
   "source": [
    "## See all the BLACK applicants."
   ]
  },
  {
   "cell_type": "code",
   "execution_count": 24,
   "id": "1f20f66d-3a69-4c93-a53c-616bdd861c57",
   "metadata": {
    "tags": []
   },
   "outputs": [],
   "source": [
    "# Filter the DataFrame to include only 'applicant_race_1' with value 5.0\n",
    "filtered_df_applicant_race_1_3 = filtered_df[(filtered_df['applicant_race_1'] == 3.0)]\n",
    "\n",
    "race_columns2 = ['applicant_race_2', 'co_applicant_race_1', 'co_applicant_race_2']\n",
    "ethnicity_columns2 = ['applicant_ethnicity_1', 'co_applicant_ethnicity_1']\n",
    "\n",
    "# Select specific columns\n",
    "selected_columns2 = race_columns2 + ethnicity_columns2\n",
    "filtered_df_selected_columns2 = filtered_df_applicant_race_1_3[selected_columns2]"
   ]
  },
  {
   "cell_type": "code",
   "execution_count": 25,
   "id": "65f3db02-813c-4aad-be8f-782decd57a31",
   "metadata": {
    "tags": []
   },
   "outputs": [
    {
     "name": "stdout",
     "output_type": "stream",
     "text": [
      "<class 'pandas.core.frame.DataFrame'>\n",
      "Index: 12658 entries, 0 to 190081\n",
      "Data columns (total 5 columns):\n",
      " #   Column                    Non-Null Count  Dtype  \n",
      "---  ------                    --------------  -----  \n",
      " 0   applicant_race_2          303 non-null    float64\n",
      " 1   co_applicant_race_1       3483 non-null   float64\n",
      " 2   co_applicant_race_2       55 non-null     float64\n",
      " 3   applicant_ethnicity_1     11938 non-null  float64\n",
      " 4   co_applicant_ethnicity_1  3433 non-null   float64\n",
      "dtypes: float64(5)\n",
      "memory usage: 593.3 KB\n"
     ]
    }
   ],
   "source": [
    "filtered_df_selected_columns2.info()"
   ]
  },
  {
   "cell_type": "code",
   "execution_count": 26,
   "id": "253d345b-418d-41da-b8cb-13a80502b603",
   "metadata": {
    "tags": []
   },
   "outputs": [],
   "source": [
    "# Sort with NaN values at the bottom\n",
    "df_sorted2 = pd.concat([filtered_df_selected_columns2.dropna(), \n",
    "                       filtered_df_selected_columns2[filtered_df_selected_columns2.isna().any(axis=1)]], \n",
    "                      ignore_index=True)\n",
    "\n",
    "# Calculate summary statistics\n",
    "statistics2 = df_sorted2.describe()"
   ]
  },
  {
   "cell_type": "code",
   "execution_count": 27,
   "id": "7ad5604b-f882-4302-9b2e-8f45a08c4dc3",
   "metadata": {
    "tags": []
   },
   "outputs": [
    {
     "name": "stdout",
     "output_type": "stream",
     "text": [
      "       applicant_race_2  co_applicant_race_1  co_applicant_race_2  \\\n",
      "count             303.0          3483.000000            55.000000   \n",
      "mean                5.0             3.279070             4.672727   \n",
      "std                 0.0             0.693107             0.746710   \n",
      "min                 5.0             3.000000             3.000000   \n",
      "25%                 5.0             3.000000             5.000000   \n",
      "50%                 5.0             3.000000             5.000000   \n",
      "75%                 5.0             3.000000             5.000000   \n",
      "max                 5.0             5.000000             5.000000   \n",
      "\n",
      "       applicant_ethnicity_1  co_applicant_ethnicity_1  \n",
      "count           11938.000000               3433.000000  \n",
      "mean                1.972357                  1.946694  \n",
      "std                 0.163954                  0.224676  \n",
      "min                 1.000000                  1.000000  \n",
      "25%                 2.000000                  2.000000  \n",
      "50%                 2.000000                  2.000000  \n",
      "75%                 2.000000                  2.000000  \n",
      "max                 2.000000                  2.000000  \n"
     ]
    }
   ],
   "source": [
    "print(statistics2)"
   ]
  },
  {
   "cell_type": "markdown",
   "id": "57a5daec-abf7-4d84-ab67-0f75fc634790",
   "metadata": {},
   "source": [
    "# Conclusion\n",
    "- Black applicants mostly are one race, but some are mixed.\n",
    "- co applicants for black people are fairly evenly spread black and white.\n",
    "- Some co applicants have a 2nd race.\n",
    "\n",
    "- Black applicants do NOT have Hispanic or Latino ethnicity\n",
    "- Same for the co applicant."
   ]
  },
  {
   "cell_type": "code",
   "execution_count": 28,
   "id": "9597de5b-0f0c-420c-86ea-0c403a1cdad7",
   "metadata": {
    "tags": []
   },
   "outputs": [],
   "source": [
    "filtered_df.to_csv('3_distribution_race_ethnicity.csv', index=False)"
   ]
  },
  {
   "cell_type": "code",
   "execution_count": null,
   "id": "4bd8c64c-99ab-4bcd-afe4-45540024cb54",
   "metadata": {},
   "outputs": [],
   "source": []
  }
 ],
 "metadata": {
  "kernelspec": {
   "display_name": "Python 3 (ipykernel)",
   "language": "python",
   "name": "python3"
  },
  "language_info": {
   "codemirror_mode": {
    "name": "ipython",
    "version": 3
   },
   "file_extension": ".py",
   "mimetype": "text/x-python",
   "name": "python",
   "nbconvert_exporter": "python",
   "pygments_lexer": "ipython3",
   "version": "3.9.18"
  }
 },
 "nbformat": 4,
 "nbformat_minor": 5
}
